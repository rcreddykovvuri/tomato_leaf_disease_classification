{
 "cells": [
  {
   "cell_type": "code",
   "execution_count": 1,
   "id": "1782bb54",
   "metadata": {},
   "outputs": [],
   "source": [
    "import numpy as np #importing numpy\n",
    "import pandas as pd #importing pandas\n",
    "import PIL #importing pillow for image processing\n",
    "from PIL import Image#importing image from pillow library\n",
    "import skimage#importing skimage library\n",
    "import os#importing os library\n",
    "import time#importing time library\n",
    "import pickle \n",
    "import pyreadstat as psav"
   ]
  },
  {
   "cell_type": "code",
   "execution_count": 2,
   "id": "4d1a9d05",
   "metadata": {},
   "outputs": [],
   "source": [
    "#changing the working directory for loading the model\n",
    "os.chdir('D://DKIT//dissertation//Dataset_of_Tomato_Leaves//plantvillage//Preprocessed_data//')"
   ]
  },
  {
   "cell_type": "code",
   "execution_count": 3,
   "id": "352f10cc",
   "metadata": {},
   "outputs": [],
   "source": [
    "#giving the name of the model to load\n",
    "model = 'svm.sav'"
   ]
  },
  {
   "cell_type": "code",
   "execution_count": 4,
   "id": "6f045507",
   "metadata": {},
   "outputs": [],
   "source": [
    "#loading the model\n",
    "loaded_model = pickle.load(open(model, 'rb'))"
   ]
  },
  {
   "cell_type": "code",
   "execution_count": 5,
   "id": "db9a6644",
   "metadata": {},
   "outputs": [],
   "source": [
    "#chaniging input directory path\n",
    "#change this path for testing the model with images in another path\n",
    "os.chdir('D://')"
   ]
  },
  {
   "cell_type": "code",
   "execution_count": 6,
   "id": "86f34e0a",
   "metadata": {},
   "outputs": [],
   "source": [
    "#reading input image\n",
    "image = Image.open('Tyl29.jpg',mode='r')\n",
    "#changing the dimensions\n",
    "size = (64,64)\n",
    "image = image.resize(size)\n",
    "#extracting RGB values\n",
    "data1 = image.convert('RGB')\n",
    "#saving it to the array\n",
    "data1 = np.array(data1)\n",
    "data1 = data1.ravel()"
   ]
  },
  {
   "cell_type": "code",
   "execution_count": 7,
   "id": "071af933",
   "metadata": {},
   "outputs": [],
   "source": [
    "#saving the data to DataFrame\n",
    "test = pd.DataFrame(data1)\n",
    "#Transposing the data to get the pixels data as single row\n",
    "data = test.transpose()"
   ]
  },
  {
   "cell_type": "code",
   "execution_count": 8,
   "id": "7006ef2e",
   "metadata": {},
   "outputs": [],
   "source": [
    "#getting the data as a 2-d array\n",
    "test_data = data.values"
   ]
  },
  {
   "cell_type": "code",
   "execution_count": 9,
   "id": "984704e9",
   "metadata": {},
   "outputs": [],
   "source": [
    "#scaling the data using standard scaler\n",
    "from sklearn.preprocessing import StandardScaler\n",
    "scaler = StandardScaler()\n",
    "scaled_data = scaler.fit_transform(test_data)"
   ]
  },
  {
   "cell_type": "code",
   "execution_count": 10,
   "id": "b7c4f87d",
   "metadata": {},
   "outputs": [
    {
     "name": "stdout",
     "output_type": "stream",
     "text": [
      "[[0. 0. 0. ... 0. 0. 0.]]\n"
     ]
    }
   ],
   "source": [
    "print(scaled_data)"
   ]
  },
  {
   "cell_type": "code",
   "execution_count": 11,
   "id": "9ad06f18",
   "metadata": {},
   "outputs": [],
   "source": [
    "prediction = loaded_model.predict(scaled_data)"
   ]
  },
  {
   "cell_type": "code",
   "execution_count": 12,
   "id": "90f9044e",
   "metadata": {},
   "outputs": [
    {
     "name": "stdout",
     "output_type": "stream",
     "text": [
      "['bacterial_spot']\n"
     ]
    }
   ],
   "source": [
    "print(prediction)"
   ]
  }
 ],
 "metadata": {
  "kernelspec": {
   "display_name": "Python 3 (ipykernel)",
   "language": "python",
   "name": "python3"
  },
  "language_info": {
   "codemirror_mode": {
    "name": "ipython",
    "version": 3
   },
   "file_extension": ".py",
   "mimetype": "text/x-python",
   "name": "python",
   "nbconvert_exporter": "python",
   "pygments_lexer": "ipython3",
   "version": "3.9.12"
  }
 },
 "nbformat": 4,
 "nbformat_minor": 5
}
