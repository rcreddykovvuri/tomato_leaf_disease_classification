{
 "cells": [
  {
   "cell_type": "code",
   "execution_count": 1,
   "id": "bcdb1517",
   "metadata": {},
   "outputs": [],
   "source": [
    "import numpy as np #importing numpy\n",
    "import pandas as pd #importing pandas\n",
    "import PIL #importing pillow for image processing\n",
    "from PIL import Image#importing image from pillow library\n",
    "import skimage#importing skimage library\n",
    "import os#importing os library\n",
    "import time#importing time library\n",
    "\n",
    "#Capture start time of the program\n",
    "start_time = time.time()"
   ]
  },
  {
   "cell_type": "code",
   "execution_count": 2,
   "id": "9ec45970",
   "metadata": {},
   "outputs": [],
   "source": [
    "#changing path\n",
    "os.chdir('D://DKIT//dissertation//Dataset_of_Tomato_Leaves//plantvillage//Preprocessed_data//128//vector//')"
   ]
  },
  {
   "cell_type": "code",
   "execution_count": 3,
   "id": "9386938c",
   "metadata": {},
   "outputs": [],
   "source": [
    "#reading numpy array data\n",
    "rgb_test = np.load('rgb_data.npy')\n",
    "#reading csv file\n",
    "rgb_df = pd.read_csv('rgb_data.csv')"
   ]
  },
  {
   "cell_type": "code",
   "execution_count": 4,
   "id": "73c06a10",
   "metadata": {},
   "outputs": [],
   "source": [
    "loaded = pd.DataFrame(rgb_test)"
   ]
  },
  {
   "cell_type": "code",
   "execution_count": 5,
   "id": "c6d5658c",
   "metadata": {},
   "outputs": [],
   "source": [
    "#assigning features and target\n",
    "features = loaded.values\n",
    "target = rgb_df['disease'].values\n",
    "#splitting the data to 80 percent and 20 percent\n",
    "from sklearn.model_selection import train_test_split\n",
    "Ftrain,Ftest,Ltrain,Ltest=train_test_split(features,target, test_size=0.20, random_state=24)\n",
    "#scaling the data using standard scaler\n",
    "from sklearn.preprocessing import StandardScaler\n",
    "scaler = StandardScaler()\n",
    "Ftrain_scaling = scaler.fit_transform(Ftrain)\n",
    "Ftest_scaling = scaler.fit_transform(Ftest)"
   ]
  },
  {
   "cell_type": "code",
   "execution_count": 6,
   "id": "e17e4492",
   "metadata": {},
   "outputs": [],
   "source": [
    "from sklearn.svm import SVC\n",
    "from sklearn.metrics import accuracy_score"
   ]
  },
  {
   "cell_type": "code",
   "execution_count": 7,
   "id": "5882e95f",
   "metadata": {},
   "outputs": [
    {
     "name": "stdout",
     "output_type": "stream",
     "text": [
      "0.8452012383900929\n"
     ]
    }
   ],
   "source": [
    "svm_rbf = SVC(kernel='rbf')\n",
    "svm_rbf.fit(Ftrain_scaling,Ltrain)\n",
    "y_pred = svm_rbf.predict(Ftest_scaling)\n",
    "print(accuracy_score(Ltest,y_pred))"
   ]
  },
  {
   "cell_type": "code",
   "execution_count": 10,
   "id": "730610c7",
   "metadata": {},
   "outputs": [
    {
     "ename": "NameError",
     "evalue": "name 'classification_report' is not defined",
     "output_type": "error",
     "traceback": [
      "\u001b[1;31m---------------------------------------------------------------------------\u001b[0m",
      "\u001b[1;31mNameError\u001b[0m                                 Traceback (most recent call last)",
      "Input \u001b[1;32mIn [10]\u001b[0m, in \u001b[0;36m<cell line: 3>\u001b[1;34m()\u001b[0m\n\u001b[0;32m      1\u001b[0m \u001b[38;5;66;03m#classification report\u001b[39;00m\n\u001b[0;32m      2\u001b[0m y_predict \u001b[38;5;241m=\u001b[39m svm_rbf\u001b[38;5;241m.\u001b[39mpredict(Ftest_scaling)\n\u001b[1;32m----> 3\u001b[0m \u001b[38;5;28mprint\u001b[39m(\u001b[43mclassification_report\u001b[49m(Ltest, y_predict))\n\u001b[0;32m      4\u001b[0m \u001b[38;5;28mprint\u001b[39m(confusion_matrix(Ltest, y_predict))\n",
      "\u001b[1;31mNameError\u001b[0m: name 'classification_report' is not defined"
     ]
    }
   ],
   "source": [
    "#classification report\n",
    "y_predict = svm_rbf.predict(Ftest_scaling)"
   ]
  },
  {
   "cell_type": "code",
   "execution_count": 11,
   "id": "a4b6457f",
   "metadata": {},
   "outputs": [],
   "source": [
    "#importing classification report and confusion matrix\n",
    "from sklearn.metrics import classification_report, confusion_matrix"
   ]
  },
  {
   "cell_type": "code",
   "execution_count": 12,
   "id": "d7766b3b",
   "metadata": {},
   "outputs": [
    {
     "name": "stdout",
     "output_type": "stream",
     "text": [
      "                               precision    recall  f1-score   support\n",
      "\n",
      "               bacterial_spot       0.87      0.92      0.89       345\n",
      "                 early_blight       0.64      0.41      0.50       153\n",
      "                      healthy       0.95      0.94      0.95       234\n",
      "                  late_blight       0.80      0.81      0.81       309\n",
      "                    leaf_mold       0.80      0.68      0.74       145\n",
      "           septoria_leaf_spot       0.78      0.78      0.78       293\n",
      "                  target_spot       0.76      0.78      0.77       240\n",
      "          tomato_mosaic_virus       0.76      0.76      0.76        54\n",
      "tomato_yellow_leaf_curl_virus       0.92      0.96      0.94       854\n",
      "      two-spotted_spider_mite       0.80      0.83      0.81       280\n",
      "\n",
      "                     accuracy                           0.85      2907\n",
      "                    macro avg       0.81      0.79      0.79      2907\n",
      "                 weighted avg       0.84      0.85      0.84      2907\n",
      "\n",
      "[[316   1   1   4   0   0   2   0  20   1]\n",
      " [ 25  62   1  28   1   4  14   0  10   8]\n",
      " [  0   3 220   4   1   3   3   0   0   0]\n",
      " [  2  10   4 251  10   8   7   3   7   7]\n",
      " [  1   3   1   7  99  21   2   3   5   3]\n",
      " [  2   6   2  10  10 230  11   2  15   5]\n",
      " [  4   6   1   2   1  11 187   1   4  23]\n",
      " [  0   1   0   0   1   9   1  41   0   1]\n",
      " [ 14   1   0   4   0   4   1   0 818  12]\n",
      " [  0   4   1   4   0   4  19   4  11 233]]\n"
     ]
    }
   ],
   "source": [
    "print(classification_report(Ltest, y_predict))\n",
    "print(confusion_matrix(Ltest, y_predict))"
   ]
  },
  {
   "cell_type": "code",
   "execution_count": null,
   "id": "4e83acaf",
   "metadata": {},
   "outputs": [],
   "source": []
  }
 ],
 "metadata": {
  "kernelspec": {
   "display_name": "Python 3 (ipykernel)",
   "language": "python",
   "name": "python3"
  },
  "language_info": {
   "codemirror_mode": {
    "name": "ipython",
    "version": 3
   },
   "file_extension": ".py",
   "mimetype": "text/x-python",
   "name": "python",
   "nbconvert_exporter": "python",
   "pygments_lexer": "ipython3",
   "version": "3.9.12"
  }
 },
 "nbformat": 4,
 "nbformat_minor": 5
}
