{
 "cells": [
  {
   "cell_type": "code",
   "execution_count": 1,
   "id": "471f0293",
   "metadata": {},
   "outputs": [],
   "source": [
    "import pandas as pd\n",
    "import numpy as np\n",
    "import tensorflow as tf"
   ]
  },
  {
   "cell_type": "code",
   "execution_count": 2,
   "id": "392d898f",
   "metadata": {},
   "outputs": [],
   "source": [
    "import os\n",
    "os.chdir('D://DKIT//dissertation//Dataset_of_Tomato_Leaves//plantvillage//Preprocessed_data//64//no_bias_vector//')"
   ]
  },
  {
   "cell_type": "code",
   "execution_count": 3,
   "id": "7b9d7788",
   "metadata": {},
   "outputs": [],
   "source": [
    "#reading numpy array data\n",
    "pixels = np.load('rgb_data.npy')\n",
    "#reading csv file\n",
    "data = pd.read_csv('rgb_data.csv')"
   ]
  },
  {
   "cell_type": "code",
   "execution_count": 4,
   "id": "71e5d372",
   "metadata": {},
   "outputs": [],
   "source": [
    "features = pd.DataFrame(pixels)\n",
    "features = features.values"
   ]
  },
  {
   "cell_type": "code",
   "execution_count": 5,
   "id": "4d072dd4",
   "metadata": {},
   "outputs": [
    {
     "data": {
      "text/plain": [
       "array([[152, 146, 148, ..., 119, 113, 117],\n",
       "       [171, 166, 163, ..., 141, 125, 125],\n",
       "       [129, 132, 113, ...,  65,  51,  66],\n",
       "       ...,\n",
       "       [190, 186, 187, ..., 110,  98, 102],\n",
       "       [189, 183, 185, ..., 116, 101, 106],\n",
       "       [152, 145, 152, ..., 138, 125, 134]], dtype=uint8)"
      ]
     },
     "execution_count": 5,
     "metadata": {},
     "output_type": "execute_result"
    }
   ],
   "source": [
    "features"
   ]
  },
  {
   "cell_type": "code",
   "execution_count": 6,
   "id": "3dd5e2fb",
   "metadata": {},
   "outputs": [],
   "source": [
    "target = data['disease']"
   ]
  },
  {
   "cell_type": "code",
   "execution_count": 7,
   "id": "6712a2f3",
   "metadata": {},
   "outputs": [],
   "source": [
    "cat = target.unique()"
   ]
  },
  {
   "cell_type": "code",
   "execution_count": 8,
   "id": "611357ef",
   "metadata": {},
   "outputs": [],
   "source": [
    "vals = list(range(0,10))"
   ]
  },
  {
   "cell_type": "code",
   "execution_count": 9,
   "id": "6dfb5bb6",
   "metadata": {},
   "outputs": [],
   "source": [
    "for i in range(0,10):\n",
    "    target.replace(to_replace=cat[i],value = vals[i],inplace = True)"
   ]
  },
  {
   "cell_type": "code",
   "execution_count": 10,
   "id": "91043a10",
   "metadata": {},
   "outputs": [
    {
     "data": {
      "text/plain": [
       "0       0\n",
       "1       0\n",
       "2       0\n",
       "3       0\n",
       "4       0\n",
       "       ..\n",
       "5694    9\n",
       "5695    9\n",
       "5696    9\n",
       "5697    9\n",
       "5698    9\n",
       "Name: disease, Length: 5699, dtype: int64"
      ]
     },
     "execution_count": 10,
     "metadata": {},
     "output_type": "execute_result"
    }
   ],
   "source": [
    "target"
   ]
  },
  {
   "cell_type": "code",
   "execution_count": 11,
   "id": "459783eb",
   "metadata": {},
   "outputs": [],
   "source": [
    "target = target.values"
   ]
  },
  {
   "cell_type": "code",
   "execution_count": 12,
   "id": "6e73aae5",
   "metadata": {},
   "outputs": [],
   "source": [
    "target = target.reshape(5699,1 )"
   ]
  },
  {
   "cell_type": "code",
   "execution_count": 13,
   "id": "e34ed7ca",
   "metadata": {},
   "outputs": [
    {
     "data": {
      "text/plain": [
       "array([[0],\n",
       "       [0],\n",
       "       [0],\n",
       "       ...,\n",
       "       [9],\n",
       "       [9],\n",
       "       [9]], dtype=int64)"
      ]
     },
     "execution_count": 13,
     "metadata": {},
     "output_type": "execute_result"
    }
   ],
   "source": [
    "target"
   ]
  },
  {
   "cell_type": "code",
   "execution_count": 14,
   "id": "00da48d2",
   "metadata": {},
   "outputs": [],
   "source": [
    "#splitting the data to test and train\n",
    "from sklearn.model_selection import train_test_split\n",
    "xtrain,xtest,ytrain,ytest = train_test_split(features,target, test_size=0.20, random_state=24)"
   ]
  },
  {
   "cell_type": "code",
   "execution_count": 15,
   "id": "0343eaf4",
   "metadata": {},
   "outputs": [],
   "source": [
    "from sklearn.metrics import accuracy_score\n",
    "from keras.models import Sequential\n",
    "from keras.layers import Dense, Dropout, Conv2D, MaxPool2D, Flatten\n",
    "from keras.utils import np_utils"
   ]
  },
  {
   "cell_type": "code",
   "execution_count": 16,
   "id": "b3b94777",
   "metadata": {},
   "outputs": [],
   "source": [
    "xtrain = xtrain.reshape(xtrain.shape[0], 64, 64, 3)\n",
    "xtest = xtest.reshape(xtest.shape[0], 64, 64, 3)"
   ]
  },
  {
   "cell_type": "code",
   "execution_count": 17,
   "id": "90bb5d7b",
   "metadata": {},
   "outputs": [],
   "source": [
    "xtrain = xtrain.astype('float32')\n",
    "xtest = xtest.astype('float32')"
   ]
  },
  {
   "cell_type": "code",
   "execution_count": 18,
   "id": "619a7c1a",
   "metadata": {},
   "outputs": [],
   "source": [
    "# normalizing the data to help with the training\n",
    "xtrain /= 255\n",
    "xtest /= 255"
   ]
  },
  {
   "cell_type": "code",
   "execution_count": 19,
   "id": "9808daf1",
   "metadata": {},
   "outputs": [],
   "source": [
    "# one-hot encoding using keras' numpy-related utilities\n",
    "n_classes = 10\n",
    "ytrain = np_utils.to_categorical(ytrain, n_classes)\n",
    "ytest = np_utils.to_categorical(ytest, n_classes)"
   ]
  },
  {
   "cell_type": "code",
   "execution_count": 20,
   "id": "c449e16e",
   "metadata": {},
   "outputs": [],
   "source": [
    "# building a linear stack of layers with the sequential model\n",
    "bal_cnn_model = Sequential()\n",
    "\n",
    "# convolutional layer 1\n",
    "bal_cnn_model.add(Conv2D(50, kernel_size=(3,3), strides=(1,1), padding='same', activation='relu', input_shape=(64, 64, 3)))\n",
    "\n",
    "# convolutional layer 2\n",
    "bal_cnn_model.add(Conv2D(75, kernel_size=(3,3), strides=(1,1), padding='same', activation='relu'))\n",
    "bal_cnn_model.add(MaxPool2D(pool_size=(2,2)))\n",
    "bal_cnn_model.add(Dropout(0.25))\n",
    "# convolutional layer 3\n",
    "bal_cnn_model.add(Conv2D(125, kernel_size=(3,3), strides=(1,1), padding='same', activation='relu'))\n",
    "bal_cnn_model.add(MaxPool2D(pool_size=(2,2)))\n",
    "bal_cnn_model.add(Dropout(0.25))\n",
    "\n",
    "# flatten output of conv\n",
    "bal_cnn_model.add(Flatten())\n",
    "\n",
    "# hidden layer\n",
    "bal_cnn_model.add(Dense(500, activation='relu'))\n",
    "bal_cnn_model.add(Dropout(0.4))\n",
    "bal_cnn_model.add(Dense(250, activation='relu'))\n",
    "bal_cnn_model.add(Dropout(0.3))\n",
    "# output layer\n",
    "bal_cnn_model.add(Dense(10, activation='softmax'))\n",
    "\n",
    "# compiling the sequential model\n",
    "bal_cnn_model.compile(loss='categorical_crossentropy', metrics=['accuracy'], optimizer='adam')"
   ]
  },
  {
   "cell_type": "code",
   "execution_count": 21,
   "id": "fd6aa898",
   "metadata": {},
   "outputs": [
    {
     "name": "stdout",
     "output_type": "stream",
     "text": [
      "Model: \"sequential\"\n",
      "_________________________________________________________________\n",
      " Layer (type)                Output Shape              Param #   \n",
      "=================================================================\n",
      " conv2d (Conv2D)             (None, 64, 64, 50)        1400      \n",
      "                                                                 \n",
      " conv2d_1 (Conv2D)           (None, 64, 64, 75)        33825     \n",
      "                                                                 \n",
      " max_pooling2d (MaxPooling2D  (None, 32, 32, 75)       0         \n",
      " )                                                               \n",
      "                                                                 \n",
      " dropout (Dropout)           (None, 32, 32, 75)        0         \n",
      "                                                                 \n",
      " conv2d_2 (Conv2D)           (None, 32, 32, 125)       84500     \n",
      "                                                                 \n",
      " max_pooling2d_1 (MaxPooling  (None, 16, 16, 125)      0         \n",
      " 2D)                                                             \n",
      "                                                                 \n",
      " dropout_1 (Dropout)         (None, 16, 16, 125)       0         \n",
      "                                                                 \n",
      " flatten (Flatten)           (None, 32000)             0         \n",
      "                                                                 \n",
      " dense (Dense)               (None, 500)               16000500  \n",
      "                                                                 \n",
      " dropout_2 (Dropout)         (None, 500)               0         \n",
      "                                                                 \n",
      " dense_1 (Dense)             (None, 250)               125250    \n",
      "                                                                 \n",
      " dropout_3 (Dropout)         (None, 250)               0         \n",
      "                                                                 \n",
      " dense_2 (Dense)             (None, 10)                2510      \n",
      "                                                                 \n",
      "=================================================================\n",
      "Total params: 16,247,985\n",
      "Trainable params: 16,247,985\n",
      "Non-trainable params: 0\n",
      "_________________________________________________________________\n"
     ]
    }
   ],
   "source": [
    "bal_cnn_model.summary()"
   ]
  },
  {
   "cell_type": "code",
   "execution_count": 22,
   "id": "9ce6d0d5",
   "metadata": {},
   "outputs": [
    {
     "name": "stdout",
     "output_type": "stream",
     "text": [
      "Epoch 1/5\n",
      "143/143 [==============================] - 62s 428ms/step - loss: 2.1061 - accuracy: 0.2200 - val_loss: 1.6008 - val_accuracy: 0.4746\n",
      "Epoch 2/5\n",
      "143/143 [==============================] - 71s 499ms/step - loss: 1.3197 - accuracy: 0.5370 - val_loss: 1.1914 - val_accuracy: 0.6053\n",
      "Epoch 3/5\n",
      "143/143 [==============================] - 74s 517ms/step - loss: 1.0172 - accuracy: 0.6605 - val_loss: 0.8768 - val_accuracy: 0.7149\n",
      "Epoch 4/5\n",
      "143/143 [==============================] - 66s 463ms/step - loss: 0.7795 - accuracy: 0.7333 - val_loss: 0.7028 - val_accuracy: 0.7632\n",
      "Epoch 5/5\n",
      "143/143 [==============================] - 74s 519ms/step - loss: 0.6699 - accuracy: 0.7721 - val_loss: 0.5439 - val_accuracy: 0.8158\n"
     ]
    }
   ],
   "source": [
    "# training the model for 10 epochs\n",
    "test_run = bal_cnn_model.fit(xtrain, ytrain, epochs=5, validation_data=(xtest, ytest))"
   ]
  },
  {
   "cell_type": "code",
   "execution_count": 23,
   "id": "5e55371c",
   "metadata": {},
   "outputs": [
    {
     "data": {
      "image/png": "[encoded data removed]",
      "text/plain": [
       "<Figure size 432x288 with 1 Axes>"
      ]
     },
     "metadata": {
      "needs_background": "light"
     },
     "output_type": "display_data"
    }
   ],
   "source": [
    "import matplotlib.pyplot as plt\n",
    "plt.plot(test_run.history['accuracy'], label='accuracy')\n",
    "plt.plot(test_run.history['val_accuracy'], label = 'val_accuracy')\n",
    "plt.xlabel('Epoch')\n",
    "plt.ylabel('Accuracy')\n",
    "plt.legend()\n",
    "plt.show()"
   ]
  },
  {
   "cell_type": "code",
   "execution_count": 24,
   "id": "01416c37",
   "metadata": {},
   "outputs": [
    {
     "name": "stdout",
     "output_type": "stream",
     "text": [
      "Test loss: 0.5438998341560364\n",
      "Test accuracy: 0.8157894611358643\n"
     ]
    }
   ],
   "source": [
    "score = bal_cnn_model.evaluate(xtest, ytest, verbose = 0) \n",
    "\n",
    "print('Test loss:', score[0]) \n",
    "print('Test accuracy:', score[1])"
   ]
  },
  {
   "cell_type": "code",
   "execution_count": 25,
   "id": "35ca3742",
   "metadata": {},
   "outputs": [
    {
     "name": "stdout",
     "output_type": "stream",
     "text": [
      "36/36 [==============================] - 4s 95ms/step\n"
     ]
    }
   ],
   "source": [
    "pred = bal_cnn_model.predict(xtest) \n",
    "pred = np.argmax(pred, axis = 1)\n",
    "label = np.argmax(ytest,axis = 1)"
   ]
  },
  {
   "cell_type": "code",
   "execution_count": 26,
   "id": "eb4e4cbe",
   "metadata": {},
   "outputs": [],
   "source": [
    "#importing classification report and confusion matrix\n",
    "from sklearn.metrics import classification_report, confusion_matrix"
   ]
  },
  {
   "cell_type": "code",
   "execution_count": 27,
   "id": "39a84a2c",
   "metadata": {},
   "outputs": [
    {
     "name": "stdout",
     "output_type": "stream",
     "text": [
      "              precision    recall  f1-score   support\n",
      "\n",
      "           0       0.76      0.93      0.84       115\n",
      "           1       0.85      0.61      0.71       120\n",
      "           2       0.76      0.98      0.86       125\n",
      "           3       0.88      0.78      0.83       125\n",
      "           4       0.91      0.80      0.85       127\n",
      "           5       0.73      0.73      0.73       117\n",
      "           6       0.85      0.70      0.77       115\n",
      "           7       0.80      0.96      0.87        54\n",
      "           8       0.88      0.91      0.90       114\n",
      "           9       0.79      0.84      0.82       128\n",
      "\n",
      "    accuracy                           0.82      1140\n",
      "   macro avg       0.82      0.82      0.82      1140\n",
      "weighted avg       0.82      0.82      0.81      1140\n",
      "\n",
      "[[107   1   0   1   0   0   0   0   6   0]\n",
      " [ 21  73   2   6   3   5   4   0   1   5]\n",
      " [  0   0 122   0   0   2   0   0   0   1]\n",
      " [  2   6   7  98   2   7   0   0   1   2]\n",
      " [  0   2   2   4 101  13   0   2   0   3]\n",
      " [  3   2   6   2   5  85   3   3   5   3]\n",
      " [  1   0  20   0   0   3  80   1   0  10]\n",
      " [  0   0   0   0   0   0   1  52   0   1]\n",
      " [  5   0   0   0   0   1   0   0 104   4]\n",
      " [  2   2   1   0   0   1   6   7   1 108]]\n"
     ]
    }
   ],
   "source": [
    "print(classification_report(label, pred))\n",
    "print(confusion_matrix(label, pred))"
   ]
  }
 ],
 "metadata": {
  "kernelspec": {
   "display_name": "Python 3 (ipykernel)",
   "language": "python",
   "name": "python3"
  },
  "language_info": {
   "codemirror_mode": {
    "name": "ipython",
    "version": 3
   },
   "file_extension": ".py",
   "mimetype": "text/x-python",
   "name": "python",
   "nbconvert_exporter": "python",
   "pygments_lexer": "ipython3",
   "version": "3.9.12"
  }
 },
 "nbformat": 4,
 "nbformat_minor": 5
}
