{
 "cells": [
  {
   "cell_type": "code",
   "execution_count": 1,
   "id": "bcdb1517",
   "metadata": {},
   "outputs": [],
   "source": [
    "import numpy as np #importing numpy\n",
    "import pandas as pd #importing pandas\n",
    "import PIL #importing pillow for image processing\n",
    "from PIL import Image#importing image from pillow library\n",
    "import skimage#importing skimage library\n",
    "import os#importing os library\n",
    "import time#importing time library\n",
    "\n",
    "#Capture start time of the program\n",
    "start_time = time.time()"
   ]
  },
  {
   "cell_type": "code",
   "execution_count": 2,
   "id": "9b1ff8ae",
   "metadata": {},
   "outputs": [],
   "source": [
    "from string import digits\n",
    "#code to remove numbers in a string and assigning it to the variable\n",
    "r_digits = str.maketrans('', '', digits)\n",
    "#taking source data folder path to a varible\n",
    "rawdata_path = 'D://DKIT//dissertation//Dataset_of_Tomato_Leaves//plantvillage//Preprocessed_data//32//data//'\n",
    "#changing current librbay to source data\n",
    "os.chdir(rawdata_path)\n",
    "#taking sub-directories to a list\n",
    "dirs = os.listdir()\n",
    "directories = []\n",
    "diseases = []\n",
    "#Taking directories into a list and extract disease name from folder name\n",
    "for x in dirs:\n",
    "    res = x.translate(r_digits).lower()\n",
    "    diseases.append(res)\n",
    "    temp = rawdata_path + x + '//'\n",
    "    directories.append(temp)"
   ]
  },
  {
   "cell_type": "code",
   "execution_count": 3,
   "id": "e67c4402",
   "metadata": {},
   "outputs": [],
   "source": [
    "for i in directories:\n",
    "    os.chdir(i)\n",
    "    pics = os.listdir()\n",
    "    #reading pics one by one in each directory\n",
    "    for j in pics:\n",
    "        image = Image.open(j,mode='r')\n",
    "        size = (32,32)\n",
    "        image = image.resize(size)\n",
    "        image = image.save(j)"
   ]
  },
  {
   "cell_type": "code",
   "execution_count": 4,
   "id": "0e3f1cdc",
   "metadata": {},
   "outputs": [],
   "source": [
    "#creating different dataframes for saving data in different vector forms\n",
    "#gray data\n",
    "gray_df = pd.DataFrame(columns=['mean','disease'])\n",
    "#rgb data\n",
    "rgb_df = pd.DataFrame(columns=['mean','disease'])\n",
    "#red data\n",
    "red_df = pd.DataFrame(columns=['mean','disease'])\n",
    "#green data\n",
    "green_df = pd.DataFrame(columns=['mean','disease'])\n",
    "#blue data\n",
    "blue_df = pd.DataFrame(columns=['mean','disease'])"
   ]
  },
  {
   "cell_type": "code",
   "execution_count": 5,
   "id": "d259b674",
   "metadata": {},
   "outputs": [],
   "source": [
    "#extracting data from images\n",
    "x = 0\n",
    "#creating enpty directories to save the vector from in to a list\n",
    "gray_test = []\n",
    "rgb_final = []\n",
    "red_final = []\n",
    "green_final = []\n",
    "blue_final = []\n",
    "disease = []\n",
    "#reading data directory by directory\n",
    "for i in directories:\n",
    "    os.chdir(i)\n",
    "    k = diseases[x]\n",
    "    pics = os.listdir()\n",
    "    #reading pics one by one in each directory\n",
    "    for j in pics:\n",
    "        temp_list = []\n",
    "        rgb_temp = []\n",
    "        red_temp = []\n",
    "        green_temp = []\n",
    "        blue_temp = []\n",
    "        gray = []\n",
    "        data = []\n",
    "        red = []\n",
    "        green = []\n",
    "        blue = []\n",
    "        #opening the image in rgb format\n",
    "        image = Image.open(j,mode='r')\n",
    "        data = image.convert('RGB')\n",
    "        data = np.array(data)\n",
    "        #extracting only red components\n",
    "        red = data[:,:,0]\n",
    "        #extracting only green components\n",
    "        green = data[:,:,1]\n",
    "        #extracting only blue components\n",
    "        blue = data[:,:,2]\n",
    "        data = data.ravel()\n",
    "        #saving rgb vector data into list\n",
    "        rgb_final.append(data)\n",
    "        rgb_temp.append(np.mean(data))\n",
    "        rgb_temp.append(k)\n",
    "        rgb_df.loc[len(rgb_df)] = rgb_temp\n",
    "        #saving red channel data into dataframe and vector data to a list.\n",
    "        red = red.ravel()\n",
    "        red_final.append(red)\n",
    "        red_temp.append(np.mean(red))\n",
    "        red_temp.append(k)\n",
    "        red_df.loc[len(red_df)] = red_temp\n",
    "        #saving blue channel data into dataframe and vector data to a list.\n",
    "        blue = blue.ravel()\n",
    "        blue_final.append(blue)\n",
    "        blue_temp.append(np.mean(blue))\n",
    "        blue_temp.append(k)\n",
    "        blue_df.loc[len(blue_df)] = blue_temp\n",
    "        #saving green channel data into dataframe and vector data to a list.\n",
    "        green = green.ravel()\n",
    "        green_final.append(green)\n",
    "        green_temp.append(np.mean(green))\n",
    "        green_temp.append(k)\n",
    "        green_df.loc[len(green_df)] = green_temp\n",
    "        #opening the image in gray format\n",
    "        gray = image.convert('L')\n",
    "        gray = np.array(gray)\n",
    "        gray = gray.ravel()\n",
    "        gray_test.append(gray)\n",
    "        temp_list.append(np.mean(gray))\n",
    "        temp_list.append(k)       \n",
    "        gray_df.loc[len(gray_df)] = temp_list\n",
    "    x = x+1"
   ]
  },
  {
   "cell_type": "code",
   "execution_count": 6,
   "id": "9ec45970",
   "metadata": {},
   "outputs": [],
   "source": [
    "os.chdir('D://DKIT//dissertation//Dataset_of_Tomato_Leaves//plantvillage//Preprocessed_data//32//vector//')"
   ]
  },
  {
   "cell_type": "code",
   "execution_count": 7,
   "id": "9b5459ff",
   "metadata": {},
   "outputs": [],
   "source": [
    "#saving the lists as numpy arrays in the local system\n",
    "np.save('gray_test',gray_test)\n",
    "np.save('rgb_data',rgb_final)\n",
    "np.save('red_data',red_final)\n",
    "np.save('green_data',green_final)\n",
    "np.save('blue_data',blue_final)"
   ]
  },
  {
   "cell_type": "code",
   "execution_count": 8,
   "id": "681ad20a",
   "metadata": {},
   "outputs": [],
   "source": [
    "#saving the dataframe as csv files in the local system\n",
    "gray_df.to_csv('gray_data.csv',index=False)\n",
    "rgb_df.to_csv('rgb_data.csv',index=False)\n",
    "red_df.to_csv('red_data.csv',index=False)\n",
    "green_df.to_csv('green_data.csv',index=False)\n",
    "blue_df.to_csv('blue_data.csv',index=False)"
   ]
  },
  {
   "cell_type": "markdown",
   "id": "7139bf53",
   "metadata": {},
   "source": [
    "# KNN on rgb data"
   ]
  },
  {
   "cell_type": "code",
   "execution_count": 9,
   "id": "9386938c",
   "metadata": {},
   "outputs": [],
   "source": [
    "#reading numpy array data\n",
    "rgb_test = np.load('rgb_data.npy')\n",
    "#reading csv file\n",
    "rgb_df = pd.read_csv('rgb_data.csv')"
   ]
  },
  {
   "cell_type": "code",
   "execution_count": 10,
   "id": "4f95f2f6",
   "metadata": {},
   "outputs": [],
   "source": [
    "loaded = []\n",
    "for i in rgb_test:\n",
    "    k = []\n",
    "    k = np.asarray(i,dtype='uint8')\n",
    "    loaded.append(k)"
   ]
  },
  {
   "cell_type": "code",
   "execution_count": 11,
   "id": "c6d5658c",
   "metadata": {},
   "outputs": [],
   "source": [
    "target = rgb_df['disease']\n",
    "from sklearn.preprocessing import StandardScaler\n",
    "scaler = StandardScaler()\n",
    "features = scaler.fit_transform(loaded)\n",
    "from sklearn.model_selection import train_test_split\n",
    "Ftrain,Ftest,Ltrain,Ltest=train_test_split(features,target, test_size=0.20, random_state=24)"
   ]
  },
  {
   "cell_type": "code",
   "execution_count": 62,
   "id": "6f1171c6",
   "metadata": {},
   "outputs": [],
   "source": [
    "from sklearn.neighbors import KNeighborsClassifier\n",
    "kmodel = KNeighborsClassifier(n_neighbors=75)"
   ]
  },
  {
   "cell_type": "code",
   "execution_count": 63,
   "id": "b9fdc978",
   "metadata": {},
   "outputs": [
    {
     "data": {
      "text/plain": [
       "0.5930512555899553"
      ]
     },
     "execution_count": 63,
     "metadata": {},
     "output_type": "execute_result"
    }
   ],
   "source": [
    "kmodel.fit(Ftrain,Ltrain)\n",
    "kmodel.score(Ftest,Ltest)"
   ]
  },
  {
   "cell_type": "markdown",
   "id": "d5c58638",
   "metadata": {},
   "source": [
    "# Logistic on rgb data"
   ]
  },
  {
   "cell_type": "code",
   "execution_count": 58,
   "id": "a84836ef",
   "metadata": {},
   "outputs": [
    {
     "data": {
      "text/plain": [
       "0.6883384932920537"
      ]
     },
     "execution_count": 58,
     "metadata": {},
     "output_type": "execute_result"
    }
   ],
   "source": [
    "from sklearn.linear_model import LogisticRegression\n",
    "model=LogisticRegression(solver='lbfgs', max_iter=10000)\n",
    "model.fit(Ftrain,Ltrain)\n",
    "model.score(Ftest,Ltest)"
   ]
  },
  {
   "cell_type": "markdown",
   "id": "6fe194bc",
   "metadata": {},
   "source": [
    "# SVM on RGB data"
   ]
  },
  {
   "cell_type": "code",
   "execution_count": 59,
   "id": "2427ed51",
   "metadata": {},
   "outputs": [
    {
     "name": "stdout",
     "output_type": "stream",
     "text": [
      "0.7354661162710698\n"
     ]
    }
   ],
   "source": [
    "from sklearn.svm import SVC\n",
    "from sklearn.metrics import accuracy_score\n",
    "\n",
    "clf = SVC(kernel='linear')\n",
    "clf.fit(Ftrain,Ltrain)\n",
    "y_pred = clf.predict(Ftest)\n",
    "print(accuracy_score(Ltest,y_pred))"
   ]
  },
  {
   "cell_type": "markdown",
   "id": "73bef6fa",
   "metadata": {},
   "source": [
    "# Random Forest on RGB "
   ]
  },
  {
   "cell_type": "code",
   "execution_count": 16,
   "id": "6bae5a92",
   "metadata": {},
   "outputs": [],
   "source": [
    "from sklearn.ensemble import RandomForestClassifier"
   ]
  },
  {
   "cell_type": "code",
   "execution_count": 17,
   "id": "1d08a15e",
   "metadata": {},
   "outputs": [],
   "source": [
    "classifier_rf = RandomForestClassifier(random_state=42, n_jobs=-1, max_depth=5,n_estimators=100, oob_score=True)"
   ]
  },
  {
   "cell_type": "code",
   "execution_count": 18,
   "id": "938ad007",
   "metadata": {},
   "outputs": [
    {
     "data": {
      "text/plain": [
       "RandomForestClassifier(max_depth=5, n_jobs=-1, oob_score=True, random_state=42)"
      ]
     },
     "execution_count": 18,
     "metadata": {},
     "output_type": "execute_result"
    }
   ],
   "source": [
    "classifier_rf.fit(Ftrain, Ltrain)"
   ]
  },
  {
   "cell_type": "code",
   "execution_count": 19,
   "id": "e1769cec",
   "metadata": {},
   "outputs": [
    {
     "data": {
      "text/plain": [
       "0.559015829318651"
      ]
     },
     "execution_count": 19,
     "metadata": {},
     "output_type": "execute_result"
    }
   ],
   "source": [
    "classifier_rf.oob_score_"
   ]
  },
  {
   "cell_type": "markdown",
   "id": "b6a094e4",
   "metadata": {},
   "source": [
    "# Naive Bayes on RGB data"
   ]
  },
  {
   "cell_type": "code",
   "execution_count": 20,
   "id": "a5bc755b",
   "metadata": {},
   "outputs": [
    {
     "data": {
      "text/plain": [
       "GaussianNB()"
      ]
     },
     "execution_count": 20,
     "metadata": {},
     "output_type": "execute_result"
    }
   ],
   "source": [
    "from sklearn.naive_bayes import GaussianNB\n",
    "gnb = GaussianNB()\n",
    "gnb.fit(Ftrain, Ltrain)"
   ]
  },
  {
   "cell_type": "code",
   "execution_count": 21,
   "id": "6d162dcc",
   "metadata": {},
   "outputs": [],
   "source": [
    "y_pred = gnb.predict(Ftest)"
   ]
  },
  {
   "cell_type": "code",
   "execution_count": 22,
   "id": "8f7b4bab",
   "metadata": {},
   "outputs": [
    {
     "data": {
      "text/plain": [
       "0.5063639490884073"
      ]
     },
     "execution_count": 22,
     "metadata": {},
     "output_type": "execute_result"
    }
   ],
   "source": [
    "from sklearn import metrics\n",
    "metrics.accuracy_score(Ltest, y_pred)"
   ]
  },
  {
   "cell_type": "markdown",
   "id": "c9daaaee",
   "metadata": {},
   "source": [
    "# KNN on grayscale data"
   ]
  },
  {
   "cell_type": "code",
   "execution_count": 23,
   "id": "57a9845e",
   "metadata": {},
   "outputs": [],
   "source": [
    "#reading numpy array data\n",
    "gray_test = np.load('gray_test.npy')\n",
    "#reading csv file\n",
    "gray_df = pd.read_csv('gray_data.csv')"
   ]
  },
  {
   "cell_type": "code",
   "execution_count": 24,
   "id": "25d4fea2",
   "metadata": {},
   "outputs": [],
   "source": [
    "loaded = []\n",
    "for i in gray_test:\n",
    "    k = []\n",
    "    k = np.asarray(i,dtype='uint8')\n",
    "    loaded.append(k)"
   ]
  },
  {
   "cell_type": "code",
   "execution_count": 25,
   "id": "d3abef95",
   "metadata": {},
   "outputs": [],
   "source": [
    "features = loaded\n",
    "target = gray_df['disease']\n",
    "from sklearn.model_selection import train_test_split\n",
    "Ftrain,Ftest,Ltrain,Ltest=train_test_split(features,target, test_size=0.20, random_state=20)\n",
    "from sklearn.preprocessing import StandardScaler\n",
    "scaler = StandardScaler()\n",
    "scaler.fit(Ftrain)\n",
    "Ftrain = scaler.transform(Ftrain)\n",
    "Ftest = scaler.transform(Ftest)"
   ]
  },
  {
   "cell_type": "code",
   "execution_count": 26,
   "id": "6f75adfd",
   "metadata": {},
   "outputs": [
    {
     "data": {
      "text/plain": [
       "0.49054007567939456"
      ]
     },
     "execution_count": 26,
     "metadata": {},
     "output_type": "execute_result"
    }
   ],
   "source": [
    "kmodel.fit(Ftrain,Ltrain)\n",
    "kmodel.score(Ftest,Ltest)"
   ]
  },
  {
   "cell_type": "markdown",
   "id": "197eedfc",
   "metadata": {},
   "source": [
    "# Logistic on grayscale data"
   ]
  },
  {
   "cell_type": "code",
   "execution_count": 27,
   "id": "9fd6cafe",
   "metadata": {},
   "outputs": [
    {
     "data": {
      "text/plain": [
       "0.4430684554523564"
      ]
     },
     "execution_count": 27,
     "metadata": {},
     "output_type": "execute_result"
    }
   ],
   "source": [
    "from sklearn.linear_model import LogisticRegression\n",
    "model=LogisticRegression(solver='lbfgs', max_iter=10000)\n",
    "model.fit(Ftrain,Ltrain)\n",
    "model.score(Ftest,Ltest)"
   ]
  },
  {
   "cell_type": "markdown",
   "id": "5284f869",
   "metadata": {},
   "source": [
    "# SVM on Grayscale data"
   ]
  },
  {
   "cell_type": "code",
   "execution_count": 28,
   "id": "d0db5c80",
   "metadata": {},
   "outputs": [
    {
     "name": "stdout",
     "output_type": "stream",
     "text": [
      "0.4279325765393877\n"
     ]
    }
   ],
   "source": [
    "clf = SVC(kernel='linear')\n",
    "clf.fit(Ftrain,Ltrain)\n",
    "y_pred = clf.predict(Ftest)\n",
    "print(accuracy_score(Ltest,y_pred))"
   ]
  },
  {
   "cell_type": "markdown",
   "id": "576fd580",
   "metadata": {},
   "source": [
    "# Random Forest on Grayscale"
   ]
  },
  {
   "cell_type": "code",
   "execution_count": 29,
   "id": "9dfa979e",
   "metadata": {},
   "outputs": [
    {
     "data": {
      "text/plain": [
       "RandomForestClassifier(max_depth=5, n_jobs=-1, oob_score=True, random_state=42)"
      ]
     },
     "execution_count": 29,
     "metadata": {},
     "output_type": "execute_result"
    }
   ],
   "source": [
    "classifier_rf.fit(Ftrain, Ltrain)"
   ]
  },
  {
   "cell_type": "code",
   "execution_count": 30,
   "id": "2b4347ef",
   "metadata": {},
   "outputs": [
    {
     "data": {
      "text/plain": [
       "0.43711286992429454"
      ]
     },
     "execution_count": 30,
     "metadata": {},
     "output_type": "execute_result"
    }
   ],
   "source": [
    "classifier_rf.oob_score_"
   ]
  },
  {
   "cell_type": "markdown",
   "id": "8befce61",
   "metadata": {},
   "source": [
    "# Naive bayes on Grayscale"
   ]
  },
  {
   "cell_type": "code",
   "execution_count": 31,
   "id": "0d1a6d3b",
   "metadata": {},
   "outputs": [
    {
     "data": {
      "text/plain": [
       "GaussianNB()"
      ]
     },
     "execution_count": 31,
     "metadata": {},
     "output_type": "execute_result"
    }
   ],
   "source": [
    "gnb.fit(Ftrain, Ltrain)"
   ]
  },
  {
   "cell_type": "code",
   "execution_count": 32,
   "id": "053c9a09",
   "metadata": {},
   "outputs": [
    {
     "data": {
      "text/plain": [
       "0.36635706914344685"
      ]
     },
     "execution_count": 32,
     "metadata": {},
     "output_type": "execute_result"
    }
   ],
   "source": [
    "y_pred = gnb.predict(Ftest)\n",
    "metrics.accuracy_score(Ltest, y_pred)"
   ]
  },
  {
   "cell_type": "markdown",
   "id": "e42f549f",
   "metadata": {},
   "source": [
    "# KNN on Red channel data"
   ]
  },
  {
   "cell_type": "code",
   "execution_count": 33,
   "id": "cb75cbbd",
   "metadata": {},
   "outputs": [],
   "source": [
    "#reading numpy array data\n",
    "gray_test = np.load('red_data.npy')\n",
    "#reading csv file\n",
    "gray_df = pd.read_csv('red_data.csv')"
   ]
  },
  {
   "cell_type": "code",
   "execution_count": 34,
   "id": "7fda7839",
   "metadata": {},
   "outputs": [],
   "source": [
    "loaded = []\n",
    "for i in gray_test:\n",
    "    k = []\n",
    "    k = np.asarray(i,dtype='uint8')\n",
    "    loaded.append(k)\n",
    "features = loaded\n",
    "target = gray_df['disease']\n",
    "from sklearn.model_selection import train_test_split\n",
    "Ftrain,Ftest,Ltrain,Ltest=train_test_split(features,target, test_size=0.20, random_state=20)\n",
    "from sklearn.preprocessing import StandardScaler\n",
    "scaler = StandardScaler()\n",
    "scaler.fit(Ftrain)\n",
    "Ftrain = scaler.transform(Ftrain)\n",
    "Ftest = scaler.transform(Ftest)"
   ]
  },
  {
   "cell_type": "code",
   "execution_count": 35,
   "id": "683839f2",
   "metadata": {},
   "outputs": [
    {
     "data": {
      "text/plain": [
       "0.5104919160646715"
      ]
     },
     "execution_count": 35,
     "metadata": {},
     "output_type": "execute_result"
    }
   ],
   "source": [
    "kmodel.fit(Ftrain,Ltrain)\n",
    "kmodel.score(Ftest,Ltest)"
   ]
  },
  {
   "cell_type": "markdown",
   "id": "ffcda594",
   "metadata": {},
   "source": [
    "# Logistic on Red channel data"
   ]
  },
  {
   "cell_type": "code",
   "execution_count": 36,
   "id": "1ed4037b",
   "metadata": {},
   "outputs": [
    {
     "data": {
      "text/plain": [
       "0.4513243894048848"
      ]
     },
     "execution_count": 36,
     "metadata": {},
     "output_type": "execute_result"
    }
   ],
   "source": [
    "model.fit(Ftrain,Ltrain)\n",
    "model.score(Ftest,Ltest)"
   ]
  },
  {
   "cell_type": "markdown",
   "id": "dba6d5ce",
   "metadata": {},
   "source": [
    "# SVM on Red channel data"
   ]
  },
  {
   "cell_type": "code",
   "execution_count": 37,
   "id": "6ed153f7",
   "metadata": {},
   "outputs": [
    {
     "name": "stdout",
     "output_type": "stream",
     "text": [
      "0.44685242518059853\n"
     ]
    }
   ],
   "source": [
    "clf.fit(Ftrain,Ltrain)\n",
    "y_pred = clf.predict(Ftest)\n",
    "print(accuracy_score(Ltest,y_pred))"
   ]
  },
  {
   "cell_type": "markdown",
   "id": "a670c4d4",
   "metadata": {},
   "source": [
    "# Random forest on Red channel data"
   ]
  },
  {
   "cell_type": "code",
   "execution_count": 38,
   "id": "9e816e9e",
   "metadata": {},
   "outputs": [
    {
     "data": {
      "text/plain": [
       "0.4738472126634549"
      ]
     },
     "execution_count": 38,
     "metadata": {},
     "output_type": "execute_result"
    }
   ],
   "source": [
    "classifier_rf.fit(Ftrain, Ltrain)\n",
    "classifier_rf.oob_score_"
   ]
  },
  {
   "cell_type": "markdown",
   "id": "e1c2d95a",
   "metadata": {},
   "source": [
    "# Naive Bayes on Red channel data"
   ]
  },
  {
   "cell_type": "code",
   "execution_count": 39,
   "id": "8ec0753c",
   "metadata": {},
   "outputs": [
    {
     "data": {
      "text/plain": [
       "GaussianNB()"
      ]
     },
     "execution_count": 39,
     "metadata": {},
     "output_type": "execute_result"
    }
   ],
   "source": [
    "gnb.fit(Ftrain, Ltrain)"
   ]
  },
  {
   "cell_type": "code",
   "execution_count": 40,
   "id": "9bd3c55d",
   "metadata": {},
   "outputs": [
    {
     "data": {
      "text/plain": [
       "0.3804609563123495"
      ]
     },
     "execution_count": 40,
     "metadata": {},
     "output_type": "execute_result"
    }
   ],
   "source": [
    "y_pred = gnb.predict(Ftest)\n",
    "metrics.accuracy_score(Ltest, y_pred)"
   ]
  },
  {
   "cell_type": "markdown",
   "id": "21af7568",
   "metadata": {},
   "source": [
    "# KNN on green channel data"
   ]
  },
  {
   "cell_type": "code",
   "execution_count": 41,
   "id": "461b784b",
   "metadata": {},
   "outputs": [
    {
     "data": {
      "text/plain": [
       "0.48159614723082217"
      ]
     },
     "execution_count": 41,
     "metadata": {},
     "output_type": "execute_result"
    }
   ],
   "source": [
    "#reading numpy array data\n",
    "gray_test = np.load('green_data.npy')\n",
    "#reading csv file\n",
    "gray_df = pd.read_csv('green_data.csv')\n",
    "loaded = []\n",
    "for i in gray_test:\n",
    "    k = []\n",
    "    k = np.asarray(i,dtype='uint8')\n",
    "    loaded.append(k)\n",
    "features = loaded\n",
    "target = gray_df['disease']\n",
    "Ftrain,Ftest,Ltrain,Ltest=train_test_split(features,target, test_size=0.20, random_state=20)\n",
    "scaler = StandardScaler()\n",
    "scaler.fit(Ftrain)\n",
    "Ftrain = scaler.transform(Ftrain)\n",
    "Ftest = scaler.transform(Ftest)\n",
    "kmodel.fit(Ftrain,Ltrain)\n",
    "kmodel.score(Ftest,Ltest)"
   ]
  },
  {
   "cell_type": "markdown",
   "id": "71f3ea86",
   "metadata": {},
   "source": [
    "# Logistic on Green channel data"
   ]
  },
  {
   "cell_type": "code",
   "execution_count": 42,
   "id": "28dad6b2",
   "metadata": {},
   "outputs": [
    {
     "data": {
      "text/plain": [
       "0.44719642242862057"
      ]
     },
     "execution_count": 42,
     "metadata": {},
     "output_type": "execute_result"
    }
   ],
   "source": [
    "model.fit(Ftrain,Ltrain)\n",
    "model.score(Ftest,Ltest)"
   ]
  },
  {
   "cell_type": "markdown",
   "id": "f62f0223",
   "metadata": {},
   "source": [
    "# SVM on green channel data"
   ]
  },
  {
   "cell_type": "code",
   "execution_count": 43,
   "id": "e89e7297",
   "metadata": {},
   "outputs": [
    {
     "name": "stdout",
     "output_type": "stream",
     "text": [
      "0.43962848297213625\n"
     ]
    }
   ],
   "source": [
    "clf.fit(Ftrain,Ltrain)\n",
    "y_pred = clf.predict(Ftest)\n",
    "print(accuracy_score(Ltest,y_pred))"
   ]
  },
  {
   "cell_type": "markdown",
   "id": "4f8e565e",
   "metadata": {},
   "source": [
    "# Random Forest on green channel data"
   ]
  },
  {
   "cell_type": "code",
   "execution_count": 44,
   "id": "96c92f8f",
   "metadata": {},
   "outputs": [
    {
     "data": {
      "text/plain": [
       "0.42816586373021337"
      ]
     },
     "execution_count": 44,
     "metadata": {},
     "output_type": "execute_result"
    }
   ],
   "source": [
    "classifier_rf.fit(Ftrain, Ltrain)\n",
    "classifier_rf.oob_score_"
   ]
  },
  {
   "cell_type": "markdown",
   "id": "e9b1cca9",
   "metadata": {},
   "source": [
    "# Naive bayes on Green channel data"
   ]
  },
  {
   "cell_type": "code",
   "execution_count": 45,
   "id": "1136802c",
   "metadata": {},
   "outputs": [
    {
     "data": {
      "text/plain": [
       "0.3464052287581699"
      ]
     },
     "execution_count": 45,
     "metadata": {},
     "output_type": "execute_result"
    }
   ],
   "source": [
    "gnb.fit(Ftrain, Ltrain)\n",
    "GaussianNB()\n",
    "y_pred = gnb.predict(Ftest)\n",
    "metrics.accuracy_score(Ltest, y_pred)"
   ]
  },
  {
   "cell_type": "markdown",
   "id": "75817642",
   "metadata": {},
   "source": [
    "# KNN on blue channel data"
   ]
  },
  {
   "cell_type": "code",
   "execution_count": 46,
   "id": "531e3624",
   "metadata": {},
   "outputs": [
    {
     "data": {
      "text/plain": [
       "0.5483316133470932"
      ]
     },
     "execution_count": 46,
     "metadata": {},
     "output_type": "execute_result"
    }
   ],
   "source": [
    "#reading numpy array data\n",
    "gray_test = np.load('blue_data.npy')\n",
    "#reading csv file\n",
    "gray_df = pd.read_csv('blue_data.csv')\n",
    "loaded = []\n",
    "for i in gray_test:\n",
    "    k = []\n",
    "    k = np.asarray(i,dtype='uint8')\n",
    "    loaded.append(k)\n",
    "features = loaded\n",
    "target = gray_df['disease']\n",
    "Ftrain,Ftest,Ltrain,Ltest=train_test_split(features,target, test_size=0.20, random_state=20)\n",
    "scaler = StandardScaler()\n",
    "scaler.fit(Ftrain)\n",
    "Ftrain = scaler.transform(Ftrain)\n",
    "Ftest = scaler.transform(Ftest)\n",
    "kmodel.fit(Ftrain,Ltrain)\n",
    "kmodel.score(Ftest,Ltest)"
   ]
  },
  {
   "cell_type": "markdown",
   "id": "f452a113",
   "metadata": {},
   "source": [
    "# logistic on blue channel data"
   ]
  },
  {
   "cell_type": "code",
   "execution_count": 47,
   "id": "de158586",
   "metadata": {},
   "outputs": [
    {
     "data": {
      "text/plain": [
       "0.5307877536979704"
      ]
     },
     "execution_count": 47,
     "metadata": {},
     "output_type": "execute_result"
    }
   ],
   "source": [
    "model.fit(Ftrain,Ltrain)\n",
    "model.score(Ftest,Ltest)"
   ]
  },
  {
   "cell_type": "markdown",
   "id": "c7585c1d",
   "metadata": {},
   "source": [
    "# SVM on blue channel data"
   ]
  },
  {
   "cell_type": "code",
   "execution_count": 48,
   "id": "06fb4a0f",
   "metadata": {},
   "outputs": [
    {
     "name": "stdout",
     "output_type": "stream",
     "text": [
      "0.49638802889576883\n"
     ]
    }
   ],
   "source": [
    "clf.fit(Ftrain,Ltrain)\n",
    "y_pred = clf.predict(Ftest)\n",
    "print(accuracy_score(Ltest,y_pred))"
   ]
  },
  {
   "cell_type": "markdown",
   "id": "f4eb8c6c",
   "metadata": {},
   "source": [
    "# Random Forest on blue channel data"
   ]
  },
  {
   "cell_type": "code",
   "execution_count": 49,
   "id": "b71407b2",
   "metadata": {},
   "outputs": [
    {
     "data": {
      "text/plain": [
       "0.5357019958706125"
      ]
     },
     "execution_count": 49,
     "metadata": {},
     "output_type": "execute_result"
    }
   ],
   "source": [
    "classifier_rf.fit(Ftrain, Ltrain)\n",
    "classifier_rf.oob_score_"
   ]
  },
  {
   "cell_type": "markdown",
   "id": "fb1ca20e",
   "metadata": {},
   "source": [
    "# Naive bayes on blue channel data"
   ]
  },
  {
   "cell_type": "code",
   "execution_count": 50,
   "id": "11ea0b85",
   "metadata": {},
   "outputs": [
    {
     "data": {
      "text/plain": [
       "0.5411076711386309"
      ]
     },
     "execution_count": 50,
     "metadata": {},
     "output_type": "execute_result"
    }
   ],
   "source": [
    "gnb.fit(Ftrain, Ltrain)\n",
    "GaussianNB()\n",
    "y_pred = gnb.predict(Ftest)\n",
    "metrics.accuracy_score(Ltest, y_pred)"
   ]
  },
  {
   "cell_type": "code",
   "execution_count": 51,
   "id": "c375f967",
   "metadata": {},
   "outputs": [
    {
     "data": {
      "text/plain": [
       "[array([146, 148, 149, ..., 106, 106, 112], dtype=uint8),\n",
       " array([159, 159, 159, ..., 120, 121, 126], dtype=uint8),\n",
       " array([111, 112, 116, ...,  65,  54,  44], dtype=uint8),\n",
       " array([128, 127, 122, ..., 168, 176, 181], dtype=uint8),\n",
       " array([170, 170, 170, ..., 119, 119, 117], dtype=uint8),\n",
       " array([ 82,  83,  83, ..., 127, 106, 114], dtype=uint8),\n",
       " array([137, 138, 139, ..., 123, 123, 121], dtype=uint8),\n",
       " array([140, 125, 140, ..., 124, 138, 143], dtype=uint8),\n",
       " array([148, 150, 152, ..., 115, 119, 120], dtype=uint8),\n",
       " array([155, 157, 156, ..., 133, 136, 139], dtype=uint8),\n",
       " array([122, 122, 123, ..., 122, 118, 112], dtype=uint8),\n",
       " array([147, 135, 134, ...,  97,  97, 106], dtype=uint8),\n",
       " array([113, 115, 119, ..., 152, 149, 140], dtype=uint8),\n",
       " array([125, 127, 124, ..., 167, 166, 167], dtype=uint8),\n",
       " array([152, 152, 148, ...,  55,  63,  67], dtype=uint8),\n",
       " array([139, 140, 141, ..., 179, 174, 165], dtype=uint8),\n",
       " array([121, 122, 124, ..., 159, 161, 164], dtype=uint8),\n",
       " array([105, 103, 104, ..., 166, 175, 179], dtype=uint8),\n",
       " array([116, 117, 115, ..., 100,  99, 102], dtype=uint8),\n",
       " array([160, 158, 156, ..., 128, 125, 119], dtype=uint8),\n",
       " array([ 87,  87,  89, ..., 145, 144, 143], dtype=uint8),\n",
       " array([129, 148, 161, ...,  98,  87,  80], dtype=uint8),\n",
       " array([156, 150, 146, ..., 107, 106, 106], dtype=uint8),\n",
       " array([134, 139, 143, ..., 137, 134, 135], dtype=uint8),\n",
       " array([159, 154, 149, ..., 114, 115, 115], dtype=uint8),\n",
       " array([160, 158, 157, ..., 105, 110, 128], dtype=uint8),\n",
       " array([134, 137, 144, ..., 131, 136, 138], dtype=uint8),\n",
       " array([152, 154, 154, ..., 115, 113, 111], dtype=uint8),\n",
       " array([122, 123, 126, ..., 170, 155, 171], dtype=uint8),\n",
       " array([100, 100, 102, ..., 158, 158, 161], dtype=uint8),\n",
       " array([102, 102, 103, ..., 146, 146, 148], dtype=uint8),\n",
       " array([122, 122, 122, ..., 129, 129, 135], dtype=uint8),\n",
       " array([192, 186, 176, ..., 136, 138, 141], dtype=uint8),\n",
       " array([175, 175, 176, ..., 112, 114, 114], dtype=uint8),\n",
       " array([149, 149, 152, ..., 130, 124, 121], dtype=uint8),\n",
       " array([112, 111, 109, ..., 108, 109, 108], dtype=uint8),\n",
       " array([127, 135, 137, ..., 145, 147, 143], dtype=uint8),\n",
       " array([115, 124, 131, ..., 164, 173, 182], dtype=uint8),\n",
       " array([117, 118, 120, ..., 138, 142, 143], dtype=uint8),\n",
       " array([168, 167, 167, ..., 111, 112, 112], dtype=uint8),\n",
       " array([143, 145, 153, ..., 118, 120, 119], dtype=uint8),\n",
       " array([148, 146, 145, ..., 133, 130, 127], dtype=uint8),\n",
       " array([160, 160, 160, ..., 111, 113, 115], dtype=uint8),\n",
       " array([115, 115, 115, ..., 160, 159, 161], dtype=uint8),\n",
       " array([154, 154, 157, ..., 117, 114, 109], dtype=uint8),\n",
       " array([115, 113, 110, ...,  91,  91,  92], dtype=uint8),\n",
       " array([146, 146, 148, ..., 111, 109, 105], dtype=uint8),\n",
       " array([ 97, 102, 108, ..., 154, 155, 158], dtype=uint8),\n",
       " array([143, 141, 139, ...,  92,  91,  89], dtype=uint8),\n",
       " array([157, 157, 158, ..., 111, 114, 114], dtype=uint8),\n",
       " array([129, 123, 115, ...,  84,  87,  93], dtype=uint8),\n",
       " array([121, 125, 124, ..., 150, 150, 150], dtype=uint8),\n",
       " array([151, 151, 152, ...,  90,  88,  88], dtype=uint8),\n",
       " array([108, 107, 107, ..., 169, 164, 179], dtype=uint8),\n",
       " array([160, 155, 147, ..., 114, 112, 111], dtype=uint8),\n",
       " array([125, 126, 128, ..., 104, 103, 103], dtype=uint8),\n",
       " array([145, 146, 148, ...,  87,  95,  99], dtype=uint8),\n",
       " array([100,  98,  96, ..., 147, 150, 158], dtype=uint8),\n",
       " array([116, 116, 116, ..., 162, 161, 163], dtype=uint8),\n",
       " array([154, 150, 143, ...,  43,  36,  34], dtype=uint8),\n",
       " array([147, 149, 150, ..., 147, 146, 147], dtype=uint8),\n",
       " array([157, 157, 159, ..., 113, 117, 121], dtype=uint8),\n",
       " array([167, 165, 162, ...,  18,  38,  54], dtype=uint8),\n",
       " array([ 92,  92,  91, ..., 107,  99,  95], dtype=uint8),\n",
       " array([149, 148, 147, ..., 119, 117, 115], dtype=uint8),\n",
       " array([156, 155, 153, ..., 117, 117, 117], dtype=uint8),\n",
       " array([159, 161, 159, ..., 160, 152, 144], dtype=uint8),\n",
       " array([157, 157, 157, ...,  93,  89,  86], dtype=uint8),\n",
       " array([145, 146, 149, ..., 128, 128, 127], dtype=uint8),\n",
       " array([130, 129, 128, ...,  92,  91,  95], dtype=uint8),\n",
       " array([152, 149, 140, ...,  96,  95,  83], dtype=uint8),\n",
       " array([154, 157, 159, ..., 128, 130, 127], dtype=uint8),\n",
       " array([131, 131, 133, ...,  87, 100, 114], dtype=uint8),\n",
       " array([143, 145, 149, ..., 114, 114, 109], dtype=uint8),\n",
       " array([151, 152, 154, ..., 121, 121, 119], dtype=uint8),\n",
       " array([111, 104,  94, ..., 153, 153, 136], dtype=uint8),\n",
       " array([157, 158, 159, ...,  89,  85,  82], dtype=uint8),\n",
       " array([134, 132, 131, ..., 108, 109, 114], dtype=uint8),\n",
       " array([114, 111, 110, ..., 159, 158, 157], dtype=uint8),\n",
       " array([164, 168, 175, ..., 119, 117, 112], dtype=uint8),\n",
       " array([138, 139, 140, ...,  94,  97, 104], dtype=uint8),\n",
       " array([181, 185, 191, ..., 102,  99,  93], dtype=uint8),\n",
       " array([157, 168, 172, ..., 123, 120, 113], dtype=uint8),\n",
       " array([ 97, 100, 103, ..., 164, 167, 161], dtype=uint8),\n",
       " array([ 97,  99, 103, ..., 146, 138, 161], dtype=uint8),\n",
       " array([150, 150, 151, ..., 111, 110, 111], dtype=uint8),\n",
       " array([104, 104, 106, ..., 165, 164, 167], dtype=uint8),\n",
       " array([140, 141, 137, ..., 116, 114, 110], dtype=uint8),\n",
       " array([107, 109, 110, ..., 130, 128, 125], dtype=uint8),\n",
       " array([130, 129, 122, ..., 114, 118, 119], dtype=uint8),\n",
       " array([141, 149, 151, ..., 115, 108, 112], dtype=uint8),\n",
       " array([115, 118, 121, ..., 164, 162, 161], dtype=uint8),\n",
       " array([114, 114, 113, ..., 156, 151, 148], dtype=uint8),\n",
       " array([165, 164, 163, ..., 117, 121, 122], dtype=uint8),\n",
       " array([142, 145, 151, ...,  55,  50,  48], dtype=uint8),\n",
       " array([141, 143, 146, ..., 108, 110, 117], dtype=uint8),\n",
       " array([193, 187, 185, ..., 132, 132, 132], dtype=uint8),\n",
       " array([121, 120, 119, ...,  88,  89,  88], dtype=uint8),\n",
       " array([163, 163, 164, ..., 120, 121, 123], dtype=uint8),\n",
       " array([150, 153, 155, ..., 124, 123, 119], dtype=uint8),\n",
       " array([142, 142, 139, ..., 138, 140, 139], dtype=uint8),\n",
       " array([137, 137, 138, ...,  93, 105, 111], dtype=uint8),\n",
       " array([149, 149, 152, ..., 112, 113, 111], dtype=uint8),\n",
       " array([166, 166, 166, ..., 126, 128, 128], dtype=uint8),\n",
       " array([172, 172, 171, ..., 111, 114, 117], dtype=uint8),\n",
       " array([105, 105, 105, ..., 155, 157, 158], dtype=uint8),\n",
       " array([145, 148, 151, ..., 124, 124, 123], dtype=uint8),\n",
       " array([158, 155, 152, ..., 116, 115, 112], dtype=uint8),\n",
       " array([151, 152, 154, ..., 113, 116, 116], dtype=uint8),\n",
       " array([118, 118, 119, ..., 157, 164, 171], dtype=uint8),\n",
       " array([137, 136, 137, ..., 121, 122, 125], dtype=uint8),\n",
       " array([115, 118, 121, ..., 146, 145, 150], dtype=uint8),\n",
       " array([162, 160, 158, ..., 133, 134, 135], dtype=uint8),\n",
       " array([103, 109, 112, ..., 148, 147, 147], dtype=uint8),\n",
       " array([138, 138, 138, ..., 107, 108, 108], dtype=uint8),\n",
       " array([138, 140, 142, ..., 117, 112, 114], dtype=uint8),\n",
       " array([108, 104, 104, ..., 135, 139, 141], dtype=uint8),\n",
       " array([152, 150, 148, ...,  97,  94,  95], dtype=uint8),\n",
       " array([119, 122, 123, ..., 131, 134, 136], dtype=uint8),\n",
       " array([146, 141, 139, ..., 119, 114, 108], dtype=uint8),\n",
       " array([118, 118, 119, ..., 169, 177, 167], dtype=uint8),\n",
       " array([111, 109, 107, ..., 160, 160, 159], dtype=uint8),\n",
       " array([145, 145, 147, ..., 110, 109, 108], dtype=uint8),\n",
       " array([104, 103, 103, ..., 168, 175, 178], dtype=uint8),\n",
       " array([137, 135, 132, ..., 144, 148, 150], dtype=uint8),\n",
       " array([147, 144, 140, ..., 117, 116, 114], dtype=uint8),\n",
       " array([103, 103, 104, ..., 140, 138, 138], dtype=uint8),\n",
       " array([136, 139, 136, ..., 176, 175, 175], dtype=uint8),\n",
       " array([120, 118, 116, ..., 121, 112, 105], dtype=uint8),\n",
       " array([127, 123, 118, ...,  85,  82,  80], dtype=uint8),\n",
       " array([168, 166, 168, ..., 134, 134, 134], dtype=uint8),\n",
       " array([162, 157, 157, ..., 119, 128, 121], dtype=uint8),\n",
       " array([148, 148, 149, ..., 125, 116, 114], dtype=uint8),\n",
       " array([115, 113, 110, ..., 162, 160, 156], dtype=uint8),\n",
       " array([160, 168, 167, ...,  99, 103, 111], dtype=uint8),\n",
       " array([115, 115, 115, ..., 154, 151, 148], dtype=uint8),\n",
       " array([117, 119, 119, ..., 152, 157, 160], dtype=uint8),\n",
       " array([120, 114, 118, ..., 155, 158, 158], dtype=uint8),\n",
       " array([167, 168, 171, ...,  88,  91,  92], dtype=uint8),\n",
       " array([128, 133, 131, ..., 195, 197, 190], dtype=uint8),\n",
       " array([135, 133, 134, ...,  90,  92,  92], dtype=uint8),\n",
       " array([126, 129, 132, ..., 160, 165, 164], dtype=uint8),\n",
       " array([127, 128, 130, ..., 175, 175, 176], dtype=uint8),\n",
       " array([122, 117, 119, ..., 153, 151, 149], dtype=uint8),\n",
       " array([133, 133, 133, ...,  95,  99, 105], dtype=uint8),\n",
       " array([159, 159, 159, ..., 111, 105, 101], dtype=uint8),\n",
       " array([162, 157, 156, ..., 106, 108, 114], dtype=uint8),\n",
       " array([150, 154, 159, ..., 108, 107, 106], dtype=uint8),\n",
       " array([137, 141, 146, ...,  40,  56,  69], dtype=uint8),\n",
       " array([171, 170, 168, ..., 124, 125, 124], dtype=uint8),\n",
       " array([ 99,  97,  97, ..., 131, 129, 129], dtype=uint8),\n",
       " array([150, 152, 152, ..., 107, 104, 111], dtype=uint8),\n",
       " array([157, 150, 153, ..., 111, 115, 114], dtype=uint8),\n",
       " array([117, 114, 111, ..., 161, 152, 170], dtype=uint8),\n",
       " array([103, 103, 109, ..., 153, 167, 154], dtype=uint8),\n",
       " array([143, 144, 147, ...,  99, 106, 112], dtype=uint8),\n",
       " array([ 77,  79,  80, ..., 111, 111, 111], dtype=uint8),\n",
       " array([152, 154, 159, ..., 117, 120, 119], dtype=uint8),\n",
       " array([150, 157, 163, ..., 113, 114, 115], dtype=uint8),\n",
       " array([124, 127, 128, ..., 162, 154, 142], dtype=uint8),\n",
       " array([146, 145, 147, ..., 110, 110, 109], dtype=uint8),\n",
       " array([199, 185, 183, ..., 136, 139, 148], dtype=uint8),\n",
       " array([174, 174, 173, ..., 112, 112, 113], dtype=uint8),\n",
       " array([141, 145, 133, ..., 148, 160, 170], dtype=uint8),\n",
       " array([155, 157, 157, ..., 146, 150, 157], dtype=uint8),\n",
       " array([154, 152, 157, ..., 101, 101, 110], dtype=uint8),\n",
       " array([112, 117, 125, ..., 107, 104, 102], dtype=uint8),\n",
       " array([104, 105, 107, ..., 159, 166, 169], dtype=uint8),\n",
       " array([110, 111, 112, ..., 177, 185, 170], dtype=uint8),\n",
       " array([112, 108,  99, ..., 149, 154, 151], dtype=uint8),\n",
       " array([159, 158, 160, ..., 105,  94,  89], dtype=uint8),\n",
       " array([137, 131, 123, ...,  92,  91,  93], dtype=uint8),\n",
       " array([105, 105, 103, ..., 156, 150, 143], dtype=uint8),\n",
       " array([117, 123, 126, ..., 108, 118, 129], dtype=uint8),\n",
       " array([134, 135, 139, ..., 154, 151, 152], dtype=uint8),\n",
       " array([139, 139, 141, ..., 104, 106, 107], dtype=uint8),\n",
       " array([120, 117, 116, ..., 132, 132, 132], dtype=uint8),\n",
       " array([152, 152, 152, ..., 112, 111, 110], dtype=uint8),\n",
       " array([114, 111, 108, ..., 142, 135, 125], dtype=uint8),\n",
       " array([157, 164, 164, ..., 126, 124, 121], dtype=uint8),\n",
       " array([105, 107, 107, ..., 140, 140, 139], dtype=uint8),\n",
       " array([156, 156, 155, ..., 117, 117, 117], dtype=uint8),\n",
       " array([176, 173, 170, ..., 111, 106, 109], dtype=uint8),\n",
       " array([130, 132, 137, ..., 126, 129, 128], dtype=uint8),\n",
       " array([114, 117, 121, ..., 158, 155, 147], dtype=uint8),\n",
       " array([103,  98,  96, ..., 145, 146, 151], dtype=uint8),\n",
       " array([ 85,  95, 102, ..., 164, 163, 164], dtype=uint8),\n",
       " array([ 96, 100, 100, ..., 136, 139, 139], dtype=uint8),\n",
       " array([122, 125, 117, ..., 173, 196, 177], dtype=uint8),\n",
       " array([109, 108, 108, ..., 148, 147, 148], dtype=uint8),\n",
       " array([165, 161, 162, ..., 120, 112, 124], dtype=uint8),\n",
       " array([122, 128, 134, ..., 136, 139, 129], dtype=uint8),\n",
       " array([ 96,  95,  95, ..., 155, 155, 153], dtype=uint8),\n",
       " array([154, 142, 144, ..., 104, 110, 114], dtype=uint8),\n",
       " array([131, 131, 133, ..., 109, 109, 107], dtype=uint8),\n",
       " array([ 83,  85,  85, ..., 114, 109, 105], dtype=uint8),\n",
       " array([142, 143, 145, ...,  99, 100, 103], dtype=uint8),\n",
       " array([104, 106, 112, ..., 142, 141, 143], dtype=uint8),\n",
       " array([108,  97,  98, ..., 139, 136, 136], dtype=uint8),\n",
       " array([153, 155, 155, ..., 117, 115, 116], dtype=uint8),\n",
       " array([111, 112, 112, ..., 133, 137, 145], dtype=uint8),\n",
       " array([155, 156, 155, ..., 119, 122, 122], dtype=uint8),\n",
       " array([123, 123, 122, ..., 151, 152, 153], dtype=uint8),\n",
       " array([139, 140, 138, ..., 101,  98,  95], dtype=uint8),\n",
       " array([159, 157, 155, ..., 133, 129, 123], dtype=uint8),\n",
       " array([114, 115, 116, ..., 145, 146, 152], dtype=uint8),\n",
       " array([110, 110, 108, ..., 134, 135, 136], dtype=uint8),\n",
       " array([101, 103, 105, ..., 163, 161, 162], dtype=uint8),\n",
       " array([112, 116, 120, ...,  44,  49,  50], dtype=uint8),\n",
       " array([143, 142, 141, ..., 119, 116, 115], dtype=uint8),\n",
       " array([154, 154, 153, ..., 127, 133, 131], dtype=uint8),\n",
       " array([120, 118, 117, ..., 156, 149, 144], dtype=uint8),\n",
       " array([165, 165, 164, ..., 103,  98, 108], dtype=uint8),\n",
       " array([100, 101, 104, ..., 141, 142, 145], dtype=uint8),\n",
       " array([ 94, 112, 125, ..., 152, 152, 157], dtype=uint8),\n",
       " array([170, 170, 169, ..., 147, 148, 149], dtype=uint8),\n",
       " array([149, 149, 148, ..., 121, 124, 117], dtype=uint8),\n",
       " array([107, 107, 110, ..., 143, 140, 140], dtype=uint8),\n",
       " array([160, 162, 164, ..., 124, 125, 125], dtype=uint8),\n",
       " array([145, 143, 141, ..., 117, 118, 117], dtype=uint8),\n",
       " array([107, 110, 113, ..., 141, 141, 143], dtype=uint8),\n",
       " array([139, 140, 143, ..., 119, 122, 119], dtype=uint8),\n",
       " array([105, 106, 110, ..., 150, 149, 148], dtype=uint8),\n",
       " array([155, 155, 155, ..., 119, 119, 116], dtype=uint8),\n",
       " array([118, 125, 127, ..., 155, 147, 149], dtype=uint8),\n",
       " array([178, 177, 176, ..., 134, 137, 141], dtype=uint8),\n",
       " array([156, 156, 155, ..., 109, 106, 106], dtype=uint8),\n",
       " array([ 73,  76,  80, ..., 124, 124, 131], dtype=uint8),\n",
       " array([120, 112, 101, ..., 138, 140, 144], dtype=uint8),\n",
       " array([151, 157, 157, ..., 114, 120, 125], dtype=uint8),\n",
       " array([110, 108, 106, ..., 149, 151, 147], dtype=uint8),\n",
       " array([137, 137, 137, ..., 143, 141, 141], dtype=uint8),\n",
       " array([143, 140, 141, ...,  34,  49,  67], dtype=uint8),\n",
       " array([114, 110, 106, ..., 156, 157, 156], dtype=uint8),\n",
       " array([144, 142, 143, ..., 119, 119, 118], dtype=uint8),\n",
       " array([136, 134, 130, ...,  89,  91,  92], dtype=uint8),\n",
       " array([121, 120, 118, ..., 163, 171, 173], dtype=uint8),\n",
       " array([153, 149, 148, ..., 117, 119, 120], dtype=uint8),\n",
       " array([101, 102, 104, ..., 125, 129, 133], dtype=uint8),\n",
       " array([106, 121, 123, ..., 160, 166, 172], dtype=uint8),\n",
       " array([110, 108, 110, ..., 148, 148, 149], dtype=uint8),\n",
       " array([103,  98,  96, ..., 137, 143, 144], dtype=uint8),\n",
       " array([170, 161, 167, ..., 126, 127, 127], dtype=uint8),\n",
       " array([ 62,  66,  70, ..., 114, 113, 115], dtype=uint8),\n",
       " array([105, 106, 107, ..., 159, 159, 160], dtype=uint8),\n",
       " array([109, 113, 115, ..., 162, 163, 163], dtype=uint8),\n",
       " array([146, 146, 150, ...,  74,  74,  74], dtype=uint8),\n",
       " array([107, 112, 116, ..., 161, 159, 156], dtype=uint8),\n",
       " array([160, 162, 161, ..., 116, 113, 111], dtype=uint8),\n",
       " array([145, 143, 140, ..., 110, 108, 106], dtype=uint8),\n",
       " array([167, 160, 153, ..., 119, 113, 116], dtype=uint8),\n",
       " array([160, 160, 160, ..., 116, 114, 112], dtype=uint8),\n",
       " array([160, 158, 157, ..., 108, 107, 105], dtype=uint8),\n",
       " array([ 92,  94,  96, ..., 148, 163, 164], dtype=uint8),\n",
       " array([111, 111, 111, ..., 133, 137, 139], dtype=uint8),\n",
       " array([112, 120, 122, ..., 163, 160, 162], dtype=uint8),\n",
       " array([152, 148, 144, ..., 122, 116, 107], dtype=uint8),\n",
       " array([109, 103,  96, ..., 118, 120, 120], dtype=uint8),\n",
       " array([117, 108, 110, ..., 147, 149, 159], dtype=uint8),\n",
       " array([165, 170, 172, ..., 112, 105, 118], dtype=uint8),\n",
       " array([ 97, 107, 111, ..., 151, 147, 144], dtype=uint8),\n",
       " array([134, 132, 128, ..., 158, 161, 163], dtype=uint8),\n",
       " array([147, 146, 144, ..., 108, 111, 111], dtype=uint8),\n",
       " array([114, 117, 119, ..., 164, 149, 167], dtype=uint8),\n",
       " array([ 51,  52,  54, ..., 150, 149, 148], dtype=uint8),\n",
       " array([152, 155, 153, ..., 144, 143, 142], dtype=uint8),\n",
       " array([101,  96,  95, ..., 148, 150, 152], dtype=uint8),\n",
       " array([139, 140, 142, ..., 107, 106, 103], dtype=uint8),\n",
       " array([110, 112, 114, ..., 134, 145, 159], dtype=uint8),\n",
       " array([121, 125, 130, ..., 126, 130, 125], dtype=uint8),\n",
       " array([111, 112, 113, ..., 159, 158, 156], dtype=uint8),\n",
       " array([162, 161, 159, ..., 118, 117, 112], dtype=uint8),\n",
       " array([ 86,  91,  94, ..., 137, 138, 138], dtype=uint8),\n",
       " array([130, 133, 120, ..., 134, 128, 124], dtype=uint8),\n",
       " array([133, 135, 134, ..., 171, 183, 175], dtype=uint8),\n",
       " array([112, 116, 119, ..., 138, 134, 142], dtype=uint8),\n",
       " array([130, 136, 134, ..., 131, 124, 121], dtype=uint8),\n",
       " array([118, 123, 123, ..., 165, 167, 173], dtype=uint8),\n",
       " array([150, 149, 148, ..., 104, 105, 111], dtype=uint8),\n",
       " array([147, 147, 146, ..., 104, 111, 114], dtype=uint8),\n",
       " array([ 96,  97,  98, ..., 146, 143, 138], dtype=uint8),\n",
       " array([135, 139, 141, ..., 114, 111, 110], dtype=uint8),\n",
       " array([117, 122, 133, ..., 104, 101, 101], dtype=uint8),\n",
       " array([ 98,  97,  99, ..., 138, 143, 142], dtype=uint8),\n",
       " array([156, 157, 157, ..., 102, 101, 103], dtype=uint8),\n",
       " array([137, 139, 143, ..., 105, 106, 107], dtype=uint8),\n",
       " array([172, 172, 174, ..., 134, 132, 131], dtype=uint8),\n",
       " array([126, 122, 116, ..., 121, 126, 129], dtype=uint8),\n",
       " array([173, 172, 169, ..., 149, 153, 154], dtype=uint8),\n",
       " array([154, 156, 158, ..., 109, 110, 113], dtype=uint8),\n",
       " array([ 97,  98,  99, ..., 125, 131, 143], dtype=uint8),\n",
       " array([160, 160, 162, ..., 131, 133, 136], dtype=uint8),\n",
       " array([130, 127, 125, ..., 151, 153, 155], dtype=uint8),\n",
       " array([146, 146, 151, ..., 108, 117, 125], dtype=uint8),\n",
       " array([119, 116, 122, ..., 161, 159, 152], dtype=uint8),\n",
       " array([144, 147, 150, ..., 134, 134, 130], dtype=uint8),\n",
       " array([153, 152, 152, ..., 155, 155, 164], dtype=uint8),\n",
       " array([160, 159, 158, ..., 110, 114, 114], dtype=uint8),\n",
       " array([167, 161, 158, ..., 134, 124, 113], dtype=uint8),\n",
       " array([ 95,  95,  98, ..., 154, 157, 159], dtype=uint8),\n",
       " array([140, 147, 149, ..., 116, 114, 112], dtype=uint8),\n",
       " array([160, 155, 155, ..., 105, 104, 105], dtype=uint8),\n",
       " array([101, 102, 106, ..., 157, 158, 151], dtype=uint8),\n",
       " array([112, 114, 117, ..., 124, 147, 164], dtype=uint8),\n",
       " array([105, 113, 123, ..., 130, 124, 117], dtype=uint8),\n",
       " array([170, 170, 170, ..., 114, 122, 130], dtype=uint8),\n",
       " array([ 92,  90,  99, ..., 148, 151, 155], dtype=uint8),\n",
       " array([147, 148, 147, ..., 120, 120, 120], dtype=uint8),\n",
       " array([151, 153, 154, ..., 112, 109, 109], dtype=uint8),\n",
       " array([117, 117, 121, ..., 116, 120, 127], dtype=uint8),\n",
       " array([110, 109, 107, ..., 155, 156, 156], dtype=uint8),\n",
       " array([120, 119, 117, ..., 156, 162, 164], dtype=uint8),\n",
       " array([154, 152, 153, ..., 118, 115, 108], dtype=uint8),\n",
       " array([155, 151, 147, ..., 108, 107, 106], dtype=uint8),\n",
       " array([142, 141, 142, ..., 111, 108, 107], dtype=uint8),\n",
       " array([108, 106, 101, ..., 160, 165, 168], dtype=uint8),\n",
       " array([148, 158, 156, ...,  97, 100, 105], dtype=uint8),\n",
       " array([145, 145, 145, ..., 112, 115, 114], dtype=uint8),\n",
       " array([119, 113, 104, ..., 142, 143, 138], dtype=uint8),\n",
       " array([157, 158, 160, ..., 113, 118, 122], dtype=uint8),\n",
       " array([142, 141, 141, ...,  91,  95, 100], dtype=uint8),\n",
       " array([158, 157, 155, ..., 108, 112, 107], dtype=uint8),\n",
       " array([143, 153, 157, ...,  88,  85,  84], dtype=uint8),\n",
       " array([134, 134, 133, ...,  94,  96,  99], dtype=uint8),\n",
       " array([149, 150, 153, ..., 133, 131, 130], dtype=uint8),\n",
       " array([110, 111, 108, ..., 147, 146, 140], dtype=uint8),\n",
       " array([145, 146, 145, ..., 123, 125, 128], dtype=uint8),\n",
       " array([134, 138, 147, ...,  93,  95,  94], dtype=uint8),\n",
       " array([108, 109, 108, ..., 156, 157, 159], dtype=uint8),\n",
       " array([108, 109, 108, ..., 153, 154, 155], dtype=uint8),\n",
       " array([141, 143, 145, ..., 103, 101, 102], dtype=uint8),\n",
       " array([152, 153, 153, ..., 105, 108, 113], dtype=uint8),\n",
       " array([126, 132, 143, ..., 116, 118, 122], dtype=uint8),\n",
       " array([166, 168, 168, ..., 142, 141, 134], dtype=uint8),\n",
       " array([143, 143, 143, ..., 125, 119, 116], dtype=uint8),\n",
       " array([ 98, 103, 107, ..., 151, 150, 148], dtype=uint8),\n",
       " array([110, 114, 115, ..., 159, 158, 157], dtype=uint8),\n",
       " array([135, 132, 131, ..., 112, 109, 107], dtype=uint8),\n",
       " array([164, 164, 165, ..., 134, 130, 128], dtype=uint8),\n",
       " array([141, 141, 140, ...,  34,  39,  43], dtype=uint8),\n",
       " array([106, 104, 108, ..., 155, 161, 170], dtype=uint8),\n",
       " array([163, 164, 164, ..., 119, 119, 120], dtype=uint8),\n",
       " array([137, 143, 153, ..., 122, 123, 119], dtype=uint8),\n",
       " array([154, 156, 156, ..., 113, 114, 121], dtype=uint8),\n",
       " array([ 90,  92,  93, ..., 139, 139, 145], dtype=uint8),\n",
       " array([158, 159, 159, ..., 103, 103, 105], dtype=uint8),\n",
       " array([119, 114, 111, ..., 150, 147, 142], dtype=uint8),\n",
       " array([112, 112, 114, ..., 129, 133, 137], dtype=uint8),\n",
       " array([ 93,  93,  97, ..., 149, 147, 146], dtype=uint8),\n",
       " array([129, 131, 134, ..., 102, 106, 110], dtype=uint8),\n",
       " array([103, 100, 100, ..., 138, 143, 131], dtype=uint8),\n",
       " array([135, 135, 137, ...,  97,  95,  91], dtype=uint8),\n",
       " array([141, 137, 141, ...,  94,  93,  92], dtype=uint8),\n",
       " array([ 94,  95,  99, ..., 147, 154, 164], dtype=uint8),\n",
       " array([113, 104, 103, ..., 169, 169, 173], dtype=uint8),\n",
       " array([112, 116, 115, ..., 142, 144, 146], dtype=uint8),\n",
       " array([137, 137, 136, ...,  35,  35,  37], dtype=uint8),\n",
       " array([147, 146, 147, ...,  89,  88,  84], dtype=uint8),\n",
       " array([158, 157, 157, ...,  96, 104, 109], dtype=uint8),\n",
       " array([147, 145, 145, ..., 129, 128, 127], dtype=uint8),\n",
       " array([ 95,  94,  97, ..., 127, 131, 133], dtype=uint8),\n",
       " array([136, 129, 127, ..., 148, 144, 146], dtype=uint8),\n",
       " array([146, 147, 149, ..., 109, 110, 108], dtype=uint8),\n",
       " array([111, 111, 113, ..., 141, 142, 142], dtype=uint8),\n",
       " array([109, 113, 117, ..., 143, 137, 143], dtype=uint8),\n",
       " array([114, 114, 115, ..., 162, 156, 146], dtype=uint8),\n",
       " array([ 93,  98, 104, ..., 179, 180, 177], dtype=uint8),\n",
       " array([163, 163, 162, ..., 164, 167, 169], dtype=uint8),\n",
       " array([149, 146, 142, ..., 113, 115, 118], dtype=uint8),\n",
       " array([149, 152, 153, ..., 116, 113, 114], dtype=uint8),\n",
       " array([158, 154, 153, ..., 126, 120, 129], dtype=uint8),\n",
       " array([122, 126, 129, ...,  94,  82,  73], dtype=uint8),\n",
       " array([161, 160, 159, ..., 100,  97,  98], dtype=uint8),\n",
       " array([152, 153, 153, ...,  99, 100, 102], dtype=uint8),\n",
       " array([107, 101,  95, ..., 134, 133, 130], dtype=uint8),\n",
       " array([127, 125, 126, ...,  97,  91,  95], dtype=uint8),\n",
       " array([160, 162, 165, ..., 124, 127, 129], dtype=uint8),\n",
       " array([142, 141, 142, ..., 118, 120, 129], dtype=uint8),\n",
       " array([ 94,  94,  93, ..., 152, 154, 164], dtype=uint8),\n",
       " array([161, 164, 162, ..., 123, 123, 123], dtype=uint8),\n",
       " array([132, 129, 121, ..., 102,  98,  93], dtype=uint8),\n",
       " array([147, 144, 147, ...,  89,  93,  96], dtype=uint8),\n",
       " array([163, 158, 156, ...,  99, 103, 105], dtype=uint8),\n",
       " array([129, 128, 129, ..., 160, 166, 171], dtype=uint8),\n",
       " array([110, 113, 113, ..., 154, 154, 154], dtype=uint8),\n",
       " array([151, 154, 155, ...,  97, 101, 102], dtype=uint8),\n",
       " array([150, 140, 132, ..., 131, 125, 122], dtype=uint8),\n",
       " array([112, 112, 114, ...,  89,  86,  83], dtype=uint8),\n",
       " array([168, 165, 161, ..., 113, 109, 108], dtype=uint8),\n",
       " array([129, 132, 134, ...,  96,  94,  92], dtype=uint8),\n",
       " array([142, 141, 139, ..., 143, 143, 143], dtype=uint8),\n",
       " array([131, 129, 131, ..., 105, 107, 108], dtype=uint8),\n",
       " array([156, 146, 144, ..., 105, 109, 108], dtype=uint8),\n",
       " array([102, 105, 107, ..., 179, 184, 170], dtype=uint8),\n",
       " array([124, 123, 124, ..., 128, 123, 121], dtype=uint8),\n",
       " array([101, 105, 109, ..., 165, 160, 158], dtype=uint8),\n",
       " array([118, 121, 123, ..., 180, 175, 167], dtype=uint8),\n",
       " array([127, 123, 122, ..., 155, 154, 160], dtype=uint8),\n",
       " array([158, 158, 158, ..., 127, 125, 121], dtype=uint8),\n",
       " array([145, 149, 154, ...,  95, 100, 104], dtype=uint8),\n",
       " array([ 94,  95,  94, ..., 111, 109, 110], dtype=uint8),\n",
       " array([113, 107,  99, ..., 142, 134, 128], dtype=uint8),\n",
       " array([ 53,  56,  59, ..., 137, 135, 133], dtype=uint8),\n",
       " array([114, 113, 113, ..., 133, 132, 134], dtype=uint8),\n",
       " array([114, 111, 107, ..., 157, 156, 169], dtype=uint8),\n",
       " array([123, 124, 126, ..., 161, 166, 159], dtype=uint8),\n",
       " array([ 94,  96, 101, ..., 130, 135, 140], dtype=uint8),\n",
       " array([142, 143, 143, ..., 152, 154, 152], dtype=uint8),\n",
       " array([154, 154, 155, ..., 135, 135, 138], dtype=uint8),\n",
       " array([110, 119, 121, ..., 147, 152, 147], dtype=uint8),\n",
       " array([116, 116, 115, ...,  99,  97,  95], dtype=uint8),\n",
       " array([134, 139, 140, ..., 144, 140, 139], dtype=uint8),\n",
       " array([128, 127, 125, ..., 100, 101, 100], dtype=uint8),\n",
       " array([106, 107, 110, ..., 161, 161, 161], dtype=uint8),\n",
       " array([150, 147, 143, ..., 126, 123, 120], dtype=uint8),\n",
       " array([138, 138, 137, ..., 128, 135, 127], dtype=uint8),\n",
       " array([149, 148, 147, ...,  31,  40,  49], dtype=uint8),\n",
       " array([129, 130, 131, ...,  91,  89,  88], dtype=uint8),\n",
       " array([140, 140, 142, ..., 103, 106, 105], dtype=uint8),\n",
       " array([103, 103, 103, ..., 139, 137, 134], dtype=uint8),\n",
       " array([147, 141, 137, ..., 111, 111, 109], dtype=uint8),\n",
       " array([ 89,  80,  92, ..., 140, 142, 143], dtype=uint8),\n",
       " array([113, 111, 109, ..., 141, 138, 137], dtype=uint8),\n",
       " array([148, 147, 145, ..., 121, 122, 123], dtype=uint8),\n",
       " array([91, 88, 85, ..., 83, 79, 75], dtype=uint8),\n",
       " array([161, 160, 161, ..., 121, 119, 117], dtype=uint8),\n",
       " array([109, 103,  99, ..., 148, 147, 146], dtype=uint8),\n",
       " array([172, 166, 157, ..., 135, 138, 139], dtype=uint8),\n",
       " array([103, 103, 104, ..., 151, 156, 162], dtype=uint8),\n",
       " array([166, 151, 134, ..., 102,  99,  97], dtype=uint8),\n",
       " array([155, 152, 149, ..., 124, 122, 131], dtype=uint8),\n",
       " array([111, 112, 112, ..., 150, 149, 148], dtype=uint8),\n",
       " array([162, 162, 161, ..., 120, 128, 134], dtype=uint8),\n",
       " array([140, 138, 138, ..., 122, 122, 112], dtype=uint8),\n",
       " array([158, 162, 167, ..., 107, 109, 115], dtype=uint8),\n",
       " array([133, 136, 138, ..., 127, 131, 131], dtype=uint8),\n",
       " array([158, 152, 155, ..., 115, 112, 111], dtype=uint8),\n",
       " array([166, 164, 162, ..., 121, 125, 127], dtype=uint8),\n",
       " array([101, 105, 108, ..., 147, 147, 147], dtype=uint8),\n",
       " array([112, 111, 110, ..., 167, 170, 169], dtype=uint8),\n",
       " array([ 79,  84,  96, ..., 144, 147, 149], dtype=uint8),\n",
       " array([148, 148, 148, ..., 100, 102, 103], dtype=uint8),\n",
       " array([104, 111, 117, ..., 159, 158, 155], dtype=uint8),\n",
       " array([157, 157, 156, ..., 117, 115, 115], dtype=uint8),\n",
       " array([128, 118, 114, ..., 157, 160, 159], dtype=uint8),\n",
       " array([ 82,  82,  84, ..., 145, 155, 157], dtype=uint8),\n",
       " array([ 98, 100, 102, ..., 149, 148, 148], dtype=uint8),\n",
       " array([118, 119, 119, ..., 145, 148, 153], dtype=uint8),\n",
       " array([121, 117, 112, ..., 152, 153, 153], dtype=uint8),\n",
       " array([110, 110, 111, ..., 157, 155, 155], dtype=uint8),\n",
       " array([146, 148, 149, ..., 125, 128, 124], dtype=uint8),\n",
       " array([132, 134, 136, ...,  95,  97,  99], dtype=uint8),\n",
       " array([120, 118, 116, ..., 158, 157, 156], dtype=uint8),\n",
       " array([164, 162, 164, ..., 116, 115, 113], dtype=uint8),\n",
       " array([154, 153, 153, ..., 114, 111, 114], dtype=uint8),\n",
       " array([121, 114, 122, ..., 155, 168, 156], dtype=uint8),\n",
       " array([115, 121, 123, ..., 153, 152, 150], dtype=uint8),\n",
       " array([114, 114, 115, ..., 159, 160, 166], dtype=uint8),\n",
       " array([154, 156, 156, ...,  63,  64,  64], dtype=uint8),\n",
       " array([100, 103, 106, ..., 154, 148, 143], dtype=uint8),\n",
       " array([128, 126, 120, ..., 122, 120, 119], dtype=uint8),\n",
       " array([159, 159, 160, ..., 120, 120, 121], dtype=uint8),\n",
       " array([ 97,  96,  94, ..., 149, 154, 158], dtype=uint8),\n",
       " array([163, 163, 161, ..., 108, 106, 107], dtype=uint8),\n",
       " array([119, 113, 107, ..., 155, 155, 152], dtype=uint8),\n",
       " array([172, 172, 175, ..., 145, 141, 132], dtype=uint8),\n",
       " array([122, 123, 117, ..., 143, 146, 149], dtype=uint8),\n",
       " array([111, 112, 114, ..., 153, 161, 173], dtype=uint8),\n",
       " array([158, 158, 157, ..., 113, 115, 112], dtype=uint8),\n",
       " array([119, 121, 123, ..., 153, 152, 149], dtype=uint8),\n",
       " array([ 96,  98,  98, ..., 133, 133, 132], dtype=uint8),\n",
       " array([156, 154, 152, ..., 118, 118, 120], dtype=uint8),\n",
       " array([126, 124, 121, ..., 152, 147, 143], dtype=uint8),\n",
       " array([151, 150, 150, ..., 118, 118, 115], dtype=uint8),\n",
       " array([154, 151, 154, ..., 103, 101, 105], dtype=uint8),\n",
       " array([154, 156, 156, ..., 111, 108, 106], dtype=uint8),\n",
       " array([158, 158, 152, ..., 122, 131, 131], dtype=uint8),\n",
       " array([118, 117, 117, ..., 144, 145, 145], dtype=uint8),\n",
       " array([144, 144, 145, ..., 106, 108, 114], dtype=uint8),\n",
       " array([131, 137, 143, ..., 115, 118, 117], dtype=uint8),\n",
       " array([ 96, 115, 111, ..., 134, 137, 143], dtype=uint8),\n",
       " array([159, 160, 159, ..., 104, 107, 107], dtype=uint8),\n",
       " array([108, 113, 117, ..., 159, 157, 146], dtype=uint8),\n",
       " array([114, 120, 124, ..., 161, 158, 159], dtype=uint8),\n",
       " array([130, 134, 143, ..., 104, 102,  96], dtype=uint8),\n",
       " array([131, 133, 134, ..., 126, 129, 131], dtype=uint8),\n",
       " array([171, 166, 163, ..., 109, 109, 117], dtype=uint8),\n",
       " array([142, 142, 141, ..., 102,  95,  91], dtype=uint8),\n",
       " array([112, 112, 112, ..., 151, 156, 166], dtype=uint8),\n",
       " array([133, 137, 141, ..., 123, 133, 139], dtype=uint8),\n",
       " array([ 66,  69,  71, ..., 145, 142, 143], dtype=uint8),\n",
       " array([ 94,  90,  91, ..., 129, 134, 134], dtype=uint8),\n",
       " array([100, 105, 110, ..., 141, 141, 143], dtype=uint8),\n",
       " array([131, 121, 117, ..., 151, 156, 162], dtype=uint8),\n",
       " array([155, 150, 148, ..., 137, 136, 133], dtype=uint8),\n",
       " array([147, 144, 142, ...,  17,  15,  18], dtype=uint8),\n",
       " array([144, 144, 145, ...,  99,  99, 103], dtype=uint8),\n",
       " array([131, 128, 126, ..., 149, 149, 150], dtype=uint8),\n",
       " array([114, 114, 114, ..., 164, 167, 164], dtype=uint8),\n",
       " array([102,  97,  95, ..., 179, 180, 182], dtype=uint8),\n",
       " array([108, 114, 112, ...,  98, 105, 110], dtype=uint8),\n",
       " array([159, 159, 158, ..., 122, 123, 122], dtype=uint8),\n",
       " array([140, 141, 143, ..., 124, 127, 128], dtype=uint8),\n",
       " array([142, 143, 143, ..., 113, 113, 112], dtype=uint8),\n",
       " array([147, 150, 153, ..., 126, 132, 135], dtype=uint8),\n",
       " array([104, 106, 108, ..., 137, 138, 140], dtype=uint8),\n",
       " array([150, 146, 147, ..., 109, 110, 111], dtype=uint8),\n",
       " array([172, 171, 170, ..., 124, 127, 124], dtype=uint8),\n",
       " array([101, 101,  98, ..., 138, 135, 132], dtype=uint8),\n",
       " array([166, 166, 164, ..., 123, 122, 120], dtype=uint8),\n",
       " array([144, 144, 144, ..., 120, 123, 126], dtype=uint8),\n",
       " array([104, 104, 103, ..., 153, 158, 138], dtype=uint8),\n",
       " array([124, 126, 129, ..., 159, 160, 165], dtype=uint8),\n",
       " array([ 96, 107, 111, ..., 109, 104, 104], dtype=uint8),\n",
       " array([123, 129, 137, ..., 135, 130, 126], dtype=uint8),\n",
       " array([ 98,  99, 102, ..., 148, 150, 156], dtype=uint8),\n",
       " array([102, 100, 100, ..., 126, 131, 133], dtype=uint8),\n",
       " array([109, 108, 110, ..., 158, 158, 159], dtype=uint8),\n",
       " array([161, 169, 172, ..., 114, 113, 108], dtype=uint8),\n",
       " array([115, 115, 117, ..., 151, 148, 154], dtype=uint8),\n",
       " array([150, 150, 150, ..., 106, 110, 114], dtype=uint8),\n",
       " array([116, 117, 115, ..., 152, 146, 143], dtype=uint8),\n",
       " array([135, 134, 132, ..., 120, 117, 114], dtype=uint8),\n",
       " array([109, 109, 111, ..., 166, 171, 172], dtype=uint8),\n",
       " array([160, 152, 152, ...,  98, 102, 102], dtype=uint8),\n",
       " array([113, 117, 120, ..., 162, 166, 168], dtype=uint8),\n",
       " array([125, 126, 124, ..., 169, 172, 172], dtype=uint8),\n",
       " array([131, 121, 110, ..., 125, 128, 127], dtype=uint8),\n",
       " array([132, 133, 135, ..., 100, 105, 112], dtype=uint8),\n",
       " array([121, 118, 117, ..., 158, 157, 170], dtype=uint8),\n",
       " array([110, 112, 113, ..., 167, 167, 168], dtype=uint8),\n",
       " array([120, 120, 119, ..., 152, 155, 152], dtype=uint8),\n",
       " array([166, 162, 157, ..., 109, 103,  98], dtype=uint8),\n",
       " array([143, 142, 141, ..., 117, 120, 125], dtype=uint8),\n",
       " array([124, 124, 128, ..., 139, 142, 143], dtype=uint8),\n",
       " array([104, 108, 112, ..., 146, 163, 152], dtype=uint8),\n",
       " array([118, 115, 113, ..., 142, 146, 156], dtype=uint8),\n",
       " array([138, 135, 134, ..., 156, 156, 152], dtype=uint8),\n",
       " array([122, 119, 117, ..., 145, 144, 142], dtype=uint8),\n",
       " array([113, 113, 115, ..., 108, 114, 117], dtype=uint8),\n",
       " array([133, 135, 137, ..., 124, 128, 130], dtype=uint8),\n",
       " array([113, 112, 111, ..., 161, 162, 164], dtype=uint8),\n",
       " array([143, 146, 147, ...,  68,  61,  70], dtype=uint8),\n",
       " array([136, 136, 136, ..., 109, 115, 119], dtype=uint8),\n",
       " array([126, 133, 115, ..., 149, 148, 159], dtype=uint8),\n",
       " array([107, 107, 107, ..., 151, 149, 149], dtype=uint8),\n",
       " array([147, 148, 149, ..., 119, 122, 118], dtype=uint8),\n",
       " array([146, 146, 145, ..., 110, 108, 107], dtype=uint8),\n",
       " array([153, 152, 150, ..., 117, 121, 114], dtype=uint8),\n",
       " array([117, 116, 115, ..., 152, 148, 145], dtype=uint8),\n",
       " array([130, 133, 135, ..., 168, 175, 179], dtype=uint8),\n",
       " array([120, 121, 126, ..., 125, 125, 122], dtype=uint8),\n",
       " array([151, 151, 152, ..., 104, 101, 101], dtype=uint8),\n",
       " array([154, 153, 152, ..., 111, 109, 107], dtype=uint8),\n",
       " array([141, 143, 146, ...,  99,  96,  96], dtype=uint8),\n",
       " array([129, 128, 126, ..., 135, 145, 144], dtype=uint8),\n",
       " array([131, 129, 126, ...,  94,  96, 100], dtype=uint8),\n",
       " array([105, 104, 104, ..., 144, 146, 145], dtype=uint8),\n",
       " array([149, 150, 154, ..., 102, 109, 119], dtype=uint8),\n",
       " array([109, 113, 116, ..., 142, 139, 141], dtype=uint8),\n",
       " array([125, 126, 129, ..., 137, 138, 139], dtype=uint8),\n",
       " array([154, 159, 171, ..., 134, 136, 133], dtype=uint8),\n",
       " array([105, 106, 107, ..., 152, 151, 147], dtype=uint8),\n",
       " array([148, 150, 152, ..., 116, 116, 114], dtype=uint8),\n",
       " array([145, 136, 124, ...,  60,  53,  52], dtype=uint8),\n",
       " array([118, 118, 118, ..., 164, 163, 162], dtype=uint8),\n",
       " array([121, 124, 125, ...,  69,  71,  71], dtype=uint8),\n",
       " array([117, 118, 121, ..., 174, 172, 169], dtype=uint8),\n",
       " array([110, 110, 111, ..., 144, 146, 147], dtype=uint8),\n",
       " array([145, 145, 147, ..., 105, 108, 106], dtype=uint8),\n",
       " array([174, 171, 162, ..., 112, 115, 119], dtype=uint8),\n",
       " array([135, 137, 142, ..., 111, 114, 116], dtype=uint8),\n",
       " array([ 97,  98, 100, ..., 162, 160, 151], dtype=uint8),\n",
       " array([163, 163, 163, ..., 116, 118, 116], dtype=uint8),\n",
       " array([153, 152, 149, ..., 114, 117, 121], dtype=uint8),\n",
       " array([142, 144, 144, ...,  98, 102, 111], dtype=uint8),\n",
       " array([116, 110, 111, ..., 158, 161, 159], dtype=uint8),\n",
       " array([148, 147, 148, ..., 107, 106, 105], dtype=uint8),\n",
       " array([142, 140, 138, ..., 106, 105, 105], dtype=uint8),\n",
       " array([146, 146, 146, ..., 131, 131, 131], dtype=uint8),\n",
       " array([137, 138, 133, ..., 152, 158, 147], dtype=uint8),\n",
       " array([129, 128, 124, ..., 129, 126, 122], dtype=uint8),\n",
       " array([124, 115, 103, ..., 112, 122, 151], dtype=uint8),\n",
       " array([ 98,  95,  93, ..., 139, 141, 137], dtype=uint8),\n",
       " array([179, 176, 173, ...,  86,  99, 103], dtype=uint8),\n",
       " array([125, 128, 134, ...,  72,  65,  84], dtype=uint8),\n",
       " array([126, 127, 128, ..., 139, 139, 140], dtype=uint8),\n",
       " array([150, 147, 141, ..., 105, 107, 107], dtype=uint8),\n",
       " array([139, 145, 148, ..., 147, 144, 144], dtype=uint8),\n",
       " array([144, 146, 146, ..., 101, 104, 109], dtype=uint8),\n",
       " array([125, 125, 126, ..., 162, 163, 167], dtype=uint8),\n",
       " array([ 98,  98,  98, ..., 131, 130, 130], dtype=uint8),\n",
       " array([116, 116, 116, ..., 174, 171, 174], dtype=uint8),\n",
       " array([ 98, 102, 108, ...,  97, 100, 101], dtype=uint8),\n",
       " array([156, 156, 155, ..., 114, 116, 113], dtype=uint8),\n",
       " array([113, 106, 104, ..., 152, 152, 151], dtype=uint8),\n",
       " array([124, 123, 118, ..., 142, 143, 143], dtype=uint8),\n",
       " array([141, 141, 143, ..., 104, 109, 114], dtype=uint8),\n",
       " array([125, 123, 125, ..., 167, 169, 168], dtype=uint8),\n",
       " array([142, 143, 142, ...,  70,  73,  66], dtype=uint8),\n",
       " array([124, 122, 122, ..., 149, 154, 159], dtype=uint8),\n",
       " array([125, 127, 131, ..., 115,  93,  84], dtype=uint8),\n",
       " array([145, 144, 145, ..., 100, 104, 103], dtype=uint8),\n",
       " array([106, 107, 108, ..., 153, 163, 170], dtype=uint8),\n",
       " array([104, 105, 108, ..., 153, 156, 160], dtype=uint8),\n",
       " array([113, 112, 110, ..., 146, 150, 166], dtype=uint8),\n",
       " array([ 97,  99, 103, ...,  95, 101, 105], dtype=uint8),\n",
       " array([ 98,  98,  99, ..., 158, 156, 156], dtype=uint8),\n",
       " array([116, 115, 117, ...,  95, 107, 116], dtype=uint8),\n",
       " array([112, 115, 117, ...,  91,  90,  89], dtype=uint8),\n",
       " array([142, 145, 147, ..., 161, 159, 158], dtype=uint8),\n",
       " array([158, 158, 158, ..., 100, 101,  99], dtype=uint8),\n",
       " array([127, 119, 116, ..., 127, 129, 141], dtype=uint8),\n",
       " array([135, 139, 131, ...,  97,  94,  92], dtype=uint8),\n",
       " array([146, 144, 142, ..., 107, 109, 114], dtype=uint8),\n",
       " array([141, 141, 142, ..., 101, 103, 103], dtype=uint8),\n",
       " array([153, 153, 154, ..., 113, 112, 111], dtype=uint8),\n",
       " array([125, 128, 137, ..., 161, 158, 141], dtype=uint8),\n",
       " array([173, 173, 174, ...,  83,  93, 107], dtype=uint8),\n",
       " array([117, 118, 121, ..., 151, 153, 165], dtype=uint8),\n",
       " array([118, 122, 123, ..., 161, 163, 163], dtype=uint8),\n",
       " array([110, 115, 120, ..., 138, 140, 147], dtype=uint8),\n",
       " array([152, 152, 152, ..., 123, 125, 126], dtype=uint8),\n",
       " array([134, 135, 137, ..., 141, 136, 132], dtype=uint8),\n",
       " array([117, 119, 119, ..., 163, 151, 138], dtype=uint8),\n",
       " array([117, 117, 116, ..., 159, 173, 160], dtype=uint8),\n",
       " array([126, 129, 136, ..., 154, 155, 162], dtype=uint8),\n",
       " array([123, 120, 124, ..., 165, 163, 160], dtype=uint8),\n",
       " array([114, 116, 118, ..., 158, 158, 157], dtype=uint8),\n",
       " array([120, 119, 119, ..., 161, 160, 159], dtype=uint8),\n",
       " array([100, 100, 101, ..., 159, 165, 170], dtype=uint8),\n",
       " array([137, 145, 145, ..., 117, 116, 114], dtype=uint8),\n",
       " array([160, 154, 161, ...,  51,  48,  47], dtype=uint8),\n",
       " array([114, 114, 114, ..., 123, 126, 135], dtype=uint8),\n",
       " array([170, 166, 157, ...,  31,  31,  19], dtype=uint8),\n",
       " array([162, 160, 159, ..., 114, 116, 114], dtype=uint8),\n",
       " array([171, 165, 156, ..., 124, 125, 129], dtype=uint8),\n",
       " array([122, 120, 121, ..., 157, 157, 164], dtype=uint8),\n",
       " array([177, 175, 170, ...,  61,  56,  52], dtype=uint8),\n",
       " array([163, 163, 162, ..., 120, 119, 126], dtype=uint8),\n",
       " array([122, 122, 124, ..., 141, 144, 145], dtype=uint8),\n",
       " array([140, 142, 145, ..., 160, 160, 159], dtype=uint8),\n",
       " array([151, 152, 150, ..., 109, 113, 122], dtype=uint8),\n",
       " array([129, 113, 122, ..., 146, 145, 146], dtype=uint8),\n",
       " array([145, 146, 149, ...,  92,  92,  92], dtype=uint8),\n",
       " array([148, 145, 144, ..., 124, 126, 124], dtype=uint8),\n",
       " array([163, 163, 165, ..., 125, 118, 113], dtype=uint8),\n",
       " array([112, 104,  99, ..., 139, 140, 142], dtype=uint8),\n",
       " array([145, 144, 144, ..., 112, 117, 119], dtype=uint8),\n",
       " array([109, 108, 108, ..., 149, 147, 148], dtype=uint8),\n",
       " array([121, 118, 115, ..., 156, 161, 164], dtype=uint8),\n",
       " array([ 98, 103, 103, ..., 145, 146, 149], dtype=uint8),\n",
       " array([145, 143, 141, ..., 111, 112, 115], dtype=uint8),\n",
       " array([155, 153, 151, ..., 113, 115, 116], dtype=uint8),\n",
       " array([113, 114, 117, ..., 127, 132, 136], dtype=uint8),\n",
       " array([148, 148, 150, ..., 123, 120, 112], dtype=uint8),\n",
       " array([138, 143, 148, ..., 118, 116, 115], dtype=uint8),\n",
       " array([113, 117, 120, ..., 130, 130, 131], dtype=uint8),\n",
       " array([158, 160, 162, ..., 113, 117, 120], dtype=uint8),\n",
       " array([141, 144, 146, ..., 131, 125, 121], dtype=uint8),\n",
       " array([141, 151, 161, ..., 111, 116, 116], dtype=uint8),\n",
       " array([112, 112, 109, ..., 143, 143, 142], dtype=uint8),\n",
       " array([122, 116, 114, ..., 168, 167, 168], dtype=uint8),\n",
       " array([123, 124, 123, ..., 107, 107, 112], dtype=uint8),\n",
       " array([134, 135, 146, ...,  96,  98,  99], dtype=uint8),\n",
       " array([172, 163, 151, ..., 108,  99,  90], dtype=uint8),\n",
       " array([124, 124, 123, ..., 143, 150, 150], dtype=uint8),\n",
       " array([114, 113, 113, ..., 149, 154, 153], dtype=uint8),\n",
       " array([155, 155, 155, ..., 105, 102,  97], dtype=uint8),\n",
       " array([111, 108, 112, ..., 152, 151, 150], dtype=uint8),\n",
       " array([147, 145, 145, ..., 113, 111, 109], dtype=uint8),\n",
       " array([ 72,  77,  84, ..., 136, 130, 126], dtype=uint8),\n",
       " array([160, 158, 158, ..., 123, 118, 119], dtype=uint8),\n",
       " array([ 99, 100, 103, ..., 166, 164, 153], dtype=uint8),\n",
       " array([111, 116, 117, ..., 150, 148, 153], dtype=uint8),\n",
       " array([141, 139, 138, ..., 107, 113, 116], dtype=uint8),\n",
       " array([134, 139, 138, ...,  98,  95,  90], dtype=uint8),\n",
       " array([103, 107, 109, ..., 151, 150, 142], dtype=uint8),\n",
       " array([154, 154, 153, ..., 145, 143, 148], dtype=uint8),\n",
       " array([114, 114, 113, ..., 147, 144, 148], dtype=uint8),\n",
       " array([143, 144, 147, ...,  93,  96,  99], dtype=uint8),\n",
       " array([165, 165, 165, ..., 118, 115, 113], dtype=uint8),\n",
       " array([ 89,  93,  96, ..., 166, 167, 168], dtype=uint8),\n",
       " array([141, 141, 139, ..., 119, 119, 118], dtype=uint8),\n",
       " array([160, 159, 155, ..., 112, 116, 118], dtype=uint8),\n",
       " array([102, 108, 113, ..., 165, 163, 163], dtype=uint8),\n",
       " array([101,  99, 100, ..., 146, 151, 153], dtype=uint8),\n",
       " array([139, 138, 137, ..., 138, 138, 139], dtype=uint8),\n",
       " array([136, 139, 133, ..., 148, 149, 149], dtype=uint8),\n",
       " array([ 91,  95, 101, ..., 137, 140, 143], dtype=uint8),\n",
       " array([ 92,  94,  94, ..., 152, 150, 149], dtype=uint8),\n",
       " array([146, 148, 147, ..., 109, 111, 111], dtype=uint8),\n",
       " array([106, 105, 104, ..., 158, 153, 147], dtype=uint8),\n",
       " array([151, 148, 149, ..., 126, 126, 126], dtype=uint8),\n",
       " array([187, 184, 182, ...,  50,  46,  44], dtype=uint8),\n",
       " array([101, 103, 104, ..., 139, 138, 139], dtype=uint8),\n",
       " array([133, 134, 135, ..., 118, 119, 116], dtype=uint8),\n",
       " array([111, 111, 111, ..., 158, 155, 152], dtype=uint8),\n",
       " array([113, 124, 117, ..., 157, 156, 153], dtype=uint8),\n",
       " array([119, 111, 104, ..., 139, 138, 138], dtype=uint8),\n",
       " array([161, 163, 161, ..., 103, 100,  96], dtype=uint8),\n",
       " array([134, 132, 132, ...,  66,  62,  61], dtype=uint8),\n",
       " array([163, 163, 165, ...,  76,  76,  86], dtype=uint8),\n",
       " array([155, 156, 158, ..., 134, 133, 128], dtype=uint8),\n",
       " array([120, 120, 122, ..., 172, 161, 160], dtype=uint8),\n",
       " array([107, 106, 104, ..., 156, 158, 156], dtype=uint8),\n",
       " array([100, 101, 103, ..., 149, 150, 151], dtype=uint8),\n",
       " array([144, 141, 140, ..., 161, 152, 164], dtype=uint8),\n",
       " array([166, 166, 165, ..., 137, 128, 132], dtype=uint8),\n",
       " array([136, 132, 129, ..., 116, 123, 133], dtype=uint8),\n",
       " array([128, 129, 130, ..., 160, 162, 160], dtype=uint8),\n",
       " array([161, 159, 154, ..., 112, 112, 112], dtype=uint8),\n",
       " array([131, 131, 130, ..., 174, 173, 174], dtype=uint8),\n",
       " array([104, 110, 112, ..., 154, 155, 150], dtype=uint8),\n",
       " array([127, 130, 132, ..., 156, 162, 162], dtype=uint8),\n",
       " array([157, 157, 156, ..., 139, 143, 144], dtype=uint8),\n",
       " array([157, 161, 150, ..., 120, 121, 124], dtype=uint8),\n",
       " array([106, 105, 104, ..., 150, 153, 154], dtype=uint8),\n",
       " array([152, 149, 144, ..., 129, 139, 144], dtype=uint8),\n",
       " array([120, 122, 112, ...,  15,   0,   3], dtype=uint8),\n",
       " array([113, 112, 112, ..., 143, 144, 151], dtype=uint8),\n",
       " array([165, 164, 163, ..., 130, 138, 137], dtype=uint8),\n",
       " array([102, 101,  99, ..., 145, 144, 141], dtype=uint8),\n",
       " array([148, 147, 145, ..., 106, 111, 121], dtype=uint8),\n",
       " array([125, 122, 119, ..., 137, 139, 144], dtype=uint8),\n",
       " array([119, 117, 120, ..., 167, 164, 156], dtype=uint8),\n",
       " array([138, 136, 135, ..., 157, 148, 156], dtype=uint8),\n",
       " array([124, 128, 130, ..., 150, 153, 150], dtype=uint8),\n",
       " array([101, 104, 108, ..., 144, 149, 153], dtype=uint8),\n",
       " array([135, 125, 119, ..., 140, 140, 138], dtype=uint8),\n",
       " array([112, 121, 127, ..., 165, 170, 173], dtype=uint8),\n",
       " array([111, 106, 101, ..., 150, 154, 156], dtype=uint8),\n",
       " array([126, 125, 124, ..., 137, 137, 137], dtype=uint8),\n",
       " array([136, 135, 135, ..., 138, 140, 140], dtype=uint8),\n",
       " array([122, 123, 121, ..., 148, 150, 151], dtype=uint8),\n",
       " array([147, 147, 147, ..., 104, 107, 109], dtype=uint8),\n",
       " array([124, 122, 122, ..., 173, 177, 188], dtype=uint8),\n",
       " array([113, 113, 113, ..., 156, 154, 152], dtype=uint8),\n",
       " array([146, 148, 149, ..., 108, 106, 103], dtype=uint8),\n",
       " array([ 81,  82,  85, ...,  89, 100, 105], dtype=uint8),\n",
       " array([112, 110, 110, ..., 162, 164, 164], dtype=uint8),\n",
       " array([155, 154, 153, ..., 128, 126, 124], dtype=uint8),\n",
       " array([105, 109, 117, ...,  93,  92,  91], dtype=uint8),\n",
       " array([132, 133, 135, ..., 112, 113, 113], dtype=uint8),\n",
       " array([145, 144, 146, ..., 103, 109, 111], dtype=uint8),\n",
       " array([139, 140, 144, ...,  95,  96,  98], dtype=uint8),\n",
       " array([108, 109, 112, ..., 146, 143, 144], dtype=uint8),\n",
       " array([163, 159, 153, ...,  31,  32,  30], dtype=uint8),\n",
       " array([104,  91,  82, ..., 126, 126, 124], dtype=uint8),\n",
       " array([123, 130, 137, ..., 138, 141, 135], dtype=uint8),\n",
       " array([121, 123, 127, ..., 154, 161, 168], dtype=uint8),\n",
       " array([112, 111, 109, ..., 141, 145, 154], dtype=uint8),\n",
       " array([151, 152, 154, ..., 111, 107, 102], dtype=uint8),\n",
       " array([149, 154, 152, ..., 110, 114, 118], dtype=uint8),\n",
       " array([160, 154, 153, ..., 115, 117, 117], dtype=uint8),\n",
       " array([138, 136, 139, ..., 178, 176, 175], dtype=uint8),\n",
       " array([108, 110, 111, ..., 142, 139, 139], dtype=uint8),\n",
       " array([126, 121, 111, ..., 121, 119, 123], dtype=uint8),\n",
       " array([138, 138, 139, ..., 120, 118, 120], dtype=uint8),\n",
       " array([159, 157, 155, ..., 100,  89,  84], dtype=uint8),\n",
       " array([105, 102, 102, ..., 114, 115, 114], dtype=uint8),\n",
       " array([116, 116, 117, ..., 158, 163, 161], dtype=uint8),\n",
       " array([103, 101,  99, ..., 165, 166, 167], dtype=uint8),\n",
       " array([107, 108, 110, ..., 145, 141, 136], dtype=uint8),\n",
       " array([129, 131, 134, ..., 104, 102,  99], dtype=uint8),\n",
       " array([171, 160, 151, ...,  93,  97, 117], dtype=uint8),\n",
       " array([152, 153, 153, ...,  90,  91,  89], dtype=uint8),\n",
       " array([109, 108, 110, ..., 145, 147, 147], dtype=uint8),\n",
       " array([135, 133, 128, ..., 122, 126, 119], dtype=uint8),\n",
       " array([101, 105, 105, ..., 165, 168, 172], dtype=uint8),\n",
       " array([161, 150, 132, ..., 104, 103, 103], dtype=uint8),\n",
       " array([168, 170, 172, ..., 111, 113, 114], dtype=uint8),\n",
       " array([116, 116, 118, ..., 180, 180, 179], dtype=uint8),\n",
       " array([ 97, 101, 103, ..., 150, 148, 147], dtype=uint8),\n",
       " array([113, 113, 113, ..., 150, 158, 165], dtype=uint8),\n",
       " array([143, 143, 139, ..., 108, 115, 118], dtype=uint8),\n",
       " array([166, 157, 158, ..., 109, 107, 107], dtype=uint8),\n",
       " array([185, 170, 183, ...,  90,  90,  93], dtype=uint8),\n",
       " array([145, 152, 162, ..., 135, 135, 133], dtype=uint8),\n",
       " array([117, 111, 102, ..., 179, 181, 169], dtype=uint8),\n",
       " array([103, 103, 104, ..., 137, 136, 140], dtype=uint8),\n",
       " array([125, 123, 116, ..., 100, 103, 103], dtype=uint8),\n",
       " array([110, 109, 107, ..., 119, 115, 117], dtype=uint8),\n",
       " array([144, 145, 149, ..., 123, 126, 120], dtype=uint8),\n",
       " array([162, 161, 158, ..., 127, 125, 129], dtype=uint8),\n",
       " array([154, 157, 162, ..., 116, 118, 115], dtype=uint8),\n",
       " array([169, 170, 167, ...,  72,  66,  62], dtype=uint8),\n",
       " array([109, 109, 111, ..., 150, 153, 160], dtype=uint8),\n",
       " array([145, 144, 144, ..., 106, 106, 100], dtype=uint8),\n",
       " array([140, 140, 139, ..., 101, 100, 101], dtype=uint8),\n",
       " array([104, 101,  97, ..., 156, 155, 155], dtype=uint8),\n",
       " array([109, 110, 110, ..., 157, 157, 160], dtype=uint8),\n",
       " array([163, 162, 160, ..., 122, 125, 120], dtype=uint8),\n",
       " array([109, 106, 106, ..., 152, 154, 154], dtype=uint8),\n",
       " array([152, 151, 149, ..., 113, 111, 103], dtype=uint8),\n",
       " array([112, 107, 105, ..., 149, 158, 169], dtype=uint8),\n",
       " array([143, 143, 146, ..., 108, 111, 114], dtype=uint8),\n",
       " array([152, 153, 153, ..., 112, 109, 110], dtype=uint8),\n",
       " array([142, 141, 141, ...,  97, 105, 107], dtype=uint8),\n",
       " array([111, 112, 113, ..., 136, 132, 130], dtype=uint8),\n",
       " array([128, 130, 133, ..., 130, 129, 128], dtype=uint8),\n",
       " array([125, 124, 122, ..., 163, 159, 154], dtype=uint8),\n",
       " array([119, 113, 110, ..., 152, 153, 152], dtype=uint8),\n",
       " array([149, 151, 150, ...,  70,  83,  91], dtype=uint8),\n",
       " array([105, 107, 109, ..., 142, 137, 128], dtype=uint8),\n",
       " array([170, 162, 152, ...,  93,  93,  97], dtype=uint8),\n",
       " array([ 98,  98,  98, ..., 156, 157, 159], dtype=uint8),\n",
       " array([148, 150, 152, ..., 106, 105, 109], dtype=uint8),\n",
       " array([159, 159, 157, ..., 119, 113, 111], dtype=uint8),\n",
       " array([163, 166, 166, ..., 111, 122, 111], dtype=uint8),\n",
       " array([129, 135, 134, ..., 110, 112, 114], dtype=uint8),\n",
       " array([159, 162, 165, ..., 122, 119, 119], dtype=uint8),\n",
       " array([105, 107, 110, ..., 155, 153, 152], dtype=uint8),\n",
       " array([ 92,  93,  94, ..., 150, 145, 142], dtype=uint8),\n",
       " array([106, 107, 112, ..., 163, 164, 163], dtype=uint8),\n",
       " array([143, 146, 148, ...,  42,  63,  85], dtype=uint8),\n",
       " array([101, 101, 103, ..., 146, 149, 153], dtype=uint8),\n",
       " array([165, 165, 167, ...,  92,  91,  92], dtype=uint8),\n",
       " array([101, 105, 110, ..., 152, 162, 158], dtype=uint8),\n",
       " array([ 94,  97,  99, ..., 147, 150, 149], dtype=uint8),\n",
       " array([187, 187, 184, ..., 143, 140, 137], dtype=uint8),\n",
       " array([137, 137, 140, ..., 119, 119, 112], dtype=uint8),\n",
       " array([167, 159, 157, ..., 115, 112, 119], dtype=uint8),\n",
       " array([125, 123, 134, ..., 127, 126, 127], dtype=uint8),\n",
       " array([140, 138, 138, ..., 120, 120, 119], dtype=uint8),\n",
       " array([101, 102, 103, ..., 152, 150, 144], dtype=uint8),\n",
       " array([117, 120, 121, ...,  85,  86,  78], dtype=uint8),\n",
       " array([ 97,  98,  97, ..., 166, 159, 171], dtype=uint8),\n",
       " array([ 94,  95,  97, ..., 129, 127, 132], dtype=uint8),\n",
       " array([138, 140, 142, ..., 102, 102,  97], dtype=uint8),\n",
       " array([132, 133, 135, ..., 156, 146, 143], dtype=uint8),\n",
       " array([109, 110, 115, ..., 168, 172, 172], dtype=uint8),\n",
       " array([113, 114, 115, ..., 155, 156, 153], dtype=uint8),\n",
       " array([123, 125, 126, ..., 168, 170, 176], dtype=uint8),\n",
       " array([166, 166, 168, ..., 111, 106, 101], dtype=uint8),\n",
       " array([149, 148, 150, ...,  53,  53,  59], dtype=uint8),\n",
       " array([128, 126, 126, ...,  88,  92,  82], dtype=uint8),\n",
       " array([155, 155, 154, ..., 122, 125, 127], dtype=uint8),\n",
       " array([107, 107, 108, ..., 158, 158, 158], dtype=uint8),\n",
       " array([107, 105, 108, ..., 139, 141, 144], dtype=uint8),\n",
       " array([165, 166, 166, ..., 126, 129, 133], dtype=uint8),\n",
       " array([156, 156, 157, ..., 106, 112, 115], dtype=uint8),\n",
       " array([115, 113, 108, ..., 152, 152, 141], dtype=uint8),\n",
       " array([138, 141, 144, ..., 105, 108, 100], dtype=uint8),\n",
       " array([161, 161, 162, ..., 116, 116, 121], dtype=uint8),\n",
       " array([105, 106, 105, ..., 151, 154, 156], dtype=uint8),\n",
       " array([174, 160, 161, ..., 105, 113, 119], dtype=uint8),\n",
       " array([122, 127, 129, ...,  95,  97, 101], dtype=uint8),\n",
       " array([120, 117, 116, ..., 137, 122, 113], dtype=uint8),\n",
       " array([149, 149, 149, ..., 120, 120, 120], dtype=uint8),\n",
       " array([116, 116, 115, ..., 154, 152, 143], dtype=uint8),\n",
       " array([100, 102, 105, ..., 161, 161, 161], dtype=uint8),\n",
       " array([119, 121, 123, ..., 159, 159, 162], dtype=uint8),\n",
       " array([103, 105, 108, ..., 153, 154, 157], dtype=uint8),\n",
       " array([ 86,  89,  93, ..., 152, 152, 152], dtype=uint8),\n",
       " array([115, 118, 119, ..., 155, 154, 153], dtype=uint8),\n",
       " array([157, 159, 158, ..., 149, 148, 140], dtype=uint8),\n",
       " array([101,  99,  98, ..., 142, 148, 151], dtype=uint8),\n",
       " array([118, 115, 110, ..., 159, 166, 168], dtype=uint8),\n",
       " array([143, 139, 134, ...,  66,  64,  61], dtype=uint8),\n",
       " array([ 94,  95,  97, ..., 152, 151, 148], dtype=uint8),\n",
       " array([142, 142, 146, ..., 106, 106, 104], dtype=uint8),\n",
       " array([134, 134, 134, ..., 102, 108, 112], dtype=uint8),\n",
       " array([109, 110, 116, ...,  97, 103, 105], dtype=uint8),\n",
       " array([115, 113, 111, ..., 149, 146, 150], dtype=uint8),\n",
       " array([141, 141, 141, ..., 112, 113, 113], dtype=uint8),\n",
       " array([146, 148, 148, ..., 129, 134, 131], dtype=uint8),\n",
       " array([101, 103, 105, ..., 143, 156, 163], dtype=uint8),\n",
       " array([111, 115, 117, ..., 137, 137, 135], dtype=uint8),\n",
       " array([112, 112, 110, ..., 154, 149, 144], dtype=uint8),\n",
       " array([145, 145, 149, ...,  62,  62,  62], dtype=uint8),\n",
       " array([155, 157, 157, ..., 134, 130, 126], dtype=uint8),\n",
       " array([127, 120, 121, ..., 169, 168, 159], dtype=uint8),\n",
       " array([109, 113, 116, ..., 150, 154, 156], dtype=uint8),\n",
       " array([114, 114, 111, ..., 142, 140, 141], dtype=uint8),\n",
       " array([146, 146, 147, ...,  87,  90,  89], dtype=uint8),\n",
       " array([110, 111, 111, ..., 150, 148, 162], dtype=uint8),\n",
       " array([112, 110, 110, ..., 141, 140, 141], dtype=uint8),\n",
       " array([150, 146, 150, ..., 116, 117, 115], dtype=uint8),\n",
       " array([ 68,  69,  79, ...,  97,  98, 100], dtype=uint8),\n",
       " array([148, 148, 149, ...,  81,  84,  89], dtype=uint8),\n",
       " array([166, 163, 161, ..., 136, 134, 130], dtype=uint8),\n",
       " array([138, 137, 137, ..., 141, 143, 139], dtype=uint8),\n",
       " array([125, 126, 128, ..., 135, 132, 131], dtype=uint8),\n",
       " array([ 95,  93,  94, ..., 142, 145, 156], dtype=uint8),\n",
       " array([123, 127, 127, ..., 163, 163, 163], dtype=uint8),\n",
       " array([120, 116, 121, ..., 145, 144, 144], dtype=uint8),\n",
       " array([159, 163, 166, ..., 112, 117, 125], dtype=uint8),\n",
       " array([160, 161, 159, ..., 109, 110, 111], dtype=uint8),\n",
       " array([100,  98,  98, ..., 148, 148, 143], dtype=uint8),\n",
       " array([ 94,  95,  96, ..., 150, 153, 155], dtype=uint8),\n",
       " array([114, 112, 110, ..., 107, 107, 110], dtype=uint8),\n",
       " array([104, 104, 101, ..., 157, 153, 151], dtype=uint8),\n",
       " array([111, 110, 109, ..., 159, 156, 150], dtype=uint8),\n",
       " array([ 98,  95,  92, ..., 126, 124, 122], dtype=uint8),\n",
       " array([139, 141, 146, ...,  95,  98, 100], dtype=uint8),\n",
       " array([163, 164, 165, ..., 114, 113, 112], dtype=uint8),\n",
       " array([152, 152, 155, ..., 101, 101, 106], dtype=uint8),\n",
       " array([155, 157, 158, ..., 136, 134, 139], dtype=uint8),\n",
       " array([158, 147, 145, ..., 109, 116, 126], dtype=uint8),\n",
       " array([138, 137, 139, ..., 106, 104, 111], dtype=uint8),\n",
       " array([163, 164, 166, ..., 128, 128, 126], dtype=uint8),\n",
       " array([163, 163, 164, ..., 104, 103, 105], dtype=uint8),\n",
       " array([130, 130, 133, ...,  74,  81,  87], dtype=uint8),\n",
       " array([148, 146, 142, ...,  97, 101, 103], dtype=uint8),\n",
       " array([111, 115, 115, ..., 150, 159, 164], dtype=uint8),\n",
       " array([122, 122, 125, ..., 176, 172, 170], dtype=uint8),\n",
       " array([150, 150, 151, ...,  88,  89,  92], dtype=uint8),\n",
       " array([150, 150, 149, ..., 117, 115, 114], dtype=uint8),\n",
       " array([115, 119, 121, ..., 152, 146, 143], dtype=uint8),\n",
       " array([151, 151, 151, ..., 114, 115, 116], dtype=uint8),\n",
       " array([128, 128, 127, ..., 101,  99,  95], dtype=uint8),\n",
       " array([108, 109, 113, ..., 161, 156, 151], dtype=uint8),\n",
       " array([129, 130, 133, ...,  95,  95,  96], dtype=uint8),\n",
       " array([117, 119, 123, ..., 103, 103, 102], dtype=uint8),\n",
       " array([119, 123, 125, ..., 163, 164, 157], dtype=uint8),\n",
       " array([164, 164, 163, ..., 112, 113, 116], dtype=uint8),\n",
       " array([110, 105, 103, ..., 162, 160, 161], dtype=uint8),\n",
       " array([145, 151, 161, ...,  53,  47,  48], dtype=uint8),\n",
       " array([105,  94,  91, ..., 147, 149, 150], dtype=uint8),\n",
       " array([161, 164, 156, ..., 109, 111, 107], dtype=uint8),\n",
       " array([156, 156, 158, ..., 112, 111, 109], dtype=uint8),\n",
       " array([111, 110, 110, ..., 151, 154, 160], dtype=uint8),\n",
       " array([ 73,  75,  77, ..., 126, 128, 126], dtype=uint8),\n",
       " array([130, 134, 138, ..., 109, 104, 100], dtype=uint8),\n",
       " array([109, 110, 113, ..., 152, 147, 143], dtype=uint8),\n",
       " array([152, 156, 157, ...,  99,  98, 101], dtype=uint8),\n",
       " array([108, 115, 112, ..., 155, 160, 165], dtype=uint8),\n",
       " array([ 98, 100, 103, ..., 154, 156, 157], dtype=uint8),\n",
       " array([132, 137, 137, ..., 159, 165, 157], dtype=uint8),\n",
       " array([110, 112, 114, ..., 155, 143, 148], dtype=uint8),\n",
       " array([160, 162, 161, ..., 125, 126, 126], dtype=uint8),\n",
       " array([118, 118, 116, ..., 143, 147, 155], dtype=uint8),\n",
       " array([101, 101, 103, ..., 146, 145, 146], dtype=uint8),\n",
       " array([120, 121, 120, ..., 162, 160, 153], dtype=uint8),\n",
       " array([146, 159, 146, ..., 108, 109, 109], dtype=uint8),\n",
       " array([101, 102, 107, ..., 149, 150, 146], dtype=uint8),\n",
       " array([116, 118, 119, ..., 168, 165, 163], dtype=uint8),\n",
       " array([118, 117, 118, ..., 142, 148, 157], dtype=uint8),\n",
       " array([ 98, 103, 101, ..., 150, 150, 151], dtype=uint8),\n",
       " array([111, 115, 116, ..., 141, 138, 137], dtype=uint8),\n",
       " array([143, 141, 139, ..., 102, 102, 102], dtype=uint8),\n",
       " array([143, 143, 144, ..., 115, 116, 117], dtype=uint8),\n",
       " array([162, 162, 162, ..., 127, 129, 125], dtype=uint8),\n",
       " array([165, 163, 163, ..., 110, 112, 114], dtype=uint8),\n",
       " array([ 97,  96,  93, ..., 147, 147, 152], dtype=uint8),\n",
       " array([123, 126, 133, ...,  60,  62,  65], dtype=uint8),\n",
       " array([156, 151, 154, ..., 101, 104, 106], dtype=uint8),\n",
       " array([138, 136, 133, ...,  98,  98, 100], dtype=uint8),\n",
       " array([147, 151, 149, ..., 121, 119, 114], dtype=uint8),\n",
       " array([133, 131, 129, ..., 143, 140, 137], dtype=uint8),\n",
       " array([109, 111, 118, ..., 130, 146, 157], dtype=uint8),\n",
       " array([168, 168, 169, ..., 110, 114, 116], dtype=uint8),\n",
       " array([154, 154, 156, ..., 142, 142, 141], dtype=uint8),\n",
       " array([139, 141, 142, ..., 128, 116, 108], dtype=uint8),\n",
       " array([125, 125, 127, ..., 100, 104, 107], dtype=uint8),\n",
       " array([105, 111, 112, ..., 157, 163, 169], dtype=uint8),\n",
       " array([ 87,  83,  77, ..., 129, 119, 113], dtype=uint8),\n",
       " array([106, 104, 102, ..., 177, 175, 161], dtype=uint8),\n",
       " array([106, 106, 108, ..., 151, 147, 143], dtype=uint8),\n",
       " array([119, 119, 121, ..., 164, 165, 163], dtype=uint8),\n",
       " array([148, 149, 148, ...,  96,  90,  88], dtype=uint8),\n",
       " array([ 79,  79,  82, ..., 128, 126, 124], dtype=uint8),\n",
       " array([114, 113, 112, ..., 164, 164, 161], dtype=uint8),\n",
       " array([104, 105, 106, ..., 140, 135, 130], dtype=uint8),\n",
       " array([131, 132, 133, ..., 172, 171, 168], dtype=uint8),\n",
       " array([163, 166, 165, ..., 125, 125, 119], dtype=uint8),\n",
       " array([161, 159, 146, ..., 117, 107, 118], dtype=uint8),\n",
       " array([105, 107, 109, ..., 152, 151, 150], dtype=uint8),\n",
       " array([104, 101, 100, ..., 150, 152, 152], dtype=uint8),\n",
       " array([159, 155, 150, ..., 118, 116, 112], dtype=uint8),\n",
       " array([151, 156, 156, ..., 109, 109, 112], dtype=uint8),\n",
       " array([112, 113, 115, ..., 152, 153, 157], dtype=uint8),\n",
       " array([150, 143, 133, ...,  76,  77,  79], dtype=uint8),\n",
       " array([147, 148, 151, ..., 127, 127, 121], dtype=uint8),\n",
       " array([162, 167, 170, ..., 117, 118, 117], dtype=uint8),\n",
       " array([121, 120, 127, ..., 153, 150, 146], dtype=uint8),\n",
       " array([140, 135, 127, ..., 145, 133, 138], dtype=uint8),\n",
       " array([142, 141, 139, ..., 113, 113, 112], dtype=uint8),\n",
       " array([163, 160, 156, ...,  95,  94,  95], dtype=uint8),\n",
       " array([113, 117, 124, ..., 162, 167, 159], dtype=uint8),\n",
       " array([187, 188, 187, ...,  66,  73,  79], dtype=uint8),\n",
       " array([130, 121, 116, ..., 153, 154, 155], dtype=uint8),\n",
       " array([122, 117, 110, ...,  85,  80,  78], dtype=uint8),\n",
       " array([103, 104, 105, ..., 143, 150, 157], dtype=uint8),\n",
       " array([137, 140, 143, ...,  16,  23,  25], dtype=uint8),\n",
       " array([148, 146, 145, ..., 118, 121, 122], dtype=uint8),\n",
       " array([ 96,  97, 101, ..., 147, 151, 152], dtype=uint8),\n",
       " array([128, 128, 128, ...,  92,  95,  97], dtype=uint8),\n",
       " array([168, 168, 168, ..., 117, 120, 129], dtype=uint8),\n",
       " array([ 99,  98, 100, ..., 155, 155, 155], dtype=uint8),\n",
       " array([100, 102, 105, ..., 160, 159, 158], dtype=uint8),\n",
       " array([140, 142, 146, ..., 123, 124, 121], dtype=uint8),\n",
       " array([160, 159, 157, ..., 105, 104, 100], dtype=uint8),\n",
       " array([ 93,  96,  97, ..., 145, 148, 150], dtype=uint8),\n",
       " array([ 99, 102, 108, ..., 150, 151, 154], dtype=uint8),\n",
       " array([ 77,  87,  74, ..., 137, 139, 137], dtype=uint8),\n",
       " array([172, 172, 169, ..., 150, 149, 144], dtype=uint8),\n",
       " array([151, 153, 154, ..., 135, 132, 129], dtype=uint8),\n",
       " array([150, 147, 145, ..., 101, 107, 120], dtype=uint8),\n",
       " ...]"
      ]
     },
     "execution_count": 51,
     "metadata": {},
     "output_type": "execute_result"
    }
   ],
   "source": [
    "features"
   ]
  },
  {
   "cell_type": "code",
   "execution_count": null,
   "id": "b8a32aab",
   "metadata": {},
   "outputs": [],
   "source": []
  }
 ],
 "metadata": {
  "kernelspec": {
   "display_name": "Python 3 (ipykernel)",
   "language": "python",
   "name": "python3"
  },
  "language_info": {
   "codemirror_mode": {
    "name": "ipython",
    "version": 3
   },
   "file_extension": ".py",
   "mimetype": "text/x-python",
   "name": "python",
   "nbconvert_exporter": "python",
   "pygments_lexer": "ipython3",
   "version": "3.9.7"
  }
 },
 "nbformat": 4,
 "nbformat_minor": 5
}
