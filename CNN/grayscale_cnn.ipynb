{
 "cells": [
  {
   "cell_type": "code",
   "execution_count": 1,
   "id": "471f0293",
   "metadata": {},
   "outputs": [],
   "source": [
    "import pandas as pd\n",
    "import numpy as np\n",
    "import tensorflow as tf"
   ]
  },
  {
   "cell_type": "code",
   "execution_count": 2,
   "id": "392d898f",
   "metadata": {},
   "outputs": [],
   "source": [
    "import os\n",
    "os.chdir('D://DKIT//dissertation//Dataset_of_Tomato_Leaves//plantvillage//Preprocessed_data//64//vector//')"
   ]
  },
  {
   "cell_type": "code",
   "execution_count": 3,
   "id": "7b9d7788",
   "metadata": {},
   "outputs": [],
   "source": [
    "#reading numpy array data\n",
    "pixels = np.load('gray_test.npy')\n",
    "#reading csv file\n",
    "data = pd.read_csv('gray_data.csv')"
   ]
  },
  {
   "cell_type": "code",
   "execution_count": 4,
   "id": "71e5d372",
   "metadata": {},
   "outputs": [],
   "source": [
    "features = pd.DataFrame(pixels)\n",
    "features = features.values"
   ]
  },
  {
   "cell_type": "code",
   "execution_count": 5,
   "id": "4d072dd4",
   "metadata": {},
   "outputs": [
    {
     "data": {
      "text/plain": [
       "array([[146, 146, 146, ..., 111, 114, 116],\n",
       "       [174, 173, 171, ..., 132, 129, 128],\n",
       "       [125, 125, 125, ...,  59,  57,  55],\n",
       "       ...,\n",
       "       [120, 120, 121, ..., 130, 129, 127],\n",
       "       [172, 171, 169, ..., 118, 118, 118],\n",
       "       [104, 102,  99, ..., 190, 192, 195]], dtype=uint8)"
      ]
     },
     "execution_count": 5,
     "metadata": {},
     "output_type": "execute_result"
    }
   ],
   "source": [
    "features"
   ]
  },
  {
   "cell_type": "code",
   "execution_count": 6,
   "id": "3dd5e2fb",
   "metadata": {},
   "outputs": [],
   "source": [
    "target = data['disease']"
   ]
  },
  {
   "cell_type": "code",
   "execution_count": 7,
   "id": "6712a2f3",
   "metadata": {},
   "outputs": [],
   "source": [
    "cat = target.unique()"
   ]
  },
  {
   "cell_type": "code",
   "execution_count": 8,
   "id": "611357ef",
   "metadata": {},
   "outputs": [],
   "source": [
    "vals = list(range(0,10))"
   ]
  },
  {
   "cell_type": "code",
   "execution_count": 9,
   "id": "6dfb5bb6",
   "metadata": {},
   "outputs": [],
   "source": [
    "for i in range(0,10):\n",
    "    target.replace(to_replace=cat[i],value = vals[i],inplace = True)"
   ]
  },
  {
   "cell_type": "code",
   "execution_count": 10,
   "id": "91043a10",
   "metadata": {},
   "outputs": [
    {
     "data": {
      "text/plain": [
       "0        0\n",
       "1        0\n",
       "2        0\n",
       "3        0\n",
       "4        0\n",
       "        ..\n",
       "14526    9\n",
       "14527    9\n",
       "14528    9\n",
       "14529    9\n",
       "14530    9\n",
       "Name: disease, Length: 14531, dtype: int64"
      ]
     },
     "execution_count": 10,
     "metadata": {},
     "output_type": "execute_result"
    }
   ],
   "source": [
    "target"
   ]
  },
  {
   "cell_type": "code",
   "execution_count": 11,
   "id": "459783eb",
   "metadata": {},
   "outputs": [],
   "source": [
    "target = target.values"
   ]
  },
  {
   "cell_type": "code",
   "execution_count": 12,
   "id": "6e73aae5",
   "metadata": {},
   "outputs": [],
   "source": [
    "target = target.reshape(14531, 1)"
   ]
  },
  {
   "cell_type": "code",
   "execution_count": 13,
   "id": "e34ed7ca",
   "metadata": {},
   "outputs": [
    {
     "data": {
      "text/plain": [
       "array([[0],\n",
       "       [0],\n",
       "       [0],\n",
       "       ...,\n",
       "       [9],\n",
       "       [9],\n",
       "       [9]], dtype=int64)"
      ]
     },
     "execution_count": 13,
     "metadata": {},
     "output_type": "execute_result"
    }
   ],
   "source": [
    "target"
   ]
  },
  {
   "cell_type": "code",
   "execution_count": 14,
   "id": "00da48d2",
   "metadata": {},
   "outputs": [],
   "source": [
    "#splitting the data to test and train\n",
    "from sklearn.model_selection import train_test_split\n",
    "xtrain,xtest,ytrain,ytest = train_test_split(features,target, test_size=0.20, random_state=24)"
   ]
  },
  {
   "cell_type": "code",
   "execution_count": 15,
   "id": "0343eaf4",
   "metadata": {},
   "outputs": [],
   "source": [
    "from sklearn.metrics import accuracy_score\n",
    "from keras.models import Sequential\n",
    "from keras.layers import Dense, Dropout, Conv2D, MaxPool2D, Flatten\n",
    "from keras.utils import np_utils"
   ]
  },
  {
   "cell_type": "code",
   "execution_count": 16,
   "id": "b3b94777",
   "metadata": {},
   "outputs": [],
   "source": [
    "xtrain = xtrain.reshape(xtrain.shape[0], 64, 64, 1)\n",
    "xtest = xtest.reshape(xtest.shape[0], 64, 64, 1)"
   ]
  },
  {
   "cell_type": "code",
   "execution_count": 17,
   "id": "90bb5d7b",
   "metadata": {},
   "outputs": [],
   "source": [
    "xtrain = xtrain.astype('float32')\n",
    "xtest = xtest.astype('float32')"
   ]
  },
  {
   "cell_type": "code",
   "execution_count": 18,
   "id": "619a7c1a",
   "metadata": {},
   "outputs": [],
   "source": [
    "# normalizing the data to help with the training\n",
    "xtrain /= 255\n",
    "xtest /= 255"
   ]
  },
  {
   "cell_type": "code",
   "execution_count": 19,
   "id": "9808daf1",
   "metadata": {},
   "outputs": [],
   "source": [
    "# one-hot encoding using keras' numpy-related utilities\n",
    "n_classes = 10\n",
    "ytrain = np_utils.to_categorical(ytrain, n_classes)\n",
    "ytest = np_utils.to_categorical(ytest, n_classes)"
   ]
  },
  {
   "cell_type": "code",
   "execution_count": 20,
   "id": "c449e16e",
   "metadata": {},
   "outputs": [],
   "source": [
    "# building a linear stack of layers with the sequential model\n",
    "gray_cnn_model = Sequential()\n",
    "\n",
    "# convolutional layer 1\n",
    "gray_cnn_model.add(Conv2D(50, kernel_size=(3,3), strides=(1,1), padding='same', activation='relu', input_shape=(64, 64, 1)))\n",
    "\n",
    "# convolutional layer 2\n",
    "gray_cnn_model.add(Conv2D(75, kernel_size=(3,3), strides=(1,1), padding='same', activation='relu'))\n",
    "gray_cnn_model.add(MaxPool2D(pool_size=(2,2)))\n",
    "gray_cnn_model.add(Dropout(0.25))\n",
    "# convolutional layer 3\n",
    "gray_cnn_model.add(Conv2D(125, kernel_size=(3,3), strides=(1,1), padding='same', activation='relu'))\n",
    "gray_cnn_model.add(MaxPool2D(pool_size=(2,2)))\n",
    "gray_cnn_model.add(Dropout(0.25))\n",
    "\n",
    "# flatten output of conv\n",
    "gray_cnn_model.add(Flatten())\n",
    "\n",
    "# hidden layer\n",
    "gray_cnn_model.add(Dense(500, activation='relu'))\n",
    "gray_cnn_model.add(Dropout(0.4))\n",
    "gray_cnn_model.add(Dense(250, activation='relu'))\n",
    "gray_cnn_model.add(Dropout(0.3))\n",
    "# output layer\n",
    "gray_cnn_model.add(Dense(10, activation='softmax'))\n",
    "\n",
    "# compiling the sequential model\n",
    "gray_cnn_model.compile(loss='categorical_crossentropy', metrics=['accuracy'], optimizer='adam')"
   ]
  },
  {
   "cell_type": "code",
   "execution_count": 21,
   "id": "fd6aa898",
   "metadata": {},
   "outputs": [
    {
     "name": "stdout",
     "output_type": "stream",
     "text": [
      "Model: \"sequential\"\n",
      "_________________________________________________________________\n",
      " Layer (type)                Output Shape              Param #   \n",
      "=================================================================\n",
      " conv2d (Conv2D)             (None, 64, 64, 50)        500       \n",
      "                                                                 \n",
      " conv2d_1 (Conv2D)           (None, 64, 64, 75)        33825     \n",
      "                                                                 \n",
      " max_pooling2d (MaxPooling2D  (None, 32, 32, 75)       0         \n",
      " )                                                               \n",
      "                                                                 \n",
      " dropout (Dropout)           (None, 32, 32, 75)        0         \n",
      "                                                                 \n",
      " conv2d_2 (Conv2D)           (None, 32, 32, 125)       84500     \n",
      "                                                                 \n",
      " max_pooling2d_1 (MaxPooling  (None, 16, 16, 125)      0         \n",
      " 2D)                                                             \n",
      "                                                                 \n",
      " dropout_1 (Dropout)         (None, 16, 16, 125)       0         \n",
      "                                                                 \n",
      " flatten (Flatten)           (None, 32000)             0         \n",
      "                                                                 \n",
      " dense (Dense)               (None, 500)               16000500  \n",
      "                                                                 \n",
      " dropout_2 (Dropout)         (None, 500)               0         \n",
      "                                                                 \n",
      " dense_1 (Dense)             (None, 250)               125250    \n",
      "                                                                 \n",
      " dropout_3 (Dropout)         (None, 250)               0         \n",
      "                                                                 \n",
      " dense_2 (Dense)             (None, 10)                2510      \n",
      "                                                                 \n",
      "=================================================================\n",
      "Total params: 16,247,085\n",
      "Trainable params: 16,247,085\n",
      "Non-trainable params: 0\n",
      "_________________________________________________________________\n"
     ]
    }
   ],
   "source": [
    "gray_cnn_model.summary()"
   ]
  },
  {
   "cell_type": "code",
   "execution_count": 23,
   "id": "9ce6d0d5",
   "metadata": {},
   "outputs": [
    {
     "name": "stdout",
     "output_type": "stream",
     "text": [
      "Epoch 1/5\n",
      "364/364 [==============================] - 172s 472ms/step - loss: 0.9747 - accuracy: 0.6580 - val_loss: 0.7015 - val_accuracy: 0.7606\n",
      "Epoch 2/5\n",
      "364/364 [==============================] - 181s 496ms/step - loss: 0.7643 - accuracy: 0.7310 - val_loss: 0.7587 - val_accuracy: 0.7289\n",
      "Epoch 3/5\n",
      "364/364 [==============================] - 178s 490ms/step - loss: 0.6663 - accuracy: 0.7695 - val_loss: 0.5524 - val_accuracy: 0.8139\n",
      "Epoch 4/5\n",
      "364/364 [==============================] - 178s 490ms/step - loss: 0.5638 - accuracy: 0.8046 - val_loss: 0.5498 - val_accuracy: 0.8087\n",
      "Epoch 5/5\n",
      "364/364 [==============================] - 178s 490ms/step - loss: 0.4823 - accuracy: 0.8297 - val_loss: 0.5582 - val_accuracy: 0.8074\n"
     ]
    }
   ],
   "source": [
    "# training the model for 10 epochs\n",
    "test_run = gray_cnn_model.fit(xtrain, ytrain, epochs=5, validation_data=(xtest, ytest))"
   ]
  },
  {
   "cell_type": "code",
   "execution_count": 26,
   "id": "5e55371c",
   "metadata": {},
   "outputs": [
    {
     "data": {
      "image/png": "[encoded data removed]",
      "text/plain": [
       "<Figure size 432x288 with 1 Axes>"
      ]
     },
     "metadata": {
      "needs_background": "light"
     },
     "output_type": "display_data"
    }
   ],
   "source": [
    "import matplotlib.pyplot as plt\n",
    "plt.plot(test_run.history['accuracy'], label='accuracy')\n",
    "plt.plot(test_run.history['val_accuracy'], label = 'val_accuracy')\n",
    "plt.xlabel('Epoch')\n",
    "plt.ylabel('Accuracy')\n",
    "plt.legend()\n",
    "plt.show()"
   ]
  },
  {
   "cell_type": "code",
   "execution_count": 27,
   "id": "01416c37",
   "metadata": {},
   "outputs": [
    {
     "name": "stdout",
     "output_type": "stream",
     "text": [
      "Test loss: 0.55817049741745\n",
      "Test accuracy: 0.8073615431785583\n"
     ]
    }
   ],
   "source": [
    "score = gray_cnn_model.evaluate(xtest, ytest, verbose = 0) \n",
    "\n",
    "print('Test loss:', score[0]) \n",
    "print('Test accuracy:', score[1])"
   ]
  },
  {
   "cell_type": "code",
   "execution_count": 28,
   "id": "35ca3742",
   "metadata": {},
   "outputs": [
    {
     "name": "stdout",
     "output_type": "stream",
     "text": [
      "91/91 [==============================] - 6s 67ms/step\n"
     ]
    }
   ],
   "source": [
    "pred = gray_cnn_model.predict(xtest) \n",
    "pred = np.argmax(pred, axis = 1)\n",
    "label = np.argmax(ytest,axis = 1)"
   ]
  },
  {
   "cell_type": "code",
   "execution_count": 29,
   "id": "eb4e4cbe",
   "metadata": {},
   "outputs": [],
   "source": [
    "#importing classification report and confusion matrix\n",
    "from sklearn.metrics import classification_report, confusion_matrix"
   ]
  },
  {
   "cell_type": "code",
   "execution_count": 30,
   "id": "39a84a2c",
   "metadata": {},
   "outputs": [
    {
     "name": "stdout",
     "output_type": "stream",
     "text": [
      "              precision    recall  f1-score   support\n",
      "\n",
      "           0       0.89      0.78      0.83       345\n",
      "           1       0.55      0.49      0.52       153\n",
      "           2       0.73      0.96      0.83       234\n",
      "           3       0.86      0.70      0.77       309\n",
      "           4       0.72      0.64      0.68       145\n",
      "           5       0.79      0.65      0.71       293\n",
      "           6       0.67      0.74      0.70       240\n",
      "           7       0.50      0.76      0.60        54\n",
      "           8       0.90      0.92      0.91       854\n",
      "           9       0.88      0.96      0.92       280\n",
      "\n",
      "    accuracy                           0.81      2907\n",
      "   macro avg       0.75      0.76      0.75      2907\n",
      "weighted avg       0.81      0.81      0.81      2907\n",
      "\n",
      "[[270  17   1   2   0   8   8   2  37   0]\n",
      " [  2  75   4   9   6   5  31   7  13   1]\n",
      " [  1   0 224   2   1   2   2   1   1   0]\n",
      " [  4  25   7 217  14  18  12   3   9   0]\n",
      " [  2   3  14   1  93  10   6   8   8   0]\n",
      " [ 16  10  13  19   8 191  21  10   5   0]\n",
      " [  1   3  41   1   3   4 178   4   5   0]\n",
      " [  0   0   3   0   3   4   1  41   2   0]\n",
      " [  8   4   1   1   1   1   7   6 789  36]\n",
      " [  0   0   0   0   0   0   0   0  11 269]]\n"
     ]
    }
   ],
   "source": [
    "print(classification_report(label, pred))\n",
    "print(confusion_matrix(label, pred))"
   ]
  },
  {
   "cell_type": "code",
   "execution_count": null,
   "id": "355adced",
   "metadata": {},
   "outputs": [],
   "source": []
  }
 ],
 "metadata": {
  "kernelspec": {
   "display_name": "Python 3 (ipykernel)",
   "language": "python",
   "name": "python3"
  },
  "language_info": {
   "codemirror_mode": {
    "name": "ipython",
    "version": 3
   },
   "file_extension": ".py",
   "mimetype": "text/x-python",
   "name": "python",
   "nbconvert_exporter": "python",
   "pygments_lexer": "ipython3",
   "version": "3.9.12"
  }
 },
 "nbformat": 4,
 "nbformat_minor": 5
}
