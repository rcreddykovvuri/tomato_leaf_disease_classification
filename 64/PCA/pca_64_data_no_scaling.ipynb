{
 "cells": [
  {
   "cell_type": "code",
   "execution_count": 1,
   "id": "bcdb1517",
   "metadata": {},
   "outputs": [],
   "source": [
    "import numpy as np #importing numpy\n",
    "import pandas as pd #importing pandas\n",
    "import PIL #importing pillow for image processing\n",
    "from PIL import Image#importing image from pillow library\n",
    "import skimage#importing skimage library\n",
    "import os#importing os library\n",
    "import time#importing time library\n",
    "\n",
    "#Capture start time of the program\n",
    "start_time = time.time()"
   ]
  },
  {
   "cell_type": "markdown",
   "id": "7139bf53",
   "metadata": {},
   "source": [
    "# KNN on rgb data"
   ]
  },
  {
   "cell_type": "code",
   "execution_count": 2,
   "id": "9386938c",
   "metadata": {},
   "outputs": [],
   "source": [
    "os.chdir('D://DKIT//dissertation//Dataset_of_Tomato_Leaves//plantvillage//Preprocessed_data//64//PCA//')\n",
    "features = pd.read_csv('rgb.csv')\n",
    "#changing path\n",
    "os.chdir('D://DKIT//dissertation//Dataset_of_Tomato_Leaves//plantvillage//Preprocessed_data//64//vector//')\n",
    "#reading csv file\n",
    "rgb_df = pd.read_csv('rgb_data.csv')"
   ]
  },
  {
   "cell_type": "code",
   "execution_count": 3,
   "id": "c6d5658c",
   "metadata": {},
   "outputs": [],
   "source": [
    "#assigning features and target\n",
    "target = rgb_df['disease']\n",
    "#splitting the data to 80 percent and 20 percent\n",
    "from sklearn.model_selection import train_test_split\n",
    "Ftrain,Ftest,Ltrain,Ltest=train_test_split(features,target, test_size=0.20, random_state=24)"
   ]
  },
  {
   "cell_type": "code",
   "execution_count": 4,
   "id": "6f1171c6",
   "metadata": {},
   "outputs": [],
   "source": [
    "#K-Model on the data\n",
    "from sklearn.neighbors import KNeighborsClassifier\n",
    "kmodel = KNeighborsClassifier(n_neighbors=120)"
   ]
  },
  {
   "cell_type": "code",
   "execution_count": 5,
   "id": "b9fdc978",
   "metadata": {},
   "outputs": [
    {
     "name": "stdout",
     "output_type": "stream",
     "text": [
      "0.6240110079119368\n"
     ]
    }
   ],
   "source": [
    "#k-model fitting and accuracy\n",
    "kmodel.fit(Ftrain,Ltrain)\n",
    "print(kmodel.score(Ftest,Ltest))"
   ]
  },
  {
   "cell_type": "code",
   "execution_count": 6,
   "id": "1fa0433e",
   "metadata": {},
   "outputs": [],
   "source": [
    "#importing classification report and confusion matrix\n",
    "from sklearn.metrics import classification_report, confusion_matrix"
   ]
  },
  {
   "cell_type": "code",
   "execution_count": 7,
   "id": "c5085d40",
   "metadata": {},
   "outputs": [
    {
     "name": "stdout",
     "output_type": "stream",
     "text": [
      "                               precision    recall  f1-score   support\n",
      "\n",
      "               bacterial_spot       0.54      0.67      0.60       345\n",
      "                 early_blight       1.00      0.05      0.10       153\n",
      "                      healthy       0.55      0.93      0.69       234\n",
      "                  late_blight       0.68      0.38      0.49       309\n",
      "                    leaf_mold       0.63      0.18      0.28       145\n",
      "           septoria_leaf_spot       0.60      0.42      0.49       293\n",
      "                  target_spot       0.49      0.57      0.53       240\n",
      "          tomato_mosaic_virus       0.00      0.00      0.00        54\n",
      "tomato_yellow_leaf_curl_virus       0.77      0.91      0.84       854\n",
      "      two-spotted_spider_mite       0.47      0.63      0.54       280\n",
      "\n",
      "                     accuracy                           0.62      2907\n",
      "                    macro avg       0.57      0.47      0.46      2907\n",
      "                 weighted avg       0.64      0.62      0.59      2907\n",
      "\n",
      "[[231   0  10  13   0   2   7   0  69  13]\n",
      " [ 57   8   1   4   3   9  23   0  25  23]\n",
      " [  3   0 217   5   0   2   5   0   0   2]\n",
      " [ 28   0  47 117   4  30  17   0  36  30]\n",
      " [ 17   0  45   5  26   3  23   0   6  20]\n",
      " [  5   0  33  20   4 122  32   0  42  35]\n",
      " [ 24   0  22   1   1   5 138   0   4  45]\n",
      " [  7   0  14   1   3   8  10   0   0  11]\n",
      " [ 36   0   2   1   0  11   3   0 778  23]\n",
      " [ 19   0   3   4   0  11  22   0  44 177]]\n"
     ]
    },
    {
     "name": "stderr",
     "output_type": "stream",
     "text": [
      "C:\\Users\\ravic\\anaconda3\\lib\\site-packages\\sklearn\\metrics\\_classification.py:1318: UndefinedMetricWarning: Precision and F-score are ill-defined and being set to 0.0 in labels with no predicted samples. Use `zero_division` parameter to control this behavior.\n",
      "  _warn_prf(average, modifier, msg_start, len(result))\n",
      "C:\\Users\\ravic\\anaconda3\\lib\\site-packages\\sklearn\\metrics\\_classification.py:1318: UndefinedMetricWarning: Precision and F-score are ill-defined and being set to 0.0 in labels with no predicted samples. Use `zero_division` parameter to control this behavior.\n",
      "  _warn_prf(average, modifier, msg_start, len(result))\n",
      "C:\\Users\\ravic\\anaconda3\\lib\\site-packages\\sklearn\\metrics\\_classification.py:1318: UndefinedMetricWarning: Precision and F-score are ill-defined and being set to 0.0 in labels with no predicted samples. Use `zero_division` parameter to control this behavior.\n",
      "  _warn_prf(average, modifier, msg_start, len(result))\n"
     ]
    }
   ],
   "source": [
    "#printing results of the kmodel\n",
    "y_predict = kmodel.fit(Ftrain, Ltrain).predict(Ftest)\n",
    "class_names = target.unique()\n",
    "print(classification_report(Ltest, y_predict, target_names=class_names))\n",
    "print(confusion_matrix(Ltest, y_predict))"
   ]
  },
  {
   "cell_type": "markdown",
   "id": "d5c58638",
   "metadata": {},
   "source": [
    "# Logistic on rgb data"
   ]
  },
  {
   "cell_type": "code",
   "execution_count": 8,
   "id": "a84836ef",
   "metadata": {},
   "outputs": [
    {
     "name": "stdout",
     "output_type": "stream",
     "text": [
      "0.2937736498108015\n"
     ]
    }
   ],
   "source": [
    "#importing logistic data\n",
    "from sklearn.linear_model import LogisticRegression\n",
    "model=LogisticRegression(solver='lbfgs', max_iter=10000)\n",
    "model.fit(Ftrain,Ltrain)\n",
    "print(model.score(Ftest,Ltest))"
   ]
  },
  {
   "cell_type": "code",
   "execution_count": 9,
   "id": "bb13d9a1",
   "metadata": {},
   "outputs": [
    {
     "name": "stdout",
     "output_type": "stream",
     "text": [
      "                               precision    recall  f1-score   support\n",
      "\n",
      "               bacterial_spot       0.00      0.00      0.00       345\n",
      "                 early_blight       0.00      0.00      0.00       153\n",
      "                      healthy       0.00      0.00      0.00       234\n",
      "                  late_blight       0.00      0.00      0.00       309\n",
      "                    leaf_mold       0.00      0.00      0.00       145\n",
      "           septoria_leaf_spot       0.00      0.00      0.00       293\n",
      "                  target_spot       0.00      0.00      0.00       240\n",
      "          tomato_mosaic_virus       0.00      0.00      0.00        54\n",
      "tomato_yellow_leaf_curl_virus       0.29      1.00      0.45       854\n",
      "      two-spotted_spider_mite       0.00      0.00      0.00       280\n",
      "\n",
      "                     accuracy                           0.29      2907\n",
      "                    macro avg       0.03      0.10      0.05      2907\n",
      "                 weighted avg       0.09      0.29      0.13      2907\n",
      "\n",
      "[[  0   0   0   0   0   0   0   0 345   0]\n",
      " [  0   0   0   0   0   0   0   0 153   0]\n",
      " [  0   0   0   0   0   0   0   0 234   0]\n",
      " [  0   0   0   0   0   0   0   0 309   0]\n",
      " [  0   0   0   0   0   0   0   0 145   0]\n",
      " [  0   0   0   0   0   0   0   0 293   0]\n",
      " [  0   0   0   0   0   0   0   0 240   0]\n",
      " [  0   0   0   0   0   0   0   0  54   0]\n",
      " [  0   0   0   0   0   0   0   0 854   0]\n",
      " [  0   0   0   0   0   0   0   0 280   0]]\n"
     ]
    },
    {
     "name": "stderr",
     "output_type": "stream",
     "text": [
      "C:\\Users\\ravic\\anaconda3\\lib\\site-packages\\sklearn\\metrics\\_classification.py:1318: UndefinedMetricWarning: Precision and F-score are ill-defined and being set to 0.0 in labels with no predicted samples. Use `zero_division` parameter to control this behavior.\n",
      "  _warn_prf(average, modifier, msg_start, len(result))\n",
      "C:\\Users\\ravic\\anaconda3\\lib\\site-packages\\sklearn\\metrics\\_classification.py:1318: UndefinedMetricWarning: Precision and F-score are ill-defined and being set to 0.0 in labels with no predicted samples. Use `zero_division` parameter to control this behavior.\n",
      "  _warn_prf(average, modifier, msg_start, len(result))\n",
      "C:\\Users\\ravic\\anaconda3\\lib\\site-packages\\sklearn\\metrics\\_classification.py:1318: UndefinedMetricWarning: Precision and F-score are ill-defined and being set to 0.0 in labels with no predicted samples. Use `zero_division` parameter to control this behavior.\n",
      "  _warn_prf(average, modifier, msg_start, len(result))\n"
     ]
    }
   ],
   "source": [
    "#classification report\n",
    "y_predict = model.fit(Ftrain, Ltrain).predict(Ftest)\n",
    "class_names = target.unique()\n",
    "print(classification_report(Ltest, y_predict, target_names=class_names))\n",
    "print(confusion_matrix(Ltest, y_predict))"
   ]
  },
  {
   "cell_type": "markdown",
   "id": "6fe194bc",
   "metadata": {},
   "source": [
    "# SVM on RGB data"
   ]
  },
  {
   "cell_type": "code",
   "execution_count": 10,
   "id": "2427ed51",
   "metadata": {},
   "outputs": [
    {
     "name": "stdout",
     "output_type": "stream",
     "text": [
      "0.2937736498108015\n"
     ]
    }
   ],
   "source": [
    "from sklearn.svm import SVC\n",
    "from sklearn.metrics import accuracy_score\n",
    "\n",
    "clf = SVC(kernel='linear')\n",
    "clf.fit(Ftrain,Ltrain)\n",
    "y_pred = clf.predict(Ftest)\n",
    "print(accuracy_score(Ltest,y_pred))"
   ]
  },
  {
   "cell_type": "code",
   "execution_count": 11,
   "id": "bf286604",
   "metadata": {},
   "outputs": [
    {
     "name": "stdout",
     "output_type": "stream",
     "text": [
      "                               precision    recall  f1-score   support\n",
      "\n",
      "               bacterial_spot       0.00      0.00      0.00       345\n",
      "                 early_blight       0.00      0.00      0.00       153\n",
      "                      healthy       0.00      0.00      0.00       234\n",
      "                  late_blight       0.00      0.00      0.00       309\n",
      "                    leaf_mold       0.00      0.00      0.00       145\n",
      "           septoria_leaf_spot       0.00      0.00      0.00       293\n",
      "                  target_spot       0.00      0.00      0.00       240\n",
      "          tomato_mosaic_virus       0.00      0.00      0.00        54\n",
      "tomato_yellow_leaf_curl_virus       0.29      1.00      0.45       854\n",
      "      two-spotted_spider_mite       0.00      0.00      0.00       280\n",
      "\n",
      "                     accuracy                           0.29      2907\n",
      "                    macro avg       0.03      0.10      0.05      2907\n",
      "                 weighted avg       0.09      0.29      0.13      2907\n",
      "\n",
      "[[  0   0   0   0   0   0   0   0 345   0]\n",
      " [  0   0   0   0   0   0   0   0 153   0]\n",
      " [  0   0   0   0   0   0   0   0 234   0]\n",
      " [  0   0   0   0   0   0   0   0 309   0]\n",
      " [  0   0   0   0   0   0   0   0 145   0]\n",
      " [  0   0   0   0   0   0   0   0 293   0]\n",
      " [  0   0   0   0   0   0   0   0 240   0]\n",
      " [  0   0   0   0   0   0   0   0  54   0]\n",
      " [  0   0   0   0   0   0   0   0 854   0]\n",
      " [  0   0   0   0   0   0   0   0 280   0]]\n"
     ]
    },
    {
     "name": "stderr",
     "output_type": "stream",
     "text": [
      "C:\\Users\\ravic\\anaconda3\\lib\\site-packages\\sklearn\\metrics\\_classification.py:1318: UndefinedMetricWarning: Precision and F-score are ill-defined and being set to 0.0 in labels with no predicted samples. Use `zero_division` parameter to control this behavior.\n",
      "  _warn_prf(average, modifier, msg_start, len(result))\n",
      "C:\\Users\\ravic\\anaconda3\\lib\\site-packages\\sklearn\\metrics\\_classification.py:1318: UndefinedMetricWarning: Precision and F-score are ill-defined and being set to 0.0 in labels with no predicted samples. Use `zero_division` parameter to control this behavior.\n",
      "  _warn_prf(average, modifier, msg_start, len(result))\n",
      "C:\\Users\\ravic\\anaconda3\\lib\\site-packages\\sklearn\\metrics\\_classification.py:1318: UndefinedMetricWarning: Precision and F-score are ill-defined and being set to 0.0 in labels with no predicted samples. Use `zero_division` parameter to control this behavior.\n",
      "  _warn_prf(average, modifier, msg_start, len(result))\n"
     ]
    }
   ],
   "source": [
    "#classification report\n",
    "y_predict = clf.fit(Ftrain, Ltrain).predict(Ftest)\n",
    "class_names = target.unique()\n",
    "print(classification_report(Ltest, y_predict, target_names=class_names))\n",
    "print(confusion_matrix(Ltest, y_predict))"
   ]
  },
  {
   "cell_type": "markdown",
   "id": "73bef6fa",
   "metadata": {},
   "source": [
    "# Random Forest on RGB "
   ]
  },
  {
   "cell_type": "code",
   "execution_count": 12,
   "id": "6bae5a92",
   "metadata": {},
   "outputs": [],
   "source": [
    "from sklearn.ensemble import RandomForestClassifier"
   ]
  },
  {
   "cell_type": "code",
   "execution_count": 13,
   "id": "1d08a15e",
   "metadata": {},
   "outputs": [],
   "source": [
    "classifier_rf = RandomForestClassifier(random_state=42, n_jobs=-1, max_depth=5,n_estimators=100, oob_score=True)"
   ]
  },
  {
   "cell_type": "code",
   "execution_count": 14,
   "id": "938ad007",
   "metadata": {},
   "outputs": [
    {
     "data": {
      "text/plain": [
       "RandomForestClassifier(max_depth=5, n_jobs=-1, oob_score=True, random_state=42)"
      ]
     },
     "execution_count": 14,
     "metadata": {},
     "output_type": "execute_result"
    }
   ],
   "source": [
    "classifier_rf.fit(Ftrain, Ltrain)"
   ]
  },
  {
   "cell_type": "code",
   "execution_count": 15,
   "id": "e1769cec",
   "metadata": {},
   "outputs": [
    {
     "data": {
      "text/plain": [
       "0.5628871300757055"
      ]
     },
     "execution_count": 15,
     "metadata": {},
     "output_type": "execute_result"
    }
   ],
   "source": [
    "classifier_rf.oob_score_"
   ]
  },
  {
   "cell_type": "code",
   "execution_count": 16,
   "id": "13c0682e",
   "metadata": {},
   "outputs": [
    {
     "name": "stdout",
     "output_type": "stream",
     "text": [
      "                               precision    recall  f1-score   support\n",
      "\n",
      "               bacterial_spot       0.50      0.59      0.54       345\n",
      "                 early_blight       0.00      0.00      0.00       153\n",
      "                      healthy       0.43      0.89      0.58       234\n",
      "                  late_blight       0.60      0.16      0.26       309\n",
      "                    leaf_mold       0.76      0.15      0.25       145\n",
      "           septoria_leaf_spot       0.47      0.42      0.44       293\n",
      "                  target_spot       0.45      0.45      0.45       240\n",
      "          tomato_mosaic_virus       0.00      0.00      0.00        54\n",
      "tomato_yellow_leaf_curl_virus       0.70      0.93      0.80       854\n",
      "      two-spotted_spider_mite       0.48      0.46      0.47       280\n",
      "\n",
      "                     accuracy                           0.56      2907\n",
      "                    macro avg       0.44      0.41      0.38      2907\n",
      "                 weighted avg       0.53      0.56      0.51      2907\n",
      "\n",
      "[[205   0  14   9   0   8   6   0  96   7]\n",
      " [ 49   0  11   0   1  11  18   0  38  25]\n",
      " [  3   0 208   3   1   5   9   0   3   2]\n",
      " [ 27   0 109  50   4  41  13   0  50  15]\n",
      " [ 19   0  43   4  22  14  22   0   9  12]\n",
      " [  4   0  36  14   0 122  28   0  65  24]\n",
      " [ 40   0  37   0   1  17 107   0   7  31]\n",
      " [  4   0  14   0   0  11  10   0   2  13]\n",
      " [ 36   0   4   1   0   7   1   0 792  13]\n",
      " [ 22   0  10   2   0  24  26   0  66 130]]\n"
     ]
    },
    {
     "name": "stderr",
     "output_type": "stream",
     "text": [
      "C:\\Users\\ravic\\anaconda3\\lib\\site-packages\\sklearn\\metrics\\_classification.py:1318: UndefinedMetricWarning: Precision and F-score are ill-defined and being set to 0.0 in labels with no predicted samples. Use `zero_division` parameter to control this behavior.\n",
      "  _warn_prf(average, modifier, msg_start, len(result))\n",
      "C:\\Users\\ravic\\anaconda3\\lib\\site-packages\\sklearn\\metrics\\_classification.py:1318: UndefinedMetricWarning: Precision and F-score are ill-defined and being set to 0.0 in labels with no predicted samples. Use `zero_division` parameter to control this behavior.\n",
      "  _warn_prf(average, modifier, msg_start, len(result))\n",
      "C:\\Users\\ravic\\anaconda3\\lib\\site-packages\\sklearn\\metrics\\_classification.py:1318: UndefinedMetricWarning: Precision and F-score are ill-defined and being set to 0.0 in labels with no predicted samples. Use `zero_division` parameter to control this behavior.\n",
      "  _warn_prf(average, modifier, msg_start, len(result))\n"
     ]
    }
   ],
   "source": [
    "y_predict = classifier_rf.fit(Ftrain, Ltrain).predict(Ftest)\n",
    "class_names = target.unique()\n",
    "print(classification_report(Ltest, y_predict, target_names=class_names))\n",
    "print(confusion_matrix(Ltest, y_predict))"
   ]
  },
  {
   "cell_type": "markdown",
   "id": "b6a094e4",
   "metadata": {},
   "source": [
    "# Naive Bayes on RGB data"
   ]
  },
  {
   "cell_type": "code",
   "execution_count": 17,
   "id": "a5bc755b",
   "metadata": {},
   "outputs": [
    {
     "data": {
      "text/plain": [
       "GaussianNB()"
      ]
     },
     "execution_count": 17,
     "metadata": {},
     "output_type": "execute_result"
    }
   ],
   "source": [
    "from sklearn.naive_bayes import GaussianNB\n",
    "gnb = GaussianNB()\n",
    "gnb.fit(Ftrain, Ltrain)"
   ]
  },
  {
   "cell_type": "code",
   "execution_count": 18,
   "id": "6d162dcc",
   "metadata": {},
   "outputs": [],
   "source": [
    "y_pred = gnb.predict(Ftest)"
   ]
  },
  {
   "cell_type": "code",
   "execution_count": 19,
   "id": "8f7b4bab",
   "metadata": {},
   "outputs": [
    {
     "data": {
      "text/plain": [
       "0.5675954592363261"
      ]
     },
     "execution_count": 19,
     "metadata": {},
     "output_type": "execute_result"
    }
   ],
   "source": [
    "from sklearn import metrics\n",
    "metrics.accuracy_score(Ltest, y_pred)"
   ]
  },
  {
   "cell_type": "code",
   "execution_count": 20,
   "id": "935808af",
   "metadata": {},
   "outputs": [
    {
     "name": "stdout",
     "output_type": "stream",
     "text": [
      "                               precision    recall  f1-score   support\n",
      "\n",
      "               bacterial_spot       0.50      0.68      0.57       345\n",
      "                 early_blight       0.42      0.08      0.14       153\n",
      "                      healthy       0.51      0.79      0.62       234\n",
      "                  late_blight       0.47      0.21      0.29       309\n",
      "                    leaf_mold       0.48      0.21      0.29       145\n",
      "           septoria_leaf_spot       0.51      0.37      0.43       293\n",
      "                  target_spot       0.45      0.61      0.52       240\n",
      "          tomato_mosaic_virus       0.00      0.00      0.00        54\n",
      "tomato_yellow_leaf_curl_virus       0.77      0.83      0.80       854\n",
      "      two-spotted_spider_mite       0.42      0.58      0.48       280\n",
      "\n",
      "                     accuracy                           0.57      2907\n",
      "                    macro avg       0.45      0.44      0.41      2907\n",
      "                 weighted avg       0.55      0.57      0.54      2907\n",
      "\n",
      "[[234   2   7   9   1   6   5   0  61  20]\n",
      " [ 55  13   2   8   4   4  21   0  17  29]\n",
      " [  5   0 184  14   8   2  17   0   2   2]\n",
      " [ 26   3 101  64   8  26  21   0  38  22]\n",
      " [ 22   2  13  11  30  12  35   0   8  12]\n",
      " [  3   1  32  18   6 107  37   0  50  39]\n",
      " [ 22   1   7   5   4   8 147   0   2  44]\n",
      " [  9   0  10   2   0   7  11   0   1  14]\n",
      " [ 71   1   0   4   0  19   4   0 709  46]\n",
      " [ 22   8   2   2   1  19  32   0  32 162]]\n"
     ]
    },
    {
     "name": "stderr",
     "output_type": "stream",
     "text": [
      "C:\\Users\\ravic\\anaconda3\\lib\\site-packages\\sklearn\\metrics\\_classification.py:1318: UndefinedMetricWarning: Precision and F-score are ill-defined and being set to 0.0 in labels with no predicted samples. Use `zero_division` parameter to control this behavior.\n",
      "  _warn_prf(average, modifier, msg_start, len(result))\n",
      "C:\\Users\\ravic\\anaconda3\\lib\\site-packages\\sklearn\\metrics\\_classification.py:1318: UndefinedMetricWarning: Precision and F-score are ill-defined and being set to 0.0 in labels with no predicted samples. Use `zero_division` parameter to control this behavior.\n",
      "  _warn_prf(average, modifier, msg_start, len(result))\n",
      "C:\\Users\\ravic\\anaconda3\\lib\\site-packages\\sklearn\\metrics\\_classification.py:1318: UndefinedMetricWarning: Precision and F-score are ill-defined and being set to 0.0 in labels with no predicted samples. Use `zero_division` parameter to control this behavior.\n",
      "  _warn_prf(average, modifier, msg_start, len(result))\n"
     ]
    }
   ],
   "source": [
    "class_names = target.unique()\n",
    "print(classification_report(Ltest, y_pred, target_names=class_names))\n",
    "print(confusion_matrix(Ltest, y_pred))"
   ]
  },
  {
   "cell_type": "markdown",
   "id": "75bb69d9",
   "metadata": {},
   "source": [
    "# Decision Tree on RGB data"
   ]
  },
  {
   "cell_type": "code",
   "execution_count": 21,
   "id": "6a765709",
   "metadata": {},
   "outputs": [],
   "source": [
    "from sklearn.tree import DecisionTreeClassifier\n",
    "classifier_tree = DecisionTreeClassifier()"
   ]
  },
  {
   "cell_type": "code",
   "execution_count": 22,
   "id": "feb5f853",
   "metadata": {},
   "outputs": [
    {
     "data": {
      "text/plain": [
       "0.5211558307533539"
      ]
     },
     "execution_count": 22,
     "metadata": {},
     "output_type": "execute_result"
    }
   ],
   "source": [
    "classifier_tree.fit(Ftrain, Ltrain)\n",
    "classifier_tree.score(Ftest,Ltest)"
   ]
  },
  {
   "cell_type": "code",
   "execution_count": 23,
   "id": "1bdf54ae",
   "metadata": {},
   "outputs": [
    {
     "name": "stdout",
     "output_type": "stream",
     "text": [
      "                               precision    recall  f1-score   support\n",
      "\n",
      "               bacterial_spot       0.51      0.48      0.49       345\n",
      "                 early_blight       0.21      0.20      0.20       153\n",
      "                      healthy       0.65      0.66      0.66       234\n",
      "                  late_blight       0.44      0.45      0.44       309\n",
      "                    leaf_mold       0.31      0.30      0.30       145\n",
      "           septoria_leaf_spot       0.39      0.37      0.38       293\n",
      "                  target_spot       0.34      0.34      0.34       240\n",
      "          tomato_mosaic_virus       0.10      0.15      0.12        54\n",
      "tomato_yellow_leaf_curl_virus       0.79      0.80      0.80       854\n",
      "      two-spotted_spider_mite       0.40      0.40      0.40       280\n",
      "\n",
      "                     accuracy                           0.53      2907\n",
      "                    macro avg       0.41      0.42      0.41      2907\n",
      "                 weighted avg       0.53      0.53      0.53      2907\n",
      "\n",
      "[[165  29   5  26  13   9  12   5  59  22]\n",
      " [ 35  31   3  14   6   8  20   5  16  15]\n",
      " [  4   5 154  22  16  13   9   6   0   5]\n",
      " [ 20  19  24 138   8  39  14   8  25  14]\n",
      " [ 10  11   8  14  44  13  17   8   4  16]\n",
      " [ 14  11  13  34  17 109  22  15  33  25]\n",
      " [ 13  13  19  20  16  27  81  11   8  32]\n",
      " [  1   1   7   3   7   7  10   8   3   7]\n",
      " [ 46  22   0  25   5  32   5   4 684  31]\n",
      " [ 17   8   3  18  12  19  45  12  33 113]]\n"
     ]
    }
   ],
   "source": [
    "y_predict = classifier_tree.fit(Ftrain, Ltrain).predict(Ftest)\n",
    "class_names = target.unique()\n",
    "print(classification_report(Ltest, y_predict, target_names=class_names))\n",
    "print(confusion_matrix(Ltest, y_predict))"
   ]
  },
  {
   "cell_type": "markdown",
   "id": "c9daaaee",
   "metadata": {},
   "source": [
    "# KNN on grayscale data"
   ]
  },
  {
   "cell_type": "code",
   "execution_count": 24,
   "id": "57a9845e",
   "metadata": {},
   "outputs": [],
   "source": [
    "os.chdir('D://DKIT//dissertation//Dataset_of_Tomato_Leaves//plantvillage//Preprocessed_data//64//PCA//')\n",
    "features = pd.read_csv('gray.csv')\n",
    "#changing path\n",
    "os.chdir('D://DKIT//dissertation//Dataset_of_Tomato_Leaves//plantvillage//Preprocessed_data//64//vector//')\n",
    "#reading csv file\n",
    "gray_df = pd.read_csv('gray_data.csv')"
   ]
  },
  {
   "cell_type": "code",
   "execution_count": 25,
   "id": "d3abef95",
   "metadata": {},
   "outputs": [],
   "source": [
    "target = gray_df['disease']"
   ]
  },
  {
   "cell_type": "code",
   "execution_count": 26,
   "id": "6f75adfd",
   "metadata": {},
   "outputs": [
    {
     "data": {
      "text/plain": [
       "0.6240110079119368"
      ]
     },
     "execution_count": 26,
     "metadata": {},
     "output_type": "execute_result"
    }
   ],
   "source": [
    "kmodel.fit(Ftrain,Ltrain)\n",
    "kmodel.score(Ftest,Ltest)"
   ]
  },
  {
   "cell_type": "code",
   "execution_count": 27,
   "id": "20df9552",
   "metadata": {},
   "outputs": [
    {
     "name": "stdout",
     "output_type": "stream",
     "text": [
      "                               precision    recall  f1-score   support\n",
      "\n",
      "               bacterial_spot       0.54      0.67      0.60       345\n",
      "                 early_blight       1.00      0.05      0.10       153\n",
      "                      healthy       0.55      0.93      0.69       234\n",
      "                  late_blight       0.68      0.38      0.49       309\n",
      "                    leaf_mold       0.63      0.18      0.28       145\n",
      "           septoria_leaf_spot       0.60      0.42      0.49       293\n",
      "                  target_spot       0.49      0.57      0.53       240\n",
      "          tomato_mosaic_virus       0.00      0.00      0.00        54\n",
      "tomato_yellow_leaf_curl_virus       0.77      0.91      0.84       854\n",
      "      two-spotted_spider_mite       0.47      0.63      0.54       280\n",
      "\n",
      "                     accuracy                           0.62      2907\n",
      "                    macro avg       0.57      0.47      0.46      2907\n",
      "                 weighted avg       0.64      0.62      0.59      2907\n",
      "\n",
      "[[231   0  10  13   0   2   7   0  69  13]\n",
      " [ 57   8   1   4   3   9  23   0  25  23]\n",
      " [  3   0 217   5   0   2   5   0   0   2]\n",
      " [ 28   0  47 117   4  30  17   0  36  30]\n",
      " [ 17   0  45   5  26   3  23   0   6  20]\n",
      " [  5   0  33  20   4 122  32   0  42  35]\n",
      " [ 24   0  22   1   1   5 138   0   4  45]\n",
      " [  7   0  14   1   3   8  10   0   0  11]\n",
      " [ 36   0   2   1   0  11   3   0 778  23]\n",
      " [ 19   0   3   4   0  11  22   0  44 177]]\n"
     ]
    },
    {
     "name": "stderr",
     "output_type": "stream",
     "text": [
      "C:\\Users\\ravic\\anaconda3\\lib\\site-packages\\sklearn\\metrics\\_classification.py:1318: UndefinedMetricWarning: Precision and F-score are ill-defined and being set to 0.0 in labels with no predicted samples. Use `zero_division` parameter to control this behavior.\n",
      "  _warn_prf(average, modifier, msg_start, len(result))\n",
      "C:\\Users\\ravic\\anaconda3\\lib\\site-packages\\sklearn\\metrics\\_classification.py:1318: UndefinedMetricWarning: Precision and F-score are ill-defined and being set to 0.0 in labels with no predicted samples. Use `zero_division` parameter to control this behavior.\n",
      "  _warn_prf(average, modifier, msg_start, len(result))\n",
      "C:\\Users\\ravic\\anaconda3\\lib\\site-packages\\sklearn\\metrics\\_classification.py:1318: UndefinedMetricWarning: Precision and F-score are ill-defined and being set to 0.0 in labels with no predicted samples. Use `zero_division` parameter to control this behavior.\n",
      "  _warn_prf(average, modifier, msg_start, len(result))\n"
     ]
    }
   ],
   "source": [
    "y_predict = kmodel.fit(Ftrain, Ltrain).predict(Ftest)\n",
    "class_names = target.unique()\n",
    "print(classification_report(Ltest, y_predict, target_names=class_names))\n",
    "print(confusion_matrix(Ltest, y_predict))"
   ]
  },
  {
   "cell_type": "markdown",
   "id": "197eedfc",
   "metadata": {},
   "source": [
    "# Logistic on grayscale data"
   ]
  },
  {
   "cell_type": "code",
   "execution_count": 28,
   "id": "9fd6cafe",
   "metadata": {},
   "outputs": [
    {
     "data": {
      "text/plain": [
       "0.2937736498108015"
      ]
     },
     "execution_count": 28,
     "metadata": {},
     "output_type": "execute_result"
    }
   ],
   "source": [
    "from sklearn.linear_model import LogisticRegression\n",
    "model=LogisticRegression(solver='lbfgs', max_iter=10000)\n",
    "model.fit(Ftrain,Ltrain)\n",
    "model.score(Ftest,Ltest)"
   ]
  },
  {
   "cell_type": "code",
   "execution_count": 29,
   "id": "834920c5",
   "metadata": {},
   "outputs": [
    {
     "name": "stdout",
     "output_type": "stream",
     "text": [
      "                               precision    recall  f1-score   support\n",
      "\n",
      "               bacterial_spot       0.00      0.00      0.00       345\n",
      "                 early_blight       0.00      0.00      0.00       153\n",
      "                      healthy       0.00      0.00      0.00       234\n",
      "                  late_blight       0.00      0.00      0.00       309\n",
      "                    leaf_mold       0.00      0.00      0.00       145\n",
      "           septoria_leaf_spot       0.00      0.00      0.00       293\n",
      "                  target_spot       0.00      0.00      0.00       240\n",
      "          tomato_mosaic_virus       0.00      0.00      0.00        54\n",
      "tomato_yellow_leaf_curl_virus       0.29      1.00      0.45       854\n",
      "      two-spotted_spider_mite       0.00      0.00      0.00       280\n",
      "\n",
      "                     accuracy                           0.29      2907\n",
      "                    macro avg       0.03      0.10      0.05      2907\n",
      "                 weighted avg       0.09      0.29      0.13      2907\n",
      "\n",
      "[[  0   0   0   0   0   0   0   0 345   0]\n",
      " [  0   0   0   0   0   0   0   0 153   0]\n",
      " [  0   0   0   0   0   0   0   0 234   0]\n",
      " [  0   0   0   0   0   0   0   0 309   0]\n",
      " [  0   0   0   0   0   0   0   0 145   0]\n",
      " [  0   0   0   0   0   0   0   0 293   0]\n",
      " [  0   0   0   0   0   0   0   0 240   0]\n",
      " [  0   0   0   0   0   0   0   0  54   0]\n",
      " [  0   0   0   0   0   0   0   0 854   0]\n",
      " [  0   0   0   0   0   0   0   0 280   0]]\n"
     ]
    },
    {
     "name": "stderr",
     "output_type": "stream",
     "text": [
      "C:\\Users\\ravic\\anaconda3\\lib\\site-packages\\sklearn\\metrics\\_classification.py:1318: UndefinedMetricWarning: Precision and F-score are ill-defined and being set to 0.0 in labels with no predicted samples. Use `zero_division` parameter to control this behavior.\n",
      "  _warn_prf(average, modifier, msg_start, len(result))\n",
      "C:\\Users\\ravic\\anaconda3\\lib\\site-packages\\sklearn\\metrics\\_classification.py:1318: UndefinedMetricWarning: Precision and F-score are ill-defined and being set to 0.0 in labels with no predicted samples. Use `zero_division` parameter to control this behavior.\n",
      "  _warn_prf(average, modifier, msg_start, len(result))\n",
      "C:\\Users\\ravic\\anaconda3\\lib\\site-packages\\sklearn\\metrics\\_classification.py:1318: UndefinedMetricWarning: Precision and F-score are ill-defined and being set to 0.0 in labels with no predicted samples. Use `zero_division` parameter to control this behavior.\n",
      "  _warn_prf(average, modifier, msg_start, len(result))\n"
     ]
    }
   ],
   "source": [
    "y_predict = model.fit(Ftrain, Ltrain).predict(Ftest)\n",
    "class_names = target.unique()\n",
    "print(classification_report(Ltest, y_predict, target_names=class_names))\n",
    "print(confusion_matrix(Ltest, y_predict))"
   ]
  },
  {
   "cell_type": "markdown",
   "id": "5284f869",
   "metadata": {},
   "source": [
    "# SVM on Grayscale data"
   ]
  },
  {
   "cell_type": "code",
   "execution_count": 30,
   "id": "d0db5c80",
   "metadata": {},
   "outputs": [
    {
     "name": "stdout",
     "output_type": "stream",
     "text": [
      "0.2937736498108015\n"
     ]
    }
   ],
   "source": [
    "clf = SVC(kernel='linear')\n",
    "clf.fit(Ftrain,Ltrain)\n",
    "y_pred = clf.predict(Ftest)\n",
    "print(accuracy_score(Ltest,y_pred))"
   ]
  },
  {
   "cell_type": "code",
   "execution_count": 31,
   "id": "05d3b675",
   "metadata": {},
   "outputs": [
    {
     "name": "stdout",
     "output_type": "stream",
     "text": [
      "                               precision    recall  f1-score   support\n",
      "\n",
      "               bacterial_spot       0.00      0.00      0.00       345\n",
      "                 early_blight       0.00      0.00      0.00       153\n",
      "                      healthy       0.00      0.00      0.00       234\n",
      "                  late_blight       0.00      0.00      0.00       309\n",
      "                    leaf_mold       0.00      0.00      0.00       145\n",
      "           septoria_leaf_spot       0.00      0.00      0.00       293\n",
      "                  target_spot       0.00      0.00      0.00       240\n",
      "          tomato_mosaic_virus       0.00      0.00      0.00        54\n",
      "tomato_yellow_leaf_curl_virus       0.29      1.00      0.45       854\n",
      "      two-spotted_spider_mite       0.00      0.00      0.00       280\n",
      "\n",
      "                     accuracy                           0.29      2907\n",
      "                    macro avg       0.03      0.10      0.05      2907\n",
      "                 weighted avg       0.09      0.29      0.13      2907\n",
      "\n",
      "[[  0   0   0   0   0   0   0   0 345   0]\n",
      " [  0   0   0   0   0   0   0   0 153   0]\n",
      " [  0   0   0   0   0   0   0   0 234   0]\n",
      " [  0   0   0   0   0   0   0   0 309   0]\n",
      " [  0   0   0   0   0   0   0   0 145   0]\n",
      " [  0   0   0   0   0   0   0   0 293   0]\n",
      " [  0   0   0   0   0   0   0   0 240   0]\n",
      " [  0   0   0   0   0   0   0   0  54   0]\n",
      " [  0   0   0   0   0   0   0   0 854   0]\n",
      " [  0   0   0   0   0   0   0   0 280   0]]\n"
     ]
    },
    {
     "name": "stderr",
     "output_type": "stream",
     "text": [
      "C:\\Users\\ravic\\anaconda3\\lib\\site-packages\\sklearn\\metrics\\_classification.py:1318: UndefinedMetricWarning: Precision and F-score are ill-defined and being set to 0.0 in labels with no predicted samples. Use `zero_division` parameter to control this behavior.\n",
      "  _warn_prf(average, modifier, msg_start, len(result))\n",
      "C:\\Users\\ravic\\anaconda3\\lib\\site-packages\\sklearn\\metrics\\_classification.py:1318: UndefinedMetricWarning: Precision and F-score are ill-defined and being set to 0.0 in labels with no predicted samples. Use `zero_division` parameter to control this behavior.\n",
      "  _warn_prf(average, modifier, msg_start, len(result))\n",
      "C:\\Users\\ravic\\anaconda3\\lib\\site-packages\\sklearn\\metrics\\_classification.py:1318: UndefinedMetricWarning: Precision and F-score are ill-defined and being set to 0.0 in labels with no predicted samples. Use `zero_division` parameter to control this behavior.\n",
      "  _warn_prf(average, modifier, msg_start, len(result))\n"
     ]
    }
   ],
   "source": [
    "y_predict = clf.fit(Ftrain, Ltrain).predict(Ftest)\n",
    "class_names = target.unique()\n",
    "print(classification_report(Ltest, y_predict, target_names=class_names))\n",
    "print(confusion_matrix(Ltest, y_predict))"
   ]
  },
  {
   "cell_type": "markdown",
   "id": "576fd580",
   "metadata": {},
   "source": [
    "# Random Forest on Grayscale"
   ]
  },
  {
   "cell_type": "code",
   "execution_count": 32,
   "id": "9dfa979e",
   "metadata": {},
   "outputs": [
    {
     "data": {
      "text/plain": [
       "RandomForestClassifier(max_depth=5, n_jobs=-1, oob_score=True, random_state=42)"
      ]
     },
     "execution_count": 32,
     "metadata": {},
     "output_type": "execute_result"
    }
   ],
   "source": [
    "classifier_rf.fit(Ftrain, Ltrain)"
   ]
  },
  {
   "cell_type": "code",
   "execution_count": 33,
   "id": "2b4347ef",
   "metadata": {},
   "outputs": [
    {
     "data": {
      "text/plain": [
       "0.5628871300757055"
      ]
     },
     "execution_count": 33,
     "metadata": {},
     "output_type": "execute_result"
    }
   ],
   "source": [
    "classifier_rf.oob_score_"
   ]
  },
  {
   "cell_type": "code",
   "execution_count": 34,
   "id": "8b7d285d",
   "metadata": {},
   "outputs": [
    {
     "name": "stdout",
     "output_type": "stream",
     "text": [
      "                               precision    recall  f1-score   support\n",
      "\n",
      "               bacterial_spot       0.50      0.59      0.54       345\n",
      "                 early_blight       0.00      0.00      0.00       153\n",
      "                      healthy       0.43      0.89      0.58       234\n",
      "                  late_blight       0.60      0.16      0.26       309\n",
      "                    leaf_mold       0.76      0.15      0.25       145\n",
      "           septoria_leaf_spot       0.47      0.42      0.44       293\n",
      "                  target_spot       0.45      0.45      0.45       240\n",
      "          tomato_mosaic_virus       0.00      0.00      0.00        54\n",
      "tomato_yellow_leaf_curl_virus       0.70      0.93      0.80       854\n",
      "      two-spotted_spider_mite       0.48      0.46      0.47       280\n",
      "\n",
      "                     accuracy                           0.56      2907\n",
      "                    macro avg       0.44      0.41      0.38      2907\n",
      "                 weighted avg       0.53      0.56      0.51      2907\n",
      "\n",
      "[[205   0  14   9   0   8   6   0  96   7]\n",
      " [ 49   0  11   0   1  11  18   0  38  25]\n",
      " [  3   0 208   3   1   5   9   0   3   2]\n",
      " [ 27   0 109  50   4  41  13   0  50  15]\n",
      " [ 19   0  43   4  22  14  22   0   9  12]\n",
      " [  4   0  36  14   0 122  28   0  65  24]\n",
      " [ 40   0  37   0   1  17 107   0   7  31]\n",
      " [  4   0  14   0   0  11  10   0   2  13]\n",
      " [ 36   0   4   1   0   7   1   0 792  13]\n",
      " [ 22   0  10   2   0  24  26   0  66 130]]\n"
     ]
    },
    {
     "name": "stderr",
     "output_type": "stream",
     "text": [
      "C:\\Users\\ravic\\anaconda3\\lib\\site-packages\\sklearn\\metrics\\_classification.py:1318: UndefinedMetricWarning: Precision and F-score are ill-defined and being set to 0.0 in labels with no predicted samples. Use `zero_division` parameter to control this behavior.\n",
      "  _warn_prf(average, modifier, msg_start, len(result))\n",
      "C:\\Users\\ravic\\anaconda3\\lib\\site-packages\\sklearn\\metrics\\_classification.py:1318: UndefinedMetricWarning: Precision and F-score are ill-defined and being set to 0.0 in labels with no predicted samples. Use `zero_division` parameter to control this behavior.\n",
      "  _warn_prf(average, modifier, msg_start, len(result))\n",
      "C:\\Users\\ravic\\anaconda3\\lib\\site-packages\\sklearn\\metrics\\_classification.py:1318: UndefinedMetricWarning: Precision and F-score are ill-defined and being set to 0.0 in labels with no predicted samples. Use `zero_division` parameter to control this behavior.\n",
      "  _warn_prf(average, modifier, msg_start, len(result))\n"
     ]
    }
   ],
   "source": [
    "y_predict = classifier_rf.fit(Ftrain, Ltrain).predict(Ftest)\n",
    "class_names = target.unique()\n",
    "print(classification_report(Ltest, y_predict, target_names=class_names))\n",
    "print(confusion_matrix(Ltest, y_predict))"
   ]
  },
  {
   "cell_type": "markdown",
   "id": "8befce61",
   "metadata": {},
   "source": [
    "# Naive bayes on Grayscale"
   ]
  },
  {
   "cell_type": "code",
   "execution_count": 35,
   "id": "0d1a6d3b",
   "metadata": {},
   "outputs": [
    {
     "data": {
      "text/plain": [
       "GaussianNB()"
      ]
     },
     "execution_count": 35,
     "metadata": {},
     "output_type": "execute_result"
    }
   ],
   "source": [
    "gnb.fit(Ftrain, Ltrain)"
   ]
  },
  {
   "cell_type": "code",
   "execution_count": 36,
   "id": "053c9a09",
   "metadata": {},
   "outputs": [
    {
     "data": {
      "text/plain": [
       "0.5675954592363261"
      ]
     },
     "execution_count": 36,
     "metadata": {},
     "output_type": "execute_result"
    }
   ],
   "source": [
    "y_pred = gnb.predict(Ftest)\n",
    "metrics.accuracy_score(Ltest, y_pred)"
   ]
  },
  {
   "cell_type": "code",
   "execution_count": 37,
   "id": "0e53ae2c",
   "metadata": {},
   "outputs": [
    {
     "name": "stdout",
     "output_type": "stream",
     "text": [
      "                               precision    recall  f1-score   support\n",
      "\n",
      "               bacterial_spot       0.50      0.68      0.57       345\n",
      "                 early_blight       0.42      0.08      0.14       153\n",
      "                      healthy       0.51      0.79      0.62       234\n",
      "                  late_blight       0.47      0.21      0.29       309\n",
      "                    leaf_mold       0.48      0.21      0.29       145\n",
      "           septoria_leaf_spot       0.51      0.37      0.43       293\n",
      "                  target_spot       0.45      0.61      0.52       240\n",
      "          tomato_mosaic_virus       0.00      0.00      0.00        54\n",
      "tomato_yellow_leaf_curl_virus       0.77      0.83      0.80       854\n",
      "      two-spotted_spider_mite       0.42      0.58      0.48       280\n",
      "\n",
      "                     accuracy                           0.57      2907\n",
      "                    macro avg       0.45      0.44      0.41      2907\n",
      "                 weighted avg       0.55      0.57      0.54      2907\n",
      "\n",
      "[[234   2   7   9   1   6   5   0  61  20]\n",
      " [ 55  13   2   8   4   4  21   0  17  29]\n",
      " [  5   0 184  14   8   2  17   0   2   2]\n",
      " [ 26   3 101  64   8  26  21   0  38  22]\n",
      " [ 22   2  13  11  30  12  35   0   8  12]\n",
      " [  3   1  32  18   6 107  37   0  50  39]\n",
      " [ 22   1   7   5   4   8 147   0   2  44]\n",
      " [  9   0  10   2   0   7  11   0   1  14]\n",
      " [ 71   1   0   4   0  19   4   0 709  46]\n",
      " [ 22   8   2   2   1  19  32   0  32 162]]\n"
     ]
    },
    {
     "name": "stderr",
     "output_type": "stream",
     "text": [
      "C:\\Users\\ravic\\anaconda3\\lib\\site-packages\\sklearn\\metrics\\_classification.py:1318: UndefinedMetricWarning: Precision and F-score are ill-defined and being set to 0.0 in labels with no predicted samples. Use `zero_division` parameter to control this behavior.\n",
      "  _warn_prf(average, modifier, msg_start, len(result))\n",
      "C:\\Users\\ravic\\anaconda3\\lib\\site-packages\\sklearn\\metrics\\_classification.py:1318: UndefinedMetricWarning: Precision and F-score are ill-defined and being set to 0.0 in labels with no predicted samples. Use `zero_division` parameter to control this behavior.\n",
      "  _warn_prf(average, modifier, msg_start, len(result))\n",
      "C:\\Users\\ravic\\anaconda3\\lib\\site-packages\\sklearn\\metrics\\_classification.py:1318: UndefinedMetricWarning: Precision and F-score are ill-defined and being set to 0.0 in labels with no predicted samples. Use `zero_division` parameter to control this behavior.\n",
      "  _warn_prf(average, modifier, msg_start, len(result))\n"
     ]
    }
   ],
   "source": [
    "class_names = target.unique()\n",
    "print(classification_report(Ltest, y_pred, target_names=class_names))\n",
    "print(confusion_matrix(Ltest, y_pred))"
   ]
  },
  {
   "cell_type": "markdown",
   "id": "af8a8fca",
   "metadata": {},
   "source": [
    "# Decision Tree on Grayscale"
   ]
  },
  {
   "cell_type": "code",
   "execution_count": 38,
   "id": "4d1eb3ec",
   "metadata": {},
   "outputs": [
    {
     "data": {
      "text/plain": [
       "0.5242518059855521"
      ]
     },
     "execution_count": 38,
     "metadata": {},
     "output_type": "execute_result"
    }
   ],
   "source": [
    "classifier_tree.fit(Ftrain, Ltrain)\n",
    "classifier_tree.score(Ftest,Ltest)"
   ]
  },
  {
   "cell_type": "code",
   "execution_count": 39,
   "id": "5e93e78c",
   "metadata": {},
   "outputs": [
    {
     "name": "stdout",
     "output_type": "stream",
     "text": [
      "                               precision    recall  f1-score   support\n",
      "\n",
      "               bacterial_spot       0.52      0.50      0.51       345\n",
      "                 early_blight       0.18      0.16      0.17       153\n",
      "                      healthy       0.64      0.66      0.65       234\n",
      "                  late_blight       0.43      0.44      0.43       309\n",
      "                    leaf_mold       0.29      0.28      0.28       145\n",
      "           septoria_leaf_spot       0.38      0.35      0.37       293\n",
      "                  target_spot       0.36      0.36      0.36       240\n",
      "          tomato_mosaic_virus       0.10      0.13      0.11        54\n",
      "tomato_yellow_leaf_curl_virus       0.79      0.80      0.79       854\n",
      "      two-spotted_spider_mite       0.40      0.42      0.41       280\n",
      "\n",
      "                     accuracy                           0.52      2907\n",
      "                    macro avg       0.41      0.41      0.41      2907\n",
      "                 weighted avg       0.52      0.52      0.52      2907\n",
      "\n",
      "[[172  27   4  26  12  10  11   4  58  21]\n",
      " [ 33  24   2  20   6   6  22   4  17  19]\n",
      " [  3   2 155  24  20  13   7   5   0   5]\n",
      " [ 18  17  27 135   6  39  17   5  28  17]\n",
      " [ 14   9  11  13  40  14  18   8   4  14]\n",
      " [ 18  10  14  35  14 104  25  13  34  26]\n",
      " [ 12  11  19  16  19  25  87  14   7  30]\n",
      " [  2   2   7   2   6   9   8   7   3   8]\n",
      " [ 44  26   0  27   4  33   6   3 679  32]\n",
      " [ 17   9   3  19  11  19  44  10  31 117]]\n"
     ]
    }
   ],
   "source": [
    "y_predict = classifier_tree.fit(Ftrain, Ltrain).predict(Ftest)\n",
    "class_names = target.unique()\n",
    "print(classification_report(Ltest, y_predict, target_names=class_names))\n",
    "print(confusion_matrix(Ltest, y_predict))"
   ]
  },
  {
   "cell_type": "markdown",
   "id": "e42f549f",
   "metadata": {},
   "source": [
    "# KNN on Red channel data"
   ]
  },
  {
   "cell_type": "code",
   "execution_count": 40,
   "id": "cb75cbbd",
   "metadata": {},
   "outputs": [],
   "source": [
    "os.chdir('D://DKIT//dissertation//Dataset_of_Tomato_Leaves//plantvillage//Preprocessed_data//64//PCA//')\n",
    "features = pd.read_csv('red.csv')\n",
    "#changing path\n",
    "os.chdir('D://DKIT//dissertation//Dataset_of_Tomato_Leaves//plantvillage//Preprocessed_data//64//vector//')\n",
    "#reading csv file\n",
    "red_df = pd.read_csv('red_data.csv')\n",
    "target = red_df['disease']"
   ]
  },
  {
   "cell_type": "code",
   "execution_count": 41,
   "id": "683839f2",
   "metadata": {},
   "outputs": [
    {
     "data": {
      "text/plain": [
       "0.6240110079119368"
      ]
     },
     "execution_count": 41,
     "metadata": {},
     "output_type": "execute_result"
    }
   ],
   "source": [
    "kmodel.fit(Ftrain,Ltrain)\n",
    "kmodel.score(Ftest,Ltest)"
   ]
  },
  {
   "cell_type": "code",
   "execution_count": 42,
   "id": "a5863749",
   "metadata": {},
   "outputs": [
    {
     "name": "stdout",
     "output_type": "stream",
     "text": [
      "                               precision    recall  f1-score   support\n",
      "\n",
      "               bacterial_spot       0.54      0.67      0.60       345\n",
      "                 early_blight       1.00      0.05      0.10       153\n",
      "                      healthy       0.55      0.93      0.69       234\n",
      "                  late_blight       0.68      0.38      0.49       309\n",
      "                    leaf_mold       0.63      0.18      0.28       145\n",
      "           septoria_leaf_spot       0.60      0.42      0.49       293\n",
      "                  target_spot       0.49      0.57      0.53       240\n",
      "          tomato_mosaic_virus       0.00      0.00      0.00        54\n",
      "tomato_yellow_leaf_curl_virus       0.77      0.91      0.84       854\n",
      "      two-spotted_spider_mite       0.47      0.63      0.54       280\n",
      "\n",
      "                     accuracy                           0.62      2907\n",
      "                    macro avg       0.57      0.47      0.46      2907\n",
      "                 weighted avg       0.64      0.62      0.59      2907\n",
      "\n",
      "[[231   0  10  13   0   2   7   0  69  13]\n",
      " [ 57   8   1   4   3   9  23   0  25  23]\n",
      " [  3   0 217   5   0   2   5   0   0   2]\n",
      " [ 28   0  47 117   4  30  17   0  36  30]\n",
      " [ 17   0  45   5  26   3  23   0   6  20]\n",
      " [  5   0  33  20   4 122  32   0  42  35]\n",
      " [ 24   0  22   1   1   5 138   0   4  45]\n",
      " [  7   0  14   1   3   8  10   0   0  11]\n",
      " [ 36   0   2   1   0  11   3   0 778  23]\n",
      " [ 19   0   3   4   0  11  22   0  44 177]]\n"
     ]
    },
    {
     "name": "stderr",
     "output_type": "stream",
     "text": [
      "C:\\Users\\ravic\\anaconda3\\lib\\site-packages\\sklearn\\metrics\\_classification.py:1318: UndefinedMetricWarning: Precision and F-score are ill-defined and being set to 0.0 in labels with no predicted samples. Use `zero_division` parameter to control this behavior.\n",
      "  _warn_prf(average, modifier, msg_start, len(result))\n",
      "C:\\Users\\ravic\\anaconda3\\lib\\site-packages\\sklearn\\metrics\\_classification.py:1318: UndefinedMetricWarning: Precision and F-score are ill-defined and being set to 0.0 in labels with no predicted samples. Use `zero_division` parameter to control this behavior.\n",
      "  _warn_prf(average, modifier, msg_start, len(result))\n",
      "C:\\Users\\ravic\\anaconda3\\lib\\site-packages\\sklearn\\metrics\\_classification.py:1318: UndefinedMetricWarning: Precision and F-score are ill-defined and being set to 0.0 in labels with no predicted samples. Use `zero_division` parameter to control this behavior.\n",
      "  _warn_prf(average, modifier, msg_start, len(result))\n"
     ]
    }
   ],
   "source": [
    "y_predict = kmodel.fit(Ftrain, Ltrain).predict(Ftest)\n",
    "class_names = target.unique()\n",
    "print(classification_report(Ltest, y_predict, target_names=class_names))\n",
    "print(confusion_matrix(Ltest, y_predict))"
   ]
  },
  {
   "cell_type": "markdown",
   "id": "ffcda594",
   "metadata": {},
   "source": [
    "# Logistic on Red channel data"
   ]
  },
  {
   "cell_type": "code",
   "execution_count": 43,
   "id": "1ed4037b",
   "metadata": {},
   "outputs": [
    {
     "data": {
      "text/plain": [
       "0.2937736498108015"
      ]
     },
     "execution_count": 43,
     "metadata": {},
     "output_type": "execute_result"
    }
   ],
   "source": [
    "model.fit(Ftrain,Ltrain)\n",
    "model.score(Ftest,Ltest)"
   ]
  },
  {
   "cell_type": "code",
   "execution_count": 44,
   "id": "19a14de1",
   "metadata": {},
   "outputs": [
    {
     "name": "stdout",
     "output_type": "stream",
     "text": [
      "                               precision    recall  f1-score   support\n",
      "\n",
      "               bacterial_spot       0.00      0.00      0.00       345\n",
      "                 early_blight       0.00      0.00      0.00       153\n",
      "                      healthy       0.00      0.00      0.00       234\n",
      "                  late_blight       0.00      0.00      0.00       309\n",
      "                    leaf_mold       0.00      0.00      0.00       145\n",
      "           septoria_leaf_spot       0.00      0.00      0.00       293\n",
      "                  target_spot       0.00      0.00      0.00       240\n",
      "          tomato_mosaic_virus       0.00      0.00      0.00        54\n",
      "tomato_yellow_leaf_curl_virus       0.29      1.00      0.45       854\n",
      "      two-spotted_spider_mite       0.00      0.00      0.00       280\n",
      "\n",
      "                     accuracy                           0.29      2907\n",
      "                    macro avg       0.03      0.10      0.05      2907\n",
      "                 weighted avg       0.09      0.29      0.13      2907\n",
      "\n",
      "[[  0   0   0   0   0   0   0   0 345   0]\n",
      " [  0   0   0   0   0   0   0   0 153   0]\n",
      " [  0   0   0   0   0   0   0   0 234   0]\n",
      " [  0   0   0   0   0   0   0   0 309   0]\n",
      " [  0   0   0   0   0   0   0   0 145   0]\n",
      " [  0   0   0   0   0   0   0   0 293   0]\n",
      " [  0   0   0   0   0   0   0   0 240   0]\n",
      " [  0   0   0   0   0   0   0   0  54   0]\n",
      " [  0   0   0   0   0   0   0   0 854   0]\n",
      " [  0   0   0   0   0   0   0   0 280   0]]\n"
     ]
    },
    {
     "name": "stderr",
     "output_type": "stream",
     "text": [
      "C:\\Users\\ravic\\anaconda3\\lib\\site-packages\\sklearn\\metrics\\_classification.py:1318: UndefinedMetricWarning: Precision and F-score are ill-defined and being set to 0.0 in labels with no predicted samples. Use `zero_division` parameter to control this behavior.\n",
      "  _warn_prf(average, modifier, msg_start, len(result))\n",
      "C:\\Users\\ravic\\anaconda3\\lib\\site-packages\\sklearn\\metrics\\_classification.py:1318: UndefinedMetricWarning: Precision and F-score are ill-defined and being set to 0.0 in labels with no predicted samples. Use `zero_division` parameter to control this behavior.\n",
      "  _warn_prf(average, modifier, msg_start, len(result))\n",
      "C:\\Users\\ravic\\anaconda3\\lib\\site-packages\\sklearn\\metrics\\_classification.py:1318: UndefinedMetricWarning: Precision and F-score are ill-defined and being set to 0.0 in labels with no predicted samples. Use `zero_division` parameter to control this behavior.\n",
      "  _warn_prf(average, modifier, msg_start, len(result))\n"
     ]
    }
   ],
   "source": [
    "y_predict = model.fit(Ftrain, Ltrain).predict(Ftest)\n",
    "class_names = target.unique()\n",
    "print(classification_report(Ltest, y_predict, target_names=class_names))\n",
    "print(confusion_matrix(Ltest, y_predict))"
   ]
  },
  {
   "cell_type": "markdown",
   "id": "dba6d5ce",
   "metadata": {},
   "source": [
    "# SVM on Red channel data"
   ]
  },
  {
   "cell_type": "code",
   "execution_count": 45,
   "id": "6ed153f7",
   "metadata": {},
   "outputs": [
    {
     "name": "stdout",
     "output_type": "stream",
     "text": [
      "0.2937736498108015\n"
     ]
    }
   ],
   "source": [
    "clf.fit(Ftrain,Ltrain)\n",
    "y_pred = clf.predict(Ftest)\n",
    "print(accuracy_score(Ltest,y_pred))"
   ]
  },
  {
   "cell_type": "code",
   "execution_count": 46,
   "id": "369f8272",
   "metadata": {},
   "outputs": [
    {
     "name": "stdout",
     "output_type": "stream",
     "text": [
      "                               precision    recall  f1-score   support\n",
      "\n",
      "               bacterial_spot       0.00      0.00      0.00       345\n",
      "                 early_blight       0.00      0.00      0.00       153\n",
      "                      healthy       0.00      0.00      0.00       234\n",
      "                  late_blight       0.00      0.00      0.00       309\n",
      "                    leaf_mold       0.00      0.00      0.00       145\n",
      "           septoria_leaf_spot       0.00      0.00      0.00       293\n",
      "                  target_spot       0.00      0.00      0.00       240\n",
      "          tomato_mosaic_virus       0.00      0.00      0.00        54\n",
      "tomato_yellow_leaf_curl_virus       0.29      1.00      0.45       854\n",
      "      two-spotted_spider_mite       0.00      0.00      0.00       280\n",
      "\n",
      "                     accuracy                           0.29      2907\n",
      "                    macro avg       0.03      0.10      0.05      2907\n",
      "                 weighted avg       0.09      0.29      0.13      2907\n",
      "\n",
      "[[  0   0   0   0   0   0   0   0 345   0]\n",
      " [  0   0   0   0   0   0   0   0 153   0]\n",
      " [  0   0   0   0   0   0   0   0 234   0]\n",
      " [  0   0   0   0   0   0   0   0 309   0]\n",
      " [  0   0   0   0   0   0   0   0 145   0]\n",
      " [  0   0   0   0   0   0   0   0 293   0]\n",
      " [  0   0   0   0   0   0   0   0 240   0]\n",
      " [  0   0   0   0   0   0   0   0  54   0]\n",
      " [  0   0   0   0   0   0   0   0 854   0]\n",
      " [  0   0   0   0   0   0   0   0 280   0]]\n"
     ]
    },
    {
     "name": "stderr",
     "output_type": "stream",
     "text": [
      "C:\\Users\\ravic\\anaconda3\\lib\\site-packages\\sklearn\\metrics\\_classification.py:1318: UndefinedMetricWarning: Precision and F-score are ill-defined and being set to 0.0 in labels with no predicted samples. Use `zero_division` parameter to control this behavior.\n",
      "  _warn_prf(average, modifier, msg_start, len(result))\n",
      "C:\\Users\\ravic\\anaconda3\\lib\\site-packages\\sklearn\\metrics\\_classification.py:1318: UndefinedMetricWarning: Precision and F-score are ill-defined and being set to 0.0 in labels with no predicted samples. Use `zero_division` parameter to control this behavior.\n",
      "  _warn_prf(average, modifier, msg_start, len(result))\n",
      "C:\\Users\\ravic\\anaconda3\\lib\\site-packages\\sklearn\\metrics\\_classification.py:1318: UndefinedMetricWarning: Precision and F-score are ill-defined and being set to 0.0 in labels with no predicted samples. Use `zero_division` parameter to control this behavior.\n",
      "  _warn_prf(average, modifier, msg_start, len(result))\n"
     ]
    }
   ],
   "source": [
    "y_predict = clf.fit(Ftrain, Ltrain).predict(Ftest)\n",
    "class_names = target.unique()\n",
    "print(classification_report(Ltest, y_predict, target_names=class_names))\n",
    "print(confusion_matrix(Ltest, y_predict))"
   ]
  },
  {
   "cell_type": "markdown",
   "id": "a670c4d4",
   "metadata": {},
   "source": [
    "# Random forest on Red channel data"
   ]
  },
  {
   "cell_type": "code",
   "execution_count": 47,
   "id": "9e816e9e",
   "metadata": {},
   "outputs": [
    {
     "data": {
      "text/plain": [
       "0.5628871300757055"
      ]
     },
     "execution_count": 47,
     "metadata": {},
     "output_type": "execute_result"
    }
   ],
   "source": [
    "classifier_rf.fit(Ftrain, Ltrain)\n",
    "classifier_rf.oob_score_"
   ]
  },
  {
   "cell_type": "code",
   "execution_count": 48,
   "id": "e404f49d",
   "metadata": {},
   "outputs": [
    {
     "name": "stdout",
     "output_type": "stream",
     "text": [
      "                               precision    recall  f1-score   support\n",
      "\n",
      "               bacterial_spot       0.50      0.59      0.54       345\n",
      "                 early_blight       0.00      0.00      0.00       153\n",
      "                      healthy       0.43      0.89      0.58       234\n",
      "                  late_blight       0.60      0.16      0.26       309\n",
      "                    leaf_mold       0.76      0.15      0.25       145\n",
      "           septoria_leaf_spot       0.47      0.42      0.44       293\n",
      "                  target_spot       0.45      0.45      0.45       240\n",
      "          tomato_mosaic_virus       0.00      0.00      0.00        54\n",
      "tomato_yellow_leaf_curl_virus       0.70      0.93      0.80       854\n",
      "      two-spotted_spider_mite       0.48      0.46      0.47       280\n",
      "\n",
      "                     accuracy                           0.56      2907\n",
      "                    macro avg       0.44      0.41      0.38      2907\n",
      "                 weighted avg       0.53      0.56      0.51      2907\n",
      "\n",
      "[[205   0  14   9   0   8   6   0  96   7]\n",
      " [ 49   0  11   0   1  11  18   0  38  25]\n",
      " [  3   0 208   3   1   5   9   0   3   2]\n",
      " [ 27   0 109  50   4  41  13   0  50  15]\n",
      " [ 19   0  43   4  22  14  22   0   9  12]\n",
      " [  4   0  36  14   0 122  28   0  65  24]\n",
      " [ 40   0  37   0   1  17 107   0   7  31]\n",
      " [  4   0  14   0   0  11  10   0   2  13]\n",
      " [ 36   0   4   1   0   7   1   0 792  13]\n",
      " [ 22   0  10   2   0  24  26   0  66 130]]\n"
     ]
    },
    {
     "name": "stderr",
     "output_type": "stream",
     "text": [
      "C:\\Users\\ravic\\anaconda3\\lib\\site-packages\\sklearn\\metrics\\_classification.py:1318: UndefinedMetricWarning: Precision and F-score are ill-defined and being set to 0.0 in labels with no predicted samples. Use `zero_division` parameter to control this behavior.\n",
      "  _warn_prf(average, modifier, msg_start, len(result))\n",
      "C:\\Users\\ravic\\anaconda3\\lib\\site-packages\\sklearn\\metrics\\_classification.py:1318: UndefinedMetricWarning: Precision and F-score are ill-defined and being set to 0.0 in labels with no predicted samples. Use `zero_division` parameter to control this behavior.\n",
      "  _warn_prf(average, modifier, msg_start, len(result))\n",
      "C:\\Users\\ravic\\anaconda3\\lib\\site-packages\\sklearn\\metrics\\_classification.py:1318: UndefinedMetricWarning: Precision and F-score are ill-defined and being set to 0.0 in labels with no predicted samples. Use `zero_division` parameter to control this behavior.\n",
      "  _warn_prf(average, modifier, msg_start, len(result))\n"
     ]
    }
   ],
   "source": [
    "y_predict = classifier_rf.fit(Ftrain, Ltrain).predict(Ftest)\n",
    "class_names = target.unique()\n",
    "print(classification_report(Ltest, y_predict, target_names=class_names))\n",
    "print(confusion_matrix(Ltest, y_predict))"
   ]
  },
  {
   "cell_type": "markdown",
   "id": "e1c2d95a",
   "metadata": {},
   "source": [
    "# Naive Bayes on Red channel data"
   ]
  },
  {
   "cell_type": "code",
   "execution_count": 49,
   "id": "8ec0753c",
   "metadata": {},
   "outputs": [
    {
     "data": {
      "text/plain": [
       "GaussianNB()"
      ]
     },
     "execution_count": 49,
     "metadata": {},
     "output_type": "execute_result"
    }
   ],
   "source": [
    "gnb.fit(Ftrain, Ltrain)"
   ]
  },
  {
   "cell_type": "code",
   "execution_count": 50,
   "id": "9bd3c55d",
   "metadata": {},
   "outputs": [
    {
     "data": {
      "text/plain": [
       "0.5675954592363261"
      ]
     },
     "execution_count": 50,
     "metadata": {},
     "output_type": "execute_result"
    }
   ],
   "source": [
    "y_pred = gnb.predict(Ftest)\n",
    "metrics.accuracy_score(Ltest, y_pred)"
   ]
  },
  {
   "cell_type": "code",
   "execution_count": 51,
   "id": "4c3f9eb9",
   "metadata": {},
   "outputs": [
    {
     "name": "stderr",
     "output_type": "stream",
     "text": [
      "C:\\Users\\ravic\\anaconda3\\lib\\site-packages\\sklearn\\metrics\\_classification.py:1318: UndefinedMetricWarning: Precision and F-score are ill-defined and being set to 0.0 in labels with no predicted samples. Use `zero_division` parameter to control this behavior.\n",
      "  _warn_prf(average, modifier, msg_start, len(result))\n",
      "C:\\Users\\ravic\\anaconda3\\lib\\site-packages\\sklearn\\metrics\\_classification.py:1318: UndefinedMetricWarning: Precision and F-score are ill-defined and being set to 0.0 in labels with no predicted samples. Use `zero_division` parameter to control this behavior.\n",
      "  _warn_prf(average, modifier, msg_start, len(result))\n",
      "C:\\Users\\ravic\\anaconda3\\lib\\site-packages\\sklearn\\metrics\\_classification.py:1318: UndefinedMetricWarning: Precision and F-score are ill-defined and being set to 0.0 in labels with no predicted samples. Use `zero_division` parameter to control this behavior.\n",
      "  _warn_prf(average, modifier, msg_start, len(result))\n"
     ]
    },
    {
     "name": "stdout",
     "output_type": "stream",
     "text": [
      "                               precision    recall  f1-score   support\n",
      "\n",
      "               bacterial_spot       0.50      0.68      0.57       345\n",
      "                 early_blight       0.42      0.08      0.14       153\n",
      "                      healthy       0.51      0.79      0.62       234\n",
      "                  late_blight       0.47      0.21      0.29       309\n",
      "                    leaf_mold       0.48      0.21      0.29       145\n",
      "           septoria_leaf_spot       0.51      0.37      0.43       293\n",
      "                  target_spot       0.45      0.61      0.52       240\n",
      "          tomato_mosaic_virus       0.00      0.00      0.00        54\n",
      "tomato_yellow_leaf_curl_virus       0.77      0.83      0.80       854\n",
      "      two-spotted_spider_mite       0.42      0.58      0.48       280\n",
      "\n",
      "                     accuracy                           0.57      2907\n",
      "                    macro avg       0.45      0.44      0.41      2907\n",
      "                 weighted avg       0.55      0.57      0.54      2907\n",
      "\n",
      "[[234   2   7   9   1   6   5   0  61  20]\n",
      " [ 55  13   2   8   4   4  21   0  17  29]\n",
      " [  5   0 184  14   8   2  17   0   2   2]\n",
      " [ 26   3 101  64   8  26  21   0  38  22]\n",
      " [ 22   2  13  11  30  12  35   0   8  12]\n",
      " [  3   1  32  18   6 107  37   0  50  39]\n",
      " [ 22   1   7   5   4   8 147   0   2  44]\n",
      " [  9   0  10   2   0   7  11   0   1  14]\n",
      " [ 71   1   0   4   0  19   4   0 709  46]\n",
      " [ 22   8   2   2   1  19  32   0  32 162]]\n"
     ]
    }
   ],
   "source": [
    "class_names = target.unique()\n",
    "print(classification_report(Ltest, y_pred, target_names=class_names))\n",
    "print(confusion_matrix(Ltest, y_pred))"
   ]
  },
  {
   "cell_type": "markdown",
   "id": "b34954bd",
   "metadata": {},
   "source": [
    "# Decision Tree on Red channel"
   ]
  },
  {
   "cell_type": "code",
   "execution_count": 52,
   "id": "3ce8ed83",
   "metadata": {},
   "outputs": [
    {
     "data": {
      "text/plain": [
       "0.5228758169934641"
      ]
     },
     "execution_count": 52,
     "metadata": {},
     "output_type": "execute_result"
    }
   ],
   "source": [
    "classifier_tree.fit(Ftrain, Ltrain)\n",
    "classifier_tree.score(Ftest,Ltest)"
   ]
  },
  {
   "cell_type": "code",
   "execution_count": 53,
   "id": "78b012af",
   "metadata": {},
   "outputs": [
    {
     "name": "stdout",
     "output_type": "stream",
     "text": [
      "                               precision    recall  f1-score   support\n",
      "\n",
      "               bacterial_spot       0.51      0.48      0.49       345\n",
      "                 early_blight       0.19      0.18      0.19       153\n",
      "                      healthy       0.66      0.67      0.66       234\n",
      "                  late_blight       0.42      0.43      0.43       309\n",
      "                    leaf_mold       0.29      0.28      0.28       145\n",
      "           septoria_leaf_spot       0.39      0.37      0.38       293\n",
      "                  target_spot       0.36      0.37      0.37       240\n",
      "          tomato_mosaic_virus       0.09      0.13      0.10        54\n",
      "tomato_yellow_leaf_curl_virus       0.79      0.80      0.79       854\n",
      "      two-spotted_spider_mite       0.42      0.41      0.42       280\n",
      "\n",
      "                     accuracy                           0.52      2907\n",
      "                    macro avg       0.41      0.41      0.41      2907\n",
      "                 weighted avg       0.52      0.52      0.52      2907\n",
      "\n",
      "[[167  25   5  25  11  13  12   5  60  22]\n",
      " [ 32  28   2  22   7   6  22   3  18  13]\n",
      " [  3   5 156  26  17  11   7   6   0   3]\n",
      " [ 19  22  25 134   9  37  15   6  27  15]\n",
      " [ 15  12   6  15  40  13  18   9   4  13]\n",
      " [ 16  14  18  32  13 107  24  15  32  22]\n",
      " [ 12  13  15  18  17  25  88  16   7  29]\n",
      " [  2   1   7   2   8   9   7   7   3   8]\n",
      " [ 49  19   0  25   6  32   6   3 680  34]\n",
      " [ 15   9   3  21  12  18  43  11  33 115]]\n"
     ]
    }
   ],
   "source": [
    "y_predict = classifier_tree.fit(Ftrain, Ltrain).predict(Ftest)\n",
    "class_names = target.unique()\n",
    "print(classification_report(Ltest, y_predict, target_names=class_names))\n",
    "print(confusion_matrix(Ltest, y_predict))"
   ]
  },
  {
   "cell_type": "markdown",
   "id": "21af7568",
   "metadata": {},
   "source": [
    "# KNN on green channel data"
   ]
  },
  {
   "cell_type": "code",
   "execution_count": 54,
   "id": "461b784b",
   "metadata": {},
   "outputs": [
    {
     "data": {
      "text/plain": [
       "0.6240110079119368"
      ]
     },
     "execution_count": 54,
     "metadata": {},
     "output_type": "execute_result"
    }
   ],
   "source": [
    "os.chdir('D://DKIT//dissertation//Dataset_of_Tomato_Leaves//plantvillage//Preprocessed_data//64//PCA//')\n",
    "features = pd.read_csv('green.csv')\n",
    "#changing path\n",
    "os.chdir('D://DKIT//dissertation//Dataset_of_Tomato_Leaves//plantvillage//Preprocessed_data//64//vector//')\n",
    "#reading csv file\n",
    "green_df = pd.read_csv('green_data.csv')\n",
    "target = green_df['disease']\n",
    "kmodel.fit(Ftrain,Ltrain)\n",
    "kmodel.score(Ftest,Ltest)"
   ]
  },
  {
   "cell_type": "code",
   "execution_count": 55,
   "id": "3b84096d",
   "metadata": {},
   "outputs": [
    {
     "name": "stdout",
     "output_type": "stream",
     "text": [
      "                               precision    recall  f1-score   support\n",
      "\n",
      "               bacterial_spot       0.54      0.67      0.60       345\n",
      "                 early_blight       1.00      0.05      0.10       153\n",
      "                      healthy       0.55      0.93      0.69       234\n",
      "                  late_blight       0.68      0.38      0.49       309\n",
      "                    leaf_mold       0.63      0.18      0.28       145\n",
      "           septoria_leaf_spot       0.60      0.42      0.49       293\n",
      "                  target_spot       0.49      0.57      0.53       240\n",
      "          tomato_mosaic_virus       0.00      0.00      0.00        54\n",
      "tomato_yellow_leaf_curl_virus       0.77      0.91      0.84       854\n",
      "      two-spotted_spider_mite       0.47      0.63      0.54       280\n",
      "\n",
      "                     accuracy                           0.62      2907\n",
      "                    macro avg       0.57      0.47      0.46      2907\n",
      "                 weighted avg       0.64      0.62      0.59      2907\n",
      "\n",
      "[[231   0  10  13   0   2   7   0  69  13]\n",
      " [ 57   8   1   4   3   9  23   0  25  23]\n",
      " [  3   0 217   5   0   2   5   0   0   2]\n",
      " [ 28   0  47 117   4  30  17   0  36  30]\n",
      " [ 17   0  45   5  26   3  23   0   6  20]\n",
      " [  5   0  33  20   4 122  32   0  42  35]\n",
      " [ 24   0  22   1   1   5 138   0   4  45]\n",
      " [  7   0  14   1   3   8  10   0   0  11]\n",
      " [ 36   0   2   1   0  11   3   0 778  23]\n",
      " [ 19   0   3   4   0  11  22   0  44 177]]\n"
     ]
    },
    {
     "name": "stderr",
     "output_type": "stream",
     "text": [
      "C:\\Users\\ravic\\anaconda3\\lib\\site-packages\\sklearn\\metrics\\_classification.py:1318: UndefinedMetricWarning: Precision and F-score are ill-defined and being set to 0.0 in labels with no predicted samples. Use `zero_division` parameter to control this behavior.\n",
      "  _warn_prf(average, modifier, msg_start, len(result))\n",
      "C:\\Users\\ravic\\anaconda3\\lib\\site-packages\\sklearn\\metrics\\_classification.py:1318: UndefinedMetricWarning: Precision and F-score are ill-defined and being set to 0.0 in labels with no predicted samples. Use `zero_division` parameter to control this behavior.\n",
      "  _warn_prf(average, modifier, msg_start, len(result))\n",
      "C:\\Users\\ravic\\anaconda3\\lib\\site-packages\\sklearn\\metrics\\_classification.py:1318: UndefinedMetricWarning: Precision and F-score are ill-defined and being set to 0.0 in labels with no predicted samples. Use `zero_division` parameter to control this behavior.\n",
      "  _warn_prf(average, modifier, msg_start, len(result))\n"
     ]
    }
   ],
   "source": [
    "y_predict = kmodel.fit(Ftrain, Ltrain).predict(Ftest)\n",
    "class_names = target.unique()\n",
    "print(classification_report(Ltest, y_predict, target_names=class_names))\n",
    "print(confusion_matrix(Ltest, y_predict))"
   ]
  },
  {
   "cell_type": "markdown",
   "id": "71f3ea86",
   "metadata": {},
   "source": [
    "# Logistic on Green channel data"
   ]
  },
  {
   "cell_type": "code",
   "execution_count": 56,
   "id": "28dad6b2",
   "metadata": {},
   "outputs": [
    {
     "data": {
      "text/plain": [
       "0.2937736498108015"
      ]
     },
     "execution_count": 56,
     "metadata": {},
     "output_type": "execute_result"
    }
   ],
   "source": [
    "model.fit(Ftrain,Ltrain)\n",
    "model.score(Ftest,Ltest)"
   ]
  },
  {
   "cell_type": "code",
   "execution_count": 57,
   "id": "839a329f",
   "metadata": {},
   "outputs": [
    {
     "name": "stdout",
     "output_type": "stream",
     "text": [
      "                               precision    recall  f1-score   support\n",
      "\n",
      "               bacterial_spot       0.00      0.00      0.00       345\n",
      "                 early_blight       0.00      0.00      0.00       153\n",
      "                      healthy       0.00      0.00      0.00       234\n",
      "                  late_blight       0.00      0.00      0.00       309\n",
      "                    leaf_mold       0.00      0.00      0.00       145\n",
      "           septoria_leaf_spot       0.00      0.00      0.00       293\n",
      "                  target_spot       0.00      0.00      0.00       240\n",
      "          tomato_mosaic_virus       0.00      0.00      0.00        54\n",
      "tomato_yellow_leaf_curl_virus       0.29      1.00      0.45       854\n",
      "      two-spotted_spider_mite       0.00      0.00      0.00       280\n",
      "\n",
      "                     accuracy                           0.29      2907\n",
      "                    macro avg       0.03      0.10      0.05      2907\n",
      "                 weighted avg       0.09      0.29      0.13      2907\n",
      "\n",
      "[[  0   0   0   0   0   0   0   0 345   0]\n",
      " [  0   0   0   0   0   0   0   0 153   0]\n",
      " [  0   0   0   0   0   0   0   0 234   0]\n",
      " [  0   0   0   0   0   0   0   0 309   0]\n",
      " [  0   0   0   0   0   0   0   0 145   0]\n",
      " [  0   0   0   0   0   0   0   0 293   0]\n",
      " [  0   0   0   0   0   0   0   0 240   0]\n",
      " [  0   0   0   0   0   0   0   0  54   0]\n",
      " [  0   0   0   0   0   0   0   0 854   0]\n",
      " [  0   0   0   0   0   0   0   0 280   0]]\n"
     ]
    },
    {
     "name": "stderr",
     "output_type": "stream",
     "text": [
      "C:\\Users\\ravic\\anaconda3\\lib\\site-packages\\sklearn\\metrics\\_classification.py:1318: UndefinedMetricWarning: Precision and F-score are ill-defined and being set to 0.0 in labels with no predicted samples. Use `zero_division` parameter to control this behavior.\n",
      "  _warn_prf(average, modifier, msg_start, len(result))\n",
      "C:\\Users\\ravic\\anaconda3\\lib\\site-packages\\sklearn\\metrics\\_classification.py:1318: UndefinedMetricWarning: Precision and F-score are ill-defined and being set to 0.0 in labels with no predicted samples. Use `zero_division` parameter to control this behavior.\n",
      "  _warn_prf(average, modifier, msg_start, len(result))\n",
      "C:\\Users\\ravic\\anaconda3\\lib\\site-packages\\sklearn\\metrics\\_classification.py:1318: UndefinedMetricWarning: Precision and F-score are ill-defined and being set to 0.0 in labels with no predicted samples. Use `zero_division` parameter to control this behavior.\n",
      "  _warn_prf(average, modifier, msg_start, len(result))\n"
     ]
    }
   ],
   "source": [
    "y_predict = model.fit(Ftrain, Ltrain).predict(Ftest)\n",
    "class_names = target.unique()\n",
    "print(classification_report(Ltest, y_predict, target_names=class_names))\n",
    "print(confusion_matrix(Ltest, y_predict))"
   ]
  },
  {
   "cell_type": "markdown",
   "id": "f62f0223",
   "metadata": {},
   "source": [
    "# SVM on green channel data"
   ]
  },
  {
   "cell_type": "code",
   "execution_count": 58,
   "id": "e89e7297",
   "metadata": {},
   "outputs": [
    {
     "name": "stdout",
     "output_type": "stream",
     "text": [
      "0.2937736498108015\n"
     ]
    }
   ],
   "source": [
    "clf.fit(Ftrain,Ltrain)\n",
    "y_pred = clf.predict(Ftest)\n",
    "print(accuracy_score(Ltest,y_pred))"
   ]
  },
  {
   "cell_type": "code",
   "execution_count": 59,
   "id": "0a214a95",
   "metadata": {},
   "outputs": [
    {
     "name": "stdout",
     "output_type": "stream",
     "text": [
      "                               precision    recall  f1-score   support\n",
      "\n",
      "               bacterial_spot       0.00      0.00      0.00       345\n",
      "                 early_blight       0.00      0.00      0.00       153\n",
      "                      healthy       0.00      0.00      0.00       234\n",
      "                  late_blight       0.00      0.00      0.00       309\n",
      "                    leaf_mold       0.00      0.00      0.00       145\n",
      "           septoria_leaf_spot       0.00      0.00      0.00       293\n",
      "                  target_spot       0.00      0.00      0.00       240\n",
      "          tomato_mosaic_virus       0.00      0.00      0.00        54\n",
      "tomato_yellow_leaf_curl_virus       0.29      1.00      0.45       854\n",
      "      two-spotted_spider_mite       0.00      0.00      0.00       280\n",
      "\n",
      "                     accuracy                           0.29      2907\n",
      "                    macro avg       0.03      0.10      0.05      2907\n",
      "                 weighted avg       0.09      0.29      0.13      2907\n",
      "\n",
      "[[  0   0   0   0   0   0   0   0 345   0]\n",
      " [  0   0   0   0   0   0   0   0 153   0]\n",
      " [  0   0   0   0   0   0   0   0 234   0]\n",
      " [  0   0   0   0   0   0   0   0 309   0]\n",
      " [  0   0   0   0   0   0   0   0 145   0]\n",
      " [  0   0   0   0   0   0   0   0 293   0]\n",
      " [  0   0   0   0   0   0   0   0 240   0]\n",
      " [  0   0   0   0   0   0   0   0  54   0]\n",
      " [  0   0   0   0   0   0   0   0 854   0]\n",
      " [  0   0   0   0   0   0   0   0 280   0]]\n"
     ]
    },
    {
     "name": "stderr",
     "output_type": "stream",
     "text": [
      "C:\\Users\\ravic\\anaconda3\\lib\\site-packages\\sklearn\\metrics\\_classification.py:1318: UndefinedMetricWarning: Precision and F-score are ill-defined and being set to 0.0 in labels with no predicted samples. Use `zero_division` parameter to control this behavior.\n",
      "  _warn_prf(average, modifier, msg_start, len(result))\n",
      "C:\\Users\\ravic\\anaconda3\\lib\\site-packages\\sklearn\\metrics\\_classification.py:1318: UndefinedMetricWarning: Precision and F-score are ill-defined and being set to 0.0 in labels with no predicted samples. Use `zero_division` parameter to control this behavior.\n",
      "  _warn_prf(average, modifier, msg_start, len(result))\n",
      "C:\\Users\\ravic\\anaconda3\\lib\\site-packages\\sklearn\\metrics\\_classification.py:1318: UndefinedMetricWarning: Precision and F-score are ill-defined and being set to 0.0 in labels with no predicted samples. Use `zero_division` parameter to control this behavior.\n",
      "  _warn_prf(average, modifier, msg_start, len(result))\n"
     ]
    }
   ],
   "source": [
    "y_predict = clf.fit(Ftrain, Ltrain).predict(Ftest)\n",
    "class_names = target.unique()\n",
    "print(classification_report(Ltest, y_predict, target_names=class_names))\n",
    "print(confusion_matrix(Ltest, y_predict))"
   ]
  },
  {
   "cell_type": "markdown",
   "id": "4f8e565e",
   "metadata": {},
   "source": [
    "# Random Forest on green channel data"
   ]
  },
  {
   "cell_type": "code",
   "execution_count": 60,
   "id": "96c92f8f",
   "metadata": {},
   "outputs": [
    {
     "data": {
      "text/plain": [
       "0.5628871300757055"
      ]
     },
     "execution_count": 60,
     "metadata": {},
     "output_type": "execute_result"
    }
   ],
   "source": [
    "classifier_rf.fit(Ftrain, Ltrain)\n",
    "classifier_rf.oob_score_"
   ]
  },
  {
   "cell_type": "code",
   "execution_count": 61,
   "id": "a8f818ad",
   "metadata": {},
   "outputs": [
    {
     "name": "stdout",
     "output_type": "stream",
     "text": [
      "                               precision    recall  f1-score   support\n",
      "\n",
      "               bacterial_spot       0.50      0.59      0.54       345\n",
      "                 early_blight       0.00      0.00      0.00       153\n",
      "                      healthy       0.43      0.89      0.58       234\n",
      "                  late_blight       0.60      0.16      0.26       309\n",
      "                    leaf_mold       0.76      0.15      0.25       145\n",
      "           septoria_leaf_spot       0.47      0.42      0.44       293\n",
      "                  target_spot       0.45      0.45      0.45       240\n",
      "          tomato_mosaic_virus       0.00      0.00      0.00        54\n",
      "tomato_yellow_leaf_curl_virus       0.70      0.93      0.80       854\n",
      "      two-spotted_spider_mite       0.48      0.46      0.47       280\n",
      "\n",
      "                     accuracy                           0.56      2907\n",
      "                    macro avg       0.44      0.41      0.38      2907\n",
      "                 weighted avg       0.53      0.56      0.51      2907\n",
      "\n",
      "[[205   0  14   9   0   8   6   0  96   7]\n",
      " [ 49   0  11   0   1  11  18   0  38  25]\n",
      " [  3   0 208   3   1   5   9   0   3   2]\n",
      " [ 27   0 109  50   4  41  13   0  50  15]\n",
      " [ 19   0  43   4  22  14  22   0   9  12]\n",
      " [  4   0  36  14   0 122  28   0  65  24]\n",
      " [ 40   0  37   0   1  17 107   0   7  31]\n",
      " [  4   0  14   0   0  11  10   0   2  13]\n",
      " [ 36   0   4   1   0   7   1   0 792  13]\n",
      " [ 22   0  10   2   0  24  26   0  66 130]]\n"
     ]
    },
    {
     "name": "stderr",
     "output_type": "stream",
     "text": [
      "C:\\Users\\ravic\\anaconda3\\lib\\site-packages\\sklearn\\metrics\\_classification.py:1318: UndefinedMetricWarning: Precision and F-score are ill-defined and being set to 0.0 in labels with no predicted samples. Use `zero_division` parameter to control this behavior.\n",
      "  _warn_prf(average, modifier, msg_start, len(result))\n",
      "C:\\Users\\ravic\\anaconda3\\lib\\site-packages\\sklearn\\metrics\\_classification.py:1318: UndefinedMetricWarning: Precision and F-score are ill-defined and being set to 0.0 in labels with no predicted samples. Use `zero_division` parameter to control this behavior.\n",
      "  _warn_prf(average, modifier, msg_start, len(result))\n",
      "C:\\Users\\ravic\\anaconda3\\lib\\site-packages\\sklearn\\metrics\\_classification.py:1318: UndefinedMetricWarning: Precision and F-score are ill-defined and being set to 0.0 in labels with no predicted samples. Use `zero_division` parameter to control this behavior.\n",
      "  _warn_prf(average, modifier, msg_start, len(result))\n"
     ]
    }
   ],
   "source": [
    "y_predict = classifier_rf.fit(Ftrain, Ltrain).predict(Ftest)\n",
    "class_names = target.unique()\n",
    "print(classification_report(Ltest, y_predict, target_names=class_names))\n",
    "print(confusion_matrix(Ltest, y_predict))"
   ]
  },
  {
   "cell_type": "markdown",
   "id": "e9b1cca9",
   "metadata": {},
   "source": [
    "# Naive bayes on Green channel data"
   ]
  },
  {
   "cell_type": "code",
   "execution_count": 62,
   "id": "1136802c",
   "metadata": {},
   "outputs": [
    {
     "data": {
      "text/plain": [
       "0.5675954592363261"
      ]
     },
     "execution_count": 62,
     "metadata": {},
     "output_type": "execute_result"
    }
   ],
   "source": [
    "gnb.fit(Ftrain, Ltrain)\n",
    "y_pred = gnb.predict(Ftest)\n",
    "metrics.accuracy_score(Ltest, y_pred)"
   ]
  },
  {
   "cell_type": "code",
   "execution_count": 63,
   "id": "413e42be",
   "metadata": {},
   "outputs": [
    {
     "name": "stdout",
     "output_type": "stream",
     "text": [
      "                               precision    recall  f1-score   support\n",
      "\n",
      "               bacterial_spot       0.50      0.68      0.57       345\n",
      "                 early_blight       0.42      0.08      0.14       153\n",
      "                      healthy       0.51      0.79      0.62       234\n",
      "                  late_blight       0.47      0.21      0.29       309\n",
      "                    leaf_mold       0.48      0.21      0.29       145\n",
      "           septoria_leaf_spot       0.51      0.37      0.43       293\n",
      "                  target_spot       0.45      0.61      0.52       240\n",
      "          tomato_mosaic_virus       0.00      0.00      0.00        54\n",
      "tomato_yellow_leaf_curl_virus       0.77      0.83      0.80       854\n",
      "      two-spotted_spider_mite       0.42      0.58      0.48       280\n",
      "\n",
      "                     accuracy                           0.57      2907\n",
      "                    macro avg       0.45      0.44      0.41      2907\n",
      "                 weighted avg       0.55      0.57      0.54      2907\n",
      "\n",
      "[[234   2   7   9   1   6   5   0  61  20]\n",
      " [ 55  13   2   8   4   4  21   0  17  29]\n",
      " [  5   0 184  14   8   2  17   0   2   2]\n",
      " [ 26   3 101  64   8  26  21   0  38  22]\n",
      " [ 22   2  13  11  30  12  35   0   8  12]\n",
      " [  3   1  32  18   6 107  37   0  50  39]\n",
      " [ 22   1   7   5   4   8 147   0   2  44]\n",
      " [  9   0  10   2   0   7  11   0   1  14]\n",
      " [ 71   1   0   4   0  19   4   0 709  46]\n",
      " [ 22   8   2   2   1  19  32   0  32 162]]\n"
     ]
    },
    {
     "name": "stderr",
     "output_type": "stream",
     "text": [
      "C:\\Users\\ravic\\anaconda3\\lib\\site-packages\\sklearn\\metrics\\_classification.py:1318: UndefinedMetricWarning: Precision and F-score are ill-defined and being set to 0.0 in labels with no predicted samples. Use `zero_division` parameter to control this behavior.\n",
      "  _warn_prf(average, modifier, msg_start, len(result))\n",
      "C:\\Users\\ravic\\anaconda3\\lib\\site-packages\\sklearn\\metrics\\_classification.py:1318: UndefinedMetricWarning: Precision and F-score are ill-defined and being set to 0.0 in labels with no predicted samples. Use `zero_division` parameter to control this behavior.\n",
      "  _warn_prf(average, modifier, msg_start, len(result))\n",
      "C:\\Users\\ravic\\anaconda3\\lib\\site-packages\\sklearn\\metrics\\_classification.py:1318: UndefinedMetricWarning: Precision and F-score are ill-defined and being set to 0.0 in labels with no predicted samples. Use `zero_division` parameter to control this behavior.\n",
      "  _warn_prf(average, modifier, msg_start, len(result))\n"
     ]
    }
   ],
   "source": [
    "class_names = target.unique()\n",
    "print(classification_report(Ltest, y_pred, target_names=class_names))\n",
    "print(confusion_matrix(Ltest, y_pred))"
   ]
  },
  {
   "cell_type": "markdown",
   "id": "9002e08b",
   "metadata": {},
   "source": [
    "# Decision Tree on Green channel"
   ]
  },
  {
   "cell_type": "code",
   "execution_count": 64,
   "id": "6b115934",
   "metadata": {},
   "outputs": [
    {
     "data": {
      "text/plain": [
       "0.5242518059855521"
      ]
     },
     "execution_count": 64,
     "metadata": {},
     "output_type": "execute_result"
    }
   ],
   "source": [
    "classifier_tree.fit(Ftrain, Ltrain)\n",
    "classifier_tree.score(Ftest,Ltest)"
   ]
  },
  {
   "cell_type": "code",
   "execution_count": 65,
   "id": "a1694af3",
   "metadata": {},
   "outputs": [
    {
     "name": "stdout",
     "output_type": "stream",
     "text": [
      "                               precision    recall  f1-score   support\n",
      "\n",
      "               bacterial_spot       0.50      0.48      0.49       345\n",
      "                 early_blight       0.18      0.19      0.19       153\n",
      "                      healthy       0.64      0.67      0.65       234\n",
      "                  late_blight       0.43      0.46      0.44       309\n",
      "                    leaf_mold       0.28      0.28      0.28       145\n",
      "           septoria_leaf_spot       0.39      0.36      0.38       293\n",
      "                  target_spot       0.36      0.34      0.35       240\n",
      "          tomato_mosaic_virus       0.10      0.13      0.11        54\n",
      "tomato_yellow_leaf_curl_virus       0.79      0.80      0.79       854\n",
      "      two-spotted_spider_mite       0.43      0.41      0.42       280\n",
      "\n",
      "                     accuracy                           0.53      2907\n",
      "                    macro avg       0.41      0.41      0.41      2907\n",
      "                 weighted avg       0.52      0.53      0.52      2907\n",
      "\n",
      "[[164  29   5  29  13  11  12   4  58  20]\n",
      " [ 30  29   2  18   7   9  21   4  19  14]\n",
      " [  3   4 156  26  17  12   7   7   0   2]\n",
      " [ 15  21  26 141   8  37  10   6  26  19]\n",
      " [ 14  11  12  14  41  12  14  10   4  13]\n",
      " [ 18  16  16  32  16 106  24   9  33  23]\n",
      " [ 13  14  17  23  19  24  82  13  11  24]\n",
      " [  3   2   7   3   5  10   8   7   2   7]\n",
      " [ 48  21   1  27   5  30   5   2 685  30]\n",
      " [ 17  11   3  18  14  18  42   9  32 116]]\n"
     ]
    }
   ],
   "source": [
    "y_predict = classifier_tree.fit(Ftrain, Ltrain).predict(Ftest)\n",
    "class_names = target.unique()\n",
    "print(classification_report(Ltest, y_predict, target_names=class_names))\n",
    "print(confusion_matrix(Ltest, y_predict))"
   ]
  },
  {
   "cell_type": "markdown",
   "id": "75817642",
   "metadata": {},
   "source": [
    "# KNN on blue channel data"
   ]
  },
  {
   "cell_type": "code",
   "execution_count": 66,
   "id": "531e3624",
   "metadata": {},
   "outputs": [
    {
     "data": {
      "text/plain": [
       "0.6240110079119368"
      ]
     },
     "execution_count": 66,
     "metadata": {},
     "output_type": "execute_result"
    }
   ],
   "source": [
    "os.chdir('D://DKIT//dissertation//Dataset_of_Tomato_Leaves//plantvillage//Preprocessed_data//64//PCA//')\n",
    "features = pd.read_csv('blue.csv')\n",
    "#changing path\n",
    "os.chdir('D://DKIT//dissertation//Dataset_of_Tomato_Leaves//plantvillage//Preprocessed_data//64//vector//')\n",
    "#reading csv file\n",
    "blue_df = pd.read_csv('blue_data.csv')\n",
    "target = blue_df['disease']\n",
    "kmodel.fit(Ftrain,Ltrain)\n",
    "kmodel.score(Ftest,Ltest)"
   ]
  },
  {
   "cell_type": "code",
   "execution_count": 67,
   "id": "16330eb3",
   "metadata": {},
   "outputs": [
    {
     "name": "stdout",
     "output_type": "stream",
     "text": [
      "                               precision    recall  f1-score   support\n",
      "\n",
      "               bacterial_spot       0.54      0.67      0.60       345\n",
      "                 early_blight       1.00      0.05      0.10       153\n",
      "                      healthy       0.55      0.93      0.69       234\n",
      "                  late_blight       0.68      0.38      0.49       309\n",
      "                    leaf_mold       0.63      0.18      0.28       145\n",
      "           septoria_leaf_spot       0.60      0.42      0.49       293\n",
      "                  target_spot       0.49      0.57      0.53       240\n",
      "          tomato_mosaic_virus       0.00      0.00      0.00        54\n",
      "tomato_yellow_leaf_curl_virus       0.77      0.91      0.84       854\n",
      "      two-spotted_spider_mite       0.47      0.63      0.54       280\n",
      "\n",
      "                     accuracy                           0.62      2907\n",
      "                    macro avg       0.57      0.47      0.46      2907\n",
      "                 weighted avg       0.64      0.62      0.59      2907\n",
      "\n",
      "[[231   0  10  13   0   2   7   0  69  13]\n",
      " [ 57   8   1   4   3   9  23   0  25  23]\n",
      " [  3   0 217   5   0   2   5   0   0   2]\n",
      " [ 28   0  47 117   4  30  17   0  36  30]\n",
      " [ 17   0  45   5  26   3  23   0   6  20]\n",
      " [  5   0  33  20   4 122  32   0  42  35]\n",
      " [ 24   0  22   1   1   5 138   0   4  45]\n",
      " [  7   0  14   1   3   8  10   0   0  11]\n",
      " [ 36   0   2   1   0  11   3   0 778  23]\n",
      " [ 19   0   3   4   0  11  22   0  44 177]]\n"
     ]
    },
    {
     "name": "stderr",
     "output_type": "stream",
     "text": [
      "C:\\Users\\ravic\\anaconda3\\lib\\site-packages\\sklearn\\metrics\\_classification.py:1318: UndefinedMetricWarning: Precision and F-score are ill-defined and being set to 0.0 in labels with no predicted samples. Use `zero_division` parameter to control this behavior.\n",
      "  _warn_prf(average, modifier, msg_start, len(result))\n",
      "C:\\Users\\ravic\\anaconda3\\lib\\site-packages\\sklearn\\metrics\\_classification.py:1318: UndefinedMetricWarning: Precision and F-score are ill-defined and being set to 0.0 in labels with no predicted samples. Use `zero_division` parameter to control this behavior.\n",
      "  _warn_prf(average, modifier, msg_start, len(result))\n",
      "C:\\Users\\ravic\\anaconda3\\lib\\site-packages\\sklearn\\metrics\\_classification.py:1318: UndefinedMetricWarning: Precision and F-score are ill-defined and being set to 0.0 in labels with no predicted samples. Use `zero_division` parameter to control this behavior.\n",
      "  _warn_prf(average, modifier, msg_start, len(result))\n"
     ]
    }
   ],
   "source": [
    "y_predict = kmodel.fit(Ftrain, Ltrain).predict(Ftest)\n",
    "class_names = target.unique()\n",
    "print(classification_report(Ltest, y_predict, target_names=class_names))\n",
    "print(confusion_matrix(Ltest, y_predict))"
   ]
  },
  {
   "cell_type": "markdown",
   "id": "f452a113",
   "metadata": {},
   "source": [
    "# logistic on blue channel data"
   ]
  },
  {
   "cell_type": "code",
   "execution_count": 68,
   "id": "de158586",
   "metadata": {},
   "outputs": [
    {
     "data": {
      "text/plain": [
       "0.2937736498108015"
      ]
     },
     "execution_count": 68,
     "metadata": {},
     "output_type": "execute_result"
    }
   ],
   "source": [
    "model.fit(Ftrain,Ltrain)\n",
    "model.score(Ftest,Ltest)"
   ]
  },
  {
   "cell_type": "code",
   "execution_count": 69,
   "id": "30e98a1a",
   "metadata": {},
   "outputs": [
    {
     "name": "stdout",
     "output_type": "stream",
     "text": [
      "                               precision    recall  f1-score   support\n",
      "\n",
      "               bacterial_spot       0.00      0.00      0.00       345\n",
      "                 early_blight       0.00      0.00      0.00       153\n",
      "                      healthy       0.00      0.00      0.00       234\n",
      "                  late_blight       0.00      0.00      0.00       309\n",
      "                    leaf_mold       0.00      0.00      0.00       145\n",
      "           septoria_leaf_spot       0.00      0.00      0.00       293\n",
      "                  target_spot       0.00      0.00      0.00       240\n",
      "          tomato_mosaic_virus       0.00      0.00      0.00        54\n",
      "tomato_yellow_leaf_curl_virus       0.29      1.00      0.45       854\n",
      "      two-spotted_spider_mite       0.00      0.00      0.00       280\n",
      "\n",
      "                     accuracy                           0.29      2907\n",
      "                    macro avg       0.03      0.10      0.05      2907\n",
      "                 weighted avg       0.09      0.29      0.13      2907\n",
      "\n",
      "[[  0   0   0   0   0   0   0   0 345   0]\n",
      " [  0   0   0   0   0   0   0   0 153   0]\n",
      " [  0   0   0   0   0   0   0   0 234   0]\n",
      " [  0   0   0   0   0   0   0   0 309   0]\n",
      " [  0   0   0   0   0   0   0   0 145   0]\n",
      " [  0   0   0   0   0   0   0   0 293   0]\n",
      " [  0   0   0   0   0   0   0   0 240   0]\n",
      " [  0   0   0   0   0   0   0   0  54   0]\n",
      " [  0   0   0   0   0   0   0   0 854   0]\n",
      " [  0   0   0   0   0   0   0   0 280   0]]\n"
     ]
    },
    {
     "name": "stderr",
     "output_type": "stream",
     "text": [
      "C:\\Users\\ravic\\anaconda3\\lib\\site-packages\\sklearn\\metrics\\_classification.py:1318: UndefinedMetricWarning: Precision and F-score are ill-defined and being set to 0.0 in labels with no predicted samples. Use `zero_division` parameter to control this behavior.\n",
      "  _warn_prf(average, modifier, msg_start, len(result))\n",
      "C:\\Users\\ravic\\anaconda3\\lib\\site-packages\\sklearn\\metrics\\_classification.py:1318: UndefinedMetricWarning: Precision and F-score are ill-defined and being set to 0.0 in labels with no predicted samples. Use `zero_division` parameter to control this behavior.\n",
      "  _warn_prf(average, modifier, msg_start, len(result))\n",
      "C:\\Users\\ravic\\anaconda3\\lib\\site-packages\\sklearn\\metrics\\_classification.py:1318: UndefinedMetricWarning: Precision and F-score are ill-defined and being set to 0.0 in labels with no predicted samples. Use `zero_division` parameter to control this behavior.\n",
      "  _warn_prf(average, modifier, msg_start, len(result))\n"
     ]
    }
   ],
   "source": [
    "y_predict = model.fit(Ftrain, Ltrain).predict(Ftest)\n",
    "class_names = target.unique()\n",
    "print(classification_report(Ltest, y_predict, target_names=class_names))\n",
    "print(confusion_matrix(Ltest, y_predict))"
   ]
  },
  {
   "cell_type": "markdown",
   "id": "c7585c1d",
   "metadata": {},
   "source": [
    "# SVM on blue channel data"
   ]
  },
  {
   "cell_type": "code",
   "execution_count": 70,
   "id": "06fb4a0f",
   "metadata": {},
   "outputs": [
    {
     "name": "stdout",
     "output_type": "stream",
     "text": [
      "0.2937736498108015\n"
     ]
    }
   ],
   "source": [
    "clf.fit(Ftrain,Ltrain)\n",
    "y_pred = clf.predict(Ftest)\n",
    "print(accuracy_score(Ltest,y_pred))"
   ]
  },
  {
   "cell_type": "code",
   "execution_count": 71,
   "id": "6e1082ce",
   "metadata": {},
   "outputs": [
    {
     "name": "stdout",
     "output_type": "stream",
     "text": [
      "                               precision    recall  f1-score   support\n",
      "\n",
      "               bacterial_spot       0.00      0.00      0.00       345\n",
      "                 early_blight       0.00      0.00      0.00       153\n",
      "                      healthy       0.00      0.00      0.00       234\n",
      "                  late_blight       0.00      0.00      0.00       309\n",
      "                    leaf_mold       0.00      0.00      0.00       145\n",
      "           septoria_leaf_spot       0.00      0.00      0.00       293\n",
      "                  target_spot       0.00      0.00      0.00       240\n",
      "          tomato_mosaic_virus       0.00      0.00      0.00        54\n",
      "tomato_yellow_leaf_curl_virus       0.29      1.00      0.45       854\n",
      "      two-spotted_spider_mite       0.00      0.00      0.00       280\n",
      "\n",
      "                     accuracy                           0.29      2907\n",
      "                    macro avg       0.03      0.10      0.05      2907\n",
      "                 weighted avg       0.09      0.29      0.13      2907\n",
      "\n",
      "[[  0   0   0   0   0   0   0   0 345   0]\n",
      " [  0   0   0   0   0   0   0   0 153   0]\n",
      " [  0   0   0   0   0   0   0   0 234   0]\n",
      " [  0   0   0   0   0   0   0   0 309   0]\n",
      " [  0   0   0   0   0   0   0   0 145   0]\n",
      " [  0   0   0   0   0   0   0   0 293   0]\n",
      " [  0   0   0   0   0   0   0   0 240   0]\n",
      " [  0   0   0   0   0   0   0   0  54   0]\n",
      " [  0   0   0   0   0   0   0   0 854   0]\n",
      " [  0   0   0   0   0   0   0   0 280   0]]\n"
     ]
    },
    {
     "name": "stderr",
     "output_type": "stream",
     "text": [
      "C:\\Users\\ravic\\anaconda3\\lib\\site-packages\\sklearn\\metrics\\_classification.py:1318: UndefinedMetricWarning: Precision and F-score are ill-defined and being set to 0.0 in labels with no predicted samples. Use `zero_division` parameter to control this behavior.\n",
      "  _warn_prf(average, modifier, msg_start, len(result))\n",
      "C:\\Users\\ravic\\anaconda3\\lib\\site-packages\\sklearn\\metrics\\_classification.py:1318: UndefinedMetricWarning: Precision and F-score are ill-defined and being set to 0.0 in labels with no predicted samples. Use `zero_division` parameter to control this behavior.\n",
      "  _warn_prf(average, modifier, msg_start, len(result))\n",
      "C:\\Users\\ravic\\anaconda3\\lib\\site-packages\\sklearn\\metrics\\_classification.py:1318: UndefinedMetricWarning: Precision and F-score are ill-defined and being set to 0.0 in labels with no predicted samples. Use `zero_division` parameter to control this behavior.\n",
      "  _warn_prf(average, modifier, msg_start, len(result))\n"
     ]
    }
   ],
   "source": [
    "y_predict = clf.fit(Ftrain, Ltrain).predict(Ftest)\n",
    "class_names = target.unique()\n",
    "print(classification_report(Ltest, y_predict, target_names=class_names))\n",
    "print(confusion_matrix(Ltest, y_predict))"
   ]
  },
  {
   "cell_type": "markdown",
   "id": "f4eb8c6c",
   "metadata": {},
   "source": [
    "# Random Forest on blue channel data"
   ]
  },
  {
   "cell_type": "code",
   "execution_count": 72,
   "id": "b71407b2",
   "metadata": {},
   "outputs": [
    {
     "data": {
      "text/plain": [
       "0.5628871300757055"
      ]
     },
     "execution_count": 72,
     "metadata": {},
     "output_type": "execute_result"
    }
   ],
   "source": [
    "classifier_rf.fit(Ftrain, Ltrain)\n",
    "classifier_rf.oob_score_"
   ]
  },
  {
   "cell_type": "code",
   "execution_count": 73,
   "id": "aa723da2",
   "metadata": {},
   "outputs": [
    {
     "name": "stdout",
     "output_type": "stream",
     "text": [
      "                               precision    recall  f1-score   support\n",
      "\n",
      "               bacterial_spot       0.50      0.59      0.54       345\n",
      "                 early_blight       0.00      0.00      0.00       153\n",
      "                      healthy       0.43      0.89      0.58       234\n",
      "                  late_blight       0.60      0.16      0.26       309\n",
      "                    leaf_mold       0.76      0.15      0.25       145\n",
      "           septoria_leaf_spot       0.47      0.42      0.44       293\n",
      "                  target_spot       0.45      0.45      0.45       240\n",
      "          tomato_mosaic_virus       0.00      0.00      0.00        54\n",
      "tomato_yellow_leaf_curl_virus       0.70      0.93      0.80       854\n",
      "      two-spotted_spider_mite       0.48      0.46      0.47       280\n",
      "\n",
      "                     accuracy                           0.56      2907\n",
      "                    macro avg       0.44      0.41      0.38      2907\n",
      "                 weighted avg       0.53      0.56      0.51      2907\n",
      "\n",
      "[[205   0  14   9   0   8   6   0  96   7]\n",
      " [ 49   0  11   0   1  11  18   0  38  25]\n",
      " [  3   0 208   3   1   5   9   0   3   2]\n",
      " [ 27   0 109  50   4  41  13   0  50  15]\n",
      " [ 19   0  43   4  22  14  22   0   9  12]\n",
      " [  4   0  36  14   0 122  28   0  65  24]\n",
      " [ 40   0  37   0   1  17 107   0   7  31]\n",
      " [  4   0  14   0   0  11  10   0   2  13]\n",
      " [ 36   0   4   1   0   7   1   0 792  13]\n",
      " [ 22   0  10   2   0  24  26   0  66 130]]\n"
     ]
    },
    {
     "name": "stderr",
     "output_type": "stream",
     "text": [
      "C:\\Users\\ravic\\anaconda3\\lib\\site-packages\\sklearn\\metrics\\_classification.py:1318: UndefinedMetricWarning: Precision and F-score are ill-defined and being set to 0.0 in labels with no predicted samples. Use `zero_division` parameter to control this behavior.\n",
      "  _warn_prf(average, modifier, msg_start, len(result))\n",
      "C:\\Users\\ravic\\anaconda3\\lib\\site-packages\\sklearn\\metrics\\_classification.py:1318: UndefinedMetricWarning: Precision and F-score are ill-defined and being set to 0.0 in labels with no predicted samples. Use `zero_division` parameter to control this behavior.\n",
      "  _warn_prf(average, modifier, msg_start, len(result))\n",
      "C:\\Users\\ravic\\anaconda3\\lib\\site-packages\\sklearn\\metrics\\_classification.py:1318: UndefinedMetricWarning: Precision and F-score are ill-defined and being set to 0.0 in labels with no predicted samples. Use `zero_division` parameter to control this behavior.\n",
      "  _warn_prf(average, modifier, msg_start, len(result))\n"
     ]
    }
   ],
   "source": [
    "y_predict = classifier_rf.fit(Ftrain, Ltrain).predict(Ftest)\n",
    "class_names = target.unique()\n",
    "print(classification_report(Ltest, y_predict, target_names=class_names))\n",
    "print(confusion_matrix(Ltest, y_predict))"
   ]
  },
  {
   "cell_type": "markdown",
   "id": "fb1ca20e",
   "metadata": {},
   "source": [
    "# Naive bayes on blue channel data"
   ]
  },
  {
   "cell_type": "code",
   "execution_count": 74,
   "id": "11ea0b85",
   "metadata": {},
   "outputs": [
    {
     "data": {
      "text/plain": [
       "0.5675954592363261"
      ]
     },
     "execution_count": 74,
     "metadata": {},
     "output_type": "execute_result"
    }
   ],
   "source": [
    "gnb.fit(Ftrain, Ltrain)\n",
    "y_pred = gnb.predict(Ftest)\n",
    "metrics.accuracy_score(Ltest, y_pred)"
   ]
  },
  {
   "cell_type": "code",
   "execution_count": 75,
   "id": "ca5ce1db",
   "metadata": {},
   "outputs": [
    {
     "name": "stdout",
     "output_type": "stream",
     "text": [
      "                               precision    recall  f1-score   support\n",
      "\n",
      "               bacterial_spot       0.50      0.68      0.57       345\n",
      "                 early_blight       0.42      0.08      0.14       153\n",
      "                      healthy       0.51      0.79      0.62       234\n",
      "                  late_blight       0.47      0.21      0.29       309\n",
      "                    leaf_mold       0.48      0.21      0.29       145\n",
      "           septoria_leaf_spot       0.51      0.37      0.43       293\n",
      "                  target_spot       0.45      0.61      0.52       240\n",
      "          tomato_mosaic_virus       0.00      0.00      0.00        54\n",
      "tomato_yellow_leaf_curl_virus       0.77      0.83      0.80       854\n",
      "      two-spotted_spider_mite       0.42      0.58      0.48       280\n",
      "\n",
      "                     accuracy                           0.57      2907\n",
      "                    macro avg       0.45      0.44      0.41      2907\n",
      "                 weighted avg       0.55      0.57      0.54      2907\n",
      "\n",
      "[[234   2   7   9   1   6   5   0  61  20]\n",
      " [ 55  13   2   8   4   4  21   0  17  29]\n",
      " [  5   0 184  14   8   2  17   0   2   2]\n",
      " [ 26   3 101  64   8  26  21   0  38  22]\n",
      " [ 22   2  13  11  30  12  35   0   8  12]\n",
      " [  3   1  32  18   6 107  37   0  50  39]\n",
      " [ 22   1   7   5   4   8 147   0   2  44]\n",
      " [  9   0  10   2   0   7  11   0   1  14]\n",
      " [ 71   1   0   4   0  19   4   0 709  46]\n",
      " [ 22   8   2   2   1  19  32   0  32 162]]\n"
     ]
    },
    {
     "name": "stderr",
     "output_type": "stream",
     "text": [
      "C:\\Users\\ravic\\anaconda3\\lib\\site-packages\\sklearn\\metrics\\_classification.py:1318: UndefinedMetricWarning: Precision and F-score are ill-defined and being set to 0.0 in labels with no predicted samples. Use `zero_division` parameter to control this behavior.\n",
      "  _warn_prf(average, modifier, msg_start, len(result))\n",
      "C:\\Users\\ravic\\anaconda3\\lib\\site-packages\\sklearn\\metrics\\_classification.py:1318: UndefinedMetricWarning: Precision and F-score are ill-defined and being set to 0.0 in labels with no predicted samples. Use `zero_division` parameter to control this behavior.\n",
      "  _warn_prf(average, modifier, msg_start, len(result))\n",
      "C:\\Users\\ravic\\anaconda3\\lib\\site-packages\\sklearn\\metrics\\_classification.py:1318: UndefinedMetricWarning: Precision and F-score are ill-defined and being set to 0.0 in labels with no predicted samples. Use `zero_division` parameter to control this behavior.\n",
      "  _warn_prf(average, modifier, msg_start, len(result))\n"
     ]
    }
   ],
   "source": [
    "class_names = target.unique()\n",
    "print(classification_report(Ltest, y_pred, target_names=class_names))\n",
    "print(confusion_matrix(Ltest, y_pred))"
   ]
  },
  {
   "cell_type": "markdown",
   "id": "d9c9d428",
   "metadata": {},
   "source": [
    "# Decision Tree on Blue channel"
   ]
  },
  {
   "cell_type": "code",
   "execution_count": 76,
   "id": "cbeebfa6",
   "metadata": {},
   "outputs": [
    {
     "data": {
      "text/plain": [
       "0.5239078087375301"
      ]
     },
     "execution_count": 76,
     "metadata": {},
     "output_type": "execute_result"
    }
   ],
   "source": [
    "classifier_tree.fit(Ftrain, Ltrain)\n",
    "classifier_tree.score(Ftest,Ltest)"
   ]
  },
  {
   "cell_type": "code",
   "execution_count": 77,
   "id": "ef622e2a",
   "metadata": {},
   "outputs": [
    {
     "name": "stdout",
     "output_type": "stream",
     "text": [
      "                               precision    recall  f1-score   support\n",
      "\n",
      "               bacterial_spot       0.52      0.49      0.51       345\n",
      "                 early_blight       0.17      0.16      0.17       153\n",
      "                      healthy       0.65      0.68      0.66       234\n",
      "                  late_blight       0.42      0.44      0.43       309\n",
      "                    leaf_mold       0.27      0.27      0.27       145\n",
      "           septoria_leaf_spot       0.40      0.37      0.38       293\n",
      "                  target_spot       0.34      0.33      0.33       240\n",
      "          tomato_mosaic_virus       0.09      0.13      0.11        54\n",
      "tomato_yellow_leaf_curl_virus       0.78      0.80      0.79       854\n",
      "      two-spotted_spider_mite       0.40      0.40      0.40       280\n",
      "\n",
      "                     accuracy                           0.52      2907\n",
      "                    macro avg       0.40      0.41      0.40      2907\n",
      "                 weighted avg       0.52      0.52      0.52      2907\n",
      "\n",
      "[[169  27   4  26  13   9  10   5  59  23]\n",
      " [ 34  25   2  20   8   6  22   2  18  16]\n",
      " [  3   4 158  24  16  14   5   5   0   5]\n",
      " [ 17  17  26 135   9  39  15   8  30  13]\n",
      " [ 11  10  10  15  39  11  21  12   4  12]\n",
      " [ 14  12  16  38  14 107  23  13  34  22]\n",
      " [ 10  14  17  19  21  24  79  14   9  33]\n",
      " [  3   3   7   2   6   9   8   7   2   7]\n",
      " [ 47  22   0  26   6  32   6   1 679  35]\n",
      " [ 16  14   3  20  10  17  44  11  33 112]]\n"
     ]
    }
   ],
   "source": [
    "y_predict = classifier_tree.fit(Ftrain, Ltrain).predict(Ftest)\n",
    "class_names = target.unique()\n",
    "print(classification_report(Ltest, y_predict, target_names=class_names))\n",
    "print(confusion_matrix(Ltest, y_predict))"
   ]
  },
  {
   "cell_type": "code",
   "execution_count": 78,
   "id": "1f7bcc12",
   "metadata": {},
   "outputs": [
    {
     "name": "stdout",
     "output_type": "stream",
     "text": [
      "80.27666163444519\n"
     ]
    }
   ],
   "source": [
    "end_time = time.time()\n",
    "print(end_time - start_time)"
   ]
  }
 ],
 "metadata": {
  "kernelspec": {
   "display_name": "Python 3 (ipykernel)",
   "language": "python",
   "name": "python3"
  },
  "language_info": {
   "codemirror_mode": {
    "name": "ipython",
    "version": 3
   },
   "file_extension": ".py",
   "mimetype": "text/x-python",
   "name": "python",
   "nbconvert_exporter": "python",
   "pygments_lexer": "ipython3",
   "version": "3.9.12"
  }
 },
 "nbformat": 4,
 "nbformat_minor": 5
}
