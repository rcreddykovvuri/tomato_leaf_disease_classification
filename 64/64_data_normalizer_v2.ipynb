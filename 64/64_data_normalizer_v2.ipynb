{
 "cells": [
  {
   "cell_type": "code",
   "execution_count": 1,
   "id": "bcdb1517",
   "metadata": {},
   "outputs": [],
   "source": [
    "import numpy as np #importing numpy\n",
    "import pandas as pd #importing pandas\n",
    "import PIL #importing pillow for image processing\n",
    "from PIL import Image#importing image from pillow library\n",
    "import skimage#importing skimage library\n",
    "import os#importing os library\n",
    "import time#importing time library\n",
    "\n",
    "#Capture start time of the program\n",
    "start_time = time.time()"
   ]
  },
  {
   "cell_type": "code",
   "execution_count": 2,
   "id": "9ec45970",
   "metadata": {},
   "outputs": [],
   "source": [
    "#changing path\n",
    "os.chdir('D://DKIT//dissertation//Dataset_of_Tomato_Leaves//plantvillage//Preprocessed_data//64//vector//')"
   ]
  },
  {
   "cell_type": "code",
   "execution_count": 3,
   "id": "4b677f27",
   "metadata": {},
   "outputs": [],
   "source": [
    "#importing normalizer function and assigning it to norm\n",
    "from sklearn.preprocessing import Normalizer\n",
    "norm = Normalizer()"
   ]
  },
  {
   "cell_type": "markdown",
   "id": "e1e76605",
   "metadata": {},
   "source": [
    "# RGB Data"
   ]
  },
  {
   "cell_type": "code",
   "execution_count": 4,
   "id": "9386938c",
   "metadata": {},
   "outputs": [],
   "source": [
    "#reading numpy array data\n",
    "rgb_test = np.load('rgb_data.npy')\n",
    "#reading csv file\n",
    "rgb_df = pd.read_csv('rgb_data.csv')"
   ]
  },
  {
   "cell_type": "code",
   "execution_count": 5,
   "id": "40f528b5",
   "metadata": {},
   "outputs": [],
   "source": [
    "features = pd.DataFrame(rgb_test)"
   ]
  },
  {
   "cell_type": "code",
   "execution_count": 6,
   "id": "fdd9a1f6",
   "metadata": {},
   "outputs": [],
   "source": [
    "features = features.values"
   ]
  },
  {
   "cell_type": "code",
   "execution_count": 7,
   "id": "c6d5658c",
   "metadata": {},
   "outputs": [],
   "source": [
    "#assigning target\n",
    "target = rgb_df['disease']\n",
    "#splitting the data to 80 percent and 20 percent\n",
    "from sklearn.model_selection import train_test_split\n",
    "Ftrain,Ftest,Ltrain,Ltest=train_test_split(features,target, test_size=0.20, random_state=24)"
   ]
  },
  {
   "cell_type": "code",
   "execution_count": 8,
   "id": "84a30a78",
   "metadata": {},
   "outputs": [],
   "source": [
    "Ftrain = norm.fit_transform(Ftrain)\n",
    "Ftest = norm.fit_transform(Ftest)"
   ]
  },
  {
   "cell_type": "code",
   "execution_count": 9,
   "id": "1fa0433e",
   "metadata": {},
   "outputs": [],
   "source": [
    "#importing classification report and confusion matrix\n",
    "from sklearn.metrics import classification_report, confusion_matrix"
   ]
  },
  {
   "cell_type": "markdown",
   "id": "0c8ce88f",
   "metadata": {},
   "source": [
    "# KNN on RGB data"
   ]
  },
  {
   "cell_type": "code",
   "execution_count": 10,
   "id": "d75b5f2f",
   "metadata": {},
   "outputs": [
    {
     "data": {
      "text/plain": [
       "0.523563811489508"
      ]
     },
     "execution_count": 10,
     "metadata": {},
     "output_type": "execute_result"
    }
   ],
   "source": [
    "from sklearn.neighbors import KNeighborsClassifier\n",
    "kmodel = KNeighborsClassifier(n_neighbors=120)\n",
    "kmodel.fit(Ftrain,Ltrain)\n",
    "kmodel.score(Ftest,Ltest)"
   ]
  },
  {
   "cell_type": "code",
   "execution_count": 11,
   "id": "5c51127d",
   "metadata": {},
   "outputs": [
    {
     "name": "stdout",
     "output_type": "stream",
     "text": [
      "                               precision    recall  f1-score   support\n",
      "\n",
      "               bacterial_spot       0.29      0.80      0.42       345\n",
      "                 early_blight       0.00      0.00      0.00       153\n",
      "                      healthy       0.44      0.76      0.56       234\n",
      "                  late_blight       0.57      0.41      0.48       309\n",
      "                    leaf_mold       0.64      0.51      0.57       145\n",
      "           septoria_leaf_spot       0.41      0.39      0.40       293\n",
      "                  target_spot       0.28      0.10      0.15       240\n",
      "          tomato_mosaic_virus       0.62      0.30      0.40        54\n",
      "tomato_yellow_leaf_curl_virus       0.88      0.74      0.80       854\n",
      "      two-spotted_spider_mite       0.84      0.28      0.42       280\n",
      "\n",
      "                     accuracy                           0.52      2907\n",
      "                    macro avg       0.50      0.43      0.42      2907\n",
      "                 weighted avg       0.58      0.52      0.51      2907\n",
      "\n",
      "[[277   0  33  11   0   7   0   0  17   0]\n",
      " [103   0   6   5   1  18   6   1  12   1]\n",
      " [ 19   0 179  13   0  14   6   1   0   2]\n",
      " [ 73   0  47 128  18  28   1   1  13   0]\n",
      " [ 12   0  15  14  74  24   2   2   2   0]\n",
      " [ 62   0  40  33  17 115   5   0  17   4]\n",
      " [164   0  28   2   0  16  25   3   1   1]\n",
      " [  2   0   7   6   4  10   3  16   4   2]\n",
      " [149   0  33   5   1  28   4   0 629   5]\n",
      " [ 98   0  17   9   0  20  36   2  19  79]]\n"
     ]
    },
    {
     "name": "stderr",
     "output_type": "stream",
     "text": [
      "C:\\Users\\ravic\\anaconda3\\lib\\site-packages\\sklearn\\metrics\\_classification.py:1318: UndefinedMetricWarning: Precision and F-score are ill-defined and being set to 0.0 in labels with no predicted samples. Use `zero_division` parameter to control this behavior.\n",
      "  _warn_prf(average, modifier, msg_start, len(result))\n",
      "C:\\Users\\ravic\\anaconda3\\lib\\site-packages\\sklearn\\metrics\\_classification.py:1318: UndefinedMetricWarning: Precision and F-score are ill-defined and being set to 0.0 in labels with no predicted samples. Use `zero_division` parameter to control this behavior.\n",
      "  _warn_prf(average, modifier, msg_start, len(result))\n",
      "C:\\Users\\ravic\\anaconda3\\lib\\site-packages\\sklearn\\metrics\\_classification.py:1318: UndefinedMetricWarning: Precision and F-score are ill-defined and being set to 0.0 in labels with no predicted samples. Use `zero_division` parameter to control this behavior.\n",
      "  _warn_prf(average, modifier, msg_start, len(result))\n"
     ]
    }
   ],
   "source": [
    "#printing results of the kmodel\n",
    "y_predict = kmodel.predict(Ftest)\n",
    "class_names = target.unique()\n",
    "print(classification_report(Ltest, y_predict, target_names=class_names))\n",
    "print(confusion_matrix(Ltest, y_predict))"
   ]
  },
  {
   "cell_type": "markdown",
   "id": "d466ef5f",
   "metadata": {},
   "source": [
    "# SVM(poly) on RGB data"
   ]
  },
  {
   "cell_type": "code",
   "execution_count": 12,
   "id": "2427ed51",
   "metadata": {},
   "outputs": [
    {
     "name": "stdout",
     "output_type": "stream",
     "text": [
      "0.8297213622291022\n"
     ]
    }
   ],
   "source": [
    "from sklearn.svm import SVC\n",
    "from sklearn.metrics import accuracy_score\n",
    "\n",
    "svm_poly = SVC(kernel='poly')\n",
    "svm_poly.fit(Ftrain,Ltrain)\n",
    "y_pred = svm_poly.predict(Ftest)\n",
    "print(accuracy_score(Ltest,y_pred))"
   ]
  },
  {
   "cell_type": "code",
   "execution_count": 13,
   "id": "bf286604",
   "metadata": {},
   "outputs": [
    {
     "name": "stdout",
     "output_type": "stream",
     "text": [
      "                               precision    recall  f1-score   support\n",
      "\n",
      "               bacterial_spot       0.82      0.92      0.87       345\n",
      "                 early_blight       0.48      0.46      0.47       153\n",
      "                      healthy       0.87      0.89      0.88       234\n",
      "                  late_blight       0.70      0.78      0.74       309\n",
      "                    leaf_mold       0.79      0.69      0.74       145\n",
      "           septoria_leaf_spot       0.73      0.67      0.70       293\n",
      "                  target_spot       0.80      0.76      0.78       240\n",
      "          tomato_mosaic_virus       0.81      0.94      0.87        54\n",
      "tomato_yellow_leaf_curl_virus       0.95      0.94      0.95       854\n",
      "      two-spotted_spider_mite       0.93      0.85      0.89       280\n",
      "\n",
      "                     accuracy                           0.83      2907\n",
      "                    macro avg       0.79      0.79      0.79      2907\n",
      "                 weighted avg       0.83      0.83      0.83      2907\n",
      "\n",
      "[[319   8   1   5   0   5   2   0   5   0]\n",
      " [ 21  71   1  32   2   7  11   1   4   3]\n",
      " [  0   3 208   7   2   7   6   0   0   1]\n",
      " [ 12  22   5 241  10   5   4   0   8   2]\n",
      " [  0   5   2   9 100  20   3   0   5   1]\n",
      " [ 18  13  12  23   8 196   8   8   6   1]\n",
      " [  5  15  10   2   1  19 182   2   1   3]\n",
      " [  0   0   0   1   1   1   0  51   0   0]\n",
      " [ 12   7   0  15   1   4   4   0 805   6]\n",
      " [  2   5   0   9   2   4   7   1  11 239]]\n"
     ]
    }
   ],
   "source": [
    "#classification report\n",
    "y_predict = svm_poly.predict(Ftest)\n",
    "class_names = target.unique()\n",
    "print(classification_report(Ltest, y_predict, target_names=class_names))\n",
    "print(confusion_matrix(Ltest, y_predict))"
   ]
  },
  {
   "cell_type": "markdown",
   "id": "4101cb88",
   "metadata": {},
   "source": [
    "# SVM(RBF) on RGB data"
   ]
  },
  {
   "cell_type": "code",
   "execution_count": 14,
   "id": "235aaf3a",
   "metadata": {},
   "outputs": [
    {
     "name": "stdout",
     "output_type": "stream",
     "text": [
      "0.8366013071895425\n"
     ]
    }
   ],
   "source": [
    "svm_rbf = SVC(kernel='rbf')\n",
    "svm_rbf.fit(Ftrain,Ltrain)\n",
    "y_pred = svm_rbf.predict(Ftest)\n",
    "print(accuracy_score(Ltest,y_pred))"
   ]
  },
  {
   "cell_type": "code",
   "execution_count": 15,
   "id": "1c7ce3a6",
   "metadata": {},
   "outputs": [
    {
     "name": "stdout",
     "output_type": "stream",
     "text": [
      "                               precision    recall  f1-score   support\n",
      "\n",
      "               bacterial_spot       0.84      0.90      0.87       345\n",
      "                 early_blight       0.63      0.41      0.49       153\n",
      "                      healthy       0.92      0.93      0.93       234\n",
      "                  late_blight       0.78      0.77      0.78       309\n",
      "                    leaf_mold       0.77      0.66      0.71       145\n",
      "           septoria_leaf_spot       0.71      0.69      0.70       293\n",
      "                  target_spot       0.78      0.79      0.78       240\n",
      "          tomato_mosaic_virus       0.77      0.85      0.81        54\n",
      "tomato_yellow_leaf_curl_virus       0.93      0.96      0.95       854\n",
      "      two-spotted_spider_mite       0.82      0.88      0.85       280\n",
      "\n",
      "                     accuracy                           0.84      2907\n",
      "                    macro avg       0.80      0.78      0.79      2907\n",
      "                 weighted avg       0.83      0.84      0.83      2907\n",
      "\n",
      "[[312   3   2   5   0   2   4   0  17   0]\n",
      " [ 18  62   1  30   1  10  12   1   8  10]\n",
      " [  0   1 218   4   0   6   5   0   0   0]\n",
      " [  8  11   5 239  11  10   8   3   7   7]\n",
      " [  0   1   1   8  96  27   3   2   5   2]\n",
      " [ 16   4   8  12  15 202   9   5  14   8]\n",
      " [  7  11   2   0   0  12 189   2   2  15]\n",
      " [  0   0   0   0   1   6   1  46   0   0]\n",
      " [  9   1   0   4   0   4   1   0 822  13]\n",
      " [  2   4   0   5   0   4  11   1   7 246]]\n"
     ]
    }
   ],
   "source": [
    "#classification report\n",
    "y_predict = svm_rbf.predict(Ftest)\n",
    "class_names = target.unique()\n",
    "print(classification_report(Ltest, y_predict, target_names=class_names))\n",
    "print(confusion_matrix(Ltest, y_predict))"
   ]
  },
  {
   "cell_type": "markdown",
   "id": "670ea3cc",
   "metadata": {},
   "source": [
    "# SVM(sigmoid) on RGB data"
   ]
  },
  {
   "cell_type": "code",
   "execution_count": 16,
   "id": "8aaf1a20",
   "metadata": {},
   "outputs": [
    {
     "name": "stdout",
     "output_type": "stream",
     "text": [
      "0.2937736498108015\n"
     ]
    }
   ],
   "source": [
    "svm_si = SVC(kernel='sigmoid')\n",
    "svm_si.fit(Ftrain,Ltrain)\n",
    "y_pred = svm_si.predict(Ftest)\n",
    "print(accuracy_score(Ltest,y_pred))"
   ]
  },
  {
   "cell_type": "code",
   "execution_count": 17,
   "id": "9beeb8fa",
   "metadata": {},
   "outputs": [
    {
     "name": "stdout",
     "output_type": "stream",
     "text": [
      "                               precision    recall  f1-score   support\n",
      "\n",
      "               bacterial_spot       0.00      0.00      0.00       345\n",
      "                 early_blight       0.00      0.00      0.00       153\n",
      "                      healthy       0.00      0.00      0.00       234\n",
      "                  late_blight       0.00      0.00      0.00       309\n",
      "                    leaf_mold       0.00      0.00      0.00       145\n",
      "           septoria_leaf_spot       0.00      0.00      0.00       293\n",
      "                  target_spot       0.00      0.00      0.00       240\n",
      "          tomato_mosaic_virus       0.00      0.00      0.00        54\n",
      "tomato_yellow_leaf_curl_virus       0.30      1.00      0.46       854\n",
      "      two-spotted_spider_mite       0.00      0.00      0.00       280\n",
      "\n",
      "                     accuracy                           0.29      2907\n",
      "                    macro avg       0.03      0.10      0.05      2907\n",
      "                 weighted avg       0.09      0.29      0.13      2907\n",
      "\n",
      "[[  0   0   0   0   0   0   0   0 345   0]\n",
      " [  0   0   0   0   0   0   0   0 153   0]\n",
      " [  0   0   0   0   0   0   0   0 234   0]\n",
      " [  4   0  10   0   0   0   0   0 295   0]\n",
      " [  0   0   0   0   0   0   0   0 145   0]\n",
      " [  0   0   0   0   0   0   0   0 293   0]\n",
      " [  0   0   0   0   0   0   0   0 240   0]\n",
      " [  0   0   0   0   0   0   0   0  54   0]\n",
      " [  0   0   0   0   0   0   0   0 854   0]\n",
      " [  0   0   0   0   0   0   0   0 280   0]]\n"
     ]
    },
    {
     "name": "stderr",
     "output_type": "stream",
     "text": [
      "C:\\Users\\ravic\\anaconda3\\lib\\site-packages\\sklearn\\metrics\\_classification.py:1318: UndefinedMetricWarning: Precision and F-score are ill-defined and being set to 0.0 in labels with no predicted samples. Use `zero_division` parameter to control this behavior.\n",
      "  _warn_prf(average, modifier, msg_start, len(result))\n",
      "C:\\Users\\ravic\\anaconda3\\lib\\site-packages\\sklearn\\metrics\\_classification.py:1318: UndefinedMetricWarning: Precision and F-score are ill-defined and being set to 0.0 in labels with no predicted samples. Use `zero_division` parameter to control this behavior.\n",
      "  _warn_prf(average, modifier, msg_start, len(result))\n",
      "C:\\Users\\ravic\\anaconda3\\lib\\site-packages\\sklearn\\metrics\\_classification.py:1318: UndefinedMetricWarning: Precision and F-score are ill-defined and being set to 0.0 in labels with no predicted samples. Use `zero_division` parameter to control this behavior.\n",
      "  _warn_prf(average, modifier, msg_start, len(result))\n"
     ]
    }
   ],
   "source": [
    "#classification report\n",
    "y_predict = svm_si.predict(Ftest)\n",
    "class_names = target.unique()\n",
    "print(classification_report(Ltest, y_predict, target_names=class_names))\n",
    "print(confusion_matrix(Ltest, y_predict))"
   ]
  },
  {
   "cell_type": "markdown",
   "id": "f985c500",
   "metadata": {},
   "source": [
    "# Bernouli Naive bayes on RGB data"
   ]
  },
  {
   "cell_type": "code",
   "execution_count": 18,
   "id": "75a3f18f",
   "metadata": {},
   "outputs": [
    {
     "data": {
      "text/plain": [
       "0.38183694530443757"
      ]
     },
     "execution_count": 18,
     "metadata": {},
     "output_type": "execute_result"
    }
   ],
   "source": [
    "from sklearn.naive_bayes import BernoulliNB\n",
    "from sklearn import metrics\n",
    "bnb = BernoulliNB()\n",
    "bnb.fit(Ftrain, Ltrain)\n",
    "y_pred = bnb.predict(Ftest)\n",
    "metrics.accuracy_score(Ltest, y_pred)"
   ]
  },
  {
   "cell_type": "code",
   "execution_count": 19,
   "id": "694c01aa",
   "metadata": {},
   "outputs": [
    {
     "name": "stdout",
     "output_type": "stream",
     "text": [
      "                               precision    recall  f1-score   support\n",
      "\n",
      "               bacterial_spot       0.24      0.94      0.38       345\n",
      "                 early_blight       0.29      0.17      0.21       153\n",
      "                      healthy       0.28      0.16      0.20       234\n",
      "                  late_blight       0.95      0.12      0.21       309\n",
      "                    leaf_mold       0.33      0.09      0.14       145\n",
      "           septoria_leaf_spot       0.21      0.10      0.13       293\n",
      "                  target_spot       0.23      0.07      0.11       240\n",
      "          tomato_mosaic_virus       0.00      0.00      0.00        54\n",
      "tomato_yellow_leaf_curl_virus       0.80      0.62      0.70       854\n",
      "      two-spotted_spider_mite       0.28      0.33      0.30       280\n",
      "\n",
      "                     accuracy                           0.38      2907\n",
      "                    macro avg       0.36      0.26      0.24      2907\n",
      "                 weighted avg       0.48      0.38      0.36      2907\n",
      "\n",
      "[[326   0   4   0   1   3   5   0   0   6]\n",
      " [ 60  26   6   2   5  12   4   2  13  23]\n",
      " [145   4  38   0   5  10   6   0   3  23]\n",
      " [159  31   6  36   7  10   7   1  27  25]\n",
      " [ 92   5   7   0  13  10   4   1   6   7]\n",
      " [181  18  15   0   5  29  10   1  13  21]\n",
      " [159   2  15   0   1  16  18   0   7  22]\n",
      " [ 44   0   0   0   0   3   2   0   1   4]\n",
      " [136   4  23   0   3  38  12   0 533 105]\n",
      " [ 80   1  23   0   0   9  12   0  64  91]]\n"
     ]
    }
   ],
   "source": [
    "class_names = target.unique()\n",
    "print(classification_report(Ltest, y_pred, target_names=class_names))\n",
    "print(confusion_matrix(Ltest, y_pred))"
   ]
  },
  {
   "cell_type": "markdown",
   "id": "67dd930c",
   "metadata": {},
   "source": [
    "# Multinomial Naive bayes on RGB data"
   ]
  },
  {
   "cell_type": "code",
   "execution_count": 20,
   "id": "3b80acde",
   "metadata": {},
   "outputs": [
    {
     "data": {
      "text/plain": [
       "0.45717234262125905"
      ]
     },
     "execution_count": 20,
     "metadata": {},
     "output_type": "execute_result"
    }
   ],
   "source": [
    "from sklearn.naive_bayes import MultinomialNB\n",
    "mnb = MultinomialNB()\n",
    "mnb.fit(Ftrain, Ltrain)\n",
    "y_pred = mnb.predict(Ftest)\n",
    "metrics.accuracy_score(Ltest, y_pred)"
   ]
  },
  {
   "cell_type": "code",
   "execution_count": 21,
   "id": "d6ed705b",
   "metadata": {},
   "outputs": [
    {
     "name": "stdout",
     "output_type": "stream",
     "text": [
      "                               precision    recall  f1-score   support\n",
      "\n",
      "               bacterial_spot       0.36      0.46      0.40       345\n",
      "                 early_blight       0.00      0.00      0.00       153\n",
      "                      healthy       0.69      0.42      0.52       234\n",
      "                  late_blight       0.49      0.52      0.50       309\n",
      "                    leaf_mold       0.68      0.26      0.38       145\n",
      "           septoria_leaf_spot       0.34      0.05      0.09       293\n",
      "                  target_spot       0.00      0.00      0.00       240\n",
      "          tomato_mosaic_virus       0.00      0.00      0.00        54\n",
      "tomato_yellow_leaf_curl_virus       0.45      0.97      0.62       854\n",
      "      two-spotted_spider_mite       0.54      0.10      0.17       280\n",
      "\n",
      "                     accuracy                           0.46      2907\n",
      "                    macro avg       0.35      0.28      0.27      2907\n",
      "                 weighted avg       0.40      0.46      0.37      2907\n",
      "\n",
      "[[157   0   1  27   0   0   0   0 160   0]\n",
      " [ 46   0   1   3   0   2   0   0  98   3]\n",
      " [ 24   0  99  62   0  14   0   0  32   3]\n",
      " [ 30   0   8 161   9   3   0   0  97   1]\n",
      " [  9   1  11  11  38   4   0   0  70   1]\n",
      " [ 26   0   4  46   7  15   0   0 189   6]\n",
      " [ 99   0  16   0   0   0   0   0 117   8]\n",
      " [  4   0   0   2   2   4   0   0  41   1]\n",
      " [ 12   0   0  10   0   0   0   0 831   1]\n",
      " [ 31   0   4   8   0   2   0   0 207  28]]\n"
     ]
    },
    {
     "name": "stderr",
     "output_type": "stream",
     "text": [
      "C:\\Users\\ravic\\anaconda3\\lib\\site-packages\\sklearn\\metrics\\_classification.py:1318: UndefinedMetricWarning: Precision and F-score are ill-defined and being set to 0.0 in labels with no predicted samples. Use `zero_division` parameter to control this behavior.\n",
      "  _warn_prf(average, modifier, msg_start, len(result))\n",
      "C:\\Users\\ravic\\anaconda3\\lib\\site-packages\\sklearn\\metrics\\_classification.py:1318: UndefinedMetricWarning: Precision and F-score are ill-defined and being set to 0.0 in labels with no predicted samples. Use `zero_division` parameter to control this behavior.\n",
      "  _warn_prf(average, modifier, msg_start, len(result))\n",
      "C:\\Users\\ravic\\anaconda3\\lib\\site-packages\\sklearn\\metrics\\_classification.py:1318: UndefinedMetricWarning: Precision and F-score are ill-defined and being set to 0.0 in labels with no predicted samples. Use `zero_division` parameter to control this behavior.\n",
      "  _warn_prf(average, modifier, msg_start, len(result))\n"
     ]
    }
   ],
   "source": [
    "class_names = target.unique()\n",
    "print(classification_report(Ltest, y_pred, target_names=class_names))\n",
    "print(confusion_matrix(Ltest, y_pred))"
   ]
  },
  {
   "cell_type": "markdown",
   "id": "0e8f617d",
   "metadata": {},
   "source": [
    "# Grayscale data"
   ]
  },
  {
   "cell_type": "code",
   "execution_count": 22,
   "id": "57a9845e",
   "metadata": {},
   "outputs": [],
   "source": [
    "#reading numpy array data\n",
    "gray_test = np.load('gray_test.npy')\n",
    "#reading csv file\n",
    "gray_df = pd.read_csv('gray_data.csv')"
   ]
  },
  {
   "cell_type": "code",
   "execution_count": 23,
   "id": "d3abef95",
   "metadata": {},
   "outputs": [],
   "source": [
    "#assigning features and target to split the data\n",
    "features = pd.DataFrame(gray_test)\n",
    "features = features.values\n",
    "target = gray_df['disease']"
   ]
  },
  {
   "cell_type": "code",
   "execution_count": 24,
   "id": "a86eb99c",
   "metadata": {},
   "outputs": [],
   "source": [
    "#splitting the data to train and test\n",
    "Ftrain,Ftest,Ltrain,Ltest=train_test_split(features,target, test_size=0.20, random_state=24)"
   ]
  },
  {
   "cell_type": "code",
   "execution_count": 25,
   "id": "8510a95b",
   "metadata": {},
   "outputs": [],
   "source": [
    "#applying normalizer scale on Ftrain and Ftest\n",
    "Ftrain = norm.fit_transform(Ftrain)\n",
    "Ftest = norm.fit_transform(Ftest)"
   ]
  },
  {
   "cell_type": "markdown",
   "id": "3607d12b",
   "metadata": {},
   "source": [
    "# KNN on grayscale data"
   ]
  },
  {
   "cell_type": "code",
   "execution_count": 26,
   "id": "602e82ad",
   "metadata": {},
   "outputs": [
    {
     "data": {
      "text/plain": [
       "0.4017887856897145"
      ]
     },
     "execution_count": 26,
     "metadata": {},
     "output_type": "execute_result"
    }
   ],
   "source": [
    "kmodel.fit(Ftrain,Ltrain)\n",
    "kmodel.score(Ftest,Ltest)"
   ]
  },
  {
   "cell_type": "code",
   "execution_count": 27,
   "id": "97bb508f",
   "metadata": {},
   "outputs": [
    {
     "name": "stdout",
     "output_type": "stream",
     "text": [
      "                               precision    recall  f1-score   support\n",
      "\n",
      "               bacterial_spot       0.29      0.75      0.42       345\n",
      "                 early_blight       0.00      0.00      0.00       153\n",
      "                      healthy       0.29      0.55      0.38       234\n",
      "                  late_blight       0.38      0.34      0.36       309\n",
      "                    leaf_mold       0.53      0.38      0.44       145\n",
      "           septoria_leaf_spot       0.27      0.38      0.31       293\n",
      "                  target_spot       0.29      0.02      0.04       240\n",
      "          tomato_mosaic_virus       1.00      0.02      0.04        54\n",
      "tomato_yellow_leaf_curl_virus       0.65      0.55      0.59       854\n",
      "      two-spotted_spider_mite       0.87      0.12      0.21       280\n",
      "\n",
      "                     accuracy                           0.40      2907\n",
      "                    macro avg       0.46      0.31      0.28      2907\n",
      "                 weighted avg       0.47      0.40      0.37      2907\n",
      "\n",
      "[[259   0  33  18   0  20   0   0  15   0]\n",
      " [ 93   0   4   2   2  18   2   0  32   0]\n",
      " [ 17   0 129   9   0  62   1   0  14   2]\n",
      " [ 66   0  60 104  19  18   1   0  41   0]\n",
      " [ 11   0  10  15  55  35   0   0  19   0]\n",
      " [ 50   0  60  25  16 111   0   0  29   2]\n",
      " [162   0   7   5   2  41   5   0  17   1]\n",
      " [  1   0   5   3   2  18   0   1  24   0]\n",
      " [134   0 115  77   6  52   0   0 470   0]\n",
      " [104   0  15  13   1  39   8   0  66  34]]\n"
     ]
    },
    {
     "name": "stderr",
     "output_type": "stream",
     "text": [
      "C:\\Users\\ravic\\anaconda3\\lib\\site-packages\\sklearn\\metrics\\_classification.py:1318: UndefinedMetricWarning: Precision and F-score are ill-defined and being set to 0.0 in labels with no predicted samples. Use `zero_division` parameter to control this behavior.\n",
      "  _warn_prf(average, modifier, msg_start, len(result))\n",
      "C:\\Users\\ravic\\anaconda3\\lib\\site-packages\\sklearn\\metrics\\_classification.py:1318: UndefinedMetricWarning: Precision and F-score are ill-defined and being set to 0.0 in labels with no predicted samples. Use `zero_division` parameter to control this behavior.\n",
      "  _warn_prf(average, modifier, msg_start, len(result))\n",
      "C:\\Users\\ravic\\anaconda3\\lib\\site-packages\\sklearn\\metrics\\_classification.py:1318: UndefinedMetricWarning: Precision and F-score are ill-defined and being set to 0.0 in labels with no predicted samples. Use `zero_division` parameter to control this behavior.\n",
      "  _warn_prf(average, modifier, msg_start, len(result))\n"
     ]
    }
   ],
   "source": [
    "#printing results of the kmodel\n",
    "y_predict = kmodel.predict(Ftest)\n",
    "class_names = target.unique()\n",
    "print(classification_report(Ltest, y_predict, target_names=class_names))\n",
    "print(confusion_matrix(Ltest, y_predict))"
   ]
  },
  {
   "cell_type": "markdown",
   "id": "8bfc6d84",
   "metadata": {},
   "source": [
    "# SVM(poly) on grayscale data"
   ]
  },
  {
   "cell_type": "code",
   "execution_count": 28,
   "id": "c9665abf",
   "metadata": {},
   "outputs": [
    {
     "name": "stdout",
     "output_type": "stream",
     "text": [
      "0.5847953216374269\n"
     ]
    }
   ],
   "source": [
    "svm_poly.fit(Ftrain,Ltrain)\n",
    "y_pred = svm_poly.predict(Ftest)\n",
    "print(accuracy_score(Ltest,y_pred))"
   ]
  },
  {
   "cell_type": "code",
   "execution_count": 29,
   "id": "2456eda7",
   "metadata": {},
   "outputs": [
    {
     "name": "stdout",
     "output_type": "stream",
     "text": [
      "                               precision    recall  f1-score   support\n",
      "\n",
      "               bacterial_spot       0.65      0.74      0.69       345\n",
      "                 early_blight       0.23      0.30      0.26       153\n",
      "                      healthy       0.63      0.75      0.68       234\n",
      "                  late_blight       0.50      0.59      0.54       309\n",
      "                    leaf_mold       0.43      0.47      0.45       145\n",
      "           septoria_leaf_spot       0.48      0.44      0.46       293\n",
      "                  target_spot       0.47      0.49      0.48       240\n",
      "          tomato_mosaic_virus       0.33      0.33      0.33        54\n",
      "tomato_yellow_leaf_curl_virus       0.79      0.66      0.72       854\n",
      "      two-spotted_spider_mite       0.66      0.52      0.58       280\n",
      "\n",
      "                     accuracy                           0.58      2907\n",
      "                    macro avg       0.52      0.53      0.52      2907\n",
      "                 weighted avg       0.60      0.58      0.59      2907\n",
      "\n",
      "[[256  13   8  17   6  15   7   0  23   0]\n",
      " [ 22  46   2  22   8   6  20   1  19   7]\n",
      " [  4   5 176   9   6  12   9   1   7   5]\n",
      " [ 13  31  13 182  10  22  10   2  20   6]\n",
      " [  3   4   4  18  68  19   9   4  13   3]\n",
      " [ 29  11  22  41  11 130  13   8  17  11]\n",
      " [ 15  29   9   5  12  18 117   5  12  18]\n",
      " [  0   1   1   5   6  10   2  18   9   2]\n",
      " [ 50  39  38  54  22  34  22  11 562  22]\n",
      " [  3  22   8  12   8   7  40   5  30 145]]\n"
     ]
    }
   ],
   "source": [
    "#classification report\n",
    "y_predict = svm_poly.predict(Ftest)\n",
    "class_names = target.unique()\n",
    "print(classification_report(Ltest, y_predict, target_names=class_names))\n",
    "print(confusion_matrix(Ltest, y_predict))"
   ]
  },
  {
   "cell_type": "markdown",
   "id": "bd417df9",
   "metadata": {},
   "source": [
    "# SVM(RBF) on grayscale data"
   ]
  },
  {
   "cell_type": "code",
   "execution_count": 30,
   "id": "67772464",
   "metadata": {},
   "outputs": [
    {
     "name": "stdout",
     "output_type": "stream",
     "text": [
      "0.6793945648434813\n"
     ]
    }
   ],
   "source": [
    "svm_rbf.fit(Ftrain,Ltrain)\n",
    "y_pred = svm_rbf.predict(Ftest)\n",
    "print(accuracy_score(Ltest,y_pred))"
   ]
  },
  {
   "cell_type": "code",
   "execution_count": 31,
   "id": "34bbfd97",
   "metadata": {},
   "outputs": [
    {
     "name": "stdout",
     "output_type": "stream",
     "text": [
      "                               precision    recall  f1-score   support\n",
      "\n",
      "               bacterial_spot       0.76      0.73      0.75       345\n",
      "                 early_blight       0.50      0.24      0.32       153\n",
      "                      healthy       0.74      0.83      0.78       234\n",
      "                  late_blight       0.65      0.64      0.64       309\n",
      "                    leaf_mold       0.65      0.48      0.56       145\n",
      "           septoria_leaf_spot       0.55      0.50      0.53       293\n",
      "                  target_spot       0.63      0.62      0.63       240\n",
      "          tomato_mosaic_virus       0.25      0.06      0.09        54\n",
      "tomato_yellow_leaf_curl_virus       0.71      0.86      0.78       854\n",
      "      two-spotted_spider_mite       0.68      0.67      0.67       280\n",
      "\n",
      "                     accuracy                           0.68      2907\n",
      "                    macro avg       0.61      0.56      0.57      2907\n",
      "                 weighted avg       0.66      0.68      0.67      2907\n",
      "\n",
      "[[253   4   8  13   0  19   5   0  43   0]\n",
      " [ 11  36   1  22   3   9  19   0  41  11]\n",
      " [  0   1 195   6   1   8   6   0  12   5]\n",
      " [  5  11   7 197   8  21   9   2  38  11]\n",
      " [  2   1   9  14  70  18   4   0  23   4]\n",
      " [ 20   3  14  28  16 147  13   2  40  10]\n",
      " [ 10   4   5   2   3   7 149   2  28  30]\n",
      " [  1   0   0   0   5  12   1   3  25   7]\n",
      " [ 30   4  19  21   1  23   7   0 737  12]\n",
      " [  2   8   7   2   0   3  22   3  45 188]]\n"
     ]
    }
   ],
   "source": [
    "#classification report\n",
    "y_predict = svm_rbf.predict(Ftest)\n",
    "class_names = target.unique()\n",
    "print(classification_report(Ltest, y_predict, target_names=class_names))\n",
    "print(confusion_matrix(Ltest, y_predict))"
   ]
  },
  {
   "cell_type": "markdown",
   "id": "c1ed23e8",
   "metadata": {},
   "source": [
    "# SVM(sigmoid) on Grayscale data"
   ]
  },
  {
   "cell_type": "code",
   "execution_count": 32,
   "id": "b79e8630",
   "metadata": {},
   "outputs": [
    {
     "name": "stdout",
     "output_type": "stream",
     "text": [
      "0.2937736498108015\n"
     ]
    }
   ],
   "source": [
    "svm_si.fit(Ftrain,Ltrain)\n",
    "y_pred = svm_si.predict(Ftest)\n",
    "print(accuracy_score(Ltest,y_pred))"
   ]
  },
  {
   "cell_type": "code",
   "execution_count": 33,
   "id": "c64cd0a6",
   "metadata": {},
   "outputs": [
    {
     "name": "stdout",
     "output_type": "stream",
     "text": [
      "                               precision    recall  f1-score   support\n",
      "\n",
      "               bacterial_spot       0.00      0.00      0.00       345\n",
      "                 early_blight       0.00      0.00      0.00       153\n",
      "                      healthy       0.00      0.00      0.00       234\n",
      "                  late_blight       0.00      0.00      0.00       309\n",
      "                    leaf_mold       0.00      0.00      0.00       145\n",
      "           septoria_leaf_spot       0.00      0.00      0.00       293\n",
      "                  target_spot       0.00      0.00      0.00       240\n",
      "          tomato_mosaic_virus       0.00      0.00      0.00        54\n",
      "tomato_yellow_leaf_curl_virus       0.29      1.00      0.45       854\n",
      "      two-spotted_spider_mite       0.00      0.00      0.00       280\n",
      "\n",
      "                     accuracy                           0.29      2907\n",
      "                    macro avg       0.03      0.10      0.05      2907\n",
      "                 weighted avg       0.09      0.29      0.13      2907\n",
      "\n",
      "[[  0   0   0   0   0   0   0   0 345   0]\n",
      " [  0   0   0   0   0   0   0   0 153   0]\n",
      " [  0   0   0   0   0   0   0   0 234   0]\n",
      " [  1   0   0   0   0   0   0   0 308   0]\n",
      " [  0   0   0   0   0   0   0   0 145   0]\n",
      " [  0   0   0   0   0   0   0   0 293   0]\n",
      " [  0   0   0   0   0   0   0   0 240   0]\n",
      " [  0   0   0   0   0   0   0   0  54   0]\n",
      " [  0   0   0   0   0   0   0   0 854   0]\n",
      " [  0   0   0   0   0   0   0   0 280   0]]\n"
     ]
    },
    {
     "name": "stderr",
     "output_type": "stream",
     "text": [
      "C:\\Users\\ravic\\anaconda3\\lib\\site-packages\\sklearn\\metrics\\_classification.py:1318: UndefinedMetricWarning: Precision and F-score are ill-defined and being set to 0.0 in labels with no predicted samples. Use `zero_division` parameter to control this behavior.\n",
      "  _warn_prf(average, modifier, msg_start, len(result))\n",
      "C:\\Users\\ravic\\anaconda3\\lib\\site-packages\\sklearn\\metrics\\_classification.py:1318: UndefinedMetricWarning: Precision and F-score are ill-defined and being set to 0.0 in labels with no predicted samples. Use `zero_division` parameter to control this behavior.\n",
      "  _warn_prf(average, modifier, msg_start, len(result))\n",
      "C:\\Users\\ravic\\anaconda3\\lib\\site-packages\\sklearn\\metrics\\_classification.py:1318: UndefinedMetricWarning: Precision and F-score are ill-defined and being set to 0.0 in labels with no predicted samples. Use `zero_division` parameter to control this behavior.\n",
      "  _warn_prf(average, modifier, msg_start, len(result))\n"
     ]
    }
   ],
   "source": [
    "#classification report\n",
    "y_predict = svm_si.predict(Ftest)\n",
    "class_names = target.unique()\n",
    "print(classification_report(Ltest, y_predict, target_names=class_names))\n",
    "print(confusion_matrix(Ltest, y_predict))"
   ]
  },
  {
   "cell_type": "markdown",
   "id": "8ba631c4",
   "metadata": {},
   "source": [
    "# Bernouli Naive bayes on grayscale data"
   ]
  },
  {
   "cell_type": "code",
   "execution_count": 34,
   "id": "f9c1d1df",
   "metadata": {},
   "outputs": [
    {
     "data": {
      "text/plain": [
       "0.30546955624355004"
      ]
     },
     "execution_count": 34,
     "metadata": {},
     "output_type": "execute_result"
    }
   ],
   "source": [
    "bnb.fit(Ftrain, Ltrain)\n",
    "y_pred = bnb.predict(Ftest)\n",
    "metrics.accuracy_score(Ltest, y_pred)"
   ]
  },
  {
   "cell_type": "code",
   "execution_count": 35,
   "id": "5349d0e6",
   "metadata": {},
   "outputs": [
    {
     "name": "stdout",
     "output_type": "stream",
     "text": [
      "                               precision    recall  f1-score   support\n",
      "\n",
      "               bacterial_spot       0.00      0.00      0.00       345\n",
      "                 early_blight       0.00      0.00      0.00       153\n",
      "                      healthy       0.60      0.01      0.03       234\n",
      "                  late_blight       1.00      0.10      0.18       309\n",
      "                    leaf_mold       0.00      0.00      0.00       145\n",
      "           septoria_leaf_spot       0.00      0.00      0.00       293\n",
      "                  target_spot       1.00      0.00      0.01       240\n",
      "          tomato_mosaic_virus       0.00      0.00      0.00        54\n",
      "tomato_yellow_leaf_curl_virus       0.30      1.00      0.46       854\n",
      "      two-spotted_spider_mite       0.00      0.00      0.00       280\n",
      "\n",
      "                     accuracy                           0.31      2907\n",
      "                    macro avg       0.29      0.11      0.07      2907\n",
      "                 weighted avg       0.33      0.31      0.16      2907\n",
      "\n",
      "[[  0   0   0   0   0   0   0   0 345   0]\n",
      " [  2   0   0   0   0   1   0   0 150   0]\n",
      " [  2   0   3   0   1   1   0   0 227   0]\n",
      " [  0   0   0  30   0   1   0   3 275   0]\n",
      " [  2   0   1   0   0   2   0   0 140   0]\n",
      " [  3   0   1   0   0   0   0   0 289   0]\n",
      " [  0   0   0   0   0   0   1   0 239   0]\n",
      " [  0   0   0   0   0   0   0   0  54   0]\n",
      " [  0   0   0   0   0   0   0   0 854   0]\n",
      " [  0   0   0   0   0   0   0   0 280   0]]\n"
     ]
    },
    {
     "name": "stderr",
     "output_type": "stream",
     "text": [
      "C:\\Users\\ravic\\anaconda3\\lib\\site-packages\\sklearn\\metrics\\_classification.py:1318: UndefinedMetricWarning: Precision and F-score are ill-defined and being set to 0.0 in labels with no predicted samples. Use `zero_division` parameter to control this behavior.\n",
      "  _warn_prf(average, modifier, msg_start, len(result))\n",
      "C:\\Users\\ravic\\anaconda3\\lib\\site-packages\\sklearn\\metrics\\_classification.py:1318: UndefinedMetricWarning: Precision and F-score are ill-defined and being set to 0.0 in labels with no predicted samples. Use `zero_division` parameter to control this behavior.\n",
      "  _warn_prf(average, modifier, msg_start, len(result))\n",
      "C:\\Users\\ravic\\anaconda3\\lib\\site-packages\\sklearn\\metrics\\_classification.py:1318: UndefinedMetricWarning: Precision and F-score are ill-defined and being set to 0.0 in labels with no predicted samples. Use `zero_division` parameter to control this behavior.\n",
      "  _warn_prf(average, modifier, msg_start, len(result))\n"
     ]
    }
   ],
   "source": [
    "class_names = target.unique()\n",
    "print(classification_report(Ltest, y_pred, target_names=class_names))\n",
    "print(confusion_matrix(Ltest, y_pred))"
   ]
  },
  {
   "cell_type": "markdown",
   "id": "20b31faf",
   "metadata": {},
   "source": [
    "# Multinomial Naive bayes on Grayscale data"
   ]
  },
  {
   "cell_type": "code",
   "execution_count": 36,
   "id": "5bf3d424",
   "metadata": {},
   "outputs": [
    {
     "data": {
      "text/plain": [
       "0.3068455452356381"
      ]
     },
     "execution_count": 36,
     "metadata": {},
     "output_type": "execute_result"
    }
   ],
   "source": [
    "mnb.fit(Ftrain, Ltrain)\n",
    "y_pred = mnb.predict(Ftest)\n",
    "metrics.accuracy_score(Ltest, y_pred)"
   ]
  },
  {
   "cell_type": "code",
   "execution_count": 37,
   "id": "6ed85664",
   "metadata": {},
   "outputs": [
    {
     "name": "stdout",
     "output_type": "stream",
     "text": [
      "                               precision    recall  f1-score   support\n",
      "\n",
      "               bacterial_spot       0.18      0.01      0.02       345\n",
      "                 early_blight       0.00      0.00      0.00       153\n",
      "                      healthy       0.00      0.00      0.00       234\n",
      "                  late_blight       0.47      0.16      0.23       309\n",
      "                    leaf_mold       0.00      0.00      0.00       145\n",
      "           septoria_leaf_spot       0.00      0.00      0.00       293\n",
      "                  target_spot       0.00      0.00      0.00       240\n",
      "          tomato_mosaic_virus       0.00      0.00      0.00        54\n",
      "tomato_yellow_leaf_curl_virus       0.30      0.98      0.46       854\n",
      "      two-spotted_spider_mite       0.00      0.00      0.00       280\n",
      "\n",
      "                     accuracy                           0.31      2907\n",
      "                    macro avg       0.09      0.11      0.07      2907\n",
      "                 weighted avg       0.16      0.31      0.16      2907\n",
      "\n",
      "[[  3   0   0   7   0   0   0   0 335   0]\n",
      " [  3   0   0   1   0   0   0   0 149   0]\n",
      " [  0   0   0  26   0   0   0   0 208   0]\n",
      " [  6   0   3  48   0   0   0   0 252   0]\n",
      " [  0   0   0   1   0   0   0   0 144   0]\n",
      " [  0   0   0   8   0   0   0   0 285   0]\n",
      " [  0   0   0   0   0   0   0   0 240   0]\n",
      " [  0   0   0   0   0   0   0   0  54   0]\n",
      " [  1   0   0  12   0   0   0   0 841   0]\n",
      " [  4   0   0   0   0   0   0   0 276   0]]\n"
     ]
    },
    {
     "name": "stderr",
     "output_type": "stream",
     "text": [
      "C:\\Users\\ravic\\anaconda3\\lib\\site-packages\\sklearn\\metrics\\_classification.py:1318: UndefinedMetricWarning: Precision and F-score are ill-defined and being set to 0.0 in labels with no predicted samples. Use `zero_division` parameter to control this behavior.\n",
      "  _warn_prf(average, modifier, msg_start, len(result))\n",
      "C:\\Users\\ravic\\anaconda3\\lib\\site-packages\\sklearn\\metrics\\_classification.py:1318: UndefinedMetricWarning: Precision and F-score are ill-defined and being set to 0.0 in labels with no predicted samples. Use `zero_division` parameter to control this behavior.\n",
      "  _warn_prf(average, modifier, msg_start, len(result))\n",
      "C:\\Users\\ravic\\anaconda3\\lib\\site-packages\\sklearn\\metrics\\_classification.py:1318: UndefinedMetricWarning: Precision and F-score are ill-defined and being set to 0.0 in labels with no predicted samples. Use `zero_division` parameter to control this behavior.\n",
      "  _warn_prf(average, modifier, msg_start, len(result))\n"
     ]
    }
   ],
   "source": [
    "class_names = target.unique()\n",
    "print(classification_report(Ltest, y_pred, target_names=class_names))\n",
    "print(confusion_matrix(Ltest, y_pred))"
   ]
  },
  {
   "cell_type": "markdown",
   "id": "6f5719a1",
   "metadata": {},
   "source": [
    "# Red Channel data"
   ]
  },
  {
   "cell_type": "code",
   "execution_count": 38,
   "id": "5f8b0e11",
   "metadata": {},
   "outputs": [],
   "source": [
    "#reading numpy array data\n",
    "red_test = np.load('red_data.npy')\n",
    "#reading csv file\n",
    "red_df = pd.read_csv('red_data.csv')\n",
    "#assigning features and target to split the data\n",
    "features = pd.DataFrame(red_test)\n",
    "features = features.values\n",
    "target = red_df['disease']\n",
    "#splitting the data to train and test\n",
    "Ftrain,Ftest,Ltrain,Ltest=train_test_split(features,target, test_size=0.20, random_state=24)"
   ]
  },
  {
   "cell_type": "code",
   "execution_count": 39,
   "id": "20f194d0",
   "metadata": {},
   "outputs": [],
   "source": [
    "#applying normalizer scale on Ftrain and Ftest\n",
    "Ftrain = norm.fit_transform(Ftrain)\n",
    "Ftest = norm.fit_transform(Ftest)"
   ]
  },
  {
   "cell_type": "markdown",
   "id": "ad941f52",
   "metadata": {},
   "source": [
    "# KNN on Red channel"
   ]
  },
  {
   "cell_type": "code",
   "execution_count": 40,
   "id": "0c1f1c09",
   "metadata": {},
   "outputs": [
    {
     "data": {
      "text/plain": [
       "0.43137254901960786"
      ]
     },
     "execution_count": 40,
     "metadata": {},
     "output_type": "execute_result"
    }
   ],
   "source": [
    "kmodel.fit(Ftrain,Ltrain)\n",
    "kmodel.score(Ftest,Ltest)"
   ]
  },
  {
   "cell_type": "code",
   "execution_count": 41,
   "id": "a3164838",
   "metadata": {},
   "outputs": [
    {
     "name": "stdout",
     "output_type": "stream",
     "text": [
      "                               precision    recall  f1-score   support\n",
      "\n",
      "               bacterial_spot       0.34      0.72      0.47       345\n",
      "                 early_blight       0.00      0.00      0.00       153\n",
      "                      healthy       0.27      0.63      0.38       234\n",
      "                  late_blight       0.42      0.35      0.38       309\n",
      "                    leaf_mold       0.61      0.41      0.49       145\n",
      "           septoria_leaf_spot       0.27      0.35      0.31       293\n",
      "                  target_spot       0.42      0.14      0.21       240\n",
      "          tomato_mosaic_virus       0.29      0.04      0.07        54\n",
      "tomato_yellow_leaf_curl_virus       0.65      0.58      0.61       854\n",
      "      two-spotted_spider_mite       0.82      0.21      0.34       280\n",
      "\n",
      "                     accuracy                           0.43      2907\n",
      "                    macro avg       0.41      0.34      0.33      2907\n",
      "                 weighted avg       0.48      0.43      0.41      2907\n",
      "\n",
      "[[250   0  35  20   1  19   0   0  20   0]\n",
      " [ 82   0  14   0   1  21   5   1  29   0]\n",
      " [  2   0 147   9   0  58   1   0  15   2]\n",
      " [ 46   0  59 108  14  38   3   0  40   1]\n",
      " [ 10   0  21  13  59  20   2   0  20   0]\n",
      " [ 37   0  66  32  15 103   5   1  31   3]\n",
      " [109   0  40   0   0  35  34   2  16   4]\n",
      " [  0   0   6   1   3  10   0   2  32   0]\n",
      " [118   0 121  68   3  45   3   1 492   3]\n",
      " [ 72   0  27   6   0  27  27   0  62  59]]\n"
     ]
    },
    {
     "name": "stderr",
     "output_type": "stream",
     "text": [
      "C:\\Users\\ravic\\anaconda3\\lib\\site-packages\\sklearn\\metrics\\_classification.py:1318: UndefinedMetricWarning: Precision and F-score are ill-defined and being set to 0.0 in labels with no predicted samples. Use `zero_division` parameter to control this behavior.\n",
      "  _warn_prf(average, modifier, msg_start, len(result))\n",
      "C:\\Users\\ravic\\anaconda3\\lib\\site-packages\\sklearn\\metrics\\_classification.py:1318: UndefinedMetricWarning: Precision and F-score are ill-defined and being set to 0.0 in labels with no predicted samples. Use `zero_division` parameter to control this behavior.\n",
      "  _warn_prf(average, modifier, msg_start, len(result))\n",
      "C:\\Users\\ravic\\anaconda3\\lib\\site-packages\\sklearn\\metrics\\_classification.py:1318: UndefinedMetricWarning: Precision and F-score are ill-defined and being set to 0.0 in labels with no predicted samples. Use `zero_division` parameter to control this behavior.\n",
      "  _warn_prf(average, modifier, msg_start, len(result))\n"
     ]
    }
   ],
   "source": [
    "#printing results of the kmodel\n",
    "y_predict = kmodel.predict(Ftest)\n",
    "class_names = target.unique()\n",
    "print(classification_report(Ltest, y_predict, target_names=class_names))\n",
    "print(confusion_matrix(Ltest, y_predict))"
   ]
  },
  {
   "cell_type": "markdown",
   "id": "c81dd4d2",
   "metadata": {},
   "source": [
    "# SVM(poly) on Red data"
   ]
  },
  {
   "cell_type": "code",
   "execution_count": 42,
   "id": "a9cb2e28",
   "metadata": {},
   "outputs": [
    {
     "name": "stdout",
     "output_type": "stream",
     "text": [
      "0.607155142758858\n"
     ]
    }
   ],
   "source": [
    "svm_poly.fit(Ftrain,Ltrain)\n",
    "y_pred = svm_poly.predict(Ftest)\n",
    "print(accuracy_score(Ltest,y_pred))"
   ]
  },
  {
   "cell_type": "code",
   "execution_count": 43,
   "id": "35b2ceaf",
   "metadata": {},
   "outputs": [
    {
     "name": "stdout",
     "output_type": "stream",
     "text": [
      "                               precision    recall  f1-score   support\n",
      "\n",
      "               bacterial_spot       0.67      0.78      0.72       345\n",
      "                 early_blight       0.22      0.29      0.25       153\n",
      "                      healthy       0.66      0.76      0.71       234\n",
      "                  late_blight       0.50      0.57      0.54       309\n",
      "                    leaf_mold       0.48      0.48      0.48       145\n",
      "           septoria_leaf_spot       0.46      0.42      0.44       293\n",
      "                  target_spot       0.57      0.54      0.55       240\n",
      "          tomato_mosaic_virus       0.30      0.30      0.30        54\n",
      "tomato_yellow_leaf_curl_virus       0.78      0.68      0.73       854\n",
      "      two-spotted_spider_mite       0.70      0.62      0.66       280\n",
      "\n",
      "                     accuracy                           0.61      2907\n",
      "                    macro avg       0.54      0.54      0.54      2907\n",
      "                 weighted avg       0.62      0.61      0.61      2907\n",
      "\n",
      "[[269  15   6  15   3  12   3   1  21   0]\n",
      " [ 19  45   4  15   2  12  20   3  23  10]\n",
      " [  3   3 179  10   5  12   7   1   8   6]\n",
      " [ 14  31  14 177  10  26   8   3  18   8]\n",
      " [  1   4   5  23  69  18   5   3  14   3]\n",
      " [ 31  12  21  42  11 124  16   8  20   8]\n",
      " [ 14  33   6   7   5  21 130   3  10  11]\n",
      " [  1   1   0   6   6   7   4  16  10   3]\n",
      " [ 46  40  27  51  27  27  20   9 583  24]\n",
      " [  1  17   8   6   5   9  17   7  37 173]]\n"
     ]
    }
   ],
   "source": [
    "#classification report\n",
    "y_predict = svm_poly.predict(Ftest)\n",
    "class_names = target.unique()\n",
    "print(classification_report(Ltest, y_predict, target_names=class_names))\n",
    "print(confusion_matrix(Ltest, y_predict))"
   ]
  },
  {
   "cell_type": "markdown",
   "id": "bcdfb873",
   "metadata": {},
   "source": [
    "# SVM(RBF) on Red data"
   ]
  },
  {
   "cell_type": "code",
   "execution_count": 44,
   "id": "5e806290",
   "metadata": {},
   "outputs": [
    {
     "name": "stdout",
     "output_type": "stream",
     "text": [
      "0.6852425180598555\n"
     ]
    }
   ],
   "source": [
    "svm_rbf.fit(Ftrain,Ltrain)\n",
    "y_pred = svm_rbf.predict(Ftest)\n",
    "print(accuracy_score(Ltest,y_pred))"
   ]
  },
  {
   "cell_type": "code",
   "execution_count": 45,
   "id": "e613add4",
   "metadata": {},
   "outputs": [
    {
     "name": "stdout",
     "output_type": "stream",
     "text": [
      "                               precision    recall  f1-score   support\n",
      "\n",
      "               bacterial_spot       0.79      0.74      0.77       345\n",
      "                 early_blight       0.54      0.25      0.35       153\n",
      "                      healthy       0.67      0.85      0.75       234\n",
      "                  late_blight       0.63      0.61      0.62       309\n",
      "                    leaf_mold       0.72      0.46      0.56       145\n",
      "           septoria_leaf_spot       0.54      0.47      0.50       293\n",
      "                  target_spot       0.65      0.67      0.66       240\n",
      "          tomato_mosaic_virus       0.62      0.09      0.16        54\n",
      "tomato_yellow_leaf_curl_virus       0.72      0.86      0.78       854\n",
      "      two-spotted_spider_mite       0.72      0.71      0.71       280\n",
      "\n",
      "                     accuracy                           0.69      2907\n",
      "                    macro avg       0.66      0.57      0.59      2907\n",
      "                 weighted avg       0.68      0.69      0.67      2907\n",
      "\n",
      "[[257   2   9  16   0  17   6   0  38   0]\n",
      " [ 13  39   5  18   0  12  22   0  35   9]\n",
      " [  0   0 200   4   1   9   4   0  13   3]\n",
      " [  7   9  16 190   9  25  11   1  35   6]\n",
      " [  0   2   7  16  66  18   6   0  27   3]\n",
      " [ 17   3  23  33  12 137  16   1  38  13]\n",
      " [ 10   5   3   3   0  10 161   1  24  23]\n",
      " [  0   0   0   0   3   7   0   5  35   4]\n",
      " [ 21   6  25  20   1  18   8   0 738  17]\n",
      " [  1   6   9   0   0   3  13   0  49 199]]\n"
     ]
    }
   ],
   "source": [
    "#classification report\n",
    "y_predict = svm_rbf.predict(Ftest)\n",
    "class_names = target.unique()\n",
    "print(classification_report(Ltest, y_predict, target_names=class_names))\n",
    "print(confusion_matrix(Ltest, y_predict))"
   ]
  },
  {
   "cell_type": "markdown",
   "id": "558a44ca",
   "metadata": {},
   "source": [
    "# SVM(sigmoid) on Red data"
   ]
  },
  {
   "cell_type": "code",
   "execution_count": 46,
   "id": "dfde7ca8",
   "metadata": {},
   "outputs": [
    {
     "name": "stdout",
     "output_type": "stream",
     "text": [
      "0.29686962504299963\n"
     ]
    }
   ],
   "source": [
    "svm_si.fit(Ftrain,Ltrain)\n",
    "y_pred = svm_si.predict(Ftest)\n",
    "print(accuracy_score(Ltest,y_pred))"
   ]
  },
  {
   "cell_type": "code",
   "execution_count": 47,
   "id": "b58142f8",
   "metadata": {},
   "outputs": [
    {
     "name": "stdout",
     "output_type": "stream",
     "text": [
      "                               precision    recall  f1-score   support\n",
      "\n",
      "               bacterial_spot       0.00      0.00      0.00       345\n",
      "                 early_blight       0.00      0.00      0.00       153\n",
      "                      healthy       0.00      0.00      0.00       234\n",
      "                  late_blight       1.00      0.03      0.06       309\n",
      "                    leaf_mold       0.00      0.00      0.00       145\n",
      "           septoria_leaf_spot       0.00      0.00      0.00       293\n",
      "                  target_spot       0.00      0.00      0.00       240\n",
      "          tomato_mosaic_virus       0.00      0.00      0.00        54\n",
      "tomato_yellow_leaf_curl_virus       0.30      1.00      0.46       854\n",
      "      two-spotted_spider_mite       0.00      0.00      0.00       280\n",
      "\n",
      "                     accuracy                           0.30      2907\n",
      "                    macro avg       0.13      0.10      0.05      2907\n",
      "                 weighted avg       0.19      0.30      0.14      2907\n",
      "\n",
      "[[  0   0   0   0   0   0   0   0 345   0]\n",
      " [  0   0   0   0   0   0   0   0 153   0]\n",
      " [  0   0   0   0   0   0   0   0 234   0]\n",
      " [  4   0   8   9   0   0   0   0 288   0]\n",
      " [  0   0   0   0   0   0   0   0 145   0]\n",
      " [  0   0   0   0   0   0   0   0 293   0]\n",
      " [  0   0   0   0   0   0   0   0 240   0]\n",
      " [  0   0   0   0   0   0   0   0  54   0]\n",
      " [  0   0   0   0   0   0   0   0 854   0]\n",
      " [  0   0   0   0   0   0   0   0 280   0]]\n"
     ]
    },
    {
     "name": "stderr",
     "output_type": "stream",
     "text": [
      "C:\\Users\\ravic\\anaconda3\\lib\\site-packages\\sklearn\\metrics\\_classification.py:1318: UndefinedMetricWarning: Precision and F-score are ill-defined and being set to 0.0 in labels with no predicted samples. Use `zero_division` parameter to control this behavior.\n",
      "  _warn_prf(average, modifier, msg_start, len(result))\n",
      "C:\\Users\\ravic\\anaconda3\\lib\\site-packages\\sklearn\\metrics\\_classification.py:1318: UndefinedMetricWarning: Precision and F-score are ill-defined and being set to 0.0 in labels with no predicted samples. Use `zero_division` parameter to control this behavior.\n",
      "  _warn_prf(average, modifier, msg_start, len(result))\n",
      "C:\\Users\\ravic\\anaconda3\\lib\\site-packages\\sklearn\\metrics\\_classification.py:1318: UndefinedMetricWarning: Precision and F-score are ill-defined and being set to 0.0 in labels with no predicted samples. Use `zero_division` parameter to control this behavior.\n",
      "  _warn_prf(average, modifier, msg_start, len(result))\n"
     ]
    }
   ],
   "source": [
    "#classification report\n",
    "y_predict = svm_si.predict(Ftest)\n",
    "class_names = target.unique()\n",
    "print(classification_report(Ltest, y_predict, target_names=class_names))\n",
    "print(confusion_matrix(Ltest, y_predict))"
   ]
  },
  {
   "cell_type": "markdown",
   "id": "5a175c93",
   "metadata": {},
   "source": [
    "# Bernouli Naive bayes on Red data"
   ]
  },
  {
   "cell_type": "code",
   "execution_count": 48,
   "id": "d65fa897",
   "metadata": {},
   "outputs": [
    {
     "data": {
      "text/plain": [
       "0.3065015479876161"
      ]
     },
     "execution_count": 48,
     "metadata": {},
     "output_type": "execute_result"
    }
   ],
   "source": [
    "bnb.fit(Ftrain, Ltrain)\n",
    "y_pred = bnb.predict(Ftest)\n",
    "metrics.accuracy_score(Ltest, y_pred)"
   ]
  },
  {
   "cell_type": "code",
   "execution_count": 49,
   "id": "bdadbf8a",
   "metadata": {},
   "outputs": [
    {
     "name": "stdout",
     "output_type": "stream",
     "text": [
      "                               precision    recall  f1-score   support\n",
      "\n",
      "               bacterial_spot       0.00      0.00      0.00       345\n",
      "                 early_blight       0.08      0.01      0.02       153\n",
      "                      healthy       0.29      0.04      0.07       234\n",
      "                  late_blight       0.87      0.11      0.20       309\n",
      "                    leaf_mold       0.14      0.03      0.05       145\n",
      "           septoria_leaf_spot       0.28      0.05      0.09       293\n",
      "                  target_spot       0.17      0.02      0.04       240\n",
      "          tomato_mosaic_virus       0.00      0.00      0.00        54\n",
      "tomato_yellow_leaf_curl_virus       0.31      0.96      0.47       854\n",
      "      two-spotted_spider_mite       0.17      0.01      0.03       280\n",
      "\n",
      "                     accuracy                           0.31      2907\n",
      "                    macro avg       0.23      0.12      0.10      2907\n",
      "                 weighted avg       0.28      0.31      0.18      2907\n",
      "\n",
      "[[  0   0   0   0   0   0   0   0 345   0]\n",
      " [  3   2   6   2   5   7   5   8 114   1]\n",
      " [  4   2  10   0   3   5   1   3 204   2]\n",
      " [  8   6   3  34   4   9   5   6 233   1]\n",
      " [  4   2   5   0   4   4   2   3 120   1]\n",
      " [ 10   6   3   3   2  15   5   6 241   2]\n",
      " [  3   0   4   0   4   8   5   1 212   3]\n",
      " [  1   1   0   0   1   0   0   0  50   1]\n",
      " [  0   5   3   0   4   5   3   9 817   8]\n",
      " [  0   0   0   0   2   1   3   2 268   4]]\n"
     ]
    }
   ],
   "source": [
    "class_names = target.unique()\n",
    "print(classification_report(Ltest, y_pred, target_names=class_names))\n",
    "print(confusion_matrix(Ltest, y_pred))"
   ]
  },
  {
   "cell_type": "markdown",
   "id": "39255a27",
   "metadata": {},
   "source": [
    "# Multinomial Naive bayes on Red data"
   ]
  },
  {
   "cell_type": "code",
   "execution_count": 50,
   "id": "437843bc",
   "metadata": {},
   "outputs": [
    {
     "data": {
      "text/plain": [
       "0.3309253525971792"
      ]
     },
     "execution_count": 50,
     "metadata": {},
     "output_type": "execute_result"
    }
   ],
   "source": [
    "mnb.fit(Ftrain, Ltrain)\n",
    "y_pred = mnb.predict(Ftest)\n",
    "metrics.accuracy_score(Ltest, y_pred)"
   ]
  },
  {
   "cell_type": "code",
   "execution_count": 51,
   "id": "2bcb0431",
   "metadata": {},
   "outputs": [
    {
     "name": "stdout",
     "output_type": "stream",
     "text": [
      "                               precision    recall  f1-score   support\n",
      "\n",
      "               bacterial_spot       0.58      0.19      0.28       345\n",
      "                 early_blight       0.00      0.00      0.00       153\n",
      "                      healthy       0.00      0.00      0.00       234\n",
      "                  late_blight       0.38      0.36      0.37       309\n",
      "                    leaf_mold       0.00      0.00      0.00       145\n",
      "           septoria_leaf_spot       0.00      0.00      0.00       293\n",
      "                  target_spot       0.00      0.00      0.00       240\n",
      "          tomato_mosaic_virus       0.00      0.00      0.00        54\n",
      "tomato_yellow_leaf_curl_virus       0.31      0.92      0.47       854\n",
      "      two-spotted_spider_mite       0.00      0.00      0.00       280\n",
      "\n",
      "                     accuracy                           0.33      2907\n",
      "                    macro avg       0.13      0.15      0.11      2907\n",
      "                 weighted avg       0.20      0.33      0.21      2907\n",
      "\n",
      "[[ 65   0   0  32   0   0   0   0 248   0]\n",
      " [ 12   0   0   2   0   0   0   0 139   0]\n",
      " [  0   0   0  53   0   0   0   0 181   0]\n",
      " [ 10   0   2 110   0   0   0   0 187   0]\n",
      " [  1   0   1   7   0   0   0   0 136   0]\n",
      " [  2   0   0  28   0   0   0   0 263   0]\n",
      " [  2   0   0   0   0   0   0   0 238   0]\n",
      " [  0   0   0   0   0   0   0   0  54   0]\n",
      " [ 10   0   2  55   0   0   0   0 787   0]\n",
      " [ 10   0   0   2   0   0   0   0 268   0]]\n"
     ]
    },
    {
     "name": "stderr",
     "output_type": "stream",
     "text": [
      "C:\\Users\\ravic\\anaconda3\\lib\\site-packages\\sklearn\\metrics\\_classification.py:1318: UndefinedMetricWarning: Precision and F-score are ill-defined and being set to 0.0 in labels with no predicted samples. Use `zero_division` parameter to control this behavior.\n",
      "  _warn_prf(average, modifier, msg_start, len(result))\n",
      "C:\\Users\\ravic\\anaconda3\\lib\\site-packages\\sklearn\\metrics\\_classification.py:1318: UndefinedMetricWarning: Precision and F-score are ill-defined and being set to 0.0 in labels with no predicted samples. Use `zero_division` parameter to control this behavior.\n",
      "  _warn_prf(average, modifier, msg_start, len(result))\n",
      "C:\\Users\\ravic\\anaconda3\\lib\\site-packages\\sklearn\\metrics\\_classification.py:1318: UndefinedMetricWarning: Precision and F-score are ill-defined and being set to 0.0 in labels with no predicted samples. Use `zero_division` parameter to control this behavior.\n",
      "  _warn_prf(average, modifier, msg_start, len(result))\n"
     ]
    }
   ],
   "source": [
    "class_names = target.unique()\n",
    "print(classification_report(Ltest, y_pred, target_names=class_names))\n",
    "print(confusion_matrix(Ltest, y_pred))"
   ]
  },
  {
   "cell_type": "markdown",
   "id": "11e4cd00",
   "metadata": {},
   "source": [
    "# Green channel data"
   ]
  },
  {
   "cell_type": "code",
   "execution_count": 52,
   "id": "40feb467",
   "metadata": {},
   "outputs": [],
   "source": [
    "#reading numpy array data\n",
    "green_test = np.load('green_data.npy')\n",
    "#reading csv file\n",
    "green_df = pd.read_csv('green_data.csv')\n",
    "#assigning features and target to split the data\n",
    "features = pd.DataFrame(green_test)\n",
    "features = features.values\n",
    "target = green_df['disease']\n",
    "#splitting the data to train and test\n",
    "Ftrain,Ftest,Ltrain,Ltest=train_test_split(features,target, test_size=0.20, random_state=24)"
   ]
  },
  {
   "cell_type": "code",
   "execution_count": 53,
   "id": "f51b311e",
   "metadata": {},
   "outputs": [],
   "source": [
    "#applying normalizer scale on Ftrain and Ftest\n",
    "Ftrain = norm.fit_transform(Ftrain)\n",
    "Ftest = norm.fit_transform(Ftest)"
   ]
  },
  {
   "cell_type": "markdown",
   "id": "253aeb2a",
   "metadata": {},
   "source": [
    "# KNN on green data"
   ]
  },
  {
   "cell_type": "code",
   "execution_count": 54,
   "id": "f2e8c69a",
   "metadata": {},
   "outputs": [
    {
     "data": {
      "text/plain": [
       "0.3935328517371861"
      ]
     },
     "execution_count": 54,
     "metadata": {},
     "output_type": "execute_result"
    }
   ],
   "source": [
    "kmodel.fit(Ftrain,Ltrain)\n",
    "kmodel.score(Ftest,Ltest)"
   ]
  },
  {
   "cell_type": "code",
   "execution_count": 55,
   "id": "2ab18ccb",
   "metadata": {},
   "outputs": [
    {
     "name": "stdout",
     "output_type": "stream",
     "text": [
      "                               precision    recall  f1-score   support\n",
      "\n",
      "               bacterial_spot       0.28      0.76      0.41       345\n",
      "                 early_blight       0.00      0.00      0.00       153\n",
      "                      healthy       0.28      0.53      0.37       234\n",
      "                  late_blight       0.39      0.34      0.36       309\n",
      "                    leaf_mold       0.43      0.37      0.40       145\n",
      "           septoria_leaf_spot       0.27      0.39      0.32       293\n",
      "                  target_spot       0.11      0.00      0.01       240\n",
      "          tomato_mosaic_virus       0.33      0.02      0.04        54\n",
      "tomato_yellow_leaf_curl_virus       0.68      0.54      0.60       854\n",
      "      two-spotted_spider_mite       0.96      0.10      0.18       280\n",
      "\n",
      "                     accuracy                           0.39      2907\n",
      "                    macro avg       0.37      0.30      0.27      2907\n",
      "                 weighted avg       0.45      0.39      0.36      2907\n",
      "\n",
      "[[262   0  30  19   0  22   0   0  12   0]\n",
      " [100   0   2   1   6  16   0   0  28   0]\n",
      " [ 36   0 123   9   0  60   0   0   6   0]\n",
      " [ 74   0  53 105  18  20   0   0  39   0]\n",
      " [ 14   0  10  12  53  40   1   1  14   0]\n",
      " [ 44   0  58  31  16 115   0   0  28   1]\n",
      " [176   0   6   5   3  33   1   0  16   0]\n",
      " [  2   0   9   1   4  22   1   1  14   0]\n",
      " [131   0 131  69  10  56   0   0 457   0]\n",
      " [107   0  13  15  12  39   6   1  60  27]]\n"
     ]
    },
    {
     "name": "stderr",
     "output_type": "stream",
     "text": [
      "C:\\Users\\ravic\\anaconda3\\lib\\site-packages\\sklearn\\metrics\\_classification.py:1318: UndefinedMetricWarning: Precision and F-score are ill-defined and being set to 0.0 in labels with no predicted samples. Use `zero_division` parameter to control this behavior.\n",
      "  _warn_prf(average, modifier, msg_start, len(result))\n",
      "C:\\Users\\ravic\\anaconda3\\lib\\site-packages\\sklearn\\metrics\\_classification.py:1318: UndefinedMetricWarning: Precision and F-score are ill-defined and being set to 0.0 in labels with no predicted samples. Use `zero_division` parameter to control this behavior.\n",
      "  _warn_prf(average, modifier, msg_start, len(result))\n",
      "C:\\Users\\ravic\\anaconda3\\lib\\site-packages\\sklearn\\metrics\\_classification.py:1318: UndefinedMetricWarning: Precision and F-score are ill-defined and being set to 0.0 in labels with no predicted samples. Use `zero_division` parameter to control this behavior.\n",
      "  _warn_prf(average, modifier, msg_start, len(result))\n"
     ]
    }
   ],
   "source": [
    "#printing results of the kmodel\n",
    "y_predict = kmodel.predict(Ftest)\n",
    "class_names = target.unique()\n",
    "print(classification_report(Ltest, y_predict, target_names=class_names))\n",
    "print(confusion_matrix(Ltest, y_predict))"
   ]
  },
  {
   "cell_type": "markdown",
   "id": "9aa0bc22",
   "metadata": {},
   "source": [
    "# SVM(poly) on green data"
   ]
  },
  {
   "cell_type": "code",
   "execution_count": 56,
   "id": "fe39c65e",
   "metadata": {},
   "outputs": [
    {
     "name": "stdout",
     "output_type": "stream",
     "text": [
      "0.5923632610939112\n"
     ]
    }
   ],
   "source": [
    "svm_poly.fit(Ftrain,Ltrain)\n",
    "y_pred = svm_poly.predict(Ftest)\n",
    "print(accuracy_score(Ltest,y_pred))"
   ]
  },
  {
   "cell_type": "code",
   "execution_count": 57,
   "id": "8423b846",
   "metadata": {},
   "outputs": [
    {
     "name": "stdout",
     "output_type": "stream",
     "text": [
      "                               precision    recall  f1-score   support\n",
      "\n",
      "               bacterial_spot       0.65      0.75      0.69       345\n",
      "                 early_blight       0.26      0.35      0.30       153\n",
      "                      healthy       0.64      0.74      0.69       234\n",
      "                  late_blight       0.49      0.57      0.53       309\n",
      "                    leaf_mold       0.45      0.50      0.48       145\n",
      "           septoria_leaf_spot       0.46      0.41      0.43       293\n",
      "                  target_spot       0.49      0.51      0.50       240\n",
      "          tomato_mosaic_virus       0.30      0.24      0.27        54\n",
      "tomato_yellow_leaf_curl_virus       0.78      0.69      0.73       854\n",
      "      two-spotted_spider_mite       0.70      0.50      0.58       280\n",
      "\n",
      "                     accuracy                           0.59      2907\n",
      "                    macro avg       0.52      0.53      0.52      2907\n",
      "                 weighted avg       0.61      0.59      0.60      2907\n",
      "\n",
      "[[259  12   7  17   5  15   6   0  23   1]\n",
      " [ 21  54   2  24   7   6  16   0  20   3]\n",
      " [  4   4 173   9   4  10  13   1  11   5]\n",
      " [ 15  28   8 175  10  25  13   0  27   8]\n",
      " [  4   5   6  17  73  17  10   3   8   2]\n",
      " [ 29  16  18  40  14 120  15   7  26   8]\n",
      " [ 14  28  16   3  15  11 123   4  12  14]\n",
      " [  2   2   2   6   8  14   2  13   4   1]\n",
      " [ 47  36  31  50  17  36  18  10 592  17]\n",
      " [  6  21   7  13   9   9  35   5  35 140]]\n"
     ]
    }
   ],
   "source": [
    "#classification report\n",
    "y_predict = svm_poly.fit(Ftrain, Ltrain).predict(Ftest)\n",
    "class_names = target.unique()\n",
    "print(classification_report(Ltest, y_predict, target_names=class_names))\n",
    "print(confusion_matrix(Ltest, y_predict))"
   ]
  },
  {
   "cell_type": "markdown",
   "id": "6112d4e4",
   "metadata": {},
   "source": [
    "# SVM(RBF) on green data"
   ]
  },
  {
   "cell_type": "code",
   "execution_count": 58,
   "id": "69be936f",
   "metadata": {},
   "outputs": [
    {
     "name": "stdout",
     "output_type": "stream",
     "text": [
      "0.6900584795321637\n"
     ]
    }
   ],
   "source": [
    "svm_rbf.fit(Ftrain,Ltrain)\n",
    "y_pred = svm_rbf.predict(Ftest)\n",
    "print(accuracy_score(Ltest,y_pred))"
   ]
  },
  {
   "cell_type": "code",
   "execution_count": 59,
   "id": "81b4c571",
   "metadata": {},
   "outputs": [
    {
     "name": "stdout",
     "output_type": "stream",
     "text": [
      "                               precision    recall  f1-score   support\n",
      "\n",
      "               bacterial_spot       0.79      0.73      0.76       345\n",
      "                 early_blight       0.56      0.29      0.38       153\n",
      "                      healthy       0.73      0.81      0.77       234\n",
      "                  late_blight       0.68      0.65      0.67       309\n",
      "                    leaf_mold       0.61      0.50      0.55       145\n",
      "           septoria_leaf_spot       0.54      0.52      0.53       293\n",
      "                  target_spot       0.63      0.61      0.62       240\n",
      "          tomato_mosaic_virus       0.44      0.15      0.22        54\n",
      "tomato_yellow_leaf_curl_virus       0.73      0.89      0.80       854\n",
      "      two-spotted_spider_mite       0.68      0.65      0.67       280\n",
      "\n",
      "                     accuracy                           0.69      2907\n",
      "                    macro avg       0.64      0.58      0.60      2907\n",
      "                 weighted avg       0.68      0.69      0.68      2907\n",
      "\n",
      "[[251   3  10  10   5  15   4   0  46   1]\n",
      " [ 12  44   0  25   4   9  16   0  32  11]\n",
      " [  1   1 190   5   2   9   9   2  13   2]\n",
      " [  4  11   5 200   8  24   8   3  34  12]\n",
      " [  3   1   8  12  73  16   8   1  18   5]\n",
      " [ 14   2  18  20  14 152  10   1  53   9]\n",
      " [ 10   4   7   3   3   6 146   2  27  32]\n",
      " [  0   0   1   0   6  19   1   8  15   4]\n",
      " [ 19   7  14  12   3  22   9   0 759   9]\n",
      " [  3   5   9   5   1   9  22   1  42 183]]\n"
     ]
    }
   ],
   "source": [
    "#classification report\n",
    "y_predict = svm_rbf.predict(Ftest)\n",
    "class_names = target.unique()\n",
    "print(classification_report(Ltest, y_predict, target_names=class_names))\n",
    "print(confusion_matrix(Ltest, y_predict))"
   ]
  },
  {
   "cell_type": "markdown",
   "id": "662d1937",
   "metadata": {},
   "source": [
    "# SVM(sigmoid) on green data"
   ]
  },
  {
   "cell_type": "code",
   "execution_count": 60,
   "id": "7f6adcca",
   "metadata": {},
   "outputs": [
    {
     "name": "stdout",
     "output_type": "stream",
     "text": [
      "0.2937736498108015\n"
     ]
    }
   ],
   "source": [
    "svm_si.fit(Ftrain,Ltrain)\n",
    "y_pred = svm_si.predict(Ftest)\n",
    "print(accuracy_score(Ltest,y_pred))"
   ]
  },
  {
   "cell_type": "code",
   "execution_count": 61,
   "id": "251d68f3",
   "metadata": {},
   "outputs": [
    {
     "name": "stdout",
     "output_type": "stream",
     "text": [
      "                               precision    recall  f1-score   support\n",
      "\n",
      "               bacterial_spot       0.00      0.00      0.00       345\n",
      "                 early_blight       0.00      0.00      0.00       153\n",
      "                      healthy       0.00      0.00      0.00       234\n",
      "                  late_blight       0.00      0.00      0.00       309\n",
      "                    leaf_mold       0.00      0.00      0.00       145\n",
      "           septoria_leaf_spot       0.00      0.00      0.00       293\n",
      "                  target_spot       0.00      0.00      0.00       240\n",
      "          tomato_mosaic_virus       0.00      0.00      0.00        54\n",
      "tomato_yellow_leaf_curl_virus       0.29      1.00      0.45       854\n",
      "      two-spotted_spider_mite       0.00      0.00      0.00       280\n",
      "\n",
      "                     accuracy                           0.29      2907\n",
      "                    macro avg       0.03      0.10      0.05      2907\n",
      "                 weighted avg       0.09      0.29      0.13      2907\n",
      "\n",
      "[[  0   0   0   0   0   0   0   0 345   0]\n",
      " [  0   0   0   0   0   0   0   0 153   0]\n",
      " [  0   0   0   0   0   0   0   0 234   0]\n",
      " [  0   0   0   0   0   0   0   0 309   0]\n",
      " [  0   0   0   0   0   0   0   0 145   0]\n",
      " [  0   0   0   0   0   0   0   0 293   0]\n",
      " [  0   0   0   0   0   0   0   0 240   0]\n",
      " [  0   0   0   0   0   0   0   0  54   0]\n",
      " [  0   0   0   0   0   0   0   0 854   0]\n",
      " [  0   0   0   0   0   0   0   0 280   0]]\n"
     ]
    },
    {
     "name": "stderr",
     "output_type": "stream",
     "text": [
      "C:\\Users\\ravic\\anaconda3\\lib\\site-packages\\sklearn\\metrics\\_classification.py:1318: UndefinedMetricWarning: Precision and F-score are ill-defined and being set to 0.0 in labels with no predicted samples. Use `zero_division` parameter to control this behavior.\n",
      "  _warn_prf(average, modifier, msg_start, len(result))\n",
      "C:\\Users\\ravic\\anaconda3\\lib\\site-packages\\sklearn\\metrics\\_classification.py:1318: UndefinedMetricWarning: Precision and F-score are ill-defined and being set to 0.0 in labels with no predicted samples. Use `zero_division` parameter to control this behavior.\n",
      "  _warn_prf(average, modifier, msg_start, len(result))\n",
      "C:\\Users\\ravic\\anaconda3\\lib\\site-packages\\sklearn\\metrics\\_classification.py:1318: UndefinedMetricWarning: Precision and F-score are ill-defined and being set to 0.0 in labels with no predicted samples. Use `zero_division` parameter to control this behavior.\n",
      "  _warn_prf(average, modifier, msg_start, len(result))\n"
     ]
    }
   ],
   "source": [
    "#classification report\n",
    "y_predict = svm_si.predict(Ftest)\n",
    "class_names = target.unique()\n",
    "print(classification_report(Ltest, y_predict, target_names=class_names))\n",
    "print(confusion_matrix(Ltest, y_predict))"
   ]
  },
  {
   "cell_type": "markdown",
   "id": "8aa412dd",
   "metadata": {},
   "source": [
    "# Bernouli Naive bayes on green data"
   ]
  },
  {
   "cell_type": "code",
   "execution_count": 62,
   "id": "b6622b8d",
   "metadata": {},
   "outputs": [
    {
     "data": {
      "text/plain": [
       "0.3120055039559684"
      ]
     },
     "execution_count": 62,
     "metadata": {},
     "output_type": "execute_result"
    }
   ],
   "source": [
    "bnb.fit(Ftrain, Ltrain)\n",
    "y_pred = bnb.predict(Ftest)\n",
    "metrics.accuracy_score(Ltest, y_pred)"
   ]
  },
  {
   "cell_type": "code",
   "execution_count": 63,
   "id": "f3c6b16f",
   "metadata": {},
   "outputs": [
    {
     "name": "stdout",
     "output_type": "stream",
     "text": [
      "                               precision    recall  f1-score   support\n",
      "\n",
      "               bacterial_spot       0.00      0.00      0.00       345\n",
      "                 early_blight       0.27      0.05      0.09       153\n",
      "                      healthy       0.32      0.03      0.05       234\n",
      "                  late_blight       0.97      0.11      0.20       309\n",
      "                    leaf_mold       0.18      0.03      0.05       145\n",
      "           septoria_leaf_spot       0.06      0.01      0.01       293\n",
      "                  target_spot       0.00      0.00      0.00       240\n",
      "          tomato_mosaic_virus       0.00      0.00      0.00        54\n",
      "tomato_yellow_leaf_curl_virus       0.31      1.00      0.48       854\n",
      "      two-spotted_spider_mite       0.00      0.00      0.00       280\n",
      "\n",
      "                     accuracy                           0.31      2907\n",
      "                    macro avg       0.21      0.12      0.09      2907\n",
      "                 weighted avg       0.25      0.31      0.17      2907\n",
      "\n",
      "[[  0   0   0   0   0   0   0   0 345   0]\n",
      " [  1   8   4   1   2  13   1   4 116   3]\n",
      " [  6   2   7   0   0   5   2   0 212   0]\n",
      " [  9  11   4  34  12   5   2   8 223   1]\n",
      " [  3   0   5   0   4   4   0   1 127   1]\n",
      " [  4   7   2   0   4   2   3   3 267   1]\n",
      " [  0   1   0   0   0   1   0   0 238   0]\n",
      " [  1   1   0   0   0   3   0   0  49   0]\n",
      " [  1   0   0   0   0   1   0   0 852   0]\n",
      " [  1   0   0   0   0   0   0   0 279   0]]\n"
     ]
    }
   ],
   "source": [
    "class_names = target.unique()\n",
    "print(classification_report(Ltest, y_pred, target_names=class_names))\n",
    "print(confusion_matrix(Ltest, y_pred))"
   ]
  },
  {
   "cell_type": "markdown",
   "id": "d144692e",
   "metadata": {},
   "source": [
    "# Multinomial Naive bayes on Green data"
   ]
  },
  {
   "cell_type": "code",
   "execution_count": 64,
   "id": "a7a34c33",
   "metadata": {},
   "outputs": [
    {
     "data": {
      "text/plain": [
       "0.2982456140350877"
      ]
     },
     "execution_count": 64,
     "metadata": {},
     "output_type": "execute_result"
    }
   ],
   "source": [
    "mnb.fit(Ftrain, Ltrain)\n",
    "y_pred = mnb.predict(Ftest)\n",
    "metrics.accuracy_score(Ltest, y_pred)"
   ]
  },
  {
   "cell_type": "code",
   "execution_count": 65,
   "id": "441ea45d",
   "metadata": {},
   "outputs": [
    {
     "name": "stdout",
     "output_type": "stream",
     "text": [
      "                               precision    recall  f1-score   support\n",
      "\n",
      "               bacterial_spot       0.24      0.01      0.02       345\n",
      "                 early_blight       0.00      0.00      0.00       153\n",
      "                      healthy       0.00      0.00      0.00       234\n",
      "                  late_blight       0.67      0.04      0.07       309\n",
      "                    leaf_mold       0.00      0.00      0.00       145\n",
      "           septoria_leaf_spot       0.00      0.00      0.00       293\n",
      "                  target_spot       0.00      0.00      0.00       240\n",
      "          tomato_mosaic_virus       0.00      0.00      0.00        54\n",
      "tomato_yellow_leaf_curl_virus       0.30      1.00      0.46       854\n",
      "      two-spotted_spider_mite       0.00      0.00      0.00       280\n",
      "\n",
      "                     accuracy                           0.30      2907\n",
      "                    macro avg       0.12      0.10      0.06      2907\n",
      "                 weighted avg       0.19      0.30      0.15      2907\n",
      "\n",
      "[[  4   0   0   1   0   0   0   0 340   0]\n",
      " [  3   0   0   1   0   0   0   0 149   0]\n",
      " [  0   0   0   2   0   0   0   0 232   0]\n",
      " [  3   0  23  12   0   0   0   0 271   0]\n",
      " [  0   0   0   0   0   0   0   0 145   0]\n",
      " [  0   0   1   1   0   0   0   0 291   0]\n",
      " [  0   0   0   0   0   0   0   0 240   0]\n",
      " [  0   0   0   0   0   0   0   0  54   0]\n",
      " [  2   0   0   1   0   0   0   0 851   0]\n",
      " [  5   0   0   0   0   0   0   0 275   0]]\n"
     ]
    },
    {
     "name": "stderr",
     "output_type": "stream",
     "text": [
      "C:\\Users\\ravic\\anaconda3\\lib\\site-packages\\sklearn\\metrics\\_classification.py:1318: UndefinedMetricWarning: Precision and F-score are ill-defined and being set to 0.0 in labels with no predicted samples. Use `zero_division` parameter to control this behavior.\n",
      "  _warn_prf(average, modifier, msg_start, len(result))\n",
      "C:\\Users\\ravic\\anaconda3\\lib\\site-packages\\sklearn\\metrics\\_classification.py:1318: UndefinedMetricWarning: Precision and F-score are ill-defined and being set to 0.0 in labels with no predicted samples. Use `zero_division` parameter to control this behavior.\n",
      "  _warn_prf(average, modifier, msg_start, len(result))\n",
      "C:\\Users\\ravic\\anaconda3\\lib\\site-packages\\sklearn\\metrics\\_classification.py:1318: UndefinedMetricWarning: Precision and F-score are ill-defined and being set to 0.0 in labels with no predicted samples. Use `zero_division` parameter to control this behavior.\n",
      "  _warn_prf(average, modifier, msg_start, len(result))\n"
     ]
    }
   ],
   "source": [
    "class_names = target.unique()\n",
    "print(classification_report(Ltest, y_pred, target_names=class_names))\n",
    "print(confusion_matrix(Ltest, y_pred))"
   ]
  },
  {
   "cell_type": "markdown",
   "id": "a6a80ecb",
   "metadata": {},
   "source": [
    "# Blue channel data"
   ]
  },
  {
   "cell_type": "code",
   "execution_count": 66,
   "id": "06094596",
   "metadata": {},
   "outputs": [],
   "source": [
    "#reading numpy array data\n",
    "blue_test = np.load('blue_data.npy')\n",
    "#reading csv file\n",
    "blue_df = pd.read_csv('blue_data.csv')\n",
    "#assigning features and target to split the data\n",
    "features = pd.DataFrame(blue_test)\n",
    "features = features.values\n",
    "target = blue_df['disease']\n",
    "#splitting the data to train and test\n",
    "Ftrain,Ftest,Ltrain,Ltest=train_test_split(features,target, test_size=0.20, random_state=24)"
   ]
  },
  {
   "cell_type": "code",
   "execution_count": 67,
   "id": "b6b2ea4c",
   "metadata": {},
   "outputs": [],
   "source": [
    "#applying normalizer scale on Ftrain and Ftest\n",
    "Ftrain = norm.fit_transform(Ftrain)\n",
    "Ftest = norm.fit_transform(Ftest)"
   ]
  },
  {
   "cell_type": "markdown",
   "id": "2c8c42d8",
   "metadata": {},
   "source": [
    "# KNN on blue data"
   ]
  },
  {
   "cell_type": "code",
   "execution_count": 68,
   "id": "8c4b41c1",
   "metadata": {},
   "outputs": [
    {
     "data": {
      "text/plain": [
       "0.44478844169246645"
      ]
     },
     "execution_count": 68,
     "metadata": {},
     "output_type": "execute_result"
    }
   ],
   "source": [
    "kmodel.fit(Ftrain,Ltrain)\n",
    "kmodel.score(Ftest,Ltest)"
   ]
  },
  {
   "cell_type": "code",
   "execution_count": 69,
   "id": "3044aa22",
   "metadata": {},
   "outputs": [
    {
     "name": "stdout",
     "output_type": "stream",
     "text": [
      "                               precision    recall  f1-score   support\n",
      "\n",
      "               bacterial_spot       0.24      0.88      0.38       345\n",
      "                 early_blight       0.00      0.00      0.00       153\n",
      "                      healthy       0.50      0.64      0.56       234\n",
      "                  late_blight       0.60      0.39      0.48       309\n",
      "                    leaf_mold       0.50      0.54      0.52       145\n",
      "           septoria_leaf_spot       0.30      0.31      0.31       293\n",
      "                  target_spot       0.12      0.01      0.02       240\n",
      "          tomato_mosaic_virus       0.35      0.15      0.21        54\n",
      "tomato_yellow_leaf_curl_virus       0.87      0.55      0.67       854\n",
      "      two-spotted_spider_mite       0.83      0.23      0.36       280\n",
      "\n",
      "                     accuracy                           0.44      2907\n",
      "                    macro avg       0.43      0.37      0.35      2907\n",
      "                 weighted avg       0.54      0.44      0.44      2907\n",
      "\n",
      "[[305   0  18  11   1   5   1   1   3   0]\n",
      " [102   0   9   5   2  18   1   1  15   0]\n",
      " [ 67   0 150   7   0   4   4   0   0   2]\n",
      " [ 76   0  43 122  21  33   0   1  13   0]\n",
      " [ 23   0   8   7  79  22   2   1   3   0]\n",
      " [107   0  14  24  37  92   0   2  15   2]\n",
      " [185   0  38   2   1  10   2   1   0   1]\n",
      " [  4   0   4  11   6  16   0   8   4   1]\n",
      " [280   0   3  10  10  67   2   4 471   7]\n",
      " [130   0  16   4   1  38   5   4  18  64]]\n"
     ]
    },
    {
     "name": "stderr",
     "output_type": "stream",
     "text": [
      "C:\\Users\\ravic\\anaconda3\\lib\\site-packages\\sklearn\\metrics\\_classification.py:1318: UndefinedMetricWarning: Precision and F-score are ill-defined and being set to 0.0 in labels with no predicted samples. Use `zero_division` parameter to control this behavior.\n",
      "  _warn_prf(average, modifier, msg_start, len(result))\n",
      "C:\\Users\\ravic\\anaconda3\\lib\\site-packages\\sklearn\\metrics\\_classification.py:1318: UndefinedMetricWarning: Precision and F-score are ill-defined and being set to 0.0 in labels with no predicted samples. Use `zero_division` parameter to control this behavior.\n",
      "  _warn_prf(average, modifier, msg_start, len(result))\n",
      "C:\\Users\\ravic\\anaconda3\\lib\\site-packages\\sklearn\\metrics\\_classification.py:1318: UndefinedMetricWarning: Precision and F-score are ill-defined and being set to 0.0 in labels with no predicted samples. Use `zero_division` parameter to control this behavior.\n",
      "  _warn_prf(average, modifier, msg_start, len(result))\n"
     ]
    }
   ],
   "source": [
    "#printing results of the kmodel\n",
    "y_predict = kmodel.predict(Ftest)\n",
    "class_names = target.unique()\n",
    "print(classification_report(Ltest, y_predict, target_names=class_names))\n",
    "print(confusion_matrix(Ltest, y_predict))"
   ]
  },
  {
   "cell_type": "markdown",
   "id": "4d40997b",
   "metadata": {},
   "source": [
    "# SVM(poly) on blue data"
   ]
  },
  {
   "cell_type": "code",
   "execution_count": 70,
   "id": "39b88095",
   "metadata": {},
   "outputs": [
    {
     "name": "stdout",
     "output_type": "stream",
     "text": [
      "0.6666666666666666\n"
     ]
    }
   ],
   "source": [
    "svm_poly.fit(Ftrain,Ltrain)\n",
    "y_pred = svm_poly.predict(Ftest)\n",
    "print(accuracy_score(Ltest,y_pred))"
   ]
  },
  {
   "cell_type": "code",
   "execution_count": 71,
   "id": "dc98d740",
   "metadata": {},
   "outputs": [
    {
     "name": "stdout",
     "output_type": "stream",
     "text": [
      "                               precision    recall  f1-score   support\n",
      "\n",
      "               bacterial_spot       0.66      0.80      0.72       345\n",
      "                 early_blight       0.23      0.28      0.25       153\n",
      "                      healthy       0.83      0.77      0.80       234\n",
      "                  late_blight       0.61      0.64      0.62       309\n",
      "                    leaf_mold       0.58      0.50      0.54       145\n",
      "           septoria_leaf_spot       0.46      0.50      0.48       293\n",
      "                  target_spot       0.54      0.45      0.49       240\n",
      "          tomato_mosaic_virus       0.50      0.37      0.43        54\n",
      "tomato_yellow_leaf_curl_virus       0.86      0.81      0.83       854\n",
      "      two-spotted_spider_mite       0.78      0.72      0.75       280\n",
      "\n",
      "                     accuracy                           0.67      2907\n",
      "                    macro avg       0.60      0.59      0.59      2907\n",
      "                 weighted avg       0.68      0.67      0.67      2907\n",
      "\n",
      "[[277   7   6   8   1  21   9   0  12   4]\n",
      " [ 24  43   0  25   2  18  13   1  23   4]\n",
      " [  3   8 180   5   1   5  26   0   2   4]\n",
      " [  9  31   3 198  12  15  13   3  16   9]\n",
      " [  6   6   0  14  73  32   1   3   6   4]\n",
      " [ 38  13   5  34  17 147   7   6  20   6]\n",
      " [ 35  30  21   4   6  21 109   2   5   7]\n",
      " [  3   2   0   3   6  16   2  20   2   0]\n",
      " [ 27  39   0  30   7  34   4   4 689  20]\n",
      " [  0  12   2   5   0  11  19   1  28 202]]\n"
     ]
    }
   ],
   "source": [
    "#classification report\n",
    "y_predict = svm_poly.predict(Ftest)\n",
    "class_names = target.unique()\n",
    "print(classification_report(Ltest, y_predict, target_names=class_names))\n",
    "print(confusion_matrix(Ltest, y_predict))"
   ]
  },
  {
   "cell_type": "markdown",
   "id": "5226f4f2",
   "metadata": {},
   "source": [
    "# SVM(RBF) on blue data"
   ]
  },
  {
   "cell_type": "code",
   "execution_count": 72,
   "id": "183a5680",
   "metadata": {},
   "outputs": [
    {
     "name": "stdout",
     "output_type": "stream",
     "text": [
      "0.7127622979016168\n"
     ]
    }
   ],
   "source": [
    "svm_rbf.fit(Ftrain,Ltrain)\n",
    "y_pred = svm_rbf.predict(Ftest)\n",
    "print(accuracy_score(Ltest,y_pred))"
   ]
  },
  {
   "cell_type": "code",
   "execution_count": 73,
   "id": "22270861",
   "metadata": {},
   "outputs": [
    {
     "name": "stdout",
     "output_type": "stream",
     "text": [
      "                               precision    recall  f1-score   support\n",
      "\n",
      "               bacterial_spot       0.69      0.83      0.75       345\n",
      "                 early_blight       0.45      0.18      0.26       153\n",
      "                      healthy       0.84      0.84      0.84       234\n",
      "                  late_blight       0.70      0.68      0.69       309\n",
      "                    leaf_mold       0.68      0.49      0.57       145\n",
      "           septoria_leaf_spot       0.48      0.45      0.47       293\n",
      "                  target_spot       0.61      0.60      0.60       240\n",
      "          tomato_mosaic_virus       0.60      0.22      0.32        54\n",
      "tomato_yellow_leaf_curl_virus       0.79      0.91      0.85       854\n",
      "      two-spotted_spider_mite       0.77      0.76      0.76       280\n",
      "\n",
      "                     accuracy                           0.71      2907\n",
      "                    macro avg       0.66      0.60      0.61      2907\n",
      "                 weighted avg       0.70      0.71      0.70      2907\n",
      "\n",
      "[[286   1  11   3   0  12   8   0  23   1]\n",
      " [ 16  28   1  26   0  15  16   1  44   6]\n",
      " [  3   0 197   5   0   5  20   0   0   4]\n",
      " [  8  10   6 209  11  15  10   3  27  10]\n",
      " [  8   2   1  14  71  28   4   0  12   5]\n",
      " [ 45   7   3  22  17 133  14   2  38  12]\n",
      " [ 29   8  13   3   1  17 143   2   9  15]\n",
      " [  1   0   0   2   4  24   0  12  10   1]\n",
      " [ 18   2   1  11   1  21   8   0 781  11]\n",
      " [  0   4   1   4   0   8  11   0  40 212]]\n"
     ]
    }
   ],
   "source": [
    "#classification report\n",
    "y_predict = svm_rbf.predict(Ftest)\n",
    "class_names = target.unique()\n",
    "print(classification_report(Ltest, y_predict, target_names=class_names))\n",
    "print(confusion_matrix(Ltest, y_predict))"
   ]
  },
  {
   "cell_type": "markdown",
   "id": "09f47e7e",
   "metadata": {},
   "source": [
    "# SVM(sigmoid) on blue data"
   ]
  },
  {
   "cell_type": "code",
   "execution_count": 74,
   "id": "4401c844",
   "metadata": {},
   "outputs": [
    {
     "name": "stdout",
     "output_type": "stream",
     "text": [
      "0.2937736498108015\n"
     ]
    }
   ],
   "source": [
    "svm_si.fit(Ftrain,Ltrain)\n",
    "y_pred = svm_si.predict(Ftest)\n",
    "print(accuracy_score(Ltest,y_pred))"
   ]
  },
  {
   "cell_type": "code",
   "execution_count": 75,
   "id": "4372e59f",
   "metadata": {},
   "outputs": [
    {
     "name": "stdout",
     "output_type": "stream",
     "text": [
      "                               precision    recall  f1-score   support\n",
      "\n",
      "               bacterial_spot       0.00      0.00      0.00       345\n",
      "                 early_blight       0.00      0.00      0.00       153\n",
      "                      healthy       0.00      0.00      0.00       234\n",
      "                  late_blight       0.00      0.00      0.00       309\n",
      "                    leaf_mold       0.00      0.00      0.00       145\n",
      "           septoria_leaf_spot       0.00      0.00      0.00       293\n",
      "                  target_spot       0.00      0.00      0.00       240\n",
      "          tomato_mosaic_virus       0.00      0.00      0.00        54\n",
      "tomato_yellow_leaf_curl_virus       0.30      1.00      0.46       854\n",
      "      two-spotted_spider_mite       0.00      0.00      0.00       280\n",
      "\n",
      "                     accuracy                           0.29      2907\n",
      "                    macro avg       0.03      0.10      0.05      2907\n",
      "                 weighted avg       0.09      0.29      0.13      2907\n",
      "\n",
      "[[  0   0   0   0   0   0   0   0 345   0]\n",
      " [  0   0   0   0   0   0   0   0 153   0]\n",
      " [  0   0   0   0   0   0   0   0 234   0]\n",
      " [  2   0  31   0   0   0   0   0 276   0]\n",
      " [  0   0   0   0   0   0   0   0 145   0]\n",
      " [  0   0   0   0   0   0   0   0 293   0]\n",
      " [  0   0   0   0   0   0   0   0 240   0]\n",
      " [  0   0   0   0   0   0   0   0  54   0]\n",
      " [  0   0   0   0   0   0   0   0 854   0]\n",
      " [  0   0   0   0   0   0   0   0 280   0]]\n"
     ]
    },
    {
     "name": "stderr",
     "output_type": "stream",
     "text": [
      "C:\\Users\\ravic\\anaconda3\\lib\\site-packages\\sklearn\\metrics\\_classification.py:1318: UndefinedMetricWarning: Precision and F-score are ill-defined and being set to 0.0 in labels with no predicted samples. Use `zero_division` parameter to control this behavior.\n",
      "  _warn_prf(average, modifier, msg_start, len(result))\n",
      "C:\\Users\\ravic\\anaconda3\\lib\\site-packages\\sklearn\\metrics\\_classification.py:1318: UndefinedMetricWarning: Precision and F-score are ill-defined and being set to 0.0 in labels with no predicted samples. Use `zero_division` parameter to control this behavior.\n",
      "  _warn_prf(average, modifier, msg_start, len(result))\n",
      "C:\\Users\\ravic\\anaconda3\\lib\\site-packages\\sklearn\\metrics\\_classification.py:1318: UndefinedMetricWarning: Precision and F-score are ill-defined and being set to 0.0 in labels with no predicted samples. Use `zero_division` parameter to control this behavior.\n",
      "  _warn_prf(average, modifier, msg_start, len(result))\n"
     ]
    }
   ],
   "source": [
    "#classification report\n",
    "y_predict = svm_si.predict(Ftest)\n",
    "class_names = target.unique()\n",
    "print(classification_report(Ltest, y_predict, target_names=class_names))\n",
    "print(confusion_matrix(Ltest, y_predict))"
   ]
  },
  {
   "cell_type": "markdown",
   "id": "7401f4ab",
   "metadata": {},
   "source": [
    "# Bernouli Naive bayes on blue data"
   ]
  },
  {
   "cell_type": "code",
   "execution_count": 76,
   "id": "a8ddf84b",
   "metadata": {},
   "outputs": [
    {
     "data": {
      "text/plain": [
       "0.37564499484004127"
      ]
     },
     "execution_count": 76,
     "metadata": {},
     "output_type": "execute_result"
    }
   ],
   "source": [
    "bnb.fit(Ftrain, Ltrain)\n",
    "y_pred = bnb.predict(Ftest)\n",
    "metrics.accuracy_score(Ltest, y_pred)"
   ]
  },
  {
   "cell_type": "code",
   "execution_count": 77,
   "id": "944621bd",
   "metadata": {},
   "outputs": [
    {
     "name": "stdout",
     "output_type": "stream",
     "text": [
      "                               precision    recall  f1-score   support\n",
      "\n",
      "               bacterial_spot       0.25      0.93      0.40       345\n",
      "                 early_blight       0.14      0.07      0.10       153\n",
      "                      healthy       0.23      0.16      0.19       234\n",
      "                  late_blight       0.65      0.21      0.31       309\n",
      "                    leaf_mold       0.26      0.12      0.17       145\n",
      "           septoria_leaf_spot       0.19      0.09      0.12       293\n",
      "                  target_spot       0.19      0.12      0.15       240\n",
      "          tomato_mosaic_virus       0.00      0.00      0.00        54\n",
      "tomato_yellow_leaf_curl_virus       0.80      0.57      0.67       854\n",
      "      two-spotted_spider_mite       0.30      0.34      0.32       280\n",
      "\n",
      "                     accuracy                           0.38      2907\n",
      "                    macro avg       0.30      0.26      0.24      2907\n",
      "                 weighted avg       0.44      0.38      0.36      2907\n",
      "\n",
      "[[320   0   7   1   1   2   8   0   0   6]\n",
      " [ 54  11   7  20   6  12   7   3  16  17]\n",
      " [139   6  37   0  12   8   6   4   2  20]\n",
      " [155  17   7  64   4  10  10   2  22  18]\n",
      " [ 86   2   4   4  18   9   9   2   6   5]\n",
      " [166  16  14   4   8  27  19   6  16  17]\n",
      " [141   2  24   0   3  15  29   0   5  21]\n",
      " [ 42   0   1   0   0   4   2   0   1   4]\n",
      " [101  20  27   6  13  45  33   5 490 114]\n",
      " [ 55   2  32   0   4   8  29   0  54  96]]\n"
     ]
    }
   ],
   "source": [
    "class_names = target.unique()\n",
    "print(classification_report(Ltest, y_pred, target_names=class_names))\n",
    "print(confusion_matrix(Ltest, y_pred))"
   ]
  },
  {
   "cell_type": "markdown",
   "id": "cbf0037b",
   "metadata": {},
   "source": [
    "# Multinomial Naive bayes on blue data"
   ]
  },
  {
   "cell_type": "code",
   "execution_count": 78,
   "id": "050a9f46",
   "metadata": {},
   "outputs": [
    {
     "data": {
      "text/plain": [
       "0.3955968352253182"
      ]
     },
     "execution_count": 78,
     "metadata": {},
     "output_type": "execute_result"
    }
   ],
   "source": [
    "mnb.fit(Ftrain, Ltrain)\n",
    "y_pred = mnb.predict(Ftest)\n",
    "metrics.accuracy_score(Ltest, y_pred)"
   ]
  },
  {
   "cell_type": "code",
   "execution_count": 79,
   "id": "9a916b04",
   "metadata": {},
   "outputs": [
    {
     "name": "stdout",
     "output_type": "stream",
     "text": [
      "                               precision    recall  f1-score   support\n",
      "\n",
      "               bacterial_spot       0.20      0.18      0.19       345\n",
      "                 early_blight       0.00      0.00      0.00       153\n",
      "                      healthy       0.51      0.24      0.33       234\n",
      "                  late_blight       0.47      0.47      0.47       309\n",
      "                    leaf_mold       0.67      0.20      0.31       145\n",
      "           septoria_leaf_spot       0.27      0.01      0.03       293\n",
      "                  target_spot       0.00      0.00      0.00       240\n",
      "          tomato_mosaic_virus       0.00      0.00      0.00        54\n",
      "tomato_yellow_leaf_curl_virus       0.40      0.98      0.57       854\n",
      "      two-spotted_spider_mite       0.56      0.05      0.10       280\n",
      "\n",
      "                     accuracy                           0.40      2907\n",
      "                    macro avg       0.31      0.21      0.20      2907\n",
      "                 weighted avg       0.35      0.40      0.29      2907\n",
      "\n",
      "[[ 62   0   7  12   0   1   0   0 260   3]\n",
      " [ 26   0   3   8   0   0   0   0 115   1]\n",
      " [ 52   0  57  87   0   0   0   0  33   5]\n",
      " [ 19   0  21 145   5   6   0   0 113   0]\n",
      " [  9   0   1  20  29   3   0   0  83   0]\n",
      " [ 27   0   1  21   8   4   0   0 231   1]\n",
      " [ 76   0  15   7   0   0   0   0 141   1]\n",
      " [  0   0   0   4   1   0   0   0  49   0]\n",
      " [ 11   0   0   4   0   0   0   0 838   1]\n",
      " [ 25   0   7   3   0   1   0   0 229  15]]\n"
     ]
    },
    {
     "name": "stderr",
     "output_type": "stream",
     "text": [
      "C:\\Users\\ravic\\anaconda3\\lib\\site-packages\\sklearn\\metrics\\_classification.py:1318: UndefinedMetricWarning: Precision and F-score are ill-defined and being set to 0.0 in labels with no predicted samples. Use `zero_division` parameter to control this behavior.\n",
      "  _warn_prf(average, modifier, msg_start, len(result))\n",
      "C:\\Users\\ravic\\anaconda3\\lib\\site-packages\\sklearn\\metrics\\_classification.py:1318: UndefinedMetricWarning: Precision and F-score are ill-defined and being set to 0.0 in labels with no predicted samples. Use `zero_division` parameter to control this behavior.\n",
      "  _warn_prf(average, modifier, msg_start, len(result))\n",
      "C:\\Users\\ravic\\anaconda3\\lib\\site-packages\\sklearn\\metrics\\_classification.py:1318: UndefinedMetricWarning: Precision and F-score are ill-defined and being set to 0.0 in labels with no predicted samples. Use `zero_division` parameter to control this behavior.\n",
      "  _warn_prf(average, modifier, msg_start, len(result))\n"
     ]
    }
   ],
   "source": [
    "class_names = target.unique()\n",
    "print(classification_report(Ltest, y_pred, target_names=class_names))\n",
    "print(confusion_matrix(Ltest, y_pred))"
   ]
  },
  {
   "cell_type": "code",
   "execution_count": 80,
   "id": "195a0b21",
   "metadata": {},
   "outputs": [
    {
     "name": "stdout",
     "output_type": "stream",
     "text": [
      "7549.086179494858\n"
     ]
    }
   ],
   "source": [
    "end_time = time.time()\n",
    "print(end_time - start_time)"
   ]
  }
 ],
 "metadata": {
  "kernelspec": {
   "display_name": "Python 3 (ipykernel)",
   "language": "python",
   "name": "python3"
  },
  "language_info": {
   "codemirror_mode": {
    "name": "ipython",
    "version": 3
   },
   "file_extension": ".py",
   "mimetype": "text/x-python",
   "name": "python",
   "nbconvert_exporter": "python",
   "pygments_lexer": "ipython3",
   "version": "3.9.12"
  }
 },
 "nbformat": 4,
 "nbformat_minor": 5
}
