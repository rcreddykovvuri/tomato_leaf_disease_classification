{
 "cells": [
  {
   "cell_type": "code",
   "execution_count": 1,
   "id": "bcdb1517",
   "metadata": {},
   "outputs": [],
   "source": [
    "import numpy as np #importing numpy\n",
    "import pandas as pd #importing pandas\n",
    "import PIL #importing pillow for image processing\n",
    "from PIL import Image#importing image from pillow library\n",
    "import skimage#importing skimage library\n",
    "import os#importing os library\n",
    "import time#importing time library\n",
    "\n",
    "#Capture start time of the program\n",
    "start_time = time.time()"
   ]
  },
  {
   "cell_type": "code",
   "execution_count": 2,
   "id": "9ec45970",
   "metadata": {},
   "outputs": [],
   "source": [
    "#changing path\n",
    "os.chdir('D://DKIT//dissertation//Dataset_of_Tomato_Leaves//plantvillage//Preprocessed_data//32//vector//')"
   ]
  },
  {
   "cell_type": "code",
   "execution_count": 3,
   "id": "4b677f27",
   "metadata": {},
   "outputs": [],
   "source": [
    "#importing normalizer function and assigning it to norm\n",
    "from sklearn.preprocessing import Normalizer\n",
    "norm = Normalizer()"
   ]
  },
  {
   "cell_type": "markdown",
   "id": "e1e76605",
   "metadata": {},
   "source": [
    "# RGB Data"
   ]
  },
  {
   "cell_type": "code",
   "execution_count": 4,
   "id": "9386938c",
   "metadata": {},
   "outputs": [],
   "source": [
    "#reading numpy array data\n",
    "rgb_test = np.load('rgb_data.npy')\n",
    "#reading csv file\n",
    "rgb_df = pd.read_csv('rgb_data.csv')"
   ]
  },
  {
   "cell_type": "code",
   "execution_count": 5,
   "id": "40f528b5",
   "metadata": {},
   "outputs": [],
   "source": [
    "features = pd.DataFrame(rgb_test)"
   ]
  },
  {
   "cell_type": "code",
   "execution_count": 6,
   "id": "fdd9a1f6",
   "metadata": {},
   "outputs": [],
   "source": [
    "features = features.values"
   ]
  },
  {
   "cell_type": "code",
   "execution_count": 7,
   "id": "c6d5658c",
   "metadata": {},
   "outputs": [],
   "source": [
    "#assigning target\n",
    "target = rgb_df['disease']\n",
    "#splitting the data to 80 percent and 20 percent\n",
    "from sklearn.model_selection import train_test_split\n",
    "Ftrain,Ftest,Ltrain,Ltest=train_test_split(features,target, test_size=0.20, random_state=24)"
   ]
  },
  {
   "cell_type": "code",
   "execution_count": 8,
   "id": "84a30a78",
   "metadata": {},
   "outputs": [],
   "source": [
    "Ftrain = norm.fit_transform(Ftrain)\n",
    "Ftest = norm.fit_transform(Ftest)"
   ]
  },
  {
   "cell_type": "code",
   "execution_count": 9,
   "id": "1fa0433e",
   "metadata": {},
   "outputs": [],
   "source": [
    "#importing classification report and confusion matrix\n",
    "from sklearn.metrics import classification_report, confusion_matrix"
   ]
  },
  {
   "cell_type": "markdown",
   "id": "d466ef5f",
   "metadata": {},
   "source": [
    "# SVM(poly) on RGB data"
   ]
  },
  {
   "cell_type": "code",
   "execution_count": 10,
   "id": "2427ed51",
   "metadata": {},
   "outputs": [
    {
     "name": "stdout",
     "output_type": "stream",
     "text": [
      "0.805297557619539\n"
     ]
    }
   ],
   "source": [
    "from sklearn.svm import SVC\n",
    "from sklearn.metrics import accuracy_score\n",
    "\n",
    "svm_poly = SVC(kernel='poly')\n",
    "svm_poly.fit(Ftrain,Ltrain)\n",
    "y_pred = svm_poly.predict(Ftest)\n",
    "print(accuracy_score(Ltest,y_pred))"
   ]
  },
  {
   "cell_type": "code",
   "execution_count": 11,
   "id": "bf286604",
   "metadata": {},
   "outputs": [
    {
     "name": "stdout",
     "output_type": "stream",
     "text": [
      "                               precision    recall  f1-score   support\n",
      "\n",
      "               bacterial_spot       0.78      0.93      0.85       345\n",
      "                 early_blight       0.47      0.49      0.48       153\n",
      "                      healthy       0.87      0.90      0.88       234\n",
      "                  late_blight       0.74      0.73      0.74       309\n",
      "                    leaf_mold       0.74      0.66      0.70       145\n",
      "           septoria_leaf_spot       0.72      0.65      0.68       293\n",
      "                  target_spot       0.74      0.67      0.70       240\n",
      "          tomato_mosaic_virus       0.80      0.89      0.84        54\n",
      "tomato_yellow_leaf_curl_virus       0.95      0.93      0.94       854\n",
      "      two-spotted_spider_mite       0.78      0.78      0.78       280\n",
      "\n",
      "                     accuracy                           0.81      2907\n",
      "                    macro avg       0.76      0.76      0.76      2907\n",
      "                 weighted avg       0.81      0.81      0.80      2907\n",
      "\n",
      "[[320   8   1   2   0   3   2   0   9   0]\n",
      " [ 19  75   2  21   3   5  12   0   8   8]\n",
      " [  0   4 210   2   4   7   6   0   0   1]\n",
      " [ 13  26   7 227   8  10   2   0   9   7]\n",
      " [  1   4   2  10  96  21   3   2   3   3]\n",
      " [ 19  14  11  18  12 191   6   8   8   6]\n",
      " [  7  17   8   3   0  15 161   1   1  27]\n",
      " [  0   0   0   1   1   2   1  48   0   1]\n",
      " [ 25   5   0  14   2   3   3   0 794   8]\n",
      " [  4   7   1   7   3  10  22   1   6 219]]\n"
     ]
    }
   ],
   "source": [
    "#classification report\n",
    "y_predict = svm_poly.fit(Ftrain, Ltrain).predict(Ftest)\n",
    "class_names = target.unique()\n",
    "print(classification_report(Ltest, y_predict, target_names=class_names))\n",
    "print(confusion_matrix(Ltest, y_predict))"
   ]
  },
  {
   "cell_type": "markdown",
   "id": "4101cb88",
   "metadata": {},
   "source": [
    "# SVM(RBF) on RGB data"
   ]
  },
  {
   "cell_type": "code",
   "execution_count": 12,
   "id": "235aaf3a",
   "metadata": {},
   "outputs": [
    {
     "name": "stdout",
     "output_type": "stream",
     "text": [
      "0.826281389748882\n"
     ]
    }
   ],
   "source": [
    "svm_rbf = SVC(kernel='rbf')\n",
    "svm_rbf.fit(Ftrain,Ltrain)\n",
    "y_pred = svm_rbf.predict(Ftest)\n",
    "print(accuracy_score(Ltest,y_pred))"
   ]
  },
  {
   "cell_type": "code",
   "execution_count": 13,
   "id": "1c7ce3a6",
   "metadata": {},
   "outputs": [
    {
     "name": "stdout",
     "output_type": "stream",
     "text": [
      "                               precision    recall  f1-score   support\n",
      "\n",
      "               bacterial_spot       0.83      0.88      0.86       345\n",
      "                 early_blight       0.64      0.44      0.52       153\n",
      "                      healthy       0.92      0.93      0.92       234\n",
      "                  late_blight       0.79      0.78      0.78       309\n",
      "                    leaf_mold       0.78      0.68      0.73       145\n",
      "           septoria_leaf_spot       0.71      0.68      0.69       293\n",
      "                  target_spot       0.75      0.73      0.74       240\n",
      "          tomato_mosaic_virus       0.78      0.83      0.80        54\n",
      "tomato_yellow_leaf_curl_virus       0.93      0.96      0.94       854\n",
      "      two-spotted_spider_mite       0.76      0.83      0.80       280\n",
      "\n",
      "                     accuracy                           0.83      2907\n",
      "                    macro avg       0.79      0.78      0.78      2907\n",
      "                 weighted avg       0.82      0.83      0.82      2907\n",
      "\n",
      "[[305   3   2   5   0   3   4   0  23   0]\n",
      " [ 18  68   1  26   1  10  12   0   6  11]\n",
      " [  0   2 217   3   1   6   5   0   0   0]\n",
      " [  6  15   4 240  11   7   6   3   8   9]\n",
      " [  0   1   1   7  99  25   3   2   5   2]\n",
      " [ 18   4   9  12  13 199   7   5  15  11]\n",
      " [  6   8   2   0   1  13 175   1   4  30]\n",
      " [  0   0   0   1   1   6   1  45   0   0]\n",
      " [ 12   2   0   5   0   4   0   0 821  10]\n",
      " [  3   4   1   4   0   7  21   2   5 233]]\n"
     ]
    }
   ],
   "source": [
    "#classification report\n",
    "y_predict = svm_rbf.fit(Ftrain, Ltrain).predict(Ftest)\n",
    "class_names = target.unique()\n",
    "print(classification_report(Ltest, y_predict, target_names=class_names))\n",
    "print(confusion_matrix(Ltest, y_predict))"
   ]
  },
  {
   "cell_type": "markdown",
   "id": "670ea3cc",
   "metadata": {},
   "source": [
    "# SVM(sigmoid) on RGB data"
   ]
  },
  {
   "cell_type": "code",
   "execution_count": 14,
   "id": "8aaf1a20",
   "metadata": {},
   "outputs": [
    {
     "name": "stdout",
     "output_type": "stream",
     "text": [
      "0.2937736498108015\n"
     ]
    }
   ],
   "source": [
    "svm_si = SVC(kernel='sigmoid')\n",
    "svm_si.fit(Ftrain,Ltrain)\n",
    "y_pred = svm_si.predict(Ftest)\n",
    "print(accuracy_score(Ltest,y_pred))"
   ]
  },
  {
   "cell_type": "code",
   "execution_count": 15,
   "id": "9beeb8fa",
   "metadata": {},
   "outputs": [
    {
     "name": "stdout",
     "output_type": "stream",
     "text": [
      "                               precision    recall  f1-score   support\n",
      "\n",
      "               bacterial_spot       0.00      0.00      0.00       345\n",
      "                 early_blight       0.00      0.00      0.00       153\n",
      "                      healthy       0.00      0.00      0.00       234\n",
      "                  late_blight       0.00      0.00      0.00       309\n",
      "                    leaf_mold       0.00      0.00      0.00       145\n",
      "           septoria_leaf_spot       0.00      0.00      0.00       293\n",
      "                  target_spot       0.00      0.00      0.00       240\n",
      "          tomato_mosaic_virus       0.00      0.00      0.00        54\n",
      "tomato_yellow_leaf_curl_virus       0.30      1.00      0.46       854\n",
      "      two-spotted_spider_mite       0.00      0.00      0.00       280\n",
      "\n",
      "                     accuracy                           0.29      2907\n",
      "                    macro avg       0.03      0.10      0.05      2907\n",
      "                 weighted avg       0.09      0.29      0.13      2907\n",
      "\n",
      "[[  0   0   0   0   0   0   0   0 345   0]\n",
      " [  0   0   0   0   0   0   0   0 153   0]\n",
      " [  0   0   0   0   0   0   0   0 234   0]\n",
      " [  5   0   6   0   0   2   0   0 296   0]\n",
      " [  0   0   0   0   0   0   0   0 145   0]\n",
      " [  0   0   0   0   0   0   0   0 293   0]\n",
      " [  0   0   0   0   0   0   0   0 240   0]\n",
      " [  0   0   0   0   0   0   0   0  54   0]\n",
      " [  0   0   0   0   0   0   0   0 854   0]\n",
      " [  0   0   0   0   0   0   0   0 280   0]]\n"
     ]
    },
    {
     "name": "stderr",
     "output_type": "stream",
     "text": [
      "C:\\Users\\ravic\\anaconda3\\lib\\site-packages\\sklearn\\metrics\\_classification.py:1318: UndefinedMetricWarning: Precision and F-score are ill-defined and being set to 0.0 in labels with no predicted samples. Use `zero_division` parameter to control this behavior.\n",
      "  _warn_prf(average, modifier, msg_start, len(result))\n",
      "C:\\Users\\ravic\\anaconda3\\lib\\site-packages\\sklearn\\metrics\\_classification.py:1318: UndefinedMetricWarning: Precision and F-score are ill-defined and being set to 0.0 in labels with no predicted samples. Use `zero_division` parameter to control this behavior.\n",
      "  _warn_prf(average, modifier, msg_start, len(result))\n",
      "C:\\Users\\ravic\\anaconda3\\lib\\site-packages\\sklearn\\metrics\\_classification.py:1318: UndefinedMetricWarning: Precision and F-score are ill-defined and being set to 0.0 in labels with no predicted samples. Use `zero_division` parameter to control this behavior.\n",
      "  _warn_prf(average, modifier, msg_start, len(result))\n"
     ]
    }
   ],
   "source": [
    "#classification report\n",
    "y_predict = svm_si.fit(Ftrain, Ltrain).predict(Ftest)\n",
    "class_names = target.unique()\n",
    "print(classification_report(Ltest, y_predict, target_names=class_names))\n",
    "print(confusion_matrix(Ltest, y_predict))"
   ]
  },
  {
   "cell_type": "markdown",
   "id": "f985c500",
   "metadata": {},
   "source": [
    "# Bernouli Naive bayes on RGB data"
   ]
  },
  {
   "cell_type": "code",
   "execution_count": 16,
   "id": "75a3f18f",
   "metadata": {},
   "outputs": [
    {
     "data": {
      "text/plain": [
       "0.35741314069487445"
      ]
     },
     "execution_count": 16,
     "metadata": {},
     "output_type": "execute_result"
    }
   ],
   "source": [
    "from sklearn.naive_bayes import BernoulliNB\n",
    "from sklearn import metrics\n",
    "bnb = BernoulliNB()\n",
    "bnb.fit(Ftrain, Ltrain)\n",
    "y_pred = bnb.predict(Ftest)\n",
    "metrics.accuracy_score(Ltest, y_pred)"
   ]
  },
  {
   "cell_type": "code",
   "execution_count": 17,
   "id": "694c01aa",
   "metadata": {},
   "outputs": [
    {
     "name": "stdout",
     "output_type": "stream",
     "text": [
      "                               precision    recall  f1-score   support\n",
      "\n",
      "               bacterial_spot       0.23      0.93      0.37       345\n",
      "                 early_blight       0.25      0.19      0.22       153\n",
      "                      healthy       0.31      0.15      0.21       234\n",
      "                  late_blight       0.75      0.14      0.23       309\n",
      "                    leaf_mold       0.17      0.09      0.12       145\n",
      "           septoria_leaf_spot       0.27      0.10      0.14       293\n",
      "                  target_spot       0.29      0.07      0.12       240\n",
      "          tomato_mosaic_virus       0.17      0.02      0.03        54\n",
      "tomato_yellow_leaf_curl_virus       0.75      0.57      0.65       854\n",
      "      two-spotted_spider_mite       0.20      0.22      0.21       280\n",
      "\n",
      "                     accuracy                           0.36      2907\n",
      "                    macro avg       0.34      0.25      0.23      2907\n",
      "                 weighted avg       0.45      0.36      0.34      2907\n",
      "\n",
      "[[322   0   2   0   3   3   1   0   5   9]\n",
      " [ 61  29   6   8   8   9   0   0  17  15]\n",
      " [130   9  36   0  11   7  11   1  12  17]\n",
      " [157  43   8  43  11   6   4   1  21  15]\n",
      " [ 85   8   7   2  13  15   0   1   8   6]\n",
      " [153  14  16   4  14  28   9   2  26  27]\n",
      " [141   3  13   0   8  11  18   0  15  31]\n",
      " [ 36   0   3   0   0   4   1   1   4   5]\n",
      " [190   9  16   0   6  14   9   0 488 122]\n",
      " [140   1   9   0   1   6   9   0  53  61]]\n"
     ]
    }
   ],
   "source": [
    "class_names = target.unique()\n",
    "print(classification_report(Ltest, y_pred, target_names=class_names))\n",
    "print(confusion_matrix(Ltest, y_pred))"
   ]
  },
  {
   "cell_type": "markdown",
   "id": "67dd930c",
   "metadata": {},
   "source": [
    "# Multinomial Naive bayes on RGB data"
   ]
  },
  {
   "cell_type": "code",
   "execution_count": 21,
   "id": "3b80acde",
   "metadata": {},
   "outputs": [
    {
     "data": {
      "text/plain": [
       "0.3515651874785002"
      ]
     },
     "execution_count": 21,
     "metadata": {},
     "output_type": "execute_result"
    }
   ],
   "source": [
    "from sklearn.naive_bayes import MultinomialNB\n",
    "mnb = MultinomialNB()\n",
    "mnb.fit(Ftrain,Ltrain)\n",
    "y_pred = mnb.predict(Ftest)\n",
    "metrics.accuracy_score(Ltest, y_pred)"
   ]
  },
  {
   "cell_type": "code",
   "execution_count": 22,
   "id": "d6ed705b",
   "metadata": {},
   "outputs": [
    {
     "name": "stdout",
     "output_type": "stream",
     "text": [
      "                               precision    recall  f1-score   support\n",
      "\n",
      "               bacterial_spot       0.51      0.08      0.14       345\n",
      "                 early_blight       0.00      0.00      0.00       153\n",
      "                      healthy       0.21      0.01      0.02       234\n",
      "                  late_blight       0.54      0.43      0.48       309\n",
      "                    leaf_mold       1.00      0.04      0.08       145\n",
      "           septoria_leaf_spot       0.00      0.00      0.00       293\n",
      "                  target_spot       0.00      0.00      0.00       240\n",
      "          tomato_mosaic_virus       0.00      0.00      0.00        54\n",
      "tomato_yellow_leaf_curl_virus       0.33      1.00      0.50       854\n",
      "      two-spotted_spider_mite       0.00      0.00      0.00       280\n",
      "\n",
      "                     accuracy                           0.35      2907\n",
      "                    macro avg       0.26      0.16      0.12      2907\n",
      "                 weighted avg       0.28      0.35      0.22      2907\n",
      "\n",
      "[[ 28   0   0   6   0   0   0   0 311   0]\n",
      " [  9   0   0   3   0   0   0   0 141   0]\n",
      " [  2   0   3  80   0   0   0   0 149   0]\n",
      " [  1   0   2 132   0   0   0   0 174   0]\n",
      " [  3   0   6   9   6   1   0   0 120   0]\n",
      " [  1   0   0   9   0   0   0   0 283   0]\n",
      " [  9   0   3   0   0   0   0   0 228   0]\n",
      " [  0   0   0   1   0   0   0   0  53   0]\n",
      " [  0   0   0   1   0   0   0   0 853   0]\n",
      " [  2   0   0   3   0   0   0   0 275   0]]\n"
     ]
    },
    {
     "name": "stderr",
     "output_type": "stream",
     "text": [
      "C:\\Users\\ravic\\anaconda3\\lib\\site-packages\\sklearn\\metrics\\_classification.py:1318: UndefinedMetricWarning: Precision and F-score are ill-defined and being set to 0.0 in labels with no predicted samples. Use `zero_division` parameter to control this behavior.\n",
      "  _warn_prf(average, modifier, msg_start, len(result))\n",
      "C:\\Users\\ravic\\anaconda3\\lib\\site-packages\\sklearn\\metrics\\_classification.py:1318: UndefinedMetricWarning: Precision and F-score are ill-defined and being set to 0.0 in labels with no predicted samples. Use `zero_division` parameter to control this behavior.\n",
      "  _warn_prf(average, modifier, msg_start, len(result))\n",
      "C:\\Users\\ravic\\anaconda3\\lib\\site-packages\\sklearn\\metrics\\_classification.py:1318: UndefinedMetricWarning: Precision and F-score are ill-defined and being set to 0.0 in labels with no predicted samples. Use `zero_division` parameter to control this behavior.\n",
      "  _warn_prf(average, modifier, msg_start, len(result))\n"
     ]
    }
   ],
   "source": [
    "class_names = target.unique()\n",
    "print(classification_report(Ltest, y_pred, target_names=class_names))\n",
    "print(confusion_matrix(Ltest, y_pred))"
   ]
  },
  {
   "cell_type": "markdown",
   "id": "0e8f617d",
   "metadata": {},
   "source": [
    "# Grayscale data"
   ]
  },
  {
   "cell_type": "code",
   "execution_count": 23,
   "id": "57a9845e",
   "metadata": {},
   "outputs": [],
   "source": [
    "#reading numpy array data\n",
    "gray_test = np.load('gray_test.npy')\n",
    "#reading csv file\n",
    "gray_df = pd.read_csv('gray_data.csv')"
   ]
  },
  {
   "cell_type": "code",
   "execution_count": 24,
   "id": "d3abef95",
   "metadata": {},
   "outputs": [],
   "source": [
    "#assigning features and target to split the data\n",
    "features = pd.DataFrame(gray_test)\n",
    "features = features.values\n",
    "target = gray_df['disease']"
   ]
  },
  {
   "cell_type": "code",
   "execution_count": 25,
   "id": "a86eb99c",
   "metadata": {},
   "outputs": [],
   "source": [
    "#splitting the data to train and test\n",
    "Ftrain,Ftest,Ltrain,Ltest=train_test_split(features,target, test_size=0.20, random_state=24)"
   ]
  },
  {
   "cell_type": "code",
   "execution_count": 26,
   "id": "8510a95b",
   "metadata": {},
   "outputs": [],
   "source": [
    "#applying normalizer scale on Ftrain and Ftest\n",
    "Ftrain = norm.fit_transform(Ftrain)\n",
    "Ftest = norm.fit_transform(Ftest)"
   ]
  },
  {
   "cell_type": "markdown",
   "id": "8bfc6d84",
   "metadata": {},
   "source": [
    "# SVM(poly) on grayscale data"
   ]
  },
  {
   "cell_type": "code",
   "execution_count": 27,
   "id": "c9665abf",
   "metadata": {},
   "outputs": [
    {
     "name": "stdout",
     "output_type": "stream",
     "text": [
      "0.5923632610939112\n"
     ]
    }
   ],
   "source": [
    "svm_poly.fit(Ftrain,Ltrain)\n",
    "y_pred = svm_poly.predict(Ftest)\n",
    "print(accuracy_score(Ltest,y_pred))"
   ]
  },
  {
   "cell_type": "code",
   "execution_count": 28,
   "id": "2456eda7",
   "metadata": {},
   "outputs": [
    {
     "name": "stdout",
     "output_type": "stream",
     "text": [
      "                               precision    recall  f1-score   support\n",
      "\n",
      "               bacterial_spot       0.64      0.73      0.68       345\n",
      "                 early_blight       0.28      0.33      0.31       153\n",
      "                      healthy       0.64      0.74      0.68       234\n",
      "                  late_blight       0.53      0.58      0.55       309\n",
      "                    leaf_mold       0.48      0.49      0.49       145\n",
      "           septoria_leaf_spot       0.43      0.39      0.41       293\n",
      "                  target_spot       0.47      0.46      0.47       240\n",
      "          tomato_mosaic_virus       0.20      0.17      0.18        54\n",
      "tomato_yellow_leaf_curl_virus       0.78      0.70      0.74       854\n",
      "      two-spotted_spider_mite       0.63      0.58      0.60       280\n",
      "\n",
      "                     accuracy                           0.59      2907\n",
      "                    macro avg       0.51      0.52      0.51      2907\n",
      "                 weighted avg       0.60      0.59      0.59      2907\n",
      "\n",
      "[[252   6   9  12   4  17   4   0  39   2]\n",
      " [ 18  51   2  24   6   5  17   1  20   9]\n",
      " [  3  10 173   7   4  12  10   1   9   5]\n",
      " [ 12  32  10 179   8  27  12   2  17  10]\n",
      " [  3   5   6  13  71  20   8   3  11   5]\n",
      " [ 36   6  25  45  13 114  12   7  25  10]\n",
      " [ 13  25   6   8  10  17 111   2  13  35]\n",
      " [  0   0   1   6   6   9   3   9  14   6]\n",
      " [ 52  28  33  36  21  35  22  13 599  15]\n",
      " [  4  16   7   8   4  12  35   7  24 163]]\n"
     ]
    }
   ],
   "source": [
    "#classification report\n",
    "y_predict = svm_poly.fit(Ftrain, Ltrain).predict(Ftest)\n",
    "class_names = target.unique()\n",
    "print(classification_report(Ltest, y_predict, target_names=class_names))\n",
    "print(confusion_matrix(Ltest, y_predict))"
   ]
  },
  {
   "cell_type": "markdown",
   "id": "bd417df9",
   "metadata": {},
   "source": [
    "# SVM(RBF) on grayscale data"
   ]
  },
  {
   "cell_type": "code",
   "execution_count": 29,
   "id": "67772464",
   "metadata": {},
   "outputs": [
    {
     "name": "stdout",
     "output_type": "stream",
     "text": [
      "0.6787065703474372\n"
     ]
    }
   ],
   "source": [
    "svm_rbf.fit(Ftrain,Ltrain)\n",
    "y_pred = svm_rbf.predict(Ftest)\n",
    "print(accuracy_score(Ltest,y_pred))"
   ]
  },
  {
   "cell_type": "code",
   "execution_count": 30,
   "id": "34bbfd97",
   "metadata": {},
   "outputs": [
    {
     "name": "stdout",
     "output_type": "stream",
     "text": [
      "                               precision    recall  f1-score   support\n",
      "\n",
      "               bacterial_spot       0.77      0.72      0.74       345\n",
      "                 early_blight       0.47      0.25      0.33       153\n",
      "                      healthy       0.73      0.85      0.79       234\n",
      "                  late_blight       0.65      0.64      0.64       309\n",
      "                    leaf_mold       0.66      0.48      0.55       145\n",
      "           septoria_leaf_spot       0.56      0.49      0.52       293\n",
      "                  target_spot       0.61      0.59      0.60       240\n",
      "          tomato_mosaic_virus       0.33      0.02      0.04        54\n",
      "tomato_yellow_leaf_curl_virus       0.71      0.87      0.78       854\n",
      "      two-spotted_spider_mite       0.68      0.69      0.68       280\n",
      "\n",
      "                     accuracy                           0.68      2907\n",
      "                    macro avg       0.62      0.56      0.57      2907\n",
      "                 weighted avg       0.66      0.68      0.66      2907\n",
      "\n",
      "[[247   4   8  13   0  17   4   0  51   1]\n",
      " [  9  38   1  24   3   9  20   0  39  10]\n",
      " [  0   2 199   5   2   7   6   0   9   4]\n",
      " [  2  13   8 197   8  20  10   0  43   8]\n",
      " [  1   1   9  14  69  15   6   0  26   4]\n",
      " [ 19   4  17  29  15 145  14   2  40   8]\n",
      " [ 10   4   6   2   1  11 142   0  27  37]\n",
      " [  0   0   0   1   5  11   1   1  25  10]\n",
      " [ 28   5  18  18   1  23   8   0 743  10]\n",
      " [  3   9   6   0   0   3  23   0  44 192]]\n"
     ]
    }
   ],
   "source": [
    "#classification report\n",
    "y_predict = svm_rbf.fit(Ftrain, Ltrain).predict(Ftest)\n",
    "class_names = target.unique()\n",
    "print(classification_report(Ltest, y_predict, target_names=class_names))\n",
    "print(confusion_matrix(Ltest, y_predict))"
   ]
  },
  {
   "cell_type": "markdown",
   "id": "c1ed23e8",
   "metadata": {},
   "source": [
    "# SVM(sigmoid) on Grayscale data"
   ]
  },
  {
   "cell_type": "code",
   "execution_count": 31,
   "id": "b79e8630",
   "metadata": {},
   "outputs": [
    {
     "name": "stdout",
     "output_type": "stream",
     "text": [
      "0.2937736498108015\n"
     ]
    }
   ],
   "source": [
    "svm_si.fit(Ftrain,Ltrain)\n",
    "y_pred = svm_si.predict(Ftest)\n",
    "print(accuracy_score(Ltest,y_pred))"
   ]
  },
  {
   "cell_type": "code",
   "execution_count": 32,
   "id": "c64cd0a6",
   "metadata": {},
   "outputs": [
    {
     "name": "stdout",
     "output_type": "stream",
     "text": [
      "                               precision    recall  f1-score   support\n",
      "\n",
      "               bacterial_spot       0.00      0.00      0.00       345\n",
      "                 early_blight       0.00      0.00      0.00       153\n",
      "                      healthy       0.00      0.00      0.00       234\n",
      "                  late_blight       0.00      0.00      0.00       309\n",
      "                    leaf_mold       0.00      0.00      0.00       145\n",
      "           septoria_leaf_spot       0.00      0.00      0.00       293\n",
      "                  target_spot       0.00      0.00      0.00       240\n",
      "          tomato_mosaic_virus       0.00      0.00      0.00        54\n",
      "tomato_yellow_leaf_curl_virus       0.29      1.00      0.45       854\n",
      "      two-spotted_spider_mite       0.00      0.00      0.00       280\n",
      "\n",
      "                     accuracy                           0.29      2907\n",
      "                    macro avg       0.03      0.10      0.05      2907\n",
      "                 weighted avg       0.09      0.29      0.13      2907\n",
      "\n",
      "[[  0   0   0   0   0   0   0   0 345   0]\n",
      " [  0   0   0   0   0   0   0   0 153   0]\n",
      " [  0   0   0   0   0   0   0   0 234   0]\n",
      " [  0   0   0   0   0   0   0   0 309   0]\n",
      " [  0   0   0   0   0   0   0   0 145   0]\n",
      " [  0   0   0   0   0   0   0   0 293   0]\n",
      " [  0   0   0   0   0   0   0   0 240   0]\n",
      " [  0   0   0   0   0   0   0   0  54   0]\n",
      " [  0   0   0   0   0   0   0   0 854   0]\n",
      " [  0   0   0   0   0   0   0   0 280   0]]\n"
     ]
    },
    {
     "name": "stderr",
     "output_type": "stream",
     "text": [
      "C:\\Users\\ravic\\anaconda3\\lib\\site-packages\\sklearn\\metrics\\_classification.py:1318: UndefinedMetricWarning: Precision and F-score are ill-defined and being set to 0.0 in labels with no predicted samples. Use `zero_division` parameter to control this behavior.\n",
      "  _warn_prf(average, modifier, msg_start, len(result))\n",
      "C:\\Users\\ravic\\anaconda3\\lib\\site-packages\\sklearn\\metrics\\_classification.py:1318: UndefinedMetricWarning: Precision and F-score are ill-defined and being set to 0.0 in labels with no predicted samples. Use `zero_division` parameter to control this behavior.\n",
      "  _warn_prf(average, modifier, msg_start, len(result))\n",
      "C:\\Users\\ravic\\anaconda3\\lib\\site-packages\\sklearn\\metrics\\_classification.py:1318: UndefinedMetricWarning: Precision and F-score are ill-defined and being set to 0.0 in labels with no predicted samples. Use `zero_division` parameter to control this behavior.\n",
      "  _warn_prf(average, modifier, msg_start, len(result))\n"
     ]
    }
   ],
   "source": [
    "#classification report\n",
    "y_predict = svm_si.fit(Ftrain, Ltrain).predict(Ftest)\n",
    "class_names = target.unique()\n",
    "print(classification_report(Ltest, y_predict, target_names=class_names))\n",
    "print(confusion_matrix(Ltest, y_predict))"
   ]
  },
  {
   "cell_type": "markdown",
   "id": "8ba631c4",
   "metadata": {},
   "source": [
    "# Bernouli Naive bayes on grayscale data"
   ]
  },
  {
   "cell_type": "code",
   "execution_count": 33,
   "id": "f9c1d1df",
   "metadata": {},
   "outputs": [
    {
     "data": {
      "text/plain": [
       "0.3075335397316821"
      ]
     },
     "execution_count": 33,
     "metadata": {},
     "output_type": "execute_result"
    }
   ],
   "source": [
    "bnb.fit(Ftrain, Ltrain)\n",
    "y_pred = bnb.predict(Ftest)\n",
    "metrics.accuracy_score(Ltest, y_pred)"
   ]
  },
  {
   "cell_type": "code",
   "execution_count": 34,
   "id": "5349d0e6",
   "metadata": {},
   "outputs": [
    {
     "name": "stderr",
     "output_type": "stream",
     "text": [
      "C:\\Users\\ravic\\anaconda3\\lib\\site-packages\\sklearn\\metrics\\_classification.py:1318: UndefinedMetricWarning: Precision and F-score are ill-defined and being set to 0.0 in labels with no predicted samples. Use `zero_division` parameter to control this behavior.\n",
      "  _warn_prf(average, modifier, msg_start, len(result))\n"
     ]
    },
    {
     "name": "stdout",
     "output_type": "stream",
     "text": [
      "                               precision    recall  f1-score   support\n",
      "\n",
      "               bacterial_spot       0.00      0.00      0.00       345\n",
      "                 early_blight       0.33      0.01      0.01       153\n",
      "                      healthy       0.67      0.01      0.02       234\n",
      "                  late_blight       0.94      0.11      0.20       309\n",
      "                    leaf_mold       0.50      0.01      0.01       145\n",
      "           septoria_leaf_spot       0.40      0.01      0.01       293\n",
      "                  target_spot       0.00      0.00      0.00       240\n",
      "          tomato_mosaic_virus       0.00      0.00      0.00        54\n",
      "tomato_yellow_leaf_curl_virus       0.30      1.00      0.46       854\n",
      "      two-spotted_spider_mite       0.00      0.00      0.00       280\n",
      "\n",
      "                     accuracy                           0.31      2907\n",
      "                    macro avg       0.31      0.11      0.07      2907\n",
      "                 weighted avg       0.32      0.31      0.16      2907\n",
      "\n",
      "[[  0   0   0   0   0   0   0   0 345   0]\n",
      " [  0   1   1   0   0   0   1   0 150   0]\n",
      " [  0   1   2   1   0   1   0   0 229   0]\n",
      " [  0   1   0  34   0   2   0   0 272   0]\n",
      " [  0   0   0   0   1   0   0   0 143   1]\n",
      " [  0   0   0   1   0   2   0   0 289   1]\n",
      " [  0   0   0   0   1   0   0   0 239   0]\n",
      " [  0   0   0   0   0   0   0   0  54   0]\n",
      " [  0   0   0   0   0   0   0   0 854   0]\n",
      " [  0   0   0   0   0   0   0   0 280   0]]\n"
     ]
    },
    {
     "name": "stderr",
     "output_type": "stream",
     "text": [
      "C:\\Users\\ravic\\anaconda3\\lib\\site-packages\\sklearn\\metrics\\_classification.py:1318: UndefinedMetricWarning: Precision and F-score are ill-defined and being set to 0.0 in labels with no predicted samples. Use `zero_division` parameter to control this behavior.\n",
      "  _warn_prf(average, modifier, msg_start, len(result))\n",
      "C:\\Users\\ravic\\anaconda3\\lib\\site-packages\\sklearn\\metrics\\_classification.py:1318: UndefinedMetricWarning: Precision and F-score are ill-defined and being set to 0.0 in labels with no predicted samples. Use `zero_division` parameter to control this behavior.\n",
      "  _warn_prf(average, modifier, msg_start, len(result))\n"
     ]
    }
   ],
   "source": [
    "class_names = target.unique()\n",
    "print(classification_report(Ltest, y_pred, target_names=class_names))\n",
    "print(confusion_matrix(Ltest, y_pred))"
   ]
  },
  {
   "cell_type": "markdown",
   "id": "20b31faf",
   "metadata": {},
   "source": [
    "# Multinomial Naive bayes on Grayscale data"
   ]
  },
  {
   "cell_type": "code",
   "execution_count": 35,
   "id": "5bf3d424",
   "metadata": {},
   "outputs": [
    {
     "data": {
      "text/plain": [
       "0.30478156174750604"
      ]
     },
     "execution_count": 35,
     "metadata": {},
     "output_type": "execute_result"
    }
   ],
   "source": [
    "mnb.fit(Ftrain, Ltrain)\n",
    "y_pred = mnb.predict(Ftest)\n",
    "metrics.accuracy_score(Ltest, y_pred)"
   ]
  },
  {
   "cell_type": "code",
   "execution_count": 36,
   "id": "6ed85664",
   "metadata": {},
   "outputs": [
    {
     "name": "stderr",
     "output_type": "stream",
     "text": [
      "C:\\Users\\ravic\\anaconda3\\lib\\site-packages\\sklearn\\metrics\\_classification.py:1318: UndefinedMetricWarning: Precision and F-score are ill-defined and being set to 0.0 in labels with no predicted samples. Use `zero_division` parameter to control this behavior.\n",
      "  _warn_prf(average, modifier, msg_start, len(result))\n",
      "C:\\Users\\ravic\\anaconda3\\lib\\site-packages\\sklearn\\metrics\\_classification.py:1318: UndefinedMetricWarning: Precision and F-score are ill-defined and being set to 0.0 in labels with no predicted samples. Use `zero_division` parameter to control this behavior.\n",
      "  _warn_prf(average, modifier, msg_start, len(result))\n"
     ]
    },
    {
     "name": "stdout",
     "output_type": "stream",
     "text": [
      "                               precision    recall  f1-score   support\n",
      "\n",
      "               bacterial_spot       0.00      0.00      0.00       345\n",
      "                 early_blight       0.00      0.00      0.00       153\n",
      "                      healthy       0.00      0.00      0.00       234\n",
      "                  late_blight       1.00      0.10      0.19       309\n",
      "                    leaf_mold       0.00      0.00      0.00       145\n",
      "           septoria_leaf_spot       0.00      0.00      0.00       293\n",
      "                  target_spot       0.00      0.00      0.00       240\n",
      "          tomato_mosaic_virus       0.00      0.00      0.00        54\n",
      "tomato_yellow_leaf_curl_virus       0.30      1.00      0.46       854\n",
      "      two-spotted_spider_mite       0.00      0.00      0.00       280\n",
      "\n",
      "                     accuracy                           0.30      2907\n",
      "                    macro avg       0.13      0.11      0.06      2907\n",
      "                 weighted avg       0.19      0.30      0.15      2907\n",
      "\n",
      "[[  0   0   0   0   0   0   0   0 345   0]\n",
      " [  0   0   0   0   0   0   0   0 153   0]\n",
      " [  0   0   0   0   0   0   0   0 234   0]\n",
      " [  0   0   1  32   0   0   0   0 276   0]\n",
      " [  0   0   0   0   0   0   0   0 145   0]\n",
      " [  0   0   0   0   0   0   0   0 293   0]\n",
      " [  0   0   0   0   0   0   0   0 240   0]\n",
      " [  0   0   0   0   0   0   0   0  54   0]\n",
      " [  0   0   0   0   0   0   0   0 854   0]\n",
      " [  0   0   0   0   0   0   0   0 280   0]]\n"
     ]
    },
    {
     "name": "stderr",
     "output_type": "stream",
     "text": [
      "C:\\Users\\ravic\\anaconda3\\lib\\site-packages\\sklearn\\metrics\\_classification.py:1318: UndefinedMetricWarning: Precision and F-score are ill-defined and being set to 0.0 in labels with no predicted samples. Use `zero_division` parameter to control this behavior.\n",
      "  _warn_prf(average, modifier, msg_start, len(result))\n"
     ]
    }
   ],
   "source": [
    "class_names = target.unique()\n",
    "print(classification_report(Ltest, y_pred, target_names=class_names))\n",
    "print(confusion_matrix(Ltest, y_pred))"
   ]
  },
  {
   "cell_type": "markdown",
   "id": "6f5719a1",
   "metadata": {},
   "source": [
    "# Red Channel data"
   ]
  },
  {
   "cell_type": "code",
   "execution_count": 37,
   "id": "5f8b0e11",
   "metadata": {},
   "outputs": [],
   "source": [
    "#reading numpy array data\n",
    "red_test = np.load('red_data.npy')\n",
    "#reading csv file\n",
    "red_df = pd.read_csv('red_data.csv')\n",
    "#assigning features and target to split the data\n",
    "features = pd.DataFrame(red_test)\n",
    "features = features.values\n",
    "target = red_df['disease']\n",
    "#splitting the data to train and test\n",
    "Ftrain,Ftest,Ltrain,Ltest=train_test_split(features,target, test_size=0.20, random_state=24)"
   ]
  },
  {
   "cell_type": "code",
   "execution_count": 38,
   "id": "20f194d0",
   "metadata": {},
   "outputs": [],
   "source": [
    "#applying normalizer scale on Ftrain and Ftest\n",
    "Ftrain = norm.fit_transform(Ftrain)\n",
    "Ftest = norm.fit_transform(Ftest)"
   ]
  },
  {
   "cell_type": "markdown",
   "id": "c81dd4d2",
   "metadata": {},
   "source": [
    "# SVM(poly) on Red data"
   ]
  },
  {
   "cell_type": "code",
   "execution_count": 39,
   "id": "a9cb2e28",
   "metadata": {},
   "outputs": [
    {
     "name": "stdout",
     "output_type": "stream",
     "text": [
      "0.5927072583419333\n"
     ]
    }
   ],
   "source": [
    "svm_poly.fit(Ftrain,Ltrain)\n",
    "y_pred = svm_poly.predict(Ftest)\n",
    "print(accuracy_score(Ltest,y_pred))"
   ]
  },
  {
   "cell_type": "code",
   "execution_count": 40,
   "id": "35b2ceaf",
   "metadata": {},
   "outputs": [
    {
     "name": "stdout",
     "output_type": "stream",
     "text": [
      "                               precision    recall  f1-score   support\n",
      "\n",
      "               bacterial_spot       0.65      0.75      0.70       345\n",
      "                 early_blight       0.26      0.30      0.28       153\n",
      "                      healthy       0.67      0.76      0.71       234\n",
      "                  late_blight       0.52      0.57      0.54       309\n",
      "                    leaf_mold       0.47      0.43      0.45       145\n",
      "           septoria_leaf_spot       0.43      0.41      0.42       293\n",
      "                  target_spot       0.48      0.46      0.47       240\n",
      "          tomato_mosaic_virus       0.22      0.17      0.19        54\n",
      "tomato_yellow_leaf_curl_virus       0.76      0.71      0.73       854\n",
      "      two-spotted_spider_mite       0.63      0.57      0.60       280\n",
      "\n",
      "                     accuracy                           0.59      2907\n",
      "                    macro avg       0.51      0.51      0.51      2907\n",
      "                 weighted avg       0.59      0.59      0.59      2907\n",
      "\n",
      "[[259   8   8  13   3  14   4   0  36   0]\n",
      " [ 18  46   5  19   5  11  18   2  21   8]\n",
      " [  2   5 178   9   7  12   6   1   8   6]\n",
      " [ 13  33  10 175   8  31   6   2  23   8]\n",
      " [  2   7   7  22  62  17   7   3  15   3]\n",
      " [ 27  12  19  44  14 121  13   7  26  10]\n",
      " [ 15  26   7   7   7  20 110   3  16  29]\n",
      " [  0   0   0   4   4   7   1   9  16  13]\n",
      " [ 55  28  26  35  19  39  24   8 603  17]\n",
      " [  5  13   7   6   3  12  39   6  29 160]]\n"
     ]
    }
   ],
   "source": [
    "#classification report\n",
    "y_predict = svm_poly.fit(Ftrain, Ltrain).predict(Ftest)\n",
    "class_names = target.unique()\n",
    "print(classification_report(Ltest, y_predict, target_names=class_names))\n",
    "print(confusion_matrix(Ltest, y_predict))"
   ]
  },
  {
   "cell_type": "markdown",
   "id": "bcdfb873",
   "metadata": {},
   "source": [
    "# SVM(RBF) on Red data"
   ]
  },
  {
   "cell_type": "code",
   "execution_count": 41,
   "id": "5e806290",
   "metadata": {},
   "outputs": [
    {
     "name": "stdout",
     "output_type": "stream",
     "text": [
      "0.6683866529067768\n"
     ]
    }
   ],
   "source": [
    "svm_rbf.fit(Ftrain,Ltrain)\n",
    "y_pred = svm_rbf.predict(Ftest)\n",
    "print(accuracy_score(Ltest,y_pred))"
   ]
  },
  {
   "cell_type": "code",
   "execution_count": 42,
   "id": "e613add4",
   "metadata": {},
   "outputs": [
    {
     "name": "stdout",
     "output_type": "stream",
     "text": [
      "                               precision    recall  f1-score   support\n",
      "\n",
      "               bacterial_spot       0.78      0.72      0.75       345\n",
      "                 early_blight       0.53      0.25      0.34       153\n",
      "                      healthy       0.66      0.84      0.74       234\n",
      "                  late_blight       0.63      0.62      0.63       309\n",
      "                    leaf_mold       0.71      0.47      0.56       145\n",
      "           septoria_leaf_spot       0.55      0.44      0.49       293\n",
      "                  target_spot       0.62      0.57      0.60       240\n",
      "          tomato_mosaic_virus       0.50      0.06      0.10        54\n",
      "tomato_yellow_leaf_curl_virus       0.70      0.86      0.77       854\n",
      "      two-spotted_spider_mite       0.64      0.68      0.66       280\n",
      "\n",
      "                     accuracy                           0.67      2907\n",
      "                    macro avg       0.63      0.55      0.56      2907\n",
      "                 weighted avg       0.66      0.67      0.65      2907\n",
      "\n",
      "[[250   4   8  14   0  18   3   0  46   2]\n",
      " [ 11  38   3  19   0  12  21   0  37  12]\n",
      " [  0   1 196   4   1  10   4   0  15   3]\n",
      " [  5  10  15 193   9  21  10   0  41   5]\n",
      " [  0   3  10  15  68  15   4   0  26   4]\n",
      " [ 17   5  23  35  13 130  12   1  43  14]\n",
      " [ 11   3   3   3   1   6 138   2  30  43]\n",
      " [  0   0   0   1   3   1   0   3  35  11]\n",
      " [ 23   4  29  19   1  19   8   0 737  14]\n",
      " [  5   4  11   1   0   3  22   0  44 190]]\n"
     ]
    }
   ],
   "source": [
    "#classification report\n",
    "y_predict = svm_rbf.fit(Ftrain, Ltrain).predict(Ftest)\n",
    "class_names = target.unique()\n",
    "print(classification_report(Ltest, y_predict, target_names=class_names))\n",
    "print(confusion_matrix(Ltest, y_predict))"
   ]
  },
  {
   "cell_type": "markdown",
   "id": "558a44ca",
   "metadata": {},
   "source": [
    "# SVM(sigmoid) on Red data"
   ]
  },
  {
   "cell_type": "code",
   "execution_count": 43,
   "id": "dfde7ca8",
   "metadata": {},
   "outputs": [
    {
     "name": "stdout",
     "output_type": "stream",
     "text": [
      "0.29652562779497765\n"
     ]
    }
   ],
   "source": [
    "svm_si.fit(Ftrain,Ltrain)\n",
    "y_pred = svm_si.predict(Ftest)\n",
    "print(accuracy_score(Ltest,y_pred))"
   ]
  },
  {
   "cell_type": "code",
   "execution_count": 44,
   "id": "b58142f8",
   "metadata": {},
   "outputs": [
    {
     "name": "stdout",
     "output_type": "stream",
     "text": [
      "                               precision    recall  f1-score   support\n",
      "\n",
      "               bacterial_spot       0.00      0.00      0.00       345\n",
      "                 early_blight       0.00      0.00      0.00       153\n",
      "                      healthy       0.00      0.00      0.00       234\n",
      "                  late_blight       1.00      0.03      0.05       309\n",
      "                    leaf_mold       0.00      0.00      0.00       145\n",
      "           septoria_leaf_spot       0.00      0.00      0.00       293\n",
      "                  target_spot       0.00      0.00      0.00       240\n",
      "          tomato_mosaic_virus       0.00      0.00      0.00        54\n",
      "tomato_yellow_leaf_curl_virus       0.30      1.00      0.46       854\n",
      "      two-spotted_spider_mite       0.00      0.00      0.00       280\n",
      "\n",
      "                     accuracy                           0.30      2907\n",
      "                    macro avg       0.13      0.10      0.05      2907\n",
      "                 weighted avg       0.19      0.30      0.14      2907\n",
      "\n",
      "[[  0   0   0   0   0   0   0   0 345   0]\n",
      " [  0   0   0   0   0   0   0   0 153   0]\n",
      " [  0   0   0   0   0   0   0   0 234   0]\n",
      " [  4   0   7   8   0   0   0   0 290   0]\n",
      " [  0   0   0   0   0   0   0   0 145   0]\n",
      " [  0   0   0   0   0   0   0   0 293   0]\n",
      " [  0   0   0   0   0   0   0   0 240   0]\n",
      " [  0   0   0   0   0   0   0   0  54   0]\n",
      " [  0   0   0   0   0   0   0   0 854   0]\n",
      " [  0   0   0   0   0   0   0   0 280   0]]\n"
     ]
    },
    {
     "name": "stderr",
     "output_type": "stream",
     "text": [
      "C:\\Users\\ravic\\anaconda3\\lib\\site-packages\\sklearn\\metrics\\_classification.py:1318: UndefinedMetricWarning: Precision and F-score are ill-defined and being set to 0.0 in labels with no predicted samples. Use `zero_division` parameter to control this behavior.\n",
      "  _warn_prf(average, modifier, msg_start, len(result))\n",
      "C:\\Users\\ravic\\anaconda3\\lib\\site-packages\\sklearn\\metrics\\_classification.py:1318: UndefinedMetricWarning: Precision and F-score are ill-defined and being set to 0.0 in labels with no predicted samples. Use `zero_division` parameter to control this behavior.\n",
      "  _warn_prf(average, modifier, msg_start, len(result))\n",
      "C:\\Users\\ravic\\anaconda3\\lib\\site-packages\\sklearn\\metrics\\_classification.py:1318: UndefinedMetricWarning: Precision and F-score are ill-defined and being set to 0.0 in labels with no predicted samples. Use `zero_division` parameter to control this behavior.\n",
      "  _warn_prf(average, modifier, msg_start, len(result))\n"
     ]
    }
   ],
   "source": [
    "#classification report\n",
    "y_predict = svm_si.fit(Ftrain, Ltrain).predict(Ftest)\n",
    "class_names = target.unique()\n",
    "print(classification_report(Ltest, y_predict, target_names=class_names))\n",
    "print(confusion_matrix(Ltest, y_predict))"
   ]
  },
  {
   "cell_type": "markdown",
   "id": "5a175c93",
   "metadata": {},
   "source": [
    "# Bernouli Naive bayes on Red data"
   ]
  },
  {
   "cell_type": "code",
   "execution_count": 45,
   "id": "d65fa897",
   "metadata": {},
   "outputs": [
    {
     "data": {
      "text/plain": [
       "0.3106295149638803"
      ]
     },
     "execution_count": 45,
     "metadata": {},
     "output_type": "execute_result"
    }
   ],
   "source": [
    "bnb.fit(Ftrain, Ltrain)\n",
    "y_pred = bnb.predict(Ftest)\n",
    "metrics.accuracy_score(Ltest, y_pred)"
   ]
  },
  {
   "cell_type": "code",
   "execution_count": 46,
   "id": "bdadbf8a",
   "metadata": {},
   "outputs": [
    {
     "name": "stdout",
     "output_type": "stream",
     "text": [
      "                               precision    recall  f1-score   support\n",
      "\n",
      "               bacterial_spot       0.00      0.00      0.00       345\n",
      "                 early_blight       0.18      0.04      0.06       153\n",
      "                      healthy       0.19      0.03      0.05       234\n",
      "                  late_blight       0.71      0.12      0.20       309\n",
      "                    leaf_mold       0.05      0.01      0.02       145\n",
      "           septoria_leaf_spot       0.25      0.07      0.11       293\n",
      "                  target_spot       0.18      0.03      0.04       240\n",
      "          tomato_mosaic_virus       0.05      0.02      0.03        54\n",
      "tomato_yellow_leaf_curl_virus       0.32      0.96      0.48       854\n",
      "      two-spotted_spider_mite       0.20      0.01      0.01       280\n",
      "\n",
      "                     accuracy                           0.31      2907\n",
      "                    macro avg       0.21      0.13      0.10      2907\n",
      "                 weighted avg       0.26      0.31      0.19      2907\n",
      "\n",
      "[[  0   0   0   0   0   0   0   0 345   0]\n",
      " [  1   6   7   5   6  11   6   3 108   0]\n",
      " [  1   3   7   1   5   3   3   5 206   0]\n",
      " [  1   2   5  36   7  14   2   4 238   0]\n",
      " [  0   4   2   1   2  16   2   2 116   0]\n",
      " [  1   8   5   7  11  20   2   2 233   4]\n",
      " [  0   3   6   1   6   8   6   2 206   2]\n",
      " [  0   1   1   0   0   2   0   1  49   0]\n",
      " [  0   6   2   0   4   6   9   2 823   2]\n",
      " [  0   0   1   0   0   0   3   1 273   2]]\n"
     ]
    }
   ],
   "source": [
    "class_names = target.unique()\n",
    "print(classification_report(Ltest, y_pred, target_names=class_names))\n",
    "print(confusion_matrix(Ltest, y_pred))"
   ]
  },
  {
   "cell_type": "markdown",
   "id": "39255a27",
   "metadata": {},
   "source": [
    "# Multinomial Naive bayes on Red data"
   ]
  },
  {
   "cell_type": "code",
   "execution_count": 47,
   "id": "437843bc",
   "metadata": {},
   "outputs": [
    {
     "data": {
      "text/plain": [
       "0.30718954248366015"
      ]
     },
     "execution_count": 47,
     "metadata": {},
     "output_type": "execute_result"
    }
   ],
   "source": [
    "mnb.fit(Ftrain, Ltrain)\n",
    "y_pred = mnb.predict(Ftest)\n",
    "metrics.accuracy_score(Ltest, y_pred)"
   ]
  },
  {
   "cell_type": "code",
   "execution_count": 48,
   "id": "2bcb0431",
   "metadata": {},
   "outputs": [
    {
     "name": "stdout",
     "output_type": "stream",
     "text": [
      "                               precision    recall  f1-score   support\n",
      "\n",
      "               bacterial_spot       0.00      0.00      0.00       345\n",
      "                 early_blight       0.00      0.00      0.00       153\n",
      "                      healthy       0.00      0.00      0.00       234\n",
      "                  late_blight       0.71      0.13      0.22       309\n",
      "                    leaf_mold       0.00      0.00      0.00       145\n",
      "           septoria_leaf_spot       0.00      0.00      0.00       293\n",
      "                  target_spot       0.00      0.00      0.00       240\n",
      "          tomato_mosaic_virus       0.00      0.00      0.00        54\n",
      "tomato_yellow_leaf_curl_virus       0.30      1.00      0.46       854\n",
      "      two-spotted_spider_mite       0.00      0.00      0.00       280\n",
      "\n",
      "                     accuracy                           0.31      2907\n",
      "                    macro avg       0.10      0.11      0.07      2907\n",
      "                 weighted avg       0.16      0.31      0.16      2907\n",
      "\n",
      "[[  0   0   0   6   0   0   0   0 339   0]\n",
      " [  0   0   0   0   0   0   0   0 153   0]\n",
      " [  0   0   0   0   0   0   0   0 234   0]\n",
      " [  0   0   0  40   0   0   0   0 269   0]\n",
      " [  0   0   0   0   0   0   0   0 145   0]\n",
      " [  0   0   0   9   0   0   0   0 284   0]\n",
      " [  0   0   0   0   0   0   0   0 240   0]\n",
      " [  0   0   0   0   0   0   0   0  54   0]\n",
      " [  0   0   0   1   0   0   0   0 853   0]\n",
      " [  0   0   0   0   0   0   0   0 280   0]]\n"
     ]
    },
    {
     "name": "stderr",
     "output_type": "stream",
     "text": [
      "C:\\Users\\ravic\\anaconda3\\lib\\site-packages\\sklearn\\metrics\\_classification.py:1318: UndefinedMetricWarning: Precision and F-score are ill-defined and being set to 0.0 in labels with no predicted samples. Use `zero_division` parameter to control this behavior.\n",
      "  _warn_prf(average, modifier, msg_start, len(result))\n",
      "C:\\Users\\ravic\\anaconda3\\lib\\site-packages\\sklearn\\metrics\\_classification.py:1318: UndefinedMetricWarning: Precision and F-score are ill-defined and being set to 0.0 in labels with no predicted samples. Use `zero_division` parameter to control this behavior.\n",
      "  _warn_prf(average, modifier, msg_start, len(result))\n",
      "C:\\Users\\ravic\\anaconda3\\lib\\site-packages\\sklearn\\metrics\\_classification.py:1318: UndefinedMetricWarning: Precision and F-score are ill-defined and being set to 0.0 in labels with no predicted samples. Use `zero_division` parameter to control this behavior.\n",
      "  _warn_prf(average, modifier, msg_start, len(result))\n"
     ]
    }
   ],
   "source": [
    "class_names = target.unique()\n",
    "print(classification_report(Ltest, y_pred, target_names=class_names))\n",
    "print(confusion_matrix(Ltest, y_pred))"
   ]
  },
  {
   "cell_type": "markdown",
   "id": "11e4cd00",
   "metadata": {},
   "source": [
    "# Green channel data"
   ]
  },
  {
   "cell_type": "code",
   "execution_count": 49,
   "id": "40feb467",
   "metadata": {},
   "outputs": [],
   "source": [
    "#reading numpy array data\n",
    "green_test = np.load('green_data.npy')\n",
    "#reading csv file\n",
    "green_df = pd.read_csv('green_data.csv')\n",
    "#assigning features and target to split the data\n",
    "features = pd.DataFrame(green_test)\n",
    "features = features.values\n",
    "target = green_df['disease']\n",
    "#splitting the data to train and test\n",
    "Ftrain,Ftest,Ltrain,Ltest=train_test_split(features,target, test_size=0.20, random_state=24)"
   ]
  },
  {
   "cell_type": "code",
   "execution_count": 50,
   "id": "f51b311e",
   "metadata": {},
   "outputs": [],
   "source": [
    "#applying normalizer scale on Ftrain and Ftest\n",
    "Ftrain = norm.fit_transform(Ftrain)\n",
    "Ftest = norm.fit_transform(Ftest)"
   ]
  },
  {
   "cell_type": "markdown",
   "id": "9aa0bc22",
   "metadata": {},
   "source": [
    "# SVM(poly) on green data"
   ]
  },
  {
   "cell_type": "code",
   "execution_count": 51,
   "id": "fe39c65e",
   "metadata": {},
   "outputs": [
    {
     "name": "stdout",
     "output_type": "stream",
     "text": [
      "0.5906432748538012\n"
     ]
    }
   ],
   "source": [
    "svm_poly.fit(Ftrain,Ltrain)\n",
    "y_pred = svm_poly.predict(Ftest)\n",
    "print(accuracy_score(Ltest,y_pred))"
   ]
  },
  {
   "cell_type": "code",
   "execution_count": 52,
   "id": "8423b846",
   "metadata": {},
   "outputs": [
    {
     "name": "stdout",
     "output_type": "stream",
     "text": [
      "                               precision    recall  f1-score   support\n",
      "\n",
      "               bacterial_spot       0.66      0.71      0.68       345\n",
      "                 early_blight       0.26      0.31      0.29       153\n",
      "                      healthy       0.64      0.71      0.67       234\n",
      "                  late_blight       0.54      0.60      0.56       309\n",
      "                    leaf_mold       0.46      0.48      0.47       145\n",
      "           septoria_leaf_spot       0.41      0.35      0.38       293\n",
      "                  target_spot       0.45      0.45      0.45       240\n",
      "          tomato_mosaic_virus       0.23      0.19      0.21        54\n",
      "tomato_yellow_leaf_curl_virus       0.77      0.73      0.75       854\n",
      "      two-spotted_spider_mite       0.62      0.57      0.60       280\n",
      "\n",
      "                     accuracy                           0.59      2907\n",
      "                    macro avg       0.50      0.51      0.51      2907\n",
      "                 weighted avg       0.59      0.59      0.59      2907\n",
      "\n",
      "[[246   9   7  14   7  14   4   0  39   5]\n",
      " [ 15  48   0  20   5   9  18   0  27  11]\n",
      " [  3   6 165   9   5  15  16   2   8   5]\n",
      " [ 13  32   6 184  11  22  11   0  21   9]\n",
      " [  5   5   8  13  70  17   8   3  12   4]\n",
      " [ 31  10  23  47  19 103  13  11  26  10]\n",
      " [ 11  22  16   5   8  15 108   5  14  36]\n",
      " [  2   1   3   6   5  13   1  10   8   5]\n",
      " [ 44  29  25  37  18  30  25   9 622  15]\n",
      " [  4  20   6   8   4  12  34   3  28 161]]\n"
     ]
    }
   ],
   "source": [
    "#classification report\n",
    "y_predict = svm_poly.fit(Ftrain, Ltrain).predict(Ftest)\n",
    "class_names = target.unique()\n",
    "print(classification_report(Ltest, y_predict, target_names=class_names))\n",
    "print(confusion_matrix(Ltest, y_predict))"
   ]
  },
  {
   "cell_type": "markdown",
   "id": "6112d4e4",
   "metadata": {},
   "source": [
    "# SVM(RBF) on green data"
   ]
  },
  {
   "cell_type": "code",
   "execution_count": 53,
   "id": "69be936f",
   "metadata": {},
   "outputs": [
    {
     "name": "stdout",
     "output_type": "stream",
     "text": [
      "0.6835225318197454\n"
     ]
    }
   ],
   "source": [
    "svm_rbf.fit(Ftrain,Ltrain)\n",
    "y_pred = svm_rbf.predict(Ftest)\n",
    "print(accuracy_score(Ltest,y_pred))"
   ]
  },
  {
   "cell_type": "code",
   "execution_count": 54,
   "id": "81b4c571",
   "metadata": {},
   "outputs": [
    {
     "name": "stdout",
     "output_type": "stream",
     "text": [
      "                               precision    recall  f1-score   support\n",
      "\n",
      "               bacterial_spot       0.77      0.71      0.74       345\n",
      "                 early_blight       0.55      0.31      0.40       153\n",
      "                      healthy       0.73      0.82      0.77       234\n",
      "                  late_blight       0.68      0.66      0.67       309\n",
      "                    leaf_mold       0.61      0.48      0.53       145\n",
      "           septoria_leaf_spot       0.54      0.50      0.52       293\n",
      "                  target_spot       0.64      0.60      0.62       240\n",
      "          tomato_mosaic_virus       0.50      0.09      0.16        54\n",
      "tomato_yellow_leaf_curl_virus       0.72      0.87      0.79       854\n",
      "      two-spotted_spider_mite       0.66      0.69      0.67       280\n",
      "\n",
      "                     accuracy                           0.68      2907\n",
      "                    macro avg       0.64      0.57      0.59      2907\n",
      "                 weighted avg       0.67      0.68      0.67      2907\n",
      "\n",
      "[[245   3   9  10   3  14   5   0  54   2]\n",
      " [ 10  48   1  26   3   8  14   0  31  12]\n",
      " [  0   2 192   6   2   9   8   2   9   4]\n",
      " [  3  11   5 203   9  21  12   0  38   7]\n",
      " [  3   1   8  12  69  17   6   2  20   7]\n",
      " [ 16   3  17  20  18 147  11   0  54   7]\n",
      " [ 11   3   7   3   3   6 144   0  26  37]\n",
      " [  0   0   1   0   5  19   0   5  15   9]\n",
      " [ 28   7  16  18   1  24   3   0 742  15]\n",
      " [  2   9   6   1   1   6  22   1  40 192]]\n"
     ]
    }
   ],
   "source": [
    "#classification report\n",
    "y_predict = svm_rbf.fit(Ftrain, Ltrain).predict(Ftest)\n",
    "class_names = target.unique()\n",
    "print(classification_report(Ltest, y_predict, target_names=class_names))\n",
    "print(confusion_matrix(Ltest, y_predict))"
   ]
  },
  {
   "cell_type": "markdown",
   "id": "662d1937",
   "metadata": {},
   "source": [
    "# SVM(sigmoid) on green data"
   ]
  },
  {
   "cell_type": "code",
   "execution_count": 55,
   "id": "7f6adcca",
   "metadata": {},
   "outputs": [
    {
     "name": "stdout",
     "output_type": "stream",
     "text": [
      "0.2937736498108015\n"
     ]
    }
   ],
   "source": [
    "svm_si.fit(Ftrain,Ltrain)\n",
    "y_pred = svm_si.predict(Ftest)\n",
    "print(accuracy_score(Ltest,y_pred))"
   ]
  },
  {
   "cell_type": "code",
   "execution_count": 56,
   "id": "251d68f3",
   "metadata": {},
   "outputs": [
    {
     "name": "stdout",
     "output_type": "stream",
     "text": [
      "                               precision    recall  f1-score   support\n",
      "\n",
      "               bacterial_spot       0.00      0.00      0.00       345\n",
      "                 early_blight       0.00      0.00      0.00       153\n",
      "                      healthy       0.00      0.00      0.00       234\n",
      "                  late_blight       0.00      0.00      0.00       309\n",
      "                    leaf_mold       0.00      0.00      0.00       145\n",
      "           septoria_leaf_spot       0.00      0.00      0.00       293\n",
      "                  target_spot       0.00      0.00      0.00       240\n",
      "          tomato_mosaic_virus       0.00      0.00      0.00        54\n",
      "tomato_yellow_leaf_curl_virus       0.29      1.00      0.45       854\n",
      "      two-spotted_spider_mite       0.00      0.00      0.00       280\n",
      "\n",
      "                     accuracy                           0.29      2907\n",
      "                    macro avg       0.03      0.10      0.05      2907\n",
      "                 weighted avg       0.09      0.29      0.13      2907\n",
      "\n",
      "[[  0   0   0   0   0   0   0   0 345   0]\n",
      " [  0   0   0   0   0   0   0   0 153   0]\n",
      " [  0   0   0   0   0   0   0   0 234   0]\n",
      " [  0   0   0   0   0   0   0   0 309   0]\n",
      " [  0   0   0   0   0   0   0   0 145   0]\n",
      " [  0   0   0   0   0   0   0   0 293   0]\n",
      " [  0   0   0   0   0   0   0   0 240   0]\n",
      " [  0   0   0   0   0   0   0   0  54   0]\n",
      " [  0   0   0   0   0   0   0   0 854   0]\n",
      " [  0   0   0   0   0   0   0   0 280   0]]\n"
     ]
    },
    {
     "name": "stderr",
     "output_type": "stream",
     "text": [
      "C:\\Users\\ravic\\anaconda3\\lib\\site-packages\\sklearn\\metrics\\_classification.py:1318: UndefinedMetricWarning: Precision and F-score are ill-defined and being set to 0.0 in labels with no predicted samples. Use `zero_division` parameter to control this behavior.\n",
      "  _warn_prf(average, modifier, msg_start, len(result))\n",
      "C:\\Users\\ravic\\anaconda3\\lib\\site-packages\\sklearn\\metrics\\_classification.py:1318: UndefinedMetricWarning: Precision and F-score are ill-defined and being set to 0.0 in labels with no predicted samples. Use `zero_division` parameter to control this behavior.\n",
      "  _warn_prf(average, modifier, msg_start, len(result))\n",
      "C:\\Users\\ravic\\anaconda3\\lib\\site-packages\\sklearn\\metrics\\_classification.py:1318: UndefinedMetricWarning: Precision and F-score are ill-defined and being set to 0.0 in labels with no predicted samples. Use `zero_division` parameter to control this behavior.\n",
      "  _warn_prf(average, modifier, msg_start, len(result))\n"
     ]
    }
   ],
   "source": [
    "#classification report\n",
    "y_predict = svm_si.fit(Ftrain, Ltrain).predict(Ftest)\n",
    "class_names = target.unique()\n",
    "print(classification_report(Ltest, y_predict, target_names=class_names))\n",
    "print(confusion_matrix(Ltest, y_predict))"
   ]
  },
  {
   "cell_type": "markdown",
   "id": "8aa412dd",
   "metadata": {},
   "source": [
    "# Bernouli Naive bayes on green data"
   ]
  },
  {
   "cell_type": "code",
   "execution_count": 57,
   "id": "b6622b8d",
   "metadata": {},
   "outputs": [
    {
     "data": {
      "text/plain": [
       "0.31613347093223254"
      ]
     },
     "execution_count": 57,
     "metadata": {},
     "output_type": "execute_result"
    }
   ],
   "source": [
    "bnb.fit(Ftrain, Ltrain)\n",
    "y_pred = bnb.predict(Ftest)\n",
    "metrics.accuracy_score(Ltest, y_pred)"
   ]
  },
  {
   "cell_type": "code",
   "execution_count": 58,
   "id": "f3c6b16f",
   "metadata": {},
   "outputs": [
    {
     "name": "stdout",
     "output_type": "stream",
     "text": [
      "                               precision    recall  f1-score   support\n",
      "\n",
      "               bacterial_spot       0.00      0.00      0.00       345\n",
      "                 early_blight       0.27      0.08      0.12       153\n",
      "                      healthy       0.28      0.04      0.07       234\n",
      "                  late_blight       0.84      0.12      0.21       309\n",
      "                    leaf_mold       0.13      0.02      0.04       145\n",
      "           septoria_leaf_spot       0.18      0.03      0.05       293\n",
      "                  target_spot       0.00      0.00      0.00       240\n",
      "          tomato_mosaic_virus       0.00      0.00      0.00        54\n",
      "tomato_yellow_leaf_curl_virus       0.32      1.00      0.48       854\n",
      "      two-spotted_spider_mite       0.00      0.00      0.00       280\n",
      "\n",
      "                     accuracy                           0.32      2907\n",
      "                    macro avg       0.20      0.13      0.10      2907\n",
      "                 weighted avg       0.24      0.32      0.18      2907\n",
      "\n",
      "[[  0   0   0   0   0   0   0   0 345   0]\n",
      " [  0  12   4   6   1   9   1   5 114   1]\n",
      " [  0   9   9   0   2   8   1   0 205   0]\n",
      " [  0  10   8  37  10  11   2  12 219   0]\n",
      " [  0   4   1   1   3   3   0   2 129   2]\n",
      " [  0   8   3   0   6   8   1   2 262   3]\n",
      " [  0   2   2   0   1   1   0   0 234   0]\n",
      " [  0   0   2   0   0   3   0   0  48   1]\n",
      " [  0   0   2   0   0   2   0   0 850   0]\n",
      " [  0   0   1   0   0   0   0   0 279   0]]\n"
     ]
    },
    {
     "name": "stderr",
     "output_type": "stream",
     "text": [
      "C:\\Users\\ravic\\anaconda3\\lib\\site-packages\\sklearn\\metrics\\_classification.py:1318: UndefinedMetricWarning: Precision and F-score are ill-defined and being set to 0.0 in labels with no predicted samples. Use `zero_division` parameter to control this behavior.\n",
      "  _warn_prf(average, modifier, msg_start, len(result))\n",
      "C:\\Users\\ravic\\anaconda3\\lib\\site-packages\\sklearn\\metrics\\_classification.py:1318: UndefinedMetricWarning: Precision and F-score are ill-defined and being set to 0.0 in labels with no predicted samples. Use `zero_division` parameter to control this behavior.\n",
      "  _warn_prf(average, modifier, msg_start, len(result))\n",
      "C:\\Users\\ravic\\anaconda3\\lib\\site-packages\\sklearn\\metrics\\_classification.py:1318: UndefinedMetricWarning: Precision and F-score are ill-defined and being set to 0.0 in labels with no predicted samples. Use `zero_division` parameter to control this behavior.\n",
      "  _warn_prf(average, modifier, msg_start, len(result))\n"
     ]
    }
   ],
   "source": [
    "class_names = target.unique()\n",
    "print(classification_report(Ltest, y_pred, target_names=class_names))\n",
    "print(confusion_matrix(Ltest, y_pred))"
   ]
  },
  {
   "cell_type": "markdown",
   "id": "d144692e",
   "metadata": {},
   "source": [
    "# Multinomial Naive bayes on Green data"
   ]
  },
  {
   "cell_type": "code",
   "execution_count": 59,
   "id": "a7a34c33",
   "metadata": {},
   "outputs": [
    {
     "data": {
      "text/plain": [
       "0.30030959752321984"
      ]
     },
     "execution_count": 59,
     "metadata": {},
     "output_type": "execute_result"
    }
   ],
   "source": [
    "mnb.fit(Ftrain, Ltrain)\n",
    "y_pred = mnb.predict(Ftest)\n",
    "metrics.accuracy_score(Ltest, y_pred)"
   ]
  },
  {
   "cell_type": "code",
   "execution_count": 60,
   "id": "441ea45d",
   "metadata": {},
   "outputs": [
    {
     "name": "stderr",
     "output_type": "stream",
     "text": [
      "C:\\Users\\ravic\\anaconda3\\lib\\site-packages\\sklearn\\metrics\\_classification.py:1318: UndefinedMetricWarning: Precision and F-score are ill-defined and being set to 0.0 in labels with no predicted samples. Use `zero_division` parameter to control this behavior.\n",
      "  _warn_prf(average, modifier, msg_start, len(result))\n"
     ]
    },
    {
     "name": "stdout",
     "output_type": "stream",
     "text": [
      "                               precision    recall  f1-score   support\n",
      "\n",
      "               bacterial_spot       0.00      0.00      0.00       345\n",
      "                 early_blight       0.00      0.00      0.00       153\n",
      "                      healthy       0.00      0.00      0.00       234\n",
      "                  late_blight       1.00      0.06      0.12       309\n",
      "                    leaf_mold       0.00      0.00      0.00       145\n",
      "           septoria_leaf_spot       0.00      0.00      0.00       293\n",
      "                  target_spot       0.00      0.00      0.00       240\n",
      "          tomato_mosaic_virus       0.00      0.00      0.00        54\n",
      "tomato_yellow_leaf_curl_virus       0.30      1.00      0.46       854\n",
      "      two-spotted_spider_mite       0.00      0.00      0.00       280\n",
      "\n",
      "                     accuracy                           0.30      2907\n",
      "                    macro avg       0.13      0.11      0.06      2907\n",
      "                 weighted avg       0.19      0.30      0.15      2907\n",
      "\n",
      "[[  0   0   0   0   0   0   0   0 345   0]\n",
      " [  0   0   0   0   0   0   0   0 153   0]\n",
      " [  0   0   0   0   0   0   0   0 234   0]\n",
      " [  0   0   8  19   0   0   0   0 282   0]\n",
      " [  0   0   0   0   0   0   0   0 145   0]\n",
      " [  0   0   0   0   0   0   0   0 293   0]\n",
      " [  0   0   0   0   0   0   0   0 240   0]\n",
      " [  0   0   0   0   0   0   0   0  54   0]\n",
      " [  0   0   0   0   0   0   0   0 854   0]\n",
      " [  0   0   0   0   0   0   0   0 280   0]]\n"
     ]
    },
    {
     "name": "stderr",
     "output_type": "stream",
     "text": [
      "C:\\Users\\ravic\\anaconda3\\lib\\site-packages\\sklearn\\metrics\\_classification.py:1318: UndefinedMetricWarning: Precision and F-score are ill-defined and being set to 0.0 in labels with no predicted samples. Use `zero_division` parameter to control this behavior.\n",
      "  _warn_prf(average, modifier, msg_start, len(result))\n",
      "C:\\Users\\ravic\\anaconda3\\lib\\site-packages\\sklearn\\metrics\\_classification.py:1318: UndefinedMetricWarning: Precision and F-score are ill-defined and being set to 0.0 in labels with no predicted samples. Use `zero_division` parameter to control this behavior.\n",
      "  _warn_prf(average, modifier, msg_start, len(result))\n"
     ]
    }
   ],
   "source": [
    "class_names = target.unique()\n",
    "print(classification_report(Ltest, y_pred, target_names=class_names))\n",
    "print(confusion_matrix(Ltest, y_pred))"
   ]
  },
  {
   "cell_type": "markdown",
   "id": "a6a80ecb",
   "metadata": {},
   "source": [
    "# Blue channel data"
   ]
  },
  {
   "cell_type": "code",
   "execution_count": 61,
   "id": "06094596",
   "metadata": {},
   "outputs": [],
   "source": [
    "#reading numpy array data\n",
    "blue_test = np.load('blue_data.npy')\n",
    "#reading csv file\n",
    "blue_df = pd.read_csv('blue_data.csv')\n",
    "#assigning features and target to split the data\n",
    "features = pd.DataFrame(blue_test)\n",
    "features = features.values\n",
    "target = blue_df['disease']\n",
    "#splitting the data to train and test\n",
    "Ftrain,Ftest,Ltrain,Ltest=train_test_split(features,target, test_size=0.20, random_state=24)"
   ]
  },
  {
   "cell_type": "code",
   "execution_count": 62,
   "id": "b6b2ea4c",
   "metadata": {},
   "outputs": [],
   "source": [
    "#applying normalizer scale on Ftrain and Ftest\n",
    "Ftrain = norm.fit_transform(Ftrain)\n",
    "Ftest = norm.fit_transform(Ftest)"
   ]
  },
  {
   "cell_type": "markdown",
   "id": "4d40997b",
   "metadata": {},
   "source": [
    "# SVM(poly) on blue data"
   ]
  },
  {
   "cell_type": "code",
   "execution_count": 63,
   "id": "39b88095",
   "metadata": {},
   "outputs": [
    {
     "name": "stdout",
     "output_type": "stream",
     "text": [
      "0.6308909528723771\n"
     ]
    }
   ],
   "source": [
    "svm_poly.fit(Ftrain,Ltrain)\n",
    "y_pred = svm_poly.predict(Ftest)\n",
    "print(accuracy_score(Ltest,y_pred))"
   ]
  },
  {
   "cell_type": "code",
   "execution_count": 64,
   "id": "dc98d740",
   "metadata": {},
   "outputs": [
    {
     "name": "stdout",
     "output_type": "stream",
     "text": [
      "                               precision    recall  f1-score   support\n",
      "\n",
      "               bacterial_spot       0.64      0.74      0.68       345\n",
      "                 early_blight       0.24      0.29      0.26       153\n",
      "                      healthy       0.79      0.76      0.77       234\n",
      "                  late_blight       0.61      0.64      0.62       309\n",
      "                    leaf_mold       0.49      0.49      0.49       145\n",
      "           septoria_leaf_spot       0.42      0.41      0.42       293\n",
      "                  target_spot       0.49      0.42      0.45       240\n",
      "          tomato_mosaic_virus       0.47      0.28      0.35        54\n",
      "tomato_yellow_leaf_curl_virus       0.81      0.80      0.81       854\n",
      "      two-spotted_spider_mite       0.63      0.61      0.62       280\n",
      "\n",
      "                     accuracy                           0.63      2907\n",
      "                    macro avg       0.56      0.54      0.55      2907\n",
      "                 weighted avg       0.63      0.63      0.63      2907\n",
      "\n",
      "[[254   9   8   5   4  19   9   1  32   4]\n",
      " [ 19  44   2  24   3  15  15   0  24   7]\n",
      " [  1  12 177   4   4   5  23   0   1   7]\n",
      " [  8  23  11 197  12  15  11   1  24   7]\n",
      " [  5  11   1  13  71  24   3   3   6   8]\n",
      " [ 40   7   5  38  16 121   9   7  32  18]\n",
      " [ 27  30  14   4   8  20 102   0  13  22]\n",
      " [  1   1   0   3   6  16   2  15   6   4]\n",
      " [ 36  29   1  25  13  37   8   1 682  22]\n",
      " [  6  15   4  10   8  16  28   4  18 171]]\n"
     ]
    }
   ],
   "source": [
    "#classification report\n",
    "y_predict = svm_poly.fit(Ftrain, Ltrain).predict(Ftest)\n",
    "class_names = target.unique()\n",
    "print(classification_report(Ltest, y_predict, target_names=class_names))\n",
    "print(confusion_matrix(Ltest, y_predict))"
   ]
  },
  {
   "cell_type": "markdown",
   "id": "5226f4f2",
   "metadata": {},
   "source": [
    "# SVM(RBF) on blue data"
   ]
  },
  {
   "cell_type": "code",
   "execution_count": 65,
   "id": "183a5680",
   "metadata": {},
   "outputs": [
    {
     "name": "stdout",
     "output_type": "stream",
     "text": [
      "0.6852425180598555\n"
     ]
    }
   ],
   "source": [
    "svm_rbf.fit(Ftrain,Ltrain)\n",
    "y_pred = svm_rbf.predict(Ftest)\n",
    "print(accuracy_score(Ltest,y_pred))"
   ]
  },
  {
   "cell_type": "code",
   "execution_count": 66,
   "id": "22270861",
   "metadata": {},
   "outputs": [
    {
     "name": "stdout",
     "output_type": "stream",
     "text": [
      "                               precision    recall  f1-score   support\n",
      "\n",
      "               bacterial_spot       0.68      0.79      0.73       345\n",
      "                 early_blight       0.44      0.18      0.26       153\n",
      "                      healthy       0.83      0.83      0.83       234\n",
      "                  late_blight       0.69      0.68      0.68       309\n",
      "                    leaf_mold       0.67      0.48      0.56       145\n",
      "           septoria_leaf_spot       0.46      0.40      0.42       293\n",
      "                  target_spot       0.59      0.55      0.57       240\n",
      "          tomato_mosaic_virus       0.53      0.19      0.27        54\n",
      "tomato_yellow_leaf_curl_virus       0.77      0.90      0.83       854\n",
      "      two-spotted_spider_mite       0.64      0.68      0.66       280\n",
      "\n",
      "                     accuracy                           0.69      2907\n",
      "                    macro avg       0.63      0.57      0.58      2907\n",
      "                 weighted avg       0.67      0.69      0.67      2907\n",
      "\n",
      "[[271   1  10   4   0  10   6   0  34   9]\n",
      " [ 14  28   2  26   0  13  16   1  47   6]\n",
      " [  3   0 195   6   0   6  19   0   1   4]\n",
      " [  6  12   9 209  12  14   8   3  27   9]\n",
      " [  8   2   1  13  70  26   3   0  11  11]\n",
      " [ 41   6   3  24  16 116  12   2  56  17]\n",
      " [ 22   5  13   5   1  13 132   1  17  31]\n",
      " [  1   0   0   2   5  20   0  10   8   8]\n",
      " [ 28   3   2  11   1  21   4   0 772  12]\n",
      " [  5   6   1   3   0  14  25   2  35 189]]\n"
     ]
    }
   ],
   "source": [
    "#classification report\n",
    "y_predict = svm_rbf.fit(Ftrain, Ltrain).predict(Ftest)\n",
    "class_names = target.unique()\n",
    "print(classification_report(Ltest, y_predict, target_names=class_names))\n",
    "print(confusion_matrix(Ltest, y_predict))"
   ]
  },
  {
   "cell_type": "markdown",
   "id": "09f47e7e",
   "metadata": {},
   "source": [
    "# SVM(sigmoid) on blue data"
   ]
  },
  {
   "cell_type": "code",
   "execution_count": 67,
   "id": "4401c844",
   "metadata": {},
   "outputs": [
    {
     "name": "stdout",
     "output_type": "stream",
     "text": [
      "0.2937736498108015\n"
     ]
    }
   ],
   "source": [
    "svm_si.fit(Ftrain,Ltrain)\n",
    "y_pred = svm_si.predict(Ftest)\n",
    "print(accuracy_score(Ltest,y_pred))"
   ]
  },
  {
   "cell_type": "code",
   "execution_count": 68,
   "id": "4372e59f",
   "metadata": {},
   "outputs": [
    {
     "name": "stdout",
     "output_type": "stream",
     "text": [
      "                               precision    recall  f1-score   support\n",
      "\n",
      "               bacterial_spot       0.00      0.00      0.00       345\n",
      "                 early_blight       0.00      0.00      0.00       153\n",
      "                      healthy       0.00      0.00      0.00       234\n",
      "                  late_blight       0.00      0.00      0.00       309\n",
      "                    leaf_mold       0.00      0.00      0.00       145\n",
      "           septoria_leaf_spot       0.00      0.00      0.00       293\n",
      "                  target_spot       0.00      0.00      0.00       240\n",
      "          tomato_mosaic_virus       0.00      0.00      0.00        54\n",
      "tomato_yellow_leaf_curl_virus       0.30      1.00      0.46       854\n",
      "      two-spotted_spider_mite       0.00      0.00      0.00       280\n",
      "\n",
      "                     accuracy                           0.29      2907\n",
      "                    macro avg       0.03      0.10      0.05      2907\n",
      "                 weighted avg       0.09      0.29      0.13      2907\n",
      "\n",
      "[[  0   0   0   0   0   0   0   0 345   0]\n",
      " [  0   0   0   0   0   0   0   0 153   0]\n",
      " [  0   0   0   0   0   0   0   0 234   0]\n",
      " [  2   0  31   0   0   0   0   0 276   0]\n",
      " [  0   0   0   0   0   0   0   0 145   0]\n",
      " [  0   0   0   0   0   0   0   0 293   0]\n",
      " [  0   0   0   0   0   0   0   0 240   0]\n",
      " [  0   0   0   0   0   0   0   0  54   0]\n",
      " [  0   0   0   0   0   0   0   0 854   0]\n",
      " [  0   0   0   0   0   0   0   0 280   0]]\n"
     ]
    },
    {
     "name": "stderr",
     "output_type": "stream",
     "text": [
      "C:\\Users\\ravic\\anaconda3\\lib\\site-packages\\sklearn\\metrics\\_classification.py:1318: UndefinedMetricWarning: Precision and F-score are ill-defined and being set to 0.0 in labels with no predicted samples. Use `zero_division` parameter to control this behavior.\n",
      "  _warn_prf(average, modifier, msg_start, len(result))\n",
      "C:\\Users\\ravic\\anaconda3\\lib\\site-packages\\sklearn\\metrics\\_classification.py:1318: UndefinedMetricWarning: Precision and F-score are ill-defined and being set to 0.0 in labels with no predicted samples. Use `zero_division` parameter to control this behavior.\n",
      "  _warn_prf(average, modifier, msg_start, len(result))\n",
      "C:\\Users\\ravic\\anaconda3\\lib\\site-packages\\sklearn\\metrics\\_classification.py:1318: UndefinedMetricWarning: Precision and F-score are ill-defined and being set to 0.0 in labels with no predicted samples. Use `zero_division` parameter to control this behavior.\n",
      "  _warn_prf(average, modifier, msg_start, len(result))\n"
     ]
    }
   ],
   "source": [
    "#classification report\n",
    "y_predict = svm_si.fit(Ftrain, Ltrain).predict(Ftest)\n",
    "class_names = target.unique()\n",
    "print(classification_report(Ltest, y_predict, target_names=class_names))\n",
    "print(confusion_matrix(Ltest, y_predict))"
   ]
  },
  {
   "cell_type": "markdown",
   "id": "7401f4ab",
   "metadata": {},
   "source": [
    "# Bernouli Naive bayes on blue data"
   ]
  },
  {
   "cell_type": "code",
   "execution_count": 69,
   "id": "a8ddf84b",
   "metadata": {},
   "outputs": [
    {
     "data": {
      "text/plain": [
       "0.34812521499828003"
      ]
     },
     "execution_count": 69,
     "metadata": {},
     "output_type": "execute_result"
    }
   ],
   "source": [
    "bnb.fit(Ftrain, Ltrain)\n",
    "y_pred = bnb.predict(Ftest)\n",
    "metrics.accuracy_score(Ltest, y_pred)"
   ]
  },
  {
   "cell_type": "code",
   "execution_count": 70,
   "id": "944621bd",
   "metadata": {},
   "outputs": [
    {
     "name": "stdout",
     "output_type": "stream",
     "text": [
      "                               precision    recall  f1-score   support\n",
      "\n",
      "               bacterial_spot       0.24      0.92      0.38       345\n",
      "                 early_blight       0.12      0.05      0.07       153\n",
      "                      healthy       0.22      0.15      0.18       234\n",
      "                  late_blight       0.56      0.24      0.34       309\n",
      "                    leaf_mold       0.16      0.12      0.14       145\n",
      "           septoria_leaf_spot       0.26      0.11      0.15       293\n",
      "                  target_spot       0.22      0.09      0.13       240\n",
      "          tomato_mosaic_virus       0.05      0.02      0.03        54\n",
      "tomato_yellow_leaf_curl_virus       0.74      0.53      0.62       854\n",
      "      two-spotted_spider_mite       0.22      0.20      0.21       280\n",
      "\n",
      "                     accuracy                           0.35      2907\n",
      "                    macro avg       0.28      0.24      0.22      2907\n",
      "                 weighted avg       0.40      0.35      0.33      2907\n",
      "\n",
      "[[316   0   8   1   5   3   5   0   1   6]\n",
      " [ 60   8   6  28   7   8   2   0  23  11]\n",
      " [125   8  34   1  22  13   5   2  14  10]\n",
      " [151  18   9  74   8   6   9   2  25   7]\n",
      " [ 82   3   6   6  17   9   4   3  13   2]\n",
      " [145  13  19   7  13  31   9   7  26  23]\n",
      " [127   2  22   0  11  13  21   0  16  28]\n",
      " [ 37   0   4   0   0   3   0   1   4   5]\n",
      " [170  11  22  15  13  22  26   6 453 116]\n",
      " [127   3  22   0   9  12  13   0  37  57]]\n"
     ]
    }
   ],
   "source": [
    "class_names = target.unique()\n",
    "print(classification_report(Ltest, y_pred, target_names=class_names))\n",
    "print(confusion_matrix(Ltest, y_pred))"
   ]
  },
  {
   "cell_type": "markdown",
   "id": "cbf0037b",
   "metadata": {},
   "source": [
    "# Multinomial Naive bayes on blue data"
   ]
  },
  {
   "cell_type": "code",
   "execution_count": 71,
   "id": "050a9f46",
   "metadata": {},
   "outputs": [
    {
     "data": {
      "text/plain": [
       "0.33436532507739936"
      ]
     },
     "execution_count": 71,
     "metadata": {},
     "output_type": "execute_result"
    }
   ],
   "source": [
    "mnb.fit(Ftrain, Ltrain)\n",
    "y_pred = mnb.predict(Ftest)\n",
    "metrics.accuracy_score(Ltest, y_pred)"
   ]
  },
  {
   "cell_type": "code",
   "execution_count": 72,
   "id": "9a916b04",
   "metadata": {},
   "outputs": [
    {
     "name": "stdout",
     "output_type": "stream",
     "text": [
      "                               precision    recall  f1-score   support\n",
      "\n",
      "               bacterial_spot       0.22      0.01      0.01       345\n",
      "                 early_blight       0.00      0.00      0.00       153\n",
      "                      healthy       0.15      0.01      0.02       234\n",
      "                  late_blight       0.53      0.38      0.44       309\n",
      "                    leaf_mold       0.00      0.00      0.00       145\n",
      "           septoria_leaf_spot       0.00      0.00      0.00       293\n",
      "                  target_spot       0.00      0.00      0.00       240\n",
      "          tomato_mosaic_virus       0.00      0.00      0.00        54\n",
      "tomato_yellow_leaf_curl_virus       0.32      1.00      0.48       854\n",
      "      two-spotted_spider_mite       0.00      0.00      0.00       280\n",
      "\n",
      "                     accuracy                           0.33      2907\n",
      "                    macro avg       0.12      0.14      0.10      2907\n",
      "                 weighted avg       0.19      0.33      0.19      2907\n",
      "\n",
      "[[  2   0   0   5   0   0   0   0 338   0]\n",
      " [  2   0   0   3   0   0   0   0 148   0]\n",
      " [  2   0   2  82   0   0   0   0 148   0]\n",
      " [  1   0   9 116   0   0   0   0 183   0]\n",
      " [  0   0   0   3   0   0   0   0 142   0]\n",
      " [  0   0   0   3   0   0   0   0 290   0]\n",
      " [  2   0   1   1   0   0   0   0 236   0]\n",
      " [  0   0   0   1   0   0   0   0  53   0]\n",
      " [  0   0   0   2   0   0   0   0 852   0]\n",
      " [  0   0   1   2   0   0   0   0 277   0]]\n"
     ]
    },
    {
     "name": "stderr",
     "output_type": "stream",
     "text": [
      "C:\\Users\\ravic\\anaconda3\\lib\\site-packages\\sklearn\\metrics\\_classification.py:1318: UndefinedMetricWarning: Precision and F-score are ill-defined and being set to 0.0 in labels with no predicted samples. Use `zero_division` parameter to control this behavior.\n",
      "  _warn_prf(average, modifier, msg_start, len(result))\n",
      "C:\\Users\\ravic\\anaconda3\\lib\\site-packages\\sklearn\\metrics\\_classification.py:1318: UndefinedMetricWarning: Precision and F-score are ill-defined and being set to 0.0 in labels with no predicted samples. Use `zero_division` parameter to control this behavior.\n",
      "  _warn_prf(average, modifier, msg_start, len(result))\n",
      "C:\\Users\\ravic\\anaconda3\\lib\\site-packages\\sklearn\\metrics\\_classification.py:1318: UndefinedMetricWarning: Precision and F-score are ill-defined and being set to 0.0 in labels with no predicted samples. Use `zero_division` parameter to control this behavior.\n",
      "  _warn_prf(average, modifier, msg_start, len(result))\n"
     ]
    }
   ],
   "source": [
    "class_names = target.unique()\n",
    "print(classification_report(Ltest, y_pred, target_names=class_names))\n",
    "print(confusion_matrix(Ltest, y_pred))"
   ]
  },
  {
   "cell_type": "code",
   "execution_count": 73,
   "id": "195a0b21",
   "metadata": {},
   "outputs": [
    {
     "name": "stdout",
     "output_type": "stream",
     "text": [
      "4141.985025167465\n"
     ]
    }
   ],
   "source": [
    "end_time = time.time()\n",
    "print(end_time - start_time)"
   ]
  }
 ],
 "metadata": {
  "kernelspec": {
   "display_name": "Python 3 (ipykernel)",
   "language": "python",
   "name": "python3"
  },
  "language_info": {
   "codemirror_mode": {
    "name": "ipython",
    "version": 3
   },
   "file_extension": ".py",
   "mimetype": "text/x-python",
   "name": "python",
   "nbconvert_exporter": "python",
   "pygments_lexer": "ipython3",
   "version": "3.9.12"
  }
 },
 "nbformat": 4,
 "nbformat_minor": 5
}
