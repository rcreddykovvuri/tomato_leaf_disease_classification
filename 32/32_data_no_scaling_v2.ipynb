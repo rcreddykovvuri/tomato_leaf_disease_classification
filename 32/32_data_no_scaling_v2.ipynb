{
 "cells": [
  {
   "cell_type": "code",
   "execution_count": 1,
   "id": "bcdb1517",
   "metadata": {},
   "outputs": [],
   "source": [
    "import numpy as np #importing numpy\n",
    "import pandas as pd #importing pandas\n",
    "import PIL #importing pillow for image processing\n",
    "from PIL import Image#importing image from pillow library\n",
    "import skimage#importing skimage library\n",
    "import os#importing os library\n",
    "import time#importing time library\n",
    "\n",
    "#Capture start time of the program\n",
    "start_time = time.time()"
   ]
  },
  {
   "cell_type": "code",
   "execution_count": 2,
   "id": "9ec45970",
   "metadata": {},
   "outputs": [],
   "source": [
    "#changing path\n",
    "os.chdir('D://DKIT//dissertation//Dataset_of_Tomato_Leaves//plantvillage//Preprocessed_data//32//vector//')"
   ]
  },
  {
   "cell_type": "markdown",
   "id": "e1e76605",
   "metadata": {},
   "source": [
    "# RGB Data"
   ]
  },
  {
   "cell_type": "code",
   "execution_count": 3,
   "id": "9386938c",
   "metadata": {},
   "outputs": [],
   "source": [
    "#reading numpy array data\n",
    "rgb_test = np.load('rgb_data.npy')\n",
    "#reading csv file\n",
    "rgb_df = pd.read_csv('rgb_data.csv')"
   ]
  },
  {
   "cell_type": "code",
   "execution_count": 4,
   "id": "40f528b5",
   "metadata": {},
   "outputs": [],
   "source": [
    "features = pd.DataFrame(rgb_test)"
   ]
  },
  {
   "cell_type": "code",
   "execution_count": 5,
   "id": "fdd9a1f6",
   "metadata": {},
   "outputs": [],
   "source": [
    "features = features.values"
   ]
  },
  {
   "cell_type": "code",
   "execution_count": 6,
   "id": "c6d5658c",
   "metadata": {},
   "outputs": [],
   "source": [
    "#assigning target\n",
    "target = rgb_df['disease']\n",
    "#splitting the data to 80 percent and 20 percent\n",
    "from sklearn.model_selection import train_test_split\n",
    "Ftrain,Ftest,Ltrain,Ltest=train_test_split(features,target, test_size=0.20, random_state=24)"
   ]
  },
  {
   "cell_type": "code",
   "execution_count": 7,
   "id": "1fa0433e",
   "metadata": {},
   "outputs": [],
   "source": [
    "#importing classification report and confusion matrix\n",
    "from sklearn.metrics import classification_report, confusion_matrix"
   ]
  },
  {
   "cell_type": "markdown",
   "id": "d466ef5f",
   "metadata": {},
   "source": [
    "# SVM(poly) on RGB data"
   ]
  },
  {
   "cell_type": "code",
   "execution_count": 8,
   "id": "2427ed51",
   "metadata": {},
   "outputs": [
    {
     "name": "stdout",
     "output_type": "stream",
     "text": [
      "0.7984176126590987\n"
     ]
    }
   ],
   "source": [
    "from sklearn.svm import SVC\n",
    "from sklearn.metrics import accuracy_score\n",
    "\n",
    "svm_poly = SVC(kernel='poly')\n",
    "svm_poly.fit(Ftrain,Ltrain)\n",
    "y_pred = svm_poly.predict(Ftest)\n",
    "print(accuracy_score(Ltest,y_pred))"
   ]
  },
  {
   "cell_type": "code",
   "execution_count": 9,
   "id": "bf286604",
   "metadata": {},
   "outputs": [
    {
     "name": "stdout",
     "output_type": "stream",
     "text": [
      "                               precision    recall  f1-score   support\n",
      "\n",
      "               bacterial_spot       0.74      0.93      0.82       345\n",
      "                 early_blight       0.45      0.42      0.44       153\n",
      "                      healthy       0.88      0.85      0.87       234\n",
      "                  late_blight       0.74      0.72      0.73       309\n",
      "                    leaf_mold       0.71      0.70      0.70       145\n",
      "           septoria_leaf_spot       0.74      0.71      0.73       293\n",
      "                  target_spot       0.72      0.66      0.69       240\n",
      "          tomato_mosaic_virus       0.78      0.87      0.82        54\n",
      "tomato_yellow_leaf_curl_virus       0.96      0.92      0.94       854\n",
      "      two-spotted_spider_mite       0.77      0.77      0.77       280\n",
      "\n",
      "                     accuracy                           0.80      2907\n",
      "                    macro avg       0.75      0.75      0.75      2907\n",
      "                 weighted avg       0.80      0.80      0.80      2907\n",
      "\n",
      "[[322   8   1   8   0   2   1   0   3   0]\n",
      " [ 29  64   2  22   1   4  13   0   7  11]\n",
      " [  6   4 199   6   3   5   9   0   0   2]\n",
      " [ 22  25   6 221  11  10   4   0   7   3]\n",
      " [  4   4   2   8 101  20   2   1   1   2]\n",
      " [  9  10   8  12  16 208   9   8   8   5]\n",
      " [  9  16   4   3   2  14 159   1   1  31]\n",
      " [  0   0   0   1   1   4   0  47   0   1]\n",
      " [ 30   4   0  13   2   7   2   0 785  11]\n",
      " [  5   6   4   6   6   6  22   3   7 215]]\n"
     ]
    }
   ],
   "source": [
    "#classification report\n",
    "y_predict = svm_poly.fit(Ftrain, Ltrain).predict(Ftest)\n",
    "class_names = target.unique()\n",
    "print(classification_report(Ltest, y_predict, target_names=class_names))\n",
    "print(confusion_matrix(Ltest, y_predict))"
   ]
  },
  {
   "cell_type": "markdown",
   "id": "4101cb88",
   "metadata": {},
   "source": [
    "# SVM(RBF) on RGB data"
   ]
  },
  {
   "cell_type": "code",
   "execution_count": 10,
   "id": "235aaf3a",
   "metadata": {},
   "outputs": [
    {
     "name": "stdout",
     "output_type": "stream",
     "text": [
      "0.8414172686618507\n"
     ]
    }
   ],
   "source": [
    "svm_rbf = SVC(kernel='rbf')\n",
    "svm_rbf.fit(Ftrain,Ltrain)\n",
    "y_pred = svm_rbf.predict(Ftest)\n",
    "print(accuracy_score(Ltest,y_pred))"
   ]
  },
  {
   "cell_type": "code",
   "execution_count": 11,
   "id": "1c7ce3a6",
   "metadata": {},
   "outputs": [
    {
     "name": "stdout",
     "output_type": "stream",
     "text": [
      "                               precision    recall  f1-score   support\n",
      "\n",
      "               bacterial_spot       0.86      0.92      0.89       345\n",
      "                 early_blight       0.60      0.42      0.50       153\n",
      "                      healthy       0.95      0.94      0.94       234\n",
      "                  late_blight       0.81      0.80      0.81       309\n",
      "                    leaf_mold       0.80      0.68      0.74       145\n",
      "           septoria_leaf_spot       0.77      0.78      0.78       293\n",
      "                  target_spot       0.75      0.73      0.74       240\n",
      "          tomato_mosaic_virus       0.75      0.76      0.75        54\n",
      "tomato_yellow_leaf_curl_virus       0.92      0.96      0.94       854\n",
      "      two-spotted_spider_mite       0.78      0.83      0.80       280\n",
      "\n",
      "                     accuracy                           0.84      2907\n",
      "                    macro avg       0.80      0.78      0.79      2907\n",
      "                 weighted avg       0.84      0.84      0.84      2907\n",
      "\n",
      "[[316   1   1   3   0   0   2   0  21   1]\n",
      " [ 26  65   2  22   1   6  15   0   9   7]\n",
      " [  0   4 220   5   0   3   2   0   0   0]\n",
      " [  4  15   4 246  11   8   5   3   7   6]\n",
      " [  1   3   0   9  99  20   2   3   6   2]\n",
      " [  3   6   1   9  10 230   8   3  15   8]\n",
      " [  5   8   3   2   1  12 175   1   4  29]\n",
      " [  0   1   0   0   1   9   2  41   0   0]\n",
      " [ 10   2   0   2   0   5   0   0 822  13]\n",
      " [  1   3   1   4   0   5  21   4   9 232]]\n"
     ]
    }
   ],
   "source": [
    "#classification report\n",
    "y_predict = svm_rbf.fit(Ftrain, Ltrain).predict(Ftest)\n",
    "class_names = target.unique()\n",
    "print(classification_report(Ltest, y_predict, target_names=class_names))\n",
    "print(confusion_matrix(Ltest, y_predict))"
   ]
  },
  {
   "cell_type": "markdown",
   "id": "670ea3cc",
   "metadata": {},
   "source": [
    "# SVM(sigmoid) on RGB data"
   ]
  },
  {
   "cell_type": "code",
   "execution_count": 12,
   "id": "8aaf1a20",
   "metadata": {},
   "outputs": [
    {
     "name": "stdout",
     "output_type": "stream",
     "text": [
      "0.2930856553147575\n"
     ]
    }
   ],
   "source": [
    "svm_si = SVC(kernel='sigmoid')\n",
    "svm_si.fit(Ftrain,Ltrain)\n",
    "y_pred = svm_si.predict(Ftest)\n",
    "print(accuracy_score(Ltest,y_pred))"
   ]
  },
  {
   "cell_type": "code",
   "execution_count": 13,
   "id": "9beeb8fa",
   "metadata": {},
   "outputs": [
    {
     "name": "stdout",
     "output_type": "stream",
     "text": [
      "                               precision    recall  f1-score   support\n",
      "\n",
      "               bacterial_spot       0.00      0.00      0.00       345\n",
      "                 early_blight       0.00      0.00      0.00       153\n",
      "                      healthy       0.00      0.00      0.00       234\n",
      "                  late_blight       0.00      0.00      0.00       309\n",
      "                    leaf_mold       0.00      0.00      0.00       145\n",
      "           septoria_leaf_spot       0.00      0.00      0.00       293\n",
      "                  target_spot       0.00      0.00      0.00       240\n",
      "          tomato_mosaic_virus       0.00      0.00      0.00        54\n",
      "tomato_yellow_leaf_curl_virus       0.30      1.00      0.46       854\n",
      "      two-spotted_spider_mite       0.00      0.00      0.00       280\n",
      "\n",
      "                     accuracy                           0.29      2907\n",
      "                    macro avg       0.03      0.10      0.05      2907\n",
      "                 weighted avg       0.09      0.29      0.13      2907\n",
      "\n",
      "[[  0   0   0   0   0   0   0   0 345   0]\n",
      " [  0   0   0   0   0   0   0   0 153   0]\n",
      " [  1   0   0   0   0   0   0   0 233   0]\n",
      " [  0   0   0   0   0  33   0   0 276   0]\n",
      " [  0   0   0   0   0   1   0   0 144   0]\n",
      " [  0   0   0   0   0   0   0   0 293   0]\n",
      " [  0   0   0   0   0   1   0   0 239   0]\n",
      " [  0   0   0   0   0   0   0   0  54   0]\n",
      " [  1   0   0   0   0   1   0   0 852   0]\n",
      " [  0   0   0   0   0   0   0   0 280   0]]\n"
     ]
    },
    {
     "name": "stderr",
     "output_type": "stream",
     "text": [
      "C:\\Users\\ravic\\anaconda3\\lib\\site-packages\\sklearn\\metrics\\_classification.py:1318: UndefinedMetricWarning: Precision and F-score are ill-defined and being set to 0.0 in labels with no predicted samples. Use `zero_division` parameter to control this behavior.\n",
      "  _warn_prf(average, modifier, msg_start, len(result))\n",
      "C:\\Users\\ravic\\anaconda3\\lib\\site-packages\\sklearn\\metrics\\_classification.py:1318: UndefinedMetricWarning: Precision and F-score are ill-defined and being set to 0.0 in labels with no predicted samples. Use `zero_division` parameter to control this behavior.\n",
      "  _warn_prf(average, modifier, msg_start, len(result))\n",
      "C:\\Users\\ravic\\anaconda3\\lib\\site-packages\\sklearn\\metrics\\_classification.py:1318: UndefinedMetricWarning: Precision and F-score are ill-defined and being set to 0.0 in labels with no predicted samples. Use `zero_division` parameter to control this behavior.\n",
      "  _warn_prf(average, modifier, msg_start, len(result))\n"
     ]
    }
   ],
   "source": [
    "#classification report\n",
    "y_predict = svm_si.fit(Ftrain, Ltrain).predict(Ftest)\n",
    "class_names = target.unique()\n",
    "print(classification_report(Ltest, y_predict, target_names=class_names))\n",
    "print(confusion_matrix(Ltest, y_predict))"
   ]
  },
  {
   "cell_type": "markdown",
   "id": "f985c500",
   "metadata": {},
   "source": [
    "# Bernouli Naive bayes on RGB data"
   ]
  },
  {
   "cell_type": "code",
   "execution_count": 14,
   "id": "75a3f18f",
   "metadata": {},
   "outputs": [
    {
     "data": {
      "text/plain": [
       "0.35741314069487445"
      ]
     },
     "execution_count": 14,
     "metadata": {},
     "output_type": "execute_result"
    }
   ],
   "source": [
    "from sklearn.naive_bayes import BernoulliNB\n",
    "from sklearn import metrics\n",
    "bnb = BernoulliNB()\n",
    "bnb.fit(Ftrain, Ltrain)\n",
    "y_pred = bnb.predict(Ftest)\n",
    "metrics.accuracy_score(Ltest, y_pred)"
   ]
  },
  {
   "cell_type": "code",
   "execution_count": 15,
   "id": "694c01aa",
   "metadata": {},
   "outputs": [
    {
     "name": "stdout",
     "output_type": "stream",
     "text": [
      "                               precision    recall  f1-score   support\n",
      "\n",
      "               bacterial_spot       0.23      0.93      0.37       345\n",
      "                 early_blight       0.25      0.19      0.22       153\n",
      "                      healthy       0.31      0.15      0.21       234\n",
      "                  late_blight       0.75      0.14      0.23       309\n",
      "                    leaf_mold       0.17      0.09      0.12       145\n",
      "           septoria_leaf_spot       0.27      0.10      0.14       293\n",
      "                  target_spot       0.29      0.07      0.12       240\n",
      "          tomato_mosaic_virus       0.17      0.02      0.03        54\n",
      "tomato_yellow_leaf_curl_virus       0.75      0.57      0.65       854\n",
      "      two-spotted_spider_mite       0.20      0.22      0.21       280\n",
      "\n",
      "                     accuracy                           0.36      2907\n",
      "                    macro avg       0.34      0.25      0.23      2907\n",
      "                 weighted avg       0.45      0.36      0.34      2907\n",
      "\n",
      "[[322   0   2   0   3   3   1   0   5   9]\n",
      " [ 61  29   6   8   8   9   0   0  17  15]\n",
      " [130   9  36   0  11   7  11   1  12  17]\n",
      " [157  43   8  43  11   6   4   1  21  15]\n",
      " [ 85   8   7   2  13  15   0   1   8   6]\n",
      " [153  14  16   4  14  28   9   2  26  27]\n",
      " [141   3  13   0   8  11  18   0  15  31]\n",
      " [ 36   0   3   0   0   4   1   1   4   5]\n",
      " [190   9  16   0   6  14   9   0 488 122]\n",
      " [140   1   9   0   1   6   9   0  53  61]]\n"
     ]
    }
   ],
   "source": [
    "class_names = target.unique()\n",
    "print(classification_report(Ltest, y_pred, target_names=class_names))\n",
    "print(confusion_matrix(Ltest, y_pred))"
   ]
  },
  {
   "cell_type": "markdown",
   "id": "67dd930c",
   "metadata": {},
   "source": [
    "# Multinomial Naive bayes on RGB data"
   ]
  },
  {
   "cell_type": "code",
   "execution_count": 16,
   "id": "3b80acde",
   "metadata": {},
   "outputs": [
    {
     "data": {
      "text/plain": [
       "0.44788441692466463"
      ]
     },
     "execution_count": 16,
     "metadata": {},
     "output_type": "execute_result"
    }
   ],
   "source": [
    "from sklearn.naive_bayes import MultinomialNB\n",
    "mnb = MultinomialNB()\n",
    "mnb.fit(Ftrain, Ltrain)\n",
    "y_pred = mnb.predict(Ftest)\n",
    "metrics.accuracy_score(Ltest, y_pred)"
   ]
  },
  {
   "cell_type": "code",
   "execution_count": 17,
   "id": "d6ed705b",
   "metadata": {},
   "outputs": [
    {
     "name": "stdout",
     "output_type": "stream",
     "text": [
      "                               precision    recall  f1-score   support\n",
      "\n",
      "               bacterial_spot       0.42      0.43      0.42       345\n",
      "                 early_blight       0.11      0.29      0.16       153\n",
      "                      healthy       0.44      0.71      0.54       234\n",
      "                  late_blight       0.33      0.25      0.29       309\n",
      "                    leaf_mold       0.53      0.56      0.54       145\n",
      "           septoria_leaf_spot       0.34      0.19      0.24       293\n",
      "                  target_spot       0.54      0.30      0.39       240\n",
      "          tomato_mosaic_virus       0.16      0.69      0.26        54\n",
      "tomato_yellow_leaf_curl_virus       0.93      0.57      0.71       854\n",
      "      two-spotted_spider_mite       0.38      0.46      0.42       280\n",
      "\n",
      "                     accuracy                           0.45      2907\n",
      "                    macro avg       0.42      0.45      0.40      2907\n",
      "                 weighted avg       0.54      0.45      0.47      2907\n",
      "\n",
      "[[147  92  20  36   2  13   6   5  12  12]\n",
      " [ 37  45   5   8   2   7   6  22   4  17]\n",
      " [  0   3 166   9   6  16  23   7   0   4]\n",
      " [ 22  30 104  78  23  10   6  15   5  16]\n",
      " [  3   4  11   3  81  12   3  20   3   5]\n",
      " [ 36  26  23  40  30  55   6  38  14  25]\n",
      " [ 25  54  23   4   2  10  73  11   0  38]\n",
      " [  0   0   0   1   4   5   4  37   0   3]\n",
      " [ 60  93  13  47   3  20   0  38 490  90]\n",
      " [ 21  51  14  10   0  12   7  34   1 130]]\n"
     ]
    }
   ],
   "source": [
    "class_names = target.unique()\n",
    "print(classification_report(Ltest, y_pred, target_names=class_names))\n",
    "print(confusion_matrix(Ltest, y_pred))"
   ]
  },
  {
   "cell_type": "markdown",
   "id": "0e8f617d",
   "metadata": {},
   "source": [
    "# Grayscale data"
   ]
  },
  {
   "cell_type": "code",
   "execution_count": 18,
   "id": "57a9845e",
   "metadata": {},
   "outputs": [],
   "source": [
    "#reading numpy array data\n",
    "gray_test = np.load('gray_test.npy')\n",
    "#reading csv file\n",
    "gray_df = pd.read_csv('gray_data.csv')"
   ]
  },
  {
   "cell_type": "code",
   "execution_count": 19,
   "id": "d3abef95",
   "metadata": {},
   "outputs": [],
   "source": [
    "#assigning features and target to split the data\n",
    "features = pd.DataFrame(gray_test)\n",
    "features = features.values\n",
    "target = gray_df['disease']"
   ]
  },
  {
   "cell_type": "code",
   "execution_count": 20,
   "id": "a86eb99c",
   "metadata": {},
   "outputs": [],
   "source": [
    "#splitting the data to train and test\n",
    "Ftrain,Ftest,Ltrain,Ltest=train_test_split(features,target, test_size=0.20, random_state=24)"
   ]
  },
  {
   "cell_type": "markdown",
   "id": "8bfc6d84",
   "metadata": {},
   "source": [
    "# SVM(poly) on grayscale data"
   ]
  },
  {
   "cell_type": "code",
   "execution_count": 21,
   "id": "c9665abf",
   "metadata": {},
   "outputs": [
    {
     "name": "stdout",
     "output_type": "stream",
     "text": [
      "0.5758513931888545\n"
     ]
    }
   ],
   "source": [
    "svm_poly.fit(Ftrain,Ltrain)\n",
    "y_pred = svm_poly.predict(Ftest)\n",
    "print(accuracy_score(Ltest,y_pred))"
   ]
  },
  {
   "cell_type": "code",
   "execution_count": 22,
   "id": "2456eda7",
   "metadata": {},
   "outputs": [
    {
     "name": "stdout",
     "output_type": "stream",
     "text": [
      "                               precision    recall  f1-score   support\n",
      "\n",
      "               bacterial_spot       0.49      0.71      0.58       345\n",
      "                 early_blight       0.23      0.25      0.24       153\n",
      "                      healthy       0.66      0.71      0.68       234\n",
      "                  late_blight       0.56      0.53      0.54       309\n",
      "                    leaf_mold       0.50      0.51      0.50       145\n",
      "           septoria_leaf_spot       0.45      0.41      0.43       293\n",
      "                  target_spot       0.45      0.45      0.45       240\n",
      "          tomato_mosaic_virus       0.22      0.19      0.20        54\n",
      "tomato_yellow_leaf_curl_virus       0.79      0.69      0.74       854\n",
      "      two-spotted_spider_mite       0.63      0.56      0.60       280\n",
      "\n",
      "                     accuracy                           0.58      2907\n",
      "                    macro avg       0.50      0.50      0.50      2907\n",
      "                 weighted avg       0.59      0.58      0.58      2907\n",
      "\n",
      "[[246  13   9  17   6   9   3   1  39   2]\n",
      " [ 41  38   0  14   8   5  21   0  18   8]\n",
      " [ 16   5 166   8   5   9   9   2   8   6]\n",
      " [ 21  30  11 164   9  31   9   4  22   8]\n",
      " [  7   7   6  11  74  17   5   3  12   3]\n",
      " [ 33   7  22  33  10 119  29   9  20  11]\n",
      " [ 40  21   4   3   7  16 108   1   9  31]\n",
      " [  1   0   2   4   8   8   1  10  13   7]\n",
      " [ 77  31  26  34  15  37  16  11 591  16]\n",
      " [ 15  11   7   5   7  13  40   5  19 158]]\n"
     ]
    }
   ],
   "source": [
    "#classification report\n",
    "y_predict = svm_poly.fit(Ftrain, Ltrain).predict(Ftest)\n",
    "class_names = target.unique()\n",
    "print(classification_report(Ltest, y_predict, target_names=class_names))\n",
    "print(confusion_matrix(Ltest, y_predict))"
   ]
  },
  {
   "cell_type": "markdown",
   "id": "bd417df9",
   "metadata": {},
   "source": [
    "# SVM(RBF) on grayscale data"
   ]
  },
  {
   "cell_type": "code",
   "execution_count": 23,
   "id": "67772464",
   "metadata": {},
   "outputs": [
    {
     "name": "stdout",
     "output_type": "stream",
     "text": [
      "0.6931544547643619\n"
     ]
    }
   ],
   "source": [
    "svm_rbf.fit(Ftrain,Ltrain)\n",
    "y_pred = svm_rbf.predict(Ftest)\n",
    "print(accuracy_score(Ltest,y_pred))"
   ]
  },
  {
   "cell_type": "code",
   "execution_count": 24,
   "id": "34bbfd97",
   "metadata": {},
   "outputs": [
    {
     "name": "stdout",
     "output_type": "stream",
     "text": [
      "                               precision    recall  f1-score   support\n",
      "\n",
      "               bacterial_spot       0.76      0.73      0.74       345\n",
      "                 early_blight       0.45      0.25      0.33       153\n",
      "                      healthy       0.75      0.85      0.80       234\n",
      "                  late_blight       0.69      0.67      0.68       309\n",
      "                    leaf_mold       0.72      0.47      0.57       145\n",
      "           septoria_leaf_spot       0.63      0.57      0.60       293\n",
      "                  target_spot       0.63      0.59      0.61       240\n",
      "          tomato_mosaic_virus       0.60      0.06      0.10        54\n",
      "tomato_yellow_leaf_curl_virus       0.70      0.87      0.78       854\n",
      "      two-spotted_spider_mite       0.70      0.71      0.70       280\n",
      "\n",
      "                     accuracy                           0.69      2907\n",
      "                    macro avg       0.66      0.58      0.59      2907\n",
      "                 weighted avg       0.68      0.69      0.68      2907\n",
      "\n",
      "[[251   4   8  10   1   8   2   0  58   3]\n",
      " [ 18  39   1  21   2   6  15   0  41  10]\n",
      " [  1   2 199   3   1   4   5   0  17   2]\n",
      " [  0  18   8 207   7  20   7   0  36   6]\n",
      " [  4   2   8  11  68  17   4   0  29   2]\n",
      " [  9   5  14  28   9 167  18   2  35   6]\n",
      " [ 11   4   5   2   1  14 141   0  25  37]\n",
      " [  1   0   1   3   4   3   1   3  33   5]\n",
      " [ 31   5  18  15   1  22   6   0 741  15]\n",
      " [  3   8   3   0   0   4  25   0  38 199]]\n"
     ]
    }
   ],
   "source": [
    "#classification report\n",
    "y_predict = svm_rbf.fit(Ftrain, Ltrain).predict(Ftest)\n",
    "class_names = target.unique()\n",
    "print(classification_report(Ltest, y_predict, target_names=class_names))\n",
    "print(confusion_matrix(Ltest, y_predict))"
   ]
  },
  {
   "cell_type": "markdown",
   "id": "c1ed23e8",
   "metadata": {},
   "source": [
    "# SVM(sigmoid) on Grayscale data"
   ]
  },
  {
   "cell_type": "code",
   "execution_count": 25,
   "id": "b79e8630",
   "metadata": {},
   "outputs": [
    {
     "name": "stdout",
     "output_type": "stream",
     "text": [
      "0.24251805985552116\n"
     ]
    }
   ],
   "source": [
    "svm_si.fit(Ftrain,Ltrain)\n",
    "y_pred = svm_si.predict(Ftest)\n",
    "print(accuracy_score(Ltest,y_pred))"
   ]
  },
  {
   "cell_type": "code",
   "execution_count": 26,
   "id": "c64cd0a6",
   "metadata": {},
   "outputs": [
    {
     "name": "stdout",
     "output_type": "stream",
     "text": [
      "                               precision    recall  f1-score   support\n",
      "\n",
      "               bacterial_spot       0.06      0.08      0.07       345\n",
      "                 early_blight       0.00      0.00      0.00       153\n",
      "                      healthy       0.00      0.00      0.00       234\n",
      "                  late_blight       0.00      0.00      0.00       309\n",
      "                    leaf_mold       0.00      0.00      0.00       145\n",
      "           septoria_leaf_spot       0.00      0.00      0.00       293\n",
      "                  target_spot       0.00      0.00      0.00       240\n",
      "          tomato_mosaic_virus       0.00      0.00      0.00        54\n",
      "tomato_yellow_leaf_curl_virus       0.28      0.79      0.42       854\n",
      "      two-spotted_spider_mite       0.00      0.00      0.00       280\n",
      "\n",
      "                     accuracy                           0.24      2907\n",
      "                    macro avg       0.03      0.09      0.05      2907\n",
      "                 weighted avg       0.09      0.24      0.13      2907\n",
      "\n",
      "[[ 29   0   0   0   0   0   0   0 316   0]\n",
      " [  5   0   0   0   0   0   0   0 148   0]\n",
      " [ 42   0   0   0   0   0   0   0 192   0]\n",
      " [ 79   0   0   0   0  33   0   0 197   0]\n",
      " [ 17   0   0   0   0   0   0   0 128   0]\n",
      " [115   0   0   0   0   0   0   0 178   0]\n",
      " [  7   0   0   0   0   1   0   0 232   0]\n",
      " [  2   0   0   0   0   0   0   0  52   0]\n",
      " [178   0   0   0   0   0   0   0 676   0]\n",
      " [ 15   0   0   0   0   0   0   0 265   0]]\n"
     ]
    },
    {
     "name": "stderr",
     "output_type": "stream",
     "text": [
      "C:\\Users\\ravic\\anaconda3\\lib\\site-packages\\sklearn\\metrics\\_classification.py:1318: UndefinedMetricWarning: Precision and F-score are ill-defined and being set to 0.0 in labels with no predicted samples. Use `zero_division` parameter to control this behavior.\n",
      "  _warn_prf(average, modifier, msg_start, len(result))\n",
      "C:\\Users\\ravic\\anaconda3\\lib\\site-packages\\sklearn\\metrics\\_classification.py:1318: UndefinedMetricWarning: Precision and F-score are ill-defined and being set to 0.0 in labels with no predicted samples. Use `zero_division` parameter to control this behavior.\n",
      "  _warn_prf(average, modifier, msg_start, len(result))\n",
      "C:\\Users\\ravic\\anaconda3\\lib\\site-packages\\sklearn\\metrics\\_classification.py:1318: UndefinedMetricWarning: Precision and F-score are ill-defined and being set to 0.0 in labels with no predicted samples. Use `zero_division` parameter to control this behavior.\n",
      "  _warn_prf(average, modifier, msg_start, len(result))\n"
     ]
    }
   ],
   "source": [
    "#classification report\n",
    "y_predict = svm_si.fit(Ftrain, Ltrain).predict(Ftest)\n",
    "class_names = target.unique()\n",
    "print(classification_report(Ltest, y_predict, target_names=class_names))\n",
    "print(confusion_matrix(Ltest, y_predict))"
   ]
  },
  {
   "cell_type": "markdown",
   "id": "8ba631c4",
   "metadata": {},
   "source": [
    "# Bernouli Naive bayes on grayscale data"
   ]
  },
  {
   "cell_type": "code",
   "execution_count": 27,
   "id": "f9c1d1df",
   "metadata": {},
   "outputs": [
    {
     "data": {
      "text/plain": [
       "0.3075335397316821"
      ]
     },
     "execution_count": 27,
     "metadata": {},
     "output_type": "execute_result"
    }
   ],
   "source": [
    "bnb.fit(Ftrain, Ltrain)\n",
    "y_pred = bnb.predict(Ftest)\n",
    "metrics.accuracy_score(Ltest, y_pred)"
   ]
  },
  {
   "cell_type": "code",
   "execution_count": 28,
   "id": "5349d0e6",
   "metadata": {},
   "outputs": [
    {
     "name": "stdout",
     "output_type": "stream",
     "text": [
      "                               precision    recall  f1-score   support\n",
      "\n",
      "               bacterial_spot       0.00      0.00      0.00       345\n",
      "                 early_blight       0.33      0.01      0.01       153\n",
      "                      healthy       0.67      0.01      0.02       234\n",
      "                  late_blight       0.94      0.11      0.20       309\n",
      "                    leaf_mold       0.50      0.01      0.01       145\n",
      "           septoria_leaf_spot       0.40      0.01      0.01       293\n",
      "                  target_spot       0.00      0.00      0.00       240\n",
      "          tomato_mosaic_virus       0.00      0.00      0.00        54\n",
      "tomato_yellow_leaf_curl_virus       0.30      1.00      0.46       854\n",
      "      two-spotted_spider_mite       0.00      0.00      0.00       280\n",
      "\n",
      "                     accuracy                           0.31      2907\n",
      "                    macro avg       0.31      0.11      0.07      2907\n",
      "                 weighted avg       0.32      0.31      0.16      2907\n",
      "\n",
      "[[  0   0   0   0   0   0   0   0 345   0]\n",
      " [  0   1   1   0   0   0   1   0 150   0]\n",
      " [  0   1   2   1   0   1   0   0 229   0]\n",
      " [  0   1   0  34   0   2   0   0 272   0]\n",
      " [  0   0   0   0   1   0   0   0 143   1]\n",
      " [  0   0   0   1   0   2   0   0 289   1]\n",
      " [  0   0   0   0   1   0   0   0 239   0]\n",
      " [  0   0   0   0   0   0   0   0  54   0]\n",
      " [  0   0   0   0   0   0   0   0 854   0]\n",
      " [  0   0   0   0   0   0   0   0 280   0]]\n"
     ]
    },
    {
     "name": "stderr",
     "output_type": "stream",
     "text": [
      "C:\\Users\\ravic\\anaconda3\\lib\\site-packages\\sklearn\\metrics\\_classification.py:1318: UndefinedMetricWarning: Precision and F-score are ill-defined and being set to 0.0 in labels with no predicted samples. Use `zero_division` parameter to control this behavior.\n",
      "  _warn_prf(average, modifier, msg_start, len(result))\n",
      "C:\\Users\\ravic\\anaconda3\\lib\\site-packages\\sklearn\\metrics\\_classification.py:1318: UndefinedMetricWarning: Precision and F-score are ill-defined and being set to 0.0 in labels with no predicted samples. Use `zero_division` parameter to control this behavior.\n",
      "  _warn_prf(average, modifier, msg_start, len(result))\n",
      "C:\\Users\\ravic\\anaconda3\\lib\\site-packages\\sklearn\\metrics\\_classification.py:1318: UndefinedMetricWarning: Precision and F-score are ill-defined and being set to 0.0 in labels with no predicted samples. Use `zero_division` parameter to control this behavior.\n",
      "  _warn_prf(average, modifier, msg_start, len(result))\n"
     ]
    }
   ],
   "source": [
    "class_names = target.unique()\n",
    "print(classification_report(Ltest, y_pred, target_names=class_names))\n",
    "print(confusion_matrix(Ltest, y_pred))"
   ]
  },
  {
   "cell_type": "markdown",
   "id": "20b31faf",
   "metadata": {},
   "source": [
    "# Multinomial Naive bayes on Grayscale data"
   ]
  },
  {
   "cell_type": "code",
   "execution_count": 29,
   "id": "5bf3d424",
   "metadata": {},
   "outputs": [
    {
     "data": {
      "text/plain": [
       "0.23976608187134502"
      ]
     },
     "execution_count": 29,
     "metadata": {},
     "output_type": "execute_result"
    }
   ],
   "source": [
    "mnb.fit(Ftrain, Ltrain)\n",
    "y_pred = mnb.predict(Ftest)\n",
    "metrics.accuracy_score(Ltest, y_pred)"
   ]
  },
  {
   "cell_type": "code",
   "execution_count": 30,
   "id": "6ed85664",
   "metadata": {},
   "outputs": [
    {
     "name": "stdout",
     "output_type": "stream",
     "text": [
      "                               precision    recall  f1-score   support\n",
      "\n",
      "               bacterial_spot       0.36      0.29      0.32       345\n",
      "                 early_blight       0.10      0.30      0.15       153\n",
      "                      healthy       0.23      0.62      0.33       234\n",
      "                  late_blight       0.17      0.12      0.14       309\n",
      "                    leaf_mold       0.38      0.43      0.40       145\n",
      "           septoria_leaf_spot       0.21      0.09      0.12       293\n",
      "                  target_spot       0.47      0.20      0.28       240\n",
      "          tomato_mosaic_virus       0.08      0.46      0.14        54\n",
      "tomato_yellow_leaf_curl_virus       0.44      0.12      0.19       854\n",
      "      two-spotted_spider_mite       0.30      0.38      0.33       280\n",
      "\n",
      "                     accuracy                           0.24      2907\n",
      "                    macro avg       0.27      0.30      0.24      2907\n",
      "                 weighted avg       0.32      0.24      0.23      2907\n",
      "\n",
      "[[ 99 112  42  22   3  12   3  10  13  29]\n",
      " [ 32  46   5   5   9   4   4  12  17  19]\n",
      " [  0   2 146  14   5  35  13   6   8   5]\n",
      " [ 22  33 138  38  29   3   5  14  15  12]\n",
      " [  5   6  12  12  63   9   3  22   5   8]\n",
      " [ 23  21  61  36  32  26  10  29  28  27]\n",
      " [ 31  48  14  15   4   7  47  13  18  43]\n",
      " [  2   0   1   6   3   3   1  25   8   5]\n",
      " [ 39 147 215  64  17  14   6 148 101 103]\n",
      " [ 20  55  12  15   3  10   8  36  15 106]]\n"
     ]
    }
   ],
   "source": [
    "class_names = target.unique()\n",
    "print(classification_report(Ltest, y_pred, target_names=class_names))\n",
    "print(confusion_matrix(Ltest, y_pred))"
   ]
  },
  {
   "cell_type": "markdown",
   "id": "6f5719a1",
   "metadata": {},
   "source": [
    "# Red Channel data"
   ]
  },
  {
   "cell_type": "code",
   "execution_count": 31,
   "id": "5f8b0e11",
   "metadata": {},
   "outputs": [],
   "source": [
    "#reading numpy array data\n",
    "red_test = np.load('red_data.npy')\n",
    "#reading csv file\n",
    "red_df = pd.read_csv('red_data.csv')\n",
    "#assigning features and target to split the data\n",
    "features = pd.DataFrame(red_test)\n",
    "features = features.values\n",
    "target = red_df['disease']\n",
    "#splitting the data to train and test\n",
    "Ftrain,Ftest,Ltrain,Ltest=train_test_split(features,target, test_size=0.20, random_state=24)"
   ]
  },
  {
   "cell_type": "markdown",
   "id": "c81dd4d2",
   "metadata": {},
   "source": [
    "# SVM(poly) on Red data"
   ]
  },
  {
   "cell_type": "code",
   "execution_count": 32,
   "id": "a9cb2e28",
   "metadata": {},
   "outputs": [
    {
     "name": "stdout",
     "output_type": "stream",
     "text": [
      "0.5930512555899553\n"
     ]
    }
   ],
   "source": [
    "svm_poly.fit(Ftrain,Ltrain)\n",
    "y_pred = svm_poly.predict(Ftest)\n",
    "print(accuracy_score(Ltest,y_pred))"
   ]
  },
  {
   "cell_type": "code",
   "execution_count": 33,
   "id": "35b2ceaf",
   "metadata": {},
   "outputs": [
    {
     "name": "stdout",
     "output_type": "stream",
     "text": [
      "                               precision    recall  f1-score   support\n",
      "\n",
      "               bacterial_spot       0.55      0.74      0.63       345\n",
      "                 early_blight       0.26      0.24      0.25       153\n",
      "                      healthy       0.70      0.76      0.73       234\n",
      "                  late_blight       0.57      0.50      0.53       309\n",
      "                    leaf_mold       0.53      0.47      0.50       145\n",
      "           septoria_leaf_spot       0.49      0.46      0.48       293\n",
      "                  target_spot       0.46      0.47      0.47       240\n",
      "          tomato_mosaic_virus       0.27      0.28      0.27        54\n",
      "tomato_yellow_leaf_curl_virus       0.76      0.70      0.73       854\n",
      "      two-spotted_spider_mite       0.61      0.59      0.60       280\n",
      "\n",
      "                     accuracy                           0.59      2907\n",
      "                    macro avg       0.52      0.52      0.52      2907\n",
      "                 weighted avg       0.60      0.59      0.59      2907\n",
      "\n",
      "[[255  11   5  17   2   6   1   0  48   0]\n",
      " [ 35  37   3  10   3  15  18   1  21  10]\n",
      " [ 10   3 178   4   4  12   8   2   6   7]\n",
      " [ 19  26  14 156  15  33  13   5  22   6]\n",
      " [  9   5  10  16  68  13   4   2  17   1]\n",
      " [ 22   7  11  34   7 136  23   8  25  20]\n",
      " [ 28  19   3   2   7  16 114   3  12  36]\n",
      " [  1   0   0   3   3   6   0  15  20   6]\n",
      " [ 72  25  24  30  18  27  26  13 600  19]\n",
      " [ 10  12   8   4   2  14  39   7  19 165]]\n"
     ]
    }
   ],
   "source": [
    "#classification report\n",
    "y_predict = svm_poly.fit(Ftrain, Ltrain).predict(Ftest)\n",
    "class_names = target.unique()\n",
    "print(classification_report(Ltest, y_predict, target_names=class_names))\n",
    "print(confusion_matrix(Ltest, y_predict))"
   ]
  },
  {
   "cell_type": "markdown",
   "id": "bcdfb873",
   "metadata": {},
   "source": [
    "# SVM(RBF) on Red data"
   ]
  },
  {
   "cell_type": "code",
   "execution_count": 34,
   "id": "5e806290",
   "metadata": {},
   "outputs": [
    {
     "name": "stdout",
     "output_type": "stream",
     "text": [
      "0.6900584795321637\n"
     ]
    }
   ],
   "source": [
    "svm_rbf.fit(Ftrain,Ltrain)\n",
    "y_pred = svm_rbf.predict(Ftest)\n",
    "print(accuracy_score(Ltest,y_pred))"
   ]
  },
  {
   "cell_type": "code",
   "execution_count": 35,
   "id": "e613add4",
   "metadata": {},
   "outputs": [
    {
     "name": "stdout",
     "output_type": "stream",
     "text": [
      "                               precision    recall  f1-score   support\n",
      "\n",
      "               bacterial_spot       0.78      0.76      0.77       345\n",
      "                 early_blight       0.46      0.21      0.29       153\n",
      "                      healthy       0.73      0.83      0.78       234\n",
      "                  late_blight       0.65      0.68      0.67       309\n",
      "                    leaf_mold       0.66      0.49      0.56       145\n",
      "           septoria_leaf_spot       0.62      0.52      0.56       293\n",
      "                  target_spot       0.62      0.60      0.61       240\n",
      "          tomato_mosaic_virus       0.67      0.04      0.07        54\n",
      "tomato_yellow_leaf_curl_virus       0.71      0.86      0.78       854\n",
      "      two-spotted_spider_mite       0.69      0.74      0.71       280\n",
      "\n",
      "                     accuracy                           0.69      2907\n",
      "                    macro avg       0.66      0.57      0.58      2907\n",
      "                 weighted avg       0.68      0.69      0.67      2907\n",
      "\n",
      "[[263   2   8  17   0   5   3   0  47   0]\n",
      " [ 22  32   2  23   1   7  18   0  40   8]\n",
      " [  0   2 195   4   5   6   2   0  18   2]\n",
      " [  3  14   8 210   8  22  12   0  29   3]\n",
      " [  2   3   5  16  71  15   2   0  30   1]\n",
      " [  8   6  14  30   9 151  24   1  38  12]\n",
      " [ 10   3   2   2   2  11 145   0  23  42]\n",
      " [  0   0   0   3   2   2   0   2  35  10]\n",
      " [ 27   5  27  15   9  19   5   0 731  16]\n",
      " [  4   3   5   1   0   4  24   0  33 206]]\n"
     ]
    }
   ],
   "source": [
    "#classification report\n",
    "y_predict = svm_rbf.fit(Ftrain, Ltrain).predict(Ftest)\n",
    "class_names = target.unique()\n",
    "print(classification_report(Ltest, y_predict, target_names=class_names))\n",
    "print(confusion_matrix(Ltest, y_predict))"
   ]
  },
  {
   "cell_type": "markdown",
   "id": "558a44ca",
   "metadata": {},
   "source": [
    "# SVM(sigmoid) on Red data"
   ]
  },
  {
   "cell_type": "code",
   "execution_count": 36,
   "id": "dfde7ca8",
   "metadata": {},
   "outputs": [
    {
     "name": "stdout",
     "output_type": "stream",
     "text": [
      "0.2930856553147575\n"
     ]
    }
   ],
   "source": [
    "svm_si.fit(Ftrain,Ltrain)\n",
    "y_pred = svm_si.predict(Ftest)\n",
    "print(accuracy_score(Ltest,y_pred))"
   ]
  },
  {
   "cell_type": "code",
   "execution_count": 37,
   "id": "b58142f8",
   "metadata": {},
   "outputs": [
    {
     "name": "stdout",
     "output_type": "stream",
     "text": [
      "                               precision    recall  f1-score   support\n",
      "\n",
      "               bacterial_spot       0.00      0.00      0.00       345\n",
      "                 early_blight       0.00      0.00      0.00       153\n",
      "                      healthy       0.00      0.00      0.00       234\n",
      "                  late_blight       0.00      0.00      0.00       309\n",
      "                    leaf_mold       0.00      0.00      0.00       145\n",
      "           septoria_leaf_spot       0.00      0.00      0.00       293\n",
      "                  target_spot       0.00      0.00      0.00       240\n",
      "          tomato_mosaic_virus       0.00      0.00      0.00        54\n",
      "tomato_yellow_leaf_curl_virus       0.30      1.00      0.46       854\n",
      "      two-spotted_spider_mite       0.00      0.00      0.00       280\n",
      "\n",
      "                     accuracy                           0.29      2907\n",
      "                    macro avg       0.03      0.10      0.05      2907\n",
      "                 weighted avg       0.09      0.29      0.13      2907\n",
      "\n",
      "[[  0   0   0   0   0   0   0   0 345   0]\n",
      " [  0   0   0   0   0   0   0   0 153   0]\n",
      " [  1   0   0   0   0   0   0   0 233   0]\n",
      " [  0   0   0   0   0  33   0   0 276   0]\n",
      " [  0   0   0   0   0   1   0   0 144   0]\n",
      " [  0   0   0   0   0   0   0   0 293   0]\n",
      " [  0   0   0   0   0   1   0   0 239   0]\n",
      " [  0   0   0   0   0   0   0   0  54   0]\n",
      " [  1   0   0   0   0   1   0   0 852   0]\n",
      " [  0   0   0   0   0   0   0   0 280   0]]\n"
     ]
    },
    {
     "name": "stderr",
     "output_type": "stream",
     "text": [
      "C:\\Users\\ravic\\anaconda3\\lib\\site-packages\\sklearn\\metrics\\_classification.py:1318: UndefinedMetricWarning: Precision and F-score are ill-defined and being set to 0.0 in labels with no predicted samples. Use `zero_division` parameter to control this behavior.\n",
      "  _warn_prf(average, modifier, msg_start, len(result))\n",
      "C:\\Users\\ravic\\anaconda3\\lib\\site-packages\\sklearn\\metrics\\_classification.py:1318: UndefinedMetricWarning: Precision and F-score are ill-defined and being set to 0.0 in labels with no predicted samples. Use `zero_division` parameter to control this behavior.\n",
      "  _warn_prf(average, modifier, msg_start, len(result))\n",
      "C:\\Users\\ravic\\anaconda3\\lib\\site-packages\\sklearn\\metrics\\_classification.py:1318: UndefinedMetricWarning: Precision and F-score are ill-defined and being set to 0.0 in labels with no predicted samples. Use `zero_division` parameter to control this behavior.\n",
      "  _warn_prf(average, modifier, msg_start, len(result))\n"
     ]
    }
   ],
   "source": [
    "#classification report\n",
    "y_predict = svm_si.fit(Ftrain, Ltrain).predict(Ftest)\n",
    "class_names = target.unique()\n",
    "print(classification_report(Ltest, y_predict, target_names=class_names))\n",
    "print(confusion_matrix(Ltest, y_predict))"
   ]
  },
  {
   "cell_type": "markdown",
   "id": "5a175c93",
   "metadata": {},
   "source": [
    "# Bernouli Naive bayes on Red data"
   ]
  },
  {
   "cell_type": "code",
   "execution_count": 38,
   "id": "d65fa897",
   "metadata": {},
   "outputs": [
    {
     "data": {
      "text/plain": [
       "0.3106295149638803"
      ]
     },
     "execution_count": 38,
     "metadata": {},
     "output_type": "execute_result"
    }
   ],
   "source": [
    "bnb.fit(Ftrain, Ltrain)\n",
    "y_pred = bnb.predict(Ftest)\n",
    "metrics.accuracy_score(Ltest, y_pred)"
   ]
  },
  {
   "cell_type": "code",
   "execution_count": 39,
   "id": "bdadbf8a",
   "metadata": {},
   "outputs": [
    {
     "name": "stdout",
     "output_type": "stream",
     "text": [
      "                               precision    recall  f1-score   support\n",
      "\n",
      "               bacterial_spot       0.00      0.00      0.00       345\n",
      "                 early_blight       0.18      0.04      0.06       153\n",
      "                      healthy       0.19      0.03      0.05       234\n",
      "                  late_blight       0.71      0.12      0.20       309\n",
      "                    leaf_mold       0.05      0.01      0.02       145\n",
      "           septoria_leaf_spot       0.25      0.07      0.11       293\n",
      "                  target_spot       0.18      0.03      0.04       240\n",
      "          tomato_mosaic_virus       0.05      0.02      0.03        54\n",
      "tomato_yellow_leaf_curl_virus       0.32      0.96      0.48       854\n",
      "      two-spotted_spider_mite       0.20      0.01      0.01       280\n",
      "\n",
      "                     accuracy                           0.31      2907\n",
      "                    macro avg       0.21      0.13      0.10      2907\n",
      "                 weighted avg       0.26      0.31      0.19      2907\n",
      "\n",
      "[[  0   0   0   0   0   0   0   0 345   0]\n",
      " [  1   6   7   5   6  11   6   3 108   0]\n",
      " [  1   3   7   1   5   3   3   5 206   0]\n",
      " [  1   2   5  36   7  14   2   4 238   0]\n",
      " [  0   4   2   1   2  16   2   2 116   0]\n",
      " [  1   8   5   7  11  20   2   2 233   4]\n",
      " [  0   3   6   1   6   8   6   2 206   2]\n",
      " [  0   1   1   0   0   2   0   1  49   0]\n",
      " [  0   6   2   0   4   6   9   2 823   2]\n",
      " [  0   0   1   0   0   0   3   1 273   2]]\n"
     ]
    }
   ],
   "source": [
    "class_names = target.unique()\n",
    "print(classification_report(Ltest, y_pred, target_names=class_names))\n",
    "print(confusion_matrix(Ltest, y_pred))"
   ]
  },
  {
   "cell_type": "markdown",
   "id": "39255a27",
   "metadata": {},
   "source": [
    "# Multinomial Naive bayes on Red data"
   ]
  },
  {
   "cell_type": "code",
   "execution_count": 40,
   "id": "437843bc",
   "metadata": {},
   "outputs": [
    {
     "data": {
      "text/plain": [
       "0.28173374613003094"
      ]
     },
     "execution_count": 40,
     "metadata": {},
     "output_type": "execute_result"
    }
   ],
   "source": [
    "mnb.fit(Ftrain, Ltrain)\n",
    "y_pred = mnb.predict(Ftest)\n",
    "metrics.accuracy_score(Ltest, y_pred)"
   ]
  },
  {
   "cell_type": "code",
   "execution_count": 41,
   "id": "2bcb0431",
   "metadata": {},
   "outputs": [
    {
     "name": "stdout",
     "output_type": "stream",
     "text": [
      "                               precision    recall  f1-score   support\n",
      "\n",
      "               bacterial_spot       0.40      0.49      0.44       345\n",
      "                 early_blight       0.10      0.20      0.13       153\n",
      "                      healthy       0.29      0.68      0.40       234\n",
      "                  late_blight       0.20      0.21      0.21       309\n",
      "                    leaf_mold       0.36      0.43      0.39       145\n",
      "           septoria_leaf_spot       0.20      0.12      0.15       293\n",
      "                  target_spot       0.45      0.21      0.29       240\n",
      "          tomato_mosaic_virus       0.11      0.57      0.19        54\n",
      "tomato_yellow_leaf_curl_virus       0.50      0.13      0.21       854\n",
      "      two-spotted_spider_mite       0.32      0.37      0.35       280\n",
      "\n",
      "                     accuracy                           0.28      2907\n",
      "                    macro avg       0.29      0.34      0.27      2907\n",
      "                 weighted avg       0.35      0.28      0.27      2907\n",
      "\n",
      "[[168  72  37  28   4  13   3   6   7   7]\n",
      " [ 38  31   9   4   5   8   8  10  21  19]\n",
      " [  0   1 158  18   6  37   7   2   2   3]\n",
      " [ 28  14 119  65  31   8   7  13  18   6]\n",
      " [  6   5  19  14  62  13   0  14   6   6]\n",
      " [ 27  26  48  46  36  35  12  18  24  21]\n",
      " [ 41  48  18   0   4  14  51   7  14  43]\n",
      " [  1   0   0   1   5   3   2  31   4   7]\n",
      " [ 81  84 123 145  19  34   9 142 115 102]\n",
      " [ 30  44  22   3   0  11  15  32  20 103]]\n"
     ]
    }
   ],
   "source": [
    "class_names = target.unique()\n",
    "print(classification_report(Ltest, y_pred, target_names=class_names))\n",
    "print(confusion_matrix(Ltest, y_pred))"
   ]
  },
  {
   "cell_type": "markdown",
   "id": "11e4cd00",
   "metadata": {},
   "source": [
    "# Green channel data"
   ]
  },
  {
   "cell_type": "code",
   "execution_count": 42,
   "id": "40feb467",
   "metadata": {},
   "outputs": [],
   "source": [
    "#reading numpy array data\n",
    "green_test = np.load('green_data.npy')\n",
    "#reading csv file\n",
    "green_df = pd.read_csv('green_data.csv')\n",
    "#assigning features and target to split the data\n",
    "features = pd.DataFrame(green_test)\n",
    "features = features.values\n",
    "target = green_df['disease']\n",
    "#splitting the data to train and test\n",
    "Ftrain,Ftest,Ltrain,Ltest=train_test_split(features,target, test_size=0.20, random_state=24)"
   ]
  },
  {
   "cell_type": "markdown",
   "id": "9aa0bc22",
   "metadata": {},
   "source": [
    "# SVM(poly) on green data"
   ]
  },
  {
   "cell_type": "code",
   "execution_count": 43,
   "id": "fe39c65e",
   "metadata": {},
   "outputs": [
    {
     "name": "stdout",
     "output_type": "stream",
     "text": [
      "0.5765393876848985\n"
     ]
    }
   ],
   "source": [
    "svm_poly.fit(Ftrain,Ltrain)\n",
    "y_pred = svm_poly.predict(Ftest)\n",
    "print(accuracy_score(Ltest,y_pred))"
   ]
  },
  {
   "cell_type": "code",
   "execution_count": 44,
   "id": "8423b846",
   "metadata": {},
   "outputs": [
    {
     "name": "stdout",
     "output_type": "stream",
     "text": [
      "                               precision    recall  f1-score   support\n",
      "\n",
      "               bacterial_spot       0.49      0.71      0.58       345\n",
      "                 early_blight       0.26      0.28      0.27       153\n",
      "                      healthy       0.65      0.68      0.66       234\n",
      "                  late_blight       0.59      0.55      0.57       309\n",
      "                    leaf_mold       0.42      0.48      0.45       145\n",
      "           septoria_leaf_spot       0.48      0.40      0.43       293\n",
      "                  target_spot       0.45      0.43      0.44       240\n",
      "          tomato_mosaic_virus       0.25      0.20      0.22        54\n",
      "tomato_yellow_leaf_curl_virus       0.78      0.71      0.74       854\n",
      "      two-spotted_spider_mite       0.61      0.55      0.58       280\n",
      "\n",
      "                     accuracy                           0.58      2907\n",
      "                    macro avg       0.50      0.50      0.50      2907\n",
      "                 weighted avg       0.59      0.58      0.58      2907\n",
      "\n",
      "[[244  12   8  16   8  10   4   0  37   6]\n",
      " [ 35  43   0  16   6   6  18   0  20   9]\n",
      " [ 18   7 158   6   9   9  12   1   9   5]\n",
      " [ 26  25   8 169  10  24  12   2  23  10]\n",
      " [ 13   5   5  11  69  14   8   2  15   3]\n",
      " [ 35   9  24  26  15 116  21  10  24  13]\n",
      " [ 33  23   7   3  10  10 104   2  14  34]\n",
      " [  3   0   3   5  13   7   1  11   6   5]\n",
      " [ 74  26  26  29  19  33  16  11 607  13]\n",
      " [ 19  14   5   6   4  12  34   5  26 155]]\n"
     ]
    }
   ],
   "source": [
    "#classification report\n",
    "y_predict = svm_poly.fit(Ftrain, Ltrain).predict(Ftest)\n",
    "class_names = target.unique()\n",
    "print(classification_report(Ltest, y_predict, target_names=class_names))\n",
    "print(confusion_matrix(Ltest, y_predict))"
   ]
  },
  {
   "cell_type": "markdown",
   "id": "6112d4e4",
   "metadata": {},
   "source": [
    "# SVM(RBF) on green data"
   ]
  },
  {
   "cell_type": "code",
   "execution_count": 45,
   "id": "69be936f",
   "metadata": {},
   "outputs": [
    {
     "name": "stdout",
     "output_type": "stream",
     "text": [
      "0.7020983832129343\n"
     ]
    }
   ],
   "source": [
    "svm_rbf.fit(Ftrain,Ltrain)\n",
    "y_pred = svm_rbf.predict(Ftest)\n",
    "print(accuracy_score(Ltest,y_pred))"
   ]
  },
  {
   "cell_type": "code",
   "execution_count": 46,
   "id": "81b4c571",
   "metadata": {},
   "outputs": [
    {
     "name": "stdout",
     "output_type": "stream",
     "text": [
      "                               precision    recall  f1-score   support\n",
      "\n",
      "               bacterial_spot       0.78      0.74      0.76       345\n",
      "                 early_blight       0.53      0.28      0.37       153\n",
      "                      healthy       0.78      0.86      0.82       234\n",
      "                  late_blight       0.66      0.68      0.67       309\n",
      "                    leaf_mold       0.64      0.47      0.54       145\n",
      "           septoria_leaf_spot       0.68      0.59      0.64       293\n",
      "                  target_spot       0.61      0.60      0.60       240\n",
      "          tomato_mosaic_virus       0.60      0.11      0.19        54\n",
      "tomato_yellow_leaf_curl_virus       0.72      0.88      0.79       854\n",
      "      two-spotted_spider_mite       0.70      0.68      0.69       280\n",
      "\n",
      "                     accuracy                           0.70      2907\n",
      "                    macro avg       0.67      0.59      0.61      2907\n",
      "                 weighted avg       0.69      0.70      0.69      2907\n",
      "\n",
      "[[257   2   9  13   3   3   2   0  55   1]\n",
      " [ 18  43   1  26   2   3  18   0  35   7]\n",
      " [  1   2 202   5   2   2   7   0  11   2]\n",
      " [  0  14   4 209   8  19  11   1  36   7]\n",
      " [  5   2   5  13  68  17   5   1  24   5]\n",
      " [  5   3  12  29   9 174  16   0  41   4]\n",
      " [ 10   4   7   4   2   8 143   0  28  34]\n",
      " [  2   0   2   2   9   8   0   6  19   6]\n",
      " [ 28   4  13  16   4  16   7   1 750  15]\n",
      " [  4   7   3   2   0   5  27   1  42 189]]\n"
     ]
    }
   ],
   "source": [
    "#classification report\n",
    "y_predict = svm_rbf.fit(Ftrain, Ltrain).predict(Ftest)\n",
    "class_names = target.unique()\n",
    "print(classification_report(Ltest, y_predict, target_names=class_names))\n",
    "print(confusion_matrix(Ltest, y_predict))"
   ]
  },
  {
   "cell_type": "markdown",
   "id": "662d1937",
   "metadata": {},
   "source": [
    "# SVM(sigmoid) on green data"
   ]
  },
  {
   "cell_type": "code",
   "execution_count": 47,
   "id": "7f6adcca",
   "metadata": {},
   "outputs": [
    {
     "name": "stdout",
     "output_type": "stream",
     "text": [
      "0.2724458204334365\n"
     ]
    }
   ],
   "source": [
    "svm_si.fit(Ftrain,Ltrain)\n",
    "y_pred = svm_si.predict(Ftest)\n",
    "print(accuracy_score(Ltest,y_pred))"
   ]
  },
  {
   "cell_type": "code",
   "execution_count": 48,
   "id": "251d68f3",
   "metadata": {},
   "outputs": [
    {
     "name": "stdout",
     "output_type": "stream",
     "text": [
      "                               precision    recall  f1-score   support\n",
      "\n",
      "               bacterial_spot       0.05      0.02      0.03       345\n",
      "                 early_blight       0.00      0.00      0.00       153\n",
      "                      healthy       0.00      0.00      0.00       234\n",
      "                  late_blight       0.00      0.00      0.00       309\n",
      "                    leaf_mold       0.00      0.00      0.00       145\n",
      "           septoria_leaf_spot       0.00      0.00      0.00       293\n",
      "                  target_spot       0.00      0.00      0.00       240\n",
      "          tomato_mosaic_virus       0.00      0.00      0.00        54\n",
      "tomato_yellow_leaf_curl_virus       0.28      0.92      0.43       854\n",
      "      two-spotted_spider_mite       0.00      0.00      0.00       280\n",
      "\n",
      "                     accuracy                           0.27      2907\n",
      "                    macro avg       0.03      0.09      0.05      2907\n",
      "                 weighted avg       0.09      0.27      0.13      2907\n",
      "\n",
      "[[  6   0   0   0   0   0   0   0 339   0]\n",
      " [  2   0   0   0   0   0   0   0 151   0]\n",
      " [  1   0   0   0   0   0   0   0 233   0]\n",
      " [  7   0   0   0   0  31   0   0 271   0]\n",
      " [  0   0   0   0   0   0   0   0 145   0]\n",
      " [ 27   0   0   0   0   0   0   0 266   0]\n",
      " [  0   0   0   0   0   0   0   0 240   0]\n",
      " [  0   0   0   0   0   0   0   0  54   0]\n",
      " [ 68   0   0   0   0   0   0   0 786   0]\n",
      " [  0   0   0   0   0   0   0   0 280   0]]\n"
     ]
    },
    {
     "name": "stderr",
     "output_type": "stream",
     "text": [
      "C:\\Users\\ravic\\anaconda3\\lib\\site-packages\\sklearn\\metrics\\_classification.py:1318: UndefinedMetricWarning: Precision and F-score are ill-defined and being set to 0.0 in labels with no predicted samples. Use `zero_division` parameter to control this behavior.\n",
      "  _warn_prf(average, modifier, msg_start, len(result))\n",
      "C:\\Users\\ravic\\anaconda3\\lib\\site-packages\\sklearn\\metrics\\_classification.py:1318: UndefinedMetricWarning: Precision and F-score are ill-defined and being set to 0.0 in labels with no predicted samples. Use `zero_division` parameter to control this behavior.\n",
      "  _warn_prf(average, modifier, msg_start, len(result))\n",
      "C:\\Users\\ravic\\anaconda3\\lib\\site-packages\\sklearn\\metrics\\_classification.py:1318: UndefinedMetricWarning: Precision and F-score are ill-defined and being set to 0.0 in labels with no predicted samples. Use `zero_division` parameter to control this behavior.\n",
      "  _warn_prf(average, modifier, msg_start, len(result))\n"
     ]
    }
   ],
   "source": [
    "#classification report\n",
    "y_predict = svm_si.fit(Ftrain, Ltrain).predict(Ftest)\n",
    "class_names = target.unique()\n",
    "print(classification_report(Ltest, y_predict, target_names=class_names))\n",
    "print(confusion_matrix(Ltest, y_predict))"
   ]
  },
  {
   "cell_type": "markdown",
   "id": "8aa412dd",
   "metadata": {},
   "source": [
    "# Bernouli Naive bayes on green data"
   ]
  },
  {
   "cell_type": "code",
   "execution_count": 49,
   "id": "b6622b8d",
   "metadata": {},
   "outputs": [
    {
     "data": {
      "text/plain": [
       "0.31613347093223254"
      ]
     },
     "execution_count": 49,
     "metadata": {},
     "output_type": "execute_result"
    }
   ],
   "source": [
    "bnb.fit(Ftrain, Ltrain)\n",
    "y_pred = bnb.predict(Ftest)\n",
    "metrics.accuracy_score(Ltest, y_pred)"
   ]
  },
  {
   "cell_type": "code",
   "execution_count": 50,
   "id": "f3c6b16f",
   "metadata": {},
   "outputs": [
    {
     "name": "stdout",
     "output_type": "stream",
     "text": [
      "                               precision    recall  f1-score   support\n",
      "\n",
      "               bacterial_spot       0.00      0.00      0.00       345\n",
      "                 early_blight       0.27      0.08      0.12       153\n",
      "                      healthy       0.28      0.04      0.07       234\n",
      "                  late_blight       0.84      0.12      0.21       309\n",
      "                    leaf_mold       0.13      0.02      0.04       145\n",
      "           septoria_leaf_spot       0.18      0.03      0.05       293\n",
      "                  target_spot       0.00      0.00      0.00       240\n",
      "          tomato_mosaic_virus       0.00      0.00      0.00        54\n",
      "tomato_yellow_leaf_curl_virus       0.32      1.00      0.48       854\n",
      "      two-spotted_spider_mite       0.00      0.00      0.00       280\n",
      "\n",
      "                     accuracy                           0.32      2907\n",
      "                    macro avg       0.20      0.13      0.10      2907\n",
      "                 weighted avg       0.24      0.32      0.18      2907\n",
      "\n",
      "[[  0   0   0   0   0   0   0   0 345   0]\n",
      " [  0  12   4   6   1   9   1   5 114   1]\n",
      " [  0   9   9   0   2   8   1   0 205   0]\n",
      " [  0  10   8  37  10  11   2  12 219   0]\n",
      " [  0   4   1   1   3   3   0   2 129   2]\n",
      " [  0   8   3   0   6   8   1   2 262   3]\n",
      " [  0   2   2   0   1   1   0   0 234   0]\n",
      " [  0   0   2   0   0   3   0   0  48   1]\n",
      " [  0   0   2   0   0   2   0   0 850   0]\n",
      " [  0   0   1   0   0   0   0   0 279   0]]\n"
     ]
    },
    {
     "name": "stderr",
     "output_type": "stream",
     "text": [
      "C:\\Users\\ravic\\anaconda3\\lib\\site-packages\\sklearn\\metrics\\_classification.py:1318: UndefinedMetricWarning: Precision and F-score are ill-defined and being set to 0.0 in labels with no predicted samples. Use `zero_division` parameter to control this behavior.\n",
      "  _warn_prf(average, modifier, msg_start, len(result))\n",
      "C:\\Users\\ravic\\anaconda3\\lib\\site-packages\\sklearn\\metrics\\_classification.py:1318: UndefinedMetricWarning: Precision and F-score are ill-defined and being set to 0.0 in labels with no predicted samples. Use `zero_division` parameter to control this behavior.\n",
      "  _warn_prf(average, modifier, msg_start, len(result))\n",
      "C:\\Users\\ravic\\anaconda3\\lib\\site-packages\\sklearn\\metrics\\_classification.py:1318: UndefinedMetricWarning: Precision and F-score are ill-defined and being set to 0.0 in labels with no predicted samples. Use `zero_division` parameter to control this behavior.\n",
      "  _warn_prf(average, modifier, msg_start, len(result))\n"
     ]
    }
   ],
   "source": [
    "class_names = target.unique()\n",
    "print(classification_report(Ltest, y_pred, target_names=class_names))\n",
    "print(confusion_matrix(Ltest, y_pred))"
   ]
  },
  {
   "cell_type": "markdown",
   "id": "d144692e",
   "metadata": {},
   "source": [
    "# Multinomial Naive bayes on Green data"
   ]
  },
  {
   "cell_type": "code",
   "execution_count": 51,
   "id": "a7a34c33",
   "metadata": {},
   "outputs": [
    {
     "data": {
      "text/plain": [
       "0.22359821121431028"
      ]
     },
     "execution_count": 51,
     "metadata": {},
     "output_type": "execute_result"
    }
   ],
   "source": [
    "mnb.fit(Ftrain, Ltrain)\n",
    "y_pred = mnb.predict(Ftest)\n",
    "metrics.accuracy_score(Ltest, y_pred)"
   ]
  },
  {
   "cell_type": "code",
   "execution_count": 52,
   "id": "441ea45d",
   "metadata": {},
   "outputs": [
    {
     "name": "stdout",
     "output_type": "stream",
     "text": [
      "                               precision    recall  f1-score   support\n",
      "\n",
      "               bacterial_spot       0.31      0.19      0.24       345\n",
      "                 early_blight       0.11      0.37      0.17       153\n",
      "                      healthy       0.20      0.56      0.29       234\n",
      "                  late_blight       0.17      0.15      0.16       309\n",
      "                    leaf_mold       0.36      0.35      0.36       145\n",
      "           septoria_leaf_spot       0.29      0.07      0.11       293\n",
      "                  target_spot       0.40      0.15      0.22       240\n",
      "          tomato_mosaic_virus       0.07      0.41      0.12        54\n",
      "tomato_yellow_leaf_curl_virus       0.48      0.13      0.21       854\n",
      "      two-spotted_spider_mite       0.28      0.38      0.32       280\n",
      "\n",
      "                     accuracy                           0.22      2907\n",
      "                    macro avg       0.27      0.28      0.22      2907\n",
      "                 weighted avg       0.33      0.22      0.22      2907\n",
      "\n",
      "[[ 67 127  40  28   2   7  10  14  14  36]\n",
      " [ 26  57   3  13   9   1   3  14   6  21]\n",
      " [  4   2 132  17   2  18  15  17  22   5]\n",
      " [ 21  43 126  46  23   0   4  17  15  14]\n",
      " [  4   5  10  17  51   1   2  34  13   8]\n",
      " [ 18  23  78  32  26  20  10  35  26  25]\n",
      " [ 25  47  10  33   5   4  37  27   7  45]\n",
      " [  1   0   5  10   3   1   0  22   8   4]\n",
      " [ 33 165 249  50  15  10   3 105 113 111]\n",
      " [ 14  57  12  24   6   7   8  37  10 105]]\n"
     ]
    }
   ],
   "source": [
    "class_names = target.unique()\n",
    "print(classification_report(Ltest, y_pred, target_names=class_names))\n",
    "print(confusion_matrix(Ltest, y_pred))"
   ]
  },
  {
   "cell_type": "markdown",
   "id": "a6a80ecb",
   "metadata": {},
   "source": [
    "# Blue channel data"
   ]
  },
  {
   "cell_type": "code",
   "execution_count": 53,
   "id": "06094596",
   "metadata": {},
   "outputs": [],
   "source": [
    "#reading numpy array data\n",
    "blue_test = np.load('blue_data.npy')\n",
    "#reading csv file\n",
    "blue_df = pd.read_csv('blue_data.csv')\n",
    "#assigning features and target to split the data\n",
    "features = pd.DataFrame(blue_test)\n",
    "features = features.values\n",
    "target = blue_df['disease']\n",
    "#splitting the data to train and test\n",
    "Ftrain,Ftest,Ltrain,Ltest=train_test_split(features,target, test_size=0.20, random_state=24)"
   ]
  },
  {
   "cell_type": "markdown",
   "id": "4d40997b",
   "metadata": {},
   "source": [
    "# SVM(poly) on blue data"
   ]
  },
  {
   "cell_type": "code",
   "execution_count": 54,
   "id": "39b88095",
   "metadata": {},
   "outputs": [
    {
     "name": "stdout",
     "output_type": "stream",
     "text": [
      "0.6360509115927072\n"
     ]
    }
   ],
   "source": [
    "svm_poly.fit(Ftrain,Ltrain)\n",
    "y_pred = svm_poly.predict(Ftest)\n",
    "print(accuracy_score(Ltest,y_pred))"
   ]
  },
  {
   "cell_type": "code",
   "execution_count": 55,
   "id": "dc98d740",
   "metadata": {},
   "outputs": [
    {
     "name": "stdout",
     "output_type": "stream",
     "text": [
      "                               precision    recall  f1-score   support\n",
      "\n",
      "               bacterial_spot       0.59      0.77      0.67       345\n",
      "                 early_blight       0.22      0.25      0.24       153\n",
      "                      healthy       0.79      0.71      0.75       234\n",
      "                  late_blight       0.66      0.57      0.61       309\n",
      "                    leaf_mold       0.41      0.50      0.45       145\n",
      "           septoria_leaf_spot       0.51      0.47      0.49       293\n",
      "                  target_spot       0.45      0.38      0.41       240\n",
      "          tomato_mosaic_virus       0.31      0.20      0.25        54\n",
      "tomato_yellow_leaf_curl_virus       0.83      0.85      0.84       854\n",
      "      two-spotted_spider_mite       0.65      0.59      0.62       280\n",
      "\n",
      "                     accuracy                           0.64      2907\n",
      "                    macro avg       0.54      0.53      0.53      2907\n",
      "                 weighted avg       0.64      0.64      0.63      2907\n",
      "\n",
      "[[267   9   6   8   3   5   5   0  35   7]\n",
      " [ 28  38   2  18   5  17  16   1  25   3]\n",
      " [ 14   8 166   6   3   5  26   0   0   6]\n",
      " [ 12  37   9 176  17  14  11   3  25   5]\n",
      " [  6  13   1  13  73  22   2   3   7   5]\n",
      " [ 16  15   5  24  38 137  13   7  23  15]\n",
      " [ 31  27  18   3  12  19  91   0   9  30]\n",
      " [  3   0   0   4   8  19   1  11   4   4]\n",
      " [ 44  14   1  14  13  20   6   3 725  14]\n",
      " [ 28   9   2   1   6  11  30   7  21 165]]\n"
     ]
    }
   ],
   "source": [
    "#classification report\n",
    "y_predict = svm_poly.fit(Ftrain, Ltrain).predict(Ftest)\n",
    "class_names = target.unique()\n",
    "print(classification_report(Ltest, y_predict, target_names=class_names))\n",
    "print(confusion_matrix(Ltest, y_predict))"
   ]
  },
  {
   "cell_type": "markdown",
   "id": "5226f4f2",
   "metadata": {},
   "source": [
    "# SVM(RBF) on blue data"
   ]
  },
  {
   "cell_type": "code",
   "execution_count": 56,
   "id": "183a5680",
   "metadata": {},
   "outputs": [
    {
     "name": "stdout",
     "output_type": "stream",
     "text": [
      "0.7227382180942552\n"
     ]
    }
   ],
   "source": [
    "svm_rbf.fit(Ftrain,Ltrain)\n",
    "y_pred = svm_rbf.predict(Ftest)\n",
    "print(accuracy_score(Ltest,y_pred))"
   ]
  },
  {
   "cell_type": "code",
   "execution_count": 57,
   "id": "22270861",
   "metadata": {},
   "outputs": [
    {
     "name": "stdout",
     "output_type": "stream",
     "text": [
      "                               precision    recall  f1-score   support\n",
      "\n",
      "               bacterial_spot       0.75      0.81      0.78       345\n",
      "                 early_blight       0.45      0.24      0.31       153\n",
      "                      healthy       0.87      0.84      0.85       234\n",
      "                  late_blight       0.74      0.69      0.71       309\n",
      "                    leaf_mold       0.69      0.50      0.58       145\n",
      "           septoria_leaf_spot       0.59      0.60      0.60       293\n",
      "                  target_spot       0.59      0.61      0.60       240\n",
      "          tomato_mosaic_virus       0.54      0.26      0.35        54\n",
      "tomato_yellow_leaf_curl_virus       0.80      0.91      0.85       854\n",
      "      two-spotted_spider_mite       0.66      0.69      0.67       280\n",
      "\n",
      "                     accuracy                           0.72      2907\n",
      "                    macro avg       0.67      0.61      0.63      2907\n",
      "                 weighted avg       0.71      0.72      0.71      2907\n",
      "\n",
      "[[279   1   6   5   0   3   3   0  40   8]\n",
      " [ 16  36   2  23   2   9  21   1  37   6]\n",
      " [  5   2 196   6   0   4  17   0   1   3]\n",
      " [  2  18   7 213  10  15   9   3  24   8]\n",
      " [  3   2   1  10  72  25   9   1  12  10]\n",
      " [ 14   6   0  18  16 177  17   1  31  13]\n",
      " [ 16   7  11   3   2  17 147   3   8  26]\n",
      " [  2   0   0   5   3  17   0  14   6   7]\n",
      " [ 27   1   1   5   0  21   4   1 774  20]\n",
      " [ 10   7   1   0   0  10  21   2  36 193]]\n"
     ]
    }
   ],
   "source": [
    "#classification report\n",
    "y_predict = svm_rbf.fit(Ftrain, Ltrain).predict(Ftest)\n",
    "class_names = target.unique()\n",
    "print(classification_report(Ltest, y_predict, target_names=class_names))\n",
    "print(confusion_matrix(Ltest, y_predict))"
   ]
  },
  {
   "cell_type": "markdown",
   "id": "09f47e7e",
   "metadata": {},
   "source": [
    "# SVM(sigmoid) on blue data"
   ]
  },
  {
   "cell_type": "code",
   "execution_count": 58,
   "id": "4401c844",
   "metadata": {},
   "outputs": [
    {
     "name": "stdout",
     "output_type": "stream",
     "text": [
      "0.23357413140694874\n"
     ]
    }
   ],
   "source": [
    "svm_si.fit(Ftrain,Ltrain)\n",
    "y_pred = svm_si.predict(Ftest)\n",
    "print(accuracy_score(Ltest,y_pred))"
   ]
  },
  {
   "cell_type": "code",
   "execution_count": 59,
   "id": "4372e59f",
   "metadata": {},
   "outputs": [
    {
     "name": "stdout",
     "output_type": "stream",
     "text": [
      "                               precision    recall  f1-score   support\n",
      "\n",
      "               bacterial_spot       0.37      0.04      0.07       345\n",
      "                 early_blight       0.00      0.00      0.00       153\n",
      "                      healthy       0.00      0.00      0.00       234\n",
      "                  late_blight       0.00      0.00      0.00       309\n",
      "                    leaf_mold       0.00      0.00      0.00       145\n",
      "           septoria_leaf_spot       0.01      0.01      0.01       293\n",
      "                  target_spot       0.00      0.00      0.00       240\n",
      "          tomato_mosaic_virus       0.00      0.00      0.00        54\n",
      "tomato_yellow_leaf_curl_virus       0.26      0.78      0.38       854\n",
      "      two-spotted_spider_mite       0.00      0.00      0.00       280\n",
      "\n",
      "                     accuracy                           0.23      2907\n",
      "                    macro avg       0.06      0.08      0.05      2907\n",
      "                 weighted avg       0.12      0.23      0.12      2907\n",
      "\n",
      "[[ 14   0   0   0   0  32   0   0 299   0]\n",
      " [  4   0   0   0   0   8   0   0 141   0]\n",
      " [  4   0   0   0   0   4   0   0 226   0]\n",
      " [  2   0  14   0  19   8   0   0 266   0]\n",
      " [  0   0   0   0   0   1   0   0 144   0]\n",
      " [  0   0   0   0   0   3   0   0 290   0]\n",
      " [  0   0   0   0   1   0   0   0 239   0]\n",
      " [  0   0   0   0   0   0   0   0  54   0]\n",
      " [ 12   0   0   0  11 169   0   0 662   0]\n",
      " [  2   0   0   0   0   6   0   0 272   0]]\n"
     ]
    },
    {
     "name": "stderr",
     "output_type": "stream",
     "text": [
      "C:\\Users\\ravic\\anaconda3\\lib\\site-packages\\sklearn\\metrics\\_classification.py:1318: UndefinedMetricWarning: Precision and F-score are ill-defined and being set to 0.0 in labels with no predicted samples. Use `zero_division` parameter to control this behavior.\n",
      "  _warn_prf(average, modifier, msg_start, len(result))\n",
      "C:\\Users\\ravic\\anaconda3\\lib\\site-packages\\sklearn\\metrics\\_classification.py:1318: UndefinedMetricWarning: Precision and F-score are ill-defined and being set to 0.0 in labels with no predicted samples. Use `zero_division` parameter to control this behavior.\n",
      "  _warn_prf(average, modifier, msg_start, len(result))\n",
      "C:\\Users\\ravic\\anaconda3\\lib\\site-packages\\sklearn\\metrics\\_classification.py:1318: UndefinedMetricWarning: Precision and F-score are ill-defined and being set to 0.0 in labels with no predicted samples. Use `zero_division` parameter to control this behavior.\n",
      "  _warn_prf(average, modifier, msg_start, len(result))\n"
     ]
    }
   ],
   "source": [
    "#classification report\n",
    "y_predict = svm_si.fit(Ftrain, Ltrain).predict(Ftest)\n",
    "class_names = target.unique()\n",
    "print(classification_report(Ltest, y_predict, target_names=class_names))\n",
    "print(confusion_matrix(Ltest, y_predict))"
   ]
  },
  {
   "cell_type": "markdown",
   "id": "7401f4ab",
   "metadata": {},
   "source": [
    "# Bernouli Naive bayes on blue data"
   ]
  },
  {
   "cell_type": "code",
   "execution_count": 60,
   "id": "a8ddf84b",
   "metadata": {},
   "outputs": [
    {
     "data": {
      "text/plain": [
       "0.34812521499828003"
      ]
     },
     "execution_count": 60,
     "metadata": {},
     "output_type": "execute_result"
    }
   ],
   "source": [
    "bnb.fit(Ftrain, Ltrain)\n",
    "y_pred = bnb.predict(Ftest)\n",
    "metrics.accuracy_score(Ltest, y_pred)"
   ]
  },
  {
   "cell_type": "code",
   "execution_count": 61,
   "id": "944621bd",
   "metadata": {},
   "outputs": [
    {
     "name": "stdout",
     "output_type": "stream",
     "text": [
      "                               precision    recall  f1-score   support\n",
      "\n",
      "               bacterial_spot       0.24      0.92      0.38       345\n",
      "                 early_blight       0.12      0.05      0.07       153\n",
      "                      healthy       0.22      0.15      0.18       234\n",
      "                  late_blight       0.56      0.24      0.34       309\n",
      "                    leaf_mold       0.16      0.12      0.14       145\n",
      "           septoria_leaf_spot       0.26      0.11      0.15       293\n",
      "                  target_spot       0.22      0.09      0.13       240\n",
      "          tomato_mosaic_virus       0.05      0.02      0.03        54\n",
      "tomato_yellow_leaf_curl_virus       0.74      0.53      0.62       854\n",
      "      two-spotted_spider_mite       0.22      0.20      0.21       280\n",
      "\n",
      "                     accuracy                           0.35      2907\n",
      "                    macro avg       0.28      0.24      0.22      2907\n",
      "                 weighted avg       0.40      0.35      0.33      2907\n",
      "\n",
      "[[316   0   8   1   5   3   5   0   1   6]\n",
      " [ 60   8   6  28   7   8   2   0  23  11]\n",
      " [125   8  34   1  22  13   5   2  14  10]\n",
      " [151  18   9  74   8   6   9   2  25   7]\n",
      " [ 82   3   6   6  17   9   4   3  13   2]\n",
      " [145  13  19   7  13  31   9   7  26  23]\n",
      " [127   2  22   0  11  13  21   0  16  28]\n",
      " [ 37   0   4   0   0   3   0   1   4   5]\n",
      " [170  11  22  15  13  22  26   6 453 116]\n",
      " [127   3  22   0   9  12  13   0  37  57]]\n"
     ]
    }
   ],
   "source": [
    "class_names = target.unique()\n",
    "print(classification_report(Ltest, y_pred, target_names=class_names))\n",
    "print(confusion_matrix(Ltest, y_pred))"
   ]
  },
  {
   "cell_type": "markdown",
   "id": "cbf0037b",
   "metadata": {},
   "source": [
    "# Multinomial Naive bayes on blue data"
   ]
  },
  {
   "cell_type": "code",
   "execution_count": 62,
   "id": "050a9f46",
   "metadata": {},
   "outputs": [
    {
     "data": {
      "text/plain": [
       "0.4327485380116959"
      ]
     },
     "execution_count": 62,
     "metadata": {},
     "output_type": "execute_result"
    }
   ],
   "source": [
    "mnb.fit(Ftrain, Ltrain)\n",
    "y_pred = mnb.predict(Ftest)\n",
    "metrics.accuracy_score(Ltest, y_pred)"
   ]
  },
  {
   "cell_type": "code",
   "execution_count": 63,
   "id": "9a916b04",
   "metadata": {},
   "outputs": [
    {
     "name": "stdout",
     "output_type": "stream",
     "text": [
      "                               precision    recall  f1-score   support\n",
      "\n",
      "               bacterial_spot       0.38      0.40      0.39       345\n",
      "                 early_blight       0.10      0.22      0.14       153\n",
      "                      healthy       0.43      0.61      0.51       234\n",
      "                  late_blight       0.59      0.26      0.36       309\n",
      "                    leaf_mold       0.37      0.57      0.45       145\n",
      "           septoria_leaf_spot       0.26      0.06      0.09       293\n",
      "                  target_spot       0.35      0.21      0.26       240\n",
      "          tomato_mosaic_virus       0.11      0.57      0.19        54\n",
      "tomato_yellow_leaf_curl_virus       0.79      0.66      0.72       854\n",
      "      two-spotted_spider_mite       0.37      0.43      0.40       280\n",
      "\n",
      "                     accuracy                           0.43      2907\n",
      "                    macro avg       0.38      0.40      0.35      2907\n",
      "                 weighted avg       0.49      0.43      0.44      2907\n",
      "\n",
      "[[139  79  18   9   6   4  20  11  31  28]\n",
      " [ 25  33  12   6   8   5   5  18  25  16]\n",
      " [  2  11 143  17   4   1  42   5   0   9]\n",
      " [ 25  22  79  81  37   6   7  26  15  11]\n",
      " [  7   2   5   8  82   5   2  15   7  12]\n",
      " [ 34  40   9  10  53  17  10  47  44  29]\n",
      " [ 43  46  37   2   2   8  51  12   7  32]\n",
      " [  1   0   0   2   6   4   0  31   2   8]\n",
      " [ 67  57   6   3  21   9   3  70 560  58]\n",
      " [ 22  43  22   0   2   6   5  38  21 121]]\n"
     ]
    }
   ],
   "source": [
    "class_names = target.unique()\n",
    "print(classification_report(Ltest, y_pred, target_names=class_names))\n",
    "print(confusion_matrix(Ltest, y_pred))"
   ]
  },
  {
   "cell_type": "code",
   "execution_count": 64,
   "id": "195a0b21",
   "metadata": {},
   "outputs": [
    {
     "name": "stdout",
     "output_type": "stream",
     "text": [
      "4148.078828334808\n"
     ]
    }
   ],
   "source": [
    "end_time = time.time()\n",
    "print(end_time - start_time)"
   ]
  }
 ],
 "metadata": {
  "kernelspec": {
   "display_name": "Python 3 (ipykernel)",
   "language": "python",
   "name": "python3"
  },
  "language_info": {
   "codemirror_mode": {
    "name": "ipython",
    "version": 3
   },
   "file_extension": ".py",
   "mimetype": "text/x-python",
   "name": "python",
   "nbconvert_exporter": "python",
   "pygments_lexer": "ipython3",
   "version": "3.9.12"
  }
 },
 "nbformat": 4,
 "nbformat_minor": 5
}
