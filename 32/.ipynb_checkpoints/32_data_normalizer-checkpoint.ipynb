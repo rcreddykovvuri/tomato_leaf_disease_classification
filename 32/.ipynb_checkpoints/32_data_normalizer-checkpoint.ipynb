{
 "cells": [
  {
   "cell_type": "code",
   "execution_count": 1,
   "id": "bcdb1517",
   "metadata": {},
   "outputs": [],
   "source": [
    "import numpy as np #importing numpy\n",
    "import pandas as pd #importing pandas\n",
    "import PIL #importing pillow for image processing\n",
    "from PIL import Image#importing image from pillow library\n",
    "import skimage#importing skimage library\n",
    "import os#importing os library\n",
    "import time#importing time library\n",
    "\n",
    "#Capture start time of the program\n",
    "start_time = time.time()"
   ]
  },
  {
   "cell_type": "code",
   "execution_count": 2,
   "id": "9ec45970",
   "metadata": {},
   "outputs": [],
   "source": [
    "os.chdir('D://DKIT//dissertation//Dataset_of_Tomato_Leaves//plantvillage//Preprocessed_data//32//vector//')"
   ]
  },
  {
   "cell_type": "code",
   "execution_count": 3,
   "id": "cbc71f85",
   "metadata": {},
   "outputs": [],
   "source": [
    "#importing classification report and confusion matrix\n",
    "from sklearn.metrics import classification_report, confusion_matrix"
   ]
  },
  {
   "cell_type": "markdown",
   "id": "7139bf53",
   "metadata": {},
   "source": [
    "# KNN on rgb data"
   ]
  },
  {
   "cell_type": "code",
   "execution_count": 4,
   "id": "9386938c",
   "metadata": {},
   "outputs": [],
   "source": [
    "#reading numpy array data\n",
    "rgb_test = np.load('rgb_data.npy')\n",
    "#reading csv file\n",
    "rgb_df = pd.read_csv('rgb_data.csv')"
   ]
  },
  {
   "cell_type": "code",
   "execution_count": 5,
   "id": "4f95f2f6",
   "metadata": {},
   "outputs": [],
   "source": [
    "loaded = []\n",
    "for i in rgb_test:\n",
    "    k = []\n",
    "    k = np.asarray(i,dtype='uint8')\n",
    "    loaded.append(k)"
   ]
  },
  {
   "cell_type": "code",
   "execution_count": 6,
   "id": "c6d5658c",
   "metadata": {},
   "outputs": [],
   "source": [
    "features = loaded\n",
    "target = rgb_df['disease']\n",
    "from sklearn.preprocessing import MinMaxScaler\n",
    "minmax = MinMaxScaler()\n",
    "from sklearn.model_selection import train_test_split\n",
    "Ftrain,Ftest,Ltrain,Ltest=train_test_split(features,target, test_size=0.20, random_state=24)"
   ]
  },
  {
   "cell_type": "code",
   "execution_count": 7,
   "id": "8cc86824",
   "metadata": {},
   "outputs": [],
   "source": [
    "Ftrain = minmax.fit_transform(Ftrain)\n",
    "Ftest = minmax.fit_transform(Ftest)"
   ]
  },
  {
   "cell_type": "code",
   "execution_count": 8,
   "id": "6f1171c6",
   "metadata": {},
   "outputs": [],
   "source": [
    "from sklearn.neighbors import KNeighborsClassifier\n",
    "kmodel = KNeighborsClassifier(n_neighbors=75)"
   ]
  },
  {
   "cell_type": "code",
   "execution_count": 9,
   "id": "b9fdc978",
   "metadata": {},
   "outputs": [
    {
     "data": {
      "text/plain": [
       "0.5909872721018232"
      ]
     },
     "execution_count": 9,
     "metadata": {},
     "output_type": "execute_result"
    }
   ],
   "source": [
    "kmodel.fit(Ftrain,Ltrain)\n",
    "kmodel.score(Ftest,Ltest)"
   ]
  },
  {
   "cell_type": "code",
   "execution_count": 10,
   "id": "cc56686d",
   "metadata": {},
   "outputs": [
    {
     "name": "stdout",
     "output_type": "stream",
     "text": [
      "                               precision    recall  f1-score   support\n",
      "\n",
      "               bacterial_spot       0.39      0.82      0.53       345\n",
      "                 early_blight       0.00      0.00      0.00       153\n",
      "                      healthy       0.46      0.85      0.60       234\n",
      "                  late_blight       0.55      0.44      0.49       309\n",
      "                    leaf_mold       0.69      0.51      0.59       145\n",
      "           septoria_leaf_spot       0.64      0.40      0.49       293\n",
      "                  target_spot       0.60      0.31      0.41       240\n",
      "          tomato_mosaic_virus       0.73      0.15      0.25        54\n",
      "tomato_yellow_leaf_curl_virus       0.86      0.78      0.82       854\n",
      "      two-spotted_spider_mite       0.53      0.55      0.54       280\n",
      "\n",
      "                     accuracy                           0.59      2907\n",
      "                    macro avg       0.54      0.48      0.47      2907\n",
      "                 weighted avg       0.61      0.59      0.57      2907\n",
      "\n",
      "[[282   0  33  11   0   1   0   0  16   2]\n",
      " [ 85   0  14   5   1   7  18   0  15   8]\n",
      " [ 14   0 200  14   0   0   1   0   0   5]\n",
      " [ 50   0  42 137  16  33   2   1  16  12]\n",
      " [ 17   0  16  18  74   4   1   2   4   9]\n",
      " [ 25   0  31  42  12 118  15   0  27  23]\n",
      " [ 69   0  49   3   0   7  75   0   3  34]\n",
      " [  3   0  10   9   4   3   0   8   2  15]\n",
      " [111   0  30   0   0  10   2   0 670  31]\n",
      " [ 65   0  13  12   0   1  12   0  23 154]]\n"
     ]
    },
    {
     "name": "stderr",
     "output_type": "stream",
     "text": [
      "C:\\Users\\ravic\\anaconda3\\lib\\site-packages\\sklearn\\metrics\\_classification.py:1248: UndefinedMetricWarning: Precision and F-score are ill-defined and being set to 0.0 in labels with no predicted samples. Use `zero_division` parameter to control this behavior.\n",
      "  _warn_prf(average, modifier, msg_start, len(result))\n",
      "C:\\Users\\ravic\\anaconda3\\lib\\site-packages\\sklearn\\metrics\\_classification.py:1248: UndefinedMetricWarning: Precision and F-score are ill-defined and being set to 0.0 in labels with no predicted samples. Use `zero_division` parameter to control this behavior.\n",
      "  _warn_prf(average, modifier, msg_start, len(result))\n",
      "C:\\Users\\ravic\\anaconda3\\lib\\site-packages\\sklearn\\metrics\\_classification.py:1248: UndefinedMetricWarning: Precision and F-score are ill-defined and being set to 0.0 in labels with no predicted samples. Use `zero_division` parameter to control this behavior.\n",
      "  _warn_prf(average, modifier, msg_start, len(result))\n"
     ]
    }
   ],
   "source": [
    "#printing results of the kmodel\n",
    "y_predict = kmodel.fit(Ftrain, Ltrain).predict(Ftest)\n",
    "class_names = target.unique()\n",
    "print(classification_report(Ltest, y_predict, target_names=class_names))\n",
    "print(confusion_matrix(Ltest, y_predict))"
   ]
  },
  {
   "cell_type": "markdown",
   "id": "d5c58638",
   "metadata": {},
   "source": [
    "# Logistic on rgb data"
   ]
  },
  {
   "cell_type": "code",
   "execution_count": 11,
   "id": "a84836ef",
   "metadata": {},
   "outputs": [
    {
     "data": {
      "text/plain": [
       "0.739594083247334"
      ]
     },
     "execution_count": 11,
     "metadata": {},
     "output_type": "execute_result"
    }
   ],
   "source": [
    "from sklearn.linear_model import LogisticRegression\n",
    "model=LogisticRegression(solver='lbfgs', max_iter=10000)\n",
    "model.fit(Ftrain,Ltrain)\n",
    "model.score(Ftest,Ltest)"
   ]
  },
  {
   "cell_type": "code",
   "execution_count": 12,
   "id": "a1f10c9f",
   "metadata": {},
   "outputs": [
    {
     "name": "stdout",
     "output_type": "stream",
     "text": [
      "                               precision    recall  f1-score   support\n",
      "\n",
      "               bacterial_spot       0.76      0.78      0.77       345\n",
      "                 early_blight       0.40      0.42      0.41       153\n",
      "                      healthy       0.72      0.75      0.73       234\n",
      "                  late_blight       0.59      0.65      0.62       309\n",
      "                    leaf_mold       0.63      0.63      0.63       145\n",
      "           septoria_leaf_spot       0.76      0.65      0.70       293\n",
      "                  target_spot       0.64      0.64      0.64       240\n",
      "          tomato_mosaic_virus       0.74      0.78      0.76        54\n",
      "tomato_yellow_leaf_curl_virus       0.93      0.88      0.91       854\n",
      "      two-spotted_spider_mite       0.67      0.76      0.71       280\n",
      "\n",
      "                     accuracy                           0.74      2907\n",
      "                    macro avg       0.69      0.69      0.69      2907\n",
      "                 weighted avg       0.75      0.74      0.74      2907\n",
      "\n",
      "[[270  24   8  22   0   2   5   0  13   1]\n",
      " [ 18  64   2  28   2   4  17   4   4  10]\n",
      " [  4   5 175  22   6   1  15   0   0   6]\n",
      " [ 14  27  17 200  13  10   3   1  10  14]\n",
      " [  0   8   6   9  92  18   2   0   4   6]\n",
      " [  4   7   7  17  18 190  16   8  10  16]\n",
      " [  2  10  22   4   4  11 153   0   0  34]\n",
      " [  0   0   1   0   2   5   2  42   0   2]\n",
      " [ 38   6   0  25   7   5   8   0 751  14]\n",
      " [  5   8   5  11   1   4  19   2  12 213]]\n"
     ]
    }
   ],
   "source": [
    "#classification report\n",
    "y_predict = model.fit(Ftrain, Ltrain).predict(Ftest)\n",
    "class_names = target.unique()\n",
    "print(classification_report(Ltest, y_predict, target_names=class_names))\n",
    "print(confusion_matrix(Ltest, y_predict))"
   ]
  },
  {
   "cell_type": "markdown",
   "id": "6fe194bc",
   "metadata": {},
   "source": [
    "# SVM on RGB data"
   ]
  },
  {
   "cell_type": "code",
   "execution_count": 13,
   "id": "2427ed51",
   "metadata": {},
   "outputs": [
    {
     "name": "stdout",
     "output_type": "stream",
     "text": [
      "0.7344341245270037\n"
     ]
    }
   ],
   "source": [
    "from sklearn.svm import SVC\n",
    "from sklearn.metrics import accuracy_score\n",
    "\n",
    "clf = SVC(kernel='linear')\n",
    "clf.fit(Ftrain,Ltrain)\n",
    "y_pred = clf.predict(Ftest)\n",
    "print(accuracy_score(Ltest,y_pred))"
   ]
  },
  {
   "cell_type": "code",
   "execution_count": 14,
   "id": "4103cc2e",
   "metadata": {},
   "outputs": [
    {
     "name": "stdout",
     "output_type": "stream",
     "text": [
      "                               precision    recall  f1-score   support\n",
      "\n",
      "               bacterial_spot       0.68      0.83      0.75       345\n",
      "                 early_blight       0.33      0.44      0.38       153\n",
      "                      healthy       0.74      0.83      0.78       234\n",
      "                  late_blight       0.61      0.66      0.63       309\n",
      "                    leaf_mold       0.69      0.60      0.64       145\n",
      "           septoria_leaf_spot       0.73      0.66      0.69       293\n",
      "                  target_spot       0.68      0.57      0.62       240\n",
      "          tomato_mosaic_virus       0.80      0.80      0.80        54\n",
      "tomato_yellow_leaf_curl_virus       0.95      0.86      0.91       854\n",
      "      two-spotted_spider_mite       0.71      0.68      0.69       280\n",
      "\n",
      "                     accuracy                           0.73      2907\n",
      "                    macro avg       0.69      0.69      0.69      2907\n",
      "                 weighted avg       0.75      0.73      0.74      2907\n",
      "\n",
      "[[286  27   4  14   0   2   2   0   9   1]\n",
      " [ 27  67   3  29   1   4   7   0   4  11]\n",
      " [  4   4 195  11   4   2  10   0   0   4]\n",
      " [ 24  31  18 203   8   8   2   0   7   8]\n",
      " [  2   5   6  14  87  21   1   3   3   3]\n",
      " [  5  14  14  24  10 192  14   6   4  10]\n",
      " [  4  33  16   3   5   9 136   1   0  33]\n",
      " [  0   0   0   0   1  10   0  43   0   0]\n",
      " [ 60   7   0  25   3   5   8   0 737   9]\n",
      " [  8  15   9  12   7  10  19   1  10 189]]\n"
     ]
    }
   ],
   "source": [
    "#classification report\n",
    "y_predict = clf.fit(Ftrain, Ltrain).predict(Ftest)\n",
    "class_names = target.unique()\n",
    "print(classification_report(Ltest, y_predict, target_names=class_names))\n",
    "print(confusion_matrix(Ltest, y_predict))"
   ]
  },
  {
   "cell_type": "markdown",
   "id": "73bef6fa",
   "metadata": {},
   "source": [
    "# Random Forest on RGB "
   ]
  },
  {
   "cell_type": "code",
   "execution_count": 15,
   "id": "6bae5a92",
   "metadata": {},
   "outputs": [],
   "source": [
    "from sklearn.ensemble import RandomForestClassifier"
   ]
  },
  {
   "cell_type": "code",
   "execution_count": 16,
   "id": "1d08a15e",
   "metadata": {},
   "outputs": [],
   "source": [
    "classifier_rf = RandomForestClassifier(random_state=42, n_jobs=-1, max_depth=5,n_estimators=100, oob_score=True)"
   ]
  },
  {
   "cell_type": "code",
   "execution_count": 17,
   "id": "938ad007",
   "metadata": {},
   "outputs": [
    {
     "data": {
      "text/plain": [
       "RandomForestClassifier(max_depth=5, n_jobs=-1, oob_score=True, random_state=42)"
      ]
     },
     "execution_count": 17,
     "metadata": {},
     "output_type": "execute_result"
    }
   ],
   "source": [
    "classifier_rf.fit(Ftrain, Ltrain)"
   ]
  },
  {
   "cell_type": "code",
   "execution_count": 18,
   "id": "e1769cec",
   "metadata": {},
   "outputs": [
    {
     "data": {
      "text/plain": [
       "0.557381280110117"
      ]
     },
     "execution_count": 18,
     "metadata": {},
     "output_type": "execute_result"
    }
   ],
   "source": [
    "classifier_rf.oob_score_"
   ]
  },
  {
   "cell_type": "code",
   "execution_count": 19,
   "id": "c144f9db",
   "metadata": {},
   "outputs": [
    {
     "name": "stdout",
     "output_type": "stream",
     "text": [
      "                               precision    recall  f1-score   support\n",
      "\n",
      "               bacterial_spot       0.77      0.57      0.66       345\n",
      "                 early_blight       0.00      0.00      0.00       153\n",
      "                      healthy       0.48      0.91      0.63       234\n",
      "                  late_blight       0.60      0.24      0.35       309\n",
      "                    leaf_mold       0.81      0.32      0.46       145\n",
      "           septoria_leaf_spot       0.51      0.52      0.51       293\n",
      "                  target_spot       0.46      0.47      0.47       240\n",
      "          tomato_mosaic_virus       0.00      0.00      0.00        54\n",
      "tomato_yellow_leaf_curl_virus       0.58      0.96      0.72       854\n",
      "      two-spotted_spider_mite       0.74      0.15      0.25       280\n",
      "\n",
      "                     accuracy                           0.57      2907\n",
      "                    macro avg       0.49      0.42      0.40      2907\n",
      "                 weighted avg       0.56      0.57      0.51      2907\n",
      "\n",
      "[[198   0  34   6   0   1   8   0  98   0]\n",
      " [ 20   0   8   4   1  25  18   0  73   4]\n",
      " [  1   0 214   5   0   1   4   0   9   0]\n",
      " [  4   0  90  75   4  47  19   0  69   1]\n",
      " [  6   0  33  13  46   9   5   0  33   0]\n",
      " [  7   0  17  12   5 151   5   0  95   1]\n",
      " [  3   0  23   3   0  36 114   0  55   6]\n",
      " [  3   0  12   4   1   5   3   0  23   3]\n",
      " [  7   0   8   2   0  12   3   0 822   0]\n",
      " [  8   0   7   1   0   7  69   0 146  42]]\n"
     ]
    },
    {
     "name": "stderr",
     "output_type": "stream",
     "text": [
      "C:\\Users\\ravic\\anaconda3\\lib\\site-packages\\sklearn\\metrics\\_classification.py:1248: UndefinedMetricWarning: Precision and F-score are ill-defined and being set to 0.0 in labels with no predicted samples. Use `zero_division` parameter to control this behavior.\n",
      "  _warn_prf(average, modifier, msg_start, len(result))\n",
      "C:\\Users\\ravic\\anaconda3\\lib\\site-packages\\sklearn\\metrics\\_classification.py:1248: UndefinedMetricWarning: Precision and F-score are ill-defined and being set to 0.0 in labels with no predicted samples. Use `zero_division` parameter to control this behavior.\n",
      "  _warn_prf(average, modifier, msg_start, len(result))\n",
      "C:\\Users\\ravic\\anaconda3\\lib\\site-packages\\sklearn\\metrics\\_classification.py:1248: UndefinedMetricWarning: Precision and F-score are ill-defined and being set to 0.0 in labels with no predicted samples. Use `zero_division` parameter to control this behavior.\n",
      "  _warn_prf(average, modifier, msg_start, len(result))\n"
     ]
    }
   ],
   "source": [
    "y_predict = classifier_rf.fit(Ftrain, Ltrain).predict(Ftest)\n",
    "class_names = target.unique()\n",
    "print(classification_report(Ltest, y_predict, target_names=class_names))\n",
    "print(confusion_matrix(Ltest, y_predict))"
   ]
  },
  {
   "cell_type": "markdown",
   "id": "b6a094e4",
   "metadata": {},
   "source": [
    "# Naive Bayes on RGB data"
   ]
  },
  {
   "cell_type": "code",
   "execution_count": 20,
   "id": "a5bc755b",
   "metadata": {},
   "outputs": [
    {
     "data": {
      "text/plain": [
       "GaussianNB()"
      ]
     },
     "execution_count": 20,
     "metadata": {},
     "output_type": "execute_result"
    }
   ],
   "source": [
    "from sklearn.naive_bayes import GaussianNB\n",
    "gnb = GaussianNB()\n",
    "gnb.fit(Ftrain, Ltrain)"
   ]
  },
  {
   "cell_type": "code",
   "execution_count": 21,
   "id": "6d162dcc",
   "metadata": {},
   "outputs": [],
   "source": [
    "y_pred = gnb.predict(Ftest)"
   ]
  },
  {
   "cell_type": "code",
   "execution_count": 22,
   "id": "8f7b4bab",
   "metadata": {},
   "outputs": [
    {
     "data": {
      "text/plain": [
       "0.4915720674234606"
      ]
     },
     "execution_count": 22,
     "metadata": {},
     "output_type": "execute_result"
    }
   ],
   "source": [
    "from sklearn import metrics\n",
    "metrics.accuracy_score(Ltest, y_pred)"
   ]
  },
  {
   "cell_type": "code",
   "execution_count": 23,
   "id": "980b37c5",
   "metadata": {},
   "outputs": [
    {
     "name": "stdout",
     "output_type": "stream",
     "text": [
      "                               precision    recall  f1-score   support\n",
      "\n",
      "               bacterial_spot       0.61      0.68      0.64       345\n",
      "                 early_blight       0.23      0.29      0.26       153\n",
      "                      healthy       0.42      0.67      0.52       234\n",
      "                  late_blight       0.48      0.35      0.40       309\n",
      "                    leaf_mold       0.59      0.43      0.50       145\n",
      "           septoria_leaf_spot       0.34      0.55      0.42       293\n",
      "                  target_spot       0.48      0.44      0.46       240\n",
      "          tomato_mosaic_virus       0.20      0.65      0.30        54\n",
      "tomato_yellow_leaf_curl_virus       0.90      0.46      0.61       854\n",
      "      two-spotted_spider_mite       0.41      0.46      0.44       280\n",
      "\n",
      "                     accuracy                           0.49      2907\n",
      "                    macro avg       0.46      0.50      0.45      2907\n",
      "                 weighted avg       0.58      0.49      0.51      2907\n",
      "\n",
      "[[235  11  34   8   2   8  12   7  20   8]\n",
      " [ 26  45   2  29   0  12  23   4   5   7]\n",
      " [  1   3 156  14   5  11  30   6   0   8]\n",
      " [  0  38  88 107  13  40   4  10   4   5]\n",
      " [  4   4   6  14  62  29   2  18   2   4]\n",
      " [  3   8  39  11  13 160  19  14   9  17]\n",
      " [  6  12   5  13   2  45 106  10   1  40]\n",
      " [  2   0   4   0   2   9   1  35   0   1]\n",
      " [ 98  50  34  22   6 101   5  50 394  94]\n",
      " [ 11  25   1   7   0  57  21  25   4 129]]\n"
     ]
    }
   ],
   "source": [
    "class_names = target.unique()\n",
    "print(classification_report(Ltest, y_pred, target_names=class_names))\n",
    "print(confusion_matrix(Ltest, y_pred))"
   ]
  },
  {
   "cell_type": "markdown",
   "id": "0ce0377b",
   "metadata": {},
   "source": [
    "# Decision Tree on RGB data"
   ]
  },
  {
   "cell_type": "code",
   "execution_count": 24,
   "id": "b9bba328",
   "metadata": {},
   "outputs": [],
   "source": [
    "from sklearn.tree import DecisionTreeClassifier\n",
    "classifier_tree = DecisionTreeClassifier()"
   ]
  },
  {
   "cell_type": "code",
   "execution_count": 25,
   "id": "b98668ce",
   "metadata": {},
   "outputs": [
    {
     "data": {
      "text/plain": [
       "0.46474028207774337"
      ]
     },
     "execution_count": 25,
     "metadata": {},
     "output_type": "execute_result"
    }
   ],
   "source": [
    "classifier_tree.fit(Ftrain, Ltrain)\n",
    "classifier_tree.score(Ftest,Ltest)"
   ]
  },
  {
   "cell_type": "code",
   "execution_count": 26,
   "id": "9fb604d9",
   "metadata": {},
   "outputs": [
    {
     "name": "stdout",
     "output_type": "stream",
     "text": [
      "                               precision    recall  f1-score   support\n",
      "\n",
      "               bacterial_spot       0.45      0.48      0.47       345\n",
      "                 early_blight       0.10      0.13      0.11       153\n",
      "                      healthy       0.59      0.64      0.61       234\n",
      "                  late_blight       0.41      0.40      0.40       309\n",
      "                    leaf_mold       0.38      0.35      0.37       145\n",
      "           septoria_leaf_spot       0.39      0.43      0.41       293\n",
      "                  target_spot       0.29      0.35      0.32       240\n",
      "          tomato_mosaic_virus       0.07      0.07      0.07        54\n",
      "tomato_yellow_leaf_curl_virus       0.75      0.61      0.67       854\n",
      "      two-spotted_spider_mite       0.35      0.33      0.34       280\n",
      "\n",
      "                     accuracy                           0.46      2907\n",
      "                    macro avg       0.38      0.38      0.38      2907\n",
      "                 weighted avg       0.49      0.46      0.47      2907\n",
      "\n",
      "[[167  19  17  25   5  15  20   4  47  26]\n",
      " [ 17  20   5  17   8  14  28   3  17  24]\n",
      " [  8  10 149  25   3   8  21   4   4   2]\n",
      " [ 25  29  25 123  20  34  10   5  22  16]\n",
      " [ 10  10   9  16  51  19   5   6  10   9]\n",
      " [ 16  17   7  29  10 126  29   7  37  15]\n",
      " [ 19  30   9  19  10  25  84   4  13  27]\n",
      " [  2   5   8   8   6   8   7   4   2   4]\n",
      " [ 89  34  11  28  13  59  31  13 525  51]\n",
      " [ 19  28  12  12   8  18  58   7  25  93]]\n"
     ]
    }
   ],
   "source": [
    "y_predict = classifier_tree.fit(Ftrain, Ltrain).predict(Ftest)\n",
    "class_names = target.unique()\n",
    "print(classification_report(Ltest, y_predict, target_names=class_names))\n",
    "print(confusion_matrix(Ltest, y_predict))"
   ]
  },
  {
   "cell_type": "markdown",
   "id": "c9daaaee",
   "metadata": {},
   "source": [
    "# KNN on grayscale data"
   ]
  },
  {
   "cell_type": "code",
   "execution_count": 27,
   "id": "57a9845e",
   "metadata": {},
   "outputs": [],
   "source": [
    "#reading numpy array data\n",
    "gray_test = np.load('gray_test.npy')\n",
    "#reading csv file\n",
    "gray_df = pd.read_csv('gray_data.csv')"
   ]
  },
  {
   "cell_type": "code",
   "execution_count": 28,
   "id": "25d4fea2",
   "metadata": {},
   "outputs": [],
   "source": [
    "loaded = []\n",
    "for i in gray_test:\n",
    "    k = []\n",
    "    k = np.asarray(i,dtype='uint8')\n",
    "    loaded.append(k)"
   ]
  },
  {
   "cell_type": "code",
   "execution_count": 29,
   "id": "d3abef95",
   "metadata": {},
   "outputs": [],
   "source": [
    "features = loaded\n",
    "target = gray_df['disease']\n",
    "Ftrain,Ftest,Ltrain,Ltest=train_test_split(features,target, test_size=0.20, random_state=20)\n",
    "Ftrain = minmax.fit_transform(Ftrain)\n",
    "Ftest = minmax.fit_transform(Ftest)"
   ]
  },
  {
   "cell_type": "code",
   "execution_count": 30,
   "id": "6f75adfd",
   "metadata": {},
   "outputs": [
    {
     "data": {
      "text/plain": [
       "0.46921224630202957"
      ]
     },
     "execution_count": 30,
     "metadata": {},
     "output_type": "execute_result"
    }
   ],
   "source": [
    "kmodel.fit(Ftrain,Ltrain)\n",
    "kmodel.score(Ftest,Ltest)"
   ]
  },
  {
   "cell_type": "code",
   "execution_count": 31,
   "id": "77baa349",
   "metadata": {},
   "outputs": [
    {
     "name": "stdout",
     "output_type": "stream",
     "text": [
      "                               precision    recall  f1-score   support\n",
      "\n",
      "               bacterial_spot       0.42      0.74      0.54       349\n",
      "                 early_blight       0.00      0.00      0.00       182\n",
      "                      healthy       0.34      0.62      0.44       258\n",
      "                  late_blight       0.30      0.25      0.27       316\n",
      "                    leaf_mold       0.68      0.39      0.50       145\n",
      "           septoria_leaf_spot       0.51      0.39      0.44       262\n",
      "                  target_spot       0.67      0.13      0.22       229\n",
      "          tomato_mosaic_virus       1.00      0.02      0.03        58\n",
      "tomato_yellow_leaf_curl_virus       0.55      0.64      0.59       857\n",
      "      two-spotted_spider_mite       0.54      0.49      0.52       251\n",
      "\n",
      "                     accuracy                           0.47      2907\n",
      "                    macro avg       0.50      0.37      0.36      2907\n",
      "                 weighted avg       0.47      0.47      0.44      2907\n",
      "\n",
      "[[260   0  32  19   0   3   0   0  35   0]\n",
      " [ 85   0   9   5   7   9   4   0  55   8]\n",
      " [ 10   0 159  31   0  12   0   0  45   1]\n",
      " [ 45   0  67  79   6  33   1   0  71  14]\n",
      " [  6   0  22  19  57   5   2   0  31   3]\n",
      " [ 11   0  42  26   4 102   2   0  65  10]\n",
      " [ 55   0  23   5   0  17  30   0  61  38]\n",
      " [  2   0   6   6   2   1   0   1  35   5]\n",
      " [102   0 100  58   6  12   1   0 552  26]\n",
      " [ 43   0   5  15   2   7   5   0  50 124]]\n"
     ]
    },
    {
     "name": "stderr",
     "output_type": "stream",
     "text": [
      "C:\\Users\\ravic\\anaconda3\\lib\\site-packages\\sklearn\\metrics\\_classification.py:1248: UndefinedMetricWarning: Precision and F-score are ill-defined and being set to 0.0 in labels with no predicted samples. Use `zero_division` parameter to control this behavior.\n",
      "  _warn_prf(average, modifier, msg_start, len(result))\n",
      "C:\\Users\\ravic\\anaconda3\\lib\\site-packages\\sklearn\\metrics\\_classification.py:1248: UndefinedMetricWarning: Precision and F-score are ill-defined and being set to 0.0 in labels with no predicted samples. Use `zero_division` parameter to control this behavior.\n",
      "  _warn_prf(average, modifier, msg_start, len(result))\n",
      "C:\\Users\\ravic\\anaconda3\\lib\\site-packages\\sklearn\\metrics\\_classification.py:1248: UndefinedMetricWarning: Precision and F-score are ill-defined and being set to 0.0 in labels with no predicted samples. Use `zero_division` parameter to control this behavior.\n",
      "  _warn_prf(average, modifier, msg_start, len(result))\n"
     ]
    }
   ],
   "source": [
    "#printing results of the kmodel\n",
    "y_predict = kmodel.fit(Ftrain, Ltrain).predict(Ftest)\n",
    "class_names = target.unique()\n",
    "print(classification_report(Ltest, y_predict, target_names=class_names))\n",
    "print(confusion_matrix(Ltest, y_predict))"
   ]
  },
  {
   "cell_type": "markdown",
   "id": "197eedfc",
   "metadata": {},
   "source": [
    "# Logistic on grayscale data"
   ]
  },
  {
   "cell_type": "code",
   "execution_count": 32,
   "id": "9fd6cafe",
   "metadata": {},
   "outputs": [
    {
     "data": {
      "text/plain": [
       "0.47540419676642587"
      ]
     },
     "execution_count": 32,
     "metadata": {},
     "output_type": "execute_result"
    }
   ],
   "source": [
    "from sklearn.linear_model import LogisticRegression\n",
    "model=LogisticRegression(solver='lbfgs', max_iter=10000)\n",
    "model.fit(Ftrain,Ltrain)\n",
    "model.score(Ftest,Ltest)"
   ]
  },
  {
   "cell_type": "code",
   "execution_count": 33,
   "id": "20a6d97e",
   "metadata": {},
   "outputs": [
    {
     "name": "stdout",
     "output_type": "stream",
     "text": [
      "                               precision    recall  f1-score   support\n",
      "\n",
      "               bacterial_spot       0.55      0.57      0.56       349\n",
      "                 early_blight       0.23      0.09      0.13       182\n",
      "                      healthy       0.42      0.47      0.44       258\n",
      "                  late_blight       0.32      0.35      0.34       316\n",
      "                    leaf_mold       0.47      0.39      0.43       145\n",
      "           septoria_leaf_spot       0.41      0.30      0.35       262\n",
      "                  target_spot       0.34      0.35      0.35       229\n",
      "          tomato_mosaic_virus       0.24      0.21      0.22        58\n",
      "tomato_yellow_leaf_curl_virus       0.62      0.67      0.64       857\n",
      "      two-spotted_spider_mite       0.42      0.53      0.47       251\n",
      "\n",
      "                     accuracy                           0.48      2907\n",
      "                    macro avg       0.40      0.39      0.39      2907\n",
      "                 weighted avg       0.46      0.48      0.47      2907\n",
      "\n",
      "[[199   4  21  30   1   8  13   0  61  12]\n",
      " [ 36  16   6  15  12   5  30   0  48  14]\n",
      " [ 14   3 120  44   2   7  24   0  25  19]\n",
      " [ 14  17  34 112  17  32  18  12  47  13]\n",
      " [  2   3   2  28  56   9   5   5  29   6]\n",
      " [  9   7  24  39  13  79  27   6  36  22]\n",
      " [ 27   5  20  11   3   9  81   3  28  42]\n",
      " [  0   0   0   3   1   1   1  12  35   5]\n",
      " [ 44   9  51  61  11  34  15  10 574  48]\n",
      " [ 15   5   5   4   2  11  25   2  49 133]]\n"
     ]
    }
   ],
   "source": [
    "#classification report\n",
    "y_predict = model.fit(Ftrain, Ltrain).predict(Ftest)\n",
    "class_names = target.unique()\n",
    "print(classification_report(Ltest, y_predict, target_names=class_names))\n",
    "print(confusion_matrix(Ltest, y_predict))"
   ]
  },
  {
   "cell_type": "markdown",
   "id": "5284f869",
   "metadata": {},
   "source": [
    "# SVM on Grayscale data"
   ]
  },
  {
   "cell_type": "code",
   "execution_count": 34,
   "id": "d0db5c80",
   "metadata": {},
   "outputs": [
    {
     "name": "stdout",
     "output_type": "stream",
     "text": [
      "0.4915720674234606\n"
     ]
    }
   ],
   "source": [
    "clf = SVC(kernel='linear')\n",
    "clf.fit(Ftrain,Ltrain)\n",
    "y_pred = clf.predict(Ftest)\n",
    "print(accuracy_score(Ltest,y_pred))"
   ]
  },
  {
   "cell_type": "code",
   "execution_count": 35,
   "id": "bcddcf24",
   "metadata": {},
   "outputs": [
    {
     "name": "stdout",
     "output_type": "stream",
     "text": [
      "                               precision    recall  f1-score   support\n",
      "\n",
      "               bacterial_spot       0.56      0.52      0.54       349\n",
      "                 early_blight       0.28      0.18      0.22       182\n",
      "                      healthy       0.42      0.62      0.50       258\n",
      "                  late_blight       0.38      0.36      0.37       316\n",
      "                    leaf_mold       0.46      0.37      0.41       145\n",
      "           septoria_leaf_spot       0.39      0.34      0.36       262\n",
      "                  target_spot       0.41      0.35      0.38       229\n",
      "          tomato_mosaic_virus       0.24      0.26      0.25        58\n",
      "tomato_yellow_leaf_curl_virus       0.61      0.69      0.65       857\n",
      "      two-spotted_spider_mite       0.51      0.47      0.49       251\n",
      "\n",
      "                     accuracy                           0.49      2907\n",
      "                    macro avg       0.43      0.41      0.42      2907\n",
      "                 weighted avg       0.48      0.49      0.48      2907\n",
      "\n",
      "[[180  15  30  25   1   9   8   0  72   9]\n",
      " [ 26  32   5  10  11  10  25   0  51  12]\n",
      " [ 15   2 159  29   4  10  13   1  18   7]\n",
      " [ 12  17  48 115  14  36  11  12  41  10]\n",
      " [  4   4   5  30  54   9   2   4  24   9]\n",
      " [  9  10  32  35  13  88  24   3  42   6]\n",
      " [ 27   8  26   9   4   9  81   3  32  30]\n",
      " [  0   0   0   3   1   3   0  15  35   1]\n",
      " [ 38  17  64  43  11  35  12  22 588  27]\n",
      " [ 12   9   8   4   4  14  22   3  58 117]]\n"
     ]
    }
   ],
   "source": [
    "#classification report\n",
    "y_predict = clf.fit(Ftrain, Ltrain).predict(Ftest)\n",
    "class_names = target.unique()\n",
    "print(classification_report(Ltest, y_predict, target_names=class_names))\n",
    "print(confusion_matrix(Ltest, y_predict))"
   ]
  },
  {
   "cell_type": "markdown",
   "id": "576fd580",
   "metadata": {},
   "source": [
    "# Random Forest on Grayscale"
   ]
  },
  {
   "cell_type": "code",
   "execution_count": 36,
   "id": "9dfa979e",
   "metadata": {},
   "outputs": [
    {
     "data": {
      "text/plain": [
       "RandomForestClassifier(max_depth=5, n_jobs=-1, oob_score=True, random_state=42)"
      ]
     },
     "execution_count": 36,
     "metadata": {},
     "output_type": "execute_result"
    }
   ],
   "source": [
    "classifier_rf.fit(Ftrain, Ltrain)"
   ]
  },
  {
   "cell_type": "code",
   "execution_count": 37,
   "id": "2b4347ef",
   "metadata": {},
   "outputs": [
    {
     "data": {
      "text/plain": [
       "0.4386613902271163"
      ]
     },
     "execution_count": 37,
     "metadata": {},
     "output_type": "execute_result"
    }
   ],
   "source": [
    "classifier_rf.oob_score_"
   ]
  },
  {
   "cell_type": "code",
   "execution_count": 38,
   "id": "9263c32f",
   "metadata": {},
   "outputs": [
    {
     "name": "stdout",
     "output_type": "stream",
     "text": [
      "                               precision    recall  f1-score   support\n",
      "\n",
      "               bacterial_spot       0.66      0.36      0.47       349\n",
      "                 early_blight       0.00      0.00      0.00       182\n",
      "                      healthy       0.71      0.34      0.46       258\n",
      "                  late_blight       0.91      0.15      0.26       316\n",
      "                    leaf_mold       0.40      0.01      0.03       145\n",
      "           septoria_leaf_spot       0.48      0.55      0.51       262\n",
      "                  target_spot       0.77      0.07      0.14       229\n",
      "          tomato_mosaic_virus       0.00      0.00      0.00        58\n",
      "tomato_yellow_leaf_curl_virus       0.38      0.94      0.55       857\n",
      "      two-spotted_spider_mite       0.62      0.31      0.41       251\n",
      "\n",
      "                     accuracy                           0.45      2907\n",
      "                    macro avg       0.49      0.27      0.28      2907\n",
      "                 weighted avg       0.53      0.45      0.38      2907\n",
      "\n",
      "[[126   0   7   0   0   5   0   0 210   1]\n",
      " [ 19   0   0   1   0  25   1   0 134   2]\n",
      " [  0   0  87   1   0   0   0   0 168   2]\n",
      " [  6   0  10  48   2  47   2   0 198   3]\n",
      " [  2   0   1   1   2  11   1   0 121   6]\n",
      " [  1   0  10   1   1 143   0   0 103   3]\n",
      " [  1   0   0   0   0  41  17   0 139  31]\n",
      " [  1   0   0   0   0   1   0   0  56   0]\n",
      " [ 28   0   8   1   0  17   0   0 803   0]\n",
      " [  6   0   0   0   0   9   1   0 157  78]]\n"
     ]
    },
    {
     "name": "stderr",
     "output_type": "stream",
     "text": [
      "C:\\Users\\ravic\\anaconda3\\lib\\site-packages\\sklearn\\metrics\\_classification.py:1248: UndefinedMetricWarning: Precision and F-score are ill-defined and being set to 0.0 in labels with no predicted samples. Use `zero_division` parameter to control this behavior.\n",
      "  _warn_prf(average, modifier, msg_start, len(result))\n",
      "C:\\Users\\ravic\\anaconda3\\lib\\site-packages\\sklearn\\metrics\\_classification.py:1248: UndefinedMetricWarning: Precision and F-score are ill-defined and being set to 0.0 in labels with no predicted samples. Use `zero_division` parameter to control this behavior.\n",
      "  _warn_prf(average, modifier, msg_start, len(result))\n",
      "C:\\Users\\ravic\\anaconda3\\lib\\site-packages\\sklearn\\metrics\\_classification.py:1248: UndefinedMetricWarning: Precision and F-score are ill-defined and being set to 0.0 in labels with no predicted samples. Use `zero_division` parameter to control this behavior.\n",
      "  _warn_prf(average, modifier, msg_start, len(result))\n"
     ]
    }
   ],
   "source": [
    "y_predict = classifier_rf.fit(Ftrain, Ltrain).predict(Ftest)\n",
    "class_names = target.unique()\n",
    "print(classification_report(Ltest, y_predict, target_names=class_names))\n",
    "print(confusion_matrix(Ltest, y_predict))"
   ]
  },
  {
   "cell_type": "markdown",
   "id": "8befce61",
   "metadata": {},
   "source": [
    "# Naive bayes on Grayscale"
   ]
  },
  {
   "cell_type": "code",
   "execution_count": 39,
   "id": "0d1a6d3b",
   "metadata": {},
   "outputs": [
    {
     "data": {
      "text/plain": [
       "GaussianNB()"
      ]
     },
     "execution_count": 39,
     "metadata": {},
     "output_type": "execute_result"
    }
   ],
   "source": [
    "gnb.fit(Ftrain, Ltrain)"
   ]
  },
  {
   "cell_type": "code",
   "execution_count": 40,
   "id": "053c9a09",
   "metadata": {},
   "outputs": [
    {
     "data": {
      "text/plain": [
       "0.35500515995872034"
      ]
     },
     "execution_count": 40,
     "metadata": {},
     "output_type": "execute_result"
    }
   ],
   "source": [
    "y_pred = gnb.predict(Ftest)\n",
    "metrics.accuracy_score(Ltest, y_pred)"
   ]
  },
  {
   "cell_type": "code",
   "execution_count": 41,
   "id": "22c98d80",
   "metadata": {},
   "outputs": [
    {
     "name": "stdout",
     "output_type": "stream",
     "text": [
      "                               precision    recall  f1-score   support\n",
      "\n",
      "               bacterial_spot       0.47      0.67      0.55       349\n",
      "                 early_blight       0.24      0.26      0.25       182\n",
      "                      healthy       0.33      0.60      0.42       258\n",
      "                  late_blight       0.39      0.26      0.31       316\n",
      "                    leaf_mold       0.50      0.26      0.34       145\n",
      "           septoria_leaf_spot       0.26      0.59      0.36       262\n",
      "                  target_spot       0.41      0.28      0.34       229\n",
      "          tomato_mosaic_virus       0.13      0.45      0.20        58\n",
      "tomato_yellow_leaf_curl_virus       0.65      0.15      0.24       857\n",
      "      two-spotted_spider_mite       0.35      0.41      0.38       251\n",
      "\n",
      "                     accuracy                           0.36      2907\n",
      "                    macro avg       0.37      0.39      0.34      2907\n",
      "                 weighted avg       0.45      0.36      0.34      2907\n",
      "\n",
      "[[235  11  43   3   2  20   9  14   6   6]\n",
      " [ 43  48   5  32   5  17  11   4   5  12]\n",
      " [  3   1 155   9   4  35  16   1  25   9]\n",
      " [  7  45  93  83   6  53   7   5   9   8]\n",
      " [ 13   4   7  11  38  39   4  20   5   4]\n",
      " [  3   6  41  11   5 154  12   9   5  16]\n",
      " [ 11  13   3  20   2  60  65   7   2  46]\n",
      " [  9   0   3   0   1   5   1  26   6   7]\n",
      " [166  55 123  36  11 150  15  97 126  78]\n",
      " [ 12  21   0   7   2  63  18  21   5 102]]\n"
     ]
    }
   ],
   "source": [
    "class_names = target.unique()\n",
    "print(classification_report(Ltest, y_pred, target_names=class_names))\n",
    "print(confusion_matrix(Ltest, y_pred))"
   ]
  },
  {
   "cell_type": "markdown",
   "id": "9a562db7",
   "metadata": {},
   "source": [
    "# Decision Tree on Grayscale"
   ]
  },
  {
   "cell_type": "code",
   "execution_count": 42,
   "id": "a4e9cd0d",
   "metadata": {},
   "outputs": [
    {
     "data": {
      "text/plain": [
       "0.37702098383212934"
      ]
     },
     "execution_count": 42,
     "metadata": {},
     "output_type": "execute_result"
    }
   ],
   "source": [
    "classifier_tree.fit(Ftrain, Ltrain)\n",
    "classifier_tree.score(Ftest,Ltest)"
   ]
  },
  {
   "cell_type": "code",
   "execution_count": 43,
   "id": "523c3773",
   "metadata": {},
   "outputs": [
    {
     "name": "stdout",
     "output_type": "stream",
     "text": [
      "                               precision    recall  f1-score   support\n",
      "\n",
      "               bacterial_spot       0.40      0.40      0.40       349\n",
      "                 early_blight       0.18      0.18      0.18       182\n",
      "                      healthy       0.44      0.33      0.38       258\n",
      "                  late_blight       0.37      0.35      0.36       316\n",
      "                    leaf_mold       0.28      0.34      0.31       145\n",
      "           septoria_leaf_spot       0.31      0.38      0.34       262\n",
      "                  target_spot       0.23      0.24      0.24       229\n",
      "          tomato_mosaic_virus       0.13      0.10      0.12        58\n",
      "tomato_yellow_leaf_curl_virus       0.51      0.50      0.51       857\n",
      "      two-spotted_spider_mite       0.34      0.36      0.35       251\n",
      "\n",
      "                     accuracy                           0.38      2907\n",
      "                    macro avg       0.32      0.32      0.32      2907\n",
      "                 weighted avg       0.38      0.38      0.38      2907\n",
      "\n",
      "[[140  23   8  24  19  21  15   2  85  12]\n",
      " [ 24  33   6  18   7  12  21   3  42  16]\n",
      " [ 15   9  86  18   7  33  26   0  50  14]\n",
      " [ 22  24  16 110  11  44  17   4  51  17]\n",
      " [  9   7   6  15  49  14   6   1  31   7]\n",
      " [ 12  22   7  31  12 100  17   1  47  13]\n",
      " [  9  17  13  18  16  24  56   4  37  35]\n",
      " [  1   1   4   4   6   5   4   6  19   8]\n",
      " [ 97  38  40  49  35  52  44  21 428  53]\n",
      " [ 20  11   8  11  13  13  37   4  43  91]]\n"
     ]
    }
   ],
   "source": [
    "y_predict = classifier_tree.fit(Ftrain, Ltrain).predict(Ftest)\n",
    "class_names = target.unique()\n",
    "print(classification_report(Ltest, y_predict, target_names=class_names))\n",
    "print(confusion_matrix(Ltest, y_predict))"
   ]
  },
  {
   "cell_type": "markdown",
   "id": "e42f549f",
   "metadata": {},
   "source": [
    "# KNN on Red channel data"
   ]
  },
  {
   "cell_type": "code",
   "execution_count": 44,
   "id": "cb75cbbd",
   "metadata": {},
   "outputs": [],
   "source": [
    "#reading numpy array data\n",
    "gray_test = np.load('red_data.npy')\n",
    "#reading csv file\n",
    "gray_df = pd.read_csv('red_data.csv')"
   ]
  },
  {
   "cell_type": "code",
   "execution_count": 45,
   "id": "7fda7839",
   "metadata": {},
   "outputs": [],
   "source": [
    "loaded = []\n",
    "for i in gray_test:\n",
    "    k = []\n",
    "    k = np.asarray(i,dtype='uint8')\n",
    "    loaded.append(k)\n",
    "features = loaded\n",
    "target = gray_df['disease']\n",
    "Ftrain,Ftest,Ltrain,Ltest=train_test_split(features,target, test_size=0.20, random_state=20)\n",
    "Ftrain = minmax.fit_transform(Ftrain)\n",
    "Ftest = minmax.fit_transform(Ftest)"
   ]
  },
  {
   "cell_type": "code",
   "execution_count": 46,
   "id": "683839f2",
   "metadata": {},
   "outputs": [
    {
     "data": {
      "text/plain": [
       "0.49810801513587893"
      ]
     },
     "execution_count": 46,
     "metadata": {},
     "output_type": "execute_result"
    }
   ],
   "source": [
    "kmodel.fit(Ftrain,Ltrain)\n",
    "kmodel.score(Ftest,Ltest)"
   ]
  },
  {
   "cell_type": "code",
   "execution_count": 47,
   "id": "53bc7b93",
   "metadata": {},
   "outputs": [
    {
     "name": "stdout",
     "output_type": "stream",
     "text": [
      "                               precision    recall  f1-score   support\n",
      "\n",
      "               bacterial_spot       0.45      0.70      0.55       349\n",
      "                 early_blight       0.00      0.00      0.00       182\n",
      "                      healthy       0.38      0.71      0.50       258\n",
      "                  late_blight       0.40      0.35      0.37       316\n",
      "                    leaf_mold       0.66      0.42      0.51       145\n",
      "           septoria_leaf_spot       0.57      0.38      0.46       262\n",
      "                  target_spot       0.61      0.22      0.33       229\n",
      "          tomato_mosaic_virus       0.29      0.03      0.06        58\n",
      "tomato_yellow_leaf_curl_virus       0.56      0.63      0.60       857\n",
      "      two-spotted_spider_mite       0.52      0.61      0.57       251\n",
      "\n",
      "                     accuracy                           0.50      2907\n",
      "                    macro avg       0.45      0.41      0.39      2907\n",
      "                 weighted avg       0.48      0.50      0.47      2907\n",
      "\n",
      "[[245   0  36  22   0   1   0   0  45   0]\n",
      " [ 75   0  15   5   6   6  13   1  51  10]\n",
      " [  5   0 184  18   0   3   0   0  47   1]\n",
      " [ 37   0  43 110   7  37   4   0  65  13]\n",
      " [  6   0  21  21  61   6   2   0  24   4]\n",
      " [ 19   0  35  23   4 100   0   2  58  21]\n",
      " [ 42   0  33   4   0   6  51   1  45  47]\n",
      " [  0   0   4   4   1   1   0   2  39   7]\n",
      " [ 90   0 103  61  13   9   2   1 541  37]\n",
      " [ 23   0   7   7   0   5  12   0  43 154]]\n"
     ]
    },
    {
     "name": "stderr",
     "output_type": "stream",
     "text": [
      "C:\\Users\\ravic\\anaconda3\\lib\\site-packages\\sklearn\\metrics\\_classification.py:1248: UndefinedMetricWarning: Precision and F-score are ill-defined and being set to 0.0 in labels with no predicted samples. Use `zero_division` parameter to control this behavior.\n",
      "  _warn_prf(average, modifier, msg_start, len(result))\n",
      "C:\\Users\\ravic\\anaconda3\\lib\\site-packages\\sklearn\\metrics\\_classification.py:1248: UndefinedMetricWarning: Precision and F-score are ill-defined and being set to 0.0 in labels with no predicted samples. Use `zero_division` parameter to control this behavior.\n",
      "  _warn_prf(average, modifier, msg_start, len(result))\n",
      "C:\\Users\\ravic\\anaconda3\\lib\\site-packages\\sklearn\\metrics\\_classification.py:1248: UndefinedMetricWarning: Precision and F-score are ill-defined and being set to 0.0 in labels with no predicted samples. Use `zero_division` parameter to control this behavior.\n",
      "  _warn_prf(average, modifier, msg_start, len(result))\n"
     ]
    }
   ],
   "source": [
    "#printing results of the kmodel\n",
    "y_predict = kmodel.fit(Ftrain, Ltrain).predict(Ftest)\n",
    "class_names = target.unique()\n",
    "print(classification_report(Ltest, y_predict, target_names=class_names))\n",
    "print(confusion_matrix(Ltest, y_predict))"
   ]
  },
  {
   "cell_type": "markdown",
   "id": "ffcda594",
   "metadata": {},
   "source": [
    "# Logistic on Red channel data"
   ]
  },
  {
   "cell_type": "code",
   "execution_count": 48,
   "id": "1ed4037b",
   "metadata": {},
   "outputs": [
    {
     "data": {
      "text/plain": [
       "0.48813209494324045"
      ]
     },
     "execution_count": 48,
     "metadata": {},
     "output_type": "execute_result"
    }
   ],
   "source": [
    "model.fit(Ftrain,Ltrain)\n",
    "model.score(Ftest,Ltest)"
   ]
  },
  {
   "cell_type": "code",
   "execution_count": 49,
   "id": "22b11f2e",
   "metadata": {},
   "outputs": [
    {
     "name": "stdout",
     "output_type": "stream",
     "text": [
      "                               precision    recall  f1-score   support\n",
      "\n",
      "               bacterial_spot       0.59      0.59      0.59       349\n",
      "                 early_blight       0.30      0.10      0.15       182\n",
      "                      healthy       0.44      0.42      0.43       258\n",
      "                  late_blight       0.29      0.35      0.32       316\n",
      "                    leaf_mold       0.58      0.41      0.48       145\n",
      "           septoria_leaf_spot       0.41      0.28      0.33       262\n",
      "                  target_spot       0.38      0.45      0.41       229\n",
      "          tomato_mosaic_virus       0.21      0.17      0.19        58\n",
      "tomato_yellow_leaf_curl_virus       0.61      0.69      0.65       857\n",
      "      two-spotted_spider_mite       0.45      0.56      0.50       251\n",
      "\n",
      "                     accuracy                           0.49      2907\n",
      "                    macro avg       0.43      0.40      0.41      2907\n",
      "                 weighted avg       0.48      0.49      0.48      2907\n",
      "\n",
      "[[205   5  16  37   1   6  12   0  62   5]\n",
      " [ 33  19   6  13  10   8  29   1  55   8]\n",
      " [  9   5 108  56   2   8  29   0  28  13]\n",
      " [ 15  10  38 112  10  32  17   6  60  16]\n",
      " [  3   3   4  27  60  10   3   4  25   6]\n",
      " [ 10   8  15  52   8  73  31   7  32  26]\n",
      " [ 19   3  15   8   2   7 103   2  24  46]\n",
      " [  0   0   0   2   3   1   1  10  38   3]\n",
      " [ 43   8  40  69   7  23  17  15 589  46]\n",
      " [ 11   3   4   4   1  12  29   2  45 140]]\n"
     ]
    }
   ],
   "source": [
    "#classification report\n",
    "y_predict = model.fit(Ftrain, Ltrain).predict(Ftest)\n",
    "class_names = target.unique()\n",
    "print(classification_report(Ltest, y_predict, target_names=class_names))\n",
    "print(confusion_matrix(Ltest, y_predict))"
   ]
  },
  {
   "cell_type": "markdown",
   "id": "dba6d5ce",
   "metadata": {},
   "source": [
    "# SVM on Red channel data"
   ]
  },
  {
   "cell_type": "code",
   "execution_count": 50,
   "id": "6ed153f7",
   "metadata": {},
   "outputs": [
    {
     "name": "stdout",
     "output_type": "stream",
     "text": [
      "0.5091159270725835\n"
     ]
    }
   ],
   "source": [
    "clf.fit(Ftrain,Ltrain)\n",
    "y_pred = clf.predict(Ftest)\n",
    "print(accuracy_score(Ltest,y_pred))"
   ]
  },
  {
   "cell_type": "code",
   "execution_count": 51,
   "id": "3d2d1d59",
   "metadata": {},
   "outputs": [
    {
     "name": "stdout",
     "output_type": "stream",
     "text": [
      "                               precision    recall  f1-score   support\n",
      "\n",
      "               bacterial_spot       0.59      0.51      0.55       349\n",
      "                 early_blight       0.24      0.15      0.18       182\n",
      "                      healthy       0.48      0.64      0.55       258\n",
      "                  late_blight       0.37      0.40      0.39       316\n",
      "                    leaf_mold       0.50      0.39      0.44       145\n",
      "           septoria_leaf_spot       0.40      0.31      0.35       262\n",
      "                  target_spot       0.42      0.41      0.42       229\n",
      "          tomato_mosaic_virus       0.28      0.29      0.29        58\n",
      "tomato_yellow_leaf_curl_virus       0.62      0.71      0.66       857\n",
      "      two-spotted_spider_mite       0.54      0.49      0.52       251\n",
      "\n",
      "                     accuracy                           0.51      2907\n",
      "                    macro avg       0.45      0.43      0.43      2907\n",
      "                 weighted avg       0.50      0.51      0.50      2907\n",
      "\n",
      "[[177  15  23  32   0   6  10   0  81   5]\n",
      " [ 28  27   6  12  11  10  24   2  54   8]\n",
      " [ 11   2 165  33   5   7   7   0  25   3]\n",
      " [ 10  21  43 127   8  34  13   6  44  10]\n",
      " [  0   6   5  37  56  10   2   0  24   5]\n",
      " [  9   7  21  45  13  82  28   4  38  15]\n",
      " [ 20  14  18   5   2  14  95   2  29  30]\n",
      " [  0   0   0   1   3   2   0  17  33   2]\n",
      " [ 35  13  57  41  11  21  19  23 610  27]\n",
      " [  8   7   6   6   3  20  27   7  43 124]]\n"
     ]
    }
   ],
   "source": [
    "#classification report\n",
    "y_predict = clf.fit(Ftrain, Ltrain).predict(Ftest)\n",
    "class_names = target.unique()\n",
    "print(classification_report(Ltest, y_predict, target_names=class_names))\n",
    "print(confusion_matrix(Ltest, y_predict))"
   ]
  },
  {
   "cell_type": "markdown",
   "id": "a670c4d4",
   "metadata": {},
   "source": [
    "# Random forest on Red channel data"
   ]
  },
  {
   "cell_type": "code",
   "execution_count": 52,
   "id": "9e816e9e",
   "metadata": {},
   "outputs": [
    {
     "data": {
      "text/plain": [
       "0.4768582243633861"
      ]
     },
     "execution_count": 52,
     "metadata": {},
     "output_type": "execute_result"
    }
   ],
   "source": [
    "classifier_rf.fit(Ftrain, Ltrain)\n",
    "classifier_rf.oob_score_"
   ]
  },
  {
   "cell_type": "code",
   "execution_count": 53,
   "id": "6d5daf40",
   "metadata": {},
   "outputs": [
    {
     "name": "stdout",
     "output_type": "stream",
     "text": [
      "                               precision    recall  f1-score   support\n",
      "\n",
      "               bacterial_spot       0.70      0.41      0.52       349\n",
      "                 early_blight       0.00      0.00      0.00       182\n",
      "                      healthy       0.67      0.34      0.45       258\n",
      "                  late_blight       0.63      0.19      0.29       316\n",
      "                    leaf_mold       0.70      0.05      0.09       145\n",
      "           septoria_leaf_spot       0.48      0.53      0.50       262\n",
      "                  target_spot       0.77      0.15      0.25       229\n",
      "          tomato_mosaic_virus       0.00      0.00      0.00        58\n",
      "tomato_yellow_leaf_curl_virus       0.42      0.91      0.57       857\n",
      "      two-spotted_spider_mite       0.49      0.54      0.52       251\n",
      "\n",
      "                     accuracy                           0.48      2907\n",
      "                    macro avg       0.49      0.31      0.32      2907\n",
      "                 weighted avg       0.52      0.48      0.42      2907\n",
      "\n",
      "[[144   0  11   6   0   2   1   0 183   2]\n",
      " [ 19   0   0   6   0  21   2   0 116  18]\n",
      " [  0   0  87   2   0   3   3   0 158   5]\n",
      " [  3   0   6  59   2  59   2   0 179   6]\n",
      " [  2   0   3  11   7  17   0   0  98   7]\n",
      " [  2   0   8   1   1 138   2   0 100  10]\n",
      " [  1   0   0   0   0  23  34   0  88  83]\n",
      " [  0   0   0   0   0   1   0   0  55   2]\n",
      " [ 31   0  15   9   0  17   0   0 778   7]\n",
      " [  3   0   0   0   0   9   0   0 103 136]]\n"
     ]
    },
    {
     "name": "stderr",
     "output_type": "stream",
     "text": [
      "C:\\Users\\ravic\\anaconda3\\lib\\site-packages\\sklearn\\metrics\\_classification.py:1248: UndefinedMetricWarning: Precision and F-score are ill-defined and being set to 0.0 in labels with no predicted samples. Use `zero_division` parameter to control this behavior.\n",
      "  _warn_prf(average, modifier, msg_start, len(result))\n",
      "C:\\Users\\ravic\\anaconda3\\lib\\site-packages\\sklearn\\metrics\\_classification.py:1248: UndefinedMetricWarning: Precision and F-score are ill-defined and being set to 0.0 in labels with no predicted samples. Use `zero_division` parameter to control this behavior.\n",
      "  _warn_prf(average, modifier, msg_start, len(result))\n",
      "C:\\Users\\ravic\\anaconda3\\lib\\site-packages\\sklearn\\metrics\\_classification.py:1248: UndefinedMetricWarning: Precision and F-score are ill-defined and being set to 0.0 in labels with no predicted samples. Use `zero_division` parameter to control this behavior.\n",
      "  _warn_prf(average, modifier, msg_start, len(result))\n"
     ]
    }
   ],
   "source": [
    "y_predict = classifier_rf.fit(Ftrain, Ltrain).predict(Ftest)\n",
    "class_names = target.unique()\n",
    "print(classification_report(Ltest, y_predict, target_names=class_names))\n",
    "print(confusion_matrix(Ltest, y_predict))"
   ]
  },
  {
   "cell_type": "markdown",
   "id": "e1c2d95a",
   "metadata": {},
   "source": [
    "# Naive Bayes on Red channel data"
   ]
  },
  {
   "cell_type": "code",
   "execution_count": 54,
   "id": "8ec0753c",
   "metadata": {},
   "outputs": [
    {
     "data": {
      "text/plain": [
       "GaussianNB()"
      ]
     },
     "execution_count": 54,
     "metadata": {},
     "output_type": "execute_result"
    }
   ],
   "source": [
    "gnb.fit(Ftrain, Ltrain)"
   ]
  },
  {
   "cell_type": "code",
   "execution_count": 55,
   "id": "9bd3c55d",
   "metadata": {},
   "outputs": [
    {
     "data": {
      "text/plain": [
       "0.37323701410388715"
      ]
     },
     "execution_count": 55,
     "metadata": {},
     "output_type": "execute_result"
    }
   ],
   "source": [
    "y_pred = gnb.predict(Ftest)\n",
    "metrics.accuracy_score(Ltest, y_pred)"
   ]
  },
  {
   "cell_type": "code",
   "execution_count": 56,
   "id": "fc44e44c",
   "metadata": {},
   "outputs": [
    {
     "name": "stdout",
     "output_type": "stream",
     "text": [
      "                               precision    recall  f1-score   support\n",
      "\n",
      "               bacterial_spot       0.48      0.67      0.56       349\n",
      "                 early_blight       0.23      0.21      0.22       182\n",
      "                      healthy       0.35      0.66      0.45       258\n",
      "                  late_blight       0.42      0.28      0.33       316\n",
      "                    leaf_mold       0.44      0.24      0.31       145\n",
      "           septoria_leaf_spot       0.27      0.55      0.36       262\n",
      "                  target_spot       0.49      0.38      0.43       229\n",
      "          tomato_mosaic_virus       0.15      0.53      0.23        58\n",
      "tomato_yellow_leaf_curl_virus       0.68      0.15      0.24       857\n",
      "      two-spotted_spider_mite       0.36      0.51      0.42       251\n",
      "\n",
      "                     accuracy                           0.37      2907\n",
      "                    macro avg       0.38      0.42      0.36      2907\n",
      "                 weighted avg       0.47      0.37      0.35      2907\n",
      "\n",
      "[[235  11  46   6   1  16  11  13   7   3]\n",
      " [ 50  39   4  29   8  18  10   5   8  11]\n",
      " [  3   1 171   8   4  30  12   0  19  10]\n",
      " [  4  36  86  87   9  56   6  12  11   9]\n",
      " [ 14   3   7  15  35  48   3  10   4   6]\n",
      " [  3   8  35  15   5 143  13   6   4  30]\n",
      " [  8  13   1  13   2  35  88   3   1  65]\n",
      " [  8   0   0   0   0   4   1  31   5   9]\n",
      " [152  48 144  29  16 121  16 115 128  88]\n",
      " [ 10  14   0   6   0  52  21  18   2 128]]\n"
     ]
    }
   ],
   "source": [
    "class_names = target.unique()\n",
    "print(classification_report(Ltest, y_pred, target_names=class_names))\n",
    "print(confusion_matrix(Ltest, y_pred))"
   ]
  },
  {
   "cell_type": "markdown",
   "id": "1aad544a",
   "metadata": {},
   "source": [
    "# Decision Tree on Red channel"
   ]
  },
  {
   "cell_type": "code",
   "execution_count": 57,
   "id": "91934650",
   "metadata": {},
   "outputs": [
    {
     "data": {
      "text/plain": [
       "0.4072927416580667"
      ]
     },
     "execution_count": 57,
     "metadata": {},
     "output_type": "execute_result"
    }
   ],
   "source": [
    "classifier_tree.fit(Ftrain, Ltrain)\n",
    "classifier_tree.score(Ftest,Ltest)"
   ]
  },
  {
   "cell_type": "code",
   "execution_count": 58,
   "id": "897d5f1e",
   "metadata": {},
   "outputs": [
    {
     "name": "stdout",
     "output_type": "stream",
     "text": [
      "                               precision    recall  f1-score   support\n",
      "\n",
      "               bacterial_spot       0.47      0.48      0.47       349\n",
      "                 early_blight       0.09      0.08      0.08       182\n",
      "                      healthy       0.54      0.50      0.52       258\n",
      "                  late_blight       0.40      0.37      0.38       316\n",
      "                    leaf_mold       0.26      0.26      0.26       145\n",
      "           septoria_leaf_spot       0.31      0.42      0.36       262\n",
      "                  target_spot       0.29      0.32      0.31       229\n",
      "          tomato_mosaic_virus       0.13      0.12      0.13        58\n",
      "tomato_yellow_leaf_curl_virus       0.57      0.51      0.54       857\n",
      "      two-spotted_spider_mite       0.30      0.36      0.33       251\n",
      "\n",
      "                     accuracy                           0.41      2907\n",
      "                    macro avg       0.34      0.34      0.34      2907\n",
      "                 weighted avg       0.41      0.41      0.41      2907\n",
      "\n",
      "[[166  41   9  16  11  15  15   1  56  19]\n",
      " [ 26  14   7  18  13  18  26   5  37  18]\n",
      " [ 15   3 129   8   7  18  26   2  32  18]\n",
      " [ 22  13  15 117  15  43  22   4  44  21]\n",
      " [  9  11   9  19  37  21   3   2  25   9]\n",
      " [ 16   7  10  32   7 109  18   1  37  25]\n",
      " [ 13  16   7  11   8  29  74   1  27  43]\n",
      " [  2   0   3   3   3   8   1   7  25   6]\n",
      " [ 72  47  43  60  32  62  33  21 434  53]\n",
      " [  9  12   6  12   8  26  38   9  40  91]]\n"
     ]
    }
   ],
   "source": [
    "y_predict = classifier_tree.fit(Ftrain, Ltrain).predict(Ftest)\n",
    "class_names = target.unique()\n",
    "print(classification_report(Ltest, y_predict, target_names=class_names))\n",
    "print(confusion_matrix(Ltest, y_predict))"
   ]
  },
  {
   "cell_type": "markdown",
   "id": "21af7568",
   "metadata": {},
   "source": [
    "# KNN on green channel data"
   ]
  },
  {
   "cell_type": "code",
   "execution_count": 59,
   "id": "461b784b",
   "metadata": {},
   "outputs": [
    {
     "data": {
      "text/plain": [
       "0.46852425180598556"
      ]
     },
     "execution_count": 59,
     "metadata": {},
     "output_type": "execute_result"
    }
   ],
   "source": [
    "#reading numpy array data\n",
    "gray_test = np.load('green_data.npy')\n",
    "#reading csv file\n",
    "gray_df = pd.read_csv('green_data.csv')\n",
    "loaded = []\n",
    "for i in gray_test:\n",
    "    k = []\n",
    "    k = np.asarray(i,dtype='uint8')\n",
    "    loaded.append(k)\n",
    "features = loaded\n",
    "target = gray_df['disease']\n",
    "Ftrain,Ftest,Ltrain,Ltest=train_test_split(features,target, test_size=0.20, random_state=20)\n",
    "Ftrain = minmax.fit_transform(Ftrain)\n",
    "Ftest = minmax.fit_transform(Ftest)\n",
    "kmodel.fit(Ftrain,Ltrain)\n",
    "kmodel.score(Ftest,Ltest)"
   ]
  },
  {
   "cell_type": "code",
   "execution_count": 60,
   "id": "5a4d4f1d",
   "metadata": {},
   "outputs": [
    {
     "name": "stdout",
     "output_type": "stream",
     "text": [
      "                               precision    recall  f1-score   support\n",
      "\n",
      "               bacterial_spot       0.39      0.75      0.51       349\n",
      "                 early_blight       0.00      0.00      0.00       182\n",
      "                      healthy       0.35      0.59      0.44       258\n",
      "                  late_blight       0.29      0.26      0.27       316\n",
      "                    leaf_mold       0.66      0.37      0.48       145\n",
      "           septoria_leaf_spot       0.49      0.39      0.43       262\n",
      "                  target_spot       0.62      0.09      0.16       229\n",
      "          tomato_mosaic_virus       1.00      0.02      0.03        58\n",
      "tomato_yellow_leaf_curl_virus       0.60      0.68      0.63       857\n",
      "      two-spotted_spider_mite       0.51      0.44      0.47       251\n",
      "\n",
      "                     accuracy                           0.47      2907\n",
      "                    macro avg       0.49      0.36      0.34      2907\n",
      "                 weighted avg       0.47      0.47      0.43      2907\n",
      "\n",
      "[[263   0  35  19   1   1   0   0  30   0]\n",
      " [ 96   0  10   5   6   9   4   0  45   7]\n",
      " [ 29   0 151  46   0   4   0   0  27   1]\n",
      " [ 45   0  58  82   2  38   0   0  76  15]\n",
      " [ 13   0  18  20  54   8   2   0  27   3]\n",
      " [ 12   0  48  26   5 101   2   0  59   9]\n",
      " [ 72   0  13  13   3  18  21   0  45  44]\n",
      " [  8   0   6   7   3   4   0   1  25   4]\n",
      " [ 98   0  92  46   6  14   1   0 579  21]\n",
      " [ 47   0   4  18   2   9   4   0  57 110]]\n"
     ]
    },
    {
     "name": "stderr",
     "output_type": "stream",
     "text": [
      "C:\\Users\\ravic\\anaconda3\\lib\\site-packages\\sklearn\\metrics\\_classification.py:1248: UndefinedMetricWarning: Precision and F-score are ill-defined and being set to 0.0 in labels with no predicted samples. Use `zero_division` parameter to control this behavior.\n",
      "  _warn_prf(average, modifier, msg_start, len(result))\n",
      "C:\\Users\\ravic\\anaconda3\\lib\\site-packages\\sklearn\\metrics\\_classification.py:1248: UndefinedMetricWarning: Precision and F-score are ill-defined and being set to 0.0 in labels with no predicted samples. Use `zero_division` parameter to control this behavior.\n",
      "  _warn_prf(average, modifier, msg_start, len(result))\n",
      "C:\\Users\\ravic\\anaconda3\\lib\\site-packages\\sklearn\\metrics\\_classification.py:1248: UndefinedMetricWarning: Precision and F-score are ill-defined and being set to 0.0 in labels with no predicted samples. Use `zero_division` parameter to control this behavior.\n",
      "  _warn_prf(average, modifier, msg_start, len(result))\n"
     ]
    }
   ],
   "source": [
    "#printing results of the kmodel\n",
    "y_predict = kmodel.fit(Ftrain, Ltrain).predict(Ftest)\n",
    "class_names = target.unique()\n",
    "print(classification_report(Ltest, y_predict, target_names=class_names))\n",
    "print(confusion_matrix(Ltest, y_predict))"
   ]
  },
  {
   "cell_type": "markdown",
   "id": "71f3ea86",
   "metadata": {},
   "source": [
    "# Logistic on Green channel data"
   ]
  },
  {
   "cell_type": "code",
   "execution_count": 61,
   "id": "28dad6b2",
   "metadata": {},
   "outputs": [
    {
     "data": {
      "text/plain": [
       "0.478156174750602"
      ]
     },
     "execution_count": 61,
     "metadata": {},
     "output_type": "execute_result"
    }
   ],
   "source": [
    "model.fit(Ftrain,Ltrain)\n",
    "model.score(Ftest,Ltest)"
   ]
  },
  {
   "cell_type": "code",
   "execution_count": 62,
   "id": "3c0993f1",
   "metadata": {},
   "outputs": [
    {
     "name": "stdout",
     "output_type": "stream",
     "text": [
      "                               precision    recall  f1-score   support\n",
      "\n",
      "               bacterial_spot       0.50      0.54      0.52       349\n",
      "                 early_blight       0.26      0.11      0.15       182\n",
      "                      healthy       0.46      0.40      0.43       258\n",
      "                  late_blight       0.39      0.35      0.37       316\n",
      "                    leaf_mold       0.49      0.29      0.37       145\n",
      "           septoria_leaf_spot       0.40      0.29      0.33       262\n",
      "                  target_spot       0.32      0.31      0.32       229\n",
      "          tomato_mosaic_virus       0.37      0.12      0.18        58\n",
      "tomato_yellow_leaf_curl_virus       0.58      0.75      0.65       857\n",
      "      two-spotted_spider_mite       0.41      0.49      0.45       251\n",
      "\n",
      "                     accuracy                           0.48      2907\n",
      "                    macro avg       0.42      0.37      0.38      2907\n",
      "                 weighted avg       0.46      0.48      0.46      2907\n",
      "\n",
      "[[190   7  13  22   1  11  15   0  75  15]\n",
      " [ 38  20   5  15   5   3  27   0  51  18]\n",
      " [ 24   3 102  29   2   8  20   0  50  20]\n",
      " [ 17  20  23 111  14  31  17   6  62  15]\n",
      " [  7   3   2  28  42   7   7   3  39   7]\n",
      " [  8   6  25  30   9  76  29   1  62  16]\n",
      " [ 38   4  14   7   4   7  72   0  42  41]\n",
      " [  2   0   1   5   1   3   1   7  33   5]\n",
      " [ 38   7  31  37   5  38  14   2 647  38]\n",
      " [ 16   8   5   3   2   8  23   0  63 123]]\n"
     ]
    }
   ],
   "source": [
    "#classification report\n",
    "y_predict = model.fit(Ftrain, Ltrain).predict(Ftest)\n",
    "class_names = target.unique()\n",
    "print(classification_report(Ltest, y_predict, target_names=class_names))\n",
    "print(confusion_matrix(Ltest, y_predict))"
   ]
  },
  {
   "cell_type": "markdown",
   "id": "f62f0223",
   "metadata": {},
   "source": [
    "# SVM on green channel data"
   ]
  },
  {
   "cell_type": "code",
   "execution_count": 63,
   "id": "e89e7297",
   "metadata": {},
   "outputs": [
    {
     "name": "stdout",
     "output_type": "stream",
     "text": [
      "0.49742002063983487\n"
     ]
    }
   ],
   "source": [
    "clf.fit(Ftrain,Ltrain)\n",
    "y_pred = clf.predict(Ftest)\n",
    "print(accuracy_score(Ltest,y_pred))"
   ]
  },
  {
   "cell_type": "code",
   "execution_count": 64,
   "id": "aaec32cf",
   "metadata": {},
   "outputs": [
    {
     "name": "stdout",
     "output_type": "stream",
     "text": [
      "                               precision    recall  f1-score   support\n",
      "\n",
      "               bacterial_spot       0.48      0.58      0.52       349\n",
      "                 early_blight       0.29      0.19      0.23       182\n",
      "                      healthy       0.46      0.57      0.51       258\n",
      "                  late_blight       0.44      0.31      0.36       316\n",
      "                    leaf_mold       0.45      0.30      0.36       145\n",
      "           septoria_leaf_spot       0.42      0.35      0.38       262\n",
      "                  target_spot       0.37      0.36      0.36       229\n",
      "          tomato_mosaic_virus       0.32      0.17      0.22        58\n",
      "tomato_yellow_leaf_curl_virus       0.61      0.73      0.66       857\n",
      "      two-spotted_spider_mite       0.49      0.44      0.47       251\n",
      "\n",
      "                     accuracy                           0.50      2907\n",
      "                    macro avg       0.43      0.40      0.41      2907\n",
      "                 weighted avg       0.48      0.50      0.48      2907\n",
      "\n",
      "[[201   9  29  13   2  11  11   0  62  11]\n",
      " [ 37  34   4  10   7   7  23   1  44  15]\n",
      " [ 18   1 146  17   6  10  15   0  33  12]\n",
      " [ 21  27  29  98  15  36  14   7  58  11]\n",
      " [ 15   5   2  26  43   5   6   4  34   5]\n",
      " [ 15   8  27  25   9  92  24   1  52   9]\n",
      " [ 38  10  25   5   3   7  83   2  34  22]\n",
      " [  5   0   2   4   0   2   3  10  30   2]\n",
      " [ 49  13  48  21   7  38  20   6 628  27]\n",
      " [ 18  10   6   2   3  12  27   0  62 111]]\n"
     ]
    }
   ],
   "source": [
    "#classification report\n",
    "y_predict = clf.fit(Ftrain, Ltrain).predict(Ftest)\n",
    "class_names = target.unique()\n",
    "print(classification_report(Ltest, y_predict, target_names=class_names))\n",
    "print(confusion_matrix(Ltest, y_predict))"
   ]
  },
  {
   "cell_type": "markdown",
   "id": "4f8e565e",
   "metadata": {},
   "source": [
    "# Random Forest on green channel data"
   ]
  },
  {
   "cell_type": "code",
   "execution_count": 65,
   "id": "96c92f8f",
   "metadata": {},
   "outputs": [
    {
     "data": {
      "text/plain": [
       "0.42541293874741914"
      ]
     },
     "execution_count": 65,
     "metadata": {},
     "output_type": "execute_result"
    }
   ],
   "source": [
    "classifier_rf.fit(Ftrain, Ltrain)\n",
    "classifier_rf.oob_score_"
   ]
  },
  {
   "cell_type": "code",
   "execution_count": 66,
   "id": "a855ce64",
   "metadata": {},
   "outputs": [
    {
     "name": "stdout",
     "output_type": "stream",
     "text": [
      "                               precision    recall  f1-score   support\n",
      "\n",
      "               bacterial_spot       0.61      0.38      0.47       349\n",
      "                 early_blight       0.00      0.00      0.00       182\n",
      "                      healthy       0.59      0.39      0.47       258\n",
      "                  late_blight       0.77      0.18      0.30       316\n",
      "                    leaf_mold       0.00      0.00      0.00       145\n",
      "           septoria_leaf_spot       0.50      0.49      0.49       262\n",
      "                  target_spot       0.00      0.00      0.00       229\n",
      "          tomato_mosaic_virus       0.00      0.00      0.00        58\n",
      "tomato_yellow_leaf_curl_virus       0.37      0.93      0.53       857\n",
      "      two-spotted_spider_mite       0.71      0.04      0.08       251\n",
      "\n",
      "                     accuracy                           0.42      2907\n",
      "                    macro avg       0.35      0.24      0.23      2907\n",
      "                 weighted avg       0.42      0.42      0.34      2907\n",
      "\n",
      "[[132   0  11   3   0   3   0   0 200   0]\n",
      " [ 24   0   1   0   0  24   0   0 133   0]\n",
      " [  0   0 101   2   0   0   0   0 155   0]\n",
      " [  8   0  25  58   0  39   0   0 185   1]\n",
      " [  9   0   2   2   0  10   0   0 122   0]\n",
      " [  0   0  18   3   0 129   0   0 112   0]\n",
      " [  3   0   5   0   0  29   0   0 189   3]\n",
      " [  1   0   0   2   0   1   0   0  54   0]\n",
      " [ 33   0   8   5   0  14   0   0 797   0]\n",
      " [  7   0   0   0   0  11   0   0 223  10]]\n"
     ]
    },
    {
     "name": "stderr",
     "output_type": "stream",
     "text": [
      "C:\\Users\\ravic\\anaconda3\\lib\\site-packages\\sklearn\\metrics\\_classification.py:1248: UndefinedMetricWarning: Precision and F-score are ill-defined and being set to 0.0 in labels with no predicted samples. Use `zero_division` parameter to control this behavior.\n",
      "  _warn_prf(average, modifier, msg_start, len(result))\n",
      "C:\\Users\\ravic\\anaconda3\\lib\\site-packages\\sklearn\\metrics\\_classification.py:1248: UndefinedMetricWarning: Precision and F-score are ill-defined and being set to 0.0 in labels with no predicted samples. Use `zero_division` parameter to control this behavior.\n",
      "  _warn_prf(average, modifier, msg_start, len(result))\n",
      "C:\\Users\\ravic\\anaconda3\\lib\\site-packages\\sklearn\\metrics\\_classification.py:1248: UndefinedMetricWarning: Precision and F-score are ill-defined and being set to 0.0 in labels with no predicted samples. Use `zero_division` parameter to control this behavior.\n",
      "  _warn_prf(average, modifier, msg_start, len(result))\n"
     ]
    }
   ],
   "source": [
    "y_predict = classifier_rf.fit(Ftrain, Ltrain).predict(Ftest)\n",
    "class_names = target.unique()\n",
    "print(classification_report(Ltest, y_predict, target_names=class_names))\n",
    "print(confusion_matrix(Ltest, y_predict))"
   ]
  },
  {
   "cell_type": "markdown",
   "id": "e9b1cca9",
   "metadata": {},
   "source": [
    "# Naive bayes on Green channel data"
   ]
  },
  {
   "cell_type": "code",
   "execution_count": 67,
   "id": "1136802c",
   "metadata": {},
   "outputs": [
    {
     "data": {
      "text/plain": [
       "0.33126934984520123"
      ]
     },
     "execution_count": 67,
     "metadata": {},
     "output_type": "execute_result"
    }
   ],
   "source": [
    "gnb.fit(Ftrain, Ltrain)\n",
    "GaussianNB()\n",
    "y_pred = gnb.predict(Ftest)\n",
    "metrics.accuracy_score(Ltest, y_pred)"
   ]
  },
  {
   "cell_type": "code",
   "execution_count": 68,
   "id": "08e6f602",
   "metadata": {},
   "outputs": [
    {
     "name": "stdout",
     "output_type": "stream",
     "text": [
      "                               precision    recall  f1-score   support\n",
      "\n",
      "               bacterial_spot       0.43      0.60      0.50       349\n",
      "                 early_blight       0.23      0.29      0.25       182\n",
      "                      healthy       0.38      0.58      0.46       258\n",
      "                  late_blight       0.42      0.27      0.33       316\n",
      "                    leaf_mold       0.43      0.25      0.32       145\n",
      "           septoria_leaf_spot       0.23      0.60      0.33       262\n",
      "                  target_spot       0.41      0.28      0.34       229\n",
      "          tomato_mosaic_virus       0.12      0.40      0.18        58\n",
      "tomato_yellow_leaf_curl_virus       0.51      0.11      0.19       857\n",
      "      two-spotted_spider_mite       0.31      0.35      0.33       251\n",
      "\n",
      "                     accuracy                           0.33      2907\n",
      "                    macro avg       0.35      0.37      0.32      2907\n",
      "                 weighted avg       0.40      0.33      0.31      2907\n",
      "\n",
      "[[211  13  31   2   4  28  16  24   7  13]\n",
      " [ 43  52   5  31   6  15   9   4   3  14]\n",
      " [  1   0 149   6   5  32  17   3  35  10]\n",
      " [  7  48  85  85   4  47   7  12  10  11]\n",
      " [ 15   4   6  12  36  40   3  20   4   5]\n",
      " [  1   4  42  10   4 156  10   8  13  14]\n",
      " [ 14  14   1  18   4  60  65   8   5  40]\n",
      " [  9   0   5   0   2   5   1  23   6   7]\n",
      " [172  68  70  28  12 234  15  80  98  80]\n",
      " [ 15  28   0   9   6  62  15  16  12  88]]\n"
     ]
    }
   ],
   "source": [
    "class_names = target.unique()\n",
    "print(classification_report(Ltest, y_pred, target_names=class_names))\n",
    "print(confusion_matrix(Ltest, y_pred))"
   ]
  },
  {
   "cell_type": "markdown",
   "id": "ad497b39",
   "metadata": {},
   "source": [
    "# Decision Tree on Green channel"
   ]
  },
  {
   "cell_type": "code",
   "execution_count": 69,
   "id": "458fe744",
   "metadata": {},
   "outputs": [
    {
     "data": {
      "text/plain": [
       "0.3660130718954248"
      ]
     },
     "execution_count": 69,
     "metadata": {},
     "output_type": "execute_result"
    }
   ],
   "source": [
    "classifier_tree.fit(Ftrain, Ltrain)\n",
    "classifier_tree.score(Ftest,Ltest)"
   ]
  },
  {
   "cell_type": "code",
   "execution_count": 70,
   "id": "60ea8164",
   "metadata": {},
   "outputs": [
    {
     "name": "stdout",
     "output_type": "stream",
     "text": [
      "                               precision    recall  f1-score   support\n",
      "\n",
      "               bacterial_spot       0.35      0.35      0.35       349\n",
      "                 early_blight       0.15      0.14      0.14       182\n",
      "                      healthy       0.46      0.41      0.43       258\n",
      "                  late_blight       0.32      0.29      0.30       316\n",
      "                    leaf_mold       0.22      0.24      0.23       145\n",
      "           septoria_leaf_spot       0.36      0.48      0.41       262\n",
      "                  target_spot       0.24      0.28      0.26       229\n",
      "          tomato_mosaic_virus       0.10      0.10      0.10        58\n",
      "tomato_yellow_leaf_curl_virus       0.58      0.50      0.53       857\n",
      "      two-spotted_spider_mite       0.33      0.40      0.36       251\n",
      "\n",
      "                     accuracy                           0.38      2907\n",
      "                    macro avg       0.31      0.32      0.31      2907\n",
      "                 weighted avg       0.39      0.38      0.38      2907\n",
      "\n",
      "[[122  31  15  26  12  17  48   2  56  20]\n",
      " [ 22  25   5  24  13  18  20   0  32  23]\n",
      " [ 23   3 105  18   7  17  21   3  36  25]\n",
      " [ 25  15  21  92  15  49  17   9  53  20]\n",
      " [  5  11   5  23  35  20   4   5  29   8]\n",
      " [ 11  14  13  23  11 125  17   2  34  12]\n",
      " [ 14  16  19  15  13  17  63   5  22  45]\n",
      " [ 10   0   2   4   5   4   4   6  18   5]\n",
      " [102  35  32  54  40  73  32  21 425  43]\n",
      " [ 16  17   9  13  11  12  38   7  28 100]]\n"
     ]
    }
   ],
   "source": [
    "y_predict = classifier_tree.fit(Ftrain, Ltrain).predict(Ftest)\n",
    "class_names = target.unique()\n",
    "print(classification_report(Ltest, y_predict, target_names=class_names))\n",
    "print(confusion_matrix(Ltest, y_predict))"
   ]
  },
  {
   "cell_type": "markdown",
   "id": "75817642",
   "metadata": {},
   "source": [
    "# KNN on blue channel data"
   ]
  },
  {
   "cell_type": "code",
   "execution_count": 71,
   "id": "531e3624",
   "metadata": {},
   "outputs": [
    {
     "data": {
      "text/plain": [
       "0.544891640866873"
      ]
     },
     "execution_count": 71,
     "metadata": {},
     "output_type": "execute_result"
    }
   ],
   "source": [
    "#reading numpy array data\n",
    "gray_test = np.load('blue_data.npy')\n",
    "#reading csv file\n",
    "gray_df = pd.read_csv('blue_data.csv')\n",
    "loaded = []\n",
    "for i in gray_test:\n",
    "    k = []\n",
    "    k = np.asarray(i,dtype='uint8')\n",
    "    loaded.append(k)\n",
    "features = loaded\n",
    "target = gray_df['disease']\n",
    "Ftrain,Ftest,Ltrain,Ltest=train_test_split(features,target, test_size=0.20, random_state=20)\n",
    "Ftrain = minmax.fit_transform(Ftrain)\n",
    "Ftest = minmax.fit_transform(Ftest)\n",
    "kmodel.fit(Ftrain,Ltrain)\n",
    "kmodel.score(Ftest,Ltest)"
   ]
  },
  {
   "cell_type": "code",
   "execution_count": 72,
   "id": "1314e157",
   "metadata": {},
   "outputs": [
    {
     "name": "stdout",
     "output_type": "stream",
     "text": [
      "                               precision    recall  f1-score   support\n",
      "\n",
      "               bacterial_spot       0.32      0.85      0.47       349\n",
      "                 early_blight       0.00      0.00      0.00       182\n",
      "                      healthy       0.52      0.86      0.65       258\n",
      "                  late_blight       0.57      0.40      0.47       316\n",
      "                    leaf_mold       0.65      0.63      0.64       145\n",
      "           septoria_leaf_spot       0.57      0.54      0.56       262\n",
      "                  target_spot       0.54      0.21      0.30       229\n",
      "          tomato_mosaic_virus       0.44      0.12      0.19        58\n",
      "tomato_yellow_leaf_curl_virus       0.88      0.62      0.73       857\n",
      "      two-spotted_spider_mite       0.50      0.46      0.48       251\n",
      "\n",
      "                     accuracy                           0.54      2907\n",
      "                    macro avg       0.50      0.47      0.45      2907\n",
      "                 weighted avg       0.58      0.54      0.53      2907\n",
      "\n",
      "[[298   0  31  10   0   3   0   0   4   3]\n",
      " [104   0  17   8   7   4  13   1  20   8]\n",
      " [ 17   0 222  14   0   0   1   0   0   4]\n",
      " [ 55   0  39 127  12  44   6   2  19  12]\n",
      " [ 14   0   7   5  91  12   4   2   1   9]\n",
      " [ 47   0   7  16  19 142   4   1  12  14]\n",
      " [ 61   0  67  11   1  13  48   2   0  26]\n",
      " [  3   0   6  14   2   9   2   7   0  15]\n",
      " [245   0  12  16   8  15   2   1 533  25]\n",
      " [ 80   0  22   1   1   7   9   0  15 116]]\n"
     ]
    },
    {
     "name": "stderr",
     "output_type": "stream",
     "text": [
      "C:\\Users\\ravic\\anaconda3\\lib\\site-packages\\sklearn\\metrics\\_classification.py:1248: UndefinedMetricWarning: Precision and F-score are ill-defined and being set to 0.0 in labels with no predicted samples. Use `zero_division` parameter to control this behavior.\n",
      "  _warn_prf(average, modifier, msg_start, len(result))\n",
      "C:\\Users\\ravic\\anaconda3\\lib\\site-packages\\sklearn\\metrics\\_classification.py:1248: UndefinedMetricWarning: Precision and F-score are ill-defined and being set to 0.0 in labels with no predicted samples. Use `zero_division` parameter to control this behavior.\n",
      "  _warn_prf(average, modifier, msg_start, len(result))\n",
      "C:\\Users\\ravic\\anaconda3\\lib\\site-packages\\sklearn\\metrics\\_classification.py:1248: UndefinedMetricWarning: Precision and F-score are ill-defined and being set to 0.0 in labels with no predicted samples. Use `zero_division` parameter to control this behavior.\n",
      "  _warn_prf(average, modifier, msg_start, len(result))\n"
     ]
    }
   ],
   "source": [
    "#printing results of the kmodel\n",
    "y_predict = kmodel.fit(Ftrain, Ltrain).predict(Ftest)\n",
    "class_names = target.unique()\n",
    "print(classification_report(Ltest, y_predict, target_names=class_names))\n",
    "print(confusion_matrix(Ltest, y_predict))"
   ]
  },
  {
   "cell_type": "markdown",
   "id": "f452a113",
   "metadata": {},
   "source": [
    "# logistic on blue channel data"
   ]
  },
  {
   "cell_type": "code",
   "execution_count": 73,
   "id": "de158586",
   "metadata": {},
   "outputs": [
    {
     "data": {
      "text/plain": [
       "0.5356037151702786"
      ]
     },
     "execution_count": 73,
     "metadata": {},
     "output_type": "execute_result"
    }
   ],
   "source": [
    "model.fit(Ftrain,Ltrain)\n",
    "model.score(Ftest,Ltest)"
   ]
  },
  {
   "cell_type": "code",
   "execution_count": 74,
   "id": "489ce7e9",
   "metadata": {},
   "outputs": [
    {
     "name": "stdout",
     "output_type": "stream",
     "text": [
      "                               precision    recall  f1-score   support\n",
      "\n",
      "               bacterial_spot       0.55      0.53      0.54       349\n",
      "                 early_blight       0.20      0.07      0.11       182\n",
      "                      healthy       0.52      0.71      0.60       258\n",
      "                  late_blight       0.45      0.45      0.45       316\n",
      "                    leaf_mold       0.51      0.57      0.54       145\n",
      "           septoria_leaf_spot       0.48      0.31      0.37       262\n",
      "                  target_spot       0.30      0.42      0.35       229\n",
      "          tomato_mosaic_virus       0.33      0.36      0.34        58\n",
      "tomato_yellow_leaf_curl_virus       0.84      0.72      0.77       857\n",
      "      two-spotted_spider_mite       0.36      0.56      0.44       251\n",
      "\n",
      "                     accuracy                           0.54      2907\n",
      "                    macro avg       0.45      0.47      0.45      2907\n",
      "                 weighted avg       0.55      0.54      0.53      2907\n",
      "\n",
      "[[185   8  31  22   0   1  30   0  33  39]\n",
      " [ 29  13  13  19   9  11  35   3  31  19]\n",
      " [  3   2 182  21   2   1  35   0   0  12]\n",
      " [ 17  10  42 141  21  22  22   6  19  16]\n",
      " [  0   3   2  17  82  17   7   5   0  12]\n",
      " [ 12   8   1  20  28  80  45  13  19  36]\n",
      " [ 11   0  56  16   1   7  97   2   0  39]\n",
      " [  1   0   2  10   2   6   5  21   2   9]\n",
      " [ 61  14   7  39  11  15  16   7 615  72]\n",
      " [ 19   6  15   5   5   6  34   7  13 141]]\n"
     ]
    }
   ],
   "source": [
    "#classification report\n",
    "y_predict = model.fit(Ftrain, Ltrain).predict(Ftest)\n",
    "class_names = target.unique()\n",
    "print(classification_report(Ltest, y_predict, target_names=class_names))\n",
    "print(confusion_matrix(Ltest, y_predict))"
   ]
  },
  {
   "cell_type": "markdown",
   "id": "c7585c1d",
   "metadata": {},
   "source": [
    "# SVM on blue channel data"
   ]
  },
  {
   "cell_type": "code",
   "execution_count": 75,
   "id": "06fb4a0f",
   "metadata": {},
   "outputs": [
    {
     "name": "stdout",
     "output_type": "stream",
     "text": [
      "0.5356037151702786\n"
     ]
    }
   ],
   "source": [
    "clf.fit(Ftrain,Ltrain)\n",
    "y_pred = clf.predict(Ftest)\n",
    "print(accuracy_score(Ltest,y_pred))"
   ]
  },
  {
   "cell_type": "code",
   "execution_count": 76,
   "id": "03a12a5f",
   "metadata": {},
   "outputs": [
    {
     "name": "stdout",
     "output_type": "stream",
     "text": [
      "                               precision    recall  f1-score   support\n",
      "\n",
      "               bacterial_spot       0.54      0.56      0.55       349\n",
      "                 early_blight       0.22      0.21      0.22       182\n",
      "                      healthy       0.51      0.80      0.62       258\n",
      "                  late_blight       0.45      0.41      0.43       316\n",
      "                    leaf_mold       0.47      0.50      0.49       145\n",
      "           septoria_leaf_spot       0.43      0.27      0.33       262\n",
      "                  target_spot       0.33      0.37      0.35       229\n",
      "          tomato_mosaic_virus       0.29      0.41      0.34        58\n",
      "tomato_yellow_leaf_curl_virus       0.85      0.70      0.77       857\n",
      "      two-spotted_spider_mite       0.41      0.52      0.46       251\n",
      "\n",
      "                     accuracy                           0.54      2907\n",
      "                    macro avg       0.45      0.48      0.46      2907\n",
      "                 weighted avg       0.55      0.54      0.54      2907\n",
      "\n",
      "[[196  17  34  19   3   0  16   1  36  27]\n",
      " [ 24  38  13  16   8  11  28   3  25  16]\n",
      " [  2   6 206  20   2   0  14   0   0   8]\n",
      " [ 19  23  45 129  16  19  22  12  17  14]\n",
      " [  0   8   1  22  73  18   6   7   3   7]\n",
      " [  9  25   9  26  27  72  31  16  17  30]\n",
      " [ 16  11  64   8   7   7  85   2   1  28]\n",
      " [  0   0   4   9   4   6   2  24   1   8]\n",
      " [ 70  33   8  31  12  24  19   8 604  48]\n",
      " [ 26   9  18   4   2  11  32  11   8 130]]\n"
     ]
    }
   ],
   "source": [
    "#classification report\n",
    "y_predict = clf.fit(Ftrain, Ltrain).predict(Ftest)\n",
    "class_names = target.unique()\n",
    "print(classification_report(Ltest, y_predict, target_names=class_names))\n",
    "print(confusion_matrix(Ltest, y_predict))"
   ]
  },
  {
   "cell_type": "markdown",
   "id": "f4eb8c6c",
   "metadata": {},
   "source": [
    "# Random Forest on blue channel data"
   ]
  },
  {
   "cell_type": "code",
   "execution_count": 77,
   "id": "b71407b2",
   "metadata": {},
   "outputs": [
    {
     "data": {
      "text/plain": [
       "0.5363041982105987"
      ]
     },
     "execution_count": 77,
     "metadata": {},
     "output_type": "execute_result"
    }
   ],
   "source": [
    "classifier_rf.fit(Ftrain, Ltrain)\n",
    "classifier_rf.oob_score_"
   ]
  },
  {
   "cell_type": "code",
   "execution_count": 78,
   "id": "f7d75463",
   "metadata": {},
   "outputs": [
    {
     "name": "stdout",
     "output_type": "stream",
     "text": [
      "                               precision    recall  f1-score   support\n",
      "\n",
      "               bacterial_spot       0.69      0.55      0.61       349\n",
      "                 early_blight       0.00      0.00      0.00       182\n",
      "                      healthy       0.42      0.89      0.57       258\n",
      "                  late_blight       0.48      0.22      0.30       316\n",
      "                    leaf_mold       0.82      0.32      0.46       145\n",
      "           septoria_leaf_spot       0.46      0.55      0.50       262\n",
      "                  target_spot       0.38      0.18      0.24       229\n",
      "          tomato_mosaic_virus       0.00      0.00      0.00        58\n",
      "tomato_yellow_leaf_curl_virus       0.60      0.93      0.73       857\n",
      "      two-spotted_spider_mite       0.51      0.24      0.32       251\n",
      "\n",
      "                     accuracy                           0.54      2907\n",
      "                    macro avg       0.44      0.39      0.37      2907\n",
      "                 weighted avg       0.50      0.54      0.49      2907\n",
      "\n",
      "[[192   0  44  11   0   4   5   0  91   2]\n",
      " [ 18   0  14  12   1  22  10   0  99   6]\n",
      " [  7   0 230   4   1   1   6   0   7   2]\n",
      " [  8   0  91  70   5  54   9   0  72   7]\n",
      " [  3   0   8  16  46  31   6   0  31   4]\n",
      " [ 14   0   8  14   2 145   6   0  68   5]\n",
      " [  9   0  90   5   0  35  41   0  32  17]\n",
      " [  0   0   8   5   1   8   2   0  22  12]\n",
      " [ 24   0   8   5   0  14   3   0 801   2]\n",
      " [  3   0  45   4   0   4  21   0 115  59]]\n"
     ]
    },
    {
     "name": "stderr",
     "output_type": "stream",
     "text": [
      "C:\\Users\\ravic\\anaconda3\\lib\\site-packages\\sklearn\\metrics\\_classification.py:1248: UndefinedMetricWarning: Precision and F-score are ill-defined and being set to 0.0 in labels with no predicted samples. Use `zero_division` parameter to control this behavior.\n",
      "  _warn_prf(average, modifier, msg_start, len(result))\n",
      "C:\\Users\\ravic\\anaconda3\\lib\\site-packages\\sklearn\\metrics\\_classification.py:1248: UndefinedMetricWarning: Precision and F-score are ill-defined and being set to 0.0 in labels with no predicted samples. Use `zero_division` parameter to control this behavior.\n",
      "  _warn_prf(average, modifier, msg_start, len(result))\n",
      "C:\\Users\\ravic\\anaconda3\\lib\\site-packages\\sklearn\\metrics\\_classification.py:1248: UndefinedMetricWarning: Precision and F-score are ill-defined and being set to 0.0 in labels with no predicted samples. Use `zero_division` parameter to control this behavior.\n",
      "  _warn_prf(average, modifier, msg_start, len(result))\n"
     ]
    }
   ],
   "source": [
    "y_predict = classifier_rf.fit(Ftrain, Ltrain).predict(Ftest)\n",
    "class_names = target.unique()\n",
    "print(classification_report(Ltest, y_predict, target_names=class_names))\n",
    "print(confusion_matrix(Ltest, y_predict))"
   ]
  },
  {
   "cell_type": "markdown",
   "id": "fb1ca20e",
   "metadata": {},
   "source": [
    "# Naive bayes on blue channel data"
   ]
  },
  {
   "cell_type": "code",
   "execution_count": 79,
   "id": "11ea0b85",
   "metadata": {},
   "outputs": [
    {
     "data": {
      "text/plain": [
       "0.5022359821121432"
      ]
     },
     "execution_count": 79,
     "metadata": {},
     "output_type": "execute_result"
    }
   ],
   "source": [
    "gnb.fit(Ftrain, Ltrain)\n",
    "GaussianNB()\n",
    "y_pred = gnb.predict(Ftest)\n",
    "metrics.accuracy_score(Ltest, y_pred)"
   ]
  },
  {
   "cell_type": "code",
   "execution_count": 80,
   "id": "b8a32aab",
   "metadata": {},
   "outputs": [
    {
     "name": "stdout",
     "output_type": "stream",
     "text": [
      "                               precision    recall  f1-score   support\n",
      "\n",
      "               bacterial_spot       0.64      0.64      0.64       349\n",
      "                 early_blight       0.20      0.22      0.21       182\n",
      "                      healthy       0.52      0.64      0.57       258\n",
      "                  late_blight       0.46      0.29      0.35       316\n",
      "                    leaf_mold       0.55      0.52      0.53       145\n",
      "           septoria_leaf_spot       0.40      0.50      0.45       262\n",
      "                  target_spot       0.37      0.50      0.43       229\n",
      "          tomato_mosaic_virus       0.17      0.76      0.27        58\n",
      "tomato_yellow_leaf_curl_virus       0.88      0.58      0.70       857\n",
      "      two-spotted_spider_mite       0.32      0.31      0.31       251\n",
      "\n",
      "                     accuracy                           0.50      2907\n",
      "                    macro avg       0.45      0.49      0.45      2907\n",
      "                 weighted avg       0.57      0.50      0.52      2907\n",
      "\n",
      "[[222  13  39   7   1   1  21   6  18  21]\n",
      " [ 16  40   7  30  10  20  20   5  21  13]\n",
      " [  5   1 164   9   5   7  64   0   0   3]\n",
      " [  3  39  70  91  13  34  16  37  10   3]\n",
      " [  2   2   2   9  75  28   6  16   1   4]\n",
      " [ 15  11   4  15  19 132  14  30   7  15]\n",
      " [  4   9  17  15   0  43 114  12   0  15]\n",
      " [  1   0   1   0   3   5   1  44   1   2]\n",
      " [ 69  64   8  19   7  26  11  66 501  86]\n",
      " [  8  22   5   5   4  33  38  48  11  77]]\n"
     ]
    }
   ],
   "source": [
    "class_names = target.unique()\n",
    "print(classification_report(Ltest, y_pred, target_names=class_names))\n",
    "print(confusion_matrix(Ltest, y_pred))"
   ]
  },
  {
   "cell_type": "markdown",
   "id": "f125f7c4",
   "metadata": {},
   "source": [
    "# Decision Tree on blue channel"
   ]
  },
  {
   "cell_type": "code",
   "execution_count": 81,
   "id": "88bfbe14",
   "metadata": {},
   "outputs": [
    {
     "data": {
      "text/plain": [
       "0.4024767801857585"
      ]
     },
     "execution_count": 81,
     "metadata": {},
     "output_type": "execute_result"
    }
   ],
   "source": [
    "classifier_tree.fit(Ftrain, Ltrain)\n",
    "classifier_tree.score(Ftest,Ltest)"
   ]
  },
  {
   "cell_type": "code",
   "execution_count": 82,
   "id": "6e2c73b8",
   "metadata": {},
   "outputs": [
    {
     "name": "stdout",
     "output_type": "stream",
     "text": [
      "                               precision    recall  f1-score   support\n",
      "\n",
      "               bacterial_spot       0.42      0.41      0.42       349\n",
      "                 early_blight       0.12      0.12      0.12       182\n",
      "                      healthy       0.51      0.58      0.54       258\n",
      "                  late_blight       0.35      0.39      0.36       316\n",
      "                    leaf_mold       0.27      0.30      0.29       145\n",
      "           septoria_leaf_spot       0.30      0.31      0.31       262\n",
      "                  target_spot       0.23      0.28      0.25       229\n",
      "          tomato_mosaic_virus       0.08      0.10      0.09        58\n",
      "tomato_yellow_leaf_curl_virus       0.72      0.54      0.62       857\n",
      "      two-spotted_spider_mite       0.29      0.37      0.33       251\n",
      "\n",
      "                     accuracy                           0.41      2907\n",
      "                    macro avg       0.33      0.34      0.33      2907\n",
      "                 weighted avg       0.44      0.41      0.42      2907\n",
      "\n",
      "[[144  13  32  18  10  14  38   6  44  30]\n",
      " [ 26  21   8  18  10  20  22   6  28  23]\n",
      " [  7  10 150  25   8   7  30   2   5  14]\n",
      " [ 19  24  25 122  19  37  17  11  20  22]\n",
      " [  2   9   5  25  44  27   9   3  13   8]\n",
      " [ 11  12   6  55  17  82  29   9  28  13]\n",
      " [ 17  19  26  21  12  16  64  12  10  32]\n",
      " [  3   2   6   6   4   7  11   6   4   9]\n",
      " [101  46  17  44  27  41  28  14 465  74]\n",
      " [ 10  14  19  19  12  18  26  10  29  94]]\n"
     ]
    }
   ],
   "source": [
    "y_predict = classifier_tree.fit(Ftrain, Ltrain).predict(Ftest)\n",
    "class_names = target.unique()\n",
    "print(classification_report(Ltest, y_predict, target_names=class_names))\n",
    "print(confusion_matrix(Ltest, y_predict))"
   ]
  }
 ],
 "metadata": {
  "kernelspec": {
   "display_name": "Python 3 (ipykernel)",
   "language": "python",
   "name": "python3"
  },
  "language_info": {
   "codemirror_mode": {
    "name": "ipython",
    "version": 3
   },
   "file_extension": ".py",
   "mimetype": "text/x-python",
   "name": "python",
   "nbconvert_exporter": "python",
   "pygments_lexer": "ipython3",
   "version": "3.9.7"
  }
 },
 "nbformat": 4,
 "nbformat_minor": 5
}
