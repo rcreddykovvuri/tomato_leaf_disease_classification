{
 "cells": [
  {
   "cell_type": "code",
   "execution_count": 1,
   "id": "bcdb1517",
   "metadata": {},
   "outputs": [],
   "source": [
    "import numpy as np #importing numpy\n",
    "import pandas as pd #importing pandas\n",
    "import PIL #importing pillow for image processing\n",
    "from PIL import Image#importing image from pillow library\n",
    "import skimage#importing skimage library\n",
    "import os#importing os library\n",
    "import time#importing time library\n",
    "\n",
    "#Capture start time of the program\n",
    "start_time = time.time()"
   ]
  },
  {
   "cell_type": "markdown",
   "id": "e1e76605",
   "metadata": {},
   "source": [
    "# RGB Data"
   ]
  },
  {
   "cell_type": "code",
   "execution_count": 2,
   "id": "c9d1dd08",
   "metadata": {},
   "outputs": [],
   "source": [
    "os.chdir('D://DKIT//dissertation//Dataset_of_Tomato_Leaves//plantvillage//Preprocessed_data//32//PCA//')\n",
    "features = pd.read_csv('rgb.csv')\n",
    "#changing path\n",
    "os.chdir('D://DKIT//dissertation//Dataset_of_Tomato_Leaves//plantvillage//Preprocessed_data//32//vector//')\n",
    "#reading csv file\n",
    "rgb_df = pd.read_csv('rgb_data.csv')\n",
    "features = features.values"
   ]
  },
  {
   "cell_type": "code",
   "execution_count": 3,
   "id": "c6d5658c",
   "metadata": {},
   "outputs": [],
   "source": [
    "#assigning target\n",
    "target = rgb_df['disease']\n",
    "#splitting the data to 80 percent and 20 percent\n",
    "from sklearn.model_selection import train_test_split\n",
    "Ftrain,Ftest,Ltrain,Ltest=train_test_split(features,target, test_size=0.20, random_state=24)"
   ]
  },
  {
   "cell_type": "code",
   "execution_count": 4,
   "id": "e1ddad97",
   "metadata": {},
   "outputs": [],
   "source": [
    "from sklearn.preprocessing import StandardScaler\n",
    "scaler = StandardScaler()\n",
    "Ftrain = scaler.fit_transform(Ftrain)\n",
    "Ftest = scaler.fit_transform(Ftest)"
   ]
  },
  {
   "cell_type": "code",
   "execution_count": 5,
   "id": "1fa0433e",
   "metadata": {},
   "outputs": [],
   "source": [
    "#importing classification report and confusion matrix\n",
    "from sklearn.metrics import classification_report, confusion_matrix"
   ]
  },
  {
   "cell_type": "markdown",
   "id": "d466ef5f",
   "metadata": {},
   "source": [
    "# SVM(poly) on RGB data"
   ]
  },
  {
   "cell_type": "code",
   "execution_count": 6,
   "id": "2427ed51",
   "metadata": {},
   "outputs": [
    {
     "name": "stdout",
     "output_type": "stream",
     "text": [
      "0.586859305125559\n"
     ]
    }
   ],
   "source": [
    "from sklearn.svm import SVC\n",
    "from sklearn.metrics import accuracy_score\n",
    "\n",
    "svm_poly = SVC(kernel='poly')\n",
    "svm_poly.fit(Ftrain,Ltrain)\n",
    "y_pred = svm_poly.predict(Ftest)\n",
    "print(accuracy_score(Ltest,y_pred))"
   ]
  },
  {
   "cell_type": "code",
   "execution_count": 7,
   "id": "bf286604",
   "metadata": {},
   "outputs": [
    {
     "name": "stdout",
     "output_type": "stream",
     "text": [
      "                               precision    recall  f1-score   support\n",
      "\n",
      "               bacterial_spot       0.41      0.74      0.53       345\n",
      "                 early_blight       0.46      0.07      0.12       153\n",
      "                      healthy       0.64      0.68      0.66       234\n",
      "                  late_blight       0.63      0.34      0.45       309\n",
      "                    leaf_mold       0.63      0.22      0.33       145\n",
      "           septoria_leaf_spot       0.47      0.44      0.45       293\n",
      "                  target_spot       0.44      0.43      0.44       240\n",
      "          tomato_mosaic_virus       0.00      0.00      0.00        54\n",
      "tomato_yellow_leaf_curl_virus       0.79      0.91      0.84       854\n",
      "      two-spotted_spider_mite       0.44      0.49      0.46       280\n",
      "\n",
      "                     accuracy                           0.59      2907\n",
      "                    macro avg       0.49      0.43      0.43      2907\n",
      "                 weighted avg       0.58      0.59      0.56      2907\n",
      "\n",
      "[[254   2   1   5   0   8   4   0  59  12]\n",
      " [ 59  11   2   6   2   8  23   0  19  23]\n",
      " [ 37   0 159  18   4   6   8   0   0   2]\n",
      " [ 38   2  40 106   5  45  24   0  35  14]\n",
      " [ 31   3  18   5  32  23  18   0   5  10]\n",
      " [ 34   0  15  17   2 129  24   0  43  29]\n",
      " [ 49   2   3   6   5  13 104   0   2  56]\n",
      " [ 24   0   5   1   0  11   2   0   1  10]\n",
      " [ 44   1   1   1   0  16   1   0 775  15]\n",
      " [ 45   3   3   2   1  18  29   0  43 136]]\n"
     ]
    },
    {
     "name": "stderr",
     "output_type": "stream",
     "text": [
      "C:\\Users\\ravic\\anaconda3\\lib\\site-packages\\sklearn\\metrics\\_classification.py:1318: UndefinedMetricWarning: Precision and F-score are ill-defined and being set to 0.0 in labels with no predicted samples. Use `zero_division` parameter to control this behavior.\n",
      "  _warn_prf(average, modifier, msg_start, len(result))\n",
      "C:\\Users\\ravic\\anaconda3\\lib\\site-packages\\sklearn\\metrics\\_classification.py:1318: UndefinedMetricWarning: Precision and F-score are ill-defined and being set to 0.0 in labels with no predicted samples. Use `zero_division` parameter to control this behavior.\n",
      "  _warn_prf(average, modifier, msg_start, len(result))\n",
      "C:\\Users\\ravic\\anaconda3\\lib\\site-packages\\sklearn\\metrics\\_classification.py:1318: UndefinedMetricWarning: Precision and F-score are ill-defined and being set to 0.0 in labels with no predicted samples. Use `zero_division` parameter to control this behavior.\n",
      "  _warn_prf(average, modifier, msg_start, len(result))\n"
     ]
    }
   ],
   "source": [
    "#classification report\n",
    "y_predict = svm_poly.fit(Ftrain, Ltrain).predict(Ftest)\n",
    "class_names = target.unique()\n",
    "print(classification_report(Ltest, y_predict, target_names=class_names))\n",
    "print(confusion_matrix(Ltest, y_predict))"
   ]
  },
  {
   "cell_type": "markdown",
   "id": "4101cb88",
   "metadata": {},
   "source": [
    "# SVM(RBF) on RGB data"
   ]
  },
  {
   "cell_type": "code",
   "execution_count": 8,
   "id": "235aaf3a",
   "metadata": {},
   "outputs": [
    {
     "name": "stdout",
     "output_type": "stream",
     "text": [
      "0.6460268317853457\n"
     ]
    }
   ],
   "source": [
    "svm_rbf = SVC(kernel='rbf')\n",
    "svm_rbf.fit(Ftrain,Ltrain)\n",
    "y_pred = svm_rbf.predict(Ftest)\n",
    "print(accuracy_score(Ltest,y_pred))"
   ]
  },
  {
   "cell_type": "code",
   "execution_count": 9,
   "id": "1c7ce3a6",
   "metadata": {},
   "outputs": [
    {
     "name": "stdout",
     "output_type": "stream",
     "text": [
      "                               precision    recall  f1-score   support\n",
      "\n",
      "               bacterial_spot       0.59      0.66      0.63       345\n",
      "                 early_blight       0.55      0.19      0.28       153\n",
      "                      healthy       0.65      0.87      0.75       234\n",
      "                  late_blight       0.61      0.46      0.52       309\n",
      "                    leaf_mold       0.58      0.31      0.41       145\n",
      "           septoria_leaf_spot       0.56      0.49      0.52       293\n",
      "                  target_spot       0.50      0.66      0.57       240\n",
      "          tomato_mosaic_virus       1.00      0.02      0.04        54\n",
      "tomato_yellow_leaf_curl_virus       0.79      0.91      0.85       854\n",
      "      two-spotted_spider_mite       0.51      0.53      0.52       280\n",
      "\n",
      "                     accuracy                           0.65      2907\n",
      "                    macro avg       0.64      0.51      0.51      2907\n",
      "                 weighted avg       0.64      0.65      0.62      2907\n",
      "\n",
      "[[229   5   5  12   3   6   8   0  64  13]\n",
      " [ 48  29   1  10   3   7  17   0  21  17]\n",
      " [  2   0 204  10   4   2  10   0   0   2]\n",
      " [ 20   8  38 141   7  33  17   0  32  13]\n",
      " [ 12   3  19  14  45  10  25   0   7  10]\n",
      " [  7   0  20  26   7 145  32   0  35  21]\n",
      " [ 15   4   8   4   6  10 159   0   4  30]\n",
      " [  5   0  13   1   1  13  10   1   0  10]\n",
      " [ 30   0   1   6   0  13   2   0 777  25]\n",
      " [ 18   4   3   6   1  22  38   0  40 148]]\n"
     ]
    }
   ],
   "source": [
    "#classification report\n",
    "y_predict = svm_rbf.fit(Ftrain, Ltrain).predict(Ftest)\n",
    "class_names = target.unique()\n",
    "print(classification_report(Ltest, y_predict, target_names=class_names))\n",
    "print(confusion_matrix(Ltest, y_predict))"
   ]
  },
  {
   "cell_type": "markdown",
   "id": "670ea3cc",
   "metadata": {},
   "source": [
    "# SVM(sigmoid) on RGB data"
   ]
  },
  {
   "cell_type": "code",
   "execution_count": 10,
   "id": "8aaf1a20",
   "metadata": {},
   "outputs": [
    {
     "name": "stdout",
     "output_type": "stream",
     "text": [
      "0.3783969728242174\n"
     ]
    }
   ],
   "source": [
    "svm_si = SVC(kernel='sigmoid')\n",
    "svm_si.fit(Ftrain,Ltrain)\n",
    "y_pred = svm_si.predict(Ftest)\n",
    "print(accuracy_score(Ltest,y_pred))"
   ]
  },
  {
   "cell_type": "code",
   "execution_count": 11,
   "id": "9beeb8fa",
   "metadata": {},
   "outputs": [
    {
     "name": "stdout",
     "output_type": "stream",
     "text": [
      "                               precision    recall  f1-score   support\n",
      "\n",
      "               bacterial_spot       0.39      0.42      0.40       345\n",
      "                 early_blight       0.08      0.09      0.09       153\n",
      "                      healthy       0.28      0.24      0.26       234\n",
      "                  late_blight       0.16      0.29      0.21       309\n",
      "                    leaf_mold       0.11      0.03      0.04       145\n",
      "           septoria_leaf_spot       0.19      0.33      0.24       293\n",
      "                  target_spot       0.30      0.09      0.14       240\n",
      "          tomato_mosaic_virus       0.00      0.00      0.00        54\n",
      "tomato_yellow_leaf_curl_virus       0.80      0.73      0.76       854\n",
      "      two-spotted_spider_mite       0.24      0.18      0.21       280\n",
      "\n",
      "                     accuracy                           0.38      2907\n",
      "                    macro avg       0.26      0.24      0.23      2907\n",
      "                 weighted avg       0.40      0.38      0.38      2907\n",
      "\n",
      "[[145  53   4  91   2  11   6   0  26   7]\n",
      " [ 44  14   5  26   8  27   5   0  10  14]\n",
      " [ 10   1  55 139   5  19   3   0   1   1]\n",
      " [ 36   9  68  90   5  53   7   0  21  20]\n",
      " [  7   6  26  45   4  31  12   0   7   7]\n",
      " [  7   6  20  45   4  98  10   0  58  45]\n",
      " [ 21  32  10  43   7  72  22   0   1  32]\n",
      " [  1   4   3  15   0  25   3   0   1   2]\n",
      " [ 63  22   0  43   0  75   1   0 622  28]\n",
      " [ 38  22   4  14   2 112   4   0  34  50]]\n"
     ]
    },
    {
     "name": "stderr",
     "output_type": "stream",
     "text": [
      "C:\\Users\\ravic\\anaconda3\\lib\\site-packages\\sklearn\\metrics\\_classification.py:1318: UndefinedMetricWarning: Precision and F-score are ill-defined and being set to 0.0 in labels with no predicted samples. Use `zero_division` parameter to control this behavior.\n",
      "  _warn_prf(average, modifier, msg_start, len(result))\n",
      "C:\\Users\\ravic\\anaconda3\\lib\\site-packages\\sklearn\\metrics\\_classification.py:1318: UndefinedMetricWarning: Precision and F-score are ill-defined and being set to 0.0 in labels with no predicted samples. Use `zero_division` parameter to control this behavior.\n",
      "  _warn_prf(average, modifier, msg_start, len(result))\n",
      "C:\\Users\\ravic\\anaconda3\\lib\\site-packages\\sklearn\\metrics\\_classification.py:1318: UndefinedMetricWarning: Precision and F-score are ill-defined and being set to 0.0 in labels with no predicted samples. Use `zero_division` parameter to control this behavior.\n",
      "  _warn_prf(average, modifier, msg_start, len(result))\n"
     ]
    }
   ],
   "source": [
    "#classification report\n",
    "y_predict = svm_si.fit(Ftrain, Ltrain).predict(Ftest)\n",
    "class_names = target.unique()\n",
    "print(classification_report(Ltest, y_predict, target_names=class_names))\n",
    "print(confusion_matrix(Ltest, y_predict))"
   ]
  },
  {
   "cell_type": "markdown",
   "id": "f985c500",
   "metadata": {},
   "source": [
    "# Bernouli Naive bayes on RGB data"
   ]
  },
  {
   "cell_type": "code",
   "execution_count": 12,
   "id": "75a3f18f",
   "metadata": {},
   "outputs": [
    {
     "data": {
      "text/plain": [
       "0.4630202958376333"
      ]
     },
     "execution_count": 12,
     "metadata": {},
     "output_type": "execute_result"
    }
   ],
   "source": [
    "from sklearn.naive_bayes import BernoulliNB\n",
    "from sklearn import metrics\n",
    "bnb = BernoulliNB()\n",
    "bnb.fit(Ftrain, Ltrain)\n",
    "y_pred = bnb.predict(Ftest)\n",
    "metrics.accuracy_score(Ltest, y_pred)"
   ]
  },
  {
   "cell_type": "code",
   "execution_count": 13,
   "id": "694c01aa",
   "metadata": {},
   "outputs": [
    {
     "name": "stderr",
     "output_type": "stream",
     "text": [
      "C:\\Users\\ravic\\anaconda3\\lib\\site-packages\\sklearn\\metrics\\_classification.py:1318: UndefinedMetricWarning: Precision and F-score are ill-defined and being set to 0.0 in labels with no predicted samples. Use `zero_division` parameter to control this behavior.\n",
      "  _warn_prf(average, modifier, msg_start, len(result))\n",
      "C:\\Users\\ravic\\anaconda3\\lib\\site-packages\\sklearn\\metrics\\_classification.py:1318: UndefinedMetricWarning: Precision and F-score are ill-defined and being set to 0.0 in labels with no predicted samples. Use `zero_division` parameter to control this behavior.\n",
      "  _warn_prf(average, modifier, msg_start, len(result))\n",
      "C:\\Users\\ravic\\anaconda3\\lib\\site-packages\\sklearn\\metrics\\_classification.py:1318: UndefinedMetricWarning: Precision and F-score are ill-defined and being set to 0.0 in labels with no predicted samples. Use `zero_division` parameter to control this behavior.\n",
      "  _warn_prf(average, modifier, msg_start, len(result))\n"
     ]
    },
    {
     "name": "stdout",
     "output_type": "stream",
     "text": [
      "                               precision    recall  f1-score   support\n",
      "\n",
      "               bacterial_spot       0.35      0.37      0.36       345\n",
      "                 early_blight       0.00      0.00      0.00       153\n",
      "                      healthy       0.41      0.71      0.52       234\n",
      "                  late_blight       0.00      0.00      0.00       309\n",
      "                    leaf_mold       0.00      0.00      0.00       145\n",
      "           septoria_leaf_spot       0.27      0.37      0.31       293\n",
      "                  target_spot       0.32      0.53      0.40       240\n",
      "          tomato_mosaic_virus       0.00      0.00      0.00        54\n",
      "tomato_yellow_leaf_curl_virus       0.61      0.96      0.74       854\n",
      "      two-spotted_spider_mite       0.00      0.00      0.00       280\n",
      "\n",
      "                     accuracy                           0.46      2907\n",
      "                    macro avg       0.20      0.29      0.23      2907\n",
      "                 weighted avg       0.31      0.46      0.37      2907\n",
      "\n",
      "[[127   0  19   0   0  11  17   0 171   0]\n",
      " [ 41   0   6   0   0  16  31   0  59   0]\n",
      " [ 20   0 167   0   0  38   7   0   2   0]\n",
      " [ 27   0 133   0   0  66  23   0  60   0]\n",
      " [ 52   0  16   0   0  37  26   0  14   0]\n",
      " [  9   0  38   0   0 107  58   0  81   0]\n",
      " [ 48   0  11   0   0  36 126   0  19   0]\n",
      " [ 11   0   6   0   0  20  11   0   6   0]\n",
      " [ 10   0   5   0   0  10  10   0 819   0]\n",
      " [ 17   0   5   0   0  58  86   0 114   0]]\n"
     ]
    }
   ],
   "source": [
    "class_names = target.unique()\n",
    "print(classification_report(Ltest, y_pred, target_names=class_names))\n",
    "print(confusion_matrix(Ltest, y_pred))"
   ]
  },
  {
   "cell_type": "markdown",
   "id": "0e8f617d",
   "metadata": {},
   "source": [
    "# Grayscale data"
   ]
  },
  {
   "cell_type": "code",
   "execution_count": 14,
   "id": "57a9845e",
   "metadata": {},
   "outputs": [],
   "source": [
    "os.chdir('D://DKIT//dissertation//Dataset_of_Tomato_Leaves//plantvillage//Preprocessed_data//32//PCA//')\n",
    "features = pd.read_csv('gray.csv')\n",
    "#changing path\n",
    "os.chdir('D://DKIT//dissertation//Dataset_of_Tomato_Leaves//plantvillage//Preprocessed_data//32//vector//')\n",
    "#reading csv file\n",
    "gray_df = pd.read_csv('gray_data.csv')\n",
    "features = features.values"
   ]
  },
  {
   "cell_type": "code",
   "execution_count": 15,
   "id": "d3abef95",
   "metadata": {},
   "outputs": [],
   "source": [
    "#assigning target to split the data\n",
    "target = gray_df['disease']"
   ]
  },
  {
   "cell_type": "code",
   "execution_count": 16,
   "id": "a86eb99c",
   "metadata": {},
   "outputs": [],
   "source": [
    "#splitting the data to train and test\n",
    "Ftrain,Ftest,Ltrain,Ltest=train_test_split(features,target, test_size=0.20, random_state=24)"
   ]
  },
  {
   "cell_type": "code",
   "execution_count": 17,
   "id": "f7fe2cee",
   "metadata": {},
   "outputs": [],
   "source": [
    "Ftrain = scaler.fit_transform(Ftrain)\n",
    "Ftest = scaler.fit_transform(Ftest)"
   ]
  },
  {
   "cell_type": "markdown",
   "id": "8bfc6d84",
   "metadata": {},
   "source": [
    "# SVM(poly) on grayscale data"
   ]
  },
  {
   "cell_type": "code",
   "execution_count": 18,
   "id": "c9665abf",
   "metadata": {},
   "outputs": [
    {
     "name": "stdout",
     "output_type": "stream",
     "text": [
      "0.37530099759201924\n"
     ]
    }
   ],
   "source": [
    "svm_poly.fit(Ftrain,Ltrain)\n",
    "y_pred = svm_poly.predict(Ftest)\n",
    "print(accuracy_score(Ltest,y_pred))"
   ]
  },
  {
   "cell_type": "code",
   "execution_count": 19,
   "id": "2456eda7",
   "metadata": {},
   "outputs": [
    {
     "name": "stdout",
     "output_type": "stream",
     "text": [
      "                               precision    recall  f1-score   support\n",
      "\n",
      "               bacterial_spot       0.40      0.06      0.11       345\n",
      "                 early_blight       0.27      0.02      0.04       153\n",
      "                      healthy       0.40      0.26      0.32       234\n",
      "                  late_blight       0.56      0.21      0.31       309\n",
      "                    leaf_mold       0.48      0.25      0.33       145\n",
      "           septoria_leaf_spot       0.62      0.27      0.38       293\n",
      "                  target_spot       0.35      0.03      0.05       240\n",
      "          tomato_mosaic_virus       0.00      0.00      0.00        54\n",
      "tomato_yellow_leaf_curl_virus       0.34      0.91      0.50       854\n",
      "      two-spotted_spider_mite       0.45      0.15      0.22       280\n",
      "\n",
      "                     accuracy                           0.38      2907\n",
      "                    macro avg       0.39      0.22      0.22      2907\n",
      "                 weighted avg       0.41      0.38      0.30      2907\n",
      "\n",
      "[[ 21   0   9   3   1   0   3   0 306   2]\n",
      " [  7   3   2   8   3   5   5   0 113   7]\n",
      " [  1   0  61   2   1   1   0   0 168   0]\n",
      " [  7   6  26  65  14  19   4   0 162   6]\n",
      " [  4   0   7  11  36   7   0   0  78   2]\n",
      " [  0   0  10  11  13  79   0   0 176   4]\n",
      " [  2   0   3   3   1   6   7   0 197  21]\n",
      " [  0   0   0   0   1   0   0   0  53   0]\n",
      " [  8   2  32  10   5   9   1   0 777  10]\n",
      " [  2   0   3   3   0   2   0   0 228  42]]\n"
     ]
    },
    {
     "name": "stderr",
     "output_type": "stream",
     "text": [
      "C:\\Users\\ravic\\anaconda3\\lib\\site-packages\\sklearn\\metrics\\_classification.py:1318: UndefinedMetricWarning: Precision and F-score are ill-defined and being set to 0.0 in labels with no predicted samples. Use `zero_division` parameter to control this behavior.\n",
      "  _warn_prf(average, modifier, msg_start, len(result))\n",
      "C:\\Users\\ravic\\anaconda3\\lib\\site-packages\\sklearn\\metrics\\_classification.py:1318: UndefinedMetricWarning: Precision and F-score are ill-defined and being set to 0.0 in labels with no predicted samples. Use `zero_division` parameter to control this behavior.\n",
      "  _warn_prf(average, modifier, msg_start, len(result))\n",
      "C:\\Users\\ravic\\anaconda3\\lib\\site-packages\\sklearn\\metrics\\_classification.py:1318: UndefinedMetricWarning: Precision and F-score are ill-defined and being set to 0.0 in labels with no predicted samples. Use `zero_division` parameter to control this behavior.\n",
      "  _warn_prf(average, modifier, msg_start, len(result))\n"
     ]
    }
   ],
   "source": [
    "#classification report\n",
    "y_predict = svm_poly.fit(Ftrain, Ltrain).predict(Ftest)\n",
    "class_names = target.unique()\n",
    "print(classification_report(Ltest, y_predict, target_names=class_names))\n",
    "print(confusion_matrix(Ltest, y_predict))"
   ]
  },
  {
   "cell_type": "markdown",
   "id": "bd417df9",
   "metadata": {},
   "source": [
    "# SVM(RBF) on grayscale data"
   ]
  },
  {
   "cell_type": "code",
   "execution_count": 20,
   "id": "67772464",
   "metadata": {},
   "outputs": [
    {
     "name": "stdout",
     "output_type": "stream",
     "text": [
      "0.500515995872033\n"
     ]
    }
   ],
   "source": [
    "svm_rbf.fit(Ftrain,Ltrain)\n",
    "y_pred = svm_rbf.predict(Ftest)\n",
    "print(accuracy_score(Ltest,y_pred))"
   ]
  },
  {
   "cell_type": "code",
   "execution_count": 21,
   "id": "34bbfd97",
   "metadata": {},
   "outputs": [
    {
     "name": "stdout",
     "output_type": "stream",
     "text": [
      "                               precision    recall  f1-score   support\n",
      "\n",
      "               bacterial_spot       0.53      0.39      0.45       345\n",
      "                 early_blight       0.53      0.12      0.19       153\n",
      "                      healthy       0.46      0.77      0.57       234\n",
      "                  late_blight       0.57      0.43      0.49       309\n",
      "                    leaf_mold       0.49      0.43      0.46       145\n",
      "           septoria_leaf_spot       0.60      0.40      0.48       293\n",
      "                  target_spot       0.42      0.34      0.38       240\n",
      "          tomato_mosaic_virus       0.00      0.00      0.00        54\n",
      "tomato_yellow_leaf_curl_virus       0.50      0.71      0.59       854\n",
      "      two-spotted_spider_mite       0.47      0.42      0.45       280\n",
      "\n",
      "                     accuracy                           0.50      2907\n",
      "                    macro avg       0.46      0.40      0.41      2907\n",
      "                 weighted avg       0.50      0.50      0.48      2907\n",
      "\n",
      "[[133   5  16   8   4   1   9   0 164   5]\n",
      " [ 18  18   2  20   6   6  12   0  58  13]\n",
      " [  1   0 181   3   4   1   3   0  37   4]\n",
      " [  8   5  52 133  14  18   7   0  66   6]\n",
      " [  6   1   8  11  62   8   3   0  42   4]\n",
      " [  0   0  37  25  21 118  18   0  62  12]\n",
      " [  5   1   6   6   3  10  82   0  72  55]\n",
      " [  1   0  11   0   1   5   4   0  22  10]\n",
      " [ 72   1  77  23  10  19  19   0 609  24]\n",
      " [  8   3   6   5   1  11  36   0  91 119]]\n"
     ]
    },
    {
     "name": "stderr",
     "output_type": "stream",
     "text": [
      "C:\\Users\\ravic\\anaconda3\\lib\\site-packages\\sklearn\\metrics\\_classification.py:1318: UndefinedMetricWarning: Precision and F-score are ill-defined and being set to 0.0 in labels with no predicted samples. Use `zero_division` parameter to control this behavior.\n",
      "  _warn_prf(average, modifier, msg_start, len(result))\n",
      "C:\\Users\\ravic\\anaconda3\\lib\\site-packages\\sklearn\\metrics\\_classification.py:1318: UndefinedMetricWarning: Precision and F-score are ill-defined and being set to 0.0 in labels with no predicted samples. Use `zero_division` parameter to control this behavior.\n",
      "  _warn_prf(average, modifier, msg_start, len(result))\n",
      "C:\\Users\\ravic\\anaconda3\\lib\\site-packages\\sklearn\\metrics\\_classification.py:1318: UndefinedMetricWarning: Precision and F-score are ill-defined and being set to 0.0 in labels with no predicted samples. Use `zero_division` parameter to control this behavior.\n",
      "  _warn_prf(average, modifier, msg_start, len(result))\n"
     ]
    }
   ],
   "source": [
    "#classification report\n",
    "y_predict = svm_rbf.fit(Ftrain, Ltrain).predict(Ftest)\n",
    "class_names = target.unique()\n",
    "print(classification_report(Ltest, y_predict, target_names=class_names))\n",
    "print(confusion_matrix(Ltest, y_predict))"
   ]
  },
  {
   "cell_type": "markdown",
   "id": "c1ed23e8",
   "metadata": {},
   "source": [
    "# SVM(sigmoid) on Grayscale data"
   ]
  },
  {
   "cell_type": "code",
   "execution_count": 22,
   "id": "b79e8630",
   "metadata": {},
   "outputs": [
    {
     "name": "stdout",
     "output_type": "stream",
     "text": [
      "0.16615067079463364\n"
     ]
    }
   ],
   "source": [
    "svm_si.fit(Ftrain,Ltrain)\n",
    "y_pred = svm_si.predict(Ftest)\n",
    "print(accuracy_score(Ltest,y_pred))"
   ]
  },
  {
   "cell_type": "code",
   "execution_count": 23,
   "id": "c64cd0a6",
   "metadata": {},
   "outputs": [
    {
     "name": "stdout",
     "output_type": "stream",
     "text": [
      "                               precision    recall  f1-score   support\n",
      "\n",
      "               bacterial_spot       0.19      0.16      0.18       345\n",
      "                 early_blight       0.07      0.07      0.07       153\n",
      "                      healthy       0.01      0.01      0.01       234\n",
      "                  late_blight       0.13      0.22      0.16       309\n",
      "                    leaf_mold       0.04      0.02      0.03       145\n",
      "           septoria_leaf_spot       0.15      0.24      0.18       293\n",
      "                  target_spot       0.09      0.02      0.03       240\n",
      "          tomato_mosaic_virus       0.00      0.00      0.00        54\n",
      "tomato_yellow_leaf_curl_virus       0.25      0.30      0.27       854\n",
      "      two-spotted_spider_mite       0.09      0.04      0.06       280\n",
      "\n",
      "                     accuracy                           0.17      2907\n",
      "                    macro avg       0.10      0.11      0.10      2907\n",
      "                 weighted avg       0.15      0.17      0.15      2907\n",
      "\n",
      "[[ 56  25  19  61   8  17   6   4 140   9]\n",
      " [ 19  10   2  30  13  22   5   0  40  12]\n",
      " [ 16   0   2  98   0  20   0   0  98   0]\n",
      " [ 42   4  44  67  14  40   4   1  81  12]\n",
      " [  9   2  15  33   3  18   0   0  64   1]\n",
      " [  4   5  26  33   2  70   2   1  99  51]\n",
      " [ 13   4   7  14   2  62   4   0 126   8]\n",
      " [  2   2   0   8   0  10   0   0  32   0]\n",
      " [104  69  58 152  23 139  14   3 259  33]\n",
      " [ 24  13   3  19   5  84  11   0 109  12]]\n"
     ]
    }
   ],
   "source": [
    "#classification report\n",
    "y_predict = svm_si.fit(Ftrain, Ltrain).predict(Ftest)\n",
    "class_names = target.unique()\n",
    "print(classification_report(Ltest, y_predict, target_names=class_names))\n",
    "print(confusion_matrix(Ltest, y_predict))"
   ]
  },
  {
   "cell_type": "markdown",
   "id": "8ba631c4",
   "metadata": {},
   "source": [
    "# Bernouli Naive bayes on grayscale data"
   ]
  },
  {
   "cell_type": "code",
   "execution_count": 24,
   "id": "f9c1d1df",
   "metadata": {},
   "outputs": [
    {
     "data": {
      "text/plain": [
       "0.3068455452356381"
      ]
     },
     "execution_count": 24,
     "metadata": {},
     "output_type": "execute_result"
    }
   ],
   "source": [
    "bnb.fit(Ftrain, Ltrain)\n",
    "y_pred = bnb.predict(Ftest)\n",
    "metrics.accuracy_score(Ltest, y_pred)"
   ]
  },
  {
   "cell_type": "code",
   "execution_count": 25,
   "id": "5349d0e6",
   "metadata": {},
   "outputs": [
    {
     "name": "stdout",
     "output_type": "stream",
     "text": [
      "                               precision    recall  f1-score   support\n",
      "\n",
      "               bacterial_spot       0.38      0.10      0.16       345\n",
      "                 early_blight       0.00      0.00      0.00       153\n",
      "                      healthy       0.35      0.36      0.35       234\n",
      "                  late_blight       0.00      0.00      0.00       309\n",
      "                    leaf_mold       0.00      0.00      0.00       145\n",
      "           septoria_leaf_spot       0.22      0.27      0.24       293\n",
      "                  target_spot       0.00      0.00      0.00       240\n",
      "          tomato_mosaic_virus       0.00      0.00      0.00        54\n",
      "tomato_yellow_leaf_curl_virus       0.31      0.81      0.45       854\n",
      "      two-spotted_spider_mite       0.00      0.00      0.00       280\n",
      "\n",
      "                     accuracy                           0.31      2907\n",
      "                    macro avg       0.13      0.15      0.12      2907\n",
      "                 weighted avg       0.19      0.31      0.20      2907\n",
      "\n",
      "[[ 35   0  14   0   0  14   0   0 282   0]\n",
      " [  6   0   1   0   0   8   0   0 138   0]\n",
      " [  2   0  84   0   0  37   0   0 111   0]\n",
      " [  7   0  54   0   0  47   0   0 201   0]\n",
      " [  2   0   8   0   0  22   0   0 113   0]\n",
      " [  0   0  23   0   0  79   0   0 191   0]\n",
      " [  6   0   2   0   0  31   0   0 201   0]\n",
      " [  1   0   1   0   0   8   0   0  44   0]\n",
      " [ 28   0  56   0   0  76   0   0 694   0]\n",
      " [  6   0   0   0   0  30   0   0 244   0]]\n"
     ]
    },
    {
     "name": "stderr",
     "output_type": "stream",
     "text": [
      "C:\\Users\\ravic\\anaconda3\\lib\\site-packages\\sklearn\\metrics\\_classification.py:1318: UndefinedMetricWarning: Precision and F-score are ill-defined and being set to 0.0 in labels with no predicted samples. Use `zero_division` parameter to control this behavior.\n",
      "  _warn_prf(average, modifier, msg_start, len(result))\n",
      "C:\\Users\\ravic\\anaconda3\\lib\\site-packages\\sklearn\\metrics\\_classification.py:1318: UndefinedMetricWarning: Precision and F-score are ill-defined and being set to 0.0 in labels with no predicted samples. Use `zero_division` parameter to control this behavior.\n",
      "  _warn_prf(average, modifier, msg_start, len(result))\n",
      "C:\\Users\\ravic\\anaconda3\\lib\\site-packages\\sklearn\\metrics\\_classification.py:1318: UndefinedMetricWarning: Precision and F-score are ill-defined and being set to 0.0 in labels with no predicted samples. Use `zero_division` parameter to control this behavior.\n",
      "  _warn_prf(average, modifier, msg_start, len(result))\n"
     ]
    }
   ],
   "source": [
    "class_names = target.unique()\n",
    "print(classification_report(Ltest, y_pred, target_names=class_names))\n",
    "print(confusion_matrix(Ltest, y_pred))"
   ]
  },
  {
   "cell_type": "markdown",
   "id": "6f5719a1",
   "metadata": {},
   "source": [
    "# Red Channel data"
   ]
  },
  {
   "cell_type": "code",
   "execution_count": 26,
   "id": "5f8b0e11",
   "metadata": {},
   "outputs": [],
   "source": [
    "os.chdir('D://DKIT//dissertation//Dataset_of_Tomato_Leaves//plantvillage//Preprocessed_data//32//PCA//')\n",
    "features = pd.read_csv('red.csv')\n",
    "#changing path\n",
    "os.chdir('D://DKIT//dissertation//Dataset_of_Tomato_Leaves//plantvillage//Preprocessed_data//32//vector//')\n",
    "#reading csv file\n",
    "red_df = pd.read_csv('red_data.csv')\n",
    "features = features.values\n",
    "target = red_df['disease']\n",
    "#splitting the data to train and test\n",
    "Ftrain,Ftest,Ltrain,Ltest=train_test_split(features,target, test_size=0.20, random_state=24)"
   ]
  },
  {
   "cell_type": "code",
   "execution_count": 27,
   "id": "3b3bceb1",
   "metadata": {},
   "outputs": [],
   "source": [
    "Ftrain = scaler.fit_transform(Ftrain)\n",
    "Ftest = scaler.fit_transform(Ftest)"
   ]
  },
  {
   "cell_type": "markdown",
   "id": "c81dd4d2",
   "metadata": {},
   "source": [
    "# SVM(poly) on Red data"
   ]
  },
  {
   "cell_type": "code",
   "execution_count": 28,
   "id": "a9cb2e28",
   "metadata": {},
   "outputs": [
    {
     "name": "stdout",
     "output_type": "stream",
     "text": [
      "0.3931888544891641\n"
     ]
    }
   ],
   "source": [
    "svm_poly.fit(Ftrain,Ltrain)\n",
    "y_pred = svm_poly.predict(Ftest)\n",
    "print(accuracy_score(Ltest,y_pred))"
   ]
  },
  {
   "cell_type": "code",
   "execution_count": 29,
   "id": "35b2ceaf",
   "metadata": {},
   "outputs": [
    {
     "name": "stdout",
     "output_type": "stream",
     "text": [
      "                               precision    recall  f1-score   support\n",
      "\n",
      "               bacterial_spot       0.62      0.27      0.38       345\n",
      "                 early_blight       0.57      0.03      0.05       153\n",
      "                      healthy       0.39      0.25      0.31       234\n",
      "                  late_blight       0.55      0.23      0.33       309\n",
      "                    leaf_mold       0.46      0.30      0.36       145\n",
      "           septoria_leaf_spot       0.53      0.21      0.30       293\n",
      "                  target_spot       0.30      0.04      0.07       240\n",
      "          tomato_mosaic_virus       0.00      0.00      0.00        54\n",
      "tomato_yellow_leaf_curl_virus       0.35      0.87      0.50       854\n",
      "      two-spotted_spider_mite       0.45      0.19      0.27       280\n",
      "\n",
      "                     accuracy                           0.39      2907\n",
      "                    macro avg       0.42      0.24      0.26      2907\n",
      "                 weighted avg       0.44      0.39      0.33      2907\n",
      "\n",
      "[[ 93   1  13   6   0   1   1   0 229   1]\n",
      " [ 14   4   2   5   3   6   5   0 108   6]\n",
      " [  0   0  59   1   2   0   0   0 172   0]\n",
      " [  6   1  23  72  20  14   6   0 159   8]\n",
      " [  2   0  15  12  43   7   1   0  64   1]\n",
      " [  0   0   6  23  16  62   3   0 172  11]\n",
      " [  2   0   1   2   1   5   9   0 195  25]\n",
      " [  0   0   0   0   2   1   1   0  49   1]\n",
      " [ 32   0  29  10   7  15   1   0 747  13]\n",
      " [  1   1   3   1   0   5   3   0 212  54]]\n"
     ]
    },
    {
     "name": "stderr",
     "output_type": "stream",
     "text": [
      "C:\\Users\\ravic\\anaconda3\\lib\\site-packages\\sklearn\\metrics\\_classification.py:1318: UndefinedMetricWarning: Precision and F-score are ill-defined and being set to 0.0 in labels with no predicted samples. Use `zero_division` parameter to control this behavior.\n",
      "  _warn_prf(average, modifier, msg_start, len(result))\n",
      "C:\\Users\\ravic\\anaconda3\\lib\\site-packages\\sklearn\\metrics\\_classification.py:1318: UndefinedMetricWarning: Precision and F-score are ill-defined and being set to 0.0 in labels with no predicted samples. Use `zero_division` parameter to control this behavior.\n",
      "  _warn_prf(average, modifier, msg_start, len(result))\n",
      "C:\\Users\\ravic\\anaconda3\\lib\\site-packages\\sklearn\\metrics\\_classification.py:1318: UndefinedMetricWarning: Precision and F-score are ill-defined and being set to 0.0 in labels with no predicted samples. Use `zero_division` parameter to control this behavior.\n",
      "  _warn_prf(average, modifier, msg_start, len(result))\n"
     ]
    }
   ],
   "source": [
    "#classification report\n",
    "y_predict = svm_poly.fit(Ftrain, Ltrain).predict(Ftest)\n",
    "class_names = target.unique()\n",
    "print(classification_report(Ltest, y_predict, target_names=class_names))\n",
    "print(confusion_matrix(Ltest, y_predict))"
   ]
  },
  {
   "cell_type": "markdown",
   "id": "bcdfb873",
   "metadata": {},
   "source": [
    "# SVM(RBF) on Red data"
   ]
  },
  {
   "cell_type": "code",
   "execution_count": 30,
   "id": "5e806290",
   "metadata": {},
   "outputs": [
    {
     "name": "stdout",
     "output_type": "stream",
     "text": [
      "0.5149638802889577\n"
     ]
    }
   ],
   "source": [
    "svm_rbf.fit(Ftrain,Ltrain)\n",
    "y_pred = svm_rbf.predict(Ftest)\n",
    "print(accuracy_score(Ltest,y_pred))"
   ]
  },
  {
   "cell_type": "code",
   "execution_count": 31,
   "id": "e613add4",
   "metadata": {},
   "outputs": [
    {
     "name": "stdout",
     "output_type": "stream",
     "text": [
      "                               precision    recall  f1-score   support\n",
      "\n",
      "               bacterial_spot       0.57      0.47      0.52       345\n",
      "                 early_blight       0.66      0.14      0.23       153\n",
      "                      healthy       0.52      0.80      0.63       234\n",
      "                  late_blight       0.55      0.50      0.52       309\n",
      "                    leaf_mold       0.46      0.40      0.43       145\n",
      "           septoria_leaf_spot       0.51      0.31      0.38       293\n",
      "                  target_spot       0.44      0.32      0.37       240\n",
      "          tomato_mosaic_virus       0.00      0.00      0.00        54\n",
      "tomato_yellow_leaf_curl_virus       0.51      0.69      0.58       854\n",
      "      two-spotted_spider_mite       0.50      0.56      0.53       280\n",
      "\n",
      "                     accuracy                           0.51      2907\n",
      "                    macro avg       0.47      0.42      0.42      2907\n",
      "                 weighted avg       0.51      0.51      0.49      2907\n",
      "\n",
      "[[163   1  14  15   3   0   6   0 138   5]\n",
      " [ 23  21   4  16   6   7  11   0  51  14]\n",
      " [  0   0 188   2   5   1   5   0  32   1]\n",
      " [  5   4  29 154  11  19   9   0  71   7]\n",
      " [  8   2  11  12  58   9   1   0  38   6]\n",
      " [  2   0  29  34  20  91  21   0  74  22]\n",
      " [  2   0   4   6   3  15  77   0  77  56]\n",
      " [  0   0   6   0   2   7   5   0  19  15]\n",
      " [ 76   1  70  32  17  22  16   0 587  33]\n",
      " [  5   3   5   8   1   9  23   0  68 158]]\n"
     ]
    },
    {
     "name": "stderr",
     "output_type": "stream",
     "text": [
      "C:\\Users\\ravic\\anaconda3\\lib\\site-packages\\sklearn\\metrics\\_classification.py:1318: UndefinedMetricWarning: Precision and F-score are ill-defined and being set to 0.0 in labels with no predicted samples. Use `zero_division` parameter to control this behavior.\n",
      "  _warn_prf(average, modifier, msg_start, len(result))\n",
      "C:\\Users\\ravic\\anaconda3\\lib\\site-packages\\sklearn\\metrics\\_classification.py:1318: UndefinedMetricWarning: Precision and F-score are ill-defined and being set to 0.0 in labels with no predicted samples. Use `zero_division` parameter to control this behavior.\n",
      "  _warn_prf(average, modifier, msg_start, len(result))\n",
      "C:\\Users\\ravic\\anaconda3\\lib\\site-packages\\sklearn\\metrics\\_classification.py:1318: UndefinedMetricWarning: Precision and F-score are ill-defined and being set to 0.0 in labels with no predicted samples. Use `zero_division` parameter to control this behavior.\n",
      "  _warn_prf(average, modifier, msg_start, len(result))\n"
     ]
    }
   ],
   "source": [
    "#classification report\n",
    "y_predict = svm_rbf.fit(Ftrain, Ltrain).predict(Ftest)\n",
    "class_names = target.unique()\n",
    "print(classification_report(Ltest, y_predict, target_names=class_names))\n",
    "print(confusion_matrix(Ltest, y_predict))"
   ]
  },
  {
   "cell_type": "markdown",
   "id": "558a44ca",
   "metadata": {},
   "source": [
    "# SVM(sigmoid) on Red data"
   ]
  },
  {
   "cell_type": "code",
   "execution_count": 32,
   "id": "dfde7ca8",
   "metadata": {},
   "outputs": [
    {
     "name": "stdout",
     "output_type": "stream",
     "text": [
      "0.20192638458892329\n"
     ]
    }
   ],
   "source": [
    "svm_si.fit(Ftrain,Ltrain)\n",
    "y_pred = svm_si.predict(Ftest)\n",
    "print(accuracy_score(Ltest,y_pred))"
   ]
  },
  {
   "cell_type": "code",
   "execution_count": 33,
   "id": "b58142f8",
   "metadata": {},
   "outputs": [
    {
     "name": "stdout",
     "output_type": "stream",
     "text": [
      "                               precision    recall  f1-score   support\n",
      "\n",
      "               bacterial_spot       0.21      0.18      0.19       345\n",
      "                 early_blight       0.07      0.03      0.04       153\n",
      "                      healthy       0.03      0.02      0.02       234\n",
      "                  late_blight       0.13      0.21      0.16       309\n",
      "                    leaf_mold       0.11      0.06      0.08       145\n",
      "           septoria_leaf_spot       0.16      0.23      0.19       293\n",
      "                  target_spot       0.07      0.01      0.02       240\n",
      "          tomato_mosaic_virus       0.00      0.00      0.00        54\n",
      "tomato_yellow_leaf_curl_virus       0.31      0.41      0.35       854\n",
      "      two-spotted_spider_mite       0.12      0.09      0.10       280\n",
      "\n",
      "                     accuracy                           0.20      2907\n",
      "                    macro avg       0.12      0.12      0.12      2907\n",
      "                 weighted avg       0.17      0.20      0.18      2907\n",
      "\n",
      "[[ 61  19  22  72   9   5   8   1 145   3]\n",
      " [ 20   5   4  29  12  19   3   0  49  12]\n",
      " [ 23   0   4  94   1  13   0   0  99   0]\n",
      " [ 37   2  45  65  14  34   4   0  88  20]\n",
      " [ 16   0  10  22   9  15   2   2  62   7]\n",
      " [  4   4  23  34   3  68   5   1  81  70]\n",
      " [  9   3   3  13   8  49   3   0 135  17]\n",
      " [  2   1   0   5   0  15   0   0  30   1]\n",
      " [103  30  46 165  18  78   6   1 346  61]\n",
      " [ 11   7   0   3   6 117  12   0  98  26]]\n"
     ]
    }
   ],
   "source": [
    "#classification report\n",
    "y_predict = svm_si.fit(Ftrain, Ltrain).predict(Ftest)\n",
    "class_names = target.unique()\n",
    "print(classification_report(Ltest, y_predict, target_names=class_names))\n",
    "print(confusion_matrix(Ltest, y_predict))"
   ]
  },
  {
   "cell_type": "markdown",
   "id": "5a175c93",
   "metadata": {},
   "source": [
    "# Bernouli Naive bayes on Red data"
   ]
  },
  {
   "cell_type": "code",
   "execution_count": 34,
   "id": "d65fa897",
   "metadata": {},
   "outputs": [
    {
     "data": {
      "text/plain": [
       "0.3240454076367389"
      ]
     },
     "execution_count": 34,
     "metadata": {},
     "output_type": "execute_result"
    }
   ],
   "source": [
    "bnb.fit(Ftrain, Ltrain)\n",
    "y_pred = bnb.predict(Ftest)\n",
    "metrics.accuracy_score(Ltest, y_pred)"
   ]
  },
  {
   "cell_type": "code",
   "execution_count": 35,
   "id": "bdadbf8a",
   "metadata": {},
   "outputs": [
    {
     "name": "stdout",
     "output_type": "stream",
     "text": [
      "                               precision    recall  f1-score   support\n",
      "\n",
      "               bacterial_spot       0.44      0.21      0.28       345\n",
      "                 early_blight       0.00      0.00      0.00       153\n",
      "                      healthy       0.31      0.44      0.36       234\n",
      "                  late_blight       0.00      0.00      0.00       309\n",
      "                    leaf_mold       0.00      0.00      0.00       145\n",
      "           septoria_leaf_spot       0.22      0.26      0.24       293\n",
      "                  target_spot       0.25      0.13      0.17       240\n",
      "          tomato_mosaic_virus       0.00      0.00      0.00        54\n",
      "tomato_yellow_leaf_curl_virus       0.35      0.72      0.47       854\n",
      "      two-spotted_spider_mite       0.25      0.17      0.20       280\n",
      "\n",
      "                     accuracy                           0.32      2907\n",
      "                    macro avg       0.18      0.19      0.17      2907\n",
      "                 weighted avg       0.25      0.32      0.26      2907\n",
      "\n",
      "[[ 72   0  17   0   0  14   5   0 229   8]\n",
      " [ 19   0   6   0   0  11   9   0  94  14]\n",
      " [  3   0 102   0   0  29   1   0  99   0]\n",
      " [  6   0  65   0   0  59  13   0 156  10]\n",
      " [  8   0  10   0   0  21   1   0  96   9]\n",
      " [  2   0  33   0   0  75  10   0 152  21]\n",
      " [  7   0  10   0   0  28  31   0 133  31]\n",
      " [  3   0   3   0   0   5   5   0  37   1]\n",
      " [ 40   0  73   0   0  54  27   0 615  45]\n",
      " [  3   0   7   0   0  40  23   0 160  47]]\n"
     ]
    },
    {
     "name": "stderr",
     "output_type": "stream",
     "text": [
      "C:\\Users\\ravic\\anaconda3\\lib\\site-packages\\sklearn\\metrics\\_classification.py:1318: UndefinedMetricWarning: Precision and F-score are ill-defined and being set to 0.0 in labels with no predicted samples. Use `zero_division` parameter to control this behavior.\n",
      "  _warn_prf(average, modifier, msg_start, len(result))\n",
      "C:\\Users\\ravic\\anaconda3\\lib\\site-packages\\sklearn\\metrics\\_classification.py:1318: UndefinedMetricWarning: Precision and F-score are ill-defined and being set to 0.0 in labels with no predicted samples. Use `zero_division` parameter to control this behavior.\n",
      "  _warn_prf(average, modifier, msg_start, len(result))\n",
      "C:\\Users\\ravic\\anaconda3\\lib\\site-packages\\sklearn\\metrics\\_classification.py:1318: UndefinedMetricWarning: Precision and F-score are ill-defined and being set to 0.0 in labels with no predicted samples. Use `zero_division` parameter to control this behavior.\n",
      "  _warn_prf(average, modifier, msg_start, len(result))\n"
     ]
    }
   ],
   "source": [
    "class_names = target.unique()\n",
    "print(classification_report(Ltest, y_pred, target_names=class_names))\n",
    "print(confusion_matrix(Ltest, y_pred))"
   ]
  },
  {
   "cell_type": "markdown",
   "id": "11e4cd00",
   "metadata": {},
   "source": [
    "# Green channel data"
   ]
  },
  {
   "cell_type": "code",
   "execution_count": 36,
   "id": "40feb467",
   "metadata": {},
   "outputs": [],
   "source": [
    "os.chdir('D://DKIT//dissertation//Dataset_of_Tomato_Leaves//plantvillage//Preprocessed_data//32//PCA//')\n",
    "features = pd.read_csv('green.csv')\n",
    "#changing path\n",
    "os.chdir('D://DKIT//dissertation//Dataset_of_Tomato_Leaves//plantvillage//Preprocessed_data//32//vector//')\n",
    "#reading csv file\n",
    "green_df = pd.read_csv('green_data.csv')\n",
    "features = features.values\n",
    "target = green_df['disease']\n",
    "#splitting the data to train and test\n",
    "Ftrain,Ftest,Ltrain,Ltest=train_test_split(features,target, test_size=0.20, random_state=24)"
   ]
  },
  {
   "cell_type": "code",
   "execution_count": 37,
   "id": "16ca17a7",
   "metadata": {},
   "outputs": [],
   "source": [
    "Ftrain = scaler.fit_transform(Ftrain)\n",
    "Ftest = scaler.fit_transform(Ftest)"
   ]
  },
  {
   "cell_type": "markdown",
   "id": "9aa0bc22",
   "metadata": {},
   "source": [
    "# SVM(poly) on green data"
   ]
  },
  {
   "cell_type": "code",
   "execution_count": 38,
   "id": "fe39c65e",
   "metadata": {},
   "outputs": [
    {
     "name": "stdout",
     "output_type": "stream",
     "text": [
      "0.3515651874785002\n"
     ]
    }
   ],
   "source": [
    "svm_poly.fit(Ftrain,Ltrain)\n",
    "y_pred = svm_poly.predict(Ftest)\n",
    "print(accuracy_score(Ltest,y_pred))"
   ]
  },
  {
   "cell_type": "code",
   "execution_count": 39,
   "id": "8423b846",
   "metadata": {},
   "outputs": [
    {
     "name": "stdout",
     "output_type": "stream",
     "text": [
      "                               precision    recall  f1-score   support\n",
      "\n",
      "               bacterial_spot       0.32      0.03      0.05       345\n",
      "                 early_blight       0.35      0.04      0.07       153\n",
      "                      healthy       0.40      0.07      0.12       234\n",
      "                  late_blight       0.59      0.20      0.30       309\n",
      "                    leaf_mold       0.43      0.07      0.12       145\n",
      "           septoria_leaf_spot       0.66      0.24      0.35       293\n",
      "                  target_spot       0.14      0.00      0.01       240\n",
      "          tomato_mosaic_virus       0.00      0.00      0.00        54\n",
      "tomato_yellow_leaf_curl_virus       0.33      0.96      0.49       854\n",
      "      two-spotted_spider_mite       0.39      0.11      0.17       280\n",
      "\n",
      "                     accuracy                           0.35      2907\n",
      "                    macro avg       0.36      0.17      0.17      2907\n",
      "                 weighted avg       0.39      0.35      0.25      2907\n",
      "\n",
      "[[ 10   0   2   1   1   0   2   0 327   2]\n",
      " [  3   6   2  11   1   3   1   0 118   8]\n",
      " [  0   0  17   0   0   0   0   0 217   0]\n",
      " [  6   9   8  61   8  17   1   0 191   8]\n",
      " [  3   0   0  11  10   3   0   0 115   3]\n",
      " [  0   0   2   9   2  69   0   0 209   2]\n",
      " [  3   0   0   4   0   3   1   0 213  16]\n",
      " [  0   0   0   0   1   0   0   0  53   0]\n",
      " [  4   1  10   4   0   7   2   0 817   9]\n",
      " [  2   1   1   2   0   2   0   0 241  31]]\n"
     ]
    },
    {
     "name": "stderr",
     "output_type": "stream",
     "text": [
      "C:\\Users\\ravic\\anaconda3\\lib\\site-packages\\sklearn\\metrics\\_classification.py:1318: UndefinedMetricWarning: Precision and F-score are ill-defined and being set to 0.0 in labels with no predicted samples. Use `zero_division` parameter to control this behavior.\n",
      "  _warn_prf(average, modifier, msg_start, len(result))\n",
      "C:\\Users\\ravic\\anaconda3\\lib\\site-packages\\sklearn\\metrics\\_classification.py:1318: UndefinedMetricWarning: Precision and F-score are ill-defined and being set to 0.0 in labels with no predicted samples. Use `zero_division` parameter to control this behavior.\n",
      "  _warn_prf(average, modifier, msg_start, len(result))\n",
      "C:\\Users\\ravic\\anaconda3\\lib\\site-packages\\sklearn\\metrics\\_classification.py:1318: UndefinedMetricWarning: Precision and F-score are ill-defined and being set to 0.0 in labels with no predicted samples. Use `zero_division` parameter to control this behavior.\n",
      "  _warn_prf(average, modifier, msg_start, len(result))\n"
     ]
    }
   ],
   "source": [
    "#classification report\n",
    "y_predict = svm_poly.fit(Ftrain, Ltrain).predict(Ftest)\n",
    "class_names = target.unique()\n",
    "print(classification_report(Ltest, y_predict, target_names=class_names))\n",
    "print(confusion_matrix(Ltest, y_predict))"
   ]
  },
  {
   "cell_type": "markdown",
   "id": "6112d4e4",
   "metadata": {},
   "source": [
    "# SVM(RBF) on green data"
   ]
  },
  {
   "cell_type": "code",
   "execution_count": 40,
   "id": "69be936f",
   "metadata": {},
   "outputs": [
    {
     "name": "stdout",
     "output_type": "stream",
     "text": [
      "0.5070519435844513\n"
     ]
    }
   ],
   "source": [
    "svm_rbf.fit(Ftrain,Ltrain)\n",
    "y_pred = svm_rbf.predict(Ftest)\n",
    "print(accuracy_score(Ltest,y_pred))"
   ]
  },
  {
   "cell_type": "code",
   "execution_count": 41,
   "id": "81b4c571",
   "metadata": {},
   "outputs": [
    {
     "name": "stdout",
     "output_type": "stream",
     "text": [
      "                               precision    recall  f1-score   support\n",
      "\n",
      "               bacterial_spot       0.50      0.38      0.43       345\n",
      "                 early_blight       0.63      0.14      0.23       153\n",
      "                      healthy       0.47      0.77      0.58       234\n",
      "                  late_blight       0.59      0.45      0.51       309\n",
      "                    leaf_mold       0.46      0.41      0.43       145\n",
      "           septoria_leaf_spot       0.65      0.41      0.51       293\n",
      "                  target_spot       0.38      0.32      0.35       240\n",
      "          tomato_mosaic_virus       0.00      0.00      0.00        54\n",
      "tomato_yellow_leaf_curl_virus       0.51      0.75      0.60       854\n",
      "      two-spotted_spider_mite       0.51      0.38      0.43       280\n",
      "\n",
      "                     accuracy                           0.51      2907\n",
      "                    macro avg       0.47      0.40      0.41      2907\n",
      "                 weighted avg       0.51      0.51      0.48      2907\n",
      "\n",
      "[[130   3  14   7   7   1  10   0 166   7]\n",
      " [ 20  22   2  19   5   3  13   0  54  15]\n",
      " [  4   0 181   4   6   2   6   0  29   2]\n",
      " [  7   2  46 140  15  13   9   0  67  10]\n",
      " [  6   3  10  11  60   6   2   0  42   5]\n",
      " [  0   0  50  20  18 121  15   0  65   4]\n",
      " [ 10   2  11  11   6   9  76   0  79  36]\n",
      " [  4   0  13   0   1   5   4   0  22   5]\n",
      " [ 69   1  55  19  10  16  27   0 638  19]\n",
      " [ 11   2   6   5   3   9  37   0 101 106]]\n"
     ]
    },
    {
     "name": "stderr",
     "output_type": "stream",
     "text": [
      "C:\\Users\\ravic\\anaconda3\\lib\\site-packages\\sklearn\\metrics\\_classification.py:1318: UndefinedMetricWarning: Precision and F-score are ill-defined and being set to 0.0 in labels with no predicted samples. Use `zero_division` parameter to control this behavior.\n",
      "  _warn_prf(average, modifier, msg_start, len(result))\n",
      "C:\\Users\\ravic\\anaconda3\\lib\\site-packages\\sklearn\\metrics\\_classification.py:1318: UndefinedMetricWarning: Precision and F-score are ill-defined and being set to 0.0 in labels with no predicted samples. Use `zero_division` parameter to control this behavior.\n",
      "  _warn_prf(average, modifier, msg_start, len(result))\n",
      "C:\\Users\\ravic\\anaconda3\\lib\\site-packages\\sklearn\\metrics\\_classification.py:1318: UndefinedMetricWarning: Precision and F-score are ill-defined and being set to 0.0 in labels with no predicted samples. Use `zero_division` parameter to control this behavior.\n",
      "  _warn_prf(average, modifier, msg_start, len(result))\n"
     ]
    }
   ],
   "source": [
    "#classification report\n",
    "y_predict = svm_rbf.fit(Ftrain, Ltrain).predict(Ftest)\n",
    "class_names = target.unique()\n",
    "print(classification_report(Ltest, y_predict, target_names=class_names))\n",
    "print(confusion_matrix(Ltest, y_predict))"
   ]
  },
  {
   "cell_type": "markdown",
   "id": "662d1937",
   "metadata": {},
   "source": [
    "# SVM(sigmoid) on green data"
   ]
  },
  {
   "cell_type": "code",
   "execution_count": 42,
   "id": "7f6adcca",
   "metadata": {},
   "outputs": [
    {
     "name": "stdout",
     "output_type": "stream",
     "text": [
      "0.18610251117991056\n"
     ]
    }
   ],
   "source": [
    "svm_si.fit(Ftrain,Ltrain)\n",
    "y_pred = svm_si.predict(Ftest)\n",
    "print(accuracy_score(Ltest,y_pred))"
   ]
  },
  {
   "cell_type": "code",
   "execution_count": 43,
   "id": "251d68f3",
   "metadata": {},
   "outputs": [
    {
     "name": "stdout",
     "output_type": "stream",
     "text": [
      "                               precision    recall  f1-score   support\n",
      "\n",
      "               bacterial_spot       0.27      0.28      0.27       345\n",
      "                 early_blight       0.08      0.05      0.06       153\n",
      "                      healthy       0.06      0.04      0.05       234\n",
      "                  late_blight       0.12      0.16      0.14       309\n",
      "                    leaf_mold       0.02      0.01      0.01       145\n",
      "           septoria_leaf_spot       0.09      0.11      0.10       293\n",
      "                  target_spot       0.10      0.02      0.03       240\n",
      "          tomato_mosaic_virus       0.00      0.00      0.00        54\n",
      "tomato_yellow_leaf_curl_virus       0.25      0.39      0.31       854\n",
      "      two-spotted_spider_mite       0.07      0.03      0.04       280\n",
      "\n",
      "                     accuracy                           0.19      2907\n",
      "                    macro avg       0.11      0.11      0.10      2907\n",
      "                 weighted avg       0.15      0.19      0.16      2907\n",
      "\n",
      "[[ 96  17  15  55   5  17   6   0 134   0]\n",
      " [ 33   8   6  23   7  16   5   0  49   6]\n",
      " [ 17   0   9  70   0  11   1   0 126   0]\n",
      " [ 42   7  34  49   3  28   5   0 127  14]\n",
      " [  9   0   9  31   1   7   0   0  84   4]\n",
      " [  5   6  13  25   0  32   4   0 164  44]\n",
      " [ 13   2  14  21   2  41   4   0 138   5]\n",
      " [  5   1   2   6   0   2   0   0  38   0]\n",
      " [107  50  45 113  15 165   8   1 335  15]\n",
      " [ 32  13   2  19   8  53   6   0 140   7]]\n"
     ]
    }
   ],
   "source": [
    "#classification report\n",
    "y_predict = svm_si.fit(Ftrain, Ltrain).predict(Ftest)\n",
    "class_names = target.unique()\n",
    "print(classification_report(Ltest, y_predict, target_names=class_names))\n",
    "print(confusion_matrix(Ltest, y_predict))"
   ]
  },
  {
   "cell_type": "markdown",
   "id": "8aa412dd",
   "metadata": {},
   "source": [
    "# Bernouli Naive bayes on green data"
   ]
  },
  {
   "cell_type": "code",
   "execution_count": 44,
   "id": "b6622b8d",
   "metadata": {},
   "outputs": [
    {
     "data": {
      "text/plain": [
       "0.30478156174750604"
      ]
     },
     "execution_count": 44,
     "metadata": {},
     "output_type": "execute_result"
    }
   ],
   "source": [
    "bnb.fit(Ftrain, Ltrain)\n",
    "y_pred = bnb.predict(Ftest)\n",
    "metrics.accuracy_score(Ltest, y_pred)"
   ]
  },
  {
   "cell_type": "code",
   "execution_count": 45,
   "id": "f3c6b16f",
   "metadata": {},
   "outputs": [
    {
     "name": "stdout",
     "output_type": "stream",
     "text": [
      "                               precision    recall  f1-score   support\n",
      "\n",
      "               bacterial_spot       0.37      0.10      0.15       345\n",
      "                 early_blight       0.00      0.00      0.00       153\n",
      "                      healthy       0.34      0.37      0.35       234\n",
      "                  late_blight       0.00      0.00      0.00       309\n",
      "                    leaf_mold       0.00      0.00      0.00       145\n",
      "           septoria_leaf_spot       0.15      0.10      0.12       293\n",
      "                  target_spot       0.00      0.00      0.00       240\n",
      "          tomato_mosaic_virus       0.00      0.00      0.00        54\n",
      "tomato_yellow_leaf_curl_virus       0.31      0.87      0.46       854\n",
      "      two-spotted_spider_mite       0.00      0.00      0.00       280\n",
      "\n",
      "                     accuracy                           0.30      2907\n",
      "                    macro avg       0.12      0.14      0.11      2907\n",
      "                 weighted avg       0.18      0.30      0.19      2907\n",
      "\n",
      "[[ 33   0  13   0   0  10   0   0 289   0]\n",
      " [  9   0   0   0   0   4   0   0 140   0]\n",
      " [  3   0  86   0   0  33   0   0 112   0]\n",
      " [  8   0  57   0   0  25   0   0 219   0]\n",
      " [  3   0   8   0   0   5   0   0 129   0]\n",
      " [  0   0  24   0   0  28   0   0 241   0]\n",
      " [ 10   0   4   0   0  16   0   0 210   0]\n",
      " [  1   0   3   0   0   1   0   0  49   0]\n",
      " [ 19   0  57   0   0  39   0   0 739   0]\n",
      " [  4   0   1   0   0  22   0   0 253   0]]\n"
     ]
    },
    {
     "name": "stderr",
     "output_type": "stream",
     "text": [
      "C:\\Users\\ravic\\anaconda3\\lib\\site-packages\\sklearn\\metrics\\_classification.py:1318: UndefinedMetricWarning: Precision and F-score are ill-defined and being set to 0.0 in labels with no predicted samples. Use `zero_division` parameter to control this behavior.\n",
      "  _warn_prf(average, modifier, msg_start, len(result))\n",
      "C:\\Users\\ravic\\anaconda3\\lib\\site-packages\\sklearn\\metrics\\_classification.py:1318: UndefinedMetricWarning: Precision and F-score are ill-defined and being set to 0.0 in labels with no predicted samples. Use `zero_division` parameter to control this behavior.\n",
      "  _warn_prf(average, modifier, msg_start, len(result))\n",
      "C:\\Users\\ravic\\anaconda3\\lib\\site-packages\\sklearn\\metrics\\_classification.py:1318: UndefinedMetricWarning: Precision and F-score are ill-defined and being set to 0.0 in labels with no predicted samples. Use `zero_division` parameter to control this behavior.\n",
      "  _warn_prf(average, modifier, msg_start, len(result))\n"
     ]
    }
   ],
   "source": [
    "class_names = target.unique()\n",
    "print(classification_report(Ltest, y_pred, target_names=class_names))\n",
    "print(confusion_matrix(Ltest, y_pred))"
   ]
  },
  {
   "cell_type": "markdown",
   "id": "a6a80ecb",
   "metadata": {},
   "source": [
    "# Blue channel data"
   ]
  },
  {
   "cell_type": "code",
   "execution_count": 46,
   "id": "06094596",
   "metadata": {},
   "outputs": [],
   "source": [
    "os.chdir('D://DKIT//dissertation//Dataset_of_Tomato_Leaves//plantvillage//Preprocessed_data//32//PCA//')\n",
    "features = pd.read_csv('blue.csv')\n",
    "#changing path\n",
    "os.chdir('D://DKIT//dissertation//Dataset_of_Tomato_Leaves//plantvillage//Preprocessed_data//32//vector//')\n",
    "#reading csv file\n",
    "blue_df = pd.read_csv('blue_data.csv')\n",
    "features = features.values\n",
    "target = blue_df['disease']\n",
    "#splitting the data to train and test\n",
    "Ftrain,Ftest,Ltrain,Ltest=train_test_split(features,target, test_size=0.20, random_state=24)"
   ]
  },
  {
   "cell_type": "code",
   "execution_count": 47,
   "id": "d4f5e5bc",
   "metadata": {},
   "outputs": [],
   "source": [
    "Ftrain = scaler.fit_transform(Ftrain)\n",
    "Ftest = scaler.fit_transform(Ftest)"
   ]
  },
  {
   "cell_type": "markdown",
   "id": "4d40997b",
   "metadata": {},
   "source": [
    "# SVM(poly) on blue data"
   ]
  },
  {
   "cell_type": "code",
   "execution_count": 48,
   "id": "39b88095",
   "metadata": {},
   "outputs": [
    {
     "name": "stdout",
     "output_type": "stream",
     "text": [
      "0.49054007567939456\n"
     ]
    }
   ],
   "source": [
    "svm_poly.fit(Ftrain,Ltrain)\n",
    "y_pred = svm_poly.predict(Ftest)\n",
    "print(accuracy_score(Ltest,y_pred))"
   ]
  },
  {
   "cell_type": "code",
   "execution_count": 49,
   "id": "dc98d740",
   "metadata": {},
   "outputs": [
    {
     "name": "stdout",
     "output_type": "stream",
     "text": [
      "                               precision    recall  f1-score   support\n",
      "\n",
      "               bacterial_spot       0.34      0.22      0.27       345\n",
      "                 early_blight       0.22      0.01      0.02       153\n",
      "                      healthy       0.60      0.56      0.58       234\n",
      "                  late_blight       0.62      0.39      0.48       309\n",
      "                    leaf_mold       0.49      0.34      0.40       145\n",
      "           septoria_leaf_spot       0.57      0.42      0.48       293\n",
      "                  target_spot       0.29      0.25      0.27       240\n",
      "          tomato_mosaic_virus       0.00      0.00      0.00        54\n",
      "tomato_yellow_leaf_curl_virus       0.52      0.94      0.67       854\n",
      "      two-spotted_spider_mite       0.34      0.24      0.28       280\n",
      "\n",
      "                     accuracy                           0.49      2907\n",
      "                    macro avg       0.40      0.34      0.34      2907\n",
      "                 weighted avg       0.46      0.49      0.44      2907\n",
      "\n",
      "[[ 77   0   4   6   1   0   5   0 246   6]\n",
      " [ 11   2   5   8   1   6  25   0  86   9]\n",
      " [ 35   0 131  18   1   1  15   0  17  16]\n",
      " [ 21   4  39 119  22  23  17   0  55   9]\n",
      " [  5   3  11  10  50  23   9   0  23  11]\n",
      " [ 12   0   2  13  20 123  17   1  96   9]\n",
      " [ 32   0  10   6   5  16  59   0  63  49]\n",
      " [  4   0   6   2   1   6   6   0  17  12]\n",
      " [ 16   0   6   4   1  10   9   0 799   9]\n",
      " [ 16   0   6   5   0   8  38   0 141  66]]\n"
     ]
    }
   ],
   "source": [
    "#classification report\n",
    "y_predict = svm_poly.fit(Ftrain, Ltrain).predict(Ftest)\n",
    "class_names = target.unique()\n",
    "print(classification_report(Ltest, y_predict, target_names=class_names))\n",
    "print(confusion_matrix(Ltest, y_predict))"
   ]
  },
  {
   "cell_type": "markdown",
   "id": "5226f4f2",
   "metadata": {},
   "source": [
    "# SVM(RBF) on blue data"
   ]
  },
  {
   "cell_type": "code",
   "execution_count": 50,
   "id": "183a5680",
   "metadata": {},
   "outputs": [
    {
     "name": "stdout",
     "output_type": "stream",
     "text": [
      "0.5806673546611627\n"
     ]
    }
   ],
   "source": [
    "svm_rbf.fit(Ftrain,Ltrain)\n",
    "y_pred = svm_rbf.predict(Ftest)\n",
    "print(accuracy_score(Ltest,y_pred))"
   ]
  },
  {
   "cell_type": "code",
   "execution_count": 51,
   "id": "22270861",
   "metadata": {},
   "outputs": [
    {
     "name": "stdout",
     "output_type": "stream",
     "text": [
      "                               precision    recall  f1-score   support\n",
      "\n",
      "               bacterial_spot       0.54      0.56      0.55       345\n",
      "                 early_blight       0.58      0.12      0.20       153\n",
      "                      healthy       0.59      0.82      0.69       234\n",
      "                  late_blight       0.64      0.50      0.56       309\n",
      "                    leaf_mold       0.52      0.46      0.49       145\n",
      "           septoria_leaf_spot       0.56      0.47      0.51       293\n",
      "                  target_spot       0.40      0.41      0.41       240\n",
      "          tomato_mosaic_virus       0.00      0.00      0.00        54\n",
      "tomato_yellow_leaf_curl_virus       0.66      0.84      0.74       854\n",
      "      two-spotted_spider_mite       0.43      0.38      0.41       280\n",
      "\n",
      "                     accuracy                           0.58      2907\n",
      "                    macro avg       0.49      0.46      0.46      2907\n",
      "                 weighted avg       0.56      0.58      0.56      2907\n",
      "\n",
      "[[194   1  12   5   3   0   9   0 109  12]\n",
      " [ 16  18   6  17   1   8  17   0  60  10]\n",
      " [  7   0 193   9   3   1  15   0   0   6]\n",
      " [  9   3  43 154  13  26  16   0  38   7]\n",
      " [  3   3   7  20  67  14   9   0  12  10]\n",
      " [ 12   3  12  11  32 139  18   1  53  12]\n",
      " [ 20   1  23   5   2  19  99   0  19  52]\n",
      " [  4   0  11   1   2  11  14   0   1  10]\n",
      " [ 62   1   8  13   2  20  10   0 717  21]\n",
      " [ 31   1  12   4   3  10  41   0  71 107]]\n"
     ]
    }
   ],
   "source": [
    "#classification report\n",
    "y_predict = svm_rbf.fit(Ftrain, Ltrain).predict(Ftest)\n",
    "class_names = target.unique()\n",
    "print(classification_report(Ltest, y_predict, target_names=class_names))\n",
    "print(confusion_matrix(Ltest, y_predict))"
   ]
  },
  {
   "cell_type": "markdown",
   "id": "09f47e7e",
   "metadata": {},
   "source": [
    "# SVM(sigmoid) on blue data"
   ]
  },
  {
   "cell_type": "code",
   "execution_count": 52,
   "id": "4401c844",
   "metadata": {},
   "outputs": [
    {
     "name": "stdout",
     "output_type": "stream",
     "text": [
      "0.2934296525627795\n"
     ]
    }
   ],
   "source": [
    "svm_si.fit(Ftrain,Ltrain)\n",
    "y_pred = svm_si.predict(Ftest)\n",
    "print(accuracy_score(Ltest,y_pred))"
   ]
  },
  {
   "cell_type": "code",
   "execution_count": 53,
   "id": "4372e59f",
   "metadata": {},
   "outputs": [
    {
     "name": "stdout",
     "output_type": "stream",
     "text": [
      "                               precision    recall  f1-score   support\n",
      "\n",
      "               bacterial_spot       0.22      0.14      0.18       345\n",
      "                 early_blight       0.06      0.01      0.02       153\n",
      "                      healthy       0.22      0.16      0.19       234\n",
      "                  late_blight       0.13      0.32      0.19       309\n",
      "                    leaf_mold       0.09      0.16      0.12       145\n",
      "           septoria_leaf_spot       0.17      0.24      0.20       293\n",
      "                  target_spot       0.19      0.06      0.09       240\n",
      "          tomato_mosaic_virus       0.00      0.00      0.00        54\n",
      "tomato_yellow_leaf_curl_virus       0.64      0.63      0.63       854\n",
      "      two-spotted_spider_mite       0.13      0.07      0.10       280\n",
      "\n",
      "                     accuracy                           0.29      2907\n",
      "                    macro avg       0.19      0.18      0.17      2907\n",
      "                 weighted avg       0.30      0.29      0.29      2907\n",
      "\n",
      "[[ 50   3   4 147   5  11   1   0 119   5]\n",
      " [  6   2   8  38  24  23   3   0  40   9]\n",
      " [ 15   0  38 150  15   9   3   0   1   3]\n",
      " [ 44   6  72 100  22  13   8   3  23  18]\n",
      " [  0   2  14  50  23  18   5   2  17  14]\n",
      " [  3   2   9  33  58  69  38   2  42  37]\n",
      " [  2   1  14  58  35  89  15   0  12  14]\n",
      " [  0   0   3  15   8  24   0   0   1   3]\n",
      " [ 89  13   4 105  21  46   3   0 535  38]\n",
      " [ 15   3   7  56  34  93   1   0  50  21]]\n"
     ]
    }
   ],
   "source": [
    "#classification report\n",
    "y_predict = svm_si.fit(Ftrain, Ltrain).predict(Ftest)\n",
    "class_names = target.unique()\n",
    "print(classification_report(Ltest, y_predict, target_names=class_names))\n",
    "print(confusion_matrix(Ltest, y_predict))"
   ]
  },
  {
   "cell_type": "markdown",
   "id": "7401f4ab",
   "metadata": {},
   "source": [
    "# Bernouli Naive bayes on blue data"
   ]
  },
  {
   "cell_type": "code",
   "execution_count": 54,
   "id": "a8ddf84b",
   "metadata": {},
   "outputs": [
    {
     "data": {
      "text/plain": [
       "0.41004471964224287"
      ]
     },
     "execution_count": 54,
     "metadata": {},
     "output_type": "execute_result"
    }
   ],
   "source": [
    "bnb.fit(Ftrain, Ltrain)\n",
    "y_pred = bnb.predict(Ftest)\n",
    "metrics.accuracy_score(Ltest, y_pred)"
   ]
  },
  {
   "cell_type": "code",
   "execution_count": 55,
   "id": "944621bd",
   "metadata": {},
   "outputs": [
    {
     "name": "stdout",
     "output_type": "stream",
     "text": [
      "                               precision    recall  f1-score   support\n",
      "\n",
      "               bacterial_spot       0.00      0.00      0.00       345\n",
      "                 early_blight       0.00      0.00      0.00       153\n",
      "                      healthy       0.43      0.65      0.52       234\n",
      "                  late_blight       0.28      0.23      0.25       309\n",
      "                    leaf_mold       0.00      0.00      0.00       145\n",
      "           septoria_leaf_spot       0.23      0.47      0.31       293\n",
      "                  target_spot       0.27      0.22      0.24       240\n",
      "          tomato_mosaic_virus       0.00      0.00      0.00        54\n",
      "tomato_yellow_leaf_curl_virus       0.52      0.91      0.66       854\n",
      "      two-spotted_spider_mite       0.00      0.00      0.00       280\n",
      "\n",
      "                     accuracy                           0.41      2907\n",
      "                    macro avg       0.17      0.25      0.20      2907\n",
      "                 weighted avg       0.26      0.41      0.31      2907\n",
      "\n",
      "[[  0   0  36  36   0   8   7   0 258   0]\n",
      " [  0   0  13  16   0  30   8   0  86   0]\n",
      " [  0   0 153  29   0  38  11   0   3   0]\n",
      " [  0   0  89  70   0  56  17   0  77   0]\n",
      " [  0   0   8  28   0  63   7   0  39   0]\n",
      " [  0   0   4   7   0 137  42   0 103   0]\n",
      " [  0   0  27  19   0 104  53   0  37   0]\n",
      " [  0   0   2   8   0  31   6   0   7   0]\n",
      " [  0   0   8  25   0  37   5   0 779   0]\n",
      " [  0   0  14  14   0  94  39   0 119   0]]\n"
     ]
    },
    {
     "name": "stderr",
     "output_type": "stream",
     "text": [
      "C:\\Users\\ravic\\anaconda3\\lib\\site-packages\\sklearn\\metrics\\_classification.py:1318: UndefinedMetricWarning: Precision and F-score are ill-defined and being set to 0.0 in labels with no predicted samples. Use `zero_division` parameter to control this behavior.\n",
      "  _warn_prf(average, modifier, msg_start, len(result))\n",
      "C:\\Users\\ravic\\anaconda3\\lib\\site-packages\\sklearn\\metrics\\_classification.py:1318: UndefinedMetricWarning: Precision and F-score are ill-defined and being set to 0.0 in labels with no predicted samples. Use `zero_division` parameter to control this behavior.\n",
      "  _warn_prf(average, modifier, msg_start, len(result))\n",
      "C:\\Users\\ravic\\anaconda3\\lib\\site-packages\\sklearn\\metrics\\_classification.py:1318: UndefinedMetricWarning: Precision and F-score are ill-defined and being set to 0.0 in labels with no predicted samples. Use `zero_division` parameter to control this behavior.\n",
      "  _warn_prf(average, modifier, msg_start, len(result))\n"
     ]
    }
   ],
   "source": [
    "class_names = target.unique()\n",
    "print(classification_report(Ltest, y_pred, target_names=class_names))\n",
    "print(confusion_matrix(Ltest, y_pred))"
   ]
  },
  {
   "cell_type": "code",
   "execution_count": 56,
   "id": "195a0b21",
   "metadata": {},
   "outputs": [
    {
     "name": "stdout",
     "output_type": "stream",
     "text": [
      "254.37016940116882\n"
     ]
    }
   ],
   "source": [
    "end_time = time.time()\n",
    "print(end_time - start_time)"
   ]
  }
 ],
 "metadata": {
  "kernelspec": {
   "display_name": "Python 3 (ipykernel)",
   "language": "python",
   "name": "python3"
  },
  "language_info": {
   "codemirror_mode": {
    "name": "ipython",
    "version": 3
   },
   "file_extension": ".py",
   "mimetype": "text/x-python",
   "name": "python",
   "nbconvert_exporter": "python",
   "pygments_lexer": "ipython3",
   "version": "3.9.12"
  }
 },
 "nbformat": 4,
 "nbformat_minor": 5
}
