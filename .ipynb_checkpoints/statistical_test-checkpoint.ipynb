{
 "cells": [
  {
   "cell_type": "code",
   "execution_count": 1,
   "id": "84075dee",
   "metadata": {},
   "outputs": [],
   "source": [
    "import numpy as np\n",
    "import pandas as pd\n",
    "import scipy.stats as stats"
   ]
  },
  {
   "cell_type": "code",
   "execution_count": 2,
   "id": "8ee04cc4",
   "metadata": {},
   "outputs": [],
   "source": [
    "poly_precision = [83,84,83,84,85,83,83,83,84,83]\n",
    "rbf_precison =   [83,83,82,84,85,83,82,84,84,83]"
   ]
  },
  {
   "cell_type": "code",
   "execution_count": 3,
   "id": "947a591a",
   "metadata": {},
   "outputs": [],
   "source": [
    "poly_recall = [83,84,82,84,85,82,83,83,83,83]\n",
    "rbf_recall =  [84,84,83,84,85,84,83,84,84,83]"
   ]
  },
  {
   "cell_type": "code",
   "execution_count": 4,
   "id": "c2f4b194",
   "metadata": {},
   "outputs": [],
   "source": [
    "poly_f1 = [83,84,82,84,85,82,83,83,83,83]\n",
    "rbf_f1 =  [83,83,82,84,84,83,82,84,84,83]"
   ]
  },
  {
   "cell_type": "code",
   "execution_count": 5,
   "id": "16daaf4f",
   "metadata": {},
   "outputs": [
    {
     "data": {
      "text/plain": [
       "Ttest_relResult(statistic=1.0, pvalue=0.34343639613791355)"
      ]
     },
     "execution_count": 5,
     "metadata": {},
     "output_type": "execute_result"
    }
   ],
   "source": [
    "# Performing the paired sample t-test on precision\n",
    "stats.ttest_rel(poly_precision, rbf_precison)"
   ]
  },
  {
   "cell_type": "code",
   "execution_count": 6,
   "id": "9c187329",
   "metadata": {},
   "outputs": [
    {
     "data": {
      "text/plain": [
       "Ttest_relResult(statistic=-2.7136021011998723, pvalue=0.023856384540122025)"
      ]
     },
     "execution_count": 6,
     "metadata": {},
     "output_type": "execute_result"
    }
   ],
   "source": [
    "# Performing the paired sample t-test on recall\n",
    "stats.ttest_rel(poly_recall, rbf_recall)"
   ]
  },
  {
   "cell_type": "code",
   "execution_count": 7,
   "id": "506a6b5c",
   "metadata": {},
   "outputs": [
    {
     "data": {
      "text/plain": [
       "Ttest_relResult(statistic=0.0, pvalue=1.0)"
      ]
     },
     "execution_count": 7,
     "metadata": {},
     "output_type": "execute_result"
    }
   ],
   "source": [
    "# Performing the paired sample t-test on precision\n",
    "stats.ttest_rel(poly_f1, rbf_f1)"
   ]
  }
 ],
 "metadata": {
  "kernelspec": {
   "display_name": "Python 3 (ipykernel)",
   "language": "python",
   "name": "python3"
  },
  "language_info": {
   "codemirror_mode": {
    "name": "ipython",
    "version": 3
   },
   "file_extension": ".py",
   "mimetype": "text/x-python",
   "name": "python",
   "nbconvert_exporter": "python",
   "pygments_lexer": "ipython3",
   "version": "3.9.12"
  }
 },
 "nbformat": 4,
 "nbformat_minor": 5
}
