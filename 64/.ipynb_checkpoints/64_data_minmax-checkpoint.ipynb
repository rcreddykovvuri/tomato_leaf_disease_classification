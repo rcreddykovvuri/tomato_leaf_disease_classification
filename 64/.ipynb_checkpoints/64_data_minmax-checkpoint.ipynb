{
 "cells": [
  {
   "cell_type": "code",
   "execution_count": 1,
   "id": "bcdb1517",
   "metadata": {},
   "outputs": [],
   "source": [
    "import numpy as np #importing numpy\n",
    "import pandas as pd #importing pandas\n",
    "import PIL #importing pillow for image processing\n",
    "from PIL import Image#importing image from pillow library\n",
    "import skimage#importing skimage library\n",
    "import os#importing os library\n",
    "import time#importing time library\n",
    "\n",
    "#Capture start time of the program\n",
    "start_time = time.time()"
   ]
  },
  {
   "cell_type": "code",
   "execution_count": 2,
   "id": "9ec45970",
   "metadata": {},
   "outputs": [],
   "source": [
    "os.chdir('D://DKIT//dissertation//Dataset_of_Tomato_Leaves//plantvillage//Preprocessed_data//64//vector//')"
   ]
  },
  {
   "cell_type": "code",
   "execution_count": 3,
   "id": "cbc71f85",
   "metadata": {},
   "outputs": [],
   "source": [
    "#importing classification report and confusion matrix\n",
    "from sklearn.metrics import classification_report, confusion_matrix"
   ]
  },
  {
   "cell_type": "markdown",
   "id": "7139bf53",
   "metadata": {},
   "source": [
    "# KNN on rgb data"
   ]
  },
  {
   "cell_type": "code",
   "execution_count": 4,
   "id": "9386938c",
   "metadata": {},
   "outputs": [],
   "source": [
    "#reading numpy array data\n",
    "rgb_test = np.load('rgb_data.npy')\n",
    "#reading csv file\n",
    "rgb_df = pd.read_csv('rgb_data.csv')"
   ]
  },
  {
   "cell_type": "code",
   "execution_count": 5,
   "id": "4f95f2f6",
   "metadata": {},
   "outputs": [],
   "source": [
    "loaded = []\n",
    "for i in rgb_test:\n",
    "    k = []\n",
    "    k = np.asarray(i,dtype='uint8')\n",
    "    loaded.append(k)"
   ]
  },
  {
   "cell_type": "code",
   "execution_count": 6,
   "id": "c6d5658c",
   "metadata": {},
   "outputs": [],
   "source": [
    "features = loaded\n",
    "target = rgb_df['disease']\n",
    "from sklearn.preprocessing import MinMaxScaler\n",
    "minmax = MinMaxScaler()\n",
    "from sklearn.model_selection import train_test_split\n",
    "Ftrain,Ftest,Ltrain,Ltest=train_test_split(features,target, test_size=0.20, random_state=24)"
   ]
  },
  {
   "cell_type": "code",
   "execution_count": 7,
   "id": "8cc86824",
   "metadata": {},
   "outputs": [],
   "source": [
    "Ftrain = minmax.fit_transform(Ftrain)\n",
    "Ftest = minmax.fit_transform(Ftest)"
   ]
  },
  {
   "cell_type": "code",
   "execution_count": 8,
   "id": "6f1171c6",
   "metadata": {},
   "outputs": [],
   "source": [
    "from sklearn.neighbors import KNeighborsClassifier\n",
    "kmodel = KNeighborsClassifier(n_neighbors=75)"
   ]
  },
  {
   "cell_type": "code",
   "execution_count": 9,
   "id": "b9fdc978",
   "metadata": {},
   "outputs": [
    {
     "data": {
      "text/plain": [
       "0.5669074647402821"
      ]
     },
     "execution_count": 9,
     "metadata": {},
     "output_type": "execute_result"
    }
   ],
   "source": [
    "kmodel.fit(Ftrain,Ltrain)\n",
    "kmodel.score(Ftest,Ltest)"
   ]
  },
  {
   "cell_type": "code",
   "execution_count": 10,
   "id": "cc56686d",
   "metadata": {},
   "outputs": [
    {
     "name": "stdout",
     "output_type": "stream",
     "text": [
      "                               precision    recall  f1-score   support\n",
      "\n",
      "               bacterial_spot       0.36      0.84      0.50       345\n",
      "                 early_blight       0.00      0.00      0.00       153\n",
      "                      healthy       0.45      0.87      0.59       234\n",
      "                  late_blight       0.52      0.46      0.49       309\n",
      "                    leaf_mold       0.68      0.54      0.60       145\n",
      "           septoria_leaf_spot       0.63      0.45      0.52       293\n",
      "                  target_spot       0.42      0.45      0.44       240\n",
      "          tomato_mosaic_virus       0.62      0.39      0.48        54\n",
      "tomato_yellow_leaf_curl_virus       0.90      0.69      0.78       854\n",
      "      two-spotted_spider_mite       0.77      0.31      0.44       280\n",
      "\n",
      "                     accuracy                           0.57      2907\n",
      "                    macro avg       0.54      0.50      0.48      2907\n",
      "                 weighted avg       0.62      0.57      0.56      2907\n",
      "\n",
      "[[291   0  33  11   0   0   1   0   9   0]\n",
      " [ 89   0  12   6   1   8  24   1  11   1]\n",
      " [ 12   0 203  14   0   0   3   0   0   2]\n",
      " [ 52   0  38 142  17  34   9   2  13   2]\n",
      " [ 19   0  15  20  78   6   2   4   1   0]\n",
      " [ 30   0  31  45  14 131  26   0  12   4]\n",
      " [ 64   0  49   5   0   7 108   4   1   2]\n",
      " [  5   0   9   9   3   2   3  21   1   1]\n",
      " [175   0  42   7   1  14  13   1 587  14]\n",
      " [ 74   0  17  15   0   5  67   1  14  87]]\n"
     ]
    },
    {
     "name": "stderr",
     "output_type": "stream",
     "text": [
      "C:\\Users\\ravic\\anaconda3\\lib\\site-packages\\sklearn\\metrics\\_classification.py:1248: UndefinedMetricWarning: Precision and F-score are ill-defined and being set to 0.0 in labels with no predicted samples. Use `zero_division` parameter to control this behavior.\n",
      "  _warn_prf(average, modifier, msg_start, len(result))\n",
      "C:\\Users\\ravic\\anaconda3\\lib\\site-packages\\sklearn\\metrics\\_classification.py:1248: UndefinedMetricWarning: Precision and F-score are ill-defined and being set to 0.0 in labels with no predicted samples. Use `zero_division` parameter to control this behavior.\n",
      "  _warn_prf(average, modifier, msg_start, len(result))\n",
      "C:\\Users\\ravic\\anaconda3\\lib\\site-packages\\sklearn\\metrics\\_classification.py:1248: UndefinedMetricWarning: Precision and F-score are ill-defined and being set to 0.0 in labels with no predicted samples. Use `zero_division` parameter to control this behavior.\n",
      "  _warn_prf(average, modifier, msg_start, len(result))\n"
     ]
    }
   ],
   "source": [
    "#printing results of the kmodel\n",
    "y_predict = kmodel.fit(Ftrain, Ltrain).predict(Ftest)\n",
    "class_names = target.unique()\n",
    "print(classification_report(Ltest, y_predict, target_names=class_names))\n",
    "print(confusion_matrix(Ltest, y_predict))"
   ]
  },
  {
   "cell_type": "markdown",
   "id": "d5c58638",
   "metadata": {},
   "source": [
    "# Logistic on rgb data"
   ]
  },
  {
   "cell_type": "code",
   "execution_count": null,
   "id": "a84836ef",
   "metadata": {},
   "outputs": [],
   "source": [
    "from sklearn.linear_model import LogisticRegression\n",
    "model=LogisticRegression(solver='lbfgs', max_iter=10000)\n",
    "model.fit(Ftrain,Ltrain)\n",
    "model.score(Ftest,Ltest)"
   ]
  },
  {
   "cell_type": "code",
   "execution_count": null,
   "id": "a1f10c9f",
   "metadata": {},
   "outputs": [],
   "source": [
    "#classification report\n",
    "y_predict = model.fit(Ftrain, Ltrain).predict(Ftest)\n",
    "class_names = target.unique()\n",
    "print(classification_report(Ltest, y_predict, target_names=class_names))\n",
    "print(confusion_matrix(Ltest, y_predict))"
   ]
  },
  {
   "cell_type": "markdown",
   "id": "6fe194bc",
   "metadata": {},
   "source": [
    "# SVM on RGB data"
   ]
  },
  {
   "cell_type": "code",
   "execution_count": null,
   "id": "2427ed51",
   "metadata": {},
   "outputs": [],
   "source": [
    "from sklearn.svm import SVC\n",
    "from sklearn.metrics import accuracy_score\n",
    "\n",
    "clf = SVC(kernel='linear')\n",
    "clf.fit(Ftrain,Ltrain)\n",
    "y_pred = clf.predict(Ftest)\n",
    "print(accuracy_score(Ltest,y_pred))"
   ]
  },
  {
   "cell_type": "code",
   "execution_count": null,
   "id": "4103cc2e",
   "metadata": {},
   "outputs": [],
   "source": [
    "#classification report\n",
    "y_predict = clf.fit(Ftrain, Ltrain).predict(Ftest)\n",
    "class_names = target.unique()\n",
    "print(classification_report(Ltest, y_predict, target_names=class_names))\n",
    "print(confusion_matrix(Ltest, y_predict))"
   ]
  },
  {
   "cell_type": "markdown",
   "id": "73bef6fa",
   "metadata": {},
   "source": [
    "# Random Forest on RGB "
   ]
  },
  {
   "cell_type": "code",
   "execution_count": null,
   "id": "6bae5a92",
   "metadata": {},
   "outputs": [],
   "source": [
    "from sklearn.ensemble import RandomForestClassifier"
   ]
  },
  {
   "cell_type": "code",
   "execution_count": null,
   "id": "1d08a15e",
   "metadata": {},
   "outputs": [],
   "source": [
    "classifier_rf = RandomForestClassifier(random_state=42, n_jobs=-1, max_depth=5,n_estimators=100, oob_score=True)"
   ]
  },
  {
   "cell_type": "code",
   "execution_count": null,
   "id": "938ad007",
   "metadata": {},
   "outputs": [],
   "source": [
    "classifier_rf.fit(Ftrain, Ltrain)"
   ]
  },
  {
   "cell_type": "code",
   "execution_count": null,
   "id": "e1769cec",
   "metadata": {},
   "outputs": [],
   "source": [
    "classifier_rf.oob_score_"
   ]
  },
  {
   "cell_type": "code",
   "execution_count": null,
   "id": "c144f9db",
   "metadata": {},
   "outputs": [],
   "source": [
    "y_predict = classifier_rf.fit(Ftrain, Ltrain).predict(Ftest)\n",
    "class_names = target.unique()\n",
    "print(classification_report(Ltest, y_predict, target_names=class_names))\n",
    "print(confusion_matrix(Ltest, y_predict))"
   ]
  },
  {
   "cell_type": "markdown",
   "id": "b6a094e4",
   "metadata": {},
   "source": [
    "# Naive Bayes on RGB data"
   ]
  },
  {
   "cell_type": "code",
   "execution_count": null,
   "id": "a5bc755b",
   "metadata": {},
   "outputs": [],
   "source": [
    "from sklearn.naive_bayes import GaussianNB\n",
    "gnb = GaussianNB()\n",
    "gnb.fit(Ftrain, Ltrain)"
   ]
  },
  {
   "cell_type": "code",
   "execution_count": null,
   "id": "6d162dcc",
   "metadata": {},
   "outputs": [],
   "source": [
    "y_pred = gnb.predict(Ftest)"
   ]
  },
  {
   "cell_type": "code",
   "execution_count": null,
   "id": "8f7b4bab",
   "metadata": {},
   "outputs": [],
   "source": [
    "from sklearn import metrics\n",
    "metrics.accuracy_score(Ltest, y_pred)"
   ]
  },
  {
   "cell_type": "code",
   "execution_count": null,
   "id": "980b37c5",
   "metadata": {},
   "outputs": [],
   "source": [
    "class_names = target.unique()\n",
    "print(classification_report(Ltest, y_pred, target_names=class_names))\n",
    "print(confusion_matrix(Ltest, y_pred))"
   ]
  },
  {
   "cell_type": "markdown",
   "id": "0ce0377b",
   "metadata": {},
   "source": [
    "# Decision Tree on RGB data"
   ]
  },
  {
   "cell_type": "code",
   "execution_count": null,
   "id": "b9bba328",
   "metadata": {},
   "outputs": [],
   "source": [
    "from sklearn.tree import DecisionTreeClassifier\n",
    "classifier_tree = DecisionTreeClassifier()"
   ]
  },
  {
   "cell_type": "code",
   "execution_count": null,
   "id": "b98668ce",
   "metadata": {},
   "outputs": [],
   "source": [
    "classifier_tree.fit(Ftrain, Ltrain)\n",
    "classifier_tree.score(Ftest,Ltest)"
   ]
  },
  {
   "cell_type": "code",
   "execution_count": null,
   "id": "9fb604d9",
   "metadata": {},
   "outputs": [],
   "source": [
    "y_predict = classifier_tree.fit(Ftrain, Ltrain).predict(Ftest)\n",
    "class_names = target.unique()\n",
    "print(classification_report(Ltest, y_predict, target_names=class_names))\n",
    "print(confusion_matrix(Ltest, y_predict))"
   ]
  },
  {
   "cell_type": "markdown",
   "id": "c9daaaee",
   "metadata": {},
   "source": [
    "# KNN on grayscale data"
   ]
  },
  {
   "cell_type": "code",
   "execution_count": null,
   "id": "57a9845e",
   "metadata": {},
   "outputs": [],
   "source": [
    "#reading numpy array data\n",
    "gray_test = np.load('gray_test.npy')\n",
    "#reading csv file\n",
    "gray_df = pd.read_csv('gray_data.csv')"
   ]
  },
  {
   "cell_type": "code",
   "execution_count": null,
   "id": "25d4fea2",
   "metadata": {},
   "outputs": [],
   "source": [
    "loaded = []\n",
    "for i in gray_test:\n",
    "    k = []\n",
    "    k = np.asarray(i,dtype='uint8')\n",
    "    loaded.append(k)"
   ]
  },
  {
   "cell_type": "code",
   "execution_count": null,
   "id": "d3abef95",
   "metadata": {},
   "outputs": [],
   "source": [
    "features = loaded\n",
    "target = gray_df['disease']\n",
    "Ftrain,Ftest,Ltrain,Ltest=train_test_split(features,target, test_size=0.20, random_state=20)\n",
    "Ftrain = minmax.fit_transform(Ftrain)\n",
    "Ftest = minmax.fit_transform(Ftest)"
   ]
  },
  {
   "cell_type": "code",
   "execution_count": null,
   "id": "6f75adfd",
   "metadata": {},
   "outputs": [],
   "source": [
    "kmodel.fit(Ftrain,Ltrain)\n",
    "kmodel.score(Ftest,Ltest)"
   ]
  },
  {
   "cell_type": "code",
   "execution_count": null,
   "id": "77baa349",
   "metadata": {},
   "outputs": [],
   "source": [
    "#printing results of the kmodel\n",
    "y_predict = kmodel.fit(Ftrain, Ltrain).predict(Ftest)\n",
    "class_names = target.unique()\n",
    "print(classification_report(Ltest, y_predict, target_names=class_names))\n",
    "print(confusion_matrix(Ltest, y_predict))"
   ]
  },
  {
   "cell_type": "markdown",
   "id": "197eedfc",
   "metadata": {},
   "source": [
    "# Logistic on grayscale data"
   ]
  },
  {
   "cell_type": "code",
   "execution_count": null,
   "id": "9fd6cafe",
   "metadata": {},
   "outputs": [],
   "source": [
    "from sklearn.linear_model import LogisticRegression\n",
    "model=LogisticRegression(solver='lbfgs', max_iter=10000)\n",
    "model.fit(Ftrain,Ltrain)\n",
    "model.score(Ftest,Ltest)"
   ]
  },
  {
   "cell_type": "code",
   "execution_count": null,
   "id": "20a6d97e",
   "metadata": {},
   "outputs": [],
   "source": [
    "#classification report\n",
    "y_predict = model.fit(Ftrain, Ltrain).predict(Ftest)\n",
    "class_names = target.unique()\n",
    "print(classification_report(Ltest, y_predict, target_names=class_names))\n",
    "print(confusion_matrix(Ltest, y_predict))"
   ]
  },
  {
   "cell_type": "markdown",
   "id": "5284f869",
   "metadata": {},
   "source": [
    "# SVM on Grayscale data"
   ]
  },
  {
   "cell_type": "code",
   "execution_count": null,
   "id": "d0db5c80",
   "metadata": {},
   "outputs": [],
   "source": [
    "clf = SVC(kernel='linear')\n",
    "clf.fit(Ftrain,Ltrain)\n",
    "y_pred = clf.predict(Ftest)\n",
    "print(accuracy_score(Ltest,y_pred))"
   ]
  },
  {
   "cell_type": "code",
   "execution_count": null,
   "id": "bcddcf24",
   "metadata": {},
   "outputs": [],
   "source": [
    "#classification report\n",
    "y_predict = clf.fit(Ftrain, Ltrain).predict(Ftest)\n",
    "class_names = target.unique()\n",
    "print(classification_report(Ltest, y_predict, target_names=class_names))\n",
    "print(confusion_matrix(Ltest, y_predict))"
   ]
  },
  {
   "cell_type": "markdown",
   "id": "576fd580",
   "metadata": {},
   "source": [
    "# Random Forest on Grayscale"
   ]
  },
  {
   "cell_type": "code",
   "execution_count": null,
   "id": "9dfa979e",
   "metadata": {},
   "outputs": [],
   "source": [
    "classifier_rf.fit(Ftrain, Ltrain)"
   ]
  },
  {
   "cell_type": "code",
   "execution_count": null,
   "id": "2b4347ef",
   "metadata": {},
   "outputs": [],
   "source": [
    "classifier_rf.oob_score_"
   ]
  },
  {
   "cell_type": "code",
   "execution_count": null,
   "id": "9263c32f",
   "metadata": {},
   "outputs": [],
   "source": [
    "y_predict = classifier_rf.fit(Ftrain, Ltrain).predict(Ftest)\n",
    "class_names = target.unique()\n",
    "print(classification_report(Ltest, y_predict, target_names=class_names))\n",
    "print(confusion_matrix(Ltest, y_predict))"
   ]
  },
  {
   "cell_type": "markdown",
   "id": "8befce61",
   "metadata": {},
   "source": [
    "# Naive bayes on Grayscale"
   ]
  },
  {
   "cell_type": "code",
   "execution_count": null,
   "id": "0d1a6d3b",
   "metadata": {},
   "outputs": [],
   "source": [
    "gnb.fit(Ftrain, Ltrain)"
   ]
  },
  {
   "cell_type": "code",
   "execution_count": null,
   "id": "053c9a09",
   "metadata": {},
   "outputs": [],
   "source": [
    "y_pred = gnb.predict(Ftest)\n",
    "metrics.accuracy_score(Ltest, y_pred)"
   ]
  },
  {
   "cell_type": "code",
   "execution_count": null,
   "id": "22c98d80",
   "metadata": {},
   "outputs": [],
   "source": [
    "class_names = target.unique()\n",
    "print(classification_report(Ltest, y_pred, target_names=class_names))\n",
    "print(confusion_matrix(Ltest, y_pred))"
   ]
  },
  {
   "cell_type": "markdown",
   "id": "9a562db7",
   "metadata": {},
   "source": [
    "# Decision Tree on Grayscale"
   ]
  },
  {
   "cell_type": "code",
   "execution_count": null,
   "id": "a4e9cd0d",
   "metadata": {},
   "outputs": [],
   "source": [
    "classifier_tree.fit(Ftrain, Ltrain)\n",
    "classifier_tree.score(Ftest,Ltest)"
   ]
  },
  {
   "cell_type": "code",
   "execution_count": null,
   "id": "523c3773",
   "metadata": {},
   "outputs": [],
   "source": [
    "y_predict = classifier_tree.fit(Ftrain, Ltrain).predict(Ftest)\n",
    "class_names = target.unique()\n",
    "print(classification_report(Ltest, y_predict, target_names=class_names))\n",
    "print(confusion_matrix(Ltest, y_predict))"
   ]
  },
  {
   "cell_type": "markdown",
   "id": "e42f549f",
   "metadata": {},
   "source": [
    "# KNN on Red channel data"
   ]
  },
  {
   "cell_type": "code",
   "execution_count": null,
   "id": "cb75cbbd",
   "metadata": {},
   "outputs": [],
   "source": [
    "#reading numpy array data\n",
    "gray_test = np.load('red_data.npy')\n",
    "#reading csv file\n",
    "gray_df = pd.read_csv('red_data.csv')"
   ]
  },
  {
   "cell_type": "code",
   "execution_count": null,
   "id": "7fda7839",
   "metadata": {},
   "outputs": [],
   "source": [
    "loaded = []\n",
    "for i in gray_test:\n",
    "    k = []\n",
    "    k = np.asarray(i,dtype='uint8')\n",
    "    loaded.append(k)\n",
    "features = loaded\n",
    "target = gray_df['disease']\n",
    "Ftrain,Ftest,Ltrain,Ltest=train_test_split(features,target, test_size=0.20, random_state=20)\n",
    "Ftrain = minmax.fit_transform(Ftrain)\n",
    "Ftest = minmax.fit_transform(Ftest)"
   ]
  },
  {
   "cell_type": "code",
   "execution_count": null,
   "id": "683839f2",
   "metadata": {},
   "outputs": [],
   "source": [
    "kmodel.fit(Ftrain,Ltrain)\n",
    "kmodel.score(Ftest,Ltest)"
   ]
  },
  {
   "cell_type": "code",
   "execution_count": null,
   "id": "53bc7b93",
   "metadata": {},
   "outputs": [],
   "source": [
    "#printing results of the kmodel\n",
    "y_predict = kmodel.fit(Ftrain, Ltrain).predict(Ftest)\n",
    "class_names = target.unique()\n",
    "print(classification_report(Ltest, y_predict, target_names=class_names))\n",
    "print(confusion_matrix(Ltest, y_predict))"
   ]
  },
  {
   "cell_type": "markdown",
   "id": "ffcda594",
   "metadata": {},
   "source": [
    "# Logistic on Red channel data"
   ]
  },
  {
   "cell_type": "code",
   "execution_count": null,
   "id": "1ed4037b",
   "metadata": {},
   "outputs": [],
   "source": [
    "model.fit(Ftrain,Ltrain)\n",
    "model.score(Ftest,Ltest)"
   ]
  },
  {
   "cell_type": "code",
   "execution_count": null,
   "id": "22b11f2e",
   "metadata": {},
   "outputs": [],
   "source": [
    "#classification report\n",
    "y_predict = model.fit(Ftrain, Ltrain).predict(Ftest)\n",
    "class_names = target.unique()\n",
    "print(classification_report(Ltest, y_predict, target_names=class_names))\n",
    "print(confusion_matrix(Ltest, y_predict))"
   ]
  },
  {
   "cell_type": "markdown",
   "id": "dba6d5ce",
   "metadata": {},
   "source": [
    "# SVM on Red channel data"
   ]
  },
  {
   "cell_type": "code",
   "execution_count": null,
   "id": "6ed153f7",
   "metadata": {},
   "outputs": [],
   "source": [
    "clf.fit(Ftrain,Ltrain)\n",
    "y_pred = clf.predict(Ftest)\n",
    "print(accuracy_score(Ltest,y_pred))"
   ]
  },
  {
   "cell_type": "code",
   "execution_count": null,
   "id": "3d2d1d59",
   "metadata": {},
   "outputs": [],
   "source": [
    "#classification report\n",
    "y_predict = clf.fit(Ftrain, Ltrain).predict(Ftest)\n",
    "class_names = target.unique()\n",
    "print(classification_report(Ltest, y_predict, target_names=class_names))\n",
    "print(confusion_matrix(Ltest, y_predict))"
   ]
  },
  {
   "cell_type": "markdown",
   "id": "a670c4d4",
   "metadata": {},
   "source": [
    "# Random forest on Red channel data"
   ]
  },
  {
   "cell_type": "code",
   "execution_count": null,
   "id": "9e816e9e",
   "metadata": {},
   "outputs": [],
   "source": [
    "classifier_rf.fit(Ftrain, Ltrain)\n",
    "classifier_rf.oob_score_"
   ]
  },
  {
   "cell_type": "code",
   "execution_count": null,
   "id": "6d5daf40",
   "metadata": {},
   "outputs": [],
   "source": [
    "y_predict = classifier_rf.fit(Ftrain, Ltrain).predict(Ftest)\n",
    "class_names = target.unique()\n",
    "print(classification_report(Ltest, y_predict, target_names=class_names))\n",
    "print(confusion_matrix(Ltest, y_predict))"
   ]
  },
  {
   "cell_type": "markdown",
   "id": "e1c2d95a",
   "metadata": {},
   "source": [
    "# Naive Bayes on Red channel data"
   ]
  },
  {
   "cell_type": "code",
   "execution_count": null,
   "id": "8ec0753c",
   "metadata": {},
   "outputs": [],
   "source": [
    "gnb.fit(Ftrain, Ltrain)"
   ]
  },
  {
   "cell_type": "code",
   "execution_count": null,
   "id": "9bd3c55d",
   "metadata": {},
   "outputs": [],
   "source": [
    "y_pred = gnb.predict(Ftest)\n",
    "metrics.accuracy_score(Ltest, y_pred)"
   ]
  },
  {
   "cell_type": "code",
   "execution_count": null,
   "id": "fc44e44c",
   "metadata": {},
   "outputs": [],
   "source": [
    "class_names = target.unique()\n",
    "print(classification_report(Ltest, y_pred, target_names=class_names))\n",
    "print(confusion_matrix(Ltest, y_pred))"
   ]
  },
  {
   "cell_type": "markdown",
   "id": "1aad544a",
   "metadata": {},
   "source": [
    "# Decision Tree on Red channel"
   ]
  },
  {
   "cell_type": "code",
   "execution_count": null,
   "id": "91934650",
   "metadata": {},
   "outputs": [],
   "source": [
    "classifier_tree.fit(Ftrain, Ltrain)\n",
    "classifier_tree.score(Ftest,Ltest)"
   ]
  },
  {
   "cell_type": "code",
   "execution_count": null,
   "id": "897d5f1e",
   "metadata": {},
   "outputs": [],
   "source": [
    "y_predict = classifier_tree.fit(Ftrain, Ltrain).predict(Ftest)\n",
    "class_names = target.unique()\n",
    "print(classification_report(Ltest, y_predict, target_names=class_names))\n",
    "print(confusion_matrix(Ltest, y_predict))"
   ]
  },
  {
   "cell_type": "markdown",
   "id": "21af7568",
   "metadata": {},
   "source": [
    "# KNN on green channel data"
   ]
  },
  {
   "cell_type": "code",
   "execution_count": null,
   "id": "461b784b",
   "metadata": {},
   "outputs": [],
   "source": [
    "#reading numpy array data\n",
    "gray_test = np.load('green_data.npy')\n",
    "#reading csv file\n",
    "gray_df = pd.read_csv('green_data.csv')\n",
    "loaded = []\n",
    "for i in gray_test:\n",
    "    k = []\n",
    "    k = np.asarray(i,dtype='uint8')\n",
    "    loaded.append(k)\n",
    "features = loaded\n",
    "target = gray_df['disease']\n",
    "Ftrain,Ftest,Ltrain,Ltest=train_test_split(features,target, test_size=0.20, random_state=20)\n",
    "Ftrain = minmax.fit_transform(Ftrain)\n",
    "Ftest = minmax.fit_transform(Ftest)\n",
    "kmodel.fit(Ftrain,Ltrain)\n",
    "kmodel.score(Ftest,Ltest)"
   ]
  },
  {
   "cell_type": "code",
   "execution_count": null,
   "id": "5a4d4f1d",
   "metadata": {},
   "outputs": [],
   "source": [
    "#printing results of the kmodel\n",
    "y_predict = kmodel.fit(Ftrain, Ltrain).predict(Ftest)\n",
    "class_names = target.unique()\n",
    "print(classification_report(Ltest, y_predict, target_names=class_names))\n",
    "print(confusion_matrix(Ltest, y_predict))"
   ]
  },
  {
   "cell_type": "markdown",
   "id": "71f3ea86",
   "metadata": {},
   "source": [
    "# Logistic on Green channel data"
   ]
  },
  {
   "cell_type": "code",
   "execution_count": null,
   "id": "28dad6b2",
   "metadata": {},
   "outputs": [],
   "source": [
    "model.fit(Ftrain,Ltrain)\n",
    "model.score(Ftest,Ltest)"
   ]
  },
  {
   "cell_type": "code",
   "execution_count": null,
   "id": "3c0993f1",
   "metadata": {},
   "outputs": [],
   "source": [
    "#classification report\n",
    "y_predict = model.fit(Ftrain, Ltrain).predict(Ftest)\n",
    "class_names = target.unique()\n",
    "print(classification_report(Ltest, y_predict, target_names=class_names))\n",
    "print(confusion_matrix(Ltest, y_predict))"
   ]
  },
  {
   "cell_type": "markdown",
   "id": "f62f0223",
   "metadata": {},
   "source": [
    "# SVM on green channel data"
   ]
  },
  {
   "cell_type": "code",
   "execution_count": null,
   "id": "e89e7297",
   "metadata": {},
   "outputs": [],
   "source": [
    "clf.fit(Ftrain,Ltrain)\n",
    "y_pred = clf.predict(Ftest)\n",
    "print(accuracy_score(Ltest,y_pred))"
   ]
  },
  {
   "cell_type": "code",
   "execution_count": null,
   "id": "aaec32cf",
   "metadata": {},
   "outputs": [],
   "source": [
    "#classification report\n",
    "y_predict = clf.fit(Ftrain, Ltrain).predict(Ftest)\n",
    "class_names = target.unique()\n",
    "print(classification_report(Ltest, y_predict, target_names=class_names))\n",
    "print(confusion_matrix(Ltest, y_predict))"
   ]
  },
  {
   "cell_type": "markdown",
   "id": "4f8e565e",
   "metadata": {},
   "source": [
    "# Random Forest on green channel data"
   ]
  },
  {
   "cell_type": "code",
   "execution_count": null,
   "id": "96c92f8f",
   "metadata": {},
   "outputs": [],
   "source": [
    "classifier_rf.fit(Ftrain, Ltrain)\n",
    "classifier_rf.oob_score_"
   ]
  },
  {
   "cell_type": "code",
   "execution_count": null,
   "id": "a855ce64",
   "metadata": {},
   "outputs": [],
   "source": [
    "y_predict = classifier_rf.fit(Ftrain, Ltrain).predict(Ftest)\n",
    "class_names = target.unique()\n",
    "print(classification_report(Ltest, y_predict, target_names=class_names))\n",
    "print(confusion_matrix(Ltest, y_predict))"
   ]
  },
  {
   "cell_type": "markdown",
   "id": "e9b1cca9",
   "metadata": {},
   "source": [
    "# Naive bayes on Green channel data"
   ]
  },
  {
   "cell_type": "code",
   "execution_count": null,
   "id": "1136802c",
   "metadata": {},
   "outputs": [],
   "source": [
    "gnb.fit(Ftrain, Ltrain)\n",
    "GaussianNB()\n",
    "y_pred = gnb.predict(Ftest)\n",
    "metrics.accuracy_score(Ltest, y_pred)"
   ]
  },
  {
   "cell_type": "code",
   "execution_count": null,
   "id": "08e6f602",
   "metadata": {},
   "outputs": [],
   "source": [
    "class_names = target.unique()\n",
    "print(classification_report(Ltest, y_pred, target_names=class_names))\n",
    "print(confusion_matrix(Ltest, y_pred))"
   ]
  },
  {
   "cell_type": "markdown",
   "id": "ad497b39",
   "metadata": {},
   "source": [
    "# Decision Tree on Green channel"
   ]
  },
  {
   "cell_type": "code",
   "execution_count": null,
   "id": "458fe744",
   "metadata": {},
   "outputs": [],
   "source": [
    "classifier_tree.fit(Ftrain, Ltrain)\n",
    "classifier_tree.score(Ftest,Ltest)"
   ]
  },
  {
   "cell_type": "code",
   "execution_count": null,
   "id": "60ea8164",
   "metadata": {},
   "outputs": [],
   "source": [
    "y_predict = classifier_tree.fit(Ftrain, Ltrain).predict(Ftest)\n",
    "class_names = target.unique()\n",
    "print(classification_report(Ltest, y_predict, target_names=class_names))\n",
    "print(confusion_matrix(Ltest, y_predict))"
   ]
  },
  {
   "cell_type": "markdown",
   "id": "75817642",
   "metadata": {},
   "source": [
    "# KNN on blue channel data"
   ]
  },
  {
   "cell_type": "code",
   "execution_count": null,
   "id": "531e3624",
   "metadata": {},
   "outputs": [],
   "source": [
    "#reading numpy array data\n",
    "gray_test = np.load('blue_data.npy')\n",
    "#reading csv file\n",
    "gray_df = pd.read_csv('blue_data.csv')\n",
    "loaded = []\n",
    "for i in gray_test:\n",
    "    k = []\n",
    "    k = np.asarray(i,dtype='uint8')\n",
    "    loaded.append(k)\n",
    "features = loaded\n",
    "target = gray_df['disease']\n",
    "Ftrain,Ftest,Ltrain,Ltest=train_test_split(features,target, test_size=0.20, random_state=20)\n",
    "Ftrain = minmax.fit_transform(Ftrain)\n",
    "Ftest = minmax.fit_transform(Ftest)\n",
    "kmodel.fit(Ftrain,Ltrain)\n",
    "kmodel.score(Ftest,Ltest)"
   ]
  },
  {
   "cell_type": "code",
   "execution_count": null,
   "id": "1314e157",
   "metadata": {},
   "outputs": [],
   "source": [
    "#printing results of the kmodel\n",
    "y_predict = kmodel.fit(Ftrain, Ltrain).predict(Ftest)\n",
    "class_names = target.unique()\n",
    "print(classification_report(Ltest, y_predict, target_names=class_names))\n",
    "print(confusion_matrix(Ltest, y_predict))"
   ]
  },
  {
   "cell_type": "markdown",
   "id": "f452a113",
   "metadata": {},
   "source": [
    "# logistic on blue channel data"
   ]
  },
  {
   "cell_type": "code",
   "execution_count": null,
   "id": "de158586",
   "metadata": {},
   "outputs": [],
   "source": [
    "model.fit(Ftrain,Ltrain)\n",
    "model.score(Ftest,Ltest)"
   ]
  },
  {
   "cell_type": "code",
   "execution_count": null,
   "id": "489ce7e9",
   "metadata": {},
   "outputs": [],
   "source": [
    "#classification report\n",
    "y_predict = model.fit(Ftrain, Ltrain).predict(Ftest)\n",
    "class_names = target.unique()\n",
    "print(classification_report(Ltest, y_predict, target_names=class_names))\n",
    "print(confusion_matrix(Ltest, y_predict))"
   ]
  },
  {
   "cell_type": "markdown",
   "id": "c7585c1d",
   "metadata": {},
   "source": [
    "# SVM on blue channel data"
   ]
  },
  {
   "cell_type": "code",
   "execution_count": null,
   "id": "06fb4a0f",
   "metadata": {},
   "outputs": [],
   "source": [
    "clf.fit(Ftrain,Ltrain)\n",
    "y_pred = clf.predict(Ftest)\n",
    "print(accuracy_score(Ltest,y_pred))"
   ]
  },
  {
   "cell_type": "code",
   "execution_count": null,
   "id": "03a12a5f",
   "metadata": {},
   "outputs": [],
   "source": [
    "#classification report\n",
    "y_predict = clf.fit(Ftrain, Ltrain).predict(Ftest)\n",
    "class_names = target.unique()\n",
    "print(classification_report(Ltest, y_predict, target_names=class_names))\n",
    "print(confusion_matrix(Ltest, y_predict))"
   ]
  },
  {
   "cell_type": "markdown",
   "id": "f4eb8c6c",
   "metadata": {},
   "source": [
    "# Random Forest on blue channel data"
   ]
  },
  {
   "cell_type": "code",
   "execution_count": null,
   "id": "b71407b2",
   "metadata": {},
   "outputs": [],
   "source": [
    "classifier_rf.fit(Ftrain, Ltrain)\n",
    "classifier_rf.oob_score_"
   ]
  },
  {
   "cell_type": "code",
   "execution_count": null,
   "id": "f7d75463",
   "metadata": {},
   "outputs": [],
   "source": [
    "y_predict = classifier_rf.fit(Ftrain, Ltrain).predict(Ftest)\n",
    "class_names = target.unique()\n",
    "print(classification_report(Ltest, y_predict, target_names=class_names))\n",
    "print(confusion_matrix(Ltest, y_predict))"
   ]
  },
  {
   "cell_type": "markdown",
   "id": "fb1ca20e",
   "metadata": {},
   "source": [
    "# Naive bayes on blue channel data"
   ]
  },
  {
   "cell_type": "code",
   "execution_count": null,
   "id": "11ea0b85",
   "metadata": {},
   "outputs": [],
   "source": [
    "gnb.fit(Ftrain, Ltrain)\n",
    "GaussianNB()\n",
    "y_pred = gnb.predict(Ftest)\n",
    "metrics.accuracy_score(Ltest, y_pred)"
   ]
  },
  {
   "cell_type": "code",
   "execution_count": null,
   "id": "b8a32aab",
   "metadata": {},
   "outputs": [],
   "source": [
    "class_names = target.unique()\n",
    "print(classification_report(Ltest, y_pred, target_names=class_names))\n",
    "print(confusion_matrix(Ltest, y_pred))"
   ]
  },
  {
   "cell_type": "markdown",
   "id": "f125f7c4",
   "metadata": {},
   "source": [
    "# Decision Tree on blue channel"
   ]
  },
  {
   "cell_type": "code",
   "execution_count": null,
   "id": "88bfbe14",
   "metadata": {},
   "outputs": [],
   "source": [
    "classifier_tree.fit(Ftrain, Ltrain)\n",
    "classifier_tree.score(Ftest,Ltest)"
   ]
  },
  {
   "cell_type": "code",
   "execution_count": null,
   "id": "6e2c73b8",
   "metadata": {},
   "outputs": [],
   "source": [
    "y_predict = classifier_tree.fit(Ftrain, Ltrain).predict(Ftest)\n",
    "class_names = target.unique()\n",
    "print(classification_report(Ltest, y_predict, target_names=class_names))\n",
    "print(confusion_matrix(Ltest, y_predict))"
   ]
  }
 ],
 "metadata": {
  "kernelspec": {
   "display_name": "Python 3 (ipykernel)",
   "language": "python",
   "name": "python3"
  },
  "language_info": {
   "codemirror_mode": {
    "name": "ipython",
    "version": 3
   },
   "file_extension": ".py",
   "mimetype": "text/x-python",
   "name": "python",
   "nbconvert_exporter": "python",
   "pygments_lexer": "ipython3",
   "version": "3.9.7"
  }
 },
 "nbformat": 4,
 "nbformat_minor": 5
}
