{
 "cells": [
  {
   "cell_type": "code",
   "execution_count": 1,
   "id": "bcdb1517",
   "metadata": {},
   "outputs": [],
   "source": [
    "import numpy as np #importing numpy\n",
    "import pandas as pd #importing pandas\n",
    "import PIL #importing pillow for image processing\n",
    "from PIL import Image#importing image from pillow library\n",
    "import skimage#importing skimage library\n",
    "import os#importing os library\n",
    "import time#importing time library\n",
    "\n",
    "#Capture start time of the program\n",
    "start_time = time.time()"
   ]
  },
  {
   "cell_type": "code",
   "execution_count": 2,
   "id": "9b1ff8ae",
   "metadata": {},
   "outputs": [],
   "source": [
    "from string import digits\n",
    "#code to remove numbers in a string and assigning it to the variable\n",
    "r_digits = str.maketrans('', '', digits)\n",
    "#taking source data folder path to a varible\n",
    "rawdata_path = 'D://DKIT//dissertation//Dataset_of_Tomato_Leaves//plantvillage//Preprocessed_data//128//data//'\n",
    "#changing current librbay to source data\n",
    "os.chdir(rawdata_path)\n",
    "#taking sub-directories to a list\n",
    "dirs = os.listdir()\n",
    "directories = []\n",
    "diseases = []\n",
    "#Taking directories into a list and extract disease name from folder name\n",
    "for x in dirs:\n",
    "    res = x.translate(r_digits).lower()\n",
    "    diseases.append(res)\n",
    "    temp = rawdata_path + x + '//'\n",
    "    directories.append(temp)"
   ]
  },
  {
   "cell_type": "code",
   "execution_count": 3,
   "id": "e67c4402",
   "metadata": {},
   "outputs": [],
   "source": [
    "for i in directories:\n",
    "    os.chdir(i)\n",
    "    pics = os.listdir()\n",
    "    #reading pics one by one in each directory\n",
    "    for j in pics:\n",
    "        image = Image.open(j,mode='r')\n",
    "        size = (128,128)\n",
    "        image = image.resize(size)\n",
    "        image = image.save(j)"
   ]
  },
  {
   "cell_type": "code",
   "execution_count": 4,
   "id": "0e3f1cdc",
   "metadata": {},
   "outputs": [],
   "source": [
    "#creating different dataframes for saving data in different vector forms\n",
    "#gray data\n",
    "gray_df = pd.DataFrame(columns=['mean','disease'])\n",
    "#rgb data\n",
    "rgb_df = pd.DataFrame(columns=['mean','disease'])\n",
    "#red data\n",
    "red_df = pd.DataFrame(columns=['mean','disease'])\n",
    "#green data\n",
    "green_df = pd.DataFrame(columns=['mean','disease'])\n",
    "#blue data\n",
    "blue_df = pd.DataFrame(columns=['mean','disease'])"
   ]
  },
  {
   "cell_type": "code",
   "execution_count": 5,
   "id": "d259b674",
   "metadata": {},
   "outputs": [],
   "source": [
    "#extracting data from images\n",
    "x = 0\n",
    "#creating enpty directories to save the vector from in to a list\n",
    "gray_test = []\n",
    "rgb_final = []\n",
    "red_final = []\n",
    "green_final = []\n",
    "blue_final = []\n",
    "disease = []\n",
    "#reading data directory by directory\n",
    "for i in directories:\n",
    "    os.chdir(i)\n",
    "    k = diseases[x]\n",
    "    pics = os.listdir()\n",
    "    #reading pics one by one in each directory\n",
    "    for j in pics:\n",
    "        temp_list = []\n",
    "        rgb_temp = []\n",
    "        red_temp = []\n",
    "        green_temp = []\n",
    "        blue_temp = []\n",
    "        gray = []\n",
    "        data = []\n",
    "        red = []\n",
    "        green = []\n",
    "        blue = []\n",
    "        #opening the image in rgb format\n",
    "        image = Image.open(j,mode='r')\n",
    "        data = image.convert('RGB')\n",
    "        data = np.array(data)\n",
    "        #extracting only red components\n",
    "        red = data[:,:,0]\n",
    "        #extracting only green components\n",
    "        green = data[:,:,1]\n",
    "        #extracting only blue components\n",
    "        blue = data[:,:,2]\n",
    "        data = data.ravel()\n",
    "        #saving rgb vector data into list\n",
    "        rgb_final.append(data)\n",
    "        rgb_temp.append(np.mean(data))\n",
    "        rgb_temp.append(k)\n",
    "        rgb_df.loc[len(rgb_df)] = rgb_temp\n",
    "        #saving red channel data into dataframe and vector data to a list.\n",
    "        red = red.ravel()\n",
    "        red_final.append(red)\n",
    "        red_temp.append(np.mean(red))\n",
    "        red_temp.append(k)\n",
    "        red_df.loc[len(red_df)] = red_temp\n",
    "        #saving blue channel data into dataframe and vector data to a list.\n",
    "        blue = blue.ravel()\n",
    "        blue_final.append(blue)\n",
    "        blue_temp.append(np.mean(blue))\n",
    "        blue_temp.append(k)\n",
    "        blue_df.loc[len(blue_df)] = blue_temp\n",
    "        #saving green channel data into dataframe and vector data to a list.\n",
    "        green = green.ravel()\n",
    "        green_final.append(green)\n",
    "        green_temp.append(np.mean(green))\n",
    "        green_temp.append(k)\n",
    "        green_df.loc[len(green_df)] = green_temp\n",
    "        #opening the image in gray format\n",
    "        gray = image.convert('L')\n",
    "        gray = np.array(gray)\n",
    "        gray = gray.ravel()\n",
    "        gray_test.append(gray)\n",
    "        temp_list.append(np.mean(gray))\n",
    "        temp_list.append(k)       \n",
    "        gray_df.loc[len(gray_df)] = temp_list\n",
    "    x = x+1"
   ]
  },
  {
   "cell_type": "code",
   "execution_count": 6,
   "id": "9ec45970",
   "metadata": {},
   "outputs": [],
   "source": [
    "#changing path\n",
    "os.chdir('D://DKIT//dissertation//Dataset_of_Tomato_Leaves//plantvillage//Preprocessed_data//128//vector//')"
   ]
  },
  {
   "cell_type": "code",
   "execution_count": 7,
   "id": "9b5459ff",
   "metadata": {},
   "outputs": [],
   "source": [
    "#saving the lists as numpy arrays in the local system\n",
    "np.save('gray_test',gray_test)\n",
    "np.save('rgb_data',rgb_final)\n",
    "np.save('red_data',red_final)\n",
    "np.save('green_data',green_final)\n",
    "np.save('blue_data',blue_final)"
   ]
  },
  {
   "cell_type": "code",
   "execution_count": 8,
   "id": "681ad20a",
   "metadata": {},
   "outputs": [],
   "source": [
    "#saving the dataframe as csv files in the local system\n",
    "gray_df.to_csv('gray_data.csv',index=False)\n",
    "rgb_df.to_csv('rgb_data.csv',index=False)\n",
    "red_df.to_csv('red_data.csv',index=False)\n",
    "green_df.to_csv('green_data.csv',index=False)\n",
    "blue_df.to_csv('blue_data.csv',index=False)"
   ]
  }
 ],
 "metadata": {
  "kernelspec": {
   "display_name": "Python 3 (ipykernel)",
   "language": "python",
   "name": "python3"
  },
  "language_info": {
   "codemirror_mode": {
    "name": "ipython",
    "version": 3
   },
   "file_extension": ".py",
   "mimetype": "text/x-python",
   "name": "python",
   "nbconvert_exporter": "python",
   "pygments_lexer": "ipython3",
   "version": "3.9.12"
  }
 },
 "nbformat": 4,
 "nbformat_minor": 5
}
