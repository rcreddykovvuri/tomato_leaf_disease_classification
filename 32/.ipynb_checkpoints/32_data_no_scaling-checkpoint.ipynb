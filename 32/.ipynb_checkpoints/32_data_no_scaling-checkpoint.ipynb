{
 "cells": [
  {
   "cell_type": "code",
   "execution_count": 1,
   "id": "bcdb1517",
   "metadata": {},
   "outputs": [],
   "source": [
    "import numpy as np #importing numpy\n",
    "import pandas as pd #importing pandas\n",
    "import PIL #importing pillow for image processing\n",
    "from PIL import Image#importing image from pillow library\n",
    "import skimage#importing skimage library\n",
    "import os#importing os library\n",
    "import time#importing time library\n",
    "\n",
    "#Capture start time of the program\n",
    "start_time = time.time()"
   ]
  },
  {
   "cell_type": "code",
   "execution_count": 2,
   "id": "9ec45970",
   "metadata": {},
   "outputs": [],
   "source": [
    "#changing path\n",
    "os.chdir('D://DKIT//dissertation//Dataset_of_Tomato_Leaves//plantvillage//Preprocessed_data//32//vector//')"
   ]
  },
  {
   "cell_type": "markdown",
   "id": "7139bf53",
   "metadata": {},
   "source": [
    "# KNN on rgb data"
   ]
  },
  {
   "cell_type": "code",
   "execution_count": 3,
   "id": "9386938c",
   "metadata": {},
   "outputs": [],
   "source": [
    "#reading numpy array data\n",
    "rgb_test = np.load('rgb_data.npy')\n",
    "#reading csv file\n",
    "rgb_df = pd.read_csv('rgb_data.csv')"
   ]
  },
  {
   "cell_type": "code",
   "execution_count": 4,
   "id": "40f528b5",
   "metadata": {},
   "outputs": [],
   "source": [
    "#reading each array and appending the data\n",
    "loaded = []\n",
    "for i in rgb_test:\n",
    "    k = []\n",
    "    k = np.asarray(i,dtype='uint8')\n",
    "    loaded.append(k)"
   ]
  },
  {
   "cell_type": "code",
   "execution_count": 5,
   "id": "c6d5658c",
   "metadata": {},
   "outputs": [],
   "source": [
    "#assigning features and target\n",
    "features = loaded\n",
    "target = rgb_df['disease']\n",
    "#splitting the data to 80 percent and 20 percent\n",
    "from sklearn.model_selection import train_test_split\n",
    "Ftrain,Ftest,Ltrain,Ltest=train_test_split(features,target, test_size=0.20, random_state=24)"
   ]
  },
  {
   "cell_type": "code",
   "execution_count": 6,
   "id": "6f1171c6",
   "metadata": {},
   "outputs": [],
   "source": [
    "#K-Model on the data\n",
    "from sklearn.neighbors import KNeighborsClassifier#importing data\n",
    "#building the model\n",
    "kmodel = KNeighborsClassifier(n_neighbors=120)"
   ]
  },
  {
   "cell_type": "code",
   "execution_count": 7,
   "id": "b9fdc978",
   "metadata": {},
   "outputs": [
    {
     "name": "stdout",
     "output_type": "stream",
     "text": [
      "0.5500515995872033\n"
     ]
    }
   ],
   "source": [
    "#k-model fitting and accuracy\n",
    "kmodel.fit(Ftrain,Ltrain)\n",
    "print(kmodel.score(Ftest,Ltest))"
   ]
  },
  {
   "cell_type": "code",
   "execution_count": 8,
   "id": "1fa0433e",
   "metadata": {},
   "outputs": [],
   "source": [
    "#importing classification report and confusion matrix\n",
    "from sklearn.metrics import classification_report, confusion_matrix"
   ]
  },
  {
   "cell_type": "code",
   "execution_count": 9,
   "id": "c5085d40",
   "metadata": {},
   "outputs": [
    {
     "name": "stdout",
     "output_type": "stream",
     "text": [
      "                               precision    recall  f1-score   support\n",
      "\n",
      "               bacterial_spot       0.35      0.80      0.48       345\n",
      "                 early_blight       0.00      0.00      0.00       153\n",
      "                      healthy       0.42      0.77      0.54       234\n",
      "                  late_blight       0.50      0.38      0.43       309\n",
      "                    leaf_mold       0.70      0.48      0.57       145\n",
      "           septoria_leaf_spot       0.70      0.32      0.44       293\n",
      "                  target_spot       0.56      0.18      0.27       240\n",
      "          tomato_mosaic_virus       0.88      0.13      0.23        54\n",
      "tomato_yellow_leaf_curl_virus       0.79      0.78      0.79       854\n",
      "      two-spotted_spider_mite       0.49      0.51      0.50       280\n",
      "\n",
      "                     accuracy                           0.55      2907\n",
      "                    macro avg       0.54      0.44      0.43      2907\n",
      "                 weighted avg       0.58      0.55      0.53      2907\n",
      "\n",
      "[[275   0  33  11   0   0   1   0  23   2]\n",
      " [ 94   0  10   2   0   6  13   0  19   9]\n",
      " [ 29   0 180  16   0   0   1   0   2   6]\n",
      " [ 55   0  57 117  13  23   3   0  26  15]\n",
      " [ 22   0  17  17  70   1   0   0  10   8]\n",
      " [ 29   0  36  46  15  95  10   1  34  27]\n",
      " [108   0  31   2   0   3  43   0  10  43]\n",
      " [  6   0  10   8   2   0   0   7   7  14]\n",
      " [111   0  42   3   0   6   0   0 670  22]\n",
      " [ 67   0  11  11   0   1   6   0  42 142]]\n"
     ]
    },
    {
     "name": "stderr",
     "output_type": "stream",
     "text": [
      "C:\\Users\\ravic\\anaconda3\\lib\\site-packages\\sklearn\\metrics\\_classification.py:1318: UndefinedMetricWarning: Precision and F-score are ill-defined and being set to 0.0 in labels with no predicted samples. Use `zero_division` parameter to control this behavior.\n",
      "  _warn_prf(average, modifier, msg_start, len(result))\n",
      "C:\\Users\\ravic\\anaconda3\\lib\\site-packages\\sklearn\\metrics\\_classification.py:1318: UndefinedMetricWarning: Precision and F-score are ill-defined and being set to 0.0 in labels with no predicted samples. Use `zero_division` parameter to control this behavior.\n",
      "  _warn_prf(average, modifier, msg_start, len(result))\n",
      "C:\\Users\\ravic\\anaconda3\\lib\\site-packages\\sklearn\\metrics\\_classification.py:1318: UndefinedMetricWarning: Precision and F-score are ill-defined and being set to 0.0 in labels with no predicted samples. Use `zero_division` parameter to control this behavior.\n",
      "  _warn_prf(average, modifier, msg_start, len(result))\n"
     ]
    }
   ],
   "source": [
    "#printing results of the kmodel\n",
    "y_predict = kmodel.fit(Ftrain, Ltrain).predict(Ftest)\n",
    "class_names = target.unique()\n",
    "print(classification_report(Ltest, y_predict, target_names=class_names))\n",
    "print(confusion_matrix(Ltest, y_predict))"
   ]
  },
  {
   "cell_type": "markdown",
   "id": "d5c58638",
   "metadata": {},
   "source": [
    "# Logistic on rgb data"
   ]
  },
  {
   "cell_type": "code",
   "execution_count": 10,
   "id": "a84836ef",
   "metadata": {},
   "outputs": [
    {
     "name": "stderr",
     "output_type": "stream",
     "text": [
      "C:\\Users\\ravic\\anaconda3\\lib\\site-packages\\sklearn\\linear_model\\_logistic.py:814: ConvergenceWarning: lbfgs failed to converge (status=1):\n",
      "STOP: TOTAL NO. of ITERATIONS REACHED LIMIT.\n",
      "\n",
      "Increase the number of iterations (max_iter) or scale the data as shown in:\n",
      "    https://scikit-learn.org/stable/modules/preprocessing.html\n",
      "Please also refer to the documentation for alternative solver options:\n",
      "    https://scikit-learn.org/stable/modules/linear_model.html#logistic-regression\n",
      "  n_iter_i = _check_optimize_result(\n"
     ]
    },
    {
     "name": "stdout",
     "output_type": "stream",
     "text": [
      "0.6250429996560027\n"
     ]
    }
   ],
   "source": [
    "#importing logistic data\n",
    "from sklearn.linear_model import LogisticRegression\n",
    "model=LogisticRegression(solver='lbfgs', max_iter=10000)\n",
    "#building the model\n",
    "model.fit(Ftrain,Ltrain)\n",
    "print(model.score(Ftest,Ltest))"
   ]
  },
  {
   "cell_type": "code",
   "execution_count": 11,
   "id": "bb13d9a1",
   "metadata": {},
   "outputs": [
    {
     "name": "stderr",
     "output_type": "stream",
     "text": [
      "C:\\Users\\ravic\\anaconda3\\lib\\site-packages\\sklearn\\linear_model\\_logistic.py:814: ConvergenceWarning: lbfgs failed to converge (status=1):\n",
      "STOP: TOTAL NO. of ITERATIONS REACHED LIMIT.\n",
      "\n",
      "Increase the number of iterations (max_iter) or scale the data as shown in:\n",
      "    https://scikit-learn.org/stable/modules/preprocessing.html\n",
      "Please also refer to the documentation for alternative solver options:\n",
      "    https://scikit-learn.org/stable/modules/linear_model.html#logistic-regression\n",
      "  n_iter_i = _check_optimize_result(\n"
     ]
    },
    {
     "name": "stdout",
     "output_type": "stream",
     "text": [
      "                               precision    recall  f1-score   support\n",
      "\n",
      "               bacterial_spot       0.59      0.72      0.65       345\n",
      "                 early_blight       0.29      0.32      0.30       153\n",
      "                      healthy       0.59      0.60      0.60       234\n",
      "                  late_blight       0.49      0.47      0.48       309\n",
      "                    leaf_mold       0.56      0.55      0.56       145\n",
      "           septoria_leaf_spot       0.52      0.50      0.51       293\n",
      "                  target_spot       0.49      0.45      0.47       240\n",
      "          tomato_mosaic_virus       0.69      0.67      0.68        54\n",
      "tomato_yellow_leaf_curl_virus       0.89      0.83      0.86       854\n",
      "      two-spotted_spider_mite       0.54      0.54      0.54       280\n",
      "\n",
      "                     accuracy                           0.63      2907\n",
      "                    macro avg       0.56      0.57      0.56      2907\n",
      "                 weighted avg       0.63      0.63      0.63      2907\n",
      "\n",
      "[[250  22  10  19   1  11   4   0  21   7]\n",
      " [ 20  49   8  25   4   6  11   0  16  14]\n",
      " [  5  11 141  22   7  12  27   0   0   9]\n",
      " [ 33  26  18 146  10  32   8   2  12  22]\n",
      " [  3   6   8  10  80  25   3   0   3   7]\n",
      " [ 22  12  17  30  19 147  13   8  13  12]\n",
      " [ 15   9  25  13   8  22 107   1   3  37]\n",
      " [  0   1   1   0   4   5   5  36   1   1]\n",
      " [ 59  11   1  21   5  15  13   0 711  18]\n",
      " [ 18  23   9  15   5   8  28   5  19 150]]\n"
     ]
    }
   ],
   "source": [
    "#classification report\n",
    "y_predict = model.fit(Ftrain, Ltrain).predict(Ftest)\n",
    "class_names = target.unique()\n",
    "print(classification_report(Ltest, y_predict, target_names=class_names))\n",
    "print(confusion_matrix(Ltest, y_predict))"
   ]
  },
  {
   "cell_type": "markdown",
   "id": "6fe194bc",
   "metadata": {},
   "source": [
    "# SVM on RGB data"
   ]
  },
  {
   "cell_type": "code",
   "execution_count": 12,
   "id": "2427ed51",
   "metadata": {},
   "outputs": [
    {
     "name": "stdout",
     "output_type": "stream",
     "text": [
      "0.7261781905744754\n"
     ]
    }
   ],
   "source": [
    "#importing svm\n",
    "from sklearn.svm import SVC\n",
    "from sklearn.metrics import accuracy_score\n",
    "#builidng the model\n",
    "clf = SVC(kernel='linear')\n",
    "#fitting the model\n",
    "clf.fit(Ftrain,Ltrain)\n",
    "y_pred = clf.predict(Ftest)\n",
    "print(accuracy_score(Ltest,y_pred))"
   ]
  },
  {
   "cell_type": "code",
   "execution_count": 13,
   "id": "bf286604",
   "metadata": {},
   "outputs": [
    {
     "name": "stdout",
     "output_type": "stream",
     "text": [
      "                               precision    recall  f1-score   support\n",
      "\n",
      "               bacterial_spot       0.64      0.82      0.72       345\n",
      "                 early_blight       0.37      0.35      0.36       153\n",
      "                      healthy       0.75      0.80      0.77       234\n",
      "                  late_blight       0.66      0.65      0.65       309\n",
      "                    leaf_mold       0.65      0.60      0.62       145\n",
      "           septoria_leaf_spot       0.69      0.67      0.68       293\n",
      "                  target_spot       0.65      0.57      0.60       240\n",
      "          tomato_mosaic_virus       0.77      0.87      0.82        54\n",
      "tomato_yellow_leaf_curl_virus       0.91      0.86      0.89       854\n",
      "      two-spotted_spider_mite       0.70      0.66      0.68       280\n",
      "\n",
      "                     accuracy                           0.73      2907\n",
      "                    macro avg       0.68      0.68      0.68      2907\n",
      "                 weighted avg       0.73      0.73      0.73      2907\n",
      "\n",
      "[[284  15   2  11   0   2   2   0  28   1]\n",
      " [ 32  54   2  26   1   6   8   0   9  15]\n",
      " [  1   9 188  11   4   5  11   0   0   5]\n",
      " [ 31  15  17 200  11  17   2   0   8   8]\n",
      " [  3   4   4  11  87  24   2   3   5   2]\n",
      " [  6   9  14  20  13 195  14   7   8   7]\n",
      " [  8  23  16   2   7  14 136   1   0  33]\n",
      " [  0   0   0   0   1   6   0  47   0   0]\n",
      " [ 73   6   0  17   3   4   6   0 736   9]\n",
      " [  8  11   9   7   7   9  29   3  13 184]]\n"
     ]
    }
   ],
   "source": [
    "#classification report\n",
    "y_predict = clf.fit(Ftrain, Ltrain).predict(Ftest)\n",
    "class_names = target.unique()\n",
    "print(classification_report(Ltest, y_predict, target_names=class_names))\n",
    "print(confusion_matrix(Ltest, y_predict))"
   ]
  },
  {
   "cell_type": "markdown",
   "id": "73bef6fa",
   "metadata": {},
   "source": [
    "# Random Forest on RGB "
   ]
  },
  {
   "cell_type": "code",
   "execution_count": 14,
   "id": "6bae5a92",
   "metadata": {},
   "outputs": [],
   "source": [
    "#importing the random forest\n",
    "from sklearn.ensemble import RandomForestClassifier"
   ]
  },
  {
   "cell_type": "code",
   "execution_count": 15,
   "id": "1d08a15e",
   "metadata": {},
   "outputs": [],
   "source": [
    "#building the model\n",
    "classifier_rf = RandomForestClassifier(random_state=42, n_jobs=-1, max_depth=5,n_estimators=100, oob_score=True)"
   ]
  },
  {
   "cell_type": "code",
   "execution_count": 16,
   "id": "938ad007",
   "metadata": {},
   "outputs": [
    {
     "data": {
      "text/plain": [
       "RandomForestClassifier(max_depth=5, n_jobs=-1, oob_score=True, random_state=42)"
      ]
     },
     "execution_count": 16,
     "metadata": {},
     "output_type": "execute_result"
    }
   ],
   "source": [
    "#fitting the model\n",
    "classifier_rf.fit(Ftrain, Ltrain)"
   ]
  },
  {
   "cell_type": "code",
   "execution_count": 17,
   "id": "e1769cec",
   "metadata": {},
   "outputs": [
    {
     "data": {
      "text/plain": [
       "0.5580695113558155"
      ]
     },
     "execution_count": 17,
     "metadata": {},
     "output_type": "execute_result"
    }
   ],
   "source": [
    "classifier_rf.oob_score_"
   ]
  },
  {
   "cell_type": "code",
   "execution_count": 18,
   "id": "13c0682e",
   "metadata": {},
   "outputs": [
    {
     "name": "stdout",
     "output_type": "stream",
     "text": [
      "                               precision    recall  f1-score   support\n",
      "\n",
      "               bacterial_spot       0.73      0.57      0.64       345\n",
      "                 early_blight       0.00      0.00      0.00       153\n",
      "                      healthy       0.58      0.91      0.71       234\n",
      "                  late_blight       0.71      0.28      0.40       309\n",
      "                    leaf_mold       0.76      0.31      0.44       145\n",
      "           septoria_leaf_spot       0.57      0.44      0.50       293\n",
      "                  target_spot       0.53      0.38      0.44       240\n",
      "          tomato_mosaic_virus       0.00      0.00      0.00        54\n",
      "tomato_yellow_leaf_curl_virus       0.52      0.98      0.68       854\n",
      "      two-spotted_spider_mite       0.72      0.17      0.28       280\n",
      "\n",
      "                     accuracy                           0.57      2907\n",
      "                    macro avg       0.51      0.40      0.41      2907\n",
      "                 weighted avg       0.57      0.57      0.51      2907\n",
      "\n",
      "[[196   0  18   4   0   0   3   0 124   0]\n",
      " [ 18   0   5   3   0  18  16   0  90   3]\n",
      " [  3   0 213   0   1   1   1   0  14   1]\n",
      " [  5   0  68  86   4  36  11   0  96   3]\n",
      " [  8   0  22  11  45   6   5   0  48   0]\n",
      " [  6   0   9   7   7 129   2   0 132   1]\n",
      " [ 16   0  16   3   0  25  91   0  81   8]\n",
      " [  4   0   6   5   2   3   0   0  31   3]\n",
      " [  4   0   2   2   0   6   1   0 839   0]\n",
      " [ 10   0   7   0   0   3  41   0 171  48]]\n"
     ]
    },
    {
     "name": "stderr",
     "output_type": "stream",
     "text": [
      "C:\\Users\\ravic\\anaconda3\\lib\\site-packages\\sklearn\\metrics\\_classification.py:1318: UndefinedMetricWarning: Precision and F-score are ill-defined and being set to 0.0 in labels with no predicted samples. Use `zero_division` parameter to control this behavior.\n",
      "  _warn_prf(average, modifier, msg_start, len(result))\n",
      "C:\\Users\\ravic\\anaconda3\\lib\\site-packages\\sklearn\\metrics\\_classification.py:1318: UndefinedMetricWarning: Precision and F-score are ill-defined and being set to 0.0 in labels with no predicted samples. Use `zero_division` parameter to control this behavior.\n",
      "  _warn_prf(average, modifier, msg_start, len(result))\n",
      "C:\\Users\\ravic\\anaconda3\\lib\\site-packages\\sklearn\\metrics\\_classification.py:1318: UndefinedMetricWarning: Precision and F-score are ill-defined and being set to 0.0 in labels with no predicted samples. Use `zero_division` parameter to control this behavior.\n",
      "  _warn_prf(average, modifier, msg_start, len(result))\n"
     ]
    }
   ],
   "source": [
    "#classification report\n",
    "y_predict = classifier_rf.fit(Ftrain, Ltrain).predict(Ftest)\n",
    "class_names = target.unique()\n",
    "print(classification_report(Ltest, y_predict, target_names=class_names))\n",
    "print(confusion_matrix(Ltest, y_predict))"
   ]
  },
  {
   "cell_type": "markdown",
   "id": "b6a094e4",
   "metadata": {},
   "source": [
    "# Naive Bayes on RGB data"
   ]
  },
  {
   "cell_type": "code",
   "execution_count": 19,
   "id": "a5bc755b",
   "metadata": {},
   "outputs": [
    {
     "data": {
      "text/plain": [
       "GaussianNB()"
      ]
     },
     "execution_count": 19,
     "metadata": {},
     "output_type": "execute_result"
    }
   ],
   "source": [
    "#importing gaussian naive bayes model\n",
    "from sklearn.naive_bayes import GaussianNB\n",
    "gnb = GaussianNB()\n",
    "#fitting the model\n",
    "gnb.fit(Ftrain, Ltrain)"
   ]
  },
  {
   "cell_type": "code",
   "execution_count": 20,
   "id": "6d162dcc",
   "metadata": {},
   "outputs": [],
   "source": [
    "#predicting the model\n",
    "y_pred = gnb.predict(Ftest)"
   ]
  },
  {
   "cell_type": "code",
   "execution_count": 21,
   "id": "8f7b4bab",
   "metadata": {},
   "outputs": [
    {
     "data": {
      "text/plain": [
       "0.5067079463364293"
      ]
     },
     "execution_count": 21,
     "metadata": {},
     "output_type": "execute_result"
    }
   ],
   "source": [
    "#import metrics\n",
    "from sklearn import metrics\n",
    "metrics.accuracy_score(Ltest, y_pred)"
   ]
  },
  {
   "cell_type": "code",
   "execution_count": 22,
   "id": "935808af",
   "metadata": {},
   "outputs": [
    {
     "name": "stdout",
     "output_type": "stream",
     "text": [
      "                               precision    recall  f1-score   support\n",
      "\n",
      "               bacterial_spot       0.53      0.76      0.62       345\n",
      "                 early_blight       0.23      0.32      0.27       153\n",
      "                      healthy       0.43      0.69      0.53       234\n",
      "                  late_blight       0.49      0.29      0.37       309\n",
      "                    leaf_mold       0.53      0.43      0.48       145\n",
      "           septoria_leaf_spot       0.45      0.46      0.45       293\n",
      "                  target_spot       0.54      0.45      0.49       240\n",
      "          tomato_mosaic_virus       0.19      0.72      0.30        54\n",
      "tomato_yellow_leaf_curl_virus       0.88      0.50      0.64       854\n",
      "      two-spotted_spider_mite       0.41      0.48      0.44       280\n",
      "\n",
      "                     accuracy                           0.51      2907\n",
      "                    macro avg       0.47      0.51      0.46      2907\n",
      "                 weighted avg       0.58      0.51      0.52      2907\n",
      "\n",
      "[[261   7  31   8   0   2   6   6  20   4]\n",
      " [ 36  49   2  24   0  10  17   4   4   7]\n",
      " [  9   6 162   8   6   3  22   7   2   9]\n",
      " [  3  49  92  90  18  30   6  13   4   4]\n",
      " [  6   6   5  13  63  23   1  21   2   5]\n",
      " [  6  10  39   7  18 134  19  19  14  27]\n",
      " [ 18  14   2   7   3  23 109  11   2  51]\n",
      " [  5   0   3   0   1   3   0  39   1   2]\n",
      " [135  43  39  22   6  51   2  40 431  85]\n",
      " [ 14  25   6   5   3  22  19  42   9 135]]\n"
     ]
    }
   ],
   "source": [
    "#classification model\n",
    "class_names = target.unique()\n",
    "print(classification_report(Ltest, y_pred, target_names=class_names))\n",
    "print(confusion_matrix(Ltest, y_pred))"
   ]
  },
  {
   "cell_type": "markdown",
   "id": "75bb69d9",
   "metadata": {},
   "source": [
    "# Decision Tree on RGB data"
   ]
  },
  {
   "cell_type": "code",
   "execution_count": 23,
   "id": "6a765709",
   "metadata": {},
   "outputs": [],
   "source": [
    "#importing decision tree\n",
    "from sklearn.tree import DecisionTreeClassifier\n",
    "classifier_tree = DecisionTreeClassifier()"
   ]
  },
  {
   "cell_type": "code",
   "execution_count": 24,
   "id": "feb5f853",
   "metadata": {},
   "outputs": [
    {
     "data": {
      "text/plain": [
       "0.5053319573443412"
      ]
     },
     "execution_count": 24,
     "metadata": {},
     "output_type": "execute_result"
    }
   ],
   "source": [
    "#fitting the model\n",
    "classifier_tree.fit(Ftrain, Ltrain)\n",
    "classifier_tree.score(Ftest,Ltest)"
   ]
  },
  {
   "cell_type": "code",
   "execution_count": 25,
   "id": "1bdf54ae",
   "metadata": {},
   "outputs": [
    {
     "name": "stdout",
     "output_type": "stream",
     "text": [
      "                               precision    recall  f1-score   support\n",
      "\n",
      "               bacterial_spot       0.50      0.60      0.54       345\n",
      "                 early_blight       0.10      0.11      0.10       153\n",
      "                      healthy       0.65      0.66      0.65       234\n",
      "                  late_blight       0.45      0.47      0.46       309\n",
      "                    leaf_mold       0.34      0.29      0.31       145\n",
      "           septoria_leaf_spot       0.42      0.38      0.40       293\n",
      "                  target_spot       0.33      0.30      0.31       240\n",
      "          tomato_mosaic_virus       0.06      0.07      0.07        54\n",
      "tomato_yellow_leaf_curl_virus       0.74      0.69      0.72       854\n",
      "      two-spotted_spider_mite       0.37      0.38      0.37       280\n",
      "\n",
      "                     accuracy                           0.50      2907\n",
      "                    macro avg       0.40      0.40      0.39      2907\n",
      "                 weighted avg       0.51      0.50      0.50      2907\n",
      "\n",
      "[[206  22   8  18   8  17  10   2  41  13]\n",
      " [ 26  17   3  27   2   8  21   5  29  15]\n",
      " [ 12   5 155  24   7   6  12   5   2   6]\n",
      " [ 18  25  17 146  13  35  13   6  23  13]\n",
      " [  9  13   8  19  42  13   6   6  17  12]\n",
      " [ 18  13   7  29  15 112  21  12  46  20]\n",
      " [ 16  21  22  14  13  19  72   8  17  38]\n",
      " [  4   4   5   7   6   8   2   4   4  10]\n",
      " [ 84  27   8  20   8  37  18   9 591  52]\n",
      " [ 21  28   7  17   9   9  46   9  29 105]]\n"
     ]
    }
   ],
   "source": [
    "#classification report\n",
    "y_predict = classifier_tree.fit(Ftrain, Ltrain).predict(Ftest)\n",
    "class_names = target.unique()\n",
    "print(classification_report(Ltest, y_predict, target_names=class_names))\n",
    "print(confusion_matrix(Ltest, y_predict))"
   ]
  },
  {
   "cell_type": "markdown",
   "id": "c9daaaee",
   "metadata": {},
   "source": [
    "# KNN on grayscale data"
   ]
  },
  {
   "cell_type": "code",
   "execution_count": 26,
   "id": "57a9845e",
   "metadata": {},
   "outputs": [],
   "source": [
    "#reading numpy array data\n",
    "gray_test = np.load('gray_test.npy')\n",
    "#reading csv file\n",
    "gray_df = pd.read_csv('gray_data.csv')"
   ]
  },
  {
   "cell_type": "code",
   "execution_count": 27,
   "id": "25d4fea2",
   "metadata": {},
   "outputs": [],
   "source": [
    "#reading each array and appending to loaded\n",
    "loaded = []\n",
    "for i in gray_test:\n",
    "    k = []\n",
    "    k = np.asarray(i,dtype='uint8')\n",
    "    loaded.append(k)"
   ]
  },
  {
   "cell_type": "code",
   "execution_count": 28,
   "id": "d3abef95",
   "metadata": {},
   "outputs": [],
   "source": [
    "#assigning features and target\n",
    "features = loaded\n",
    "target = gray_df['disease']"
   ]
  },
  {
   "cell_type": "code",
   "execution_count": 29,
   "id": "6f75adfd",
   "metadata": {},
   "outputs": [
    {
     "data": {
      "text/plain": [
       "0.5500515995872033"
      ]
     },
     "execution_count": 29,
     "metadata": {},
     "output_type": "execute_result"
    }
   ],
   "source": [
    "#fitting the model\n",
    "kmodel.fit(Ftrain,Ltrain)\n",
    "kmodel.score(Ftest,Ltest)"
   ]
  },
  {
   "cell_type": "code",
   "execution_count": 30,
   "id": "20df9552",
   "metadata": {},
   "outputs": [
    {
     "name": "stdout",
     "output_type": "stream",
     "text": [
      "                               precision    recall  f1-score   support\n",
      "\n",
      "               bacterial_spot       0.35      0.80      0.48       345\n",
      "                 early_blight       0.00      0.00      0.00       153\n",
      "                      healthy       0.42      0.77      0.54       234\n",
      "                  late_blight       0.50      0.38      0.43       309\n",
      "                    leaf_mold       0.70      0.48      0.57       145\n",
      "           septoria_leaf_spot       0.70      0.32      0.44       293\n",
      "                  target_spot       0.56      0.18      0.27       240\n",
      "          tomato_mosaic_virus       0.88      0.13      0.23        54\n",
      "tomato_yellow_leaf_curl_virus       0.79      0.78      0.79       854\n",
      "      two-spotted_spider_mite       0.49      0.51      0.50       280\n",
      "\n",
      "                     accuracy                           0.55      2907\n",
      "                    macro avg       0.54      0.44      0.43      2907\n",
      "                 weighted avg       0.58      0.55      0.53      2907\n",
      "\n",
      "[[275   0  33  11   0   0   1   0  23   2]\n",
      " [ 94   0  10   2   0   6  13   0  19   9]\n",
      " [ 29   0 180  16   0   0   1   0   2   6]\n",
      " [ 55   0  57 117  13  23   3   0  26  15]\n",
      " [ 22   0  17  17  70   1   0   0  10   8]\n",
      " [ 29   0  36  46  15  95  10   1  34  27]\n",
      " [108   0  31   2   0   3  43   0  10  43]\n",
      " [  6   0  10   8   2   0   0   7   7  14]\n",
      " [111   0  42   3   0   6   0   0 670  22]\n",
      " [ 67   0  11  11   0   1   6   0  42 142]]\n"
     ]
    },
    {
     "name": "stderr",
     "output_type": "stream",
     "text": [
      "C:\\Users\\ravic\\anaconda3\\lib\\site-packages\\sklearn\\metrics\\_classification.py:1318: UndefinedMetricWarning: Precision and F-score are ill-defined and being set to 0.0 in labels with no predicted samples. Use `zero_division` parameter to control this behavior.\n",
      "  _warn_prf(average, modifier, msg_start, len(result))\n",
      "C:\\Users\\ravic\\anaconda3\\lib\\site-packages\\sklearn\\metrics\\_classification.py:1318: UndefinedMetricWarning: Precision and F-score are ill-defined and being set to 0.0 in labels with no predicted samples. Use `zero_division` parameter to control this behavior.\n",
      "  _warn_prf(average, modifier, msg_start, len(result))\n",
      "C:\\Users\\ravic\\anaconda3\\lib\\site-packages\\sklearn\\metrics\\_classification.py:1318: UndefinedMetricWarning: Precision and F-score are ill-defined and being set to 0.0 in labels with no predicted samples. Use `zero_division` parameter to control this behavior.\n",
      "  _warn_prf(average, modifier, msg_start, len(result))\n"
     ]
    }
   ],
   "source": [
    "#classification report\n",
    "y_predict = kmodel.fit(Ftrain, Ltrain).predict(Ftest)\n",
    "class_names = target.unique()\n",
    "print(classification_report(Ltest, y_predict, target_names=class_names))\n",
    "print(confusion_matrix(Ltest, y_predict))"
   ]
  },
  {
   "cell_type": "markdown",
   "id": "197eedfc",
   "metadata": {},
   "source": [
    "# Logistic on grayscale data"
   ]
  },
  {
   "cell_type": "code",
   "execution_count": 31,
   "id": "9fd6cafe",
   "metadata": {},
   "outputs": [
    {
     "name": "stderr",
     "output_type": "stream",
     "text": [
      "C:\\Users\\ravic\\anaconda3\\lib\\site-packages\\sklearn\\linear_model\\_logistic.py:814: ConvergenceWarning: lbfgs failed to converge (status=1):\n",
      "STOP: TOTAL NO. of ITERATIONS REACHED LIMIT.\n",
      "\n",
      "Increase the number of iterations (max_iter) or scale the data as shown in:\n",
      "    https://scikit-learn.org/stable/modules/preprocessing.html\n",
      "Please also refer to the documentation for alternative solver options:\n",
      "    https://scikit-learn.org/stable/modules/linear_model.html#logistic-regression\n",
      "  n_iter_i = _check_optimize_result(\n"
     ]
    },
    {
     "data": {
      "text/plain": [
       "0.6250429996560027"
      ]
     },
     "execution_count": 31,
     "metadata": {},
     "output_type": "execute_result"
    }
   ],
   "source": [
    "#fitting the model\n",
    "model.fit(Ftrain,Ltrain)\n",
    "model.score(Ftest,Ltest)"
   ]
  },
  {
   "cell_type": "code",
   "execution_count": 32,
   "id": "834920c5",
   "metadata": {},
   "outputs": [
    {
     "name": "stderr",
     "output_type": "stream",
     "text": [
      "C:\\Users\\ravic\\anaconda3\\lib\\site-packages\\sklearn\\linear_model\\_logistic.py:814: ConvergenceWarning: lbfgs failed to converge (status=1):\n",
      "STOP: TOTAL NO. of ITERATIONS REACHED LIMIT.\n",
      "\n",
      "Increase the number of iterations (max_iter) or scale the data as shown in:\n",
      "    https://scikit-learn.org/stable/modules/preprocessing.html\n",
      "Please also refer to the documentation for alternative solver options:\n",
      "    https://scikit-learn.org/stable/modules/linear_model.html#logistic-regression\n",
      "  n_iter_i = _check_optimize_result(\n"
     ]
    },
    {
     "name": "stdout",
     "output_type": "stream",
     "text": [
      "                               precision    recall  f1-score   support\n",
      "\n",
      "               bacterial_spot       0.59      0.72      0.65       345\n",
      "                 early_blight       0.29      0.32      0.30       153\n",
      "                      healthy       0.59      0.60      0.60       234\n",
      "                  late_blight       0.49      0.47      0.48       309\n",
      "                    leaf_mold       0.56      0.55      0.56       145\n",
      "           septoria_leaf_spot       0.52      0.50      0.51       293\n",
      "                  target_spot       0.49      0.45      0.47       240\n",
      "          tomato_mosaic_virus       0.69      0.67      0.68        54\n",
      "tomato_yellow_leaf_curl_virus       0.89      0.83      0.86       854\n",
      "      two-spotted_spider_mite       0.54      0.54      0.54       280\n",
      "\n",
      "                     accuracy                           0.63      2907\n",
      "                    macro avg       0.56      0.57      0.56      2907\n",
      "                 weighted avg       0.63      0.63      0.63      2907\n",
      "\n",
      "[[250  22  10  19   1  11   4   0  21   7]\n",
      " [ 20  49   8  25   4   6  11   0  16  14]\n",
      " [  5  11 141  22   7  12  27   0   0   9]\n",
      " [ 33  26  18 146  10  32   8   2  12  22]\n",
      " [  3   6   8  10  80  25   3   0   3   7]\n",
      " [ 22  12  17  30  19 147  13   8  13  12]\n",
      " [ 15   9  25  13   8  22 107   1   3  37]\n",
      " [  0   1   1   0   4   5   5  36   1   1]\n",
      " [ 59  11   1  21   5  15  13   0 711  18]\n",
      " [ 18  23   9  15   5   8  28   5  19 150]]\n"
     ]
    }
   ],
   "source": [
    "#classification report\n",
    "y_predict = model.fit(Ftrain, Ltrain).predict(Ftest)\n",
    "class_names = target.unique()\n",
    "print(classification_report(Ltest, y_predict, target_names=class_names))\n",
    "print(confusion_matrix(Ltest, y_predict))"
   ]
  },
  {
   "cell_type": "markdown",
   "id": "5284f869",
   "metadata": {},
   "source": [
    "# SVM on Grayscale data"
   ]
  },
  {
   "cell_type": "code",
   "execution_count": 33,
   "id": "d0db5c80",
   "metadata": {},
   "outputs": [
    {
     "name": "stdout",
     "output_type": "stream",
     "text": [
      "0.7261781905744754\n"
     ]
    }
   ],
   "source": [
    "#fitting the model\n",
    "clf.fit(Ftrain,Ltrain)\n",
    "y_pred = clf.predict(Ftest)\n",
    "print(accuracy_score(Ltest,y_pred))"
   ]
  },
  {
   "cell_type": "code",
   "execution_count": 34,
   "id": "05d3b675",
   "metadata": {},
   "outputs": [
    {
     "name": "stdout",
     "output_type": "stream",
     "text": [
      "                               precision    recall  f1-score   support\n",
      "\n",
      "               bacterial_spot       0.64      0.82      0.72       345\n",
      "                 early_blight       0.37      0.35      0.36       153\n",
      "                      healthy       0.75      0.80      0.77       234\n",
      "                  late_blight       0.66      0.65      0.65       309\n",
      "                    leaf_mold       0.65      0.60      0.62       145\n",
      "           septoria_leaf_spot       0.69      0.67      0.68       293\n",
      "                  target_spot       0.65      0.57      0.60       240\n",
      "          tomato_mosaic_virus       0.77      0.87      0.82        54\n",
      "tomato_yellow_leaf_curl_virus       0.91      0.86      0.89       854\n",
      "      two-spotted_spider_mite       0.70      0.66      0.68       280\n",
      "\n",
      "                     accuracy                           0.73      2907\n",
      "                    macro avg       0.68      0.68      0.68      2907\n",
      "                 weighted avg       0.73      0.73      0.73      2907\n",
      "\n",
      "[[284  15   2  11   0   2   2   0  28   1]\n",
      " [ 32  54   2  26   1   6   8   0   9  15]\n",
      " [  1   9 188  11   4   5  11   0   0   5]\n",
      " [ 31  15  17 200  11  17   2   0   8   8]\n",
      " [  3   4   4  11  87  24   2   3   5   2]\n",
      " [  6   9  14  20  13 195  14   7   8   7]\n",
      " [  8  23  16   2   7  14 136   1   0  33]\n",
      " [  0   0   0   0   1   6   0  47   0   0]\n",
      " [ 73   6   0  17   3   4   6   0 736   9]\n",
      " [  8  11   9   7   7   9  29   3  13 184]]\n"
     ]
    }
   ],
   "source": [
    "#classification report on model\n",
    "y_predict = clf.fit(Ftrain, Ltrain).predict(Ftest)\n",
    "class_names = target.unique()\n",
    "print(classification_report(Ltest, y_predict, target_names=class_names))\n",
    "print(confusion_matrix(Ltest, y_predict))"
   ]
  },
  {
   "cell_type": "markdown",
   "id": "576fd580",
   "metadata": {},
   "source": [
    "# Random Forest on Grayscale"
   ]
  },
  {
   "cell_type": "code",
   "execution_count": 35,
   "id": "9dfa979e",
   "metadata": {},
   "outputs": [
    {
     "data": {
      "text/plain": [
       "RandomForestClassifier(max_depth=5, n_jobs=-1, oob_score=True, random_state=42)"
      ]
     },
     "execution_count": 35,
     "metadata": {},
     "output_type": "execute_result"
    }
   ],
   "source": [
    "#fitting the model\n",
    "classifier_rf.fit(Ftrain, Ltrain)"
   ]
  },
  {
   "cell_type": "code",
   "execution_count": 36,
   "id": "2b4347ef",
   "metadata": {},
   "outputs": [
    {
     "data": {
      "text/plain": [
       "0.5580695113558155"
      ]
     },
     "execution_count": 36,
     "metadata": {},
     "output_type": "execute_result"
    }
   ],
   "source": [
    "classifier_rf.oob_score_"
   ]
  },
  {
   "cell_type": "code",
   "execution_count": 37,
   "id": "8b7d285d",
   "metadata": {},
   "outputs": [
    {
     "name": "stdout",
     "output_type": "stream",
     "text": [
      "                               precision    recall  f1-score   support\n",
      "\n",
      "               bacterial_spot       0.73      0.57      0.64       345\n",
      "                 early_blight       0.00      0.00      0.00       153\n",
      "                      healthy       0.58      0.91      0.71       234\n",
      "                  late_blight       0.71      0.28      0.40       309\n",
      "                    leaf_mold       0.76      0.31      0.44       145\n",
      "           septoria_leaf_spot       0.57      0.44      0.50       293\n",
      "                  target_spot       0.53      0.38      0.44       240\n",
      "          tomato_mosaic_virus       0.00      0.00      0.00        54\n",
      "tomato_yellow_leaf_curl_virus       0.52      0.98      0.68       854\n",
      "      two-spotted_spider_mite       0.72      0.17      0.28       280\n",
      "\n",
      "                     accuracy                           0.57      2907\n",
      "                    macro avg       0.51      0.40      0.41      2907\n",
      "                 weighted avg       0.57      0.57      0.51      2907\n",
      "\n",
      "[[196   0  18   4   0   0   3   0 124   0]\n",
      " [ 18   0   5   3   0  18  16   0  90   3]\n",
      " [  3   0 213   0   1   1   1   0  14   1]\n",
      " [  5   0  68  86   4  36  11   0  96   3]\n",
      " [  8   0  22  11  45   6   5   0  48   0]\n",
      " [  6   0   9   7   7 129   2   0 132   1]\n",
      " [ 16   0  16   3   0  25  91   0  81   8]\n",
      " [  4   0   6   5   2   3   0   0  31   3]\n",
      " [  4   0   2   2   0   6   1   0 839   0]\n",
      " [ 10   0   7   0   0   3  41   0 171  48]]\n"
     ]
    },
    {
     "name": "stderr",
     "output_type": "stream",
     "text": [
      "C:\\Users\\ravic\\anaconda3\\lib\\site-packages\\sklearn\\metrics\\_classification.py:1318: UndefinedMetricWarning: Precision and F-score are ill-defined and being set to 0.0 in labels with no predicted samples. Use `zero_division` parameter to control this behavior.\n",
      "  _warn_prf(average, modifier, msg_start, len(result))\n",
      "C:\\Users\\ravic\\anaconda3\\lib\\site-packages\\sklearn\\metrics\\_classification.py:1318: UndefinedMetricWarning: Precision and F-score are ill-defined and being set to 0.0 in labels with no predicted samples. Use `zero_division` parameter to control this behavior.\n",
      "  _warn_prf(average, modifier, msg_start, len(result))\n",
      "C:\\Users\\ravic\\anaconda3\\lib\\site-packages\\sklearn\\metrics\\_classification.py:1318: UndefinedMetricWarning: Precision and F-score are ill-defined and being set to 0.0 in labels with no predicted samples. Use `zero_division` parameter to control this behavior.\n",
      "  _warn_prf(average, modifier, msg_start, len(result))\n"
     ]
    }
   ],
   "source": [
    "#classification report\n",
    "y_predict = classifier_rf.fit(Ftrain, Ltrain).predict(Ftest)\n",
    "class_names = target.unique()\n",
    "print(classification_report(Ltest, y_predict, target_names=class_names))\n",
    "print(confusion_matrix(Ltest, y_predict))"
   ]
  },
  {
   "cell_type": "markdown",
   "id": "8befce61",
   "metadata": {},
   "source": [
    "# Naive bayes on Grayscale"
   ]
  },
  {
   "cell_type": "code",
   "execution_count": 38,
   "id": "0d1a6d3b",
   "metadata": {},
   "outputs": [
    {
     "data": {
      "text/plain": [
       "GaussianNB()"
      ]
     },
     "execution_count": 38,
     "metadata": {},
     "output_type": "execute_result"
    }
   ],
   "source": [
    "#fitting the model\n",
    "\n",
    "gnb.fit(Ftrain, Ltrain)"
   ]
  },
  {
   "cell_type": "code",
   "execution_count": 39,
   "id": "053c9a09",
   "metadata": {},
   "outputs": [
    {
     "data": {
      "text/plain": [
       "0.5067079463364293"
      ]
     },
     "execution_count": 39,
     "metadata": {},
     "output_type": "execute_result"
    }
   ],
   "source": [
    "#predicting the outputs\n",
    "y_pred = gnb.predict(Ftest)\n",
    "metrics.accuracy_score(Ltest, y_pred)"
   ]
  },
  {
   "cell_type": "code",
   "execution_count": 40,
   "id": "0e53ae2c",
   "metadata": {},
   "outputs": [
    {
     "name": "stdout",
     "output_type": "stream",
     "text": [
      "                               precision    recall  f1-score   support\n",
      "\n",
      "               bacterial_spot       0.53      0.76      0.62       345\n",
      "                 early_blight       0.23      0.32      0.27       153\n",
      "                      healthy       0.43      0.69      0.53       234\n",
      "                  late_blight       0.49      0.29      0.37       309\n",
      "                    leaf_mold       0.53      0.43      0.48       145\n",
      "           septoria_leaf_spot       0.45      0.46      0.45       293\n",
      "                  target_spot       0.54      0.45      0.49       240\n",
      "          tomato_mosaic_virus       0.19      0.72      0.30        54\n",
      "tomato_yellow_leaf_curl_virus       0.88      0.50      0.64       854\n",
      "      two-spotted_spider_mite       0.41      0.48      0.44       280\n",
      "\n",
      "                     accuracy                           0.51      2907\n",
      "                    macro avg       0.47      0.51      0.46      2907\n",
      "                 weighted avg       0.58      0.51      0.52      2907\n",
      "\n",
      "[[261   7  31   8   0   2   6   6  20   4]\n",
      " [ 36  49   2  24   0  10  17   4   4   7]\n",
      " [  9   6 162   8   6   3  22   7   2   9]\n",
      " [  3  49  92  90  18  30   6  13   4   4]\n",
      " [  6   6   5  13  63  23   1  21   2   5]\n",
      " [  6  10  39   7  18 134  19  19  14  27]\n",
      " [ 18  14   2   7   3  23 109  11   2  51]\n",
      " [  5   0   3   0   1   3   0  39   1   2]\n",
      " [135  43  39  22   6  51   2  40 431  85]\n",
      " [ 14  25   6   5   3  22  19  42   9 135]]\n"
     ]
    }
   ],
   "source": [
    "#classification report\n",
    "class_names = target.unique()\n",
    "print(classification_report(Ltest, y_pred, target_names=class_names))\n",
    "print(confusion_matrix(Ltest, y_pred))"
   ]
  },
  {
   "cell_type": "markdown",
   "id": "af8a8fca",
   "metadata": {},
   "source": [
    "# Decision Tree on Grayscale"
   ]
  },
  {
   "cell_type": "code",
   "execution_count": 41,
   "id": "4d1eb3ec",
   "metadata": {},
   "outputs": [
    {
     "data": {
      "text/plain": [
       "0.49501203990368076"
      ]
     },
     "execution_count": 41,
     "metadata": {},
     "output_type": "execute_result"
    }
   ],
   "source": [
    "#fitting the model\n",
    "classifier_tree.fit(Ftrain, Ltrain)\n",
    "classifier_tree.score(Ftest,Ltest)"
   ]
  },
  {
   "cell_type": "code",
   "execution_count": 42,
   "id": "5e93e78c",
   "metadata": {},
   "outputs": [
    {
     "name": "stdout",
     "output_type": "stream",
     "text": [
      "                               precision    recall  f1-score   support\n",
      "\n",
      "               bacterial_spot       0.49      0.57      0.53       345\n",
      "                 early_blight       0.16      0.18      0.17       153\n",
      "                      healthy       0.67      0.66      0.66       234\n",
      "                  late_blight       0.48      0.46      0.47       309\n",
      "                    leaf_mold       0.36      0.34      0.35       145\n",
      "           septoria_leaf_spot       0.43      0.39      0.41       293\n",
      "                  target_spot       0.33      0.33      0.33       240\n",
      "          tomato_mosaic_virus       0.09      0.13      0.11        54\n",
      "tomato_yellow_leaf_curl_virus       0.75      0.70      0.72       854\n",
      "      two-spotted_spider_mite       0.38      0.38      0.38       280\n",
      "\n",
      "                     accuracy                           0.51      2907\n",
      "                    macro avg       0.41      0.42      0.41      2907\n",
      "                 weighted avg       0.52      0.51      0.51      2907\n",
      "\n",
      "[[196  20  11  24   7  14  18   1  39  15]\n",
      " [ 25  28   3  19   6   5  18   6  24  19]\n",
      " [ 12   5 155  24   6   7  14   3   4   4]\n",
      " [ 16  22  12 143  15  29  16   7  28  21]\n",
      " [ 10  11   6  15  50  17   4   6  16  10]\n",
      " [ 18  15   7  26  14 115  30  11  42  15]\n",
      " [ 20  18  23   9  10  26  80   6  12  36]\n",
      " [  6   1   4   3   8   6   4   7   6   9]\n",
      " [ 73  25   5  23  14  37  16  18 598  45]\n",
      " [ 22  26   7  15   7   9  44  12  32 106]]\n"
     ]
    }
   ],
   "source": [
    "#classification report\n",
    "y_predict = classifier_tree.fit(Ftrain, Ltrain).predict(Ftest)\n",
    "class_names = target.unique()\n",
    "print(classification_report(Ltest, y_predict, target_names=class_names))\n",
    "print(confusion_matrix(Ltest, y_predict))"
   ]
  },
  {
   "cell_type": "markdown",
   "id": "e42f549f",
   "metadata": {},
   "source": [
    "# KNN on Red channel data"
   ]
  },
  {
   "cell_type": "code",
   "execution_count": 43,
   "id": "cb75cbbd",
   "metadata": {},
   "outputs": [],
   "source": [
    "#reading numpy array data\n",
    "red_test = np.load('red_data.npy')\n",
    "#reading csv file\n",
    "red_df = pd.read_csv('red_data.csv')"
   ]
  },
  {
   "cell_type": "code",
   "execution_count": 44,
   "id": "7fda7839",
   "metadata": {},
   "outputs": [],
   "source": [
    "#reading the data and appending to loaded\n",
    "loaded = []\n",
    "for i in red_test:\n",
    "    k = []\n",
    "    k = np.asarray(i,dtype='uint8')\n",
    "    loaded.append(k)\n",
    "#assigning features and target\n",
    "features = loaded\n",
    "target = red_df['disease']"
   ]
  },
  {
   "cell_type": "code",
   "execution_count": 45,
   "id": "683839f2",
   "metadata": {},
   "outputs": [
    {
     "data": {
      "text/plain": [
       "0.5500515995872033"
      ]
     },
     "execution_count": 45,
     "metadata": {},
     "output_type": "execute_result"
    }
   ],
   "source": [
    "#fitting the model\n",
    "kmodel.fit(Ftrain,Ltrain)\n",
    "kmodel.score(Ftest,Ltest)"
   ]
  },
  {
   "cell_type": "code",
   "execution_count": 46,
   "id": "a5863749",
   "metadata": {},
   "outputs": [
    {
     "name": "stdout",
     "output_type": "stream",
     "text": [
      "                               precision    recall  f1-score   support\n",
      "\n",
      "               bacterial_spot       0.35      0.80      0.48       345\n",
      "                 early_blight       0.00      0.00      0.00       153\n",
      "                      healthy       0.42      0.77      0.54       234\n",
      "                  late_blight       0.50      0.38      0.43       309\n",
      "                    leaf_mold       0.70      0.48      0.57       145\n",
      "           septoria_leaf_spot       0.70      0.32      0.44       293\n",
      "                  target_spot       0.56      0.18      0.27       240\n",
      "          tomato_mosaic_virus       0.88      0.13      0.23        54\n",
      "tomato_yellow_leaf_curl_virus       0.79      0.78      0.79       854\n",
      "      two-spotted_spider_mite       0.49      0.51      0.50       280\n",
      "\n",
      "                     accuracy                           0.55      2907\n",
      "                    macro avg       0.54      0.44      0.43      2907\n",
      "                 weighted avg       0.58      0.55      0.53      2907\n",
      "\n",
      "[[275   0  33  11   0   0   1   0  23   2]\n",
      " [ 94   0  10   2   0   6  13   0  19   9]\n",
      " [ 29   0 180  16   0   0   1   0   2   6]\n",
      " [ 55   0  57 117  13  23   3   0  26  15]\n",
      " [ 22   0  17  17  70   1   0   0  10   8]\n",
      " [ 29   0  36  46  15  95  10   1  34  27]\n",
      " [108   0  31   2   0   3  43   0  10  43]\n",
      " [  6   0  10   8   2   0   0   7   7  14]\n",
      " [111   0  42   3   0   6   0   0 670  22]\n",
      " [ 67   0  11  11   0   1   6   0  42 142]]\n"
     ]
    },
    {
     "name": "stderr",
     "output_type": "stream",
     "text": [
      "C:\\Users\\ravic\\anaconda3\\lib\\site-packages\\sklearn\\metrics\\_classification.py:1318: UndefinedMetricWarning: Precision and F-score are ill-defined and being set to 0.0 in labels with no predicted samples. Use `zero_division` parameter to control this behavior.\n",
      "  _warn_prf(average, modifier, msg_start, len(result))\n",
      "C:\\Users\\ravic\\anaconda3\\lib\\site-packages\\sklearn\\metrics\\_classification.py:1318: UndefinedMetricWarning: Precision and F-score are ill-defined and being set to 0.0 in labels with no predicted samples. Use `zero_division` parameter to control this behavior.\n",
      "  _warn_prf(average, modifier, msg_start, len(result))\n",
      "C:\\Users\\ravic\\anaconda3\\lib\\site-packages\\sklearn\\metrics\\_classification.py:1318: UndefinedMetricWarning: Precision and F-score are ill-defined and being set to 0.0 in labels with no predicted samples. Use `zero_division` parameter to control this behavior.\n",
      "  _warn_prf(average, modifier, msg_start, len(result))\n"
     ]
    }
   ],
   "source": [
    "#classification report\n",
    "y_predict = kmodel.fit(Ftrain, Ltrain).predict(Ftest)\n",
    "class_names = target.unique()\n",
    "print(classification_report(Ltest, y_predict, target_names=class_names))\n",
    "print(confusion_matrix(Ltest, y_predict))"
   ]
  },
  {
   "cell_type": "markdown",
   "id": "ffcda594",
   "metadata": {},
   "source": [
    "# Logistic on Red channel data"
   ]
  },
  {
   "cell_type": "code",
   "execution_count": 47,
   "id": "1ed4037b",
   "metadata": {},
   "outputs": [
    {
     "name": "stderr",
     "output_type": "stream",
     "text": [
      "C:\\Users\\ravic\\anaconda3\\lib\\site-packages\\sklearn\\linear_model\\_logistic.py:814: ConvergenceWarning: lbfgs failed to converge (status=1):\n",
      "STOP: TOTAL NO. of ITERATIONS REACHED LIMIT.\n",
      "\n",
      "Increase the number of iterations (max_iter) or scale the data as shown in:\n",
      "    https://scikit-learn.org/stable/modules/preprocessing.html\n",
      "Please also refer to the documentation for alternative solver options:\n",
      "    https://scikit-learn.org/stable/modules/linear_model.html#logistic-regression\n",
      "  n_iter_i = _check_optimize_result(\n"
     ]
    },
    {
     "data": {
      "text/plain": [
       "0.6250429996560027"
      ]
     },
     "execution_count": 47,
     "metadata": {},
     "output_type": "execute_result"
    }
   ],
   "source": [
    "#building the model\n",
    "model.fit(Ftrain,Ltrain)\n",
    "model.score(Ftest,Ltest)"
   ]
  },
  {
   "cell_type": "code",
   "execution_count": 48,
   "id": "19a14de1",
   "metadata": {},
   "outputs": [
    {
     "name": "stdout",
     "output_type": "stream",
     "text": [
      "                               precision    recall  f1-score   support\n",
      "\n",
      "               bacterial_spot       0.59      0.72      0.65       345\n",
      "                 early_blight       0.29      0.32      0.30       153\n",
      "                      healthy       0.59      0.60      0.60       234\n",
      "                  late_blight       0.49      0.47      0.48       309\n",
      "                    leaf_mold       0.56      0.55      0.56       145\n",
      "           septoria_leaf_spot       0.52      0.50      0.51       293\n",
      "                  target_spot       0.49      0.45      0.47       240\n",
      "          tomato_mosaic_virus       0.69      0.67      0.68        54\n",
      "tomato_yellow_leaf_curl_virus       0.89      0.83      0.86       854\n",
      "      two-spotted_spider_mite       0.54      0.54      0.54       280\n",
      "\n",
      "                     accuracy                           0.63      2907\n",
      "                    macro avg       0.56      0.57      0.56      2907\n",
      "                 weighted avg       0.63      0.63      0.63      2907\n",
      "\n",
      "[[250  22  10  19   1  11   4   0  21   7]\n",
      " [ 20  49   8  25   4   6  11   0  16  14]\n",
      " [  5  11 141  22   7  12  27   0   0   9]\n",
      " [ 33  26  18 146  10  32   8   2  12  22]\n",
      " [  3   6   8  10  80  25   3   0   3   7]\n",
      " [ 22  12  17  30  19 147  13   8  13  12]\n",
      " [ 15   9  25  13   8  22 107   1   3  37]\n",
      " [  0   1   1   0   4   5   5  36   1   1]\n",
      " [ 59  11   1  21   5  15  13   0 711  18]\n",
      " [ 18  23   9  15   5   8  28   5  19 150]]\n"
     ]
    },
    {
     "name": "stderr",
     "output_type": "stream",
     "text": [
      "C:\\Users\\ravic\\anaconda3\\lib\\site-packages\\sklearn\\linear_model\\_logistic.py:814: ConvergenceWarning: lbfgs failed to converge (status=1):\n",
      "STOP: TOTAL NO. of ITERATIONS REACHED LIMIT.\n",
      "\n",
      "Increase the number of iterations (max_iter) or scale the data as shown in:\n",
      "    https://scikit-learn.org/stable/modules/preprocessing.html\n",
      "Please also refer to the documentation for alternative solver options:\n",
      "    https://scikit-learn.org/stable/modules/linear_model.html#logistic-regression\n",
      "  n_iter_i = _check_optimize_result(\n"
     ]
    }
   ],
   "source": [
    "#classification report\n",
    "y_predict = model.fit(Ftrain, Ltrain).predict(Ftest)\n",
    "class_names = target.unique()\n",
    "print(classification_report(Ltest, y_predict, target_names=class_names))\n",
    "print(confusion_matrix(Ltest, y_predict))"
   ]
  },
  {
   "cell_type": "markdown",
   "id": "dba6d5ce",
   "metadata": {},
   "source": [
    "# SVM on Red channel data"
   ]
  },
  {
   "cell_type": "code",
   "execution_count": 49,
   "id": "6ed153f7",
   "metadata": {},
   "outputs": [
    {
     "name": "stdout",
     "output_type": "stream",
     "text": [
      "0.7261781905744754\n"
     ]
    }
   ],
   "source": [
    "#fitting the model\n",
    "clf.fit(Ftrain,Ltrain)\n",
    "y_pred = clf.predict(Ftest)\n",
    "print(accuracy_score(Ltest,y_pred))"
   ]
  },
  {
   "cell_type": "code",
   "execution_count": 50,
   "id": "369f8272",
   "metadata": {},
   "outputs": [
    {
     "name": "stdout",
     "output_type": "stream",
     "text": [
      "                               precision    recall  f1-score   support\n",
      "\n",
      "               bacterial_spot       0.64      0.82      0.72       345\n",
      "                 early_blight       0.37      0.35      0.36       153\n",
      "                      healthy       0.75      0.80      0.77       234\n",
      "                  late_blight       0.66      0.65      0.65       309\n",
      "                    leaf_mold       0.65      0.60      0.62       145\n",
      "           septoria_leaf_spot       0.69      0.67      0.68       293\n",
      "                  target_spot       0.65      0.57      0.60       240\n",
      "          tomato_mosaic_virus       0.77      0.87      0.82        54\n",
      "tomato_yellow_leaf_curl_virus       0.91      0.86      0.89       854\n",
      "      two-spotted_spider_mite       0.70      0.66      0.68       280\n",
      "\n",
      "                     accuracy                           0.73      2907\n",
      "                    macro avg       0.68      0.68      0.68      2907\n",
      "                 weighted avg       0.73      0.73      0.73      2907\n",
      "\n",
      "[[284  15   2  11   0   2   2   0  28   1]\n",
      " [ 32  54   2  26   1   6   8   0   9  15]\n",
      " [  1   9 188  11   4   5  11   0   0   5]\n",
      " [ 31  15  17 200  11  17   2   0   8   8]\n",
      " [  3   4   4  11  87  24   2   3   5   2]\n",
      " [  6   9  14  20  13 195  14   7   8   7]\n",
      " [  8  23  16   2   7  14 136   1   0  33]\n",
      " [  0   0   0   0   1   6   0  47   0   0]\n",
      " [ 73   6   0  17   3   4   6   0 736   9]\n",
      " [  8  11   9   7   7   9  29   3  13 184]]\n"
     ]
    }
   ],
   "source": [
    "#classification report\n",
    "y_predict = clf.fit(Ftrain, Ltrain).predict(Ftest)\n",
    "class_names = target.unique()\n",
    "print(classification_report(Ltest, y_predict, target_names=class_names))\n",
    "print(confusion_matrix(Ltest, y_predict))"
   ]
  },
  {
   "cell_type": "markdown",
   "id": "a670c4d4",
   "metadata": {},
   "source": [
    "# Random forest on Red channel data"
   ]
  },
  {
   "cell_type": "code",
   "execution_count": 51,
   "id": "9e816e9e",
   "metadata": {},
   "outputs": [
    {
     "data": {
      "text/plain": [
       "0.5580695113558155"
      ]
     },
     "execution_count": 51,
     "metadata": {},
     "output_type": "execute_result"
    }
   ],
   "source": [
    "#fitting the model\n",
    "classifier_rf.fit(Ftrain, Ltrain)\n",
    "classifier_rf.oob_score_"
   ]
  },
  {
   "cell_type": "code",
   "execution_count": 52,
   "id": "e404f49d",
   "metadata": {},
   "outputs": [
    {
     "name": "stdout",
     "output_type": "stream",
     "text": [
      "                               precision    recall  f1-score   support\n",
      "\n",
      "               bacterial_spot       0.73      0.57      0.64       345\n",
      "                 early_blight       0.00      0.00      0.00       153\n",
      "                      healthy       0.58      0.91      0.71       234\n",
      "                  late_blight       0.71      0.28      0.40       309\n",
      "                    leaf_mold       0.76      0.31      0.44       145\n",
      "           septoria_leaf_spot       0.57      0.44      0.50       293\n",
      "                  target_spot       0.53      0.38      0.44       240\n",
      "          tomato_mosaic_virus       0.00      0.00      0.00        54\n",
      "tomato_yellow_leaf_curl_virus       0.52      0.98      0.68       854\n",
      "      two-spotted_spider_mite       0.72      0.17      0.28       280\n",
      "\n",
      "                     accuracy                           0.57      2907\n",
      "                    macro avg       0.51      0.40      0.41      2907\n",
      "                 weighted avg       0.57      0.57      0.51      2907\n",
      "\n",
      "[[196   0  18   4   0   0   3   0 124   0]\n",
      " [ 18   0   5   3   0  18  16   0  90   3]\n",
      " [  3   0 213   0   1   1   1   0  14   1]\n",
      " [  5   0  68  86   4  36  11   0  96   3]\n",
      " [  8   0  22  11  45   6   5   0  48   0]\n",
      " [  6   0   9   7   7 129   2   0 132   1]\n",
      " [ 16   0  16   3   0  25  91   0  81   8]\n",
      " [  4   0   6   5   2   3   0   0  31   3]\n",
      " [  4   0   2   2   0   6   1   0 839   0]\n",
      " [ 10   0   7   0   0   3  41   0 171  48]]\n"
     ]
    },
    {
     "name": "stderr",
     "output_type": "stream",
     "text": [
      "C:\\Users\\ravic\\anaconda3\\lib\\site-packages\\sklearn\\metrics\\_classification.py:1318: UndefinedMetricWarning: Precision and F-score are ill-defined and being set to 0.0 in labels with no predicted samples. Use `zero_division` parameter to control this behavior.\n",
      "  _warn_prf(average, modifier, msg_start, len(result))\n",
      "C:\\Users\\ravic\\anaconda3\\lib\\site-packages\\sklearn\\metrics\\_classification.py:1318: UndefinedMetricWarning: Precision and F-score are ill-defined and being set to 0.0 in labels with no predicted samples. Use `zero_division` parameter to control this behavior.\n",
      "  _warn_prf(average, modifier, msg_start, len(result))\n",
      "C:\\Users\\ravic\\anaconda3\\lib\\site-packages\\sklearn\\metrics\\_classification.py:1318: UndefinedMetricWarning: Precision and F-score are ill-defined and being set to 0.0 in labels with no predicted samples. Use `zero_division` parameter to control this behavior.\n",
      "  _warn_prf(average, modifier, msg_start, len(result))\n"
     ]
    }
   ],
   "source": [
    "#classification report\n",
    "y_predict = classifier_rf.fit(Ftrain, Ltrain).predict(Ftest)\n",
    "class_names = target.unique()\n",
    "print(classification_report(Ltest, y_predict, target_names=class_names))\n",
    "print(confusion_matrix(Ltest, y_predict))"
   ]
  },
  {
   "cell_type": "markdown",
   "id": "e1c2d95a",
   "metadata": {},
   "source": [
    "# Naive Bayes on Red channel data"
   ]
  },
  {
   "cell_type": "code",
   "execution_count": 53,
   "id": "8ec0753c",
   "metadata": {},
   "outputs": [
    {
     "data": {
      "text/plain": [
       "GaussianNB()"
      ]
     },
     "execution_count": 53,
     "metadata": {},
     "output_type": "execute_result"
    }
   ],
   "source": [
    "#fitting the model\n",
    "gnb.fit(Ftrain, Ltrain)"
   ]
  },
  {
   "cell_type": "code",
   "execution_count": 54,
   "id": "9bd3c55d",
   "metadata": {},
   "outputs": [
    {
     "data": {
      "text/plain": [
       "0.5067079463364293"
      ]
     },
     "execution_count": 54,
     "metadata": {},
     "output_type": "execute_result"
    }
   ],
   "source": [
    "#predicting the output\n",
    "y_pred = gnb.predict(Ftest)\n",
    "metrics.accuracy_score(Ltest, y_pred)"
   ]
  },
  {
   "cell_type": "code",
   "execution_count": 55,
   "id": "4c3f9eb9",
   "metadata": {},
   "outputs": [
    {
     "name": "stdout",
     "output_type": "stream",
     "text": [
      "                               precision    recall  f1-score   support\n",
      "\n",
      "               bacterial_spot       0.53      0.76      0.62       345\n",
      "                 early_blight       0.23      0.32      0.27       153\n",
      "                      healthy       0.43      0.69      0.53       234\n",
      "                  late_blight       0.49      0.29      0.37       309\n",
      "                    leaf_mold       0.53      0.43      0.48       145\n",
      "           septoria_leaf_spot       0.45      0.46      0.45       293\n",
      "                  target_spot       0.54      0.45      0.49       240\n",
      "          tomato_mosaic_virus       0.19      0.72      0.30        54\n",
      "tomato_yellow_leaf_curl_virus       0.88      0.50      0.64       854\n",
      "      two-spotted_spider_mite       0.41      0.48      0.44       280\n",
      "\n",
      "                     accuracy                           0.51      2907\n",
      "                    macro avg       0.47      0.51      0.46      2907\n",
      "                 weighted avg       0.58      0.51      0.52      2907\n",
      "\n",
      "[[261   7  31   8   0   2   6   6  20   4]\n",
      " [ 36  49   2  24   0  10  17   4   4   7]\n",
      " [  9   6 162   8   6   3  22   7   2   9]\n",
      " [  3  49  92  90  18  30   6  13   4   4]\n",
      " [  6   6   5  13  63  23   1  21   2   5]\n",
      " [  6  10  39   7  18 134  19  19  14  27]\n",
      " [ 18  14   2   7   3  23 109  11   2  51]\n",
      " [  5   0   3   0   1   3   0  39   1   2]\n",
      " [135  43  39  22   6  51   2  40 431  85]\n",
      " [ 14  25   6   5   3  22  19  42   9 135]]\n"
     ]
    }
   ],
   "source": [
    "#classification report\n",
    "class_names = target.unique()\n",
    "print(classification_report(Ltest, y_pred, target_names=class_names))\n",
    "print(confusion_matrix(Ltest, y_pred))"
   ]
  },
  {
   "cell_type": "markdown",
   "id": "b34954bd",
   "metadata": {},
   "source": [
    "# Decision Tree on Red channel"
   ]
  },
  {
   "cell_type": "code",
   "execution_count": 56,
   "id": "3ce8ed83",
   "metadata": {},
   "outputs": [
    {
     "data": {
      "text/plain": [
       "0.5022359821121432"
      ]
     },
     "execution_count": 56,
     "metadata": {},
     "output_type": "execute_result"
    }
   ],
   "source": [
    "#building the model\n",
    "classifier_tree.fit(Ftrain, Ltrain)\n",
    "classifier_tree.score(Ftest,Ltest)"
   ]
  },
  {
   "cell_type": "code",
   "execution_count": 57,
   "id": "78b012af",
   "metadata": {},
   "outputs": [
    {
     "name": "stdout",
     "output_type": "stream",
     "text": [
      "                               precision    recall  f1-score   support\n",
      "\n",
      "               bacterial_spot       0.49      0.59      0.54       345\n",
      "                 early_blight       0.15      0.15      0.15       153\n",
      "                      healthy       0.63      0.67      0.65       234\n",
      "                  late_blight       0.45      0.46      0.45       309\n",
      "                    leaf_mold       0.35      0.34      0.34       145\n",
      "           septoria_leaf_spot       0.42      0.39      0.41       293\n",
      "                  target_spot       0.30      0.27      0.29       240\n",
      "          tomato_mosaic_virus       0.04      0.06      0.05        54\n",
      "tomato_yellow_leaf_curl_virus       0.74      0.70      0.72       854\n",
      "      two-spotted_spider_mite       0.38      0.37      0.37       280\n",
      "\n",
      "                     accuracy                           0.50      2907\n",
      "                    macro avg       0.40      0.40      0.40      2907\n",
      "                 weighted avg       0.50      0.50      0.50      2907\n",
      "\n",
      "[[204  16  10  22   9  18  12   3  38  13]\n",
      " [ 22  23   6  19   5   5  20   5  31  17]\n",
      " [ 17   4 156  23   3   6  12   5   4   4]\n",
      " [ 17  28  17 141  16  25  15   8  27  15]\n",
      " [  9  11   8  16  49  17   4   7  15   9]\n",
      " [ 20  10   8  30  16 114  25   9  46  15]\n",
      " [ 20  21  18  14  10  25  65   9  13  45]\n",
      " [  5   3   5   7   6   9   3   3   4   9]\n",
      " [ 87  18   8  21  17  39  16  11 595  42]\n",
      " [ 15  24  10  21   9  11  42  15  30 103]]\n"
     ]
    }
   ],
   "source": [
    "#classification report\n",
    "y_predict = classifier_tree.fit(Ftrain, Ltrain).predict(Ftest)\n",
    "class_names = target.unique()\n",
    "print(classification_report(Ltest, y_predict, target_names=class_names))\n",
    "print(confusion_matrix(Ltest, y_predict))"
   ]
  },
  {
   "cell_type": "markdown",
   "id": "21af7568",
   "metadata": {},
   "source": [
    "# KNN on green channel data"
   ]
  },
  {
   "cell_type": "code",
   "execution_count": 58,
   "id": "461b784b",
   "metadata": {},
   "outputs": [
    {
     "data": {
      "text/plain": [
       "0.5500515995872033"
      ]
     },
     "execution_count": 58,
     "metadata": {},
     "output_type": "execute_result"
    }
   ],
   "source": [
    "#reading numpy array data\n",
    "green_test = np.load('green_data.npy')\n",
    "#reading csv file\n",
    "green_df = pd.read_csv('green_data.csv')\n",
    "#reading data and appending the arrays to the green test\n",
    "loaded = []\n",
    "for i in green_test:\n",
    "    k = []\n",
    "    k = np.asarray(i,dtype='uint8')\n",
    "    loaded.append(k)\n",
    "#assigning features and target\n",
    "features = loaded\n",
    "target = green_df['disease']\n",
    "#building the model\n",
    "kmodel.fit(Ftrain,Ltrain)\n",
    "kmodel.score(Ftest,Ltest)"
   ]
  },
  {
   "cell_type": "code",
   "execution_count": 59,
   "id": "3b84096d",
   "metadata": {},
   "outputs": [
    {
     "name": "stdout",
     "output_type": "stream",
     "text": [
      "                               precision    recall  f1-score   support\n",
      "\n",
      "               bacterial_spot       0.35      0.80      0.48       345\n",
      "                 early_blight       0.00      0.00      0.00       153\n",
      "                      healthy       0.42      0.77      0.54       234\n",
      "                  late_blight       0.50      0.38      0.43       309\n",
      "                    leaf_mold       0.70      0.48      0.57       145\n",
      "           septoria_leaf_spot       0.70      0.32      0.44       293\n",
      "                  target_spot       0.56      0.18      0.27       240\n",
      "          tomato_mosaic_virus       0.88      0.13      0.23        54\n",
      "tomato_yellow_leaf_curl_virus       0.79      0.78      0.79       854\n",
      "      two-spotted_spider_mite       0.49      0.51      0.50       280\n",
      "\n",
      "                     accuracy                           0.55      2907\n",
      "                    macro avg       0.54      0.44      0.43      2907\n",
      "                 weighted avg       0.58      0.55      0.53      2907\n",
      "\n",
      "[[275   0  33  11   0   0   1   0  23   2]\n",
      " [ 94   0  10   2   0   6  13   0  19   9]\n",
      " [ 29   0 180  16   0   0   1   0   2   6]\n",
      " [ 55   0  57 117  13  23   3   0  26  15]\n",
      " [ 22   0  17  17  70   1   0   0  10   8]\n",
      " [ 29   0  36  46  15  95  10   1  34  27]\n",
      " [108   0  31   2   0   3  43   0  10  43]\n",
      " [  6   0  10   8   2   0   0   7   7  14]\n",
      " [111   0  42   3   0   6   0   0 670  22]\n",
      " [ 67   0  11  11   0   1   6   0  42 142]]\n"
     ]
    },
    {
     "name": "stderr",
     "output_type": "stream",
     "text": [
      "C:\\Users\\ravic\\anaconda3\\lib\\site-packages\\sklearn\\metrics\\_classification.py:1318: UndefinedMetricWarning: Precision and F-score are ill-defined and being set to 0.0 in labels with no predicted samples. Use `zero_division` parameter to control this behavior.\n",
      "  _warn_prf(average, modifier, msg_start, len(result))\n",
      "C:\\Users\\ravic\\anaconda3\\lib\\site-packages\\sklearn\\metrics\\_classification.py:1318: UndefinedMetricWarning: Precision and F-score are ill-defined and being set to 0.0 in labels with no predicted samples. Use `zero_division` parameter to control this behavior.\n",
      "  _warn_prf(average, modifier, msg_start, len(result))\n",
      "C:\\Users\\ravic\\anaconda3\\lib\\site-packages\\sklearn\\metrics\\_classification.py:1318: UndefinedMetricWarning: Precision and F-score are ill-defined and being set to 0.0 in labels with no predicted samples. Use `zero_division` parameter to control this behavior.\n",
      "  _warn_prf(average, modifier, msg_start, len(result))\n"
     ]
    }
   ],
   "source": [
    "#classification report\n",
    "y_predict = kmodel.fit(Ftrain, Ltrain).predict(Ftest)\n",
    "class_names = target.unique()\n",
    "print(classification_report(Ltest, y_predict, target_names=class_names))\n",
    "print(confusion_matrix(Ltest, y_predict))"
   ]
  },
  {
   "cell_type": "markdown",
   "id": "71f3ea86",
   "metadata": {},
   "source": [
    "# Logistic on Green channel data"
   ]
  },
  {
   "cell_type": "code",
   "execution_count": 60,
   "id": "28dad6b2",
   "metadata": {},
   "outputs": [
    {
     "name": "stderr",
     "output_type": "stream",
     "text": [
      "C:\\Users\\ravic\\anaconda3\\lib\\site-packages\\sklearn\\linear_model\\_logistic.py:814: ConvergenceWarning: lbfgs failed to converge (status=1):\n",
      "STOP: TOTAL NO. of ITERATIONS REACHED LIMIT.\n",
      "\n",
      "Increase the number of iterations (max_iter) or scale the data as shown in:\n",
      "    https://scikit-learn.org/stable/modules/preprocessing.html\n",
      "Please also refer to the documentation for alternative solver options:\n",
      "    https://scikit-learn.org/stable/modules/linear_model.html#logistic-regression\n",
      "  n_iter_i = _check_optimize_result(\n"
     ]
    },
    {
     "data": {
      "text/plain": [
       "0.6250429996560027"
      ]
     },
     "execution_count": 60,
     "metadata": {},
     "output_type": "execute_result"
    }
   ],
   "source": [
    "#building the model\n",
    "model.fit(Ftrain,Ltrain)\n",
    "model.score(Ftest,Ltest)"
   ]
  },
  {
   "cell_type": "code",
   "execution_count": 61,
   "id": "839a329f",
   "metadata": {},
   "outputs": [
    {
     "name": "stderr",
     "output_type": "stream",
     "text": [
      "C:\\Users\\ravic\\anaconda3\\lib\\site-packages\\sklearn\\linear_model\\_logistic.py:814: ConvergenceWarning: lbfgs failed to converge (status=1):\n",
      "STOP: TOTAL NO. of ITERATIONS REACHED LIMIT.\n",
      "\n",
      "Increase the number of iterations (max_iter) or scale the data as shown in:\n",
      "    https://scikit-learn.org/stable/modules/preprocessing.html\n",
      "Please also refer to the documentation for alternative solver options:\n",
      "    https://scikit-learn.org/stable/modules/linear_model.html#logistic-regression\n",
      "  n_iter_i = _check_optimize_result(\n"
     ]
    },
    {
     "name": "stdout",
     "output_type": "stream",
     "text": [
      "                               precision    recall  f1-score   support\n",
      "\n",
      "               bacterial_spot       0.59      0.72      0.65       345\n",
      "                 early_blight       0.29      0.32      0.30       153\n",
      "                      healthy       0.59      0.60      0.60       234\n",
      "                  late_blight       0.49      0.47      0.48       309\n",
      "                    leaf_mold       0.56      0.55      0.56       145\n",
      "           septoria_leaf_spot       0.52      0.50      0.51       293\n",
      "                  target_spot       0.49      0.45      0.47       240\n",
      "          tomato_mosaic_virus       0.69      0.67      0.68        54\n",
      "tomato_yellow_leaf_curl_virus       0.89      0.83      0.86       854\n",
      "      two-spotted_spider_mite       0.54      0.54      0.54       280\n",
      "\n",
      "                     accuracy                           0.63      2907\n",
      "                    macro avg       0.56      0.57      0.56      2907\n",
      "                 weighted avg       0.63      0.63      0.63      2907\n",
      "\n",
      "[[250  22  10  19   1  11   4   0  21   7]\n",
      " [ 20  49   8  25   4   6  11   0  16  14]\n",
      " [  5  11 141  22   7  12  27   0   0   9]\n",
      " [ 33  26  18 146  10  32   8   2  12  22]\n",
      " [  3   6   8  10  80  25   3   0   3   7]\n",
      " [ 22  12  17  30  19 147  13   8  13  12]\n",
      " [ 15   9  25  13   8  22 107   1   3  37]\n",
      " [  0   1   1   0   4   5   5  36   1   1]\n",
      " [ 59  11   1  21   5  15  13   0 711  18]\n",
      " [ 18  23   9  15   5   8  28   5  19 150]]\n"
     ]
    }
   ],
   "source": [
    "#classification report\n",
    "y_predict = model.fit(Ftrain, Ltrain).predict(Ftest)\n",
    "class_names = target.unique()\n",
    "print(classification_report(Ltest, y_predict, target_names=class_names))\n",
    "print(confusion_matrix(Ltest, y_predict))"
   ]
  },
  {
   "cell_type": "markdown",
   "id": "f62f0223",
   "metadata": {},
   "source": [
    "# SVM on green channel data"
   ]
  },
  {
   "cell_type": "code",
   "execution_count": 62,
   "id": "e89e7297",
   "metadata": {},
   "outputs": [
    {
     "name": "stdout",
     "output_type": "stream",
     "text": [
      "0.7261781905744754\n"
     ]
    }
   ],
   "source": [
    "#fitting the model\n",
    "clf.fit(Ftrain,Ltrain)\n",
    "y_pred = clf.predict(Ftest)\n",
    "print(accuracy_score(Ltest,y_pred))"
   ]
  },
  {
   "cell_type": "code",
   "execution_count": 63,
   "id": "0a214a95",
   "metadata": {},
   "outputs": [
    {
     "name": "stdout",
     "output_type": "stream",
     "text": [
      "                               precision    recall  f1-score   support\n",
      "\n",
      "               bacterial_spot       0.64      0.82      0.72       345\n",
      "                 early_blight       0.37      0.35      0.36       153\n",
      "                      healthy       0.75      0.80      0.77       234\n",
      "                  late_blight       0.66      0.65      0.65       309\n",
      "                    leaf_mold       0.65      0.60      0.62       145\n",
      "           septoria_leaf_spot       0.69      0.67      0.68       293\n",
      "                  target_spot       0.65      0.57      0.60       240\n",
      "          tomato_mosaic_virus       0.77      0.87      0.82        54\n",
      "tomato_yellow_leaf_curl_virus       0.91      0.86      0.89       854\n",
      "      two-spotted_spider_mite       0.70      0.66      0.68       280\n",
      "\n",
      "                     accuracy                           0.73      2907\n",
      "                    macro avg       0.68      0.68      0.68      2907\n",
      "                 weighted avg       0.73      0.73      0.73      2907\n",
      "\n",
      "[[284  15   2  11   0   2   2   0  28   1]\n",
      " [ 32  54   2  26   1   6   8   0   9  15]\n",
      " [  1   9 188  11   4   5  11   0   0   5]\n",
      " [ 31  15  17 200  11  17   2   0   8   8]\n",
      " [  3   4   4  11  87  24   2   3   5   2]\n",
      " [  6   9  14  20  13 195  14   7   8   7]\n",
      " [  8  23  16   2   7  14 136   1   0  33]\n",
      " [  0   0   0   0   1   6   0  47   0   0]\n",
      " [ 73   6   0  17   3   4   6   0 736   9]\n",
      " [  8  11   9   7   7   9  29   3  13 184]]\n"
     ]
    }
   ],
   "source": [
    "#classification report on the model\n",
    "y_predict = clf.fit(Ftrain, Ltrain).predict(Ftest)\n",
    "class_names = target.unique()\n",
    "print(classification_report(Ltest, y_predict, target_names=class_names))\n",
    "print(confusion_matrix(Ltest, y_predict))"
   ]
  },
  {
   "cell_type": "markdown",
   "id": "4f8e565e",
   "metadata": {},
   "source": [
    "# Random Forest on green channel data"
   ]
  },
  {
   "cell_type": "code",
   "execution_count": 64,
   "id": "96c92f8f",
   "metadata": {},
   "outputs": [
    {
     "data": {
      "text/plain": [
       "0.5580695113558155"
      ]
     },
     "execution_count": 64,
     "metadata": {},
     "output_type": "execute_result"
    }
   ],
   "source": [
    "#building the model\n",
    "classifier_rf.fit(Ftrain, Ltrain)\n",
    "classifier_rf.oob_score_"
   ]
  },
  {
   "cell_type": "code",
   "execution_count": 65,
   "id": "a8f818ad",
   "metadata": {},
   "outputs": [
    {
     "name": "stdout",
     "output_type": "stream",
     "text": [
      "                               precision    recall  f1-score   support\n",
      "\n",
      "               bacterial_spot       0.73      0.57      0.64       345\n",
      "                 early_blight       0.00      0.00      0.00       153\n",
      "                      healthy       0.58      0.91      0.71       234\n",
      "                  late_blight       0.71      0.28      0.40       309\n",
      "                    leaf_mold       0.76      0.31      0.44       145\n",
      "           septoria_leaf_spot       0.57      0.44      0.50       293\n",
      "                  target_spot       0.53      0.38      0.44       240\n",
      "          tomato_mosaic_virus       0.00      0.00      0.00        54\n",
      "tomato_yellow_leaf_curl_virus       0.52      0.98      0.68       854\n",
      "      two-spotted_spider_mite       0.72      0.17      0.28       280\n",
      "\n",
      "                     accuracy                           0.57      2907\n",
      "                    macro avg       0.51      0.40      0.41      2907\n",
      "                 weighted avg       0.57      0.57      0.51      2907\n",
      "\n",
      "[[196   0  18   4   0   0   3   0 124   0]\n",
      " [ 18   0   5   3   0  18  16   0  90   3]\n",
      " [  3   0 213   0   1   1   1   0  14   1]\n",
      " [  5   0  68  86   4  36  11   0  96   3]\n",
      " [  8   0  22  11  45   6   5   0  48   0]\n",
      " [  6   0   9   7   7 129   2   0 132   1]\n",
      " [ 16   0  16   3   0  25  91   0  81   8]\n",
      " [  4   0   6   5   2   3   0   0  31   3]\n",
      " [  4   0   2   2   0   6   1   0 839   0]\n",
      " [ 10   0   7   0   0   3  41   0 171  48]]\n"
     ]
    },
    {
     "name": "stderr",
     "output_type": "stream",
     "text": [
      "C:\\Users\\ravic\\anaconda3\\lib\\site-packages\\sklearn\\metrics\\_classification.py:1318: UndefinedMetricWarning: Precision and F-score are ill-defined and being set to 0.0 in labels with no predicted samples. Use `zero_division` parameter to control this behavior.\n",
      "  _warn_prf(average, modifier, msg_start, len(result))\n",
      "C:\\Users\\ravic\\anaconda3\\lib\\site-packages\\sklearn\\metrics\\_classification.py:1318: UndefinedMetricWarning: Precision and F-score are ill-defined and being set to 0.0 in labels with no predicted samples. Use `zero_division` parameter to control this behavior.\n",
      "  _warn_prf(average, modifier, msg_start, len(result))\n",
      "C:\\Users\\ravic\\anaconda3\\lib\\site-packages\\sklearn\\metrics\\_classification.py:1318: UndefinedMetricWarning: Precision and F-score are ill-defined and being set to 0.0 in labels with no predicted samples. Use `zero_division` parameter to control this behavior.\n",
      "  _warn_prf(average, modifier, msg_start, len(result))\n"
     ]
    }
   ],
   "source": [
    "#classification report on the model\n",
    "y_predict = classifier_rf.fit(Ftrain, Ltrain).predict(Ftest)\n",
    "class_names = target.unique()\n",
    "print(classification_report(Ltest, y_predict, target_names=class_names))\n",
    "print(confusion_matrix(Ltest, y_predict))"
   ]
  },
  {
   "cell_type": "markdown",
   "id": "e9b1cca9",
   "metadata": {},
   "source": [
    "# Naive bayes on Green channel data"
   ]
  },
  {
   "cell_type": "code",
   "execution_count": 66,
   "id": "1136802c",
   "metadata": {},
   "outputs": [
    {
     "data": {
      "text/plain": [
       "0.5067079463364293"
      ]
     },
     "execution_count": 66,
     "metadata": {},
     "output_type": "execute_result"
    }
   ],
   "source": [
    "#building the model\n",
    "gnb.fit(Ftrain, Ltrain)\n",
    "y_pred = gnb.predict(Ftest)\n",
    "metrics.accuracy_score(Ltest, y_pred)"
   ]
  },
  {
   "cell_type": "code",
   "execution_count": 67,
   "id": "413e42be",
   "metadata": {},
   "outputs": [
    {
     "name": "stdout",
     "output_type": "stream",
     "text": [
      "                               precision    recall  f1-score   support\n",
      "\n",
      "               bacterial_spot       0.53      0.76      0.62       345\n",
      "                 early_blight       0.23      0.32      0.27       153\n",
      "                      healthy       0.43      0.69      0.53       234\n",
      "                  late_blight       0.49      0.29      0.37       309\n",
      "                    leaf_mold       0.53      0.43      0.48       145\n",
      "           septoria_leaf_spot       0.45      0.46      0.45       293\n",
      "                  target_spot       0.54      0.45      0.49       240\n",
      "          tomato_mosaic_virus       0.19      0.72      0.30        54\n",
      "tomato_yellow_leaf_curl_virus       0.88      0.50      0.64       854\n",
      "      two-spotted_spider_mite       0.41      0.48      0.44       280\n",
      "\n",
      "                     accuracy                           0.51      2907\n",
      "                    macro avg       0.47      0.51      0.46      2907\n",
      "                 weighted avg       0.58      0.51      0.52      2907\n",
      "\n",
      "[[261   7  31   8   0   2   6   6  20   4]\n",
      " [ 36  49   2  24   0  10  17   4   4   7]\n",
      " [  9   6 162   8   6   3  22   7   2   9]\n",
      " [  3  49  92  90  18  30   6  13   4   4]\n",
      " [  6   6   5  13  63  23   1  21   2   5]\n",
      " [  6  10  39   7  18 134  19  19  14  27]\n",
      " [ 18  14   2   7   3  23 109  11   2  51]\n",
      " [  5   0   3   0   1   3   0  39   1   2]\n",
      " [135  43  39  22   6  51   2  40 431  85]\n",
      " [ 14  25   6   5   3  22  19  42   9 135]]\n"
     ]
    }
   ],
   "source": [
    "#classification report on the model\n",
    "class_names = target.unique()\n",
    "print(classification_report(Ltest, y_pred, target_names=class_names))\n",
    "print(confusion_matrix(Ltest, y_pred))"
   ]
  },
  {
   "cell_type": "markdown",
   "id": "9002e08b",
   "metadata": {},
   "source": [
    "# Decision Tree on Green channel"
   ]
  },
  {
   "cell_type": "code",
   "execution_count": 68,
   "id": "6b115934",
   "metadata": {},
   "outputs": [
    {
     "data": {
      "text/plain": [
       "0.500515995872033"
      ]
     },
     "execution_count": 68,
     "metadata": {},
     "output_type": "execute_result"
    }
   ],
   "source": [
    "#building the model\n",
    "classifier_tree.fit(Ftrain, Ltrain)\n",
    "classifier_tree.score(Ftest,Ltest)"
   ]
  },
  {
   "cell_type": "code",
   "execution_count": 69,
   "id": "a1694af3",
   "metadata": {},
   "outputs": [
    {
     "name": "stdout",
     "output_type": "stream",
     "text": [
      "                               precision    recall  f1-score   support\n",
      "\n",
      "               bacterial_spot       0.52      0.59      0.55       345\n",
      "                 early_blight       0.12      0.13      0.12       153\n",
      "                      healthy       0.64      0.67      0.65       234\n",
      "                  late_blight       0.43      0.43      0.43       309\n",
      "                    leaf_mold       0.37      0.34      0.36       145\n",
      "           septoria_leaf_spot       0.41      0.39      0.40       293\n",
      "                  target_spot       0.36      0.36      0.36       240\n",
      "          tomato_mosaic_virus       0.06      0.07      0.07        54\n",
      "tomato_yellow_leaf_curl_virus       0.74      0.70      0.72       854\n",
      "      two-spotted_spider_mite       0.39      0.39      0.39       280\n",
      "\n",
      "                     accuracy                           0.51      2907\n",
      "                    macro avg       0.40      0.41      0.40      2907\n",
      "                 weighted avg       0.51      0.51      0.51      2907\n",
      "\n",
      "[[204  18  11  21   6  20  16   3  34  12]\n",
      " [ 22  20   5  23   5   7  19   6  29  17]\n",
      " [ 10   8 157  19   4   7  14   2   5   8]\n",
      " [ 16  20  17 132  15  36  12   4  38  19]\n",
      " [ 13  10   7  15  49  17   6   5  14   9]\n",
      " [ 13  14  10  29  19 114  24  12  41  17]\n",
      " [ 18  15  19  15  10  19  86   7  16  35]\n",
      " [  6   2   4   6   6   7   3   4   5  11]\n",
      " [ 76  34   7  26  10  40  12  11 595  43]\n",
      " [ 13  30   9  19   7  12  47  12  23 108]]\n"
     ]
    }
   ],
   "source": [
    "#classification report on the model\n",
    "y_predict = classifier_tree.fit(Ftrain, Ltrain).predict(Ftest)\n",
    "class_names = target.unique()\n",
    "print(classification_report(Ltest, y_predict, target_names=class_names))\n",
    "print(confusion_matrix(Ltest, y_predict))"
   ]
  },
  {
   "cell_type": "markdown",
   "id": "75817642",
   "metadata": {},
   "source": [
    "# KNN on blue channel data"
   ]
  },
  {
   "cell_type": "code",
   "execution_count": 70,
   "id": "531e3624",
   "metadata": {},
   "outputs": [
    {
     "data": {
      "text/plain": [
       "0.5500515995872033"
      ]
     },
     "execution_count": 70,
     "metadata": {},
     "output_type": "execute_result"
    }
   ],
   "source": [
    "#reading numpy array data\n",
    "blue_test = np.load('blue_data.npy')\n",
    "#reading csv file\n",
    "blue_df = pd.read_csv('blue_data.csv')\n",
    "loaded = []\n",
    "for i in gray_test:\n",
    "    k = []\n",
    "    k = np.asarray(i,dtype='uint8')\n",
    "    loaded.append(k)\n",
    "features = loaded\n",
    "target = blue_df['disease']\n",
    "kmodel.fit(Ftrain,Ltrain)\n",
    "kmodel.score(Ftest,Ltest)"
   ]
  },
  {
   "cell_type": "code",
   "execution_count": 71,
   "id": "16330eb3",
   "metadata": {},
   "outputs": [
    {
     "name": "stdout",
     "output_type": "stream",
     "text": [
      "                               precision    recall  f1-score   support\n",
      "\n",
      "               bacterial_spot       0.35      0.80      0.48       345\n",
      "                 early_blight       0.00      0.00      0.00       153\n",
      "                      healthy       0.42      0.77      0.54       234\n",
      "                  late_blight       0.50      0.38      0.43       309\n",
      "                    leaf_mold       0.70      0.48      0.57       145\n",
      "           septoria_leaf_spot       0.70      0.32      0.44       293\n",
      "                  target_spot       0.56      0.18      0.27       240\n",
      "          tomato_mosaic_virus       0.88      0.13      0.23        54\n",
      "tomato_yellow_leaf_curl_virus       0.79      0.78      0.79       854\n",
      "      two-spotted_spider_mite       0.49      0.51      0.50       280\n",
      "\n",
      "                     accuracy                           0.55      2907\n",
      "                    macro avg       0.54      0.44      0.43      2907\n",
      "                 weighted avg       0.58      0.55      0.53      2907\n",
      "\n",
      "[[275   0  33  11   0   0   1   0  23   2]\n",
      " [ 94   0  10   2   0   6  13   0  19   9]\n",
      " [ 29   0 180  16   0   0   1   0   2   6]\n",
      " [ 55   0  57 117  13  23   3   0  26  15]\n",
      " [ 22   0  17  17  70   1   0   0  10   8]\n",
      " [ 29   0  36  46  15  95  10   1  34  27]\n",
      " [108   0  31   2   0   3  43   0  10  43]\n",
      " [  6   0  10   8   2   0   0   7   7  14]\n",
      " [111   0  42   3   0   6   0   0 670  22]\n",
      " [ 67   0  11  11   0   1   6   0  42 142]]\n"
     ]
    },
    {
     "name": "stderr",
     "output_type": "stream",
     "text": [
      "C:\\Users\\ravic\\anaconda3\\lib\\site-packages\\sklearn\\metrics\\_classification.py:1318: UndefinedMetricWarning: Precision and F-score are ill-defined and being set to 0.0 in labels with no predicted samples. Use `zero_division` parameter to control this behavior.\n",
      "  _warn_prf(average, modifier, msg_start, len(result))\n",
      "C:\\Users\\ravic\\anaconda3\\lib\\site-packages\\sklearn\\metrics\\_classification.py:1318: UndefinedMetricWarning: Precision and F-score are ill-defined and being set to 0.0 in labels with no predicted samples. Use `zero_division` parameter to control this behavior.\n",
      "  _warn_prf(average, modifier, msg_start, len(result))\n",
      "C:\\Users\\ravic\\anaconda3\\lib\\site-packages\\sklearn\\metrics\\_classification.py:1318: UndefinedMetricWarning: Precision and F-score are ill-defined and being set to 0.0 in labels with no predicted samples. Use `zero_division` parameter to control this behavior.\n",
      "  _warn_prf(average, modifier, msg_start, len(result))\n"
     ]
    }
   ],
   "source": [
    "y_predict = kmodel.fit(Ftrain, Ltrain).predict(Ftest)\n",
    "class_names = target.unique()\n",
    "print(classification_report(Ltest, y_predict, target_names=class_names))\n",
    "print(confusion_matrix(Ltest, y_predict))"
   ]
  },
  {
   "cell_type": "markdown",
   "id": "f452a113",
   "metadata": {},
   "source": [
    "# logistic on blue channel data"
   ]
  },
  {
   "cell_type": "code",
   "execution_count": 72,
   "id": "de158586",
   "metadata": {},
   "outputs": [
    {
     "name": "stderr",
     "output_type": "stream",
     "text": [
      "C:\\Users\\ravic\\anaconda3\\lib\\site-packages\\sklearn\\linear_model\\_logistic.py:814: ConvergenceWarning: lbfgs failed to converge (status=1):\n",
      "STOP: TOTAL NO. of ITERATIONS REACHED LIMIT.\n",
      "\n",
      "Increase the number of iterations (max_iter) or scale the data as shown in:\n",
      "    https://scikit-learn.org/stable/modules/preprocessing.html\n",
      "Please also refer to the documentation for alternative solver options:\n",
      "    https://scikit-learn.org/stable/modules/linear_model.html#logistic-regression\n",
      "  n_iter_i = _check_optimize_result(\n"
     ]
    },
    {
     "data": {
      "text/plain": [
       "0.6250429996560027"
      ]
     },
     "execution_count": 72,
     "metadata": {},
     "output_type": "execute_result"
    }
   ],
   "source": [
    "model.fit(Ftrain,Ltrain)\n",
    "model.score(Ftest,Ltest)"
   ]
  },
  {
   "cell_type": "code",
   "execution_count": 73,
   "id": "30e98a1a",
   "metadata": {},
   "outputs": [
    {
     "name": "stdout",
     "output_type": "stream",
     "text": [
      "                               precision    recall  f1-score   support\n",
      "\n",
      "               bacterial_spot       0.59      0.72      0.65       345\n",
      "                 early_blight       0.29      0.32      0.30       153\n",
      "                      healthy       0.59      0.60      0.60       234\n",
      "                  late_blight       0.49      0.47      0.48       309\n",
      "                    leaf_mold       0.56      0.55      0.56       145\n",
      "           septoria_leaf_spot       0.52      0.50      0.51       293\n",
      "                  target_spot       0.49      0.45      0.47       240\n",
      "          tomato_mosaic_virus       0.69      0.67      0.68        54\n",
      "tomato_yellow_leaf_curl_virus       0.89      0.83      0.86       854\n",
      "      two-spotted_spider_mite       0.54      0.54      0.54       280\n",
      "\n",
      "                     accuracy                           0.63      2907\n",
      "                    macro avg       0.56      0.57      0.56      2907\n",
      "                 weighted avg       0.63      0.63      0.63      2907\n",
      "\n",
      "[[250  22  10  19   1  11   4   0  21   7]\n",
      " [ 20  49   8  25   4   6  11   0  16  14]\n",
      " [  5  11 141  22   7  12  27   0   0   9]\n",
      " [ 33  26  18 146  10  32   8   2  12  22]\n",
      " [  3   6   8  10  80  25   3   0   3   7]\n",
      " [ 22  12  17  30  19 147  13   8  13  12]\n",
      " [ 15   9  25  13   8  22 107   1   3  37]\n",
      " [  0   1   1   0   4   5   5  36   1   1]\n",
      " [ 59  11   1  21   5  15  13   0 711  18]\n",
      " [ 18  23   9  15   5   8  28   5  19 150]]\n"
     ]
    },
    {
     "name": "stderr",
     "output_type": "stream",
     "text": [
      "C:\\Users\\ravic\\anaconda3\\lib\\site-packages\\sklearn\\linear_model\\_logistic.py:814: ConvergenceWarning: lbfgs failed to converge (status=1):\n",
      "STOP: TOTAL NO. of ITERATIONS REACHED LIMIT.\n",
      "\n",
      "Increase the number of iterations (max_iter) or scale the data as shown in:\n",
      "    https://scikit-learn.org/stable/modules/preprocessing.html\n",
      "Please also refer to the documentation for alternative solver options:\n",
      "    https://scikit-learn.org/stable/modules/linear_model.html#logistic-regression\n",
      "  n_iter_i = _check_optimize_result(\n"
     ]
    }
   ],
   "source": [
    "y_predict = model.fit(Ftrain, Ltrain).predict(Ftest)\n",
    "class_names = target.unique()\n",
    "print(classification_report(Ltest, y_predict, target_names=class_names))\n",
    "print(confusion_matrix(Ltest, y_predict))"
   ]
  },
  {
   "cell_type": "markdown",
   "id": "c7585c1d",
   "metadata": {},
   "source": [
    "# SVM on blue channel data"
   ]
  },
  {
   "cell_type": "code",
   "execution_count": 74,
   "id": "06fb4a0f",
   "metadata": {},
   "outputs": [
    {
     "name": "stdout",
     "output_type": "stream",
     "text": [
      "0.7261781905744754\n"
     ]
    }
   ],
   "source": [
    "clf.fit(Ftrain,Ltrain)\n",
    "y_pred = clf.predict(Ftest)\n",
    "print(accuracy_score(Ltest,y_pred))"
   ]
  },
  {
   "cell_type": "code",
   "execution_count": 75,
   "id": "6e1082ce",
   "metadata": {},
   "outputs": [
    {
     "name": "stdout",
     "output_type": "stream",
     "text": [
      "                               precision    recall  f1-score   support\n",
      "\n",
      "               bacterial_spot       0.64      0.82      0.72       345\n",
      "                 early_blight       0.37      0.35      0.36       153\n",
      "                      healthy       0.75      0.80      0.77       234\n",
      "                  late_blight       0.66      0.65      0.65       309\n",
      "                    leaf_mold       0.65      0.60      0.62       145\n",
      "           septoria_leaf_spot       0.69      0.67      0.68       293\n",
      "                  target_spot       0.65      0.57      0.60       240\n",
      "          tomato_mosaic_virus       0.77      0.87      0.82        54\n",
      "tomato_yellow_leaf_curl_virus       0.91      0.86      0.89       854\n",
      "      two-spotted_spider_mite       0.70      0.66      0.68       280\n",
      "\n",
      "                     accuracy                           0.73      2907\n",
      "                    macro avg       0.68      0.68      0.68      2907\n",
      "                 weighted avg       0.73      0.73      0.73      2907\n",
      "\n",
      "[[284  15   2  11   0   2   2   0  28   1]\n",
      " [ 32  54   2  26   1   6   8   0   9  15]\n",
      " [  1   9 188  11   4   5  11   0   0   5]\n",
      " [ 31  15  17 200  11  17   2   0   8   8]\n",
      " [  3   4   4  11  87  24   2   3   5   2]\n",
      " [  6   9  14  20  13 195  14   7   8   7]\n",
      " [  8  23  16   2   7  14 136   1   0  33]\n",
      " [  0   0   0   0   1   6   0  47   0   0]\n",
      " [ 73   6   0  17   3   4   6   0 736   9]\n",
      " [  8  11   9   7   7   9  29   3  13 184]]\n"
     ]
    }
   ],
   "source": [
    "y_predict = clf.fit(Ftrain, Ltrain).predict(Ftest)\n",
    "class_names = target.unique()\n",
    "print(classification_report(Ltest, y_predict, target_names=class_names))\n",
    "print(confusion_matrix(Ltest, y_predict))"
   ]
  },
  {
   "cell_type": "markdown",
   "id": "f4eb8c6c",
   "metadata": {},
   "source": [
    "# Random Forest on blue channel data"
   ]
  },
  {
   "cell_type": "code",
   "execution_count": 76,
   "id": "b71407b2",
   "metadata": {},
   "outputs": [
    {
     "data": {
      "text/plain": [
       "0.5580695113558155"
      ]
     },
     "execution_count": 76,
     "metadata": {},
     "output_type": "execute_result"
    }
   ],
   "source": [
    "classifier_rf.fit(Ftrain, Ltrain)\n",
    "classifier_rf.oob_score_"
   ]
  },
  {
   "cell_type": "code",
   "execution_count": 77,
   "id": "aa723da2",
   "metadata": {},
   "outputs": [
    {
     "name": "stdout",
     "output_type": "stream",
     "text": [
      "                               precision    recall  f1-score   support\n",
      "\n",
      "               bacterial_spot       0.73      0.57      0.64       345\n",
      "                 early_blight       0.00      0.00      0.00       153\n",
      "                      healthy       0.58      0.91      0.71       234\n",
      "                  late_blight       0.71      0.28      0.40       309\n",
      "                    leaf_mold       0.76      0.31      0.44       145\n",
      "           septoria_leaf_spot       0.57      0.44      0.50       293\n",
      "                  target_spot       0.53      0.38      0.44       240\n",
      "          tomato_mosaic_virus       0.00      0.00      0.00        54\n",
      "tomato_yellow_leaf_curl_virus       0.52      0.98      0.68       854\n",
      "      two-spotted_spider_mite       0.72      0.17      0.28       280\n",
      "\n",
      "                     accuracy                           0.57      2907\n",
      "                    macro avg       0.51      0.40      0.41      2907\n",
      "                 weighted avg       0.57      0.57      0.51      2907\n",
      "\n",
      "[[196   0  18   4   0   0   3   0 124   0]\n",
      " [ 18   0   5   3   0  18  16   0  90   3]\n",
      " [  3   0 213   0   1   1   1   0  14   1]\n",
      " [  5   0  68  86   4  36  11   0  96   3]\n",
      " [  8   0  22  11  45   6   5   0  48   0]\n",
      " [  6   0   9   7   7 129   2   0 132   1]\n",
      " [ 16   0  16   3   0  25  91   0  81   8]\n",
      " [  4   0   6   5   2   3   0   0  31   3]\n",
      " [  4   0   2   2   0   6   1   0 839   0]\n",
      " [ 10   0   7   0   0   3  41   0 171  48]]\n"
     ]
    },
    {
     "name": "stderr",
     "output_type": "stream",
     "text": [
      "C:\\Users\\ravic\\anaconda3\\lib\\site-packages\\sklearn\\metrics\\_classification.py:1318: UndefinedMetricWarning: Precision and F-score are ill-defined and being set to 0.0 in labels with no predicted samples. Use `zero_division` parameter to control this behavior.\n",
      "  _warn_prf(average, modifier, msg_start, len(result))\n",
      "C:\\Users\\ravic\\anaconda3\\lib\\site-packages\\sklearn\\metrics\\_classification.py:1318: UndefinedMetricWarning: Precision and F-score are ill-defined and being set to 0.0 in labels with no predicted samples. Use `zero_division` parameter to control this behavior.\n",
      "  _warn_prf(average, modifier, msg_start, len(result))\n",
      "C:\\Users\\ravic\\anaconda3\\lib\\site-packages\\sklearn\\metrics\\_classification.py:1318: UndefinedMetricWarning: Precision and F-score are ill-defined and being set to 0.0 in labels with no predicted samples. Use `zero_division` parameter to control this behavior.\n",
      "  _warn_prf(average, modifier, msg_start, len(result))\n"
     ]
    }
   ],
   "source": [
    "y_predict = classifier_rf.fit(Ftrain, Ltrain).predict(Ftest)\n",
    "class_names = target.unique()\n",
    "print(classification_report(Ltest, y_predict, target_names=class_names))\n",
    "print(confusion_matrix(Ltest, y_predict))"
   ]
  },
  {
   "cell_type": "markdown",
   "id": "fb1ca20e",
   "metadata": {},
   "source": [
    "# Naive bayes on blue channel data"
   ]
  },
  {
   "cell_type": "code",
   "execution_count": 78,
   "id": "11ea0b85",
   "metadata": {},
   "outputs": [
    {
     "data": {
      "text/plain": [
       "0.5067079463364293"
      ]
     },
     "execution_count": 78,
     "metadata": {},
     "output_type": "execute_result"
    }
   ],
   "source": [
    "gnb.fit(Ftrain, Ltrain)\n",
    "y_pred = gnb.predict(Ftest)\n",
    "metrics.accuracy_score(Ltest, y_pred)"
   ]
  },
  {
   "cell_type": "code",
   "execution_count": 79,
   "id": "ca5ce1db",
   "metadata": {},
   "outputs": [
    {
     "name": "stdout",
     "output_type": "stream",
     "text": [
      "                               precision    recall  f1-score   support\n",
      "\n",
      "               bacterial_spot       0.53      0.76      0.62       345\n",
      "                 early_blight       0.23      0.32      0.27       153\n",
      "                      healthy       0.43      0.69      0.53       234\n",
      "                  late_blight       0.49      0.29      0.37       309\n",
      "                    leaf_mold       0.53      0.43      0.48       145\n",
      "           septoria_leaf_spot       0.45      0.46      0.45       293\n",
      "                  target_spot       0.54      0.45      0.49       240\n",
      "          tomato_mosaic_virus       0.19      0.72      0.30        54\n",
      "tomato_yellow_leaf_curl_virus       0.88      0.50      0.64       854\n",
      "      two-spotted_spider_mite       0.41      0.48      0.44       280\n",
      "\n",
      "                     accuracy                           0.51      2907\n",
      "                    macro avg       0.47      0.51      0.46      2907\n",
      "                 weighted avg       0.58      0.51      0.52      2907\n",
      "\n",
      "[[261   7  31   8   0   2   6   6  20   4]\n",
      " [ 36  49   2  24   0  10  17   4   4   7]\n",
      " [  9   6 162   8   6   3  22   7   2   9]\n",
      " [  3  49  92  90  18  30   6  13   4   4]\n",
      " [  6   6   5  13  63  23   1  21   2   5]\n",
      " [  6  10  39   7  18 134  19  19  14  27]\n",
      " [ 18  14   2   7   3  23 109  11   2  51]\n",
      " [  5   0   3   0   1   3   0  39   1   2]\n",
      " [135  43  39  22   6  51   2  40 431  85]\n",
      " [ 14  25   6   5   3  22  19  42   9 135]]\n"
     ]
    }
   ],
   "source": [
    "class_names = target.unique()\n",
    "print(classification_report(Ltest, y_pred, target_names=class_names))\n",
    "print(confusion_matrix(Ltest, y_pred))"
   ]
  },
  {
   "cell_type": "markdown",
   "id": "d9c9d428",
   "metadata": {},
   "source": [
    "# Decision Tree on Blue channel"
   ]
  },
  {
   "cell_type": "code",
   "execution_count": 80,
   "id": "cbeebfa6",
   "metadata": {},
   "outputs": [
    {
     "data": {
      "text/plain": [
       "0.499140006879945"
      ]
     },
     "execution_count": 80,
     "metadata": {},
     "output_type": "execute_result"
    }
   ],
   "source": [
    "classifier_tree.fit(Ftrain, Ltrain)\n",
    "classifier_tree.score(Ftest,Ltest)"
   ]
  },
  {
   "cell_type": "code",
   "execution_count": 81,
   "id": "ef622e2a",
   "metadata": {},
   "outputs": [
    {
     "name": "stdout",
     "output_type": "stream",
     "text": [
      "                               precision    recall  f1-score   support\n",
      "\n",
      "               bacterial_spot       0.50      0.60      0.54       345\n",
      "                 early_blight       0.13      0.13      0.13       153\n",
      "                      healthy       0.62      0.66      0.64       234\n",
      "                  late_blight       0.45      0.44      0.44       309\n",
      "                    leaf_mold       0.33      0.34      0.33       145\n",
      "           septoria_leaf_spot       0.43      0.40      0.41       293\n",
      "                  target_spot       0.36      0.33      0.34       240\n",
      "          tomato_mosaic_virus       0.09      0.09      0.09        54\n",
      "tomato_yellow_leaf_curl_virus       0.75      0.70      0.72       854\n",
      "      two-spotted_spider_mite       0.37      0.39      0.38       280\n",
      "\n",
      "                     accuracy                           0.51      2907\n",
      "                    macro avg       0.40      0.41      0.40      2907\n",
      "                 weighted avg       0.51      0.51      0.51      2907\n",
      "\n",
      "[[206  17  12  22   8  15   8   0  42  15]\n",
      " [ 28  20   6  21   4   8  16   3  26  21]\n",
      " [ 10   3 155  22   8   5  15   4   2  10]\n",
      " [ 25  22  16 137  15  29  13   6  25  21]\n",
      " [  9   9   7  17  49  14   5   9  15  11]\n",
      " [ 14  10  10  26  24 116  23   8  45  17]\n",
      " [ 16  19  19  12  14  27  79   6  17  31]\n",
      " [  4   1   6   6   5   8   4   5   5  10]\n",
      " [ 78  22  11  26  11  38  16   6 599  47]\n",
      " [ 24  26  10  18  10  11  42   7  24 108]]\n"
     ]
    }
   ],
   "source": [
    "y_predict = classifier_tree.fit(Ftrain, Ltrain).predict(Ftest)\n",
    "class_names = target.unique()\n",
    "print(classification_report(Ltest, y_predict, target_names=class_names))\n",
    "print(confusion_matrix(Ltest, y_predict))"
   ]
  }
 ],
 "metadata": {
  "kernelspec": {
   "display_name": "Python 3 (ipykernel)",
   "language": "python",
   "name": "python3"
  },
  "language_info": {
   "codemirror_mode": {
    "name": "ipython",
    "version": 3
   },
   "file_extension": ".py",
   "mimetype": "text/x-python",
   "name": "python",
   "nbconvert_exporter": "python",
   "pygments_lexer": "ipython3",
   "version": "3.9.12"
  }
 },
 "nbformat": 4,
 "nbformat_minor": 5
}
