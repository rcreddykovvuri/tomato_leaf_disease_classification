{
 "cells": [
  {
   "cell_type": "code",
   "execution_count": 1,
   "id": "bcdb1517",
   "metadata": {},
   "outputs": [],
   "source": [
    "import numpy as np #importing numpy\n",
    "import pandas as pd #importing pandas\n",
    "import PIL #importing pillow for image processing\n",
    "from PIL import Image#importing image from pillow library\n",
    "import skimage#importing skimage library\n",
    "import os#importing os library\n",
    "import time#importing time library\n",
    "\n",
    "#Capture start time of the program\n",
    "start_time = time.time()"
   ]
  },
  {
   "cell_type": "code",
   "execution_count": 2,
   "id": "9ec45970",
   "metadata": {},
   "outputs": [],
   "source": [
    "#changing path\n",
    "os.chdir('D://DKIT//dissertation//Dataset_of_Tomato_Leaves//plantvillage//Preprocessed_data//32//vector//')"
   ]
  },
  {
   "cell_type": "markdown",
   "id": "7139bf53",
   "metadata": {},
   "source": [
    "# KNN on rgb data"
   ]
  },
  {
   "cell_type": "code",
   "execution_count": 3,
   "id": "9386938c",
   "metadata": {},
   "outputs": [],
   "source": [
    "#reading numpy array data\n",
    "rgb_test = np.load('rgb_data.npy')\n",
    "#reading csv file\n",
    "rgb_df = pd.read_csv('rgb_data.csv')"
   ]
  },
  {
   "cell_type": "code",
   "execution_count": 4,
   "id": "40f528b5",
   "metadata": {},
   "outputs": [],
   "source": [
    "loaded = []\n",
    "for i in rgb_test:\n",
    "    k = []\n",
    "    k = np.asarray(i,dtype='uint8')\n",
    "    loaded.append(k)"
   ]
  },
  {
   "cell_type": "code",
   "execution_count": 8,
   "id": "fdd9a1f6",
   "metadata": {},
   "outputs": [
    {
     "data": {
      "text/plain": [
       "3072"
      ]
     },
     "execution_count": 8,
     "metadata": {},
     "output_type": "execute_result"
    }
   ],
   "source": []
  },
  {
   "cell_type": "code",
   "execution_count": 5,
   "id": "c6d5658c",
   "metadata": {},
   "outputs": [],
   "source": [
    "#assigning features and target\n",
    "features = loaded\n",
    "target = rgb_df['disease']\n",
    "#splitting the data to 80 percent and 20 percent\n",
    "from sklearn.model_selection import train_test_split\n",
    "Ftrain,Ftest,Ltrain,Ltest=train_test_split(features,target, test_size=0.20, random_state=24)"
   ]
  },
  {
   "cell_type": "code",
   "execution_count": 6,
   "id": "6f1171c6",
   "metadata": {},
   "outputs": [],
   "source": [
    "#K-Model on the data\n",
    "from sklearn.neighbors import KNeighborsClassifier\n",
    "kmodel = KNeighborsClassifier(n_neighbors=75)"
   ]
  },
  {
   "cell_type": "code",
   "execution_count": 7,
   "id": "b9fdc978",
   "metadata": {},
   "outputs": [
    {
     "name": "stdout",
     "output_type": "stream",
     "text": [
      "0.5724114207086344\n"
     ]
    }
   ],
   "source": [
    "#k-model fitting and accuracy\n",
    "kmodel.fit(Ftrain,Ltrain)\n",
    "print(kmodel.score(Ftest,Ltest))"
   ]
  },
  {
   "cell_type": "code",
   "execution_count": 8,
   "id": "1fa0433e",
   "metadata": {},
   "outputs": [],
   "source": [
    "#importing classification report and confusion matrix\n",
    "from sklearn.metrics import classification_report, confusion_matrix"
   ]
  },
  {
   "cell_type": "code",
   "execution_count": 9,
   "id": "c5085d40",
   "metadata": {},
   "outputs": [
    {
     "name": "stdout",
     "output_type": "stream",
     "text": [
      "                               precision    recall  f1-score   support\n",
      "\n",
      "               bacterial_spot       0.35      0.82      0.49       345\n",
      "                 early_blight       0.00      0.00      0.00       153\n",
      "                      healthy       0.46      0.77      0.58       234\n",
      "                  late_blight       0.57      0.42      0.48       309\n",
      "                    leaf_mold       0.69      0.53      0.60       145\n",
      "           septoria_leaf_spot       0.72      0.36      0.48       293\n",
      "                  target_spot       0.55      0.23      0.32       240\n",
      "          tomato_mosaic_virus       0.79      0.20      0.32        54\n",
      "tomato_yellow_leaf_curl_virus       0.82      0.79      0.80       854\n",
      "      two-spotted_spider_mite       0.52      0.53      0.52       280\n",
      "\n",
      "                     accuracy                           0.57      2907\n",
      "                    macro avg       0.55      0.47      0.46      2907\n",
      "                 weighted avg       0.60      0.57      0.55      2907\n",
      "\n",
      "[[283   0  31   9   0   0   1   0  19   2]\n",
      " [ 94   0  10   3   0   5  13   0  19   9]\n",
      " [ 31   0 181  14   0   0   2   0   1   5]\n",
      " [ 55   0  44 130  15  24   4   1  23  13]\n",
      " [ 19   0  12  14  77   1   1   1  11   9]\n",
      " [ 28   0  32  39  15 105  15   0  31  28]\n",
      " [105   0  28   3   0   3  54   1   8  38]\n",
      " [  6   0   8   7   4   1   0  11   6  11]\n",
      " [109   0  39   1   0   6   0   0 674  25]\n",
      " [ 69   0  10   9   0   1   8   0  34 149]]\n"
     ]
    },
    {
     "name": "stderr",
     "output_type": "stream",
     "text": [
      "C:\\Users\\ravic\\anaconda3\\lib\\site-packages\\sklearn\\metrics\\_classification.py:1248: UndefinedMetricWarning: Precision and F-score are ill-defined and being set to 0.0 in labels with no predicted samples. Use `zero_division` parameter to control this behavior.\n",
      "  _warn_prf(average, modifier, msg_start, len(result))\n",
      "C:\\Users\\ravic\\anaconda3\\lib\\site-packages\\sklearn\\metrics\\_classification.py:1248: UndefinedMetricWarning: Precision and F-score are ill-defined and being set to 0.0 in labels with no predicted samples. Use `zero_division` parameter to control this behavior.\n",
      "  _warn_prf(average, modifier, msg_start, len(result))\n",
      "C:\\Users\\ravic\\anaconda3\\lib\\site-packages\\sklearn\\metrics\\_classification.py:1248: UndefinedMetricWarning: Precision and F-score are ill-defined and being set to 0.0 in labels with no predicted samples. Use `zero_division` parameter to control this behavior.\n",
      "  _warn_prf(average, modifier, msg_start, len(result))\n"
     ]
    }
   ],
   "source": [
    "#printing results of the kmodel\n",
    "y_predict = kmodel.fit(Ftrain, Ltrain).predict(Ftest)\n",
    "class_names = target.unique()\n",
    "print(classification_report(Ltest, y_predict, target_names=class_names))\n",
    "print(confusion_matrix(Ltest, y_predict))"
   ]
  },
  {
   "cell_type": "markdown",
   "id": "d5c58638",
   "metadata": {},
   "source": [
    "# Logistic on rgb data"
   ]
  },
  {
   "cell_type": "code",
   "execution_count": 10,
   "id": "a84836ef",
   "metadata": {},
   "outputs": [
    {
     "name": "stdout",
     "output_type": "stream",
     "text": [
      "0.6216030271757826\n"
     ]
    },
    {
     "name": "stderr",
     "output_type": "stream",
     "text": [
      "C:\\Users\\ravic\\anaconda3\\lib\\site-packages\\sklearn\\linear_model\\_logistic.py:763: ConvergenceWarning: lbfgs failed to converge (status=1):\n",
      "STOP: TOTAL NO. of ITERATIONS REACHED LIMIT.\n",
      "\n",
      "Increase the number of iterations (max_iter) or scale the data as shown in:\n",
      "    https://scikit-learn.org/stable/modules/preprocessing.html\n",
      "Please also refer to the documentation for alternative solver options:\n",
      "    https://scikit-learn.org/stable/modules/linear_model.html#logistic-regression\n",
      "  n_iter_i = _check_optimize_result(\n"
     ]
    }
   ],
   "source": [
    "#importing logistic data\n",
    "from sklearn.linear_model import LogisticRegression\n",
    "model=LogisticRegression(solver='lbfgs', max_iter=10000)\n",
    "model.fit(Ftrain,Ltrain)\n",
    "print(model.score(Ftest,Ltest))"
   ]
  },
  {
   "cell_type": "code",
   "execution_count": 11,
   "id": "bb13d9a1",
   "metadata": {},
   "outputs": [
    {
     "name": "stdout",
     "output_type": "stream",
     "text": [
      "                               precision    recall  f1-score   support\n",
      "\n",
      "               bacterial_spot       0.57      0.72      0.63       345\n",
      "                 early_blight       0.29      0.33      0.30       153\n",
      "                      healthy       0.59      0.62      0.60       234\n",
      "                  late_blight       0.49      0.46      0.47       309\n",
      "                    leaf_mold       0.53      0.54      0.54       145\n",
      "           septoria_leaf_spot       0.52      0.49      0.51       293\n",
      "                  target_spot       0.49      0.45      0.47       240\n",
      "          tomato_mosaic_virus       0.67      0.67      0.67        54\n",
      "tomato_yellow_leaf_curl_virus       0.90      0.83      0.86       854\n",
      "      two-spotted_spider_mite       0.54      0.54      0.54       280\n",
      "\n",
      "                     accuracy                           0.62      2907\n",
      "                    macro avg       0.56      0.56      0.56      2907\n",
      "                 weighted avg       0.63      0.62      0.62      2907\n",
      "\n",
      "[[247  24  10  20   2  11   4   0  21   6]\n",
      " [ 19  50   8  26   6   5  12   1  12  14]\n",
      " [  6  10 144  19   7  12  27   0   0   9]\n",
      " [ 36  26  18 142  11  29  10   2  12  23]\n",
      " [  3   6   9  12  79  24   3   0   3   6]\n",
      " [ 22  12  18  29  21 144  12   9  14  12]\n",
      " [ 17  11  25  10   8  19 107   1   3  39]\n",
      " [  0   1   1   0   4   5   5  36   1   1]\n",
      " [ 60  14   1  20   5  18  11   0 706  19]\n",
      " [ 23  21  11  14   5   8  26   5  15 152]]\n"
     ]
    },
    {
     "name": "stderr",
     "output_type": "stream",
     "text": [
      "C:\\Users\\ravic\\anaconda3\\lib\\site-packages\\sklearn\\linear_model\\_logistic.py:763: ConvergenceWarning: lbfgs failed to converge (status=1):\n",
      "STOP: TOTAL NO. of ITERATIONS REACHED LIMIT.\n",
      "\n",
      "Increase the number of iterations (max_iter) or scale the data as shown in:\n",
      "    https://scikit-learn.org/stable/modules/preprocessing.html\n",
      "Please also refer to the documentation for alternative solver options:\n",
      "    https://scikit-learn.org/stable/modules/linear_model.html#logistic-regression\n",
      "  n_iter_i = _check_optimize_result(\n"
     ]
    }
   ],
   "source": [
    "#classification report\n",
    "y_predict = model.fit(Ftrain, Ltrain).predict(Ftest)\n",
    "class_names = target.unique()\n",
    "print(classification_report(Ltest, y_predict, target_names=class_names))\n",
    "print(confusion_matrix(Ltest, y_predict))"
   ]
  },
  {
   "cell_type": "markdown",
   "id": "6fe194bc",
   "metadata": {},
   "source": [
    "# SVM on RGB data"
   ]
  },
  {
   "cell_type": "code",
   "execution_count": 12,
   "id": "2427ed51",
   "metadata": {},
   "outputs": [
    {
     "name": "stdout",
     "output_type": "stream",
     "text": [
      "0.7268661850705195\n"
     ]
    }
   ],
   "source": [
    "from sklearn.svm import SVC\n",
    "from sklearn.metrics import accuracy_score\n",
    "\n",
    "clf = SVC(kernel='linear')\n",
    "clf.fit(Ftrain,Ltrain)\n",
    "y_pred = clf.predict(Ftest)\n",
    "print(accuracy_score(Ltest,y_pred))"
   ]
  },
  {
   "cell_type": "code",
   "execution_count": 13,
   "id": "bf286604",
   "metadata": {},
   "outputs": [
    {
     "name": "stdout",
     "output_type": "stream",
     "text": [
      "                               precision    recall  f1-score   support\n",
      "\n",
      "               bacterial_spot       0.64      0.82      0.72       345\n",
      "                 early_blight       0.37      0.36      0.37       153\n",
      "                      healthy       0.75      0.80      0.77       234\n",
      "                  late_blight       0.66      0.65      0.65       309\n",
      "                    leaf_mold       0.65      0.60      0.62       145\n",
      "           septoria_leaf_spot       0.69      0.67      0.68       293\n",
      "                  target_spot       0.65      0.57      0.60       240\n",
      "          tomato_mosaic_virus       0.77      0.87      0.82        54\n",
      "tomato_yellow_leaf_curl_virus       0.91      0.86      0.89       854\n",
      "      two-spotted_spider_mite       0.70      0.66      0.68       280\n",
      "\n",
      "                     accuracy                           0.73      2907\n",
      "                    macro avg       0.68      0.69      0.68      2907\n",
      "                 weighted avg       0.73      0.73      0.73      2907\n",
      "\n",
      "[[284  15   2  11   0   2   2   0  28   1]\n",
      " [ 32  55   2  26   1   5   8   0   9  15]\n",
      " [  1   9 188  11   4   5  11   0   0   5]\n",
      " [ 31  15  17 200  11  17   2   0   8   8]\n",
      " [  3   4   4  11  87  24   2   3   5   2]\n",
      " [  6   9  14  20  13 195  14   7   8   7]\n",
      " [  8  23  16   2   7  14 136   1   0  33]\n",
      " [  0   0   0   0   1   6   0  47   0   0]\n",
      " [ 72   6   0  17   3   4   6   0 737   9]\n",
      " [  8  11   9   7   7   9  29   3  13 184]]\n"
     ]
    }
   ],
   "source": [
    "#classification report\n",
    "y_predict = clf.fit(Ftrain, Ltrain).predict(Ftest)\n",
    "class_names = target.unique()\n",
    "print(classification_report(Ltest, y_predict, target_names=class_names))\n",
    "print(confusion_matrix(Ltest, y_predict))"
   ]
  },
  {
   "cell_type": "markdown",
   "id": "73bef6fa",
   "metadata": {},
   "source": [
    "# Random Forest on RGB "
   ]
  },
  {
   "cell_type": "code",
   "execution_count": 14,
   "id": "6bae5a92",
   "metadata": {},
   "outputs": [],
   "source": [
    "from sklearn.ensemble import RandomForestClassifier"
   ]
  },
  {
   "cell_type": "code",
   "execution_count": 15,
   "id": "1d08a15e",
   "metadata": {},
   "outputs": [],
   "source": [
    "classifier_rf = RandomForestClassifier(random_state=42, n_jobs=-1, max_depth=5,n_estimators=100, oob_score=True)"
   ]
  },
  {
   "cell_type": "code",
   "execution_count": 16,
   "id": "938ad007",
   "metadata": {},
   "outputs": [
    {
     "data": {
      "text/plain": [
       "RandomForestClassifier(max_depth=5, n_jobs=-1, oob_score=True, random_state=42)"
      ]
     },
     "execution_count": 16,
     "metadata": {},
     "output_type": "execute_result"
    }
   ],
   "source": [
    "classifier_rf.fit(Ftrain, Ltrain)"
   ]
  },
  {
   "cell_type": "code",
   "execution_count": 17,
   "id": "e1769cec",
   "metadata": {},
   "outputs": [
    {
     "data": {
      "text/plain": [
       "0.557381280110117"
      ]
     },
     "execution_count": 17,
     "metadata": {},
     "output_type": "execute_result"
    }
   ],
   "source": [
    "classifier_rf.oob_score_"
   ]
  },
  {
   "cell_type": "code",
   "execution_count": 18,
   "id": "13c0682e",
   "metadata": {},
   "outputs": [
    {
     "name": "stdout",
     "output_type": "stream",
     "text": [
      "                               precision    recall  f1-score   support\n",
      "\n",
      "               bacterial_spot       0.73      0.57      0.64       345\n",
      "                 early_blight       0.00      0.00      0.00       153\n",
      "                      healthy       0.58      0.91      0.71       234\n",
      "                  late_blight       0.70      0.29      0.41       309\n",
      "                    leaf_mold       0.78      0.30      0.43       145\n",
      "           septoria_leaf_spot       0.56      0.44      0.49       293\n",
      "                  target_spot       0.53      0.38      0.44       240\n",
      "          tomato_mosaic_virus       0.00      0.00      0.00        54\n",
      "tomato_yellow_leaf_curl_virus       0.51      0.98      0.67       854\n",
      "      two-spotted_spider_mite       0.69      0.16      0.27       280\n",
      "\n",
      "                     accuracy                           0.56      2907\n",
      "                    macro avg       0.51      0.40      0.41      2907\n",
      "                 weighted avg       0.56      0.56      0.51      2907\n",
      "\n",
      "[[195   0  17   5   0   0   3   0 125   0]\n",
      " [ 19   0   6   3   0  18  15   0  89   3]\n",
      " [  3   0 213   1   0   1   1   0  14   1]\n",
      " [  4   0  67  89   4  37  10   0  95   3]\n",
      " [  8   0  22  12  43   6   5   0  49   0]\n",
      " [  6   0  10   7   6 129   3   0 132   0]\n",
      " [ 16   0  15   3   0  26  90   0  80  10]\n",
      " [  2   0   6   5   2   3   1   0  31   4]\n",
      " [  5   0   2   3   0   6   1   0 837   0]\n",
      " [  9   0   7   0   0   3  41   0 174  46]]\n"
     ]
    },
    {
     "name": "stderr",
     "output_type": "stream",
     "text": [
      "C:\\Users\\ravic\\anaconda3\\lib\\site-packages\\sklearn\\metrics\\_classification.py:1248: UndefinedMetricWarning: Precision and F-score are ill-defined and being set to 0.0 in labels with no predicted samples. Use `zero_division` parameter to control this behavior.\n",
      "  _warn_prf(average, modifier, msg_start, len(result))\n",
      "C:\\Users\\ravic\\anaconda3\\lib\\site-packages\\sklearn\\metrics\\_classification.py:1248: UndefinedMetricWarning: Precision and F-score are ill-defined and being set to 0.0 in labels with no predicted samples. Use `zero_division` parameter to control this behavior.\n",
      "  _warn_prf(average, modifier, msg_start, len(result))\n",
      "C:\\Users\\ravic\\anaconda3\\lib\\site-packages\\sklearn\\metrics\\_classification.py:1248: UndefinedMetricWarning: Precision and F-score are ill-defined and being set to 0.0 in labels with no predicted samples. Use `zero_division` parameter to control this behavior.\n",
      "  _warn_prf(average, modifier, msg_start, len(result))\n"
     ]
    }
   ],
   "source": [
    "y_predict = classifier_rf.fit(Ftrain, Ltrain).predict(Ftest)\n",
    "class_names = target.unique()\n",
    "print(classification_report(Ltest, y_predict, target_names=class_names))\n",
    "print(confusion_matrix(Ltest, y_predict))"
   ]
  },
  {
   "cell_type": "markdown",
   "id": "b6a094e4",
   "metadata": {},
   "source": [
    "# Naive Bayes on RGB data"
   ]
  },
  {
   "cell_type": "code",
   "execution_count": 19,
   "id": "a5bc755b",
   "metadata": {},
   "outputs": [
    {
     "data": {
      "text/plain": [
       "GaussianNB()"
      ]
     },
     "execution_count": 19,
     "metadata": {},
     "output_type": "execute_result"
    }
   ],
   "source": [
    "from sklearn.naive_bayes import GaussianNB\n",
    "gnb = GaussianNB()\n",
    "gnb.fit(Ftrain, Ltrain)"
   ]
  },
  {
   "cell_type": "code",
   "execution_count": 20,
   "id": "6d162dcc",
   "metadata": {},
   "outputs": [],
   "source": [
    "y_pred = gnb.predict(Ftest)"
   ]
  },
  {
   "cell_type": "code",
   "execution_count": 21,
   "id": "8f7b4bab",
   "metadata": {},
   "outputs": [
    {
     "data": {
      "text/plain": [
       "0.5067079463364293"
      ]
     },
     "execution_count": 21,
     "metadata": {},
     "output_type": "execute_result"
    }
   ],
   "source": [
    "from sklearn import metrics\n",
    "metrics.accuracy_score(Ltest, y_pred)"
   ]
  },
  {
   "cell_type": "code",
   "execution_count": 22,
   "id": "935808af",
   "metadata": {},
   "outputs": [
    {
     "name": "stdout",
     "output_type": "stream",
     "text": [
      "                               precision    recall  f1-score   support\n",
      "\n",
      "               bacterial_spot       0.53      0.76      0.62       345\n",
      "                 early_blight       0.23      0.32      0.27       153\n",
      "                      healthy       0.43      0.69      0.53       234\n",
      "                  late_blight       0.49      0.29      0.37       309\n",
      "                    leaf_mold       0.53      0.43      0.48       145\n",
      "           septoria_leaf_spot       0.45      0.46      0.45       293\n",
      "                  target_spot       0.54      0.45      0.49       240\n",
      "          tomato_mosaic_virus       0.19      0.72      0.30        54\n",
      "tomato_yellow_leaf_curl_virus       0.88      0.50      0.64       854\n",
      "      two-spotted_spider_mite       0.41      0.48      0.44       280\n",
      "\n",
      "                     accuracy                           0.51      2907\n",
      "                    macro avg       0.47      0.51      0.46      2907\n",
      "                 weighted avg       0.58      0.51      0.52      2907\n",
      "\n",
      "[[261   7  31   8   0   2   6   6  20   4]\n",
      " [ 36  49   2  24   0  10  17   4   4   7]\n",
      " [  9   6 162   8   6   3  22   7   2   9]\n",
      " [  3  49  92  90  18  30   6  13   4   4]\n",
      " [  6   6   5  13  63  23   1  21   2   5]\n",
      " [  6  10  39   7  18 134  19  19  14  27]\n",
      " [ 18  14   2   7   3  23 109  11   2  51]\n",
      " [  5   0   3   0   1   3   0  39   1   2]\n",
      " [135  43  39  22   6  51   2  40 431  85]\n",
      " [ 14  25   6   5   3  22  19  42   9 135]]\n"
     ]
    }
   ],
   "source": [
    "class_names = target.unique()\n",
    "print(classification_report(Ltest, y_pred, target_names=class_names))\n",
    "print(confusion_matrix(Ltest, y_pred))"
   ]
  },
  {
   "cell_type": "markdown",
   "id": "75bb69d9",
   "metadata": {},
   "source": [
    "# Decision Tree on RGB data"
   ]
  },
  {
   "cell_type": "code",
   "execution_count": 23,
   "id": "6a765709",
   "metadata": {},
   "outputs": [],
   "source": [
    "from sklearn.tree import DecisionTreeClassifier\n",
    "classifier_tree = DecisionTreeClassifier()"
   ]
  },
  {
   "cell_type": "code",
   "execution_count": 24,
   "id": "feb5f853",
   "metadata": {},
   "outputs": [
    {
     "data": {
      "text/plain": [
       "0.499140006879945"
      ]
     },
     "execution_count": 24,
     "metadata": {},
     "output_type": "execute_result"
    }
   ],
   "source": [
    "classifier_tree.fit(Ftrain, Ltrain)\n",
    "classifier_tree.score(Ftest,Ltest)"
   ]
  },
  {
   "cell_type": "code",
   "execution_count": 25,
   "id": "1bdf54ae",
   "metadata": {},
   "outputs": [
    {
     "name": "stdout",
     "output_type": "stream",
     "text": [
      "                               precision    recall  f1-score   support\n",
      "\n",
      "               bacterial_spot       0.49      0.57      0.53       345\n",
      "                 early_blight       0.13      0.14      0.14       153\n",
      "                      healthy       0.64      0.69      0.66       234\n",
      "                  late_blight       0.43      0.43      0.43       309\n",
      "                    leaf_mold       0.35      0.33      0.34       145\n",
      "           septoria_leaf_spot       0.41      0.41      0.41       293\n",
      "                  target_spot       0.36      0.30      0.33       240\n",
      "          tomato_mosaic_virus       0.10      0.13      0.11        54\n",
      "tomato_yellow_leaf_curl_virus       0.74      0.69      0.71       854\n",
      "      two-spotted_spider_mite       0.39      0.41      0.40       280\n",
      "\n",
      "                     accuracy                           0.50      2907\n",
      "                    macro avg       0.41      0.41      0.41      2907\n",
      "                 weighted avg       0.51      0.50      0.51      2907\n",
      "\n",
      "[[197  19  14  23   3  22   9   2  44  12]\n",
      " [ 25  22   5  28   3   8  16   2  26  18]\n",
      " [ 13   4 162  18   8   7  11   0   3   8]\n",
      " [ 22  28  18 134  13  34  13   5  28  14]\n",
      " [  9  11   5  16  48  19   5   8  15   9]\n",
      " [ 14  12   8  27  16 119  21  13  40  23]\n",
      " [ 26  16  22  13  15  19  72   6  15  36]\n",
      " [  4   2   3   5   6   8   3   7   6  10]\n",
      " [ 71  32   9  27  15  45  11  11 586  47]\n",
      " [ 22  20   8  19   9  10  37  16  24 115]]\n"
     ]
    }
   ],
   "source": [
    "y_predict = classifier_tree.fit(Ftrain, Ltrain).predict(Ftest)\n",
    "class_names = target.unique()\n",
    "print(classification_report(Ltest, y_predict, target_names=class_names))\n",
    "print(confusion_matrix(Ltest, y_predict))"
   ]
  },
  {
   "cell_type": "markdown",
   "id": "c9daaaee",
   "metadata": {},
   "source": [
    "# KNN on grayscale data"
   ]
  },
  {
   "cell_type": "code",
   "execution_count": 26,
   "id": "57a9845e",
   "metadata": {},
   "outputs": [],
   "source": [
    "#reading numpy array data\n",
    "gray_test = np.load('gray_test.npy')\n",
    "#reading csv file\n",
    "gray_df = pd.read_csv('gray_data.csv')"
   ]
  },
  {
   "cell_type": "code",
   "execution_count": 27,
   "id": "25d4fea2",
   "metadata": {},
   "outputs": [],
   "source": [
    "loaded = []\n",
    "for i in gray_test:\n",
    "    k = []\n",
    "    k = np.asarray(i,dtype='uint8')\n",
    "    loaded.append(k)"
   ]
  },
  {
   "cell_type": "code",
   "execution_count": 28,
   "id": "d3abef95",
   "metadata": {},
   "outputs": [],
   "source": [
    "features = loaded\n",
    "target = gray_df['disease']"
   ]
  },
  {
   "cell_type": "code",
   "execution_count": 29,
   "id": "6f75adfd",
   "metadata": {},
   "outputs": [
    {
     "data": {
      "text/plain": [
       "0.5724114207086344"
      ]
     },
     "execution_count": 29,
     "metadata": {},
     "output_type": "execute_result"
    }
   ],
   "source": [
    "kmodel.fit(Ftrain,Ltrain)\n",
    "kmodel.score(Ftest,Ltest)"
   ]
  },
  {
   "cell_type": "code",
   "execution_count": 30,
   "id": "20df9552",
   "metadata": {},
   "outputs": [
    {
     "name": "stdout",
     "output_type": "stream",
     "text": [
      "                               precision    recall  f1-score   support\n",
      "\n",
      "               bacterial_spot       0.35      0.82      0.49       345\n",
      "                 early_blight       0.00      0.00      0.00       153\n",
      "                      healthy       0.46      0.77      0.58       234\n",
      "                  late_blight       0.57      0.42      0.48       309\n",
      "                    leaf_mold       0.69      0.53      0.60       145\n",
      "           septoria_leaf_spot       0.72      0.36      0.48       293\n",
      "                  target_spot       0.55      0.23      0.32       240\n",
      "          tomato_mosaic_virus       0.79      0.20      0.32        54\n",
      "tomato_yellow_leaf_curl_virus       0.82      0.79      0.80       854\n",
      "      two-spotted_spider_mite       0.52      0.53      0.52       280\n",
      "\n",
      "                     accuracy                           0.57      2907\n",
      "                    macro avg       0.55      0.47      0.46      2907\n",
      "                 weighted avg       0.60      0.57      0.55      2907\n",
      "\n",
      "[[283   0  31   9   0   0   1   0  19   2]\n",
      " [ 94   0  10   3   0   5  13   0  19   9]\n",
      " [ 31   0 181  14   0   0   2   0   1   5]\n",
      " [ 55   0  44 130  15  24   4   1  23  13]\n",
      " [ 19   0  12  14  77   1   1   1  11   9]\n",
      " [ 28   0  32  39  15 105  15   0  31  28]\n",
      " [105   0  28   3   0   3  54   1   8  38]\n",
      " [  6   0   8   7   4   1   0  11   6  11]\n",
      " [109   0  39   1   0   6   0   0 674  25]\n",
      " [ 69   0  10   9   0   1   8   0  34 149]]\n"
     ]
    },
    {
     "name": "stderr",
     "output_type": "stream",
     "text": [
      "C:\\Users\\ravic\\anaconda3\\lib\\site-packages\\sklearn\\metrics\\_classification.py:1248: UndefinedMetricWarning: Precision and F-score are ill-defined and being set to 0.0 in labels with no predicted samples. Use `zero_division` parameter to control this behavior.\n",
      "  _warn_prf(average, modifier, msg_start, len(result))\n",
      "C:\\Users\\ravic\\anaconda3\\lib\\site-packages\\sklearn\\metrics\\_classification.py:1248: UndefinedMetricWarning: Precision and F-score are ill-defined and being set to 0.0 in labels with no predicted samples. Use `zero_division` parameter to control this behavior.\n",
      "  _warn_prf(average, modifier, msg_start, len(result))\n",
      "C:\\Users\\ravic\\anaconda3\\lib\\site-packages\\sklearn\\metrics\\_classification.py:1248: UndefinedMetricWarning: Precision and F-score are ill-defined and being set to 0.0 in labels with no predicted samples. Use `zero_division` parameter to control this behavior.\n",
      "  _warn_prf(average, modifier, msg_start, len(result))\n"
     ]
    }
   ],
   "source": [
    "y_predict = kmodel.fit(Ftrain, Ltrain).predict(Ftest)\n",
    "class_names = target.unique()\n",
    "print(classification_report(Ltest, y_predict, target_names=class_names))\n",
    "print(confusion_matrix(Ltest, y_predict))"
   ]
  },
  {
   "cell_type": "markdown",
   "id": "197eedfc",
   "metadata": {},
   "source": [
    "# Logistic on grayscale data"
   ]
  },
  {
   "cell_type": "code",
   "execution_count": 31,
   "id": "9fd6cafe",
   "metadata": {},
   "outputs": [
    {
     "name": "stderr",
     "output_type": "stream",
     "text": [
      "C:\\Users\\ravic\\anaconda3\\lib\\site-packages\\sklearn\\linear_model\\_logistic.py:763: ConvergenceWarning: lbfgs failed to converge (status=1):\n",
      "STOP: TOTAL NO. of ITERATIONS REACHED LIMIT.\n",
      "\n",
      "Increase the number of iterations (max_iter) or scale the data as shown in:\n",
      "    https://scikit-learn.org/stable/modules/preprocessing.html\n",
      "Please also refer to the documentation for alternative solver options:\n",
      "    https://scikit-learn.org/stable/modules/linear_model.html#logistic-regression\n",
      "  n_iter_i = _check_optimize_result(\n"
     ]
    },
    {
     "data": {
      "text/plain": [
       "0.6216030271757826"
      ]
     },
     "execution_count": 31,
     "metadata": {},
     "output_type": "execute_result"
    }
   ],
   "source": [
    "from sklearn.linear_model import LogisticRegression\n",
    "model=LogisticRegression(solver='lbfgs', max_iter=10000)\n",
    "model.fit(Ftrain,Ltrain)\n",
    "model.score(Ftest,Ltest)"
   ]
  },
  {
   "cell_type": "code",
   "execution_count": 32,
   "id": "834920c5",
   "metadata": {},
   "outputs": [
    {
     "name": "stdout",
     "output_type": "stream",
     "text": [
      "                               precision    recall  f1-score   support\n",
      "\n",
      "               bacterial_spot       0.57      0.72      0.63       345\n",
      "                 early_blight       0.29      0.33      0.30       153\n",
      "                      healthy       0.59      0.62      0.60       234\n",
      "                  late_blight       0.49      0.46      0.47       309\n",
      "                    leaf_mold       0.53      0.54      0.54       145\n",
      "           septoria_leaf_spot       0.52      0.49      0.51       293\n",
      "                  target_spot       0.49      0.45      0.47       240\n",
      "          tomato_mosaic_virus       0.67      0.67      0.67        54\n",
      "tomato_yellow_leaf_curl_virus       0.90      0.83      0.86       854\n",
      "      two-spotted_spider_mite       0.54      0.54      0.54       280\n",
      "\n",
      "                     accuracy                           0.62      2907\n",
      "                    macro avg       0.56      0.56      0.56      2907\n",
      "                 weighted avg       0.63      0.62      0.62      2907\n",
      "\n",
      "[[247  24  10  20   2  11   4   0  21   6]\n",
      " [ 19  50   8  26   6   5  12   1  12  14]\n",
      " [  6  10 144  19   7  12  27   0   0   9]\n",
      " [ 36  26  18 142  11  29  10   2  12  23]\n",
      " [  3   6   9  12  79  24   3   0   3   6]\n",
      " [ 22  12  18  29  21 144  12   9  14  12]\n",
      " [ 17  11  25  10   8  19 107   1   3  39]\n",
      " [  0   1   1   0   4   5   5  36   1   1]\n",
      " [ 60  14   1  20   5  18  11   0 706  19]\n",
      " [ 23  21  11  14   5   8  26   5  15 152]]\n"
     ]
    },
    {
     "name": "stderr",
     "output_type": "stream",
     "text": [
      "C:\\Users\\ravic\\anaconda3\\lib\\site-packages\\sklearn\\linear_model\\_logistic.py:763: ConvergenceWarning: lbfgs failed to converge (status=1):\n",
      "STOP: TOTAL NO. of ITERATIONS REACHED LIMIT.\n",
      "\n",
      "Increase the number of iterations (max_iter) or scale the data as shown in:\n",
      "    https://scikit-learn.org/stable/modules/preprocessing.html\n",
      "Please also refer to the documentation for alternative solver options:\n",
      "    https://scikit-learn.org/stable/modules/linear_model.html#logistic-regression\n",
      "  n_iter_i = _check_optimize_result(\n"
     ]
    }
   ],
   "source": [
    "y_predict = model.fit(Ftrain, Ltrain).predict(Ftest)\n",
    "class_names = target.unique()\n",
    "print(classification_report(Ltest, y_predict, target_names=class_names))\n",
    "print(confusion_matrix(Ltest, y_predict))"
   ]
  },
  {
   "cell_type": "markdown",
   "id": "5284f869",
   "metadata": {},
   "source": [
    "# SVM on Grayscale data"
   ]
  },
  {
   "cell_type": "code",
   "execution_count": 33,
   "id": "d0db5c80",
   "metadata": {},
   "outputs": [
    {
     "name": "stdout",
     "output_type": "stream",
     "text": [
      "0.7268661850705195\n"
     ]
    }
   ],
   "source": [
    "clf = SVC(kernel='linear')\n",
    "clf.fit(Ftrain,Ltrain)\n",
    "y_pred = clf.predict(Ftest)\n",
    "print(accuracy_score(Ltest,y_pred))"
   ]
  },
  {
   "cell_type": "code",
   "execution_count": 34,
   "id": "05d3b675",
   "metadata": {},
   "outputs": [
    {
     "name": "stdout",
     "output_type": "stream",
     "text": [
      "                               precision    recall  f1-score   support\n",
      "\n",
      "               bacterial_spot       0.64      0.82      0.72       345\n",
      "                 early_blight       0.37      0.36      0.37       153\n",
      "                      healthy       0.75      0.80      0.77       234\n",
      "                  late_blight       0.66      0.65      0.65       309\n",
      "                    leaf_mold       0.65      0.60      0.62       145\n",
      "           septoria_leaf_spot       0.69      0.67      0.68       293\n",
      "                  target_spot       0.65      0.57      0.60       240\n",
      "          tomato_mosaic_virus       0.77      0.87      0.82        54\n",
      "tomato_yellow_leaf_curl_virus       0.91      0.86      0.89       854\n",
      "      two-spotted_spider_mite       0.70      0.66      0.68       280\n",
      "\n",
      "                     accuracy                           0.73      2907\n",
      "                    macro avg       0.68      0.69      0.68      2907\n",
      "                 weighted avg       0.73      0.73      0.73      2907\n",
      "\n",
      "[[284  15   2  11   0   2   2   0  28   1]\n",
      " [ 32  55   2  26   1   5   8   0   9  15]\n",
      " [  1   9 188  11   4   5  11   0   0   5]\n",
      " [ 31  15  17 200  11  17   2   0   8   8]\n",
      " [  3   4   4  11  87  24   2   3   5   2]\n",
      " [  6   9  14  20  13 195  14   7   8   7]\n",
      " [  8  23  16   2   7  14 136   1   0  33]\n",
      " [  0   0   0   0   1   6   0  47   0   0]\n",
      " [ 72   6   0  17   3   4   6   0 737   9]\n",
      " [  8  11   9   7   7   9  29   3  13 184]]\n"
     ]
    }
   ],
   "source": [
    "y_predict = clf.fit(Ftrain, Ltrain).predict(Ftest)\n",
    "class_names = target.unique()\n",
    "print(classification_report(Ltest, y_predict, target_names=class_names))\n",
    "print(confusion_matrix(Ltest, y_predict))"
   ]
  },
  {
   "cell_type": "markdown",
   "id": "576fd580",
   "metadata": {},
   "source": [
    "# Random Forest on Grayscale"
   ]
  },
  {
   "cell_type": "code",
   "execution_count": 35,
   "id": "9dfa979e",
   "metadata": {},
   "outputs": [
    {
     "data": {
      "text/plain": [
       "RandomForestClassifier(max_depth=5, n_jobs=-1, oob_score=True, random_state=42)"
      ]
     },
     "execution_count": 35,
     "metadata": {},
     "output_type": "execute_result"
    }
   ],
   "source": [
    "classifier_rf.fit(Ftrain, Ltrain)"
   ]
  },
  {
   "cell_type": "code",
   "execution_count": 36,
   "id": "2b4347ef",
   "metadata": {},
   "outputs": [
    {
     "data": {
      "text/plain": [
       "0.557381280110117"
      ]
     },
     "execution_count": 36,
     "metadata": {},
     "output_type": "execute_result"
    }
   ],
   "source": [
    "classifier_rf.oob_score_"
   ]
  },
  {
   "cell_type": "code",
   "execution_count": 37,
   "id": "8b7d285d",
   "metadata": {},
   "outputs": [
    {
     "name": "stdout",
     "output_type": "stream",
     "text": [
      "                               precision    recall  f1-score   support\n",
      "\n",
      "               bacterial_spot       0.73      0.57      0.64       345\n",
      "                 early_blight       0.00      0.00      0.00       153\n",
      "                      healthy       0.58      0.91      0.71       234\n",
      "                  late_blight       0.70      0.29      0.41       309\n",
      "                    leaf_mold       0.78      0.30      0.43       145\n",
      "           septoria_leaf_spot       0.56      0.44      0.49       293\n",
      "                  target_spot       0.53      0.38      0.44       240\n",
      "          tomato_mosaic_virus       0.00      0.00      0.00        54\n",
      "tomato_yellow_leaf_curl_virus       0.51      0.98      0.67       854\n",
      "      two-spotted_spider_mite       0.69      0.16      0.27       280\n",
      "\n",
      "                     accuracy                           0.56      2907\n",
      "                    macro avg       0.51      0.40      0.41      2907\n",
      "                 weighted avg       0.56      0.56      0.51      2907\n",
      "\n",
      "[[195   0  17   5   0   0   3   0 125   0]\n",
      " [ 19   0   6   3   0  18  15   0  89   3]\n",
      " [  3   0 213   1   0   1   1   0  14   1]\n",
      " [  4   0  67  89   4  37  10   0  95   3]\n",
      " [  8   0  22  12  43   6   5   0  49   0]\n",
      " [  6   0  10   7   6 129   3   0 132   0]\n",
      " [ 16   0  15   3   0  26  90   0  80  10]\n",
      " [  2   0   6   5   2   3   1   0  31   4]\n",
      " [  5   0   2   3   0   6   1   0 837   0]\n",
      " [  9   0   7   0   0   3  41   0 174  46]]\n"
     ]
    },
    {
     "name": "stderr",
     "output_type": "stream",
     "text": [
      "C:\\Users\\ravic\\anaconda3\\lib\\site-packages\\sklearn\\metrics\\_classification.py:1248: UndefinedMetricWarning: Precision and F-score are ill-defined and being set to 0.0 in labels with no predicted samples. Use `zero_division` parameter to control this behavior.\n",
      "  _warn_prf(average, modifier, msg_start, len(result))\n",
      "C:\\Users\\ravic\\anaconda3\\lib\\site-packages\\sklearn\\metrics\\_classification.py:1248: UndefinedMetricWarning: Precision and F-score are ill-defined and being set to 0.0 in labels with no predicted samples. Use `zero_division` parameter to control this behavior.\n",
      "  _warn_prf(average, modifier, msg_start, len(result))\n",
      "C:\\Users\\ravic\\anaconda3\\lib\\site-packages\\sklearn\\metrics\\_classification.py:1248: UndefinedMetricWarning: Precision and F-score are ill-defined and being set to 0.0 in labels with no predicted samples. Use `zero_division` parameter to control this behavior.\n",
      "  _warn_prf(average, modifier, msg_start, len(result))\n"
     ]
    }
   ],
   "source": [
    "y_predict = classifier_rf.fit(Ftrain, Ltrain).predict(Ftest)\n",
    "class_names = target.unique()\n",
    "print(classification_report(Ltest, y_predict, target_names=class_names))\n",
    "print(confusion_matrix(Ltest, y_predict))"
   ]
  },
  {
   "cell_type": "markdown",
   "id": "8befce61",
   "metadata": {},
   "source": [
    "# Naive bayes on Grayscale"
   ]
  },
  {
   "cell_type": "code",
   "execution_count": 38,
   "id": "0d1a6d3b",
   "metadata": {},
   "outputs": [
    {
     "data": {
      "text/plain": [
       "GaussianNB()"
      ]
     },
     "execution_count": 38,
     "metadata": {},
     "output_type": "execute_result"
    }
   ],
   "source": [
    "gnb.fit(Ftrain, Ltrain)"
   ]
  },
  {
   "cell_type": "code",
   "execution_count": 39,
   "id": "053c9a09",
   "metadata": {},
   "outputs": [
    {
     "data": {
      "text/plain": [
       "0.5067079463364293"
      ]
     },
     "execution_count": 39,
     "metadata": {},
     "output_type": "execute_result"
    }
   ],
   "source": [
    "y_pred = gnb.predict(Ftest)\n",
    "metrics.accuracy_score(Ltest, y_pred)"
   ]
  },
  {
   "cell_type": "code",
   "execution_count": 40,
   "id": "0e53ae2c",
   "metadata": {},
   "outputs": [
    {
     "name": "stdout",
     "output_type": "stream",
     "text": [
      "                               precision    recall  f1-score   support\n",
      "\n",
      "               bacterial_spot       0.53      0.76      0.62       345\n",
      "                 early_blight       0.23      0.32      0.27       153\n",
      "                      healthy       0.43      0.69      0.53       234\n",
      "                  late_blight       0.49      0.29      0.37       309\n",
      "                    leaf_mold       0.53      0.43      0.48       145\n",
      "           septoria_leaf_spot       0.45      0.46      0.45       293\n",
      "                  target_spot       0.54      0.45      0.49       240\n",
      "          tomato_mosaic_virus       0.19      0.72      0.30        54\n",
      "tomato_yellow_leaf_curl_virus       0.88      0.50      0.64       854\n",
      "      two-spotted_spider_mite       0.41      0.48      0.44       280\n",
      "\n",
      "                     accuracy                           0.51      2907\n",
      "                    macro avg       0.47      0.51      0.46      2907\n",
      "                 weighted avg       0.58      0.51      0.52      2907\n",
      "\n",
      "[[261   7  31   8   0   2   6   6  20   4]\n",
      " [ 36  49   2  24   0  10  17   4   4   7]\n",
      " [  9   6 162   8   6   3  22   7   2   9]\n",
      " [  3  49  92  90  18  30   6  13   4   4]\n",
      " [  6   6   5  13  63  23   1  21   2   5]\n",
      " [  6  10  39   7  18 134  19  19  14  27]\n",
      " [ 18  14   2   7   3  23 109  11   2  51]\n",
      " [  5   0   3   0   1   3   0  39   1   2]\n",
      " [135  43  39  22   6  51   2  40 431  85]\n",
      " [ 14  25   6   5   3  22  19  42   9 135]]\n"
     ]
    }
   ],
   "source": [
    "class_names = target.unique()\n",
    "print(classification_report(Ltest, y_pred, target_names=class_names))\n",
    "print(confusion_matrix(Ltest, y_pred))"
   ]
  },
  {
   "cell_type": "markdown",
   "id": "af8a8fca",
   "metadata": {},
   "source": [
    "# Decision Tree on Grayscale"
   ]
  },
  {
   "cell_type": "code",
   "execution_count": 41,
   "id": "4d1eb3ec",
   "metadata": {},
   "outputs": [
    {
     "data": {
      "text/plain": [
       "0.5094599243206054"
      ]
     },
     "execution_count": 41,
     "metadata": {},
     "output_type": "execute_result"
    }
   ],
   "source": [
    "classifier_tree.fit(Ftrain, Ltrain)\n",
    "classifier_tree.score(Ftest,Ltest)"
   ]
  },
  {
   "cell_type": "code",
   "execution_count": 42,
   "id": "5e93e78c",
   "metadata": {},
   "outputs": [
    {
     "name": "stdout",
     "output_type": "stream",
     "text": [
      "                               precision    recall  f1-score   support\n",
      "\n",
      "               bacterial_spot       0.48      0.57      0.52       345\n",
      "                 early_blight       0.13      0.16      0.15       153\n",
      "                      healthy       0.65      0.67      0.66       234\n",
      "                  late_blight       0.46      0.43      0.44       309\n",
      "                    leaf_mold       0.38      0.34      0.36       145\n",
      "           septoria_leaf_spot       0.45      0.42      0.43       293\n",
      "                  target_spot       0.34      0.31      0.32       240\n",
      "          tomato_mosaic_virus       0.12      0.13      0.12        54\n",
      "tomato_yellow_leaf_curl_virus       0.73      0.70      0.71       854\n",
      "      two-spotted_spider_mite       0.40      0.40      0.40       280\n",
      "\n",
      "                     accuracy                           0.51      2907\n",
      "                    macro avg       0.41      0.41      0.41      2907\n",
      "                 weighted avg       0.51      0.51      0.51      2907\n",
      "\n",
      "[[198  16  11  22   8  14   9   3  48  16]\n",
      " [ 27  24   5  21   3   5  21   3  28  16]\n",
      " [ 11   9 156  19   5   9  12   3   3   7]\n",
      " [ 23  25  13 133  12  28  17   4  32  22]\n",
      " [ 11  13   8  12  49  18   5   7  15   7]\n",
      " [ 17  13   9  24  17 122  24   9  42  16]\n",
      " [ 19  19  19  16  13  19  74   4  24  33]\n",
      " [  6   4   4   3   6   9   3   7   6   6]\n",
      " [ 81  28   8  21   9  40  14  10 597  46]\n",
      " [ 19  27   7  21   6   8  41  10  28 113]]\n"
     ]
    }
   ],
   "source": [
    "y_predict = classifier_tree.fit(Ftrain, Ltrain).predict(Ftest)\n",
    "class_names = target.unique()\n",
    "print(classification_report(Ltest, y_predict, target_names=class_names))\n",
    "print(confusion_matrix(Ltest, y_predict))"
   ]
  },
  {
   "cell_type": "markdown",
   "id": "e42f549f",
   "metadata": {},
   "source": [
    "# KNN on Red channel data"
   ]
  },
  {
   "cell_type": "code",
   "execution_count": 43,
   "id": "cb75cbbd",
   "metadata": {},
   "outputs": [],
   "source": [
    "#reading numpy array data\n",
    "red_test = np.load('red_data.npy')\n",
    "#reading csv file\n",
    "red_df = pd.read_csv('red_data.csv')"
   ]
  },
  {
   "cell_type": "code",
   "execution_count": 44,
   "id": "7fda7839",
   "metadata": {},
   "outputs": [],
   "source": [
    "loaded = []\n",
    "for i in red_test:\n",
    "    k = []\n",
    "    k = np.asarray(i,dtype='uint8')\n",
    "    loaded.append(k)\n",
    "features = loaded\n",
    "target = red_df['disease']"
   ]
  },
  {
   "cell_type": "code",
   "execution_count": 45,
   "id": "683839f2",
   "metadata": {},
   "outputs": [
    {
     "data": {
      "text/plain": [
       "0.5724114207086344"
      ]
     },
     "execution_count": 45,
     "metadata": {},
     "output_type": "execute_result"
    }
   ],
   "source": [
    "kmodel.fit(Ftrain,Ltrain)\n",
    "kmodel.score(Ftest,Ltest)"
   ]
  },
  {
   "cell_type": "code",
   "execution_count": 46,
   "id": "a5863749",
   "metadata": {},
   "outputs": [
    {
     "name": "stdout",
     "output_type": "stream",
     "text": [
      "                               precision    recall  f1-score   support\n",
      "\n",
      "               bacterial_spot       0.35      0.82      0.49       345\n",
      "                 early_blight       0.00      0.00      0.00       153\n",
      "                      healthy       0.46      0.77      0.58       234\n",
      "                  late_blight       0.57      0.42      0.48       309\n",
      "                    leaf_mold       0.69      0.53      0.60       145\n",
      "           septoria_leaf_spot       0.72      0.36      0.48       293\n",
      "                  target_spot       0.55      0.23      0.32       240\n",
      "          tomato_mosaic_virus       0.79      0.20      0.32        54\n",
      "tomato_yellow_leaf_curl_virus       0.82      0.79      0.80       854\n",
      "      two-spotted_spider_mite       0.52      0.53      0.52       280\n",
      "\n",
      "                     accuracy                           0.57      2907\n",
      "                    macro avg       0.55      0.47      0.46      2907\n",
      "                 weighted avg       0.60      0.57      0.55      2907\n",
      "\n",
      "[[283   0  31   9   0   0   1   0  19   2]\n",
      " [ 94   0  10   3   0   5  13   0  19   9]\n",
      " [ 31   0 181  14   0   0   2   0   1   5]\n",
      " [ 55   0  44 130  15  24   4   1  23  13]\n",
      " [ 19   0  12  14  77   1   1   1  11   9]\n",
      " [ 28   0  32  39  15 105  15   0  31  28]\n",
      " [105   0  28   3   0   3  54   1   8  38]\n",
      " [  6   0   8   7   4   1   0  11   6  11]\n",
      " [109   0  39   1   0   6   0   0 674  25]\n",
      " [ 69   0  10   9   0   1   8   0  34 149]]\n"
     ]
    },
    {
     "name": "stderr",
     "output_type": "stream",
     "text": [
      "C:\\Users\\ravic\\anaconda3\\lib\\site-packages\\sklearn\\metrics\\_classification.py:1248: UndefinedMetricWarning: Precision and F-score are ill-defined and being set to 0.0 in labels with no predicted samples. Use `zero_division` parameter to control this behavior.\n",
      "  _warn_prf(average, modifier, msg_start, len(result))\n",
      "C:\\Users\\ravic\\anaconda3\\lib\\site-packages\\sklearn\\metrics\\_classification.py:1248: UndefinedMetricWarning: Precision and F-score are ill-defined and being set to 0.0 in labels with no predicted samples. Use `zero_division` parameter to control this behavior.\n",
      "  _warn_prf(average, modifier, msg_start, len(result))\n",
      "C:\\Users\\ravic\\anaconda3\\lib\\site-packages\\sklearn\\metrics\\_classification.py:1248: UndefinedMetricWarning: Precision and F-score are ill-defined and being set to 0.0 in labels with no predicted samples. Use `zero_division` parameter to control this behavior.\n",
      "  _warn_prf(average, modifier, msg_start, len(result))\n"
     ]
    }
   ],
   "source": [
    "y_predict = kmodel.fit(Ftrain, Ltrain).predict(Ftest)\n",
    "class_names = target.unique()\n",
    "print(classification_report(Ltest, y_predict, target_names=class_names))\n",
    "print(confusion_matrix(Ltest, y_predict))"
   ]
  },
  {
   "cell_type": "markdown",
   "id": "ffcda594",
   "metadata": {},
   "source": [
    "# Logistic on Red channel data"
   ]
  },
  {
   "cell_type": "code",
   "execution_count": 47,
   "id": "1ed4037b",
   "metadata": {},
   "outputs": [
    {
     "name": "stderr",
     "output_type": "stream",
     "text": [
      "C:\\Users\\ravic\\anaconda3\\lib\\site-packages\\sklearn\\linear_model\\_logistic.py:763: ConvergenceWarning: lbfgs failed to converge (status=1):\n",
      "STOP: TOTAL NO. of ITERATIONS REACHED LIMIT.\n",
      "\n",
      "Increase the number of iterations (max_iter) or scale the data as shown in:\n",
      "    https://scikit-learn.org/stable/modules/preprocessing.html\n",
      "Please also refer to the documentation for alternative solver options:\n",
      "    https://scikit-learn.org/stable/modules/linear_model.html#logistic-regression\n",
      "  n_iter_i = _check_optimize_result(\n"
     ]
    },
    {
     "data": {
      "text/plain": [
       "0.6216030271757826"
      ]
     },
     "execution_count": 47,
     "metadata": {},
     "output_type": "execute_result"
    }
   ],
   "source": [
    "model.fit(Ftrain,Ltrain)\n",
    "model.score(Ftest,Ltest)"
   ]
  },
  {
   "cell_type": "code",
   "execution_count": 48,
   "id": "19a14de1",
   "metadata": {},
   "outputs": [
    {
     "name": "stdout",
     "output_type": "stream",
     "text": [
      "                               precision    recall  f1-score   support\n",
      "\n",
      "               bacterial_spot       0.57      0.72      0.63       345\n",
      "                 early_blight       0.29      0.33      0.30       153\n",
      "                      healthy       0.59      0.62      0.60       234\n",
      "                  late_blight       0.49      0.46      0.47       309\n",
      "                    leaf_mold       0.53      0.54      0.54       145\n",
      "           septoria_leaf_spot       0.52      0.49      0.51       293\n",
      "                  target_spot       0.49      0.45      0.47       240\n",
      "          tomato_mosaic_virus       0.67      0.67      0.67        54\n",
      "tomato_yellow_leaf_curl_virus       0.90      0.83      0.86       854\n",
      "      two-spotted_spider_mite       0.54      0.54      0.54       280\n",
      "\n",
      "                     accuracy                           0.62      2907\n",
      "                    macro avg       0.56      0.56      0.56      2907\n",
      "                 weighted avg       0.63      0.62      0.62      2907\n",
      "\n",
      "[[247  24  10  20   2  11   4   0  21   6]\n",
      " [ 19  50   8  26   6   5  12   1  12  14]\n",
      " [  6  10 144  19   7  12  27   0   0   9]\n",
      " [ 36  26  18 142  11  29  10   2  12  23]\n",
      " [  3   6   9  12  79  24   3   0   3   6]\n",
      " [ 22  12  18  29  21 144  12   9  14  12]\n",
      " [ 17  11  25  10   8  19 107   1   3  39]\n",
      " [  0   1   1   0   4   5   5  36   1   1]\n",
      " [ 60  14   1  20   5  18  11   0 706  19]\n",
      " [ 23  21  11  14   5   8  26   5  15 152]]\n"
     ]
    },
    {
     "name": "stderr",
     "output_type": "stream",
     "text": [
      "C:\\Users\\ravic\\anaconda3\\lib\\site-packages\\sklearn\\linear_model\\_logistic.py:763: ConvergenceWarning: lbfgs failed to converge (status=1):\n",
      "STOP: TOTAL NO. of ITERATIONS REACHED LIMIT.\n",
      "\n",
      "Increase the number of iterations (max_iter) or scale the data as shown in:\n",
      "    https://scikit-learn.org/stable/modules/preprocessing.html\n",
      "Please also refer to the documentation for alternative solver options:\n",
      "    https://scikit-learn.org/stable/modules/linear_model.html#logistic-regression\n",
      "  n_iter_i = _check_optimize_result(\n"
     ]
    }
   ],
   "source": [
    "y_predict = model.fit(Ftrain, Ltrain).predict(Ftest)\n",
    "class_names = target.unique()\n",
    "print(classification_report(Ltest, y_predict, target_names=class_names))\n",
    "print(confusion_matrix(Ltest, y_predict))"
   ]
  },
  {
   "cell_type": "markdown",
   "id": "dba6d5ce",
   "metadata": {},
   "source": [
    "# SVM on Red channel data"
   ]
  },
  {
   "cell_type": "code",
   "execution_count": 49,
   "id": "6ed153f7",
   "metadata": {},
   "outputs": [
    {
     "name": "stdout",
     "output_type": "stream",
     "text": [
      "0.7268661850705195\n"
     ]
    }
   ],
   "source": [
    "clf.fit(Ftrain,Ltrain)\n",
    "y_pred = clf.predict(Ftest)\n",
    "print(accuracy_score(Ltest,y_pred))"
   ]
  },
  {
   "cell_type": "code",
   "execution_count": 50,
   "id": "369f8272",
   "metadata": {},
   "outputs": [
    {
     "name": "stdout",
     "output_type": "stream",
     "text": [
      "                               precision    recall  f1-score   support\n",
      "\n",
      "               bacterial_spot       0.64      0.82      0.72       345\n",
      "                 early_blight       0.37      0.36      0.37       153\n",
      "                      healthy       0.75      0.80      0.77       234\n",
      "                  late_blight       0.66      0.65      0.65       309\n",
      "                    leaf_mold       0.65      0.60      0.62       145\n",
      "           septoria_leaf_spot       0.69      0.67      0.68       293\n",
      "                  target_spot       0.65      0.57      0.60       240\n",
      "          tomato_mosaic_virus       0.77      0.87      0.82        54\n",
      "tomato_yellow_leaf_curl_virus       0.91      0.86      0.89       854\n",
      "      two-spotted_spider_mite       0.70      0.66      0.68       280\n",
      "\n",
      "                     accuracy                           0.73      2907\n",
      "                    macro avg       0.68      0.69      0.68      2907\n",
      "                 weighted avg       0.73      0.73      0.73      2907\n",
      "\n",
      "[[284  15   2  11   0   2   2   0  28   1]\n",
      " [ 32  55   2  26   1   5   8   0   9  15]\n",
      " [  1   9 188  11   4   5  11   0   0   5]\n",
      " [ 31  15  17 200  11  17   2   0   8   8]\n",
      " [  3   4   4  11  87  24   2   3   5   2]\n",
      " [  6   9  14  20  13 195  14   7   8   7]\n",
      " [  8  23  16   2   7  14 136   1   0  33]\n",
      " [  0   0   0   0   1   6   0  47   0   0]\n",
      " [ 72   6   0  17   3   4   6   0 737   9]\n",
      " [  8  11   9   7   7   9  29   3  13 184]]\n"
     ]
    }
   ],
   "source": [
    "y_predict = clf.fit(Ftrain, Ltrain).predict(Ftest)\n",
    "class_names = target.unique()\n",
    "print(classification_report(Ltest, y_predict, target_names=class_names))\n",
    "print(confusion_matrix(Ltest, y_predict))"
   ]
  },
  {
   "cell_type": "markdown",
   "id": "a670c4d4",
   "metadata": {},
   "source": [
    "# Random forest on Red channel data"
   ]
  },
  {
   "cell_type": "code",
   "execution_count": 51,
   "id": "9e816e9e",
   "metadata": {},
   "outputs": [
    {
     "data": {
      "text/plain": [
       "0.557381280110117"
      ]
     },
     "execution_count": 51,
     "metadata": {},
     "output_type": "execute_result"
    }
   ],
   "source": [
    "classifier_rf.fit(Ftrain, Ltrain)\n",
    "classifier_rf.oob_score_"
   ]
  },
  {
   "cell_type": "code",
   "execution_count": 52,
   "id": "e404f49d",
   "metadata": {},
   "outputs": [
    {
     "name": "stdout",
     "output_type": "stream",
     "text": [
      "                               precision    recall  f1-score   support\n",
      "\n",
      "               bacterial_spot       0.73      0.57      0.64       345\n",
      "                 early_blight       0.00      0.00      0.00       153\n",
      "                      healthy       0.58      0.91      0.71       234\n",
      "                  late_blight       0.70      0.29      0.41       309\n",
      "                    leaf_mold       0.78      0.30      0.43       145\n",
      "           septoria_leaf_spot       0.56      0.44      0.49       293\n",
      "                  target_spot       0.53      0.38      0.44       240\n",
      "          tomato_mosaic_virus       0.00      0.00      0.00        54\n",
      "tomato_yellow_leaf_curl_virus       0.51      0.98      0.67       854\n",
      "      two-spotted_spider_mite       0.69      0.16      0.27       280\n",
      "\n",
      "                     accuracy                           0.56      2907\n",
      "                    macro avg       0.51      0.40      0.41      2907\n",
      "                 weighted avg       0.56      0.56      0.51      2907\n",
      "\n",
      "[[195   0  17   5   0   0   3   0 125   0]\n",
      " [ 19   0   6   3   0  18  15   0  89   3]\n",
      " [  3   0 213   1   0   1   1   0  14   1]\n",
      " [  4   0  67  89   4  37  10   0  95   3]\n",
      " [  8   0  22  12  43   6   5   0  49   0]\n",
      " [  6   0  10   7   6 129   3   0 132   0]\n",
      " [ 16   0  15   3   0  26  90   0  80  10]\n",
      " [  2   0   6   5   2   3   1   0  31   4]\n",
      " [  5   0   2   3   0   6   1   0 837   0]\n",
      " [  9   0   7   0   0   3  41   0 174  46]]\n"
     ]
    },
    {
     "name": "stderr",
     "output_type": "stream",
     "text": [
      "C:\\Users\\ravic\\anaconda3\\lib\\site-packages\\sklearn\\metrics\\_classification.py:1248: UndefinedMetricWarning: Precision and F-score are ill-defined and being set to 0.0 in labels with no predicted samples. Use `zero_division` parameter to control this behavior.\n",
      "  _warn_prf(average, modifier, msg_start, len(result))\n",
      "C:\\Users\\ravic\\anaconda3\\lib\\site-packages\\sklearn\\metrics\\_classification.py:1248: UndefinedMetricWarning: Precision and F-score are ill-defined and being set to 0.0 in labels with no predicted samples. Use `zero_division` parameter to control this behavior.\n",
      "  _warn_prf(average, modifier, msg_start, len(result))\n",
      "C:\\Users\\ravic\\anaconda3\\lib\\site-packages\\sklearn\\metrics\\_classification.py:1248: UndefinedMetricWarning: Precision and F-score are ill-defined and being set to 0.0 in labels with no predicted samples. Use `zero_division` parameter to control this behavior.\n",
      "  _warn_prf(average, modifier, msg_start, len(result))\n"
     ]
    }
   ],
   "source": [
    "y_predict = classifier_rf.fit(Ftrain, Ltrain).predict(Ftest)\n",
    "class_names = target.unique()\n",
    "print(classification_report(Ltest, y_predict, target_names=class_names))\n",
    "print(confusion_matrix(Ltest, y_predict))"
   ]
  },
  {
   "cell_type": "markdown",
   "id": "e1c2d95a",
   "metadata": {},
   "source": [
    "# Naive Bayes on Red channel data"
   ]
  },
  {
   "cell_type": "code",
   "execution_count": 53,
   "id": "8ec0753c",
   "metadata": {},
   "outputs": [
    {
     "data": {
      "text/plain": [
       "GaussianNB()"
      ]
     },
     "execution_count": 53,
     "metadata": {},
     "output_type": "execute_result"
    }
   ],
   "source": [
    "gnb.fit(Ftrain, Ltrain)"
   ]
  },
  {
   "cell_type": "code",
   "execution_count": 54,
   "id": "9bd3c55d",
   "metadata": {},
   "outputs": [
    {
     "data": {
      "text/plain": [
       "0.5067079463364293"
      ]
     },
     "execution_count": 54,
     "metadata": {},
     "output_type": "execute_result"
    }
   ],
   "source": [
    "y_pred = gnb.predict(Ftest)\n",
    "metrics.accuracy_score(Ltest, y_pred)"
   ]
  },
  {
   "cell_type": "code",
   "execution_count": 55,
   "id": "4c3f9eb9",
   "metadata": {},
   "outputs": [
    {
     "name": "stdout",
     "output_type": "stream",
     "text": [
      "                               precision    recall  f1-score   support\n",
      "\n",
      "               bacterial_spot       0.53      0.76      0.62       345\n",
      "                 early_blight       0.23      0.32      0.27       153\n",
      "                      healthy       0.43      0.69      0.53       234\n",
      "                  late_blight       0.49      0.29      0.37       309\n",
      "                    leaf_mold       0.53      0.43      0.48       145\n",
      "           septoria_leaf_spot       0.45      0.46      0.45       293\n",
      "                  target_spot       0.54      0.45      0.49       240\n",
      "          tomato_mosaic_virus       0.19      0.72      0.30        54\n",
      "tomato_yellow_leaf_curl_virus       0.88      0.50      0.64       854\n",
      "      two-spotted_spider_mite       0.41      0.48      0.44       280\n",
      "\n",
      "                     accuracy                           0.51      2907\n",
      "                    macro avg       0.47      0.51      0.46      2907\n",
      "                 weighted avg       0.58      0.51      0.52      2907\n",
      "\n",
      "[[261   7  31   8   0   2   6   6  20   4]\n",
      " [ 36  49   2  24   0  10  17   4   4   7]\n",
      " [  9   6 162   8   6   3  22   7   2   9]\n",
      " [  3  49  92  90  18  30   6  13   4   4]\n",
      " [  6   6   5  13  63  23   1  21   2   5]\n",
      " [  6  10  39   7  18 134  19  19  14  27]\n",
      " [ 18  14   2   7   3  23 109  11   2  51]\n",
      " [  5   0   3   0   1   3   0  39   1   2]\n",
      " [135  43  39  22   6  51   2  40 431  85]\n",
      " [ 14  25   6   5   3  22  19  42   9 135]]\n"
     ]
    }
   ],
   "source": [
    "class_names = target.unique()\n",
    "print(classification_report(Ltest, y_pred, target_names=class_names))\n",
    "print(confusion_matrix(Ltest, y_pred))"
   ]
  },
  {
   "cell_type": "markdown",
   "id": "b34954bd",
   "metadata": {},
   "source": [
    "# Decision Tree on Red channel"
   ]
  },
  {
   "cell_type": "code",
   "execution_count": 56,
   "id": "3ce8ed83",
   "metadata": {},
   "outputs": [
    {
     "data": {
      "text/plain": [
       "0.5070519435844513"
      ]
     },
     "execution_count": 56,
     "metadata": {},
     "output_type": "execute_result"
    }
   ],
   "source": [
    "classifier_tree.fit(Ftrain, Ltrain)\n",
    "classifier_tree.score(Ftest,Ltest)"
   ]
  },
  {
   "cell_type": "code",
   "execution_count": 57,
   "id": "78b012af",
   "metadata": {},
   "outputs": [
    {
     "name": "stdout",
     "output_type": "stream",
     "text": [
      "                               precision    recall  f1-score   support\n",
      "\n",
      "               bacterial_spot       0.48      0.58      0.53       345\n",
      "                 early_blight       0.12      0.14      0.13       153\n",
      "                      healthy       0.64      0.65      0.64       234\n",
      "                  late_blight       0.48      0.44      0.46       309\n",
      "                    leaf_mold       0.31      0.31      0.31       145\n",
      "           septoria_leaf_spot       0.43      0.40      0.42       293\n",
      "                  target_spot       0.32      0.30      0.31       240\n",
      "          tomato_mosaic_virus       0.08      0.11      0.10        54\n",
      "tomato_yellow_leaf_curl_virus       0.73      0.69      0.71       854\n",
      "      two-spotted_spider_mite       0.37      0.38      0.38       280\n",
      "\n",
      "                     accuracy                           0.50      2907\n",
      "                    macro avg       0.40      0.40      0.40      2907\n",
      "                 weighted avg       0.50      0.50      0.50      2907\n",
      "\n",
      "[[199  16   9  21   5  14  12   4  47  18]\n",
      " [ 30  21   4  17   6   6  21   2  28  18]\n",
      " [ 14   7 152  19   4   8  15   6   1   8]\n",
      " [ 19  20  20 135  14  27  16   7  32  19]\n",
      " [  8  12   8   9  45  21   7   5  15  15]\n",
      " [ 18  12   6  23  22 118  18  13  47  16]\n",
      " [ 19  26  18   8  16  23  71   7  16  36]\n",
      " [  4   3   4   5   5   8   4   6   5  10]\n",
      " [ 74  25  10  24  14  42  19  12 591  43]\n",
      " [ 26  28   8  20  12   8  36  10  25 107]]\n"
     ]
    }
   ],
   "source": [
    "y_predict = classifier_tree.fit(Ftrain, Ltrain).predict(Ftest)\n",
    "class_names = target.unique()\n",
    "print(classification_report(Ltest, y_predict, target_names=class_names))\n",
    "print(confusion_matrix(Ltest, y_predict))"
   ]
  },
  {
   "cell_type": "markdown",
   "id": "21af7568",
   "metadata": {},
   "source": [
    "# KNN on green channel data"
   ]
  },
  {
   "cell_type": "code",
   "execution_count": 58,
   "id": "461b784b",
   "metadata": {},
   "outputs": [
    {
     "data": {
      "text/plain": [
       "0.5724114207086344"
      ]
     },
     "execution_count": 58,
     "metadata": {},
     "output_type": "execute_result"
    }
   ],
   "source": [
    "#reading numpy array data\n",
    "green_test = np.load('green_data.npy')\n",
    "#reading csv file\n",
    "green_df = pd.read_csv('green_data.csv')\n",
    "loaded = []\n",
    "for i in green_test:\n",
    "    k = []\n",
    "    k = np.asarray(i,dtype='uint8')\n",
    "    loaded.append(k)\n",
    "features = loaded\n",
    "target = green_df['disease']\n",
    "kmodel.fit(Ftrain,Ltrain)\n",
    "kmodel.score(Ftest,Ltest)"
   ]
  },
  {
   "cell_type": "code",
   "execution_count": 59,
   "id": "3b84096d",
   "metadata": {},
   "outputs": [
    {
     "name": "stdout",
     "output_type": "stream",
     "text": [
      "                               precision    recall  f1-score   support\n",
      "\n",
      "               bacterial_spot       0.35      0.82      0.49       345\n",
      "                 early_blight       0.00      0.00      0.00       153\n",
      "                      healthy       0.46      0.77      0.58       234\n",
      "                  late_blight       0.57      0.42      0.48       309\n",
      "                    leaf_mold       0.69      0.53      0.60       145\n",
      "           septoria_leaf_spot       0.72      0.36      0.48       293\n",
      "                  target_spot       0.55      0.23      0.32       240\n",
      "          tomato_mosaic_virus       0.79      0.20      0.32        54\n",
      "tomato_yellow_leaf_curl_virus       0.82      0.79      0.80       854\n",
      "      two-spotted_spider_mite       0.52      0.53      0.52       280\n",
      "\n",
      "                     accuracy                           0.57      2907\n",
      "                    macro avg       0.55      0.47      0.46      2907\n",
      "                 weighted avg       0.60      0.57      0.55      2907\n",
      "\n",
      "[[283   0  31   9   0   0   1   0  19   2]\n",
      " [ 94   0  10   3   0   5  13   0  19   9]\n",
      " [ 31   0 181  14   0   0   2   0   1   5]\n",
      " [ 55   0  44 130  15  24   4   1  23  13]\n",
      " [ 19   0  12  14  77   1   1   1  11   9]\n",
      " [ 28   0  32  39  15 105  15   0  31  28]\n",
      " [105   0  28   3   0   3  54   1   8  38]\n",
      " [  6   0   8   7   4   1   0  11   6  11]\n",
      " [109   0  39   1   0   6   0   0 674  25]\n",
      " [ 69   0  10   9   0   1   8   0  34 149]]\n"
     ]
    },
    {
     "name": "stderr",
     "output_type": "stream",
     "text": [
      "C:\\Users\\ravic\\anaconda3\\lib\\site-packages\\sklearn\\metrics\\_classification.py:1248: UndefinedMetricWarning: Precision and F-score are ill-defined and being set to 0.0 in labels with no predicted samples. Use `zero_division` parameter to control this behavior.\n",
      "  _warn_prf(average, modifier, msg_start, len(result))\n",
      "C:\\Users\\ravic\\anaconda3\\lib\\site-packages\\sklearn\\metrics\\_classification.py:1248: UndefinedMetricWarning: Precision and F-score are ill-defined and being set to 0.0 in labels with no predicted samples. Use `zero_division` parameter to control this behavior.\n",
      "  _warn_prf(average, modifier, msg_start, len(result))\n",
      "C:\\Users\\ravic\\anaconda3\\lib\\site-packages\\sklearn\\metrics\\_classification.py:1248: UndefinedMetricWarning: Precision and F-score are ill-defined and being set to 0.0 in labels with no predicted samples. Use `zero_division` parameter to control this behavior.\n",
      "  _warn_prf(average, modifier, msg_start, len(result))\n"
     ]
    }
   ],
   "source": [
    "y_predict = kmodel.fit(Ftrain, Ltrain).predict(Ftest)\n",
    "class_names = target.unique()\n",
    "print(classification_report(Ltest, y_predict, target_names=class_names))\n",
    "print(confusion_matrix(Ltest, y_predict))"
   ]
  },
  {
   "cell_type": "markdown",
   "id": "71f3ea86",
   "metadata": {},
   "source": [
    "# Logistic on Green channel data"
   ]
  },
  {
   "cell_type": "code",
   "execution_count": 60,
   "id": "28dad6b2",
   "metadata": {},
   "outputs": [
    {
     "name": "stderr",
     "output_type": "stream",
     "text": [
      "C:\\Users\\ravic\\anaconda3\\lib\\site-packages\\sklearn\\linear_model\\_logistic.py:763: ConvergenceWarning: lbfgs failed to converge (status=1):\n",
      "STOP: TOTAL NO. of ITERATIONS REACHED LIMIT.\n",
      "\n",
      "Increase the number of iterations (max_iter) or scale the data as shown in:\n",
      "    https://scikit-learn.org/stable/modules/preprocessing.html\n",
      "Please also refer to the documentation for alternative solver options:\n",
      "    https://scikit-learn.org/stable/modules/linear_model.html#logistic-regression\n",
      "  n_iter_i = _check_optimize_result(\n"
     ]
    },
    {
     "data": {
      "text/plain": [
       "0.6216030271757826"
      ]
     },
     "execution_count": 60,
     "metadata": {},
     "output_type": "execute_result"
    }
   ],
   "source": [
    "model.fit(Ftrain,Ltrain)\n",
    "model.score(Ftest,Ltest)"
   ]
  },
  {
   "cell_type": "code",
   "execution_count": 61,
   "id": "839a329f",
   "metadata": {},
   "outputs": [
    {
     "name": "stdout",
     "output_type": "stream",
     "text": [
      "                               precision    recall  f1-score   support\n",
      "\n",
      "               bacterial_spot       0.57      0.72      0.63       345\n",
      "                 early_blight       0.29      0.33      0.30       153\n",
      "                      healthy       0.59      0.62      0.60       234\n",
      "                  late_blight       0.49      0.46      0.47       309\n",
      "                    leaf_mold       0.53      0.54      0.54       145\n",
      "           septoria_leaf_spot       0.52      0.49      0.51       293\n",
      "                  target_spot       0.49      0.45      0.47       240\n",
      "          tomato_mosaic_virus       0.67      0.67      0.67        54\n",
      "tomato_yellow_leaf_curl_virus       0.90      0.83      0.86       854\n",
      "      two-spotted_spider_mite       0.54      0.54      0.54       280\n",
      "\n",
      "                     accuracy                           0.62      2907\n",
      "                    macro avg       0.56      0.56      0.56      2907\n",
      "                 weighted avg       0.63      0.62      0.62      2907\n",
      "\n",
      "[[247  24  10  20   2  11   4   0  21   6]\n",
      " [ 19  50   8  26   6   5  12   1  12  14]\n",
      " [  6  10 144  19   7  12  27   0   0   9]\n",
      " [ 36  26  18 142  11  29  10   2  12  23]\n",
      " [  3   6   9  12  79  24   3   0   3   6]\n",
      " [ 22  12  18  29  21 144  12   9  14  12]\n",
      " [ 17  11  25  10   8  19 107   1   3  39]\n",
      " [  0   1   1   0   4   5   5  36   1   1]\n",
      " [ 60  14   1  20   5  18  11   0 706  19]\n",
      " [ 23  21  11  14   5   8  26   5  15 152]]\n"
     ]
    },
    {
     "name": "stderr",
     "output_type": "stream",
     "text": [
      "C:\\Users\\ravic\\anaconda3\\lib\\site-packages\\sklearn\\linear_model\\_logistic.py:763: ConvergenceWarning: lbfgs failed to converge (status=1):\n",
      "STOP: TOTAL NO. of ITERATIONS REACHED LIMIT.\n",
      "\n",
      "Increase the number of iterations (max_iter) or scale the data as shown in:\n",
      "    https://scikit-learn.org/stable/modules/preprocessing.html\n",
      "Please also refer to the documentation for alternative solver options:\n",
      "    https://scikit-learn.org/stable/modules/linear_model.html#logistic-regression\n",
      "  n_iter_i = _check_optimize_result(\n"
     ]
    }
   ],
   "source": [
    "y_predict = model.fit(Ftrain, Ltrain).predict(Ftest)\n",
    "class_names = target.unique()\n",
    "print(classification_report(Ltest, y_predict, target_names=class_names))\n",
    "print(confusion_matrix(Ltest, y_predict))"
   ]
  },
  {
   "cell_type": "markdown",
   "id": "f62f0223",
   "metadata": {},
   "source": [
    "# SVM on green channel data"
   ]
  },
  {
   "cell_type": "code",
   "execution_count": 62,
   "id": "e89e7297",
   "metadata": {},
   "outputs": [
    {
     "name": "stdout",
     "output_type": "stream",
     "text": [
      "0.7268661850705195\n"
     ]
    }
   ],
   "source": [
    "clf.fit(Ftrain,Ltrain)\n",
    "y_pred = clf.predict(Ftest)\n",
    "print(accuracy_score(Ltest,y_pred))"
   ]
  },
  {
   "cell_type": "code",
   "execution_count": 63,
   "id": "0a214a95",
   "metadata": {},
   "outputs": [
    {
     "name": "stdout",
     "output_type": "stream",
     "text": [
      "                               precision    recall  f1-score   support\n",
      "\n",
      "               bacterial_spot       0.64      0.82      0.72       345\n",
      "                 early_blight       0.37      0.36      0.37       153\n",
      "                      healthy       0.75      0.80      0.77       234\n",
      "                  late_blight       0.66      0.65      0.65       309\n",
      "                    leaf_mold       0.65      0.60      0.62       145\n",
      "           septoria_leaf_spot       0.69      0.67      0.68       293\n",
      "                  target_spot       0.65      0.57      0.60       240\n",
      "          tomato_mosaic_virus       0.77      0.87      0.82        54\n",
      "tomato_yellow_leaf_curl_virus       0.91      0.86      0.89       854\n",
      "      two-spotted_spider_mite       0.70      0.66      0.68       280\n",
      "\n",
      "                     accuracy                           0.73      2907\n",
      "                    macro avg       0.68      0.69      0.68      2907\n",
      "                 weighted avg       0.73      0.73      0.73      2907\n",
      "\n",
      "[[284  15   2  11   0   2   2   0  28   1]\n",
      " [ 32  55   2  26   1   5   8   0   9  15]\n",
      " [  1   9 188  11   4   5  11   0   0   5]\n",
      " [ 31  15  17 200  11  17   2   0   8   8]\n",
      " [  3   4   4  11  87  24   2   3   5   2]\n",
      " [  6   9  14  20  13 195  14   7   8   7]\n",
      " [  8  23  16   2   7  14 136   1   0  33]\n",
      " [  0   0   0   0   1   6   0  47   0   0]\n",
      " [ 72   6   0  17   3   4   6   0 737   9]\n",
      " [  8  11   9   7   7   9  29   3  13 184]]\n"
     ]
    }
   ],
   "source": [
    "y_predict = clf.fit(Ftrain, Ltrain).predict(Ftest)\n",
    "class_names = target.unique()\n",
    "print(classification_report(Ltest, y_predict, target_names=class_names))\n",
    "print(confusion_matrix(Ltest, y_predict))"
   ]
  },
  {
   "cell_type": "markdown",
   "id": "4f8e565e",
   "metadata": {},
   "source": [
    "# Random Forest on green channel data"
   ]
  },
  {
   "cell_type": "code",
   "execution_count": 64,
   "id": "96c92f8f",
   "metadata": {},
   "outputs": [
    {
     "data": {
      "text/plain": [
       "0.557381280110117"
      ]
     },
     "execution_count": 64,
     "metadata": {},
     "output_type": "execute_result"
    }
   ],
   "source": [
    "classifier_rf.fit(Ftrain, Ltrain)\n",
    "classifier_rf.oob_score_"
   ]
  },
  {
   "cell_type": "code",
   "execution_count": 65,
   "id": "a8f818ad",
   "metadata": {},
   "outputs": [
    {
     "name": "stdout",
     "output_type": "stream",
     "text": [
      "                               precision    recall  f1-score   support\n",
      "\n",
      "               bacterial_spot       0.73      0.57      0.64       345\n",
      "                 early_blight       0.00      0.00      0.00       153\n",
      "                      healthy       0.58      0.91      0.71       234\n",
      "                  late_blight       0.70      0.29      0.41       309\n",
      "                    leaf_mold       0.78      0.30      0.43       145\n",
      "           septoria_leaf_spot       0.56      0.44      0.49       293\n",
      "                  target_spot       0.53      0.38      0.44       240\n",
      "          tomato_mosaic_virus       0.00      0.00      0.00        54\n",
      "tomato_yellow_leaf_curl_virus       0.51      0.98      0.67       854\n",
      "      two-spotted_spider_mite       0.69      0.16      0.27       280\n",
      "\n",
      "                     accuracy                           0.56      2907\n",
      "                    macro avg       0.51      0.40      0.41      2907\n",
      "                 weighted avg       0.56      0.56      0.51      2907\n",
      "\n",
      "[[195   0  17   5   0   0   3   0 125   0]\n",
      " [ 19   0   6   3   0  18  15   0  89   3]\n",
      " [  3   0 213   1   0   1   1   0  14   1]\n",
      " [  4   0  67  89   4  37  10   0  95   3]\n",
      " [  8   0  22  12  43   6   5   0  49   0]\n",
      " [  6   0  10   7   6 129   3   0 132   0]\n",
      " [ 16   0  15   3   0  26  90   0  80  10]\n",
      " [  2   0   6   5   2   3   1   0  31   4]\n",
      " [  5   0   2   3   0   6   1   0 837   0]\n",
      " [  9   0   7   0   0   3  41   0 174  46]]\n"
     ]
    },
    {
     "name": "stderr",
     "output_type": "stream",
     "text": [
      "C:\\Users\\ravic\\anaconda3\\lib\\site-packages\\sklearn\\metrics\\_classification.py:1248: UndefinedMetricWarning: Precision and F-score are ill-defined and being set to 0.0 in labels with no predicted samples. Use `zero_division` parameter to control this behavior.\n",
      "  _warn_prf(average, modifier, msg_start, len(result))\n",
      "C:\\Users\\ravic\\anaconda3\\lib\\site-packages\\sklearn\\metrics\\_classification.py:1248: UndefinedMetricWarning: Precision and F-score are ill-defined and being set to 0.0 in labels with no predicted samples. Use `zero_division` parameter to control this behavior.\n",
      "  _warn_prf(average, modifier, msg_start, len(result))\n",
      "C:\\Users\\ravic\\anaconda3\\lib\\site-packages\\sklearn\\metrics\\_classification.py:1248: UndefinedMetricWarning: Precision and F-score are ill-defined and being set to 0.0 in labels with no predicted samples. Use `zero_division` parameter to control this behavior.\n",
      "  _warn_prf(average, modifier, msg_start, len(result))\n"
     ]
    }
   ],
   "source": [
    "y_predict = classifier_rf.fit(Ftrain, Ltrain).predict(Ftest)\n",
    "class_names = target.unique()\n",
    "print(classification_report(Ltest, y_predict, target_names=class_names))\n",
    "print(confusion_matrix(Ltest, y_predict))"
   ]
  },
  {
   "cell_type": "markdown",
   "id": "e9b1cca9",
   "metadata": {},
   "source": [
    "# Naive bayes on Green channel data"
   ]
  },
  {
   "cell_type": "code",
   "execution_count": 66,
   "id": "1136802c",
   "metadata": {},
   "outputs": [
    {
     "data": {
      "text/plain": [
       "0.5067079463364293"
      ]
     },
     "execution_count": 66,
     "metadata": {},
     "output_type": "execute_result"
    }
   ],
   "source": [
    "gnb.fit(Ftrain, Ltrain)\n",
    "y_pred = gnb.predict(Ftest)\n",
    "metrics.accuracy_score(Ltest, y_pred)"
   ]
  },
  {
   "cell_type": "code",
   "execution_count": 67,
   "id": "413e42be",
   "metadata": {},
   "outputs": [
    {
     "name": "stdout",
     "output_type": "stream",
     "text": [
      "                               precision    recall  f1-score   support\n",
      "\n",
      "               bacterial_spot       0.53      0.76      0.62       345\n",
      "                 early_blight       0.23      0.32      0.27       153\n",
      "                      healthy       0.43      0.69      0.53       234\n",
      "                  late_blight       0.49      0.29      0.37       309\n",
      "                    leaf_mold       0.53      0.43      0.48       145\n",
      "           septoria_leaf_spot       0.45      0.46      0.45       293\n",
      "                  target_spot       0.54      0.45      0.49       240\n",
      "          tomato_mosaic_virus       0.19      0.72      0.30        54\n",
      "tomato_yellow_leaf_curl_virus       0.88      0.50      0.64       854\n",
      "      two-spotted_spider_mite       0.41      0.48      0.44       280\n",
      "\n",
      "                     accuracy                           0.51      2907\n",
      "                    macro avg       0.47      0.51      0.46      2907\n",
      "                 weighted avg       0.58      0.51      0.52      2907\n",
      "\n",
      "[[261   7  31   8   0   2   6   6  20   4]\n",
      " [ 36  49   2  24   0  10  17   4   4   7]\n",
      " [  9   6 162   8   6   3  22   7   2   9]\n",
      " [  3  49  92  90  18  30   6  13   4   4]\n",
      " [  6   6   5  13  63  23   1  21   2   5]\n",
      " [  6  10  39   7  18 134  19  19  14  27]\n",
      " [ 18  14   2   7   3  23 109  11   2  51]\n",
      " [  5   0   3   0   1   3   0  39   1   2]\n",
      " [135  43  39  22   6  51   2  40 431  85]\n",
      " [ 14  25   6   5   3  22  19  42   9 135]]\n"
     ]
    }
   ],
   "source": [
    "class_names = target.unique()\n",
    "print(classification_report(Ltest, y_pred, target_names=class_names))\n",
    "print(confusion_matrix(Ltest, y_pred))"
   ]
  },
  {
   "cell_type": "markdown",
   "id": "9002e08b",
   "metadata": {},
   "source": [
    "# Decision Tree on Green channel"
   ]
  },
  {
   "cell_type": "code",
   "execution_count": 68,
   "id": "6b115934",
   "metadata": {},
   "outputs": [
    {
     "data": {
      "text/plain": [
       "0.500515995872033"
      ]
     },
     "execution_count": 68,
     "metadata": {},
     "output_type": "execute_result"
    }
   ],
   "source": [
    "classifier_tree.fit(Ftrain, Ltrain)\n",
    "classifier_tree.score(Ftest,Ltest)"
   ]
  },
  {
   "cell_type": "code",
   "execution_count": 69,
   "id": "a1694af3",
   "metadata": {},
   "outputs": [
    {
     "name": "stdout",
     "output_type": "stream",
     "text": [
      "                               precision    recall  f1-score   support\n",
      "\n",
      "               bacterial_spot       0.49      0.57      0.53       345\n",
      "                 early_blight       0.15      0.16      0.15       153\n",
      "                      healthy       0.61      0.68      0.65       234\n",
      "                  late_blight       0.46      0.45      0.46       309\n",
      "                    leaf_mold       0.33      0.31      0.32       145\n",
      "           septoria_leaf_spot       0.43      0.41      0.42       293\n",
      "                  target_spot       0.36      0.35      0.35       240\n",
      "          tomato_mosaic_virus       0.13      0.17      0.15        54\n",
      "tomato_yellow_leaf_curl_virus       0.74      0.68      0.71       854\n",
      "      two-spotted_spider_mite       0.37      0.38      0.37       280\n",
      "\n",
      "                     accuracy                           0.50      2907\n",
      "                    macro avg       0.41      0.42      0.41      2907\n",
      "                 weighted avg       0.51      0.50      0.51      2907\n",
      "\n",
      "[[197  17  11  27   5  16  10   0  49  13]\n",
      " [ 29  24   8  21   4   7  13   2  31  14]\n",
      " [ 10   6 160  21   4   5  15   3   2   8]\n",
      " [ 20  22  15 140  13  32  13   9  26  19]\n",
      " [ 11  10   9  17  45  18   7   6   9  13]\n",
      " [ 17  12   8  24  16 119  25   9  45  18]\n",
      " [ 19  16  21  11  16  20  83   9  13  32]\n",
      " [  6   1   4   4   6   7   2   9   3  12]\n",
      " [ 70  28  12  24  15  44  16  13 584  48]\n",
      " [ 20  23  13  16  11   7  49   8  28 105]]\n"
     ]
    }
   ],
   "source": [
    "y_predict = classifier_tree.fit(Ftrain, Ltrain).predict(Ftest)\n",
    "class_names = target.unique()\n",
    "print(classification_report(Ltest, y_predict, target_names=class_names))\n",
    "print(confusion_matrix(Ltest, y_predict))"
   ]
  },
  {
   "cell_type": "markdown",
   "id": "75817642",
   "metadata": {},
   "source": [
    "# KNN on blue channel data"
   ]
  },
  {
   "cell_type": "code",
   "execution_count": 70,
   "id": "531e3624",
   "metadata": {},
   "outputs": [
    {
     "data": {
      "text/plain": [
       "0.5724114207086344"
      ]
     },
     "execution_count": 70,
     "metadata": {},
     "output_type": "execute_result"
    }
   ],
   "source": [
    "#reading numpy array data\n",
    "blue_test = np.load('blue_data.npy')\n",
    "#reading csv file\n",
    "blue_df = pd.read_csv('blue_data.csv')\n",
    "loaded = []\n",
    "for i in gray_test:\n",
    "    k = []\n",
    "    k = np.asarray(i,dtype='uint8')\n",
    "    loaded.append(k)\n",
    "features = loaded\n",
    "target = blue_df['disease']\n",
    "kmodel.fit(Ftrain,Ltrain)\n",
    "kmodel.score(Ftest,Ltest)"
   ]
  },
  {
   "cell_type": "code",
   "execution_count": 71,
   "id": "16330eb3",
   "metadata": {},
   "outputs": [
    {
     "name": "stdout",
     "output_type": "stream",
     "text": [
      "                               precision    recall  f1-score   support\n",
      "\n",
      "               bacterial_spot       0.35      0.82      0.49       345\n",
      "                 early_blight       0.00      0.00      0.00       153\n",
      "                      healthy       0.46      0.77      0.58       234\n",
      "                  late_blight       0.57      0.42      0.48       309\n",
      "                    leaf_mold       0.69      0.53      0.60       145\n",
      "           septoria_leaf_spot       0.72      0.36      0.48       293\n",
      "                  target_spot       0.55      0.23      0.32       240\n",
      "          tomato_mosaic_virus       0.79      0.20      0.32        54\n",
      "tomato_yellow_leaf_curl_virus       0.82      0.79      0.80       854\n",
      "      two-spotted_spider_mite       0.52      0.53      0.52       280\n",
      "\n",
      "                     accuracy                           0.57      2907\n",
      "                    macro avg       0.55      0.47      0.46      2907\n",
      "                 weighted avg       0.60      0.57      0.55      2907\n",
      "\n",
      "[[283   0  31   9   0   0   1   0  19   2]\n",
      " [ 94   0  10   3   0   5  13   0  19   9]\n",
      " [ 31   0 181  14   0   0   2   0   1   5]\n",
      " [ 55   0  44 130  15  24   4   1  23  13]\n",
      " [ 19   0  12  14  77   1   1   1  11   9]\n",
      " [ 28   0  32  39  15 105  15   0  31  28]\n",
      " [105   0  28   3   0   3  54   1   8  38]\n",
      " [  6   0   8   7   4   1   0  11   6  11]\n",
      " [109   0  39   1   0   6   0   0 674  25]\n",
      " [ 69   0  10   9   0   1   8   0  34 149]]\n"
     ]
    },
    {
     "name": "stderr",
     "output_type": "stream",
     "text": [
      "C:\\Users\\ravic\\anaconda3\\lib\\site-packages\\sklearn\\metrics\\_classification.py:1248: UndefinedMetricWarning: Precision and F-score are ill-defined and being set to 0.0 in labels with no predicted samples. Use `zero_division` parameter to control this behavior.\n",
      "  _warn_prf(average, modifier, msg_start, len(result))\n",
      "C:\\Users\\ravic\\anaconda3\\lib\\site-packages\\sklearn\\metrics\\_classification.py:1248: UndefinedMetricWarning: Precision and F-score are ill-defined and being set to 0.0 in labels with no predicted samples. Use `zero_division` parameter to control this behavior.\n",
      "  _warn_prf(average, modifier, msg_start, len(result))\n",
      "C:\\Users\\ravic\\anaconda3\\lib\\site-packages\\sklearn\\metrics\\_classification.py:1248: UndefinedMetricWarning: Precision and F-score are ill-defined and being set to 0.0 in labels with no predicted samples. Use `zero_division` parameter to control this behavior.\n",
      "  _warn_prf(average, modifier, msg_start, len(result))\n"
     ]
    }
   ],
   "source": [
    "y_predict = kmodel.fit(Ftrain, Ltrain).predict(Ftest)\n",
    "class_names = target.unique()\n",
    "print(classification_report(Ltest, y_predict, target_names=class_names))\n",
    "print(confusion_matrix(Ltest, y_predict))"
   ]
  },
  {
   "cell_type": "markdown",
   "id": "f452a113",
   "metadata": {},
   "source": [
    "# logistic on blue channel data"
   ]
  },
  {
   "cell_type": "code",
   "execution_count": 72,
   "id": "de158586",
   "metadata": {},
   "outputs": [
    {
     "name": "stderr",
     "output_type": "stream",
     "text": [
      "C:\\Users\\ravic\\anaconda3\\lib\\site-packages\\sklearn\\linear_model\\_logistic.py:763: ConvergenceWarning: lbfgs failed to converge (status=1):\n",
      "STOP: TOTAL NO. of ITERATIONS REACHED LIMIT.\n",
      "\n",
      "Increase the number of iterations (max_iter) or scale the data as shown in:\n",
      "    https://scikit-learn.org/stable/modules/preprocessing.html\n",
      "Please also refer to the documentation for alternative solver options:\n",
      "    https://scikit-learn.org/stable/modules/linear_model.html#logistic-regression\n",
      "  n_iter_i = _check_optimize_result(\n"
     ]
    },
    {
     "data": {
      "text/plain": [
       "0.6216030271757826"
      ]
     },
     "execution_count": 72,
     "metadata": {},
     "output_type": "execute_result"
    }
   ],
   "source": [
    "model.fit(Ftrain,Ltrain)\n",
    "model.score(Ftest,Ltest)"
   ]
  },
  {
   "cell_type": "code",
   "execution_count": 73,
   "id": "30e98a1a",
   "metadata": {},
   "outputs": [
    {
     "name": "stdout",
     "output_type": "stream",
     "text": [
      "                               precision    recall  f1-score   support\n",
      "\n",
      "               bacterial_spot       0.57      0.72      0.63       345\n",
      "                 early_blight       0.29      0.33      0.30       153\n",
      "                      healthy       0.59      0.62      0.60       234\n",
      "                  late_blight       0.49      0.46      0.47       309\n",
      "                    leaf_mold       0.53      0.54      0.54       145\n",
      "           septoria_leaf_spot       0.52      0.49      0.51       293\n",
      "                  target_spot       0.49      0.45      0.47       240\n",
      "          tomato_mosaic_virus       0.67      0.67      0.67        54\n",
      "tomato_yellow_leaf_curl_virus       0.90      0.83      0.86       854\n",
      "      two-spotted_spider_mite       0.54      0.54      0.54       280\n",
      "\n",
      "                     accuracy                           0.62      2907\n",
      "                    macro avg       0.56      0.56      0.56      2907\n",
      "                 weighted avg       0.63      0.62      0.62      2907\n",
      "\n",
      "[[247  24  10  20   2  11   4   0  21   6]\n",
      " [ 19  50   8  26   6   5  12   1  12  14]\n",
      " [  6  10 144  19   7  12  27   0   0   9]\n",
      " [ 36  26  18 142  11  29  10   2  12  23]\n",
      " [  3   6   9  12  79  24   3   0   3   6]\n",
      " [ 22  12  18  29  21 144  12   9  14  12]\n",
      " [ 17  11  25  10   8  19 107   1   3  39]\n",
      " [  0   1   1   0   4   5   5  36   1   1]\n",
      " [ 60  14   1  20   5  18  11   0 706  19]\n",
      " [ 23  21  11  14   5   8  26   5  15 152]]\n"
     ]
    },
    {
     "name": "stderr",
     "output_type": "stream",
     "text": [
      "C:\\Users\\ravic\\anaconda3\\lib\\site-packages\\sklearn\\linear_model\\_logistic.py:763: ConvergenceWarning: lbfgs failed to converge (status=1):\n",
      "STOP: TOTAL NO. of ITERATIONS REACHED LIMIT.\n",
      "\n",
      "Increase the number of iterations (max_iter) or scale the data as shown in:\n",
      "    https://scikit-learn.org/stable/modules/preprocessing.html\n",
      "Please also refer to the documentation for alternative solver options:\n",
      "    https://scikit-learn.org/stable/modules/linear_model.html#logistic-regression\n",
      "  n_iter_i = _check_optimize_result(\n"
     ]
    }
   ],
   "source": [
    "y_predict = model.fit(Ftrain, Ltrain).predict(Ftest)\n",
    "class_names = target.unique()\n",
    "print(classification_report(Ltest, y_predict, target_names=class_names))\n",
    "print(confusion_matrix(Ltest, y_predict))"
   ]
  },
  {
   "cell_type": "markdown",
   "id": "c7585c1d",
   "metadata": {},
   "source": [
    "# SVM on blue channel data"
   ]
  },
  {
   "cell_type": "code",
   "execution_count": 74,
   "id": "06fb4a0f",
   "metadata": {},
   "outputs": [
    {
     "name": "stdout",
     "output_type": "stream",
     "text": [
      "0.7268661850705195\n"
     ]
    }
   ],
   "source": [
    "clf.fit(Ftrain,Ltrain)\n",
    "y_pred = clf.predict(Ftest)\n",
    "print(accuracy_score(Ltest,y_pred))"
   ]
  },
  {
   "cell_type": "code",
   "execution_count": 75,
   "id": "6e1082ce",
   "metadata": {},
   "outputs": [
    {
     "name": "stdout",
     "output_type": "stream",
     "text": [
      "                               precision    recall  f1-score   support\n",
      "\n",
      "               bacterial_spot       0.64      0.82      0.72       345\n",
      "                 early_blight       0.37      0.36      0.37       153\n",
      "                      healthy       0.75      0.80      0.77       234\n",
      "                  late_blight       0.66      0.65      0.65       309\n",
      "                    leaf_mold       0.65      0.60      0.62       145\n",
      "           septoria_leaf_spot       0.69      0.67      0.68       293\n",
      "                  target_spot       0.65      0.57      0.60       240\n",
      "          tomato_mosaic_virus       0.77      0.87      0.82        54\n",
      "tomato_yellow_leaf_curl_virus       0.91      0.86      0.89       854\n",
      "      two-spotted_spider_mite       0.70      0.66      0.68       280\n",
      "\n",
      "                     accuracy                           0.73      2907\n",
      "                    macro avg       0.68      0.69      0.68      2907\n",
      "                 weighted avg       0.73      0.73      0.73      2907\n",
      "\n",
      "[[284  15   2  11   0   2   2   0  28   1]\n",
      " [ 32  55   2  26   1   5   8   0   9  15]\n",
      " [  1   9 188  11   4   5  11   0   0   5]\n",
      " [ 31  15  17 200  11  17   2   0   8   8]\n",
      " [  3   4   4  11  87  24   2   3   5   2]\n",
      " [  6   9  14  20  13 195  14   7   8   7]\n",
      " [  8  23  16   2   7  14 136   1   0  33]\n",
      " [  0   0   0   0   1   6   0  47   0   0]\n",
      " [ 72   6   0  17   3   4   6   0 737   9]\n",
      " [  8  11   9   7   7   9  29   3  13 184]]\n"
     ]
    }
   ],
   "source": [
    "y_predict = clf.fit(Ftrain, Ltrain).predict(Ftest)\n",
    "class_names = target.unique()\n",
    "print(classification_report(Ltest, y_predict, target_names=class_names))\n",
    "print(confusion_matrix(Ltest, y_predict))"
   ]
  },
  {
   "cell_type": "markdown",
   "id": "f4eb8c6c",
   "metadata": {},
   "source": [
    "# Random Forest on blue channel data"
   ]
  },
  {
   "cell_type": "code",
   "execution_count": 76,
   "id": "b71407b2",
   "metadata": {},
   "outputs": [
    {
     "data": {
      "text/plain": [
       "0.557381280110117"
      ]
     },
     "execution_count": 76,
     "metadata": {},
     "output_type": "execute_result"
    }
   ],
   "source": [
    "classifier_rf.fit(Ftrain, Ltrain)\n",
    "classifier_rf.oob_score_"
   ]
  },
  {
   "cell_type": "code",
   "execution_count": 77,
   "id": "aa723da2",
   "metadata": {},
   "outputs": [
    {
     "name": "stdout",
     "output_type": "stream",
     "text": [
      "                               precision    recall  f1-score   support\n",
      "\n",
      "               bacterial_spot       0.73      0.57      0.64       345\n",
      "                 early_blight       0.00      0.00      0.00       153\n",
      "                      healthy       0.58      0.91      0.71       234\n",
      "                  late_blight       0.70      0.29      0.41       309\n",
      "                    leaf_mold       0.78      0.30      0.43       145\n",
      "           septoria_leaf_spot       0.56      0.44      0.49       293\n",
      "                  target_spot       0.53      0.38      0.44       240\n",
      "          tomato_mosaic_virus       0.00      0.00      0.00        54\n",
      "tomato_yellow_leaf_curl_virus       0.51      0.98      0.67       854\n",
      "      two-spotted_spider_mite       0.69      0.16      0.27       280\n",
      "\n",
      "                     accuracy                           0.56      2907\n",
      "                    macro avg       0.51      0.40      0.41      2907\n",
      "                 weighted avg       0.56      0.56      0.51      2907\n",
      "\n",
      "[[195   0  17   5   0   0   3   0 125   0]\n",
      " [ 19   0   6   3   0  18  15   0  89   3]\n",
      " [  3   0 213   1   0   1   1   0  14   1]\n",
      " [  4   0  67  89   4  37  10   0  95   3]\n",
      " [  8   0  22  12  43   6   5   0  49   0]\n",
      " [  6   0  10   7   6 129   3   0 132   0]\n",
      " [ 16   0  15   3   0  26  90   0  80  10]\n",
      " [  2   0   6   5   2   3   1   0  31   4]\n",
      " [  5   0   2   3   0   6   1   0 837   0]\n",
      " [  9   0   7   0   0   3  41   0 174  46]]\n"
     ]
    },
    {
     "name": "stderr",
     "output_type": "stream",
     "text": [
      "C:\\Users\\ravic\\anaconda3\\lib\\site-packages\\sklearn\\metrics\\_classification.py:1248: UndefinedMetricWarning: Precision and F-score are ill-defined and being set to 0.0 in labels with no predicted samples. Use `zero_division` parameter to control this behavior.\n",
      "  _warn_prf(average, modifier, msg_start, len(result))\n",
      "C:\\Users\\ravic\\anaconda3\\lib\\site-packages\\sklearn\\metrics\\_classification.py:1248: UndefinedMetricWarning: Precision and F-score are ill-defined and being set to 0.0 in labels with no predicted samples. Use `zero_division` parameter to control this behavior.\n",
      "  _warn_prf(average, modifier, msg_start, len(result))\n",
      "C:\\Users\\ravic\\anaconda3\\lib\\site-packages\\sklearn\\metrics\\_classification.py:1248: UndefinedMetricWarning: Precision and F-score are ill-defined and being set to 0.0 in labels with no predicted samples. Use `zero_division` parameter to control this behavior.\n",
      "  _warn_prf(average, modifier, msg_start, len(result))\n"
     ]
    }
   ],
   "source": [
    "y_predict = classifier_rf.fit(Ftrain, Ltrain).predict(Ftest)\n",
    "class_names = target.unique()\n",
    "print(classification_report(Ltest, y_predict, target_names=class_names))\n",
    "print(confusion_matrix(Ltest, y_predict))"
   ]
  },
  {
   "cell_type": "markdown",
   "id": "fb1ca20e",
   "metadata": {},
   "source": [
    "# Naive bayes on blue channel data"
   ]
  },
  {
   "cell_type": "code",
   "execution_count": 78,
   "id": "11ea0b85",
   "metadata": {},
   "outputs": [
    {
     "data": {
      "text/plain": [
       "0.5067079463364293"
      ]
     },
     "execution_count": 78,
     "metadata": {},
     "output_type": "execute_result"
    }
   ],
   "source": [
    "gnb.fit(Ftrain, Ltrain)\n",
    "y_pred = gnb.predict(Ftest)\n",
    "metrics.accuracy_score(Ltest, y_pred)"
   ]
  },
  {
   "cell_type": "code",
   "execution_count": 79,
   "id": "ca5ce1db",
   "metadata": {},
   "outputs": [
    {
     "name": "stdout",
     "output_type": "stream",
     "text": [
      "                               precision    recall  f1-score   support\n",
      "\n",
      "               bacterial_spot       0.53      0.76      0.62       345\n",
      "                 early_blight       0.23      0.32      0.27       153\n",
      "                      healthy       0.43      0.69      0.53       234\n",
      "                  late_blight       0.49      0.29      0.37       309\n",
      "                    leaf_mold       0.53      0.43      0.48       145\n",
      "           septoria_leaf_spot       0.45      0.46      0.45       293\n",
      "                  target_spot       0.54      0.45      0.49       240\n",
      "          tomato_mosaic_virus       0.19      0.72      0.30        54\n",
      "tomato_yellow_leaf_curl_virus       0.88      0.50      0.64       854\n",
      "      two-spotted_spider_mite       0.41      0.48      0.44       280\n",
      "\n",
      "                     accuracy                           0.51      2907\n",
      "                    macro avg       0.47      0.51      0.46      2907\n",
      "                 weighted avg       0.58      0.51      0.52      2907\n",
      "\n",
      "[[261   7  31   8   0   2   6   6  20   4]\n",
      " [ 36  49   2  24   0  10  17   4   4   7]\n",
      " [  9   6 162   8   6   3  22   7   2   9]\n",
      " [  3  49  92  90  18  30   6  13   4   4]\n",
      " [  6   6   5  13  63  23   1  21   2   5]\n",
      " [  6  10  39   7  18 134  19  19  14  27]\n",
      " [ 18  14   2   7   3  23 109  11   2  51]\n",
      " [  5   0   3   0   1   3   0  39   1   2]\n",
      " [135  43  39  22   6  51   2  40 431  85]\n",
      " [ 14  25   6   5   3  22  19  42   9 135]]\n"
     ]
    }
   ],
   "source": [
    "class_names = target.unique()\n",
    "print(classification_report(Ltest, y_pred, target_names=class_names))\n",
    "print(confusion_matrix(Ltest, y_pred))"
   ]
  },
  {
   "cell_type": "markdown",
   "id": "d9c9d428",
   "metadata": {},
   "source": [
    "# Decision Tree on Blue channel"
   ]
  },
  {
   "cell_type": "code",
   "execution_count": 80,
   "id": "cbeebfa6",
   "metadata": {},
   "outputs": [
    {
     "data": {
      "text/plain": [
       "0.5046439628482973"
      ]
     },
     "execution_count": 80,
     "metadata": {},
     "output_type": "execute_result"
    }
   ],
   "source": [
    "classifier_tree.fit(Ftrain, Ltrain)\n",
    "classifier_tree.score(Ftest,Ltest)"
   ]
  },
  {
   "cell_type": "code",
   "execution_count": 81,
   "id": "ef622e2a",
   "metadata": {},
   "outputs": [
    {
     "name": "stdout",
     "output_type": "stream",
     "text": [
      "                               precision    recall  f1-score   support\n",
      "\n",
      "               bacterial_spot       0.48      0.57      0.52       345\n",
      "                 early_blight       0.13      0.15      0.14       153\n",
      "                      healthy       0.63      0.67      0.65       234\n",
      "                  late_blight       0.42      0.42      0.42       309\n",
      "                    leaf_mold       0.35      0.31      0.33       145\n",
      "           septoria_leaf_spot       0.42      0.39      0.40       293\n",
      "                  target_spot       0.34      0.34      0.34       240\n",
      "          tomato_mosaic_virus       0.07      0.07      0.07        54\n",
      "tomato_yellow_leaf_curl_virus       0.74      0.69      0.71       854\n",
      "      two-spotted_spider_mite       0.38      0.37      0.37       280\n",
      "\n",
      "                     accuracy                           0.50      2907\n",
      "                    macro avg       0.40      0.40      0.40      2907\n",
      "                 weighted avg       0.50      0.50      0.50      2907\n",
      "\n",
      "[[196  16  13  26   8  11  17   0  46  12]\n",
      " [ 26  23   4  25   4   7  17   4  27  16]\n",
      " [ 10   9 157  16   5   8  12   3   3  11]\n",
      " [ 23  28  10 129  12  32  17   7  32  19]\n",
      " [ 12  13   5  17  45  19   7   4  14   9]\n",
      " [ 19  12  12  28  18 115  24   8  40  17]\n",
      " [ 23  18  26  12   9  25  81   5  12  29]\n",
      " [  5   2   5   6   7   8   3   4   4  10]\n",
      " [ 73  33  11  27  11  38  15  13 586  47]\n",
      " [ 21  20   8  23   8  12  46   8  31 103]]\n"
     ]
    }
   ],
   "source": [
    "y_predict = classifier_tree.fit(Ftrain, Ltrain).predict(Ftest)\n",
    "class_names = target.unique()\n",
    "print(classification_report(Ltest, y_predict, target_names=class_names))\n",
    "print(confusion_matrix(Ltest, y_predict))"
   ]
  }
 ],
 "metadata": {
  "kernelspec": {
   "display_name": "Python 3 (ipykernel)",
   "language": "python",
   "name": "python3"
  },
  "language_info": {
   "codemirror_mode": {
    "name": "ipython",
    "version": 3
   },
   "file_extension": ".py",
   "mimetype": "text/x-python",
   "name": "python",
   "nbconvert_exporter": "python",
   "pygments_lexer": "ipython3",
   "version": "3.9.7"
  }
 },
 "nbformat": 4,
 "nbformat_minor": 5
}
