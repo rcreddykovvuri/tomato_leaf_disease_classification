{
 "cells": [
  {
   "cell_type": "code",
   "execution_count": 1,
   "id": "eb108b6b",
   "metadata": {},
   "outputs": [],
   "source": [
    "import numpy as np #importing numpy\n",
    "import pandas as pd #importing pandas\n",
    "import PIL #importing pillow for image processing\n",
    "from PIL import Image#importing image from pillow library\n",
    "import skimage#importing skimage library\n",
    "import os#importing os library\n",
    "import time#importing time library\n",
    "\n",
    "#Capture start time of the program\n",
    "start_time = time.time()"
   ]
  },
  {
   "cell_type": "code",
   "execution_count": 2,
   "id": "91324c4f",
   "metadata": {},
   "outputs": [],
   "source": [
    "#changing path\n",
    "os.chdir('D://DKIT//dissertation//Dataset_of_Tomato_Leaves//plantvillage//Preprocessed_data//32//vector//')"
   ]
  },
  {
   "cell_type": "code",
   "execution_count": 3,
   "id": "09e9804c",
   "metadata": {},
   "outputs": [],
   "source": [
    "#reading numpy array data\n",
    "rgb_test = np.load('rgb_data.npy')\n",
    "#reading csv file\n",
    "rgb_df = pd.read_csv('rgb_data.csv')"
   ]
  },
  {
   "cell_type": "code",
   "execution_count": 4,
   "id": "934bb1dd",
   "metadata": {},
   "outputs": [],
   "source": [
    "rgb = pd.DataFrame(rgb_test)"
   ]
  },
  {
   "cell_type": "code",
   "execution_count": 5,
   "id": "ddb2fab4",
   "metadata": {},
   "outputs": [],
   "source": [
    "os.chdir('D://')"
   ]
  },
  {
   "cell_type": "code",
   "execution_count": 6,
   "id": "260ef45a",
   "metadata": {},
   "outputs": [],
   "source": [
    "from sklearn.svm import SVC\n",
    "from sklearn.metrics import accuracy_score"
   ]
  },
  {
   "cell_type": "code",
   "execution_count": 7,
   "id": "e786094b",
   "metadata": {},
   "outputs": [],
   "source": [
    "features = rgb.values"
   ]
  },
  {
   "cell_type": "code",
   "execution_count": 8,
   "id": "8f21dcce",
   "metadata": {},
   "outputs": [],
   "source": [
    "#assigning target\n",
    "target = rgb_df['disease']\n",
    "#splitting the data to 80 percent and 20 percent\n",
    "from sklearn.model_selection import train_test_split\n",
    "Ftrain,Ftest,Ltrain,Ltest=train_test_split(features,target, test_size=0.20, random_state=24)"
   ]
  },
  {
   "cell_type": "code",
   "execution_count": 9,
   "id": "ad866fd0",
   "metadata": {},
   "outputs": [
    {
     "name": "stdout",
     "output_type": "stream",
     "text": [
      "0.7984176126590987\n"
     ]
    }
   ],
   "source": [
    "svm_poly = SVC(kernel='poly')\n",
    "svm_poly.fit(Ftrain,Ltrain)\n",
    "y_pred = svm_poly.predict(Ftest)\n",
    "print(accuracy_score(Ltest,y_pred))"
   ]
  },
  {
   "cell_type": "code",
   "execution_count": 10,
   "id": "9b48081a",
   "metadata": {},
   "outputs": [],
   "source": [
    "os.chdir('D://')"
   ]
  },
  {
   "cell_type": "code",
   "execution_count": 11,
   "id": "2abeea5a",
   "metadata": {},
   "outputs": [],
   "source": [
    "image = Image.open('Tyl29.jpg',mode='r')\n",
    "size = (32,32)\n",
    "image = image.resize(size)\n",
    "data1 = image.convert('RGB')\n",
    "data1 = np.array(data1)\n",
    "data1 = data1.ravel()"
   ]
  },
  {
   "cell_type": "code",
   "execution_count": 12,
   "id": "d3b3455e",
   "metadata": {},
   "outputs": [],
   "source": [
    "test = pd.DataFrame(data1)"
   ]
  },
  {
   "cell_type": "code",
   "execution_count": 13,
   "id": "f8323729",
   "metadata": {},
   "outputs": [],
   "source": [
    "test = test.transpose()"
   ]
  },
  {
   "cell_type": "code",
   "execution_count": 14,
   "id": "f8e76b3e",
   "metadata": {},
   "outputs": [
    {
     "data": {
      "text/html": [
       "<div>\n",
       "<style scoped>\n",
       "    .dataframe tbody tr th:only-of-type {\n",
       "        vertical-align: middle;\n",
       "    }\n",
       "\n",
       "    .dataframe tbody tr th {\n",
       "        vertical-align: top;\n",
       "    }\n",
       "\n",
       "    .dataframe thead th {\n",
       "        text-align: right;\n",
       "    }\n",
       "</style>\n",
       "<table border=\"1\" class=\"dataframe\">\n",
       "  <thead>\n",
       "    <tr style=\"text-align: right;\">\n",
       "      <th></th>\n",
       "      <th>0</th>\n",
       "      <th>1</th>\n",
       "      <th>2</th>\n",
       "      <th>3</th>\n",
       "      <th>4</th>\n",
       "      <th>5</th>\n",
       "      <th>6</th>\n",
       "      <th>7</th>\n",
       "      <th>8</th>\n",
       "      <th>9</th>\n",
       "      <th>...</th>\n",
       "      <th>3062</th>\n",
       "      <th>3063</th>\n",
       "      <th>3064</th>\n",
       "      <th>3065</th>\n",
       "      <th>3066</th>\n",
       "      <th>3067</th>\n",
       "      <th>3068</th>\n",
       "      <th>3069</th>\n",
       "      <th>3070</th>\n",
       "      <th>3071</th>\n",
       "    </tr>\n",
       "  </thead>\n",
       "  <tbody>\n",
       "    <tr>\n",
       "      <th>0</th>\n",
       "      <td>133</td>\n",
       "      <td>134</td>\n",
       "      <td>128</td>\n",
       "      <td>134</td>\n",
       "      <td>135</td>\n",
       "      <td>129</td>\n",
       "      <td>133</td>\n",
       "      <td>134</td>\n",
       "      <td>128</td>\n",
       "      <td>131</td>\n",
       "      <td>...</td>\n",
       "      <td>106</td>\n",
       "      <td>105</td>\n",
       "      <td>107</td>\n",
       "      <td>105</td>\n",
       "      <td>102</td>\n",
       "      <td>104</td>\n",
       "      <td>103</td>\n",
       "      <td>104</td>\n",
       "      <td>106</td>\n",
       "      <td>105</td>\n",
       "    </tr>\n",
       "  </tbody>\n",
       "</table>\n",
       "<p>1 rows × 3072 columns</p>\n",
       "</div>"
      ],
      "text/plain": [
       "   0     1     2     3     4     5     6     7     8     9     ...  3062  \\\n",
       "0   133   134   128   134   135   129   133   134   128   131  ...   106   \n",
       "\n",
       "   3063  3064  3065  3066  3067  3068  3069  3070  3071  \n",
       "0   105   107   105   102   104   103   104   106   105  \n",
       "\n",
       "[1 rows x 3072 columns]"
      ]
     },
     "execution_count": 14,
     "metadata": {},
     "output_type": "execute_result"
    }
   ],
   "source": [
    "test"
   ]
  },
  {
   "cell_type": "code",
   "execution_count": 15,
   "id": "1dc3460e",
   "metadata": {},
   "outputs": [],
   "source": [
    "data2 = test.values"
   ]
  },
  {
   "cell_type": "code",
   "execution_count": 16,
   "id": "c4b7fa96",
   "metadata": {},
   "outputs": [
    {
     "data": {
      "text/plain": [
       "array([[133, 134, 128, ..., 104, 106, 105]], dtype=uint8)"
      ]
     },
     "execution_count": 16,
     "metadata": {},
     "output_type": "execute_result"
    }
   ],
   "source": [
    "data2"
   ]
  },
  {
   "cell_type": "code",
   "execution_count": 17,
   "id": "25ef5b1d",
   "metadata": {},
   "outputs": [],
   "source": [
    "prediction = svm_poly.predict(data2)"
   ]
  },
  {
   "cell_type": "code",
   "execution_count": 18,
   "id": "4a034c94",
   "metadata": {},
   "outputs": [
    {
     "name": "stdout",
     "output_type": "stream",
     "text": [
      "['tomato_yellow_leaf_curl_virus']\n"
     ]
    }
   ],
   "source": [
    "print(prediction)"
   ]
  },
  {
   "cell_type": "code",
   "execution_count": 21,
   "id": "1e12351c",
   "metadata": {},
   "outputs": [],
   "source": [
    "import pickle\n",
    "modelname = 'svm.sav'\n",
    "pickle.dump(svm_poly, open(modelname, 'wb'))"
   ]
  }
 ],
 "metadata": {
  "kernelspec": {
   "display_name": "Python 3 (ipykernel)",
   "language": "python",
   "name": "python3"
  },
  "language_info": {
   "codemirror_mode": {
    "name": "ipython",
    "version": 3
   },
   "file_extension": ".py",
   "mimetype": "text/x-python",
   "name": "python",
   "nbconvert_exporter": "python",
   "pygments_lexer": "ipython3",
   "version": "3.9.12"
  }
 },
 "nbformat": 4,
 "nbformat_minor": 5
}
