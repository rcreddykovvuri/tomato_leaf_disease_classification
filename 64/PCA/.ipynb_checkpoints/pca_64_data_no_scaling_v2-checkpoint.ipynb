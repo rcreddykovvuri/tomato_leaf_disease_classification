{
 "cells": [
  {
   "cell_type": "code",
   "execution_count": 1,
   "id": "bcdb1517",
   "metadata": {},
   "outputs": [],
   "source": [
    "import numpy as np #importing numpy\n",
    "import pandas as pd #importing pandas\n",
    "import PIL #importing pillow for image processing\n",
    "from PIL import Image#importing image from pillow library\n",
    "import skimage#importing skimage library\n",
    "import os#importing os library\n",
    "import time#importing time library\n",
    "\n",
    "#Capture start time of the program\n",
    "start_time = time.time()"
   ]
  },
  {
   "cell_type": "markdown",
   "id": "e1e76605",
   "metadata": {},
   "source": [
    "# RGB Data"
   ]
  },
  {
   "cell_type": "code",
   "execution_count": 2,
   "id": "c9d1dd08",
   "metadata": {},
   "outputs": [],
   "source": [
    "os.chdir('D://DKIT//dissertation//Dataset_of_Tomato_Leaves//plantvillage//Preprocessed_data//64//PCA//')\n",
    "features = pd.read_csv('rgb.csv')\n",
    "#changing path\n",
    "os.chdir('D://DKIT//dissertation//Dataset_of_Tomato_Leaves//plantvillage//Preprocessed_data//64//vector//')\n",
    "#reading csv file\n",
    "rgb_df = pd.read_csv('rgb_data.csv')\n",
    "features = features.values"
   ]
  },
  {
   "cell_type": "code",
   "execution_count": 3,
   "id": "c6d5658c",
   "metadata": {},
   "outputs": [],
   "source": [
    "#assigning target\n",
    "target = rgb_df['disease']\n",
    "#splitting the data to 80 percent and 20 percent\n",
    "from sklearn.model_selection import train_test_split\n",
    "Ftrain,Ftest,Ltrain,Ltest=train_test_split(features,target, test_size=0.20, random_state=24)"
   ]
  },
  {
   "cell_type": "code",
   "execution_count": 4,
   "id": "1fa0433e",
   "metadata": {},
   "outputs": [],
   "source": [
    "#importing classification report and confusion matrix\n",
    "from sklearn.metrics import classification_report, confusion_matrix"
   ]
  },
  {
   "cell_type": "markdown",
   "id": "d466ef5f",
   "metadata": {},
   "source": [
    "# SVM(poly) on RGB data"
   ]
  },
  {
   "cell_type": "code",
   "execution_count": 5,
   "id": "2427ed51",
   "metadata": {},
   "outputs": [
    {
     "name": "stdout",
     "output_type": "stream",
     "text": [
      "0.586859305125559\n"
     ]
    }
   ],
   "source": [
    "from sklearn.svm import SVC\n",
    "from sklearn.metrics import accuracy_score\n",
    "\n",
    "svm_poly = SVC(kernel='poly')\n",
    "svm_poly.fit(Ftrain,Ltrain)\n",
    "y_pred = svm_poly.predict(Ftest)\n",
    "print(accuracy_score(Ltest,y_pred))"
   ]
  },
  {
   "cell_type": "code",
   "execution_count": 6,
   "id": "bf286604",
   "metadata": {},
   "outputs": [
    {
     "name": "stdout",
     "output_type": "stream",
     "text": [
      "                               precision    recall  f1-score   support\n",
      "\n",
      "               bacterial_spot       0.41      0.74      0.53       345\n",
      "                 early_blight       0.52      0.08      0.14       153\n",
      "                      healthy       0.66      0.67      0.66       234\n",
      "                  late_blight       0.63      0.34      0.44       309\n",
      "                    leaf_mold       0.62      0.21      0.31       145\n",
      "           septoria_leaf_spot       0.45      0.44      0.45       293\n",
      "                  target_spot       0.46      0.40      0.43       240\n",
      "          tomato_mosaic_virus       0.00      0.00      0.00        54\n",
      "tomato_yellow_leaf_curl_virus       0.79      0.91      0.85       854\n",
      "      two-spotted_spider_mite       0.45      0.50      0.47       280\n",
      "\n",
      "                     accuracy                           0.59      2907\n",
      "                    macro avg       0.50      0.43      0.43      2907\n",
      "                 weighted avg       0.58      0.59      0.56      2907\n",
      "\n",
      "[[256   2   1   2   0  11   3   0  58  12]\n",
      " [ 60  12   2   6   3   8  18   0  19  25]\n",
      " [ 39   0 156  18   4   8   8   0   0   1]\n",
      " [ 40   2  37 106   5  47  21   0  36  15]\n",
      " [ 29   3  17   8  30  25  17   0   6  10]\n",
      " [ 38   0  15  16   2 130  22   0  43  27]\n",
      " [ 54   2   3   5   3  16  97   0   2  58]\n",
      " [ 25   0   5   1   0  11   1   0   1  10]\n",
      " [ 42   0   1   2   0  14   1   0 779  15]\n",
      " [ 46   2   1   4   1  18  23   0  45 140]]\n"
     ]
    },
    {
     "name": "stderr",
     "output_type": "stream",
     "text": [
      "C:\\Users\\ravic\\anaconda3\\lib\\site-packages\\sklearn\\metrics\\_classification.py:1248: UndefinedMetricWarning: Precision and F-score are ill-defined and being set to 0.0 in labels with no predicted samples. Use `zero_division` parameter to control this behavior.\n",
      "  _warn_prf(average, modifier, msg_start, len(result))\n",
      "C:\\Users\\ravic\\anaconda3\\lib\\site-packages\\sklearn\\metrics\\_classification.py:1248: UndefinedMetricWarning: Precision and F-score are ill-defined and being set to 0.0 in labels with no predicted samples. Use `zero_division` parameter to control this behavior.\n",
      "  _warn_prf(average, modifier, msg_start, len(result))\n",
      "C:\\Users\\ravic\\anaconda3\\lib\\site-packages\\sklearn\\metrics\\_classification.py:1248: UndefinedMetricWarning: Precision and F-score are ill-defined and being set to 0.0 in labels with no predicted samples. Use `zero_division` parameter to control this behavior.\n",
      "  _warn_prf(average, modifier, msg_start, len(result))\n"
     ]
    }
   ],
   "source": [
    "#classification report\n",
    "y_predict = svm_poly.fit(Ftrain, Ltrain).predict(Ftest)\n",
    "class_names = target.unique()\n",
    "print(classification_report(Ltest, y_predict, target_names=class_names))\n",
    "print(confusion_matrix(Ltest, y_predict))"
   ]
  },
  {
   "cell_type": "markdown",
   "id": "4101cb88",
   "metadata": {},
   "source": [
    "# SVM(RBF) on RGB data"
   ]
  },
  {
   "cell_type": "code",
   "execution_count": 7,
   "id": "235aaf3a",
   "metadata": {},
   "outputs": [
    {
     "name": "stdout",
     "output_type": "stream",
     "text": [
      "0.6501547987616099\n"
     ]
    }
   ],
   "source": [
    "svm_rbf = SVC(kernel='rbf')\n",
    "svm_rbf.fit(Ftrain,Ltrain)\n",
    "y_pred = svm_rbf.predict(Ftest)\n",
    "print(accuracy_score(Ltest,y_pred))"
   ]
  },
  {
   "cell_type": "code",
   "execution_count": 8,
   "id": "1c7ce3a6",
   "metadata": {},
   "outputs": [
    {
     "name": "stdout",
     "output_type": "stream",
     "text": [
      "                               precision    recall  f1-score   support\n",
      "\n",
      "               bacterial_spot       0.60      0.67      0.63       345\n",
      "                 early_blight       0.59      0.19      0.29       153\n",
      "                      healthy       0.66      0.87      0.75       234\n",
      "                  late_blight       0.62      0.45      0.52       309\n",
      "                    leaf_mold       0.62      0.31      0.41       145\n",
      "           septoria_leaf_spot       0.55      0.51      0.53       293\n",
      "                  target_spot       0.51      0.65      0.57       240\n",
      "          tomato_mosaic_virus       1.00      0.02      0.04        54\n",
      "tomato_yellow_leaf_curl_virus       0.79      0.92      0.85       854\n",
      "      two-spotted_spider_mite       0.52      0.55      0.53       280\n",
      "\n",
      "                     accuracy                           0.65      2907\n",
      "                    macro avg       0.65      0.51      0.51      2907\n",
      "                 weighted avg       0.65      0.65      0.63      2907\n",
      "\n",
      "[[230   5   5  11   2   5   8   0  66  13]\n",
      " [ 48  29   1  10   2   7  15   0  22  19]\n",
      " [  2   1 204   9   5   2  10   0   0   1]\n",
      " [ 20   7  37 139   7  35  16   0  33  15]\n",
      " [ 14   2  16  14  45  11  26   0   7  10]\n",
      " [  6   0  20  25   5 150  28   0  37  22]\n",
      " [ 15   2   9   5   6  10 156   0   4  33]\n",
      " [  6   0  10   1   1  16  10   1   0   9]\n",
      " [ 27   0   1   5   0  14   2   0 782  23]\n",
      " [ 16   3   4   5   0  23  32   0  43 154]]\n"
     ]
    }
   ],
   "source": [
    "#classification report\n",
    "y_predict = svm_rbf.fit(Ftrain, Ltrain).predict(Ftest)\n",
    "class_names = target.unique()\n",
    "print(classification_report(Ltest, y_predict, target_names=class_names))\n",
    "print(confusion_matrix(Ltest, y_predict))"
   ]
  },
  {
   "cell_type": "markdown",
   "id": "670ea3cc",
   "metadata": {},
   "source": [
    "# SVM(sigmoid) on RGB data"
   ]
  },
  {
   "cell_type": "code",
   "execution_count": null,
   "id": "8aaf1a20",
   "metadata": {},
   "outputs": [],
   "source": [
    "svm_si = SVC(kernel='sigmoid')\n",
    "svm_si.fit(Ftrain,Ltrain)\n",
    "y_pred = svm_si.predict(Ftest)\n",
    "print(accuracy_score(Ltest,y_pred))"
   ]
  },
  {
   "cell_type": "code",
   "execution_count": null,
   "id": "9beeb8fa",
   "metadata": {},
   "outputs": [],
   "source": [
    "#classification report\n",
    "y_predict = svm_si.fit(Ftrain, Ltrain).predict(Ftest)\n",
    "class_names = target.unique()\n",
    "print(classification_report(Ltest, y_predict, target_names=class_names))\n",
    "print(confusion_matrix(Ltest, y_predict))"
   ]
  },
  {
   "cell_type": "markdown",
   "id": "f985c500",
   "metadata": {},
   "source": [
    "# Bernouli Naive bayes on RGB data"
   ]
  },
  {
   "cell_type": "code",
   "execution_count": null,
   "id": "75a3f18f",
   "metadata": {},
   "outputs": [],
   "source": [
    "from sklearn.naive_bayes import BernoulliNB\n",
    "from sklearn import metrics\n",
    "bnb = BernoulliNB()\n",
    "bnb.fit(Ftrain, Ltrain)\n",
    "y_pred = bnb.predict(Ftest)\n",
    "metrics.accuracy_score(Ltest, y_pred)"
   ]
  },
  {
   "cell_type": "code",
   "execution_count": null,
   "id": "694c01aa",
   "metadata": {},
   "outputs": [],
   "source": [
    "class_names = target.unique()\n",
    "print(classification_report(Ltest, y_pred, target_names=class_names))\n",
    "print(confusion_matrix(Ltest, y_pred))"
   ]
  },
  {
   "cell_type": "markdown",
   "id": "67dd930c",
   "metadata": {},
   "source": [
    "# Multinomial Naive bayes on RGB data"
   ]
  },
  {
   "cell_type": "code",
   "execution_count": null,
   "id": "3b80acde",
   "metadata": {},
   "outputs": [],
   "source": [
    "from sklearn.naive_bayes import MultinomialNB\n",
    "mnb = BernoulliNB()\n",
    "mnb.fit(Ftrain, Ltrain)\n",
    "y_pred = mnb.predict(Ftest)\n",
    "metrics.accuracy_score(Ltest, y_pred)"
   ]
  },
  {
   "cell_type": "code",
   "execution_count": null,
   "id": "d6ed705b",
   "metadata": {},
   "outputs": [],
   "source": [
    "class_names = target.unique()\n",
    "print(classification_report(Ltest, y_pred, target_names=class_names))\n",
    "print(confusion_matrix(Ltest, y_pred))"
   ]
  },
  {
   "cell_type": "markdown",
   "id": "0e8f617d",
   "metadata": {},
   "source": [
    "# Grayscale data"
   ]
  },
  {
   "cell_type": "code",
   "execution_count": null,
   "id": "57a9845e",
   "metadata": {},
   "outputs": [],
   "source": [
    "os.chdir('D://DKIT//dissertation//Dataset_of_Tomato_Leaves//plantvillage//Preprocessed_data//64//PCA//')\n",
    "features = pd.read_csv('gray.csv')\n",
    "#changing path\n",
    "os.chdir('D://DKIT//dissertation//Dataset_of_Tomato_Leaves//plantvillage//Preprocessed_data//64//vector//')\n",
    "#reading csv file\n",
    "gray_df = pd.read_csv('gray_data.csv')\n",
    "features = features.values"
   ]
  },
  {
   "cell_type": "code",
   "execution_count": null,
   "id": "d3abef95",
   "metadata": {},
   "outputs": [],
   "source": [
    "#assigning target to split the data\n",
    "target = gray_df['disease']"
   ]
  },
  {
   "cell_type": "code",
   "execution_count": null,
   "id": "a86eb99c",
   "metadata": {},
   "outputs": [],
   "source": [
    "#splitting the data to train and test\n",
    "Ftrain,Ftest,Ltrain,Ltest=train_test_split(features,target, test_size=0.20, random_state=24)"
   ]
  },
  {
   "cell_type": "markdown",
   "id": "8bfc6d84",
   "metadata": {},
   "source": [
    "# SVM(poly) on grayscale data"
   ]
  },
  {
   "cell_type": "code",
   "execution_count": null,
   "id": "c9665abf",
   "metadata": {},
   "outputs": [],
   "source": [
    "svm_poly.fit(Ftrain,Ltrain)\n",
    "y_pred = svm_poly.predict(Ftest)\n",
    "print(accuracy_score(Ltest,y_pred))"
   ]
  },
  {
   "cell_type": "code",
   "execution_count": null,
   "id": "2456eda7",
   "metadata": {},
   "outputs": [],
   "source": [
    "#classification report\n",
    "y_predict = svm_poly.fit(Ftrain, Ltrain).predict(Ftest)\n",
    "class_names = target.unique()\n",
    "print(classification_report(Ltest, y_predict, target_names=class_names))\n",
    "print(confusion_matrix(Ltest, y_predict))"
   ]
  },
  {
   "cell_type": "markdown",
   "id": "bd417df9",
   "metadata": {},
   "source": [
    "# SVM(RBF) on grayscale data"
   ]
  },
  {
   "cell_type": "code",
   "execution_count": null,
   "id": "67772464",
   "metadata": {},
   "outputs": [],
   "source": [
    "svm_rbf.fit(Ftrain,Ltrain)\n",
    "y_pred = svm_rbf.predict(Ftest)\n",
    "print(accuracy_score(Ltest,y_pred))"
   ]
  },
  {
   "cell_type": "code",
   "execution_count": null,
   "id": "34bbfd97",
   "metadata": {},
   "outputs": [],
   "source": [
    "#classification report\n",
    "y_predict = svm_rbf.fit(Ftrain, Ltrain).predict(Ftest)\n",
    "class_names = target.unique()\n",
    "print(classification_report(Ltest, y_predict, target_names=class_names))\n",
    "print(confusion_matrix(Ltest, y_predict))"
   ]
  },
  {
   "cell_type": "markdown",
   "id": "c1ed23e8",
   "metadata": {},
   "source": [
    "# SVM(sigmoid) on Grayscale data"
   ]
  },
  {
   "cell_type": "code",
   "execution_count": null,
   "id": "b79e8630",
   "metadata": {},
   "outputs": [],
   "source": [
    "svm_si.fit(Ftrain,Ltrain)\n",
    "y_pred = svm_si.predict(Ftest)\n",
    "print(accuracy_score(Ltest,y_pred))"
   ]
  },
  {
   "cell_type": "code",
   "execution_count": null,
   "id": "c64cd0a6",
   "metadata": {},
   "outputs": [],
   "source": [
    "#classification report\n",
    "y_predict = svm_si.fit(Ftrain, Ltrain).predict(Ftest)\n",
    "class_names = target.unique()\n",
    "print(classification_report(Ltest, y_predict, target_names=class_names))\n",
    "print(confusion_matrix(Ltest, y_predict))"
   ]
  },
  {
   "cell_type": "markdown",
   "id": "8ba631c4",
   "metadata": {},
   "source": [
    "# Bernouli Naive bayes on grayscale data"
   ]
  },
  {
   "cell_type": "code",
   "execution_count": null,
   "id": "f9c1d1df",
   "metadata": {},
   "outputs": [],
   "source": [
    "bnb.fit(Ftrain, Ltrain)\n",
    "y_pred = bnb.predict(Ftest)\n",
    "metrics.accuracy_score(Ltest, y_pred)"
   ]
  },
  {
   "cell_type": "code",
   "execution_count": null,
   "id": "5349d0e6",
   "metadata": {},
   "outputs": [],
   "source": [
    "class_names = target.unique()\n",
    "print(classification_report(Ltest, y_pred, target_names=class_names))\n",
    "print(confusion_matrix(Ltest, y_pred))"
   ]
  },
  {
   "cell_type": "markdown",
   "id": "20b31faf",
   "metadata": {},
   "source": [
    "# Multinomial Naive bayes on Grayscale data"
   ]
  },
  {
   "cell_type": "code",
   "execution_count": null,
   "id": "5bf3d424",
   "metadata": {},
   "outputs": [],
   "source": [
    "mnb.fit(Ftrain, Ltrain)\n",
    "y_pred = mnb.predict(Ftest)\n",
    "metrics.accuracy_score(Ltest, y_pred)"
   ]
  },
  {
   "cell_type": "code",
   "execution_count": null,
   "id": "6ed85664",
   "metadata": {},
   "outputs": [],
   "source": [
    "class_names = target.unique()\n",
    "print(classification_report(Ltest, y_pred, target_names=class_names))\n",
    "print(confusion_matrix(Ltest, y_pred))"
   ]
  },
  {
   "cell_type": "markdown",
   "id": "6f5719a1",
   "metadata": {},
   "source": [
    "# Red Channel data"
   ]
  },
  {
   "cell_type": "code",
   "execution_count": null,
   "id": "5f8b0e11",
   "metadata": {},
   "outputs": [],
   "source": [
    "os.chdir('D://DKIT//dissertation//Dataset_of_Tomato_Leaves//plantvillage//Preprocessed_data//64//PCA//')\n",
    "features = pd.read_csv('red.csv')\n",
    "#changing path\n",
    "os.chdir('D://DKIT//dissertation//Dataset_of_Tomato_Leaves//plantvillage//Preprocessed_data//64//vector//')\n",
    "#reading csv file\n",
    "red_df = pd.read_csv('red_data.csv')\n",
    "features = features.values\n",
    "target = red_df['disease']\n",
    "#splitting the data to train and test\n",
    "Ftrain,Ftest,Ltrain,Ltest=train_test_split(features,target, test_size=0.20, random_state=24)"
   ]
  },
  {
   "cell_type": "markdown",
   "id": "c81dd4d2",
   "metadata": {},
   "source": [
    "# SVM(poly) on Red data"
   ]
  },
  {
   "cell_type": "code",
   "execution_count": null,
   "id": "a9cb2e28",
   "metadata": {},
   "outputs": [],
   "source": [
    "svm_poly.fit(Ftrain,Ltrain)\n",
    "y_pred = svm_poly.predict(Ftest)\n",
    "print(accuracy_score(Ltest,y_pred))"
   ]
  },
  {
   "cell_type": "code",
   "execution_count": null,
   "id": "35b2ceaf",
   "metadata": {},
   "outputs": [],
   "source": [
    "#classification report\n",
    "y_predict = svm_poly.fit(Ftrain, Ltrain).predict(Ftest)\n",
    "class_names = target.unique()\n",
    "print(classification_report(Ltest, y_predict, target_names=class_names))\n",
    "print(confusion_matrix(Ltest, y_predict))"
   ]
  },
  {
   "cell_type": "markdown",
   "id": "bcdfb873",
   "metadata": {},
   "source": [
    "# SVM(RBF) on Red data"
   ]
  },
  {
   "cell_type": "code",
   "execution_count": null,
   "id": "5e806290",
   "metadata": {},
   "outputs": [],
   "source": [
    "svm_rbf.fit(Ftrain,Ltrain)\n",
    "y_pred = svm_rbf.predict(Ftest)\n",
    "print(accuracy_score(Ltest,y_pred))"
   ]
  },
  {
   "cell_type": "code",
   "execution_count": null,
   "id": "e613add4",
   "metadata": {},
   "outputs": [],
   "source": [
    "#classification report\n",
    "y_predict = svm_rbf.fit(Ftrain, Ltrain).predict(Ftest)\n",
    "class_names = target.unique()\n",
    "print(classification_report(Ltest, y_predict, target_names=class_names))\n",
    "print(confusion_matrix(Ltest, y_predict))"
   ]
  },
  {
   "cell_type": "markdown",
   "id": "558a44ca",
   "metadata": {},
   "source": [
    "# SVM(sigmoid) on Red data"
   ]
  },
  {
   "cell_type": "code",
   "execution_count": null,
   "id": "dfde7ca8",
   "metadata": {},
   "outputs": [],
   "source": [
    "svm_si.fit(Ftrain,Ltrain)\n",
    "y_pred = svm_si.predict(Ftest)\n",
    "print(accuracy_score(Ltest,y_pred))"
   ]
  },
  {
   "cell_type": "code",
   "execution_count": null,
   "id": "b58142f8",
   "metadata": {},
   "outputs": [],
   "source": [
    "#classification report\n",
    "y_predict = svm_si.fit(Ftrain, Ltrain).predict(Ftest)\n",
    "class_names = target.unique()\n",
    "print(classification_report(Ltest, y_predict, target_names=class_names))\n",
    "print(confusion_matrix(Ltest, y_predict))"
   ]
  },
  {
   "cell_type": "markdown",
   "id": "5a175c93",
   "metadata": {},
   "source": [
    "# Bernouli Naive bayes on Red data"
   ]
  },
  {
   "cell_type": "code",
   "execution_count": null,
   "id": "d65fa897",
   "metadata": {},
   "outputs": [],
   "source": [
    "bnb.fit(Ftrain, Ltrain)\n",
    "y_pred = bnb.predict(Ftest)\n",
    "metrics.accuracy_score(Ltest, y_pred)"
   ]
  },
  {
   "cell_type": "code",
   "execution_count": null,
   "id": "bdadbf8a",
   "metadata": {},
   "outputs": [],
   "source": [
    "class_names = target.unique()\n",
    "print(classification_report(Ltest, y_pred, target_names=class_names))\n",
    "print(confusion_matrix(Ltest, y_pred))"
   ]
  },
  {
   "cell_type": "markdown",
   "id": "39255a27",
   "metadata": {},
   "source": [
    "# Multinomial Naive bayes on Red data"
   ]
  },
  {
   "cell_type": "code",
   "execution_count": null,
   "id": "437843bc",
   "metadata": {},
   "outputs": [],
   "source": [
    "mnb.fit(Ftrain, Ltrain)\n",
    "y_pred = mnb.predict(Ftest)\n",
    "metrics.accuracy_score(Ltest, y_pred)"
   ]
  },
  {
   "cell_type": "code",
   "execution_count": null,
   "id": "2bcb0431",
   "metadata": {},
   "outputs": [],
   "source": [
    "class_names = target.unique()\n",
    "print(classification_report(Ltest, y_pred, target_names=class_names))\n",
    "print(confusion_matrix(Ltest, y_pred))"
   ]
  },
  {
   "cell_type": "markdown",
   "id": "11e4cd00",
   "metadata": {},
   "source": [
    "# Green channel data"
   ]
  },
  {
   "cell_type": "code",
   "execution_count": null,
   "id": "40feb467",
   "metadata": {},
   "outputs": [],
   "source": [
    "os.chdir('D://DKIT//dissertation//Dataset_of_Tomato_Leaves//plantvillage//Preprocessed_data//64//PCA//')\n",
    "features = pd.read_csv('green.csv')\n",
    "#changing path\n",
    "os.chdir('D://DKIT//dissertation//Dataset_of_Tomato_Leaves//plantvillage//Preprocessed_data//64//vector//')\n",
    "#reading csv file\n",
    "green_df = pd.read_csv('green_data.csv')\n",
    "features = features.values\n",
    "target = green_df['disease']\n",
    "#splitting the data to train and test\n",
    "Ftrain,Ftest,Ltrain,Ltest=train_test_split(features,target, test_size=0.20, random_state=24)"
   ]
  },
  {
   "cell_type": "markdown",
   "id": "9aa0bc22",
   "metadata": {},
   "source": [
    "# SVM(poly) on green data"
   ]
  },
  {
   "cell_type": "code",
   "execution_count": null,
   "id": "fe39c65e",
   "metadata": {},
   "outputs": [],
   "source": [
    "svm_poly.fit(Ftrain,Ltrain)\n",
    "y_pred = svm_poly.predict(Ftest)\n",
    "print(accuracy_score(Ltest,y_pred))"
   ]
  },
  {
   "cell_type": "code",
   "execution_count": null,
   "id": "8423b846",
   "metadata": {},
   "outputs": [],
   "source": [
    "#classification report\n",
    "y_predict = svm_poly.fit(Ftrain, Ltrain).predict(Ftest)\n",
    "class_names = target.unique()\n",
    "print(classification_report(Ltest, y_predict, target_names=class_names))\n",
    "print(confusion_matrix(Ltest, y_predict))"
   ]
  },
  {
   "cell_type": "markdown",
   "id": "6112d4e4",
   "metadata": {},
   "source": [
    "# SVM(RBF) on green data"
   ]
  },
  {
   "cell_type": "code",
   "execution_count": null,
   "id": "69be936f",
   "metadata": {},
   "outputs": [],
   "source": [
    "svm_rbf.fit(Ftrain,Ltrain)\n",
    "y_pred = svm_rbf.predict(Ftest)\n",
    "print(accuracy_score(Ltest,y_pred))"
   ]
  },
  {
   "cell_type": "code",
   "execution_count": null,
   "id": "81b4c571",
   "metadata": {},
   "outputs": [],
   "source": [
    "#classification report\n",
    "y_predict = svm_rbf.fit(Ftrain, Ltrain).predict(Ftest)\n",
    "class_names = target.unique()\n",
    "print(classification_report(Ltest, y_predict, target_names=class_names))\n",
    "print(confusion_matrix(Ltest, y_predict))"
   ]
  },
  {
   "cell_type": "markdown",
   "id": "662d1937",
   "metadata": {},
   "source": [
    "# SVM(sigmoid) on green data"
   ]
  },
  {
   "cell_type": "code",
   "execution_count": null,
   "id": "7f6adcca",
   "metadata": {},
   "outputs": [],
   "source": [
    "svm_si.fit(Ftrain,Ltrain)\n",
    "y_pred = svm_si.predict(Ftest)\n",
    "print(accuracy_score(Ltest,y_pred))"
   ]
  },
  {
   "cell_type": "code",
   "execution_count": null,
   "id": "251d68f3",
   "metadata": {},
   "outputs": [],
   "source": [
    "#classification report\n",
    "y_predict = svm_si.fit(Ftrain, Ltrain).predict(Ftest)\n",
    "class_names = target.unique()\n",
    "print(classification_report(Ltest, y_predict, target_names=class_names))\n",
    "print(confusion_matrix(Ltest, y_predict))"
   ]
  },
  {
   "cell_type": "markdown",
   "id": "8aa412dd",
   "metadata": {},
   "source": [
    "# Bernouli Naive bayes on green data"
   ]
  },
  {
   "cell_type": "code",
   "execution_count": null,
   "id": "b6622b8d",
   "metadata": {},
   "outputs": [],
   "source": [
    "bnb.fit(Ftrain, Ltrain)\n",
    "y_pred = bnb.predict(Ftest)\n",
    "metrics.accuracy_score(Ltest, y_pred)"
   ]
  },
  {
   "cell_type": "code",
   "execution_count": null,
   "id": "f3c6b16f",
   "metadata": {},
   "outputs": [],
   "source": [
    "class_names = target.unique()\n",
    "print(classification_report(Ltest, y_pred, target_names=class_names))\n",
    "print(confusion_matrix(Ltest, y_pred))"
   ]
  },
  {
   "cell_type": "markdown",
   "id": "d144692e",
   "metadata": {},
   "source": [
    "# Multinomial Naive bayes on Green data"
   ]
  },
  {
   "cell_type": "code",
   "execution_count": null,
   "id": "a7a34c33",
   "metadata": {},
   "outputs": [],
   "source": [
    "mnb.fit(Ftrain, Ltrain)\n",
    "y_pred = mnb.predict(Ftest)\n",
    "metrics.accuracy_score(Ltest, y_pred)"
   ]
  },
  {
   "cell_type": "code",
   "execution_count": null,
   "id": "441ea45d",
   "metadata": {},
   "outputs": [],
   "source": [
    "class_names = target.unique()\n",
    "print(classification_report(Ltest, y_pred, target_names=class_names))\n",
    "print(confusion_matrix(Ltest, y_pred))"
   ]
  },
  {
   "cell_type": "markdown",
   "id": "a6a80ecb",
   "metadata": {},
   "source": [
    "# Blue channel data"
   ]
  },
  {
   "cell_type": "code",
   "execution_count": null,
   "id": "06094596",
   "metadata": {},
   "outputs": [],
   "source": [
    "os.chdir('D://DKIT//dissertation//Dataset_of_Tomato_Leaves//plantvillage//Preprocessed_data//64//PCA//')\n",
    "features = pd.read_csv('blue.csv')\n",
    "#changing path\n",
    "os.chdir('D://DKIT//dissertation//Dataset_of_Tomato_Leaves//plantvillage//Preprocessed_data//64//vector//')\n",
    "#reading csv file\n",
    "blue_df = pd.read_csv('blue_data.csv')\n",
    "features = features.values\n",
    "target = blue_df['disease']\n",
    "#splitting the data to train and test\n",
    "Ftrain,Ftest,Ltrain,Ltest=train_test_split(features,target, test_size=0.20, random_state=24)"
   ]
  },
  {
   "cell_type": "markdown",
   "id": "4d40997b",
   "metadata": {},
   "source": [
    "# SVM(poly) on blue data"
   ]
  },
  {
   "cell_type": "code",
   "execution_count": null,
   "id": "39b88095",
   "metadata": {},
   "outputs": [],
   "source": [
    "svm_poly.fit(Ftrain,Ltrain)\n",
    "y_pred = svm_poly.predict(Ftest)\n",
    "print(accuracy_score(Ltest,y_pred))"
   ]
  },
  {
   "cell_type": "code",
   "execution_count": null,
   "id": "dc98d740",
   "metadata": {},
   "outputs": [],
   "source": [
    "#classification report\n",
    "y_predict = svm_poly.fit(Ftrain, Ltrain).predict(Ftest)\n",
    "class_names = target.unique()\n",
    "print(classification_report(Ltest, y_predict, target_names=class_names))\n",
    "print(confusion_matrix(Ltest, y_predict))"
   ]
  },
  {
   "cell_type": "markdown",
   "id": "5226f4f2",
   "metadata": {},
   "source": [
    "# SVM(RBF) on blue data"
   ]
  },
  {
   "cell_type": "code",
   "execution_count": null,
   "id": "183a5680",
   "metadata": {},
   "outputs": [],
   "source": [
    "svm_rbf.fit(Ftrain,Ltrain)\n",
    "y_pred = svm_rbf.predict(Ftest)\n",
    "print(accuracy_score(Ltest,y_pred))"
   ]
  },
  {
   "cell_type": "code",
   "execution_count": null,
   "id": "22270861",
   "metadata": {},
   "outputs": [],
   "source": [
    "#classification report\n",
    "y_predict = svm_rbf.fit(Ftrain, Ltrain).predict(Ftest)\n",
    "class_names = target.unique()\n",
    "print(classification_report(Ltest, y_predict, target_names=class_names))\n",
    "print(confusion_matrix(Ltest, y_predict))"
   ]
  },
  {
   "cell_type": "markdown",
   "id": "09f47e7e",
   "metadata": {},
   "source": [
    "# SVM(sigmoid) on blue data"
   ]
  },
  {
   "cell_type": "code",
   "execution_count": null,
   "id": "4401c844",
   "metadata": {},
   "outputs": [],
   "source": [
    "svm_si.fit(Ftrain,Ltrain)\n",
    "y_pred = svm_si.predict(Ftest)\n",
    "print(accuracy_score(Ltest,y_pred))"
   ]
  },
  {
   "cell_type": "code",
   "execution_count": null,
   "id": "4372e59f",
   "metadata": {},
   "outputs": [],
   "source": [
    "#classification report\n",
    "y_predict = svm_si.fit(Ftrain, Ltrain).predict(Ftest)\n",
    "class_names = target.unique()\n",
    "print(classification_report(Ltest, y_predict, target_names=class_names))\n",
    "print(confusion_matrix(Ltest, y_predict))"
   ]
  },
  {
   "cell_type": "markdown",
   "id": "7401f4ab",
   "metadata": {},
   "source": [
    "# Bernouli Naive bayes on blue data"
   ]
  },
  {
   "cell_type": "code",
   "execution_count": null,
   "id": "a8ddf84b",
   "metadata": {},
   "outputs": [],
   "source": [
    "bnb.fit(Ftrain, Ltrain)\n",
    "y_pred = bnb.predict(Ftest)\n",
    "metrics.accuracy_score(Ltest, y_pred)"
   ]
  },
  {
   "cell_type": "code",
   "execution_count": null,
   "id": "944621bd",
   "metadata": {},
   "outputs": [],
   "source": [
    "class_names = target.unique()\n",
    "print(classification_report(Ltest, y_pred, target_names=class_names))\n",
    "print(confusion_matrix(Ltest, y_pred))"
   ]
  },
  {
   "cell_type": "markdown",
   "id": "cbf0037b",
   "metadata": {},
   "source": [
    "# Multinomial Naive bayes on blue data"
   ]
  },
  {
   "cell_type": "code",
   "execution_count": null,
   "id": "050a9f46",
   "metadata": {},
   "outputs": [],
   "source": [
    "mnb.fit(Ftrain, Ltrain)\n",
    "y_pred = mnb.predict(Ftest)\n",
    "metrics.accuracy_score(Ltest, y_pred)"
   ]
  },
  {
   "cell_type": "code",
   "execution_count": null,
   "id": "9a916b04",
   "metadata": {},
   "outputs": [],
   "source": [
    "class_names = target.unique()\n",
    "print(classification_report(Ltest, y_pred, target_names=class_names))\n",
    "print(confusion_matrix(Ltest, y_pred))"
   ]
  },
  {
   "cell_type": "code",
   "execution_count": null,
   "id": "195a0b21",
   "metadata": {},
   "outputs": [],
   "source": [
    "end_time = time.time()\n",
    "print(end_time - start_time)"
   ]
  }
 ],
 "metadata": {
  "kernelspec": {
   "display_name": "Python 3 (ipykernel)",
   "language": "python",
   "name": "python3"
  },
  "language_info": {
   "codemirror_mode": {
    "name": "ipython",
    "version": 3
   },
   "file_extension": ".py",
   "mimetype": "text/x-python",
   "name": "python",
   "nbconvert_exporter": "python",
   "pygments_lexer": "ipython3",
   "version": "3.9.7"
  }
 },
 "nbformat": 4,
 "nbformat_minor": 5
}
