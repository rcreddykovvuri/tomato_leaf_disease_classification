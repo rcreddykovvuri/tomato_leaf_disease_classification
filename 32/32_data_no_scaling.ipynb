{
 "cells": [
  {
   "cell_type": "code",
   "execution_count": 1,
   "id": "bcdb1517",
   "metadata": {},
   "outputs": [],
   "source": [
    "import numpy as np #importing numpy\n",
    "import pandas as pd #importing pandas\n",
    "import PIL #importing pillow for image processing\n",
    "from PIL import Image#importing image from pillow library\n",
    "import skimage#importing skimage library\n",
    "import os#importing os library\n",
    "import time#importing time library\n",
    "\n",
    "#Capture start time of the program\n",
    "start_time = time.time()"
   ]
  },
  {
   "cell_type": "code",
   "execution_count": 2,
   "id": "9ec45970",
   "metadata": {},
   "outputs": [],
   "source": [
    "#changing path\n",
    "os.chdir('D://DKIT//dissertation//Dataset_of_Tomato_Leaves//plantvillage//Preprocessed_data//32//vector//')"
   ]
  },
  {
   "cell_type": "markdown",
   "id": "7139bf53",
   "metadata": {},
   "source": [
    "# KNN on rgb data"
   ]
  },
  {
   "cell_type": "code",
   "execution_count": 3,
   "id": "9386938c",
   "metadata": {},
   "outputs": [],
   "source": [
    "#reading numpy array data\n",
    "rgb_test = np.load('rgb_data.npy')\n",
    "#reading csv file\n",
    "rgb_df = pd.read_csv('rgb_data.csv')"
   ]
  },
  {
   "cell_type": "code",
   "execution_count": 4,
   "id": "40f528b5",
   "metadata": {},
   "outputs": [],
   "source": [
    "#reading each array and appending the data\n",
    "loaded = []\n",
    "for i in rgb_test:\n",
    "    k = []\n",
    "    k = np.asarray(i,dtype='uint8')\n",
    "    loaded.append(k)"
   ]
  },
  {
   "cell_type": "code",
   "execution_count": 5,
   "id": "c6d5658c",
   "metadata": {},
   "outputs": [],
   "source": [
    "#assigning features and target\n",
    "features = loaded\n",
    "target = rgb_df['disease']\n",
    "#splitting the data to 80 percent and 20 percent\n",
    "from sklearn.model_selection import train_test_split\n",
    "Ftrain,Ftest,Ltrain,Ltest=train_test_split(features,target, test_size=0.20, random_state=24)"
   ]
  },
  {
   "cell_type": "code",
   "execution_count": 6,
   "id": "6f1171c6",
   "metadata": {},
   "outputs": [],
   "source": [
    "#K-Model on the data\n",
    "from sklearn.neighbors import KNeighborsClassifier#importing data\n",
    "#building the model\n",
    "kmodel = KNeighborsClassifier(n_neighbors=120)"
   ]
  },
  {
   "cell_type": "code",
   "execution_count": 7,
   "id": "b9fdc978",
   "metadata": {},
   "outputs": [
    {
     "name": "stdout",
     "output_type": "stream",
     "text": [
      "0.5500515995872033\n"
     ]
    }
   ],
   "source": [
    "#k-model fitting and accuracy\n",
    "kmodel.fit(Ftrain,Ltrain)\n",
    "print(kmodel.score(Ftest,Ltest))"
   ]
  },
  {
   "cell_type": "code",
   "execution_count": 8,
   "id": "1fa0433e",
   "metadata": {},
   "outputs": [],
   "source": [
    "#importing classification report and confusion matrix\n",
    "from sklearn.metrics import classification_report, confusion_matrix"
   ]
  },
  {
   "cell_type": "code",
   "execution_count": 9,
   "id": "c5085d40",
   "metadata": {},
   "outputs": [
    {
     "name": "stdout",
     "output_type": "stream",
     "text": [
      "                               precision    recall  f1-score   support\n",
      "\n",
      "               bacterial_spot       0.35      0.80      0.48       345\n",
      "                 early_blight       0.00      0.00      0.00       153\n",
      "                      healthy       0.42      0.77      0.54       234\n",
      "                  late_blight       0.50      0.38      0.43       309\n",
      "                    leaf_mold       0.70      0.48      0.57       145\n",
      "           septoria_leaf_spot       0.70      0.32      0.44       293\n",
      "                  target_spot       0.56      0.18      0.27       240\n",
      "          tomato_mosaic_virus       0.88      0.13      0.23        54\n",
      "tomato_yellow_leaf_curl_virus       0.79      0.78      0.79       854\n",
      "      two-spotted_spider_mite       0.49      0.51      0.50       280\n",
      "\n",
      "                     accuracy                           0.55      2907\n",
      "                    macro avg       0.54      0.44      0.43      2907\n",
      "                 weighted avg       0.58      0.55      0.53      2907\n",
      "\n",
      "[[275   0  33  11   0   0   1   0  23   2]\n",
      " [ 94   0  10   2   0   6  13   0  19   9]\n",
      " [ 29   0 180  16   0   0   1   0   2   6]\n",
      " [ 55   0  57 117  13  23   3   0  26  15]\n",
      " [ 22   0  17  17  70   1   0   0  10   8]\n",
      " [ 29   0  36  46  15  95  10   1  34  27]\n",
      " [108   0  31   2   0   3  43   0  10  43]\n",
      " [  6   0  10   8   2   0   0   7   7  14]\n",
      " [111   0  42   3   0   6   0   0 670  22]\n",
      " [ 67   0  11  11   0   1   6   0  42 142]]\n"
     ]
    },
    {
     "name": "stderr",
     "output_type": "stream",
     "text": [
      "C:\\Users\\ravic\\anaconda3\\lib\\site-packages\\sklearn\\metrics\\_classification.py:1318: UndefinedMetricWarning: Precision and F-score are ill-defined and being set to 0.0 in labels with no predicted samples. Use `zero_division` parameter to control this behavior.\n",
      "  _warn_prf(average, modifier, msg_start, len(result))\n",
      "C:\\Users\\ravic\\anaconda3\\lib\\site-packages\\sklearn\\metrics\\_classification.py:1318: UndefinedMetricWarning: Precision and F-score are ill-defined and being set to 0.0 in labels with no predicted samples. Use `zero_division` parameter to control this behavior.\n",
      "  _warn_prf(average, modifier, msg_start, len(result))\n",
      "C:\\Users\\ravic\\anaconda3\\lib\\site-packages\\sklearn\\metrics\\_classification.py:1318: UndefinedMetricWarning: Precision and F-score are ill-defined and being set to 0.0 in labels with no predicted samples. Use `zero_division` parameter to control this behavior.\n",
      "  _warn_prf(average, modifier, msg_start, len(result))\n"
     ]
    }
   ],
   "source": [
    "#printing results of the kmodel\n",
    "y_predict = kmodel.fit(Ftrain, Ltrain).predict(Ftest)\n",
    "class_names = target.unique()\n",
    "print(classification_report(Ltest, y_predict, target_names=class_names))\n",
    "print(confusion_matrix(Ltest, y_predict))"
   ]
  },
  {
   "cell_type": "markdown",
   "id": "d5c58638",
   "metadata": {},
   "source": [
    "# Logistic on rgb data"
   ]
  },
  {
   "cell_type": "code",
   "execution_count": 10,
   "id": "a84836ef",
   "metadata": {},
   "outputs": [
    {
     "name": "stdout",
     "output_type": "stream",
     "text": [
      "0.6250429996560027\n"
     ]
    },
    {
     "name": "stderr",
     "output_type": "stream",
     "text": [
      "C:\\Users\\ravic\\anaconda3\\lib\\site-packages\\sklearn\\linear_model\\_logistic.py:814: ConvergenceWarning: lbfgs failed to converge (status=1):\n",
      "STOP: TOTAL NO. of ITERATIONS REACHED LIMIT.\n",
      "\n",
      "Increase the number of iterations (max_iter) or scale the data as shown in:\n",
      "    https://scikit-learn.org/stable/modules/preprocessing.html\n",
      "Please also refer to the documentation for alternative solver options:\n",
      "    https://scikit-learn.org/stable/modules/linear_model.html#logistic-regression\n",
      "  n_iter_i = _check_optimize_result(\n"
     ]
    }
   ],
   "source": [
    "#importing logistic data\n",
    "from sklearn.linear_model import LogisticRegression\n",
    "model=LogisticRegression(solver='lbfgs', max_iter=10000)\n",
    "#building the model\n",
    "model.fit(Ftrain,Ltrain)\n",
    "print(model.score(Ftest,Ltest))"
   ]
  },
  {
   "cell_type": "code",
   "execution_count": 11,
   "id": "bb13d9a1",
   "metadata": {},
   "outputs": [
    {
     "name": "stdout",
     "output_type": "stream",
     "text": [
      "                               precision    recall  f1-score   support\n",
      "\n",
      "               bacterial_spot       0.59      0.72      0.65       345\n",
      "                 early_blight       0.29      0.32      0.30       153\n",
      "                      healthy       0.59      0.60      0.60       234\n",
      "                  late_blight       0.49      0.47      0.48       309\n",
      "                    leaf_mold       0.56      0.55      0.56       145\n",
      "           septoria_leaf_spot       0.52      0.50      0.51       293\n",
      "                  target_spot       0.49      0.45      0.47       240\n",
      "          tomato_mosaic_virus       0.69      0.67      0.68        54\n",
      "tomato_yellow_leaf_curl_virus       0.89      0.83      0.86       854\n",
      "      two-spotted_spider_mite       0.54      0.54      0.54       280\n",
      "\n",
      "                     accuracy                           0.63      2907\n",
      "                    macro avg       0.56      0.57      0.56      2907\n",
      "                 weighted avg       0.63      0.63      0.63      2907\n",
      "\n",
      "[[250  22  10  19   1  11   4   0  21   7]\n",
      " [ 20  49   8  25   4   6  11   0  16  14]\n",
      " [  5  11 141  22   7  12  27   0   0   9]\n",
      " [ 33  26  18 146  10  32   8   2  12  22]\n",
      " [  3   6   8  10  80  25   3   0   3   7]\n",
      " [ 22  12  17  30  19 147  13   8  13  12]\n",
      " [ 15   9  25  13   8  22 107   1   3  37]\n",
      " [  0   1   1   0   4   5   5  36   1   1]\n",
      " [ 59  11   1  21   5  15  13   0 711  18]\n",
      " [ 18  23   9  15   5   8  28   5  19 150]]\n"
     ]
    },
    {
     "name": "stderr",
     "output_type": "stream",
     "text": [
      "C:\\Users\\ravic\\anaconda3\\lib\\site-packages\\sklearn\\linear_model\\_logistic.py:814: ConvergenceWarning: lbfgs failed to converge (status=1):\n",
      "STOP: TOTAL NO. of ITERATIONS REACHED LIMIT.\n",
      "\n",
      "Increase the number of iterations (max_iter) or scale the data as shown in:\n",
      "    https://scikit-learn.org/stable/modules/preprocessing.html\n",
      "Please also refer to the documentation for alternative solver options:\n",
      "    https://scikit-learn.org/stable/modules/linear_model.html#logistic-regression\n",
      "  n_iter_i = _check_optimize_result(\n"
     ]
    }
   ],
   "source": [
    "#classification report\n",
    "y_predict = model.fit(Ftrain, Ltrain).predict(Ftest)\n",
    "class_names = target.unique()\n",
    "print(classification_report(Ltest, y_predict, target_names=class_names))\n",
    "print(confusion_matrix(Ltest, y_predict))"
   ]
  },
  {
   "cell_type": "markdown",
   "id": "6fe194bc",
   "metadata": {},
   "source": [
    "# SVM on RGB data"
   ]
  },
  {
   "cell_type": "code",
   "execution_count": 12,
   "id": "2427ed51",
   "metadata": {},
   "outputs": [
    {
     "name": "stdout",
     "output_type": "stream",
     "text": [
      "0.7261781905744754\n"
     ]
    }
   ],
   "source": [
    "#importing svm\n",
    "from sklearn.svm import SVC\n",
    "from sklearn.metrics import accuracy_score\n",
    "#builidng the model\n",
    "clf = SVC(kernel='linear')\n",
    "#fitting the model\n",
    "clf.fit(Ftrain,Ltrain)\n",
    "y_pred = clf.predict(Ftest)\n",
    "print(accuracy_score(Ltest,y_pred))"
   ]
  },
  {
   "cell_type": "code",
   "execution_count": 13,
   "id": "bf286604",
   "metadata": {},
   "outputs": [
    {
     "name": "stdout",
     "output_type": "stream",
     "text": [
      "                               precision    recall  f1-score   support\n",
      "\n",
      "               bacterial_spot       0.64      0.82      0.72       345\n",
      "                 early_blight       0.37      0.35      0.36       153\n",
      "                      healthy       0.75      0.80      0.77       234\n",
      "                  late_blight       0.66      0.65      0.65       309\n",
      "                    leaf_mold       0.65      0.60      0.62       145\n",
      "           septoria_leaf_spot       0.69      0.67      0.68       293\n",
      "                  target_spot       0.65      0.57      0.60       240\n",
      "          tomato_mosaic_virus       0.77      0.87      0.82        54\n",
      "tomato_yellow_leaf_curl_virus       0.91      0.86      0.89       854\n",
      "      two-spotted_spider_mite       0.70      0.66      0.68       280\n",
      "\n",
      "                     accuracy                           0.73      2907\n",
      "                    macro avg       0.68      0.68      0.68      2907\n",
      "                 weighted avg       0.73      0.73      0.73      2907\n",
      "\n",
      "[[284  15   2  11   0   2   2   0  28   1]\n",
      " [ 32  54   2  26   1   6   8   0   9  15]\n",
      " [  1   9 188  11   4   5  11   0   0   5]\n",
      " [ 31  15  17 200  11  17   2   0   8   8]\n",
      " [  3   4   4  11  87  24   2   3   5   2]\n",
      " [  6   9  14  20  13 195  14   7   8   7]\n",
      " [  8  23  16   2   7  14 136   1   0  33]\n",
      " [  0   0   0   0   1   6   0  47   0   0]\n",
      " [ 73   6   0  17   3   4   6   0 736   9]\n",
      " [  8  11   9   7   7   9  29   3  13 184]]\n"
     ]
    }
   ],
   "source": [
    "#classification report\n",
    "y_predict = clf.fit(Ftrain, Ltrain).predict(Ftest)\n",
    "class_names = target.unique()\n",
    "print(classification_report(Ltest, y_predict, target_names=class_names))\n",
    "print(confusion_matrix(Ltest, y_predict))"
   ]
  },
  {
   "cell_type": "markdown",
   "id": "73bef6fa",
   "metadata": {},
   "source": [
    "# Random Forest on RGB "
   ]
  },
  {
   "cell_type": "code",
   "execution_count": 14,
   "id": "6bae5a92",
   "metadata": {},
   "outputs": [],
   "source": [
    "#importing the random forest\n",
    "from sklearn.ensemble import RandomForestClassifier"
   ]
  },
  {
   "cell_type": "code",
   "execution_count": 15,
   "id": "1d08a15e",
   "metadata": {},
   "outputs": [],
   "source": [
    "#building the model\n",
    "classifier_rf = RandomForestClassifier(random_state=42, n_jobs=-1, max_depth=5,n_estimators=100, oob_score=True)"
   ]
  },
  {
   "cell_type": "code",
   "execution_count": 16,
   "id": "938ad007",
   "metadata": {},
   "outputs": [
    {
     "data": {
      "text/plain": [
       "RandomForestClassifier(max_depth=5, n_jobs=-1, oob_score=True, random_state=42)"
      ]
     },
     "execution_count": 16,
     "metadata": {},
     "output_type": "execute_result"
    }
   ],
   "source": [
    "#fitting the model\n",
    "classifier_rf.fit(Ftrain, Ltrain)"
   ]
  },
  {
   "cell_type": "code",
   "execution_count": 17,
   "id": "e1769cec",
   "metadata": {},
   "outputs": [
    {
     "data": {
      "text/plain": [
       "0.5580695113558155"
      ]
     },
     "execution_count": 17,
     "metadata": {},
     "output_type": "execute_result"
    }
   ],
   "source": [
    "classifier_rf.oob_score_"
   ]
  },
  {
   "cell_type": "code",
   "execution_count": 18,
   "id": "13c0682e",
   "metadata": {},
   "outputs": [
    {
     "name": "stdout",
     "output_type": "stream",
     "text": [
      "                               precision    recall  f1-score   support\n",
      "\n",
      "               bacterial_spot       0.73      0.57      0.64       345\n",
      "                 early_blight       0.00      0.00      0.00       153\n",
      "                      healthy       0.58      0.91      0.71       234\n",
      "                  late_blight       0.71      0.28      0.40       309\n",
      "                    leaf_mold       0.76      0.31      0.44       145\n",
      "           septoria_leaf_spot       0.57      0.44      0.50       293\n",
      "                  target_spot       0.53      0.38      0.44       240\n",
      "          tomato_mosaic_virus       0.00      0.00      0.00        54\n",
      "tomato_yellow_leaf_curl_virus       0.52      0.98      0.68       854\n",
      "      two-spotted_spider_mite       0.72      0.17      0.28       280\n",
      "\n",
      "                     accuracy                           0.57      2907\n",
      "                    macro avg       0.51      0.40      0.41      2907\n",
      "                 weighted avg       0.57      0.57      0.51      2907\n",
      "\n",
      "[[196   0  18   4   0   0   3   0 124   0]\n",
      " [ 18   0   5   3   0  18  16   0  90   3]\n",
      " [  3   0 213   0   1   1   1   0  14   1]\n",
      " [  5   0  68  86   4  36  11   0  96   3]\n",
      " [  8   0  22  11  45   6   5   0  48   0]\n",
      " [  6   0   9   7   7 129   2   0 132   1]\n",
      " [ 16   0  16   3   0  25  91   0  81   8]\n",
      " [  4   0   6   5   2   3   0   0  31   3]\n",
      " [  4   0   2   2   0   6   1   0 839   0]\n",
      " [ 10   0   7   0   0   3  41   0 171  48]]\n"
     ]
    },
    {
     "name": "stderr",
     "output_type": "stream",
     "text": [
      "C:\\Users\\ravic\\anaconda3\\lib\\site-packages\\sklearn\\metrics\\_classification.py:1318: UndefinedMetricWarning: Precision and F-score are ill-defined and being set to 0.0 in labels with no predicted samples. Use `zero_division` parameter to control this behavior.\n",
      "  _warn_prf(average, modifier, msg_start, len(result))\n",
      "C:\\Users\\ravic\\anaconda3\\lib\\site-packages\\sklearn\\metrics\\_classification.py:1318: UndefinedMetricWarning: Precision and F-score are ill-defined and being set to 0.0 in labels with no predicted samples. Use `zero_division` parameter to control this behavior.\n",
      "  _warn_prf(average, modifier, msg_start, len(result))\n",
      "C:\\Users\\ravic\\anaconda3\\lib\\site-packages\\sklearn\\metrics\\_classification.py:1318: UndefinedMetricWarning: Precision and F-score are ill-defined and being set to 0.0 in labels with no predicted samples. Use `zero_division` parameter to control this behavior.\n",
      "  _warn_prf(average, modifier, msg_start, len(result))\n"
     ]
    }
   ],
   "source": [
    "#classification report\n",
    "y_predict = classifier_rf.fit(Ftrain, Ltrain).predict(Ftest)\n",
    "class_names = target.unique()\n",
    "print(classification_report(Ltest, y_predict, target_names=class_names))\n",
    "print(confusion_matrix(Ltest, y_predict))"
   ]
  },
  {
   "cell_type": "markdown",
   "id": "b6a094e4",
   "metadata": {},
   "source": [
    "# Naive Bayes on RGB data"
   ]
  },
  {
   "cell_type": "code",
   "execution_count": 19,
   "id": "a5bc755b",
   "metadata": {},
   "outputs": [
    {
     "data": {
      "text/plain": [
       "GaussianNB()"
      ]
     },
     "execution_count": 19,
     "metadata": {},
     "output_type": "execute_result"
    }
   ],
   "source": [
    "#importing gaussian naive bayes model\n",
    "from sklearn.naive_bayes import GaussianNB\n",
    "gnb = GaussianNB()\n",
    "#fitting the model\n",
    "gnb.fit(Ftrain, Ltrain)"
   ]
  },
  {
   "cell_type": "code",
   "execution_count": 20,
   "id": "6d162dcc",
   "metadata": {},
   "outputs": [],
   "source": [
    "#predicting the model\n",
    "y_pred = gnb.predict(Ftest)"
   ]
  },
  {
   "cell_type": "code",
   "execution_count": 21,
   "id": "8f7b4bab",
   "metadata": {},
   "outputs": [
    {
     "data": {
      "text/plain": [
       "0.5067079463364293"
      ]
     },
     "execution_count": 21,
     "metadata": {},
     "output_type": "execute_result"
    }
   ],
   "source": [
    "#import metrics\n",
    "from sklearn import metrics\n",
    "metrics.accuracy_score(Ltest, y_pred)"
   ]
  },
  {
   "cell_type": "code",
   "execution_count": 22,
   "id": "3cbc60c0",
   "metadata": {},
   "outputs": [
    {
     "name": "stdout",
     "output_type": "stream",
     "text": [
      "                               precision    recall  f1-score   support\n",
      "\n",
      "               bacterial_spot       0.53      0.76      0.62       345\n",
      "                 early_blight       0.23      0.32      0.27       153\n",
      "                      healthy       0.43      0.69      0.53       234\n",
      "                  late_blight       0.49      0.29      0.37       309\n",
      "                    leaf_mold       0.53      0.43      0.48       145\n",
      "           septoria_leaf_spot       0.45      0.46      0.45       293\n",
      "                  target_spot       0.54      0.45      0.49       240\n",
      "          tomato_mosaic_virus       0.19      0.72      0.30        54\n",
      "tomato_yellow_leaf_curl_virus       0.88      0.50      0.64       854\n",
      "      two-spotted_spider_mite       0.41      0.48      0.44       280\n",
      "\n",
      "                     accuracy                           0.51      2907\n",
      "                    macro avg       0.47      0.51      0.46      2907\n",
      "                 weighted avg       0.58      0.51      0.52      2907\n",
      "\n",
      "[[261   7  31   8   0   2   6   6  20   4]\n",
      " [ 36  49   2  24   0  10  17   4   4   7]\n",
      " [  9   6 162   8   6   3  22   7   2   9]\n",
      " [  3  49  92  90  18  30   6  13   4   4]\n",
      " [  6   6   5  13  63  23   1  21   2   5]\n",
      " [  6  10  39   7  18 134  19  19  14  27]\n",
      " [ 18  14   2   7   3  23 109  11   2  51]\n",
      " [  5   0   3   0   1   3   0  39   1   2]\n",
      " [135  43  39  22   6  51   2  40 431  85]\n",
      " [ 14  25   6   5   3  22  19  42   9 135]]\n"
     ]
    }
   ],
   "source": [
    "# classification model\n",
    "class_names = target.unique()\n",
    "print(classification_report(Ltest, y_pred, target_names=class_names))\n",
    "print(confusion_matrix(Ltest, y_pred))"
   ]
  },
  {
   "cell_type": "markdown",
   "id": "75bb69d9",
   "metadata": {},
   "source": [
    "# Decision Tree on RGB data"
   ]
  },
  {
   "cell_type": "code",
   "execution_count": 23,
   "id": "6a765709",
   "metadata": {},
   "outputs": [],
   "source": [
    "#importing decision tree\n",
    "from sklearn.tree import DecisionTreeClassifier\n",
    "classifier_tree = DecisionTreeClassifier()"
   ]
  },
  {
   "cell_type": "code",
   "execution_count": 24,
   "id": "feb5f853",
   "metadata": {},
   "outputs": [
    {
     "data": {
      "text/plain": [
       "0.49432404540763675"
      ]
     },
     "execution_count": 24,
     "metadata": {},
     "output_type": "execute_result"
    }
   ],
   "source": [
    "#fitting the model\n",
    "classifier_tree.fit(Ftrain, Ltrain)\n",
    "classifier_tree.score(Ftest,Ltest)"
   ]
  },
  {
   "cell_type": "code",
   "execution_count": 25,
   "id": "1bdf54ae",
   "metadata": {},
   "outputs": [
    {
     "name": "stdout",
     "output_type": "stream",
     "text": [
      "                               precision    recall  f1-score   support\n",
      "\n",
      "               bacterial_spot       0.49      0.56      0.52       345\n",
      "                 early_blight       0.13      0.14      0.13       153\n",
      "                      healthy       0.65      0.68      0.67       234\n",
      "                  late_blight       0.42      0.42      0.42       309\n",
      "                    leaf_mold       0.36      0.33      0.34       145\n",
      "           septoria_leaf_spot       0.43      0.41      0.42       293\n",
      "                  target_spot       0.36      0.33      0.34       240\n",
      "          tomato_mosaic_virus       0.10      0.11      0.10        54\n",
      "tomato_yellow_leaf_curl_virus       0.73      0.69      0.71       854\n",
      "      two-spotted_spider_mite       0.38      0.39      0.38       280\n",
      "\n",
      "                     accuracy                           0.50      2907\n",
      "                    macro avg       0.40      0.41      0.40      2907\n",
      "                 weighted avg       0.50      0.50      0.50      2907\n",
      "\n",
      "[[194  15  10  30   6  13  15   1  48  13]\n",
      " [ 23  21   5  22   6  12  13   0  30  21]\n",
      " [ 11   7 160  19   5   4  11   4   3  10]\n",
      " [ 18  21  14 131  21  37  13   9  28  17]\n",
      " [  6  11  10  15  48  14   5   7  16  13]\n",
      " [ 16  14   5  26  13 120  25   9  49  16]\n",
      " [ 26  14  18  16   9  21  78  11  12  35]\n",
      " [  5   2   4   7   5   8   2   6   5  10]\n",
      " [ 80  28   9  25  11  44  18  10 590  39]\n",
      " [ 20  27  10  18  11   9  39   6  32 108]]\n"
     ]
    }
   ],
   "source": [
    "#classification report\n",
    "y_predict = classifier_tree.fit(Ftrain, Ltrain).predict(Ftest)\n",
    "class_names = target.unique()\n",
    "print(classification_report(Ltest, y_predict, target_names=class_names))\n",
    "print(confusion_matrix(Ltest, y_predict))"
   ]
  },
  {
   "cell_type": "markdown",
   "id": "c9daaaee",
   "metadata": {},
   "source": [
    "# KNN on grayscale data"
   ]
  },
  {
   "cell_type": "code",
   "execution_count": 26,
   "id": "57a9845e",
   "metadata": {},
   "outputs": [],
   "source": [
    "#reading numpy array data\n",
    "gray_test = np.load('gray_test.npy')\n",
    "#reading csv file\n",
    "gray_df = pd.read_csv('gray_data.csv')"
   ]
  },
  {
   "cell_type": "code",
   "execution_count": 27,
   "id": "25d4fea2",
   "metadata": {},
   "outputs": [],
   "source": [
    "#reading each array and appending to loaded\n",
    "loaded = []\n",
    "for i in gray_test:\n",
    "    k = []\n",
    "    k = np.asarray(i,dtype='uint8')\n",
    "    loaded.append(k)"
   ]
  },
  {
   "cell_type": "code",
   "execution_count": 28,
   "id": "d3abef95",
   "metadata": {},
   "outputs": [],
   "source": [
    "#assigning features and target\n",
    "features = loaded\n",
    "target = gray_df['disease']"
   ]
  },
  {
   "cell_type": "code",
   "execution_count": 29,
   "id": "6f75adfd",
   "metadata": {},
   "outputs": [
    {
     "data": {
      "text/plain": [
       "0.5500515995872033"
      ]
     },
     "execution_count": 29,
     "metadata": {},
     "output_type": "execute_result"
    }
   ],
   "source": [
    "#fitting the model\n",
    "kmodel.fit(Ftrain,Ltrain)\n",
    "kmodel.score(Ftest,Ltest)"
   ]
  },
  {
   "cell_type": "code",
   "execution_count": 30,
   "id": "20df9552",
   "metadata": {},
   "outputs": [
    {
     "name": "stdout",
     "output_type": "stream",
     "text": [
      "                               precision    recall  f1-score   support\n",
      "\n",
      "               bacterial_spot       0.35      0.80      0.48       345\n",
      "                 early_blight       0.00      0.00      0.00       153\n",
      "                      healthy       0.42      0.77      0.54       234\n",
      "                  late_blight       0.50      0.38      0.43       309\n",
      "                    leaf_mold       0.70      0.48      0.57       145\n",
      "           septoria_leaf_spot       0.70      0.32      0.44       293\n",
      "                  target_spot       0.56      0.18      0.27       240\n",
      "          tomato_mosaic_virus       0.88      0.13      0.23        54\n",
      "tomato_yellow_leaf_curl_virus       0.79      0.78      0.79       854\n",
      "      two-spotted_spider_mite       0.49      0.51      0.50       280\n",
      "\n",
      "                     accuracy                           0.55      2907\n",
      "                    macro avg       0.54      0.44      0.43      2907\n",
      "                 weighted avg       0.58      0.55      0.53      2907\n",
      "\n",
      "[[275   0  33  11   0   0   1   0  23   2]\n",
      " [ 94   0  10   2   0   6  13   0  19   9]\n",
      " [ 29   0 180  16   0   0   1   0   2   6]\n",
      " [ 55   0  57 117  13  23   3   0  26  15]\n",
      " [ 22   0  17  17  70   1   0   0  10   8]\n",
      " [ 29   0  36  46  15  95  10   1  34  27]\n",
      " [108   0  31   2   0   3  43   0  10  43]\n",
      " [  6   0  10   8   2   0   0   7   7  14]\n",
      " [111   0  42   3   0   6   0   0 670  22]\n",
      " [ 67   0  11  11   0   1   6   0  42 142]]\n"
     ]
    },
    {
     "name": "stderr",
     "output_type": "stream",
     "text": [
      "C:\\Users\\ravic\\anaconda3\\lib\\site-packages\\sklearn\\metrics\\_classification.py:1318: UndefinedMetricWarning: Precision and F-score are ill-defined and being set to 0.0 in labels with no predicted samples. Use `zero_division` parameter to control this behavior.\n",
      "  _warn_prf(average, modifier, msg_start, len(result))\n",
      "C:\\Users\\ravic\\anaconda3\\lib\\site-packages\\sklearn\\metrics\\_classification.py:1318: UndefinedMetricWarning: Precision and F-score are ill-defined and being set to 0.0 in labels with no predicted samples. Use `zero_division` parameter to control this behavior.\n",
      "  _warn_prf(average, modifier, msg_start, len(result))\n",
      "C:\\Users\\ravic\\anaconda3\\lib\\site-packages\\sklearn\\metrics\\_classification.py:1318: UndefinedMetricWarning: Precision and F-score are ill-defined and being set to 0.0 in labels with no predicted samples. Use `zero_division` parameter to control this behavior.\n",
      "  _warn_prf(average, modifier, msg_start, len(result))\n"
     ]
    }
   ],
   "source": [
    "#classification report\n",
    "y_predict = kmodel.fit(Ftrain, Ltrain).predict(Ftest)\n",
    "class_names = target.unique()\n",
    "print(classification_report(Ltest, y_predict, target_names=class_names))\n",
    "print(confusion_matrix(Ltest, y_predict))"
   ]
  },
  {
   "cell_type": "markdown",
   "id": "197eedfc",
   "metadata": {},
   "source": [
    "# Logistic on grayscale data"
   ]
  },
  {
   "cell_type": "code",
   "execution_count": 31,
   "id": "9fd6cafe",
   "metadata": {},
   "outputs": [
    {
     "name": "stderr",
     "output_type": "stream",
     "text": [
      "C:\\Users\\ravic\\anaconda3\\lib\\site-packages\\sklearn\\linear_model\\_logistic.py:814: ConvergenceWarning: lbfgs failed to converge (status=1):\n",
      "STOP: TOTAL NO. of ITERATIONS REACHED LIMIT.\n",
      "\n",
      "Increase the number of iterations (max_iter) or scale the data as shown in:\n",
      "    https://scikit-learn.org/stable/modules/preprocessing.html\n",
      "Please also refer to the documentation for alternative solver options:\n",
      "    https://scikit-learn.org/stable/modules/linear_model.html#logistic-regression\n",
      "  n_iter_i = _check_optimize_result(\n"
     ]
    },
    {
     "data": {
      "text/plain": [
       "0.6250429996560027"
      ]
     },
     "execution_count": 31,
     "metadata": {},
     "output_type": "execute_result"
    }
   ],
   "source": [
    "#fitting the model\n",
    "model.fit(Ftrain,Ltrain)\n",
    "model.score(Ftest,Ltest)"
   ]
  },
  {
   "cell_type": "code",
   "execution_count": 32,
   "id": "834920c5",
   "metadata": {},
   "outputs": [
    {
     "name": "stdout",
     "output_type": "stream",
     "text": [
      "                               precision    recall  f1-score   support\n",
      "\n",
      "               bacterial_spot       0.59      0.72      0.65       345\n",
      "                 early_blight       0.29      0.32      0.30       153\n",
      "                      healthy       0.59      0.60      0.60       234\n",
      "                  late_blight       0.49      0.47      0.48       309\n",
      "                    leaf_mold       0.56      0.55      0.56       145\n",
      "           septoria_leaf_spot       0.52      0.50      0.51       293\n",
      "                  target_spot       0.49      0.45      0.47       240\n",
      "          tomato_mosaic_virus       0.69      0.67      0.68        54\n",
      "tomato_yellow_leaf_curl_virus       0.89      0.83      0.86       854\n",
      "      two-spotted_spider_mite       0.54      0.54      0.54       280\n",
      "\n",
      "                     accuracy                           0.63      2907\n",
      "                    macro avg       0.56      0.57      0.56      2907\n",
      "                 weighted avg       0.63      0.63      0.63      2907\n",
      "\n",
      "[[250  22  10  19   1  11   4   0  21   7]\n",
      " [ 20  49   8  25   4   6  11   0  16  14]\n",
      " [  5  11 141  22   7  12  27   0   0   9]\n",
      " [ 33  26  18 146  10  32   8   2  12  22]\n",
      " [  3   6   8  10  80  25   3   0   3   7]\n",
      " [ 22  12  17  30  19 147  13   8  13  12]\n",
      " [ 15   9  25  13   8  22 107   1   3  37]\n",
      " [  0   1   1   0   4   5   5  36   1   1]\n",
      " [ 59  11   1  21   5  15  13   0 711  18]\n",
      " [ 18  23   9  15   5   8  28   5  19 150]]\n"
     ]
    },
    {
     "name": "stderr",
     "output_type": "stream",
     "text": [
      "C:\\Users\\ravic\\anaconda3\\lib\\site-packages\\sklearn\\linear_model\\_logistic.py:814: ConvergenceWarning: lbfgs failed to converge (status=1):\n",
      "STOP: TOTAL NO. of ITERATIONS REACHED LIMIT.\n",
      "\n",
      "Increase the number of iterations (max_iter) or scale the data as shown in:\n",
      "    https://scikit-learn.org/stable/modules/preprocessing.html\n",
      "Please also refer to the documentation for alternative solver options:\n",
      "    https://scikit-learn.org/stable/modules/linear_model.html#logistic-regression\n",
      "  n_iter_i = _check_optimize_result(\n"
     ]
    }
   ],
   "source": [
    "#classification report\n",
    "y_predict = model.fit(Ftrain, Ltrain).predict(Ftest)\n",
    "class_names = target.unique()\n",
    "print(classification_report(Ltest, y_predict, target_names=class_names))\n",
    "print(confusion_matrix(Ltest, y_predict))"
   ]
  },
  {
   "cell_type": "markdown",
   "id": "5284f869",
   "metadata": {},
   "source": [
    "# SVM on Grayscale data"
   ]
  },
  {
   "cell_type": "code",
   "execution_count": 33,
   "id": "d0db5c80",
   "metadata": {},
   "outputs": [
    {
     "name": "stdout",
     "output_type": "stream",
     "text": [
      "0.7261781905744754\n"
     ]
    }
   ],
   "source": [
    "#fitting the model\n",
    "clf.fit(Ftrain,Ltrain)\n",
    "y_pred = clf.predict(Ftest)\n",
    "print(accuracy_score(Ltest,y_pred))"
   ]
  },
  {
   "cell_type": "code",
   "execution_count": 34,
   "id": "05d3b675",
   "metadata": {},
   "outputs": [
    {
     "name": "stdout",
     "output_type": "stream",
     "text": [
      "                               precision    recall  f1-score   support\n",
      "\n",
      "               bacterial_spot       0.64      0.82      0.72       345\n",
      "                 early_blight       0.37      0.35      0.36       153\n",
      "                      healthy       0.75      0.80      0.77       234\n",
      "                  late_blight       0.66      0.65      0.65       309\n",
      "                    leaf_mold       0.65      0.60      0.62       145\n",
      "           septoria_leaf_spot       0.69      0.67      0.68       293\n",
      "                  target_spot       0.65      0.57      0.60       240\n",
      "          tomato_mosaic_virus       0.77      0.87      0.82        54\n",
      "tomato_yellow_leaf_curl_virus       0.91      0.86      0.89       854\n",
      "      two-spotted_spider_mite       0.70      0.66      0.68       280\n",
      "\n",
      "                     accuracy                           0.73      2907\n",
      "                    macro avg       0.68      0.68      0.68      2907\n",
      "                 weighted avg       0.73      0.73      0.73      2907\n",
      "\n",
      "[[284  15   2  11   0   2   2   0  28   1]\n",
      " [ 32  54   2  26   1   6   8   0   9  15]\n",
      " [  1   9 188  11   4   5  11   0   0   5]\n",
      " [ 31  15  17 200  11  17   2   0   8   8]\n",
      " [  3   4   4  11  87  24   2   3   5   2]\n",
      " [  6   9  14  20  13 195  14   7   8   7]\n",
      " [  8  23  16   2   7  14 136   1   0  33]\n",
      " [  0   0   0   0   1   6   0  47   0   0]\n",
      " [ 73   6   0  17   3   4   6   0 736   9]\n",
      " [  8  11   9   7   7   9  29   3  13 184]]\n"
     ]
    }
   ],
   "source": [
    "#classification report on model\n",
    "y_predict = clf.fit(Ftrain, Ltrain).predict(Ftest)\n",
    "class_names = target.unique()\n",
    "print(classification_report(Ltest, y_predict, target_names=class_names))\n",
    "print(confusion_matrix(Ltest, y_predict))"
   ]
  },
  {
   "cell_type": "markdown",
   "id": "576fd580",
   "metadata": {},
   "source": [
    "# Random Forest on Grayscale"
   ]
  },
  {
   "cell_type": "code",
   "execution_count": 35,
   "id": "9dfa979e",
   "metadata": {},
   "outputs": [
    {
     "data": {
      "text/plain": [
       "RandomForestClassifier(max_depth=5, n_jobs=-1, oob_score=True, random_state=42)"
      ]
     },
     "execution_count": 35,
     "metadata": {},
     "output_type": "execute_result"
    }
   ],
   "source": [
    "#fitting the model\n",
    "classifier_rf.fit(Ftrain, Ltrain)"
   ]
  },
  {
   "cell_type": "code",
   "execution_count": 36,
   "id": "2b4347ef",
   "metadata": {},
   "outputs": [
    {
     "data": {
      "text/plain": [
       "0.5580695113558155"
      ]
     },
     "execution_count": 36,
     "metadata": {},
     "output_type": "execute_result"
    }
   ],
   "source": [
    "classifier_rf.oob_score_"
   ]
  },
  {
   "cell_type": "code",
   "execution_count": 37,
   "id": "8b7d285d",
   "metadata": {},
   "outputs": [
    {
     "name": "stdout",
     "output_type": "stream",
     "text": [
      "                               precision    recall  f1-score   support\n",
      "\n",
      "               bacterial_spot       0.73      0.57      0.64       345\n",
      "                 early_blight       0.00      0.00      0.00       153\n",
      "                      healthy       0.58      0.91      0.71       234\n",
      "                  late_blight       0.71      0.28      0.40       309\n",
      "                    leaf_mold       0.76      0.31      0.44       145\n",
      "           septoria_leaf_spot       0.57      0.44      0.50       293\n",
      "                  target_spot       0.53      0.38      0.44       240\n",
      "          tomato_mosaic_virus       0.00      0.00      0.00        54\n",
      "tomato_yellow_leaf_curl_virus       0.52      0.98      0.68       854\n",
      "      two-spotted_spider_mite       0.72      0.17      0.28       280\n",
      "\n",
      "                     accuracy                           0.57      2907\n",
      "                    macro avg       0.51      0.40      0.41      2907\n",
      "                 weighted avg       0.57      0.57      0.51      2907\n",
      "\n",
      "[[196   0  18   4   0   0   3   0 124   0]\n",
      " [ 18   0   5   3   0  18  16   0  90   3]\n",
      " [  3   0 213   0   1   1   1   0  14   1]\n",
      " [  5   0  68  86   4  36  11   0  96   3]\n",
      " [  8   0  22  11  45   6   5   0  48   0]\n",
      " [  6   0   9   7   7 129   2   0 132   1]\n",
      " [ 16   0  16   3   0  25  91   0  81   8]\n",
      " [  4   0   6   5   2   3   0   0  31   3]\n",
      " [  4   0   2   2   0   6   1   0 839   0]\n",
      " [ 10   0   7   0   0   3  41   0 171  48]]\n"
     ]
    },
    {
     "name": "stderr",
     "output_type": "stream",
     "text": [
      "C:\\Users\\ravic\\anaconda3\\lib\\site-packages\\sklearn\\metrics\\_classification.py:1318: UndefinedMetricWarning: Precision and F-score are ill-defined and being set to 0.0 in labels with no predicted samples. Use `zero_division` parameter to control this behavior.\n",
      "  _warn_prf(average, modifier, msg_start, len(result))\n",
      "C:\\Users\\ravic\\anaconda3\\lib\\site-packages\\sklearn\\metrics\\_classification.py:1318: UndefinedMetricWarning: Precision and F-score are ill-defined and being set to 0.0 in labels with no predicted samples. Use `zero_division` parameter to control this behavior.\n",
      "  _warn_prf(average, modifier, msg_start, len(result))\n",
      "C:\\Users\\ravic\\anaconda3\\lib\\site-packages\\sklearn\\metrics\\_classification.py:1318: UndefinedMetricWarning: Precision and F-score are ill-defined and being set to 0.0 in labels with no predicted samples. Use `zero_division` parameter to control this behavior.\n",
      "  _warn_prf(average, modifier, msg_start, len(result))\n"
     ]
    }
   ],
   "source": [
    "#classification report\n",
    "y_predict = classifier_rf.fit(Ftrain, Ltrain).predict(Ftest)\n",
    "class_names = target.unique()\n",
    "print(classification_report(Ltest, y_predict, target_names=class_names))\n",
    "print(confusion_matrix(Ltest, y_predict))"
   ]
  },
  {
   "cell_type": "markdown",
   "id": "8befce61",
   "metadata": {},
   "source": [
    "# Naive bayes on Grayscale"
   ]
  },
  {
   "cell_type": "code",
   "execution_count": 38,
   "id": "0d1a6d3b",
   "metadata": {},
   "outputs": [
    {
     "data": {
      "text/plain": [
       "GaussianNB()"
      ]
     },
     "execution_count": 38,
     "metadata": {},
     "output_type": "execute_result"
    }
   ],
   "source": [
    "#fitting the model\n",
    "\n",
    "gnb.fit(Ftrain, Ltrain)"
   ]
  },
  {
   "cell_type": "code",
   "execution_count": 39,
   "id": "053c9a09",
   "metadata": {},
   "outputs": [
    {
     "data": {
      "text/plain": [
       "0.5067079463364293"
      ]
     },
     "execution_count": 39,
     "metadata": {},
     "output_type": "execute_result"
    }
   ],
   "source": [
    "#predicting the outputs\n",
    "y_pred = gnb.predict(Ftest)\n",
    "metrics.accuracy_score(Ltest, y_pred)"
   ]
  },
  {
   "cell_type": "code",
   "execution_count": 40,
   "id": "0e53ae2c",
   "metadata": {},
   "outputs": [
    {
     "name": "stdout",
     "output_type": "stream",
     "text": [
      "                               precision    recall  f1-score   support\n",
      "\n",
      "               bacterial_spot       0.53      0.76      0.62       345\n",
      "                 early_blight       0.23      0.32      0.27       153\n",
      "                      healthy       0.43      0.69      0.53       234\n",
      "                  late_blight       0.49      0.29      0.37       309\n",
      "                    leaf_mold       0.53      0.43      0.48       145\n",
      "           septoria_leaf_spot       0.45      0.46      0.45       293\n",
      "                  target_spot       0.54      0.45      0.49       240\n",
      "          tomato_mosaic_virus       0.19      0.72      0.30        54\n",
      "tomato_yellow_leaf_curl_virus       0.88      0.50      0.64       854\n",
      "      two-spotted_spider_mite       0.41      0.48      0.44       280\n",
      "\n",
      "                     accuracy                           0.51      2907\n",
      "                    macro avg       0.47      0.51      0.46      2907\n",
      "                 weighted avg       0.58      0.51      0.52      2907\n",
      "\n",
      "[[261   7  31   8   0   2   6   6  20   4]\n",
      " [ 36  49   2  24   0  10  17   4   4   7]\n",
      " [  9   6 162   8   6   3  22   7   2   9]\n",
      " [  3  49  92  90  18  30   6  13   4   4]\n",
      " [  6   6   5  13  63  23   1  21   2   5]\n",
      " [  6  10  39   7  18 134  19  19  14  27]\n",
      " [ 18  14   2   7   3  23 109  11   2  51]\n",
      " [  5   0   3   0   1   3   0  39   1   2]\n",
      " [135  43  39  22   6  51   2  40 431  85]\n",
      " [ 14  25   6   5   3  22  19  42   9 135]]\n"
     ]
    }
   ],
   "source": [
    "#classification report\n",
    "class_names = target.unique()\n",
    "print(classification_report(Ltest, y_pred, target_names=class_names))\n",
    "print(confusion_matrix(Ltest, y_pred))"
   ]
  },
  {
   "cell_type": "markdown",
   "id": "af8a8fca",
   "metadata": {},
   "source": [
    "# Decision Tree on Grayscale"
   ]
  },
  {
   "cell_type": "code",
   "execution_count": 41,
   "id": "4d1eb3ec",
   "metadata": {},
   "outputs": [
    {
     "data": {
      "text/plain": [
       "0.49879600963192294"
      ]
     },
     "execution_count": 41,
     "metadata": {},
     "output_type": "execute_result"
    }
   ],
   "source": [
    "#fitting the model\n",
    "classifier_tree.fit(Ftrain, Ltrain)\n",
    "classifier_tree.score(Ftest,Ltest)"
   ]
  },
  {
   "cell_type": "code",
   "execution_count": 42,
   "id": "5e93e78c",
   "metadata": {},
   "outputs": [
    {
     "name": "stdout",
     "output_type": "stream",
     "text": [
      "                               precision    recall  f1-score   support\n",
      "\n",
      "               bacterial_spot       0.50      0.55      0.52       345\n",
      "                 early_blight       0.14      0.14      0.14       153\n",
      "                      healthy       0.64      0.67      0.66       234\n",
      "                  late_blight       0.44      0.44      0.44       309\n",
      "                    leaf_mold       0.33      0.32      0.33       145\n",
      "           septoria_leaf_spot       0.42      0.40      0.41       293\n",
      "                  target_spot       0.36      0.33      0.35       240\n",
      "          tomato_mosaic_virus       0.04      0.06      0.05        54\n",
      "tomato_yellow_leaf_curl_virus       0.75      0.70      0.72       854\n",
      "      two-spotted_spider_mite       0.38      0.39      0.38       280\n",
      "\n",
      "                     accuracy                           0.50      2907\n",
      "                    macro avg       0.40      0.40      0.40      2907\n",
      "                 weighted avg       0.51      0.50      0.51      2907\n",
      "\n",
      "[[190  18   9  26  10  14  10   5  43  20]\n",
      " [ 26  22   5  21   8   7  15   3  29  17]\n",
      " [ 13   8 156  22   6   9   8   3   5   4]\n",
      " [ 17  26  14 136  13  35   9  12  27  20]\n",
      " [ 13  11   5  11  47  18   8   6  14  12]\n",
      " [ 14  10   6  28  13 118  25  14  42  23]\n",
      " [ 17  13  26  18  11  24  80   5  12  34]\n",
      " [  4   3   5   4   8   9   2   3   6  10]\n",
      " [ 71  27   9  23  12  37  20  11 602  42]\n",
      " [ 16  21   7  22  13  11  43   9  28 110]]\n"
     ]
    }
   ],
   "source": [
    "#classification report\n",
    "y_predict = classifier_tree.fit(Ftrain, Ltrain).predict(Ftest)\n",
    "class_names = target.unique()\n",
    "print(classification_report(Ltest, y_predict, target_names=class_names))\n",
    "print(confusion_matrix(Ltest, y_predict))"
   ]
  },
  {
   "cell_type": "markdown",
   "id": "e42f549f",
   "metadata": {},
   "source": [
    "# KNN on Red channel data"
   ]
  },
  {
   "cell_type": "code",
   "execution_count": 43,
   "id": "cb75cbbd",
   "metadata": {},
   "outputs": [],
   "source": [
    "#reading numpy array data\n",
    "red_test = np.load('red_data.npy')\n",
    "#reading csv file\n",
    "red_df = pd.read_csv('red_data.csv')"
   ]
  },
  {
   "cell_type": "code",
   "execution_count": 44,
   "id": "7fda7839",
   "metadata": {},
   "outputs": [],
   "source": [
    "#reading the data and appending to loaded\n",
    "loaded = []\n",
    "for i in red_test:\n",
    "    k = []\n",
    "    k = np.asarray(i,dtype='uint8')\n",
    "    loaded.append(k)\n",
    "#assigning features and target\n",
    "features = loaded\n",
    "target = red_df['disease']"
   ]
  },
  {
   "cell_type": "code",
   "execution_count": 45,
   "id": "683839f2",
   "metadata": {},
   "outputs": [
    {
     "data": {
      "text/plain": [
       "0.5500515995872033"
      ]
     },
     "execution_count": 45,
     "metadata": {},
     "output_type": "execute_result"
    }
   ],
   "source": [
    "#fitting the model\n",
    "kmodel.fit(Ftrain,Ltrain)\n",
    "kmodel.score(Ftest,Ltest)"
   ]
  },
  {
   "cell_type": "code",
   "execution_count": 46,
   "id": "a5863749",
   "metadata": {},
   "outputs": [
    {
     "name": "stdout",
     "output_type": "stream",
     "text": [
      "                               precision    recall  f1-score   support\n",
      "\n",
      "               bacterial_spot       0.35      0.80      0.48       345\n",
      "                 early_blight       0.00      0.00      0.00       153\n",
      "                      healthy       0.42      0.77      0.54       234\n",
      "                  late_blight       0.50      0.38      0.43       309\n",
      "                    leaf_mold       0.70      0.48      0.57       145\n",
      "           septoria_leaf_spot       0.70      0.32      0.44       293\n",
      "                  target_spot       0.56      0.18      0.27       240\n",
      "          tomato_mosaic_virus       0.88      0.13      0.23        54\n",
      "tomato_yellow_leaf_curl_virus       0.79      0.78      0.79       854\n",
      "      two-spotted_spider_mite       0.49      0.51      0.50       280\n",
      "\n",
      "                     accuracy                           0.55      2907\n",
      "                    macro avg       0.54      0.44      0.43      2907\n",
      "                 weighted avg       0.58      0.55      0.53      2907\n",
      "\n",
      "[[275   0  33  11   0   0   1   0  23   2]\n",
      " [ 94   0  10   2   0   6  13   0  19   9]\n",
      " [ 29   0 180  16   0   0   1   0   2   6]\n",
      " [ 55   0  57 117  13  23   3   0  26  15]\n",
      " [ 22   0  17  17  70   1   0   0  10   8]\n",
      " [ 29   0  36  46  15  95  10   1  34  27]\n",
      " [108   0  31   2   0   3  43   0  10  43]\n",
      " [  6   0  10   8   2   0   0   7   7  14]\n",
      " [111   0  42   3   0   6   0   0 670  22]\n",
      " [ 67   0  11  11   0   1   6   0  42 142]]\n"
     ]
    },
    {
     "name": "stderr",
     "output_type": "stream",
     "text": [
      "C:\\Users\\ravic\\anaconda3\\lib\\site-packages\\sklearn\\metrics\\_classification.py:1318: UndefinedMetricWarning: Precision and F-score are ill-defined and being set to 0.0 in labels with no predicted samples. Use `zero_division` parameter to control this behavior.\n",
      "  _warn_prf(average, modifier, msg_start, len(result))\n",
      "C:\\Users\\ravic\\anaconda3\\lib\\site-packages\\sklearn\\metrics\\_classification.py:1318: UndefinedMetricWarning: Precision and F-score are ill-defined and being set to 0.0 in labels with no predicted samples. Use `zero_division` parameter to control this behavior.\n",
      "  _warn_prf(average, modifier, msg_start, len(result))\n",
      "C:\\Users\\ravic\\anaconda3\\lib\\site-packages\\sklearn\\metrics\\_classification.py:1318: UndefinedMetricWarning: Precision and F-score are ill-defined and being set to 0.0 in labels with no predicted samples. Use `zero_division` parameter to control this behavior.\n",
      "  _warn_prf(average, modifier, msg_start, len(result))\n"
     ]
    }
   ],
   "source": [
    "#classification report\n",
    "y_predict = kmodel.fit(Ftrain, Ltrain).predict(Ftest)\n",
    "class_names = target.unique()\n",
    "print(classification_report(Ltest, y_predict, target_names=class_names))\n",
    "print(confusion_matrix(Ltest, y_predict))"
   ]
  },
  {
   "cell_type": "markdown",
   "id": "ffcda594",
   "metadata": {},
   "source": [
    "# Logistic on Red channel data"
   ]
  },
  {
   "cell_type": "code",
   "execution_count": 47,
   "id": "1ed4037b",
   "metadata": {},
   "outputs": [
    {
     "name": "stderr",
     "output_type": "stream",
     "text": [
      "C:\\Users\\ravic\\anaconda3\\lib\\site-packages\\sklearn\\linear_model\\_logistic.py:814: ConvergenceWarning: lbfgs failed to converge (status=1):\n",
      "STOP: TOTAL NO. of ITERATIONS REACHED LIMIT.\n",
      "\n",
      "Increase the number of iterations (max_iter) or scale the data as shown in:\n",
      "    https://scikit-learn.org/stable/modules/preprocessing.html\n",
      "Please also refer to the documentation for alternative solver options:\n",
      "    https://scikit-learn.org/stable/modules/linear_model.html#logistic-regression\n",
      "  n_iter_i = _check_optimize_result(\n"
     ]
    },
    {
     "data": {
      "text/plain": [
       "0.6250429996560027"
      ]
     },
     "execution_count": 47,
     "metadata": {},
     "output_type": "execute_result"
    }
   ],
   "source": [
    "#building the model\n",
    "model.fit(Ftrain,Ltrain)\n",
    "model.score(Ftest,Ltest)"
   ]
  },
  {
   "cell_type": "code",
   "execution_count": 48,
   "id": "19a14de1",
   "metadata": {},
   "outputs": [
    {
     "name": "stdout",
     "output_type": "stream",
     "text": [
      "                               precision    recall  f1-score   support\n",
      "\n",
      "               bacterial_spot       0.59      0.72      0.65       345\n",
      "                 early_blight       0.29      0.32      0.30       153\n",
      "                      healthy       0.59      0.60      0.60       234\n",
      "                  late_blight       0.49      0.47      0.48       309\n",
      "                    leaf_mold       0.56      0.55      0.56       145\n",
      "           septoria_leaf_spot       0.52      0.50      0.51       293\n",
      "                  target_spot       0.49      0.45      0.47       240\n",
      "          tomato_mosaic_virus       0.69      0.67      0.68        54\n",
      "tomato_yellow_leaf_curl_virus       0.89      0.83      0.86       854\n",
      "      two-spotted_spider_mite       0.54      0.54      0.54       280\n",
      "\n",
      "                     accuracy                           0.63      2907\n",
      "                    macro avg       0.56      0.57      0.56      2907\n",
      "                 weighted avg       0.63      0.63      0.63      2907\n",
      "\n",
      "[[250  22  10  19   1  11   4   0  21   7]\n",
      " [ 20  49   8  25   4   6  11   0  16  14]\n",
      " [  5  11 141  22   7  12  27   0   0   9]\n",
      " [ 33  26  18 146  10  32   8   2  12  22]\n",
      " [  3   6   8  10  80  25   3   0   3   7]\n",
      " [ 22  12  17  30  19 147  13   8  13  12]\n",
      " [ 15   9  25  13   8  22 107   1   3  37]\n",
      " [  0   1   1   0   4   5   5  36   1   1]\n",
      " [ 59  11   1  21   5  15  13   0 711  18]\n",
      " [ 18  23   9  15   5   8  28   5  19 150]]\n"
     ]
    },
    {
     "name": "stderr",
     "output_type": "stream",
     "text": [
      "C:\\Users\\ravic\\anaconda3\\lib\\site-packages\\sklearn\\linear_model\\_logistic.py:814: ConvergenceWarning: lbfgs failed to converge (status=1):\n",
      "STOP: TOTAL NO. of ITERATIONS REACHED LIMIT.\n",
      "\n",
      "Increase the number of iterations (max_iter) or scale the data as shown in:\n",
      "    https://scikit-learn.org/stable/modules/preprocessing.html\n",
      "Please also refer to the documentation for alternative solver options:\n",
      "    https://scikit-learn.org/stable/modules/linear_model.html#logistic-regression\n",
      "  n_iter_i = _check_optimize_result(\n"
     ]
    }
   ],
   "source": [
    "#classification report\n",
    "y_predict = model.fit(Ftrain, Ltrain).predict(Ftest)\n",
    "class_names = target.unique()\n",
    "print(classification_report(Ltest, y_predict, target_names=class_names))\n",
    "print(confusion_matrix(Ltest, y_predict))"
   ]
  },
  {
   "cell_type": "markdown",
   "id": "dba6d5ce",
   "metadata": {},
   "source": [
    "# SVM on Red channel data"
   ]
  },
  {
   "cell_type": "code",
   "execution_count": 49,
   "id": "6ed153f7",
   "metadata": {},
   "outputs": [
    {
     "name": "stdout",
     "output_type": "stream",
     "text": [
      "0.7261781905744754\n"
     ]
    }
   ],
   "source": [
    "#fitting the model\n",
    "clf.fit(Ftrain,Ltrain)\n",
    "y_pred = clf.predict(Ftest)\n",
    "print(accuracy_score(Ltest,y_pred))"
   ]
  },
  {
   "cell_type": "code",
   "execution_count": 50,
   "id": "369f8272",
   "metadata": {},
   "outputs": [
    {
     "name": "stdout",
     "output_type": "stream",
     "text": [
      "                               precision    recall  f1-score   support\n",
      "\n",
      "               bacterial_spot       0.64      0.82      0.72       345\n",
      "                 early_blight       0.37      0.35      0.36       153\n",
      "                      healthy       0.75      0.80      0.77       234\n",
      "                  late_blight       0.66      0.65      0.65       309\n",
      "                    leaf_mold       0.65      0.60      0.62       145\n",
      "           septoria_leaf_spot       0.69      0.67      0.68       293\n",
      "                  target_spot       0.65      0.57      0.60       240\n",
      "          tomato_mosaic_virus       0.77      0.87      0.82        54\n",
      "tomato_yellow_leaf_curl_virus       0.91      0.86      0.89       854\n",
      "      two-spotted_spider_mite       0.70      0.66      0.68       280\n",
      "\n",
      "                     accuracy                           0.73      2907\n",
      "                    macro avg       0.68      0.68      0.68      2907\n",
      "                 weighted avg       0.73      0.73      0.73      2907\n",
      "\n",
      "[[284  15   2  11   0   2   2   0  28   1]\n",
      " [ 32  54   2  26   1   6   8   0   9  15]\n",
      " [  1   9 188  11   4   5  11   0   0   5]\n",
      " [ 31  15  17 200  11  17   2   0   8   8]\n",
      " [  3   4   4  11  87  24   2   3   5   2]\n",
      " [  6   9  14  20  13 195  14   7   8   7]\n",
      " [  8  23  16   2   7  14 136   1   0  33]\n",
      " [  0   0   0   0   1   6   0  47   0   0]\n",
      " [ 73   6   0  17   3   4   6   0 736   9]\n",
      " [  8  11   9   7   7   9  29   3  13 184]]\n"
     ]
    }
   ],
   "source": [
    "#classification report\n",
    "y_predict = clf.fit(Ftrain, Ltrain).predict(Ftest)\n",
    "class_names = target.unique()\n",
    "print(classification_report(Ltest, y_predict, target_names=class_names))\n",
    "print(confusion_matrix(Ltest, y_predict))"
   ]
  },
  {
   "cell_type": "markdown",
   "id": "a670c4d4",
   "metadata": {},
   "source": [
    "# Random forest on Red channel data"
   ]
  },
  {
   "cell_type": "code",
   "execution_count": 51,
   "id": "9e816e9e",
   "metadata": {},
   "outputs": [
    {
     "data": {
      "text/plain": [
       "0.5580695113558155"
      ]
     },
     "execution_count": 51,
     "metadata": {},
     "output_type": "execute_result"
    }
   ],
   "source": [
    "#fitting the model\n",
    "classifier_rf.fit(Ftrain, Ltrain)\n",
    "classifier_rf.oob_score_"
   ]
  },
  {
   "cell_type": "code",
   "execution_count": 52,
   "id": "e404f49d",
   "metadata": {},
   "outputs": [
    {
     "name": "stdout",
     "output_type": "stream",
     "text": [
      "                               precision    recall  f1-score   support\n",
      "\n",
      "               bacterial_spot       0.73      0.57      0.64       345\n",
      "                 early_blight       0.00      0.00      0.00       153\n",
      "                      healthy       0.58      0.91      0.71       234\n",
      "                  late_blight       0.71      0.28      0.40       309\n",
      "                    leaf_mold       0.76      0.31      0.44       145\n",
      "           septoria_leaf_spot       0.57      0.44      0.50       293\n",
      "                  target_spot       0.53      0.38      0.44       240\n",
      "          tomato_mosaic_virus       0.00      0.00      0.00        54\n",
      "tomato_yellow_leaf_curl_virus       0.52      0.98      0.68       854\n",
      "      two-spotted_spider_mite       0.72      0.17      0.28       280\n",
      "\n",
      "                     accuracy                           0.57      2907\n",
      "                    macro avg       0.51      0.40      0.41      2907\n",
      "                 weighted avg       0.57      0.57      0.51      2907\n",
      "\n",
      "[[196   0  18   4   0   0   3   0 124   0]\n",
      " [ 18   0   5   3   0  18  16   0  90   3]\n",
      " [  3   0 213   0   1   1   1   0  14   1]\n",
      " [  5   0  68  86   4  36  11   0  96   3]\n",
      " [  8   0  22  11  45   6   5   0  48   0]\n",
      " [  6   0   9   7   7 129   2   0 132   1]\n",
      " [ 16   0  16   3   0  25  91   0  81   8]\n",
      " [  4   0   6   5   2   3   0   0  31   3]\n",
      " [  4   0   2   2   0   6   1   0 839   0]\n",
      " [ 10   0   7   0   0   3  41   0 171  48]]\n"
     ]
    },
    {
     "name": "stderr",
     "output_type": "stream",
     "text": [
      "C:\\Users\\ravic\\anaconda3\\lib\\site-packages\\sklearn\\metrics\\_classification.py:1318: UndefinedMetricWarning: Precision and F-score are ill-defined and being set to 0.0 in labels with no predicted samples. Use `zero_division` parameter to control this behavior.\n",
      "  _warn_prf(average, modifier, msg_start, len(result))\n",
      "C:\\Users\\ravic\\anaconda3\\lib\\site-packages\\sklearn\\metrics\\_classification.py:1318: UndefinedMetricWarning: Precision and F-score are ill-defined and being set to 0.0 in labels with no predicted samples. Use `zero_division` parameter to control this behavior.\n",
      "  _warn_prf(average, modifier, msg_start, len(result))\n",
      "C:\\Users\\ravic\\anaconda3\\lib\\site-packages\\sklearn\\metrics\\_classification.py:1318: UndefinedMetricWarning: Precision and F-score are ill-defined and being set to 0.0 in labels with no predicted samples. Use `zero_division` parameter to control this behavior.\n",
      "  _warn_prf(average, modifier, msg_start, len(result))\n"
     ]
    }
   ],
   "source": [
    "#classification report\n",
    "y_predict = classifier_rf.fit(Ftrain, Ltrain).predict(Ftest)\n",
    "class_names = target.unique()\n",
    "print(classification_report(Ltest, y_predict, target_names=class_names))\n",
    "print(confusion_matrix(Ltest, y_predict))"
   ]
  },
  {
   "cell_type": "markdown",
   "id": "e1c2d95a",
   "metadata": {},
   "source": [
    "# Naive Bayes on Red channel data"
   ]
  },
  {
   "cell_type": "code",
   "execution_count": 53,
   "id": "8ec0753c",
   "metadata": {},
   "outputs": [
    {
     "data": {
      "text/plain": [
       "GaussianNB()"
      ]
     },
     "execution_count": 53,
     "metadata": {},
     "output_type": "execute_result"
    }
   ],
   "source": [
    "#fitting the model\n",
    "gnb.fit(Ftrain, Ltrain)"
   ]
  },
  {
   "cell_type": "code",
   "execution_count": 54,
   "id": "9bd3c55d",
   "metadata": {},
   "outputs": [
    {
     "data": {
      "text/plain": [
       "0.5067079463364293"
      ]
     },
     "execution_count": 54,
     "metadata": {},
     "output_type": "execute_result"
    }
   ],
   "source": [
    "#predicting the output\n",
    "y_pred = gnb.predict(Ftest)\n",
    "metrics.accuracy_score(Ltest, y_pred)"
   ]
  },
  {
   "cell_type": "code",
   "execution_count": 55,
   "id": "4c3f9eb9",
   "metadata": {},
   "outputs": [
    {
     "name": "stdout",
     "output_type": "stream",
     "text": [
      "                               precision    recall  f1-score   support\n",
      "\n",
      "               bacterial_spot       0.53      0.76      0.62       345\n",
      "                 early_blight       0.23      0.32      0.27       153\n",
      "                      healthy       0.43      0.69      0.53       234\n",
      "                  late_blight       0.49      0.29      0.37       309\n",
      "                    leaf_mold       0.53      0.43      0.48       145\n",
      "           septoria_leaf_spot       0.45      0.46      0.45       293\n",
      "                  target_spot       0.54      0.45      0.49       240\n",
      "          tomato_mosaic_virus       0.19      0.72      0.30        54\n",
      "tomato_yellow_leaf_curl_virus       0.88      0.50      0.64       854\n",
      "      two-spotted_spider_mite       0.41      0.48      0.44       280\n",
      "\n",
      "                     accuracy                           0.51      2907\n",
      "                    macro avg       0.47      0.51      0.46      2907\n",
      "                 weighted avg       0.58      0.51      0.52      2907\n",
      "\n",
      "[[261   7  31   8   0   2   6   6  20   4]\n",
      " [ 36  49   2  24   0  10  17   4   4   7]\n",
      " [  9   6 162   8   6   3  22   7   2   9]\n",
      " [  3  49  92  90  18  30   6  13   4   4]\n",
      " [  6   6   5  13  63  23   1  21   2   5]\n",
      " [  6  10  39   7  18 134  19  19  14  27]\n",
      " [ 18  14   2   7   3  23 109  11   2  51]\n",
      " [  5   0   3   0   1   3   0  39   1   2]\n",
      " [135  43  39  22   6  51   2  40 431  85]\n",
      " [ 14  25   6   5   3  22  19  42   9 135]]\n"
     ]
    }
   ],
   "source": [
    "#classification report\n",
    "class_names = target.unique()\n",
    "print(classification_report(Ltest, y_pred, target_names=class_names))\n",
    "print(confusion_matrix(Ltest, y_pred))"
   ]
  },
  {
   "cell_type": "markdown",
   "id": "b34954bd",
   "metadata": {},
   "source": [
    "# Decision Tree on Red channel"
   ]
  },
  {
   "cell_type": "code",
   "execution_count": 56,
   "id": "3ce8ed83",
   "metadata": {},
   "outputs": [
    {
     "data": {
      "text/plain": [
       "0.4946680426556588"
      ]
     },
     "execution_count": 56,
     "metadata": {},
     "output_type": "execute_result"
    }
   ],
   "source": [
    "#building the model\n",
    "classifier_tree.fit(Ftrain, Ltrain)\n",
    "classifier_tree.score(Ftest,Ltest)"
   ]
  },
  {
   "cell_type": "code",
   "execution_count": 57,
   "id": "78b012af",
   "metadata": {},
   "outputs": [
    {
     "name": "stdout",
     "output_type": "stream",
     "text": [
      "                               precision    recall  f1-score   support\n",
      "\n",
      "               bacterial_spot       0.48      0.56      0.52       345\n",
      "                 early_blight       0.14      0.14      0.14       153\n",
      "                      healthy       0.63      0.68      0.66       234\n",
      "                  late_blight       0.42      0.41      0.42       309\n",
      "                    leaf_mold       0.33      0.33      0.33       145\n",
      "           septoria_leaf_spot       0.42      0.39      0.40       293\n",
      "                  target_spot       0.33      0.32      0.32       240\n",
      "          tomato_mosaic_virus       0.06      0.07      0.07        54\n",
      "tomato_yellow_leaf_curl_virus       0.73      0.69      0.71       854\n",
      "      two-spotted_spider_mite       0.36      0.34      0.35       280\n",
      "\n",
      "                     accuracy                           0.49      2907\n",
      "                    macro avg       0.39      0.39      0.39      2907\n",
      "                 weighted avg       0.50      0.49      0.49      2907\n",
      "\n",
      "[[194  14  11  28   6  13  14   3  45  17]\n",
      " [ 28  21   6  24   1  10  17   1  28  17]\n",
      " [ 15   9 160  15   6   3  14   6   3   3]\n",
      " [ 18  27  17 127  20  34  11   7  31  17]\n",
      " [  7  10   5  13  48  19   8   8  13  14]\n",
      " [ 19   9   7  33  17 115  24   9  44  16]\n",
      " [ 19  14  23  17  11  25  76   7  15  33]\n",
      " [  7   1   5   4   5  10   2   4   5  11]\n",
      " [ 72  21   6  23  21  39  19  15 593  45]\n",
      " [ 25  23  12  18  11   9  46   8  32  96]]\n"
     ]
    }
   ],
   "source": [
    "#classification report\n",
    "y_predict = classifier_tree.fit(Ftrain, Ltrain).predict(Ftest)\n",
    "class_names = target.unique()\n",
    "print(classification_report(Ltest, y_predict, target_names=class_names))\n",
    "print(confusion_matrix(Ltest, y_predict))"
   ]
  },
  {
   "cell_type": "markdown",
   "id": "21af7568",
   "metadata": {},
   "source": [
    "# KNN on green channel data"
   ]
  },
  {
   "cell_type": "code",
   "execution_count": 58,
   "id": "461b784b",
   "metadata": {},
   "outputs": [
    {
     "data": {
      "text/plain": [
       "0.5500515995872033"
      ]
     },
     "execution_count": 58,
     "metadata": {},
     "output_type": "execute_result"
    }
   ],
   "source": [
    "#reading numpy array data\n",
    "green_test = np.load('green_data.npy')\n",
    "#reading csv file\n",
    "green_df = pd.read_csv('green_data.csv')\n",
    "#reading data and appending the arrays to the green test\n",
    "loaded = []\n",
    "for i in green_test:\n",
    "    k = []\n",
    "    k = np.asarray(i,dtype='uint8')\n",
    "    loaded.append(k)\n",
    "#assigning features and target\n",
    "features = loaded\n",
    "target = green_df['disease']\n",
    "#building the model\n",
    "kmodel.fit(Ftrain,Ltrain)\n",
    "kmodel.score(Ftest,Ltest)"
   ]
  },
  {
   "cell_type": "code",
   "execution_count": 59,
   "id": "3b84096d",
   "metadata": {},
   "outputs": [
    {
     "name": "stdout",
     "output_type": "stream",
     "text": [
      "                               precision    recall  f1-score   support\n",
      "\n",
      "               bacterial_spot       0.35      0.80      0.48       345\n",
      "                 early_blight       0.00      0.00      0.00       153\n",
      "                      healthy       0.42      0.77      0.54       234\n",
      "                  late_blight       0.50      0.38      0.43       309\n",
      "                    leaf_mold       0.70      0.48      0.57       145\n",
      "           septoria_leaf_spot       0.70      0.32      0.44       293\n",
      "                  target_spot       0.56      0.18      0.27       240\n",
      "          tomato_mosaic_virus       0.88      0.13      0.23        54\n",
      "tomato_yellow_leaf_curl_virus       0.79      0.78      0.79       854\n",
      "      two-spotted_spider_mite       0.49      0.51      0.50       280\n",
      "\n",
      "                     accuracy                           0.55      2907\n",
      "                    macro avg       0.54      0.44      0.43      2907\n",
      "                 weighted avg       0.58      0.55      0.53      2907\n",
      "\n",
      "[[275   0  33  11   0   0   1   0  23   2]\n",
      " [ 94   0  10   2   0   6  13   0  19   9]\n",
      " [ 29   0 180  16   0   0   1   0   2   6]\n",
      " [ 55   0  57 117  13  23   3   0  26  15]\n",
      " [ 22   0  17  17  70   1   0   0  10   8]\n",
      " [ 29   0  36  46  15  95  10   1  34  27]\n",
      " [108   0  31   2   0   3  43   0  10  43]\n",
      " [  6   0  10   8   2   0   0   7   7  14]\n",
      " [111   0  42   3   0   6   0   0 670  22]\n",
      " [ 67   0  11  11   0   1   6   0  42 142]]\n"
     ]
    },
    {
     "name": "stderr",
     "output_type": "stream",
     "text": [
      "C:\\Users\\ravic\\anaconda3\\lib\\site-packages\\sklearn\\metrics\\_classification.py:1318: UndefinedMetricWarning: Precision and F-score are ill-defined and being set to 0.0 in labels with no predicted samples. Use `zero_division` parameter to control this behavior.\n",
      "  _warn_prf(average, modifier, msg_start, len(result))\n",
      "C:\\Users\\ravic\\anaconda3\\lib\\site-packages\\sklearn\\metrics\\_classification.py:1318: UndefinedMetricWarning: Precision and F-score are ill-defined and being set to 0.0 in labels with no predicted samples. Use `zero_division` parameter to control this behavior.\n",
      "  _warn_prf(average, modifier, msg_start, len(result))\n",
      "C:\\Users\\ravic\\anaconda3\\lib\\site-packages\\sklearn\\metrics\\_classification.py:1318: UndefinedMetricWarning: Precision and F-score are ill-defined and being set to 0.0 in labels with no predicted samples. Use `zero_division` parameter to control this behavior.\n",
      "  _warn_prf(average, modifier, msg_start, len(result))\n"
     ]
    }
   ],
   "source": [
    "#classification report\n",
    "y_predict = kmodel.fit(Ftrain, Ltrain).predict(Ftest)\n",
    "class_names = target.unique()\n",
    "print(classification_report(Ltest, y_predict, target_names=class_names))\n",
    "print(confusion_matrix(Ltest, y_predict))"
   ]
  },
  {
   "cell_type": "markdown",
   "id": "71f3ea86",
   "metadata": {},
   "source": [
    "# Logistic on Green channel data"
   ]
  },
  {
   "cell_type": "code",
   "execution_count": 60,
   "id": "28dad6b2",
   "metadata": {},
   "outputs": [
    {
     "name": "stderr",
     "output_type": "stream",
     "text": [
      "C:\\Users\\ravic\\anaconda3\\lib\\site-packages\\sklearn\\linear_model\\_logistic.py:814: ConvergenceWarning: lbfgs failed to converge (status=1):\n",
      "STOP: TOTAL NO. of ITERATIONS REACHED LIMIT.\n",
      "\n",
      "Increase the number of iterations (max_iter) or scale the data as shown in:\n",
      "    https://scikit-learn.org/stable/modules/preprocessing.html\n",
      "Please also refer to the documentation for alternative solver options:\n",
      "    https://scikit-learn.org/stable/modules/linear_model.html#logistic-regression\n",
      "  n_iter_i = _check_optimize_result(\n"
     ]
    },
    {
     "data": {
      "text/plain": [
       "0.6250429996560027"
      ]
     },
     "execution_count": 60,
     "metadata": {},
     "output_type": "execute_result"
    }
   ],
   "source": [
    "#building the model\n",
    "model.fit(Ftrain,Ltrain)\n",
    "model.score(Ftest,Ltest)"
   ]
  },
  {
   "cell_type": "code",
   "execution_count": 61,
   "id": "839a329f",
   "metadata": {},
   "outputs": [
    {
     "name": "stdout",
     "output_type": "stream",
     "text": [
      "                               precision    recall  f1-score   support\n",
      "\n",
      "               bacterial_spot       0.59      0.72      0.65       345\n",
      "                 early_blight       0.29      0.32      0.30       153\n",
      "                      healthy       0.59      0.60      0.60       234\n",
      "                  late_blight       0.49      0.47      0.48       309\n",
      "                    leaf_mold       0.56      0.55      0.56       145\n",
      "           septoria_leaf_spot       0.52      0.50      0.51       293\n",
      "                  target_spot       0.49      0.45      0.47       240\n",
      "          tomato_mosaic_virus       0.69      0.67      0.68        54\n",
      "tomato_yellow_leaf_curl_virus       0.89      0.83      0.86       854\n",
      "      two-spotted_spider_mite       0.54      0.54      0.54       280\n",
      "\n",
      "                     accuracy                           0.63      2907\n",
      "                    macro avg       0.56      0.57      0.56      2907\n",
      "                 weighted avg       0.63      0.63      0.63      2907\n",
      "\n",
      "[[250  22  10  19   1  11   4   0  21   7]\n",
      " [ 20  49   8  25   4   6  11   0  16  14]\n",
      " [  5  11 141  22   7  12  27   0   0   9]\n",
      " [ 33  26  18 146  10  32   8   2  12  22]\n",
      " [  3   6   8  10  80  25   3   0   3   7]\n",
      " [ 22  12  17  30  19 147  13   8  13  12]\n",
      " [ 15   9  25  13   8  22 107   1   3  37]\n",
      " [  0   1   1   0   4   5   5  36   1   1]\n",
      " [ 59  11   1  21   5  15  13   0 711  18]\n",
      " [ 18  23   9  15   5   8  28   5  19 150]]\n"
     ]
    },
    {
     "name": "stderr",
     "output_type": "stream",
     "text": [
      "C:\\Users\\ravic\\anaconda3\\lib\\site-packages\\sklearn\\linear_model\\_logistic.py:814: ConvergenceWarning: lbfgs failed to converge (status=1):\n",
      "STOP: TOTAL NO. of ITERATIONS REACHED LIMIT.\n",
      "\n",
      "Increase the number of iterations (max_iter) or scale the data as shown in:\n",
      "    https://scikit-learn.org/stable/modules/preprocessing.html\n",
      "Please also refer to the documentation for alternative solver options:\n",
      "    https://scikit-learn.org/stable/modules/linear_model.html#logistic-regression\n",
      "  n_iter_i = _check_optimize_result(\n"
     ]
    }
   ],
   "source": [
    "#classification report\n",
    "y_predict = model.fit(Ftrain, Ltrain).predict(Ftest)\n",
    "class_names = target.unique()\n",
    "print(classification_report(Ltest, y_predict, target_names=class_names))\n",
    "print(confusion_matrix(Ltest, y_predict))"
   ]
  },
  {
   "cell_type": "markdown",
   "id": "f62f0223",
   "metadata": {},
   "source": [
    "# SVM on green channel data"
   ]
  },
  {
   "cell_type": "code",
   "execution_count": 62,
   "id": "e89e7297",
   "metadata": {},
   "outputs": [
    {
     "name": "stdout",
     "output_type": "stream",
     "text": [
      "0.7261781905744754\n"
     ]
    }
   ],
   "source": [
    "#fitting the model\n",
    "clf.fit(Ftrain,Ltrain)\n",
    "y_pred = clf.predict(Ftest)\n",
    "print(accuracy_score(Ltest,y_pred))"
   ]
  },
  {
   "cell_type": "code",
   "execution_count": 63,
   "id": "0a214a95",
   "metadata": {},
   "outputs": [
    {
     "name": "stdout",
     "output_type": "stream",
     "text": [
      "                               precision    recall  f1-score   support\n",
      "\n",
      "               bacterial_spot       0.64      0.82      0.72       345\n",
      "                 early_blight       0.37      0.35      0.36       153\n",
      "                      healthy       0.75      0.80      0.77       234\n",
      "                  late_blight       0.66      0.65      0.65       309\n",
      "                    leaf_mold       0.65      0.60      0.62       145\n",
      "           septoria_leaf_spot       0.69      0.67      0.68       293\n",
      "                  target_spot       0.65      0.57      0.60       240\n",
      "          tomato_mosaic_virus       0.77      0.87      0.82        54\n",
      "tomato_yellow_leaf_curl_virus       0.91      0.86      0.89       854\n",
      "      two-spotted_spider_mite       0.70      0.66      0.68       280\n",
      "\n",
      "                     accuracy                           0.73      2907\n",
      "                    macro avg       0.68      0.68      0.68      2907\n",
      "                 weighted avg       0.73      0.73      0.73      2907\n",
      "\n",
      "[[284  15   2  11   0   2   2   0  28   1]\n",
      " [ 32  54   2  26   1   6   8   0   9  15]\n",
      " [  1   9 188  11   4   5  11   0   0   5]\n",
      " [ 31  15  17 200  11  17   2   0   8   8]\n",
      " [  3   4   4  11  87  24   2   3   5   2]\n",
      " [  6   9  14  20  13 195  14   7   8   7]\n",
      " [  8  23  16   2   7  14 136   1   0  33]\n",
      " [  0   0   0   0   1   6   0  47   0   0]\n",
      " [ 73   6   0  17   3   4   6   0 736   9]\n",
      " [  8  11   9   7   7   9  29   3  13 184]]\n"
     ]
    }
   ],
   "source": [
    "#classification report on the model\n",
    "y_predict = clf.fit(Ftrain, Ltrain).predict(Ftest)\n",
    "class_names = target.unique()\n",
    "print(classification_report(Ltest, y_predict, target_names=class_names))\n",
    "print(confusion_matrix(Ltest, y_predict))"
   ]
  },
  {
   "cell_type": "markdown",
   "id": "4f8e565e",
   "metadata": {},
   "source": [
    "# Random Forest on green channel data"
   ]
  },
  {
   "cell_type": "code",
   "execution_count": 64,
   "id": "96c92f8f",
   "metadata": {},
   "outputs": [
    {
     "data": {
      "text/plain": [
       "0.5580695113558155"
      ]
     },
     "execution_count": 64,
     "metadata": {},
     "output_type": "execute_result"
    }
   ],
   "source": [
    "#building the model\n",
    "classifier_rf.fit(Ftrain, Ltrain)\n",
    "classifier_rf.oob_score_"
   ]
  },
  {
   "cell_type": "code",
   "execution_count": 65,
   "id": "a8f818ad",
   "metadata": {},
   "outputs": [
    {
     "name": "stdout",
     "output_type": "stream",
     "text": [
      "                               precision    recall  f1-score   support\n",
      "\n",
      "               bacterial_spot       0.73      0.57      0.64       345\n",
      "                 early_blight       0.00      0.00      0.00       153\n",
      "                      healthy       0.58      0.91      0.71       234\n",
      "                  late_blight       0.71      0.28      0.40       309\n",
      "                    leaf_mold       0.76      0.31      0.44       145\n",
      "           septoria_leaf_spot       0.57      0.44      0.50       293\n",
      "                  target_spot       0.53      0.38      0.44       240\n",
      "          tomato_mosaic_virus       0.00      0.00      0.00        54\n",
      "tomato_yellow_leaf_curl_virus       0.52      0.98      0.68       854\n",
      "      two-spotted_spider_mite       0.72      0.17      0.28       280\n",
      "\n",
      "                     accuracy                           0.57      2907\n",
      "                    macro avg       0.51      0.40      0.41      2907\n",
      "                 weighted avg       0.57      0.57      0.51      2907\n",
      "\n",
      "[[196   0  18   4   0   0   3   0 124   0]\n",
      " [ 18   0   5   3   0  18  16   0  90   3]\n",
      " [  3   0 213   0   1   1   1   0  14   1]\n",
      " [  5   0  68  86   4  36  11   0  96   3]\n",
      " [  8   0  22  11  45   6   5   0  48   0]\n",
      " [  6   0   9   7   7 129   2   0 132   1]\n",
      " [ 16   0  16   3   0  25  91   0  81   8]\n",
      " [  4   0   6   5   2   3   0   0  31   3]\n",
      " [  4   0   2   2   0   6   1   0 839   0]\n",
      " [ 10   0   7   0   0   3  41   0 171  48]]\n"
     ]
    },
    {
     "name": "stderr",
     "output_type": "stream",
     "text": [
      "C:\\Users\\ravic\\anaconda3\\lib\\site-packages\\sklearn\\metrics\\_classification.py:1318: UndefinedMetricWarning: Precision and F-score are ill-defined and being set to 0.0 in labels with no predicted samples. Use `zero_division` parameter to control this behavior.\n",
      "  _warn_prf(average, modifier, msg_start, len(result))\n",
      "C:\\Users\\ravic\\anaconda3\\lib\\site-packages\\sklearn\\metrics\\_classification.py:1318: UndefinedMetricWarning: Precision and F-score are ill-defined and being set to 0.0 in labels with no predicted samples. Use `zero_division` parameter to control this behavior.\n",
      "  _warn_prf(average, modifier, msg_start, len(result))\n",
      "C:\\Users\\ravic\\anaconda3\\lib\\site-packages\\sklearn\\metrics\\_classification.py:1318: UndefinedMetricWarning: Precision and F-score are ill-defined and being set to 0.0 in labels with no predicted samples. Use `zero_division` parameter to control this behavior.\n",
      "  _warn_prf(average, modifier, msg_start, len(result))\n"
     ]
    }
   ],
   "source": [
    "#classification report on the model\n",
    "y_predict = classifier_rf.fit(Ftrain, Ltrain).predict(Ftest)\n",
    "class_names = target.unique()\n",
    "print(classification_report(Ltest, y_predict, target_names=class_names))\n",
    "print(confusion_matrix(Ltest, y_predict))"
   ]
  },
  {
   "cell_type": "markdown",
   "id": "e9b1cca9",
   "metadata": {},
   "source": [
    "# Naive bayes on Green channel data"
   ]
  },
  {
   "cell_type": "code",
   "execution_count": 66,
   "id": "1136802c",
   "metadata": {},
   "outputs": [
    {
     "data": {
      "text/plain": [
       "0.5067079463364293"
      ]
     },
     "execution_count": 66,
     "metadata": {},
     "output_type": "execute_result"
    }
   ],
   "source": [
    "#building the model\n",
    "gnb.fit(Ftrain, Ltrain)\n",
    "y_pred = gnb.predict(Ftest)\n",
    "metrics.accuracy_score(Ltest, y_pred)"
   ]
  },
  {
   "cell_type": "code",
   "execution_count": 67,
   "id": "413e42be",
   "metadata": {},
   "outputs": [
    {
     "name": "stdout",
     "output_type": "stream",
     "text": [
      "                               precision    recall  f1-score   support\n",
      "\n",
      "               bacterial_spot       0.53      0.76      0.62       345\n",
      "                 early_blight       0.23      0.32      0.27       153\n",
      "                      healthy       0.43      0.69      0.53       234\n",
      "                  late_blight       0.49      0.29      0.37       309\n",
      "                    leaf_mold       0.53      0.43      0.48       145\n",
      "           septoria_leaf_spot       0.45      0.46      0.45       293\n",
      "                  target_spot       0.54      0.45      0.49       240\n",
      "          tomato_mosaic_virus       0.19      0.72      0.30        54\n",
      "tomato_yellow_leaf_curl_virus       0.88      0.50      0.64       854\n",
      "      two-spotted_spider_mite       0.41      0.48      0.44       280\n",
      "\n",
      "                     accuracy                           0.51      2907\n",
      "                    macro avg       0.47      0.51      0.46      2907\n",
      "                 weighted avg       0.58      0.51      0.52      2907\n",
      "\n",
      "[[261   7  31   8   0   2   6   6  20   4]\n",
      " [ 36  49   2  24   0  10  17   4   4   7]\n",
      " [  9   6 162   8   6   3  22   7   2   9]\n",
      " [  3  49  92  90  18  30   6  13   4   4]\n",
      " [  6   6   5  13  63  23   1  21   2   5]\n",
      " [  6  10  39   7  18 134  19  19  14  27]\n",
      " [ 18  14   2   7   3  23 109  11   2  51]\n",
      " [  5   0   3   0   1   3   0  39   1   2]\n",
      " [135  43  39  22   6  51   2  40 431  85]\n",
      " [ 14  25   6   5   3  22  19  42   9 135]]\n"
     ]
    }
   ],
   "source": [
    "#classification report on the model\n",
    "class_names = target.unique()\n",
    "print(classification_report(Ltest, y_pred, target_names=class_names))\n",
    "print(confusion_matrix(Ltest, y_pred))"
   ]
  },
  {
   "cell_type": "markdown",
   "id": "9002e08b",
   "metadata": {},
   "source": [
    "# Decision Tree on Green channel"
   ]
  },
  {
   "cell_type": "code",
   "execution_count": 68,
   "id": "6b115934",
   "metadata": {},
   "outputs": [
    {
     "data": {
      "text/plain": [
       "0.5018919848641211"
      ]
     },
     "execution_count": 68,
     "metadata": {},
     "output_type": "execute_result"
    }
   ],
   "source": [
    "#building the model\n",
    "classifier_tree.fit(Ftrain, Ltrain)\n",
    "classifier_tree.score(Ftest,Ltest)"
   ]
  },
  {
   "cell_type": "code",
   "execution_count": 69,
   "id": "a1694af3",
   "metadata": {},
   "outputs": [
    {
     "name": "stdout",
     "output_type": "stream",
     "text": [
      "                               precision    recall  f1-score   support\n",
      "\n",
      "               bacterial_spot       0.53      0.59      0.55       345\n",
      "                 early_blight       0.15      0.16      0.15       153\n",
      "                      healthy       0.61      0.65      0.63       234\n",
      "                  late_blight       0.47      0.46      0.46       309\n",
      "                    leaf_mold       0.35      0.34      0.35       145\n",
      "           septoria_leaf_spot       0.41      0.39      0.40       293\n",
      "                  target_spot       0.33      0.30      0.31       240\n",
      "          tomato_mosaic_virus       0.09      0.11      0.10        54\n",
      "tomato_yellow_leaf_curl_virus       0.74      0.70      0.72       854\n",
      "      two-spotted_spider_mite       0.34      0.36      0.35       280\n",
      "\n",
      "                     accuracy                           0.50      2907\n",
      "                    macro avg       0.40      0.40      0.40      2907\n",
      "                 weighted avg       0.51      0.50      0.50      2907\n",
      "\n",
      "[[202  14  13  23   8  15  10   4  42  14]\n",
      " [ 26  24   4  21   2  10  15   3  31  17]\n",
      " [ 12   6 153  22   5   9  14   2   3   8]\n",
      " [ 14  25  18 141  14  27  16   4  28  22]\n",
      " [  9  10   7  11  49  19   7   8  14  11]\n",
      " [ 13  11   8  29  17 113  24   9  44  25]\n",
      " [ 22  18  19  10  12  30  72  10  12  35]\n",
      " [  5   3   4   4   6  11   1   6   3  11]\n",
      " [ 66  25  13  22  16  37  16  10 599  50]\n",
      " [ 14  27  12  17  10   8  45  14  32 101]]\n"
     ]
    }
   ],
   "source": [
    "#classification report on the model\n",
    "y_predict = classifier_tree.fit(Ftrain, Ltrain).predict(Ftest)\n",
    "class_names = target.unique()\n",
    "print(classification_report(Ltest, y_predict, target_names=class_names))\n",
    "print(confusion_matrix(Ltest, y_predict))"
   ]
  },
  {
   "cell_type": "markdown",
   "id": "75817642",
   "metadata": {},
   "source": [
    "# KNN on blue channel data"
   ]
  },
  {
   "cell_type": "code",
   "execution_count": 70,
   "id": "531e3624",
   "metadata": {},
   "outputs": [
    {
     "data": {
      "text/plain": [
       "0.5500515995872033"
      ]
     },
     "execution_count": 70,
     "metadata": {},
     "output_type": "execute_result"
    }
   ],
   "source": [
    "#reading numpy array data\n",
    "blue_test = np.load('blue_data.npy')\n",
    "#reading csv file\n",
    "blue_df = pd.read_csv('blue_data.csv')\n",
    "loaded = []\n",
    "for i in gray_test:\n",
    "    k = []\n",
    "    k = np.asarray(i,dtype='uint8')\n",
    "    loaded.append(k)\n",
    "features = loaded\n",
    "target = blue_df['disease']\n",
    "kmodel.fit(Ftrain,Ltrain)\n",
    "kmodel.score(Ftest,Ltest)"
   ]
  },
  {
   "cell_type": "code",
   "execution_count": 71,
   "id": "16330eb3",
   "metadata": {},
   "outputs": [
    {
     "name": "stdout",
     "output_type": "stream",
     "text": [
      "                               precision    recall  f1-score   support\n",
      "\n",
      "               bacterial_spot       0.35      0.80      0.48       345\n",
      "                 early_blight       0.00      0.00      0.00       153\n",
      "                      healthy       0.42      0.77      0.54       234\n",
      "                  late_blight       0.50      0.38      0.43       309\n",
      "                    leaf_mold       0.70      0.48      0.57       145\n",
      "           septoria_leaf_spot       0.70      0.32      0.44       293\n",
      "                  target_spot       0.56      0.18      0.27       240\n",
      "          tomato_mosaic_virus       0.88      0.13      0.23        54\n",
      "tomato_yellow_leaf_curl_virus       0.79      0.78      0.79       854\n",
      "      two-spotted_spider_mite       0.49      0.51      0.50       280\n",
      "\n",
      "                     accuracy                           0.55      2907\n",
      "                    macro avg       0.54      0.44      0.43      2907\n",
      "                 weighted avg       0.58      0.55      0.53      2907\n",
      "\n",
      "[[275   0  33  11   0   0   1   0  23   2]\n",
      " [ 94   0  10   2   0   6  13   0  19   9]\n",
      " [ 29   0 180  16   0   0   1   0   2   6]\n",
      " [ 55   0  57 117  13  23   3   0  26  15]\n",
      " [ 22   0  17  17  70   1   0   0  10   8]\n",
      " [ 29   0  36  46  15  95  10   1  34  27]\n",
      " [108   0  31   2   0   3  43   0  10  43]\n",
      " [  6   0  10   8   2   0   0   7   7  14]\n",
      " [111   0  42   3   0   6   0   0 670  22]\n",
      " [ 67   0  11  11   0   1   6   0  42 142]]\n"
     ]
    },
    {
     "name": "stderr",
     "output_type": "stream",
     "text": [
      "C:\\Users\\ravic\\anaconda3\\lib\\site-packages\\sklearn\\metrics\\_classification.py:1318: UndefinedMetricWarning: Precision and F-score are ill-defined and being set to 0.0 in labels with no predicted samples. Use `zero_division` parameter to control this behavior.\n",
      "  _warn_prf(average, modifier, msg_start, len(result))\n",
      "C:\\Users\\ravic\\anaconda3\\lib\\site-packages\\sklearn\\metrics\\_classification.py:1318: UndefinedMetricWarning: Precision and F-score are ill-defined and being set to 0.0 in labels with no predicted samples. Use `zero_division` parameter to control this behavior.\n",
      "  _warn_prf(average, modifier, msg_start, len(result))\n",
      "C:\\Users\\ravic\\anaconda3\\lib\\site-packages\\sklearn\\metrics\\_classification.py:1318: UndefinedMetricWarning: Precision and F-score are ill-defined and being set to 0.0 in labels with no predicted samples. Use `zero_division` parameter to control this behavior.\n",
      "  _warn_prf(average, modifier, msg_start, len(result))\n"
     ]
    }
   ],
   "source": [
    "y_predict = kmodel.fit(Ftrain, Ltrain).predict(Ftest)\n",
    "class_names = target.unique()\n",
    "print(classification_report(Ltest, y_predict, target_names=class_names))\n",
    "print(confusion_matrix(Ltest, y_predict))"
   ]
  },
  {
   "cell_type": "markdown",
   "id": "f452a113",
   "metadata": {},
   "source": [
    "# logistic on blue channel data"
   ]
  },
  {
   "cell_type": "code",
   "execution_count": 72,
   "id": "de158586",
   "metadata": {},
   "outputs": [
    {
     "name": "stderr",
     "output_type": "stream",
     "text": [
      "C:\\Users\\ravic\\anaconda3\\lib\\site-packages\\sklearn\\linear_model\\_logistic.py:814: ConvergenceWarning: lbfgs failed to converge (status=1):\n",
      "STOP: TOTAL NO. of ITERATIONS REACHED LIMIT.\n",
      "\n",
      "Increase the number of iterations (max_iter) or scale the data as shown in:\n",
      "    https://scikit-learn.org/stable/modules/preprocessing.html\n",
      "Please also refer to the documentation for alternative solver options:\n",
      "    https://scikit-learn.org/stable/modules/linear_model.html#logistic-regression\n",
      "  n_iter_i = _check_optimize_result(\n"
     ]
    },
    {
     "data": {
      "text/plain": [
       "0.6250429996560027"
      ]
     },
     "execution_count": 72,
     "metadata": {},
     "output_type": "execute_result"
    }
   ],
   "source": [
    "model.fit(Ftrain,Ltrain)\n",
    "model.score(Ftest,Ltest)"
   ]
  },
  {
   "cell_type": "code",
   "execution_count": 73,
   "id": "30e98a1a",
   "metadata": {},
   "outputs": [
    {
     "name": "stdout",
     "output_type": "stream",
     "text": [
      "                               precision    recall  f1-score   support\n",
      "\n",
      "               bacterial_spot       0.59      0.72      0.65       345\n",
      "                 early_blight       0.29      0.32      0.30       153\n",
      "                      healthy       0.59      0.60      0.60       234\n",
      "                  late_blight       0.49      0.47      0.48       309\n",
      "                    leaf_mold       0.56      0.55      0.56       145\n",
      "           septoria_leaf_spot       0.52      0.50      0.51       293\n",
      "                  target_spot       0.49      0.45      0.47       240\n",
      "          tomato_mosaic_virus       0.69      0.67      0.68        54\n",
      "tomato_yellow_leaf_curl_virus       0.89      0.83      0.86       854\n",
      "      two-spotted_spider_mite       0.54      0.54      0.54       280\n",
      "\n",
      "                     accuracy                           0.63      2907\n",
      "                    macro avg       0.56      0.57      0.56      2907\n",
      "                 weighted avg       0.63      0.63      0.63      2907\n",
      "\n",
      "[[250  22  10  19   1  11   4   0  21   7]\n",
      " [ 20  49   8  25   4   6  11   0  16  14]\n",
      " [  5  11 141  22   7  12  27   0   0   9]\n",
      " [ 33  26  18 146  10  32   8   2  12  22]\n",
      " [  3   6   8  10  80  25   3   0   3   7]\n",
      " [ 22  12  17  30  19 147  13   8  13  12]\n",
      " [ 15   9  25  13   8  22 107   1   3  37]\n",
      " [  0   1   1   0   4   5   5  36   1   1]\n",
      " [ 59  11   1  21   5  15  13   0 711  18]\n",
      " [ 18  23   9  15   5   8  28   5  19 150]]\n"
     ]
    },
    {
     "name": "stderr",
     "output_type": "stream",
     "text": [
      "C:\\Users\\ravic\\anaconda3\\lib\\site-packages\\sklearn\\linear_model\\_logistic.py:814: ConvergenceWarning: lbfgs failed to converge (status=1):\n",
      "STOP: TOTAL NO. of ITERATIONS REACHED LIMIT.\n",
      "\n",
      "Increase the number of iterations (max_iter) or scale the data as shown in:\n",
      "    https://scikit-learn.org/stable/modules/preprocessing.html\n",
      "Please also refer to the documentation for alternative solver options:\n",
      "    https://scikit-learn.org/stable/modules/linear_model.html#logistic-regression\n",
      "  n_iter_i = _check_optimize_result(\n"
     ]
    }
   ],
   "source": [
    "y_predict = model.fit(Ftrain, Ltrain).predict(Ftest)\n",
    "class_names = target.unique()\n",
    "print(classification_report(Ltest, y_predict, target_names=class_names))\n",
    "print(confusion_matrix(Ltest, y_predict))"
   ]
  },
  {
   "cell_type": "markdown",
   "id": "c7585c1d",
   "metadata": {},
   "source": [
    "# SVM on blue channel data"
   ]
  },
  {
   "cell_type": "code",
   "execution_count": 74,
   "id": "06fb4a0f",
   "metadata": {},
   "outputs": [
    {
     "name": "stdout",
     "output_type": "stream",
     "text": [
      "0.7261781905744754\n"
     ]
    }
   ],
   "source": [
    "clf.fit(Ftrain,Ltrain)\n",
    "y_pred = clf.predict(Ftest)\n",
    "print(accuracy_score(Ltest,y_pred))"
   ]
  },
  {
   "cell_type": "code",
   "execution_count": 75,
   "id": "6e1082ce",
   "metadata": {},
   "outputs": [
    {
     "name": "stdout",
     "output_type": "stream",
     "text": [
      "                               precision    recall  f1-score   support\n",
      "\n",
      "               bacterial_spot       0.64      0.82      0.72       345\n",
      "                 early_blight       0.37      0.35      0.36       153\n",
      "                      healthy       0.75      0.80      0.77       234\n",
      "                  late_blight       0.66      0.65      0.65       309\n",
      "                    leaf_mold       0.65      0.60      0.62       145\n",
      "           septoria_leaf_spot       0.69      0.67      0.68       293\n",
      "                  target_spot       0.65      0.57      0.60       240\n",
      "          tomato_mosaic_virus       0.77      0.87      0.82        54\n",
      "tomato_yellow_leaf_curl_virus       0.91      0.86      0.89       854\n",
      "      two-spotted_spider_mite       0.70      0.66      0.68       280\n",
      "\n",
      "                     accuracy                           0.73      2907\n",
      "                    macro avg       0.68      0.68      0.68      2907\n",
      "                 weighted avg       0.73      0.73      0.73      2907\n",
      "\n",
      "[[284  15   2  11   0   2   2   0  28   1]\n",
      " [ 32  54   2  26   1   6   8   0   9  15]\n",
      " [  1   9 188  11   4   5  11   0   0   5]\n",
      " [ 31  15  17 200  11  17   2   0   8   8]\n",
      " [  3   4   4  11  87  24   2   3   5   2]\n",
      " [  6   9  14  20  13 195  14   7   8   7]\n",
      " [  8  23  16   2   7  14 136   1   0  33]\n",
      " [  0   0   0   0   1   6   0  47   0   0]\n",
      " [ 73   6   0  17   3   4   6   0 736   9]\n",
      " [  8  11   9   7   7   9  29   3  13 184]]\n"
     ]
    }
   ],
   "source": [
    "y_predict = clf.fit(Ftrain, Ltrain).predict(Ftest)\n",
    "class_names = target.unique()\n",
    "print(classification_report(Ltest, y_predict, target_names=class_names))\n",
    "print(confusion_matrix(Ltest, y_predict))"
   ]
  },
  {
   "cell_type": "markdown",
   "id": "f4eb8c6c",
   "metadata": {},
   "source": [
    "# Random Forest on blue channel data"
   ]
  },
  {
   "cell_type": "code",
   "execution_count": 76,
   "id": "b71407b2",
   "metadata": {},
   "outputs": [
    {
     "data": {
      "text/plain": [
       "0.5580695113558155"
      ]
     },
     "execution_count": 76,
     "metadata": {},
     "output_type": "execute_result"
    }
   ],
   "source": [
    "classifier_rf.fit(Ftrain, Ltrain)\n",
    "classifier_rf.oob_score_"
   ]
  },
  {
   "cell_type": "code",
   "execution_count": 77,
   "id": "aa723da2",
   "metadata": {},
   "outputs": [
    {
     "name": "stdout",
     "output_type": "stream",
     "text": [
      "                               precision    recall  f1-score   support\n",
      "\n",
      "               bacterial_spot       0.73      0.57      0.64       345\n",
      "                 early_blight       0.00      0.00      0.00       153\n",
      "                      healthy       0.58      0.91      0.71       234\n",
      "                  late_blight       0.71      0.28      0.40       309\n",
      "                    leaf_mold       0.76      0.31      0.44       145\n",
      "           septoria_leaf_spot       0.57      0.44      0.50       293\n",
      "                  target_spot       0.53      0.38      0.44       240\n",
      "          tomato_mosaic_virus       0.00      0.00      0.00        54\n",
      "tomato_yellow_leaf_curl_virus       0.52      0.98      0.68       854\n",
      "      two-spotted_spider_mite       0.72      0.17      0.28       280\n",
      "\n",
      "                     accuracy                           0.57      2907\n",
      "                    macro avg       0.51      0.40      0.41      2907\n",
      "                 weighted avg       0.57      0.57      0.51      2907\n",
      "\n",
      "[[196   0  18   4   0   0   3   0 124   0]\n",
      " [ 18   0   5   3   0  18  16   0  90   3]\n",
      " [  3   0 213   0   1   1   1   0  14   1]\n",
      " [  5   0  68  86   4  36  11   0  96   3]\n",
      " [  8   0  22  11  45   6   5   0  48   0]\n",
      " [  6   0   9   7   7 129   2   0 132   1]\n",
      " [ 16   0  16   3   0  25  91   0  81   8]\n",
      " [  4   0   6   5   2   3   0   0  31   3]\n",
      " [  4   0   2   2   0   6   1   0 839   0]\n",
      " [ 10   0   7   0   0   3  41   0 171  48]]\n"
     ]
    },
    {
     "name": "stderr",
     "output_type": "stream",
     "text": [
      "C:\\Users\\ravic\\anaconda3\\lib\\site-packages\\sklearn\\metrics\\_classification.py:1318: UndefinedMetricWarning: Precision and F-score are ill-defined and being set to 0.0 in labels with no predicted samples. Use `zero_division` parameter to control this behavior.\n",
      "  _warn_prf(average, modifier, msg_start, len(result))\n",
      "C:\\Users\\ravic\\anaconda3\\lib\\site-packages\\sklearn\\metrics\\_classification.py:1318: UndefinedMetricWarning: Precision and F-score are ill-defined and being set to 0.0 in labels with no predicted samples. Use `zero_division` parameter to control this behavior.\n",
      "  _warn_prf(average, modifier, msg_start, len(result))\n",
      "C:\\Users\\ravic\\anaconda3\\lib\\site-packages\\sklearn\\metrics\\_classification.py:1318: UndefinedMetricWarning: Precision and F-score are ill-defined and being set to 0.0 in labels with no predicted samples. Use `zero_division` parameter to control this behavior.\n",
      "  _warn_prf(average, modifier, msg_start, len(result))\n"
     ]
    }
   ],
   "source": [
    "y_predict = classifier_rf.fit(Ftrain, Ltrain).predict(Ftest)\n",
    "class_names = target.unique()\n",
    "print(classification_report(Ltest, y_predict, target_names=class_names))\n",
    "print(confusion_matrix(Ltest, y_predict))"
   ]
  },
  {
   "cell_type": "markdown",
   "id": "fb1ca20e",
   "metadata": {},
   "source": [
    "# Naive bayes on blue channel data"
   ]
  },
  {
   "cell_type": "code",
   "execution_count": 78,
   "id": "11ea0b85",
   "metadata": {},
   "outputs": [
    {
     "data": {
      "text/plain": [
       "0.5067079463364293"
      ]
     },
     "execution_count": 78,
     "metadata": {},
     "output_type": "execute_result"
    }
   ],
   "source": [
    "gnb.fit(Ftrain, Ltrain)\n",
    "y_pred = gnb.predict(Ftest)\n",
    "metrics.accuracy_score(Ltest, y_pred)"
   ]
  },
  {
   "cell_type": "code",
   "execution_count": 79,
   "id": "ca5ce1db",
   "metadata": {},
   "outputs": [
    {
     "name": "stdout",
     "output_type": "stream",
     "text": [
      "                               precision    recall  f1-score   support\n",
      "\n",
      "               bacterial_spot       0.53      0.76      0.62       345\n",
      "                 early_blight       0.23      0.32      0.27       153\n",
      "                      healthy       0.43      0.69      0.53       234\n",
      "                  late_blight       0.49      0.29      0.37       309\n",
      "                    leaf_mold       0.53      0.43      0.48       145\n",
      "           septoria_leaf_spot       0.45      0.46      0.45       293\n",
      "                  target_spot       0.54      0.45      0.49       240\n",
      "          tomato_mosaic_virus       0.19      0.72      0.30        54\n",
      "tomato_yellow_leaf_curl_virus       0.88      0.50      0.64       854\n",
      "      two-spotted_spider_mite       0.41      0.48      0.44       280\n",
      "\n",
      "                     accuracy                           0.51      2907\n",
      "                    macro avg       0.47      0.51      0.46      2907\n",
      "                 weighted avg       0.58      0.51      0.52      2907\n",
      "\n",
      "[[261   7  31   8   0   2   6   6  20   4]\n",
      " [ 36  49   2  24   0  10  17   4   4   7]\n",
      " [  9   6 162   8   6   3  22   7   2   9]\n",
      " [  3  49  92  90  18  30   6  13   4   4]\n",
      " [  6   6   5  13  63  23   1  21   2   5]\n",
      " [  6  10  39   7  18 134  19  19  14  27]\n",
      " [ 18  14   2   7   3  23 109  11   2  51]\n",
      " [  5   0   3   0   1   3   0  39   1   2]\n",
      " [135  43  39  22   6  51   2  40 431  85]\n",
      " [ 14  25   6   5   3  22  19  42   9 135]]\n"
     ]
    }
   ],
   "source": [
    "class_names = target.unique()\n",
    "print(classification_report(Ltest, y_pred, target_names=class_names))\n",
    "print(confusion_matrix(Ltest, y_pred))"
   ]
  },
  {
   "cell_type": "markdown",
   "id": "d9c9d428",
   "metadata": {},
   "source": [
    "# Decision Tree on Blue channel"
   ]
  },
  {
   "cell_type": "code",
   "execution_count": 80,
   "id": "cbeebfa6",
   "metadata": {},
   "outputs": [
    {
     "data": {
      "text/plain": [
       "0.5056759545923633"
      ]
     },
     "execution_count": 80,
     "metadata": {},
     "output_type": "execute_result"
    }
   ],
   "source": [
    "classifier_tree.fit(Ftrain, Ltrain)\n",
    "classifier_tree.score(Ftest,Ltest)"
   ]
  },
  {
   "cell_type": "code",
   "execution_count": 81,
   "id": "ef622e2a",
   "metadata": {},
   "outputs": [
    {
     "name": "stdout",
     "output_type": "stream",
     "text": [
      "                               precision    recall  f1-score   support\n",
      "\n",
      "               bacterial_spot       0.47      0.54      0.51       345\n",
      "                 early_blight       0.14      0.15      0.14       153\n",
      "                      healthy       0.65      0.68      0.67       234\n",
      "                  late_blight       0.46      0.43      0.45       309\n",
      "                    leaf_mold       0.35      0.34      0.35       145\n",
      "           septoria_leaf_spot       0.43      0.41      0.42       293\n",
      "                  target_spot       0.33      0.32      0.33       240\n",
      "          tomato_mosaic_virus       0.08      0.11      0.09        54\n",
      "tomato_yellow_leaf_curl_virus       0.75      0.70      0.72       854\n",
      "      two-spotted_spider_mite       0.38      0.38      0.38       280\n",
      "\n",
      "                     accuracy                           0.50      2907\n",
      "                    macro avg       0.40      0.41      0.41      2907\n",
      "                 weighted avg       0.51      0.50      0.51      2907\n",
      "\n",
      "[[188  15  11  28   7  15  18   1  41  21]\n",
      " [ 28  23   5  22   4   7  14   7  29  14]\n",
      " [ 14   7 159  20   3  10  11   1   2   7]\n",
      " [ 20  21  13 133  19  33  16   7  29  18]\n",
      " [ 13  15   6  13  49  13   9   7  12   8]\n",
      " [ 13   9   8  25  16 121  27   9  45  20]\n",
      " [ 17  22  20  12  13  22  77  10  12  35]\n",
      " [  5   4   3   3   7  11   4   6   4   7]\n",
      " [ 80  22  10  18  11  39  15  15 601  43]\n",
      " [ 20  28   9  14  10   8  42  12  31 106]]\n"
     ]
    }
   ],
   "source": [
    "y_predict = classifier_tree.fit(Ftrain, Ltrain).predict(Ftest)\n",
    "class_names = target.unique()\n",
    "print(classification_report(Ltest, y_predict, target_names=class_names))\n",
    "print(confusion_matrix(Ltest, y_predict))"
   ]
  }
 ],
 "metadata": {
  "kernelspec": {
   "display_name": "Python 3 (ipykernel)",
   "language": "python",
   "name": "python3"
  },
  "language_info": {
   "codemirror_mode": {
    "name": "ipython",
    "version": 3
   },
   "file_extension": ".py",
   "mimetype": "text/x-python",
   "name": "python",
   "nbconvert_exporter": "python",
   "pygments_lexer": "ipython3",
   "version": "3.9.12"
  }
 },
 "nbformat": 4,
 "nbformat_minor": 5
}
