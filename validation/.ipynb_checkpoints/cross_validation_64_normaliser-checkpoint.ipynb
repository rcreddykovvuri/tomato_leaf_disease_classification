{
 "cells": [
  {
   "cell_type": "code",
   "execution_count": 1,
   "id": "620a19b7",
   "metadata": {},
   "outputs": [],
   "source": [
    "import numpy as np #importing numpy\n",
    "import pandas as pd #importing pandas\n",
    "import PIL #importing pillow for image processing\n",
    "from PIL import Image#importing image from pillow library\n",
    "import skimage#importing skimage library\n",
    "import os#importing os library\n",
    "import time#importing time library\n",
    "\n",
    "#Capture start time of the program\n",
    "start_time = time.time()"
   ]
  },
  {
   "cell_type": "code",
   "execution_count": 2,
   "id": "96b90682",
   "metadata": {},
   "outputs": [],
   "source": [
    "#changing path\n",
    "os.chdir('D://DKIT//dissertation//Dataset_of_Tomato_Leaves//plantvillage//Preprocessed_data//64//vector//')"
   ]
  },
  {
   "cell_type": "code",
   "execution_count": 3,
   "id": "122da0a3",
   "metadata": {},
   "outputs": [],
   "source": [
    "#reading numpy array data\n",
    "rgb_test = np.load('rgb_data.npy')\n",
    "#reading csv file\n",
    "rgb_df = pd.read_csv('rgb_data.csv')"
   ]
  },
  {
   "cell_type": "code",
   "execution_count": 4,
   "id": "97db57f7",
   "metadata": {},
   "outputs": [],
   "source": [
    "features = pd.DataFrame(rgb_test)"
   ]
  },
  {
   "cell_type": "code",
   "execution_count": 5,
   "id": "5b3e5e44",
   "metadata": {},
   "outputs": [],
   "source": [
    "from sklearn.model_selection import KFold #importing kfold\n",
    "from sklearn.model_selection import cross_val_score#importing cross validation score"
   ]
  },
  {
   "cell_type": "code",
   "execution_count": 6,
   "id": "1c983732",
   "metadata": {},
   "outputs": [],
   "source": [
    "#taking features as array for training the data\n",
    "features = features.values"
   ]
  },
  {
   "cell_type": "code",
   "execution_count": 7,
   "id": "af5d2923",
   "metadata": {},
   "outputs": [],
   "source": [
    "#scaling the data using standard scaler\n",
    "from sklearn.preprocessing import Normalizer\n",
    "norm = Normalizer()\n",
    "features_scaled = norm.fit_transform(features)"
   ]
  },
  {
   "cell_type": "code",
   "execution_count": 8,
   "id": "6baba101",
   "metadata": {},
   "outputs": [],
   "source": [
    "#taking the target of the data\n",
    "target = rgb_df['disease'].values"
   ]
  },
  {
   "cell_type": "code",
   "execution_count": 9,
   "id": "38c7cbcf",
   "metadata": {},
   "outputs": [],
   "source": [
    "#dividing the data to 8 splits and run the  model for 8 times\n",
    "k_fold = KFold(n_splits=8, shuffle=True)"
   ]
  },
  {
   "cell_type": "code",
   "execution_count": 10,
   "id": "64e61302",
   "metadata": {},
   "outputs": [],
   "source": [
    "from sklearn.svm import SVC#importing svm\n",
    "from sklearn.metrics import accuracy_score#importing accuracy score"
   ]
  },
  {
   "cell_type": "code",
   "execution_count": 11,
   "id": "798a9be2",
   "metadata": {},
   "outputs": [],
   "source": [
    "#assigning svm(rbf) model to svm_rbf\n",
    "svm_rbf = SVC(kernel='rbf')"
   ]
  },
  {
   "cell_type": "code",
   "execution_count": 12,
   "id": "f2e277aa",
   "metadata": {},
   "outputs": [],
   "source": [
    "#applying kfold on the data and using the all processors by n_jobs\n",
    "scores = cross_val_score(svm_rbf, features_scaled, target, scoring='accuracy', cv=k_fold, n_jobs=-1)"
   ]
  },
  {
   "cell_type": "code",
   "execution_count": 13,
   "id": "92f926f0",
   "metadata": {},
   "outputs": [
    {
     "name": "stdout",
     "output_type": "stream",
     "text": [
      "Accuracy: 0.843\n"
     ]
    }
   ],
   "source": [
    "from numpy import mean\n",
    "print('Accuracy: %.3f' % (mean(scores)))"
   ]
  },
  {
   "cell_type": "code",
   "execution_count": 14,
   "id": "f41a0ee5",
   "metadata": {},
   "outputs": [
    {
     "name": "stdout",
     "output_type": "stream",
     "text": [
      "scores of all models of k-fold is: [0.85195377 0.84920198 0.84810127 0.83039648 0.82544053 0.84581498\n",
      " 0.84196035 0.8496696 ]\n"
     ]
    }
   ],
   "source": [
    "print('scores of all models of k-fold is:', scores)"
   ]
  }
 ],
 "metadata": {
  "kernelspec": {
   "display_name": "Python 3 (ipykernel)",
   "language": "python",
   "name": "python3"
  },
  "language_info": {
   "codemirror_mode": {
    "name": "ipython",
    "version": 3
   },
   "file_extension": ".py",
   "mimetype": "text/x-python",
   "name": "python",
   "nbconvert_exporter": "python",
   "pygments_lexer": "ipython3",
   "version": "3.9.12"
  }
 },
 "nbformat": 4,
 "nbformat_minor": 5
}
