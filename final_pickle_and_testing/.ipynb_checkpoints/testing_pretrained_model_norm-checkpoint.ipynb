{
 "cells": [
  {
   "cell_type": "code",
   "execution_count": 1,
   "id": "1782bb54",
   "metadata": {},
   "outputs": [],
   "source": [
    "import numpy as np #importing numpy\n",
    "import pandas as pd #importing pandas\n",
    "import PIL #importing pillow for image processing\n",
    "from PIL import Image#importing image from pillow library\n",
    "import skimage#importing skimage library\n",
    "import os#importing os library\n",
    "import time#importing time library\n",
    "import pickle \n",
    "import pyreadstat as psav"
   ]
  },
  {
   "cell_type": "code",
   "execution_count": 2,
   "id": "4d1a9d05",
   "metadata": {},
   "outputs": [],
   "source": [
    "#changing the working directory for loading the model\n",
    "os.chdir('D://DKIT//dissertation//Dataset_of_Tomato_Leaves//plantvillage//Preprocessed_data//')"
   ]
  },
  {
   "cell_type": "code",
   "execution_count": 3,
   "id": "352f10cc",
   "metadata": {},
   "outputs": [],
   "source": [
    "#giving the name of the model to load\n",
    "model = 'svm.sav'"
   ]
  },
  {
   "cell_type": "code",
   "execution_count": 4,
   "id": "6f045507",
   "metadata": {},
   "outputs": [],
   "source": [
    "#loading the model\n",
    "loaded_model = pickle.load(open(model, 'rb'))"
   ]
  },
  {
   "cell_type": "code",
   "execution_count": 5,
   "id": "9c678c5e",
   "metadata": {},
   "outputs": [],
   "source": [
    "#chaniging input directory path\n",
    "#change this path for testing the model with images in another path\n",
    "os.chdir('D://')"
   ]
  },
  {
   "cell_type": "code",
   "execution_count": 6,
   "id": "99edd7f3",
   "metadata": {},
   "outputs": [],
   "source": [
    "input_images = ['Bs7.jpg','H3.jpg']\n",
    "testing_data = pd.DataFrame(columns = np.arange(12288))"
   ]
  },
  {
   "cell_type": "code",
   "execution_count": 7,
   "id": "ef6d0b77",
   "metadata": {},
   "outputs": [
    {
     "name": "stdout",
     "output_type": "stream",
     "text": [
      "[113 113 115 ...  81  80  78]\n",
      "[111 107 130 ... 162 165 184]\n"
     ]
    }
   ],
   "source": [
    "for i in input_images:\n",
    "    data1 = []\n",
    "    data = []\n",
    "    #reading input image\n",
    "    image = Image.open(i,mode='r')\n",
    "    #changing the dimensions\n",
    "    size = (64,64)\n",
    "    image = image.resize(size)\n",
    "    #extracting RGB values\n",
    "    data1 = image.convert('RGB')\n",
    "    data1.show()\n",
    "    #saving it to the array\n",
    "    data = np.array(data1)\n",
    "    data = data.ravel()\n",
    "    print(data)\n",
    "    testing_data.loc[len(testing_data)] = data"
   ]
  },
  {
   "cell_type": "code",
   "execution_count": 8,
   "id": "b35f8e5a",
   "metadata": {},
   "outputs": [
    {
     "data": {
      "text/html": [
       "<div>\n",
       "<style scoped>\n",
       "    .dataframe tbody tr th:only-of-type {\n",
       "        vertical-align: middle;\n",
       "    }\n",
       "\n",
       "    .dataframe tbody tr th {\n",
       "        vertical-align: top;\n",
       "    }\n",
       "\n",
       "    .dataframe thead th {\n",
       "        text-align: right;\n",
       "    }\n",
       "</style>\n",
       "<table border=\"1\" class=\"dataframe\">\n",
       "  <thead>\n",
       "    <tr style=\"text-align: right;\">\n",
       "      <th></th>\n",
       "      <th>0</th>\n",
       "      <th>1</th>\n",
       "      <th>2</th>\n",
       "      <th>3</th>\n",
       "      <th>4</th>\n",
       "      <th>5</th>\n",
       "      <th>6</th>\n",
       "      <th>7</th>\n",
       "      <th>8</th>\n",
       "      <th>9</th>\n",
       "      <th>...</th>\n",
       "      <th>12278</th>\n",
       "      <th>12279</th>\n",
       "      <th>12280</th>\n",
       "      <th>12281</th>\n",
       "      <th>12282</th>\n",
       "      <th>12283</th>\n",
       "      <th>12284</th>\n",
       "      <th>12285</th>\n",
       "      <th>12286</th>\n",
       "      <th>12287</th>\n",
       "    </tr>\n",
       "  </thead>\n",
       "  <tbody>\n",
       "    <tr>\n",
       "      <th>0</th>\n",
       "      <td>113</td>\n",
       "      <td>113</td>\n",
       "      <td>115</td>\n",
       "      <td>115</td>\n",
       "      <td>115</td>\n",
       "      <td>117</td>\n",
       "      <td>122</td>\n",
       "      <td>122</td>\n",
       "      <td>124</td>\n",
       "      <td>124</td>\n",
       "      <td>...</td>\n",
       "      <td>80</td>\n",
       "      <td>81</td>\n",
       "      <td>80</td>\n",
       "      <td>78</td>\n",
       "      <td>83</td>\n",
       "      <td>82</td>\n",
       "      <td>80</td>\n",
       "      <td>81</td>\n",
       "      <td>80</td>\n",
       "      <td>78</td>\n",
       "    </tr>\n",
       "    <tr>\n",
       "      <th>1</th>\n",
       "      <td>111</td>\n",
       "      <td>107</td>\n",
       "      <td>130</td>\n",
       "      <td>113</td>\n",
       "      <td>109</td>\n",
       "      <td>132</td>\n",
       "      <td>114</td>\n",
       "      <td>110</td>\n",
       "      <td>133</td>\n",
       "      <td>114</td>\n",
       "      <td>...</td>\n",
       "      <td>183</td>\n",
       "      <td>160</td>\n",
       "      <td>163</td>\n",
       "      <td>182</td>\n",
       "      <td>160</td>\n",
       "      <td>163</td>\n",
       "      <td>182</td>\n",
       "      <td>162</td>\n",
       "      <td>165</td>\n",
       "      <td>184</td>\n",
       "    </tr>\n",
       "  </tbody>\n",
       "</table>\n",
       "<p>2 rows × 12288 columns</p>\n",
       "</div>"
      ],
      "text/plain": [
       "   0      1      2      3      4      5      6      7      8      9      ...  \\\n",
       "0    113    113    115    115    115    117    122    122    124    124  ...   \n",
       "1    111    107    130    113    109    132    114    110    133    114  ...   \n",
       "\n",
       "   12278  12279  12280  12281  12282  12283  12284  12285  12286  12287  \n",
       "0     80     81     80     78     83     82     80     81     80     78  \n",
       "1    183    160    163    182    160    163    182    162    165    184  \n",
       "\n",
       "[2 rows x 12288 columns]"
      ]
     },
     "execution_count": 8,
     "metadata": {},
     "output_type": "execute_result"
    }
   ],
   "source": [
    "testing_data"
   ]
  },
  {
   "cell_type": "code",
   "execution_count": 9,
   "id": "7006ef2e",
   "metadata": {},
   "outputs": [],
   "source": [
    "#getting the data as a 2-d array\n",
    "test_data = testing_data.values"
   ]
  },
  {
   "cell_type": "code",
   "execution_count": 10,
   "id": "984704e9",
   "metadata": {},
   "outputs": [],
   "source": [
    "#scaling the data using standard scaler\n",
    "from sklearn.preprocessing import StandardScaler\n",
    "scaler = StandardScaler()\n",
    "scaled_data = scaler.fit_transform(test_data)"
   ]
  },
  {
   "cell_type": "code",
   "execution_count": 11,
   "id": "438520e4",
   "metadata": {},
   "outputs": [],
   "source": [
    "#Transposing the data to get the pixels data as single row\n",
    "data = scaled_data"
   ]
  },
  {
   "cell_type": "code",
   "execution_count": 12,
   "id": "228ccb79",
   "metadata": {},
   "outputs": [
    {
     "name": "stdout",
     "output_type": "stream",
     "text": [
      "[[ 1.  1. -1. ... -1. -1. -1.]\n",
      " [-1. -1.  1. ...  1.  1.  1.]]\n"
     ]
    }
   ],
   "source": [
    "print(data)"
   ]
  },
  {
   "cell_type": "code",
   "execution_count": 13,
   "id": "9ad06f18",
   "metadata": {},
   "outputs": [],
   "source": [
    "prediction = loaded_model.predict(data)"
   ]
  },
  {
   "cell_type": "code",
   "execution_count": 14,
   "id": "90f9044e",
   "metadata": {},
   "outputs": [
    {
     "name": "stdout",
     "output_type": "stream",
     "text": [
      "['tomato_yellow_leaf_curl_virus' 'target_spot']\n"
     ]
    }
   ],
   "source": [
    "print(prediction)"
   ]
  }
 ],
 "metadata": {
  "kernelspec": {
   "display_name": "Python 3 (ipykernel)",
   "language": "python",
   "name": "python3"
  },
  "language_info": {
   "codemirror_mode": {
    "name": "ipython",
    "version": 3
   },
   "file_extension": ".py",
   "mimetype": "text/x-python",
   "name": "python",
   "nbconvert_exporter": "python",
   "pygments_lexer": "ipython3",
   "version": "3.9.12"
  }
 },
 "nbformat": 4,
 "nbformat_minor": 5
}
