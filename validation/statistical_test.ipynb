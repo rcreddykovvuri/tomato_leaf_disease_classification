{
 "cells": [
  {
   "cell_type": "code",
   "execution_count": 10,
   "id": "d0e6f1db",
   "metadata": {},
   "outputs": [],
   "source": [
    "import numpy as np #importing numpy\n",
    "import pandas as pd #importing pandas\n",
    "import PIL #importing pillow for image processing\n",
    "from PIL import Image#importing image from pillow library\n",
    "import skimage#importing skimage library\n",
    "import os#importing os library\n",
    "import time#importing time library\n",
    "\n",
    "#Capture start time of the program\n",
    "start_time = time.time()"
   ]
  },
  {
   "cell_type": "code",
   "execution_count": 11,
   "id": "4e6cd6ba",
   "metadata": {},
   "outputs": [],
   "source": [
    "os.chdir('D://DKIT//dissertation//Dataset_of_Tomato_Leaves//plantvillage//Preprocessed_data//64//no_bias_vector//')"
   ]
  },
  {
   "cell_type": "code",
   "execution_count": 12,
   "id": "bc9ed7b4",
   "metadata": {},
   "outputs": [],
   "source": [
    "#reading numpy array data\n",
    "rgb_test = np.load('rgb_data.npy')\n",
    "#reading csv file\n",
    "rgb_df = pd.read_csv('rgb_data.csv')"
   ]
  },
  {
   "cell_type": "code",
   "execution_count": 13,
   "id": "83167ef1",
   "metadata": {},
   "outputs": [],
   "source": [
    "features = pd.DataFrame(rgb_test)\n",
    "features = features.values"
   ]
  },
  {
   "cell_type": "code",
   "execution_count": 14,
   "id": "64d75409",
   "metadata": {},
   "outputs": [],
   "source": [
    "target = rgb_df['disease'].values"
   ]
  },
  {
   "cell_type": "code",
   "execution_count": 15,
   "id": "527f0601",
   "metadata": {},
   "outputs": [],
   "source": [
    "#scaling the data using Normalizer scaler\n",
    "from sklearn.preprocessing import Normalizer\n",
    "scaler = Normalizer()\n",
    "Ftrain = scaler.fit_transform(features)"
   ]
  },
  {
   "cell_type": "code",
   "execution_count": 16,
   "id": "b56159a9",
   "metadata": {},
   "outputs": [],
   "source": [
    "from sklearn.svm import SVC\n",
    "from sklearn.metrics import accuracy_score"
   ]
  },
  {
   "cell_type": "code",
   "execution_count": 17,
   "id": "597fc1b2",
   "metadata": {},
   "outputs": [],
   "source": [
    "svm_poly = SVC(kernel='poly')\n",
    "svm_rbf = SVC(kernel='rbf')"
   ]
  },
  {
   "cell_type": "code",
   "execution_count": 19,
   "id": "f3d1803f",
   "metadata": {},
   "outputs": [],
   "source": [
    "from mlxtend.evaluate import paired_ttest_5x2cv"
   ]
  },
  {
   "cell_type": "code",
   "execution_count": 20,
   "id": "1ed9d38d",
   "metadata": {},
   "outputs": [],
   "source": [
    "t, p = paired_ttest_5x2cv(estimator1=svm_poly, estimator2=svm_rbf, X=Ftrain, y=target, scoring='accuracy', random_seed=1)"
   ]
  },
  {
   "cell_type": "code",
   "execution_count": 24,
   "id": "e00b6054",
   "metadata": {},
   "outputs": [
    {
     "name": "stdout",
     "output_type": "stream",
     "text": [
      "p-value is: 0.7935971377277564\n",
      "Same Performance\n"
     ]
    }
   ],
   "source": [
    "print('p-value is:',p)\n",
    "if p > 0.05:\n",
    "    print('Same Performance')\n",
    "else:\n",
    "    print('The mean performance is different for 2 models')"
   ]
  },
  {
   "cell_type": "code",
   "execution_count": null,
   "id": "84b25c00",
   "metadata": {},
   "outputs": [],
   "source": []
  }
 ],
 "metadata": {
  "kernelspec": {
   "display_name": "Python 3 (ipykernel)",
   "language": "python",
   "name": "python3"
  },
  "language_info": {
   "codemirror_mode": {
    "name": "ipython",
    "version": 3
   },
   "file_extension": ".py",
   "mimetype": "text/x-python",
   "name": "python",
   "nbconvert_exporter": "python",
   "pygments_lexer": "ipython3",
   "version": "3.9.12"
  }
 },
 "nbformat": 4,
 "nbformat_minor": 5
}
