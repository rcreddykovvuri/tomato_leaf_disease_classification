{
 "cells": [
  {
   "cell_type": "code",
   "execution_count": 1,
   "id": "bcdb1517",
   "metadata": {},
   "outputs": [],
   "source": [
    "import numpy as np #importing numpy\n",
    "import pandas as pd #importing pandas\n",
    "import PIL #importing pillow for image processing\n",
    "from PIL import Image#importing image from pillow library\n",
    "import skimage#importing skimage library\n",
    "import os#importing os library\n",
    "import time#importing time library\n",
    "\n",
    "#Capture start time of the program\n",
    "start_time = time.time()"
   ]
  },
  {
   "cell_type": "code",
   "execution_count": 2,
   "id": "9b1ff8ae",
   "metadata": {},
   "outputs": [],
   "source": [
    "from string import digits\n",
    "#code to remove numbers in a string and assigning it to the variable\n",
    "r_digits = str.maketrans('', '', digits)\n",
    "#taking source data folder path to a varible\n",
    "rawdata_path = 'D://DKIT//dissertation//Dataset_of_Tomato_Leaves//plantvillage//Preprocessed_data//32//data//'\n",
    "#changing current librbay to source data\n",
    "os.chdir(rawdata_path)\n",
    "#taking sub-directories to a list\n",
    "dirs = os.listdir()\n",
    "directories = []\n",
    "diseases = []\n",
    "#Taking directories into a list and extract disease name from folder name\n",
    "for x in dirs:\n",
    "    res = x.translate(r_digits).lower()\n",
    "    diseases.append(res)\n",
    "    temp = rawdata_path + x + '//'\n",
    "    directories.append(temp)"
   ]
  },
  {
   "cell_type": "code",
   "execution_count": 3,
   "id": "e67c4402",
   "metadata": {},
   "outputs": [],
   "source": [
    "for i in directories:\n",
    "    os.chdir(i)\n",
    "    pics = os.listdir()\n",
    "    #reading pics one by one in each directory\n",
    "    for j in pics:\n",
    "        image = Image.open(j,mode='r')\n",
    "        size = (32,32)\n",
    "        image = image.resize(size)\n",
    "        image = image.save(j)"
   ]
  },
  {
   "cell_type": "code",
   "execution_count": 4,
   "id": "0e3f1cdc",
   "metadata": {},
   "outputs": [],
   "source": [
    "#creating different dataframes for saving data in different vector forms\n",
    "#gray data\n",
    "gray_df = pd.DataFrame(columns=['mean','disease'])\n",
    "#rgb data\n",
    "rgb_df = pd.DataFrame(columns=['mean','disease'])\n",
    "#red data\n",
    "red_df = pd.DataFrame(columns=['mean','disease'])\n",
    "#green data\n",
    "green_df = pd.DataFrame(columns=['mean','disease'])\n",
    "#blue data\n",
    "blue_df = pd.DataFrame(columns=['mean','disease'])"
   ]
  },
  {
   "cell_type": "code",
   "execution_count": 5,
   "id": "d259b674",
   "metadata": {},
   "outputs": [],
   "source": [
    "#extracting data from images\n",
    "x = 0\n",
    "#creating enpty directories to save the vector from in to a list\n",
    "gray_test = []\n",
    "rgb_final = []\n",
    "red_final = []\n",
    "green_final = []\n",
    "blue_final = []\n",
    "disease = []\n",
    "#reading data directory by directory\n",
    "for i in directories:\n",
    "    os.chdir(i)\n",
    "    k = diseases[x]\n",
    "    pics = os.listdir()\n",
    "    #reading pics one by one in each directory\n",
    "    for j in pics:\n",
    "        temp_list = []\n",
    "        rgb_temp = []\n",
    "        red_temp = []\n",
    "        green_temp = []\n",
    "        blue_temp = []\n",
    "        gray = []\n",
    "        data = []\n",
    "        red = []\n",
    "        green = []\n",
    "        blue = []\n",
    "        #opening the image in rgb format\n",
    "        image = Image.open(j,mode='r')\n",
    "        data = image.convert('RGB')\n",
    "        data = np.array(data)\n",
    "        #extracting only red components\n",
    "        red = data[:,:,0]\n",
    "        #extracting only green components\n",
    "        green = data[:,:,1]\n",
    "        #extracting only blue components\n",
    "        blue = data[:,:,2]\n",
    "        data = data.ravel()\n",
    "        #saving rgb vector data into list\n",
    "        rgb_final.append(data)\n",
    "        rgb_temp.append(np.mean(data))\n",
    "        rgb_temp.append(k)\n",
    "        rgb_df.loc[len(rgb_df)] = rgb_temp\n",
    "        #saving red channel data into dataframe and vector data to a list.\n",
    "        red = red.ravel()\n",
    "        red_final.append(red)\n",
    "        red_temp.append(np.mean(red))\n",
    "        red_temp.append(k)\n",
    "        red_df.loc[len(red_df)] = red_temp\n",
    "        #saving blue channel data into dataframe and vector data to a list.\n",
    "        blue = blue.ravel()\n",
    "        blue_final.append(blue)\n",
    "        blue_temp.append(np.mean(blue))\n",
    "        blue_temp.append(k)\n",
    "        blue_df.loc[len(blue_df)] = blue_temp\n",
    "        #saving green channel data into dataframe and vector data to a list.\n",
    "        green = green.ravel()\n",
    "        green_final.append(green)\n",
    "        green_temp.append(np.mean(green))\n",
    "        green_temp.append(k)\n",
    "        green_df.loc[len(green_df)] = green_temp\n",
    "        #opening the image in gray format\n",
    "        gray = image.convert('L')\n",
    "        gray = np.array(gray)\n",
    "        gray = gray.ravel()\n",
    "        gray_test.append(gray)\n",
    "        temp_list.append(np.mean(gray))\n",
    "        temp_list.append(k)       \n",
    "        gray_df.loc[len(gray_df)] = temp_list\n",
    "    x = x+1"
   ]
  },
  {
   "cell_type": "code",
   "execution_count": 6,
   "id": "9ec45970",
   "metadata": {},
   "outputs": [],
   "source": [
    "#changing path\n",
    "os.chdir('D://DKIT//dissertation//Dataset_of_Tomato_Leaves//plantvillage//Preprocessed_data//32//vector//')"
   ]
  },
  {
   "cell_type": "code",
   "execution_count": 7,
   "id": "9b5459ff",
   "metadata": {},
   "outputs": [],
   "source": [
    "#saving the lists as numpy arrays in the local system\n",
    "np.save('gray_test',gray_test)\n",
    "np.save('rgb_data',rgb_final)\n",
    "np.save('red_data',red_final)\n",
    "np.save('green_data',green_final)\n",
    "np.save('blue_data',blue_final)"
   ]
  },
  {
   "cell_type": "code",
   "execution_count": 8,
   "id": "681ad20a",
   "metadata": {},
   "outputs": [],
   "source": [
    "#saving the dataframe as csv files in the local system\n",
    "gray_df.to_csv('gray_data.csv',index=False)\n",
    "rgb_df.to_csv('rgb_data.csv',index=False)\n",
    "red_df.to_csv('red_data.csv',index=False)\n",
    "green_df.to_csv('green_data.csv',index=False)\n",
    "blue_df.to_csv('blue_data.csv',index=False)"
   ]
  },
  {
   "cell_type": "markdown",
   "id": "7139bf53",
   "metadata": {},
   "source": [
    "# KNN on rgb data"
   ]
  },
  {
   "cell_type": "code",
   "execution_count": 9,
   "id": "9386938c",
   "metadata": {},
   "outputs": [],
   "source": [
    "#reading numpy array data\n",
    "rgb_test = np.load('rgb_data.npy')\n",
    "#reading csv file\n",
    "rgb_df = pd.read_csv('rgb_data.csv')"
   ]
  },
  {
   "cell_type": "code",
   "execution_count": 10,
   "id": "05aa0a40",
   "metadata": {},
   "outputs": [],
   "source": [
    "#creating column names for pixels\n",
    "cols = []\n",
    "for i in range(0,3072):\n",
    "    arr = 'pixel_' + str(i)\n",
    "    cols.append(arr)"
   ]
  },
  {
   "cell_type": "code",
   "execution_count": 11,
   "id": "0cc8e72a",
   "metadata": {},
   "outputs": [],
   "source": [
    "#converted data to a dataframe\n",
    "loaded = pd.DataFrame(rgb_test,columns = cols)"
   ]
  },
  {
   "cell_type": "code",
   "execution_count": 12,
   "id": "a14766a6",
   "metadata": {},
   "outputs": [
    {
     "name": "stdout",
     "output_type": "stream",
     "text": [
      "       pixel_0  pixel_1  pixel_2  pixel_3  pixel_4  pixel_5  pixel_6  pixel_7  \\\n",
      "14530      108       98       96      108       98       96      109       97   \n",
      "\n",
      "       pixel_8  pixel_9  ...  pixel_3062  pixel_3063  pixel_3064  pixel_3065  \\\n",
      "14530       97      109  ...         188         197         188         191   \n",
      "\n",
      "       pixel_3066  pixel_3067  pixel_3068  pixel_3069  pixel_3070  pixel_3071  \n",
      "14530         200         191         194         196         190         192  \n",
      "\n",
      "[1 rows x 3072 columns]\n"
     ]
    }
   ],
   "source": [
    "print(loaded.tail(1))"
   ]
  },
  {
   "cell_type": "code",
   "execution_count": 13,
   "id": "c6d5658c",
   "metadata": {},
   "outputs": [],
   "source": [
    "#assigning features and target\n",
    "features = loaded\n",
    "target = rgb_df['disease']\n",
    "#splitting the data to 80 percent and 20 percent\n",
    "from sklearn.model_selection import train_test_split\n",
    "Ftrain,Ftest,Ltrain,Ltest=train_test_split(features,target, test_size=0.20, random_state=24)\n",
    "#scaling the data using standard scaler\n",
    "from sklearn.preprocessing import StandardScaler\n",
    "scaler = StandardScaler()\n",
    "Ftrain = scaler.fit_transform(Ftrain)\n",
    "Ftest = scaler.fit_transform(Ftest)"
   ]
  },
  {
   "cell_type": "code",
   "execution_count": 14,
   "id": "6f1171c6",
   "metadata": {},
   "outputs": [],
   "source": [
    "#K-Model on the data\n",
    "from sklearn.neighbors import KNeighborsClassifier\n",
    "kmodel = KNeighborsClassifier(n_neighbors=75)"
   ]
  },
  {
   "cell_type": "code",
   "execution_count": 15,
   "id": "b9fdc978",
   "metadata": {},
   "outputs": [
    {
     "name": "stdout",
     "output_type": "stream",
     "text": [
      "0.5913312693498453\n"
     ]
    }
   ],
   "source": [
    "#k-model fitting and accuracy\n",
    "kmodel.fit(Ftrain,Ltrain)\n",
    "print(kmodel.score(Ftest,Ltest))"
   ]
  },
  {
   "cell_type": "code",
   "execution_count": 16,
   "id": "ee18e5c3",
   "metadata": {},
   "outputs": [],
   "source": [
    "#importing classification report and confusion matrix\n",
    "from sklearn.metrics import classification_report, confusion_matrix"
   ]
  },
  {
   "cell_type": "code",
   "execution_count": 17,
   "id": "bb8fbd00",
   "metadata": {},
   "outputs": [
    {
     "name": "stdout",
     "output_type": "stream",
     "text": [
      "                               precision    recall  f1-score   support\n",
      "\n",
      "               bacterial_spot       0.36      0.84      0.51       345\n",
      "                 early_blight       0.00      0.00      0.00       153\n",
      "                      healthy       0.50      0.81      0.62       234\n",
      "                  late_blight       0.59      0.40      0.48       309\n",
      "                    leaf_mold       0.73      0.52      0.61       145\n",
      "           septoria_leaf_spot       0.70      0.40      0.51       293\n",
      "                  target_spot       0.58      0.29      0.38       240\n",
      "          tomato_mosaic_virus       0.83      0.19      0.30        54\n",
      "tomato_yellow_leaf_curl_virus       0.84      0.80      0.82       854\n",
      "      two-spotted_spider_mite       0.52      0.56      0.54       280\n",
      "\n",
      "                     accuracy                           0.59      2907\n",
      "                    macro avg       0.57      0.48      0.48      2907\n",
      "                 weighted avg       0.61      0.59      0.57      2907\n",
      "\n",
      "[[291   0  25   8   0   0   0   0  19   2]\n",
      " [ 96   0   9   1   0   6  17   0  15   9]\n",
      " [ 27   0 189   9   0   0   2   1   2   4]\n",
      " [ 54   0  47 124  12  29   9   1  21  12]\n",
      " [ 23   0   9  15  76   4   1   0   7  10]\n",
      " [ 28   0  30  34  12 117  12   0  29  31]\n",
      " [ 97   0  24   3   0   3  69   0   4  40]\n",
      " [  8   0   8   5   4   1   1  10   4  13]\n",
      " [113   0  26   0   0   6   0   0 686  23]\n",
      " [ 68   0  10  10   0   1   8   0  26 157]]\n"
     ]
    },
    {
     "name": "stderr",
     "output_type": "stream",
     "text": [
      "C:\\Users\\ravic\\anaconda3\\lib\\site-packages\\sklearn\\metrics\\_classification.py:1248: UndefinedMetricWarning: Precision and F-score are ill-defined and being set to 0.0 in labels with no predicted samples. Use `zero_division` parameter to control this behavior.\n",
      "  _warn_prf(average, modifier, msg_start, len(result))\n",
      "C:\\Users\\ravic\\anaconda3\\lib\\site-packages\\sklearn\\metrics\\_classification.py:1248: UndefinedMetricWarning: Precision and F-score are ill-defined and being set to 0.0 in labels with no predicted samples. Use `zero_division` parameter to control this behavior.\n",
      "  _warn_prf(average, modifier, msg_start, len(result))\n",
      "C:\\Users\\ravic\\anaconda3\\lib\\site-packages\\sklearn\\metrics\\_classification.py:1248: UndefinedMetricWarning: Precision and F-score are ill-defined and being set to 0.0 in labels with no predicted samples. Use `zero_division` parameter to control this behavior.\n",
      "  _warn_prf(average, modifier, msg_start, len(result))\n"
     ]
    }
   ],
   "source": [
    "#printing results of the kmodel\n",
    "y_predict = kmodel.fit(Ftrain, Ltrain).predict(Ftest)\n",
    "class_names = target.unique()\n",
    "print(classification_report(Ltest, y_predict, target_names=class_names))\n",
    "print(confusion_matrix(Ltest, y_predict))"
   ]
  },
  {
   "cell_type": "markdown",
   "id": "d5c58638",
   "metadata": {},
   "source": [
    "# Logistic on rgb data"
   ]
  },
  {
   "cell_type": "code",
   "execution_count": 18,
   "id": "a84836ef",
   "metadata": {},
   "outputs": [
    {
     "name": "stdout",
     "output_type": "stream",
     "text": [
      "0.6835225318197454\n"
     ]
    }
   ],
   "source": [
    "#importing logistic data\n",
    "from sklearn.linear_model import LogisticRegression\n",
    "model=LogisticRegression(solver='lbfgs', max_iter=10000)\n",
    "model.fit(Ftrain,Ltrain)\n",
    "print(model.score(Ftest,Ltest))"
   ]
  },
  {
   "cell_type": "code",
   "execution_count": 19,
   "id": "8a6e84a1",
   "metadata": {},
   "outputs": [
    {
     "name": "stdout",
     "output_type": "stream",
     "text": [
      "                               precision    recall  f1-score   support\n",
      "\n",
      "               bacterial_spot       0.65      0.75      0.70       345\n",
      "                 early_blight       0.31      0.32      0.32       153\n",
      "                      healthy       0.67      0.65      0.66       234\n",
      "                  late_blight       0.54      0.52      0.53       309\n",
      "                    leaf_mold       0.57      0.57      0.57       145\n",
      "           septoria_leaf_spot       0.67      0.64      0.66       293\n",
      "                  target_spot       0.58      0.56      0.57       240\n",
      "          tomato_mosaic_virus       0.63      0.74      0.68        54\n",
      "tomato_yellow_leaf_curl_virus       0.90      0.88      0.89       854\n",
      "      two-spotted_spider_mite       0.61      0.61      0.61       280\n",
      "\n",
      "                     accuracy                           0.68      2907\n",
      "                    macro avg       0.62      0.62      0.62      2907\n",
      "                 weighted avg       0.69      0.68      0.68      2907\n",
      "\n",
      "[[258  24   6  22   0   3   4   0  24   4]\n",
      " [ 20  49   8  29   5   3  14   3  12  10]\n",
      " [  5  10 153  27   5   8  16   0   0  10]\n",
      " [ 34  25  13 161   9  22   9   1  14  21]\n",
      " [  2   9   6   8  83  23   3   0   4   7]\n",
      " [  6   8  11  14  21 188  11  13  12   9]\n",
      " [ 11   9  21   7   8  13 135   3   0  33]\n",
      " [  0   0   1   0   2   8   2  40   0   1]\n",
      " [ 43   9   0  20   5   5  10   0 749  13]\n",
      " [ 16  13   8   8   7   7  29   3  18 171]]\n"
     ]
    }
   ],
   "source": [
    "#classification report\n",
    "y_predict = model.fit(Ftrain, Ltrain).predict(Ftest)\n",
    "class_names = target.unique()\n",
    "print(classification_report(Ltest, y_predict, target_names=class_names))\n",
    "print(confusion_matrix(Ltest, y_predict))"
   ]
  },
  {
   "cell_type": "markdown",
   "id": "6fe194bc",
   "metadata": {},
   "source": [
    "# SVM on RGB data"
   ]
  },
  {
   "cell_type": "code",
   "execution_count": 20,
   "id": "2427ed51",
   "metadata": {},
   "outputs": [
    {
     "name": "stdout",
     "output_type": "stream",
     "text": [
      "0.7344341245270037\n"
     ]
    }
   ],
   "source": [
    "from sklearn.svm import SVC\n",
    "from sklearn.metrics import accuracy_score\n",
    "\n",
    "clf = SVC(kernel='linear')\n",
    "clf.fit(Ftrain,Ltrain)\n",
    "y_pred = clf.predict(Ftest)\n",
    "print(accuracy_score(Ltest,y_pred))"
   ]
  },
  {
   "cell_type": "code",
   "execution_count": 21,
   "id": "d3ce316a",
   "metadata": {},
   "outputs": [
    {
     "name": "stdout",
     "output_type": "stream",
     "text": [
      "                               precision    recall  f1-score   support\n",
      "\n",
      "               bacterial_spot       0.66      0.82      0.73       345\n",
      "                 early_blight       0.38      0.38      0.38       153\n",
      "                      healthy       0.76      0.81      0.79       234\n",
      "                  late_blight       0.65      0.65      0.65       309\n",
      "                    leaf_mold       0.66      0.61      0.64       145\n",
      "           septoria_leaf_spot       0.71      0.66      0.68       293\n",
      "                  target_spot       0.67      0.61      0.64       240\n",
      "          tomato_mosaic_virus       0.77      0.85      0.81        54\n",
      "tomato_yellow_leaf_curl_virus       0.92      0.87      0.89       854\n",
      "      two-spotted_spider_mite       0.70      0.67      0.68       280\n",
      "\n",
      "                     accuracy                           0.73      2907\n",
      "                    macro avg       0.69      0.69      0.69      2907\n",
      "                 weighted avg       0.74      0.73      0.73      2907\n",
      "\n",
      "[[284  17   2  11   0   2   2   0  26   1]\n",
      " [ 35  58   2  25   1   4   7   0   8  13]\n",
      " [  0   7 190  12   4   5  11   0   0   5]\n",
      " [ 25  19  16 201   9  14   4   0  11  10]\n",
      " [  4   4   4  10  89  24   2   3   3   2]\n",
      " [  4  12  15  20  15 192  12   7   8   8]\n",
      " [  5  22  13   3   6  13 147   1   0  30]\n",
      " [  0   0   0   0   1   6   0  46   0   1]\n",
      " [ 65   5   0  21   3   4   5   0 741  10]\n",
      " [  9  10   8   8   6   7  30   3  12 187]]\n"
     ]
    }
   ],
   "source": [
    "#classification report\n",
    "y_predict = clf.fit(Ftrain, Ltrain).predict(Ftest)\n",
    "class_names = target.unique()\n",
    "print(classification_report(Ltest, y_predict, target_names=class_names))\n",
    "print(confusion_matrix(Ltest, y_predict))"
   ]
  },
  {
   "cell_type": "markdown",
   "id": "73bef6fa",
   "metadata": {},
   "source": [
    "# Random Forest on RGB "
   ]
  },
  {
   "cell_type": "code",
   "execution_count": 22,
   "id": "6bae5a92",
   "metadata": {},
   "outputs": [],
   "source": [
    "from sklearn.ensemble import RandomForestClassifier"
   ]
  },
  {
   "cell_type": "code",
   "execution_count": 23,
   "id": "1d08a15e",
   "metadata": {},
   "outputs": [],
   "source": [
    "classifier_rf = RandomForestClassifier(random_state=42, n_jobs=-1, max_depth=5,n_estimators=100, oob_score=True)"
   ]
  },
  {
   "cell_type": "code",
   "execution_count": 24,
   "id": "938ad007",
   "metadata": {},
   "outputs": [
    {
     "data": {
      "text/plain": [
       "RandomForestClassifier(max_depth=5, n_jobs=-1, oob_score=True, random_state=42)"
      ]
     },
     "execution_count": 24,
     "metadata": {},
     "output_type": "execute_result"
    }
   ],
   "source": [
    "classifier_rf.fit(Ftrain, Ltrain)"
   ]
  },
  {
   "cell_type": "code",
   "execution_count": 25,
   "id": "e1769cec",
   "metadata": {},
   "outputs": [
    {
     "data": {
      "text/plain": [
       "0.5572952512044047"
      ]
     },
     "execution_count": 25,
     "metadata": {},
     "output_type": "execute_result"
    }
   ],
   "source": [
    "classifier_rf.oob_score_"
   ]
  },
  {
   "cell_type": "code",
   "execution_count": 26,
   "id": "e8e6675c",
   "metadata": {},
   "outputs": [
    {
     "name": "stdout",
     "output_type": "stream",
     "text": [
      "                               precision    recall  f1-score   support\n",
      "\n",
      "               bacterial_spot       0.73      0.57      0.64       345\n",
      "                 early_blight       0.00      0.00      0.00       153\n",
      "                      healthy       0.56      0.91      0.69       234\n",
      "                  late_blight       0.67      0.27      0.38       309\n",
      "                    leaf_mold       0.79      0.33      0.47       145\n",
      "           septoria_leaf_spot       0.58      0.44      0.50       293\n",
      "                  target_spot       0.53      0.40      0.45       240\n",
      "          tomato_mosaic_virus       0.00      0.00      0.00        54\n",
      "tomato_yellow_leaf_curl_virus       0.52      0.98      0.68       854\n",
      "      two-spotted_spider_mite       0.71      0.16      0.26       280\n",
      "\n",
      "                     accuracy                           0.57      2907\n",
      "                    macro avg       0.51      0.41      0.41      2907\n",
      "                 weighted avg       0.57      0.57      0.51      2907\n",
      "\n",
      "[[196   0  19   5   0   0   3   0 122   0]\n",
      " [ 18   0   6   3   0  17  15   0  91   3]\n",
      " [  3   0 214   1   0   1   1   0  13   1]\n",
      " [  4   0  72  83   4  39  11   0  94   2]\n",
      " [  7   0  22  12  48   4   5   0  47   0]\n",
      " [  6   0  11   9   6 130   3   0 128   0]\n",
      " [ 16   0  18   5   0  22  95   0  76   8]\n",
      " [  2   0   9   3   3   3   1   0  29   4]\n",
      " [  5   0   3   2   0   7   1   0 836   0]\n",
      " [ 10   0   8   1   0   3  43   0 170  45]]\n"
     ]
    },
    {
     "name": "stderr",
     "output_type": "stream",
     "text": [
      "C:\\Users\\ravic\\anaconda3\\lib\\site-packages\\sklearn\\metrics\\_classification.py:1248: UndefinedMetricWarning: Precision and F-score are ill-defined and being set to 0.0 in labels with no predicted samples. Use `zero_division` parameter to control this behavior.\n",
      "  _warn_prf(average, modifier, msg_start, len(result))\n",
      "C:\\Users\\ravic\\anaconda3\\lib\\site-packages\\sklearn\\metrics\\_classification.py:1248: UndefinedMetricWarning: Precision and F-score are ill-defined and being set to 0.0 in labels with no predicted samples. Use `zero_division` parameter to control this behavior.\n",
      "  _warn_prf(average, modifier, msg_start, len(result))\n",
      "C:\\Users\\ravic\\anaconda3\\lib\\site-packages\\sklearn\\metrics\\_classification.py:1248: UndefinedMetricWarning: Precision and F-score are ill-defined and being set to 0.0 in labels with no predicted samples. Use `zero_division` parameter to control this behavior.\n",
      "  _warn_prf(average, modifier, msg_start, len(result))\n"
     ]
    }
   ],
   "source": [
    "y_predict = classifier_rf.fit(Ftrain, Ltrain).predict(Ftest)\n",
    "class_names = target.unique()\n",
    "print(classification_report(Ltest, y_predict, target_names=class_names))\n",
    "print(confusion_matrix(Ltest, y_predict))"
   ]
  },
  {
   "cell_type": "markdown",
   "id": "b6a094e4",
   "metadata": {},
   "source": [
    "# Naive Bayes on RGB data"
   ]
  },
  {
   "cell_type": "code",
   "execution_count": 27,
   "id": "a5bc755b",
   "metadata": {},
   "outputs": [
    {
     "data": {
      "text/plain": [
       "GaussianNB()"
      ]
     },
     "execution_count": 27,
     "metadata": {},
     "output_type": "execute_result"
    }
   ],
   "source": [
    "from sklearn.naive_bayes import GaussianNB\n",
    "gnb = GaussianNB()\n",
    "gnb.fit(Ftrain, Ltrain)"
   ]
  },
  {
   "cell_type": "code",
   "execution_count": 28,
   "id": "6d162dcc",
   "metadata": {},
   "outputs": [],
   "source": [
    "y_pred = gnb.predict(Ftest)"
   ]
  },
  {
   "cell_type": "code",
   "execution_count": 29,
   "id": "8f7b4bab",
   "metadata": {},
   "outputs": [
    {
     "data": {
      "text/plain": [
       "0.5063639490884073"
      ]
     },
     "execution_count": 29,
     "metadata": {},
     "output_type": "execute_result"
    }
   ],
   "source": [
    "from sklearn import metrics\n",
    "metrics.accuracy_score(Ltest, y_pred)"
   ]
  },
  {
   "cell_type": "code",
   "execution_count": 30,
   "id": "69742172",
   "metadata": {},
   "outputs": [
    {
     "name": "stdout",
     "output_type": "stream",
     "text": [
      "                               precision    recall  f1-score   support\n",
      "\n",
      "               bacterial_spot       0.53      0.76      0.62       345\n",
      "                 early_blight       0.23      0.31      0.26       153\n",
      "                      healthy       0.42      0.71      0.53       234\n",
      "                  late_blight       0.51      0.28      0.36       309\n",
      "                    leaf_mold       0.53      0.44      0.48       145\n",
      "           septoria_leaf_spot       0.44      0.46      0.45       293\n",
      "                  target_spot       0.54      0.45      0.49       240\n",
      "          tomato_mosaic_virus       0.19      0.72      0.31        54\n",
      "tomato_yellow_leaf_curl_virus       0.89      0.51      0.65       854\n",
      "      two-spotted_spider_mite       0.40      0.47      0.44       280\n",
      "\n",
      "                     accuracy                           0.51      2907\n",
      "                    macro avg       0.47      0.51      0.46      2907\n",
      "                 weighted avg       0.58      0.51      0.52      2907\n",
      "\n",
      "[[261   7  32   7   0   3   6   5  20   4]\n",
      " [ 36  47   2  24   0  10  18   4   4   8]\n",
      " [  8   5 166   7   6   3  22   7   2   8]\n",
      " [  4  49  94  86  17  31   6  14   4   4]\n",
      " [  6   6   5  11  64  25   1  20   2   5]\n",
      " [  6  10  39   6  21 135  19  19  11  27]\n",
      " [ 17  14   4   7   3  23 107  12   2  51]\n",
      " [  4   0   3   0   1   4   0  39   1   2]\n",
      " [136  39  41  15   6  54   2  39 434  88]\n",
      " [ 14  27   7   4   3  22  19  42   9 133]]\n"
     ]
    }
   ],
   "source": [
    "class_names = target.unique()\n",
    "print(classification_report(Ltest, y_pred, target_names=class_names))\n",
    "print(confusion_matrix(Ltest, y_pred))"
   ]
  },
  {
   "cell_type": "markdown",
   "id": "0d6e0d06",
   "metadata": {},
   "source": [
    "# Decision Tree on RGB data"
   ]
  },
  {
   "cell_type": "code",
   "execution_count": 31,
   "id": "a5fd6907",
   "metadata": {},
   "outputs": [],
   "source": [
    "from sklearn.tree import DecisionTreeClassifier\n",
    "classifier_tree = DecisionTreeClassifier()"
   ]
  },
  {
   "cell_type": "code",
   "execution_count": 32,
   "id": "63eb94fc",
   "metadata": {},
   "outputs": [
    {
     "data": {
      "text/plain": [
       "0.5084279325765394"
      ]
     },
     "execution_count": 32,
     "metadata": {},
     "output_type": "execute_result"
    }
   ],
   "source": [
    "classifier_tree.fit(Ftrain, Ltrain)\n",
    "classifier_tree.score(Ftest,Ltest)"
   ]
  },
  {
   "cell_type": "code",
   "execution_count": 33,
   "id": "2a796fe0",
   "metadata": {},
   "outputs": [
    {
     "name": "stdout",
     "output_type": "stream",
     "text": [
      "                               precision    recall  f1-score   support\n",
      "\n",
      "               bacterial_spot       0.52      0.59      0.55       345\n",
      "                 early_blight       0.12      0.12      0.12       153\n",
      "                      healthy       0.62      0.69      0.65       234\n",
      "                  late_blight       0.46      0.43      0.45       309\n",
      "                    leaf_mold       0.35      0.35      0.35       145\n",
      "           septoria_leaf_spot       0.40      0.42      0.41       293\n",
      "                  target_spot       0.32      0.31      0.31       240\n",
      "          tomato_mosaic_virus       0.11      0.13      0.12        54\n",
      "tomato_yellow_leaf_curl_virus       0.75      0.69      0.72       854\n",
      "      two-spotted_spider_mite       0.40      0.40      0.40       280\n",
      "\n",
      "                     accuracy                           0.51      2907\n",
      "                    macro avg       0.41      0.41      0.41      2907\n",
      "                 weighted avg       0.51      0.51      0.51      2907\n",
      "\n",
      "[[203  19   9  22   5  16   9   2  43  17]\n",
      " [ 31  18   4  15   4  11  19   3  28  20]\n",
      " [ 10   7 161  19   7   4  12   1   6   7]\n",
      " [ 16  19  15 134  18  38  20   7  26  16]\n",
      " [ 10  10   8  10  51  17   7   7  14  11]\n",
      " [ 16  10  11  29  16 122  21  12  41  15]\n",
      " [ 13  20  27  12  14  29  74   5  12  34]\n",
      " [  4   1   5   4   6   9   6   7   4   8]\n",
      " [ 71  31   9  22  17  47  13  12 588  44]\n",
      " [ 19  19  10  22   6  11  49   5  26 113]]\n"
     ]
    }
   ],
   "source": [
    "y_predict = classifier_tree.fit(Ftrain, Ltrain).predict(Ftest)\n",
    "class_names = target.unique()\n",
    "print(classification_report(Ltest, y_predict, target_names=class_names))\n",
    "print(confusion_matrix(Ltest, y_predict))"
   ]
  },
  {
   "cell_type": "markdown",
   "id": "c9daaaee",
   "metadata": {},
   "source": [
    "# KNN on grayscale data"
   ]
  },
  {
   "cell_type": "code",
   "execution_count": 34,
   "id": "57a9845e",
   "metadata": {},
   "outputs": [],
   "source": [
    "#reading numpy array data\n",
    "gray_test = np.load('gray_test.npy')\n",
    "#reading csv file\n",
    "gray_df = pd.read_csv('gray_data.csv')"
   ]
  },
  {
   "cell_type": "code",
   "execution_count": 35,
   "id": "25d4fea2",
   "metadata": {},
   "outputs": [],
   "source": [
    "loaded = []\n",
    "for i in gray_test:\n",
    "    k = []\n",
    "    k = np.asarray(i,dtype='uint8')\n",
    "    loaded.append(k)"
   ]
  },
  {
   "cell_type": "code",
   "execution_count": 36,
   "id": "d3abef95",
   "metadata": {},
   "outputs": [],
   "source": [
    "features = loaded\n",
    "target = gray_df['disease']\n",
    "Ftrain,Ftest,Ltrain,Ltest=train_test_split(features,target, test_size=0.20, random_state=20)\n",
    "Ftrain = scaler.fit_transform(Ftrain)\n",
    "Ftest = scaler.fit_transform(Ftest)"
   ]
  },
  {
   "cell_type": "code",
   "execution_count": 37,
   "id": "6f75adfd",
   "metadata": {},
   "outputs": [
    {
     "data": {
      "text/plain": [
       "0.48606811145510836"
      ]
     },
     "execution_count": 37,
     "metadata": {},
     "output_type": "execute_result"
    }
   ],
   "source": [
    "kmodel.fit(Ftrain,Ltrain)\n",
    "kmodel.score(Ftest,Ltest)"
   ]
  },
  {
   "cell_type": "code",
   "execution_count": 38,
   "id": "db638452",
   "metadata": {},
   "outputs": [
    {
     "name": "stdout",
     "output_type": "stream",
     "text": [
      "                               precision    recall  f1-score   support\n",
      "\n",
      "               bacterial_spot       0.38      0.77      0.50       349\n",
      "                 early_blight       0.00      0.00      0.00       182\n",
      "                      healthy       0.38      0.60      0.46       258\n",
      "                  late_blight       0.37      0.29      0.32       316\n",
      "                    leaf_mold       0.74      0.46      0.56       145\n",
      "           septoria_leaf_spot       0.56      0.39      0.46       262\n",
      "                  target_spot       0.70      0.16      0.26       229\n",
      "          tomato_mosaic_virus       1.00      0.03      0.07        58\n",
      "tomato_yellow_leaf_curl_virus       0.57      0.66      0.61       857\n",
      "      two-spotted_spider_mite       0.58      0.49      0.53       251\n",
      "\n",
      "                     accuracy                           0.49      2907\n",
      "                    macro avg       0.53      0.39      0.38      2907\n",
      "                 weighted avg       0.50      0.49      0.46      2907\n",
      "\n",
      "[[269   0  29  18   1   1   0   0  31   0]\n",
      " [ 94   0   6   2   5  12   9   0  49   5]\n",
      " [ 25   0 156  28   0   9   0   0  39   1]\n",
      " [ 47   0  53  91   5  36   1   0  74   9]\n",
      " [ 13   0  12  19  66   2   1   0  29   3]\n",
      " [ 19   0  38  20   3 101   0   0  67  14]\n",
      " [ 87   0  10   5   0  10  37   0  48  32]\n",
      " [  2   0   6   3   3   0   0   2  36   6]\n",
      " [110   0 101  50   5   5   0   0 569  17]\n",
      " [ 51   0   4   8   1   4   5   0  56 122]]\n"
     ]
    },
    {
     "name": "stderr",
     "output_type": "stream",
     "text": [
      "C:\\Users\\ravic\\anaconda3\\lib\\site-packages\\sklearn\\metrics\\_classification.py:1248: UndefinedMetricWarning: Precision and F-score are ill-defined and being set to 0.0 in labels with no predicted samples. Use `zero_division` parameter to control this behavior.\n",
      "  _warn_prf(average, modifier, msg_start, len(result))\n",
      "C:\\Users\\ravic\\anaconda3\\lib\\site-packages\\sklearn\\metrics\\_classification.py:1248: UndefinedMetricWarning: Precision and F-score are ill-defined and being set to 0.0 in labels with no predicted samples. Use `zero_division` parameter to control this behavior.\n",
      "  _warn_prf(average, modifier, msg_start, len(result))\n",
      "C:\\Users\\ravic\\anaconda3\\lib\\site-packages\\sklearn\\metrics\\_classification.py:1248: UndefinedMetricWarning: Precision and F-score are ill-defined and being set to 0.0 in labels with no predicted samples. Use `zero_division` parameter to control this behavior.\n",
      "  _warn_prf(average, modifier, msg_start, len(result))\n"
     ]
    }
   ],
   "source": [
    "y_predict = kmodel.fit(Ftrain, Ltrain).predict(Ftest)\n",
    "class_names = target.unique()\n",
    "print(classification_report(Ltest, y_predict, target_names=class_names))\n",
    "print(confusion_matrix(Ltest, y_predict))"
   ]
  },
  {
   "cell_type": "markdown",
   "id": "197eedfc",
   "metadata": {},
   "source": [
    "# Logistic on grayscale data"
   ]
  },
  {
   "cell_type": "code",
   "execution_count": 39,
   "id": "9fd6cafe",
   "metadata": {},
   "outputs": [
    {
     "data": {
      "text/plain": [
       "0.4368765049879601"
      ]
     },
     "execution_count": 39,
     "metadata": {},
     "output_type": "execute_result"
    }
   ],
   "source": [
    "from sklearn.linear_model import LogisticRegression\n",
    "model=LogisticRegression(solver='lbfgs', max_iter=10000)\n",
    "model.fit(Ftrain,Ltrain)\n",
    "model.score(Ftest,Ltest)"
   ]
  },
  {
   "cell_type": "code",
   "execution_count": 40,
   "id": "ad468ab9",
   "metadata": {},
   "outputs": [
    {
     "name": "stdout",
     "output_type": "stream",
     "text": [
      "                               precision    recall  f1-score   support\n",
      "\n",
      "               bacterial_spot       0.56      0.50      0.53       349\n",
      "                 early_blight       0.21      0.15      0.18       182\n",
      "                      healthy       0.35      0.30      0.32       258\n",
      "                  late_blight       0.31      0.31      0.31       316\n",
      "                    leaf_mold       0.41      0.39      0.40       145\n",
      "           septoria_leaf_spot       0.34      0.35      0.34       262\n",
      "                  target_spot       0.27      0.23      0.25       229\n",
      "          tomato_mosaic_virus       0.15      0.19      0.17        58\n",
      "tomato_yellow_leaf_curl_virus       0.58      0.66      0.62       857\n",
      "      two-spotted_spider_mite       0.42      0.45      0.43       251\n",
      "\n",
      "                     accuracy                           0.44      2907\n",
      "                    macro avg       0.36      0.35      0.36      2907\n",
      "                 weighted avg       0.43      0.44      0.43      2907\n",
      "\n",
      "[[175  18  14  25   3  15  12   0  76  11]\n",
      " [ 26  28  10  15  13  13  22   1  47   7]\n",
      " [ 13   5  78  52   6  22  22   0  44  16]\n",
      " [ 10  19  27  97  20  46  22  13  51  11]\n",
      " [  3   4   3  21  57  10   4   5  29   9]\n",
      " [  8  10  19  32  10  91  21   8  45  18]\n",
      " [ 26  14  25  10   6  19  53   5  33  38]\n",
      " [  1   1   0   4   0   3   1  11  34   3]\n",
      " [ 36  21  43  53  20  32  18  21 567  46]\n",
      " [ 13  12   6   5   3  18  22   8  51 113]]\n"
     ]
    }
   ],
   "source": [
    "y_predict = model.fit(Ftrain, Ltrain).predict(Ftest)\n",
    "class_names = target.unique()\n",
    "print(classification_report(Ltest, y_predict, target_names=class_names))\n",
    "print(confusion_matrix(Ltest, y_predict))"
   ]
  },
  {
   "cell_type": "markdown",
   "id": "5284f869",
   "metadata": {},
   "source": [
    "# SVM on Grayscale data"
   ]
  },
  {
   "cell_type": "code",
   "execution_count": 41,
   "id": "d0db5c80",
   "metadata": {},
   "outputs": [
    {
     "name": "stdout",
     "output_type": "stream",
     "text": [
      "0.4244926040591675\n"
     ]
    }
   ],
   "source": [
    "clf = SVC(kernel='linear')\n",
    "clf.fit(Ftrain,Ltrain)\n",
    "y_pred = clf.predict(Ftest)\n",
    "print(accuracy_score(Ltest,y_pred))"
   ]
  },
  {
   "cell_type": "code",
   "execution_count": 42,
   "id": "907d10fb",
   "metadata": {},
   "outputs": [
    {
     "name": "stdout",
     "output_type": "stream",
     "text": [
      "                               precision    recall  f1-score   support\n",
      "\n",
      "               bacterial_spot       0.41      0.53      0.46       349\n",
      "                 early_blight       0.14      0.14      0.14       182\n",
      "                      healthy       0.43      0.43      0.43       258\n",
      "                  late_blight       0.29      0.29      0.29       316\n",
      "                    leaf_mold       0.34      0.35      0.35       145\n",
      "           septoria_leaf_spot       0.33      0.30      0.31       262\n",
      "                  target_spot       0.32      0.26      0.28       229\n",
      "          tomato_mosaic_virus       0.25      0.29      0.27        58\n",
      "tomato_yellow_leaf_curl_virus       0.61      0.59      0.60       857\n",
      "      two-spotted_spider_mite       0.50      0.43      0.46       251\n",
      "\n",
      "                     accuracy                           0.42      2907\n",
      "                    macro avg       0.36      0.36      0.36      2907\n",
      "                 weighted avg       0.43      0.42      0.42      2907\n",
      "\n",
      "[[185  30  11  27   3  13   5   0  68   7]\n",
      " [ 40  25   4  13  10   9  21   1  47  12]\n",
      " [ 39   8 111  38   4  16   9   0  29   4]\n",
      " [ 20  30  42  92  18  47  17   7  32  11]\n",
      " [  7   9   4  30  51  11   4   7  17   5]\n",
      " [ 24  13  21  32  15  79  28   5  36   9]\n",
      " [ 48  17  17  10  10   9  59   5  29  25]\n",
      " [  2   0   0   6   0   5   0  17  26   2]\n",
      " [ 66  36  45  61  28  37  19  23 508  34]\n",
      " [ 20  17   6   3  10  17  25   3  43 107]]\n"
     ]
    }
   ],
   "source": [
    "y_predict = clf.fit(Ftrain, Ltrain).predict(Ftest)\n",
    "class_names = target.unique()\n",
    "print(classification_report(Ltest, y_predict, target_names=class_names))\n",
    "print(confusion_matrix(Ltest, y_predict))"
   ]
  },
  {
   "cell_type": "markdown",
   "id": "576fd580",
   "metadata": {},
   "source": [
    "# Random Forest on Grayscale"
   ]
  },
  {
   "cell_type": "code",
   "execution_count": 43,
   "id": "9dfa979e",
   "metadata": {},
   "outputs": [
    {
     "data": {
      "text/plain": [
       "RandomForestClassifier(max_depth=5, n_jobs=-1, oob_score=True, random_state=42)"
      ]
     },
     "execution_count": 43,
     "metadata": {},
     "output_type": "execute_result"
    }
   ],
   "source": [
    "classifier_rf.fit(Ftrain, Ltrain)"
   ]
  },
  {
   "cell_type": "code",
   "execution_count": 44,
   "id": "2b4347ef",
   "metadata": {},
   "outputs": [
    {
     "data": {
      "text/plain": [
       "0.4395216792842395"
      ]
     },
     "execution_count": 44,
     "metadata": {},
     "output_type": "execute_result"
    }
   ],
   "source": [
    "classifier_rf.oob_score_"
   ]
  },
  {
   "cell_type": "code",
   "execution_count": 45,
   "id": "ce5db8b5",
   "metadata": {},
   "outputs": [
    {
     "name": "stdout",
     "output_type": "stream",
     "text": [
      "                               precision    recall  f1-score   support\n",
      "\n",
      "               bacterial_spot       0.63      0.46      0.53       349\n",
      "                 early_blight       0.00      0.00      0.00       182\n",
      "                      healthy       0.62      0.35      0.45       258\n",
      "                  late_blight       0.79      0.18      0.29       316\n",
      "                    leaf_mold       0.57      0.03      0.05       145\n",
      "           septoria_leaf_spot       0.58      0.47      0.52       262\n",
      "                  target_spot       0.84      0.07      0.13       229\n",
      "          tomato_mosaic_virus       0.00      0.00      0.00        58\n",
      "tomato_yellow_leaf_curl_virus       0.38      0.93      0.54       857\n",
      "      two-spotted_spider_mite       0.61      0.25      0.36       251\n",
      "\n",
      "                     accuracy                           0.45      2907\n",
      "                    macro avg       0.50      0.27      0.29      2907\n",
      "                 weighted avg       0.53      0.45      0.38      2907\n",
      "\n",
      "[[161   0   9   3   0   1   0   0 175   0]\n",
      " [ 29   0   1   1   0  18   1   0 130   2]\n",
      " [  2   0  90   4   0   0   0   0 161   1]\n",
      " [  7   0  17  56   2  35   1   0 195   3]\n",
      " [  3   0   0   3   4   7   1   0 124   3]\n",
      " [  2   0  17   3   1 123   0   0 113   3]\n",
      " [  2   0   0   0   0  13  16   0 170  28]\n",
      " [  1   0   0   0   0   1   0   0  56   0]\n",
      " [ 39   0  11   1   0  11   0   0 795   0]\n",
      " [ 10   0   0   0   0   2   0   0 176  63]]\n"
     ]
    },
    {
     "name": "stderr",
     "output_type": "stream",
     "text": [
      "C:\\Users\\ravic\\anaconda3\\lib\\site-packages\\sklearn\\metrics\\_classification.py:1248: UndefinedMetricWarning: Precision and F-score are ill-defined and being set to 0.0 in labels with no predicted samples. Use `zero_division` parameter to control this behavior.\n",
      "  _warn_prf(average, modifier, msg_start, len(result))\n",
      "C:\\Users\\ravic\\anaconda3\\lib\\site-packages\\sklearn\\metrics\\_classification.py:1248: UndefinedMetricWarning: Precision and F-score are ill-defined and being set to 0.0 in labels with no predicted samples. Use `zero_division` parameter to control this behavior.\n",
      "  _warn_prf(average, modifier, msg_start, len(result))\n",
      "C:\\Users\\ravic\\anaconda3\\lib\\site-packages\\sklearn\\metrics\\_classification.py:1248: UndefinedMetricWarning: Precision and F-score are ill-defined and being set to 0.0 in labels with no predicted samples. Use `zero_division` parameter to control this behavior.\n",
      "  _warn_prf(average, modifier, msg_start, len(result))\n"
     ]
    }
   ],
   "source": [
    "y_predict = classifier_rf.fit(Ftrain, Ltrain).predict(Ftest)\n",
    "class_names = target.unique()\n",
    "print(classification_report(Ltest, y_predict, target_names=class_names))\n",
    "print(confusion_matrix(Ltest, y_predict))"
   ]
  },
  {
   "cell_type": "markdown",
   "id": "8befce61",
   "metadata": {},
   "source": [
    "# Naive bayes on Grayscale"
   ]
  },
  {
   "cell_type": "code",
   "execution_count": 46,
   "id": "0d1a6d3b",
   "metadata": {},
   "outputs": [
    {
     "data": {
      "text/plain": [
       "GaussianNB()"
      ]
     },
     "execution_count": 46,
     "metadata": {},
     "output_type": "execute_result"
    }
   ],
   "source": [
    "gnb.fit(Ftrain, Ltrain)"
   ]
  },
  {
   "cell_type": "code",
   "execution_count": 47,
   "id": "053c9a09",
   "metadata": {},
   "outputs": [
    {
     "data": {
      "text/plain": [
       "0.3667010663914689"
      ]
     },
     "execution_count": 47,
     "metadata": {},
     "output_type": "execute_result"
    }
   ],
   "source": [
    "y_pred = gnb.predict(Ftest)\n",
    "metrics.accuracy_score(Ltest, y_pred)"
   ]
  },
  {
   "cell_type": "code",
   "execution_count": 48,
   "id": "0ea180f7",
   "metadata": {},
   "outputs": [
    {
     "name": "stdout",
     "output_type": "stream",
     "text": [
      "                               precision    recall  f1-score   support\n",
      "\n",
      "               bacterial_spot       0.42      0.73      0.53       349\n",
      "                 early_blight       0.25      0.31      0.28       182\n",
      "                      healthy       0.32      0.66      0.43       258\n",
      "                  late_blight       0.41      0.23      0.29       316\n",
      "                    leaf_mold       0.45      0.31      0.37       145\n",
      "           septoria_leaf_spot       0.36      0.50      0.42       262\n",
      "                  target_spot       0.51      0.34      0.41       229\n",
      "          tomato_mosaic_virus       0.13      0.60      0.22        58\n",
      "tomato_yellow_leaf_curl_virus       0.61      0.14      0.23       857\n",
      "      two-spotted_spider_mite       0.36      0.42      0.39       251\n",
      "\n",
      "                     accuracy                           0.37      2907\n",
      "                    macro avg       0.38      0.42      0.36      2907\n",
      "                 weighted avg       0.45      0.37      0.34      2907\n",
      "\n",
      "[[254   9  45   2   3   8   3  14   8   3]\n",
      " [ 54  57   3  23   7   8   9   4   6  11]\n",
      " [ 10   2 169   7   9   4  14   6  27  10]\n",
      " [  8  54  98  72   9  36   6  13   9  11]\n",
      " [ 21   3   6  11  45  27   4  16   8   4]\n",
      " [  3   7  50   9   6 131  12  16   4  24]\n",
      " [ 25  19   1  11   6  25  77  13   4  48]\n",
      " [ 12   0   3   0   1   2   0  35   3   2]\n",
      " [204  57 143  34  10  91   8 114 121  75]\n",
      " [ 18  23   3   5   3  35  18  32   9 105]]\n"
     ]
    }
   ],
   "source": [
    "class_names = target.unique()\n",
    "print(classification_report(Ltest, y_pred, target_names=class_names))\n",
    "print(confusion_matrix(Ltest, y_pred))"
   ]
  },
  {
   "cell_type": "markdown",
   "id": "7adb2a72",
   "metadata": {},
   "source": [
    "# Decision Tree on Grayscale"
   ]
  },
  {
   "cell_type": "code",
   "execution_count": 49,
   "id": "8e38f8b5",
   "metadata": {},
   "outputs": [
    {
     "data": {
      "text/plain": [
       "0.42346061231510146"
      ]
     },
     "execution_count": 49,
     "metadata": {},
     "output_type": "execute_result"
    }
   ],
   "source": [
    "classifier_tree.fit(Ftrain, Ltrain)\n",
    "classifier_tree.score(Ftest,Ltest)"
   ]
  },
  {
   "cell_type": "code",
   "execution_count": 50,
   "id": "838a0a4d",
   "metadata": {},
   "outputs": [
    {
     "name": "stdout",
     "output_type": "stream",
     "text": [
      "                               precision    recall  f1-score   support\n",
      "\n",
      "               bacterial_spot       0.46      0.49      0.48       349\n",
      "                 early_blight       0.23      0.23      0.23       182\n",
      "                      healthy       0.58      0.54      0.56       258\n",
      "                  late_blight       0.38      0.33      0.35       316\n",
      "                    leaf_mold       0.30      0.32      0.31       145\n",
      "           septoria_leaf_spot       0.39      0.46      0.42       262\n",
      "                  target_spot       0.28      0.26      0.27       229\n",
      "          tomato_mosaic_virus       0.06      0.05      0.06        58\n",
      "tomato_yellow_leaf_curl_virus       0.53      0.52      0.53       857\n",
      "      two-spotted_spider_mite       0.38      0.42      0.40       251\n",
      "\n",
      "                     accuracy                           0.43      2907\n",
      "                    macro avg       0.36      0.36      0.36      2907\n",
      "                 weighted avg       0.43      0.43      0.42      2907\n",
      "\n",
      "[[171  18  13  13   9  20  12   4  81   8]\n",
      " [ 23  42  10  18   4  11  15   1  42  16]\n",
      " [ 11   7 139  14   7  16  19   3  32  10]\n",
      " [ 25  29  11 103  10  38  14  10  59  17]\n",
      " [  6   8   1  21  46  11  10   4  32   6]\n",
      " [ 18  10   6  21   7 121  16   2  48  13]\n",
      " [ 13  14  18  14   9  28  59   2  32  40]\n",
      " [  5   3   2   2   7   5   4   3  19   8]\n",
      " [ 86  41  30  54  43  53  34  16 447  53]\n",
      " [ 12  13   8  10  11   8  31   4  48 106]]\n"
     ]
    }
   ],
   "source": [
    "y_predict = classifier_tree.fit(Ftrain, Ltrain).predict(Ftest)\n",
    "class_names = target.unique()\n",
    "print(classification_report(Ltest, y_predict, target_names=class_names))\n",
    "print(confusion_matrix(Ltest, y_predict))"
   ]
  },
  {
   "cell_type": "markdown",
   "id": "e42f549f",
   "metadata": {},
   "source": [
    "# KNN on Red channel data"
   ]
  },
  {
   "cell_type": "code",
   "execution_count": 51,
   "id": "cb75cbbd",
   "metadata": {},
   "outputs": [],
   "source": [
    "#reading numpy array data\n",
    "red_test = np.load('red_data.npy')\n",
    "#reading csv file\n",
    "red_df = pd.read_csv('red_data.csv')"
   ]
  },
  {
   "cell_type": "code",
   "execution_count": 52,
   "id": "7fda7839",
   "metadata": {},
   "outputs": [],
   "source": [
    "loaded = []\n",
    "for i in red_test:\n",
    "    k = []\n",
    "    k = np.asarray(i,dtype='uint8')\n",
    "    loaded.append(k)\n",
    "features = loaded\n",
    "target = red_df['disease']\n",
    "Ftrain,Ftest,Ltrain,Ltest=train_test_split(features,target, test_size=0.20, random_state=20)\n",
    "scaler = StandardScaler()\n",
    "Ftrain = scaler.fit_transform(Ftrain)\n",
    "Ftest = scaler.fit_transform(Ftest)"
   ]
  },
  {
   "cell_type": "code",
   "execution_count": 53,
   "id": "683839f2",
   "metadata": {},
   "outputs": [
    {
     "data": {
      "text/plain": [
       "0.5070519435844513"
      ]
     },
     "execution_count": 53,
     "metadata": {},
     "output_type": "execute_result"
    }
   ],
   "source": [
    "kmodel.fit(Ftrain,Ltrain)\n",
    "kmodel.score(Ftest,Ltest)"
   ]
  },
  {
   "cell_type": "code",
   "execution_count": 54,
   "id": "3f0b171c",
   "metadata": {},
   "outputs": [
    {
     "name": "stdout",
     "output_type": "stream",
     "text": [
      "                               precision    recall  f1-score   support\n",
      "\n",
      "               bacterial_spot       0.44      0.74      0.55       349\n",
      "                 early_blight       0.00      0.00      0.00       182\n",
      "                      healthy       0.38      0.71      0.50       258\n",
      "                  late_blight       0.48      0.31      0.37       316\n",
      "                    leaf_mold       0.63      0.44      0.52       145\n",
      "           septoria_leaf_spot       0.59      0.35      0.44       262\n",
      "                  target_spot       0.60      0.26      0.36       229\n",
      "          tomato_mosaic_virus       0.60      0.05      0.10        58\n",
      "tomato_yellow_leaf_curl_virus       0.57      0.66      0.61       857\n",
      "      two-spotted_spider_mite       0.54      0.62      0.58       251\n",
      "\n",
      "                     accuracy                           0.51      2907\n",
      "                    macro avg       0.48      0.41      0.40      2907\n",
      "                 weighted avg       0.50      0.51      0.48      2907\n",
      "\n",
      "[[257   0  31  17   1   2   0   0  41   0]\n",
      " [ 81   0  11   2   7   9  16   1  45  10]\n",
      " [  4   0 182  12   0   2   0   0  57   1]\n",
      " [ 34   0  51  97   8  36   5   0  71  14]\n",
      " [  8   0  20  17  64   4   2   0  26   4]\n",
      " [ 19   0  36  17   4  92   2   1  67  24]\n",
      " [ 57   0  22   1   0   3  60   0  42  44]\n",
      " [  1   0   6   1   1   1   0   3  38   7]\n",
      " [ 97   0 108  36  16   6   1   0 564  29]\n",
      " [ 29   0   6   4   0   1  14   0  42 155]]\n"
     ]
    },
    {
     "name": "stderr",
     "output_type": "stream",
     "text": [
      "C:\\Users\\ravic\\anaconda3\\lib\\site-packages\\sklearn\\metrics\\_classification.py:1248: UndefinedMetricWarning: Precision and F-score are ill-defined and being set to 0.0 in labels with no predicted samples. Use `zero_division` parameter to control this behavior.\n",
      "  _warn_prf(average, modifier, msg_start, len(result))\n",
      "C:\\Users\\ravic\\anaconda3\\lib\\site-packages\\sklearn\\metrics\\_classification.py:1248: UndefinedMetricWarning: Precision and F-score are ill-defined and being set to 0.0 in labels with no predicted samples. Use `zero_division` parameter to control this behavior.\n",
      "  _warn_prf(average, modifier, msg_start, len(result))\n",
      "C:\\Users\\ravic\\anaconda3\\lib\\site-packages\\sklearn\\metrics\\_classification.py:1248: UndefinedMetricWarning: Precision and F-score are ill-defined and being set to 0.0 in labels with no predicted samples. Use `zero_division` parameter to control this behavior.\n",
      "  _warn_prf(average, modifier, msg_start, len(result))\n"
     ]
    }
   ],
   "source": [
    "y_predict = kmodel.fit(Ftrain, Ltrain).predict(Ftest)\n",
    "class_names = target.unique()\n",
    "print(classification_report(Ltest, y_predict, target_names=class_names))\n",
    "print(confusion_matrix(Ltest, y_predict))"
   ]
  },
  {
   "cell_type": "markdown",
   "id": "ffcda594",
   "metadata": {},
   "source": [
    "# Logistic on Red channel data"
   ]
  },
  {
   "cell_type": "code",
   "execution_count": 55,
   "id": "1ed4037b",
   "metadata": {},
   "outputs": [
    {
     "data": {
      "text/plain": [
       "0.44410044719642244"
      ]
     },
     "execution_count": 55,
     "metadata": {},
     "output_type": "execute_result"
    }
   ],
   "source": [
    "model.fit(Ftrain,Ltrain)\n",
    "model.score(Ftest,Ltest)"
   ]
  },
  {
   "cell_type": "code",
   "execution_count": 56,
   "id": "19a4a62d",
   "metadata": {},
   "outputs": [
    {
     "name": "stdout",
     "output_type": "stream",
     "text": [
      "                               precision    recall  f1-score   support\n",
      "\n",
      "               bacterial_spot       0.56      0.51      0.53       349\n",
      "                 early_blight       0.20      0.16      0.18       182\n",
      "                      healthy       0.37      0.33      0.35       258\n",
      "                  late_blight       0.30      0.30      0.30       316\n",
      "                    leaf_mold       0.41      0.42      0.42       145\n",
      "           septoria_leaf_spot       0.33      0.32      0.33       262\n",
      "                  target_spot       0.33      0.28      0.30       229\n",
      "          tomato_mosaic_virus       0.16      0.21      0.18        58\n",
      "tomato_yellow_leaf_curl_virus       0.60      0.66      0.63       857\n",
      "      two-spotted_spider_mite       0.43      0.46      0.44       251\n",
      "\n",
      "                     accuracy                           0.44      2907\n",
      "                    macro avg       0.37      0.37      0.37      2907\n",
      "                 weighted avg       0.44      0.44      0.44      2907\n",
      "\n",
      "[[178  20  11  29   5  12  11   0  76   7]\n",
      " [ 20  29  13  13  13  14  19   0  49  12]\n",
      " [ 13   9  85  48  11  20  23   0  35  14]\n",
      " [ 10  22  33  94  17  45  18  13  52  12]\n",
      " [  7   5   2  22  61  13   1   5  24   5]\n",
      " [ 13  14  15  41  10  85  19   9  35  21]\n",
      " [ 24  18  27  10   5  16  64   2  23  40]\n",
      " [  0   1   0   3   4   1   1  12  34   2]\n",
      " [ 43  21  34  52  20  36  16  25 567  43]\n",
      " [ 12   7   7   3   2  18  24   8  54 116]]\n"
     ]
    }
   ],
   "source": [
    "y_predict = model.fit(Ftrain, Ltrain).predict(Ftest)\n",
    "class_names = target.unique()\n",
    "print(classification_report(Ltest, y_predict, target_names=class_names))\n",
    "print(confusion_matrix(Ltest, y_predict))"
   ]
  },
  {
   "cell_type": "markdown",
   "id": "dba6d5ce",
   "metadata": {},
   "source": [
    "# SVM on Red channel data"
   ]
  },
  {
   "cell_type": "code",
   "execution_count": 57,
   "id": "6ed153f7",
   "metadata": {},
   "outputs": [
    {
     "name": "stdout",
     "output_type": "stream",
     "text": [
      "0.4444444444444444\n"
     ]
    }
   ],
   "source": [
    "clf.fit(Ftrain,Ltrain)\n",
    "y_pred = clf.predict(Ftest)\n",
    "print(accuracy_score(Ltest,y_pred))"
   ]
  },
  {
   "cell_type": "code",
   "execution_count": 58,
   "id": "cb2cb836",
   "metadata": {},
   "outputs": [
    {
     "name": "stdout",
     "output_type": "stream",
     "text": [
      "                               precision    recall  f1-score   support\n",
      "\n",
      "               bacterial_spot       0.43      0.54      0.48       349\n",
      "                 early_blight       0.21      0.21      0.21       182\n",
      "                      healthy       0.42      0.42      0.42       258\n",
      "                  late_blight       0.34      0.37      0.35       316\n",
      "                    leaf_mold       0.42      0.41      0.41       145\n",
      "           septoria_leaf_spot       0.33      0.33      0.33       262\n",
      "                  target_spot       0.39      0.35      0.37       229\n",
      "          tomato_mosaic_virus       0.24      0.26      0.25        58\n",
      "tomato_yellow_leaf_curl_virus       0.61      0.59      0.60       857\n",
      "      two-spotted_spider_mite       0.48      0.37      0.42       251\n",
      "\n",
      "                     accuracy                           0.44      2907\n",
      "                    macro avg       0.39      0.39      0.39      2907\n",
      "                 weighted avg       0.45      0.44      0.44      2907\n",
      "\n",
      "[[190  25  16  26   1   9   3   0  73   6]\n",
      " [ 35  38   9   6  11  11  18   0  50   4]\n",
      " [ 35  10 108  43   4  15  14   0  23   6]\n",
      " [ 27  25  34 116  12  42  15   6  35   4]\n",
      " [  9   6   4  27  59  13   1   4  18   4]\n",
      " [ 21  15  17  46  11  87  24   4  25  12]\n",
      " [ 34  20  15   8   3  16  81   4  24  24]\n",
      " [  1   1   0   3   2   5   0  15  29   2]\n",
      " [ 68  29  43  59  32  37  21  26 504  38]\n",
      " [ 18  13   9   7   6  25  30   4  45  94]]\n"
     ]
    }
   ],
   "source": [
    "y_predict = clf.fit(Ftrain, Ltrain).predict(Ftest)\n",
    "class_names = target.unique()\n",
    "print(classification_report(Ltest, y_predict, target_names=class_names))\n",
    "print(confusion_matrix(Ltest, y_predict))"
   ]
  },
  {
   "cell_type": "markdown",
   "id": "a670c4d4",
   "metadata": {},
   "source": [
    "# Random forest on Red channel data"
   ]
  },
  {
   "cell_type": "code",
   "execution_count": 59,
   "id": "9e816e9e",
   "metadata": {},
   "outputs": [
    {
     "data": {
      "text/plain": [
       "0.4758258774948383"
      ]
     },
     "execution_count": 59,
     "metadata": {},
     "output_type": "execute_result"
    }
   ],
   "source": [
    "classifier_rf.fit(Ftrain, Ltrain)\n",
    "classifier_rf.oob_score_"
   ]
  },
  {
   "cell_type": "code",
   "execution_count": 60,
   "id": "2c17baee",
   "metadata": {},
   "outputs": [
    {
     "name": "stdout",
     "output_type": "stream",
     "text": [
      "                               precision    recall  f1-score   support\n",
      "\n",
      "               bacterial_spot       0.66      0.47      0.55       349\n",
      "                 early_blight       0.00      0.00      0.00       182\n",
      "                      healthy       0.64      0.36      0.46       258\n",
      "                  late_blight       0.65      0.19      0.29       316\n",
      "                    leaf_mold       0.81      0.09      0.16       145\n",
      "           septoria_leaf_spot       0.54      0.48      0.51       262\n",
      "                  target_spot       0.80      0.18      0.29       229\n",
      "          tomato_mosaic_virus       0.00      0.00      0.00        58\n",
      "tomato_yellow_leaf_curl_virus       0.41      0.90      0.56       857\n",
      "      two-spotted_spider_mite       0.55      0.51      0.53       251\n",
      "\n",
      "                     accuracy                           0.48      2907\n",
      "                    macro avg       0.51      0.32      0.34      2907\n",
      "                 weighted avg       0.53      0.48      0.43      2907\n",
      "\n",
      "[[165   0  13   5   0   1   0   0 162   3]\n",
      " [ 22   0   0   4   0  18   3   0 122  13]\n",
      " [  2   0  93   1   0   0   0   0 161   1]\n",
      " [  5   0  13  60   2  48   3   0 180   5]\n",
      " [  4   0   2  12  13   8   0   0 102   4]\n",
      " [  3   0   7   2   1 126   2   0 108  13]\n",
      " [  3   0   0   0   0  12  41   0 111  62]\n",
      " [  0   0   0   0   0   1   0   0  55   2]\n",
      " [ 41   0  17   8   0  14   0   0 774   3]\n",
      " [  6   0   0   0   0   4   2   0 110 129]]\n"
     ]
    },
    {
     "name": "stderr",
     "output_type": "stream",
     "text": [
      "C:\\Users\\ravic\\anaconda3\\lib\\site-packages\\sklearn\\metrics\\_classification.py:1248: UndefinedMetricWarning: Precision and F-score are ill-defined and being set to 0.0 in labels with no predicted samples. Use `zero_division` parameter to control this behavior.\n",
      "  _warn_prf(average, modifier, msg_start, len(result))\n",
      "C:\\Users\\ravic\\anaconda3\\lib\\site-packages\\sklearn\\metrics\\_classification.py:1248: UndefinedMetricWarning: Precision and F-score are ill-defined and being set to 0.0 in labels with no predicted samples. Use `zero_division` parameter to control this behavior.\n",
      "  _warn_prf(average, modifier, msg_start, len(result))\n",
      "C:\\Users\\ravic\\anaconda3\\lib\\site-packages\\sklearn\\metrics\\_classification.py:1248: UndefinedMetricWarning: Precision and F-score are ill-defined and being set to 0.0 in labels with no predicted samples. Use `zero_division` parameter to control this behavior.\n",
      "  _warn_prf(average, modifier, msg_start, len(result))\n"
     ]
    }
   ],
   "source": [
    "y_predict = classifier_rf.fit(Ftrain, Ltrain).predict(Ftest)\n",
    "class_names = target.unique()\n",
    "print(classification_report(Ltest, y_predict, target_names=class_names))\n",
    "print(confusion_matrix(Ltest, y_predict))"
   ]
  },
  {
   "cell_type": "markdown",
   "id": "e1c2d95a",
   "metadata": {},
   "source": [
    "# Naive Bayes on Red channel data"
   ]
  },
  {
   "cell_type": "code",
   "execution_count": 61,
   "id": "8ec0753c",
   "metadata": {},
   "outputs": [
    {
     "data": {
      "text/plain": [
       "GaussianNB()"
      ]
     },
     "execution_count": 61,
     "metadata": {},
     "output_type": "execute_result"
    }
   ],
   "source": [
    "gnb.fit(Ftrain, Ltrain)"
   ]
  },
  {
   "cell_type": "code",
   "execution_count": 62,
   "id": "9bd3c55d",
   "metadata": {},
   "outputs": [
    {
     "data": {
      "text/plain": [
       "0.38390092879256965"
      ]
     },
     "execution_count": 62,
     "metadata": {},
     "output_type": "execute_result"
    }
   ],
   "source": [
    "y_pred = gnb.predict(Ftest)\n",
    "metrics.accuracy_score(Ltest, y_pred)"
   ]
  },
  {
   "cell_type": "code",
   "execution_count": 63,
   "id": "9ac4f5ac",
   "metadata": {},
   "outputs": [
    {
     "name": "stdout",
     "output_type": "stream",
     "text": [
      "                               precision    recall  f1-score   support\n",
      "\n",
      "               bacterial_spot       0.46      0.73      0.56       349\n",
      "                 early_blight       0.22      0.24      0.23       182\n",
      "                      healthy       0.35      0.72      0.47       258\n",
      "                  late_blight       0.45      0.24      0.32       316\n",
      "                    leaf_mold       0.38      0.31      0.34       145\n",
      "           septoria_leaf_spot       0.35      0.46      0.40       262\n",
      "                  target_spot       0.50      0.40      0.45       229\n",
      "          tomato_mosaic_virus       0.14      0.64      0.24        58\n",
      "tomato_yellow_leaf_curl_virus       0.64      0.15      0.24       857\n",
      "      two-spotted_spider_mite       0.39      0.54      0.46       251\n",
      "\n",
      "                     accuracy                           0.38      2907\n",
      "                    macro avg       0.39      0.44      0.37      2907\n",
      "                 weighted avg       0.46      0.38      0.36      2907\n",
      "\n",
      "[[254   8  53   6   2   7   3   9   6   1]\n",
      " [ 56  44   3  22   9  10  15   3   9  11]\n",
      " [  9   2 186   6   8   5  13   1  23   5]\n",
      " [  4  44  90  77  16  43   8  15  11   8]\n",
      " [ 16   3   6  12  45  33   4  12   7   7]\n",
      " [  4   9  39  12   6 120  15  19   5  33]\n",
      " [ 17  19   2   7   3  17  92   9   2  61]\n",
      " [ 10   0   1   0   2   1   0  37   5   2]\n",
      " [173  57 158  26  27  74  10 126 125  81]\n",
      " [ 13  17   0   3   0  31  23  25   3 136]]\n"
     ]
    }
   ],
   "source": [
    "class_names = target.unique()\n",
    "print(classification_report(Ltest, y_pred, target_names=class_names))\n",
    "print(confusion_matrix(Ltest, y_pred))"
   ]
  },
  {
   "cell_type": "markdown",
   "id": "0a606422",
   "metadata": {},
   "source": [
    "# Decision Tree on Red channel"
   ]
  },
  {
   "cell_type": "code",
   "execution_count": 64,
   "id": "2b6fe1e7",
   "metadata": {},
   "outputs": [
    {
     "data": {
      "text/plain": [
       "0.434468524251806"
      ]
     },
     "execution_count": 64,
     "metadata": {},
     "output_type": "execute_result"
    }
   ],
   "source": [
    "classifier_tree.fit(Ftrain, Ltrain)\n",
    "classifier_tree.score(Ftest,Ltest)"
   ]
  },
  {
   "cell_type": "code",
   "execution_count": 65,
   "id": "7c5134cd",
   "metadata": {},
   "outputs": [
    {
     "name": "stdout",
     "output_type": "stream",
     "text": [
      "                               precision    recall  f1-score   support\n",
      "\n",
      "               bacterial_spot       0.49      0.51      0.50       349\n",
      "                 early_blight       0.17      0.15      0.16       182\n",
      "                      healthy       0.56      0.56      0.56       258\n",
      "                  late_blight       0.41      0.36      0.38       316\n",
      "                    leaf_mold       0.26      0.30      0.28       145\n",
      "           septoria_leaf_spot       0.37      0.42      0.39       262\n",
      "                  target_spot       0.31      0.29      0.30       229\n",
      "          tomato_mosaic_virus       0.10      0.12      0.11        58\n",
      "tomato_yellow_leaf_curl_virus       0.57      0.57      0.57       857\n",
      "      two-spotted_spider_mite       0.40      0.38      0.39       251\n",
      "\n",
      "                     accuracy                           0.44      2907\n",
      "                    macro avg       0.36      0.37      0.36      2907\n",
      "                 weighted avg       0.44      0.44      0.44      2907\n",
      "\n",
      "[[178  23  11  16  10  13  17   2  71   8]\n",
      " [ 19  28   9   9  19  14  26   4  44  10]\n",
      " [ 14   4 145  16  14   8  10   6  35   6]\n",
      " [ 23  17  16 114  18  40  21   5  54   8]\n",
      " [  5   8   4  22  43  15   4   8  28   8]\n",
      " [ 20  15  13  22   4 111  19   5  32  21]\n",
      " [ 14  14  10  12   8  20  66   7  38  40]\n",
      " [  2   1   4   0   3   9   1   7  24   7]\n",
      " [ 80  36  38  60  37  50  17  14 488  37]\n",
      " [ 11  15   7   8   9  21  33  11  41  95]]\n"
     ]
    }
   ],
   "source": [
    "y_predict = classifier_tree.fit(Ftrain, Ltrain).predict(Ftest)\n",
    "class_names = target.unique()\n",
    "print(classification_report(Ltest, y_predict, target_names=class_names))\n",
    "print(confusion_matrix(Ltest, y_predict))"
   ]
  },
  {
   "cell_type": "markdown",
   "id": "21af7568",
   "metadata": {},
   "source": [
    "# KNN on green channel data"
   ]
  },
  {
   "cell_type": "code",
   "execution_count": 66,
   "id": "461b784b",
   "metadata": {},
   "outputs": [
    {
     "data": {
      "text/plain": [
       "0.48297213622291024"
      ]
     },
     "execution_count": 66,
     "metadata": {},
     "output_type": "execute_result"
    }
   ],
   "source": [
    "#reading numpy array data\n",
    "green_test = np.load('green_data.npy')\n",
    "#reading csv file\n",
    "green_df = pd.read_csv('green_data.csv')\n",
    "loaded = []\n",
    "for i in green_test:\n",
    "    k = []\n",
    "    k = np.asarray(i,dtype='uint8')\n",
    "    loaded.append(k)\n",
    "features = loaded\n",
    "target = green_df['disease']\n",
    "Ftrain,Ftest,Ltrain,Ltest=train_test_split(features,target, test_size=0.20, random_state=20)\n",
    "scaler = StandardScaler()\n",
    "Ftrain = scaler.fit_transform(Ftrain)\n",
    "Ftest = scaler.fit_transform(Ftest)\n",
    "kmodel.fit(Ftrain,Ltrain)\n",
    "kmodel.score(Ftest,Ltest)"
   ]
  },
  {
   "cell_type": "code",
   "execution_count": 67,
   "id": "5a26601b",
   "metadata": {},
   "outputs": [
    {
     "name": "stdout",
     "output_type": "stream",
     "text": [
      "                               precision    recall  f1-score   support\n",
      "\n",
      "               bacterial_spot       0.35      0.76      0.48       349\n",
      "                 early_blight       0.00      0.00      0.00       182\n",
      "                      healthy       0.38      0.57      0.46       258\n",
      "                  late_blight       0.35      0.30      0.32       316\n",
      "                    leaf_mold       0.62      0.44      0.52       145\n",
      "           septoria_leaf_spot       0.58      0.41      0.48       262\n",
      "                  target_spot       0.71      0.13      0.22       229\n",
      "          tomato_mosaic_virus       1.00      0.02      0.03        58\n",
      "tomato_yellow_leaf_curl_virus       0.61      0.68      0.64       857\n",
      "      two-spotted_spider_mite       0.56      0.43      0.49       251\n",
      "\n",
      "                     accuracy                           0.48      2907\n",
      "                    macro avg       0.52      0.37      0.36      2907\n",
      "                 weighted avg       0.50      0.48      0.45      2907\n",
      "\n",
      "[[266   0  26  22   5   1   0   0  29   0]\n",
      " [ 99   0   6   4   7   8   5   0  44   9]\n",
      " [ 52   0 146  34   1   5   0   0  19   1]\n",
      " [ 53   0  43  96   4  32   0   0  75  13]\n",
      " [ 13   0  13  19  64   3   1   0  28   4]\n",
      " [ 19   0  39  29   6 107   2   0  52   8]\n",
      " [101   0   7   8   2   9  30   0  40  32]\n",
      " [  8   0   7   3   5   3   0   1  25   6]\n",
      " [ 99   0  92  46   8  13   1   0 585  13]\n",
      " [ 55   0   4  14   1   4   3   0  61 109]]\n"
     ]
    },
    {
     "name": "stderr",
     "output_type": "stream",
     "text": [
      "C:\\Users\\ravic\\anaconda3\\lib\\site-packages\\sklearn\\metrics\\_classification.py:1248: UndefinedMetricWarning: Precision and F-score are ill-defined and being set to 0.0 in labels with no predicted samples. Use `zero_division` parameter to control this behavior.\n",
      "  _warn_prf(average, modifier, msg_start, len(result))\n",
      "C:\\Users\\ravic\\anaconda3\\lib\\site-packages\\sklearn\\metrics\\_classification.py:1248: UndefinedMetricWarning: Precision and F-score are ill-defined and being set to 0.0 in labels with no predicted samples. Use `zero_division` parameter to control this behavior.\n",
      "  _warn_prf(average, modifier, msg_start, len(result))\n",
      "C:\\Users\\ravic\\anaconda3\\lib\\site-packages\\sklearn\\metrics\\_classification.py:1248: UndefinedMetricWarning: Precision and F-score are ill-defined and being set to 0.0 in labels with no predicted samples. Use `zero_division` parameter to control this behavior.\n",
      "  _warn_prf(average, modifier, msg_start, len(result))\n"
     ]
    }
   ],
   "source": [
    "y_predict = kmodel.fit(Ftrain, Ltrain).predict(Ftest)\n",
    "class_names = target.unique()\n",
    "print(classification_report(Ltest, y_predict, target_names=class_names))\n",
    "print(confusion_matrix(Ltest, y_predict))"
   ]
  },
  {
   "cell_type": "markdown",
   "id": "71f3ea86",
   "metadata": {},
   "source": [
    "# Logistic on Green channel data"
   ]
  },
  {
   "cell_type": "code",
   "execution_count": 68,
   "id": "28dad6b2",
   "metadata": {},
   "outputs": [
    {
     "data": {
      "text/plain": [
       "0.4451324389404885"
      ]
     },
     "execution_count": 68,
     "metadata": {},
     "output_type": "execute_result"
    }
   ],
   "source": [
    "model.fit(Ftrain,Ltrain)\n",
    "model.score(Ftest,Ltest)"
   ]
  },
  {
   "cell_type": "code",
   "execution_count": 69,
   "id": "fb6982d8",
   "metadata": {},
   "outputs": [
    {
     "name": "stdout",
     "output_type": "stream",
     "text": [
      "                               precision    recall  f1-score   support\n",
      "\n",
      "               bacterial_spot       0.53      0.50      0.51       349\n",
      "                 early_blight       0.21      0.17      0.19       182\n",
      "                      healthy       0.39      0.36      0.37       258\n",
      "                  late_blight       0.34      0.31      0.33       316\n",
      "                    leaf_mold       0.36      0.32      0.34       145\n",
      "           septoria_leaf_spot       0.31      0.31      0.31       262\n",
      "                  target_spot       0.26      0.22      0.24       229\n",
      "          tomato_mosaic_virus       0.18      0.21      0.19        58\n",
      "tomato_yellow_leaf_curl_virus       0.61      0.69      0.65       857\n",
      "      two-spotted_spider_mite       0.40      0.45      0.43       251\n",
      "\n",
      "                     accuracy                           0.45      2907\n",
      "                    macro avg       0.36      0.35      0.36      2907\n",
      "                 weighted avg       0.43      0.45      0.44      2907\n",
      "\n",
      "[[173  19  12  25   4  19  14   0  66  17]\n",
      " [ 31  31   6  18   9  12  21   2  37  15]\n",
      " [ 15   6  94  32   8  16  22   1  48  16]\n",
      " [ 13  24  27  99  22  45  16  10  46  14]\n",
      " [  7   4   3  22  47  16   7   6  24   9]\n",
      " [  8  11  26  33  13  81  21   9  44  16]\n",
      " [ 27  19  26  12   6  14  51   4  36  34]\n",
      " [  2   1   3   6   1   3   1  12  25   4]\n",
      " [ 35  17  40  39  16  39  17  19 593  42]\n",
      " [ 14  13   7   6   5  16  24   5  48 113]]\n"
     ]
    }
   ],
   "source": [
    "y_predict = model.fit(Ftrain, Ltrain).predict(Ftest)\n",
    "class_names = target.unique()\n",
    "print(classification_report(Ltest, y_predict, target_names=class_names))\n",
    "print(confusion_matrix(Ltest, y_predict))"
   ]
  },
  {
   "cell_type": "markdown",
   "id": "f62f0223",
   "metadata": {},
   "source": [
    "# SVM on green channel data"
   ]
  },
  {
   "cell_type": "code",
   "execution_count": 70,
   "id": "e89e7297",
   "metadata": {},
   "outputs": [
    {
     "name": "stdout",
     "output_type": "stream",
     "text": [
      "0.4299965600275198\n"
     ]
    }
   ],
   "source": [
    "clf.fit(Ftrain,Ltrain)\n",
    "y_pred = clf.predict(Ftest)\n",
    "print(accuracy_score(Ltest,y_pred))"
   ]
  },
  {
   "cell_type": "code",
   "execution_count": 71,
   "id": "356165a0",
   "metadata": {},
   "outputs": [
    {
     "name": "stdout",
     "output_type": "stream",
     "text": [
      "                               precision    recall  f1-score   support\n",
      "\n",
      "               bacterial_spot       0.39      0.49      0.43       349\n",
      "                 early_blight       0.16      0.16      0.16       182\n",
      "                      healthy       0.46      0.46      0.46       258\n",
      "                  late_blight       0.33      0.32      0.32       316\n",
      "                    leaf_mold       0.31      0.33      0.32       145\n",
      "           septoria_leaf_spot       0.32      0.27      0.29       262\n",
      "                  target_spot       0.33      0.30      0.31       229\n",
      "          tomato_mosaic_virus       0.20      0.22      0.21        58\n",
      "tomato_yellow_leaf_curl_virus       0.63      0.61      0.62       857\n",
      "      two-spotted_spider_mite       0.46      0.42      0.44       251\n",
      "\n",
      "                     accuracy                           0.43      2907\n",
      "                    macro avg       0.36      0.36      0.36      2907\n",
      "                 weighted avg       0.43      0.43      0.43      2907\n",
      "\n",
      "[[170  34  12  24   6   9  14   1  63  16]\n",
      " [ 42  30   4  11  13   4  25   1  34  18]\n",
      " [ 28   9 118  31   7  18  13   1  25   8]\n",
      " [ 21  27  35 101  22  38  18  11  32  11]\n",
      " [  8  13   4  29  48  10   5   7  17   4]\n",
      " [ 30  15  19  33  13  71  20   6  43  12]\n",
      " [ 41  18  15   9   9  11  68   3  35  20]\n",
      " [  6   1   2   8   1   5   2  13  19   1]\n",
      " [ 68  31  42  50  26  43  18  21 525  33]\n",
      " [ 21  15   5  11  11  13  23   2  44 106]]\n"
     ]
    }
   ],
   "source": [
    "y_predict = clf.fit(Ftrain, Ltrain).predict(Ftest)\n",
    "class_names = target.unique()\n",
    "print(classification_report(Ltest, y_predict, target_names=class_names))\n",
    "print(confusion_matrix(Ltest, y_predict))"
   ]
  },
  {
   "cell_type": "markdown",
   "id": "4f8e565e",
   "metadata": {},
   "source": [
    "# Random Forest on green channel data"
   ]
  },
  {
   "cell_type": "code",
   "execution_count": 72,
   "id": "96c92f8f",
   "metadata": {},
   "outputs": [
    {
     "data": {
      "text/plain": [
       "0.42549896765313144"
      ]
     },
     "execution_count": 72,
     "metadata": {},
     "output_type": "execute_result"
    }
   ],
   "source": [
    "classifier_rf.fit(Ftrain, Ltrain)\n",
    "classifier_rf.oob_score_"
   ]
  },
  {
   "cell_type": "code",
   "execution_count": 73,
   "id": "b158d3b7",
   "metadata": {},
   "outputs": [
    {
     "name": "stdout",
     "output_type": "stream",
     "text": [
      "                               precision    recall  f1-score   support\n",
      "\n",
      "               bacterial_spot       0.56      0.46      0.51       349\n",
      "                 early_blight       0.00      0.00      0.00       182\n",
      "                      healthy       0.61      0.42      0.50       258\n",
      "                  late_blight       0.69      0.23      0.35       316\n",
      "                    leaf_mold       0.00      0.00      0.00       145\n",
      "           septoria_leaf_spot       0.60      0.43      0.50       262\n",
      "                  target_spot       0.00      0.00      0.00       229\n",
      "          tomato_mosaic_virus       0.00      0.00      0.00        58\n",
      "tomato_yellow_leaf_curl_virus       0.37      0.91      0.53       857\n",
      "      two-spotted_spider_mite       0.72      0.07      0.13       251\n",
      "\n",
      "                     accuracy                           0.43      2907\n",
      "                    macro avg       0.35      0.25      0.25      2907\n",
      "                 weighted avg       0.42      0.43      0.35      2907\n",
      "\n",
      "[[161   0   8   5   0   2   0   0 173   0]\n",
      " [ 31   0   2   1   0  18   0   0 129   1]\n",
      " [  1   0 109  10   0   0   0   0 138   0]\n",
      " [ 13   0  20  74   0  31   0   0 178   0]\n",
      " [ 12   0   1   3   0   5   0   0 124   0]\n",
      " [  0   0  17   8   0 113   0   0 124   0]\n",
      " [  5   0   4   1   0   8   0   0 206   5]\n",
      " [  2   0   3   1   0   0   0   0  52   0]\n",
      " [ 43   0  15   5   0   9   0   0 784   1]\n",
      " [ 18   0   0   0   0   2   0   0 213  18]]\n"
     ]
    },
    {
     "name": "stderr",
     "output_type": "stream",
     "text": [
      "C:\\Users\\ravic\\anaconda3\\lib\\site-packages\\sklearn\\metrics\\_classification.py:1248: UndefinedMetricWarning: Precision and F-score are ill-defined and being set to 0.0 in labels with no predicted samples. Use `zero_division` parameter to control this behavior.\n",
      "  _warn_prf(average, modifier, msg_start, len(result))\n",
      "C:\\Users\\ravic\\anaconda3\\lib\\site-packages\\sklearn\\metrics\\_classification.py:1248: UndefinedMetricWarning: Precision and F-score are ill-defined and being set to 0.0 in labels with no predicted samples. Use `zero_division` parameter to control this behavior.\n",
      "  _warn_prf(average, modifier, msg_start, len(result))\n",
      "C:\\Users\\ravic\\anaconda3\\lib\\site-packages\\sklearn\\metrics\\_classification.py:1248: UndefinedMetricWarning: Precision and F-score are ill-defined and being set to 0.0 in labels with no predicted samples. Use `zero_division` parameter to control this behavior.\n",
      "  _warn_prf(average, modifier, msg_start, len(result))\n"
     ]
    }
   ],
   "source": [
    "y_predict = classifier_rf.fit(Ftrain, Ltrain).predict(Ftest)\n",
    "class_names = target.unique()\n",
    "print(classification_report(Ltest, y_predict, target_names=class_names))\n",
    "print(confusion_matrix(Ltest, y_predict))"
   ]
  },
  {
   "cell_type": "markdown",
   "id": "e9b1cca9",
   "metadata": {},
   "source": [
    "# Naive bayes on Green channel data"
   ]
  },
  {
   "cell_type": "code",
   "execution_count": 74,
   "id": "1136802c",
   "metadata": {},
   "outputs": [
    {
     "data": {
      "text/plain": [
       "0.3501891984864121"
      ]
     },
     "execution_count": 74,
     "metadata": {},
     "output_type": "execute_result"
    }
   ],
   "source": [
    "gnb.fit(Ftrain, Ltrain)\n",
    "y_pred = gnb.predict(Ftest)\n",
    "metrics.accuracy_score(Ltest, y_pred)"
   ]
  },
  {
   "cell_type": "code",
   "execution_count": 75,
   "id": "cb4c448e",
   "metadata": {},
   "outputs": [
    {
     "name": "stdout",
     "output_type": "stream",
     "text": [
      "                               precision    recall  f1-score   support\n",
      "\n",
      "               bacterial_spot       0.40      0.72      0.51       349\n",
      "                 early_blight       0.26      0.35      0.29       182\n",
      "                      healthy       0.35      0.63      0.45       258\n",
      "                  late_blight       0.40      0.22      0.29       316\n",
      "                    leaf_mold       0.41      0.29      0.34       145\n",
      "           septoria_leaf_spot       0.30      0.49      0.37       262\n",
      "                  target_spot       0.49      0.33      0.40       229\n",
      "          tomato_mosaic_virus       0.12      0.52      0.19        58\n",
      "tomato_yellow_leaf_curl_virus       0.56      0.11      0.19       857\n",
      "      two-spotted_spider_mite       0.35      0.38      0.37       251\n",
      "\n",
      "                     accuracy                           0.35      2907\n",
      "                    macro avg       0.36      0.40      0.34      2907\n",
      "                 weighted avg       0.42      0.35      0.32      2907\n",
      "\n",
      "[[251   8  38   1   6  11   2  21   7   4]\n",
      " [ 55  63   3  21   9   7  10   2   2  10]\n",
      " [ 10   2 163   6   7   6  17   9  29   9]\n",
      " [ 13  57  85  70   4  37  10  19   7  14]\n",
      " [ 20   3   6  13  42  29   2  21   5   4]\n",
      " [  3   7  48   8   7 129  12  18   8  22]\n",
      " [ 29  17   3  12  10  24  76  12   5  41]\n",
      " [ 11   1   5   1   1   2   0  30   3   4]\n",
      " [218  62 109  36  11 155   9  91  98  68]\n",
      " [ 21  27   4   6   6  32  17  31  11  96]]\n"
     ]
    }
   ],
   "source": [
    "class_names = target.unique()\n",
    "print(classification_report(Ltest, y_pred, target_names=class_names))\n",
    "print(confusion_matrix(Ltest, y_pred))"
   ]
  },
  {
   "cell_type": "markdown",
   "id": "5e2c336a",
   "metadata": {},
   "source": [
    "# Decision Tree on Green channel"
   ]
  },
  {
   "cell_type": "code",
   "execution_count": 76,
   "id": "11e8600c",
   "metadata": {},
   "outputs": [
    {
     "data": {
      "text/plain": [
       "0.4107327141382869"
      ]
     },
     "execution_count": 76,
     "metadata": {},
     "output_type": "execute_result"
    }
   ],
   "source": [
    "classifier_tree.fit(Ftrain, Ltrain)\n",
    "classifier_tree.score(Ftest,Ltest)"
   ]
  },
  {
   "cell_type": "code",
   "execution_count": 77,
   "id": "ef10f4f8",
   "metadata": {},
   "outputs": [
    {
     "name": "stdout",
     "output_type": "stream",
     "text": [
      "                               precision    recall  f1-score   support\n",
      "\n",
      "               bacterial_spot       0.40      0.46      0.43       349\n",
      "                 early_blight       0.12      0.10      0.11       182\n",
      "                      healthy       0.54      0.54      0.54       258\n",
      "                  late_blight       0.37      0.31      0.34       316\n",
      "                    leaf_mold       0.25      0.29      0.27       145\n",
      "           septoria_leaf_spot       0.38      0.43      0.40       262\n",
      "                  target_spot       0.26      0.24      0.25       229\n",
      "          tomato_mosaic_virus       0.14      0.16      0.15        58\n",
      "tomato_yellow_leaf_curl_virus       0.59      0.55      0.57       857\n",
      "      two-spotted_spider_mite       0.35      0.40      0.38       251\n",
      "\n",
      "                     accuracy                           0.42      2907\n",
      "                    macro avg       0.34      0.35      0.34      2907\n",
      "                 weighted avg       0.42      0.42      0.42      2907\n",
      "\n",
      "[[160  24  15  19  19  10  17   4  69  12]\n",
      " [ 29  19   7  19   9  13  20   3  44  19]\n",
      " [ 17   6 140  12   6  19  11   2  29  16]\n",
      " [ 31  20  16  97  13  43  21  11  44  20]\n",
      " [ 15   4   5  10  42  18   5   5  27  14]\n",
      " [ 16  15  17  25   6 113  14   4  41  11]\n",
      " [ 22  14  12  17  15  13  56   4  28  48]\n",
      " [  9   1   2   4   9   5   2   9  12   5]\n",
      " [ 83  38  33  55  36  51  33  18 470  40]\n",
      " [ 16  14  11   5  11  13  38   6  36 101]]\n"
     ]
    }
   ],
   "source": [
    "y_predict = classifier_tree.fit(Ftrain, Ltrain).predict(Ftest)\n",
    "class_names = target.unique()\n",
    "print(classification_report(Ltest, y_predict, target_names=class_names))\n",
    "print(confusion_matrix(Ltest, y_predict))"
   ]
  },
  {
   "cell_type": "markdown",
   "id": "75817642",
   "metadata": {},
   "source": [
    "# KNN on blue channel data"
   ]
  },
  {
   "cell_type": "code",
   "execution_count": 78,
   "id": "531e3624",
   "metadata": {},
   "outputs": [
    {
     "data": {
      "text/plain": [
       "0.48606811145510836"
      ]
     },
     "execution_count": 78,
     "metadata": {},
     "output_type": "execute_result"
    }
   ],
   "source": [
    "#reading numpy array data\n",
    "blue_test = np.load('blue_data.npy')\n",
    "#reading csv file\n",
    "blue_df = pd.read_csv('blue_data.csv')\n",
    "loaded = []\n",
    "for i in gray_test:\n",
    "    k = []\n",
    "    k = np.asarray(i,dtype='uint8')\n",
    "    loaded.append(k)\n",
    "features = loaded\n",
    "target = blue_df['disease']\n",
    "Ftrain,Ftest,Ltrain,Ltest=train_test_split(features,target, test_size=0.20, random_state=20)\n",
    "Ftrain = scaler.fit_transform(Ftrain)\n",
    "Ftest = scaler.fit_transform(Ftest)\n",
    "kmodel.fit(Ftrain,Ltrain)\n",
    "kmodel.score(Ftest,Ltest)"
   ]
  },
  {
   "cell_type": "code",
   "execution_count": 79,
   "id": "db90e093",
   "metadata": {},
   "outputs": [
    {
     "name": "stdout",
     "output_type": "stream",
     "text": [
      "                               precision    recall  f1-score   support\n",
      "\n",
      "               bacterial_spot       0.38      0.77      0.50       349\n",
      "                 early_blight       0.00      0.00      0.00       182\n",
      "                      healthy       0.38      0.60      0.46       258\n",
      "                  late_blight       0.37      0.29      0.32       316\n",
      "                    leaf_mold       0.74      0.46      0.56       145\n",
      "           septoria_leaf_spot       0.56      0.39      0.46       262\n",
      "                  target_spot       0.70      0.16      0.26       229\n",
      "          tomato_mosaic_virus       1.00      0.03      0.07        58\n",
      "tomato_yellow_leaf_curl_virus       0.57      0.66      0.61       857\n",
      "      two-spotted_spider_mite       0.58      0.49      0.53       251\n",
      "\n",
      "                     accuracy                           0.49      2907\n",
      "                    macro avg       0.53      0.39      0.38      2907\n",
      "                 weighted avg       0.50      0.49      0.46      2907\n",
      "\n",
      "[[269   0  29  18   1   1   0   0  31   0]\n",
      " [ 94   0   6   2   5  12   9   0  49   5]\n",
      " [ 25   0 156  28   0   9   0   0  39   1]\n",
      " [ 47   0  53  91   5  36   1   0  74   9]\n",
      " [ 13   0  12  19  66   2   1   0  29   3]\n",
      " [ 19   0  38  20   3 101   0   0  67  14]\n",
      " [ 87   0  10   5   0  10  37   0  48  32]\n",
      " [  2   0   6   3   3   0   0   2  36   6]\n",
      " [110   0 101  50   5   5   0   0 569  17]\n",
      " [ 51   0   4   8   1   4   5   0  56 122]]\n"
     ]
    },
    {
     "name": "stderr",
     "output_type": "stream",
     "text": [
      "C:\\Users\\ravic\\anaconda3\\lib\\site-packages\\sklearn\\metrics\\_classification.py:1248: UndefinedMetricWarning: Precision and F-score are ill-defined and being set to 0.0 in labels with no predicted samples. Use `zero_division` parameter to control this behavior.\n",
      "  _warn_prf(average, modifier, msg_start, len(result))\n",
      "C:\\Users\\ravic\\anaconda3\\lib\\site-packages\\sklearn\\metrics\\_classification.py:1248: UndefinedMetricWarning: Precision and F-score are ill-defined and being set to 0.0 in labels with no predicted samples. Use `zero_division` parameter to control this behavior.\n",
      "  _warn_prf(average, modifier, msg_start, len(result))\n",
      "C:\\Users\\ravic\\anaconda3\\lib\\site-packages\\sklearn\\metrics\\_classification.py:1248: UndefinedMetricWarning: Precision and F-score are ill-defined and being set to 0.0 in labels with no predicted samples. Use `zero_division` parameter to control this behavior.\n",
      "  _warn_prf(average, modifier, msg_start, len(result))\n"
     ]
    }
   ],
   "source": [
    "y_predict = kmodel.fit(Ftrain, Ltrain).predict(Ftest)\n",
    "class_names = target.unique()\n",
    "print(classification_report(Ltest, y_predict, target_names=class_names))\n",
    "print(confusion_matrix(Ltest, y_predict))"
   ]
  },
  {
   "cell_type": "markdown",
   "id": "f452a113",
   "metadata": {},
   "source": [
    "# logistic on blue channel data"
   ]
  },
  {
   "cell_type": "code",
   "execution_count": 80,
   "id": "de158586",
   "metadata": {},
   "outputs": [
    {
     "data": {
      "text/plain": [
       "0.4368765049879601"
      ]
     },
     "execution_count": 80,
     "metadata": {},
     "output_type": "execute_result"
    }
   ],
   "source": [
    "model.fit(Ftrain,Ltrain)\n",
    "model.score(Ftest,Ltest)"
   ]
  },
  {
   "cell_type": "code",
   "execution_count": 81,
   "id": "43a10821",
   "metadata": {},
   "outputs": [
    {
     "name": "stdout",
     "output_type": "stream",
     "text": [
      "                               precision    recall  f1-score   support\n",
      "\n",
      "               bacterial_spot       0.56      0.50      0.53       349\n",
      "                 early_blight       0.21      0.15      0.18       182\n",
      "                      healthy       0.35      0.30      0.32       258\n",
      "                  late_blight       0.31      0.31      0.31       316\n",
      "                    leaf_mold       0.41      0.39      0.40       145\n",
      "           septoria_leaf_spot       0.34      0.35      0.34       262\n",
      "                  target_spot       0.27      0.23      0.25       229\n",
      "          tomato_mosaic_virus       0.15      0.19      0.17        58\n",
      "tomato_yellow_leaf_curl_virus       0.58      0.66      0.62       857\n",
      "      two-spotted_spider_mite       0.42      0.45      0.43       251\n",
      "\n",
      "                     accuracy                           0.44      2907\n",
      "                    macro avg       0.36      0.35      0.36      2907\n",
      "                 weighted avg       0.43      0.44      0.43      2907\n",
      "\n",
      "[[175  18  14  25   3  15  12   0  76  11]\n",
      " [ 26  28  10  15  13  13  22   1  47   7]\n",
      " [ 13   5  78  52   6  22  22   0  44  16]\n",
      " [ 10  19  27  97  20  46  22  13  51  11]\n",
      " [  3   4   3  21  57  10   4   5  29   9]\n",
      " [  8  10  19  32  10  91  21   8  45  18]\n",
      " [ 26  14  25  10   6  19  53   5  33  38]\n",
      " [  1   1   0   4   0   3   1  11  34   3]\n",
      " [ 36  21  43  53  20  32  18  21 567  46]\n",
      " [ 13  12   6   5   3  18  22   8  51 113]]\n"
     ]
    }
   ],
   "source": [
    "y_predict = model.fit(Ftrain, Ltrain).predict(Ftest)\n",
    "class_names = target.unique()\n",
    "print(classification_report(Ltest, y_predict, target_names=class_names))\n",
    "print(confusion_matrix(Ltest, y_predict))"
   ]
  },
  {
   "cell_type": "markdown",
   "id": "c7585c1d",
   "metadata": {},
   "source": [
    "# SVM on blue channel data"
   ]
  },
  {
   "cell_type": "code",
   "execution_count": 82,
   "id": "06fb4a0f",
   "metadata": {},
   "outputs": [
    {
     "name": "stdout",
     "output_type": "stream",
     "text": [
      "0.4244926040591675\n"
     ]
    }
   ],
   "source": [
    "clf.fit(Ftrain,Ltrain)\n",
    "y_pred = clf.predict(Ftest)\n",
    "print(accuracy_score(Ltest,y_pred))"
   ]
  },
  {
   "cell_type": "code",
   "execution_count": 83,
   "id": "31601cac",
   "metadata": {},
   "outputs": [
    {
     "name": "stdout",
     "output_type": "stream",
     "text": [
      "                               precision    recall  f1-score   support\n",
      "\n",
      "               bacterial_spot       0.41      0.53      0.46       349\n",
      "                 early_blight       0.14      0.14      0.14       182\n",
      "                      healthy       0.43      0.43      0.43       258\n",
      "                  late_blight       0.29      0.29      0.29       316\n",
      "                    leaf_mold       0.34      0.35      0.35       145\n",
      "           septoria_leaf_spot       0.33      0.30      0.31       262\n",
      "                  target_spot       0.32      0.26      0.28       229\n",
      "          tomato_mosaic_virus       0.25      0.29      0.27        58\n",
      "tomato_yellow_leaf_curl_virus       0.61      0.59      0.60       857\n",
      "      two-spotted_spider_mite       0.50      0.43      0.46       251\n",
      "\n",
      "                     accuracy                           0.42      2907\n",
      "                    macro avg       0.36      0.36      0.36      2907\n",
      "                 weighted avg       0.43      0.42      0.42      2907\n",
      "\n",
      "[[185  30  11  27   3  13   5   0  68   7]\n",
      " [ 40  25   4  13  10   9  21   1  47  12]\n",
      " [ 39   8 111  38   4  16   9   0  29   4]\n",
      " [ 20  30  42  92  18  47  17   7  32  11]\n",
      " [  7   9   4  30  51  11   4   7  17   5]\n",
      " [ 24  13  21  32  15  79  28   5  36   9]\n",
      " [ 48  17  17  10  10   9  59   5  29  25]\n",
      " [  2   0   0   6   0   5   0  17  26   2]\n",
      " [ 66  36  45  61  28  37  19  23 508  34]\n",
      " [ 20  17   6   3  10  17  25   3  43 107]]\n"
     ]
    }
   ],
   "source": [
    "y_predict = clf.fit(Ftrain, Ltrain).predict(Ftest)\n",
    "class_names = target.unique()\n",
    "print(classification_report(Ltest, y_predict, target_names=class_names))\n",
    "print(confusion_matrix(Ltest, y_predict))"
   ]
  },
  {
   "cell_type": "markdown",
   "id": "f4eb8c6c",
   "metadata": {},
   "source": [
    "# Random Forest on blue channel data"
   ]
  },
  {
   "cell_type": "code",
   "execution_count": 84,
   "id": "b71407b2",
   "metadata": {},
   "outputs": [
    {
     "data": {
      "text/plain": [
       "0.4395216792842395"
      ]
     },
     "execution_count": 84,
     "metadata": {},
     "output_type": "execute_result"
    }
   ],
   "source": [
    "classifier_rf.fit(Ftrain, Ltrain)\n",
    "classifier_rf.oob_score_"
   ]
  },
  {
   "cell_type": "code",
   "execution_count": 85,
   "id": "f3cf2295",
   "metadata": {},
   "outputs": [
    {
     "name": "stdout",
     "output_type": "stream",
     "text": [
      "                               precision    recall  f1-score   support\n",
      "\n",
      "               bacterial_spot       0.63      0.46      0.53       349\n",
      "                 early_blight       0.00      0.00      0.00       182\n",
      "                      healthy       0.62      0.35      0.45       258\n",
      "                  late_blight       0.79      0.18      0.29       316\n",
      "                    leaf_mold       0.57      0.03      0.05       145\n",
      "           septoria_leaf_spot       0.58      0.47      0.52       262\n",
      "                  target_spot       0.84      0.07      0.13       229\n",
      "          tomato_mosaic_virus       0.00      0.00      0.00        58\n",
      "tomato_yellow_leaf_curl_virus       0.38      0.93      0.54       857\n",
      "      two-spotted_spider_mite       0.61      0.25      0.36       251\n",
      "\n",
      "                     accuracy                           0.45      2907\n",
      "                    macro avg       0.50      0.27      0.29      2907\n",
      "                 weighted avg       0.53      0.45      0.38      2907\n",
      "\n",
      "[[161   0   9   3   0   1   0   0 175   0]\n",
      " [ 29   0   1   1   0  18   1   0 130   2]\n",
      " [  2   0  90   4   0   0   0   0 161   1]\n",
      " [  7   0  17  56   2  35   1   0 195   3]\n",
      " [  3   0   0   3   4   7   1   0 124   3]\n",
      " [  2   0  17   3   1 123   0   0 113   3]\n",
      " [  2   0   0   0   0  13  16   0 170  28]\n",
      " [  1   0   0   0   0   1   0   0  56   0]\n",
      " [ 39   0  11   1   0  11   0   0 795   0]\n",
      " [ 10   0   0   0   0   2   0   0 176  63]]\n"
     ]
    },
    {
     "name": "stderr",
     "output_type": "stream",
     "text": [
      "C:\\Users\\ravic\\anaconda3\\lib\\site-packages\\sklearn\\metrics\\_classification.py:1248: UndefinedMetricWarning: Precision and F-score are ill-defined and being set to 0.0 in labels with no predicted samples. Use `zero_division` parameter to control this behavior.\n",
      "  _warn_prf(average, modifier, msg_start, len(result))\n",
      "C:\\Users\\ravic\\anaconda3\\lib\\site-packages\\sklearn\\metrics\\_classification.py:1248: UndefinedMetricWarning: Precision and F-score are ill-defined and being set to 0.0 in labels with no predicted samples. Use `zero_division` parameter to control this behavior.\n",
      "  _warn_prf(average, modifier, msg_start, len(result))\n",
      "C:\\Users\\ravic\\anaconda3\\lib\\site-packages\\sklearn\\metrics\\_classification.py:1248: UndefinedMetricWarning: Precision and F-score are ill-defined and being set to 0.0 in labels with no predicted samples. Use `zero_division` parameter to control this behavior.\n",
      "  _warn_prf(average, modifier, msg_start, len(result))\n"
     ]
    }
   ],
   "source": [
    "y_predict = classifier_rf.fit(Ftrain, Ltrain).predict(Ftest)\n",
    "class_names = target.unique()\n",
    "print(classification_report(Ltest, y_predict, target_names=class_names))\n",
    "print(confusion_matrix(Ltest, y_predict))"
   ]
  },
  {
   "cell_type": "markdown",
   "id": "fb1ca20e",
   "metadata": {},
   "source": [
    "# Naive bayes on blue channel data"
   ]
  },
  {
   "cell_type": "code",
   "execution_count": 86,
   "id": "11ea0b85",
   "metadata": {},
   "outputs": [
    {
     "data": {
      "text/plain": [
       "0.3667010663914689"
      ]
     },
     "execution_count": 86,
     "metadata": {},
     "output_type": "execute_result"
    }
   ],
   "source": [
    "gnb.fit(Ftrain, Ltrain)\n",
    "y_pred = gnb.predict(Ftest)\n",
    "metrics.accuracy_score(Ltest, y_pred)"
   ]
  },
  {
   "cell_type": "code",
   "execution_count": 87,
   "id": "0743881e",
   "metadata": {},
   "outputs": [
    {
     "name": "stdout",
     "output_type": "stream",
     "text": [
      "                               precision    recall  f1-score   support\n",
      "\n",
      "               bacterial_spot       0.42      0.73      0.53       349\n",
      "                 early_blight       0.25      0.31      0.28       182\n",
      "                      healthy       0.32      0.66      0.43       258\n",
      "                  late_blight       0.41      0.23      0.29       316\n",
      "                    leaf_mold       0.45      0.31      0.37       145\n",
      "           septoria_leaf_spot       0.36      0.50      0.42       262\n",
      "                  target_spot       0.51      0.34      0.41       229\n",
      "          tomato_mosaic_virus       0.13      0.60      0.22        58\n",
      "tomato_yellow_leaf_curl_virus       0.61      0.14      0.23       857\n",
      "      two-spotted_spider_mite       0.36      0.42      0.39       251\n",
      "\n",
      "                     accuracy                           0.37      2907\n",
      "                    macro avg       0.38      0.42      0.36      2907\n",
      "                 weighted avg       0.45      0.37      0.34      2907\n",
      "\n",
      "[[254   9  45   2   3   8   3  14   8   3]\n",
      " [ 54  57   3  23   7   8   9   4   6  11]\n",
      " [ 10   2 169   7   9   4  14   6  27  10]\n",
      " [  8  54  98  72   9  36   6  13   9  11]\n",
      " [ 21   3   6  11  45  27   4  16   8   4]\n",
      " [  3   7  50   9   6 131  12  16   4  24]\n",
      " [ 25  19   1  11   6  25  77  13   4  48]\n",
      " [ 12   0   3   0   1   2   0  35   3   2]\n",
      " [204  57 143  34  10  91   8 114 121  75]\n",
      " [ 18  23   3   5   3  35  18  32   9 105]]\n"
     ]
    }
   ],
   "source": [
    "class_names = target.unique()\n",
    "print(classification_report(Ltest, y_pred, target_names=class_names))\n",
    "print(confusion_matrix(Ltest, y_pred))"
   ]
  },
  {
   "cell_type": "markdown",
   "id": "a9f61b1f",
   "metadata": {},
   "source": [
    "# Decision Tree on Blue channel"
   ]
  },
  {
   "cell_type": "code",
   "execution_count": 88,
   "id": "abc489d3",
   "metadata": {},
   "outputs": [
    {
     "data": {
      "text/plain": [
       "0.42483660130718953"
      ]
     },
     "execution_count": 88,
     "metadata": {},
     "output_type": "execute_result"
    }
   ],
   "source": [
    "classifier_tree.fit(Ftrain, Ltrain)\n",
    "classifier_tree.score(Ftest,Ltest)"
   ]
  },
  {
   "cell_type": "code",
   "execution_count": 89,
   "id": "7047e0bb",
   "metadata": {},
   "outputs": [
    {
     "name": "stdout",
     "output_type": "stream",
     "text": [
      "                               precision    recall  f1-score   support\n",
      "\n",
      "               bacterial_spot       0.45      0.46      0.45       349\n",
      "                 early_blight       0.22      0.21      0.21       182\n",
      "                      healthy       0.57      0.57      0.57       258\n",
      "                  late_blight       0.40      0.35      0.37       316\n",
      "                    leaf_mold       0.28      0.30      0.29       145\n",
      "           septoria_leaf_spot       0.37      0.44      0.40       262\n",
      "                  target_spot       0.25      0.22      0.23       229\n",
      "          tomato_mosaic_virus       0.09      0.12      0.10        58\n",
      "tomato_yellow_leaf_curl_virus       0.54      0.52      0.53       857\n",
      "      two-spotted_spider_mite       0.40      0.42      0.41       251\n",
      "\n",
      "                     accuracy                           0.42      2907\n",
      "                    macro avg       0.36      0.36      0.36      2907\n",
      "                 weighted avg       0.42      0.42      0.42      2907\n",
      "\n",
      "[[160  20  11  14  16  21  12   2  85   8]\n",
      " [ 24  38   9  14   7  12  11   3  45  19]\n",
      " [  9  10 147  14   2  16  20   2  30   8]\n",
      " [ 20  19  16 111  13  34  15  10  59  19]\n",
      " [  6  11   4  17  44   9  14   3  34   3]\n",
      " [ 17  13   9  21  12 114  11   7  48  10]\n",
      " [ 13  11  19  18  10  33  51   8  34  32]\n",
      " [  5   3   3   4   5   6   2   7  17   6]\n",
      " [ 85  36  28  60  34  49  43  24 447  51]\n",
      " [ 17  14  10   8  12  11  27  10  36 106]]\n"
     ]
    }
   ],
   "source": [
    "y_predict = classifier_tree.fit(Ftrain, Ltrain).predict(Ftest)\n",
    "class_names = target.unique()\n",
    "print(classification_report(Ltest, y_predict, target_names=class_names))\n",
    "print(confusion_matrix(Ltest, y_predict))"
   ]
  }
 ],
 "metadata": {
  "kernelspec": {
   "display_name": "Python 3 (ipykernel)",
   "language": "python",
   "name": "python3"
  },
  "language_info": {
   "codemirror_mode": {
    "name": "ipython",
    "version": 3
   },
   "file_extension": ".py",
   "mimetype": "text/x-python",
   "name": "python",
   "nbconvert_exporter": "python",
   "pygments_lexer": "ipython3",
   "version": "3.9.7"
  }
 },
 "nbformat": 4,
 "nbformat_minor": 5
}
