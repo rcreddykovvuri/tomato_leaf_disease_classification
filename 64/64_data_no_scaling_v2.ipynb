{
 "cells": [
  {
   "cell_type": "code",
   "execution_count": 1,
   "id": "bcdb1517",
   "metadata": {},
   "outputs": [],
   "source": [
    "import numpy as np #importing numpy\n",
    "import pandas as pd #importing pandas\n",
    "import PIL #importing pillow for image processing\n",
    "from PIL import Image#importing image from pillow library\n",
    "import skimage#importing skimage library\n",
    "import os#importing os library\n",
    "import time#importing time library\n",
    "\n",
    "#Capture start time of the program\n",
    "start_time = time.time()"
   ]
  },
  {
   "cell_type": "code",
   "execution_count": 2,
   "id": "9ec45970",
   "metadata": {},
   "outputs": [],
   "source": [
    "#changing path\n",
    "os.chdir('D://DKIT//dissertation//Dataset_of_Tomato_Leaves//plantvillage//Preprocessed_data//64//vector//')"
   ]
  },
  {
   "cell_type": "markdown",
   "id": "e1e76605",
   "metadata": {},
   "source": [
    "# RGB Data"
   ]
  },
  {
   "cell_type": "code",
   "execution_count": 3,
   "id": "9386938c",
   "metadata": {},
   "outputs": [],
   "source": [
    "#reading numpy array data\n",
    "rgb_test = np.load('rgb_data.npy')\n",
    "#reading csv file\n",
    "rgb_df = pd.read_csv('rgb_data.csv')"
   ]
  },
  {
   "cell_type": "code",
   "execution_count": 4,
   "id": "40f528b5",
   "metadata": {},
   "outputs": [],
   "source": [
    "features = pd.DataFrame(rgb_test)"
   ]
  },
  {
   "cell_type": "code",
   "execution_count": 5,
   "id": "fdd9a1f6",
   "metadata": {},
   "outputs": [],
   "source": [
    "features = features.values"
   ]
  },
  {
   "cell_type": "code",
   "execution_count": 6,
   "id": "c6d5658c",
   "metadata": {},
   "outputs": [],
   "source": [
    "#assigning target\n",
    "target = rgb_df['disease']\n",
    "#splitting the data to 80 percent and 20 percent\n",
    "from sklearn.model_selection import train_test_split\n",
    "Ftrain,Ftest,Ltrain,Ltest=train_test_split(features,target, test_size=0.20, random_state=24)"
   ]
  },
  {
   "cell_type": "code",
   "execution_count": 7,
   "id": "1fa0433e",
   "metadata": {},
   "outputs": [],
   "source": [
    "#importing classification report and confusion matrix\n",
    "from sklearn.metrics import classification_report, confusion_matrix"
   ]
  },
  {
   "cell_type": "markdown",
   "id": "cc50248e",
   "metadata": {},
   "source": [
    "# KNN with 120 neighbours"
   ]
  },
  {
   "cell_type": "code",
   "execution_count": 8,
   "id": "353289af",
   "metadata": {},
   "outputs": [],
   "source": [
    "#K-Model on the data\n",
    "from sklearn.neighbors import KNeighborsClassifier\n",
    "kmodel = KNeighborsClassifier(n_neighbors=120)"
   ]
  },
  {
   "cell_type": "code",
   "execution_count": 9,
   "id": "c17d71bc",
   "metadata": {},
   "outputs": [
    {
     "name": "stdout",
     "output_type": "stream",
     "text": [
      "0.5373237014103888\n"
     ]
    }
   ],
   "source": [
    "#k-model fitting and accuracy\n",
    "kmodel.fit(Ftrain,Ltrain)\n",
    "print(kmodel.score(Ftest,Ltest))"
   ]
  },
  {
   "cell_type": "code",
   "execution_count": 10,
   "id": "83948727",
   "metadata": {},
   "outputs": [
    {
     "name": "stdout",
     "output_type": "stream",
     "text": [
      "                               precision    recall  f1-score   support\n",
      "\n",
      "               bacterial_spot       0.31      0.82      0.45       345\n",
      "                 early_blight       0.00      0.00      0.00       153\n",
      "                      healthy       0.42      0.81      0.56       234\n",
      "                  late_blight       0.50      0.41      0.45       309\n",
      "                    leaf_mold       0.70      0.51      0.59       145\n",
      "           septoria_leaf_spot       0.69      0.39      0.50       293\n",
      "                  target_spot       0.39      0.31      0.35       240\n",
      "          tomato_mosaic_virus       0.55      0.31      0.40        54\n",
      "tomato_yellow_leaf_curl_virus       0.86      0.70      0.77       854\n",
      "      two-spotted_spider_mite       0.71      0.30      0.43       280\n",
      "\n",
      "                     accuracy                           0.54      2907\n",
      "                    macro avg       0.51      0.46      0.45      2907\n",
      "                 weighted avg       0.59      0.54      0.53      2907\n",
      "\n",
      "[[282   0  33  13   0   0   1   0  15   1]\n",
      " [100   0   8   5   0   7  19   1  12   1]\n",
      " [ 27   0 189  12   0   0   2   1   1   2]\n",
      " [ 60   0  50 127  13  28  11   2  16   2]\n",
      " [ 25   0  17  19  74   2   2   2   3   1]\n",
      " [ 30   0  36  46  16 114  26   2  16   7]\n",
      " [108   0  38   1   0   6  75   4   3   5]\n",
      " [  7   0   9   9   3   0   2  17   5   2]\n",
      " [171   0  52   6   0   8   5   0 599  13]\n",
      " [ 86   0  15  14   0   1  51   2  26  85]]\n"
     ]
    },
    {
     "name": "stderr",
     "output_type": "stream",
     "text": [
      "C:\\Users\\ravic\\anaconda3\\lib\\site-packages\\sklearn\\metrics\\_classification.py:1318: UndefinedMetricWarning: Precision and F-score are ill-defined and being set to 0.0 in labels with no predicted samples. Use `zero_division` parameter to control this behavior.\n",
      "  _warn_prf(average, modifier, msg_start, len(result))\n",
      "C:\\Users\\ravic\\anaconda3\\lib\\site-packages\\sklearn\\metrics\\_classification.py:1318: UndefinedMetricWarning: Precision and F-score are ill-defined and being set to 0.0 in labels with no predicted samples. Use `zero_division` parameter to control this behavior.\n",
      "  _warn_prf(average, modifier, msg_start, len(result))\n",
      "C:\\Users\\ravic\\anaconda3\\lib\\site-packages\\sklearn\\metrics\\_classification.py:1318: UndefinedMetricWarning: Precision and F-score are ill-defined and being set to 0.0 in labels with no predicted samples. Use `zero_division` parameter to control this behavior.\n",
      "  _warn_prf(average, modifier, msg_start, len(result))\n"
     ]
    }
   ],
   "source": [
    "#printing results of the kmodel\n",
    "y_predict = kmodel.predict(Ftest)\n",
    "class_names = target.unique()\n",
    "print(classification_report(Ltest, y_predict, target_names=class_names))\n",
    "print(confusion_matrix(Ltest, y_predict))"
   ]
  },
  {
   "cell_type": "markdown",
   "id": "d466ef5f",
   "metadata": {},
   "source": [
    "# SVM(poly) on RGB data"
   ]
  },
  {
   "cell_type": "code",
   "execution_count": 11,
   "id": "2427ed51",
   "metadata": {},
   "outputs": [
    {
     "name": "stdout",
     "output_type": "stream",
     "text": [
      "0.8132094943240454\n"
     ]
    }
   ],
   "source": [
    "from sklearn.svm import SVC\n",
    "from sklearn.metrics import accuracy_score\n",
    "\n",
    "svm_poly = SVC(kernel='poly')\n",
    "svm_poly.fit(Ftrain,Ltrain)\n",
    "y_pred = svm_poly.predict(Ftest)\n",
    "print(accuracy_score(Ltest,y_pred))"
   ]
  },
  {
   "cell_type": "code",
   "execution_count": 12,
   "id": "bf286604",
   "metadata": {},
   "outputs": [
    {
     "name": "stdout",
     "output_type": "stream",
     "text": [
      "                               precision    recall  f1-score   support\n",
      "\n",
      "               bacterial_spot       0.74      0.90      0.81       345\n",
      "                 early_blight       0.50      0.44      0.47       153\n",
      "                      healthy       0.88      0.88      0.88       234\n",
      "                  late_blight       0.71      0.73      0.72       309\n",
      "                    leaf_mold       0.72      0.72      0.72       145\n",
      "           septoria_leaf_spot       0.75      0.72      0.73       293\n",
      "                  target_spot       0.77      0.75      0.76       240\n",
      "          tomato_mosaic_virus       0.78      0.91      0.84        54\n",
      "tomato_yellow_leaf_curl_virus       0.96      0.92      0.94       854\n",
      "      two-spotted_spider_mite       0.90      0.81      0.85       280\n",
      "\n",
      "                     accuracy                           0.81      2907\n",
      "                    macro avg       0.77      0.78      0.77      2907\n",
      "                 weighted avg       0.82      0.81      0.81      2907\n",
      "\n",
      "[[311  15   1  11   0   2   0   0   5   0]\n",
      " [ 30  67   3  26   1   4  14   0   7   1]\n",
      " [  3   3 207   3   4   4  10   0   0   0]\n",
      " [ 20  21   5 226  11  12   3   0   7   4]\n",
      " [  4   3   0   9 105  16   3   1   1   3]\n",
      " [  9   5   7  18  17 211  10   9   5   2]\n",
      " [ 10  13   9   3   1  18 180   2   0   4]\n",
      " [  0   0   0   1   1   3   0  49   0   0]\n",
      " [ 28   7   0  17   0   5   3   0 782  12]\n",
      " [  8   1   4   5   5   8  12   2   9 226]]\n"
     ]
    }
   ],
   "source": [
    "#classification report\n",
    "y_predict = svm_poly.predict(Ftest)\n",
    "class_names = target.unique()\n",
    "print(classification_report(Ltest, y_predict, target_names=class_names))\n",
    "print(confusion_matrix(Ltest, y_predict))"
   ]
  },
  {
   "cell_type": "markdown",
   "id": "4101cb88",
   "metadata": {},
   "source": [
    "# SVM(RBF) on RGB data"
   ]
  },
  {
   "cell_type": "code",
   "execution_count": 13,
   "id": "235aaf3a",
   "metadata": {},
   "outputs": [
    {
     "name": "stdout",
     "output_type": "stream",
     "text": [
      "0.8507051943584452\n"
     ]
    }
   ],
   "source": [
    "svm_rbf = SVC(kernel='rbf')\n",
    "svm_rbf.fit(Ftrain,Ltrain)\n",
    "y_pred = svm_rbf.predict(Ftest)\n",
    "print(accuracy_score(Ltest,y_pred))"
   ]
  },
  {
   "cell_type": "code",
   "execution_count": 14,
   "id": "1c7ce3a6",
   "metadata": {},
   "outputs": [
    {
     "name": "stdout",
     "output_type": "stream",
     "text": [
      "                               precision    recall  f1-score   support\n",
      "\n",
      "               bacterial_spot       0.87      0.92      0.89       345\n",
      "                 early_blight       0.57      0.41      0.48       153\n",
      "                      healthy       0.96      0.94      0.95       234\n",
      "                  late_blight       0.81      0.78      0.79       309\n",
      "                    leaf_mold       0.79      0.68      0.73       145\n",
      "           septoria_leaf_spot       0.78      0.78      0.78       293\n",
      "                  target_spot       0.78      0.81      0.79       240\n",
      "          tomato_mosaic_virus       0.75      0.80      0.77        54\n",
      "tomato_yellow_leaf_curl_virus       0.92      0.96      0.94       854\n",
      "      two-spotted_spider_mite       0.86      0.87      0.86       280\n",
      "\n",
      "                     accuracy                           0.85      2907\n",
      "                    macro avg       0.81      0.80      0.80      2907\n",
      "                 weighted avg       0.85      0.85      0.85      2907\n",
      "\n",
      "[[316   3   2   3   0   0   2   0  19   0]\n",
      " [ 26  62   1  22   1   6  15   1  11   8]\n",
      " [  0   2 220   5   1   2   3   0   0   1]\n",
      " [  5  16   2 242  12  10   7   3   7   5]\n",
      " [  1   4   0   7  99  23   2   2   5   2]\n",
      " [  2   6   1  10  10 230  10   3  16   5]\n",
      " [  6   9   3   2   1  12 194   2   2   9]\n",
      " [  0   1   0   0   1   7   2  43   0   0]\n",
      " [  9   2   0   4   0   4   1   0 823  11]\n",
      " [  0   3   0   5   0   2  14   3   9 244]]\n"
     ]
    }
   ],
   "source": [
    "#classification report\n",
    "y_predict = svm_rbf.predict(Ftest)\n",
    "class_names = target.unique()\n",
    "print(classification_report(Ltest, y_predict, target_names=class_names))\n",
    "print(confusion_matrix(Ltest, y_predict))"
   ]
  },
  {
   "cell_type": "markdown",
   "id": "670ea3cc",
   "metadata": {},
   "source": [
    "# SVM(sigmoid) on RGB data"
   ]
  },
  {
   "cell_type": "code",
   "execution_count": 15,
   "id": "8aaf1a20",
   "metadata": {},
   "outputs": [
    {
     "name": "stdout",
     "output_type": "stream",
     "text": [
      "0.29274165806673547\n"
     ]
    }
   ],
   "source": [
    "svm_si = SVC(kernel='sigmoid')\n",
    "svm_si.fit(Ftrain,Ltrain)\n",
    "y_pred = svm_si.predict(Ftest)\n",
    "print(accuracy_score(Ltest,y_pred))"
   ]
  },
  {
   "cell_type": "code",
   "execution_count": 16,
   "id": "9beeb8fa",
   "metadata": {},
   "outputs": [
    {
     "name": "stdout",
     "output_type": "stream",
     "text": [
      "                               precision    recall  f1-score   support\n",
      "\n",
      "               bacterial_spot       0.00      0.00      0.00       345\n",
      "                 early_blight       0.00      0.00      0.00       153\n",
      "                      healthy       0.00      0.00      0.00       234\n",
      "                  late_blight       0.00      0.00      0.00       309\n",
      "                    leaf_mold       0.00      0.00      0.00       145\n",
      "           septoria_leaf_spot       0.00      0.00      0.00       293\n",
      "                  target_spot       0.00      0.00      0.00       240\n",
      "          tomato_mosaic_virus       0.00      0.00      0.00        54\n",
      "tomato_yellow_leaf_curl_virus       0.30      1.00      0.46       854\n",
      "      two-spotted_spider_mite       0.00      0.00      0.00       280\n",
      "\n",
      "                     accuracy                           0.29      2907\n",
      "                    macro avg       0.03      0.10      0.05      2907\n",
      "                 weighted avg       0.09      0.29      0.13      2907\n",
      "\n",
      "[[  0   0   0   0   0   0   0   0 345   0]\n",
      " [  0   0   0   0   0   0   0   0 153   0]\n",
      " [  1   0   0   0   0   0   0   0 233   0]\n",
      " [  0   0   0   0   0  33   0   0 276   0]\n",
      " [  0   0   0   0   0   1   0   0 144   0]\n",
      " [  0   0   0   0   0   0   0   0 293   0]\n",
      " [  0   0   0   0   0   1   0   0 239   0]\n",
      " [  0   0   0   0   0   0   0   0  54   0]\n",
      " [  2   0   0   0   0   1   0   0 851   0]\n",
      " [  0   0   0   0   0   0   0   0 280   0]]\n"
     ]
    },
    {
     "name": "stderr",
     "output_type": "stream",
     "text": [
      "C:\\Users\\ravic\\anaconda3\\lib\\site-packages\\sklearn\\metrics\\_classification.py:1318: UndefinedMetricWarning: Precision and F-score are ill-defined and being set to 0.0 in labels with no predicted samples. Use `zero_division` parameter to control this behavior.\n",
      "  _warn_prf(average, modifier, msg_start, len(result))\n",
      "C:\\Users\\ravic\\anaconda3\\lib\\site-packages\\sklearn\\metrics\\_classification.py:1318: UndefinedMetricWarning: Precision and F-score are ill-defined and being set to 0.0 in labels with no predicted samples. Use `zero_division` parameter to control this behavior.\n",
      "  _warn_prf(average, modifier, msg_start, len(result))\n",
      "C:\\Users\\ravic\\anaconda3\\lib\\site-packages\\sklearn\\metrics\\_classification.py:1318: UndefinedMetricWarning: Precision and F-score are ill-defined and being set to 0.0 in labels with no predicted samples. Use `zero_division` parameter to control this behavior.\n",
      "  _warn_prf(average, modifier, msg_start, len(result))\n"
     ]
    }
   ],
   "source": [
    "#classification report\n",
    "y_predict = svm_si.predict(Ftest)\n",
    "class_names = target.unique()\n",
    "print(classification_report(Ltest, y_predict, target_names=class_names))\n",
    "print(confusion_matrix(Ltest, y_predict))"
   ]
  },
  {
   "cell_type": "markdown",
   "id": "f985c500",
   "metadata": {},
   "source": [
    "# Bernouli Naive bayes on RGB data"
   ]
  },
  {
   "cell_type": "code",
   "execution_count": 17,
   "id": "75a3f18f",
   "metadata": {},
   "outputs": [
    {
     "data": {
      "text/plain": [
       "0.38183694530443757"
      ]
     },
     "execution_count": 17,
     "metadata": {},
     "output_type": "execute_result"
    }
   ],
   "source": [
    "from sklearn.naive_bayes import BernoulliNB\n",
    "from sklearn import metrics\n",
    "bnb = BernoulliNB()\n",
    "bnb.fit(Ftrain, Ltrain)\n",
    "y_pred = bnb.predict(Ftest)\n",
    "metrics.accuracy_score(Ltest, y_pred)"
   ]
  },
  {
   "cell_type": "code",
   "execution_count": 18,
   "id": "694c01aa",
   "metadata": {},
   "outputs": [
    {
     "name": "stdout",
     "output_type": "stream",
     "text": [
      "                               precision    recall  f1-score   support\n",
      "\n",
      "               bacterial_spot       0.24      0.94      0.38       345\n",
      "                 early_blight       0.29      0.17      0.21       153\n",
      "                      healthy       0.28      0.16      0.20       234\n",
      "                  late_blight       0.95      0.12      0.21       309\n",
      "                    leaf_mold       0.33      0.09      0.14       145\n",
      "           septoria_leaf_spot       0.21      0.10      0.13       293\n",
      "                  target_spot       0.23      0.07      0.11       240\n",
      "          tomato_mosaic_virus       0.00      0.00      0.00        54\n",
      "tomato_yellow_leaf_curl_virus       0.80      0.62      0.70       854\n",
      "      two-spotted_spider_mite       0.28      0.33      0.30       280\n",
      "\n",
      "                     accuracy                           0.38      2907\n",
      "                    macro avg       0.36      0.26      0.24      2907\n",
      "                 weighted avg       0.48      0.38      0.36      2907\n",
      "\n",
      "[[326   0   4   0   1   3   5   0   0   6]\n",
      " [ 60  26   6   2   5  12   4   2  13  23]\n",
      " [145   4  38   0   5  10   6   0   3  23]\n",
      " [159  31   6  36   7  10   7   1  27  25]\n",
      " [ 92   5   7   0  13  10   4   1   6   7]\n",
      " [181  18  15   0   5  29  10   1  13  21]\n",
      " [159   2  15   0   1  16  18   0   7  22]\n",
      " [ 44   0   0   0   0   3   2   0   1   4]\n",
      " [136   4  23   0   3  38  12   0 533 105]\n",
      " [ 80   1  23   0   0   9  12   0  64  91]]\n"
     ]
    }
   ],
   "source": [
    "class_names = target.unique()\n",
    "print(classification_report(Ltest, y_pred, target_names=class_names))\n",
    "print(confusion_matrix(Ltest, y_pred))"
   ]
  },
  {
   "cell_type": "markdown",
   "id": "67dd930c",
   "metadata": {},
   "source": [
    "# Multinomial Naive bayes on RGB data"
   ]
  },
  {
   "cell_type": "code",
   "execution_count": 19,
   "id": "3b80acde",
   "metadata": {},
   "outputs": [
    {
     "data": {
      "text/plain": [
       "0.44857241142070864"
      ]
     },
     "execution_count": 19,
     "metadata": {},
     "output_type": "execute_result"
    }
   ],
   "source": [
    "from sklearn.naive_bayes import MultinomialNB\n",
    "mnb = MultinomialNB()\n",
    "mnb.fit(Ftrain, Ltrain)\n",
    "y_pred = mnb.predict(Ftest)\n",
    "metrics.accuracy_score(Ltest, y_pred)"
   ]
  },
  {
   "cell_type": "code",
   "execution_count": 20,
   "id": "d6ed705b",
   "metadata": {},
   "outputs": [
    {
     "name": "stdout",
     "output_type": "stream",
     "text": [
      "                               precision    recall  f1-score   support\n",
      "\n",
      "               bacterial_spot       0.41      0.43      0.42       345\n",
      "                 early_blight       0.11      0.29      0.16       153\n",
      "                      healthy       0.44      0.71      0.54       234\n",
      "                  late_blight       0.32      0.25      0.28       309\n",
      "                    leaf_mold       0.53      0.56      0.54       145\n",
      "           septoria_leaf_spot       0.34      0.18      0.24       293\n",
      "                  target_spot       0.57      0.32      0.41       240\n",
      "          tomato_mosaic_virus       0.16      0.69      0.26        54\n",
      "tomato_yellow_leaf_curl_virus       0.92      0.57      0.70       854\n",
      "      two-spotted_spider_mite       0.40      0.49      0.44       280\n",
      "\n",
      "                     accuracy                           0.45      2907\n",
      "                    macro avg       0.42      0.45      0.40      2907\n",
      "                 weighted avg       0.54      0.45      0.47      2907\n",
      "\n",
      "[[147  93  19  37   2  13   6   5  12  11]\n",
      " [ 37  45   6   6   3   8   6  22   4  16]\n",
      " [  0   3 166  10   5  16  23   8   0   3]\n",
      " [ 22  31 104  77  23  10   6  15   6  15]\n",
      " [  5   4  11   3  81  12   2  20   2   5]\n",
      " [ 37  25  21  42  30  53   6  39  15  25]\n",
      " [ 25  54  23   4   3   9  76  11   0  35]\n",
      " [  0   0   0   1   4   5   4  37   0   3]\n",
      " [ 61  90  14  48   3  22   0  37 486  93]\n",
      " [ 21  49  14   9   0  10   5  33   3 136]]\n"
     ]
    }
   ],
   "source": [
    "class_names = target.unique()\n",
    "print(classification_report(Ltest, y_pred, target_names=class_names))\n",
    "print(confusion_matrix(Ltest, y_pred))"
   ]
  },
  {
   "cell_type": "markdown",
   "id": "0e8f617d",
   "metadata": {},
   "source": [
    "# Grayscale data"
   ]
  },
  {
   "cell_type": "code",
   "execution_count": 21,
   "id": "57a9845e",
   "metadata": {},
   "outputs": [],
   "source": [
    "#reading numpy array data\n",
    "gray_test = np.load('gray_test.npy')\n",
    "#reading csv file\n",
    "gray_df = pd.read_csv('gray_data.csv')"
   ]
  },
  {
   "cell_type": "code",
   "execution_count": 22,
   "id": "d3abef95",
   "metadata": {},
   "outputs": [],
   "source": [
    "#assigning features and target to split the data\n",
    "features = pd.DataFrame(gray_test)\n",
    "features = features.values\n",
    "target = gray_df['disease']"
   ]
  },
  {
   "cell_type": "code",
   "execution_count": 23,
   "id": "a86eb99c",
   "metadata": {},
   "outputs": [],
   "source": [
    "#splitting the data to train and test\n",
    "Ftrain,Ftest,Ltrain,Ltest=train_test_split(features,target, test_size=0.20, random_state=24)"
   ]
  },
  {
   "cell_type": "markdown",
   "id": "e57ac802",
   "metadata": {},
   "source": [
    "# KNN on grayscale data"
   ]
  },
  {
   "cell_type": "code",
   "execution_count": 24,
   "id": "c8cdd7e6",
   "metadata": {},
   "outputs": [
    {
     "name": "stdout",
     "output_type": "stream",
     "text": [
      "0.4269005847953216\n"
     ]
    }
   ],
   "source": [
    "#k-model fitting and accuracy\n",
    "kmodel.fit(Ftrain,Ltrain)\n",
    "print(kmodel.score(Ftest,Ltest))"
   ]
  },
  {
   "cell_type": "code",
   "execution_count": 25,
   "id": "80a4667f",
   "metadata": {},
   "outputs": [
    {
     "name": "stdout",
     "output_type": "stream",
     "text": [
      "                               precision    recall  f1-score   support\n",
      "\n",
      "               bacterial_spot       0.32      0.78      0.45       345\n",
      "                 early_blight       0.00      0.00      0.00       153\n",
      "                      healthy       0.30      0.62      0.41       234\n",
      "                  late_blight       0.32      0.36      0.34       309\n",
      "                    leaf_mold       0.64      0.39      0.49       145\n",
      "           septoria_leaf_spot       0.54      0.34      0.42       293\n",
      "                  target_spot       0.43      0.19      0.26       240\n",
      "          tomato_mosaic_virus       0.50      0.04      0.07        54\n",
      "tomato_yellow_leaf_curl_virus       0.60      0.53      0.56       854\n",
      "      two-spotted_spider_mite       0.71      0.21      0.33       280\n",
      "\n",
      "                     accuracy                           0.43      2907\n",
      "                    macro avg       0.43      0.35      0.33      2907\n",
      "                 weighted avg       0.47      0.43      0.41      2907\n",
      "\n",
      "[[269   0  36  20   2   1   0   0  17   0]\n",
      " [ 90   0   5   4   5   6  13   1  28   1]\n",
      " [ 44   0 145  17   0   7   3   0  16   2]\n",
      " [ 50   0  55 112  10  34   4   0  43   1]\n",
      " [ 22   0  15  18  57   2   2   1  27   1]\n",
      " [ 24   0  53  45   8 101   6   0  52   4]\n",
      " [113   0  19  12   0  14  46   0  30   6]\n",
      " [  6   0  10   7   2   2   1   2  24   0]\n",
      " [156   0 126  98   5   8   2   0 449  10]\n",
      " [ 79   0  16  20   0  11  31   0  63  60]]\n"
     ]
    },
    {
     "name": "stderr",
     "output_type": "stream",
     "text": [
      "C:\\Users\\ravic\\anaconda3\\lib\\site-packages\\sklearn\\metrics\\_classification.py:1318: UndefinedMetricWarning: Precision and F-score are ill-defined and being set to 0.0 in labels with no predicted samples. Use `zero_division` parameter to control this behavior.\n",
      "  _warn_prf(average, modifier, msg_start, len(result))\n",
      "C:\\Users\\ravic\\anaconda3\\lib\\site-packages\\sklearn\\metrics\\_classification.py:1318: UndefinedMetricWarning: Precision and F-score are ill-defined and being set to 0.0 in labels with no predicted samples. Use `zero_division` parameter to control this behavior.\n",
      "  _warn_prf(average, modifier, msg_start, len(result))\n",
      "C:\\Users\\ravic\\anaconda3\\lib\\site-packages\\sklearn\\metrics\\_classification.py:1318: UndefinedMetricWarning: Precision and F-score are ill-defined and being set to 0.0 in labels with no predicted samples. Use `zero_division` parameter to control this behavior.\n",
      "  _warn_prf(average, modifier, msg_start, len(result))\n"
     ]
    }
   ],
   "source": [
    "#printing results of the kmodel\n",
    "y_predict = kmodel.predict(Ftest)\n",
    "class_names = target.unique()\n",
    "print(classification_report(Ltest, y_predict, target_names=class_names))\n",
    "print(confusion_matrix(Ltest, y_predict))"
   ]
  },
  {
   "cell_type": "markdown",
   "id": "8bfc6d84",
   "metadata": {},
   "source": [
    "# SVM(poly) on grayscale data"
   ]
  },
  {
   "cell_type": "code",
   "execution_count": 26,
   "id": "c9665abf",
   "metadata": {},
   "outputs": [
    {
     "name": "stdout",
     "output_type": "stream",
     "text": [
      "0.565187478500172\n"
     ]
    }
   ],
   "source": [
    "svm_poly.fit(Ftrain,Ltrain)\n",
    "y_pred = svm_poly.predict(Ftest)\n",
    "print(accuracy_score(Ltest,y_pred))"
   ]
  },
  {
   "cell_type": "code",
   "execution_count": 27,
   "id": "2456eda7",
   "metadata": {},
   "outputs": [
    {
     "name": "stdout",
     "output_type": "stream",
     "text": [
      "                               precision    recall  f1-score   support\n",
      "\n",
      "               bacterial_spot       0.48      0.76      0.59       345\n",
      "                 early_blight       0.25      0.28      0.27       153\n",
      "                      healthy       0.64      0.72      0.68       234\n",
      "                  late_blight       0.58      0.54      0.56       309\n",
      "                    leaf_mold       0.45      0.48      0.46       145\n",
      "           septoria_leaf_spot       0.45      0.42      0.43       293\n",
      "                  target_spot       0.43      0.47      0.45       240\n",
      "          tomato_mosaic_virus       0.31      0.37      0.34        54\n",
      "tomato_yellow_leaf_curl_virus       0.80      0.65      0.71       854\n",
      "      two-spotted_spider_mite       0.65      0.45      0.54       280\n",
      "\n",
      "                     accuracy                           0.57      2907\n",
      "                    macro avg       0.50      0.51      0.50      2907\n",
      "                 weighted avg       0.59      0.57      0.57      2907\n",
      "\n",
      "[[262  11   7  16   4  10   4   0  30   1]\n",
      " [ 37  43   1  15   8   8  18   0  16   7]\n",
      " [ 15   4 168   9   3  11  10   3   5   6]\n",
      " [ 21  29  14 166   8  33  13   5  16   4]\n",
      " [ 12  10   7   9  69  16   7   4  10   1]\n",
      " [ 39   9  18  30  15 123  23  10  17   9]\n",
      " [ 35  24   5   0  11  19 114   2   9  21]\n",
      " [  1   0   2   2   7   8   0  20  12   2]\n",
      " [ 97  26  35  36  24  30  29  10 551  16]\n",
      " [ 23  15   5   4   6  16  49  10  25 127]]\n"
     ]
    }
   ],
   "source": [
    "#classification report\n",
    "y_predict = svm_poly.predict(Ftest)\n",
    "class_names = target.unique()\n",
    "print(classification_report(Ltest, y_predict, target_names=class_names))\n",
    "print(confusion_matrix(Ltest, y_predict))"
   ]
  },
  {
   "cell_type": "markdown",
   "id": "bd417df9",
   "metadata": {},
   "source": [
    "# SVM(RBF) on grayscale data"
   ]
  },
  {
   "cell_type": "code",
   "execution_count": 28,
   "id": "67772464",
   "metadata": {},
   "outputs": [
    {
     "name": "stdout",
     "output_type": "stream",
     "text": [
      "0.7007223942208463\n"
     ]
    }
   ],
   "source": [
    "svm_rbf.fit(Ftrain,Ltrain)\n",
    "y_pred = svm_rbf.predict(Ftest)\n",
    "print(accuracy_score(Ltest,y_pred))"
   ]
  },
  {
   "cell_type": "code",
   "execution_count": 29,
   "id": "34bbfd97",
   "metadata": {},
   "outputs": [
    {
     "name": "stdout",
     "output_type": "stream",
     "text": [
      "                               precision    recall  f1-score   support\n",
      "\n",
      "               bacterial_spot       0.78      0.75      0.76       345\n",
      "                 early_blight       0.51      0.24      0.33       153\n",
      "                      healthy       0.75      0.85      0.79       234\n",
      "                  late_blight       0.67      0.67      0.67       309\n",
      "                    leaf_mold       0.74      0.47      0.57       145\n",
      "           septoria_leaf_spot       0.62      0.58      0.60       293\n",
      "                  target_spot       0.65      0.62      0.64       240\n",
      "          tomato_mosaic_virus       0.64      0.13      0.22        54\n",
      "tomato_yellow_leaf_curl_virus       0.71      0.87      0.78       854\n",
      "      two-spotted_spider_mite       0.72      0.71      0.71       280\n",
      "\n",
      "                     accuracy                           0.70      2907\n",
      "                    macro avg       0.68      0.59      0.61      2907\n",
      "                 weighted avg       0.69      0.70      0.69      2907\n",
      "\n",
      "[[260   3   8  14   2  10   3   0  45   0]\n",
      " [ 22  37   1  21   2   7  16   0  40   7]\n",
      " [  1   1 198   4   1   4   5   0  17   3]\n",
      " [  2  14   6 207   7  19   7   2  36   9]\n",
      " [  3   2   8  13  68  15   5   0  29   2]\n",
      " [  8   3  16  25   7 170  18   1  36   9]\n",
      " [ 11   4   4   2   1  16 150   0  25  27]\n",
      " [  1   0   0   2   3   8   1   7  30   2]\n",
      " [ 25   2  20  20   1  21   5   0 742  18]\n",
      " [  2   6   4   1   0   4  21   1  43 198]]\n"
     ]
    }
   ],
   "source": [
    "#classification report\n",
    "y_predict = svm_rbf.predict(Ftest)\n",
    "class_names = target.unique()\n",
    "print(classification_report(Ltest, y_predict, target_names=class_names))\n",
    "print(confusion_matrix(Ltest, y_predict))"
   ]
  },
  {
   "cell_type": "markdown",
   "id": "c1ed23e8",
   "metadata": {},
   "source": [
    "# SVM(sigmoid) on Grayscale data"
   ]
  },
  {
   "cell_type": "code",
   "execution_count": 30,
   "id": "b79e8630",
   "metadata": {},
   "outputs": [
    {
     "name": "stdout",
     "output_type": "stream",
     "text": [
      "0.24183006535947713\n"
     ]
    }
   ],
   "source": [
    "svm_si.fit(Ftrain,Ltrain)\n",
    "y_pred = svm_si.predict(Ftest)\n",
    "print(accuracy_score(Ltest,y_pred))"
   ]
  },
  {
   "cell_type": "code",
   "execution_count": 31,
   "id": "c64cd0a6",
   "metadata": {},
   "outputs": [
    {
     "name": "stdout",
     "output_type": "stream",
     "text": [
      "                               precision    recall  f1-score   support\n",
      "\n",
      "               bacterial_spot       0.06      0.09      0.07       345\n",
      "                 early_blight       0.00      0.00      0.00       153\n",
      "                      healthy       0.00      0.00      0.00       234\n",
      "                  late_blight       0.00      0.00      0.00       309\n",
      "                    leaf_mold       0.00      0.00      0.00       145\n",
      "           septoria_leaf_spot       0.00      0.00      0.00       293\n",
      "                  target_spot       0.00      0.00      0.00       240\n",
      "          tomato_mosaic_virus       0.00      0.00      0.00        54\n",
      "tomato_yellow_leaf_curl_virus       0.28      0.79      0.42       854\n",
      "      two-spotted_spider_mite       0.00      0.00      0.00       280\n",
      "\n",
      "                     accuracy                           0.24      2907\n",
      "                    macro avg       0.03      0.09      0.05      2907\n",
      "                 weighted avg       0.09      0.24      0.13      2907\n",
      "\n",
      "[[ 32   0   0   0   0   0   0   0 313   0]\n",
      " [  5   0   0   0   0   0   0   0 148   0]\n",
      " [ 46   0   0   0   0   0   0   0 188   0]\n",
      " [ 86   0   0   0   0  33   0   0 190   0]\n",
      " [ 17   0   0   0   0   0   0   0 128   0]\n",
      " [120   0   0   0   0   0   0   0 173   0]\n",
      " [  7   0   0   0   0   1   0   0 232   0]\n",
      " [  2   0   0   0   0   0   0   0  52   0]\n",
      " [183   0   0   0   0   0   0   0 671   0]\n",
      " [ 16   0   0   0   0   0   0   0 264   0]]\n"
     ]
    },
    {
     "name": "stderr",
     "output_type": "stream",
     "text": [
      "C:\\Users\\ravic\\anaconda3\\lib\\site-packages\\sklearn\\metrics\\_classification.py:1318: UndefinedMetricWarning: Precision and F-score are ill-defined and being set to 0.0 in labels with no predicted samples. Use `zero_division` parameter to control this behavior.\n",
      "  _warn_prf(average, modifier, msg_start, len(result))\n",
      "C:\\Users\\ravic\\anaconda3\\lib\\site-packages\\sklearn\\metrics\\_classification.py:1318: UndefinedMetricWarning: Precision and F-score are ill-defined and being set to 0.0 in labels with no predicted samples. Use `zero_division` parameter to control this behavior.\n",
      "  _warn_prf(average, modifier, msg_start, len(result))\n",
      "C:\\Users\\ravic\\anaconda3\\lib\\site-packages\\sklearn\\metrics\\_classification.py:1318: UndefinedMetricWarning: Precision and F-score are ill-defined and being set to 0.0 in labels with no predicted samples. Use `zero_division` parameter to control this behavior.\n",
      "  _warn_prf(average, modifier, msg_start, len(result))\n"
     ]
    }
   ],
   "source": [
    "#classification report\n",
    "y_predict = svm_si.predict(Ftest)\n",
    "class_names = target.unique()\n",
    "print(classification_report(Ltest, y_predict, target_names=class_names))\n",
    "print(confusion_matrix(Ltest, y_predict))"
   ]
  },
  {
   "cell_type": "markdown",
   "id": "8ba631c4",
   "metadata": {},
   "source": [
    "# Bernouli Naive bayes on grayscale data"
   ]
  },
  {
   "cell_type": "code",
   "execution_count": 32,
   "id": "f9c1d1df",
   "metadata": {},
   "outputs": [
    {
     "data": {
      "text/plain": [
       "0.30546955624355004"
      ]
     },
     "execution_count": 32,
     "metadata": {},
     "output_type": "execute_result"
    }
   ],
   "source": [
    "bnb.fit(Ftrain, Ltrain)\n",
    "y_pred = bnb.predict(Ftest)\n",
    "metrics.accuracy_score(Ltest, y_pred)"
   ]
  },
  {
   "cell_type": "code",
   "execution_count": 33,
   "id": "5349d0e6",
   "metadata": {},
   "outputs": [
    {
     "name": "stdout",
     "output_type": "stream",
     "text": [
      "                               precision    recall  f1-score   support\n",
      "\n",
      "               bacterial_spot       0.00      0.00      0.00       345\n",
      "                 early_blight       0.00      0.00      0.00       153\n",
      "                      healthy       0.60      0.01      0.03       234\n",
      "                  late_blight       1.00      0.10      0.18       309\n",
      "                    leaf_mold       0.00      0.00      0.00       145\n",
      "           septoria_leaf_spot       0.00      0.00      0.00       293\n",
      "                  target_spot       1.00      0.00      0.01       240\n",
      "          tomato_mosaic_virus       0.00      0.00      0.00        54\n",
      "tomato_yellow_leaf_curl_virus       0.30      1.00      0.46       854\n",
      "      two-spotted_spider_mite       0.00      0.00      0.00       280\n",
      "\n",
      "                     accuracy                           0.31      2907\n",
      "                    macro avg       0.29      0.11      0.07      2907\n",
      "                 weighted avg       0.33      0.31      0.16      2907\n",
      "\n",
      "[[  0   0   0   0   0   0   0   0 345   0]\n",
      " [  2   0   0   0   0   1   0   0 150   0]\n",
      " [  2   0   3   0   1   1   0   0 227   0]\n",
      " [  0   0   0  30   0   1   0   3 275   0]\n",
      " [  2   0   1   0   0   2   0   0 140   0]\n",
      " [  3   0   1   0   0   0   0   0 289   0]\n",
      " [  0   0   0   0   0   0   1   0 239   0]\n",
      " [  0   0   0   0   0   0   0   0  54   0]\n",
      " [  0   0   0   0   0   0   0   0 854   0]\n",
      " [  0   0   0   0   0   0   0   0 280   0]]\n"
     ]
    },
    {
     "name": "stderr",
     "output_type": "stream",
     "text": [
      "C:\\Users\\ravic\\anaconda3\\lib\\site-packages\\sklearn\\metrics\\_classification.py:1318: UndefinedMetricWarning: Precision and F-score are ill-defined and being set to 0.0 in labels with no predicted samples. Use `zero_division` parameter to control this behavior.\n",
      "  _warn_prf(average, modifier, msg_start, len(result))\n",
      "C:\\Users\\ravic\\anaconda3\\lib\\site-packages\\sklearn\\metrics\\_classification.py:1318: UndefinedMetricWarning: Precision and F-score are ill-defined and being set to 0.0 in labels with no predicted samples. Use `zero_division` parameter to control this behavior.\n",
      "  _warn_prf(average, modifier, msg_start, len(result))\n",
      "C:\\Users\\ravic\\anaconda3\\lib\\site-packages\\sklearn\\metrics\\_classification.py:1318: UndefinedMetricWarning: Precision and F-score are ill-defined and being set to 0.0 in labels with no predicted samples. Use `zero_division` parameter to control this behavior.\n",
      "  _warn_prf(average, modifier, msg_start, len(result))\n"
     ]
    }
   ],
   "source": [
    "class_names = target.unique()\n",
    "print(classification_report(Ltest, y_pred, target_names=class_names))\n",
    "print(confusion_matrix(Ltest, y_pred))"
   ]
  },
  {
   "cell_type": "markdown",
   "id": "20b31faf",
   "metadata": {},
   "source": [
    "# Multinomial Naive bayes on Grayscale data"
   ]
  },
  {
   "cell_type": "code",
   "execution_count": 34,
   "id": "5bf3d424",
   "metadata": {},
   "outputs": [
    {
     "data": {
      "text/plain": [
       "0.23839009287925697"
      ]
     },
     "execution_count": 34,
     "metadata": {},
     "output_type": "execute_result"
    }
   ],
   "source": [
    "mnb.fit(Ftrain, Ltrain)\n",
    "y_pred = mnb.predict(Ftest)\n",
    "metrics.accuracy_score(Ltest, y_pred)"
   ]
  },
  {
   "cell_type": "code",
   "execution_count": 35,
   "id": "6ed85664",
   "metadata": {},
   "outputs": [
    {
     "name": "stdout",
     "output_type": "stream",
     "text": [
      "                               precision    recall  f1-score   support\n",
      "\n",
      "               bacterial_spot       0.37      0.30      0.33       345\n",
      "                 early_blight       0.10      0.30      0.15       153\n",
      "                      healthy       0.23      0.62      0.33       234\n",
      "                  late_blight       0.17      0.12      0.14       309\n",
      "                    leaf_mold       0.37      0.43      0.40       145\n",
      "           septoria_leaf_spot       0.20      0.09      0.12       293\n",
      "                  target_spot       0.47      0.19      0.27       240\n",
      "          tomato_mosaic_virus       0.08      0.44      0.13        54\n",
      "tomato_yellow_leaf_curl_virus       0.43      0.11      0.18       854\n",
      "      two-spotted_spider_mite       0.30      0.38      0.33       280\n",
      "\n",
      "                     accuracy                           0.24      2907\n",
      "                    macro avg       0.27      0.30      0.24      2907\n",
      "                 weighted avg       0.32      0.24      0.23      2907\n",
      "\n",
      "[[102 111  43  21   3  12   4  10  12  27]\n",
      " [ 32  46   5   5   9   4   3  13  16  20]\n",
      " [  0   2 146  13   5  36  13   6   8   5]\n",
      " [ 22  33 138  38  29   3   5  14  15  12]\n",
      " [  5   6  12  12  63   8   3  23   5   8]\n",
      " [ 23  21  61  37  33  25   9  29  28  27]\n",
      " [ 31  48  14  15   4   7  46  12  19  44]\n",
      " [  2   0   1   6   3   4   1  24   8   5]\n",
      " [ 41 148 212  66  18  13   6 150  96 104]\n",
      " [ 20  55  12  15   3  10   8  36  14 107]]\n"
     ]
    }
   ],
   "source": [
    "class_names = target.unique()\n",
    "print(classification_report(Ltest, y_pred, target_names=class_names))\n",
    "print(confusion_matrix(Ltest, y_pred))"
   ]
  },
  {
   "cell_type": "markdown",
   "id": "6f5719a1",
   "metadata": {},
   "source": [
    "# Red Channel data"
   ]
  },
  {
   "cell_type": "code",
   "execution_count": 36,
   "id": "5f8b0e11",
   "metadata": {},
   "outputs": [],
   "source": [
    "#reading numpy array data\n",
    "red_test = np.load('red_data.npy')\n",
    "#reading csv file\n",
    "red_df = pd.read_csv('red_data.csv')\n",
    "#assigning features and target to split the data\n",
    "features = pd.DataFrame(red_test)\n",
    "features = features.values\n",
    "target = red_df['disease']\n",
    "#splitting the data to train and test\n",
    "Ftrain,Ftest,Ltrain,Ltest=train_test_split(features,target, test_size=0.20, random_state=24)"
   ]
  },
  {
   "cell_type": "markdown",
   "id": "11c41de3",
   "metadata": {},
   "source": [
    "# KNN on Red data"
   ]
  },
  {
   "cell_type": "code",
   "execution_count": 37,
   "id": "0a415cb8",
   "metadata": {},
   "outputs": [
    {
     "name": "stdout",
     "output_type": "stream",
     "text": [
      "0.4674922600619195\n"
     ]
    }
   ],
   "source": [
    "#k-model fitting and accuracy\n",
    "kmodel.fit(Ftrain,Ltrain)\n",
    "print(kmodel.score(Ftest,Ltest))"
   ]
  },
  {
   "cell_type": "code",
   "execution_count": 38,
   "id": "a349cb60",
   "metadata": {},
   "outputs": [
    {
     "name": "stdout",
     "output_type": "stream",
     "text": [
      "                               precision    recall  f1-score   support\n",
      "\n",
      "               bacterial_spot       0.38      0.77      0.51       345\n",
      "                 early_blight       0.00      0.00      0.00       153\n",
      "                      healthy       0.33      0.74      0.45       234\n",
      "                  late_blight       0.42      0.41      0.42       309\n",
      "                    leaf_mold       0.56      0.43      0.49       145\n",
      "           septoria_leaf_spot       0.55      0.35      0.43       293\n",
      "                  target_spot       0.41      0.32      0.36       240\n",
      "          tomato_mosaic_virus       0.70      0.13      0.22        54\n",
      "tomato_yellow_leaf_curl_virus       0.60      0.54      0.57       854\n",
      "      two-spotted_spider_mite       0.73      0.31      0.43       280\n",
      "\n",
      "                     accuracy                           0.47      2907\n",
      "                    macro avg       0.47      0.40      0.39      2907\n",
      "                 weighted avg       0.49      0.47      0.45      2907\n",
      "\n",
      "[[264   0  36  26   1   1   0   0  17   0]\n",
      " [ 75   0  11   3   2  10  20   1  30   1]\n",
      " [ 11   0 174  13   2   3   1   0  28   2]\n",
      " [ 39   0  44 128  10  40   5   0  43   0]\n",
      " [ 14   0  22  11  63   4   0   0  29   2]\n",
      " [ 27   0  44  41   9 102  14   1  50   5]\n",
      " [ 83   0  37   1   1   9  77   1  24   7]\n",
      " [  2   0   6   2   2   0   1   7  33   1]\n",
      " [130   0 142  69  23  12   6   0 458  14]\n",
      " [ 45   0  18  12   0   4  62   0  53  86]]\n"
     ]
    },
    {
     "name": "stderr",
     "output_type": "stream",
     "text": [
      "C:\\Users\\ravic\\anaconda3\\lib\\site-packages\\sklearn\\metrics\\_classification.py:1318: UndefinedMetricWarning: Precision and F-score are ill-defined and being set to 0.0 in labels with no predicted samples. Use `zero_division` parameter to control this behavior.\n",
      "  _warn_prf(average, modifier, msg_start, len(result))\n",
      "C:\\Users\\ravic\\anaconda3\\lib\\site-packages\\sklearn\\metrics\\_classification.py:1318: UndefinedMetricWarning: Precision and F-score are ill-defined and being set to 0.0 in labels with no predicted samples. Use `zero_division` parameter to control this behavior.\n",
      "  _warn_prf(average, modifier, msg_start, len(result))\n",
      "C:\\Users\\ravic\\anaconda3\\lib\\site-packages\\sklearn\\metrics\\_classification.py:1318: UndefinedMetricWarning: Precision and F-score are ill-defined and being set to 0.0 in labels with no predicted samples. Use `zero_division` parameter to control this behavior.\n",
      "  _warn_prf(average, modifier, msg_start, len(result))\n"
     ]
    }
   ],
   "source": [
    "#printing results of the kmodel\n",
    "y_predict = kmodel.predict(Ftest)\n",
    "class_names = target.unique()\n",
    "print(classification_report(Ltest, y_predict, target_names=class_names))\n",
    "print(confusion_matrix(Ltest, y_predict))"
   ]
  },
  {
   "cell_type": "markdown",
   "id": "c81dd4d2",
   "metadata": {},
   "source": [
    "# SVM(poly) on Red data"
   ]
  },
  {
   "cell_type": "code",
   "execution_count": 39,
   "id": "a9cb2e28",
   "metadata": {},
   "outputs": [
    {
     "name": "stdout",
     "output_type": "stream",
     "text": [
      "0.5985552115583075\n"
     ]
    }
   ],
   "source": [
    "svm_poly.fit(Ftrain,Ltrain)\n",
    "y_pred = svm_poly.predict(Ftest)\n",
    "print(accuracy_score(Ltest,y_pred))"
   ]
  },
  {
   "cell_type": "code",
   "execution_count": 40,
   "id": "35b2ceaf",
   "metadata": {},
   "outputs": [
    {
     "name": "stdout",
     "output_type": "stream",
     "text": [
      "                               precision    recall  f1-score   support\n",
      "\n",
      "               bacterial_spot       0.53      0.79      0.64       345\n",
      "                 early_blight       0.24      0.21      0.22       153\n",
      "                      healthy       0.68      0.77      0.72       234\n",
      "                  late_blight       0.53      0.53      0.53       309\n",
      "                    leaf_mold       0.48      0.48      0.48       145\n",
      "           septoria_leaf_spot       0.44      0.45      0.45       293\n",
      "                  target_spot       0.53      0.54      0.53       240\n",
      "          tomato_mosaic_virus       0.32      0.39      0.35        54\n",
      "tomato_yellow_leaf_curl_virus       0.80      0.67      0.73       854\n",
      "      two-spotted_spider_mite       0.73      0.59      0.65       280\n",
      "\n",
      "                     accuracy                           0.60      2907\n",
      "                    macro avg       0.53      0.54      0.53      2907\n",
      "                 weighted avg       0.61      0.60      0.60      2907\n",
      "\n",
      "[[271  11   9  15   3  11   1   0  24   0]\n",
      " [ 36  32   4  14   3  17  20   2  19   6]\n",
      " [ 12   4 180   6   4   9   7   3   6   3]\n",
      " [ 26  24  12 164  13  37  12   2  13   6]\n",
      " [ 10   3   9  21  70  11   3   2  15   1]\n",
      " [ 33   9  15  38   9 132  22  11  16   8]\n",
      " [ 32  18   3   2   7  26 129   2   8  13]\n",
      " [  0   1   0   3   3   7   3  21  15   1]\n",
      " [ 73  20  24  42  30  33  18  16 576  22]\n",
      " [ 14  11   7   3   4  16  30   6  24 165]]\n"
     ]
    }
   ],
   "source": [
    "#classification report\n",
    "y_predict = svm_poly.predict(Ftest)\n",
    "class_names = target.unique()\n",
    "print(classification_report(Ltest, y_predict, target_names=class_names))\n",
    "print(confusion_matrix(Ltest, y_predict))"
   ]
  },
  {
   "cell_type": "markdown",
   "id": "bcdfb873",
   "metadata": {},
   "source": [
    "# SVM(RBF) on Red data"
   ]
  },
  {
   "cell_type": "code",
   "execution_count": 41,
   "id": "5e806290",
   "metadata": {},
   "outputs": [
    {
     "name": "stdout",
     "output_type": "stream",
     "text": [
      "0.7096663226694186\n"
     ]
    }
   ],
   "source": [
    "svm_rbf.fit(Ftrain,Ltrain)\n",
    "y_pred = svm_rbf.predict(Ftest)\n",
    "print(accuracy_score(Ltest,y_pred))"
   ]
  },
  {
   "cell_type": "code",
   "execution_count": 42,
   "id": "e613add4",
   "metadata": {},
   "outputs": [
    {
     "name": "stdout",
     "output_type": "stream",
     "text": [
      "                               precision    recall  f1-score   support\n",
      "\n",
      "               bacterial_spot       0.79      0.77      0.78       345\n",
      "                 early_blight       0.48      0.19      0.27       153\n",
      "                      healthy       0.75      0.87      0.81       234\n",
      "                  late_blight       0.65      0.67      0.66       309\n",
      "                    leaf_mold       0.67      0.48      0.56       145\n",
      "           septoria_leaf_spot       0.61      0.52      0.56       293\n",
      "                  target_spot       0.65      0.70      0.67       240\n",
      "          tomato_mosaic_virus       0.58      0.13      0.21        54\n",
      "tomato_yellow_leaf_curl_virus       0.73      0.87      0.80       854\n",
      "      two-spotted_spider_mite       0.78      0.77      0.77       280\n",
      "\n",
      "                     accuracy                           0.71      2907\n",
      "                    macro avg       0.67      0.60      0.61      2907\n",
      "                 weighted avg       0.70      0.71      0.69      2907\n",
      "\n",
      "[[266   2   9  18   0   6   3   0  41   0]\n",
      " [ 25  29   2  23   1   8  19   0  39   7]\n",
      " [  0   1 204   2   5   4   2   0  15   1]\n",
      " [  4  10   9 207   8  21  13   1  31   5]\n",
      " [  4   3   4  17  70  16   3   0  27   1]\n",
      " [  8   5  17  32   9 151  24   2  34  11]\n",
      " [  9   3   2   2   0  13 167   1  23  20]\n",
      " [  0   0   0   2   2   4   4   7  33   2]\n",
      " [ 18   4  20  15   9  20   5   1 747  15]\n",
      " [  2   4   4   2   0   4  15   0  34 215]]\n"
     ]
    }
   ],
   "source": [
    "#classification report\n",
    "y_predict = svm_rbf.predict(Ftest)\n",
    "class_names = target.unique()\n",
    "print(classification_report(Ltest, y_predict, target_names=class_names))\n",
    "print(confusion_matrix(Ltest, y_predict))"
   ]
  },
  {
   "cell_type": "markdown",
   "id": "558a44ca",
   "metadata": {},
   "source": [
    "# SVM(sigmoid) on Red data"
   ]
  },
  {
   "cell_type": "code",
   "execution_count": 43,
   "id": "dfde7ca8",
   "metadata": {},
   "outputs": [
    {
     "name": "stdout",
     "output_type": "stream",
     "text": [
      "0.2930856553147575\n"
     ]
    }
   ],
   "source": [
    "svm_si.fit(Ftrain,Ltrain)\n",
    "y_pred = svm_si.predict(Ftest)\n",
    "print(accuracy_score(Ltest,y_pred))"
   ]
  },
  {
   "cell_type": "code",
   "execution_count": 44,
   "id": "b58142f8",
   "metadata": {},
   "outputs": [
    {
     "name": "stdout",
     "output_type": "stream",
     "text": [
      "                               precision    recall  f1-score   support\n",
      "\n",
      "               bacterial_spot       0.00      0.00      0.00       345\n",
      "                 early_blight       0.00      0.00      0.00       153\n",
      "                      healthy       0.00      0.00      0.00       234\n",
      "                  late_blight       0.00      0.00      0.00       309\n",
      "                    leaf_mold       0.00      0.00      0.00       145\n",
      "           septoria_leaf_spot       0.00      0.00      0.00       293\n",
      "                  target_spot       0.00      0.00      0.00       240\n",
      "          tomato_mosaic_virus       0.00      0.00      0.00        54\n",
      "tomato_yellow_leaf_curl_virus       0.30      1.00      0.46       854\n",
      "      two-spotted_spider_mite       0.00      0.00      0.00       280\n",
      "\n",
      "                     accuracy                           0.29      2907\n",
      "                    macro avg       0.03      0.10      0.05      2907\n",
      "                 weighted avg       0.09      0.29      0.13      2907\n",
      "\n",
      "[[  0   0   0   0   0   0   0   0 345   0]\n",
      " [  0   0   0   0   0   0   0   0 153   0]\n",
      " [  0   0   0   0   0   1   0   0 233   0]\n",
      " [  0   0   0   0   0  33   0   0 276   0]\n",
      " [  0   0   0   0   0   1   0   0 144   0]\n",
      " [  0   0   0   0   0   0   0   0 293   0]\n",
      " [  0   0   0   0   0   1   0   0 239   0]\n",
      " [  0   0   0   0   0   0   0   0  54   0]\n",
      " [  1   0   0   0   0   1   0   0 852   0]\n",
      " [  0   0   0   0   0   0   0   0 280   0]]\n"
     ]
    },
    {
     "name": "stderr",
     "output_type": "stream",
     "text": [
      "C:\\Users\\ravic\\anaconda3\\lib\\site-packages\\sklearn\\metrics\\_classification.py:1318: UndefinedMetricWarning: Precision and F-score are ill-defined and being set to 0.0 in labels with no predicted samples. Use `zero_division` parameter to control this behavior.\n",
      "  _warn_prf(average, modifier, msg_start, len(result))\n",
      "C:\\Users\\ravic\\anaconda3\\lib\\site-packages\\sklearn\\metrics\\_classification.py:1318: UndefinedMetricWarning: Precision and F-score are ill-defined and being set to 0.0 in labels with no predicted samples. Use `zero_division` parameter to control this behavior.\n",
      "  _warn_prf(average, modifier, msg_start, len(result))\n",
      "C:\\Users\\ravic\\anaconda3\\lib\\site-packages\\sklearn\\metrics\\_classification.py:1318: UndefinedMetricWarning: Precision and F-score are ill-defined and being set to 0.0 in labels with no predicted samples. Use `zero_division` parameter to control this behavior.\n",
      "  _warn_prf(average, modifier, msg_start, len(result))\n"
     ]
    }
   ],
   "source": [
    "#classification report\n",
    "y_predict = svm_si.predict(Ftest)\n",
    "class_names = target.unique()\n",
    "print(classification_report(Ltest, y_predict, target_names=class_names))\n",
    "print(confusion_matrix(Ltest, y_predict))"
   ]
  },
  {
   "cell_type": "markdown",
   "id": "5a175c93",
   "metadata": {},
   "source": [
    "# Bernouli Naive bayes on Red data"
   ]
  },
  {
   "cell_type": "code",
   "execution_count": 45,
   "id": "d65fa897",
   "metadata": {},
   "outputs": [
    {
     "data": {
      "text/plain": [
       "0.3065015479876161"
      ]
     },
     "execution_count": 45,
     "metadata": {},
     "output_type": "execute_result"
    }
   ],
   "source": [
    "bnb.fit(Ftrain, Ltrain)\n",
    "y_pred = bnb.predict(Ftest)\n",
    "metrics.accuracy_score(Ltest, y_pred)"
   ]
  },
  {
   "cell_type": "code",
   "execution_count": 46,
   "id": "bdadbf8a",
   "metadata": {},
   "outputs": [
    {
     "name": "stdout",
     "output_type": "stream",
     "text": [
      "                               precision    recall  f1-score   support\n",
      "\n",
      "               bacterial_spot       0.00      0.00      0.00       345\n",
      "                 early_blight       0.08      0.01      0.02       153\n",
      "                      healthy       0.29      0.04      0.07       234\n",
      "                  late_blight       0.87      0.11      0.20       309\n",
      "                    leaf_mold       0.14      0.03      0.05       145\n",
      "           septoria_leaf_spot       0.28      0.05      0.09       293\n",
      "                  target_spot       0.17      0.02      0.04       240\n",
      "          tomato_mosaic_virus       0.00      0.00      0.00        54\n",
      "tomato_yellow_leaf_curl_virus       0.31      0.96      0.47       854\n",
      "      two-spotted_spider_mite       0.17      0.01      0.03       280\n",
      "\n",
      "                     accuracy                           0.31      2907\n",
      "                    macro avg       0.23      0.12      0.10      2907\n",
      "                 weighted avg       0.28      0.31      0.18      2907\n",
      "\n",
      "[[  0   0   0   0   0   0   0   0 345   0]\n",
      " [  3   2   6   2   5   7   5   8 114   1]\n",
      " [  4   2  10   0   3   5   1   3 204   2]\n",
      " [  8   6   3  34   4   9   5   6 233   1]\n",
      " [  4   2   5   0   4   4   2   3 120   1]\n",
      " [ 10   6   3   3   2  15   5   6 241   2]\n",
      " [  3   0   4   0   4   8   5   1 212   3]\n",
      " [  1   1   0   0   1   0   0   0  50   1]\n",
      " [  0   5   3   0   4   5   3   9 817   8]\n",
      " [  0   0   0   0   2   1   3   2 268   4]]\n"
     ]
    }
   ],
   "source": [
    "class_names = target.unique()\n",
    "print(classification_report(Ltest, y_pred, target_names=class_names))\n",
    "print(confusion_matrix(Ltest, y_pred))"
   ]
  },
  {
   "cell_type": "markdown",
   "id": "39255a27",
   "metadata": {},
   "source": [
    "# Multinomial Naive bayes on Red data"
   ]
  },
  {
   "cell_type": "code",
   "execution_count": 47,
   "id": "437843bc",
   "metadata": {},
   "outputs": [
    {
     "data": {
      "text/plain": [
       "0.2868937048503612"
      ]
     },
     "execution_count": 47,
     "metadata": {},
     "output_type": "execute_result"
    }
   ],
   "source": [
    "mnb.fit(Ftrain, Ltrain)\n",
    "y_pred = mnb.predict(Ftest)\n",
    "metrics.accuracy_score(Ltest, y_pred)"
   ]
  },
  {
   "cell_type": "code",
   "execution_count": 48,
   "id": "2bcb0431",
   "metadata": {},
   "outputs": [
    {
     "name": "stdout",
     "output_type": "stream",
     "text": [
      "                               precision    recall  f1-score   support\n",
      "\n",
      "               bacterial_spot       0.41      0.49      0.44       345\n",
      "                 early_blight       0.10      0.21      0.13       153\n",
      "                      healthy       0.29      0.67      0.40       234\n",
      "                  late_blight       0.20      0.22      0.21       309\n",
      "                    leaf_mold       0.36      0.43      0.39       145\n",
      "           septoria_leaf_spot       0.21      0.12      0.16       293\n",
      "                  target_spot       0.47      0.23      0.30       240\n",
      "          tomato_mosaic_virus       0.10      0.52      0.17        54\n",
      "tomato_yellow_leaf_curl_virus       0.50      0.13      0.21       854\n",
      "      two-spotted_spider_mite       0.35      0.41      0.38       280\n",
      "\n",
      "                     accuracy                           0.29      2907\n",
      "                    macro avg       0.30      0.34      0.28      2907\n",
      "                 weighted avg       0.36      0.29      0.28      2907\n",
      "\n",
      "[[168  74  36  30   3  14   3   7   5   5]\n",
      " [ 34  32   9   4   5   9   8  11  22  19]\n",
      " [  0   2 156  17   6  35   9   2   3   4]\n",
      " [ 26  13 116  67  32   8   8  13  18   8]\n",
      " [  6   5  21  13  63  12   0  13   6   6]\n",
      " [ 29  26  48  45  39  36  11  19  23  17]\n",
      " [ 42  49  17   0   4  13  54   7  14  40]\n",
      " [  2   0   0   1   5   3   2  28   7   6]\n",
      " [ 80  82 116 148  19  31   8 147 115 108]\n",
      " [ 26  43  24   2   0   8  13  30  19 115]]\n"
     ]
    }
   ],
   "source": [
    "class_names = target.unique()\n",
    "print(classification_report(Ltest, y_pred, target_names=class_names))\n",
    "print(confusion_matrix(Ltest, y_pred))"
   ]
  },
  {
   "cell_type": "markdown",
   "id": "11e4cd00",
   "metadata": {},
   "source": [
    "# Green channel data"
   ]
  },
  {
   "cell_type": "code",
   "execution_count": 49,
   "id": "40feb467",
   "metadata": {},
   "outputs": [],
   "source": [
    "#reading numpy array data\n",
    "green_test = np.load('green_data.npy')\n",
    "#reading csv file\n",
    "green_df = pd.read_csv('green_data.csv')\n",
    "#assigning features and target to split the data\n",
    "features = pd.DataFrame(green_test)\n",
    "features = features.values\n",
    "target = green_df['disease']\n",
    "#splitting the data to train and test\n",
    "Ftrain,Ftest,Ltrain,Ltest=train_test_split(features,target, test_size=0.20, random_state=24)"
   ]
  },
  {
   "cell_type": "markdown",
   "id": "d9d55894",
   "metadata": {},
   "source": [
    "# KNN on green data"
   ]
  },
  {
   "cell_type": "code",
   "execution_count": 50,
   "id": "76441b2d",
   "metadata": {},
   "outputs": [
    {
     "name": "stdout",
     "output_type": "stream",
     "text": [
      "0.41210870313037495\n"
     ]
    }
   ],
   "source": [
    "#k-model fitting and accuracy\n",
    "kmodel.fit(Ftrain,Ltrain)\n",
    "print(kmodel.score(Ftest,Ltest))"
   ]
  },
  {
   "cell_type": "code",
   "execution_count": 51,
   "id": "c782ce1c",
   "metadata": {},
   "outputs": [
    {
     "name": "stdout",
     "output_type": "stream",
     "text": [
      "                               precision    recall  f1-score   support\n",
      "\n",
      "               bacterial_spot       0.29      0.79      0.42       345\n",
      "                 early_blight       0.00      0.00      0.00       153\n",
      "                      healthy       0.28      0.58      0.37       234\n",
      "                  late_blight       0.33      0.37      0.34       309\n",
      "                    leaf_mold       0.59      0.37      0.45       145\n",
      "           septoria_leaf_spot       0.52      0.34      0.41       293\n",
      "                  target_spot       0.37      0.15      0.21       240\n",
      "          tomato_mosaic_virus       0.33      0.02      0.04        54\n",
      "tomato_yellow_leaf_curl_virus       0.66      0.51      0.58       854\n",
      "      two-spotted_spider_mite       0.68      0.17      0.27       280\n",
      "\n",
      "                     accuracy                           0.41      2907\n",
      "                    macro avg       0.40      0.33      0.31      2907\n",
      "                 weighted avg       0.47      0.41      0.39      2907\n",
      "\n",
      "[[274   0  34  21   3   2   0   0  11   0]\n",
      " [ 96   0   1   7   4   6  14   0  25   0]\n",
      " [ 62   0 135  23   0   4   2   1   6   1]\n",
      " [ 61   0  57 113   6  33   2   0  34   3]\n",
      " [ 28   0  15  19  53   6   2   0  21   1]\n",
      " [ 22   0  63  52   8 101   2   0  41   4]\n",
      " [133   0  12  17   1  10  35   1  26   5]\n",
      " [  9   0  11   9   2   9   0   1  12   1]\n",
      " [172   0 143  65  12  13   3   0 438   8]\n",
      " [ 96   0  17  21   1  11  34   0  52  48]]\n"
     ]
    },
    {
     "name": "stderr",
     "output_type": "stream",
     "text": [
      "C:\\Users\\ravic\\anaconda3\\lib\\site-packages\\sklearn\\metrics\\_classification.py:1318: UndefinedMetricWarning: Precision and F-score are ill-defined and being set to 0.0 in labels with no predicted samples. Use `zero_division` parameter to control this behavior.\n",
      "  _warn_prf(average, modifier, msg_start, len(result))\n",
      "C:\\Users\\ravic\\anaconda3\\lib\\site-packages\\sklearn\\metrics\\_classification.py:1318: UndefinedMetricWarning: Precision and F-score are ill-defined and being set to 0.0 in labels with no predicted samples. Use `zero_division` parameter to control this behavior.\n",
      "  _warn_prf(average, modifier, msg_start, len(result))\n",
      "C:\\Users\\ravic\\anaconda3\\lib\\site-packages\\sklearn\\metrics\\_classification.py:1318: UndefinedMetricWarning: Precision and F-score are ill-defined and being set to 0.0 in labels with no predicted samples. Use `zero_division` parameter to control this behavior.\n",
      "  _warn_prf(average, modifier, msg_start, len(result))\n"
     ]
    }
   ],
   "source": [
    "#printing results of the kmodel\n",
    "y_predict = kmodel.predict(Ftest)\n",
    "class_names = target.unique()\n",
    "print(classification_report(Ltest, y_predict, target_names=class_names))\n",
    "print(confusion_matrix(Ltest, y_predict))"
   ]
  },
  {
   "cell_type": "markdown",
   "id": "9aa0bc22",
   "metadata": {},
   "source": [
    "# SVM(poly) on green data"
   ]
  },
  {
   "cell_type": "code",
   "execution_count": 52,
   "id": "fe39c65e",
   "metadata": {},
   "outputs": [
    {
     "name": "stdout",
     "output_type": "stream",
     "text": [
      "0.5703474372205022\n"
     ]
    }
   ],
   "source": [
    "svm_poly.fit(Ftrain,Ltrain)\n",
    "y_pred = svm_poly.predict(Ftest)\n",
    "print(accuracy_score(Ltest,y_pred))"
   ]
  },
  {
   "cell_type": "code",
   "execution_count": 53,
   "id": "8423b846",
   "metadata": {},
   "outputs": [
    {
     "name": "stdout",
     "output_type": "stream",
     "text": [
      "                               precision    recall  f1-score   support\n",
      "\n",
      "               bacterial_spot       0.50      0.76      0.60       345\n",
      "                 early_blight       0.23      0.31      0.26       153\n",
      "                      healthy       0.69      0.69      0.69       234\n",
      "                  late_blight       0.56      0.57      0.57       309\n",
      "                    leaf_mold       0.44      0.52      0.48       145\n",
      "           septoria_leaf_spot       0.47      0.44      0.46       293\n",
      "                  target_spot       0.44      0.46      0.45       240\n",
      "          tomato_mosaic_virus       0.25      0.22      0.24        54\n",
      "tomato_yellow_leaf_curl_virus       0.80      0.65      0.72       854\n",
      "      two-spotted_spider_mite       0.69      0.45      0.55       280\n",
      "\n",
      "                     accuracy                           0.57      2907\n",
      "                    macro avg       0.51      0.51      0.50      2907\n",
      "                 weighted avg       0.60      0.57      0.58      2907\n",
      "\n",
      "[[262  12   7  19   6  11   4   0  22   2]\n",
      " [ 35  47   1  18   6   6  17   0  20   3]\n",
      " [ 14   5 162   6   5   9  18   2   8   5]\n",
      " [ 19  29   7 177  12  24  10   0  24   7]\n",
      " [ 11   7   5  11  76  13   6   5   8   3]\n",
      " [ 37  13  13  29  14 129  23   9  20   6]\n",
      " [ 32  28   6   2  12  15 111   3  12  19]\n",
      " [  4   1   2   6  10  13   3  12   3   0]\n",
      " [ 88  39  26  38  22  45  18  11 556  11]\n",
      " [ 26  22   6   9   9   9  44   6  23 126]]\n"
     ]
    }
   ],
   "source": [
    "#classification report\n",
    "y_predict = svm_poly.predict(Ftest)\n",
    "class_names = target.unique()\n",
    "print(classification_report(Ltest, y_predict, target_names=class_names))\n",
    "print(confusion_matrix(Ltest, y_predict))"
   ]
  },
  {
   "cell_type": "markdown",
   "id": "6112d4e4",
   "metadata": {},
   "source": [
    "# SVM(RBF) on green data"
   ]
  },
  {
   "cell_type": "code",
   "execution_count": 54,
   "id": "69be936f",
   "metadata": {},
   "outputs": [
    {
     "name": "stdout",
     "output_type": "stream",
     "text": [
      "0.7079463364293086\n"
     ]
    }
   ],
   "source": [
    "svm_rbf.fit(Ftrain,Ltrain)\n",
    "y_pred = svm_rbf.predict(Ftest)\n",
    "print(accuracy_score(Ltest,y_pred))"
   ]
  },
  {
   "cell_type": "code",
   "execution_count": 55,
   "id": "81b4c571",
   "metadata": {},
   "outputs": [
    {
     "name": "stdout",
     "output_type": "stream",
     "text": [
      "                               precision    recall  f1-score   support\n",
      "\n",
      "               bacterial_spot       0.77      0.75      0.76       345\n",
      "                 early_blight       0.57      0.28      0.38       153\n",
      "                      healthy       0.79      0.86      0.82       234\n",
      "                  late_blight       0.68      0.66      0.67       309\n",
      "                    leaf_mold       0.65      0.48      0.56       145\n",
      "           septoria_leaf_spot       0.66      0.61      0.63       293\n",
      "                  target_spot       0.62      0.62      0.62       240\n",
      "          tomato_mosaic_virus       0.68      0.31      0.43        54\n",
      "tomato_yellow_leaf_curl_virus       0.72      0.88      0.80       854\n",
      "      two-spotted_spider_mite       0.72      0.65      0.68       280\n",
      "\n",
      "                     accuracy                           0.71      2907\n",
      "                    macro avg       0.69      0.61      0.63      2907\n",
      "                 weighted avg       0.70      0.71      0.70      2907\n",
      "\n",
      "[[259   3   9  12   4   6   4   0  48   0]\n",
      " [ 19  43   1  22   2   3  19   0  37   7]\n",
      " [  2   1 201   3   2   2   7   0  14   2]\n",
      " [  1  11   5 204   7  24   7   3  37  10]\n",
      " [  6   1   5  13  70  16   6   1  23   4]\n",
      " [  7   2  13  27   7 180  11   0  39   7]\n",
      " [ 12   3   6   4   3   8 148   1  27  28]\n",
      " [  1   0   2   1   8   8   2  17  14   1]\n",
      " [ 26   4  11  13   4  21   7   1 754  13]\n",
      " [  4   7   3   3   0   6  26   2  47 182]]\n"
     ]
    }
   ],
   "source": [
    "#classification report\n",
    "y_predict = svm_rbf.predict(Ftest)\n",
    "class_names = target.unique()\n",
    "print(classification_report(Ltest, y_predict, target_names=class_names))\n",
    "print(confusion_matrix(Ltest, y_predict))"
   ]
  },
  {
   "cell_type": "markdown",
   "id": "662d1937",
   "metadata": {},
   "source": [
    "# SVM(sigmoid) on green data"
   ]
  },
  {
   "cell_type": "code",
   "execution_count": 56,
   "id": "7f6adcca",
   "metadata": {},
   "outputs": [
    {
     "name": "stdout",
     "output_type": "stream",
     "text": [
      "0.2672858617131063\n"
     ]
    }
   ],
   "source": [
    "svm_si.fit(Ftrain,Ltrain)\n",
    "y_pred = svm_si.predict(Ftest)\n",
    "print(accuracy_score(Ltest,y_pred))"
   ]
  },
  {
   "cell_type": "code",
   "execution_count": 57,
   "id": "251d68f3",
   "metadata": {},
   "outputs": [
    {
     "name": "stdout",
     "output_type": "stream",
     "text": [
      "                               precision    recall  f1-score   support\n",
      "\n",
      "               bacterial_spot       0.07      0.03      0.04       345\n",
      "                 early_blight       0.00      0.00      0.00       153\n",
      "                      healthy       0.00      0.00      0.00       234\n",
      "                  late_blight       0.00      0.00      0.00       309\n",
      "                    leaf_mold       0.00      0.00      0.00       145\n",
      "           septoria_leaf_spot       0.00      0.00      0.00       293\n",
      "                  target_spot       0.00      0.00      0.00       240\n",
      "          tomato_mosaic_virus       0.00      0.00      0.00        54\n",
      "tomato_yellow_leaf_curl_virus       0.28      0.90      0.43       854\n",
      "      two-spotted_spider_mite       0.00      0.00      0.00       280\n",
      "\n",
      "                     accuracy                           0.27      2907\n",
      "                    macro avg       0.04      0.09      0.05      2907\n",
      "                 weighted avg       0.09      0.27      0.13      2907\n",
      "\n",
      "[[ 10   0   0   0   0   0   0   0 335   0]\n",
      " [  2   0   0   0   0   0   0   0 151   0]\n",
      " [  2   0   0   0   0   0   0   0 232   0]\n",
      " [ 12   0   0   0   0  32   0   0 265   0]\n",
      " [  0   0   0   0   0   0   0   0 145   0]\n",
      " [ 29   0   0   0   0   0   0   0 264   0]\n",
      " [  1   0   0   0   0   0   0   0 239   0]\n",
      " [  0   0   0   0   0   0   0   0  54   0]\n",
      " [ 87   0   0   0   0   0   0   0 767   0]\n",
      " [  0   0   0   0   0   0   0   0 280   0]]\n"
     ]
    },
    {
     "name": "stderr",
     "output_type": "stream",
     "text": [
      "C:\\Users\\ravic\\anaconda3\\lib\\site-packages\\sklearn\\metrics\\_classification.py:1318: UndefinedMetricWarning: Precision and F-score are ill-defined and being set to 0.0 in labels with no predicted samples. Use `zero_division` parameter to control this behavior.\n",
      "  _warn_prf(average, modifier, msg_start, len(result))\n",
      "C:\\Users\\ravic\\anaconda3\\lib\\site-packages\\sklearn\\metrics\\_classification.py:1318: UndefinedMetricWarning: Precision and F-score are ill-defined and being set to 0.0 in labels with no predicted samples. Use `zero_division` parameter to control this behavior.\n",
      "  _warn_prf(average, modifier, msg_start, len(result))\n",
      "C:\\Users\\ravic\\anaconda3\\lib\\site-packages\\sklearn\\metrics\\_classification.py:1318: UndefinedMetricWarning: Precision and F-score are ill-defined and being set to 0.0 in labels with no predicted samples. Use `zero_division` parameter to control this behavior.\n",
      "  _warn_prf(average, modifier, msg_start, len(result))\n"
     ]
    }
   ],
   "source": [
    "#classification report\n",
    "y_predict = svm_si.predict(Ftest)\n",
    "class_names = target.unique()\n",
    "print(classification_report(Ltest, y_predict, target_names=class_names))\n",
    "print(confusion_matrix(Ltest, y_predict))"
   ]
  },
  {
   "cell_type": "markdown",
   "id": "8aa412dd",
   "metadata": {},
   "source": [
    "# Bernouli Naive bayes on green data"
   ]
  },
  {
   "cell_type": "code",
   "execution_count": 58,
   "id": "b6622b8d",
   "metadata": {},
   "outputs": [
    {
     "data": {
      "text/plain": [
       "0.3120055039559684"
      ]
     },
     "execution_count": 58,
     "metadata": {},
     "output_type": "execute_result"
    }
   ],
   "source": [
    "bnb.fit(Ftrain, Ltrain)\n",
    "y_pred = bnb.predict(Ftest)\n",
    "metrics.accuracy_score(Ltest, y_pred)"
   ]
  },
  {
   "cell_type": "code",
   "execution_count": 59,
   "id": "f3c6b16f",
   "metadata": {},
   "outputs": [
    {
     "name": "stdout",
     "output_type": "stream",
     "text": [
      "                               precision    recall  f1-score   support\n",
      "\n",
      "               bacterial_spot       0.00      0.00      0.00       345\n",
      "                 early_blight       0.27      0.05      0.09       153\n",
      "                      healthy       0.32      0.03      0.05       234\n",
      "                  late_blight       0.97      0.11      0.20       309\n",
      "                    leaf_mold       0.18      0.03      0.05       145\n",
      "           septoria_leaf_spot       0.06      0.01      0.01       293\n",
      "                  target_spot       0.00      0.00      0.00       240\n",
      "          tomato_mosaic_virus       0.00      0.00      0.00        54\n",
      "tomato_yellow_leaf_curl_virus       0.31      1.00      0.48       854\n",
      "      two-spotted_spider_mite       0.00      0.00      0.00       280\n",
      "\n",
      "                     accuracy                           0.31      2907\n",
      "                    macro avg       0.21      0.12      0.09      2907\n",
      "                 weighted avg       0.25      0.31      0.17      2907\n",
      "\n",
      "[[  0   0   0   0   0   0   0   0 345   0]\n",
      " [  1   8   4   1   2  13   1   4 116   3]\n",
      " [  6   2   7   0   0   5   2   0 212   0]\n",
      " [  9  11   4  34  12   5   2   8 223   1]\n",
      " [  3   0   5   0   4   4   0   1 127   1]\n",
      " [  4   7   2   0   4   2   3   3 267   1]\n",
      " [  0   1   0   0   0   1   0   0 238   0]\n",
      " [  1   1   0   0   0   3   0   0  49   0]\n",
      " [  1   0   0   0   0   1   0   0 852   0]\n",
      " [  1   0   0   0   0   0   0   0 279   0]]\n"
     ]
    }
   ],
   "source": [
    "class_names = target.unique()\n",
    "print(classification_report(Ltest, y_pred, target_names=class_names))\n",
    "print(confusion_matrix(Ltest, y_pred))"
   ]
  },
  {
   "cell_type": "markdown",
   "id": "d144692e",
   "metadata": {},
   "source": [
    "# Multinomial Naive bayes on Green data"
   ]
  },
  {
   "cell_type": "code",
   "execution_count": 60,
   "id": "a7a34c33",
   "metadata": {},
   "outputs": [
    {
     "data": {
      "text/plain": [
       "0.22291021671826625"
      ]
     },
     "execution_count": 60,
     "metadata": {},
     "output_type": "execute_result"
    }
   ],
   "source": [
    "mnb.fit(Ftrain, Ltrain)\n",
    "y_pred = mnb.predict(Ftest)\n",
    "metrics.accuracy_score(Ltest, y_pred)"
   ]
  },
  {
   "cell_type": "code",
   "execution_count": 61,
   "id": "441ea45d",
   "metadata": {},
   "outputs": [
    {
     "name": "stdout",
     "output_type": "stream",
     "text": [
      "                               precision    recall  f1-score   support\n",
      "\n",
      "               bacterial_spot       0.32      0.20      0.24       345\n",
      "                 early_blight       0.11      0.38      0.17       153\n",
      "                      healthy       0.20      0.56      0.30       234\n",
      "                  late_blight       0.17      0.15      0.16       309\n",
      "                    leaf_mold       0.36      0.35      0.36       145\n",
      "           septoria_leaf_spot       0.26      0.06      0.10       293\n",
      "                  target_spot       0.42      0.15      0.23       240\n",
      "          tomato_mosaic_virus       0.07      0.44      0.13        54\n",
      "tomato_yellow_leaf_curl_virus       0.49      0.13      0.21       854\n",
      "      two-spotted_spider_mite       0.27      0.35      0.30       280\n",
      "\n",
      "                     accuracy                           0.22      2907\n",
      "                    macro avg       0.27      0.28      0.22      2907\n",
      "                 weighted avg       0.33      0.22      0.22      2907\n",
      "\n",
      "[[ 68 125  41  26   2   7  10  14  14  38]\n",
      " [ 26  58   3  13   9   1   3  14   4  22]\n",
      " [  4   2 132  17   2  19  13  15  25   5]\n",
      " [ 20  43 126  47  23   0   4  17  15  14]\n",
      " [  4   5  10  18  51   1   2  34  12   8]\n",
      " [ 17  25  76  34  26  18  11  38  26  22]\n",
      " [ 24  45   9  34   5   4  37  27   6  49]\n",
      " [  1   1   4  10   2   2   0  24   7   3]\n",
      " [ 34 169 244  53  16  10   1 106 115 106]\n",
      " [ 14  59  13  27   6   8   7  38  10  98]]\n"
     ]
    }
   ],
   "source": [
    "class_names = target.unique()\n",
    "print(classification_report(Ltest, y_pred, target_names=class_names))\n",
    "print(confusion_matrix(Ltest, y_pred))"
   ]
  },
  {
   "cell_type": "markdown",
   "id": "a6a80ecb",
   "metadata": {},
   "source": [
    "# Blue channel data"
   ]
  },
  {
   "cell_type": "code",
   "execution_count": 62,
   "id": "06094596",
   "metadata": {},
   "outputs": [],
   "source": [
    "#reading numpy array data\n",
    "blue_test = np.load('blue_data.npy')\n",
    "#reading csv file\n",
    "blue_df = pd.read_csv('blue_data.csv')\n",
    "#assigning features and target to split the data\n",
    "features = pd.DataFrame(blue_test)\n",
    "features = features.values\n",
    "target = blue_df['disease']\n",
    "#splitting the data to train and test\n",
    "Ftrain,Ftest,Ltrain,Ltest=train_test_split(features,target, test_size=0.20, random_state=24)"
   ]
  },
  {
   "cell_type": "markdown",
   "id": "e097eefb",
   "metadata": {},
   "source": [
    "# KNN on blue data"
   ]
  },
  {
   "cell_type": "code",
   "execution_count": 63,
   "id": "b6b6502d",
   "metadata": {},
   "outputs": [
    {
     "name": "stdout",
     "output_type": "stream",
     "text": [
      "0.49054007567939456\n"
     ]
    }
   ],
   "source": [
    "#k-model fitting and accuracy\n",
    "kmodel.fit(Ftrain,Ltrain)\n",
    "print(kmodel.score(Ftest,Ltest))"
   ]
  },
  {
   "cell_type": "code",
   "execution_count": 64,
   "id": "4d478728",
   "metadata": {},
   "outputs": [
    {
     "name": "stdout",
     "output_type": "stream",
     "text": [
      "                               precision    recall  f1-score   support\n",
      "\n",
      "               bacterial_spot       0.27      0.91      0.42       345\n",
      "                 early_blight       0.00      0.00      0.00       153\n",
      "                      healthy       0.50      0.69      0.58       234\n",
      "                  late_blight       0.64      0.38      0.47       309\n",
      "                    leaf_mold       0.53      0.54      0.54       145\n",
      "           septoria_leaf_spot       0.53      0.41      0.46       293\n",
      "                  target_spot       0.32      0.21      0.26       240\n",
      "          tomato_mosaic_virus       0.46      0.22      0.30        54\n",
      "tomato_yellow_leaf_curl_virus       0.86      0.59      0.70       854\n",
      "      two-spotted_spider_mite       0.73      0.23      0.35       280\n",
      "\n",
      "                     accuracy                           0.49      2907\n",
      "                    macro avg       0.48      0.42      0.41      2907\n",
      "                 weighted avg       0.58      0.49      0.49      2907\n",
      "\n",
      "[[315   0  16   6   0   2   0   0   5   1]\n",
      " [ 99   0  11   1   1   8  17   2  13   1]\n",
      " [ 54   0 162   7   0   0   7   0   2   2]\n",
      " [ 71   0  47 116  19  27  12   0  16   1]\n",
      " [ 20   0   5   8  78  15  11   2   4   2]\n",
      " [ 63   0  10  22  36 119  25   1  15   2]\n",
      " [124   0  43   1   0  11  51   4   2   4]\n",
      " [  5   0   6   8   5   9   2  12   3   4]\n",
      " [295   0   5   6   4  17   9   3 508   7]\n",
      " [117   0  19   7   3  18  25   2  24  65]]\n"
     ]
    },
    {
     "name": "stderr",
     "output_type": "stream",
     "text": [
      "C:\\Users\\ravic\\anaconda3\\lib\\site-packages\\sklearn\\metrics\\_classification.py:1318: UndefinedMetricWarning: Precision and F-score are ill-defined and being set to 0.0 in labels with no predicted samples. Use `zero_division` parameter to control this behavior.\n",
      "  _warn_prf(average, modifier, msg_start, len(result))\n",
      "C:\\Users\\ravic\\anaconda3\\lib\\site-packages\\sklearn\\metrics\\_classification.py:1318: UndefinedMetricWarning: Precision and F-score are ill-defined and being set to 0.0 in labels with no predicted samples. Use `zero_division` parameter to control this behavior.\n",
      "  _warn_prf(average, modifier, msg_start, len(result))\n",
      "C:\\Users\\ravic\\anaconda3\\lib\\site-packages\\sklearn\\metrics\\_classification.py:1318: UndefinedMetricWarning: Precision and F-score are ill-defined and being set to 0.0 in labels with no predicted samples. Use `zero_division` parameter to control this behavior.\n",
      "  _warn_prf(average, modifier, msg_start, len(result))\n"
     ]
    }
   ],
   "source": [
    "#printing results of the kmodel\n",
    "y_predict = kmodel.predict(Ftest)\n",
    "class_names = target.unique()\n",
    "print(classification_report(Ltest, y_predict, target_names=class_names))\n",
    "print(confusion_matrix(Ltest, y_predict))"
   ]
  },
  {
   "cell_type": "markdown",
   "id": "4d40997b",
   "metadata": {},
   "source": [
    "# SVM(poly) on blue data"
   ]
  },
  {
   "cell_type": "code",
   "execution_count": 65,
   "id": "39b88095",
   "metadata": {},
   "outputs": [
    {
     "name": "stdout",
     "output_type": "stream",
     "text": [
      "0.6625386996904025\n"
     ]
    }
   ],
   "source": [
    "svm_poly.fit(Ftrain,Ltrain)\n",
    "y_pred = svm_poly.predict(Ftest)\n",
    "print(accuracy_score(Ltest,y_pred))"
   ]
  },
  {
   "cell_type": "code",
   "execution_count": 66,
   "id": "dc98d740",
   "metadata": {},
   "outputs": [
    {
     "name": "stdout",
     "output_type": "stream",
     "text": [
      "                               precision    recall  f1-score   support\n",
      "\n",
      "               bacterial_spot       0.59      0.81      0.69       345\n",
      "                 early_blight       0.25      0.26      0.26       153\n",
      "                      healthy       0.84      0.78      0.81       234\n",
      "                  late_blight       0.65      0.59      0.62       309\n",
      "                    leaf_mold       0.49      0.57      0.53       145\n",
      "           septoria_leaf_spot       0.52      0.51      0.51       293\n",
      "                  target_spot       0.50      0.48      0.49       240\n",
      "          tomato_mosaic_virus       0.34      0.33      0.34        54\n",
      "tomato_yellow_leaf_curl_virus       0.85      0.83      0.84       854\n",
      "      two-spotted_spider_mite       0.80      0.59      0.68       280\n",
      "\n",
      "                     accuracy                           0.66      2907\n",
      "                    macro avg       0.58      0.58      0.58      2907\n",
      "                 weighted avg       0.67      0.66      0.66      2907\n",
      "\n",
      "[[281   6   5   9   1   7   7   0  25   4]\n",
      " [ 28  40   1  23   3  11  16   4  26   1]\n",
      " [ 10   7 183   3   3   5  21   0   1   1]\n",
      " [ 17  34   6 182  15  15  16   3  19   2]\n",
      " [  4   8   0  12  82  24   4   4   5   2]\n",
      " [ 22  14   5  27  29 148  20   9  14   5]\n",
      " [ 38  21  16   4  10  19 115   2   5  10]\n",
      " [  5   1   0   4   6  18   0  18   1   1]\n",
      " [ 43  19   0  13  13  28   6   6 712  14]\n",
      " [ 25   9   1   3   4  12  23   7  31 165]]\n"
     ]
    }
   ],
   "source": [
    "#classification report\n",
    "y_predict = svm_poly.predict(Ftest)\n",
    "class_names = target.unique()\n",
    "print(classification_report(Ltest, y_predict, target_names=class_names))\n",
    "print(confusion_matrix(Ltest, y_predict))"
   ]
  },
  {
   "cell_type": "markdown",
   "id": "5226f4f2",
   "metadata": {},
   "source": [
    "# SVM(RBF) on blue data"
   ]
  },
  {
   "cell_type": "code",
   "execution_count": 67,
   "id": "183a5680",
   "metadata": {},
   "outputs": [
    {
     "name": "stdout",
     "output_type": "stream",
     "text": [
      "0.7447540419676643\n"
     ]
    }
   ],
   "source": [
    "svm_rbf.fit(Ftrain,Ltrain)\n",
    "y_pred = svm_rbf.predict(Ftest)\n",
    "print(accuracy_score(Ltest,y_pred))"
   ]
  },
  {
   "cell_type": "code",
   "execution_count": 68,
   "id": "22270861",
   "metadata": {},
   "outputs": [
    {
     "name": "stdout",
     "output_type": "stream",
     "text": [
      "                               precision    recall  f1-score   support\n",
      "\n",
      "               bacterial_spot       0.76      0.86      0.81       345\n",
      "                 early_blight       0.45      0.25      0.33       153\n",
      "                      healthy       0.89      0.84      0.87       234\n",
      "                  late_blight       0.75      0.69      0.72       309\n",
      "                    leaf_mold       0.69      0.50      0.58       145\n",
      "           septoria_leaf_spot       0.60      0.64      0.62       293\n",
      "                  target_spot       0.61      0.64      0.62       240\n",
      "          tomato_mosaic_virus       0.58      0.28      0.38        54\n",
      "tomato_yellow_leaf_curl_virus       0.82      0.91      0.86       854\n",
      "      two-spotted_spider_mite       0.76      0.75      0.76       280\n",
      "\n",
      "                     accuracy                           0.74      2907\n",
      "                    macro avg       0.69      0.64      0.65      2907\n",
      "                 weighted avg       0.74      0.74      0.74      2907\n",
      "\n",
      "[[296   0   6   5   0   2   4   0  29   3]\n",
      " [ 19  39   1  20   2  10  20   1  37   4]\n",
      " [  5   1 197   5   0   3  17   0   2   4]\n",
      " [  3  21   5 214  11  16  11   3  21   4]\n",
      " [  4   2   1   9  73  26  11   1  11   7]\n",
      " [ 16   6   0  14  14 187  18   2  27   9]\n",
      " [ 20   8   9   3   3  20 154   3   6  14]\n",
      " [  2   0   0   5   3  21   0  15   6   2]\n",
      " [ 21   2   1   8   0  18   4   1 779  20]\n",
      " [  1   7   1   2   0   9  14   0  35 211]]\n"
     ]
    }
   ],
   "source": [
    "#classification report\n",
    "y_predict = svm_rbf.predict(Ftest)\n",
    "class_names = target.unique()\n",
    "print(classification_report(Ltest, y_predict, target_names=class_names))\n",
    "print(confusion_matrix(Ltest, y_predict))"
   ]
  },
  {
   "cell_type": "markdown",
   "id": "09f47e7e",
   "metadata": {},
   "source": [
    "# SVM(sigmoid) on blue data"
   ]
  },
  {
   "cell_type": "code",
   "execution_count": 69,
   "id": "4401c844",
   "metadata": {},
   "outputs": [
    {
     "name": "stdout",
     "output_type": "stream",
     "text": [
      "0.23391812865497075\n"
     ]
    }
   ],
   "source": [
    "svm_si.fit(Ftrain,Ltrain)\n",
    "y_pred = svm_si.predict(Ftest)\n",
    "print(accuracy_score(Ltest,y_pred))"
   ]
  },
  {
   "cell_type": "code",
   "execution_count": 70,
   "id": "4372e59f",
   "metadata": {},
   "outputs": [
    {
     "name": "stdout",
     "output_type": "stream",
     "text": [
      "                               precision    recall  f1-score   support\n",
      "\n",
      "               bacterial_spot       0.40      0.04      0.07       345\n",
      "                 early_blight       0.00      0.00      0.00       153\n",
      "                      healthy       0.00      0.00      0.00       234\n",
      "                  late_blight       0.00      0.00      0.00       309\n",
      "                    leaf_mold       0.00      0.00      0.00       145\n",
      "           septoria_leaf_spot       0.01      0.01      0.01       293\n",
      "                  target_spot       0.00      0.00      0.00       240\n",
      "          tomato_mosaic_virus       0.00      0.00      0.00        54\n",
      "tomato_yellow_leaf_curl_virus       0.26      0.78      0.38       854\n",
      "      two-spotted_spider_mite       0.00      0.00      0.00       280\n",
      "\n",
      "                     accuracy                           0.23      2907\n",
      "                    macro avg       0.07      0.08      0.05      2907\n",
      "                 weighted avg       0.12      0.23      0.12      2907\n",
      "\n",
      "[[ 14   0   0   0   0  32   0   0 299   0]\n",
      " [  3   0   0   0   0   8   0   0 142   0]\n",
      " [  4   0   0   0   0   4   0   0 226   0]\n",
      " [  3   0  14   0  17   9   0   0 266   0]\n",
      " [  0   0   0   0   0   1   0   0 144   0]\n",
      " [  0   0   0   0   0   3   0   0 290   0]\n",
      " [  0   0   0   0   1   0   0   0 239   0]\n",
      " [  0   0   0   0   0   0   0   0  54   0]\n",
      " [  8   0   0   0  11 172   0   0 663   0]\n",
      " [  3   0   0   0   0   6   0   0 271   0]]\n"
     ]
    },
    {
     "name": "stderr",
     "output_type": "stream",
     "text": [
      "C:\\Users\\ravic\\anaconda3\\lib\\site-packages\\sklearn\\metrics\\_classification.py:1318: UndefinedMetricWarning: Precision and F-score are ill-defined and being set to 0.0 in labels with no predicted samples. Use `zero_division` parameter to control this behavior.\n",
      "  _warn_prf(average, modifier, msg_start, len(result))\n",
      "C:\\Users\\ravic\\anaconda3\\lib\\site-packages\\sklearn\\metrics\\_classification.py:1318: UndefinedMetricWarning: Precision and F-score are ill-defined and being set to 0.0 in labels with no predicted samples. Use `zero_division` parameter to control this behavior.\n",
      "  _warn_prf(average, modifier, msg_start, len(result))\n",
      "C:\\Users\\ravic\\anaconda3\\lib\\site-packages\\sklearn\\metrics\\_classification.py:1318: UndefinedMetricWarning: Precision and F-score are ill-defined and being set to 0.0 in labels with no predicted samples. Use `zero_division` parameter to control this behavior.\n",
      "  _warn_prf(average, modifier, msg_start, len(result))\n"
     ]
    }
   ],
   "source": [
    "#classification report\n",
    "y_predict = svm_si.predict(Ftest)\n",
    "class_names = target.unique()\n",
    "print(classification_report(Ltest, y_predict, target_names=class_names))\n",
    "print(confusion_matrix(Ltest, y_predict))"
   ]
  },
  {
   "cell_type": "markdown",
   "id": "7401f4ab",
   "metadata": {},
   "source": [
    "# Bernouli Naive bayes on blue data"
   ]
  },
  {
   "cell_type": "code",
   "execution_count": 71,
   "id": "a8ddf84b",
   "metadata": {},
   "outputs": [
    {
     "data": {
      "text/plain": [
       "0.37564499484004127"
      ]
     },
     "execution_count": 71,
     "metadata": {},
     "output_type": "execute_result"
    }
   ],
   "source": [
    "bnb.fit(Ftrain, Ltrain)\n",
    "y_pred = bnb.predict(Ftest)\n",
    "metrics.accuracy_score(Ltest, y_pred)"
   ]
  },
  {
   "cell_type": "code",
   "execution_count": 72,
   "id": "944621bd",
   "metadata": {},
   "outputs": [
    {
     "name": "stdout",
     "output_type": "stream",
     "text": [
      "                               precision    recall  f1-score   support\n",
      "\n",
      "               bacterial_spot       0.25      0.93      0.40       345\n",
      "                 early_blight       0.14      0.07      0.10       153\n",
      "                      healthy       0.23      0.16      0.19       234\n",
      "                  late_blight       0.65      0.21      0.31       309\n",
      "                    leaf_mold       0.26      0.12      0.17       145\n",
      "           septoria_leaf_spot       0.19      0.09      0.12       293\n",
      "                  target_spot       0.19      0.12      0.15       240\n",
      "          tomato_mosaic_virus       0.00      0.00      0.00        54\n",
      "tomato_yellow_leaf_curl_virus       0.80      0.57      0.67       854\n",
      "      two-spotted_spider_mite       0.30      0.34      0.32       280\n",
      "\n",
      "                     accuracy                           0.38      2907\n",
      "                    macro avg       0.30      0.26      0.24      2907\n",
      "                 weighted avg       0.44      0.38      0.36      2907\n",
      "\n",
      "[[320   0   7   1   1   2   8   0   0   6]\n",
      " [ 54  11   7  20   6  12   7   3  16  17]\n",
      " [139   6  37   0  12   8   6   4   2  20]\n",
      " [155  17   7  64   4  10  10   2  22  18]\n",
      " [ 86   2   4   4  18   9   9   2   6   5]\n",
      " [166  16  14   4   8  27  19   6  16  17]\n",
      " [141   2  24   0   3  15  29   0   5  21]\n",
      " [ 42   0   1   0   0   4   2   0   1   4]\n",
      " [101  20  27   6  13  45  33   5 490 114]\n",
      " [ 55   2  32   0   4   8  29   0  54  96]]\n"
     ]
    }
   ],
   "source": [
    "class_names = target.unique()\n",
    "print(classification_report(Ltest, y_pred, target_names=class_names))\n",
    "print(confusion_matrix(Ltest, y_pred))"
   ]
  },
  {
   "cell_type": "markdown",
   "id": "cbf0037b",
   "metadata": {},
   "source": [
    "# Multinomial Naive bayes on blue data"
   ]
  },
  {
   "cell_type": "code",
   "execution_count": 73,
   "id": "050a9f46",
   "metadata": {},
   "outputs": [
    {
     "data": {
      "text/plain": [
       "0.4437564499484004"
      ]
     },
     "execution_count": 73,
     "metadata": {},
     "output_type": "execute_result"
    }
   ],
   "source": [
    "mnb.fit(Ftrain, Ltrain)\n",
    "y_pred = mnb.predict(Ftest)\n",
    "metrics.accuracy_score(Ltest, y_pred)"
   ]
  },
  {
   "cell_type": "code",
   "execution_count": 74,
   "id": "9a916b04",
   "metadata": {},
   "outputs": [
    {
     "name": "stdout",
     "output_type": "stream",
     "text": [
      "                               precision    recall  f1-score   support\n",
      "\n",
      "               bacterial_spot       0.41      0.43      0.42       345\n",
      "                 early_blight       0.10      0.22      0.14       153\n",
      "                      healthy       0.45      0.62      0.52       234\n",
      "                  late_blight       0.59      0.26      0.36       309\n",
      "                    leaf_mold       0.37      0.57      0.45       145\n",
      "           septoria_leaf_spot       0.25      0.06      0.10       293\n",
      "                  target_spot       0.36      0.23      0.28       240\n",
      "          tomato_mosaic_virus       0.11      0.57      0.19        54\n",
      "tomato_yellow_leaf_curl_virus       0.79      0.67      0.72       854\n",
      "      two-spotted_spider_mite       0.40      0.45      0.42       280\n",
      "\n",
      "                     accuracy                           0.44      2907\n",
      "                    macro avg       0.38      0.41      0.36      2907\n",
      "                 weighted avg       0.50      0.44      0.45      2907\n",
      "\n",
      "[[147  76  16   9   7   6  17  11  32  24]\n",
      " [ 23  34  11   6   7   7   7  18  25  15]\n",
      " [  1  12 146  16   4   1  41   5   0   8]\n",
      " [ 25  21  81  81  36   6   8  26  15  10]\n",
      " [  7   1   4   9  82   4   4  16   7  11]\n",
      " [ 33  42   7  10  53  19  12  49  40  28]\n",
      " [ 41  48  37   1   1  10  55  10   8  29]\n",
      " [  1   0   0   2   6   5   0  31   2   7]\n",
      " [ 61  55   6   3  20  15   3  65 569  57]\n",
      " [ 21  39  19   1   3   4   5  40  22 126]]\n"
     ]
    }
   ],
   "source": [
    "class_names = target.unique()\n",
    "print(classification_report(Ltest, y_pred, target_names=class_names))\n",
    "print(confusion_matrix(Ltest, y_pred))"
   ]
  },
  {
   "cell_type": "code",
   "execution_count": 75,
   "id": "195a0b21",
   "metadata": {},
   "outputs": [
    {
     "name": "stdout",
     "output_type": "stream",
     "text": [
      "7078.428338766098\n"
     ]
    }
   ],
   "source": [
    "end_time = time.time()\n",
    "print(end_time - start_time)"
   ]
  }
 ],
 "metadata": {
  "kernelspec": {
   "display_name": "Python 3 (ipykernel)",
   "language": "python",
   "name": "python3"
  },
  "language_info": {
   "codemirror_mode": {
    "name": "ipython",
    "version": 3
   },
   "file_extension": ".py",
   "mimetype": "text/x-python",
   "name": "python",
   "nbconvert_exporter": "python",
   "pygments_lexer": "ipython3",
   "version": "3.9.12"
  }
 },
 "nbformat": 4,
 "nbformat_minor": 5
}
