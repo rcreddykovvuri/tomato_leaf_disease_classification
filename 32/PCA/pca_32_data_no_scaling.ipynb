{
 "cells": [
  {
   "cell_type": "code",
   "execution_count": 1,
   "id": "bcdb1517",
   "metadata": {},
   "outputs": [],
   "source": [
    "import numpy as np #importing numpy\n",
    "import pandas as pd #importing pandas\n",
    "import PIL #importing pillow for image processing\n",
    "from PIL import Image#importing image from pillow library\n",
    "import skimage#importing skimage library\n",
    "import os#importing os library\n",
    "import time#importing time library\n",
    "\n",
    "#Capture start time of the program\n",
    "start_time = time.time()"
   ]
  },
  {
   "cell_type": "markdown",
   "id": "7139bf53",
   "metadata": {},
   "source": [
    "# KNN on rgb data"
   ]
  },
  {
   "cell_type": "code",
   "execution_count": 2,
   "id": "9386938c",
   "metadata": {},
   "outputs": [],
   "source": [
    "os.chdir('D://DKIT//dissertation//Dataset_of_Tomato_Leaves//plantvillage//Preprocessed_data//64//PCA//')\n",
    "features = pd.read_csv('rgb.csv')\n",
    "#changing path\n",
    "os.chdir('D://DKIT//dissertation//Dataset_of_Tomato_Leaves//plantvillage//Preprocessed_data//64//vector//')\n",
    "#reading csv file\n",
    "rgb_df = pd.read_csv('rgb_data.csv')"
   ]
  },
  {
   "cell_type": "code",
   "execution_count": 3,
   "id": "c6d5658c",
   "metadata": {},
   "outputs": [],
   "source": [
    "#assigning features and target\n",
    "target = rgb_df['disease']\n",
    "#splitting the data to 80 percent and 20 percent\n",
    "from sklearn.model_selection import train_test_split\n",
    "Ftrain,Ftest,Ltrain,Ltest=train_test_split(features,target, test_size=0.20, random_state=24)"
   ]
  },
  {
   "cell_type": "code",
   "execution_count": 4,
   "id": "6f1171c6",
   "metadata": {},
   "outputs": [],
   "source": [
    "#K-Model on the data\n",
    "from sklearn.neighbors import KNeighborsClassifier\n",
    "kmodel = KNeighborsClassifier(n_neighbors=120)"
   ]
  },
  {
   "cell_type": "code",
   "execution_count": 5,
   "id": "b9fdc978",
   "metadata": {},
   "outputs": [
    {
     "name": "stdout",
     "output_type": "stream",
     "text": [
      "0.6240110079119368\n"
     ]
    }
   ],
   "source": [
    "#k-model fitting and accuracy\n",
    "kmodel.fit(Ftrain,Ltrain)\n",
    "print(kmodel.score(Ftest,Ltest))"
   ]
  },
  {
   "cell_type": "code",
   "execution_count": 6,
   "id": "1fa0433e",
   "metadata": {},
   "outputs": [],
   "source": [
    "#importing classification report and confusion matrix\n",
    "from sklearn.metrics import classification_report, confusion_matrix"
   ]
  },
  {
   "cell_type": "code",
   "execution_count": 7,
   "id": "c5085d40",
   "metadata": {},
   "outputs": [
    {
     "name": "stdout",
     "output_type": "stream",
     "text": [
      "                               precision    recall  f1-score   support\n",
      "\n",
      "               bacterial_spot       0.54      0.67      0.60       345\n",
      "                 early_blight       1.00      0.05      0.10       153\n",
      "                      healthy       0.55      0.93      0.69       234\n",
      "                  late_blight       0.68      0.38      0.49       309\n",
      "                    leaf_mold       0.63      0.18      0.28       145\n",
      "           septoria_leaf_spot       0.60      0.42      0.49       293\n",
      "                  target_spot       0.49      0.57      0.53       240\n",
      "          tomato_mosaic_virus       0.00      0.00      0.00        54\n",
      "tomato_yellow_leaf_curl_virus       0.77      0.91      0.84       854\n",
      "      two-spotted_spider_mite       0.47      0.63      0.54       280\n",
      "\n",
      "                     accuracy                           0.62      2907\n",
      "                    macro avg       0.57      0.47      0.46      2907\n",
      "                 weighted avg       0.64      0.62      0.59      2907\n",
      "\n",
      "[[231   0  10  13   0   2   7   0  69  13]\n",
      " [ 57   8   1   4   3   9  23   0  25  23]\n",
      " [  3   0 217   5   0   2   5   0   0   2]\n",
      " [ 28   0  47 117   4  30  17   0  36  30]\n",
      " [ 17   0  45   5  26   3  23   0   6  20]\n",
      " [  5   0  33  20   4 122  32   0  42  35]\n",
      " [ 24   0  22   1   1   5 138   0   4  45]\n",
      " [  7   0  14   1   3   8  10   0   0  11]\n",
      " [ 36   0   2   1   0  11   3   0 778  23]\n",
      " [ 19   0   3   4   0  11  22   0  44 177]]\n"
     ]
    },
    {
     "name": "stderr",
     "output_type": "stream",
     "text": [
      "C:\\Users\\ravic\\anaconda3\\lib\\site-packages\\sklearn\\metrics\\_classification.py:1318: UndefinedMetricWarning: Precision and F-score are ill-defined and being set to 0.0 in labels with no predicted samples. Use `zero_division` parameter to control this behavior.\n",
      "  _warn_prf(average, modifier, msg_start, len(result))\n",
      "C:\\Users\\ravic\\anaconda3\\lib\\site-packages\\sklearn\\metrics\\_classification.py:1318: UndefinedMetricWarning: Precision and F-score are ill-defined and being set to 0.0 in labels with no predicted samples. Use `zero_division` parameter to control this behavior.\n",
      "  _warn_prf(average, modifier, msg_start, len(result))\n",
      "C:\\Users\\ravic\\anaconda3\\lib\\site-packages\\sklearn\\metrics\\_classification.py:1318: UndefinedMetricWarning: Precision and F-score are ill-defined and being set to 0.0 in labels with no predicted samples. Use `zero_division` parameter to control this behavior.\n",
      "  _warn_prf(average, modifier, msg_start, len(result))\n"
     ]
    }
   ],
   "source": [
    "#printing results of the kmodel\n",
    "y_predict = kmodel.predict(Ftest)\n",
    "class_names = target.unique()\n",
    "print(classification_report(Ltest, y_predict, target_names=class_names))\n",
    "print(confusion_matrix(Ltest, y_predict))"
   ]
  },
  {
   "cell_type": "markdown",
   "id": "d5c58638",
   "metadata": {},
   "source": [
    "# Logistic on rgb data"
   ]
  },
  {
   "cell_type": "code",
   "execution_count": 8,
   "id": "a84836ef",
   "metadata": {},
   "outputs": [
    {
     "name": "stdout",
     "output_type": "stream",
     "text": [
      "0.2937736498108015\n"
     ]
    }
   ],
   "source": [
    "#importing logistic data\n",
    "from sklearn.linear_model import LogisticRegression\n",
    "model=LogisticRegression(solver='lbfgs', max_iter=10000)\n",
    "model.fit(Ftrain,Ltrain)\n",
    "print(model.score(Ftest,Ltest))"
   ]
  },
  {
   "cell_type": "code",
   "execution_count": 9,
   "id": "bb13d9a1",
   "metadata": {},
   "outputs": [
    {
     "name": "stdout",
     "output_type": "stream",
     "text": [
      "                               precision    recall  f1-score   support\n",
      "\n",
      "               bacterial_spot       0.00      0.00      0.00       345\n",
      "                 early_blight       0.00      0.00      0.00       153\n",
      "                      healthy       0.00      0.00      0.00       234\n",
      "                  late_blight       0.00      0.00      0.00       309\n",
      "                    leaf_mold       0.00      0.00      0.00       145\n",
      "           septoria_leaf_spot       0.00      0.00      0.00       293\n",
      "                  target_spot       0.00      0.00      0.00       240\n",
      "          tomato_mosaic_virus       0.00      0.00      0.00        54\n",
      "tomato_yellow_leaf_curl_virus       0.29      1.00      0.45       854\n",
      "      two-spotted_spider_mite       0.00      0.00      0.00       280\n",
      "\n",
      "                     accuracy                           0.29      2907\n",
      "                    macro avg       0.03      0.10      0.05      2907\n",
      "                 weighted avg       0.09      0.29      0.13      2907\n",
      "\n",
      "[[  0   0   0   0   0   0   0   0 345   0]\n",
      " [  0   0   0   0   0   0   0   0 153   0]\n",
      " [  0   0   0   0   0   0   0   0 234   0]\n",
      " [  0   0   0   0   0   0   0   0 309   0]\n",
      " [  0   0   0   0   0   0   0   0 145   0]\n",
      " [  0   0   0   0   0   0   0   0 293   0]\n",
      " [  0   0   0   0   0   0   0   0 240   0]\n",
      " [  0   0   0   0   0   0   0   0  54   0]\n",
      " [  0   0   0   0   0   0   0   0 854   0]\n",
      " [  0   0   0   0   0   0   0   0 280   0]]\n"
     ]
    },
    {
     "name": "stderr",
     "output_type": "stream",
     "text": [
      "C:\\Users\\ravic\\anaconda3\\lib\\site-packages\\sklearn\\metrics\\_classification.py:1318: UndefinedMetricWarning: Precision and F-score are ill-defined and being set to 0.0 in labels with no predicted samples. Use `zero_division` parameter to control this behavior.\n",
      "  _warn_prf(average, modifier, msg_start, len(result))\n",
      "C:\\Users\\ravic\\anaconda3\\lib\\site-packages\\sklearn\\metrics\\_classification.py:1318: UndefinedMetricWarning: Precision and F-score are ill-defined and being set to 0.0 in labels with no predicted samples. Use `zero_division` parameter to control this behavior.\n",
      "  _warn_prf(average, modifier, msg_start, len(result))\n",
      "C:\\Users\\ravic\\anaconda3\\lib\\site-packages\\sklearn\\metrics\\_classification.py:1318: UndefinedMetricWarning: Precision and F-score are ill-defined and being set to 0.0 in labels with no predicted samples. Use `zero_division` parameter to control this behavior.\n",
      "  _warn_prf(average, modifier, msg_start, len(result))\n"
     ]
    }
   ],
   "source": [
    "#classification report\n",
    "y_predict = model.predict(Ftest)\n",
    "class_names = target.unique()\n",
    "print(classification_report(Ltest, y_predict, target_names=class_names))\n",
    "print(confusion_matrix(Ltest, y_predict))"
   ]
  },
  {
   "cell_type": "markdown",
   "id": "6fe194bc",
   "metadata": {},
   "source": [
    "# SVM on RGB data"
   ]
  },
  {
   "cell_type": "code",
   "execution_count": 10,
   "id": "2427ed51",
   "metadata": {},
   "outputs": [
    {
     "name": "stdout",
     "output_type": "stream",
     "text": [
      "0.2937736498108015\n"
     ]
    }
   ],
   "source": [
    "from sklearn.svm import SVC\n",
    "from sklearn.metrics import accuracy_score\n",
    "\n",
    "clf = SVC(kernel='linear')\n",
    "clf.fit(Ftrain,Ltrain)\n",
    "y_pred = clf.predict(Ftest)\n",
    "print(accuracy_score(Ltest,y_pred))"
   ]
  },
  {
   "cell_type": "code",
   "execution_count": 11,
   "id": "bf286604",
   "metadata": {},
   "outputs": [
    {
     "name": "stdout",
     "output_type": "stream",
     "text": [
      "                               precision    recall  f1-score   support\n",
      "\n",
      "               bacterial_spot       0.00      0.00      0.00       345\n",
      "                 early_blight       0.00      0.00      0.00       153\n",
      "                      healthy       0.00      0.00      0.00       234\n",
      "                  late_blight       0.00      0.00      0.00       309\n",
      "                    leaf_mold       0.00      0.00      0.00       145\n",
      "           septoria_leaf_spot       0.00      0.00      0.00       293\n",
      "                  target_spot       0.00      0.00      0.00       240\n",
      "          tomato_mosaic_virus       0.00      0.00      0.00        54\n",
      "tomato_yellow_leaf_curl_virus       0.29      1.00      0.45       854\n",
      "      two-spotted_spider_mite       0.00      0.00      0.00       280\n",
      "\n",
      "                     accuracy                           0.29      2907\n",
      "                    macro avg       0.03      0.10      0.05      2907\n",
      "                 weighted avg       0.09      0.29      0.13      2907\n",
      "\n",
      "[[  0   0   0   0   0   0   0   0 345   0]\n",
      " [  0   0   0   0   0   0   0   0 153   0]\n",
      " [  0   0   0   0   0   0   0   0 234   0]\n",
      " [  0   0   0   0   0   0   0   0 309   0]\n",
      " [  0   0   0   0   0   0   0   0 145   0]\n",
      " [  0   0   0   0   0   0   0   0 293   0]\n",
      " [  0   0   0   0   0   0   0   0 240   0]\n",
      " [  0   0   0   0   0   0   0   0  54   0]\n",
      " [  0   0   0   0   0   0   0   0 854   0]\n",
      " [  0   0   0   0   0   0   0   0 280   0]]\n"
     ]
    },
    {
     "name": "stderr",
     "output_type": "stream",
     "text": [
      "C:\\Users\\ravic\\anaconda3\\lib\\site-packages\\sklearn\\metrics\\_classification.py:1318: UndefinedMetricWarning: Precision and F-score are ill-defined and being set to 0.0 in labels with no predicted samples. Use `zero_division` parameter to control this behavior.\n",
      "  _warn_prf(average, modifier, msg_start, len(result))\n",
      "C:\\Users\\ravic\\anaconda3\\lib\\site-packages\\sklearn\\metrics\\_classification.py:1318: UndefinedMetricWarning: Precision and F-score are ill-defined and being set to 0.0 in labels with no predicted samples. Use `zero_division` parameter to control this behavior.\n",
      "  _warn_prf(average, modifier, msg_start, len(result))\n",
      "C:\\Users\\ravic\\anaconda3\\lib\\site-packages\\sklearn\\metrics\\_classification.py:1318: UndefinedMetricWarning: Precision and F-score are ill-defined and being set to 0.0 in labels with no predicted samples. Use `zero_division` parameter to control this behavior.\n",
      "  _warn_prf(average, modifier, msg_start, len(result))\n"
     ]
    }
   ],
   "source": [
    "#classification report\n",
    "y_predict = clf.predict(Ftest)\n",
    "class_names = target.unique()\n",
    "print(classification_report(Ltest, y_predict, target_names=class_names))\n",
    "print(confusion_matrix(Ltest, y_predict))"
   ]
  },
  {
   "cell_type": "markdown",
   "id": "73bef6fa",
   "metadata": {},
   "source": [
    "# Random Forest on RGB "
   ]
  },
  {
   "cell_type": "code",
   "execution_count": 12,
   "id": "6bae5a92",
   "metadata": {},
   "outputs": [],
   "source": [
    "from sklearn.ensemble import RandomForestClassifier"
   ]
  },
  {
   "cell_type": "code",
   "execution_count": 13,
   "id": "1d08a15e",
   "metadata": {},
   "outputs": [],
   "source": [
    "classifier_rf = RandomForestClassifier(random_state=42, n_jobs=-1, max_depth=5,n_estimators=100, oob_score=True)"
   ]
  },
  {
   "cell_type": "code",
   "execution_count": 14,
   "id": "938ad007",
   "metadata": {},
   "outputs": [
    {
     "data": {
      "text/plain": [
       "RandomForestClassifier(max_depth=5, n_jobs=-1, oob_score=True, random_state=42)"
      ]
     },
     "execution_count": 14,
     "metadata": {},
     "output_type": "execute_result"
    }
   ],
   "source": [
    "classifier_rf.fit(Ftrain, Ltrain)"
   ]
  },
  {
   "cell_type": "code",
   "execution_count": 15,
   "id": "e1769cec",
   "metadata": {},
   "outputs": [
    {
     "data": {
      "text/plain": [
       "0.5628871300757055"
      ]
     },
     "execution_count": 15,
     "metadata": {},
     "output_type": "execute_result"
    }
   ],
   "source": [
    "classifier_rf.oob_score_"
   ]
  },
  {
   "cell_type": "code",
   "execution_count": 16,
   "id": "13c0682e",
   "metadata": {},
   "outputs": [
    {
     "name": "stdout",
     "output_type": "stream",
     "text": [
      "                               precision    recall  f1-score   support\n",
      "\n",
      "               bacterial_spot       0.50      0.59      0.54       345\n",
      "                 early_blight       0.00      0.00      0.00       153\n",
      "                      healthy       0.43      0.89      0.58       234\n",
      "                  late_blight       0.60      0.16      0.26       309\n",
      "                    leaf_mold       0.76      0.15      0.25       145\n",
      "           septoria_leaf_spot       0.47      0.42      0.44       293\n",
      "                  target_spot       0.45      0.45      0.45       240\n",
      "          tomato_mosaic_virus       0.00      0.00      0.00        54\n",
      "tomato_yellow_leaf_curl_virus       0.70      0.93      0.80       854\n",
      "      two-spotted_spider_mite       0.48      0.46      0.47       280\n",
      "\n",
      "                     accuracy                           0.56      2907\n",
      "                    macro avg       0.44      0.41      0.38      2907\n",
      "                 weighted avg       0.53      0.56      0.51      2907\n",
      "\n",
      "[[205   0  14   9   0   8   6   0  96   7]\n",
      " [ 49   0  11   0   1  11  18   0  38  25]\n",
      " [  3   0 208   3   1   5   9   0   3   2]\n",
      " [ 27   0 109  50   4  41  13   0  50  15]\n",
      " [ 19   0  43   4  22  14  22   0   9  12]\n",
      " [  4   0  36  14   0 122  28   0  65  24]\n",
      " [ 40   0  37   0   1  17 107   0   7  31]\n",
      " [  4   0  14   0   0  11  10   0   2  13]\n",
      " [ 36   0   4   1   0   7   1   0 792  13]\n",
      " [ 22   0  10   2   0  24  26   0  66 130]]\n"
     ]
    },
    {
     "name": "stderr",
     "output_type": "stream",
     "text": [
      "C:\\Users\\ravic\\anaconda3\\lib\\site-packages\\sklearn\\metrics\\_classification.py:1318: UndefinedMetricWarning: Precision and F-score are ill-defined and being set to 0.0 in labels with no predicted samples. Use `zero_division` parameter to control this behavior.\n",
      "  _warn_prf(average, modifier, msg_start, len(result))\n",
      "C:\\Users\\ravic\\anaconda3\\lib\\site-packages\\sklearn\\metrics\\_classification.py:1318: UndefinedMetricWarning: Precision and F-score are ill-defined and being set to 0.0 in labels with no predicted samples. Use `zero_division` parameter to control this behavior.\n",
      "  _warn_prf(average, modifier, msg_start, len(result))\n",
      "C:\\Users\\ravic\\anaconda3\\lib\\site-packages\\sklearn\\metrics\\_classification.py:1318: UndefinedMetricWarning: Precision and F-score are ill-defined and being set to 0.0 in labels with no predicted samples. Use `zero_division` parameter to control this behavior.\n",
      "  _warn_prf(average, modifier, msg_start, len(result))\n"
     ]
    }
   ],
   "source": [
    "y_predict = classifier_rf.predict(Ftest)\n",
    "class_names = target.unique()\n",
    "print(classification_report(Ltest, y_predict, target_names=class_names))\n",
    "print(confusion_matrix(Ltest, y_predict))"
   ]
  },
  {
   "cell_type": "markdown",
   "id": "b6a094e4",
   "metadata": {},
   "source": [
    "# Naive Bayes on RGB data"
   ]
  },
  {
   "cell_type": "code",
   "execution_count": 17,
   "id": "a5bc755b",
   "metadata": {},
   "outputs": [
    {
     "data": {
      "text/plain": [
       "GaussianNB()"
      ]
     },
     "execution_count": 17,
     "metadata": {},
     "output_type": "execute_result"
    }
   ],
   "source": [
    "from sklearn.naive_bayes import GaussianNB\n",
    "gnb = GaussianNB()\n",
    "gnb.fit(Ftrain, Ltrain)"
   ]
  },
  {
   "cell_type": "code",
   "execution_count": 18,
   "id": "6d162dcc",
   "metadata": {},
   "outputs": [],
   "source": [
    "y_pred = gnb.predict(Ftest)"
   ]
  },
  {
   "cell_type": "code",
   "execution_count": 19,
   "id": "8f7b4bab",
   "metadata": {},
   "outputs": [
    {
     "data": {
      "text/plain": [
       "0.5675954592363261"
      ]
     },
     "execution_count": 19,
     "metadata": {},
     "output_type": "execute_result"
    }
   ],
   "source": [
    "from sklearn import metrics\n",
    "metrics.accuracy_score(Ltest, y_pred)"
   ]
  },
  {
   "cell_type": "code",
   "execution_count": 20,
   "id": "935808af",
   "metadata": {},
   "outputs": [
    {
     "name": "stderr",
     "output_type": "stream",
     "text": [
      "C:\\Users\\ravic\\anaconda3\\lib\\site-packages\\sklearn\\metrics\\_classification.py:1318: UndefinedMetricWarning: Precision and F-score are ill-defined and being set to 0.0 in labels with no predicted samples. Use `zero_division` parameter to control this behavior.\n",
      "  _warn_prf(average, modifier, msg_start, len(result))\n",
      "C:\\Users\\ravic\\anaconda3\\lib\\site-packages\\sklearn\\metrics\\_classification.py:1318: UndefinedMetricWarning: Precision and F-score are ill-defined and being set to 0.0 in labels with no predicted samples. Use `zero_division` parameter to control this behavior.\n",
      "  _warn_prf(average, modifier, msg_start, len(result))\n",
      "C:\\Users\\ravic\\anaconda3\\lib\\site-packages\\sklearn\\metrics\\_classification.py:1318: UndefinedMetricWarning: Precision and F-score are ill-defined and being set to 0.0 in labels with no predicted samples. Use `zero_division` parameter to control this behavior.\n",
      "  _warn_prf(average, modifier, msg_start, len(result))\n"
     ]
    },
    {
     "name": "stdout",
     "output_type": "stream",
     "text": [
      "                               precision    recall  f1-score   support\n",
      "\n",
      "               bacterial_spot       0.50      0.68      0.57       345\n",
      "                 early_blight       0.42      0.08      0.14       153\n",
      "                      healthy       0.51      0.79      0.62       234\n",
      "                  late_blight       0.47      0.21      0.29       309\n",
      "                    leaf_mold       0.48      0.21      0.29       145\n",
      "           septoria_leaf_spot       0.51      0.37      0.43       293\n",
      "                  target_spot       0.45      0.61      0.52       240\n",
      "          tomato_mosaic_virus       0.00      0.00      0.00        54\n",
      "tomato_yellow_leaf_curl_virus       0.77      0.83      0.80       854\n",
      "      two-spotted_spider_mite       0.42      0.58      0.48       280\n",
      "\n",
      "                     accuracy                           0.57      2907\n",
      "                    macro avg       0.45      0.44      0.41      2907\n",
      "                 weighted avg       0.55      0.57      0.54      2907\n",
      "\n",
      "[[234   2   7   9   1   6   5   0  61  20]\n",
      " [ 55  13   2   8   4   4  21   0  17  29]\n",
      " [  5   0 184  14   8   2  17   0   2   2]\n",
      " [ 26   3 101  64   8  26  21   0  38  22]\n",
      " [ 22   2  13  11  30  12  35   0   8  12]\n",
      " [  3   1  32  18   6 107  37   0  50  39]\n",
      " [ 22   1   7   5   4   8 147   0   2  44]\n",
      " [  9   0  10   2   0   7  11   0   1  14]\n",
      " [ 71   1   0   4   0  19   4   0 709  46]\n",
      " [ 22   8   2   2   1  19  32   0  32 162]]\n"
     ]
    }
   ],
   "source": [
    "class_names = target.unique()\n",
    "print(classification_report(Ltest, y_pred, target_names=class_names))\n",
    "print(confusion_matrix(Ltest, y_pred))"
   ]
  },
  {
   "cell_type": "markdown",
   "id": "75bb69d9",
   "metadata": {},
   "source": [
    "# Decision Tree on RGB data"
   ]
  },
  {
   "cell_type": "code",
   "execution_count": 21,
   "id": "6a765709",
   "metadata": {},
   "outputs": [],
   "source": [
    "from sklearn.tree import DecisionTreeClassifier\n",
    "classifier_tree = DecisionTreeClassifier()"
   ]
  },
  {
   "cell_type": "code",
   "execution_count": 22,
   "id": "feb5f853",
   "metadata": {},
   "outputs": [
    {
     "data": {
      "text/plain": [
       "0.5273477812177503"
      ]
     },
     "execution_count": 22,
     "metadata": {},
     "output_type": "execute_result"
    }
   ],
   "source": [
    "classifier_tree.fit(Ftrain, Ltrain)\n",
    "classifier_tree.score(Ftest,Ltest)"
   ]
  },
  {
   "cell_type": "code",
   "execution_count": 23,
   "id": "1bdf54ae",
   "metadata": {},
   "outputs": [
    {
     "name": "stdout",
     "output_type": "stream",
     "text": [
      "                               precision    recall  f1-score   support\n",
      "\n",
      "               bacterial_spot       0.52      0.49      0.50       345\n",
      "                 early_blight       0.21      0.22      0.21       153\n",
      "                      healthy       0.64      0.65      0.65       234\n",
      "                  late_blight       0.44      0.45      0.44       309\n",
      "                    leaf_mold       0.30      0.28      0.29       145\n",
      "           septoria_leaf_spot       0.39      0.37      0.38       293\n",
      "                  target_spot       0.37      0.35      0.36       240\n",
      "          tomato_mosaic_virus       0.11      0.15      0.12        54\n",
      "tomato_yellow_leaf_curl_virus       0.78      0.79      0.79       854\n",
      "      two-spotted_spider_mite       0.42      0.42      0.42       280\n",
      "\n",
      "                     accuracy                           0.53      2907\n",
      "                    macro avg       0.42      0.42      0.42      2907\n",
      "                 weighted avg       0.53      0.53      0.53      2907\n",
      "\n",
      "[[170  28   5  22  12   9  13   4  60  22]\n",
      " [ 34  33   2  15   7   9  18   2  17  16]\n",
      " [  3   4 153  27  17  15   7   4   0   4]\n",
      " [ 18  17  25 138   6  40  14   6  29  16]\n",
      " [ 13   9  12  16  41  16  15   9   3  11]\n",
      " [ 17  13  13  35  14 109  21  11  36  24]\n",
      " [ 11  12  18  16  18  25  85  14  10  31]\n",
      " [  2   3   7   2   5   7  10   8   3   7]\n",
      " [ 48  23   0  26   6  34   7   3 678  29]\n",
      " [ 14  12   3  19  10  17  42  14  31 118]]\n"
     ]
    }
   ],
   "source": [
    "y_predict = classifier_tree.predict(Ftest)\n",
    "class_names = target.unique()\n",
    "print(classification_report(Ltest, y_predict, target_names=class_names))\n",
    "print(confusion_matrix(Ltest, y_predict))"
   ]
  },
  {
   "cell_type": "markdown",
   "id": "c9daaaee",
   "metadata": {},
   "source": [
    "# KNN on grayscale data"
   ]
  },
  {
   "cell_type": "code",
   "execution_count": 24,
   "id": "57a9845e",
   "metadata": {},
   "outputs": [],
   "source": [
    "os.chdir('D://DKIT//dissertation//Dataset_of_Tomato_Leaves//plantvillage//Preprocessed_data//64//PCA//')\n",
    "features = pd.read_csv('gray.csv')\n",
    "#changing path\n",
    "os.chdir('D://DKIT//dissertation//Dataset_of_Tomato_Leaves//plantvillage//Preprocessed_data//64//vector//')\n",
    "#reading csv file\n",
    "gray_df = pd.read_csv('gray_data.csv')"
   ]
  },
  {
   "cell_type": "code",
   "execution_count": 25,
   "id": "d3abef95",
   "metadata": {},
   "outputs": [],
   "source": [
    "target = gray_df['disease']"
   ]
  },
  {
   "cell_type": "code",
   "execution_count": 26,
   "id": "ae405bba",
   "metadata": {},
   "outputs": [],
   "source": [
    "#splitting the data into test and train\n",
    "Ftrain,Ftest,Ltrain,Ltest=train_test_split(features,target, test_size=0.20, random_state=24)"
   ]
  },
  {
   "cell_type": "code",
   "execution_count": 27,
   "id": "6f75adfd",
   "metadata": {},
   "outputs": [
    {
     "data": {
      "text/plain": [
       "0.49432404540763675"
      ]
     },
     "execution_count": 27,
     "metadata": {},
     "output_type": "execute_result"
    }
   ],
   "source": [
    "kmodel.fit(Ftrain,Ltrain)\n",
    "kmodel.score(Ftest,Ltest)"
   ]
  },
  {
   "cell_type": "code",
   "execution_count": 28,
   "id": "20df9552",
   "metadata": {},
   "outputs": [
    {
     "name": "stdout",
     "output_type": "stream",
     "text": [
      "                               precision    recall  f1-score   support\n",
      "\n",
      "               bacterial_spot       0.51      0.44      0.47       345\n",
      "                 early_blight       0.50      0.01      0.03       153\n",
      "                      healthy       0.47      0.84      0.61       234\n",
      "                  late_blight       0.62      0.37      0.46       309\n",
      "                    leaf_mold       0.48      0.44      0.46       145\n",
      "           septoria_leaf_spot       0.60      0.36      0.45       293\n",
      "                  target_spot       0.39      0.27      0.32       240\n",
      "          tomato_mosaic_virus       0.00      0.00      0.00        54\n",
      "tomato_yellow_leaf_curl_virus       0.49      0.70      0.58       854\n",
      "      two-spotted_spider_mite       0.45      0.52      0.48       280\n",
      "\n",
      "                     accuracy                           0.49      2907\n",
      "                    macro avg       0.45      0.39      0.38      2907\n",
      "                 weighted avg       0.49      0.49      0.47      2907\n",
      "\n",
      "[[152   1  17  11   2   0   6   0 150   6]\n",
      " [ 21   2   4   4   8   9  15   0  72  18]\n",
      " [  0   0 197   0   1   1   3   0  28   4]\n",
      " [ 15   1  35 113  23  29  12   0  71  10]\n",
      " [  8   0  14   6  64   6   5   0  38   4]\n",
      " [  0   0  40  14  21 105  14   0  75  24]\n",
      " [ 10   0   8   2   3   6  64   0  77  70]\n",
      " [  3   0  12   0   1   3   6   0  20   9]\n",
      " [ 79   0  82  30   8  14  14   0 595  32]\n",
      " [ 12   0   7   2   2   3  26   0  83 145]]\n"
     ]
    },
    {
     "name": "stderr",
     "output_type": "stream",
     "text": [
      "C:\\Users\\ravic\\anaconda3\\lib\\site-packages\\sklearn\\metrics\\_classification.py:1318: UndefinedMetricWarning: Precision and F-score are ill-defined and being set to 0.0 in labels with no predicted samples. Use `zero_division` parameter to control this behavior.\n",
      "  _warn_prf(average, modifier, msg_start, len(result))\n",
      "C:\\Users\\ravic\\anaconda3\\lib\\site-packages\\sklearn\\metrics\\_classification.py:1318: UndefinedMetricWarning: Precision and F-score are ill-defined and being set to 0.0 in labels with no predicted samples. Use `zero_division` parameter to control this behavior.\n",
      "  _warn_prf(average, modifier, msg_start, len(result))\n",
      "C:\\Users\\ravic\\anaconda3\\lib\\site-packages\\sklearn\\metrics\\_classification.py:1318: UndefinedMetricWarning: Precision and F-score are ill-defined and being set to 0.0 in labels with no predicted samples. Use `zero_division` parameter to control this behavior.\n",
      "  _warn_prf(average, modifier, msg_start, len(result))\n"
     ]
    }
   ],
   "source": [
    "y_predict = kmodel.predict(Ftest)\n",
    "class_names = target.unique()\n",
    "print(classification_report(Ltest, y_predict, target_names=class_names))\n",
    "print(confusion_matrix(Ltest, y_predict))"
   ]
  },
  {
   "cell_type": "markdown",
   "id": "197eedfc",
   "metadata": {},
   "source": [
    "# Logistic on grayscale data"
   ]
  },
  {
   "cell_type": "code",
   "execution_count": 29,
   "id": "9fd6cafe",
   "metadata": {},
   "outputs": [
    {
     "data": {
      "text/plain": [
       "0.2937736498108015"
      ]
     },
     "execution_count": 29,
     "metadata": {},
     "output_type": "execute_result"
    }
   ],
   "source": [
    "from sklearn.linear_model import LogisticRegression\n",
    "model=LogisticRegression(solver='lbfgs', max_iter=10000)\n",
    "model.fit(Ftrain,Ltrain)\n",
    "model.score(Ftest,Ltest)"
   ]
  },
  {
   "cell_type": "code",
   "execution_count": 30,
   "id": "834920c5",
   "metadata": {},
   "outputs": [
    {
     "name": "stdout",
     "output_type": "stream",
     "text": [
      "                               precision    recall  f1-score   support\n",
      "\n",
      "               bacterial_spot       0.00      0.00      0.00       345\n",
      "                 early_blight       0.00      0.00      0.00       153\n",
      "                      healthy       0.00      0.00      0.00       234\n",
      "                  late_blight       0.00      0.00      0.00       309\n",
      "                    leaf_mold       0.00      0.00      0.00       145\n",
      "           septoria_leaf_spot       0.00      0.00      0.00       293\n",
      "                  target_spot       0.00      0.00      0.00       240\n",
      "          tomato_mosaic_virus       0.00      0.00      0.00        54\n",
      "tomato_yellow_leaf_curl_virus       0.29      1.00      0.45       854\n",
      "      two-spotted_spider_mite       0.00      0.00      0.00       280\n",
      "\n",
      "                     accuracy                           0.29      2907\n",
      "                    macro avg       0.03      0.10      0.05      2907\n",
      "                 weighted avg       0.09      0.29      0.13      2907\n",
      "\n",
      "[[  0   0   0   0   0   0   0   0 345   0]\n",
      " [  0   0   0   0   0   0   0   0 153   0]\n",
      " [  0   0   0   0   0   0   0   0 234   0]\n",
      " [  0   0   0   0   0   0   0   0 309   0]\n",
      " [  0   0   0   0   0   0   0   0 145   0]\n",
      " [  0   0   0   0   0   0   0   0 293   0]\n",
      " [  0   0   0   0   0   0   0   0 240   0]\n",
      " [  0   0   0   0   0   0   0   0  54   0]\n",
      " [  0   0   0   0   0   0   0   0 854   0]\n",
      " [  0   0   0   0   0   0   0   0 280   0]]\n"
     ]
    },
    {
     "name": "stderr",
     "output_type": "stream",
     "text": [
      "C:\\Users\\ravic\\anaconda3\\lib\\site-packages\\sklearn\\metrics\\_classification.py:1318: UndefinedMetricWarning: Precision and F-score are ill-defined and being set to 0.0 in labels with no predicted samples. Use `zero_division` parameter to control this behavior.\n",
      "  _warn_prf(average, modifier, msg_start, len(result))\n",
      "C:\\Users\\ravic\\anaconda3\\lib\\site-packages\\sklearn\\metrics\\_classification.py:1318: UndefinedMetricWarning: Precision and F-score are ill-defined and being set to 0.0 in labels with no predicted samples. Use `zero_division` parameter to control this behavior.\n",
      "  _warn_prf(average, modifier, msg_start, len(result))\n",
      "C:\\Users\\ravic\\anaconda3\\lib\\site-packages\\sklearn\\metrics\\_classification.py:1318: UndefinedMetricWarning: Precision and F-score are ill-defined and being set to 0.0 in labels with no predicted samples. Use `zero_division` parameter to control this behavior.\n",
      "  _warn_prf(average, modifier, msg_start, len(result))\n"
     ]
    }
   ],
   "source": [
    "y_predict = model.predict(Ftest)\n",
    "class_names = target.unique()\n",
    "print(classification_report(Ltest, y_predict, target_names=class_names))\n",
    "print(confusion_matrix(Ltest, y_predict))"
   ]
  },
  {
   "cell_type": "markdown",
   "id": "5284f869",
   "metadata": {},
   "source": [
    "# SVM on Grayscale data"
   ]
  },
  {
   "cell_type": "code",
   "execution_count": 31,
   "id": "d0db5c80",
   "metadata": {},
   "outputs": [
    {
     "name": "stdout",
     "output_type": "stream",
     "text": [
      "0.2937736498108015\n"
     ]
    }
   ],
   "source": [
    "clf.fit(Ftrain,Ltrain)\n",
    "y_pred = clf.predict(Ftest)\n",
    "print(accuracy_score(Ltest,y_pred))"
   ]
  },
  {
   "cell_type": "code",
   "execution_count": 32,
   "id": "05d3b675",
   "metadata": {},
   "outputs": [
    {
     "name": "stdout",
     "output_type": "stream",
     "text": [
      "                               precision    recall  f1-score   support\n",
      "\n",
      "               bacterial_spot       0.00      0.00      0.00       345\n",
      "                 early_blight       0.00      0.00      0.00       153\n",
      "                      healthy       0.00      0.00      0.00       234\n",
      "                  late_blight       0.00      0.00      0.00       309\n",
      "                    leaf_mold       0.00      0.00      0.00       145\n",
      "           septoria_leaf_spot       0.00      0.00      0.00       293\n",
      "                  target_spot       0.00      0.00      0.00       240\n",
      "          tomato_mosaic_virus       0.00      0.00      0.00        54\n",
      "tomato_yellow_leaf_curl_virus       0.29      1.00      0.45       854\n",
      "      two-spotted_spider_mite       0.00      0.00      0.00       280\n",
      "\n",
      "                     accuracy                           0.29      2907\n",
      "                    macro avg       0.03      0.10      0.05      2907\n",
      "                 weighted avg       0.09      0.29      0.13      2907\n",
      "\n",
      "[[  0   0   0   0   0   0   0   0 345   0]\n",
      " [  0   0   0   0   0   0   0   0 153   0]\n",
      " [  0   0   0   0   0   0   0   0 234   0]\n",
      " [  0   0   0   0   0   0   0   0 309   0]\n",
      " [  0   0   0   0   0   0   0   0 145   0]\n",
      " [  0   0   0   0   0   0   0   0 293   0]\n",
      " [  0   0   0   0   0   0   0   0 240   0]\n",
      " [  0   0   0   0   0   0   0   0  54   0]\n",
      " [  0   0   0   0   0   0   0   0 854   0]\n",
      " [  0   0   0   0   0   0   0   0 280   0]]\n"
     ]
    },
    {
     "name": "stderr",
     "output_type": "stream",
     "text": [
      "C:\\Users\\ravic\\anaconda3\\lib\\site-packages\\sklearn\\metrics\\_classification.py:1318: UndefinedMetricWarning: Precision and F-score are ill-defined and being set to 0.0 in labels with no predicted samples. Use `zero_division` parameter to control this behavior.\n",
      "  _warn_prf(average, modifier, msg_start, len(result))\n",
      "C:\\Users\\ravic\\anaconda3\\lib\\site-packages\\sklearn\\metrics\\_classification.py:1318: UndefinedMetricWarning: Precision and F-score are ill-defined and being set to 0.0 in labels with no predicted samples. Use `zero_division` parameter to control this behavior.\n",
      "  _warn_prf(average, modifier, msg_start, len(result))\n",
      "C:\\Users\\ravic\\anaconda3\\lib\\site-packages\\sklearn\\metrics\\_classification.py:1318: UndefinedMetricWarning: Precision and F-score are ill-defined and being set to 0.0 in labels with no predicted samples. Use `zero_division` parameter to control this behavior.\n",
      "  _warn_prf(average, modifier, msg_start, len(result))\n"
     ]
    }
   ],
   "source": [
    "y_predict = clf.predict(Ftest)\n",
    "class_names = target.unique()\n",
    "print(classification_report(Ltest, y_predict, target_names=class_names))\n",
    "print(confusion_matrix(Ltest, y_predict))"
   ]
  },
  {
   "cell_type": "markdown",
   "id": "576fd580",
   "metadata": {},
   "source": [
    "# Random Forest on Grayscale"
   ]
  },
  {
   "cell_type": "code",
   "execution_count": 33,
   "id": "9dfa979e",
   "metadata": {},
   "outputs": [
    {
     "data": {
      "text/plain": [
       "RandomForestClassifier(max_depth=5, n_jobs=-1, oob_score=True, random_state=42)"
      ]
     },
     "execution_count": 33,
     "metadata": {},
     "output_type": "execute_result"
    }
   ],
   "source": [
    "classifier_rf.fit(Ftrain, Ltrain)"
   ]
  },
  {
   "cell_type": "code",
   "execution_count": 34,
   "id": "2b4347ef",
   "metadata": {},
   "outputs": [
    {
     "data": {
      "text/plain": [
       "0.4212835512732278"
      ]
     },
     "execution_count": 34,
     "metadata": {},
     "output_type": "execute_result"
    }
   ],
   "source": [
    "classifier_rf.oob_score_"
   ]
  },
  {
   "cell_type": "code",
   "execution_count": 35,
   "id": "8b7d285d",
   "metadata": {},
   "outputs": [
    {
     "name": "stdout",
     "output_type": "stream",
     "text": [
      "                               precision    recall  f1-score   support\n",
      "\n",
      "               bacterial_spot       0.49      0.42      0.45       345\n",
      "                 early_blight       0.00      0.00      0.00       153\n",
      "                      healthy       0.63      0.29      0.40       234\n",
      "                  late_blight       0.74      0.18      0.29       309\n",
      "                    leaf_mold       0.42      0.40      0.41       145\n",
      "           septoria_leaf_spot       0.58      0.35      0.44       293\n",
      "                  target_spot       0.36      0.03      0.06       240\n",
      "          tomato_mosaic_virus       0.00      0.00      0.00        54\n",
      "tomato_yellow_leaf_curl_virus       0.38      0.80      0.52       854\n",
      "      two-spotted_spider_mite       0.37      0.41      0.39       280\n",
      "\n",
      "                     accuracy                           0.42      2907\n",
      "                    macro avg       0.40      0.29      0.30      2907\n",
      "                 weighted avg       0.44      0.42      0.38      2907\n",
      "\n",
      "[[144   0   4   1   8   1   2   0 183   2]\n",
      " [ 20   0   0  10   7   5   2   0  91  18]\n",
      " [  0   0  69   0   7   0   0   0 153   5]\n",
      " [  9   1  14  56  17  26   1   0 168  17]\n",
      " [  6   0   0   3  58   5   1   0  66   6]\n",
      " [  0   0   9   2  17 103   2   0 137  23]\n",
      " [  7   0   0   0   7  11   8   0 122  85]\n",
      " [  1   0   0   0   1   2   2   0  39   9]\n",
      " [ 92   0  14   1  13  19   2   0 683  30]\n",
      " [ 16   0   0   3   3   5   2   0 137 114]]\n"
     ]
    },
    {
     "name": "stderr",
     "output_type": "stream",
     "text": [
      "C:\\Users\\ravic\\anaconda3\\lib\\site-packages\\sklearn\\metrics\\_classification.py:1318: UndefinedMetricWarning: Precision and F-score are ill-defined and being set to 0.0 in labels with no predicted samples. Use `zero_division` parameter to control this behavior.\n",
      "  _warn_prf(average, modifier, msg_start, len(result))\n",
      "C:\\Users\\ravic\\anaconda3\\lib\\site-packages\\sklearn\\metrics\\_classification.py:1318: UndefinedMetricWarning: Precision and F-score are ill-defined and being set to 0.0 in labels with no predicted samples. Use `zero_division` parameter to control this behavior.\n",
      "  _warn_prf(average, modifier, msg_start, len(result))\n",
      "C:\\Users\\ravic\\anaconda3\\lib\\site-packages\\sklearn\\metrics\\_classification.py:1318: UndefinedMetricWarning: Precision and F-score are ill-defined and being set to 0.0 in labels with no predicted samples. Use `zero_division` parameter to control this behavior.\n",
      "  _warn_prf(average, modifier, msg_start, len(result))\n"
     ]
    }
   ],
   "source": [
    "y_predict = classifier_rf.predict(Ftest)\n",
    "class_names = target.unique()\n",
    "print(classification_report(Ltest, y_predict, target_names=class_names))\n",
    "print(confusion_matrix(Ltest, y_predict))"
   ]
  },
  {
   "cell_type": "markdown",
   "id": "8befce61",
   "metadata": {},
   "source": [
    "# Naive bayes on Grayscale"
   ]
  },
  {
   "cell_type": "code",
   "execution_count": 36,
   "id": "0d1a6d3b",
   "metadata": {},
   "outputs": [
    {
     "data": {
      "text/plain": [
       "GaussianNB()"
      ]
     },
     "execution_count": 36,
     "metadata": {},
     "output_type": "execute_result"
    }
   ],
   "source": [
    "gnb.fit(Ftrain, Ltrain)"
   ]
  },
  {
   "cell_type": "code",
   "execution_count": 37,
   "id": "053c9a09",
   "metadata": {},
   "outputs": [
    {
     "data": {
      "text/plain": [
       "0.391812865497076"
      ]
     },
     "execution_count": 37,
     "metadata": {},
     "output_type": "execute_result"
    }
   ],
   "source": [
    "y_pred = gnb.predict(Ftest)\n",
    "metrics.accuracy_score(Ltest, y_pred)"
   ]
  },
  {
   "cell_type": "code",
   "execution_count": 38,
   "id": "0e53ae2c",
   "metadata": {},
   "outputs": [
    {
     "name": "stderr",
     "output_type": "stream",
     "text": [
      "C:\\Users\\ravic\\anaconda3\\lib\\site-packages\\sklearn\\metrics\\_classification.py:1318: UndefinedMetricWarning: Precision and F-score are ill-defined and being set to 0.0 in labels with no predicted samples. Use `zero_division` parameter to control this behavior.\n",
      "  _warn_prf(average, modifier, msg_start, len(result))\n",
      "C:\\Users\\ravic\\anaconda3\\lib\\site-packages\\sklearn\\metrics\\_classification.py:1318: UndefinedMetricWarning: Precision and F-score are ill-defined and being set to 0.0 in labels with no predicted samples. Use `zero_division` parameter to control this behavior.\n",
      "  _warn_prf(average, modifier, msg_start, len(result))\n",
      "C:\\Users\\ravic\\anaconda3\\lib\\site-packages\\sklearn\\metrics\\_classification.py:1318: UndefinedMetricWarning: Precision and F-score are ill-defined and being set to 0.0 in labels with no predicted samples. Use `zero_division` parameter to control this behavior.\n",
      "  _warn_prf(average, modifier, msg_start, len(result))\n"
     ]
    },
    {
     "name": "stdout",
     "output_type": "stream",
     "text": [
      "                               precision    recall  f1-score   support\n",
      "\n",
      "               bacterial_spot       0.47      0.34      0.40       345\n",
      "                 early_blight       0.20      0.12      0.15       153\n",
      "                      healthy       0.31      0.52      0.39       234\n",
      "                  late_blight       0.47      0.19      0.27       309\n",
      "                    leaf_mold       0.46      0.38      0.42       145\n",
      "           septoria_leaf_spot       0.60      0.35      0.44       293\n",
      "                  target_spot       0.35      0.23      0.27       240\n",
      "          tomato_mosaic_virus       0.00      0.00      0.00        54\n",
      "tomato_yellow_leaf_curl_virus       0.39      0.65      0.49       854\n",
      "      two-spotted_spider_mite       0.29      0.18      0.23       280\n",
      "\n",
      "                     accuracy                           0.39      2907\n",
      "                    macro avg       0.35      0.30      0.31      2907\n",
      "                 weighted avg       0.40      0.39      0.37      2907\n",
      "\n",
      "[[119   5  21   4   0   1   6   0 182   7]\n",
      " [ 19  18   1   9   6   3  18   0  65  14]\n",
      " [  0   0 121   8   3   4   1   0  97   0]\n",
      " [  8  31  85  60  24  18   6   0  69   8]\n",
      " [  8   5   5   6  55   7   0   0  57   2]\n",
      " [  1   5  45  12  16 102  10   0  93   9]\n",
      " [  6   3   1   6   6   7  54   0 120  37]\n",
      " [  2   0   4   0   1   4   5   0  34   4]\n",
      " [ 82  18  99  22   6  19   8   0 559  41]\n",
      " [ 10   6   4   2   2   6  46   0 153  51]]\n"
     ]
    }
   ],
   "source": [
    "class_names = target.unique()\n",
    "print(classification_report(Ltest, y_pred, target_names=class_names))\n",
    "print(confusion_matrix(Ltest, y_pred))"
   ]
  },
  {
   "cell_type": "markdown",
   "id": "af8a8fca",
   "metadata": {},
   "source": [
    "# Decision Tree on Grayscale"
   ]
  },
  {
   "cell_type": "code",
   "execution_count": 39,
   "id": "4d1eb3ec",
   "metadata": {},
   "outputs": [
    {
     "data": {
      "text/plain": [
       "0.37702098383212934"
      ]
     },
     "execution_count": 39,
     "metadata": {},
     "output_type": "execute_result"
    }
   ],
   "source": [
    "classifier_tree.fit(Ftrain, Ltrain)\n",
    "classifier_tree.score(Ftest,Ltest)"
   ]
  },
  {
   "cell_type": "code",
   "execution_count": 40,
   "id": "5e93e78c",
   "metadata": {},
   "outputs": [
    {
     "name": "stdout",
     "output_type": "stream",
     "text": [
      "                               precision    recall  f1-score   support\n",
      "\n",
      "               bacterial_spot       0.38      0.40      0.39       345\n",
      "                 early_blight       0.16      0.18      0.17       153\n",
      "                      healthy       0.50      0.50      0.50       234\n",
      "                  late_blight       0.40      0.40      0.40       309\n",
      "                    leaf_mold       0.29      0.30      0.30       145\n",
      "           septoria_leaf_spot       0.33      0.30      0.31       293\n",
      "                  target_spot       0.29      0.28      0.29       240\n",
      "          tomato_mosaic_virus       0.05      0.07      0.06        54\n",
      "tomato_yellow_leaf_curl_virus       0.47      0.45      0.46       854\n",
      "      two-spotted_spider_mite       0.37      0.37      0.37       280\n",
      "\n",
      "                     accuracy                           0.38      2907\n",
      "                    macro avg       0.32      0.33      0.32      2907\n",
      "                 weighted avg       0.38      0.38      0.38      2907\n",
      "\n",
      "[[137  21  10  15   5  12  16   4 113  12]\n",
      " [ 22  28   0  21  12   8  14   0  30  18]\n",
      " [ 16   3 118  17  12  16  13   4  30   5]\n",
      " [ 16  22  18 123  14  26   7   7  58  18]\n",
      " [ 12  13   5  14  44  14   9   1  23  10]\n",
      " [ 11  12  18  46  20  87  16  10  62  11]\n",
      " [ 17  17   8  12   7  11  68  10  51  39]\n",
      " [  4   4   4   3   4   7   7   4  12   5]\n",
      " [112  44  52  48  28  65  42  22 384  57]\n",
      " [ 14  12   5   9   4  19  45  12  57 103]]\n"
     ]
    }
   ],
   "source": [
    "y_predict = classifier_tree.predict(Ftest)\n",
    "class_names = target.unique()\n",
    "print(classification_report(Ltest, y_predict, target_names=class_names))\n",
    "print(confusion_matrix(Ltest, y_predict))"
   ]
  },
  {
   "cell_type": "markdown",
   "id": "e42f549f",
   "metadata": {},
   "source": [
    "# KNN on Red channel data"
   ]
  },
  {
   "cell_type": "code",
   "execution_count": 41,
   "id": "cb75cbbd",
   "metadata": {},
   "outputs": [],
   "source": [
    "os.chdir('D://DKIT//dissertation//Dataset_of_Tomato_Leaves//plantvillage//Preprocessed_data//32//PCA//')\n",
    "features = pd.read_csv('red.csv')\n",
    "#changing path\n",
    "os.chdir('D://DKIT//dissertation//Dataset_of_Tomato_Leaves//plantvillage//Preprocessed_data//32//vector//')\n",
    "#reading csv file\n",
    "red_df = pd.read_csv('red_data.csv')\n",
    "target = red_df['disease']"
   ]
  },
  {
   "cell_type": "code",
   "execution_count": 42,
   "id": "7eb31dcc",
   "metadata": {},
   "outputs": [],
   "source": [
    "#splitting the data into test and train\n",
    "Ftrain,Ftest,Ltrain,Ltest=train_test_split(features,target, test_size=0.20, random_state=24)"
   ]
  },
  {
   "cell_type": "code",
   "execution_count": 43,
   "id": "683839f2",
   "metadata": {},
   "outputs": [
    {
     "data": {
      "text/plain": [
       "0.4984520123839009"
      ]
     },
     "execution_count": 43,
     "metadata": {},
     "output_type": "execute_result"
    }
   ],
   "source": [
    "kmodel.fit(Ftrain,Ltrain)\n",
    "kmodel.score(Ftest,Ltest)"
   ]
  },
  {
   "cell_type": "code",
   "execution_count": 44,
   "id": "a5863749",
   "metadata": {},
   "outputs": [
    {
     "name": "stdout",
     "output_type": "stream",
     "text": [
      "                               precision    recall  f1-score   support\n",
      "\n",
      "               bacterial_spot       0.54      0.53      0.54       345\n",
      "                 early_blight       0.00      0.00      0.00       153\n",
      "                      healthy       0.47      0.84      0.60       234\n",
      "                  late_blight       0.61      0.35      0.44       309\n",
      "                    leaf_mold       0.44      0.38      0.41       145\n",
      "           septoria_leaf_spot       0.53      0.30      0.38       293\n",
      "                  target_spot       0.42      0.26      0.32       240\n",
      "          tomato_mosaic_virus       1.00      0.02      0.04        54\n",
      "tomato_yellow_leaf_curl_virus       0.50      0.68      0.58       854\n",
      "      two-spotted_spider_mite       0.47      0.63      0.54       280\n",
      "\n",
      "                     accuracy                           0.50      2907\n",
      "                    macro avg       0.50      0.40      0.38      2907\n",
      "                 weighted avg       0.49      0.50      0.47      2907\n",
      "\n",
      "[[184   0  20  14   1   0   5   0 119   2]\n",
      " [ 31   0   6   5   7  11  13   0  65  15]\n",
      " [  0   0 197   0   1   1   1   0  31   3]\n",
      " [ 12   2  38 107  22  27  15   0  77   9]\n",
      " [  9   0  18   8  55   7   2   0  40   6]\n",
      " [  2   0  33  15  23  88  19   0  80  33]\n",
      " [  8   0   9   2   3   7  63   0  79  69]\n",
      " [  1   0   7   0   1   7   3   1  20  14]\n",
      " [ 86   0  90  23   9  14  10   0 578  44]\n",
      " [  7   0   4   1   2   5  19   0  66 176]]\n"
     ]
    }
   ],
   "source": [
    "y_predict = kmodel.predict(Ftest)\n",
    "class_names = target.unique()\n",
    "print(classification_report(Ltest, y_predict, target_names=class_names))\n",
    "print(confusion_matrix(Ltest, y_predict))"
   ]
  },
  {
   "cell_type": "markdown",
   "id": "ffcda594",
   "metadata": {},
   "source": [
    "# Logistic on Red channel data"
   ]
  },
  {
   "cell_type": "code",
   "execution_count": 45,
   "id": "1ed4037b",
   "metadata": {},
   "outputs": [
    {
     "data": {
      "text/plain": [
       "0.2937736498108015"
      ]
     },
     "execution_count": 45,
     "metadata": {},
     "output_type": "execute_result"
    }
   ],
   "source": [
    "model.fit(Ftrain,Ltrain)\n",
    "model.score(Ftest,Ltest)"
   ]
  },
  {
   "cell_type": "code",
   "execution_count": 46,
   "id": "19a14de1",
   "metadata": {},
   "outputs": [
    {
     "name": "stdout",
     "output_type": "stream",
     "text": [
      "                               precision    recall  f1-score   support\n",
      "\n",
      "               bacterial_spot       0.00      0.00      0.00       345\n",
      "                 early_blight       0.00      0.00      0.00       153\n",
      "                      healthy       0.00      0.00      0.00       234\n",
      "                  late_blight       0.00      0.00      0.00       309\n",
      "                    leaf_mold       0.00      0.00      0.00       145\n",
      "           septoria_leaf_spot       0.00      0.00      0.00       293\n",
      "                  target_spot       0.00      0.00      0.00       240\n",
      "          tomato_mosaic_virus       0.00      0.00      0.00        54\n",
      "tomato_yellow_leaf_curl_virus       0.29      1.00      0.45       854\n",
      "      two-spotted_spider_mite       0.00      0.00      0.00       280\n",
      "\n",
      "                     accuracy                           0.29      2907\n",
      "                    macro avg       0.03      0.10      0.05      2907\n",
      "                 weighted avg       0.09      0.29      0.13      2907\n",
      "\n",
      "[[  0   0   0   0   0   0   0   0 345   0]\n",
      " [  0   0   0   0   0   0   0   0 153   0]\n",
      " [  0   0   0   0   0   0   0   0 234   0]\n",
      " [  0   0   0   0   0   0   0   0 309   0]\n",
      " [  0   0   0   0   0   0   0   0 145   0]\n",
      " [  0   0   0   0   0   0   0   0 293   0]\n",
      " [  0   0   0   0   0   0   0   0 240   0]\n",
      " [  0   0   0   0   0   0   0   0  54   0]\n",
      " [  0   0   0   0   0   0   0   0 854   0]\n",
      " [  0   0   0   0   0   0   0   0 280   0]]\n"
     ]
    },
    {
     "name": "stderr",
     "output_type": "stream",
     "text": [
      "C:\\Users\\ravic\\anaconda3\\lib\\site-packages\\sklearn\\metrics\\_classification.py:1318: UndefinedMetricWarning: Precision and F-score are ill-defined and being set to 0.0 in labels with no predicted samples. Use `zero_division` parameter to control this behavior.\n",
      "  _warn_prf(average, modifier, msg_start, len(result))\n",
      "C:\\Users\\ravic\\anaconda3\\lib\\site-packages\\sklearn\\metrics\\_classification.py:1318: UndefinedMetricWarning: Precision and F-score are ill-defined and being set to 0.0 in labels with no predicted samples. Use `zero_division` parameter to control this behavior.\n",
      "  _warn_prf(average, modifier, msg_start, len(result))\n",
      "C:\\Users\\ravic\\anaconda3\\lib\\site-packages\\sklearn\\metrics\\_classification.py:1318: UndefinedMetricWarning: Precision and F-score are ill-defined and being set to 0.0 in labels with no predicted samples. Use `zero_division` parameter to control this behavior.\n",
      "  _warn_prf(average, modifier, msg_start, len(result))\n"
     ]
    }
   ],
   "source": [
    "y_predict = model.predict(Ftest)\n",
    "class_names = target.unique()\n",
    "print(classification_report(Ltest, y_predict, target_names=class_names))\n",
    "print(confusion_matrix(Ltest, y_predict))"
   ]
  },
  {
   "cell_type": "markdown",
   "id": "dba6d5ce",
   "metadata": {},
   "source": [
    "# SVM on Red channel data"
   ]
  },
  {
   "cell_type": "code",
   "execution_count": 47,
   "id": "6ed153f7",
   "metadata": {},
   "outputs": [
    {
     "name": "stdout",
     "output_type": "stream",
     "text": [
      "0.2937736498108015\n"
     ]
    }
   ],
   "source": [
    "clf.fit(Ftrain,Ltrain)\n",
    "y_pred = clf.predict(Ftest)\n",
    "print(accuracy_score(Ltest,y_pred))"
   ]
  },
  {
   "cell_type": "code",
   "execution_count": 48,
   "id": "369f8272",
   "metadata": {},
   "outputs": [
    {
     "name": "stdout",
     "output_type": "stream",
     "text": [
      "                               precision    recall  f1-score   support\n",
      "\n",
      "               bacterial_spot       0.00      0.00      0.00       345\n",
      "                 early_blight       0.00      0.00      0.00       153\n",
      "                      healthy       0.00      0.00      0.00       234\n",
      "                  late_blight       0.00      0.00      0.00       309\n",
      "                    leaf_mold       0.00      0.00      0.00       145\n",
      "           septoria_leaf_spot       0.00      0.00      0.00       293\n",
      "                  target_spot       0.00      0.00      0.00       240\n",
      "          tomato_mosaic_virus       0.00      0.00      0.00        54\n",
      "tomato_yellow_leaf_curl_virus       0.29      1.00      0.45       854\n",
      "      two-spotted_spider_mite       0.00      0.00      0.00       280\n",
      "\n",
      "                     accuracy                           0.29      2907\n",
      "                    macro avg       0.03      0.10      0.05      2907\n",
      "                 weighted avg       0.09      0.29      0.13      2907\n",
      "\n",
      "[[  0   0   0   0   0   0   0   0 345   0]\n",
      " [  0   0   0   0   0   0   0   0 153   0]\n",
      " [  0   0   0   0   0   0   0   0 234   0]\n",
      " [  0   0   0   0   0   0   0   0 309   0]\n",
      " [  0   0   0   0   0   0   0   0 145   0]\n",
      " [  0   0   0   0   0   0   0   0 293   0]\n",
      " [  0   0   0   0   0   0   0   0 240   0]\n",
      " [  0   0   0   0   0   0   0   0  54   0]\n",
      " [  0   0   0   0   0   0   0   0 854   0]\n",
      " [  0   0   0   0   0   0   0   0 280   0]]\n"
     ]
    },
    {
     "name": "stderr",
     "output_type": "stream",
     "text": [
      "C:\\Users\\ravic\\anaconda3\\lib\\site-packages\\sklearn\\metrics\\_classification.py:1318: UndefinedMetricWarning: Precision and F-score are ill-defined and being set to 0.0 in labels with no predicted samples. Use `zero_division` parameter to control this behavior.\n",
      "  _warn_prf(average, modifier, msg_start, len(result))\n",
      "C:\\Users\\ravic\\anaconda3\\lib\\site-packages\\sklearn\\metrics\\_classification.py:1318: UndefinedMetricWarning: Precision and F-score are ill-defined and being set to 0.0 in labels with no predicted samples. Use `zero_division` parameter to control this behavior.\n",
      "  _warn_prf(average, modifier, msg_start, len(result))\n",
      "C:\\Users\\ravic\\anaconda3\\lib\\site-packages\\sklearn\\metrics\\_classification.py:1318: UndefinedMetricWarning: Precision and F-score are ill-defined and being set to 0.0 in labels with no predicted samples. Use `zero_division` parameter to control this behavior.\n",
      "  _warn_prf(average, modifier, msg_start, len(result))\n"
     ]
    }
   ],
   "source": [
    "y_predict = clf.predict(Ftest)\n",
    "class_names = target.unique()\n",
    "print(classification_report(Ltest, y_predict, target_names=class_names))\n",
    "print(confusion_matrix(Ltest, y_predict))"
   ]
  },
  {
   "cell_type": "markdown",
   "id": "a670c4d4",
   "metadata": {},
   "source": [
    "# Random forest on Red channel data"
   ]
  },
  {
   "cell_type": "code",
   "execution_count": 49,
   "id": "9e816e9e",
   "metadata": {},
   "outputs": [
    {
     "data": {
      "text/plain": [
       "0.4185306262904336"
      ]
     },
     "execution_count": 49,
     "metadata": {},
     "output_type": "execute_result"
    }
   ],
   "source": [
    "classifier_rf.fit(Ftrain, Ltrain)\n",
    "classifier_rf.oob_score_"
   ]
  },
  {
   "cell_type": "code",
   "execution_count": 50,
   "id": "e404f49d",
   "metadata": {},
   "outputs": [
    {
     "name": "stdout",
     "output_type": "stream",
     "text": [
      "                               precision    recall  f1-score   support\n",
      "\n",
      "               bacterial_spot       0.58      0.47      0.52       345\n",
      "                 early_blight       0.00      0.00      0.00       153\n",
      "                      healthy       0.40      0.02      0.03       234\n",
      "                  late_blight       0.76      0.16      0.26       309\n",
      "                    leaf_mold       0.43      0.39      0.41       145\n",
      "           septoria_leaf_spot       0.49      0.31      0.38       293\n",
      "                  target_spot       0.10      0.00      0.01       240\n",
      "          tomato_mosaic_virus       0.00      0.00      0.00        54\n",
      "tomato_yellow_leaf_curl_virus       0.38      0.81      0.52       854\n",
      "      two-spotted_spider_mite       0.36      0.54      0.43       280\n",
      "\n",
      "                     accuracy                           0.42      2907\n",
      "                    macro avg       0.35      0.27      0.26      2907\n",
      "                 weighted avg       0.41      0.42      0.35      2907\n",
      "\n",
      "[[161   0   2   0   4   3   0   0 173   2]\n",
      " [ 22   0   0   6   7   8   0   0  87  23]\n",
      " [  0   0   4   0   2   1   0   0 224   3]\n",
      " [  2   0   3  48  25  27   1   0 184  19]\n",
      " [  3   0   0   3  57   9   1   0  70   2]\n",
      " [  2   0   0   1  17  92   2   0 128  51]\n",
      " [  7   0   0   1   5   9   1   0 116 101]\n",
      " [  1   0   0   0   2   3   1   0  27  20]\n",
      " [ 76   0   1   2  13  25   2   0 695  40]\n",
      " [  5   0   0   2   2  10   2   0 109 150]]\n"
     ]
    },
    {
     "name": "stderr",
     "output_type": "stream",
     "text": [
      "C:\\Users\\ravic\\anaconda3\\lib\\site-packages\\sklearn\\metrics\\_classification.py:1318: UndefinedMetricWarning: Precision and F-score are ill-defined and being set to 0.0 in labels with no predicted samples. Use `zero_division` parameter to control this behavior.\n",
      "  _warn_prf(average, modifier, msg_start, len(result))\n",
      "C:\\Users\\ravic\\anaconda3\\lib\\site-packages\\sklearn\\metrics\\_classification.py:1318: UndefinedMetricWarning: Precision and F-score are ill-defined and being set to 0.0 in labels with no predicted samples. Use `zero_division` parameter to control this behavior.\n",
      "  _warn_prf(average, modifier, msg_start, len(result))\n",
      "C:\\Users\\ravic\\anaconda3\\lib\\site-packages\\sklearn\\metrics\\_classification.py:1318: UndefinedMetricWarning: Precision and F-score are ill-defined and being set to 0.0 in labels with no predicted samples. Use `zero_division` parameter to control this behavior.\n",
      "  _warn_prf(average, modifier, msg_start, len(result))\n"
     ]
    }
   ],
   "source": [
    "y_predict = classifier_rf.predict(Ftest)\n",
    "class_names = target.unique()\n",
    "print(classification_report(Ltest, y_predict, target_names=class_names))\n",
    "print(confusion_matrix(Ltest, y_predict))"
   ]
  },
  {
   "cell_type": "markdown",
   "id": "e1c2d95a",
   "metadata": {},
   "source": [
    "# Naive Bayes on Red channel data"
   ]
  },
  {
   "cell_type": "code",
   "execution_count": 51,
   "id": "8ec0753c",
   "metadata": {},
   "outputs": [
    {
     "data": {
      "text/plain": [
       "GaussianNB()"
      ]
     },
     "execution_count": 51,
     "metadata": {},
     "output_type": "execute_result"
    }
   ],
   "source": [
    "gnb.fit(Ftrain, Ltrain)"
   ]
  },
  {
   "cell_type": "code",
   "execution_count": 52,
   "id": "9bd3c55d",
   "metadata": {},
   "outputs": [
    {
     "data": {
      "text/plain": [
       "0.41864465084279323"
      ]
     },
     "execution_count": 52,
     "metadata": {},
     "output_type": "execute_result"
    }
   ],
   "source": [
    "y_pred = gnb.predict(Ftest)\n",
    "metrics.accuracy_score(Ltest, y_pred)"
   ]
  },
  {
   "cell_type": "code",
   "execution_count": 53,
   "id": "4c3f9eb9",
   "metadata": {},
   "outputs": [
    {
     "name": "stderr",
     "output_type": "stream",
     "text": [
      "C:\\Users\\ravic\\anaconda3\\lib\\site-packages\\sklearn\\metrics\\_classification.py:1318: UndefinedMetricWarning: Precision and F-score are ill-defined and being set to 0.0 in labels with no predicted samples. Use `zero_division` parameter to control this behavior.\n",
      "  _warn_prf(average, modifier, msg_start, len(result))\n"
     ]
    },
    {
     "name": "stdout",
     "output_type": "stream",
     "text": [
      "                               precision    recall  f1-score   support\n",
      "\n",
      "               bacterial_spot       0.54      0.41      0.47       345\n",
      "                 early_blight       0.22      0.09      0.13       153\n",
      "                      healthy       0.39      0.64      0.48       234\n",
      "                  late_blight       0.47      0.21      0.29       309\n",
      "                    leaf_mold       0.42      0.34      0.38       145\n",
      "           septoria_leaf_spot       0.49      0.29      0.37       293\n",
      "                  target_spot       0.42      0.17      0.25       240\n",
      "          tomato_mosaic_virus       0.00      0.00      0.00        54\n",
      "tomato_yellow_leaf_curl_virus       0.40      0.63      0.49       854\n",
      "      two-spotted_spider_mite       0.39      0.49      0.44       280\n",
      "\n",
      "                     accuracy                           0.42      2907\n",
      "                    macro avg       0.38      0.33      0.33      2907\n",
      "                 weighted avg       0.42      0.42      0.39      2907\n",
      "\n",
      "[[141   6  19   8   1   1   2   0 165   2]\n",
      " [ 26  14   4   6   7   7   7   0  61  21]\n",
      " [  1   0 149   6   1   3   1   0  73   0]\n",
      " [  3  19  55  64  24  20   9   0 103  12]\n",
      " [  5   3   5   9  50   9   0   0  62   2]\n",
      " [  1   2  32  16  20  85  15   0  94  28]\n",
      " [  7   3   1   5   3  10  42   0 103  66]\n",
      " [  2   0   3   0   1   3   2   0  29  14]\n",
      " [ 69  12 112  19   9  24   9   0 536  64]\n",
      " [  6   4   3   3   2  10  14   0 102 136]]\n"
     ]
    },
    {
     "name": "stderr",
     "output_type": "stream",
     "text": [
      "C:\\Users\\ravic\\anaconda3\\lib\\site-packages\\sklearn\\metrics\\_classification.py:1318: UndefinedMetricWarning: Precision and F-score are ill-defined and being set to 0.0 in labels with no predicted samples. Use `zero_division` parameter to control this behavior.\n",
      "  _warn_prf(average, modifier, msg_start, len(result))\n",
      "C:\\Users\\ravic\\anaconda3\\lib\\site-packages\\sklearn\\metrics\\_classification.py:1318: UndefinedMetricWarning: Precision and F-score are ill-defined and being set to 0.0 in labels with no predicted samples. Use `zero_division` parameter to control this behavior.\n",
      "  _warn_prf(average, modifier, msg_start, len(result))\n"
     ]
    }
   ],
   "source": [
    "class_names = target.unique()\n",
    "print(classification_report(Ltest, y_pred, target_names=class_names))\n",
    "print(confusion_matrix(Ltest, y_pred))"
   ]
  },
  {
   "cell_type": "markdown",
   "id": "b34954bd",
   "metadata": {},
   "source": [
    "# Decision Tree on Red channel"
   ]
  },
  {
   "cell_type": "code",
   "execution_count": 54,
   "id": "3ce8ed83",
   "metadata": {},
   "outputs": [
    {
     "data": {
      "text/plain": [
       "0.39215686274509803"
      ]
     },
     "execution_count": 54,
     "metadata": {},
     "output_type": "execute_result"
    }
   ],
   "source": [
    "classifier_tree.fit(Ftrain, Ltrain)\n",
    "classifier_tree.score(Ftest,Ltest)"
   ]
  },
  {
   "cell_type": "code",
   "execution_count": 55,
   "id": "78b012af",
   "metadata": {},
   "outputs": [
    {
     "name": "stdout",
     "output_type": "stream",
     "text": [
      "                               precision    recall  f1-score   support\n",
      "\n",
      "               bacterial_spot       0.46      0.44      0.45       345\n",
      "                 early_blight       0.12      0.12      0.12       153\n",
      "                      healthy       0.52      0.57      0.55       234\n",
      "                  late_blight       0.37      0.39      0.38       309\n",
      "                    leaf_mold       0.31      0.30      0.30       145\n",
      "           septoria_leaf_spot       0.28      0.29      0.29       293\n",
      "                  target_spot       0.31      0.30      0.31       240\n",
      "          tomato_mosaic_virus       0.07      0.09      0.08        54\n",
      "tomato_yellow_leaf_curl_virus       0.48      0.46      0.47       854\n",
      "      two-spotted_spider_mite       0.42      0.41      0.41       280\n",
      "\n",
      "                     accuracy                           0.39      2907\n",
      "                    macro avg       0.33      0.34      0.34      2907\n",
      "                 weighted avg       0.39      0.39      0.39      2907\n",
      "\n",
      "[[152  18  14  19  10   9  11   4 103   5]\n",
      " [ 24  18   3  21   9   7  14   5  39  13]\n",
      " [ 10   1 134  12   6  12   5   4  48   2]\n",
      " [ 15  23  18 120  15  38  14   5  53   8]\n",
      " [  9  13   8  21  43  19   4   5  18   5]\n",
      " [  6  12  17  47  16  85  26  11  52  21]\n",
      " [  7  14   5  11   4  17  73  12  48  49]\n",
      " [  1   1   6   1   3   7   8   5  15   7]\n",
      " [106  37  45  63  26  78  44  10 395  50]\n",
      " [  4  14   7  11   6  27  33  11  52 115]]\n"
     ]
    }
   ],
   "source": [
    "y_predict = classifier_tree.predict(Ftest)\n",
    "class_names = target.unique()\n",
    "print(classification_report(Ltest, y_predict, target_names=class_names))\n",
    "print(confusion_matrix(Ltest, y_predict))"
   ]
  },
  {
   "cell_type": "markdown",
   "id": "21af7568",
   "metadata": {},
   "source": [
    "# KNN on green channel data"
   ]
  },
  {
   "cell_type": "code",
   "execution_count": 56,
   "id": "461b784b",
   "metadata": {},
   "outputs": [
    {
     "data": {
      "text/plain": [
       "0.4953560371517028"
      ]
     },
     "execution_count": 56,
     "metadata": {},
     "output_type": "execute_result"
    }
   ],
   "source": [
    "os.chdir('D://DKIT//dissertation//Dataset_of_Tomato_Leaves//plantvillage//Preprocessed_data//32//PCA//')\n",
    "features = pd.read_csv('green.csv')\n",
    "#changing path\n",
    "os.chdir('D://DKIT//dissertation//Dataset_of_Tomato_Leaves//plantvillage//Preprocessed_data//32//vector//')\n",
    "#reading csv file\n",
    "green_df = pd.read_csv('green_data.csv')\n",
    "target = green_df['disease']\n",
    "#splitting the data into test and train\n",
    "Ftrain,Ftest,Ltrain,Ltest=train_test_split(features,target, test_size=0.20, random_state=24)\n",
    "kmodel.fit(Ftrain,Ltrain)\n",
    "kmodel.score(Ftest,Ltest)"
   ]
  },
  {
   "cell_type": "code",
   "execution_count": 57,
   "id": "3b84096d",
   "metadata": {},
   "outputs": [
    {
     "name": "stdout",
     "output_type": "stream",
     "text": [
      "                               precision    recall  f1-score   support\n",
      "\n",
      "               bacterial_spot       0.50      0.43      0.46       345\n",
      "                 early_blight       0.67      0.01      0.03       153\n",
      "                      healthy       0.46      0.85      0.59       234\n",
      "                  late_blight       0.62      0.37      0.46       309\n",
      "                    leaf_mold       0.45      0.36      0.40       145\n",
      "           septoria_leaf_spot       0.67      0.40      0.50       293\n",
      "                  target_spot       0.36      0.23      0.28       240\n",
      "          tomato_mosaic_virus       0.00      0.00      0.00        54\n",
      "tomato_yellow_leaf_curl_virus       0.50      0.74      0.60       854\n",
      "      two-spotted_spider_mite       0.43      0.44      0.43       280\n",
      "\n",
      "                     accuracy                           0.50      2907\n",
      "                    macro avg       0.47      0.38      0.38      2907\n",
      "                 weighted avg       0.51      0.50      0.46      2907\n",
      "\n",
      "[[149   1  20  10   2   0   8   0 145  10]\n",
      " [ 23   2   5   7   9   5  12   0  69  21]\n",
      " [  7   0 200   1   2   1   4   0  18   1]\n",
      " [ 14   0  38 114  17  25  10   0  76  15]\n",
      " [  9   0  13   7  52   6   3   0  47   8]\n",
      " [  1   0  50  18  18 116   6   0  67  17]\n",
      " [ 16   0  16   1   5   4  55   0  87  56]\n",
      " [  3   0  14   0   2   3   6   0  20   6]\n",
      " [ 66   0  73  23   6  11  19   0 630  26]\n",
      " [ 10   0  10   3   2   2  31   0 100 122]]\n"
     ]
    },
    {
     "name": "stderr",
     "output_type": "stream",
     "text": [
      "C:\\Users\\ravic\\anaconda3\\lib\\site-packages\\sklearn\\metrics\\_classification.py:1318: UndefinedMetricWarning: Precision and F-score are ill-defined and being set to 0.0 in labels with no predicted samples. Use `zero_division` parameter to control this behavior.\n",
      "  _warn_prf(average, modifier, msg_start, len(result))\n",
      "C:\\Users\\ravic\\anaconda3\\lib\\site-packages\\sklearn\\metrics\\_classification.py:1318: UndefinedMetricWarning: Precision and F-score are ill-defined and being set to 0.0 in labels with no predicted samples. Use `zero_division` parameter to control this behavior.\n",
      "  _warn_prf(average, modifier, msg_start, len(result))\n",
      "C:\\Users\\ravic\\anaconda3\\lib\\site-packages\\sklearn\\metrics\\_classification.py:1318: UndefinedMetricWarning: Precision and F-score are ill-defined and being set to 0.0 in labels with no predicted samples. Use `zero_division` parameter to control this behavior.\n",
      "  _warn_prf(average, modifier, msg_start, len(result))\n"
     ]
    }
   ],
   "source": [
    "y_predict = kmodel.predict(Ftest)\n",
    "class_names = target.unique()\n",
    "print(classification_report(Ltest, y_predict, target_names=class_names))\n",
    "print(confusion_matrix(Ltest, y_predict))"
   ]
  },
  {
   "cell_type": "markdown",
   "id": "71f3ea86",
   "metadata": {},
   "source": [
    "# Logistic on Green channel data"
   ]
  },
  {
   "cell_type": "code",
   "execution_count": 58,
   "id": "28dad6b2",
   "metadata": {},
   "outputs": [
    {
     "data": {
      "text/plain": [
       "0.2937736498108015"
      ]
     },
     "execution_count": 58,
     "metadata": {},
     "output_type": "execute_result"
    }
   ],
   "source": [
    "model.fit(Ftrain,Ltrain)\n",
    "model.score(Ftest,Ltest)"
   ]
  },
  {
   "cell_type": "code",
   "execution_count": 59,
   "id": "839a329f",
   "metadata": {},
   "outputs": [
    {
     "name": "stdout",
     "output_type": "stream",
     "text": [
      "                               precision    recall  f1-score   support\n",
      "\n",
      "               bacterial_spot       0.00      0.00      0.00       345\n",
      "                 early_blight       0.00      0.00      0.00       153\n",
      "                      healthy       0.00      0.00      0.00       234\n",
      "                  late_blight       0.00      0.00      0.00       309\n",
      "                    leaf_mold       0.00      0.00      0.00       145\n",
      "           septoria_leaf_spot       0.00      0.00      0.00       293\n",
      "                  target_spot       0.00      0.00      0.00       240\n",
      "          tomato_mosaic_virus       0.00      0.00      0.00        54\n",
      "tomato_yellow_leaf_curl_virus       0.29      1.00      0.45       854\n",
      "      two-spotted_spider_mite       0.00      0.00      0.00       280\n",
      "\n",
      "                     accuracy                           0.29      2907\n",
      "                    macro avg       0.03      0.10      0.05      2907\n",
      "                 weighted avg       0.09      0.29      0.13      2907\n",
      "\n",
      "[[  0   0   0   0   0   0   0   0 345   0]\n",
      " [  0   0   0   0   0   0   0   0 153   0]\n",
      " [  0   0   0   0   0   0   0   0 234   0]\n",
      " [  0   0   0   0   0   0   0   0 309   0]\n",
      " [  0   0   0   0   0   0   0   0 145   0]\n",
      " [  0   0   0   0   0   0   0   0 293   0]\n",
      " [  0   0   0   0   0   0   0   0 240   0]\n",
      " [  0   0   0   0   0   0   0   0  54   0]\n",
      " [  0   0   0   0   0   0   0   0 854   0]\n",
      " [  0   0   0   0   0   0   0   0 280   0]]\n"
     ]
    },
    {
     "name": "stderr",
     "output_type": "stream",
     "text": [
      "C:\\Users\\ravic\\anaconda3\\lib\\site-packages\\sklearn\\metrics\\_classification.py:1318: UndefinedMetricWarning: Precision and F-score are ill-defined and being set to 0.0 in labels with no predicted samples. Use `zero_division` parameter to control this behavior.\n",
      "  _warn_prf(average, modifier, msg_start, len(result))\n",
      "C:\\Users\\ravic\\anaconda3\\lib\\site-packages\\sklearn\\metrics\\_classification.py:1318: UndefinedMetricWarning: Precision and F-score are ill-defined and being set to 0.0 in labels with no predicted samples. Use `zero_division` parameter to control this behavior.\n",
      "  _warn_prf(average, modifier, msg_start, len(result))\n",
      "C:\\Users\\ravic\\anaconda3\\lib\\site-packages\\sklearn\\metrics\\_classification.py:1318: UndefinedMetricWarning: Precision and F-score are ill-defined and being set to 0.0 in labels with no predicted samples. Use `zero_division` parameter to control this behavior.\n",
      "  _warn_prf(average, modifier, msg_start, len(result))\n"
     ]
    }
   ],
   "source": [
    "y_predict = model.predict(Ftest)\n",
    "class_names = target.unique()\n",
    "print(classification_report(Ltest, y_predict, target_names=class_names))\n",
    "print(confusion_matrix(Ltest, y_predict))"
   ]
  },
  {
   "cell_type": "markdown",
   "id": "f62f0223",
   "metadata": {},
   "source": [
    "# SVM on green channel data"
   ]
  },
  {
   "cell_type": "code",
   "execution_count": 60,
   "id": "e89e7297",
   "metadata": {},
   "outputs": [
    {
     "name": "stdout",
     "output_type": "stream",
     "text": [
      "0.2937736498108015\n"
     ]
    }
   ],
   "source": [
    "clf.fit(Ftrain,Ltrain)\n",
    "y_pred = clf.predict(Ftest)\n",
    "print(accuracy_score(Ltest,y_pred))"
   ]
  },
  {
   "cell_type": "code",
   "execution_count": 61,
   "id": "0a214a95",
   "metadata": {},
   "outputs": [
    {
     "name": "stdout",
     "output_type": "stream",
     "text": [
      "                               precision    recall  f1-score   support\n",
      "\n",
      "               bacterial_spot       0.00      0.00      0.00       345\n",
      "                 early_blight       0.00      0.00      0.00       153\n",
      "                      healthy       0.00      0.00      0.00       234\n",
      "                  late_blight       0.00      0.00      0.00       309\n",
      "                    leaf_mold       0.00      0.00      0.00       145\n",
      "           septoria_leaf_spot       0.00      0.00      0.00       293\n",
      "                  target_spot       0.00      0.00      0.00       240\n",
      "          tomato_mosaic_virus       0.00      0.00      0.00        54\n",
      "tomato_yellow_leaf_curl_virus       0.29      1.00      0.45       854\n",
      "      two-spotted_spider_mite       0.00      0.00      0.00       280\n",
      "\n",
      "                     accuracy                           0.29      2907\n",
      "                    macro avg       0.03      0.10      0.05      2907\n",
      "                 weighted avg       0.09      0.29      0.13      2907\n",
      "\n",
      "[[  0   0   0   0   0   0   0   0 345   0]\n",
      " [  0   0   0   0   0   0   0   0 153   0]\n",
      " [  0   0   0   0   0   0   0   0 234   0]\n",
      " [  0   0   0   0   0   0   0   0 309   0]\n",
      " [  0   0   0   0   0   0   0   0 145   0]\n",
      " [  0   0   0   0   0   0   0   0 293   0]\n",
      " [  0   0   0   0   0   0   0   0 240   0]\n",
      " [  0   0   0   0   0   0   0   0  54   0]\n",
      " [  0   0   0   0   0   0   0   0 854   0]\n",
      " [  0   0   0   0   0   0   0   0 280   0]]\n"
     ]
    },
    {
     "name": "stderr",
     "output_type": "stream",
     "text": [
      "C:\\Users\\ravic\\anaconda3\\lib\\site-packages\\sklearn\\metrics\\_classification.py:1318: UndefinedMetricWarning: Precision and F-score are ill-defined and being set to 0.0 in labels with no predicted samples. Use `zero_division` parameter to control this behavior.\n",
      "  _warn_prf(average, modifier, msg_start, len(result))\n",
      "C:\\Users\\ravic\\anaconda3\\lib\\site-packages\\sklearn\\metrics\\_classification.py:1318: UndefinedMetricWarning: Precision and F-score are ill-defined and being set to 0.0 in labels with no predicted samples. Use `zero_division` parameter to control this behavior.\n",
      "  _warn_prf(average, modifier, msg_start, len(result))\n",
      "C:\\Users\\ravic\\anaconda3\\lib\\site-packages\\sklearn\\metrics\\_classification.py:1318: UndefinedMetricWarning: Precision and F-score are ill-defined and being set to 0.0 in labels with no predicted samples. Use `zero_division` parameter to control this behavior.\n",
      "  _warn_prf(average, modifier, msg_start, len(result))\n"
     ]
    }
   ],
   "source": [
    "y_predict = clf.predict(Ftest)\n",
    "class_names = target.unique()\n",
    "print(classification_report(Ltest, y_predict, target_names=class_names))\n",
    "print(confusion_matrix(Ltest, y_predict))"
   ]
  },
  {
   "cell_type": "markdown",
   "id": "4f8e565e",
   "metadata": {},
   "source": [
    "# Random Forest on green channel data"
   ]
  },
  {
   "cell_type": "code",
   "execution_count": 62,
   "id": "96c92f8f",
   "metadata": {},
   "outputs": [
    {
     "data": {
      "text/plain": [
       "0.4131968341362698"
      ]
     },
     "execution_count": 62,
     "metadata": {},
     "output_type": "execute_result"
    }
   ],
   "source": [
    "classifier_rf.fit(Ftrain, Ltrain)\n",
    "classifier_rf.oob_score_"
   ]
  },
  {
   "cell_type": "code",
   "execution_count": 63,
   "id": "a8f818ad",
   "metadata": {},
   "outputs": [
    {
     "name": "stdout",
     "output_type": "stream",
     "text": [
      "                               precision    recall  f1-score   support\n",
      "\n",
      "               bacterial_spot       0.56      0.16      0.25       345\n",
      "                 early_blight       1.00      0.01      0.01       153\n",
      "                      healthy       0.55      0.41      0.47       234\n",
      "                  late_blight       0.71      0.20      0.32       309\n",
      "                    leaf_mold       0.50      0.28      0.36       145\n",
      "           septoria_leaf_spot       0.65      0.31      0.42       293\n",
      "                  target_spot       0.38      0.03      0.06       240\n",
      "          tomato_mosaic_virus       0.00      0.00      0.00        54\n",
      "tomato_yellow_leaf_curl_virus       0.38      0.89      0.53       854\n",
      "      two-spotted_spider_mite       0.35      0.38      0.36       280\n",
      "\n",
      "                     accuracy                           0.42      2907\n",
      "                    macro avg       0.51      0.27      0.28      2907\n",
      "                 weighted avg       0.51      0.42      0.36      2907\n",
      "\n",
      "[[ 56   0   6   1   2   1   1   0 272   6]\n",
      " [  5   1   0  12   4   4   2   0 108  17]\n",
      " [  0   0  96   0   4   0   0   0 129   5]\n",
      " [  7   0  17  63  13  19   1   0 173  16]\n",
      " [  0   0   4   4  41   2   2   0  82  10]\n",
      " [  0   0  19   4  10  92   1   0 138  29]\n",
      " [  2   0   3   0   4  10   8   0 137  76]\n",
      " [  0   0   7   0   1   1   0   0  35  10]\n",
      " [ 26   0  19   2   3  10   3   0 759  32]\n",
      " [  4   0   2   3   0   3   3   0 158 107]]\n"
     ]
    },
    {
     "name": "stderr",
     "output_type": "stream",
     "text": [
      "C:\\Users\\ravic\\anaconda3\\lib\\site-packages\\sklearn\\metrics\\_classification.py:1318: UndefinedMetricWarning: Precision and F-score are ill-defined and being set to 0.0 in labels with no predicted samples. Use `zero_division` parameter to control this behavior.\n",
      "  _warn_prf(average, modifier, msg_start, len(result))\n",
      "C:\\Users\\ravic\\anaconda3\\lib\\site-packages\\sklearn\\metrics\\_classification.py:1318: UndefinedMetricWarning: Precision and F-score are ill-defined and being set to 0.0 in labels with no predicted samples. Use `zero_division` parameter to control this behavior.\n",
      "  _warn_prf(average, modifier, msg_start, len(result))\n",
      "C:\\Users\\ravic\\anaconda3\\lib\\site-packages\\sklearn\\metrics\\_classification.py:1318: UndefinedMetricWarning: Precision and F-score are ill-defined and being set to 0.0 in labels with no predicted samples. Use `zero_division` parameter to control this behavior.\n",
      "  _warn_prf(average, modifier, msg_start, len(result))\n"
     ]
    }
   ],
   "source": [
    "y_predict = classifier_rf.predict(Ftest)\n",
    "class_names = target.unique()\n",
    "print(classification_report(Ltest, y_predict, target_names=class_names))\n",
    "print(confusion_matrix(Ltest, y_predict))"
   ]
  },
  {
   "cell_type": "markdown",
   "id": "e9b1cca9",
   "metadata": {},
   "source": [
    "# Naive bayes on Green channel data"
   ]
  },
  {
   "cell_type": "code",
   "execution_count": 64,
   "id": "1136802c",
   "metadata": {},
   "outputs": [
    {
     "data": {
      "text/plain": [
       "0.39009287925696595"
      ]
     },
     "execution_count": 64,
     "metadata": {},
     "output_type": "execute_result"
    }
   ],
   "source": [
    "gnb.fit(Ftrain, Ltrain)\n",
    "y_pred = gnb.predict(Ftest)\n",
    "metrics.accuracy_score(Ltest, y_pred)"
   ]
  },
  {
   "cell_type": "code",
   "execution_count": 65,
   "id": "413e42be",
   "metadata": {},
   "outputs": [
    {
     "name": "stdout",
     "output_type": "stream",
     "text": [
      "                               precision    recall  f1-score   support\n",
      "\n",
      "               bacterial_spot       0.42      0.41      0.41       345\n",
      "                 early_blight       0.21      0.15      0.17       153\n",
      "                      healthy       0.33      0.46      0.39       234\n",
      "                  late_blight       0.42      0.20      0.27       309\n",
      "                    leaf_mold       0.44      0.31      0.36       145\n",
      "           septoria_leaf_spot       0.71      0.31      0.43       293\n",
      "                  target_spot       0.33      0.22      0.26       240\n",
      "          tomato_mosaic_virus       0.00      0.00      0.00        54\n",
      "tomato_yellow_leaf_curl_virus       0.39      0.67      0.50       854\n",
      "      two-spotted_spider_mite       0.27      0.14      0.19       280\n",
      "\n",
      "                     accuracy                           0.39      2907\n",
      "                    macro avg       0.35      0.29      0.30      2907\n",
      "                 weighted avg       0.39      0.39      0.37      2907\n",
      "\n",
      "[[141   5  15   5   2   1   7   0 156  13]\n",
      " [ 23  23   1  11   7   1  16   0  52  19]\n",
      " [ 10   0 108  12   5   1   2   0  96   0]\n",
      " [  7  35  80  62  19  12   6   0  77  11]\n",
      " [  8   8   6   5  45   3   1   0  67   2]\n",
      " [  0   6  43  13  10  91  12   0 115   3]\n",
      " [ 18   5   3   6   6   5  52   0 121  24]\n",
      " [  2   0   6   1   1   0   4   0  39   1]\n",
      " [108  21  58  31   7  11  12   0 572  34]\n",
      " [ 20   7   6   2   0   3  47   0 155  40]]\n"
     ]
    },
    {
     "name": "stderr",
     "output_type": "stream",
     "text": [
      "C:\\Users\\ravic\\anaconda3\\lib\\site-packages\\sklearn\\metrics\\_classification.py:1318: UndefinedMetricWarning: Precision and F-score are ill-defined and being set to 0.0 in labels with no predicted samples. Use `zero_division` parameter to control this behavior.\n",
      "  _warn_prf(average, modifier, msg_start, len(result))\n",
      "C:\\Users\\ravic\\anaconda3\\lib\\site-packages\\sklearn\\metrics\\_classification.py:1318: UndefinedMetricWarning: Precision and F-score are ill-defined and being set to 0.0 in labels with no predicted samples. Use `zero_division` parameter to control this behavior.\n",
      "  _warn_prf(average, modifier, msg_start, len(result))\n",
      "C:\\Users\\ravic\\anaconda3\\lib\\site-packages\\sklearn\\metrics\\_classification.py:1318: UndefinedMetricWarning: Precision and F-score are ill-defined and being set to 0.0 in labels with no predicted samples. Use `zero_division` parameter to control this behavior.\n",
      "  _warn_prf(average, modifier, msg_start, len(result))\n"
     ]
    }
   ],
   "source": [
    "class_names = target.unique()\n",
    "print(classification_report(Ltest, y_pred, target_names=class_names))\n",
    "print(confusion_matrix(Ltest, y_pred))"
   ]
  },
  {
   "cell_type": "markdown",
   "id": "9002e08b",
   "metadata": {},
   "source": [
    "# Decision Tree on Green channel"
   ]
  },
  {
   "cell_type": "code",
   "execution_count": 66,
   "id": "6b115934",
   "metadata": {},
   "outputs": [
    {
     "data": {
      "text/plain": [
       "0.4021327829377365"
      ]
     },
     "execution_count": 66,
     "metadata": {},
     "output_type": "execute_result"
    }
   ],
   "source": [
    "classifier_tree.fit(Ftrain, Ltrain)\n",
    "classifier_tree.score(Ftest,Ltest)"
   ]
  },
  {
   "cell_type": "code",
   "execution_count": 67,
   "id": "a1694af3",
   "metadata": {},
   "outputs": [
    {
     "name": "stdout",
     "output_type": "stream",
     "text": [
      "                               precision    recall  f1-score   support\n",
      "\n",
      "               bacterial_spot       0.38      0.37      0.37       345\n",
      "                 early_blight       0.21      0.20      0.21       153\n",
      "                      healthy       0.49      0.56      0.52       234\n",
      "                  late_blight       0.41      0.36      0.38       309\n",
      "                    leaf_mold       0.29      0.26      0.27       145\n",
      "           septoria_leaf_spot       0.40      0.39      0.39       293\n",
      "                  target_spot       0.25      0.27      0.26       240\n",
      "          tomato_mosaic_virus       0.10      0.11      0.10        54\n",
      "tomato_yellow_leaf_curl_virus       0.51      0.53      0.52       854\n",
      "      two-spotted_spider_mite       0.35      0.36      0.36       280\n",
      "\n",
      "                     accuracy                           0.40      2907\n",
      "                    macro avg       0.34      0.34      0.34      2907\n",
      "                 weighted avg       0.40      0.40      0.40      2907\n",
      "\n",
      "[[126  21  13  16  13   8  16   6 109  17]\n",
      " [ 15  31   1  13  10   4  20   2  36  21]\n",
      " [ 11   3 130   8  13  20   8   3  31   7]\n",
      " [ 18  11  30 110  13  29  19   4  58  17]\n",
      " [ 10  13   7  17  37  16  12   2  20  11]\n",
      " [ 12   9  24  36   9 113  22   3  54  11]\n",
      " [  9  15  13  18  11  14  65   6  51  38]\n",
      " [  6   2   1   0   4   4  11   6  16   4]\n",
      " [101  27  41  47  14  55  40  21 451  57]\n",
      " [ 20  16   8   4   4  18  46   8  56 100]]\n"
     ]
    }
   ],
   "source": [
    "y_predict = classifier_tree.predict(Ftest)\n",
    "class_names = target.unique()\n",
    "print(classification_report(Ltest, y_predict, target_names=class_names))\n",
    "print(confusion_matrix(Ltest, y_predict))"
   ]
  },
  {
   "cell_type": "markdown",
   "id": "75817642",
   "metadata": {},
   "source": [
    "# KNN on blue channel data"
   ]
  },
  {
   "cell_type": "code",
   "execution_count": 68,
   "id": "531e3624",
   "metadata": {},
   "outputs": [
    {
     "data": {
      "text/plain": [
       "0.565187478500172"
      ]
     },
     "execution_count": 68,
     "metadata": {},
     "output_type": "execute_result"
    }
   ],
   "source": [
    "os.chdir('D://DKIT//dissertation//Dataset_of_Tomato_Leaves//plantvillage//Preprocessed_data//32//PCA//')\n",
    "features = pd.read_csv('blue.csv')\n",
    "#changing path\n",
    "os.chdir('D://DKIT//dissertation//Dataset_of_Tomato_Leaves//plantvillage//Preprocessed_data//32//vector//')\n",
    "#reading csv file\n",
    "blue_df = pd.read_csv('blue_data.csv')\n",
    "target = blue_df['disease']\n",
    "#splitting the data into test and train\n",
    "Ftrain,Ftest,Ltrain,Ltest=train_test_split(features,target, test_size=0.20, random_state=24)\n",
    "kmodel.fit(Ftrain,Ltrain)\n",
    "kmodel.score(Ftest,Ltest)"
   ]
  },
  {
   "cell_type": "code",
   "execution_count": 69,
   "id": "16330eb3",
   "metadata": {},
   "outputs": [
    {
     "name": "stdout",
     "output_type": "stream",
     "text": [
      "                               precision    recall  f1-score   support\n",
      "\n",
      "               bacterial_spot       0.51      0.59      0.55       345\n",
      "                 early_blight       0.80      0.03      0.05       153\n",
      "                      healthy       0.58      0.83      0.68       234\n",
      "                  late_blight       0.81      0.39      0.53       309\n",
      "                    leaf_mold       0.49      0.50      0.49       145\n",
      "           septoria_leaf_spot       0.55      0.42      0.48       293\n",
      "                  target_spot       0.37      0.34      0.35       240\n",
      "          tomato_mosaic_virus       0.50      0.04      0.07        54\n",
      "tomato_yellow_leaf_curl_virus       0.65      0.84      0.73       854\n",
      "      two-spotted_spider_mite       0.39      0.44      0.41       280\n",
      "\n",
      "                     accuracy                           0.57      2907\n",
      "                    macro avg       0.56      0.44      0.44      2907\n",
      "                 weighted avg       0.58      0.57      0.54      2907\n",
      "\n",
      "[[205   0  15   7   1   2   5   0  98  12]\n",
      " [ 17   4   6   7   3   8  22   1  69  16]\n",
      " [ 10   0 194   5   4   1  10   0   3   7]\n",
      " [ 14   0  43 122  23  29  21   0  48   9]\n",
      " [  2   0  11   3  72  18  12   0  14  13]\n",
      " [ 14   0  15   2  34 124  21   0  58  25]\n",
      " [ 27   0  24   2   3  14  81   0  18  71]\n",
      " [  5   0   7   0   2   8   9   2   4  17]\n",
      " [ 69   1  12   2   3  17   8   0 715  27]\n",
      " [ 36   0  10   0   1   6  32   1  70 124]]\n"
     ]
    }
   ],
   "source": [
    "y_predict = kmodel.predict(Ftest)\n",
    "class_names = target.unique()\n",
    "print(classification_report(Ltest, y_predict, target_names=class_names))\n",
    "print(confusion_matrix(Ltest, y_predict))"
   ]
  },
  {
   "cell_type": "markdown",
   "id": "f452a113",
   "metadata": {},
   "source": [
    "# logistic on blue channel data"
   ]
  },
  {
   "cell_type": "code",
   "execution_count": 70,
   "id": "de158586",
   "metadata": {},
   "outputs": [
    {
     "data": {
      "text/plain": [
       "0.2937736498108015"
      ]
     },
     "execution_count": 70,
     "metadata": {},
     "output_type": "execute_result"
    }
   ],
   "source": [
    "model.fit(Ftrain,Ltrain)\n",
    "model.score(Ftest,Ltest)"
   ]
  },
  {
   "cell_type": "code",
   "execution_count": 71,
   "id": "30e98a1a",
   "metadata": {},
   "outputs": [
    {
     "name": "stdout",
     "output_type": "stream",
     "text": [
      "                               precision    recall  f1-score   support\n",
      "\n",
      "               bacterial_spot       0.00      0.00      0.00       345\n",
      "                 early_blight       0.00      0.00      0.00       153\n",
      "                      healthy       0.00      0.00      0.00       234\n",
      "                  late_blight       0.00      0.00      0.00       309\n",
      "                    leaf_mold       0.00      0.00      0.00       145\n",
      "           septoria_leaf_spot       0.00      0.00      0.00       293\n",
      "                  target_spot       0.00      0.00      0.00       240\n",
      "          tomato_mosaic_virus       0.00      0.00      0.00        54\n",
      "tomato_yellow_leaf_curl_virus       0.29      1.00      0.45       854\n",
      "      two-spotted_spider_mite       0.00      0.00      0.00       280\n",
      "\n",
      "                     accuracy                           0.29      2907\n",
      "                    macro avg       0.03      0.10      0.05      2907\n",
      "                 weighted avg       0.09      0.29      0.13      2907\n",
      "\n",
      "[[  0   0   0   0   0   0   0   0 345   0]\n",
      " [  0   0   0   0   0   0   0   0 153   0]\n",
      " [  0   0   0   0   0   0   0   0 234   0]\n",
      " [  0   0   0   0   0   0   0   0 309   0]\n",
      " [  0   0   0   0   0   0   0   0 145   0]\n",
      " [  0   0   0   0   0   0   0   0 293   0]\n",
      " [  0   0   0   0   0   0   0   0 240   0]\n",
      " [  0   0   0   0   0   0   0   0  54   0]\n",
      " [  0   0   0   0   0   0   0   0 854   0]\n",
      " [  0   0   0   0   0   0   0   0 280   0]]\n"
     ]
    },
    {
     "name": "stderr",
     "output_type": "stream",
     "text": [
      "C:\\Users\\ravic\\anaconda3\\lib\\site-packages\\sklearn\\metrics\\_classification.py:1318: UndefinedMetricWarning: Precision and F-score are ill-defined and being set to 0.0 in labels with no predicted samples. Use `zero_division` parameter to control this behavior.\n",
      "  _warn_prf(average, modifier, msg_start, len(result))\n",
      "C:\\Users\\ravic\\anaconda3\\lib\\site-packages\\sklearn\\metrics\\_classification.py:1318: UndefinedMetricWarning: Precision and F-score are ill-defined and being set to 0.0 in labels with no predicted samples. Use `zero_division` parameter to control this behavior.\n",
      "  _warn_prf(average, modifier, msg_start, len(result))\n",
      "C:\\Users\\ravic\\anaconda3\\lib\\site-packages\\sklearn\\metrics\\_classification.py:1318: UndefinedMetricWarning: Precision and F-score are ill-defined and being set to 0.0 in labels with no predicted samples. Use `zero_division` parameter to control this behavior.\n",
      "  _warn_prf(average, modifier, msg_start, len(result))\n"
     ]
    }
   ],
   "source": [
    "y_predict = model.predict(Ftest)\n",
    "class_names = target.unique()\n",
    "print(classification_report(Ltest, y_predict, target_names=class_names))\n",
    "print(confusion_matrix(Ltest, y_predict))"
   ]
  },
  {
   "cell_type": "markdown",
   "id": "c7585c1d",
   "metadata": {},
   "source": [
    "# SVM on blue channel data"
   ]
  },
  {
   "cell_type": "code",
   "execution_count": 72,
   "id": "06fb4a0f",
   "metadata": {},
   "outputs": [
    {
     "name": "stdout",
     "output_type": "stream",
     "text": [
      "0.2937736498108015\n"
     ]
    }
   ],
   "source": [
    "clf.fit(Ftrain,Ltrain)\n",
    "y_pred = clf.predict(Ftest)\n",
    "print(accuracy_score(Ltest,y_pred))"
   ]
  },
  {
   "cell_type": "code",
   "execution_count": 73,
   "id": "6e1082ce",
   "metadata": {},
   "outputs": [
    {
     "name": "stdout",
     "output_type": "stream",
     "text": [
      "                               precision    recall  f1-score   support\n",
      "\n",
      "               bacterial_spot       0.00      0.00      0.00       345\n",
      "                 early_blight       0.00      0.00      0.00       153\n",
      "                      healthy       0.00      0.00      0.00       234\n",
      "                  late_blight       0.00      0.00      0.00       309\n",
      "                    leaf_mold       0.00      0.00      0.00       145\n",
      "           septoria_leaf_spot       0.00      0.00      0.00       293\n",
      "                  target_spot       0.00      0.00      0.00       240\n",
      "          tomato_mosaic_virus       0.00      0.00      0.00        54\n",
      "tomato_yellow_leaf_curl_virus       0.29      1.00      0.45       854\n",
      "      two-spotted_spider_mite       0.00      0.00      0.00       280\n",
      "\n",
      "                     accuracy                           0.29      2907\n",
      "                    macro avg       0.03      0.10      0.05      2907\n",
      "                 weighted avg       0.09      0.29      0.13      2907\n",
      "\n",
      "[[  0   0   0   0   0   0   0   0 345   0]\n",
      " [  0   0   0   0   0   0   0   0 153   0]\n",
      " [  0   0   0   0   0   0   0   0 234   0]\n",
      " [  0   0   0   0   0   0   0   0 309   0]\n",
      " [  0   0   0   0   0   0   0   0 145   0]\n",
      " [  0   0   0   0   0   0   0   0 293   0]\n",
      " [  0   0   0   0   0   0   0   0 240   0]\n",
      " [  0   0   0   0   0   0   0   0  54   0]\n",
      " [  0   0   0   0   0   0   0   0 854   0]\n",
      " [  0   0   0   0   0   0   0   0 280   0]]\n"
     ]
    },
    {
     "name": "stderr",
     "output_type": "stream",
     "text": [
      "C:\\Users\\ravic\\anaconda3\\lib\\site-packages\\sklearn\\metrics\\_classification.py:1318: UndefinedMetricWarning: Precision and F-score are ill-defined and being set to 0.0 in labels with no predicted samples. Use `zero_division` parameter to control this behavior.\n",
      "  _warn_prf(average, modifier, msg_start, len(result))\n",
      "C:\\Users\\ravic\\anaconda3\\lib\\site-packages\\sklearn\\metrics\\_classification.py:1318: UndefinedMetricWarning: Precision and F-score are ill-defined and being set to 0.0 in labels with no predicted samples. Use `zero_division` parameter to control this behavior.\n",
      "  _warn_prf(average, modifier, msg_start, len(result))\n",
      "C:\\Users\\ravic\\anaconda3\\lib\\site-packages\\sklearn\\metrics\\_classification.py:1318: UndefinedMetricWarning: Precision and F-score are ill-defined and being set to 0.0 in labels with no predicted samples. Use `zero_division` parameter to control this behavior.\n",
      "  _warn_prf(average, modifier, msg_start, len(result))\n"
     ]
    }
   ],
   "source": [
    "y_predict = clf.predict(Ftest)\n",
    "class_names = target.unique()\n",
    "print(classification_report(Ltest, y_predict, target_names=class_names))\n",
    "print(confusion_matrix(Ltest, y_predict))"
   ]
  },
  {
   "cell_type": "markdown",
   "id": "f4eb8c6c",
   "metadata": {},
   "source": [
    "# Random Forest on blue channel data"
   ]
  },
  {
   "cell_type": "code",
   "execution_count": 74,
   "id": "b71407b2",
   "metadata": {},
   "outputs": [
    {
     "data": {
      "text/plain": [
       "0.5130763936682725"
      ]
     },
     "execution_count": 74,
     "metadata": {},
     "output_type": "execute_result"
    }
   ],
   "source": [
    "classifier_rf.fit(Ftrain, Ltrain)\n",
    "classifier_rf.oob_score_"
   ]
  },
  {
   "cell_type": "code",
   "execution_count": 75,
   "id": "aa723da2",
   "metadata": {},
   "outputs": [
    {
     "name": "stdout",
     "output_type": "stream",
     "text": [
      "                               precision    recall  f1-score   support\n",
      "\n",
      "               bacterial_spot       0.42      0.44      0.43       345\n",
      "                 early_blight       0.67      0.01      0.03       153\n",
      "                      healthy       0.44      0.80      0.57       234\n",
      "                  late_blight       0.71      0.23      0.34       309\n",
      "                    leaf_mold       0.48      0.45      0.46       145\n",
      "           septoria_leaf_spot       0.50      0.47      0.48       293\n",
      "                  target_spot       0.32      0.15      0.21       240\n",
      "          tomato_mosaic_virus       0.00      0.00      0.00        54\n",
      "tomato_yellow_leaf_curl_virus       0.62      0.84      0.72       854\n",
      "      two-spotted_spider_mite       0.31      0.38      0.34       280\n",
      "\n",
      "                     accuracy                           0.51      2907\n",
      "                    macro avg       0.45      0.38      0.36      2907\n",
      "                 weighted avg       0.51      0.51      0.47      2907\n",
      "\n",
      "[[152   0  19   4   2   1   2   0 153  12]\n",
      " [ 17   2  12  10   1  11   9   0  67  24]\n",
      " [ 16   0 187   3   2   2  14   0   1   9]\n",
      " [ 13   0 107  70  23  30  10   0  50   6]\n",
      " [  4   1  12   5  65  24   5   0  13  16]\n",
      " [ 15   0   5   1  32 137  13   0  51  39]\n",
      " [ 35   0  40   1   2  30  37   0  16  79]\n",
      " [  6   0   5   1   2  14   7   0   2  17]\n",
      " [ 63   0  12   2   5  16   3   0 718  35]\n",
      " [ 42   0  24   2   2   9  16   0  79 106]]\n"
     ]
    },
    {
     "name": "stderr",
     "output_type": "stream",
     "text": [
      "C:\\Users\\ravic\\anaconda3\\lib\\site-packages\\sklearn\\metrics\\_classification.py:1318: UndefinedMetricWarning: Precision and F-score are ill-defined and being set to 0.0 in labels with no predicted samples. Use `zero_division` parameter to control this behavior.\n",
      "  _warn_prf(average, modifier, msg_start, len(result))\n",
      "C:\\Users\\ravic\\anaconda3\\lib\\site-packages\\sklearn\\metrics\\_classification.py:1318: UndefinedMetricWarning: Precision and F-score are ill-defined and being set to 0.0 in labels with no predicted samples. Use `zero_division` parameter to control this behavior.\n",
      "  _warn_prf(average, modifier, msg_start, len(result))\n",
      "C:\\Users\\ravic\\anaconda3\\lib\\site-packages\\sklearn\\metrics\\_classification.py:1318: UndefinedMetricWarning: Precision and F-score are ill-defined and being set to 0.0 in labels with no predicted samples. Use `zero_division` parameter to control this behavior.\n",
      "  _warn_prf(average, modifier, msg_start, len(result))\n"
     ]
    }
   ],
   "source": [
    "y_predict = classifier_rf.predict(Ftest)\n",
    "class_names = target.unique()\n",
    "print(classification_report(Ltest, y_predict, target_names=class_names))\n",
    "print(confusion_matrix(Ltest, y_predict))"
   ]
  },
  {
   "cell_type": "markdown",
   "id": "fb1ca20e",
   "metadata": {},
   "source": [
    "# Naive bayes on blue channel data"
   ]
  },
  {
   "cell_type": "code",
   "execution_count": 76,
   "id": "11ea0b85",
   "metadata": {},
   "outputs": [
    {
     "data": {
      "text/plain": [
       "0.5022359821121432"
      ]
     },
     "execution_count": 76,
     "metadata": {},
     "output_type": "execute_result"
    }
   ],
   "source": [
    "gnb.fit(Ftrain, Ltrain)\n",
    "y_pred = gnb.predict(Ftest)\n",
    "metrics.accuracy_score(Ltest, y_pred)"
   ]
  },
  {
   "cell_type": "code",
   "execution_count": 77,
   "id": "ca5ce1db",
   "metadata": {},
   "outputs": [
    {
     "name": "stdout",
     "output_type": "stream",
     "text": [
      "                               precision    recall  f1-score   support\n",
      "\n",
      "               bacterial_spot       0.47      0.38      0.42       345\n",
      "                 early_blight       0.25      0.07      0.10       153\n",
      "                      healthy       0.52      0.72      0.60       234\n",
      "                  late_blight       0.48      0.21      0.30       309\n",
      "                    leaf_mold       0.43      0.47      0.45       145\n",
      "           septoria_leaf_spot       0.50      0.44      0.46       293\n",
      "                  target_spot       0.31      0.42      0.36       240\n",
      "          tomato_mosaic_virus       0.00      0.00      0.00        54\n",
      "tomato_yellow_leaf_curl_virus       0.60      0.86      0.71       854\n",
      "      two-spotted_spider_mite       0.34      0.21      0.26       280\n",
      "\n",
      "                     accuracy                           0.50      2907\n",
      "                    macro avg       0.39      0.38      0.37      2907\n",
      "                 weighted avg       0.47      0.50      0.47      2907\n",
      "\n",
      "[[130   2  13   5   2   1  10   0 175   7]\n",
      " [ 13  10   3  12   2   6  29   0  71   7]\n",
      " [ 14   0 168   7   5   6  27   0   1   6]\n",
      " [  8  13 104  66  28  24  21   0  42   3]\n",
      " [  2   2   4  13  68  23  11   0  17   5]\n",
      " [ 10   3   4   7  40 128  26   0  58  17]\n",
      " [ 25   2  13   5   5  23 101   0  25  41]\n",
      " [  7   0   4   0   2  13  18   0   3   7]\n",
      " [ 42   5   4  19   2  19  12   0 731  20]\n",
      " [ 28   3   5   3   3  15  73   1  91  58]]\n"
     ]
    }
   ],
   "source": [
    "class_names = target.unique()\n",
    "print(classification_report(Ltest, y_pred, target_names=class_names))\n",
    "print(confusion_matrix(Ltest, y_pred))"
   ]
  },
  {
   "cell_type": "markdown",
   "id": "d9c9d428",
   "metadata": {},
   "source": [
    "# Decision Tree on Blue channel"
   ]
  },
  {
   "cell_type": "code",
   "execution_count": 78,
   "id": "cbeebfa6",
   "metadata": {},
   "outputs": [
    {
     "data": {
      "text/plain": [
       "0.46439628482972134"
      ]
     },
     "execution_count": 78,
     "metadata": {},
     "output_type": "execute_result"
    }
   ],
   "source": [
    "classifier_tree.fit(Ftrain, Ltrain)\n",
    "classifier_tree.score(Ftest,Ltest)"
   ]
  },
  {
   "cell_type": "code",
   "execution_count": 79,
   "id": "ef622e2a",
   "metadata": {},
   "outputs": [
    {
     "name": "stdout",
     "output_type": "stream",
     "text": [
      "                               precision    recall  f1-score   support\n",
      "\n",
      "               bacterial_spot       0.40      0.43      0.42       345\n",
      "                 early_blight       0.13      0.12      0.13       153\n",
      "                      healthy       0.62      0.53      0.57       234\n",
      "                  late_blight       0.45      0.44      0.45       309\n",
      "                    leaf_mold       0.39      0.44      0.41       145\n",
      "           septoria_leaf_spot       0.41      0.38      0.39       293\n",
      "                  target_spot       0.31      0.33      0.32       240\n",
      "          tomato_mosaic_virus       0.11      0.15      0.12        54\n",
      "tomato_yellow_leaf_curl_virus       0.65      0.66      0.66       854\n",
      "      two-spotted_spider_mite       0.38      0.33      0.35       280\n",
      "\n",
      "                     accuracy                           0.46      2907\n",
      "                    macro avg       0.38      0.38      0.38      2907\n",
      "                 weighted avg       0.47      0.46      0.47      2907\n",
      "\n",
      "[[148  17   4  13   7  11  17   3  98  27]\n",
      " [ 16  19   7  20   8  17  10   4  38  14]\n",
      " [ 14   4 125  34   5   9  20   6   7  10]\n",
      " [ 22  17  26 137  19  29  13   3  35   8]\n",
      " [  5   6   4  15  64  18  15   3   7   8]\n",
      " [ 17   8   6  30  29 111  26  17  32  17]\n",
      " [ 18  21  18  13   4  20  80  10  28  28]\n",
      " [  4   2   3   4   5   8  11   8   5   4]\n",
      " [ 93  49   3  29  12  34  26   9 566  33]\n",
      " [ 31   5   7   9  11  13  44  11  57  92]]\n"
     ]
    }
   ],
   "source": [
    "y_predict = classifier_tree.predict(Ftest)\n",
    "class_names = target.unique()\n",
    "print(classification_report(Ltest, y_predict, target_names=class_names))\n",
    "print(confusion_matrix(Ltest, y_predict))"
   ]
  }
 ],
 "metadata": {
  "kernelspec": {
   "display_name": "Python 3 (ipykernel)",
   "language": "python",
   "name": "python3"
  },
  "language_info": {
   "codemirror_mode": {
    "name": "ipython",
    "version": 3
   },
   "file_extension": ".py",
   "mimetype": "text/x-python",
   "name": "python",
   "nbconvert_exporter": "python",
   "pygments_lexer": "ipython3",
   "version": "3.9.12"
  }
 },
 "nbformat": 4,
 "nbformat_minor": 5
}
