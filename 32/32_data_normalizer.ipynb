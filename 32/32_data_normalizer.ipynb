{
 "cells": [
  {
   "cell_type": "code",
   "execution_count": 1,
   "id": "bcdb1517",
   "metadata": {},
   "outputs": [],
   "source": [
    "import numpy as np #importing numpy\n",
    "import pandas as pd #importing pandas\n",
    "import PIL #importing pillow for image processing\n",
    "from PIL import Image#importing image from pillow library\n",
    "import skimage#importing skimage library\n",
    "import os#importing os library\n",
    "import time#importing time library\n",
    "\n",
    "#Capture start time of the program\n",
    "start_time = time.time()"
   ]
  },
  {
   "cell_type": "code",
   "execution_count": 2,
   "id": "9ec45970",
   "metadata": {},
   "outputs": [],
   "source": [
    "os.chdir('D://DKIT//dissertation//Dataset_of_Tomato_Leaves//plantvillage//Preprocessed_data//32//vector//')"
   ]
  },
  {
   "cell_type": "code",
   "execution_count": 3,
   "id": "cbc71f85",
   "metadata": {},
   "outputs": [],
   "source": [
    "#importing classification report and confusion matrix\n",
    "from sklearn.metrics import classification_report, confusion_matrix"
   ]
  },
  {
   "cell_type": "markdown",
   "id": "7139bf53",
   "metadata": {},
   "source": [
    "# KNN on rgb data"
   ]
  },
  {
   "cell_type": "code",
   "execution_count": 4,
   "id": "9386938c",
   "metadata": {},
   "outputs": [],
   "source": [
    "#reading numpy array data\n",
    "rgb_test = np.load('rgb_data.npy')\n",
    "#reading csv file\n",
    "rgb_df = pd.read_csv('rgb_data.csv')"
   ]
  },
  {
   "cell_type": "code",
   "execution_count": 5,
   "id": "4f95f2f6",
   "metadata": {},
   "outputs": [],
   "source": [
    "loaded = []\n",
    "for i in rgb_test:\n",
    "    k = []\n",
    "    k = np.asarray(i,dtype='uint8')\n",
    "    loaded.append(k)"
   ]
  },
  {
   "cell_type": "code",
   "execution_count": 6,
   "id": "c6d5658c",
   "metadata": {},
   "outputs": [],
   "source": [
    "features = loaded\n",
    "target = rgb_df['disease']\n",
    "from sklearn.preprocessing import Normalizer\n",
    "norm = Normalizer()\n",
    "from sklearn.model_selection import train_test_split\n",
    "Ftrain,Ftest,Ltrain,Ltest=train_test_split(features,target, test_size=0.20, random_state=24)"
   ]
  },
  {
   "cell_type": "code",
   "execution_count": 7,
   "id": "8cc86824",
   "metadata": {},
   "outputs": [],
   "source": [
    "Ftrain = norm.fit_transform(Ftrain)\n",
    "Ftest = norm.fit_transform(Ftest)"
   ]
  },
  {
   "cell_type": "code",
   "execution_count": 8,
   "id": "6f1171c6",
   "metadata": {},
   "outputs": [],
   "source": [
    "from sklearn.neighbors import KNeighborsClassifier\n",
    "kmodel = KNeighborsClassifier(n_neighbors=120)"
   ]
  },
  {
   "cell_type": "code",
   "execution_count": 9,
   "id": "b9fdc978",
   "metadata": {},
   "outputs": [
    {
     "data": {
      "text/plain": [
       "0.5755073959408324"
      ]
     },
     "execution_count": 9,
     "metadata": {},
     "output_type": "execute_result"
    }
   ],
   "source": [
    "kmodel.fit(Ftrain,Ltrain)\n",
    "kmodel.score(Ftest,Ltest)"
   ]
  },
  {
   "cell_type": "code",
   "execution_count": 10,
   "id": "cc56686d",
   "metadata": {},
   "outputs": [
    {
     "name": "stdout",
     "output_type": "stream",
     "text": [
      "                               precision    recall  f1-score   support\n",
      "\n",
      "               bacterial_spot       0.33      0.79      0.47       345\n",
      "                 early_blight       0.00      0.00      0.00       153\n",
      "                      healthy       0.49      0.70      0.57       234\n",
      "                  late_blight       0.62      0.44      0.51       309\n",
      "                    leaf_mold       0.69      0.54      0.61       145\n",
      "           septoria_leaf_spot       0.44      0.40      0.42       293\n",
      "                  target_spot       0.55      0.11      0.18       240\n",
      "          tomato_mosaic_virus       0.62      0.19      0.29        54\n",
      "tomato_yellow_leaf_curl_virus       0.85      0.84      0.84       854\n",
      "      two-spotted_spider_mite       0.63      0.54      0.58       280\n",
      "\n",
      "                     accuracy                           0.58      2907\n",
      "                    macro avg       0.52      0.46      0.45      2907\n",
      "                 weighted avg       0.59      0.58      0.55      2907\n",
      "\n",
      "[[274   0  29   8   0   9   0   0  23   2]\n",
      " [ 97   0   5   4   1  16   5   0  20   5]\n",
      " [ 20   0 164  11   0  25   5   1   0   8]\n",
      " [ 62   0  37 136  16  30   2   1  20   5]\n",
      " [ 10   0  10  14  79  18   1   3   3   7]\n",
      " [ 54   0  34  33  15 117   0   0  26  14]\n",
      " [148   0  18   1   0  20  26   1   3  23]\n",
      " [  0   0   7   6   3   6   1  10   5  16]\n",
      " [ 91   0  21   1   0  15   0   0 715  11]\n",
      " [ 67   0  12   7   0  10   7   0  25 152]]\n"
     ]
    },
    {
     "name": "stderr",
     "output_type": "stream",
     "text": [
      "C:\\Users\\ravic\\anaconda3\\lib\\site-packages\\sklearn\\metrics\\_classification.py:1248: UndefinedMetricWarning: Precision and F-score are ill-defined and being set to 0.0 in labels with no predicted samples. Use `zero_division` parameter to control this behavior.\n",
      "  _warn_prf(average, modifier, msg_start, len(result))\n",
      "C:\\Users\\ravic\\anaconda3\\lib\\site-packages\\sklearn\\metrics\\_classification.py:1248: UndefinedMetricWarning: Precision and F-score are ill-defined and being set to 0.0 in labels with no predicted samples. Use `zero_division` parameter to control this behavior.\n",
      "  _warn_prf(average, modifier, msg_start, len(result))\n",
      "C:\\Users\\ravic\\anaconda3\\lib\\site-packages\\sklearn\\metrics\\_classification.py:1248: UndefinedMetricWarning: Precision and F-score are ill-defined and being set to 0.0 in labels with no predicted samples. Use `zero_division` parameter to control this behavior.\n",
      "  _warn_prf(average, modifier, msg_start, len(result))\n"
     ]
    }
   ],
   "source": [
    "#printing results of the kmodel\n",
    "y_predict = kmodel.predict(Ftest)\n",
    "class_names = target.unique()\n",
    "print(classification_report(Ltest, y_predict, target_names=class_names))\n",
    "print(confusion_matrix(Ltest, y_predict))"
   ]
  },
  {
   "cell_type": "markdown",
   "id": "d5c58638",
   "metadata": {},
   "source": [
    "# Logistic on rgb data"
   ]
  },
  {
   "cell_type": "code",
   "execution_count": 11,
   "id": "a84836ef",
   "metadata": {},
   "outputs": [
    {
     "data": {
      "text/plain": [
       "0.6401788785689715"
      ]
     },
     "execution_count": 11,
     "metadata": {},
     "output_type": "execute_result"
    }
   ],
   "source": [
    "from sklearn.linear_model import LogisticRegression\n",
    "model=LogisticRegression(solver='lbfgs', max_iter=10000)\n",
    "model.fit(Ftrain,Ltrain)\n",
    "model.score(Ftest,Ltest)"
   ]
  },
  {
   "cell_type": "code",
   "execution_count": 12,
   "id": "a1f10c9f",
   "metadata": {},
   "outputs": [
    {
     "name": "stdout",
     "output_type": "stream",
     "text": [
      "                               precision    recall  f1-score   support\n",
      "\n",
      "               bacterial_spot       0.53      0.67      0.59       345\n",
      "                 early_blight       0.44      0.05      0.09       153\n",
      "                      healthy       0.67      0.80      0.73       234\n",
      "                  late_blight       0.62      0.59      0.61       309\n",
      "                    leaf_mold       0.66      0.55      0.60       145\n",
      "           septoria_leaf_spot       0.49      0.34      0.40       293\n",
      "                  target_spot       0.73      0.30      0.42       240\n",
      "          tomato_mosaic_virus       0.00      0.00      0.00        54\n",
      "tomato_yellow_leaf_curl_virus       0.72      0.96      0.82       854\n",
      "      two-spotted_spider_mite       0.56      0.65      0.60       280\n",
      "\n",
      "                     accuracy                           0.64      2907\n",
      "                    macro avg       0.54      0.49      0.49      2907\n",
      "                 weighted avg       0.62      0.64      0.60      2907\n",
      "\n",
      "[[230   1  10  18   0  14   0   0  70   2]\n",
      " [ 47   8   4  22   1   6   4   0  44  17]\n",
      " [  4   0 188  15   1  10   7   0   3   6]\n",
      " [ 21   4  24 183  12  10   5   0  35  15]\n",
      " [  1   0   9   9  80  22   2   1  17   4]\n",
      " [ 38   1  13  21  23 100   3   0  72  22]\n",
      " [ 54   0  23   8   0   8  72   0  17  58]\n",
      " [  0   0   0   6   4  27   2   0   6   9]\n",
      " [ 14   0   2   7   0   3   0   0 818  10]\n",
      " [ 23   4   7   5   0   6   4   0  49 182]]\n"
     ]
    }
   ],
   "source": [
    "#classification report\n",
    "y_predict = model.predict(Ftest)\n",
    "class_names = target.unique()\n",
    "print(classification_report(Ltest, y_predict, target_names=class_names))\n",
    "print(confusion_matrix(Ltest, y_predict))"
   ]
  },
  {
   "cell_type": "markdown",
   "id": "6fe194bc",
   "metadata": {},
   "source": [
    "# SVM on RGB data"
   ]
  },
  {
   "cell_type": "code",
   "execution_count": 13,
   "id": "2427ed51",
   "metadata": {},
   "outputs": [
    {
     "name": "stdout",
     "output_type": "stream",
     "text": [
      "0.6783625730994152\n"
     ]
    }
   ],
   "source": [
    "from sklearn.svm import SVC\n",
    "from sklearn.metrics import accuracy_score\n",
    "\n",
    "clf = SVC(kernel='linear')\n",
    "clf.fit(Ftrain,Ltrain)\n",
    "y_pred = clf.predict(Ftest)\n",
    "print(accuracy_score(Ltest,y_pred))"
   ]
  },
  {
   "cell_type": "code",
   "execution_count": 14,
   "id": "4103cc2e",
   "metadata": {},
   "outputs": [
    {
     "name": "stdout",
     "output_type": "stream",
     "text": [
      "                               precision    recall  f1-score   support\n",
      "\n",
      "               bacterial_spot       0.58      0.73      0.64       345\n",
      "                 early_blight       0.54      0.08      0.15       153\n",
      "                      healthy       0.76      0.79      0.77       234\n",
      "                  late_blight       0.67      0.64      0.66       309\n",
      "                    leaf_mold       0.68      0.56      0.61       145\n",
      "           septoria_leaf_spot       0.47      0.42      0.45       293\n",
      "                  target_spot       0.64      0.49      0.55       240\n",
      "          tomato_mosaic_virus       0.00      0.00      0.00        54\n",
      "tomato_yellow_leaf_curl_virus       0.81      0.95      0.88       854\n",
      "      two-spotted_spider_mite       0.56      0.69      0.62       280\n",
      "\n",
      "                     accuracy                           0.68      2907\n",
      "                    macro avg       0.57      0.53      0.53      2907\n",
      "                 weighted avg       0.66      0.68      0.65      2907\n",
      "\n",
      "[[251   1   5  16   0  13   2   0  53   4]\n",
      " [ 41  13   4  20   1   9  19   0  26  20]\n",
      " [  4   1 184  10   0  13  18   0   0   4]\n",
      " [ 21   3  14 197  14  18   6   0  20  16]\n",
      " [  1   1   6   9  81  28   3   0  12   4]\n",
      " [ 44   0  10  20  20 124   8   1  43  23]\n",
      " [ 32   0  13   4   0  11 117   0   7  56]\n",
      " [  0   0   0   4   4  30   2   0   3  11]\n",
      " [ 18   0   0   5   0   5   0   0 812  14]\n",
      " [ 23   5   7   7   0  13   8   0  24 193]]\n"
     ]
    }
   ],
   "source": [
    "#classification report\n",
    "y_predict = clf.predict(Ftest)\n",
    "class_names = target.unique()\n",
    "print(classification_report(Ltest, y_predict, target_names=class_names))\n",
    "print(confusion_matrix(Ltest, y_predict))"
   ]
  },
  {
   "cell_type": "markdown",
   "id": "73bef6fa",
   "metadata": {},
   "source": [
    "# Random Forest on RGB "
   ]
  },
  {
   "cell_type": "code",
   "execution_count": 15,
   "id": "6bae5a92",
   "metadata": {},
   "outputs": [],
   "source": [
    "from sklearn.ensemble import RandomForestClassifier"
   ]
  },
  {
   "cell_type": "code",
   "execution_count": 16,
   "id": "1d08a15e",
   "metadata": {},
   "outputs": [],
   "source": [
    "classifier_rf = RandomForestClassifier(random_state=42, n_jobs=-1, max_depth=5,n_estimators=100, oob_score=True)"
   ]
  },
  {
   "cell_type": "code",
   "execution_count": 17,
   "id": "938ad007",
   "metadata": {},
   "outputs": [
    {
     "data": {
      "text/plain": [
       "RandomForestClassifier(max_depth=5, n_jobs=-1, oob_score=True, random_state=42)"
      ]
     },
     "execution_count": 17,
     "metadata": {},
     "output_type": "execute_result"
    }
   ],
   "source": [
    "classifier_rf.fit(Ftrain, Ltrain)"
   ]
  },
  {
   "cell_type": "code",
   "execution_count": 18,
   "id": "e1769cec",
   "metadata": {},
   "outputs": [
    {
     "data": {
      "text/plain": [
       "0.5337233310392292"
      ]
     },
     "execution_count": 18,
     "metadata": {},
     "output_type": "execute_result"
    }
   ],
   "source": [
    "classifier_rf.oob_score_"
   ]
  },
  {
   "cell_type": "code",
   "execution_count": 19,
   "id": "c144f9db",
   "metadata": {},
   "outputs": [
    {
     "name": "stdout",
     "output_type": "stream",
     "text": [
      "                               precision    recall  f1-score   support\n",
      "\n",
      "               bacterial_spot       0.48      0.61      0.54       345\n",
      "                 early_blight       0.00      0.00      0.00       153\n",
      "                      healthy       0.60      0.85      0.70       234\n",
      "                  late_blight       0.68      0.50      0.58       309\n",
      "                    leaf_mold       0.74      0.38      0.50       145\n",
      "           septoria_leaf_spot       0.51      0.18      0.26       293\n",
      "                  target_spot       0.53      0.07      0.12       240\n",
      "          tomato_mosaic_virus       0.00      0.00      0.00        54\n",
      "tomato_yellow_leaf_curl_virus       0.49      0.98      0.66       854\n",
      "      two-spotted_spider_mite       1.00      0.01      0.01       280\n",
      "\n",
      "                     accuracy                           0.53      2907\n",
      "                    macro avg       0.50      0.36      0.34      2907\n",
      "                 weighted avg       0.55      0.53      0.44      2907\n",
      "\n",
      "[[210   0  11  14   0   1   2   0 107   0]\n",
      " [ 39   0   3   4   0   1   4   0 102   0]\n",
      " [  3   0 198   7   1   7   3   0  15   0]\n",
      " [ 24   0  19 154   7   4   0   0 101   0]\n",
      " [  7   0  10  12  55  10   0   0  51   0]\n",
      " [ 29   0  19  18   7  52   1   0 167   0]\n",
      " [ 75   0  47   4   0   7  17   0  90   0]\n",
      " [  6   0   1   4   4  11   0   0  28   0]\n",
      " [  9   0   0   3   0   2   0   0 840   0]\n",
      " [ 36   0  21   6   0   6   5   0 204   2]]\n"
     ]
    },
    {
     "name": "stderr",
     "output_type": "stream",
     "text": [
      "C:\\Users\\ravic\\anaconda3\\lib\\site-packages\\sklearn\\metrics\\_classification.py:1248: UndefinedMetricWarning: Precision and F-score are ill-defined and being set to 0.0 in labels with no predicted samples. Use `zero_division` parameter to control this behavior.\n",
      "  _warn_prf(average, modifier, msg_start, len(result))\n",
      "C:\\Users\\ravic\\anaconda3\\lib\\site-packages\\sklearn\\metrics\\_classification.py:1248: UndefinedMetricWarning: Precision and F-score are ill-defined and being set to 0.0 in labels with no predicted samples. Use `zero_division` parameter to control this behavior.\n",
      "  _warn_prf(average, modifier, msg_start, len(result))\n",
      "C:\\Users\\ravic\\anaconda3\\lib\\site-packages\\sklearn\\metrics\\_classification.py:1248: UndefinedMetricWarning: Precision and F-score are ill-defined and being set to 0.0 in labels with no predicted samples. Use `zero_division` parameter to control this behavior.\n",
      "  _warn_prf(average, modifier, msg_start, len(result))\n"
     ]
    }
   ],
   "source": [
    "y_predict = classifier_rf.predict(Ftest)\n",
    "class_names = target.unique()\n",
    "print(classification_report(Ltest, y_predict, target_names=class_names))\n",
    "print(confusion_matrix(Ltest, y_predict))"
   ]
  },
  {
   "cell_type": "markdown",
   "id": "b6a094e4",
   "metadata": {},
   "source": [
    "# Naive Bayes on RGB data"
   ]
  },
  {
   "cell_type": "code",
   "execution_count": 20,
   "id": "a5bc755b",
   "metadata": {},
   "outputs": [
    {
     "data": {
      "text/plain": [
       "GaussianNB()"
      ]
     },
     "execution_count": 20,
     "metadata": {},
     "output_type": "execute_result"
    }
   ],
   "source": [
    "from sklearn.naive_bayes import GaussianNB\n",
    "gnb = GaussianNB()\n",
    "gnb.fit(Ftrain, Ltrain)"
   ]
  },
  {
   "cell_type": "code",
   "execution_count": 21,
   "id": "6d162dcc",
   "metadata": {},
   "outputs": [],
   "source": [
    "y_pred = gnb.predict(Ftest)"
   ]
  },
  {
   "cell_type": "code",
   "execution_count": 22,
   "id": "8f7b4bab",
   "metadata": {},
   "outputs": [
    {
     "data": {
      "text/plain": [
       "0.47678018575851394"
      ]
     },
     "execution_count": 22,
     "metadata": {},
     "output_type": "execute_result"
    }
   ],
   "source": [
    "from sklearn import metrics\n",
    "metrics.accuracy_score(Ltest, y_pred)"
   ]
  },
  {
   "cell_type": "code",
   "execution_count": 23,
   "id": "980b37c5",
   "metadata": {},
   "outputs": [
    {
     "name": "stdout",
     "output_type": "stream",
     "text": [
      "                               precision    recall  f1-score   support\n",
      "\n",
      "               bacterial_spot       0.59      0.63      0.61       345\n",
      "                 early_blight       0.21      0.43      0.28       153\n",
      "                      healthy       0.42      0.67      0.52       234\n",
      "                  late_blight       0.46      0.27      0.34       309\n",
      "                    leaf_mold       0.51      0.56      0.53       145\n",
      "           septoria_leaf_spot       0.35      0.25      0.29       293\n",
      "                  target_spot       0.52      0.42      0.47       240\n",
      "          tomato_mosaic_virus       0.16      0.76      0.26        54\n",
      "tomato_yellow_leaf_curl_virus       0.91      0.51      0.65       854\n",
      "      two-spotted_spider_mite       0.36      0.47      0.41       280\n",
      "\n",
      "                     accuracy                           0.48      2907\n",
      "                    macro avg       0.45      0.50      0.44      2907\n",
      "                 weighted avg       0.57      0.48      0.49      2907\n",
      "\n",
      "[[219  28  30   9   0  23  11   3  12  10]\n",
      " [ 17  66   2  17   4   5  14  10   4  14]\n",
      " [  0   4 157  10   4  11  33   8   0   7]\n",
      " [  4  61  89  84  20   9   9  22   4   7]\n",
      " [  3   7   3  13  81  10   1  21   1   5]\n",
      " [ 34  20  37   9  31  72  12  43  14  21]\n",
      " [ 35  25   4   4   4   5 102   9   1  51]\n",
      " [  2   0   0   1   5   4   0  41   1   0]\n",
      " [ 47  75  39  31   8  47   2  49 432 124]\n",
      " [ 12  30  14   5   1  17  12  50   7 132]]\n"
     ]
    }
   ],
   "source": [
    "class_names = target.unique()\n",
    "print(classification_report(Ltest, y_pred, target_names=class_names))\n",
    "print(confusion_matrix(Ltest, y_pred))"
   ]
  },
  {
   "cell_type": "markdown",
   "id": "0ce0377b",
   "metadata": {},
   "source": [
    "# Decision Tree on RGB data"
   ]
  },
  {
   "cell_type": "code",
   "execution_count": 24,
   "id": "b9bba328",
   "metadata": {},
   "outputs": [],
   "source": [
    "from sklearn.tree import DecisionTreeClassifier\n",
    "classifier_tree = DecisionTreeClassifier()"
   ]
  },
  {
   "cell_type": "code",
   "execution_count": 25,
   "id": "b98668ce",
   "metadata": {},
   "outputs": [
    {
     "data": {
      "text/plain": [
       "0.4850361197110423"
      ]
     },
     "execution_count": 25,
     "metadata": {},
     "output_type": "execute_result"
    }
   ],
   "source": [
    "classifier_tree.fit(Ftrain, Ltrain)\n",
    "classifier_tree.score(Ftest,Ltest)"
   ]
  },
  {
   "cell_type": "code",
   "execution_count": 26,
   "id": "9fb604d9",
   "metadata": {},
   "outputs": [
    {
     "name": "stdout",
     "output_type": "stream",
     "text": [
      "                               precision    recall  f1-score   support\n",
      "\n",
      "               bacterial_spot       0.46      0.47      0.47       345\n",
      "                 early_blight       0.12      0.14      0.13       153\n",
      "                      healthy       0.59      0.61      0.60       234\n",
      "                  late_blight       0.46      0.45      0.46       309\n",
      "                    leaf_mold       0.37      0.34      0.36       145\n",
      "           septoria_leaf_spot       0.35      0.35      0.35       293\n",
      "                  target_spot       0.35      0.30      0.33       240\n",
      "          tomato_mosaic_virus       0.11      0.13      0.12        54\n",
      "tomato_yellow_leaf_curl_virus       0.72      0.72      0.72       854\n",
      "      two-spotted_spider_mite       0.33      0.34      0.34       280\n",
      "\n",
      "                     accuracy                           0.48      2907\n",
      "                    macro avg       0.39      0.39      0.39      2907\n",
      "                 weighted avg       0.49      0.48      0.48      2907\n",
      "\n",
      "[[162  39  10  26   6  26  19   2  36  19]\n",
      " [ 20  21   7  19   6  13  19   5  26  17]\n",
      " [  8   7 142  16   8  19  14   5   7   8]\n",
      " [ 19  25  17 140  14  24   9   7  30  24]\n",
      " [ 10   7   8  18  50  15   6   8  13  10]\n",
      " [ 26  15  25  12  20 104  14  11  45  21]\n",
      " [ 25  23  13  16   4  20  73   7  19  40]\n",
      " [  4   5   4   3   5  15   3   7   5   3]\n",
      " [ 49  27   7  36  12  41  21   3 611  47]\n",
      " [ 26  13   6  19  11  19  31   7  53  95]]\n"
     ]
    }
   ],
   "source": [
    "y_predict = classifier_tree.predict(Ftest)\n",
    "class_names = target.unique()\n",
    "print(classification_report(Ltest, y_predict, target_names=class_names))\n",
    "print(confusion_matrix(Ltest, y_predict))"
   ]
  },
  {
   "cell_type": "markdown",
   "id": "c9daaaee",
   "metadata": {},
   "source": [
    "# KNN on grayscale data"
   ]
  },
  {
   "cell_type": "code",
   "execution_count": 27,
   "id": "57a9845e",
   "metadata": {},
   "outputs": [],
   "source": [
    "#reading numpy array data\n",
    "gray_test = np.load('gray_test.npy')\n",
    "#reading csv file\n",
    "gray_df = pd.read_csv('gray_data.csv')"
   ]
  },
  {
   "cell_type": "code",
   "execution_count": 28,
   "id": "25d4fea2",
   "metadata": {},
   "outputs": [],
   "source": [
    "loaded = []\n",
    "for i in gray_test:\n",
    "    k = []\n",
    "    k = np.asarray(i,dtype='uint8')\n",
    "    loaded.append(k)"
   ]
  },
  {
   "cell_type": "code",
   "execution_count": 29,
   "id": "d3abef95",
   "metadata": {},
   "outputs": [],
   "source": [
    "features = loaded\n",
    "target = gray_df['disease']\n",
    "Ftrain,Ftest,Ltrain,Ltest=train_test_split(features,target, test_size=0.20, random_state=20)\n",
    "Ftrain = norm.fit_transform(Ftrain)\n",
    "Ftest = norm.fit_transform(Ftest)"
   ]
  },
  {
   "cell_type": "code",
   "execution_count": 30,
   "id": "6f75adfd",
   "metadata": {},
   "outputs": [
    {
     "data": {
      "text/plain": [
       "0.46439628482972134"
      ]
     },
     "execution_count": 30,
     "metadata": {},
     "output_type": "execute_result"
    }
   ],
   "source": [
    "kmodel.fit(Ftrain,Ltrain)\n",
    "kmodel.score(Ftest,Ltest)"
   ]
  },
  {
   "cell_type": "code",
   "execution_count": 31,
   "id": "77baa349",
   "metadata": {},
   "outputs": [
    {
     "name": "stdout",
     "output_type": "stream",
     "text": [
      "                               precision    recall  f1-score   support\n",
      "\n",
      "               bacterial_spot       0.35      0.70      0.47       349\n",
      "                 early_blight       0.00      0.00      0.00       182\n",
      "                      healthy       0.38      0.53      0.44       258\n",
      "                  late_blight       0.40      0.31      0.35       316\n",
      "                    leaf_mold       0.55      0.48      0.51       145\n",
      "           septoria_leaf_spot       0.29      0.39      0.33       262\n",
      "                  target_spot       1.00      0.02      0.04       229\n",
      "          tomato_mosaic_virus       1.00      0.02      0.03        58\n",
      "tomato_yellow_leaf_curl_virus       0.60      0.69      0.64       857\n",
      "      two-spotted_spider_mite       0.72      0.41      0.52       251\n",
      "\n",
      "                     accuracy                           0.46      2907\n",
      "                    macro avg       0.53      0.35      0.33      2907\n",
      "                 weighted avg       0.51      0.46      0.43      2907\n",
      "\n",
      "[[245   0  26  20   1  26   0   0  31   0]\n",
      " [ 94   0   4   2  12  14   0   0  55   1]\n",
      " [ 14   0 138   9   0  63   0   0  32   2]\n",
      " [ 55   0  48  98  20  19   0   0  71   5]\n",
      " [  6   0   7  19  69  21   0   0  22   1]\n",
      " [ 29   0  40  28  13 103   0   0  44   5]\n",
      " [110   0   6   4   1  42   5   0  47  14]\n",
      " [  0   0   3   2   1  14   0   1  33   4]\n",
      " [ 76   0  87  59   6  32   0   0 589   8]\n",
      " [ 64   0   7   5   2  19   0   0  52 102]]\n"
     ]
    },
    {
     "name": "stderr",
     "output_type": "stream",
     "text": [
      "C:\\Users\\ravic\\anaconda3\\lib\\site-packages\\sklearn\\metrics\\_classification.py:1248: UndefinedMetricWarning: Precision and F-score are ill-defined and being set to 0.0 in labels with no predicted samples. Use `zero_division` parameter to control this behavior.\n",
      "  _warn_prf(average, modifier, msg_start, len(result))\n",
      "C:\\Users\\ravic\\anaconda3\\lib\\site-packages\\sklearn\\metrics\\_classification.py:1248: UndefinedMetricWarning: Precision and F-score are ill-defined and being set to 0.0 in labels with no predicted samples. Use `zero_division` parameter to control this behavior.\n",
      "  _warn_prf(average, modifier, msg_start, len(result))\n",
      "C:\\Users\\ravic\\anaconda3\\lib\\site-packages\\sklearn\\metrics\\_classification.py:1248: UndefinedMetricWarning: Precision and F-score are ill-defined and being set to 0.0 in labels with no predicted samples. Use `zero_division` parameter to control this behavior.\n",
      "  _warn_prf(average, modifier, msg_start, len(result))\n"
     ]
    }
   ],
   "source": [
    "#printing results of the kmodel\n",
    "y_predict = kmodel.predict(Ftest)\n",
    "class_names = target.unique()\n",
    "print(classification_report(Ltest, y_predict, target_names=class_names))\n",
    "print(confusion_matrix(Ltest, y_predict))"
   ]
  },
  {
   "cell_type": "markdown",
   "id": "197eedfc",
   "metadata": {},
   "source": [
    "# Logistic on grayscale data"
   ]
  },
  {
   "cell_type": "code",
   "execution_count": 32,
   "id": "9fd6cafe",
   "metadata": {},
   "outputs": [
    {
     "data": {
      "text/plain": [
       "0.4330925352597179"
      ]
     },
     "execution_count": 32,
     "metadata": {},
     "output_type": "execute_result"
    }
   ],
   "source": [
    "from sklearn.linear_model import LogisticRegression\n",
    "model=LogisticRegression(solver='lbfgs', max_iter=10000)\n",
    "model.fit(Ftrain,Ltrain)\n",
    "model.score(Ftest,Ltest)"
   ]
  },
  {
   "cell_type": "code",
   "execution_count": 33,
   "id": "20a6d97e",
   "metadata": {},
   "outputs": [
    {
     "name": "stdout",
     "output_type": "stream",
     "text": [
      "                               precision    recall  f1-score   support\n",
      "\n",
      "               bacterial_spot       0.44      0.50      0.47       349\n",
      "                 early_blight       0.20      0.01      0.02       182\n",
      "                      healthy       0.46      0.47      0.47       258\n",
      "                  late_blight       0.45      0.20      0.27       316\n",
      "                    leaf_mold       0.61      0.21      0.31       145\n",
      "           septoria_leaf_spot       0.35      0.08      0.14       262\n",
      "                  target_spot       0.43      0.08      0.13       229\n",
      "          tomato_mosaic_virus       0.00      0.00      0.00        58\n",
      "tomato_yellow_leaf_curl_virus       0.43      0.88      0.57       857\n",
      "      two-spotted_spider_mite       0.43      0.29      0.35       251\n",
      "\n",
      "                     accuracy                           0.43      2907\n",
      "                    macro avg       0.38      0.27      0.27      2907\n",
      "                 weighted avg       0.41      0.43      0.37      2907\n",
      "\n",
      "[[175   0  28   8   0   7   0   0 116  15]\n",
      " [ 43   2   2   9   5   4   7   0  92  18]\n",
      " [ 10   0 122  10   0   9   5   0  95   7]\n",
      " [ 27   3  36  62   9   6   3   0 162   8]\n",
      " [  6   0   3  20  30   7   0   0  76   3]\n",
      " [ 26   0  25   5   5  22   3   0 169   7]\n",
      " [ 53   1  12   5   0   2  18   0 115  23]\n",
      " [  0   0   0   0   0   0   0   0  58   0]\n",
      " [ 31   2  31  20   0   2   0   0 754  17]\n",
      " [ 27   2   6   0   0   3   6   0 133  74]]\n"
     ]
    },
    {
     "name": "stderr",
     "output_type": "stream",
     "text": [
      "C:\\Users\\ravic\\anaconda3\\lib\\site-packages\\sklearn\\metrics\\_classification.py:1248: UndefinedMetricWarning: Precision and F-score are ill-defined and being set to 0.0 in labels with no predicted samples. Use `zero_division` parameter to control this behavior.\n",
      "  _warn_prf(average, modifier, msg_start, len(result))\n",
      "C:\\Users\\ravic\\anaconda3\\lib\\site-packages\\sklearn\\metrics\\_classification.py:1248: UndefinedMetricWarning: Precision and F-score are ill-defined and being set to 0.0 in labels with no predicted samples. Use `zero_division` parameter to control this behavior.\n",
      "  _warn_prf(average, modifier, msg_start, len(result))\n",
      "C:\\Users\\ravic\\anaconda3\\lib\\site-packages\\sklearn\\metrics\\_classification.py:1248: UndefinedMetricWarning: Precision and F-score are ill-defined and being set to 0.0 in labels with no predicted samples. Use `zero_division` parameter to control this behavior.\n",
      "  _warn_prf(average, modifier, msg_start, len(result))\n"
     ]
    }
   ],
   "source": [
    "#classification report\n",
    "y_predict = model.predict(Ftest)\n",
    "class_names = target.unique()\n",
    "print(classification_report(Ltest, y_predict, target_names=class_names))\n",
    "print(confusion_matrix(Ltest, y_predict))"
   ]
  },
  {
   "cell_type": "markdown",
   "id": "5284f869",
   "metadata": {},
   "source": [
    "# SVM on Grayscale data"
   ]
  },
  {
   "cell_type": "code",
   "execution_count": 34,
   "id": "d0db5c80",
   "metadata": {},
   "outputs": [
    {
     "name": "stdout",
     "output_type": "stream",
     "text": [
      "0.4324045407636739\n"
     ]
    }
   ],
   "source": [
    "clf = SVC(kernel='linear')\n",
    "clf.fit(Ftrain,Ltrain)\n",
    "y_pred = clf.predict(Ftest)\n",
    "print(accuracy_score(Ltest,y_pred))"
   ]
  },
  {
   "cell_type": "code",
   "execution_count": 35,
   "id": "bcddcf24",
   "metadata": {},
   "outputs": [
    {
     "name": "stdout",
     "output_type": "stream",
     "text": [
      "                               precision    recall  f1-score   support\n",
      "\n",
      "               bacterial_spot       0.42      0.50      0.45       349\n",
      "                 early_blight       0.14      0.01      0.01       182\n",
      "                      healthy       0.48      0.43      0.46       258\n",
      "                  late_blight       0.51      0.13      0.20       316\n",
      "                    leaf_mold       0.67      0.25      0.36       145\n",
      "           septoria_leaf_spot       0.31      0.03      0.06       262\n",
      "                  target_spot       0.41      0.05      0.09       229\n",
      "          tomato_mosaic_virus       0.00      0.00      0.00        58\n",
      "tomato_yellow_leaf_curl_virus       0.42      0.93      0.58       857\n",
      "      two-spotted_spider_mite       0.47      0.29      0.36       251\n",
      "\n",
      "                     accuracy                           0.43      2907\n",
      "                    macro avg       0.38      0.26      0.26      2907\n",
      "                 weighted avg       0.42      0.43      0.35      2907\n",
      "\n",
      "[[174   0  24   2   0   3   0   0 136  10]\n",
      " [ 47   1   3  11   5   3   5   0  92  15]\n",
      " [ 13   0 112   3   0   5   5   0 115   5]\n",
      " [ 25   6  35  40   7   1   2   0 192   8]\n",
      " [  5   0   4  15  36   3   0   0  79   3]\n",
      " [ 30   0  24   3   6   8   1   0 184   6]\n",
      " [ 68   0   9   2   0   2  12   0 115  21]\n",
      " [  0   0   0   0   0   0   0   0  58   0]\n",
      " [ 25   0  15   2   0   1   0   0 800  14]\n",
      " [ 31   0   8   0   0   0   4   0 134  74]]\n"
     ]
    },
    {
     "name": "stderr",
     "output_type": "stream",
     "text": [
      "C:\\Users\\ravic\\anaconda3\\lib\\site-packages\\sklearn\\metrics\\_classification.py:1248: UndefinedMetricWarning: Precision and F-score are ill-defined and being set to 0.0 in labels with no predicted samples. Use `zero_division` parameter to control this behavior.\n",
      "  _warn_prf(average, modifier, msg_start, len(result))\n",
      "C:\\Users\\ravic\\anaconda3\\lib\\site-packages\\sklearn\\metrics\\_classification.py:1248: UndefinedMetricWarning: Precision and F-score are ill-defined and being set to 0.0 in labels with no predicted samples. Use `zero_division` parameter to control this behavior.\n",
      "  _warn_prf(average, modifier, msg_start, len(result))\n",
      "C:\\Users\\ravic\\anaconda3\\lib\\site-packages\\sklearn\\metrics\\_classification.py:1248: UndefinedMetricWarning: Precision and F-score are ill-defined and being set to 0.0 in labels with no predicted samples. Use `zero_division` parameter to control this behavior.\n",
      "  _warn_prf(average, modifier, msg_start, len(result))\n"
     ]
    }
   ],
   "source": [
    "#classification report\n",
    "y_predict = clf.predict(Ftest)\n",
    "class_names = target.unique()\n",
    "print(classification_report(Ltest, y_predict, target_names=class_names))\n",
    "print(confusion_matrix(Ltest, y_predict))"
   ]
  },
  {
   "cell_type": "markdown",
   "id": "576fd580",
   "metadata": {},
   "source": [
    "# Random Forest on Grayscale"
   ]
  },
  {
   "cell_type": "code",
   "execution_count": 36,
   "id": "9dfa979e",
   "metadata": {},
   "outputs": [
    {
     "data": {
      "text/plain": [
       "RandomForestClassifier(max_depth=5, n_jobs=-1, oob_score=True, random_state=42)"
      ]
     },
     "execution_count": 36,
     "metadata": {},
     "output_type": "execute_result"
    }
   ],
   "source": [
    "classifier_rf.fit(Ftrain, Ltrain)"
   ]
  },
  {
   "cell_type": "code",
   "execution_count": 37,
   "id": "2b4347ef",
   "metadata": {},
   "outputs": [
    {
     "data": {
      "text/plain": [
       "0.40287336545079144"
      ]
     },
     "execution_count": 37,
     "metadata": {},
     "output_type": "execute_result"
    }
   ],
   "source": [
    "classifier_rf.oob_score_"
   ]
  },
  {
   "cell_type": "code",
   "execution_count": 38,
   "id": "9263c32f",
   "metadata": {},
   "outputs": [
    {
     "name": "stdout",
     "output_type": "stream",
     "text": [
      "                               precision    recall  f1-score   support\n",
      "\n",
      "               bacterial_spot       0.59      0.47      0.52       349\n",
      "                 early_blight       0.00      0.00      0.00       182\n",
      "                      healthy       0.75      0.40      0.52       258\n",
      "                  late_blight       0.86      0.22      0.36       316\n",
      "                    leaf_mold       0.78      0.19      0.31       145\n",
      "           septoria_leaf_spot       0.00      0.00      0.00       262\n",
      "                  target_spot       0.00      0.00      0.00       229\n",
      "          tomato_mosaic_virus       0.00      0.00      0.00        58\n",
      "tomato_yellow_leaf_curl_virus       0.35      0.96      0.51       857\n",
      "      two-spotted_spider_mite       1.00      0.00      0.01       251\n",
      "\n",
      "                     accuracy                           0.41      2907\n",
      "                    macro avg       0.43      0.22      0.22      2907\n",
      "                 weighted avg       0.46      0.41      0.31      2907\n",
      "\n",
      "[[163   0  10   3   0   0   0   0 173   0]\n",
      " [ 36   0   0   2   1   0   0   0 143   0]\n",
      " [  0   0 102   1   0   0   0   0 155   0]\n",
      " [ 17   0   4  71   4   0   0   0 220   0]\n",
      " [  3   0   1   3  28   0   0   0 110   0]\n",
      " [  5   0  11   2   3   0   0   0 241   0]\n",
      " [ 11   0   0   0   0   0   0   0 218   0]\n",
      " [  0   0   0   0   0   0   0   0  58   0]\n",
      " [ 25   0   7   1   0   0   0   0 824   0]\n",
      " [ 16   0   1   0   0   0   0   0 233   1]]\n"
     ]
    },
    {
     "name": "stderr",
     "output_type": "stream",
     "text": [
      "C:\\Users\\ravic\\anaconda3\\lib\\site-packages\\sklearn\\metrics\\_classification.py:1248: UndefinedMetricWarning: Precision and F-score are ill-defined and being set to 0.0 in labels with no predicted samples. Use `zero_division` parameter to control this behavior.\n",
      "  _warn_prf(average, modifier, msg_start, len(result))\n",
      "C:\\Users\\ravic\\anaconda3\\lib\\site-packages\\sklearn\\metrics\\_classification.py:1248: UndefinedMetricWarning: Precision and F-score are ill-defined and being set to 0.0 in labels with no predicted samples. Use `zero_division` parameter to control this behavior.\n",
      "  _warn_prf(average, modifier, msg_start, len(result))\n",
      "C:\\Users\\ravic\\anaconda3\\lib\\site-packages\\sklearn\\metrics\\_classification.py:1248: UndefinedMetricWarning: Precision and F-score are ill-defined and being set to 0.0 in labels with no predicted samples. Use `zero_division` parameter to control this behavior.\n",
      "  _warn_prf(average, modifier, msg_start, len(result))\n"
     ]
    }
   ],
   "source": [
    "y_predict = classifier_rf.predict(Ftest)\n",
    "class_names = target.unique()\n",
    "print(classification_report(Ltest, y_predict, target_names=class_names))\n",
    "print(confusion_matrix(Ltest, y_predict))"
   ]
  },
  {
   "cell_type": "markdown",
   "id": "8befce61",
   "metadata": {},
   "source": [
    "# Naive bayes on Grayscale"
   ]
  },
  {
   "cell_type": "code",
   "execution_count": 39,
   "id": "0d1a6d3b",
   "metadata": {},
   "outputs": [
    {
     "data": {
      "text/plain": [
       "GaussianNB()"
      ]
     },
     "execution_count": 39,
     "metadata": {},
     "output_type": "execute_result"
    }
   ],
   "source": [
    "gnb.fit(Ftrain, Ltrain)"
   ]
  },
  {
   "cell_type": "code",
   "execution_count": 40,
   "id": "053c9a09",
   "metadata": {},
   "outputs": [
    {
     "data": {
      "text/plain": [
       "0.3409012727898177"
      ]
     },
     "execution_count": 40,
     "metadata": {},
     "output_type": "execute_result"
    }
   ],
   "source": [
    "y_pred = gnb.predict(Ftest)\n",
    "metrics.accuracy_score(Ltest, y_pred)"
   ]
  },
  {
   "cell_type": "code",
   "execution_count": 41,
   "id": "22c98d80",
   "metadata": {},
   "outputs": [
    {
     "name": "stdout",
     "output_type": "stream",
     "text": [
      "                               precision    recall  f1-score   support\n",
      "\n",
      "               bacterial_spot       0.55      0.61      0.58       349\n",
      "                 early_blight       0.24      0.40      0.30       182\n",
      "                      healthy       0.31      0.64      0.42       258\n",
      "                  late_blight       0.42      0.20      0.27       316\n",
      "                    leaf_mold       0.39      0.50      0.44       145\n",
      "           septoria_leaf_spot       0.22      0.14      0.17       262\n",
      "                  target_spot       0.44      0.31      0.36       229\n",
      "          tomato_mosaic_virus       0.10      0.69      0.18        58\n",
      "tomato_yellow_leaf_curl_virus       0.56      0.19      0.28       857\n",
      "      two-spotted_spider_mite       0.28      0.37      0.32       251\n",
      "\n",
      "                     accuracy                           0.34      2907\n",
      "                    macro avg       0.35      0.41      0.33      2907\n",
      "                 weighted avg       0.42      0.34      0.34      2907\n",
      "\n",
      "[[213  22  46   3   1  17   7  12  14  14]\n",
      " [ 19  73   3  17  12   3  11   6  11  27]\n",
      " [  0   3 166   6   7  16  22   8  22   8]\n",
      " [  5  65  89  64  19  13  12  24  15  10]\n",
      " [  1   2  10   5  73   6   7  25  13   3]\n",
      " [ 21  12  53   8  30  36   9  54  19  20]\n",
      " [ 41  23   5   9   7   5  71  12  15  41]\n",
      " [  2   0   0   0   5   4   0  40   6   1]\n",
      " [ 75  79 157  35  25  50   6 151 162 117]\n",
      " [ 10  25  11   5   6  13  17  59  12  93]]\n"
     ]
    }
   ],
   "source": [
    "class_names = target.unique()\n",
    "print(classification_report(Ltest, y_pred, target_names=class_names))\n",
    "print(confusion_matrix(Ltest, y_pred))"
   ]
  },
  {
   "cell_type": "markdown",
   "id": "9a562db7",
   "metadata": {},
   "source": [
    "# Decision Tree on Grayscale"
   ]
  },
  {
   "cell_type": "code",
   "execution_count": 42,
   "id": "a4e9cd0d",
   "metadata": {},
   "outputs": [
    {
     "data": {
      "text/plain": [
       "0.4066047471620227"
      ]
     },
     "execution_count": 42,
     "metadata": {},
     "output_type": "execute_result"
    }
   ],
   "source": [
    "classifier_tree.fit(Ftrain, Ltrain)\n",
    "classifier_tree.score(Ftest,Ltest)"
   ]
  },
  {
   "cell_type": "code",
   "execution_count": 43,
   "id": "523c3773",
   "metadata": {},
   "outputs": [
    {
     "name": "stdout",
     "output_type": "stream",
     "text": [
      "                               precision    recall  f1-score   support\n",
      "\n",
      "               bacterial_spot       0.45      0.46      0.45       349\n",
      "                 early_blight       0.14      0.12      0.13       182\n",
      "                      healthy       0.57      0.50      0.54       258\n",
      "                  late_blight       0.38      0.35      0.36       316\n",
      "                    leaf_mold       0.26      0.27      0.26       145\n",
      "           septoria_leaf_spot       0.25      0.29      0.27       262\n",
      "                  target_spot       0.28      0.25      0.26       229\n",
      "          tomato_mosaic_virus       0.08      0.10      0.09        58\n",
      "tomato_yellow_leaf_curl_virus       0.53      0.54      0.54       857\n",
      "      two-spotted_spider_mite       0.36      0.37      0.36       251\n",
      "\n",
      "                     accuracy                           0.40      2907\n",
      "                    macro avg       0.33      0.33      0.33      2907\n",
      "                 weighted avg       0.40      0.40      0.40      2907\n",
      "\n",
      "[[160  13   6  27  11  17  18   4  77  16]\n",
      " [ 31  21   4  20   7  17  20   1  47  14]\n",
      " [  8   7 130  17  11  31  11   5  32   6]\n",
      " [ 33  22  12 111   8  28  14   3  68  17]\n",
      " [ 11   8   5  17  39  23   9   5  24   4]\n",
      " [ 15  13  12  26  17  77  17   8  64  13]\n",
      " [ 12  15  16  16   8  27  57   6  32  40]\n",
      " [  3   0   4   1   2  13   1   6  23   5]\n",
      " [ 62  31  33  46  39  62  34  32 466  52]\n",
      " [ 20  23   5  13  10  14  25   3  46  92]]\n"
     ]
    }
   ],
   "source": [
    "y_predict = classifier_tree.fit(Ftrain, Ltrain).predict(Ftest)\n",
    "class_names = target.unique()\n",
    "print(classification_report(Ltest, y_predict, target_names=class_names))\n",
    "print(confusion_matrix(Ltest, y_predict))"
   ]
  },
  {
   "cell_type": "markdown",
   "id": "e42f549f",
   "metadata": {},
   "source": [
    "# KNN on Red channel data"
   ]
  },
  {
   "cell_type": "code",
   "execution_count": 44,
   "id": "cb75cbbd",
   "metadata": {},
   "outputs": [],
   "source": [
    "#reading numpy array data\n",
    "gray_test = np.load('red_data.npy')\n",
    "#reading csv file\n",
    "gray_df = pd.read_csv('red_data.csv')"
   ]
  },
  {
   "cell_type": "code",
   "execution_count": 45,
   "id": "7fda7839",
   "metadata": {},
   "outputs": [],
   "source": [
    "loaded = []\n",
    "for i in gray_test:\n",
    "    k = []\n",
    "    k = np.asarray(i,dtype='uint8')\n",
    "    loaded.append(k)\n",
    "features = loaded\n",
    "target = gray_df['disease']\n",
    "Ftrain,Ftest,Ltrain,Ltest=train_test_split(features,target, test_size=0.20, random_state=20)\n",
    "Ftrain = norm.fit_transform(Ftrain)\n",
    "Ftest = norm.fit_transform(Ftest)"
   ]
  },
  {
   "cell_type": "code",
   "execution_count": 46,
   "id": "683839f2",
   "metadata": {},
   "outputs": [
    {
     "data": {
      "text/plain": [
       "0.4760921912624699"
      ]
     },
     "execution_count": 46,
     "metadata": {},
     "output_type": "execute_result"
    }
   ],
   "source": [
    "kmodel.fit(Ftrain,Ltrain)\n",
    "kmodel.score(Ftest,Ltest)"
   ]
  },
  {
   "cell_type": "code",
   "execution_count": 47,
   "id": "53bc7b93",
   "metadata": {},
   "outputs": [
    {
     "name": "stdout",
     "output_type": "stream",
     "text": [
      "                               precision    recall  f1-score   support\n",
      "\n",
      "               bacterial_spot       0.40      0.67      0.50       349\n",
      "                 early_blight       0.00      0.00      0.00       182\n",
      "                      healthy       0.34      0.60      0.44       258\n",
      "                  late_blight       0.48      0.33      0.39       316\n",
      "                    leaf_mold       0.63      0.41      0.50       145\n",
      "           septoria_leaf_spot       0.30      0.37      0.33       262\n",
      "                  target_spot       0.67      0.08      0.14       229\n",
      "          tomato_mosaic_virus       0.50      0.02      0.03        58\n",
      "tomato_yellow_leaf_curl_virus       0.59      0.71      0.64       857\n",
      "      two-spotted_spider_mite       0.62      0.45      0.52       251\n",
      "\n",
      "                     accuracy                           0.48      2907\n",
      "                    macro avg       0.45      0.36      0.35      2907\n",
      "                 weighted avg       0.48      0.48      0.44      2907\n",
      "\n",
      "[[233   0  32  17   0  23   0   0  42   2]\n",
      " [ 78   0  12   2   7  20   2   1  55   5]\n",
      " [  3   0 155   6   0  57   0   0  35   2]\n",
      " [ 39   0  51 103  14  33   1   0  72   3]\n",
      " [  5   0  19  14  60  20   0   0  24   3]\n",
      " [ 24   0  46  24  10  97   0   0  53   8]\n",
      " [ 83   0  27   0   0  36  18   0  41  24]\n",
      " [  0   0   2   1   1   5   0   1  38  10]\n",
      " [ 76   0  94  42   2  25   0   0 605  13]\n",
      " [ 45   0  16   5   1  12   6   0  54 112]]\n"
     ]
    },
    {
     "name": "stderr",
     "output_type": "stream",
     "text": [
      "C:\\Users\\ravic\\anaconda3\\lib\\site-packages\\sklearn\\metrics\\_classification.py:1248: UndefinedMetricWarning: Precision and F-score are ill-defined and being set to 0.0 in labels with no predicted samples. Use `zero_division` parameter to control this behavior.\n",
      "  _warn_prf(average, modifier, msg_start, len(result))\n",
      "C:\\Users\\ravic\\anaconda3\\lib\\site-packages\\sklearn\\metrics\\_classification.py:1248: UndefinedMetricWarning: Precision and F-score are ill-defined and being set to 0.0 in labels with no predicted samples. Use `zero_division` parameter to control this behavior.\n",
      "  _warn_prf(average, modifier, msg_start, len(result))\n",
      "C:\\Users\\ravic\\anaconda3\\lib\\site-packages\\sklearn\\metrics\\_classification.py:1248: UndefinedMetricWarning: Precision and F-score are ill-defined and being set to 0.0 in labels with no predicted samples. Use `zero_division` parameter to control this behavior.\n",
      "  _warn_prf(average, modifier, msg_start, len(result))\n"
     ]
    }
   ],
   "source": [
    "#printing results of the kmodel\n",
    "y_predict = kmodel.predict(Ftest)\n",
    "class_names = target.unique()\n",
    "print(classification_report(Ltest, y_predict, target_names=class_names))\n",
    "print(confusion_matrix(Ltest, y_predict))"
   ]
  },
  {
   "cell_type": "markdown",
   "id": "ffcda594",
   "metadata": {},
   "source": [
    "# Logistic on Red channel data"
   ]
  },
  {
   "cell_type": "code",
   "execution_count": 48,
   "id": "1ed4037b",
   "metadata": {},
   "outputs": [
    {
     "data": {
      "text/plain": [
       "0.46164430684554525"
      ]
     },
     "execution_count": 48,
     "metadata": {},
     "output_type": "execute_result"
    }
   ],
   "source": [
    "model.fit(Ftrain,Ltrain)\n",
    "model.score(Ftest,Ltest)"
   ]
  },
  {
   "cell_type": "code",
   "execution_count": 49,
   "id": "22b11f2e",
   "metadata": {},
   "outputs": [
    {
     "name": "stdout",
     "output_type": "stream",
     "text": [
      "                               precision    recall  f1-score   support\n",
      "\n",
      "               bacterial_spot       0.45      0.53      0.49       349\n",
      "                 early_blight       0.25      0.01      0.01       182\n",
      "                      healthy       0.47      0.52      0.49       258\n",
      "                  late_blight       0.48      0.27      0.34       316\n",
      "                    leaf_mold       0.63      0.29      0.40       145\n",
      "           septoria_leaf_spot       0.38      0.13      0.20       262\n",
      "                  target_spot       0.51      0.14      0.21       229\n",
      "          tomato_mosaic_virus       0.00      0.00      0.00        58\n",
      "tomato_yellow_leaf_curl_virus       0.46      0.87      0.60       857\n",
      "      two-spotted_spider_mite       0.45      0.33      0.38       251\n",
      "\n",
      "                     accuracy                           0.46      2907\n",
      "                    macro avg       0.41      0.31      0.31      2907\n",
      "                 weighted avg       0.44      0.46      0.40      2907\n",
      "\n",
      "[[186   0  24  16   0  10   2   0  97  14]\n",
      " [ 41   1   4   9   8   5   9   0  92  13]\n",
      " [  6   0 134  10   0  12   4   0  84   8]\n",
      " [ 24   3  42  84   8  11   5   0 133   6]\n",
      " [  4   0   3  23  42  12   0   0  58   3]\n",
      " [ 32   0  32  11   8  35   2   0 132  10]\n",
      " [ 56   0  11   3   0   3  31   0  96  29]\n",
      " [  0   0   0   0   1   0   0   0  57   0]\n",
      " [ 41   0  32  19   0   2   0   0 747  16]\n",
      " [ 25   0   6   0   0   3   8   0 127  82]]\n"
     ]
    },
    {
     "name": "stderr",
     "output_type": "stream",
     "text": [
      "C:\\Users\\ravic\\anaconda3\\lib\\site-packages\\sklearn\\metrics\\_classification.py:1248: UndefinedMetricWarning: Precision and F-score are ill-defined and being set to 0.0 in labels with no predicted samples. Use `zero_division` parameter to control this behavior.\n",
      "  _warn_prf(average, modifier, msg_start, len(result))\n",
      "C:\\Users\\ravic\\anaconda3\\lib\\site-packages\\sklearn\\metrics\\_classification.py:1248: UndefinedMetricWarning: Precision and F-score are ill-defined and being set to 0.0 in labels with no predicted samples. Use `zero_division` parameter to control this behavior.\n",
      "  _warn_prf(average, modifier, msg_start, len(result))\n",
      "C:\\Users\\ravic\\anaconda3\\lib\\site-packages\\sklearn\\metrics\\_classification.py:1248: UndefinedMetricWarning: Precision and F-score are ill-defined and being set to 0.0 in labels with no predicted samples. Use `zero_division` parameter to control this behavior.\n",
      "  _warn_prf(average, modifier, msg_start, len(result))\n"
     ]
    }
   ],
   "source": [
    "#classification report\n",
    "y_predict = model.predict(Ftest)\n",
    "class_names = target.unique()\n",
    "print(classification_report(Ltest, y_predict, target_names=class_names))\n",
    "print(confusion_matrix(Ltest, y_predict))"
   ]
  },
  {
   "cell_type": "markdown",
   "id": "dba6d5ce",
   "metadata": {},
   "source": [
    "# SVM on Red channel data"
   ]
  },
  {
   "cell_type": "code",
   "execution_count": 50,
   "id": "6ed153f7",
   "metadata": {},
   "outputs": [
    {
     "name": "stdout",
     "output_type": "stream",
     "text": [
      "0.4764361885104919\n"
     ]
    }
   ],
   "source": [
    "clf.fit(Ftrain,Ltrain)\n",
    "y_pred = clf.predict(Ftest)\n",
    "print(accuracy_score(Ltest,y_pred))"
   ]
  },
  {
   "cell_type": "code",
   "execution_count": 51,
   "id": "3d2d1d59",
   "metadata": {},
   "outputs": [
    {
     "name": "stdout",
     "output_type": "stream",
     "text": [
      "                               precision    recall  f1-score   support\n",
      "\n",
      "               bacterial_spot       0.47      0.54      0.50       349\n",
      "                 early_blight       0.00      0.00      0.00       182\n",
      "                      healthy       0.45      0.63      0.53       258\n",
      "                  late_blight       0.55      0.19      0.28       316\n",
      "                    leaf_mold       0.65      0.37      0.47       145\n",
      "           septoria_leaf_spot       0.30      0.09      0.14       262\n",
      "                  target_spot       0.50      0.20      0.28       229\n",
      "          tomato_mosaic_virus       0.00      0.00      0.00        58\n",
      "tomato_yellow_leaf_curl_virus       0.48      0.89      0.62       857\n",
      "      two-spotted_spider_mite       0.47      0.33      0.39       251\n",
      "\n",
      "                     accuracy                           0.48      2907\n",
      "                    macro avg       0.39      0.32      0.32      2907\n",
      "                 weighted avg       0.44      0.48      0.41      2907\n",
      "\n",
      "[[189   0  34   9   0   8   2   0  93  14]\n",
      " [ 45   0   8   7   7   6  11   0  83  15]\n",
      " [  4   0 163   3   0  12   6   0  67   3]\n",
      " [ 23   2  53  60  12  12   7   0 143   4]\n",
      " [  5   0   6  17  53  13   0   0  49   2]\n",
      " [ 33   0  39   6   8  24   4   0 137  11]\n",
      " [ 54   0  13   1   0   3  45   0  82  31]\n",
      " [  0   0   0   0   1   0   0   0  57   0]\n",
      " [ 33   0  35   6   1   0   1   0 767  14]\n",
      " [ 20   0  10   0   0   2  14   0 121  84]]\n"
     ]
    },
    {
     "name": "stderr",
     "output_type": "stream",
     "text": [
      "C:\\Users\\ravic\\anaconda3\\lib\\site-packages\\sklearn\\metrics\\_classification.py:1248: UndefinedMetricWarning: Precision and F-score are ill-defined and being set to 0.0 in labels with no predicted samples. Use `zero_division` parameter to control this behavior.\n",
      "  _warn_prf(average, modifier, msg_start, len(result))\n",
      "C:\\Users\\ravic\\anaconda3\\lib\\site-packages\\sklearn\\metrics\\_classification.py:1248: UndefinedMetricWarning: Precision and F-score are ill-defined and being set to 0.0 in labels with no predicted samples. Use `zero_division` parameter to control this behavior.\n",
      "  _warn_prf(average, modifier, msg_start, len(result))\n",
      "C:\\Users\\ravic\\anaconda3\\lib\\site-packages\\sklearn\\metrics\\_classification.py:1248: UndefinedMetricWarning: Precision and F-score are ill-defined and being set to 0.0 in labels with no predicted samples. Use `zero_division` parameter to control this behavior.\n",
      "  _warn_prf(average, modifier, msg_start, len(result))\n"
     ]
    }
   ],
   "source": [
    "#classification report\n",
    "y_predict = clf.predict(Ftest)\n",
    "class_names = target.unique()\n",
    "print(classification_report(Ltest, y_predict, target_names=class_names))\n",
    "print(confusion_matrix(Ltest, y_predict))"
   ]
  },
  {
   "cell_type": "markdown",
   "id": "a670c4d4",
   "metadata": {},
   "source": [
    "# Random forest on Red channel data"
   ]
  },
  {
   "cell_type": "code",
   "execution_count": 52,
   "id": "9e816e9e",
   "metadata": {},
   "outputs": [
    {
     "data": {
      "text/plain": [
       "0.4142291810048176"
      ]
     },
     "execution_count": 52,
     "metadata": {},
     "output_type": "execute_result"
    }
   ],
   "source": [
    "classifier_rf.fit(Ftrain, Ltrain)\n",
    "classifier_rf.oob_score_"
   ]
  },
  {
   "cell_type": "code",
   "execution_count": 53,
   "id": "6d5daf40",
   "metadata": {},
   "outputs": [
    {
     "name": "stdout",
     "output_type": "stream",
     "text": [
      "                               precision    recall  f1-score   support\n",
      "\n",
      "               bacterial_spot       0.60      0.50      0.54       349\n",
      "                 early_blight       0.00      0.00      0.00       182\n",
      "                      healthy       0.62      0.52      0.57       258\n",
      "                  late_blight       0.78      0.28      0.41       316\n",
      "                    leaf_mold       0.82      0.23      0.36       145\n",
      "           septoria_leaf_spot       0.25      0.00      0.01       262\n",
      "                  target_spot       1.00      0.00      0.01       229\n",
      "          tomato_mosaic_virus       0.00      0.00      0.00        58\n",
      "tomato_yellow_leaf_curl_virus       0.36      0.93      0.52       857\n",
      "      two-spotted_spider_mite       1.00      0.00      0.01       251\n",
      "\n",
      "                     accuracy                           0.42      2907\n",
      "                    macro avg       0.54      0.25      0.24      2907\n",
      "                 weighted avg       0.55      0.42      0.33      2907\n",
      "\n",
      "[[173   0  17   5   0   0   0   0 154   0]\n",
      " [ 32   0   2   3   2   0   0   0 143   0]\n",
      " [  0   0 135   0   0   0   0   0 123   0]\n",
      " [ 15   0  12  89   3   1   0   0 196   0]\n",
      " [  2   0   4   4  33   2   0   0 100   0]\n",
      " [  7   0  15   7   2   1   0   0 230   0]\n",
      " [ 12   0   7   0   0   0   1   0 209   0]\n",
      " [  0   0   0   0   0   0   0   0  58   0]\n",
      " [ 30   0  22   6   0   0   0   0 799   0]\n",
      " [ 17   0   4   0   0   0   0   0 229   1]]\n"
     ]
    },
    {
     "name": "stderr",
     "output_type": "stream",
     "text": [
      "C:\\Users\\ravic\\anaconda3\\lib\\site-packages\\sklearn\\metrics\\_classification.py:1248: UndefinedMetricWarning: Precision and F-score are ill-defined and being set to 0.0 in labels with no predicted samples. Use `zero_division` parameter to control this behavior.\n",
      "  _warn_prf(average, modifier, msg_start, len(result))\n",
      "C:\\Users\\ravic\\anaconda3\\lib\\site-packages\\sklearn\\metrics\\_classification.py:1248: UndefinedMetricWarning: Precision and F-score are ill-defined and being set to 0.0 in labels with no predicted samples. Use `zero_division` parameter to control this behavior.\n",
      "  _warn_prf(average, modifier, msg_start, len(result))\n",
      "C:\\Users\\ravic\\anaconda3\\lib\\site-packages\\sklearn\\metrics\\_classification.py:1248: UndefinedMetricWarning: Precision and F-score are ill-defined and being set to 0.0 in labels with no predicted samples. Use `zero_division` parameter to control this behavior.\n",
      "  _warn_prf(average, modifier, msg_start, len(result))\n"
     ]
    }
   ],
   "source": [
    "y_predict = classifier_rf.predict(Ftest)\n",
    "class_names = target.unique()\n",
    "print(classification_report(Ltest, y_predict, target_names=class_names))\n",
    "print(confusion_matrix(Ltest, y_predict))"
   ]
  },
  {
   "cell_type": "markdown",
   "id": "e1c2d95a",
   "metadata": {},
   "source": [
    "# Naive Bayes on Red channel data"
   ]
  },
  {
   "cell_type": "code",
   "execution_count": 54,
   "id": "8ec0753c",
   "metadata": {},
   "outputs": [
    {
     "data": {
      "text/plain": [
       "GaussianNB()"
      ]
     },
     "execution_count": 54,
     "metadata": {},
     "output_type": "execute_result"
    }
   ],
   "source": [
    "gnb.fit(Ftrain, Ltrain)"
   ]
  },
  {
   "cell_type": "code",
   "execution_count": 55,
   "id": "9bd3c55d",
   "metadata": {},
   "outputs": [
    {
     "data": {
      "text/plain": [
       "0.35122119023047815"
      ]
     },
     "execution_count": 55,
     "metadata": {},
     "output_type": "execute_result"
    }
   ],
   "source": [
    "y_pred = gnb.predict(Ftest)\n",
    "metrics.accuracy_score(Ltest, y_pred)"
   ]
  },
  {
   "cell_type": "code",
   "execution_count": 56,
   "id": "fc44e44c",
   "metadata": {},
   "outputs": [
    {
     "name": "stdout",
     "output_type": "stream",
     "text": [
      "                               precision    recall  f1-score   support\n",
      "\n",
      "               bacterial_spot       0.52      0.60      0.56       349\n",
      "                 early_blight       0.24      0.34      0.28       182\n",
      "                      healthy       0.33      0.72      0.45       258\n",
      "                  late_blight       0.41      0.22      0.29       316\n",
      "                    leaf_mold       0.44      0.52      0.47       145\n",
      "           septoria_leaf_spot       0.17      0.13      0.15       262\n",
      "                  target_spot       0.46      0.34      0.39       229\n",
      "          tomato_mosaic_virus       0.12      0.76      0.21        58\n",
      "tomato_yellow_leaf_curl_virus       0.63      0.19      0.29       857\n",
      "      two-spotted_spider_mite       0.29      0.39      0.33       251\n",
      "\n",
      "                     accuracy                           0.35      2907\n",
      "                    macro avg       0.36      0.42      0.34      2907\n",
      "                 weighted avg       0.44      0.35      0.34      2907\n",
      "\n",
      "[[210  17  47   7   0  14  14   9  11  20]\n",
      " [ 30  62   4  16  11   4  16   6   9  24]\n",
      " [  0   2 185   7   6  26  11   1  15   5]\n",
      " [  8  56  91  70  24  19   6  18  17   7]\n",
      " [  2   2  12  11  75   8   4  20   6   5]\n",
      " [ 13  17  62  11  29  33  15  36  17  29]\n",
      " [ 35  22   6   5   3   4  79  13   8  54]\n",
      " [  3   0   0   0   3   0   0  44   4   4]\n",
      " [ 87  60 147  41  16  70  12 164 165  95]\n",
      " [ 19  17  15   4   4  13  15  56  10  98]]\n"
     ]
    }
   ],
   "source": [
    "class_names = target.unique()\n",
    "print(classification_report(Ltest, y_pred, target_names=class_names))\n",
    "print(confusion_matrix(Ltest, y_pred))"
   ]
  },
  {
   "cell_type": "markdown",
   "id": "1aad544a",
   "metadata": {},
   "source": [
    "# Decision Tree on Red channel"
   ]
  },
  {
   "cell_type": "code",
   "execution_count": 57,
   "id": "91934650",
   "metadata": {},
   "outputs": [
    {
     "data": {
      "text/plain": [
       "0.4107327141382869"
      ]
     },
     "execution_count": 57,
     "metadata": {},
     "output_type": "execute_result"
    }
   ],
   "source": [
    "classifier_tree.fit(Ftrain, Ltrain)\n",
    "classifier_tree.score(Ftest,Ltest)"
   ]
  },
  {
   "cell_type": "code",
   "execution_count": 58,
   "id": "897d5f1e",
   "metadata": {},
   "outputs": [
    {
     "name": "stdout",
     "output_type": "stream",
     "text": [
      "                               precision    recall  f1-score   support\n",
      "\n",
      "               bacterial_spot       0.45      0.47      0.46       349\n",
      "                 early_blight       0.10      0.08      0.09       182\n",
      "                      healthy       0.54      0.52      0.53       258\n",
      "                  late_blight       0.38      0.34      0.36       316\n",
      "                    leaf_mold       0.28      0.30      0.29       145\n",
      "           septoria_leaf_spot       0.24      0.26      0.25       262\n",
      "                  target_spot       0.30      0.28      0.29       229\n",
      "          tomato_mosaic_virus       0.12      0.14      0.13        58\n",
      "tomato_yellow_leaf_curl_virus       0.57      0.58      0.57       857\n",
      "      two-spotted_spider_mite       0.30      0.32      0.31       251\n",
      "\n",
      "                     accuracy                           0.41      2907\n",
      "                    macro avg       0.33      0.33      0.33      2907\n",
      "                 weighted avg       0.40      0.41      0.41      2907\n",
      "\n",
      "[[163  27  11  19   7  22   9   2  73  16]\n",
      " [ 31  14  11  18   8  10  19   2  48  21]\n",
      " [  9  10 135  13  15  26  14   2  25   9]\n",
      " [ 27  15  18 106  20  34  19   9  56  12]\n",
      " [  4   2  12  17  44  22   5  10  23   6]\n",
      " [ 23  12  16  30  17  69  20   4  49  22]\n",
      " [ 28  15   7   7  10  18  65   3  35  41]\n",
      " [  3   1   2   3   4   4   3   8  21   9]\n",
      " [ 62  28  28  47  25  73  28  16 499  51]\n",
      " [ 12  14  10  16   8   9  34  13  54  81]]\n"
     ]
    }
   ],
   "source": [
    "y_predict = classifier_tree.predict(Ftest)\n",
    "class_names = target.unique()\n",
    "print(classification_report(Ltest, y_predict, target_names=class_names))\n",
    "print(confusion_matrix(Ltest, y_predict))"
   ]
  },
  {
   "cell_type": "markdown",
   "id": "21af7568",
   "metadata": {},
   "source": [
    "# KNN on green channel data"
   ]
  },
  {
   "cell_type": "code",
   "execution_count": 59,
   "id": "461b784b",
   "metadata": {},
   "outputs": [
    {
     "data": {
      "text/plain": [
       "0.4540763673890609"
      ]
     },
     "execution_count": 59,
     "metadata": {},
     "output_type": "execute_result"
    }
   ],
   "source": [
    "#reading numpy array data\n",
    "gray_test = np.load('green_data.npy')\n",
    "#reading csv file\n",
    "gray_df = pd.read_csv('green_data.csv')\n",
    "loaded = []\n",
    "for i in gray_test:\n",
    "    k = []\n",
    "    k = np.asarray(i,dtype='uint8')\n",
    "    loaded.append(k)\n",
    "features = loaded\n",
    "target = gray_df['disease']\n",
    "Ftrain,Ftest,Ltrain,Ltest=train_test_split(features,target, test_size=0.20, random_state=20)\n",
    "Ftrain = norm.fit_transform(Ftrain)\n",
    "Ftest = norm.fit_transform(Ftest)\n",
    "kmodel.fit(Ftrain,Ltrain)\n",
    "kmodel.score(Ftest,Ltest)"
   ]
  },
  {
   "cell_type": "code",
   "execution_count": 60,
   "id": "5a4d4f1d",
   "metadata": {},
   "outputs": [
    {
     "name": "stdout",
     "output_type": "stream",
     "text": [
      "                               precision    recall  f1-score   support\n",
      "\n",
      "               bacterial_spot       0.33      0.70      0.45       349\n",
      "                 early_blight       0.00      0.00      0.00       182\n",
      "                      healthy       0.38      0.51      0.44       258\n",
      "                  late_blight       0.38      0.30      0.34       316\n",
      "                    leaf_mold       0.51      0.44      0.47       145\n",
      "           septoria_leaf_spot       0.30      0.42      0.35       262\n",
      "                  target_spot       1.00      0.01      0.03       229\n",
      "          tomato_mosaic_virus       0.00      0.00      0.00        58\n",
      "tomato_yellow_leaf_curl_virus       0.61      0.68      0.65       857\n",
      "      two-spotted_spider_mite       0.75      0.34      0.47       251\n",
      "\n",
      "                     accuracy                           0.45      2907\n",
      "                    macro avg       0.43      0.34      0.32      2907\n",
      "                 weighted avg       0.49      0.45      0.42      2907\n",
      "\n",
      "[[245   0  24  19   2  32   0   0  27   0]\n",
      " [ 99   0   3   2  11  15   0   0  51   1]\n",
      " [ 26   0 131  13   0  64   0   0  22   2]\n",
      " [ 61   0  41  96  17  14   0   0  83   4]\n",
      " [  9   0   7  20  64  26   0   0  17   2]\n",
      " [ 35   0  37  22  13 109   0   0  45   1]\n",
      " [127   0   4   7   6  33   3   0  37  12]\n",
      " [  0   0   2   5   1  16   0   0  30   4]\n",
      " [ 84   0  90  59   7  28   0   0 586   3]\n",
      " [ 62   0   5  12   5  21   0   0  60  86]]\n"
     ]
    },
    {
     "name": "stderr",
     "output_type": "stream",
     "text": [
      "C:\\Users\\ravic\\anaconda3\\lib\\site-packages\\sklearn\\metrics\\_classification.py:1248: UndefinedMetricWarning: Precision and F-score are ill-defined and being set to 0.0 in labels with no predicted samples. Use `zero_division` parameter to control this behavior.\n",
      "  _warn_prf(average, modifier, msg_start, len(result))\n",
      "C:\\Users\\ravic\\anaconda3\\lib\\site-packages\\sklearn\\metrics\\_classification.py:1248: UndefinedMetricWarning: Precision and F-score are ill-defined and being set to 0.0 in labels with no predicted samples. Use `zero_division` parameter to control this behavior.\n",
      "  _warn_prf(average, modifier, msg_start, len(result))\n",
      "C:\\Users\\ravic\\anaconda3\\lib\\site-packages\\sklearn\\metrics\\_classification.py:1248: UndefinedMetricWarning: Precision and F-score are ill-defined and being set to 0.0 in labels with no predicted samples. Use `zero_division` parameter to control this behavior.\n",
      "  _warn_prf(average, modifier, msg_start, len(result))\n"
     ]
    }
   ],
   "source": [
    "#printing results of the kmodel\n",
    "y_predict = kmodel.predict(Ftest)\n",
    "class_names = target.unique()\n",
    "print(classification_report(Ltest, y_predict, target_names=class_names))\n",
    "print(confusion_matrix(Ltest, y_predict))"
   ]
  },
  {
   "cell_type": "markdown",
   "id": "71f3ea86",
   "metadata": {},
   "source": [
    "# Logistic on Green channel data"
   ]
  },
  {
   "cell_type": "code",
   "execution_count": 61,
   "id": "28dad6b2",
   "metadata": {},
   "outputs": [
    {
     "data": {
      "text/plain": [
       "0.41451668386652907"
      ]
     },
     "execution_count": 61,
     "metadata": {},
     "output_type": "execute_result"
    }
   ],
   "source": [
    "model.fit(Ftrain,Ltrain)\n",
    "model.score(Ftest,Ltest)"
   ]
  },
  {
   "cell_type": "code",
   "execution_count": 62,
   "id": "3c0993f1",
   "metadata": {},
   "outputs": [
    {
     "name": "stdout",
     "output_type": "stream",
     "text": [
      "                               precision    recall  f1-score   support\n",
      "\n",
      "               bacterial_spot       0.43      0.50      0.46       349\n",
      "                 early_blight       0.33      0.04      0.07       182\n",
      "                      healthy       0.41      0.33      0.36       258\n",
      "                  late_blight       0.43      0.19      0.26       316\n",
      "                    leaf_mold       0.50      0.09      0.15       145\n",
      "           septoria_leaf_spot       0.30      0.06      0.10       262\n",
      "                  target_spot       0.37      0.05      0.08       229\n",
      "          tomato_mosaic_virus       0.00      0.00      0.00        58\n",
      "tomato_yellow_leaf_curl_virus       0.41      0.89      0.56       857\n",
      "      two-spotted_spider_mite       0.42      0.31      0.35       251\n",
      "\n",
      "                     accuracy                           0.41      2907\n",
      "                    macro avg       0.36      0.24      0.24      2907\n",
      "                 weighted avg       0.40      0.41      0.34      2907\n",
      "\n",
      "[[174   0  21  10   0   8   0   0 125  11]\n",
      " [ 48   7   2  10   3   2   7   0  80  23]\n",
      " [ 13   0  84   8   0  10   4   0 131   8]\n",
      " [ 25   4  29  59   5   7   2   0 174  11]\n",
      " [  9   0   4  20  13   3   0   0  93   3]\n",
      " [ 23   0  29   4   5  16   2   0 175   8]\n",
      " [ 58   1   7   6   0   2  11   0 121  23]\n",
      " [  0   0   0   0   0   0   0   0  58   0]\n",
      " [ 24   6  23  17   0   4   0   0 764  19]\n",
      " [ 26   3   4   3   0   2   4   0 132  77]]\n"
     ]
    },
    {
     "name": "stderr",
     "output_type": "stream",
     "text": [
      "C:\\Users\\ravic\\anaconda3\\lib\\site-packages\\sklearn\\metrics\\_classification.py:1248: UndefinedMetricWarning: Precision and F-score are ill-defined and being set to 0.0 in labels with no predicted samples. Use `zero_division` parameter to control this behavior.\n",
      "  _warn_prf(average, modifier, msg_start, len(result))\n",
      "C:\\Users\\ravic\\anaconda3\\lib\\site-packages\\sklearn\\metrics\\_classification.py:1248: UndefinedMetricWarning: Precision and F-score are ill-defined and being set to 0.0 in labels with no predicted samples. Use `zero_division` parameter to control this behavior.\n",
      "  _warn_prf(average, modifier, msg_start, len(result))\n",
      "C:\\Users\\ravic\\anaconda3\\lib\\site-packages\\sklearn\\metrics\\_classification.py:1248: UndefinedMetricWarning: Precision and F-score are ill-defined and being set to 0.0 in labels with no predicted samples. Use `zero_division` parameter to control this behavior.\n",
      "  _warn_prf(average, modifier, msg_start, len(result))\n"
     ]
    }
   ],
   "source": [
    "#classification report\n",
    "y_predict = model.predict(Ftest)\n",
    "class_names = target.unique()\n",
    "print(classification_report(Ltest, y_predict, target_names=class_names))\n",
    "print(confusion_matrix(Ltest, y_predict))"
   ]
  },
  {
   "cell_type": "markdown",
   "id": "f62f0223",
   "metadata": {},
   "source": [
    "# SVM on green channel data"
   ]
  },
  {
   "cell_type": "code",
   "execution_count": 63,
   "id": "e89e7297",
   "metadata": {},
   "outputs": [
    {
     "name": "stdout",
     "output_type": "stream",
     "text": [
      "0.4093567251461988\n"
     ]
    }
   ],
   "source": [
    "clf.fit(Ftrain,Ltrain)\n",
    "y_pred = clf.predict(Ftest)\n",
    "print(accuracy_score(Ltest,y_pred))"
   ]
  },
  {
   "cell_type": "code",
   "execution_count": 64,
   "id": "aaec32cf",
   "metadata": {},
   "outputs": [
    {
     "name": "stdout",
     "output_type": "stream",
     "text": [
      "                               precision    recall  f1-score   support\n",
      "\n",
      "               bacterial_spot       0.41      0.46      0.43       349\n",
      "                 early_blight       0.25      0.01      0.02       182\n",
      "                      healthy       0.42      0.30      0.35       258\n",
      "                  late_blight       0.58      0.12      0.20       316\n",
      "                    leaf_mold       0.47      0.05      0.09       145\n",
      "           septoria_leaf_spot       0.27      0.03      0.05       262\n",
      "                  target_spot       0.53      0.04      0.07       229\n",
      "          tomato_mosaic_virus       0.00      0.00      0.00        58\n",
      "tomato_yellow_leaf_curl_virus       0.40      0.96      0.57       857\n",
      "      two-spotted_spider_mite       0.45      0.28      0.34       251\n",
      "\n",
      "                     accuracy                           0.41      2907\n",
      "                    macro avg       0.38      0.22      0.21      2907\n",
      "                 weighted avg       0.41      0.41      0.32      2907\n",
      "\n",
      "[[160   0  24   0   0   5   0   0 150  10]\n",
      " [ 50   2   2  10   2   0   3   0  96  17]\n",
      " [ 15   0  77   1   0  11   1   0 146   7]\n",
      " [ 24   5  28  38   3   0   1   0 206  11]\n",
      " [  9   0   4  13   7   3   0   0 106   3]\n",
      " [ 23   0  24   1   3   8   0   0 196   7]\n",
      " [ 63   0   7   1   0   1   9   0 125  23]\n",
      " [  0   0   0   0   0   0   0   0  58   0]\n",
      " [ 17   0  12   0   0   1   0   0 819   8]\n",
      " [ 31   1   5   1   0   1   3   0 139  70]]\n"
     ]
    },
    {
     "name": "stderr",
     "output_type": "stream",
     "text": [
      "C:\\Users\\ravic\\anaconda3\\lib\\site-packages\\sklearn\\metrics\\_classification.py:1248: UndefinedMetricWarning: Precision and F-score are ill-defined and being set to 0.0 in labels with no predicted samples. Use `zero_division` parameter to control this behavior.\n",
      "  _warn_prf(average, modifier, msg_start, len(result))\n",
      "C:\\Users\\ravic\\anaconda3\\lib\\site-packages\\sklearn\\metrics\\_classification.py:1248: UndefinedMetricWarning: Precision and F-score are ill-defined and being set to 0.0 in labels with no predicted samples. Use `zero_division` parameter to control this behavior.\n",
      "  _warn_prf(average, modifier, msg_start, len(result))\n",
      "C:\\Users\\ravic\\anaconda3\\lib\\site-packages\\sklearn\\metrics\\_classification.py:1248: UndefinedMetricWarning: Precision and F-score are ill-defined and being set to 0.0 in labels with no predicted samples. Use `zero_division` parameter to control this behavior.\n",
      "  _warn_prf(average, modifier, msg_start, len(result))\n"
     ]
    }
   ],
   "source": [
    "#classification report\n",
    "y_predict = clf.predict(Ftest)\n",
    "class_names = target.unique()\n",
    "print(classification_report(Ltest, y_predict, target_names=class_names))\n",
    "print(confusion_matrix(Ltest, y_predict))"
   ]
  },
  {
   "cell_type": "markdown",
   "id": "4f8e565e",
   "metadata": {},
   "source": [
    "# Random Forest on green channel data"
   ]
  },
  {
   "cell_type": "code",
   "execution_count": 65,
   "id": "96c92f8f",
   "metadata": {},
   "outputs": [
    {
     "data": {
      "text/plain": [
       "0.39074328974535444"
      ]
     },
     "execution_count": 65,
     "metadata": {},
     "output_type": "execute_result"
    }
   ],
   "source": [
    "classifier_rf.fit(Ftrain, Ltrain)\n",
    "classifier_rf.oob_score_"
   ]
  },
  {
   "cell_type": "code",
   "execution_count": 66,
   "id": "a855ce64",
   "metadata": {},
   "outputs": [
    {
     "name": "stdout",
     "output_type": "stream",
     "text": [
      "                               precision    recall  f1-score   support\n",
      "\n",
      "               bacterial_spot       0.63      0.42      0.50       349\n",
      "                 early_blight       0.00      0.00      0.00       182\n",
      "                      healthy       0.75      0.39      0.52       258\n",
      "                  late_blight       0.87      0.15      0.25       316\n",
      "                    leaf_mold       0.00      0.00      0.00       145\n",
      "           septoria_leaf_spot       0.00      0.00      0.00       262\n",
      "                  target_spot       0.00      0.00      0.00       229\n",
      "          tomato_mosaic_virus       0.00      0.00      0.00        58\n",
      "tomato_yellow_leaf_curl_virus       0.34      0.98      0.50       857\n",
      "      two-spotted_spider_mite       0.00      0.00      0.00       251\n",
      "\n",
      "                     accuracy                           0.39      2907\n",
      "                    macro avg       0.26      0.19      0.18      2907\n",
      "                 weighted avg       0.34      0.39      0.28      2907\n",
      "\n",
      "[[146   0   5   1   0   0   0   0 197   0]\n",
      " [ 30   0   0   3   0   0   0   0 149   0]\n",
      " [  0   0 101   0   0   0   0   0 157   0]\n",
      " [ 15   0  11  46   0   0   0   0 244   0]\n",
      " [  5   0   1   2   0   0   0   0 137   0]\n",
      " [  3   0   9   1   0   0   0   0 249   0]\n",
      " [  8   0   1   0   0   0   0   0 220   0]\n",
      " [  0   0   0   0   0   0   0   0  58   0]\n",
      " [ 12   0   4   0   0   0   0   0 841   0]\n",
      " [ 13   0   2   0   0   0   0   0 236   0]]\n"
     ]
    },
    {
     "name": "stderr",
     "output_type": "stream",
     "text": [
      "C:\\Users\\ravic\\anaconda3\\lib\\site-packages\\sklearn\\metrics\\_classification.py:1248: UndefinedMetricWarning: Precision and F-score are ill-defined and being set to 0.0 in labels with no predicted samples. Use `zero_division` parameter to control this behavior.\n",
      "  _warn_prf(average, modifier, msg_start, len(result))\n",
      "C:\\Users\\ravic\\anaconda3\\lib\\site-packages\\sklearn\\metrics\\_classification.py:1248: UndefinedMetricWarning: Precision and F-score are ill-defined and being set to 0.0 in labels with no predicted samples. Use `zero_division` parameter to control this behavior.\n",
      "  _warn_prf(average, modifier, msg_start, len(result))\n",
      "C:\\Users\\ravic\\anaconda3\\lib\\site-packages\\sklearn\\metrics\\_classification.py:1248: UndefinedMetricWarning: Precision and F-score are ill-defined and being set to 0.0 in labels with no predicted samples. Use `zero_division` parameter to control this behavior.\n",
      "  _warn_prf(average, modifier, msg_start, len(result))\n"
     ]
    }
   ],
   "source": [
    "y_predict = classifier_rf.predict(Ftest)\n",
    "class_names = target.unique()\n",
    "print(classification_report(Ltest, y_predict, target_names=class_names))\n",
    "print(confusion_matrix(Ltest, y_predict))"
   ]
  },
  {
   "cell_type": "markdown",
   "id": "e9b1cca9",
   "metadata": {},
   "source": [
    "# Naive bayes on Green channel data"
   ]
  },
  {
   "cell_type": "code",
   "execution_count": 67,
   "id": "1136802c",
   "metadata": {},
   "outputs": [
    {
     "data": {
      "text/plain": [
       "0.32542139662882696"
      ]
     },
     "execution_count": 67,
     "metadata": {},
     "output_type": "execute_result"
    }
   ],
   "source": [
    "gnb.fit(Ftrain, Ltrain)\n",
    "GaussianNB()\n",
    "y_pred = gnb.predict(Ftest)\n",
    "metrics.accuracy_score(Ltest, y_pred)"
   ]
  },
  {
   "cell_type": "code",
   "execution_count": 68,
   "id": "08e6f602",
   "metadata": {},
   "outputs": [
    {
     "name": "stdout",
     "output_type": "stream",
     "text": [
      "                               precision    recall  f1-score   support\n",
      "\n",
      "               bacterial_spot       0.48      0.58      0.53       349\n",
      "                 early_blight       0.25      0.44      0.31       182\n",
      "                      healthy       0.31      0.62      0.42       258\n",
      "                  late_blight       0.43      0.21      0.28       316\n",
      "                    leaf_mold       0.36      0.46      0.40       145\n",
      "           septoria_leaf_spot       0.22      0.13      0.16       262\n",
      "                  target_spot       0.43      0.27      0.33       229\n",
      "          tomato_mosaic_virus       0.09      0.64      0.16        58\n",
      "tomato_yellow_leaf_curl_virus       0.53      0.17      0.26       857\n",
      "      two-spotted_spider_mite       0.28      0.36      0.31       251\n",
      "\n",
      "                     accuracy                           0.33      2907\n",
      "                    macro avg       0.34      0.39      0.32      2907\n",
      "                 weighted avg       0.40      0.33      0.32      2907\n",
      "\n",
      "[[204  25  42   3   2  17   4  23  16  13]\n",
      " [ 21  80   1  14  12   4  12   7   5  26]\n",
      " [  0   3 161   6   9  12  24   8  25  10]\n",
      " [ 10  65  72  65  18   9   8  38  17  14]\n",
      " [  4   2   9   9  66   8   6  24  14   3]\n",
      " [ 24   9  49   7  24  34   9  64  25  17]\n",
      " [ 47  23   7  10  10   4  62  13  13  40]\n",
      " [  3   0   2   0   5   4   0  37   6   1]\n",
      " [ 92  90 163  32  29  52   6 133 146 114]\n",
      " [ 21  29   9   6  10  13  13  51   8  91]]\n"
     ]
    }
   ],
   "source": [
    "class_names = target.unique()\n",
    "print(classification_report(Ltest, y_pred, target_names=class_names))\n",
    "print(confusion_matrix(Ltest, y_pred))"
   ]
  },
  {
   "cell_type": "markdown",
   "id": "ad497b39",
   "metadata": {},
   "source": [
    "# Decision Tree on Green channel"
   ]
  },
  {
   "cell_type": "code",
   "execution_count": 69,
   "id": "458fe744",
   "metadata": {},
   "outputs": [
    {
     "data": {
      "text/plain": [
       "0.3866529067767458"
      ]
     },
     "execution_count": 69,
     "metadata": {},
     "output_type": "execute_result"
    }
   ],
   "source": [
    "classifier_tree.fit(Ftrain, Ltrain)\n",
    "classifier_tree.score(Ftest,Ltest)"
   ]
  },
  {
   "cell_type": "code",
   "execution_count": 70,
   "id": "60ea8164",
   "metadata": {},
   "outputs": [
    {
     "name": "stdout",
     "output_type": "stream",
     "text": [
      "                               precision    recall  f1-score   support\n",
      "\n",
      "               bacterial_spot       0.37      0.37      0.37       349\n",
      "                 early_blight       0.14      0.12      0.13       182\n",
      "                      healthy       0.52      0.45      0.48       258\n",
      "                  late_blight       0.33      0.30      0.32       316\n",
      "                    leaf_mold       0.28      0.32      0.30       145\n",
      "           septoria_leaf_spot       0.25      0.31      0.28       262\n",
      "                  target_spot       0.18      0.16      0.17       229\n",
      "          tomato_mosaic_virus       0.07      0.07      0.07        58\n",
      "tomato_yellow_leaf_curl_virus       0.55      0.58      0.57       857\n",
      "      two-spotted_spider_mite       0.37      0.37      0.37       251\n",
      "\n",
      "                     accuracy                           0.39      2907\n",
      "                    macro avg       0.31      0.30      0.31      2907\n",
      "                 weighted avg       0.38      0.39      0.38      2907\n",
      "\n",
      "[[130  21  15  24   5  23  19   2  84  26]\n",
      " [ 27  21   6  25  10   9  22   1  45  16]\n",
      " [ 13   4 116  15  11  35  18   2  36   8]\n",
      " [ 31  19   3  95  19  40  17   7  70  15]\n",
      " [ 10   9   7  15  46  20   4  11  19   4]\n",
      " [ 17   8  21  28  22  82  16   6  50  12]\n",
      " [ 28  15  19  16   9  21  36   4  44  37]\n",
      " [  6   3   2   4   4  12   6   4  15   2]\n",
      " [ 74  33  26  51  25  67  34  12 497  38]\n",
      " [ 17  14  10  11  12  18  30   5  40  94]]\n"
     ]
    }
   ],
   "source": [
    "y_predict = classifier_tree.predict(Ftest)\n",
    "class_names = target.unique()\n",
    "print(classification_report(Ltest, y_predict, target_names=class_names))\n",
    "print(confusion_matrix(Ltest, y_predict))"
   ]
  },
  {
   "cell_type": "markdown",
   "id": "75817642",
   "metadata": {},
   "source": [
    "# KNN on blue channel data"
   ]
  },
  {
   "cell_type": "code",
   "execution_count": 71,
   "id": "531e3624",
   "metadata": {},
   "outputs": [
    {
     "data": {
      "text/plain": [
       "0.5115239078087376"
      ]
     },
     "execution_count": 71,
     "metadata": {},
     "output_type": "execute_result"
    }
   ],
   "source": [
    "#reading numpy array data\n",
    "gray_test = np.load('blue_data.npy')\n",
    "#reading csv file\n",
    "gray_df = pd.read_csv('blue_data.csv')\n",
    "loaded = []\n",
    "for i in gray_test:\n",
    "    k = []\n",
    "    k = np.asarray(i,dtype='uint8')\n",
    "    loaded.append(k)\n",
    "features = loaded\n",
    "target = gray_df['disease']\n",
    "Ftrain,Ftest,Ltrain,Ltest=train_test_split(features,target, test_size=0.20, random_state=20)\n",
    "Ftrain = norm.fit_transform(Ftrain)\n",
    "Ftest = norm.fit_transform(Ftest)\n",
    "kmodel.fit(Ftrain,Ltrain)\n",
    "kmodel.score(Ftest,Ltest)"
   ]
  },
  {
   "cell_type": "code",
   "execution_count": 72,
   "id": "1314e157",
   "metadata": {},
   "outputs": [
    {
     "name": "stdout",
     "output_type": "stream",
     "text": [
      "                               precision    recall  f1-score   support\n",
      "\n",
      "               bacterial_spot       0.27      0.84      0.41       349\n",
      "                 early_blight       0.00      0.00      0.00       182\n",
      "                      healthy       0.58      0.66      0.62       258\n",
      "                  late_blight       0.64      0.41      0.50       316\n",
      "                    leaf_mold       0.56      0.63      0.59       145\n",
      "           septoria_leaf_spot       0.39      0.36      0.37       262\n",
      "                  target_spot       0.23      0.01      0.02       229\n",
      "          tomato_mosaic_virus       0.50      0.14      0.22        58\n",
      "tomato_yellow_leaf_curl_virus       0.82      0.68      0.74       857\n",
      "      two-spotted_spider_mite       0.57      0.46      0.51       251\n",
      "\n",
      "                     accuracy                           0.51      2907\n",
      "                    macro avg       0.46      0.42      0.40      2907\n",
      "                 weighted avg       0.54      0.51      0.49      2907\n",
      "\n",
      "[[293   0  22  13   1   5   1   0   8   6]\n",
      " [115   0   9   6   8  14   2   0  24   4]\n",
      " [ 65   0 171   8   1   7   4   0   0   2]\n",
      " [ 67   0  29 129  18  43   1   3  23   3]\n",
      " [ 15   0   4   6  92  14   1   0   7   6]\n",
      " [ 78   0  11  15  28  94   0   1  27   8]\n",
      " [165   0  32   2   0  10   3   2   3  12]\n",
      " [  1   0   3  13   4   9   1   8   6  13]\n",
      " [182   0   4   8  13  35   0   2 581  32]\n",
      " [ 86   0  10   1   0   9   0   0  29 116]]\n"
     ]
    },
    {
     "name": "stderr",
     "output_type": "stream",
     "text": [
      "C:\\Users\\ravic\\anaconda3\\lib\\site-packages\\sklearn\\metrics\\_classification.py:1248: UndefinedMetricWarning: Precision and F-score are ill-defined and being set to 0.0 in labels with no predicted samples. Use `zero_division` parameter to control this behavior.\n",
      "  _warn_prf(average, modifier, msg_start, len(result))\n",
      "C:\\Users\\ravic\\anaconda3\\lib\\site-packages\\sklearn\\metrics\\_classification.py:1248: UndefinedMetricWarning: Precision and F-score are ill-defined and being set to 0.0 in labels with no predicted samples. Use `zero_division` parameter to control this behavior.\n",
      "  _warn_prf(average, modifier, msg_start, len(result))\n",
      "C:\\Users\\ravic\\anaconda3\\lib\\site-packages\\sklearn\\metrics\\_classification.py:1248: UndefinedMetricWarning: Precision and F-score are ill-defined and being set to 0.0 in labels with no predicted samples. Use `zero_division` parameter to control this behavior.\n",
      "  _warn_prf(average, modifier, msg_start, len(result))\n"
     ]
    }
   ],
   "source": [
    "#printing results of the kmodel\n",
    "y_predict = kmodel.predict(Ftest)\n",
    "class_names = target.unique()\n",
    "print(classification_report(Ltest, y_predict, target_names=class_names))\n",
    "print(confusion_matrix(Ltest, y_predict))"
   ]
  },
  {
   "cell_type": "markdown",
   "id": "f452a113",
   "metadata": {},
   "source": [
    "# logistic on blue channel data"
   ]
  },
  {
   "cell_type": "code",
   "execution_count": 73,
   "id": "de158586",
   "metadata": {},
   "outputs": [
    {
     "data": {
      "text/plain": [
       "0.5545235638114895"
      ]
     },
     "execution_count": 73,
     "metadata": {},
     "output_type": "execute_result"
    }
   ],
   "source": [
    "model.fit(Ftrain,Ltrain)\n",
    "model.score(Ftest,Ltest)"
   ]
  },
  {
   "cell_type": "code",
   "execution_count": 74,
   "id": "489ce7e9",
   "metadata": {},
   "outputs": [
    {
     "name": "stdout",
     "output_type": "stream",
     "text": [
      "                               precision    recall  f1-score   support\n",
      "\n",
      "               bacterial_spot       0.48      0.59      0.53       349\n",
      "                 early_blight       0.71      0.03      0.05       182\n",
      "                      healthy       0.62      0.76      0.68       258\n",
      "                  late_blight       0.49      0.47      0.48       316\n",
      "                    leaf_mold       0.69      0.49      0.57       145\n",
      "           septoria_leaf_spot       0.35      0.18      0.24       262\n",
      "                  target_spot       0.51      0.13      0.21       229\n",
      "          tomato_mosaic_virus       0.00      0.00      0.00        58\n",
      "tomato_yellow_leaf_curl_virus       0.60      0.91      0.73       857\n",
      "      two-spotted_spider_mite       0.49      0.51      0.50       251\n",
      "\n",
      "                     accuracy                           0.55      2907\n",
      "                    macro avg       0.49      0.41      0.40      2907\n",
      "                 weighted avg       0.54      0.55      0.50      2907\n",
      "\n",
      "[[206   0  23  15   0   6   0   0  83  16]\n",
      " [ 30   5  10  17   5  10   4   0  90  11]\n",
      " [ 20   0 197  16   0   2  12   0   0  11]\n",
      " [ 18   0  39 147   9  21   4   0  70   8]\n",
      " [  6   0   0  22  71  15   0   0  26   5]\n",
      " [ 40   1   3  32  13  48   2   0 108  15]\n",
      " [ 74   0  35  15   0  12  30   0  24  39]\n",
      " [  0   0   0   9   3   9   0   0  33   4]\n",
      " [ 22   1   2  20   1   6   2   0 781  22]\n",
      " [ 15   0  10   7   1   9   5   0  77 127]]\n"
     ]
    },
    {
     "name": "stderr",
     "output_type": "stream",
     "text": [
      "C:\\Users\\ravic\\anaconda3\\lib\\site-packages\\sklearn\\metrics\\_classification.py:1248: UndefinedMetricWarning: Precision and F-score are ill-defined and being set to 0.0 in labels with no predicted samples. Use `zero_division` parameter to control this behavior.\n",
      "  _warn_prf(average, modifier, msg_start, len(result))\n",
      "C:\\Users\\ravic\\anaconda3\\lib\\site-packages\\sklearn\\metrics\\_classification.py:1248: UndefinedMetricWarning: Precision and F-score are ill-defined and being set to 0.0 in labels with no predicted samples. Use `zero_division` parameter to control this behavior.\n",
      "  _warn_prf(average, modifier, msg_start, len(result))\n",
      "C:\\Users\\ravic\\anaconda3\\lib\\site-packages\\sklearn\\metrics\\_classification.py:1248: UndefinedMetricWarning: Precision and F-score are ill-defined and being set to 0.0 in labels with no predicted samples. Use `zero_division` parameter to control this behavior.\n",
      "  _warn_prf(average, modifier, msg_start, len(result))\n"
     ]
    }
   ],
   "source": [
    "#classification report\n",
    "y_predict = model.predict(Ftest)\n",
    "class_names = target.unique()\n",
    "print(classification_report(Ltest, y_predict, target_names=class_names))\n",
    "print(confusion_matrix(Ltest, y_predict))"
   ]
  },
  {
   "cell_type": "markdown",
   "id": "c7585c1d",
   "metadata": {},
   "source": [
    "# SVM on blue channel data"
   ]
  },
  {
   "cell_type": "code",
   "execution_count": 75,
   "id": "06fb4a0f",
   "metadata": {},
   "outputs": [
    {
     "name": "stdout",
     "output_type": "stream",
     "text": [
      "0.5672514619883041\n"
     ]
    }
   ],
   "source": [
    "clf.fit(Ftrain,Ltrain)\n",
    "y_pred = clf.predict(Ftest)\n",
    "print(accuracy_score(Ltest,y_pred))"
   ]
  },
  {
   "cell_type": "code",
   "execution_count": 76,
   "id": "03a12a5f",
   "metadata": {},
   "outputs": [
    {
     "name": "stdout",
     "output_type": "stream",
     "text": [
      "                               precision    recall  f1-score   support\n",
      "\n",
      "               bacterial_spot       0.47      0.63      0.54       349\n",
      "                 early_blight       0.67      0.03      0.06       182\n",
      "                      healthy       0.66      0.76      0.70       258\n",
      "                  late_blight       0.54      0.48      0.51       316\n",
      "                    leaf_mold       0.69      0.50      0.58       145\n",
      "           septoria_leaf_spot       0.31      0.23      0.26       262\n",
      "                  target_spot       0.43      0.17      0.25       229\n",
      "          tomato_mosaic_virus       0.00      0.00      0.00        58\n",
      "tomato_yellow_leaf_curl_virus       0.65      0.90      0.75       857\n",
      "      two-spotted_spider_mite       0.50      0.55      0.52       251\n",
      "\n",
      "                     accuracy                           0.57      2907\n",
      "                    macro avg       0.49      0.42      0.42      2907\n",
      "                 weighted avg       0.54      0.57      0.52      2907\n",
      "\n",
      "[[219   0  20  13   0   6   1   0  67  23]\n",
      " [ 35   6   6  18   4  14   8   0  82   9]\n",
      " [ 16   0 195  13   0   3  24   0   1   6]\n",
      " [ 19   1  30 151  10  31   6   0  59   9]\n",
      " [  7   0   0  18  73  21   0   0  21   5]\n",
      " [ 45   1   4  26  16  59   3   0  90  18]\n",
      " [ 80   0  30  14   0  11  40   0  17  37]\n",
      " [  0   0   0   6   2  20   0   0  24   6]\n",
      " [ 26   1   2  18   0  15   2   0 768  25]\n",
      " [ 22   0   9   5   1   8   9   0  59 138]]\n"
     ]
    },
    {
     "name": "stderr",
     "output_type": "stream",
     "text": [
      "C:\\Users\\ravic\\anaconda3\\lib\\site-packages\\sklearn\\metrics\\_classification.py:1248: UndefinedMetricWarning: Precision and F-score are ill-defined and being set to 0.0 in labels with no predicted samples. Use `zero_division` parameter to control this behavior.\n",
      "  _warn_prf(average, modifier, msg_start, len(result))\n",
      "C:\\Users\\ravic\\anaconda3\\lib\\site-packages\\sklearn\\metrics\\_classification.py:1248: UndefinedMetricWarning: Precision and F-score are ill-defined and being set to 0.0 in labels with no predicted samples. Use `zero_division` parameter to control this behavior.\n",
      "  _warn_prf(average, modifier, msg_start, len(result))\n",
      "C:\\Users\\ravic\\anaconda3\\lib\\site-packages\\sklearn\\metrics\\_classification.py:1248: UndefinedMetricWarning: Precision and F-score are ill-defined and being set to 0.0 in labels with no predicted samples. Use `zero_division` parameter to control this behavior.\n",
      "  _warn_prf(average, modifier, msg_start, len(result))\n"
     ]
    }
   ],
   "source": [
    "#classification report\n",
    "y_predict = clf.predict(Ftest)\n",
    "class_names = target.unique()\n",
    "print(classification_report(Ltest, y_predict, target_names=class_names))\n",
    "print(confusion_matrix(Ltest, y_predict))"
   ]
  },
  {
   "cell_type": "markdown",
   "id": "f4eb8c6c",
   "metadata": {},
   "source": [
    "# Random Forest on blue channel data"
   ]
  },
  {
   "cell_type": "code",
   "execution_count": 77,
   "id": "b71407b2",
   "metadata": {},
   "outputs": [
    {
     "data": {
      "text/plain": [
       "0.4848589125946318"
      ]
     },
     "execution_count": 77,
     "metadata": {},
     "output_type": "execute_result"
    }
   ],
   "source": [
    "classifier_rf.fit(Ftrain, Ltrain)\n",
    "classifier_rf.oob_score_"
   ]
  },
  {
   "cell_type": "code",
   "execution_count": 78,
   "id": "f7d75463",
   "metadata": {},
   "outputs": [
    {
     "name": "stdout",
     "output_type": "stream",
     "text": [
      "                               precision    recall  f1-score   support\n",
      "\n",
      "               bacterial_spot       0.41      0.59      0.48       349\n",
      "                 early_blight       0.00      0.00      0.00       182\n",
      "                      healthy       0.64      0.78      0.70       258\n",
      "                  late_blight       0.61      0.43      0.50       316\n",
      "                    leaf_mold       0.77      0.38      0.51       145\n",
      "           septoria_leaf_spot       0.43      0.08      0.14       262\n",
      "                  target_spot       0.00      0.00      0.00       229\n",
      "          tomato_mosaic_virus       0.00      0.00      0.00        58\n",
      "tomato_yellow_leaf_curl_virus       0.47      0.96      0.64       857\n",
      "      two-spotted_spider_mite       0.60      0.01      0.02       251\n",
      "\n",
      "                     accuracy                           0.50      2907\n",
      "                    macro avg       0.39      0.32      0.30      2907\n",
      "                 weighted avg       0.44      0.50      0.40      2907\n",
      "\n",
      "[[205   0  19  13   0   3   0   0 109   0]\n",
      " [ 29   0   8  11   2   1   0   0 130   1]\n",
      " [ 20   0 200   6   1   1   0   0  30   0]\n",
      " [ 23   0  22 135   5   7   0   0 124   0]\n",
      " [  8   0   0  20  55   8   0   0  54   0]\n",
      " [ 68   0   5  17   6  21   0   0 145   0]\n",
      " [ 93   0  46   5   0   2   0   0  82   1]\n",
      " [  2   0   0   7   2   2   0   0  45   0]\n",
      " [ 24   0   1   4   0   2   0   0 826   0]\n",
      " [ 30   0  13   5   0   2   0   0 198   3]]\n"
     ]
    },
    {
     "name": "stderr",
     "output_type": "stream",
     "text": [
      "C:\\Users\\ravic\\anaconda3\\lib\\site-packages\\sklearn\\metrics\\_classification.py:1248: UndefinedMetricWarning: Precision and F-score are ill-defined and being set to 0.0 in labels with no predicted samples. Use `zero_division` parameter to control this behavior.\n",
      "  _warn_prf(average, modifier, msg_start, len(result))\n",
      "C:\\Users\\ravic\\anaconda3\\lib\\site-packages\\sklearn\\metrics\\_classification.py:1248: UndefinedMetricWarning: Precision and F-score are ill-defined and being set to 0.0 in labels with no predicted samples. Use `zero_division` parameter to control this behavior.\n",
      "  _warn_prf(average, modifier, msg_start, len(result))\n",
      "C:\\Users\\ravic\\anaconda3\\lib\\site-packages\\sklearn\\metrics\\_classification.py:1248: UndefinedMetricWarning: Precision and F-score are ill-defined and being set to 0.0 in labels with no predicted samples. Use `zero_division` parameter to control this behavior.\n",
      "  _warn_prf(average, modifier, msg_start, len(result))\n"
     ]
    }
   ],
   "source": [
    "y_predict = classifier_rf.predict(Ftest)\n",
    "class_names = target.unique()\n",
    "print(classification_report(Ltest, y_predict, target_names=class_names))\n",
    "print(confusion_matrix(Ltest, y_predict))"
   ]
  },
  {
   "cell_type": "markdown",
   "id": "fb1ca20e",
   "metadata": {},
   "source": [
    "# Naive bayes on blue channel data"
   ]
  },
  {
   "cell_type": "code",
   "execution_count": 79,
   "id": "11ea0b85",
   "metadata": {},
   "outputs": [
    {
     "data": {
      "text/plain": [
       "0.4688682490540076"
      ]
     },
     "execution_count": 79,
     "metadata": {},
     "output_type": "execute_result"
    }
   ],
   "source": [
    "gnb.fit(Ftrain, Ltrain)\n",
    "GaussianNB()\n",
    "y_pred = gnb.predict(Ftest)\n",
    "metrics.accuracy_score(Ltest, y_pred)"
   ]
  },
  {
   "cell_type": "code",
   "execution_count": 80,
   "id": "b8a32aab",
   "metadata": {},
   "outputs": [
    {
     "name": "stdout",
     "output_type": "stream",
     "text": [
      "                               precision    recall  f1-score   support\n",
      "\n",
      "               bacterial_spot       0.60      0.65      0.63       349\n",
      "                 early_blight       0.20      0.35      0.25       182\n",
      "                      healthy       0.56      0.67      0.61       258\n",
      "                  late_blight       0.45      0.19      0.26       316\n",
      "                    leaf_mold       0.43      0.60      0.50       145\n",
      "           septoria_leaf_spot       0.25      0.14      0.18       262\n",
      "                  target_spot       0.43      0.38      0.40       229\n",
      "          tomato_mosaic_virus       0.14      0.83      0.24        58\n",
      "tomato_yellow_leaf_curl_virus       0.81      0.56      0.66       857\n",
      "      two-spotted_spider_mite       0.37      0.39      0.38       251\n",
      "\n",
      "                     accuracy                           0.47      2907\n",
      "                    macro avg       0.42      0.48      0.41      2907\n",
      "                 weighted avg       0.53      0.47      0.48      2907\n",
      "\n",
      "[[227  18  24   4   8  14  13  10  18  13]\n",
      " [ 12  64   5  14  13   7  10   8  32  17]\n",
      " [  3   5 174   7   5   3  45   1   0  15]\n",
      " [  8  63  55  59  27   7  14  58  20   5]\n",
      " [  4  10   5   3  87   7   2  20   5   2]\n",
      " [ 46  28  11  10  42  37   3  50  19  16]\n",
      " [ 33  21  20   7   0  12  88  11   4  33]\n",
      " [  0   0   1   0   3   4   0  48   2   0]\n",
      " [ 37  96   1  22  15  43  10  88 482  63]\n",
      " [  6  22  15   5   3  14  22  55  12  97]]\n"
     ]
    }
   ],
   "source": [
    "class_names = target.unique()\n",
    "print(classification_report(Ltest, y_pred, target_names=class_names))\n",
    "print(confusion_matrix(Ltest, y_pred))"
   ]
  },
  {
   "cell_type": "markdown",
   "id": "f125f7c4",
   "metadata": {},
   "source": [
    "# Decision Tree on blue channel"
   ]
  },
  {
   "cell_type": "code",
   "execution_count": 81,
   "id": "88bfbe14",
   "metadata": {},
   "outputs": [
    {
     "data": {
      "text/plain": [
       "0.4217406260749914"
      ]
     },
     "execution_count": 81,
     "metadata": {},
     "output_type": "execute_result"
    }
   ],
   "source": [
    "classifier_tree.fit(Ftrain, Ltrain)\n",
    "classifier_tree.score(Ftest,Ltest)"
   ]
  },
  {
   "cell_type": "code",
   "execution_count": 82,
   "id": "6e2c73b8",
   "metadata": {},
   "outputs": [
    {
     "name": "stdout",
     "output_type": "stream",
     "text": [
      "                               precision    recall  f1-score   support\n",
      "\n",
      "               bacterial_spot       0.43      0.43      0.43       349\n",
      "                 early_blight       0.12      0.10      0.11       182\n",
      "                      healthy       0.54      0.55      0.54       258\n",
      "                  late_blight       0.39      0.33      0.36       316\n",
      "                    leaf_mold       0.35      0.35      0.35       145\n",
      "           septoria_leaf_spot       0.21      0.26      0.23       262\n",
      "                  target_spot       0.25      0.25      0.25       229\n",
      "          tomato_mosaic_virus       0.10      0.12      0.11        58\n",
      "tomato_yellow_leaf_curl_virus       0.66      0.65      0.65       857\n",
      "      two-spotted_spider_mite       0.30      0.31      0.31       251\n",
      "\n",
      "                     accuracy                           0.42      2907\n",
      "                    macro avg       0.33      0.34      0.33      2907\n",
      "                 weighted avg       0.43      0.42      0.43      2907\n",
      "\n",
      "[[151  20  19  22  12  36  27   5  44  13]\n",
      " [ 15  18  10  24   8  21  21   0  43  22]\n",
      " [ 13   9 142  20   7  22  25   1   7  12]\n",
      " [ 17  22  34 104  20  35  14  12  40  18]\n",
      " [  5   7   6  19  51  29   5   6  10   7]\n",
      " [ 35  11  10  22  16  68  13   7  56  24]\n",
      " [ 39  16  20   9   7  29  58   4  22  25]\n",
      " [  5   2   0   4   4   9   5   7  15   7]\n",
      " [ 56  27  11  31  14  60  33  17 555  53]\n",
      " [ 14  14  12  12   8  15  32  12  53  79]]\n"
     ]
    }
   ],
   "source": [
    "y_predict = classifier_tree.predict(Ftest)\n",
    "class_names = target.unique()\n",
    "print(classification_report(Ltest, y_predict, target_names=class_names))\n",
    "print(confusion_matrix(Ltest, y_predict))"
   ]
  }
 ],
 "metadata": {
  "kernelspec": {
   "display_name": "Python 3 (ipykernel)",
   "language": "python",
   "name": "python3"
  },
  "language_info": {
   "codemirror_mode": {
    "name": "ipython",
    "version": 3
   },
   "file_extension": ".py",
   "mimetype": "text/x-python",
   "name": "python",
   "nbconvert_exporter": "python",
   "pygments_lexer": "ipython3",
   "version": "3.9.12"
  }
 },
 "nbformat": 4,
 "nbformat_minor": 5
}
