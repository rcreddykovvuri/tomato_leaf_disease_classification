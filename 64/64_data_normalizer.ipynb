{
 "cells": [
  {
   "cell_type": "code",
   "execution_count": 1,
   "id": "bcdb1517",
   "metadata": {},
   "outputs": [],
   "source": [
    "import numpy as np #importing numpy\n",
    "import pandas as pd #importing pandas\n",
    "import PIL #importing pillow for image processing\n",
    "from PIL import Image#importing image from pillow library\n",
    "import skimage#importing skimage library\n",
    "import os#importing os library\n",
    "import time#importing time library\n",
    "\n",
    "#Capture start time of the program\n",
    "start_time = time.time()"
   ]
  },
  {
   "cell_type": "code",
   "execution_count": 2,
   "id": "9ec45970",
   "metadata": {},
   "outputs": [],
   "source": [
    "os.chdir('D://DKIT//dissertation//Dataset_of_Tomato_Leaves//plantvillage//Preprocessed_data//64//vector//')"
   ]
  },
  {
   "cell_type": "code",
   "execution_count": 3,
   "id": "cbc71f85",
   "metadata": {},
   "outputs": [],
   "source": [
    "#importing classification report and confusion matrix\n",
    "from sklearn.metrics import classification_report, confusion_matrix"
   ]
  },
  {
   "cell_type": "markdown",
   "id": "7139bf53",
   "metadata": {},
   "source": [
    "# KNN on rgb data"
   ]
  },
  {
   "cell_type": "code",
   "execution_count": 4,
   "id": "9386938c",
   "metadata": {},
   "outputs": [],
   "source": [
    "#reading numpy array data\n",
    "rgb_test = np.load('rgb_data.npy')\n",
    "#reading csv file\n",
    "rgb_df = pd.read_csv('rgb_data.csv')"
   ]
  },
  {
   "cell_type": "code",
   "execution_count": 5,
   "id": "4f95f2f6",
   "metadata": {},
   "outputs": [],
   "source": [
    "loaded = []\n",
    "for i in rgb_test:\n",
    "    k = []\n",
    "    k = np.asarray(i,dtype='uint8')\n",
    "    loaded.append(k)"
   ]
  },
  {
   "cell_type": "code",
   "execution_count": 6,
   "id": "c6d5658c",
   "metadata": {},
   "outputs": [],
   "source": [
    "features = loaded\n",
    "target = rgb_df['disease']\n",
    "from sklearn.preprocessing import Normalizer\n",
    "norm = Normalizer()\n",
    "from sklearn.model_selection import train_test_split\n",
    "Ftrain,Ftest,Ltrain,Ltest=train_test_split(features,target, test_size=0.20, random_state=24)"
   ]
  },
  {
   "cell_type": "code",
   "execution_count": 7,
   "id": "8cc86824",
   "metadata": {},
   "outputs": [],
   "source": [
    "Ftrain = norm.fit_transform(Ftrain)\n",
    "Ftest = norm.fit_transform(Ftest)"
   ]
  },
  {
   "cell_type": "code",
   "execution_count": 8,
   "id": "6f1171c6",
   "metadata": {},
   "outputs": [],
   "source": [
    "from sklearn.neighbors import KNeighborsClassifier\n",
    "kmodel = KNeighborsClassifier(n_neighbors=75)"
   ]
  },
  {
   "cell_type": "code",
   "execution_count": 9,
   "id": "b9fdc978",
   "metadata": {},
   "outputs": [
    {
     "data": {
      "text/plain": [
       "0.5397316821465429"
      ]
     },
     "execution_count": 9,
     "metadata": {},
     "output_type": "execute_result"
    }
   ],
   "source": [
    "kmodel.fit(Ftrain,Ltrain)\n",
    "kmodel.score(Ftest,Ltest)"
   ]
  },
  {
   "cell_type": "code",
   "execution_count": 10,
   "id": "cc56686d",
   "metadata": {},
   "outputs": [
    {
     "name": "stdout",
     "output_type": "stream",
     "text": [
      "                               precision    recall  f1-score   support\n",
      "\n",
      "               bacterial_spot       0.30      0.83      0.44       345\n",
      "                 early_blight       0.00      0.00      0.00       153\n",
      "                      healthy       0.50      0.75      0.60       234\n",
      "                  late_blight       0.61      0.45      0.52       309\n",
      "                    leaf_mold       0.66      0.56      0.61       145\n",
      "           septoria_leaf_spot       0.40      0.43      0.41       293\n",
      "                  target_spot       0.33      0.17      0.22       240\n",
      "          tomato_mosaic_virus       0.58      0.39      0.47        54\n",
      "tomato_yellow_leaf_curl_virus       0.89      0.73      0.80       854\n",
      "      two-spotted_spider_mite       0.84      0.28      0.42       280\n",
      "\n",
      "                     accuracy                           0.54      2907\n",
      "                    macro avg       0.51      0.46      0.45      2907\n",
      "                 weighted avg       0.59      0.54      0.53      2907\n",
      "\n",
      "[[285   0  28  10   0   8   0   0  14   0]\n",
      " [ 99   0   4   5   2  20   9   1  12   1]\n",
      " [ 19   0 175  12   0  19   6   1   0   2]\n",
      " [ 68   0  34 139  18  31   2   2  15   0]\n",
      " [ 10   0   9  12  81  25   3   3   1   1]\n",
      " [ 59   0  34  33  14 125   6   2  16   4]\n",
      " [156   0  21   1   0  16  40   4   0   2]\n",
      " [  0   0   4   5   6  10   3  21   4   1]\n",
      " [152   0  28   3   1  34   7   0 625   4]\n",
      " [ 91   0  11   9   0  24  46   2  19  78]]\n"
     ]
    },
    {
     "name": "stderr",
     "output_type": "stream",
     "text": [
      "C:\\Users\\ravic\\anaconda3\\lib\\site-packages\\sklearn\\metrics\\_classification.py:1248: UndefinedMetricWarning: Precision and F-score are ill-defined and being set to 0.0 in labels with no predicted samples. Use `zero_division` parameter to control this behavior.\n",
      "  _warn_prf(average, modifier, msg_start, len(result))\n",
      "C:\\Users\\ravic\\anaconda3\\lib\\site-packages\\sklearn\\metrics\\_classification.py:1248: UndefinedMetricWarning: Precision and F-score are ill-defined and being set to 0.0 in labels with no predicted samples. Use `zero_division` parameter to control this behavior.\n",
      "  _warn_prf(average, modifier, msg_start, len(result))\n",
      "C:\\Users\\ravic\\anaconda3\\lib\\site-packages\\sklearn\\metrics\\_classification.py:1248: UndefinedMetricWarning: Precision and F-score are ill-defined and being set to 0.0 in labels with no predicted samples. Use `zero_division` parameter to control this behavior.\n",
      "  _warn_prf(average, modifier, msg_start, len(result))\n"
     ]
    }
   ],
   "source": [
    "#printing results of the kmodel\n",
    "y_predict = kmodel.fit(Ftrain, Ltrain).predict(Ftest)\n",
    "class_names = target.unique()\n",
    "print(classification_report(Ltest, y_predict, target_names=class_names))\n",
    "print(confusion_matrix(Ltest, y_predict))"
   ]
  },
  {
   "cell_type": "markdown",
   "id": "d5c58638",
   "metadata": {},
   "source": [
    "# Logistic on rgb data"
   ]
  },
  {
   "cell_type": "code",
   "execution_count": 11,
   "id": "a84836ef",
   "metadata": {},
   "outputs": [
    {
     "data": {
      "text/plain": [
       "0.6449948400412797"
      ]
     },
     "execution_count": 11,
     "metadata": {},
     "output_type": "execute_result"
    }
   ],
   "source": [
    "from sklearn.linear_model import LogisticRegression\n",
    "model=LogisticRegression(solver='lbfgs', max_iter=10000)\n",
    "model.fit(Ftrain,Ltrain)\n",
    "model.score(Ftest,Ltest)"
   ]
  },
  {
   "cell_type": "code",
   "execution_count": 12,
   "id": "a1f10c9f",
   "metadata": {},
   "outputs": [
    {
     "name": "stdout",
     "output_type": "stream",
     "text": [
      "                               precision    recall  f1-score   support\n",
      "\n",
      "               bacterial_spot       0.54      0.68      0.60       345\n",
      "                 early_blight       0.42      0.05      0.09       153\n",
      "                      healthy       0.67      0.80      0.73       234\n",
      "                  late_blight       0.62      0.58      0.60       309\n",
      "                    leaf_mold       0.65      0.56      0.60       145\n",
      "           septoria_leaf_spot       0.50      0.35      0.41       293\n",
      "                  target_spot       0.69      0.30      0.41       240\n",
      "          tomato_mosaic_virus       0.00      0.00      0.00        54\n",
      "tomato_yellow_leaf_curl_virus       0.73      0.96      0.83       854\n",
      "      two-spotted_spider_mite       0.59      0.68      0.63       280\n",
      "\n",
      "                     accuracy                           0.64      2907\n",
      "                    macro avg       0.54      0.50      0.49      2907\n",
      "                 weighted avg       0.62      0.64      0.61      2907\n",
      "\n",
      "[[233   1   9  19   0  14   0   0  67   2]\n",
      " [ 49   8   3  22   1   7   4   0  42  17]\n",
      " [  5   0 188  13   1  10   8   0   3   6]\n",
      " [ 21   4  26 178  13  10   5   0  36  16]\n",
      " [  1   0   9   9  81  22   3   1  15   4]\n",
      " [ 38   1  13  23  23 104   4   0  67  20]\n",
      " [ 57   1  25   6   0   8  71   0  20  52]\n",
      " [  0   0   0   7   5  26   3   0   8   5]\n",
      " [ 12   0   2   5   0   3   0   0 822  10]\n",
      " [ 18   4   5   5   0   6   5   0  47 190]]\n"
     ]
    }
   ],
   "source": [
    "#classification report\n",
    "y_predict = model.fit(Ftrain, Ltrain).predict(Ftest)\n",
    "class_names = target.unique()\n",
    "print(classification_report(Ltest, y_predict, target_names=class_names))\n",
    "print(confusion_matrix(Ltest, y_predict))"
   ]
  },
  {
   "cell_type": "markdown",
   "id": "6fe194bc",
   "metadata": {},
   "source": [
    "# SVM on RGB data"
   ]
  },
  {
   "cell_type": "code",
   "execution_count": 13,
   "id": "2427ed51",
   "metadata": {},
   "outputs": [
    {
     "name": "stdout",
     "output_type": "stream",
     "text": [
      "0.6852425180598555\n"
     ]
    }
   ],
   "source": [
    "from sklearn.svm import SVC\n",
    "from sklearn.metrics import accuracy_score\n",
    "\n",
    "clf = SVC(kernel='linear')\n",
    "clf.fit(Ftrain,Ltrain)\n",
    "y_pred = clf.predict(Ftest)\n",
    "print(accuracy_score(Ltest,y_pred))"
   ]
  },
  {
   "cell_type": "code",
   "execution_count": 14,
   "id": "4103cc2e",
   "metadata": {},
   "outputs": [
    {
     "name": "stdout",
     "output_type": "stream",
     "text": [
      "                               precision    recall  f1-score   support\n",
      "\n",
      "               bacterial_spot       0.58      0.73      0.65       345\n",
      "                 early_blight       0.50      0.07      0.13       153\n",
      "                      healthy       0.76      0.79      0.78       234\n",
      "                  late_blight       0.67      0.64      0.66       309\n",
      "                    leaf_mold       0.68      0.58      0.63       145\n",
      "           septoria_leaf_spot       0.47      0.42      0.44       293\n",
      "                  target_spot       0.66      0.52      0.58       240\n",
      "          tomato_mosaic_virus       0.00      0.00      0.00        54\n",
      "tomato_yellow_leaf_curl_virus       0.81      0.96      0.88       854\n",
      "      two-spotted_spider_mite       0.60      0.70      0.65       280\n",
      "\n",
      "                     accuracy                           0.69      2907\n",
      "                    macro avg       0.57      0.54      0.54      2907\n",
      "                 weighted avg       0.66      0.69      0.66      2907\n",
      "\n",
      "[[253   1   5  15   0  14   3   0  51   3]\n",
      " [ 52  11   3  21   0   9  15   0  26  16]\n",
      " [  5   0 185  10   1  12  18   0   0   3]\n",
      " [ 20   3  13 198  14  16   6   0  23  16]\n",
      " [  1   0   6   9  84  28   3   0  11   3]\n",
      " [ 43   1  12  19  20 123  12   1  41  21]\n",
      " [ 35   0  12   3   0  11 124   0   7  48]\n",
      " [  0   0   0   4   4  33   2   0   3   8]\n",
      " [ 13   0   0   6   0   5   0   0 817  13]\n",
      " [ 17   6   7  10   0  12   6   0  25 197]]\n"
     ]
    }
   ],
   "source": [
    "#classification report\n",
    "y_predict = clf.fit(Ftrain, Ltrain).predict(Ftest)\n",
    "class_names = target.unique()\n",
    "print(classification_report(Ltest, y_predict, target_names=class_names))\n",
    "print(confusion_matrix(Ltest, y_predict))"
   ]
  },
  {
   "cell_type": "markdown",
   "id": "73bef6fa",
   "metadata": {},
   "source": [
    "# Random Forest on RGB "
   ]
  },
  {
   "cell_type": "code",
   "execution_count": 15,
   "id": "6bae5a92",
   "metadata": {},
   "outputs": [],
   "source": [
    "from sklearn.ensemble import RandomForestClassifier"
   ]
  },
  {
   "cell_type": "code",
   "execution_count": 16,
   "id": "1d08a15e",
   "metadata": {},
   "outputs": [],
   "source": [
    "classifier_rf = RandomForestClassifier(random_state=42, n_jobs=-1, max_depth=5,n_estimators=100, oob_score=True)"
   ]
  },
  {
   "cell_type": "code",
   "execution_count": 17,
   "id": "938ad007",
   "metadata": {},
   "outputs": [
    {
     "data": {
      "text/plain": [
       "RandomForestClassifier(max_depth=5, n_jobs=-1, oob_score=True, random_state=42)"
      ]
     },
     "execution_count": 17,
     "metadata": {},
     "output_type": "execute_result"
    }
   ],
   "source": [
    "classifier_rf.fit(Ftrain, Ltrain)"
   ]
  },
  {
   "cell_type": "code",
   "execution_count": 18,
   "id": "e1769cec",
   "metadata": {},
   "outputs": [
    {
     "data": {
      "text/plain": [
       "0.5339814177563661"
      ]
     },
     "execution_count": 18,
     "metadata": {},
     "output_type": "execute_result"
    }
   ],
   "source": [
    "classifier_rf.oob_score_"
   ]
  },
  {
   "cell_type": "code",
   "execution_count": 19,
   "id": "c144f9db",
   "metadata": {},
   "outputs": [
    {
     "name": "stdout",
     "output_type": "stream",
     "text": [
      "                               precision    recall  f1-score   support\n",
      "\n",
      "               bacterial_spot       0.46      0.59      0.52       345\n",
      "                 early_blight       0.00      0.00      0.00       153\n",
      "                      healthy       0.58      0.87      0.69       234\n",
      "                  late_blight       0.69      0.51      0.58       309\n",
      "                    leaf_mold       0.70      0.38      0.49       145\n",
      "           septoria_leaf_spot       0.53      0.22      0.31       293\n",
      "                  target_spot       0.75      0.09      0.16       240\n",
      "          tomato_mosaic_virus       0.00      0.00      0.00        54\n",
      "tomato_yellow_leaf_curl_virus       0.51      0.99      0.67       854\n",
      "      two-spotted_spider_mite       0.00      0.00      0.00       280\n",
      "\n",
      "                     accuracy                           0.53      2907\n",
      "                    macro avg       0.42      0.36      0.34      2907\n",
      "                 weighted avg       0.47      0.53      0.45      2907\n",
      "\n",
      "[[205   0  14  15   0   3   1   0 107   0]\n",
      " [ 39   0   7   8   0   3   3   0  93   0]\n",
      " [  5   0 203   2   1   9   1   0  13   0]\n",
      " [ 24   0  20 157   8   6   0   0  94   0]\n",
      " [  6   0  15  10  55  15   0   0  44   0]\n",
      " [ 29   0  18  18  12  63   1   0 152   0]\n",
      " [ 87   0  53   7   0   5  21   0  67   0]\n",
      " [ 10   0   1   3   3  11   0   0  26   0]\n",
      " [  5   0   1   3   0   2   0   0 843   0]\n",
      " [ 33   0  19   6   0   2   1   0 219   0]]\n"
     ]
    },
    {
     "name": "stderr",
     "output_type": "stream",
     "text": [
      "C:\\Users\\ravic\\anaconda3\\lib\\site-packages\\sklearn\\metrics\\_classification.py:1248: UndefinedMetricWarning: Precision and F-score are ill-defined and being set to 0.0 in labels with no predicted samples. Use `zero_division` parameter to control this behavior.\n",
      "  _warn_prf(average, modifier, msg_start, len(result))\n",
      "C:\\Users\\ravic\\anaconda3\\lib\\site-packages\\sklearn\\metrics\\_classification.py:1248: UndefinedMetricWarning: Precision and F-score are ill-defined and being set to 0.0 in labels with no predicted samples. Use `zero_division` parameter to control this behavior.\n",
      "  _warn_prf(average, modifier, msg_start, len(result))\n",
      "C:\\Users\\ravic\\anaconda3\\lib\\site-packages\\sklearn\\metrics\\_classification.py:1248: UndefinedMetricWarning: Precision and F-score are ill-defined and being set to 0.0 in labels with no predicted samples. Use `zero_division` parameter to control this behavior.\n",
      "  _warn_prf(average, modifier, msg_start, len(result))\n"
     ]
    }
   ],
   "source": [
    "y_predict = classifier_rf.fit(Ftrain, Ltrain).predict(Ftest)\n",
    "class_names = target.unique()\n",
    "print(classification_report(Ltest, y_predict, target_names=class_names))\n",
    "print(confusion_matrix(Ltest, y_predict))"
   ]
  },
  {
   "cell_type": "markdown",
   "id": "b6a094e4",
   "metadata": {},
   "source": [
    "# Naive Bayes on RGB data"
   ]
  },
  {
   "cell_type": "code",
   "execution_count": 20,
   "id": "a5bc755b",
   "metadata": {},
   "outputs": [
    {
     "data": {
      "text/plain": [
       "GaussianNB()"
      ]
     },
     "execution_count": 20,
     "metadata": {},
     "output_type": "execute_result"
    }
   ],
   "source": [
    "from sklearn.naive_bayes import GaussianNB\n",
    "gnb = GaussianNB()\n",
    "gnb.fit(Ftrain, Ltrain)"
   ]
  },
  {
   "cell_type": "code",
   "execution_count": 21,
   "id": "6d162dcc",
   "metadata": {},
   "outputs": [],
   "source": [
    "y_pred = gnb.predict(Ftest)"
   ]
  },
  {
   "cell_type": "code",
   "execution_count": 22,
   "id": "8f7b4bab",
   "metadata": {},
   "outputs": [
    {
     "data": {
      "text/plain": [
       "0.4895080839353285"
      ]
     },
     "execution_count": 22,
     "metadata": {},
     "output_type": "execute_result"
    }
   ],
   "source": [
    "from sklearn import metrics\n",
    "metrics.accuracy_score(Ltest, y_pred)"
   ]
  },
  {
   "cell_type": "code",
   "execution_count": 23,
   "id": "980b37c5",
   "metadata": {},
   "outputs": [
    {
     "name": "stdout",
     "output_type": "stream",
     "text": [
      "                               precision    recall  f1-score   support\n",
      "\n",
      "               bacterial_spot       0.59      0.63      0.61       345\n",
      "                 early_blight       0.21      0.42      0.28       153\n",
      "                      healthy       0.44      0.68      0.54       234\n",
      "                  late_blight       0.45      0.27      0.34       309\n",
      "                    leaf_mold       0.53      0.57      0.54       145\n",
      "           septoria_leaf_spot       0.37      0.27      0.31       293\n",
      "                  target_spot       0.55      0.46      0.50       240\n",
      "          tomato_mosaic_virus       0.17      0.76      0.27        54\n",
      "tomato_yellow_leaf_curl_virus       0.91      0.51      0.66       854\n",
      "      two-spotted_spider_mite       0.38      0.53      0.44       280\n",
      "\n",
      "                     accuracy                           0.49      2907\n",
      "                    macro avg       0.46      0.51      0.45      2907\n",
      "                 weighted avg       0.58      0.49      0.51      2907\n",
      "\n",
      "[[218  29  29  11   0  21  15   3  12   7]\n",
      " [ 17  64   1  16   3   5  16  11   5  15]\n",
      " [  0   4 160   9   4  11  26   8   0  12]\n",
      " [  5  61  91  83  19   9   8  20   3  10]\n",
      " [  5   7   2  13  82  11   1  20   2   2]\n",
      " [ 42  18  34  10  32  78  13  42   9  15]\n",
      " [ 39  21   4   4   4   6 111  12   3  36]\n",
      " [  1   0   0   1   5   4   1  41   1   0]\n",
      " [ 35  77  30  33   6  55   0  40 439 139]\n",
      " [  9  29  12   5   1  11  12  48   6 147]]\n"
     ]
    }
   ],
   "source": [
    "class_names = target.unique()\n",
    "print(classification_report(Ltest, y_pred, target_names=class_names))\n",
    "print(confusion_matrix(Ltest, y_pred))"
   ]
  },
  {
   "cell_type": "markdown",
   "id": "0ce0377b",
   "metadata": {},
   "source": [
    "# Decision Tree on RGB data"
   ]
  },
  {
   "cell_type": "code",
   "execution_count": 24,
   "id": "b9bba328",
   "metadata": {},
   "outputs": [],
   "source": [
    "from sklearn.tree import DecisionTreeClassifier\n",
    "classifier_tree = DecisionTreeClassifier()"
   ]
  },
  {
   "cell_type": "code",
   "execution_count": 25,
   "id": "b98668ce",
   "metadata": {},
   "outputs": [
    {
     "data": {
      "text/plain": [
       "0.49260405916752664"
      ]
     },
     "execution_count": 25,
     "metadata": {},
     "output_type": "execute_result"
    }
   ],
   "source": [
    "classifier_tree.fit(Ftrain, Ltrain)\n",
    "classifier_tree.score(Ftest,Ltest)"
   ]
  },
  {
   "cell_type": "code",
   "execution_count": 26,
   "id": "9fb604d9",
   "metadata": {},
   "outputs": [
    {
     "name": "stdout",
     "output_type": "stream",
     "text": [
      "                               precision    recall  f1-score   support\n",
      "\n",
      "               bacterial_spot       0.50      0.53      0.52       345\n",
      "                 early_blight       0.12      0.14      0.13       153\n",
      "                      healthy       0.64      0.67      0.66       234\n",
      "                  late_blight       0.44      0.43      0.44       309\n",
      "                    leaf_mold       0.34      0.40      0.36       145\n",
      "           septoria_leaf_spot       0.30      0.31      0.31       293\n",
      "                  target_spot       0.34      0.30      0.32       240\n",
      "          tomato_mosaic_virus       0.05      0.07      0.06        54\n",
      "tomato_yellow_leaf_curl_virus       0.71      0.68      0.70       854\n",
      "      two-spotted_spider_mite       0.43      0.36      0.39       280\n",
      "\n",
      "                     accuracy                           0.48      2907\n",
      "                    macro avg       0.39      0.39      0.39      2907\n",
      "                 weighted avg       0.49      0.48      0.49      2907\n",
      "\n",
      "[[184  23   9  27  10  24  14   2  42  10]\n",
      " [ 21  22   4  12   9  19  24   7  23  12]\n",
      " [  8  10 157  18   8   8  13   3   5   4]\n",
      " [ 20  24  16 134  18  23  18   7  33  16]\n",
      " [  3  14   7  13  58  18   6  10   9   7]\n",
      " [ 31   8  13  34  22  92  14  16  52  11]\n",
      " [ 28  24  13  20  12  28  73   7  14  21]\n",
      " [  4   2   0   9   6  12   4   4   5   8]\n",
      " [ 48  40  10  27  19  56  16  13 582  43]\n",
      " [ 18  12  15  10  11  23  32   9  50 100]]\n"
     ]
    }
   ],
   "source": [
    "y_predict = classifier_tree.fit(Ftrain, Ltrain).predict(Ftest)\n",
    "class_names = target.unique()\n",
    "print(classification_report(Ltest, y_predict, target_names=class_names))\n",
    "print(confusion_matrix(Ltest, y_predict))"
   ]
  },
  {
   "cell_type": "markdown",
   "id": "c9daaaee",
   "metadata": {},
   "source": [
    "# KNN on grayscale data"
   ]
  },
  {
   "cell_type": "code",
   "execution_count": 27,
   "id": "57a9845e",
   "metadata": {},
   "outputs": [],
   "source": [
    "#reading numpy array data\n",
    "gray_test = np.load('gray_test.npy')\n",
    "#reading csv file\n",
    "gray_df = pd.read_csv('gray_data.csv')"
   ]
  },
  {
   "cell_type": "code",
   "execution_count": 28,
   "id": "25d4fea2",
   "metadata": {},
   "outputs": [],
   "source": [
    "loaded = []\n",
    "for i in gray_test:\n",
    "    k = []\n",
    "    k = np.asarray(i,dtype='uint8')\n",
    "    loaded.append(k)"
   ]
  },
  {
   "cell_type": "code",
   "execution_count": 29,
   "id": "d3abef95",
   "metadata": {},
   "outputs": [],
   "source": [
    "features = loaded\n",
    "target = gray_df['disease']\n",
    "Ftrain,Ftest,Ltrain,Ltest=train_test_split(features,target, test_size=0.20, random_state=20)\n",
    "Ftrain = norm.fit_transform(Ftrain)\n",
    "Ftest = norm.fit_transform(Ftest)"
   ]
  },
  {
   "cell_type": "code",
   "execution_count": 30,
   "id": "6f75adfd",
   "metadata": {},
   "outputs": [
    {
     "data": {
      "text/plain": [
       "0.42208462332301344"
      ]
     },
     "execution_count": 30,
     "metadata": {},
     "output_type": "execute_result"
    }
   ],
   "source": [
    "kmodel.fit(Ftrain,Ltrain)\n",
    "kmodel.score(Ftest,Ltest)"
   ]
  },
  {
   "cell_type": "code",
   "execution_count": 31,
   "id": "77baa349",
   "metadata": {},
   "outputs": [
    {
     "name": "stdout",
     "output_type": "stream",
     "text": [
      "                               precision    recall  f1-score   support\n",
      "\n",
      "               bacterial_spot       0.30      0.74      0.43       349\n",
      "                 early_blight       0.00      0.00      0.00       182\n",
      "                      healthy       0.37      0.53      0.43       258\n",
      "                  late_blight       0.37      0.33      0.35       316\n",
      "                    leaf_mold       0.52      0.50      0.51       145\n",
      "           septoria_leaf_spot       0.25      0.46      0.32       262\n",
      "                  target_spot       0.47      0.06      0.11       229\n",
      "          tomato_mosaic_virus       0.67      0.07      0.12        58\n",
      "tomato_yellow_leaf_curl_virus       0.68      0.54      0.61       857\n",
      "      two-spotted_spider_mite       0.89      0.20      0.33       251\n",
      "\n",
      "                     accuracy                           0.42      2907\n",
      "                    macro avg       0.45      0.34      0.32      2907\n",
      "                 weighted avg       0.49      0.42      0.40      2907\n",
      "\n",
      "[[257   0  25  26   2  30   0   0   9   0]\n",
      " [117   0   4   2  14  16   1   0  28   0]\n",
      " [ 20   0 137  10   0  79   0   0  11   1]\n",
      " [ 65   0  50 104  24  26   2   0  44   1]\n",
      " [  8   0   8  19  73  22   0   1  14   0]\n",
      " [ 36   0  39  30  11 121   0   0  23   2]\n",
      " [126   0   5   4   3  57  14   1  18   1]\n",
      " [  2   0   3   3   2  20   0   4  23   1]\n",
      " [139   0  95  74   9  71   2   0 467   0]\n",
      " [ 88   0   7   6   3  41  11   0  45  50]]\n"
     ]
    },
    {
     "name": "stderr",
     "output_type": "stream",
     "text": [
      "C:\\Users\\ravic\\anaconda3\\lib\\site-packages\\sklearn\\metrics\\_classification.py:1248: UndefinedMetricWarning: Precision and F-score are ill-defined and being set to 0.0 in labels with no predicted samples. Use `zero_division` parameter to control this behavior.\n",
      "  _warn_prf(average, modifier, msg_start, len(result))\n",
      "C:\\Users\\ravic\\anaconda3\\lib\\site-packages\\sklearn\\metrics\\_classification.py:1248: UndefinedMetricWarning: Precision and F-score are ill-defined and being set to 0.0 in labels with no predicted samples. Use `zero_division` parameter to control this behavior.\n",
      "  _warn_prf(average, modifier, msg_start, len(result))\n",
      "C:\\Users\\ravic\\anaconda3\\lib\\site-packages\\sklearn\\metrics\\_classification.py:1248: UndefinedMetricWarning: Precision and F-score are ill-defined and being set to 0.0 in labels with no predicted samples. Use `zero_division` parameter to control this behavior.\n",
      "  _warn_prf(average, modifier, msg_start, len(result))\n"
     ]
    }
   ],
   "source": [
    "#printing results of the kmodel\n",
    "y_predict = kmodel.fit(Ftrain, Ltrain).predict(Ftest)\n",
    "class_names = target.unique()\n",
    "print(classification_report(Ltest, y_predict, target_names=class_names))\n",
    "print(confusion_matrix(Ltest, y_predict))"
   ]
  },
  {
   "cell_type": "markdown",
   "id": "197eedfc",
   "metadata": {},
   "source": [
    "# Logistic on grayscale data"
   ]
  },
  {
   "cell_type": "code",
   "execution_count": 32,
   "id": "9fd6cafe",
   "metadata": {},
   "outputs": [
    {
     "data": {
      "text/plain": [
       "0.43618851049191604"
      ]
     },
     "execution_count": 32,
     "metadata": {},
     "output_type": "execute_result"
    }
   ],
   "source": [
    "from sklearn.linear_model import LogisticRegression\n",
    "model=LogisticRegression(solver='lbfgs', max_iter=10000)\n",
    "model.fit(Ftrain,Ltrain)\n",
    "model.score(Ftest,Ltest)"
   ]
  },
  {
   "cell_type": "code",
   "execution_count": 33,
   "id": "20a6d97e",
   "metadata": {},
   "outputs": [
    {
     "name": "stdout",
     "output_type": "stream",
     "text": [
      "                               precision    recall  f1-score   support\n",
      "\n",
      "               bacterial_spot       0.45      0.52      0.48       349\n",
      "                 early_blight       0.22      0.01      0.02       182\n",
      "                      healthy       0.46      0.47      0.47       258\n",
      "                  late_blight       0.44      0.18      0.26       316\n",
      "                    leaf_mold       0.60      0.21      0.31       145\n",
      "           septoria_leaf_spot       0.38      0.10      0.16       262\n",
      "                  target_spot       0.43      0.07      0.12       229\n",
      "          tomato_mosaic_virus       0.00      0.00      0.00        58\n",
      "tomato_yellow_leaf_curl_virus       0.43      0.88      0.58       857\n",
      "      two-spotted_spider_mite       0.44      0.31      0.36       251\n",
      "\n",
      "                     accuracy                           0.44      2907\n",
      "                    macro avg       0.38      0.28      0.27      2907\n",
      "                 weighted avg       0.42      0.44      0.37      2907\n",
      "\n",
      "[[181   0  29   9   0   8   0   0 109  13]\n",
      " [ 44   2   2   8   6   4   6   0  90  20]\n",
      " [ 11   0 122   9   0  10   4   0  95   7]\n",
      " [ 25   1  37  58   9   6   3   0 168   9]\n",
      " [  6   0   3  20  30   8   0   0  75   3]\n",
      " [ 29   0  26   5   5  26   2   0 162   7]\n",
      " [ 54   1  11   4   0   2  16   0 118  23]\n",
      " [  0   0   0   0   0   0   0   0  58   0]\n",
      " [ 29   2  31  19   0   2   0   0 756  18]\n",
      " [ 22   3   5   0   0   3   6   0 135  77]]\n"
     ]
    },
    {
     "name": "stderr",
     "output_type": "stream",
     "text": [
      "C:\\Users\\ravic\\anaconda3\\lib\\site-packages\\sklearn\\metrics\\_classification.py:1248: UndefinedMetricWarning: Precision and F-score are ill-defined and being set to 0.0 in labels with no predicted samples. Use `zero_division` parameter to control this behavior.\n",
      "  _warn_prf(average, modifier, msg_start, len(result))\n",
      "C:\\Users\\ravic\\anaconda3\\lib\\site-packages\\sklearn\\metrics\\_classification.py:1248: UndefinedMetricWarning: Precision and F-score are ill-defined and being set to 0.0 in labels with no predicted samples. Use `zero_division` parameter to control this behavior.\n",
      "  _warn_prf(average, modifier, msg_start, len(result))\n",
      "C:\\Users\\ravic\\anaconda3\\lib\\site-packages\\sklearn\\metrics\\_classification.py:1248: UndefinedMetricWarning: Precision and F-score are ill-defined and being set to 0.0 in labels with no predicted samples. Use `zero_division` parameter to control this behavior.\n",
      "  _warn_prf(average, modifier, msg_start, len(result))\n"
     ]
    }
   ],
   "source": [
    "#classification report\n",
    "y_predict = model.fit(Ftrain, Ltrain).predict(Ftest)\n",
    "class_names = target.unique()\n",
    "print(classification_report(Ltest, y_predict, target_names=class_names))\n",
    "print(confusion_matrix(Ltest, y_predict))"
   ]
  },
  {
   "cell_type": "markdown",
   "id": "5284f869",
   "metadata": {},
   "source": [
    "# SVM on Grayscale data"
   ]
  },
  {
   "cell_type": "code",
   "execution_count": 34,
   "id": "d0db5c80",
   "metadata": {},
   "outputs": [
    {
     "name": "stdout",
     "output_type": "stream",
     "text": [
      "0.43790849673202614\n"
     ]
    }
   ],
   "source": [
    "clf = SVC(kernel='linear')\n",
    "clf.fit(Ftrain,Ltrain)\n",
    "y_pred = clf.predict(Ftest)\n",
    "print(accuracy_score(Ltest,y_pred))"
   ]
  },
  {
   "cell_type": "code",
   "execution_count": 35,
   "id": "bcddcf24",
   "metadata": {},
   "outputs": [
    {
     "name": "stdout",
     "output_type": "stream",
     "text": [
      "                               precision    recall  f1-score   support\n",
      "\n",
      "               bacterial_spot       0.42      0.52      0.46       349\n",
      "                 early_blight       0.25      0.01      0.01       182\n",
      "                      healthy       0.49      0.46      0.48       258\n",
      "                  late_blight       0.56      0.13      0.21       316\n",
      "                    leaf_mold       0.66      0.26      0.37       145\n",
      "           septoria_leaf_spot       0.28      0.03      0.05       262\n",
      "                  target_spot       0.46      0.06      0.10       229\n",
      "          tomato_mosaic_virus       0.00      0.00      0.00        58\n",
      "tomato_yellow_leaf_curl_virus       0.42      0.94      0.58       857\n",
      "      two-spotted_spider_mite       0.47      0.29      0.36       251\n",
      "\n",
      "                     accuracy                           0.44      2907\n",
      "                    macro avg       0.40      0.27      0.26      2907\n",
      "                 weighted avg       0.43      0.44      0.36      2907\n",
      "\n",
      "[[180   0  26   1   0   2   0   0 131   9]\n",
      " [ 48   1   3   8   5   4   4   0  92  17]\n",
      " [ 15   0 119   3   0   6   4   0 106   5]\n",
      " [ 25   3  34  40   8   2   1   0 195   8]\n",
      " [  5   0   4  14  37   4   0   0  79   2]\n",
      " [ 33   0  26   2   6   8   1   0 180   6]\n",
      " [ 69   0   8   3   0   2  13   0 114  20]\n",
      " [  0   0   0   0   0   0   0   0  58   0]\n",
      " [ 26   0  14   0   0   1   0   0 802  14]\n",
      " [ 25   0   8   0   0   0   5   0 140  73]]\n"
     ]
    },
    {
     "name": "stderr",
     "output_type": "stream",
     "text": [
      "C:\\Users\\ravic\\anaconda3\\lib\\site-packages\\sklearn\\metrics\\_classification.py:1248: UndefinedMetricWarning: Precision and F-score are ill-defined and being set to 0.0 in labels with no predicted samples. Use `zero_division` parameter to control this behavior.\n",
      "  _warn_prf(average, modifier, msg_start, len(result))\n",
      "C:\\Users\\ravic\\anaconda3\\lib\\site-packages\\sklearn\\metrics\\_classification.py:1248: UndefinedMetricWarning: Precision and F-score are ill-defined and being set to 0.0 in labels with no predicted samples. Use `zero_division` parameter to control this behavior.\n",
      "  _warn_prf(average, modifier, msg_start, len(result))\n",
      "C:\\Users\\ravic\\anaconda3\\lib\\site-packages\\sklearn\\metrics\\_classification.py:1248: UndefinedMetricWarning: Precision and F-score are ill-defined and being set to 0.0 in labels with no predicted samples. Use `zero_division` parameter to control this behavior.\n",
      "  _warn_prf(average, modifier, msg_start, len(result))\n"
     ]
    }
   ],
   "source": [
    "#classification report\n",
    "y_predict = clf.fit(Ftrain, Ltrain).predict(Ftest)\n",
    "class_names = target.unique()\n",
    "print(classification_report(Ltest, y_predict, target_names=class_names))\n",
    "print(confusion_matrix(Ltest, y_predict))"
   ]
  },
  {
   "cell_type": "markdown",
   "id": "576fd580",
   "metadata": {},
   "source": [
    "# Random Forest on Grayscale"
   ]
  },
  {
   "cell_type": "code",
   "execution_count": 36,
   "id": "9dfa979e",
   "metadata": {},
   "outputs": [
    {
     "data": {
      "text/plain": [
       "RandomForestClassifier(max_depth=5, n_jobs=-1, oob_score=True, random_state=42)"
      ]
     },
     "execution_count": 36,
     "metadata": {},
     "output_type": "execute_result"
    }
   ],
   "source": [
    "classifier_rf.fit(Ftrain, Ltrain)"
   ]
  },
  {
   "cell_type": "code",
   "execution_count": 37,
   "id": "2b4347ef",
   "metadata": {},
   "outputs": [
    {
     "data": {
      "text/plain": [
       "0.4083792154163799"
      ]
     },
     "execution_count": 37,
     "metadata": {},
     "output_type": "execute_result"
    }
   ],
   "source": [
    "classifier_rf.oob_score_"
   ]
  },
  {
   "cell_type": "code",
   "execution_count": 38,
   "id": "9263c32f",
   "metadata": {},
   "outputs": [
    {
     "name": "stdout",
     "output_type": "stream",
     "text": [
      "                               precision    recall  f1-score   support\n",
      "\n",
      "               bacterial_spot       0.58      0.51      0.54       349\n",
      "                 early_blight       0.00      0.00      0.00       182\n",
      "                      healthy       0.75      0.43      0.54       258\n",
      "                  late_blight       0.85      0.26      0.40       316\n",
      "                    leaf_mold       0.72      0.18      0.29       145\n",
      "           septoria_leaf_spot       0.00      0.00      0.00       262\n",
      "                  target_spot       0.00      0.00      0.00       229\n",
      "          tomato_mosaic_virus       0.00      0.00      0.00        58\n",
      "tomato_yellow_leaf_curl_virus       0.35      0.95      0.51       857\n",
      "      two-spotted_spider_mite       1.00      0.00      0.01       251\n",
      "\n",
      "                     accuracy                           0.42      2907\n",
      "                    macro avg       0.43      0.23      0.23      2907\n",
      "                 weighted avg       0.46      0.42      0.32      2907\n",
      "\n",
      "[[177   0   8   2   0   0   0   0 162   0]\n",
      " [ 42   0   0   0   1   0   0   0 139   0]\n",
      " [  0   0 110   0   0   0   0   0 148   0]\n",
      " [ 18   0   5  82   5   0   0   0 206   0]\n",
      " [  3   0   2   4  26   0   0   0 110   0]\n",
      " [  6   0  10   4   4   0   0   0 238   0]\n",
      " [ 17   0   2   0   0   0   0   0 210   0]\n",
      " [  0   0   0   0   0   0   0   0  58   0]\n",
      " [ 28   0   9   4   0   0   0   0 816   0]\n",
      " [ 13   0   1   0   0   0   0   0 236   1]]\n"
     ]
    },
    {
     "name": "stderr",
     "output_type": "stream",
     "text": [
      "C:\\Users\\ravic\\anaconda3\\lib\\site-packages\\sklearn\\metrics\\_classification.py:1248: UndefinedMetricWarning: Precision and F-score are ill-defined and being set to 0.0 in labels with no predicted samples. Use `zero_division` parameter to control this behavior.\n",
      "  _warn_prf(average, modifier, msg_start, len(result))\n",
      "C:\\Users\\ravic\\anaconda3\\lib\\site-packages\\sklearn\\metrics\\_classification.py:1248: UndefinedMetricWarning: Precision and F-score are ill-defined and being set to 0.0 in labels with no predicted samples. Use `zero_division` parameter to control this behavior.\n",
      "  _warn_prf(average, modifier, msg_start, len(result))\n",
      "C:\\Users\\ravic\\anaconda3\\lib\\site-packages\\sklearn\\metrics\\_classification.py:1248: UndefinedMetricWarning: Precision and F-score are ill-defined and being set to 0.0 in labels with no predicted samples. Use `zero_division` parameter to control this behavior.\n",
      "  _warn_prf(average, modifier, msg_start, len(result))\n"
     ]
    }
   ],
   "source": [
    "y_predict = classifier_rf.fit(Ftrain, Ltrain).predict(Ftest)\n",
    "class_names = target.unique()\n",
    "print(classification_report(Ltest, y_predict, target_names=class_names))\n",
    "print(confusion_matrix(Ltest, y_predict))"
   ]
  },
  {
   "cell_type": "markdown",
   "id": "8befce61",
   "metadata": {},
   "source": [
    "# Naive bayes on Grayscale"
   ]
  },
  {
   "cell_type": "code",
   "execution_count": 39,
   "id": "0d1a6d3b",
   "metadata": {},
   "outputs": [
    {
     "data": {
      "text/plain": [
       "GaussianNB()"
      ]
     },
     "execution_count": 39,
     "metadata": {},
     "output_type": "execute_result"
    }
   ],
   "source": [
    "gnb.fit(Ftrain, Ltrain)"
   ]
  },
  {
   "cell_type": "code",
   "execution_count": 40,
   "id": "053c9a09",
   "metadata": {},
   "outputs": [
    {
     "data": {
      "text/plain": [
       "0.35362917096663227"
      ]
     },
     "execution_count": 40,
     "metadata": {},
     "output_type": "execute_result"
    }
   ],
   "source": [
    "y_pred = gnb.predict(Ftest)\n",
    "metrics.accuracy_score(Ltest, y_pred)"
   ]
  },
  {
   "cell_type": "code",
   "execution_count": 41,
   "id": "22c98d80",
   "metadata": {},
   "outputs": [
    {
     "name": "stdout",
     "output_type": "stream",
     "text": [
      "                               precision    recall  f1-score   support\n",
      "\n",
      "               bacterial_spot       0.56      0.62      0.58       349\n",
      "                 early_blight       0.23      0.38      0.29       182\n",
      "                      healthy       0.31      0.65      0.42       258\n",
      "                  late_blight       0.41      0.20      0.27       316\n",
      "                    leaf_mold       0.39      0.50      0.44       145\n",
      "           septoria_leaf_spot       0.22      0.15      0.18       262\n",
      "                  target_spot       0.45      0.32      0.37       229\n",
      "          tomato_mosaic_virus       0.12      0.76      0.21        58\n",
      "tomato_yellow_leaf_curl_virus       0.61      0.21      0.31       857\n",
      "      two-spotted_spider_mite       0.32      0.42      0.36       251\n",
      "\n",
      "                     accuracy                           0.35      2907\n",
      "                    macro avg       0.36      0.42      0.34      2907\n",
      "                 weighted avg       0.44      0.35      0.35      2907\n",
      "\n",
      "[[215  25  46   3   2  20  12  12  10   4]\n",
      " [ 21  70   3  16  12   3  12   7  11  27]\n",
      " [  0   2 168   6   6  18  18   8  23   9]\n",
      " [  5  63  89  64  19  13  11  25  15  12]\n",
      " [  1   2  10   5  73   6   6  25  13   4]\n",
      " [ 23  12  56   8  30  39  12  52  16  14]\n",
      " [ 53  22   6   7   7   8  73  17  12  24]\n",
      " [  2   0   0   0   5   3   0  44   3   1]\n",
      " [ 60  80 154  40  27  55   6 128 177 130]\n",
      " [  7  27   9   7   8  15  13  49  11 105]]\n"
     ]
    }
   ],
   "source": [
    "class_names = target.unique()\n",
    "print(classification_report(Ltest, y_pred, target_names=class_names))\n",
    "print(confusion_matrix(Ltest, y_pred))"
   ]
  },
  {
   "cell_type": "markdown",
   "id": "9a562db7",
   "metadata": {},
   "source": [
    "# Decision Tree on Grayscale"
   ]
  },
  {
   "cell_type": "code",
   "execution_count": 42,
   "id": "a4e9cd0d",
   "metadata": {},
   "outputs": [
    {
     "data": {
      "text/plain": [
       "0.38630890952872377"
      ]
     },
     "execution_count": 42,
     "metadata": {},
     "output_type": "execute_result"
    }
   ],
   "source": [
    "classifier_tree.fit(Ftrain, Ltrain)\n",
    "classifier_tree.score(Ftest,Ltest)"
   ]
  },
  {
   "cell_type": "code",
   "execution_count": 43,
   "id": "523c3773",
   "metadata": {},
   "outputs": [
    {
     "name": "stdout",
     "output_type": "stream",
     "text": [
      "                               precision    recall  f1-score   support\n",
      "\n",
      "               bacterial_spot       0.44      0.47      0.46       349\n",
      "                 early_blight       0.11      0.10      0.11       182\n",
      "                      healthy       0.54      0.50      0.52       258\n",
      "                  late_blight       0.34      0.31      0.32       316\n",
      "                    leaf_mold       0.27      0.30      0.28       145\n",
      "           septoria_leaf_spot       0.26      0.34      0.30       262\n",
      "                  target_spot       0.24      0.23      0.24       229\n",
      "          tomato_mosaic_virus       0.14      0.14      0.14        58\n",
      "tomato_yellow_leaf_curl_virus       0.54      0.52      0.53       857\n",
      "      two-spotted_spider_mite       0.28      0.27      0.27       251\n",
      "\n",
      "                     accuracy                           0.38      2907\n",
      "                    macro avg       0.32      0.32      0.32      2907\n",
      "                 weighted avg       0.39      0.38      0.38      2907\n",
      "\n",
      "[[164  22   9  21  12  25  22   3  53  18]\n",
      " [ 35  19   6  25   7   5  22   4  41  18]\n",
      " [  7   8 128  16  14  32  15   2  23  13]\n",
      " [ 33  21   8  97  15  41  16   6  66  13]\n",
      " [ 11   4   5  20  43  23   5   7  19   8]\n",
      " [ 13  13  18  20  12  89  20   7  57  13]\n",
      " [ 26  15  10   8   8  26  53   5  41  37]\n",
      " [  2   1   3   4   3  13   0   8  19   5]\n",
      " [ 63  51  34  64  39  64  39  13 445  45]\n",
      " [ 16  17  14  14   8  18  29   4  64  67]]\n"
     ]
    }
   ],
   "source": [
    "y_predict = classifier_tree.fit(Ftrain, Ltrain).predict(Ftest)\n",
    "class_names = target.unique()\n",
    "print(classification_report(Ltest, y_predict, target_names=class_names))\n",
    "print(confusion_matrix(Ltest, y_predict))"
   ]
  },
  {
   "cell_type": "markdown",
   "id": "e42f549f",
   "metadata": {},
   "source": [
    "# KNN on Red channel data"
   ]
  },
  {
   "cell_type": "code",
   "execution_count": 44,
   "id": "cb75cbbd",
   "metadata": {},
   "outputs": [],
   "source": [
    "#reading numpy array data\n",
    "gray_test = np.load('red_data.npy')\n",
    "#reading csv file\n",
    "gray_df = pd.read_csv('red_data.csv')"
   ]
  },
  {
   "cell_type": "code",
   "execution_count": 45,
   "id": "7fda7839",
   "metadata": {},
   "outputs": [],
   "source": [
    "loaded = []\n",
    "for i in gray_test:\n",
    "    k = []\n",
    "    k = np.asarray(i,dtype='uint8')\n",
    "    loaded.append(k)\n",
    "features = loaded\n",
    "target = gray_df['disease']\n",
    "Ftrain,Ftest,Ltrain,Ltest=train_test_split(features,target, test_size=0.20, random_state=20)\n",
    "Ftrain = norm.fit_transform(Ftrain)\n",
    "Ftest = norm.fit_transform(Ftest)"
   ]
  },
  {
   "cell_type": "code",
   "execution_count": 46,
   "id": "683839f2",
   "metadata": {},
   "outputs": [
    {
     "data": {
      "text/plain": [
       "0.45338837289301687"
      ]
     },
     "execution_count": 46,
     "metadata": {},
     "output_type": "execute_result"
    }
   ],
   "source": [
    "kmodel.fit(Ftrain,Ltrain)\n",
    "kmodel.score(Ftest,Ltest)"
   ]
  },
  {
   "cell_type": "code",
   "execution_count": 47,
   "id": "53bc7b93",
   "metadata": {},
   "outputs": [
    {
     "name": "stdout",
     "output_type": "stream",
     "text": [
      "                               precision    recall  f1-score   support\n",
      "\n",
      "               bacterial_spot       0.34      0.72      0.47       349\n",
      "                 early_blight       0.00      0.00      0.00       182\n",
      "                      healthy       0.35      0.62      0.44       258\n",
      "                  late_blight       0.42      0.35      0.39       316\n",
      "                    leaf_mold       0.59      0.43      0.50       145\n",
      "           septoria_leaf_spot       0.26      0.46      0.33       262\n",
      "                  target_spot       0.47      0.20      0.28       229\n",
      "          tomato_mosaic_virus       0.47      0.16      0.23        58\n",
      "tomato_yellow_leaf_curl_virus       0.70      0.56      0.62       857\n",
      "      two-spotted_spider_mite       0.89      0.30      0.45       251\n",
      "\n",
      "                     accuracy                           0.45      2907\n",
      "                    macro avg       0.45      0.38      0.37      2907\n",
      "                 weighted avg       0.50      0.45      0.44      2907\n",
      "\n",
      "[[253   0  30  20   0  24   2   0  20   0]\n",
      " [ 97   0  10   3   9  24   8   1  29   1]\n",
      " [  7   0 159  11   0  73   1   0   6   1]\n",
      " [ 48   0  51 112  15  43   2   1  43   1]\n",
      " [  9   0  17  14  63  27   1   0  14   0]\n",
      " [ 31   0  44  27  11 120   3   1  23   2]\n",
      " [ 95   0  28   0   0  46  45   3  11   1]\n",
      " [  1   0   6   1   1  12   3   9  24   1]\n",
      " [134   0  95  72   6  60   5   1 482   2]\n",
      " [ 60   0  20   4   1  28  25   3  35  75]]\n"
     ]
    },
    {
     "name": "stderr",
     "output_type": "stream",
     "text": [
      "C:\\Users\\ravic\\anaconda3\\lib\\site-packages\\sklearn\\metrics\\_classification.py:1248: UndefinedMetricWarning: Precision and F-score are ill-defined and being set to 0.0 in labels with no predicted samples. Use `zero_division` parameter to control this behavior.\n",
      "  _warn_prf(average, modifier, msg_start, len(result))\n",
      "C:\\Users\\ravic\\anaconda3\\lib\\site-packages\\sklearn\\metrics\\_classification.py:1248: UndefinedMetricWarning: Precision and F-score are ill-defined and being set to 0.0 in labels with no predicted samples. Use `zero_division` parameter to control this behavior.\n",
      "  _warn_prf(average, modifier, msg_start, len(result))\n",
      "C:\\Users\\ravic\\anaconda3\\lib\\site-packages\\sklearn\\metrics\\_classification.py:1248: UndefinedMetricWarning: Precision and F-score are ill-defined and being set to 0.0 in labels with no predicted samples. Use `zero_division` parameter to control this behavior.\n",
      "  _warn_prf(average, modifier, msg_start, len(result))\n"
     ]
    }
   ],
   "source": [
    "#printing results of the kmodel\n",
    "y_predict = kmodel.fit(Ftrain, Ltrain).predict(Ftest)\n",
    "class_names = target.unique()\n",
    "print(classification_report(Ltest, y_predict, target_names=class_names))\n",
    "print(confusion_matrix(Ltest, y_predict))"
   ]
  },
  {
   "cell_type": "markdown",
   "id": "ffcda594",
   "metadata": {},
   "source": [
    "# Logistic on Red channel data"
   ]
  },
  {
   "cell_type": "code",
   "execution_count": 48,
   "id": "1ed4037b",
   "metadata": {},
   "outputs": [
    {
     "data": {
      "text/plain": [
       "0.47368421052631576"
      ]
     },
     "execution_count": 48,
     "metadata": {},
     "output_type": "execute_result"
    }
   ],
   "source": [
    "model.fit(Ftrain,Ltrain)\n",
    "model.score(Ftest,Ltest)"
   ]
  },
  {
   "cell_type": "code",
   "execution_count": 49,
   "id": "22b11f2e",
   "metadata": {},
   "outputs": [
    {
     "name": "stdout",
     "output_type": "stream",
     "text": [
      "                               precision    recall  f1-score   support\n",
      "\n",
      "               bacterial_spot       0.47      0.57      0.52       349\n",
      "                 early_blight       0.50      0.01      0.01       182\n",
      "                      healthy       0.48      0.54      0.51       258\n",
      "                  late_blight       0.48      0.26      0.33       316\n",
      "                    leaf_mold       0.61      0.28      0.38       145\n",
      "           septoria_leaf_spot       0.40      0.16      0.23       262\n",
      "                  target_spot       0.51      0.13      0.21       229\n",
      "          tomato_mosaic_virus       0.00      0.00      0.00        58\n",
      "tomato_yellow_leaf_curl_virus       0.47      0.88      0.61       857\n",
      "      two-spotted_spider_mite       0.48      0.36      0.41       251\n",
      "\n",
      "                     accuracy                           0.47      2907\n",
      "                    macro avg       0.44      0.32      0.32      2907\n",
      "                 weighted avg       0.47      0.47      0.42      2907\n",
      "\n",
      "[[200   0  24  15   0   9   1   0  87  13]\n",
      " [ 43   1   4   8   8   4   9   0  93  12]\n",
      " [  6   0 140  10   0  17   5   0  73   7]\n",
      " [ 24   0  44  81   8  11   3   0 136   9]\n",
      " [  4   0   3  22  40  14   0   0  60   2]\n",
      " [ 35   0  31  13   9  43   2   0 120   9]\n",
      " [ 59   0  12   3   0   3  30   0  96  26]\n",
      " [  0   0   0   0   1   0   0   0  57   0]\n",
      " [ 36   0  32  16   0   2   1   0 751  19]\n",
      " [ 19   1   4   0   0   4   8   0 124  91]]\n"
     ]
    },
    {
     "name": "stderr",
     "output_type": "stream",
     "text": [
      "C:\\Users\\ravic\\anaconda3\\lib\\site-packages\\sklearn\\metrics\\_classification.py:1248: UndefinedMetricWarning: Precision and F-score are ill-defined and being set to 0.0 in labels with no predicted samples. Use `zero_division` parameter to control this behavior.\n",
      "  _warn_prf(average, modifier, msg_start, len(result))\n",
      "C:\\Users\\ravic\\anaconda3\\lib\\site-packages\\sklearn\\metrics\\_classification.py:1248: UndefinedMetricWarning: Precision and F-score are ill-defined and being set to 0.0 in labels with no predicted samples. Use `zero_division` parameter to control this behavior.\n",
      "  _warn_prf(average, modifier, msg_start, len(result))\n",
      "C:\\Users\\ravic\\anaconda3\\lib\\site-packages\\sklearn\\metrics\\_classification.py:1248: UndefinedMetricWarning: Precision and F-score are ill-defined and being set to 0.0 in labels with no predicted samples. Use `zero_division` parameter to control this behavior.\n",
      "  _warn_prf(average, modifier, msg_start, len(result))\n"
     ]
    }
   ],
   "source": [
    "#classification report\n",
    "y_predict = model.fit(Ftrain, Ltrain).predict(Ftest)\n",
    "class_names = target.unique()\n",
    "print(classification_report(Ltest, y_predict, target_names=class_names))\n",
    "print(confusion_matrix(Ltest, y_predict))"
   ]
  },
  {
   "cell_type": "markdown",
   "id": "dba6d5ce",
   "metadata": {},
   "source": [
    "# SVM on Red channel data"
   ]
  },
  {
   "cell_type": "code",
   "execution_count": 50,
   "id": "6ed153f7",
   "metadata": {},
   "outputs": [
    {
     "name": "stdout",
     "output_type": "stream",
     "text": [
      "0.4864121087031304\n"
     ]
    }
   ],
   "source": [
    "clf.fit(Ftrain,Ltrain)\n",
    "y_pred = clf.predict(Ftest)\n",
    "print(accuracy_score(Ltest,y_pred))"
   ]
  },
  {
   "cell_type": "code",
   "execution_count": 51,
   "id": "3d2d1d59",
   "metadata": {},
   "outputs": [
    {
     "name": "stdout",
     "output_type": "stream",
     "text": [
      "                               precision    recall  f1-score   support\n",
      "\n",
      "               bacterial_spot       0.47      0.56      0.52       349\n",
      "                 early_blight       0.00      0.00      0.00       182\n",
      "                      healthy       0.45      0.63      0.53       258\n",
      "                  late_blight       0.57      0.20      0.30       316\n",
      "                    leaf_mold       0.63      0.36      0.46       145\n",
      "           septoria_leaf_spot       0.40      0.14      0.20       262\n",
      "                  target_spot       0.55      0.20      0.29       229\n",
      "          tomato_mosaic_virus       0.00      0.00      0.00        58\n",
      "tomato_yellow_leaf_curl_virus       0.48      0.89      0.62       857\n",
      "      two-spotted_spider_mite       0.56      0.37      0.45       251\n",
      "\n",
      "                     accuracy                           0.49      2907\n",
      "                    macro avg       0.41      0.34      0.34      2907\n",
      "                 weighted avg       0.46      0.49      0.43      2907\n",
      "\n",
      "[[197   0  31   9   0   6   0   0  96  10]\n",
      " [ 49   0   8   7   8   5  10   0  88   7]\n",
      " [  7   0 162   4   0  12   7   0  62   4]\n",
      " [ 23   3  52  63  11  12   6   0 142   4]\n",
      " [  5   0   5  18  52  13   0   0  50   2]\n",
      " [ 29   0  37   4   9  36   3   0 137   7]\n",
      " [ 59   0  16   1   0   4  46   0  83  20]\n",
      " [  0   0   0   0   1   0   0   0  57   0]\n",
      " [ 29   0  37   5   1   0   1   0 765  19]\n",
      " [ 17   0  10   0   0   2  11   0 118  93]]\n"
     ]
    },
    {
     "name": "stderr",
     "output_type": "stream",
     "text": [
      "C:\\Users\\ravic\\anaconda3\\lib\\site-packages\\sklearn\\metrics\\_classification.py:1248: UndefinedMetricWarning: Precision and F-score are ill-defined and being set to 0.0 in labels with no predicted samples. Use `zero_division` parameter to control this behavior.\n",
      "  _warn_prf(average, modifier, msg_start, len(result))\n",
      "C:\\Users\\ravic\\anaconda3\\lib\\site-packages\\sklearn\\metrics\\_classification.py:1248: UndefinedMetricWarning: Precision and F-score are ill-defined and being set to 0.0 in labels with no predicted samples. Use `zero_division` parameter to control this behavior.\n",
      "  _warn_prf(average, modifier, msg_start, len(result))\n",
      "C:\\Users\\ravic\\anaconda3\\lib\\site-packages\\sklearn\\metrics\\_classification.py:1248: UndefinedMetricWarning: Precision and F-score are ill-defined and being set to 0.0 in labels with no predicted samples. Use `zero_division` parameter to control this behavior.\n",
      "  _warn_prf(average, modifier, msg_start, len(result))\n"
     ]
    }
   ],
   "source": [
    "#classification report\n",
    "y_predict = clf.fit(Ftrain, Ltrain).predict(Ftest)\n",
    "class_names = target.unique()\n",
    "print(classification_report(Ltest, y_predict, target_names=class_names))\n",
    "print(confusion_matrix(Ltest, y_predict))"
   ]
  },
  {
   "cell_type": "markdown",
   "id": "a670c4d4",
   "metadata": {},
   "source": [
    "# Random forest on Red channel data"
   ]
  },
  {
   "cell_type": "code",
   "execution_count": 52,
   "id": "9e816e9e",
   "metadata": {},
   "outputs": [
    {
     "data": {
      "text/plain": [
       "0.4232622161046111"
      ]
     },
     "execution_count": 52,
     "metadata": {},
     "output_type": "execute_result"
    }
   ],
   "source": [
    "classifier_rf.fit(Ftrain, Ltrain)\n",
    "classifier_rf.oob_score_"
   ]
  },
  {
   "cell_type": "code",
   "execution_count": 53,
   "id": "6d5daf40",
   "metadata": {},
   "outputs": [
    {
     "name": "stdout",
     "output_type": "stream",
     "text": [
      "                               precision    recall  f1-score   support\n",
      "\n",
      "               bacterial_spot       0.60      0.52      0.56       349\n",
      "                 early_blight       0.00      0.00      0.00       182\n",
      "                      healthy       0.59      0.59      0.59       258\n",
      "                  late_blight       0.74      0.27      0.40       316\n",
      "                    leaf_mold       0.81      0.27      0.40       145\n",
      "           septoria_leaf_spot       0.33      0.00      0.01       262\n",
      "                  target_spot       1.00      0.02      0.04       229\n",
      "          tomato_mosaic_virus       0.00      0.00      0.00        58\n",
      "tomato_yellow_leaf_curl_virus       0.37      0.93      0.53       857\n",
      "      two-spotted_spider_mite       0.00      0.00      0.00       251\n",
      "\n",
      "                     accuracy                           0.43      2907\n",
      "                    macro avg       0.44      0.26      0.25      2907\n",
      "                 weighted avg       0.46      0.43      0.34      2907\n",
      "\n",
      "[[183   0  18   6   0   0   0   0 142   0]\n",
      " [ 33   0   5   5   2   0   0   0 137   0]\n",
      " [  0   0 152   0   0   0   0   0 106   0]\n",
      " [ 15   0  17  86   3   1   0   0 194   0]\n",
      " [  3   0   7   8  39   1   0   0  87   0]\n",
      " [  6   0  22   7   4   1   0   0 222   0]\n",
      " [ 18   0  13   0   0   0   5   0 193   0]\n",
      " [  0   0   0   0   0   0   0   0  58   0]\n",
      " [ 37   0  19   5   0   0   0   0 796   0]\n",
      " [  9   0   3   0   0   0   0   0 239   0]]\n"
     ]
    },
    {
     "name": "stderr",
     "output_type": "stream",
     "text": [
      "C:\\Users\\ravic\\anaconda3\\lib\\site-packages\\sklearn\\metrics\\_classification.py:1248: UndefinedMetricWarning: Precision and F-score are ill-defined and being set to 0.0 in labels with no predicted samples. Use `zero_division` parameter to control this behavior.\n",
      "  _warn_prf(average, modifier, msg_start, len(result))\n",
      "C:\\Users\\ravic\\anaconda3\\lib\\site-packages\\sklearn\\metrics\\_classification.py:1248: UndefinedMetricWarning: Precision and F-score are ill-defined and being set to 0.0 in labels with no predicted samples. Use `zero_division` parameter to control this behavior.\n",
      "  _warn_prf(average, modifier, msg_start, len(result))\n",
      "C:\\Users\\ravic\\anaconda3\\lib\\site-packages\\sklearn\\metrics\\_classification.py:1248: UndefinedMetricWarning: Precision and F-score are ill-defined and being set to 0.0 in labels with no predicted samples. Use `zero_division` parameter to control this behavior.\n",
      "  _warn_prf(average, modifier, msg_start, len(result))\n"
     ]
    }
   ],
   "source": [
    "y_predict = classifier_rf.fit(Ftrain, Ltrain).predict(Ftest)\n",
    "class_names = target.unique()\n",
    "print(classification_report(Ltest, y_predict, target_names=class_names))\n",
    "print(confusion_matrix(Ltest, y_predict))"
   ]
  },
  {
   "cell_type": "markdown",
   "id": "e1c2d95a",
   "metadata": {},
   "source": [
    "# Naive Bayes on Red channel data"
   ]
  },
  {
   "cell_type": "code",
   "execution_count": 54,
   "id": "8ec0753c",
   "metadata": {},
   "outputs": [
    {
     "data": {
      "text/plain": [
       "GaussianNB()"
      ]
     },
     "execution_count": 54,
     "metadata": {},
     "output_type": "execute_result"
    }
   ],
   "source": [
    "gnb.fit(Ftrain, Ltrain)"
   ]
  },
  {
   "cell_type": "code",
   "execution_count": 55,
   "id": "9bd3c55d",
   "metadata": {},
   "outputs": [
    {
     "data": {
      "text/plain": [
       "0.37048503611971106"
      ]
     },
     "execution_count": 55,
     "metadata": {},
     "output_type": "execute_result"
    }
   ],
   "source": [
    "y_pred = gnb.predict(Ftest)\n",
    "metrics.accuracy_score(Ltest, y_pred)"
   ]
  },
  {
   "cell_type": "code",
   "execution_count": 56,
   "id": "fc44e44c",
   "metadata": {},
   "outputs": [
    {
     "name": "stdout",
     "output_type": "stream",
     "text": [
      "                               precision    recall  f1-score   support\n",
      "\n",
      "               bacterial_spot       0.56      0.63      0.59       349\n",
      "                 early_blight       0.23      0.34      0.28       182\n",
      "                      healthy       0.34      0.72      0.46       258\n",
      "                  late_blight       0.40      0.23      0.29       316\n",
      "                    leaf_mold       0.44      0.52      0.48       145\n",
      "           septoria_leaf_spot       0.17      0.13      0.14       262\n",
      "                  target_spot       0.51      0.42      0.46       229\n",
      "          tomato_mosaic_virus       0.13      0.83      0.23        58\n",
      "tomato_yellow_leaf_curl_virus       0.65      0.20      0.31       857\n",
      "      two-spotted_spider_mite       0.33      0.44      0.38       251\n",
      "\n",
      "                     accuracy                           0.37      2907\n",
      "                    macro avg       0.38      0.45      0.36      2907\n",
      "                 weighted avg       0.46      0.37      0.36      2907\n",
      "\n",
      "[[219  19  48   6   0  16  16  11   8   6]\n",
      " [ 28  62   4  16  12   4  16   6   8  26]\n",
      " [  0   2 186   6   6  23   6   1  16  12]\n",
      " [ 11  56  89  72  23  19   5  18  15   8]\n",
      " [  2   2  12   8  76   9   3  19   9   5]\n",
      " [ 17  15  64  11  31  33  21  38  16  16]\n",
      " [ 37  21   4   5   4   5  96  17   6  34]\n",
      " [  2   0   0   0   3   2   0  48   2   1]\n",
      " [ 68  66 131  53  15  74  12 149 174 115]\n",
      " [  9  21  12   4   4  10  14  53  13 111]]\n"
     ]
    }
   ],
   "source": [
    "class_names = target.unique()\n",
    "print(classification_report(Ltest, y_pred, target_names=class_names))\n",
    "print(confusion_matrix(Ltest, y_pred))"
   ]
  },
  {
   "cell_type": "markdown",
   "id": "1aad544a",
   "metadata": {},
   "source": [
    "# Decision Tree on Red channel"
   ]
  },
  {
   "cell_type": "code",
   "execution_count": 57,
   "id": "91934650",
   "metadata": {},
   "outputs": [
    {
     "data": {
      "text/plain": [
       "0.42208462332301344"
      ]
     },
     "execution_count": 57,
     "metadata": {},
     "output_type": "execute_result"
    }
   ],
   "source": [
    "classifier_tree.fit(Ftrain, Ltrain)\n",
    "classifier_tree.score(Ftest,Ltest)"
   ]
  },
  {
   "cell_type": "code",
   "execution_count": 58,
   "id": "897d5f1e",
   "metadata": {},
   "outputs": [
    {
     "name": "stdout",
     "output_type": "stream",
     "text": [
      "                               precision    recall  f1-score   support\n",
      "\n",
      "               bacterial_spot       0.48      0.50      0.49       349\n",
      "                 early_blight       0.12      0.10      0.11       182\n",
      "                      healthy       0.54      0.49      0.51       258\n",
      "                  late_blight       0.38      0.32      0.35       316\n",
      "                    leaf_mold       0.29      0.37      0.32       145\n",
      "           septoria_leaf_spot       0.25      0.28      0.27       262\n",
      "                  target_spot       0.37      0.34      0.36       229\n",
      "          tomato_mosaic_virus       0.03      0.03      0.03        58\n",
      "tomato_yellow_leaf_curl_virus       0.55      0.55      0.55       857\n",
      "      two-spotted_spider_mite       0.36      0.39      0.37       251\n",
      "\n",
      "                     accuracy                           0.41      2907\n",
      "                    macro avg       0.34      0.34      0.34      2907\n",
      "                 weighted avg       0.41      0.41      0.41      2907\n",
      "\n",
      "[[176  15   7  21  13  25  16   4  60  12]\n",
      " [ 25  19   8  15  12  11  18   5  53  16]\n",
      " [ 12   4 126  10  12  25  14   4  42   9]\n",
      " [ 21  22  19 102  17  45  11   6  52  21]\n",
      " [  6   8   3  20  53  15   1   5  26   8]\n",
      " [ 24  10  20  29  11  74  10   9  57  18]\n",
      " [ 20  18  14  14  11  21  78   3  27  23]\n",
      " [  1   3   3   3   3   8   4   2  21  10]\n",
      " [ 67  49  23  46  41  56  30  19 473  53]\n",
      " [ 12  12   9   7  10  13  28   7  56  97]]\n"
     ]
    }
   ],
   "source": [
    "y_predict = classifier_tree.fit(Ftrain, Ltrain).predict(Ftest)\n",
    "class_names = target.unique()\n",
    "print(classification_report(Ltest, y_predict, target_names=class_names))\n",
    "print(confusion_matrix(Ltest, y_predict))"
   ]
  },
  {
   "cell_type": "markdown",
   "id": "21af7568",
   "metadata": {},
   "source": [
    "# KNN on green channel data"
   ]
  },
  {
   "cell_type": "code",
   "execution_count": 59,
   "id": "461b784b",
   "metadata": {},
   "outputs": [
    {
     "data": {
      "text/plain": [
       "0.41210870313037495"
      ]
     },
     "execution_count": 59,
     "metadata": {},
     "output_type": "execute_result"
    }
   ],
   "source": [
    "#reading numpy array data\n",
    "gray_test = np.load('green_data.npy')\n",
    "#reading csv file\n",
    "gray_df = pd.read_csv('green_data.csv')\n",
    "loaded = []\n",
    "for i in gray_test:\n",
    "    k = []\n",
    "    k = np.asarray(i,dtype='uint8')\n",
    "    loaded.append(k)\n",
    "features = loaded\n",
    "target = gray_df['disease']\n",
    "Ftrain,Ftest,Ltrain,Ltest=train_test_split(features,target, test_size=0.20, random_state=20)\n",
    "Ftrain = norm.fit_transform(Ftrain)\n",
    "Ftest = norm.fit_transform(Ftest)\n",
    "kmodel.fit(Ftrain,Ltrain)\n",
    "kmodel.score(Ftest,Ltest)"
   ]
  },
  {
   "cell_type": "code",
   "execution_count": 60,
   "id": "5a4d4f1d",
   "metadata": {},
   "outputs": [
    {
     "name": "stdout",
     "output_type": "stream",
     "text": [
      "                               precision    recall  f1-score   support\n",
      "\n",
      "               bacterial_spot       0.29      0.74      0.41       349\n",
      "                 early_blight       0.00      0.00      0.00       182\n",
      "                      healthy       0.37      0.52      0.43       258\n",
      "                  late_blight       0.37      0.33      0.35       316\n",
      "                    leaf_mold       0.39      0.45      0.42       145\n",
      "           septoria_leaf_spot       0.27      0.48      0.34       262\n",
      "                  target_spot       0.50      0.03      0.07       229\n",
      "          tomato_mosaic_virus       0.50      0.05      0.09        58\n",
      "tomato_yellow_leaf_curl_virus       0.70      0.54      0.61       857\n",
      "      two-spotted_spider_mite       0.89      0.17      0.28       251\n",
      "\n",
      "                     accuracy                           0.41      2907\n",
      "                    macro avg       0.43      0.33      0.30      2907\n",
      "                 weighted avg       0.48      0.41      0.39      2907\n",
      "\n",
      "[[260   0  25  20   3  33   0   0   8   0]\n",
      " [118   0   3   1  14  16   1   1  28   0]\n",
      " [ 28   0 133  13   0  77   0   0   7   0]\n",
      " [ 77   0  41 103  25  21   0   1  47   1]\n",
      " [ 11   0   7  20  65  29   0   1  11   1]\n",
      " [ 39   0  40  22  13 125   0   0  22   1]\n",
      " [144   0   4   7  11  41   8   0  13   1]\n",
      " [  4   0   3   5   5  20   1   3  16   1]\n",
      " [134   0 104  77  18  64   1   0 459   0]\n",
      " [ 96   0   4  12  12  37   5   0  43  42]]\n"
     ]
    },
    {
     "name": "stderr",
     "output_type": "stream",
     "text": [
      "C:\\Users\\ravic\\anaconda3\\lib\\site-packages\\sklearn\\metrics\\_classification.py:1248: UndefinedMetricWarning: Precision and F-score are ill-defined and being set to 0.0 in labels with no predicted samples. Use `zero_division` parameter to control this behavior.\n",
      "  _warn_prf(average, modifier, msg_start, len(result))\n",
      "C:\\Users\\ravic\\anaconda3\\lib\\site-packages\\sklearn\\metrics\\_classification.py:1248: UndefinedMetricWarning: Precision and F-score are ill-defined and being set to 0.0 in labels with no predicted samples. Use `zero_division` parameter to control this behavior.\n",
      "  _warn_prf(average, modifier, msg_start, len(result))\n",
      "C:\\Users\\ravic\\anaconda3\\lib\\site-packages\\sklearn\\metrics\\_classification.py:1248: UndefinedMetricWarning: Precision and F-score are ill-defined and being set to 0.0 in labels with no predicted samples. Use `zero_division` parameter to control this behavior.\n",
      "  _warn_prf(average, modifier, msg_start, len(result))\n"
     ]
    }
   ],
   "source": [
    "#printing results of the kmodel\n",
    "y_predict = kmodel.fit(Ftrain, Ltrain).predict(Ftest)\n",
    "class_names = target.unique()\n",
    "print(classification_report(Ltest, y_predict, target_names=class_names))\n",
    "print(confusion_matrix(Ltest, y_predict))"
   ]
  },
  {
   "cell_type": "markdown",
   "id": "71f3ea86",
   "metadata": {},
   "source": [
    "# Logistic on Green channel data"
   ]
  },
  {
   "cell_type": "code",
   "execution_count": 61,
   "id": "28dad6b2",
   "metadata": {},
   "outputs": [
    {
     "data": {
      "text/plain": [
       "0.4217406260749914"
      ]
     },
     "execution_count": 61,
     "metadata": {},
     "output_type": "execute_result"
    }
   ],
   "source": [
    "model.fit(Ftrain,Ltrain)\n",
    "model.score(Ftest,Ltest)"
   ]
  },
  {
   "cell_type": "code",
   "execution_count": 62,
   "id": "3c0993f1",
   "metadata": {},
   "outputs": [
    {
     "name": "stdout",
     "output_type": "stream",
     "text": [
      "                               precision    recall  f1-score   support\n",
      "\n",
      "               bacterial_spot       0.45      0.51      0.48       349\n",
      "                 early_blight       0.28      0.03      0.05       182\n",
      "                      healthy       0.46      0.38      0.42       258\n",
      "                  late_blight       0.41      0.18      0.25       316\n",
      "                    leaf_mold       0.56      0.10      0.16       145\n",
      "           septoria_leaf_spot       0.33      0.06      0.11       262\n",
      "                  target_spot       0.36      0.05      0.09       229\n",
      "          tomato_mosaic_virus       0.00      0.00      0.00        58\n",
      "tomato_yellow_leaf_curl_virus       0.42      0.90      0.57       857\n",
      "      two-spotted_spider_mite       0.41      0.28      0.33       251\n",
      "\n",
      "                     accuracy                           0.42      2907\n",
      "                    macro avg       0.37      0.25      0.25      2907\n",
      "                 weighted avg       0.40      0.42      0.35      2907\n",
      "\n",
      "[[179   0  22  10   0   6   0   0 123   9]\n",
      " [ 50   5   2  10   3   4   6   0  80  22]\n",
      " [ 13   0  98   8   0   9   4   0 117   9]\n",
      " [ 23   4  31  56   3   6   3   0 179  11]\n",
      " [  7   0   4  20  14   3   0   0  93   4]\n",
      " [ 26   0  28   4   5  17   2   0 172   8]\n",
      " [ 59   1   6   6   0   2  12   0 121  22]\n",
      " [  0   0   0   0   0   0   0   0  58   0]\n",
      " [ 21   5  19  18   0   3   0   0 775  16]\n",
      " [ 24   3   4   5   0   1   6   0 138  70]]\n"
     ]
    },
    {
     "name": "stderr",
     "output_type": "stream",
     "text": [
      "C:\\Users\\ravic\\anaconda3\\lib\\site-packages\\sklearn\\metrics\\_classification.py:1248: UndefinedMetricWarning: Precision and F-score are ill-defined and being set to 0.0 in labels with no predicted samples. Use `zero_division` parameter to control this behavior.\n",
      "  _warn_prf(average, modifier, msg_start, len(result))\n",
      "C:\\Users\\ravic\\anaconda3\\lib\\site-packages\\sklearn\\metrics\\_classification.py:1248: UndefinedMetricWarning: Precision and F-score are ill-defined and being set to 0.0 in labels with no predicted samples. Use `zero_division` parameter to control this behavior.\n",
      "  _warn_prf(average, modifier, msg_start, len(result))\n",
      "C:\\Users\\ravic\\anaconda3\\lib\\site-packages\\sklearn\\metrics\\_classification.py:1248: UndefinedMetricWarning: Precision and F-score are ill-defined and being set to 0.0 in labels with no predicted samples. Use `zero_division` parameter to control this behavior.\n",
      "  _warn_prf(average, modifier, msg_start, len(result))\n"
     ]
    }
   ],
   "source": [
    "#classification report\n",
    "y_predict = model.fit(Ftrain, Ltrain).predict(Ftest)\n",
    "class_names = target.unique()\n",
    "print(classification_report(Ltest, y_predict, target_names=class_names))\n",
    "print(confusion_matrix(Ltest, y_predict))"
   ]
  },
  {
   "cell_type": "markdown",
   "id": "f62f0223",
   "metadata": {},
   "source": [
    "# SVM on green channel data"
   ]
  },
  {
   "cell_type": "code",
   "execution_count": 63,
   "id": "e89e7297",
   "metadata": {},
   "outputs": [
    {
     "name": "stdout",
     "output_type": "stream",
     "text": [
      "0.4103887168902649\n"
     ]
    }
   ],
   "source": [
    "clf.fit(Ftrain,Ltrain)\n",
    "y_pred = clf.predict(Ftest)\n",
    "print(accuracy_score(Ltest,y_pred))"
   ]
  },
  {
   "cell_type": "code",
   "execution_count": 64,
   "id": "aaec32cf",
   "metadata": {},
   "outputs": [
    {
     "name": "stdout",
     "output_type": "stream",
     "text": [
      "                               precision    recall  f1-score   support\n",
      "\n",
      "               bacterial_spot       0.41      0.48      0.44       349\n",
      "                 early_blight       0.12      0.01      0.01       182\n",
      "                      healthy       0.45      0.32      0.37       258\n",
      "                  late_blight       0.59      0.12      0.20       316\n",
      "                    leaf_mold       0.50      0.06      0.10       145\n",
      "           septoria_leaf_spot       0.28      0.03      0.05       262\n",
      "                  target_spot       0.46      0.03      0.05       229\n",
      "          tomato_mosaic_virus       0.00      0.00      0.00        58\n",
      "tomato_yellow_leaf_curl_virus       0.40      0.96      0.57       857\n",
      "      two-spotted_spider_mite       0.44      0.26      0.33       251\n",
      "\n",
      "                     accuracy                           0.41      2907\n",
      "                    macro avg       0.36      0.22      0.21      2907\n",
      "                 weighted avg       0.40      0.41      0.32      2907\n",
      "\n",
      "[[166   0  24   0   0   4   0   0 146   9]\n",
      " [ 49   1   1   9   2   0   3   0  94  23]\n",
      " [ 16   0  82   1   0   8   0   0 144   7]\n",
      " [ 23   5  26  37   3   0   1   0 210  11]\n",
      " [  9   0   4  11   8   5   0   0 105   3]\n",
      " [ 24   0  24   2   3   8   0   0 194   7]\n",
      " [ 71   0   7   2   0   2   6   0 124  17]\n",
      " [  0   0   0   0   0   0   0   0  58   0]\n",
      " [ 18   0  11   0   0   1   0   0 819   8]\n",
      " [ 26   2   5   1   0   1   3   0 147  66]]\n"
     ]
    },
    {
     "name": "stderr",
     "output_type": "stream",
     "text": [
      "C:\\Users\\ravic\\anaconda3\\lib\\site-packages\\sklearn\\metrics\\_classification.py:1248: UndefinedMetricWarning: Precision and F-score are ill-defined and being set to 0.0 in labels with no predicted samples. Use `zero_division` parameter to control this behavior.\n",
      "  _warn_prf(average, modifier, msg_start, len(result))\n",
      "C:\\Users\\ravic\\anaconda3\\lib\\site-packages\\sklearn\\metrics\\_classification.py:1248: UndefinedMetricWarning: Precision and F-score are ill-defined and being set to 0.0 in labels with no predicted samples. Use `zero_division` parameter to control this behavior.\n",
      "  _warn_prf(average, modifier, msg_start, len(result))\n",
      "C:\\Users\\ravic\\anaconda3\\lib\\site-packages\\sklearn\\metrics\\_classification.py:1248: UndefinedMetricWarning: Precision and F-score are ill-defined and being set to 0.0 in labels with no predicted samples. Use `zero_division` parameter to control this behavior.\n",
      "  _warn_prf(average, modifier, msg_start, len(result))\n"
     ]
    }
   ],
   "source": [
    "#classification report\n",
    "y_predict = clf.fit(Ftrain, Ltrain).predict(Ftest)\n",
    "class_names = target.unique()\n",
    "print(classification_report(Ltest, y_predict, target_names=class_names))\n",
    "print(confusion_matrix(Ltest, y_predict))"
   ]
  },
  {
   "cell_type": "markdown",
   "id": "4f8e565e",
   "metadata": {},
   "source": [
    "# Random Forest on green channel data"
   ]
  },
  {
   "cell_type": "code",
   "execution_count": 65,
   "id": "96c92f8f",
   "metadata": {},
   "outputs": [
    {
     "data": {
      "text/plain": [
       "0.39616311080523053"
      ]
     },
     "execution_count": 65,
     "metadata": {},
     "output_type": "execute_result"
    }
   ],
   "source": [
    "classifier_rf.fit(Ftrain, Ltrain)\n",
    "classifier_rf.oob_score_"
   ]
  },
  {
   "cell_type": "code",
   "execution_count": 66,
   "id": "a855ce64",
   "metadata": {},
   "outputs": [
    {
     "name": "stdout",
     "output_type": "stream",
     "text": [
      "                               precision    recall  f1-score   support\n",
      "\n",
      "               bacterial_spot       0.57      0.43      0.49       349\n",
      "                 early_blight       0.00      0.00      0.00       182\n",
      "                      healthy       0.75      0.44      0.56       258\n",
      "                  late_blight       0.90      0.19      0.32       316\n",
      "                    leaf_mold       0.00      0.00      0.00       145\n",
      "           septoria_leaf_spot       0.00      0.00      0.00       262\n",
      "                  target_spot       0.00      0.00      0.00       229\n",
      "          tomato_mosaic_virus       0.00      0.00      0.00        58\n",
      "tomato_yellow_leaf_curl_virus       0.35      0.98      0.51       857\n",
      "      two-spotted_spider_mite       0.00      0.00      0.00       251\n",
      "\n",
      "                     accuracy                           0.40      2907\n",
      "                    macro avg       0.26      0.20      0.19      2907\n",
      "                 weighted avg       0.34      0.40      0.29      2907\n",
      "\n",
      "[[151   0   9   2   0   0   0   0 187   0]\n",
      " [ 37   0   1   0   0   0   0   0 144   0]\n",
      " [  0   0 114   0   0   0   0   0 144   0]\n",
      " [ 18   0   7  61   0   0   0   0 230   0]\n",
      " [  5   0   3   1   0   0   0   0 136   0]\n",
      " [  6   0  10   3   0   0   0   0 243   0]\n",
      " [ 20   0   4   0   0   0   0   0 205   0]\n",
      " [  0   0   0   0   0   0   0   0  58   0]\n",
      " [ 14   0   2   1   0   0   0   0 840   0]\n",
      " [ 12   0   1   0   0   0   0   0 238   0]]\n"
     ]
    },
    {
     "name": "stderr",
     "output_type": "stream",
     "text": [
      "C:\\Users\\ravic\\anaconda3\\lib\\site-packages\\sklearn\\metrics\\_classification.py:1248: UndefinedMetricWarning: Precision and F-score are ill-defined and being set to 0.0 in labels with no predicted samples. Use `zero_division` parameter to control this behavior.\n",
      "  _warn_prf(average, modifier, msg_start, len(result))\n",
      "C:\\Users\\ravic\\anaconda3\\lib\\site-packages\\sklearn\\metrics\\_classification.py:1248: UndefinedMetricWarning: Precision and F-score are ill-defined and being set to 0.0 in labels with no predicted samples. Use `zero_division` parameter to control this behavior.\n",
      "  _warn_prf(average, modifier, msg_start, len(result))\n",
      "C:\\Users\\ravic\\anaconda3\\lib\\site-packages\\sklearn\\metrics\\_classification.py:1248: UndefinedMetricWarning: Precision and F-score are ill-defined and being set to 0.0 in labels with no predicted samples. Use `zero_division` parameter to control this behavior.\n",
      "  _warn_prf(average, modifier, msg_start, len(result))\n"
     ]
    }
   ],
   "source": [
    "y_predict = classifier_rf.fit(Ftrain, Ltrain).predict(Ftest)\n",
    "class_names = target.unique()\n",
    "print(classification_report(Ltest, y_predict, target_names=class_names))\n",
    "print(confusion_matrix(Ltest, y_predict))"
   ]
  },
  {
   "cell_type": "markdown",
   "id": "e9b1cca9",
   "metadata": {},
   "source": [
    "# Naive bayes on Green channel data"
   ]
  },
  {
   "cell_type": "code",
   "execution_count": 67,
   "id": "1136802c",
   "metadata": {},
   "outputs": [
    {
     "data": {
      "text/plain": [
       "0.3391812865497076"
      ]
     },
     "execution_count": 67,
     "metadata": {},
     "output_type": "execute_result"
    }
   ],
   "source": [
    "gnb.fit(Ftrain, Ltrain)\n",
    "GaussianNB()\n",
    "y_pred = gnb.predict(Ftest)\n",
    "metrics.accuracy_score(Ltest, y_pred)"
   ]
  },
  {
   "cell_type": "code",
   "execution_count": 68,
   "id": "08e6f602",
   "metadata": {},
   "outputs": [
    {
     "name": "stdout",
     "output_type": "stream",
     "text": [
      "                               precision    recall  f1-score   support\n",
      "\n",
      "               bacterial_spot       0.51      0.60      0.55       349\n",
      "                 early_blight       0.25      0.43      0.32       182\n",
      "                      healthy       0.31      0.63      0.41       258\n",
      "                  late_blight       0.39      0.20      0.26       316\n",
      "                    leaf_mold       0.35      0.46      0.40       145\n",
      "           septoria_leaf_spot       0.21      0.12      0.15       262\n",
      "                  target_spot       0.49      0.31      0.38       229\n",
      "          tomato_mosaic_virus       0.11      0.71      0.18        58\n",
      "tomato_yellow_leaf_curl_virus       0.58      0.18      0.28       857\n",
      "      two-spotted_spider_mite       0.30      0.41      0.35       251\n",
      "\n",
      "                     accuracy                           0.34      2907\n",
      "                    macro avg       0.35      0.41      0.33      2907\n",
      "                 weighted avg       0.42      0.34      0.33      2907\n",
      "\n",
      "[[211  26  44   3   2  18   6  22  13   4]\n",
      " [ 23  79   2  15  12   4  11   7   7  22]\n",
      " [  0   2 163   6   6  15  18   8  27  13]\n",
      " [ 12  66  76  63  18   9   7  36  14  15]\n",
      " [  4   2   9   8  66   8   6  24  14   4]\n",
      " [ 29   9  55   7  26  31   9  63  20  13]\n",
      " [ 48  21   7   9  12   6  71  18  10  27]\n",
      " [  3   0   2   0   5   4   0  41   2   1]\n",
      " [ 72  81 166  41  26  44   8 121 158 140]\n",
      " [ 13  29   7   8  16  12   8  47   8 103]]\n"
     ]
    }
   ],
   "source": [
    "class_names = target.unique()\n",
    "print(classification_report(Ltest, y_pred, target_names=class_names))\n",
    "print(confusion_matrix(Ltest, y_pred))"
   ]
  },
  {
   "cell_type": "markdown",
   "id": "ad497b39",
   "metadata": {},
   "source": [
    "# Decision Tree on Green channel"
   ]
  },
  {
   "cell_type": "code",
   "execution_count": 69,
   "id": "458fe744",
   "metadata": {},
   "outputs": [
    {
     "data": {
      "text/plain": [
       "0.4000687994496044"
      ]
     },
     "execution_count": 69,
     "metadata": {},
     "output_type": "execute_result"
    }
   ],
   "source": [
    "classifier_tree.fit(Ftrain, Ltrain)\n",
    "classifier_tree.score(Ftest,Ltest)"
   ]
  },
  {
   "cell_type": "code",
   "execution_count": 70,
   "id": "60ea8164",
   "metadata": {},
   "outputs": [
    {
     "name": "stdout",
     "output_type": "stream",
     "text": [
      "                               precision    recall  f1-score   support\n",
      "\n",
      "               bacterial_spot       0.41      0.45      0.43       349\n",
      "                 early_blight       0.13      0.11      0.12       182\n",
      "                      healthy       0.50      0.49      0.49       258\n",
      "                  late_blight       0.39      0.36      0.38       316\n",
      "                    leaf_mold       0.22      0.24      0.23       145\n",
      "           septoria_leaf_spot       0.26      0.27      0.27       262\n",
      "                  target_spot       0.27      0.29      0.28       229\n",
      "          tomato_mosaic_virus       0.11      0.14      0.12        58\n",
      "tomato_yellow_leaf_curl_virus       0.59      0.57      0.58       857\n",
      "      two-spotted_spider_mite       0.32      0.30      0.31       251\n",
      "\n",
      "                     accuracy                           0.40      2907\n",
      "                    macro avg       0.32      0.32      0.32      2907\n",
      "                 weighted avg       0.40      0.40      0.40      2907\n",
      "\n",
      "[[157  27  16  26  14  16  19   4  50  20]\n",
      " [ 32  20   4  24  14   9  13   1  48  17]\n",
      " [  6   5 126  18   9  29  16   7  31  11]\n",
      " [ 35  20  12 115  19  28  27   7  41  12]\n",
      " [  5   6   7  16  35  27  12   5  24   8]\n",
      " [ 28   9  30  18  18  72  25  11  44   7]\n",
      " [ 27  15  22  14   7  10  66   5  34  29]\n",
      " [  2   4   5   7   6   8   1   8  10   7]\n",
      " [ 75  39  22  49  25  55  41  19 486  46]\n",
      " [ 19  12   8   7  15  21  29   5  60  75]]\n"
     ]
    }
   ],
   "source": [
    "y_predict = classifier_tree.fit(Ftrain, Ltrain).predict(Ftest)\n",
    "class_names = target.unique()\n",
    "print(classification_report(Ltest, y_predict, target_names=class_names))\n",
    "print(confusion_matrix(Ltest, y_predict))"
   ]
  },
  {
   "cell_type": "markdown",
   "id": "75817642",
   "metadata": {},
   "source": [
    "# KNN on blue channel data"
   ]
  },
  {
   "cell_type": "code",
   "execution_count": 71,
   "id": "531e3624",
   "metadata": {},
   "outputs": [
    {
     "data": {
      "text/plain": [
       "0.4630202958376333"
      ]
     },
     "execution_count": 71,
     "metadata": {},
     "output_type": "execute_result"
    }
   ],
   "source": [
    "#reading numpy array data\n",
    "gray_test = np.load('blue_data.npy')\n",
    "#reading csv file\n",
    "gray_df = pd.read_csv('blue_data.csv')\n",
    "loaded = []\n",
    "for i in gray_test:\n",
    "    k = []\n",
    "    k = np.asarray(i,dtype='uint8')\n",
    "    loaded.append(k)\n",
    "features = loaded\n",
    "target = gray_df['disease']\n",
    "Ftrain,Ftest,Ltrain,Ltest=train_test_split(features,target, test_size=0.20, random_state=20)\n",
    "Ftrain = norm.fit_transform(Ftrain)\n",
    "Ftest = norm.fit_transform(Ftest)\n",
    "kmodel.fit(Ftrain,Ltrain)\n",
    "kmodel.score(Ftest,Ltest)"
   ]
  },
  {
   "cell_type": "code",
   "execution_count": 72,
   "id": "1314e157",
   "metadata": {},
   "outputs": [
    {
     "name": "stdout",
     "output_type": "stream",
     "text": [
      "                               precision    recall  f1-score   support\n",
      "\n",
      "               bacterial_spot       0.24      0.86      0.38       349\n",
      "                 early_blight       0.00      0.00      0.00       182\n",
      "                      healthy       0.59      0.69      0.64       258\n",
      "                  late_blight       0.62      0.41      0.50       316\n",
      "                    leaf_mold       0.47      0.65      0.54       145\n",
      "           septoria_leaf_spot       0.34      0.40      0.37       262\n",
      "                  target_spot       0.32      0.03      0.06       229\n",
      "          tomato_mosaic_virus       0.42      0.22      0.29        58\n",
      "tomato_yellow_leaf_curl_virus       0.87      0.53      0.66       857\n",
      "      two-spotted_spider_mite       0.79      0.26      0.39       251\n",
      "\n",
      "                     accuracy                           0.46      2907\n",
      "                    macro avg       0.47      0.41      0.38      2907\n",
      "                 weighted avg       0.56      0.46      0.45      2907\n",
      "\n",
      "[[300   0  19  15   3   9   1   0   1   1]\n",
      " [123   0   9   7   9  19   2   0  13   0]\n",
      " [ 59   0 177  10   1   6   4   0   0   1]\n",
      " [ 72   1  29 130  20  43   2   3  14   2]\n",
      " [ 18   0   4   6  94  16   0   2   4   1]\n",
      " [ 91   0   9  16  26 104   1   2  12   1]\n",
      " [168   0  31   3   4  11   8   3   0   1]\n",
      " [  4   0   3  13   5  15   1  13   3   1]\n",
      " [288   0   4   8  26  58   4   5 455   9]\n",
      " [106   0  13   1  12  25   2   3  24  65]]\n"
     ]
    }
   ],
   "source": [
    "#printing results of the kmodel\n",
    "y_predict = kmodel.fit(Ftrain, Ltrain).predict(Ftest)\n",
    "class_names = target.unique()\n",
    "print(classification_report(Ltest, y_predict, target_names=class_names))\n",
    "print(confusion_matrix(Ltest, y_predict))"
   ]
  },
  {
   "cell_type": "markdown",
   "id": "f452a113",
   "metadata": {},
   "source": [
    "# logistic on blue channel data"
   ]
  },
  {
   "cell_type": "code",
   "execution_count": 73,
   "id": "de158586",
   "metadata": {},
   "outputs": [
    {
     "data": {
      "text/plain": [
       "0.5620915032679739"
      ]
     },
     "execution_count": 73,
     "metadata": {},
     "output_type": "execute_result"
    }
   ],
   "source": [
    "model.fit(Ftrain,Ltrain)\n",
    "model.score(Ftest,Ltest)"
   ]
  },
  {
   "cell_type": "code",
   "execution_count": 74,
   "id": "489ce7e9",
   "metadata": {},
   "outputs": [
    {
     "name": "stdout",
     "output_type": "stream",
     "text": [
      "                               precision    recall  f1-score   support\n",
      "\n",
      "               bacterial_spot       0.48      0.59      0.53       349\n",
      "                 early_blight       0.62      0.03      0.05       182\n",
      "                      healthy       0.63      0.80      0.70       258\n",
      "                  late_blight       0.50      0.47      0.48       316\n",
      "                    leaf_mold       0.69      0.47      0.56       145\n",
      "           septoria_leaf_spot       0.35      0.20      0.25       262\n",
      "                  target_spot       0.52      0.15      0.23       229\n",
      "          tomato_mosaic_virus       0.00      0.00      0.00        58\n",
      "tomato_yellow_leaf_curl_virus       0.61      0.91      0.73       857\n",
      "      two-spotted_spider_mite       0.53      0.53      0.53       251\n",
      "\n",
      "                     accuracy                           0.56      2907\n",
      "                    macro avg       0.49      0.41      0.41      2907\n",
      "                 weighted avg       0.54      0.56      0.51      2907\n",
      "\n",
      "[[207   0  24  16   1   8   0   0  82  11]\n",
      " [ 30   5  11  17   5  12   4   0  87  11]\n",
      " [ 19   0 206  13   0   1  11   0   0   8]\n",
      " [ 22   2  37 147   9  19   5   0  66   9]\n",
      " [  6   0   0  24  68  16   0   0  25   6]\n",
      " [ 43   0   3  29  12  52   2   0 105  16]\n",
      " [ 75   0  38  14   0  12  34   0  26  30]\n",
      " [  0   0   0   9   2  14   0   0  33   0]\n",
      " [ 21   1   2  17   1   7   1   0 783  24]\n",
      " [ 10   0   7   6   1   7   8   0  80 132]]\n"
     ]
    },
    {
     "name": "stderr",
     "output_type": "stream",
     "text": [
      "C:\\Users\\ravic\\anaconda3\\lib\\site-packages\\sklearn\\metrics\\_classification.py:1248: UndefinedMetricWarning: Precision and F-score are ill-defined and being set to 0.0 in labels with no predicted samples. Use `zero_division` parameter to control this behavior.\n",
      "  _warn_prf(average, modifier, msg_start, len(result))\n",
      "C:\\Users\\ravic\\anaconda3\\lib\\site-packages\\sklearn\\metrics\\_classification.py:1248: UndefinedMetricWarning: Precision and F-score are ill-defined and being set to 0.0 in labels with no predicted samples. Use `zero_division` parameter to control this behavior.\n",
      "  _warn_prf(average, modifier, msg_start, len(result))\n",
      "C:\\Users\\ravic\\anaconda3\\lib\\site-packages\\sklearn\\metrics\\_classification.py:1248: UndefinedMetricWarning: Precision and F-score are ill-defined and being set to 0.0 in labels with no predicted samples. Use `zero_division` parameter to control this behavior.\n",
      "  _warn_prf(average, modifier, msg_start, len(result))\n"
     ]
    }
   ],
   "source": [
    "#classification report\n",
    "y_predict = model.fit(Ftrain, Ltrain).predict(Ftest)\n",
    "class_names = target.unique()\n",
    "print(classification_report(Ltest, y_predict, target_names=class_names))\n",
    "print(confusion_matrix(Ltest, y_predict))"
   ]
  },
  {
   "cell_type": "markdown",
   "id": "c7585c1d",
   "metadata": {},
   "source": [
    "# SVM on blue channel data"
   ]
  },
  {
   "cell_type": "code",
   "execution_count": 75,
   "id": "06fb4a0f",
   "metadata": {},
   "outputs": [
    {
     "name": "stdout",
     "output_type": "stream",
     "text": [
      "0.5789473684210527\n"
     ]
    }
   ],
   "source": [
    "clf.fit(Ftrain,Ltrain)\n",
    "y_pred = clf.predict(Ftest)\n",
    "print(accuracy_score(Ltest,y_pred))"
   ]
  },
  {
   "cell_type": "code",
   "execution_count": 76,
   "id": "03a12a5f",
   "metadata": {},
   "outputs": [
    {
     "name": "stdout",
     "output_type": "stream",
     "text": [
      "                               precision    recall  f1-score   support\n",
      "\n",
      "               bacterial_spot       0.47      0.63      0.54       349\n",
      "                 early_blight       0.70      0.04      0.07       182\n",
      "                      healthy       0.66      0.77      0.71       258\n",
      "                  late_blight       0.54      0.47      0.50       316\n",
      "                    leaf_mold       0.70      0.51      0.59       145\n",
      "           septoria_leaf_spot       0.32      0.24      0.28       262\n",
      "                  target_spot       0.49      0.24      0.32       229\n",
      "          tomato_mosaic_virus       0.00      0.00      0.00        58\n",
      "tomato_yellow_leaf_curl_virus       0.65      0.90      0.76       857\n",
      "      two-spotted_spider_mite       0.57      0.56      0.56       251\n",
      "\n",
      "                     accuracy                           0.58      2907\n",
      "                    macro avg       0.51      0.44      0.43      2907\n",
      "                 weighted avg       0.56      0.58      0.54      2907\n",
      "\n",
      "[[220   0  21  14   0   9   5   0  65  15]\n",
      " [ 41   7   7  18   4  13   7   0  78   7]\n",
      " [ 14   0 199  13   0   3  24   0   0   5]\n",
      " [ 22   2  30 149  10  30   7   0  60   6]\n",
      " [  8   0   0  17  74  21   0   0  20   5]\n",
      " [ 51   1   4  25  15  64   2   0  88  12]\n",
      " [ 77   0  31  12   0  13  55   0  16  25]\n",
      " [  0   0   0   7   2  23   0   0  22   4]\n",
      " [ 22   0   2  16   0  14   2   0 775  26]\n",
      " [ 15   0   6   5   1   9  10   0  65 140]]\n"
     ]
    },
    {
     "name": "stderr",
     "output_type": "stream",
     "text": [
      "C:\\Users\\ravic\\anaconda3\\lib\\site-packages\\sklearn\\metrics\\_classification.py:1248: UndefinedMetricWarning: Precision and F-score are ill-defined and being set to 0.0 in labels with no predicted samples. Use `zero_division` parameter to control this behavior.\n",
      "  _warn_prf(average, modifier, msg_start, len(result))\n",
      "C:\\Users\\ravic\\anaconda3\\lib\\site-packages\\sklearn\\metrics\\_classification.py:1248: UndefinedMetricWarning: Precision and F-score are ill-defined and being set to 0.0 in labels with no predicted samples. Use `zero_division` parameter to control this behavior.\n",
      "  _warn_prf(average, modifier, msg_start, len(result))\n",
      "C:\\Users\\ravic\\anaconda3\\lib\\site-packages\\sklearn\\metrics\\_classification.py:1248: UndefinedMetricWarning: Precision and F-score are ill-defined and being set to 0.0 in labels with no predicted samples. Use `zero_division` parameter to control this behavior.\n",
      "  _warn_prf(average, modifier, msg_start, len(result))\n"
     ]
    }
   ],
   "source": [
    "#classification report\n",
    "y_predict = clf.fit(Ftrain, Ltrain).predict(Ftest)\n",
    "class_names = target.unique()\n",
    "print(classification_report(Ltest, y_predict, target_names=class_names))\n",
    "print(confusion_matrix(Ltest, y_predict))"
   ]
  },
  {
   "cell_type": "markdown",
   "id": "f4eb8c6c",
   "metadata": {},
   "source": [
    "# Random Forest on blue channel data"
   ]
  },
  {
   "cell_type": "code",
   "execution_count": 77,
   "id": "b71407b2",
   "metadata": {},
   "outputs": [
    {
     "data": {
      "text/plain": [
       "0.4918272539573297"
      ]
     },
     "execution_count": 77,
     "metadata": {},
     "output_type": "execute_result"
    }
   ],
   "source": [
    "classifier_rf.fit(Ftrain, Ltrain)\n",
    "classifier_rf.oob_score_"
   ]
  },
  {
   "cell_type": "code",
   "execution_count": 78,
   "id": "f7d75463",
   "metadata": {},
   "outputs": [
    {
     "name": "stdout",
     "output_type": "stream",
     "text": [
      "                               precision    recall  f1-score   support\n",
      "\n",
      "               bacterial_spot       0.39      0.59      0.47       349\n",
      "                 early_blight       0.00      0.00      0.00       182\n",
      "                      healthy       0.62      0.78      0.69       258\n",
      "                  late_blight       0.59      0.39      0.47       316\n",
      "                    leaf_mold       0.78      0.36      0.49       145\n",
      "           septoria_leaf_spot       0.34      0.10      0.15       262\n",
      "                  target_spot       0.00      0.00      0.00       229\n",
      "          tomato_mosaic_virus       0.00      0.00      0.00        58\n",
      "tomato_yellow_leaf_curl_virus       0.49      0.97      0.65       857\n",
      "      two-spotted_spider_mite       0.00      0.00      0.00       251\n",
      "\n",
      "                     accuracy                           0.49      2907\n",
      "                    macro avg       0.32      0.32      0.29      2907\n",
      "                 weighted avg       0.38      0.49      0.40      2907\n",
      "\n",
      "[[206   0  21  14   0   8   0   0 100   0]\n",
      " [ 32   0  11  10   2   2   0   0 125   0]\n",
      " [ 26   0 200   5   1   3   0   0  23   0]\n",
      " [ 34   0  29 123   4  12   0   0 114   0]\n",
      " [ 11   0   0  22  52  10   0   0  50   0]\n",
      " [ 69   0   5  18   5  26   0   0 139   0]\n",
      " [104   0  46   4   0   6   0   0  69   0]\n",
      " [  7   0   0   7   3   4   0   0  37   0]\n",
      " [ 24   0   1   1   0   3   0   0 828   0]\n",
      " [ 21   0  12   3   0   2   0   0 213   0]]\n"
     ]
    },
    {
     "name": "stderr",
     "output_type": "stream",
     "text": [
      "C:\\Users\\ravic\\anaconda3\\lib\\site-packages\\sklearn\\metrics\\_classification.py:1248: UndefinedMetricWarning: Precision and F-score are ill-defined and being set to 0.0 in labels with no predicted samples. Use `zero_division` parameter to control this behavior.\n",
      "  _warn_prf(average, modifier, msg_start, len(result))\n",
      "C:\\Users\\ravic\\anaconda3\\lib\\site-packages\\sklearn\\metrics\\_classification.py:1248: UndefinedMetricWarning: Precision and F-score are ill-defined and being set to 0.0 in labels with no predicted samples. Use `zero_division` parameter to control this behavior.\n",
      "  _warn_prf(average, modifier, msg_start, len(result))\n",
      "C:\\Users\\ravic\\anaconda3\\lib\\site-packages\\sklearn\\metrics\\_classification.py:1248: UndefinedMetricWarning: Precision and F-score are ill-defined and being set to 0.0 in labels with no predicted samples. Use `zero_division` parameter to control this behavior.\n",
      "  _warn_prf(average, modifier, msg_start, len(result))\n"
     ]
    }
   ],
   "source": [
    "y_predict = classifier_rf.fit(Ftrain, Ltrain).predict(Ftest)\n",
    "class_names = target.unique()\n",
    "print(classification_report(Ltest, y_predict, target_names=class_names))\n",
    "print(confusion_matrix(Ltest, y_predict))"
   ]
  },
  {
   "cell_type": "markdown",
   "id": "fb1ca20e",
   "metadata": {},
   "source": [
    "# Naive bayes on blue channel data"
   ]
  },
  {
   "cell_type": "code",
   "execution_count": 79,
   "id": "11ea0b85",
   "metadata": {},
   "outputs": [
    {
     "data": {
      "text/plain": [
       "0.48572411420708633"
      ]
     },
     "execution_count": 79,
     "metadata": {},
     "output_type": "execute_result"
    }
   ],
   "source": [
    "gnb.fit(Ftrain, Ltrain)\n",
    "GaussianNB()\n",
    "y_pred = gnb.predict(Ftest)\n",
    "metrics.accuracy_score(Ltest, y_pred)"
   ]
  },
  {
   "cell_type": "code",
   "execution_count": 80,
   "id": "b8a32aab",
   "metadata": {},
   "outputs": [
    {
     "name": "stdout",
     "output_type": "stream",
     "text": [
      "                               precision    recall  f1-score   support\n",
      "\n",
      "               bacterial_spot       0.62      0.65      0.64       349\n",
      "                 early_blight       0.19      0.34      0.24       182\n",
      "                      healthy       0.59      0.70      0.64       258\n",
      "                  late_blight       0.45      0.19      0.26       316\n",
      "                    leaf_mold       0.43      0.61      0.51       145\n",
      "           septoria_leaf_spot       0.27      0.16      0.20       262\n",
      "                  target_spot       0.48      0.43      0.45       229\n",
      "          tomato_mosaic_virus       0.14      0.83      0.23        58\n",
      "tomato_yellow_leaf_curl_virus       0.82      0.58      0.68       857\n",
      "      two-spotted_spider_mite       0.44      0.46      0.45       251\n",
      "\n",
      "                     accuracy                           0.49      2907\n",
      "                    macro avg       0.44      0.49      0.43      2907\n",
      "                 weighted avg       0.55      0.49      0.50      2907\n",
      "\n",
      "[[228  23  22   5   9  15  15  11  14   7]\n",
      " [ 12  61   5  14  13   6  12   8  32  19]\n",
      " [  3   5 180   7   4   4  40   1   0  14]\n",
      " [  7  62  53  59  28   7  13  58  20   9]\n",
      " [  5  12   4   3  89   8   2  19   2   1]\n",
      " [ 45  26  11  10  41  41   4  53  19  12]\n",
      " [ 37  21  19   6   0  16  98  14   3  15]\n",
      " [  0   0   1   0   3   4   0  48   2   0]\n",
      " [ 29  93   2  21  15  42   8  85 493  69]\n",
      " [  3  20   8   5   5   9  14  54  18 115]]\n"
     ]
    }
   ],
   "source": [
    "class_names = target.unique()\n",
    "print(classification_report(Ltest, y_pred, target_names=class_names))\n",
    "print(confusion_matrix(Ltest, y_pred))"
   ]
  },
  {
   "cell_type": "markdown",
   "id": "f125f7c4",
   "metadata": {},
   "source": [
    "# Decision Tree on blue channel"
   ]
  },
  {
   "cell_type": "code",
   "execution_count": 81,
   "id": "88bfbe14",
   "metadata": {},
   "outputs": [
    {
     "data": {
      "text/plain": [
       "0.4293085655314757"
      ]
     },
     "execution_count": 81,
     "metadata": {},
     "output_type": "execute_result"
    }
   ],
   "source": [
    "classifier_tree.fit(Ftrain, Ltrain)\n",
    "classifier_tree.score(Ftest,Ltest)"
   ]
  },
  {
   "cell_type": "code",
   "execution_count": 82,
   "id": "6e2c73b8",
   "metadata": {},
   "outputs": [
    {
     "name": "stdout",
     "output_type": "stream",
     "text": [
      "                               precision    recall  f1-score   support\n",
      "\n",
      "               bacterial_spot       0.45      0.48      0.46       349\n",
      "                 early_blight       0.14      0.12      0.13       182\n",
      "                      healthy       0.56      0.55      0.55       258\n",
      "                  late_blight       0.43      0.39      0.41       316\n",
      "                    leaf_mold       0.28      0.34      0.31       145\n",
      "           septoria_leaf_spot       0.22      0.27      0.24       262\n",
      "                  target_spot       0.27      0.28      0.28       229\n",
      "          tomato_mosaic_virus       0.06      0.07      0.06        58\n",
      "tomato_yellow_leaf_curl_virus       0.65      0.60      0.62       857\n",
      "      two-spotted_spider_mite       0.33      0.29      0.31       251\n",
      "\n",
      "                     accuracy                           0.42      2907\n",
      "                    macro avg       0.34      0.34      0.34      2907\n",
      "                 weighted avg       0.43      0.42      0.43      2907\n",
      "\n",
      "[[167  18  18  26  10  35  30   3  33   9]\n",
      " [ 23  21   7  19  12  24  13   3  48  12]\n",
      " [ 18   9 142  20   3  11  29   3   9  14]\n",
      " [ 27  18  18 123  24  23  16   7  40  20]\n",
      " [  5   6   3  15  50  27   8  11  14   6]\n",
      " [ 30  14  10  20  19  71  20   6  57  15]\n",
      " [ 31  10  32  19  11  27  65   4  16  14]\n",
      " [  4   3   2   7   3  12   6   4  14   3]\n",
      " [ 57  42  11  25  32  67  34  15 518  56]\n",
      " [ 12  12  11  15  15  28  21  11  53  73]]\n"
     ]
    }
   ],
   "source": [
    "y_predict = classifier_tree.fit(Ftrain, Ltrain).predict(Ftest)\n",
    "class_names = target.unique()\n",
    "print(classification_report(Ltest, y_predict, target_names=class_names))\n",
    "print(confusion_matrix(Ltest, y_predict))"
   ]
  }
 ],
 "metadata": {
  "kernelspec": {
   "display_name": "Python 3 (ipykernel)",
   "language": "python",
   "name": "python3"
  },
  "language_info": {
   "codemirror_mode": {
    "name": "ipython",
    "version": 3
   },
   "file_extension": ".py",
   "mimetype": "text/x-python",
   "name": "python",
   "nbconvert_exporter": "python",
   "pygments_lexer": "ipython3",
   "version": "3.9.12"
  }
 },
 "nbformat": 4,
 "nbformat_minor": 5
}
