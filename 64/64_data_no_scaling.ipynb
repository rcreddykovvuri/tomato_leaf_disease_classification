{
 "cells": [
  {
   "cell_type": "code",
   "execution_count": 1,
   "id": "bcdb1517",
   "metadata": {},
   "outputs": [],
   "source": [
    "import numpy as np #importing numpy\n",
    "import pandas as pd #importing pandas\n",
    "import PIL #importing pillow for image processing\n",
    "from PIL import Image#importing image from pillow library\n",
    "import skimage#importing skimage library\n",
    "import os#importing os library\n",
    "import time#importing time library\n",
    "\n",
    "#Capture start time of the program\n",
    "start_time = time.time()"
   ]
  },
  {
   "cell_type": "code",
   "execution_count": 2,
   "id": "9ec45970",
   "metadata": {},
   "outputs": [],
   "source": [
    "#changing path\n",
    "os.chdir('D://DKIT//dissertation//Dataset_of_Tomato_Leaves//plantvillage//Preprocessed_data//64//vector//')"
   ]
  },
  {
   "cell_type": "markdown",
   "id": "7139bf53",
   "metadata": {},
   "source": [
    "# KNN on rgb data"
   ]
  },
  {
   "cell_type": "code",
   "execution_count": 3,
   "id": "9386938c",
   "metadata": {},
   "outputs": [],
   "source": [
    "#reading numpy array data\n",
    "rgb_test = np.load('rgb_data.npy')\n",
    "#reading csv file\n",
    "rgb_df = pd.read_csv('rgb_data.csv')"
   ]
  },
  {
   "cell_type": "code",
   "execution_count": 4,
   "id": "40f528b5",
   "metadata": {},
   "outputs": [],
   "source": [
    "loaded = []\n",
    "for i in rgb_test:\n",
    "    k = []\n",
    "    k = np.asarray(i,dtype='uint8')\n",
    "    loaded.append(k)"
   ]
  },
  {
   "cell_type": "code",
   "execution_count": 5,
   "id": "c6d5658c",
   "metadata": {},
   "outputs": [],
   "source": [
    "#assigning features and target\n",
    "features = loaded\n",
    "target = rgb_df['disease']\n",
    "#splitting the data to 80 percent and 20 percent\n",
    "from sklearn.model_selection import train_test_split\n",
    "Ftrain,Ftest,Ltrain,Ltest=train_test_split(features,target, test_size=0.20, random_state=24)"
   ]
  },
  {
   "cell_type": "code",
   "execution_count": 6,
   "id": "6f1171c6",
   "metadata": {},
   "outputs": [],
   "source": [
    "#K-Model on the data\n",
    "from sklearn.neighbors import KNeighborsClassifier\n",
    "kmodel = KNeighborsClassifier(n_neighbors=75)"
   ]
  },
  {
   "cell_type": "code",
   "execution_count": 7,
   "id": "b9fdc978",
   "metadata": {},
   "outputs": [
    {
     "name": "stdout",
     "output_type": "stream",
     "text": [
      "0.5552115583075335\n"
     ]
    }
   ],
   "source": [
    "#k-model fitting and accuracy\n",
    "kmodel.fit(Ftrain,Ltrain)\n",
    "print(kmodel.score(Ftest,Ltest))"
   ]
  },
  {
   "cell_type": "code",
   "execution_count": 8,
   "id": "1fa0433e",
   "metadata": {},
   "outputs": [],
   "source": [
    "#importing classification report and confusion matrix\n",
    "from sklearn.metrics import classification_report, confusion_matrix"
   ]
  },
  {
   "cell_type": "code",
   "execution_count": 9,
   "id": "c5085d40",
   "metadata": {},
   "outputs": [
    {
     "name": "stdout",
     "output_type": "stream",
     "text": [
      "                               precision    recall  f1-score   support\n",
      "\n",
      "               bacterial_spot       0.33      0.85      0.47       345\n",
      "                 early_blight       0.00      0.00      0.00       153\n",
      "                      healthy       0.45      0.80      0.58       234\n",
      "                  late_blight       0.54      0.43      0.48       309\n",
      "                    leaf_mold       0.71      0.57      0.63       145\n",
      "           septoria_leaf_spot       0.70      0.44      0.54       293\n",
      "                  target_spot       0.40      0.35      0.37       240\n",
      "          tomato_mosaic_virus       0.60      0.39      0.47        54\n",
      "tomato_yellow_leaf_curl_virus       0.88      0.70      0.78       854\n",
      "      two-spotted_spider_mite       0.74      0.30      0.43       280\n",
      "\n",
      "                     accuracy                           0.56      2907\n",
      "                    macro avg       0.53      0.48      0.48      2907\n",
      "                 weighted avg       0.61      0.56      0.55      2907\n",
      "\n",
      "[[294   0  31   9   0   0   1   0  10   0]\n",
      " [ 99   0  10   4   1   6  19   2  11   1]\n",
      " [ 28   0 188  12   0   0   3   0   1   2]\n",
      " [ 57   0  44 134  15  29  12   2  14   2]\n",
      " [ 23   0  11  16  82   3   2   4   3   1]\n",
      " [ 31   0  33  40  15 128  24   1  14   7]\n",
      " [104   0  33   3   0   5  85   5   2   3]\n",
      " [  6   0   8   8   3   1   3  21   2   2]\n",
      " [172   0  47   6   0  10  10   0 597  12]\n",
      " [ 84   0  14  15   0   2  56   0  24  85]]\n"
     ]
    },
    {
     "name": "stderr",
     "output_type": "stream",
     "text": [
      "C:\\Users\\ravic\\anaconda3\\lib\\site-packages\\sklearn\\metrics\\_classification.py:1248: UndefinedMetricWarning: Precision and F-score are ill-defined and being set to 0.0 in labels with no predicted samples. Use `zero_division` parameter to control this behavior.\n",
      "  _warn_prf(average, modifier, msg_start, len(result))\n",
      "C:\\Users\\ravic\\anaconda3\\lib\\site-packages\\sklearn\\metrics\\_classification.py:1248: UndefinedMetricWarning: Precision and F-score are ill-defined and being set to 0.0 in labels with no predicted samples. Use `zero_division` parameter to control this behavior.\n",
      "  _warn_prf(average, modifier, msg_start, len(result))\n",
      "C:\\Users\\ravic\\anaconda3\\lib\\site-packages\\sklearn\\metrics\\_classification.py:1248: UndefinedMetricWarning: Precision and F-score are ill-defined and being set to 0.0 in labels with no predicted samples. Use `zero_division` parameter to control this behavior.\n",
      "  _warn_prf(average, modifier, msg_start, len(result))\n"
     ]
    }
   ],
   "source": [
    "#printing results of the kmodel\n",
    "y_predict = kmodel.fit(Ftrain, Ltrain).predict(Ftest)\n",
    "class_names = target.unique()\n",
    "print(classification_report(Ltest, y_predict, target_names=class_names))\n",
    "print(confusion_matrix(Ltest, y_predict))"
   ]
  },
  {
   "cell_type": "markdown",
   "id": "d5c58638",
   "metadata": {},
   "source": [
    "# Logistic on rgb data"
   ]
  },
  {
   "cell_type": "code",
   "execution_count": 10,
   "id": "a84836ef",
   "metadata": {},
   "outputs": [
    {
     "name": "stderr",
     "output_type": "stream",
     "text": [
      "C:\\Users\\ravic\\anaconda3\\lib\\site-packages\\sklearn\\linear_model\\_logistic.py:763: ConvergenceWarning: lbfgs failed to converge (status=1):\n",
      "STOP: TOTAL NO. of ITERATIONS REACHED LIMIT.\n",
      "\n",
      "Increase the number of iterations (max_iter) or scale the data as shown in:\n",
      "    https://scikit-learn.org/stable/modules/preprocessing.html\n",
      "Please also refer to the documentation for alternative solver options:\n",
      "    https://scikit-learn.org/stable/modules/linear_model.html#logistic-regression\n",
      "  n_iter_i = _check_optimize_result(\n"
     ]
    },
    {
     "name": "stdout",
     "output_type": "stream",
     "text": [
      "0.6773305813553492\n"
     ]
    }
   ],
   "source": [
    "#importing logistic data\n",
    "from sklearn.linear_model import LogisticRegression\n",
    "model=LogisticRegression(solver='lbfgs', max_iter=10000)\n",
    "model.fit(Ftrain,Ltrain)\n",
    "print(model.score(Ftest,Ltest))"
   ]
  },
  {
   "cell_type": "code",
   "execution_count": 11,
   "id": "bb13d9a1",
   "metadata": {},
   "outputs": [
    {
     "name": "stderr",
     "output_type": "stream",
     "text": [
      "C:\\Users\\ravic\\anaconda3\\lib\\site-packages\\sklearn\\linear_model\\_logistic.py:763: ConvergenceWarning: lbfgs failed to converge (status=1):\n",
      "STOP: TOTAL NO. of ITERATIONS REACHED LIMIT.\n",
      "\n",
      "Increase the number of iterations (max_iter) or scale the data as shown in:\n",
      "    https://scikit-learn.org/stable/modules/preprocessing.html\n",
      "Please also refer to the documentation for alternative solver options:\n",
      "    https://scikit-learn.org/stable/modules/linear_model.html#logistic-regression\n",
      "  n_iter_i = _check_optimize_result(\n"
     ]
    },
    {
     "name": "stdout",
     "output_type": "stream",
     "text": [
      "                               precision    recall  f1-score   support\n",
      "\n",
      "               bacterial_spot       0.65      0.79      0.71       345\n",
      "                 early_blight       0.32      0.33      0.32       153\n",
      "                      healthy       0.67      0.66      0.66       234\n",
      "                  late_blight       0.53      0.58      0.55       309\n",
      "                    leaf_mold       0.54      0.57      0.55       145\n",
      "           septoria_leaf_spot       0.53      0.56      0.55       293\n",
      "                  target_spot       0.58      0.54      0.56       240\n",
      "          tomato_mosaic_virus       0.70      0.80      0.75        54\n",
      "tomato_yellow_leaf_curl_virus       0.90      0.83      0.86       854\n",
      "      two-spotted_spider_mite       0.84      0.65      0.73       280\n",
      "\n",
      "                     accuracy                           0.68      2907\n",
      "                    macro avg       0.63      0.63      0.63      2907\n",
      "                 weighted avg       0.69      0.68      0.68      2907\n",
      "\n",
      "[[273  23   3  17   0   9   7   0  13   0]\n",
      " [ 28  50  11  20   7   8  19   2   7   1]\n",
      " [  9   8 155  13   6  10  33   0   0   0]\n",
      " [ 24  19  18 179  16  23   6   2  13   9]\n",
      " [  1  11   5  13  82  26   1   0   5   1]\n",
      " [ 20   8   9  39  19 165  14   6  11   2]\n",
      " [ 15  11  28  13   7  25 130   2   4   5]\n",
      " [  0   0   0   0   6   1   4  43   0   0]\n",
      " [ 43  15   2  28   6  27   5   2 710  16]\n",
      " [ 10  12   2  18   2  16   5   4  29 182]]\n"
     ]
    }
   ],
   "source": [
    "#classification report\n",
    "y_predict = model.fit(Ftrain, Ltrain).predict(Ftest)\n",
    "class_names = target.unique()\n",
    "print(classification_report(Ltest, y_predict, target_names=class_names))\n",
    "print(confusion_matrix(Ltest, y_predict))"
   ]
  },
  {
   "cell_type": "markdown",
   "id": "6fe194bc",
   "metadata": {},
   "source": [
    "# SVM on RGB data"
   ]
  },
  {
   "cell_type": "code",
   "execution_count": 12,
   "id": "2427ed51",
   "metadata": {},
   "outputs": [
    {
     "name": "stdout",
     "output_type": "stream",
     "text": [
      "0.759889920880633\n"
     ]
    }
   ],
   "source": [
    "from sklearn.svm import SVC\n",
    "from sklearn.metrics import accuracy_score\n",
    "\n",
    "clf = SVC(kernel='linear')\n",
    "clf.fit(Ftrain,Ltrain)\n",
    "y_pred = clf.predict(Ftest)\n",
    "print(accuracy_score(Ltest,y_pred))"
   ]
  },
  {
   "cell_type": "code",
   "execution_count": 13,
   "id": "bf286604",
   "metadata": {},
   "outputs": [
    {
     "name": "stdout",
     "output_type": "stream",
     "text": [
      "                               precision    recall  f1-score   support\n",
      "\n",
      "               bacterial_spot       0.67      0.85      0.75       345\n",
      "                 early_blight       0.34      0.36      0.35       153\n",
      "                      healthy       0.77      0.80      0.78       234\n",
      "                  late_blight       0.63      0.65      0.64       309\n",
      "                    leaf_mold       0.66      0.64      0.65       145\n",
      "           septoria_leaf_spot       0.69      0.68      0.68       293\n",
      "                  target_spot       0.76      0.71      0.73       240\n",
      "          tomato_mosaic_virus       0.75      0.83      0.79        54\n",
      "tomato_yellow_leaf_curl_virus       0.94      0.88      0.91       854\n",
      "      two-spotted_spider_mite       0.92      0.76      0.83       280\n",
      "\n",
      "                     accuracy                           0.76      2907\n",
      "                    macro avg       0.71      0.72      0.71      2907\n",
      "                 weighted avg       0.77      0.76      0.76      2907\n",
      "\n",
      "[[293  24   3  12   0   2   1   0  10   0]\n",
      " [ 41  55   3  22   3   6  13   2   7   1]\n",
      " [  6   5 187  14   4   4  14   0   0   0]\n",
      " [ 34  22  12 201  11  18   1   0   5   5]\n",
      " [  2   5   6  11  93  19   2   2   4   1]\n",
      " [  5   9  12  26  16 198  14   8   5   0]\n",
      " [  8  21  14   1   3  20 170   1   0   2]\n",
      " [  0   0   0   0   2   7   0  45   0   0]\n",
      " [ 44  13   0  20   3   6   5   0 754   9]\n",
      " [  4   9   6  10   5   8   5   2  18 213]]\n"
     ]
    }
   ],
   "source": [
    "#classification report\n",
    "y_predict = clf.fit(Ftrain, Ltrain).predict(Ftest)\n",
    "class_names = target.unique()\n",
    "print(classification_report(Ltest, y_predict, target_names=class_names))\n",
    "print(confusion_matrix(Ltest, y_predict))"
   ]
  },
  {
   "cell_type": "markdown",
   "id": "73bef6fa",
   "metadata": {},
   "source": [
    "# Random Forest on RGB "
   ]
  },
  {
   "cell_type": "code",
   "execution_count": 14,
   "id": "6bae5a92",
   "metadata": {},
   "outputs": [],
   "source": [
    "from sklearn.ensemble import RandomForestClassifier"
   ]
  },
  {
   "cell_type": "code",
   "execution_count": 15,
   "id": "1d08a15e",
   "metadata": {},
   "outputs": [],
   "source": [
    "classifier_rf = RandomForestClassifier(random_state=42, n_jobs=-1, max_depth=5,n_estimators=100, oob_score=True)"
   ]
  },
  {
   "cell_type": "code",
   "execution_count": 16,
   "id": "938ad007",
   "metadata": {},
   "outputs": [
    {
     "data": {
      "text/plain": [
       "RandomForestClassifier(max_depth=5, n_jobs=-1, oob_score=True, random_state=42)"
      ]
     },
     "execution_count": 16,
     "metadata": {},
     "output_type": "execute_result"
    }
   ],
   "source": [
    "classifier_rf.fit(Ftrain, Ltrain)"
   ]
  },
  {
   "cell_type": "code",
   "execution_count": 17,
   "id": "e1769cec",
   "metadata": {},
   "outputs": [
    {
     "data": {
      "text/plain": [
       "0.5593599449415003"
      ]
     },
     "execution_count": 17,
     "metadata": {},
     "output_type": "execute_result"
    }
   ],
   "source": [
    "classifier_rf.oob_score_"
   ]
  },
  {
   "cell_type": "code",
   "execution_count": 18,
   "id": "13c0682e",
   "metadata": {},
   "outputs": [
    {
     "name": "stdout",
     "output_type": "stream",
     "text": [
      "                               precision    recall  f1-score   support\n",
      "\n",
      "               bacterial_spot       0.71      0.56      0.63       345\n",
      "                 early_blight       0.00      0.00      0.00       153\n",
      "                      healthy       0.56      0.88      0.68       234\n",
      "                  late_blight       0.58      0.26      0.36       309\n",
      "                    leaf_mold       0.77      0.33      0.46       145\n",
      "           septoria_leaf_spot       0.57      0.43      0.49       293\n",
      "                  target_spot       0.56      0.45      0.50       240\n",
      "          tomato_mosaic_virus       0.00      0.00      0.00        54\n",
      "tomato_yellow_leaf_curl_virus       0.52      0.98      0.68       854\n",
      "      two-spotted_spider_mite       0.74      0.08      0.15       280\n",
      "\n",
      "                     accuracy                           0.56      2907\n",
      "                    macro avg       0.50      0.40      0.40      2907\n",
      "                 weighted avg       0.56      0.56      0.50      2907\n",
      "\n",
      "[[193   0  20   8   0   1   5   0 118   0]\n",
      " [ 21   0   4   3   0  17  16   0  88   4]\n",
      " [  3   0 205   5   1   1   3   0  16   0]\n",
      " [  3   0  74  80   4  36  11   0  99   2]\n",
      " [ 10   0  23   9  48   6   5   0  44   0]\n",
      " [  6   0   7  16   7 127   5   0 125   0]\n",
      " [ 16   0  17   6   0  21 109   0  69   2]\n",
      " [  6   0   5   4   2   5   1   0  31   0]\n",
      " [  4   0   4   2   0   4   1   0 839   0]\n",
      " [  9   0   7   5   0   3  38   0 195  23]]\n"
     ]
    },
    {
     "name": "stderr",
     "output_type": "stream",
     "text": [
      "C:\\Users\\ravic\\anaconda3\\lib\\site-packages\\sklearn\\metrics\\_classification.py:1248: UndefinedMetricWarning: Precision and F-score are ill-defined and being set to 0.0 in labels with no predicted samples. Use `zero_division` parameter to control this behavior.\n",
      "  _warn_prf(average, modifier, msg_start, len(result))\n",
      "C:\\Users\\ravic\\anaconda3\\lib\\site-packages\\sklearn\\metrics\\_classification.py:1248: UndefinedMetricWarning: Precision and F-score are ill-defined and being set to 0.0 in labels with no predicted samples. Use `zero_division` parameter to control this behavior.\n",
      "  _warn_prf(average, modifier, msg_start, len(result))\n",
      "C:\\Users\\ravic\\anaconda3\\lib\\site-packages\\sklearn\\metrics\\_classification.py:1248: UndefinedMetricWarning: Precision and F-score are ill-defined and being set to 0.0 in labels with no predicted samples. Use `zero_division` parameter to control this behavior.\n",
      "  _warn_prf(average, modifier, msg_start, len(result))\n"
     ]
    }
   ],
   "source": [
    "y_predict = classifier_rf.fit(Ftrain, Ltrain).predict(Ftest)\n",
    "class_names = target.unique()\n",
    "print(classification_report(Ltest, y_predict, target_names=class_names))\n",
    "print(confusion_matrix(Ltest, y_predict))"
   ]
  },
  {
   "cell_type": "markdown",
   "id": "b6a094e4",
   "metadata": {},
   "source": [
    "# Naive Bayes on RGB data"
   ]
  },
  {
   "cell_type": "code",
   "execution_count": 19,
   "id": "a5bc755b",
   "metadata": {},
   "outputs": [
    {
     "data": {
      "text/plain": [
       "GaussianNB()"
      ]
     },
     "execution_count": 19,
     "metadata": {},
     "output_type": "execute_result"
    }
   ],
   "source": [
    "from sklearn.naive_bayes import GaussianNB\n",
    "gnb = GaussianNB()\n",
    "gnb.fit(Ftrain, Ltrain)"
   ]
  },
  {
   "cell_type": "code",
   "execution_count": 20,
   "id": "6d162dcc",
   "metadata": {},
   "outputs": [],
   "source": [
    "y_pred = gnb.predict(Ftest)"
   ]
  },
  {
   "cell_type": "code",
   "execution_count": 21,
   "id": "8f7b4bab",
   "metadata": {},
   "outputs": [
    {
     "data": {
      "text/plain": [
       "0.5239078087375301"
      ]
     },
     "execution_count": 21,
     "metadata": {},
     "output_type": "execute_result"
    }
   ],
   "source": [
    "from sklearn import metrics\n",
    "metrics.accuracy_score(Ltest, y_pred)"
   ]
  },
  {
   "cell_type": "code",
   "execution_count": 22,
   "id": "935808af",
   "metadata": {},
   "outputs": [
    {
     "name": "stdout",
     "output_type": "stream",
     "text": [
      "                               precision    recall  f1-score   support\n",
      "\n",
      "               bacterial_spot       0.54      0.76      0.63       345\n",
      "                 early_blight       0.24      0.32      0.27       153\n",
      "                      healthy       0.45      0.70      0.54       234\n",
      "                  late_blight       0.48      0.29      0.36       309\n",
      "                    leaf_mold       0.55      0.46      0.50       145\n",
      "           septoria_leaf_spot       0.45      0.45      0.45       293\n",
      "                  target_spot       0.55      0.53      0.54       240\n",
      "          tomato_mosaic_virus       0.19      0.70      0.30        54\n",
      "tomato_yellow_leaf_curl_virus       0.90      0.52      0.66       854\n",
      "      two-spotted_spider_mite       0.45      0.52      0.49       280\n",
      "\n",
      "                     accuracy                           0.52      2907\n",
      "                    macro avg       0.48      0.53      0.48      2907\n",
      "                 weighted avg       0.59      0.52      0.53      2907\n",
      "\n",
      "[[262   8  30   8   0   2   6   6  19   4]\n",
      " [ 36  49   1  24   0  10  17   5   4   7]\n",
      " [  9   6 163   8   6   3  20   8   2   9]\n",
      " [  3  48  94  91  17  27   6  13   4   6]\n",
      " [  7   6   4  12  67  22   1  20   2   4]\n",
      " [  6   9  38   9  20 132  30  21  10  18]\n",
      " [ 19  14   3   7   2  21 128  14   2  30]\n",
      " [  5   0   3   0   1   3   2  38   1   1]\n",
      " [123  43  28  24   6  51   1  34 447  97]\n",
      " [ 12  22   1   7   2  25  20  38   7 146]]\n"
     ]
    }
   ],
   "source": [
    "class_names = target.unique()\n",
    "print(classification_report(Ltest, y_pred, target_names=class_names))\n",
    "print(confusion_matrix(Ltest, y_pred))"
   ]
  },
  {
   "cell_type": "markdown",
   "id": "75bb69d9",
   "metadata": {},
   "source": [
    "# Decision Tree on RGB data"
   ]
  },
  {
   "cell_type": "code",
   "execution_count": 23,
   "id": "6a765709",
   "metadata": {},
   "outputs": [],
   "source": [
    "from sklearn.tree import DecisionTreeClassifier\n",
    "classifier_tree = DecisionTreeClassifier()"
   ]
  },
  {
   "cell_type": "code",
   "execution_count": 24,
   "id": "feb5f853",
   "metadata": {},
   "outputs": [
    {
     "data": {
      "text/plain": [
       "0.4946680426556588"
      ]
     },
     "execution_count": 24,
     "metadata": {},
     "output_type": "execute_result"
    }
   ],
   "source": [
    "classifier_tree.fit(Ftrain, Ltrain)\n",
    "classifier_tree.score(Ftest,Ltest)"
   ]
  },
  {
   "cell_type": "code",
   "execution_count": 25,
   "id": "1bdf54ae",
   "metadata": {},
   "outputs": [
    {
     "name": "stdout",
     "output_type": "stream",
     "text": [
      "                               precision    recall  f1-score   support\n",
      "\n",
      "               bacterial_spot       0.46      0.56      0.51       345\n",
      "                 early_blight       0.18      0.19      0.18       153\n",
      "                      healthy       0.57      0.60      0.58       234\n",
      "                  late_blight       0.44      0.46      0.45       309\n",
      "                    leaf_mold       0.37      0.37      0.37       145\n",
      "           septoria_leaf_spot       0.38      0.36      0.37       293\n",
      "                  target_spot       0.37      0.35      0.36       240\n",
      "          tomato_mosaic_virus       0.12      0.17      0.14        54\n",
      "tomato_yellow_leaf_curl_virus       0.73      0.67      0.70       854\n",
      "      two-spotted_spider_mite       0.41      0.38      0.39       280\n",
      "\n",
      "                     accuracy                           0.49      2907\n",
      "                    macro avg       0.40      0.41      0.41      2907\n",
      "                 weighted avg       0.50      0.49      0.50      2907\n",
      "\n",
      "[[193  24  13  16   3  11  18   7  47  13]\n",
      " [ 27  29   4  17   0  17  17   5  23  14]\n",
      " [ 13  10 140  18   9   7  14   8   5  10]\n",
      " [ 19  20  20 142  21  29  19   6  21  12]\n",
      " [ 11  13   6  12  53  17   7   6  13   7]\n",
      " [ 25   7   9  40  19 105  22   8  36  22]\n",
      " [ 20  14  23  20   5  22  84   9  18  25]\n",
      " [  6   5   4   3   8   6   3   9   3   7]\n",
      " [ 93  25  11  35  15  42   7   8 575  43]\n",
      " [ 10  15  15  17  12  19  35   8  43 106]]\n"
     ]
    }
   ],
   "source": [
    "y_predict = classifier_tree.fit(Ftrain, Ltrain).predict(Ftest)\n",
    "class_names = target.unique()\n",
    "print(classification_report(Ltest, y_predict, target_names=class_names))\n",
    "print(confusion_matrix(Ltest, y_predict))"
   ]
  },
  {
   "cell_type": "markdown",
   "id": "c9daaaee",
   "metadata": {},
   "source": [
    "# KNN on grayscale data"
   ]
  },
  {
   "cell_type": "code",
   "execution_count": 26,
   "id": "57a9845e",
   "metadata": {},
   "outputs": [],
   "source": [
    "#reading numpy array data\n",
    "gray_test = np.load('gray_test.npy')\n",
    "#reading csv file\n",
    "gray_df = pd.read_csv('gray_data.csv')"
   ]
  },
  {
   "cell_type": "code",
   "execution_count": 27,
   "id": "25d4fea2",
   "metadata": {},
   "outputs": [],
   "source": [
    "loaded = []\n",
    "for i in gray_test:\n",
    "    k = []\n",
    "    k = np.asarray(i,dtype='uint8')\n",
    "    loaded.append(k)"
   ]
  },
  {
   "cell_type": "code",
   "execution_count": 28,
   "id": "d3abef95",
   "metadata": {},
   "outputs": [],
   "source": [
    "features = loaded\n",
    "target = gray_df['disease']"
   ]
  },
  {
   "cell_type": "code",
   "execution_count": 29,
   "id": "6f75adfd",
   "metadata": {},
   "outputs": [
    {
     "data": {
      "text/plain": [
       "0.5552115583075335"
      ]
     },
     "execution_count": 29,
     "metadata": {},
     "output_type": "execute_result"
    }
   ],
   "source": [
    "kmodel.fit(Ftrain,Ltrain)\n",
    "kmodel.score(Ftest,Ltest)"
   ]
  },
  {
   "cell_type": "code",
   "execution_count": 30,
   "id": "20df9552",
   "metadata": {},
   "outputs": [
    {
     "name": "stdout",
     "output_type": "stream",
     "text": [
      "                               precision    recall  f1-score   support\n",
      "\n",
      "               bacterial_spot       0.33      0.85      0.47       345\n",
      "                 early_blight       0.00      0.00      0.00       153\n",
      "                      healthy       0.45      0.80      0.58       234\n",
      "                  late_blight       0.54      0.43      0.48       309\n",
      "                    leaf_mold       0.71      0.57      0.63       145\n",
      "           septoria_leaf_spot       0.70      0.44      0.54       293\n",
      "                  target_spot       0.40      0.35      0.37       240\n",
      "          tomato_mosaic_virus       0.60      0.39      0.47        54\n",
      "tomato_yellow_leaf_curl_virus       0.88      0.70      0.78       854\n",
      "      two-spotted_spider_mite       0.74      0.30      0.43       280\n",
      "\n",
      "                     accuracy                           0.56      2907\n",
      "                    macro avg       0.53      0.48      0.48      2907\n",
      "                 weighted avg       0.61      0.56      0.55      2907\n",
      "\n",
      "[[294   0  31   9   0   0   1   0  10   0]\n",
      " [ 99   0  10   4   1   6  19   2  11   1]\n",
      " [ 28   0 188  12   0   0   3   0   1   2]\n",
      " [ 57   0  44 134  15  29  12   2  14   2]\n",
      " [ 23   0  11  16  82   3   2   4   3   1]\n",
      " [ 31   0  33  40  15 128  24   1  14   7]\n",
      " [104   0  33   3   0   5  85   5   2   3]\n",
      " [  6   0   8   8   3   1   3  21   2   2]\n",
      " [172   0  47   6   0  10  10   0 597  12]\n",
      " [ 84   0  14  15   0   2  56   0  24  85]]\n"
     ]
    },
    {
     "name": "stderr",
     "output_type": "stream",
     "text": [
      "C:\\Users\\ravic\\anaconda3\\lib\\site-packages\\sklearn\\metrics\\_classification.py:1248: UndefinedMetricWarning: Precision and F-score are ill-defined and being set to 0.0 in labels with no predicted samples. Use `zero_division` parameter to control this behavior.\n",
      "  _warn_prf(average, modifier, msg_start, len(result))\n",
      "C:\\Users\\ravic\\anaconda3\\lib\\site-packages\\sklearn\\metrics\\_classification.py:1248: UndefinedMetricWarning: Precision and F-score are ill-defined and being set to 0.0 in labels with no predicted samples. Use `zero_division` parameter to control this behavior.\n",
      "  _warn_prf(average, modifier, msg_start, len(result))\n",
      "C:\\Users\\ravic\\anaconda3\\lib\\site-packages\\sklearn\\metrics\\_classification.py:1248: UndefinedMetricWarning: Precision and F-score are ill-defined and being set to 0.0 in labels with no predicted samples. Use `zero_division` parameter to control this behavior.\n",
      "  _warn_prf(average, modifier, msg_start, len(result))\n"
     ]
    }
   ],
   "source": [
    "y_predict = kmodel.fit(Ftrain, Ltrain).predict(Ftest)\n",
    "class_names = target.unique()\n",
    "print(classification_report(Ltest, y_predict, target_names=class_names))\n",
    "print(confusion_matrix(Ltest, y_predict))"
   ]
  },
  {
   "cell_type": "markdown",
   "id": "197eedfc",
   "metadata": {},
   "source": [
    "# Logistic on grayscale data"
   ]
  },
  {
   "cell_type": "code",
   "execution_count": 31,
   "id": "9fd6cafe",
   "metadata": {},
   "outputs": [
    {
     "name": "stderr",
     "output_type": "stream",
     "text": [
      "C:\\Users\\ravic\\anaconda3\\lib\\site-packages\\sklearn\\linear_model\\_logistic.py:763: ConvergenceWarning: lbfgs failed to converge (status=1):\n",
      "STOP: TOTAL NO. of ITERATIONS REACHED LIMIT.\n",
      "\n",
      "Increase the number of iterations (max_iter) or scale the data as shown in:\n",
      "    https://scikit-learn.org/stable/modules/preprocessing.html\n",
      "Please also refer to the documentation for alternative solver options:\n",
      "    https://scikit-learn.org/stable/modules/linear_model.html#logistic-regression\n",
      "  n_iter_i = _check_optimize_result(\n"
     ]
    },
    {
     "data": {
      "text/plain": [
       "0.6773305813553492"
      ]
     },
     "execution_count": 31,
     "metadata": {},
     "output_type": "execute_result"
    }
   ],
   "source": [
    "from sklearn.linear_model import LogisticRegression\n",
    "model=LogisticRegression(solver='lbfgs', max_iter=10000)\n",
    "model.fit(Ftrain,Ltrain)\n",
    "model.score(Ftest,Ltest)"
   ]
  },
  {
   "cell_type": "code",
   "execution_count": 32,
   "id": "834920c5",
   "metadata": {},
   "outputs": [
    {
     "name": "stderr",
     "output_type": "stream",
     "text": [
      "C:\\Users\\ravic\\anaconda3\\lib\\site-packages\\sklearn\\linear_model\\_logistic.py:763: ConvergenceWarning: lbfgs failed to converge (status=1):\n",
      "STOP: TOTAL NO. of ITERATIONS REACHED LIMIT.\n",
      "\n",
      "Increase the number of iterations (max_iter) or scale the data as shown in:\n",
      "    https://scikit-learn.org/stable/modules/preprocessing.html\n",
      "Please also refer to the documentation for alternative solver options:\n",
      "    https://scikit-learn.org/stable/modules/linear_model.html#logistic-regression\n",
      "  n_iter_i = _check_optimize_result(\n"
     ]
    },
    {
     "name": "stdout",
     "output_type": "stream",
     "text": [
      "                               precision    recall  f1-score   support\n",
      "\n",
      "               bacterial_spot       0.65      0.79      0.71       345\n",
      "                 early_blight       0.32      0.33      0.32       153\n",
      "                      healthy       0.67      0.66      0.66       234\n",
      "                  late_blight       0.53      0.58      0.55       309\n",
      "                    leaf_mold       0.54      0.57      0.55       145\n",
      "           septoria_leaf_spot       0.53      0.56      0.55       293\n",
      "                  target_spot       0.58      0.54      0.56       240\n",
      "          tomato_mosaic_virus       0.70      0.80      0.75        54\n",
      "tomato_yellow_leaf_curl_virus       0.90      0.83      0.86       854\n",
      "      two-spotted_spider_mite       0.84      0.65      0.73       280\n",
      "\n",
      "                     accuracy                           0.68      2907\n",
      "                    macro avg       0.63      0.63      0.63      2907\n",
      "                 weighted avg       0.69      0.68      0.68      2907\n",
      "\n",
      "[[273  23   3  17   0   9   7   0  13   0]\n",
      " [ 28  50  11  20   7   8  19   2   7   1]\n",
      " [  9   8 155  13   6  10  33   0   0   0]\n",
      " [ 24  19  18 179  16  23   6   2  13   9]\n",
      " [  1  11   5  13  82  26   1   0   5   1]\n",
      " [ 20   8   9  39  19 165  14   6  11   2]\n",
      " [ 15  11  28  13   7  25 130   2   4   5]\n",
      " [  0   0   0   0   6   1   4  43   0   0]\n",
      " [ 43  15   2  28   6  27   5   2 710  16]\n",
      " [ 10  12   2  18   2  16   5   4  29 182]]\n"
     ]
    }
   ],
   "source": [
    "y_predict = model.fit(Ftrain, Ltrain).predict(Ftest)\n",
    "class_names = target.unique()\n",
    "print(classification_report(Ltest, y_predict, target_names=class_names))\n",
    "print(confusion_matrix(Ltest, y_predict))"
   ]
  },
  {
   "cell_type": "markdown",
   "id": "5284f869",
   "metadata": {},
   "source": [
    "# SVM on Grayscale data"
   ]
  },
  {
   "cell_type": "code",
   "execution_count": 33,
   "id": "d0db5c80",
   "metadata": {},
   "outputs": [
    {
     "name": "stdout",
     "output_type": "stream",
     "text": [
      "0.759889920880633\n"
     ]
    }
   ],
   "source": [
    "clf = SVC(kernel='linear')\n",
    "clf.fit(Ftrain,Ltrain)\n",
    "y_pred = clf.predict(Ftest)\n",
    "print(accuracy_score(Ltest,y_pred))"
   ]
  },
  {
   "cell_type": "code",
   "execution_count": 34,
   "id": "05d3b675",
   "metadata": {},
   "outputs": [
    {
     "name": "stdout",
     "output_type": "stream",
     "text": [
      "                               precision    recall  f1-score   support\n",
      "\n",
      "               bacterial_spot       0.67      0.85      0.75       345\n",
      "                 early_blight       0.34      0.36      0.35       153\n",
      "                      healthy       0.77      0.80      0.78       234\n",
      "                  late_blight       0.63      0.65      0.64       309\n",
      "                    leaf_mold       0.66      0.64      0.65       145\n",
      "           septoria_leaf_spot       0.69      0.68      0.68       293\n",
      "                  target_spot       0.76      0.71      0.73       240\n",
      "          tomato_mosaic_virus       0.75      0.83      0.79        54\n",
      "tomato_yellow_leaf_curl_virus       0.94      0.88      0.91       854\n",
      "      two-spotted_spider_mite       0.92      0.76      0.83       280\n",
      "\n",
      "                     accuracy                           0.76      2907\n",
      "                    macro avg       0.71      0.72      0.71      2907\n",
      "                 weighted avg       0.77      0.76      0.76      2907\n",
      "\n",
      "[[293  24   3  12   0   2   1   0  10   0]\n",
      " [ 41  55   3  22   3   6  13   2   7   1]\n",
      " [  6   5 187  14   4   4  14   0   0   0]\n",
      " [ 34  22  12 201  11  18   1   0   5   5]\n",
      " [  2   5   6  11  93  19   2   2   4   1]\n",
      " [  5   9  12  26  16 198  14   8   5   0]\n",
      " [  8  21  14   1   3  20 170   1   0   2]\n",
      " [  0   0   0   0   2   7   0  45   0   0]\n",
      " [ 44  13   0  20   3   6   5   0 754   9]\n",
      " [  4   9   6  10   5   8   5   2  18 213]]\n"
     ]
    }
   ],
   "source": [
    "y_predict = clf.fit(Ftrain, Ltrain).predict(Ftest)\n",
    "class_names = target.unique()\n",
    "print(classification_report(Ltest, y_predict, target_names=class_names))\n",
    "print(confusion_matrix(Ltest, y_predict))"
   ]
  },
  {
   "cell_type": "markdown",
   "id": "576fd580",
   "metadata": {},
   "source": [
    "# Random Forest on Grayscale"
   ]
  },
  {
   "cell_type": "code",
   "execution_count": 35,
   "id": "9dfa979e",
   "metadata": {},
   "outputs": [
    {
     "data": {
      "text/plain": [
       "RandomForestClassifier(max_depth=5, n_jobs=-1, oob_score=True, random_state=42)"
      ]
     },
     "execution_count": 35,
     "metadata": {},
     "output_type": "execute_result"
    }
   ],
   "source": [
    "classifier_rf.fit(Ftrain, Ltrain)"
   ]
  },
  {
   "cell_type": "code",
   "execution_count": 36,
   "id": "2b4347ef",
   "metadata": {},
   "outputs": [
    {
     "data": {
      "text/plain": [
       "0.5593599449415003"
      ]
     },
     "execution_count": 36,
     "metadata": {},
     "output_type": "execute_result"
    }
   ],
   "source": [
    "classifier_rf.oob_score_"
   ]
  },
  {
   "cell_type": "code",
   "execution_count": 37,
   "id": "8b7d285d",
   "metadata": {},
   "outputs": [
    {
     "name": "stdout",
     "output_type": "stream",
     "text": [
      "                               precision    recall  f1-score   support\n",
      "\n",
      "               bacterial_spot       0.71      0.56      0.63       345\n",
      "                 early_blight       0.00      0.00      0.00       153\n",
      "                      healthy       0.56      0.88      0.68       234\n",
      "                  late_blight       0.58      0.26      0.36       309\n",
      "                    leaf_mold       0.77      0.33      0.46       145\n",
      "           septoria_leaf_spot       0.57      0.43      0.49       293\n",
      "                  target_spot       0.56      0.45      0.50       240\n",
      "          tomato_mosaic_virus       0.00      0.00      0.00        54\n",
      "tomato_yellow_leaf_curl_virus       0.52      0.98      0.68       854\n",
      "      two-spotted_spider_mite       0.74      0.08      0.15       280\n",
      "\n",
      "                     accuracy                           0.56      2907\n",
      "                    macro avg       0.50      0.40      0.40      2907\n",
      "                 weighted avg       0.56      0.56      0.50      2907\n",
      "\n",
      "[[193   0  20   8   0   1   5   0 118   0]\n",
      " [ 21   0   4   3   0  17  16   0  88   4]\n",
      " [  3   0 205   5   1   1   3   0  16   0]\n",
      " [  3   0  74  80   4  36  11   0  99   2]\n",
      " [ 10   0  23   9  48   6   5   0  44   0]\n",
      " [  6   0   7  16   7 127   5   0 125   0]\n",
      " [ 16   0  17   6   0  21 109   0  69   2]\n",
      " [  6   0   5   4   2   5   1   0  31   0]\n",
      " [  4   0   4   2   0   4   1   0 839   0]\n",
      " [  9   0   7   5   0   3  38   0 195  23]]\n"
     ]
    },
    {
     "name": "stderr",
     "output_type": "stream",
     "text": [
      "C:\\Users\\ravic\\anaconda3\\lib\\site-packages\\sklearn\\metrics\\_classification.py:1248: UndefinedMetricWarning: Precision and F-score are ill-defined and being set to 0.0 in labels with no predicted samples. Use `zero_division` parameter to control this behavior.\n",
      "  _warn_prf(average, modifier, msg_start, len(result))\n",
      "C:\\Users\\ravic\\anaconda3\\lib\\site-packages\\sklearn\\metrics\\_classification.py:1248: UndefinedMetricWarning: Precision and F-score are ill-defined and being set to 0.0 in labels with no predicted samples. Use `zero_division` parameter to control this behavior.\n",
      "  _warn_prf(average, modifier, msg_start, len(result))\n",
      "C:\\Users\\ravic\\anaconda3\\lib\\site-packages\\sklearn\\metrics\\_classification.py:1248: UndefinedMetricWarning: Precision and F-score are ill-defined and being set to 0.0 in labels with no predicted samples. Use `zero_division` parameter to control this behavior.\n",
      "  _warn_prf(average, modifier, msg_start, len(result))\n"
     ]
    }
   ],
   "source": [
    "y_predict = classifier_rf.fit(Ftrain, Ltrain).predict(Ftest)\n",
    "class_names = target.unique()\n",
    "print(classification_report(Ltest, y_predict, target_names=class_names))\n",
    "print(confusion_matrix(Ltest, y_predict))"
   ]
  },
  {
   "cell_type": "markdown",
   "id": "8befce61",
   "metadata": {},
   "source": [
    "# Naive bayes on Grayscale"
   ]
  },
  {
   "cell_type": "code",
   "execution_count": 38,
   "id": "0d1a6d3b",
   "metadata": {},
   "outputs": [
    {
     "data": {
      "text/plain": [
       "GaussianNB()"
      ]
     },
     "execution_count": 38,
     "metadata": {},
     "output_type": "execute_result"
    }
   ],
   "source": [
    "gnb.fit(Ftrain, Ltrain)"
   ]
  },
  {
   "cell_type": "code",
   "execution_count": 39,
   "id": "053c9a09",
   "metadata": {},
   "outputs": [
    {
     "data": {
      "text/plain": [
       "0.5239078087375301"
      ]
     },
     "execution_count": 39,
     "metadata": {},
     "output_type": "execute_result"
    }
   ],
   "source": [
    "y_pred = gnb.predict(Ftest)\n",
    "metrics.accuracy_score(Ltest, y_pred)"
   ]
  },
  {
   "cell_type": "code",
   "execution_count": 40,
   "id": "0e53ae2c",
   "metadata": {},
   "outputs": [
    {
     "name": "stdout",
     "output_type": "stream",
     "text": [
      "                               precision    recall  f1-score   support\n",
      "\n",
      "               bacterial_spot       0.54      0.76      0.63       345\n",
      "                 early_blight       0.24      0.32      0.27       153\n",
      "                      healthy       0.45      0.70      0.54       234\n",
      "                  late_blight       0.48      0.29      0.36       309\n",
      "                    leaf_mold       0.55      0.46      0.50       145\n",
      "           septoria_leaf_spot       0.45      0.45      0.45       293\n",
      "                  target_spot       0.55      0.53      0.54       240\n",
      "          tomato_mosaic_virus       0.19      0.70      0.30        54\n",
      "tomato_yellow_leaf_curl_virus       0.90      0.52      0.66       854\n",
      "      two-spotted_spider_mite       0.45      0.52      0.49       280\n",
      "\n",
      "                     accuracy                           0.52      2907\n",
      "                    macro avg       0.48      0.53      0.48      2907\n",
      "                 weighted avg       0.59      0.52      0.53      2907\n",
      "\n",
      "[[262   8  30   8   0   2   6   6  19   4]\n",
      " [ 36  49   1  24   0  10  17   5   4   7]\n",
      " [  9   6 163   8   6   3  20   8   2   9]\n",
      " [  3  48  94  91  17  27   6  13   4   6]\n",
      " [  7   6   4  12  67  22   1  20   2   4]\n",
      " [  6   9  38   9  20 132  30  21  10  18]\n",
      " [ 19  14   3   7   2  21 128  14   2  30]\n",
      " [  5   0   3   0   1   3   2  38   1   1]\n",
      " [123  43  28  24   6  51   1  34 447  97]\n",
      " [ 12  22   1   7   2  25  20  38   7 146]]\n"
     ]
    }
   ],
   "source": [
    "class_names = target.unique()\n",
    "print(classification_report(Ltest, y_pred, target_names=class_names))\n",
    "print(confusion_matrix(Ltest, y_pred))"
   ]
  },
  {
   "cell_type": "markdown",
   "id": "af8a8fca",
   "metadata": {},
   "source": [
    "# Decision Tree on Grayscale"
   ]
  },
  {
   "cell_type": "code",
   "execution_count": 41,
   "id": "4d1eb3ec",
   "metadata": {},
   "outputs": [
    {
     "data": {
      "text/plain": [
       "0.4867561059511524"
      ]
     },
     "execution_count": 41,
     "metadata": {},
     "output_type": "execute_result"
    }
   ],
   "source": [
    "classifier_tree.fit(Ftrain, Ltrain)\n",
    "classifier_tree.score(Ftest,Ltest)"
   ]
  },
  {
   "cell_type": "code",
   "execution_count": 42,
   "id": "5e93e78c",
   "metadata": {},
   "outputs": [
    {
     "name": "stdout",
     "output_type": "stream",
     "text": [
      "                               precision    recall  f1-score   support\n",
      "\n",
      "               bacterial_spot       0.48      0.55      0.51       345\n",
      "                 early_blight       0.19      0.18      0.18       153\n",
      "                      healthy       0.58      0.64      0.61       234\n",
      "                  late_blight       0.45      0.46      0.46       309\n",
      "                    leaf_mold       0.41      0.40      0.40       145\n",
      "           septoria_leaf_spot       0.37      0.34      0.35       293\n",
      "                  target_spot       0.36      0.37      0.36       240\n",
      "          tomato_mosaic_virus       0.12      0.15      0.13        54\n",
      "tomato_yellow_leaf_curl_virus       0.72      0.67      0.70       854\n",
      "      two-spotted_spider_mite       0.40      0.39      0.39       280\n",
      "\n",
      "                     accuracy                           0.50      2907\n",
      "                    macro avg       0.41      0.41      0.41      2907\n",
      "                 weighted avg       0.50      0.50      0.50      2907\n",
      "\n",
      "[[191  18  13  22   5  16  15   3  50  12]\n",
      " [ 30  28   9  15   4  11  17   4  22  13]\n",
      " [ 15  13 149  16   1   5  16   9   3   7]\n",
      " [ 13  19  16 142  16  34  27   5  22  15]\n",
      " [  9   9   3   6  58  17   9   8  14  12]\n",
      " [ 17  12  11  42  17 100  16   8  48  22]\n",
      " [ 22  14  23  13  10  18  89   5  13  33]\n",
      " [  4   3   4   3   5   6   7   8   7   7]\n",
      " [ 88  21  10  36  18  44  13   9 571  44]\n",
      " [ 11  13  17  19   8  20  39   6  39 108]]\n"
     ]
    }
   ],
   "source": [
    "y_predict = classifier_tree.fit(Ftrain, Ltrain).predict(Ftest)\n",
    "class_names = target.unique()\n",
    "print(classification_report(Ltest, y_predict, target_names=class_names))\n",
    "print(confusion_matrix(Ltest, y_predict))"
   ]
  },
  {
   "cell_type": "markdown",
   "id": "e42f549f",
   "metadata": {},
   "source": [
    "# KNN on Red channel data"
   ]
  },
  {
   "cell_type": "code",
   "execution_count": 43,
   "id": "cb75cbbd",
   "metadata": {},
   "outputs": [],
   "source": [
    "#reading numpy array data\n",
    "red_test = np.load('red_data.npy')\n",
    "#reading csv file\n",
    "red_df = pd.read_csv('red_data.csv')"
   ]
  },
  {
   "cell_type": "code",
   "execution_count": 44,
   "id": "7fda7839",
   "metadata": {},
   "outputs": [],
   "source": [
    "loaded = []\n",
    "for i in red_test:\n",
    "    k = []\n",
    "    k = np.asarray(i,dtype='uint8')\n",
    "    loaded.append(k)\n",
    "features = loaded\n",
    "target = red_df['disease']"
   ]
  },
  {
   "cell_type": "code",
   "execution_count": 45,
   "id": "683839f2",
   "metadata": {},
   "outputs": [
    {
     "data": {
      "text/plain": [
       "0.5552115583075335"
      ]
     },
     "execution_count": 45,
     "metadata": {},
     "output_type": "execute_result"
    }
   ],
   "source": [
    "kmodel.fit(Ftrain,Ltrain)\n",
    "kmodel.score(Ftest,Ltest)"
   ]
  },
  {
   "cell_type": "code",
   "execution_count": 46,
   "id": "a5863749",
   "metadata": {},
   "outputs": [
    {
     "name": "stdout",
     "output_type": "stream",
     "text": [
      "                               precision    recall  f1-score   support\n",
      "\n",
      "               bacterial_spot       0.33      0.85      0.47       345\n",
      "                 early_blight       0.00      0.00      0.00       153\n",
      "                      healthy       0.45      0.80      0.58       234\n",
      "                  late_blight       0.54      0.43      0.48       309\n",
      "                    leaf_mold       0.71      0.57      0.63       145\n",
      "           septoria_leaf_spot       0.70      0.44      0.54       293\n",
      "                  target_spot       0.40      0.35      0.37       240\n",
      "          tomato_mosaic_virus       0.60      0.39      0.47        54\n",
      "tomato_yellow_leaf_curl_virus       0.88      0.70      0.78       854\n",
      "      two-spotted_spider_mite       0.74      0.30      0.43       280\n",
      "\n",
      "                     accuracy                           0.56      2907\n",
      "                    macro avg       0.53      0.48      0.48      2907\n",
      "                 weighted avg       0.61      0.56      0.55      2907\n",
      "\n",
      "[[294   0  31   9   0   0   1   0  10   0]\n",
      " [ 99   0  10   4   1   6  19   2  11   1]\n",
      " [ 28   0 188  12   0   0   3   0   1   2]\n",
      " [ 57   0  44 134  15  29  12   2  14   2]\n",
      " [ 23   0  11  16  82   3   2   4   3   1]\n",
      " [ 31   0  33  40  15 128  24   1  14   7]\n",
      " [104   0  33   3   0   5  85   5   2   3]\n",
      " [  6   0   8   8   3   1   3  21   2   2]\n",
      " [172   0  47   6   0  10  10   0 597  12]\n",
      " [ 84   0  14  15   0   2  56   0  24  85]]\n"
     ]
    },
    {
     "name": "stderr",
     "output_type": "stream",
     "text": [
      "C:\\Users\\ravic\\anaconda3\\lib\\site-packages\\sklearn\\metrics\\_classification.py:1248: UndefinedMetricWarning: Precision and F-score are ill-defined and being set to 0.0 in labels with no predicted samples. Use `zero_division` parameter to control this behavior.\n",
      "  _warn_prf(average, modifier, msg_start, len(result))\n",
      "C:\\Users\\ravic\\anaconda3\\lib\\site-packages\\sklearn\\metrics\\_classification.py:1248: UndefinedMetricWarning: Precision and F-score are ill-defined and being set to 0.0 in labels with no predicted samples. Use `zero_division` parameter to control this behavior.\n",
      "  _warn_prf(average, modifier, msg_start, len(result))\n",
      "C:\\Users\\ravic\\anaconda3\\lib\\site-packages\\sklearn\\metrics\\_classification.py:1248: UndefinedMetricWarning: Precision and F-score are ill-defined and being set to 0.0 in labels with no predicted samples. Use `zero_division` parameter to control this behavior.\n",
      "  _warn_prf(average, modifier, msg_start, len(result))\n"
     ]
    }
   ],
   "source": [
    "y_predict = kmodel.fit(Ftrain, Ltrain).predict(Ftest)\n",
    "class_names = target.unique()\n",
    "print(classification_report(Ltest, y_predict, target_names=class_names))\n",
    "print(confusion_matrix(Ltest, y_predict))"
   ]
  },
  {
   "cell_type": "markdown",
   "id": "ffcda594",
   "metadata": {},
   "source": [
    "# Logistic on Red channel data"
   ]
  },
  {
   "cell_type": "code",
   "execution_count": 47,
   "id": "1ed4037b",
   "metadata": {},
   "outputs": [
    {
     "name": "stderr",
     "output_type": "stream",
     "text": [
      "C:\\Users\\ravic\\anaconda3\\lib\\site-packages\\sklearn\\linear_model\\_logistic.py:763: ConvergenceWarning: lbfgs failed to converge (status=1):\n",
      "STOP: TOTAL NO. of ITERATIONS REACHED LIMIT.\n",
      "\n",
      "Increase the number of iterations (max_iter) or scale the data as shown in:\n",
      "    https://scikit-learn.org/stable/modules/preprocessing.html\n",
      "Please also refer to the documentation for alternative solver options:\n",
      "    https://scikit-learn.org/stable/modules/linear_model.html#logistic-regression\n",
      "  n_iter_i = _check_optimize_result(\n"
     ]
    },
    {
     "data": {
      "text/plain": [
       "0.6773305813553492"
      ]
     },
     "execution_count": 47,
     "metadata": {},
     "output_type": "execute_result"
    }
   ],
   "source": [
    "model.fit(Ftrain,Ltrain)\n",
    "model.score(Ftest,Ltest)"
   ]
  },
  {
   "cell_type": "code",
   "execution_count": 48,
   "id": "19a14de1",
   "metadata": {},
   "outputs": [
    {
     "name": "stderr",
     "output_type": "stream",
     "text": [
      "C:\\Users\\ravic\\anaconda3\\lib\\site-packages\\sklearn\\linear_model\\_logistic.py:763: ConvergenceWarning: lbfgs failed to converge (status=1):\n",
      "STOP: TOTAL NO. of ITERATIONS REACHED LIMIT.\n",
      "\n",
      "Increase the number of iterations (max_iter) or scale the data as shown in:\n",
      "    https://scikit-learn.org/stable/modules/preprocessing.html\n",
      "Please also refer to the documentation for alternative solver options:\n",
      "    https://scikit-learn.org/stable/modules/linear_model.html#logistic-regression\n",
      "  n_iter_i = _check_optimize_result(\n"
     ]
    },
    {
     "name": "stdout",
     "output_type": "stream",
     "text": [
      "                               precision    recall  f1-score   support\n",
      "\n",
      "               bacterial_spot       0.65      0.79      0.71       345\n",
      "                 early_blight       0.32      0.33      0.32       153\n",
      "                      healthy       0.67      0.66      0.66       234\n",
      "                  late_blight       0.53      0.58      0.55       309\n",
      "                    leaf_mold       0.54      0.57      0.55       145\n",
      "           septoria_leaf_spot       0.53      0.56      0.55       293\n",
      "                  target_spot       0.58      0.54      0.56       240\n",
      "          tomato_mosaic_virus       0.70      0.80      0.75        54\n",
      "tomato_yellow_leaf_curl_virus       0.90      0.83      0.86       854\n",
      "      two-spotted_spider_mite       0.84      0.65      0.73       280\n",
      "\n",
      "                     accuracy                           0.68      2907\n",
      "                    macro avg       0.63      0.63      0.63      2907\n",
      "                 weighted avg       0.69      0.68      0.68      2907\n",
      "\n",
      "[[273  23   3  17   0   9   7   0  13   0]\n",
      " [ 28  50  11  20   7   8  19   2   7   1]\n",
      " [  9   8 155  13   6  10  33   0   0   0]\n",
      " [ 24  19  18 179  16  23   6   2  13   9]\n",
      " [  1  11   5  13  82  26   1   0   5   1]\n",
      " [ 20   8   9  39  19 165  14   6  11   2]\n",
      " [ 15  11  28  13   7  25 130   2   4   5]\n",
      " [  0   0   0   0   6   1   4  43   0   0]\n",
      " [ 43  15   2  28   6  27   5   2 710  16]\n",
      " [ 10  12   2  18   2  16   5   4  29 182]]\n"
     ]
    }
   ],
   "source": [
    "y_predict = model.fit(Ftrain, Ltrain).predict(Ftest)\n",
    "class_names = target.unique()\n",
    "print(classification_report(Ltest, y_predict, target_names=class_names))\n",
    "print(confusion_matrix(Ltest, y_predict))"
   ]
  },
  {
   "cell_type": "markdown",
   "id": "dba6d5ce",
   "metadata": {},
   "source": [
    "# SVM on Red channel data"
   ]
  },
  {
   "cell_type": "code",
   "execution_count": 49,
   "id": "6ed153f7",
   "metadata": {},
   "outputs": [
    {
     "name": "stdout",
     "output_type": "stream",
     "text": [
      "0.759889920880633\n"
     ]
    }
   ],
   "source": [
    "clf.fit(Ftrain,Ltrain)\n",
    "y_pred = clf.predict(Ftest)\n",
    "print(accuracy_score(Ltest,y_pred))"
   ]
  },
  {
   "cell_type": "code",
   "execution_count": 50,
   "id": "369f8272",
   "metadata": {},
   "outputs": [
    {
     "name": "stdout",
     "output_type": "stream",
     "text": [
      "                               precision    recall  f1-score   support\n",
      "\n",
      "               bacterial_spot       0.67      0.85      0.75       345\n",
      "                 early_blight       0.34      0.36      0.35       153\n",
      "                      healthy       0.77      0.80      0.78       234\n",
      "                  late_blight       0.63      0.65      0.64       309\n",
      "                    leaf_mold       0.66      0.64      0.65       145\n",
      "           septoria_leaf_spot       0.69      0.68      0.68       293\n",
      "                  target_spot       0.76      0.71      0.73       240\n",
      "          tomato_mosaic_virus       0.75      0.83      0.79        54\n",
      "tomato_yellow_leaf_curl_virus       0.94      0.88      0.91       854\n",
      "      two-spotted_spider_mite       0.92      0.76      0.83       280\n",
      "\n",
      "                     accuracy                           0.76      2907\n",
      "                    macro avg       0.71      0.72      0.71      2907\n",
      "                 weighted avg       0.77      0.76      0.76      2907\n",
      "\n",
      "[[293  24   3  12   0   2   1   0  10   0]\n",
      " [ 41  55   3  22   3   6  13   2   7   1]\n",
      " [  6   5 187  14   4   4  14   0   0   0]\n",
      " [ 34  22  12 201  11  18   1   0   5   5]\n",
      " [  2   5   6  11  93  19   2   2   4   1]\n",
      " [  5   9  12  26  16 198  14   8   5   0]\n",
      " [  8  21  14   1   3  20 170   1   0   2]\n",
      " [  0   0   0   0   2   7   0  45   0   0]\n",
      " [ 44  13   0  20   3   6   5   0 754   9]\n",
      " [  4   9   6  10   5   8   5   2  18 213]]\n"
     ]
    }
   ],
   "source": [
    "y_predict = clf.fit(Ftrain, Ltrain).predict(Ftest)\n",
    "class_names = target.unique()\n",
    "print(classification_report(Ltest, y_predict, target_names=class_names))\n",
    "print(confusion_matrix(Ltest, y_predict))"
   ]
  },
  {
   "cell_type": "markdown",
   "id": "a670c4d4",
   "metadata": {},
   "source": [
    "# Random forest on Red channel data"
   ]
  },
  {
   "cell_type": "code",
   "execution_count": 51,
   "id": "9e816e9e",
   "metadata": {},
   "outputs": [
    {
     "data": {
      "text/plain": [
       "0.5593599449415003"
      ]
     },
     "execution_count": 51,
     "metadata": {},
     "output_type": "execute_result"
    }
   ],
   "source": [
    "classifier_rf.fit(Ftrain, Ltrain)\n",
    "classifier_rf.oob_score_"
   ]
  },
  {
   "cell_type": "code",
   "execution_count": 52,
   "id": "e404f49d",
   "metadata": {},
   "outputs": [
    {
     "name": "stdout",
     "output_type": "stream",
     "text": [
      "                               precision    recall  f1-score   support\n",
      "\n",
      "               bacterial_spot       0.71      0.56      0.63       345\n",
      "                 early_blight       0.00      0.00      0.00       153\n",
      "                      healthy       0.56      0.88      0.68       234\n",
      "                  late_blight       0.58      0.26      0.36       309\n",
      "                    leaf_mold       0.77      0.33      0.46       145\n",
      "           septoria_leaf_spot       0.57      0.43      0.49       293\n",
      "                  target_spot       0.56      0.45      0.50       240\n",
      "          tomato_mosaic_virus       0.00      0.00      0.00        54\n",
      "tomato_yellow_leaf_curl_virus       0.52      0.98      0.68       854\n",
      "      two-spotted_spider_mite       0.74      0.08      0.15       280\n",
      "\n",
      "                     accuracy                           0.56      2907\n",
      "                    macro avg       0.50      0.40      0.40      2907\n",
      "                 weighted avg       0.56      0.56      0.50      2907\n",
      "\n",
      "[[193   0  20   8   0   1   5   0 118   0]\n",
      " [ 21   0   4   3   0  17  16   0  88   4]\n",
      " [  3   0 205   5   1   1   3   0  16   0]\n",
      " [  3   0  74  80   4  36  11   0  99   2]\n",
      " [ 10   0  23   9  48   6   5   0  44   0]\n",
      " [  6   0   7  16   7 127   5   0 125   0]\n",
      " [ 16   0  17   6   0  21 109   0  69   2]\n",
      " [  6   0   5   4   2   5   1   0  31   0]\n",
      " [  4   0   4   2   0   4   1   0 839   0]\n",
      " [  9   0   7   5   0   3  38   0 195  23]]\n"
     ]
    },
    {
     "name": "stderr",
     "output_type": "stream",
     "text": [
      "C:\\Users\\ravic\\anaconda3\\lib\\site-packages\\sklearn\\metrics\\_classification.py:1248: UndefinedMetricWarning: Precision and F-score are ill-defined and being set to 0.0 in labels with no predicted samples. Use `zero_division` parameter to control this behavior.\n",
      "  _warn_prf(average, modifier, msg_start, len(result))\n",
      "C:\\Users\\ravic\\anaconda3\\lib\\site-packages\\sklearn\\metrics\\_classification.py:1248: UndefinedMetricWarning: Precision and F-score are ill-defined and being set to 0.0 in labels with no predicted samples. Use `zero_division` parameter to control this behavior.\n",
      "  _warn_prf(average, modifier, msg_start, len(result))\n",
      "C:\\Users\\ravic\\anaconda3\\lib\\site-packages\\sklearn\\metrics\\_classification.py:1248: UndefinedMetricWarning: Precision and F-score are ill-defined and being set to 0.0 in labels with no predicted samples. Use `zero_division` parameter to control this behavior.\n",
      "  _warn_prf(average, modifier, msg_start, len(result))\n"
     ]
    }
   ],
   "source": [
    "y_predict = classifier_rf.fit(Ftrain, Ltrain).predict(Ftest)\n",
    "class_names = target.unique()\n",
    "print(classification_report(Ltest, y_predict, target_names=class_names))\n",
    "print(confusion_matrix(Ltest, y_predict))"
   ]
  },
  {
   "cell_type": "markdown",
   "id": "e1c2d95a",
   "metadata": {},
   "source": [
    "# Naive Bayes on Red channel data"
   ]
  },
  {
   "cell_type": "code",
   "execution_count": 53,
   "id": "8ec0753c",
   "metadata": {},
   "outputs": [
    {
     "data": {
      "text/plain": [
       "GaussianNB()"
      ]
     },
     "execution_count": 53,
     "metadata": {},
     "output_type": "execute_result"
    }
   ],
   "source": [
    "gnb.fit(Ftrain, Ltrain)"
   ]
  },
  {
   "cell_type": "code",
   "execution_count": 54,
   "id": "9bd3c55d",
   "metadata": {},
   "outputs": [
    {
     "data": {
      "text/plain": [
       "0.5239078087375301"
      ]
     },
     "execution_count": 54,
     "metadata": {},
     "output_type": "execute_result"
    }
   ],
   "source": [
    "y_pred = gnb.predict(Ftest)\n",
    "metrics.accuracy_score(Ltest, y_pred)"
   ]
  },
  {
   "cell_type": "code",
   "execution_count": 55,
   "id": "4c3f9eb9",
   "metadata": {},
   "outputs": [
    {
     "name": "stdout",
     "output_type": "stream",
     "text": [
      "                               precision    recall  f1-score   support\n",
      "\n",
      "               bacterial_spot       0.54      0.76      0.63       345\n",
      "                 early_blight       0.24      0.32      0.27       153\n",
      "                      healthy       0.45      0.70      0.54       234\n",
      "                  late_blight       0.48      0.29      0.36       309\n",
      "                    leaf_mold       0.55      0.46      0.50       145\n",
      "           septoria_leaf_spot       0.45      0.45      0.45       293\n",
      "                  target_spot       0.55      0.53      0.54       240\n",
      "          tomato_mosaic_virus       0.19      0.70      0.30        54\n",
      "tomato_yellow_leaf_curl_virus       0.90      0.52      0.66       854\n",
      "      two-spotted_spider_mite       0.45      0.52      0.49       280\n",
      "\n",
      "                     accuracy                           0.52      2907\n",
      "                    macro avg       0.48      0.53      0.48      2907\n",
      "                 weighted avg       0.59      0.52      0.53      2907\n",
      "\n",
      "[[262   8  30   8   0   2   6   6  19   4]\n",
      " [ 36  49   1  24   0  10  17   5   4   7]\n",
      " [  9   6 163   8   6   3  20   8   2   9]\n",
      " [  3  48  94  91  17  27   6  13   4   6]\n",
      " [  7   6   4  12  67  22   1  20   2   4]\n",
      " [  6   9  38   9  20 132  30  21  10  18]\n",
      " [ 19  14   3   7   2  21 128  14   2  30]\n",
      " [  5   0   3   0   1   3   2  38   1   1]\n",
      " [123  43  28  24   6  51   1  34 447  97]\n",
      " [ 12  22   1   7   2  25  20  38   7 146]]\n"
     ]
    }
   ],
   "source": [
    "class_names = target.unique()\n",
    "print(classification_report(Ltest, y_pred, target_names=class_names))\n",
    "print(confusion_matrix(Ltest, y_pred))"
   ]
  },
  {
   "cell_type": "markdown",
   "id": "b34954bd",
   "metadata": {},
   "source": [
    "# Decision Tree on Red channel"
   ]
  },
  {
   "cell_type": "code",
   "execution_count": 56,
   "id": "3ce8ed83",
   "metadata": {},
   "outputs": [
    {
     "data": {
      "text/plain": [
       "0.4822841417268662"
      ]
     },
     "execution_count": 56,
     "metadata": {},
     "output_type": "execute_result"
    }
   ],
   "source": [
    "classifier_tree.fit(Ftrain, Ltrain)\n",
    "classifier_tree.score(Ftest,Ltest)"
   ]
  },
  {
   "cell_type": "code",
   "execution_count": 57,
   "id": "78b012af",
   "metadata": {},
   "outputs": [
    {
     "name": "stdout",
     "output_type": "stream",
     "text": [
      "                               precision    recall  f1-score   support\n",
      "\n",
      "               bacterial_spot       0.46      0.51      0.48       345\n",
      "                 early_blight       0.16      0.17      0.17       153\n",
      "                      healthy       0.56      0.64      0.59       234\n",
      "                  late_blight       0.45      0.46      0.45       309\n",
      "                    leaf_mold       0.36      0.37      0.36       145\n",
      "           septoria_leaf_spot       0.39      0.38      0.38       293\n",
      "                  target_spot       0.37      0.34      0.35       240\n",
      "          tomato_mosaic_virus       0.13      0.19      0.15        54\n",
      "tomato_yellow_leaf_curl_virus       0.73      0.68      0.71       854\n",
      "      two-spotted_spider_mite       0.40      0.36      0.38       280\n",
      "\n",
      "                     accuracy                           0.49      2907\n",
      "                    macro avg       0.40      0.41      0.40      2907\n",
      "                 weighted avg       0.50      0.49      0.49      2907\n",
      "\n",
      "[[176  31  15  14   5  13  17   8  51  15]\n",
      " [ 25  26   9  22   5  15  17   3  18  13]\n",
      " [ 13  11 149  20   5   5  12   6   7   6]\n",
      " [ 16  13  19 141  20  31  25   8  21  15]\n",
      " [  9   8   6  12  53  15   9   9  19   5]\n",
      " [ 28  13  13  37  16 110  13   8  38  17]\n",
      " [ 19  19  23  16   8  17  82   9  16  31]\n",
      " [  3   1   4   2   9   8  10  10   2   5]\n",
      " [ 80  25  13  29  17  50   5   8 582  45]\n",
      " [ 13  11  17  23  10  19  33  10  43 101]]\n"
     ]
    }
   ],
   "source": [
    "y_predict = classifier_tree.fit(Ftrain, Ltrain).predict(Ftest)\n",
    "class_names = target.unique()\n",
    "print(classification_report(Ltest, y_predict, target_names=class_names))\n",
    "print(confusion_matrix(Ltest, y_predict))"
   ]
  },
  {
   "cell_type": "markdown",
   "id": "21af7568",
   "metadata": {},
   "source": [
    "# KNN on green channel data"
   ]
  },
  {
   "cell_type": "code",
   "execution_count": 58,
   "id": "461b784b",
   "metadata": {},
   "outputs": [
    {
     "data": {
      "text/plain": [
       "0.5552115583075335"
      ]
     },
     "execution_count": 58,
     "metadata": {},
     "output_type": "execute_result"
    }
   ],
   "source": [
    "#reading numpy array data\n",
    "green_test = np.load('green_data.npy')\n",
    "#reading csv file\n",
    "green_df = pd.read_csv('green_data.csv')\n",
    "loaded = []\n",
    "for i in green_test:\n",
    "    k = []\n",
    "    k = np.asarray(i,dtype='uint8')\n",
    "    loaded.append(k)\n",
    "features = loaded\n",
    "target = green_df['disease']\n",
    "kmodel.fit(Ftrain,Ltrain)\n",
    "kmodel.score(Ftest,Ltest)"
   ]
  },
  {
   "cell_type": "code",
   "execution_count": 59,
   "id": "3b84096d",
   "metadata": {},
   "outputs": [
    {
     "name": "stdout",
     "output_type": "stream",
     "text": [
      "                               precision    recall  f1-score   support\n",
      "\n",
      "               bacterial_spot       0.33      0.85      0.47       345\n",
      "                 early_blight       0.00      0.00      0.00       153\n",
      "                      healthy       0.45      0.80      0.58       234\n",
      "                  late_blight       0.54      0.43      0.48       309\n",
      "                    leaf_mold       0.71      0.57      0.63       145\n",
      "           septoria_leaf_spot       0.70      0.44      0.54       293\n",
      "                  target_spot       0.40      0.35      0.37       240\n",
      "          tomato_mosaic_virus       0.60      0.39      0.47        54\n",
      "tomato_yellow_leaf_curl_virus       0.88      0.70      0.78       854\n",
      "      two-spotted_spider_mite       0.74      0.30      0.43       280\n",
      "\n",
      "                     accuracy                           0.56      2907\n",
      "                    macro avg       0.53      0.48      0.48      2907\n",
      "                 weighted avg       0.61      0.56      0.55      2907\n",
      "\n",
      "[[294   0  31   9   0   0   1   0  10   0]\n",
      " [ 99   0  10   4   1   6  19   2  11   1]\n",
      " [ 28   0 188  12   0   0   3   0   1   2]\n",
      " [ 57   0  44 134  15  29  12   2  14   2]\n",
      " [ 23   0  11  16  82   3   2   4   3   1]\n",
      " [ 31   0  33  40  15 128  24   1  14   7]\n",
      " [104   0  33   3   0   5  85   5   2   3]\n",
      " [  6   0   8   8   3   1   3  21   2   2]\n",
      " [172   0  47   6   0  10  10   0 597  12]\n",
      " [ 84   0  14  15   0   2  56   0  24  85]]\n"
     ]
    },
    {
     "name": "stderr",
     "output_type": "stream",
     "text": [
      "C:\\Users\\ravic\\anaconda3\\lib\\site-packages\\sklearn\\metrics\\_classification.py:1248: UndefinedMetricWarning: Precision and F-score are ill-defined and being set to 0.0 in labels with no predicted samples. Use `zero_division` parameter to control this behavior.\n",
      "  _warn_prf(average, modifier, msg_start, len(result))\n",
      "C:\\Users\\ravic\\anaconda3\\lib\\site-packages\\sklearn\\metrics\\_classification.py:1248: UndefinedMetricWarning: Precision and F-score are ill-defined and being set to 0.0 in labels with no predicted samples. Use `zero_division` parameter to control this behavior.\n",
      "  _warn_prf(average, modifier, msg_start, len(result))\n",
      "C:\\Users\\ravic\\anaconda3\\lib\\site-packages\\sklearn\\metrics\\_classification.py:1248: UndefinedMetricWarning: Precision and F-score are ill-defined and being set to 0.0 in labels with no predicted samples. Use `zero_division` parameter to control this behavior.\n",
      "  _warn_prf(average, modifier, msg_start, len(result))\n"
     ]
    }
   ],
   "source": [
    "y_predict = kmodel.fit(Ftrain, Ltrain).predict(Ftest)\n",
    "class_names = target.unique()\n",
    "print(classification_report(Ltest, y_predict, target_names=class_names))\n",
    "print(confusion_matrix(Ltest, y_predict))"
   ]
  },
  {
   "cell_type": "markdown",
   "id": "71f3ea86",
   "metadata": {},
   "source": [
    "# Logistic on Green channel data"
   ]
  },
  {
   "cell_type": "code",
   "execution_count": 60,
   "id": "28dad6b2",
   "metadata": {},
   "outputs": [
    {
     "name": "stderr",
     "output_type": "stream",
     "text": [
      "C:\\Users\\ravic\\anaconda3\\lib\\site-packages\\sklearn\\linear_model\\_logistic.py:763: ConvergenceWarning: lbfgs failed to converge (status=1):\n",
      "STOP: TOTAL NO. of ITERATIONS REACHED LIMIT.\n",
      "\n",
      "Increase the number of iterations (max_iter) or scale the data as shown in:\n",
      "    https://scikit-learn.org/stable/modules/preprocessing.html\n",
      "Please also refer to the documentation for alternative solver options:\n",
      "    https://scikit-learn.org/stable/modules/linear_model.html#logistic-regression\n",
      "  n_iter_i = _check_optimize_result(\n"
     ]
    },
    {
     "data": {
      "text/plain": [
       "0.6773305813553492"
      ]
     },
     "execution_count": 60,
     "metadata": {},
     "output_type": "execute_result"
    }
   ],
   "source": [
    "model.fit(Ftrain,Ltrain)\n",
    "model.score(Ftest,Ltest)"
   ]
  },
  {
   "cell_type": "code",
   "execution_count": 61,
   "id": "839a329f",
   "metadata": {},
   "outputs": [
    {
     "name": "stderr",
     "output_type": "stream",
     "text": [
      "C:\\Users\\ravic\\anaconda3\\lib\\site-packages\\sklearn\\linear_model\\_logistic.py:763: ConvergenceWarning: lbfgs failed to converge (status=1):\n",
      "STOP: TOTAL NO. of ITERATIONS REACHED LIMIT.\n",
      "\n",
      "Increase the number of iterations (max_iter) or scale the data as shown in:\n",
      "    https://scikit-learn.org/stable/modules/preprocessing.html\n",
      "Please also refer to the documentation for alternative solver options:\n",
      "    https://scikit-learn.org/stable/modules/linear_model.html#logistic-regression\n",
      "  n_iter_i = _check_optimize_result(\n"
     ]
    },
    {
     "name": "stdout",
     "output_type": "stream",
     "text": [
      "                               precision    recall  f1-score   support\n",
      "\n",
      "               bacterial_spot       0.65      0.79      0.71       345\n",
      "                 early_blight       0.32      0.33      0.32       153\n",
      "                      healthy       0.67      0.66      0.66       234\n",
      "                  late_blight       0.53      0.58      0.55       309\n",
      "                    leaf_mold       0.54      0.57      0.55       145\n",
      "           septoria_leaf_spot       0.53      0.56      0.55       293\n",
      "                  target_spot       0.58      0.54      0.56       240\n",
      "          tomato_mosaic_virus       0.70      0.80      0.75        54\n",
      "tomato_yellow_leaf_curl_virus       0.90      0.83      0.86       854\n",
      "      two-spotted_spider_mite       0.84      0.65      0.73       280\n",
      "\n",
      "                     accuracy                           0.68      2907\n",
      "                    macro avg       0.63      0.63      0.63      2907\n",
      "                 weighted avg       0.69      0.68      0.68      2907\n",
      "\n",
      "[[273  23   3  17   0   9   7   0  13   0]\n",
      " [ 28  50  11  20   7   8  19   2   7   1]\n",
      " [  9   8 155  13   6  10  33   0   0   0]\n",
      " [ 24  19  18 179  16  23   6   2  13   9]\n",
      " [  1  11   5  13  82  26   1   0   5   1]\n",
      " [ 20   8   9  39  19 165  14   6  11   2]\n",
      " [ 15  11  28  13   7  25 130   2   4   5]\n",
      " [  0   0   0   0   6   1   4  43   0   0]\n",
      " [ 43  15   2  28   6  27   5   2 710  16]\n",
      " [ 10  12   2  18   2  16   5   4  29 182]]\n"
     ]
    }
   ],
   "source": [
    "y_predict = model.fit(Ftrain, Ltrain).predict(Ftest)\n",
    "class_names = target.unique()\n",
    "print(classification_report(Ltest, y_predict, target_names=class_names))\n",
    "print(confusion_matrix(Ltest, y_predict))"
   ]
  },
  {
   "cell_type": "markdown",
   "id": "f62f0223",
   "metadata": {},
   "source": [
    "# SVM on green channel data"
   ]
  },
  {
   "cell_type": "code",
   "execution_count": 62,
   "id": "e89e7297",
   "metadata": {},
   "outputs": [
    {
     "name": "stdout",
     "output_type": "stream",
     "text": [
      "0.759889920880633\n"
     ]
    }
   ],
   "source": [
    "clf.fit(Ftrain,Ltrain)\n",
    "y_pred = clf.predict(Ftest)\n",
    "print(accuracy_score(Ltest,y_pred))"
   ]
  },
  {
   "cell_type": "code",
   "execution_count": 63,
   "id": "0a214a95",
   "metadata": {},
   "outputs": [
    {
     "name": "stdout",
     "output_type": "stream",
     "text": [
      "                               precision    recall  f1-score   support\n",
      "\n",
      "               bacterial_spot       0.67      0.85      0.75       345\n",
      "                 early_blight       0.34      0.36      0.35       153\n",
      "                      healthy       0.77      0.80      0.78       234\n",
      "                  late_blight       0.63      0.65      0.64       309\n",
      "                    leaf_mold       0.66      0.64      0.65       145\n",
      "           septoria_leaf_spot       0.69      0.68      0.68       293\n",
      "                  target_spot       0.76      0.71      0.73       240\n",
      "          tomato_mosaic_virus       0.75      0.83      0.79        54\n",
      "tomato_yellow_leaf_curl_virus       0.94      0.88      0.91       854\n",
      "      two-spotted_spider_mite       0.92      0.76      0.83       280\n",
      "\n",
      "                     accuracy                           0.76      2907\n",
      "                    macro avg       0.71      0.72      0.71      2907\n",
      "                 weighted avg       0.77      0.76      0.76      2907\n",
      "\n",
      "[[293  24   3  12   0   2   1   0  10   0]\n",
      " [ 41  55   3  22   3   6  13   2   7   1]\n",
      " [  6   5 187  14   4   4  14   0   0   0]\n",
      " [ 34  22  12 201  11  18   1   0   5   5]\n",
      " [  2   5   6  11  93  19   2   2   4   1]\n",
      " [  5   9  12  26  16 198  14   8   5   0]\n",
      " [  8  21  14   1   3  20 170   1   0   2]\n",
      " [  0   0   0   0   2   7   0  45   0   0]\n",
      " [ 44  13   0  20   3   6   5   0 754   9]\n",
      " [  4   9   6  10   5   8   5   2  18 213]]\n"
     ]
    }
   ],
   "source": [
    "y_predict = clf.fit(Ftrain, Ltrain).predict(Ftest)\n",
    "class_names = target.unique()\n",
    "print(classification_report(Ltest, y_predict, target_names=class_names))\n",
    "print(confusion_matrix(Ltest, y_predict))"
   ]
  },
  {
   "cell_type": "markdown",
   "id": "4f8e565e",
   "metadata": {},
   "source": [
    "# Random Forest on green channel data"
   ]
  },
  {
   "cell_type": "code",
   "execution_count": 64,
   "id": "96c92f8f",
   "metadata": {},
   "outputs": [
    {
     "data": {
      "text/plain": [
       "0.5593599449415003"
      ]
     },
     "execution_count": 64,
     "metadata": {},
     "output_type": "execute_result"
    }
   ],
   "source": [
    "classifier_rf.fit(Ftrain, Ltrain)\n",
    "classifier_rf.oob_score_"
   ]
  },
  {
   "cell_type": "code",
   "execution_count": 65,
   "id": "a8f818ad",
   "metadata": {},
   "outputs": [
    {
     "name": "stdout",
     "output_type": "stream",
     "text": [
      "                               precision    recall  f1-score   support\n",
      "\n",
      "               bacterial_spot       0.71      0.56      0.63       345\n",
      "                 early_blight       0.00      0.00      0.00       153\n",
      "                      healthy       0.56      0.88      0.68       234\n",
      "                  late_blight       0.58      0.26      0.36       309\n",
      "                    leaf_mold       0.77      0.33      0.46       145\n",
      "           septoria_leaf_spot       0.57      0.43      0.49       293\n",
      "                  target_spot       0.56      0.45      0.50       240\n",
      "          tomato_mosaic_virus       0.00      0.00      0.00        54\n",
      "tomato_yellow_leaf_curl_virus       0.52      0.98      0.68       854\n",
      "      two-spotted_spider_mite       0.74      0.08      0.15       280\n",
      "\n",
      "                     accuracy                           0.56      2907\n",
      "                    macro avg       0.50      0.40      0.40      2907\n",
      "                 weighted avg       0.56      0.56      0.50      2907\n",
      "\n",
      "[[193   0  20   8   0   1   5   0 118   0]\n",
      " [ 21   0   4   3   0  17  16   0  88   4]\n",
      " [  3   0 205   5   1   1   3   0  16   0]\n",
      " [  3   0  74  80   4  36  11   0  99   2]\n",
      " [ 10   0  23   9  48   6   5   0  44   0]\n",
      " [  6   0   7  16   7 127   5   0 125   0]\n",
      " [ 16   0  17   6   0  21 109   0  69   2]\n",
      " [  6   0   5   4   2   5   1   0  31   0]\n",
      " [  4   0   4   2   0   4   1   0 839   0]\n",
      " [  9   0   7   5   0   3  38   0 195  23]]\n"
     ]
    },
    {
     "name": "stderr",
     "output_type": "stream",
     "text": [
      "C:\\Users\\ravic\\anaconda3\\lib\\site-packages\\sklearn\\metrics\\_classification.py:1248: UndefinedMetricWarning: Precision and F-score are ill-defined and being set to 0.0 in labels with no predicted samples. Use `zero_division` parameter to control this behavior.\n",
      "  _warn_prf(average, modifier, msg_start, len(result))\n",
      "C:\\Users\\ravic\\anaconda3\\lib\\site-packages\\sklearn\\metrics\\_classification.py:1248: UndefinedMetricWarning: Precision and F-score are ill-defined and being set to 0.0 in labels with no predicted samples. Use `zero_division` parameter to control this behavior.\n",
      "  _warn_prf(average, modifier, msg_start, len(result))\n",
      "C:\\Users\\ravic\\anaconda3\\lib\\site-packages\\sklearn\\metrics\\_classification.py:1248: UndefinedMetricWarning: Precision and F-score are ill-defined and being set to 0.0 in labels with no predicted samples. Use `zero_division` parameter to control this behavior.\n",
      "  _warn_prf(average, modifier, msg_start, len(result))\n"
     ]
    }
   ],
   "source": [
    "y_predict = classifier_rf.fit(Ftrain, Ltrain).predict(Ftest)\n",
    "class_names = target.unique()\n",
    "print(classification_report(Ltest, y_predict, target_names=class_names))\n",
    "print(confusion_matrix(Ltest, y_predict))"
   ]
  },
  {
   "cell_type": "markdown",
   "id": "e9b1cca9",
   "metadata": {},
   "source": [
    "# Naive bayes on Green channel data"
   ]
  },
  {
   "cell_type": "code",
   "execution_count": 66,
   "id": "1136802c",
   "metadata": {},
   "outputs": [
    {
     "data": {
      "text/plain": [
       "0.5239078087375301"
      ]
     },
     "execution_count": 66,
     "metadata": {},
     "output_type": "execute_result"
    }
   ],
   "source": [
    "gnb.fit(Ftrain, Ltrain)\n",
    "y_pred = gnb.predict(Ftest)\n",
    "metrics.accuracy_score(Ltest, y_pred)"
   ]
  },
  {
   "cell_type": "code",
   "execution_count": 67,
   "id": "413e42be",
   "metadata": {},
   "outputs": [
    {
     "name": "stdout",
     "output_type": "stream",
     "text": [
      "                               precision    recall  f1-score   support\n",
      "\n",
      "               bacterial_spot       0.54      0.76      0.63       345\n",
      "                 early_blight       0.24      0.32      0.27       153\n",
      "                      healthy       0.45      0.70      0.54       234\n",
      "                  late_blight       0.48      0.29      0.36       309\n",
      "                    leaf_mold       0.55      0.46      0.50       145\n",
      "           septoria_leaf_spot       0.45      0.45      0.45       293\n",
      "                  target_spot       0.55      0.53      0.54       240\n",
      "          tomato_mosaic_virus       0.19      0.70      0.30        54\n",
      "tomato_yellow_leaf_curl_virus       0.90      0.52      0.66       854\n",
      "      two-spotted_spider_mite       0.45      0.52      0.49       280\n",
      "\n",
      "                     accuracy                           0.52      2907\n",
      "                    macro avg       0.48      0.53      0.48      2907\n",
      "                 weighted avg       0.59      0.52      0.53      2907\n",
      "\n",
      "[[262   8  30   8   0   2   6   6  19   4]\n",
      " [ 36  49   1  24   0  10  17   5   4   7]\n",
      " [  9   6 163   8   6   3  20   8   2   9]\n",
      " [  3  48  94  91  17  27   6  13   4   6]\n",
      " [  7   6   4  12  67  22   1  20   2   4]\n",
      " [  6   9  38   9  20 132  30  21  10  18]\n",
      " [ 19  14   3   7   2  21 128  14   2  30]\n",
      " [  5   0   3   0   1   3   2  38   1   1]\n",
      " [123  43  28  24   6  51   1  34 447  97]\n",
      " [ 12  22   1   7   2  25  20  38   7 146]]\n"
     ]
    }
   ],
   "source": [
    "class_names = target.unique()\n",
    "print(classification_report(Ltest, y_pred, target_names=class_names))\n",
    "print(confusion_matrix(Ltest, y_pred))"
   ]
  },
  {
   "cell_type": "markdown",
   "id": "9002e08b",
   "metadata": {},
   "source": [
    "# Decision Tree on Green channel"
   ]
  },
  {
   "cell_type": "code",
   "execution_count": 68,
   "id": "6b115934",
   "metadata": {},
   "outputs": [
    {
     "data": {
      "text/plain": [
       "0.4888200894392845"
      ]
     },
     "execution_count": 68,
     "metadata": {},
     "output_type": "execute_result"
    }
   ],
   "source": [
    "classifier_tree.fit(Ftrain, Ltrain)\n",
    "classifier_tree.score(Ftest,Ltest)"
   ]
  },
  {
   "cell_type": "code",
   "execution_count": 69,
   "id": "a1694af3",
   "metadata": {},
   "outputs": [
    {
     "name": "stdout",
     "output_type": "stream",
     "text": [
      "                               precision    recall  f1-score   support\n",
      "\n",
      "               bacterial_spot       0.50      0.57      0.53       345\n",
      "                 early_blight       0.16      0.16      0.16       153\n",
      "                      healthy       0.58      0.62      0.60       234\n",
      "                  late_blight       0.45      0.47      0.46       309\n",
      "                    leaf_mold       0.37      0.40      0.39       145\n",
      "           septoria_leaf_spot       0.40      0.39      0.39       293\n",
      "                  target_spot       0.36      0.38      0.37       240\n",
      "          tomato_mosaic_virus       0.10      0.09      0.09        54\n",
      "tomato_yellow_leaf_curl_virus       0.70      0.65      0.68       854\n",
      "      two-spotted_spider_mite       0.38      0.34      0.36       280\n",
      "\n",
      "                     accuracy                           0.49      2907\n",
      "                    macro avg       0.40      0.41      0.40      2907\n",
      "                 weighted avg       0.50      0.49      0.49      2907\n",
      "\n",
      "[[197  24  11  16   7  11  16   2  49  12]\n",
      " [ 24  25   6  16   8  12  19   3  26  14]\n",
      " [ 11  10 144  24   3   8  15   5   9   5]\n",
      " [ 12  18  17 144  21  32  22   3  27  13]\n",
      " [ 14   5   4  11  58  19  11   5  13   5]\n",
      " [ 18   8  10  35  20 114  21   8  37  22]\n",
      " [ 15  19  24  17   4  17  91   5  17  31]\n",
      " [  5   6   3   3   8   6   7   5   8   3]\n",
      " [ 87  30  14  26  16  48  12  10 558  53]\n",
      " [ 13  12  14  26  11  18  37   6  48  95]]\n"
     ]
    }
   ],
   "source": [
    "y_predict = classifier_tree.fit(Ftrain, Ltrain).predict(Ftest)\n",
    "class_names = target.unique()\n",
    "print(classification_report(Ltest, y_predict, target_names=class_names))\n",
    "print(confusion_matrix(Ltest, y_predict))"
   ]
  },
  {
   "cell_type": "markdown",
   "id": "75817642",
   "metadata": {},
   "source": [
    "# KNN on blue channel data"
   ]
  },
  {
   "cell_type": "code",
   "execution_count": 70,
   "id": "531e3624",
   "metadata": {},
   "outputs": [
    {
     "data": {
      "text/plain": [
       "0.5552115583075335"
      ]
     },
     "execution_count": 70,
     "metadata": {},
     "output_type": "execute_result"
    }
   ],
   "source": [
    "#reading numpy array data\n",
    "blue_test = np.load('blue_data.npy')\n",
    "#reading csv file\n",
    "blue_df = pd.read_csv('blue_data.csv')\n",
    "loaded = []\n",
    "for i in gray_test:\n",
    "    k = []\n",
    "    k = np.asarray(i,dtype='uint8')\n",
    "    loaded.append(k)\n",
    "features = loaded\n",
    "target = blue_df['disease']\n",
    "kmodel.fit(Ftrain,Ltrain)\n",
    "kmodel.score(Ftest,Ltest)"
   ]
  },
  {
   "cell_type": "code",
   "execution_count": 71,
   "id": "16330eb3",
   "metadata": {},
   "outputs": [
    {
     "name": "stdout",
     "output_type": "stream",
     "text": [
      "                               precision    recall  f1-score   support\n",
      "\n",
      "               bacterial_spot       0.33      0.85      0.47       345\n",
      "                 early_blight       0.00      0.00      0.00       153\n",
      "                      healthy       0.45      0.80      0.58       234\n",
      "                  late_blight       0.54      0.43      0.48       309\n",
      "                    leaf_mold       0.71      0.57      0.63       145\n",
      "           septoria_leaf_spot       0.70      0.44      0.54       293\n",
      "                  target_spot       0.40      0.35      0.37       240\n",
      "          tomato_mosaic_virus       0.60      0.39      0.47        54\n",
      "tomato_yellow_leaf_curl_virus       0.88      0.70      0.78       854\n",
      "      two-spotted_spider_mite       0.74      0.30      0.43       280\n",
      "\n",
      "                     accuracy                           0.56      2907\n",
      "                    macro avg       0.53      0.48      0.48      2907\n",
      "                 weighted avg       0.61      0.56      0.55      2907\n",
      "\n",
      "[[294   0  31   9   0   0   1   0  10   0]\n",
      " [ 99   0  10   4   1   6  19   2  11   1]\n",
      " [ 28   0 188  12   0   0   3   0   1   2]\n",
      " [ 57   0  44 134  15  29  12   2  14   2]\n",
      " [ 23   0  11  16  82   3   2   4   3   1]\n",
      " [ 31   0  33  40  15 128  24   1  14   7]\n",
      " [104   0  33   3   0   5  85   5   2   3]\n",
      " [  6   0   8   8   3   1   3  21   2   2]\n",
      " [172   0  47   6   0  10  10   0 597  12]\n",
      " [ 84   0  14  15   0   2  56   0  24  85]]\n"
     ]
    },
    {
     "name": "stderr",
     "output_type": "stream",
     "text": [
      "C:\\Users\\ravic\\anaconda3\\lib\\site-packages\\sklearn\\metrics\\_classification.py:1248: UndefinedMetricWarning: Precision and F-score are ill-defined and being set to 0.0 in labels with no predicted samples. Use `zero_division` parameter to control this behavior.\n",
      "  _warn_prf(average, modifier, msg_start, len(result))\n",
      "C:\\Users\\ravic\\anaconda3\\lib\\site-packages\\sklearn\\metrics\\_classification.py:1248: UndefinedMetricWarning: Precision and F-score are ill-defined and being set to 0.0 in labels with no predicted samples. Use `zero_division` parameter to control this behavior.\n",
      "  _warn_prf(average, modifier, msg_start, len(result))\n",
      "C:\\Users\\ravic\\anaconda3\\lib\\site-packages\\sklearn\\metrics\\_classification.py:1248: UndefinedMetricWarning: Precision and F-score are ill-defined and being set to 0.0 in labels with no predicted samples. Use `zero_division` parameter to control this behavior.\n",
      "  _warn_prf(average, modifier, msg_start, len(result))\n"
     ]
    }
   ],
   "source": [
    "y_predict = kmodel.fit(Ftrain, Ltrain).predict(Ftest)\n",
    "class_names = target.unique()\n",
    "print(classification_report(Ltest, y_predict, target_names=class_names))\n",
    "print(confusion_matrix(Ltest, y_predict))"
   ]
  },
  {
   "cell_type": "markdown",
   "id": "f452a113",
   "metadata": {},
   "source": [
    "# logistic on blue channel data"
   ]
  },
  {
   "cell_type": "code",
   "execution_count": 72,
   "id": "de158586",
   "metadata": {},
   "outputs": [
    {
     "name": "stderr",
     "output_type": "stream",
     "text": [
      "C:\\Users\\ravic\\anaconda3\\lib\\site-packages\\sklearn\\linear_model\\_logistic.py:763: ConvergenceWarning: lbfgs failed to converge (status=1):\n",
      "STOP: TOTAL NO. of ITERATIONS REACHED LIMIT.\n",
      "\n",
      "Increase the number of iterations (max_iter) or scale the data as shown in:\n",
      "    https://scikit-learn.org/stable/modules/preprocessing.html\n",
      "Please also refer to the documentation for alternative solver options:\n",
      "    https://scikit-learn.org/stable/modules/linear_model.html#logistic-regression\n",
      "  n_iter_i = _check_optimize_result(\n"
     ]
    },
    {
     "data": {
      "text/plain": [
       "0.6773305813553492"
      ]
     },
     "execution_count": 72,
     "metadata": {},
     "output_type": "execute_result"
    }
   ],
   "source": [
    "model.fit(Ftrain,Ltrain)\n",
    "model.score(Ftest,Ltest)"
   ]
  },
  {
   "cell_type": "code",
   "execution_count": 73,
   "id": "30e98a1a",
   "metadata": {},
   "outputs": [
    {
     "name": "stderr",
     "output_type": "stream",
     "text": [
      "C:\\Users\\ravic\\anaconda3\\lib\\site-packages\\sklearn\\linear_model\\_logistic.py:763: ConvergenceWarning: lbfgs failed to converge (status=1):\n",
      "STOP: TOTAL NO. of ITERATIONS REACHED LIMIT.\n",
      "\n",
      "Increase the number of iterations (max_iter) or scale the data as shown in:\n",
      "    https://scikit-learn.org/stable/modules/preprocessing.html\n",
      "Please also refer to the documentation for alternative solver options:\n",
      "    https://scikit-learn.org/stable/modules/linear_model.html#logistic-regression\n",
      "  n_iter_i = _check_optimize_result(\n"
     ]
    },
    {
     "name": "stdout",
     "output_type": "stream",
     "text": [
      "                               precision    recall  f1-score   support\n",
      "\n",
      "               bacterial_spot       0.65      0.79      0.71       345\n",
      "                 early_blight       0.32      0.33      0.32       153\n",
      "                      healthy       0.67      0.66      0.66       234\n",
      "                  late_blight       0.53      0.58      0.55       309\n",
      "                    leaf_mold       0.54      0.57      0.55       145\n",
      "           septoria_leaf_spot       0.53      0.56      0.55       293\n",
      "                  target_spot       0.58      0.54      0.56       240\n",
      "          tomato_mosaic_virus       0.70      0.80      0.75        54\n",
      "tomato_yellow_leaf_curl_virus       0.90      0.83      0.86       854\n",
      "      two-spotted_spider_mite       0.84      0.65      0.73       280\n",
      "\n",
      "                     accuracy                           0.68      2907\n",
      "                    macro avg       0.63      0.63      0.63      2907\n",
      "                 weighted avg       0.69      0.68      0.68      2907\n",
      "\n",
      "[[273  23   3  17   0   9   7   0  13   0]\n",
      " [ 28  50  11  20   7   8  19   2   7   1]\n",
      " [  9   8 155  13   6  10  33   0   0   0]\n",
      " [ 24  19  18 179  16  23   6   2  13   9]\n",
      " [  1  11   5  13  82  26   1   0   5   1]\n",
      " [ 20   8   9  39  19 165  14   6  11   2]\n",
      " [ 15  11  28  13   7  25 130   2   4   5]\n",
      " [  0   0   0   0   6   1   4  43   0   0]\n",
      " [ 43  15   2  28   6  27   5   2 710  16]\n",
      " [ 10  12   2  18   2  16   5   4  29 182]]\n"
     ]
    }
   ],
   "source": [
    "y_predict = model.fit(Ftrain, Ltrain).predict(Ftest)\n",
    "class_names = target.unique()\n",
    "print(classification_report(Ltest, y_predict, target_names=class_names))\n",
    "print(confusion_matrix(Ltest, y_predict))"
   ]
  },
  {
   "cell_type": "markdown",
   "id": "c7585c1d",
   "metadata": {},
   "source": [
    "# SVM on blue channel data"
   ]
  },
  {
   "cell_type": "code",
   "execution_count": 74,
   "id": "06fb4a0f",
   "metadata": {},
   "outputs": [
    {
     "name": "stdout",
     "output_type": "stream",
     "text": [
      "0.759889920880633\n"
     ]
    }
   ],
   "source": [
    "clf.fit(Ftrain,Ltrain)\n",
    "y_pred = clf.predict(Ftest)\n",
    "print(accuracy_score(Ltest,y_pred))"
   ]
  },
  {
   "cell_type": "code",
   "execution_count": 75,
   "id": "6e1082ce",
   "metadata": {},
   "outputs": [
    {
     "name": "stdout",
     "output_type": "stream",
     "text": [
      "                               precision    recall  f1-score   support\n",
      "\n",
      "               bacterial_spot       0.67      0.85      0.75       345\n",
      "                 early_blight       0.34      0.36      0.35       153\n",
      "                      healthy       0.77      0.80      0.78       234\n",
      "                  late_blight       0.63      0.65      0.64       309\n",
      "                    leaf_mold       0.66      0.64      0.65       145\n",
      "           septoria_leaf_spot       0.69      0.68      0.68       293\n",
      "                  target_spot       0.76      0.71      0.73       240\n",
      "          tomato_mosaic_virus       0.75      0.83      0.79        54\n",
      "tomato_yellow_leaf_curl_virus       0.94      0.88      0.91       854\n",
      "      two-spotted_spider_mite       0.92      0.76      0.83       280\n",
      "\n",
      "                     accuracy                           0.76      2907\n",
      "                    macro avg       0.71      0.72      0.71      2907\n",
      "                 weighted avg       0.77      0.76      0.76      2907\n",
      "\n",
      "[[293  24   3  12   0   2   1   0  10   0]\n",
      " [ 41  55   3  22   3   6  13   2   7   1]\n",
      " [  6   5 187  14   4   4  14   0   0   0]\n",
      " [ 34  22  12 201  11  18   1   0   5   5]\n",
      " [  2   5   6  11  93  19   2   2   4   1]\n",
      " [  5   9  12  26  16 198  14   8   5   0]\n",
      " [  8  21  14   1   3  20 170   1   0   2]\n",
      " [  0   0   0   0   2   7   0  45   0   0]\n",
      " [ 44  13   0  20   3   6   5   0 754   9]\n",
      " [  4   9   6  10   5   8   5   2  18 213]]\n"
     ]
    }
   ],
   "source": [
    "y_predict = clf.fit(Ftrain, Ltrain).predict(Ftest)\n",
    "class_names = target.unique()\n",
    "print(classification_report(Ltest, y_predict, target_names=class_names))\n",
    "print(confusion_matrix(Ltest, y_predict))"
   ]
  },
  {
   "cell_type": "markdown",
   "id": "f4eb8c6c",
   "metadata": {},
   "source": [
    "# Random Forest on blue channel data"
   ]
  },
  {
   "cell_type": "code",
   "execution_count": 76,
   "id": "b71407b2",
   "metadata": {},
   "outputs": [
    {
     "data": {
      "text/plain": [
       "0.5593599449415003"
      ]
     },
     "execution_count": 76,
     "metadata": {},
     "output_type": "execute_result"
    }
   ],
   "source": [
    "classifier_rf.fit(Ftrain, Ltrain)\n",
    "classifier_rf.oob_score_"
   ]
  },
  {
   "cell_type": "code",
   "execution_count": 77,
   "id": "aa723da2",
   "metadata": {},
   "outputs": [
    {
     "name": "stdout",
     "output_type": "stream",
     "text": [
      "                               precision    recall  f1-score   support\n",
      "\n",
      "               bacterial_spot       0.71      0.56      0.63       345\n",
      "                 early_blight       0.00      0.00      0.00       153\n",
      "                      healthy       0.56      0.88      0.68       234\n",
      "                  late_blight       0.58      0.26      0.36       309\n",
      "                    leaf_mold       0.77      0.33      0.46       145\n",
      "           septoria_leaf_spot       0.57      0.43      0.49       293\n",
      "                  target_spot       0.56      0.45      0.50       240\n",
      "          tomato_mosaic_virus       0.00      0.00      0.00        54\n",
      "tomato_yellow_leaf_curl_virus       0.52      0.98      0.68       854\n",
      "      two-spotted_spider_mite       0.74      0.08      0.15       280\n",
      "\n",
      "                     accuracy                           0.56      2907\n",
      "                    macro avg       0.50      0.40      0.40      2907\n",
      "                 weighted avg       0.56      0.56      0.50      2907\n",
      "\n",
      "[[193   0  20   8   0   1   5   0 118   0]\n",
      " [ 21   0   4   3   0  17  16   0  88   4]\n",
      " [  3   0 205   5   1   1   3   0  16   0]\n",
      " [  3   0  74  80   4  36  11   0  99   2]\n",
      " [ 10   0  23   9  48   6   5   0  44   0]\n",
      " [  6   0   7  16   7 127   5   0 125   0]\n",
      " [ 16   0  17   6   0  21 109   0  69   2]\n",
      " [  6   0   5   4   2   5   1   0  31   0]\n",
      " [  4   0   4   2   0   4   1   0 839   0]\n",
      " [  9   0   7   5   0   3  38   0 195  23]]\n"
     ]
    },
    {
     "name": "stderr",
     "output_type": "stream",
     "text": [
      "C:\\Users\\ravic\\anaconda3\\lib\\site-packages\\sklearn\\metrics\\_classification.py:1248: UndefinedMetricWarning: Precision and F-score are ill-defined and being set to 0.0 in labels with no predicted samples. Use `zero_division` parameter to control this behavior.\n",
      "  _warn_prf(average, modifier, msg_start, len(result))\n",
      "C:\\Users\\ravic\\anaconda3\\lib\\site-packages\\sklearn\\metrics\\_classification.py:1248: UndefinedMetricWarning: Precision and F-score are ill-defined and being set to 0.0 in labels with no predicted samples. Use `zero_division` parameter to control this behavior.\n",
      "  _warn_prf(average, modifier, msg_start, len(result))\n",
      "C:\\Users\\ravic\\anaconda3\\lib\\site-packages\\sklearn\\metrics\\_classification.py:1248: UndefinedMetricWarning: Precision and F-score are ill-defined and being set to 0.0 in labels with no predicted samples. Use `zero_division` parameter to control this behavior.\n",
      "  _warn_prf(average, modifier, msg_start, len(result))\n"
     ]
    }
   ],
   "source": [
    "y_predict = classifier_rf.fit(Ftrain, Ltrain).predict(Ftest)\n",
    "class_names = target.unique()\n",
    "print(classification_report(Ltest, y_predict, target_names=class_names))\n",
    "print(confusion_matrix(Ltest, y_predict))"
   ]
  },
  {
   "cell_type": "markdown",
   "id": "fb1ca20e",
   "metadata": {},
   "source": [
    "# Naive bayes on blue channel data"
   ]
  },
  {
   "cell_type": "code",
   "execution_count": 78,
   "id": "11ea0b85",
   "metadata": {},
   "outputs": [
    {
     "data": {
      "text/plain": [
       "0.5239078087375301"
      ]
     },
     "execution_count": 78,
     "metadata": {},
     "output_type": "execute_result"
    }
   ],
   "source": [
    "gnb.fit(Ftrain, Ltrain)\n",
    "y_pred = gnb.predict(Ftest)\n",
    "metrics.accuracy_score(Ltest, y_pred)"
   ]
  },
  {
   "cell_type": "code",
   "execution_count": 79,
   "id": "ca5ce1db",
   "metadata": {},
   "outputs": [
    {
     "name": "stdout",
     "output_type": "stream",
     "text": [
      "                               precision    recall  f1-score   support\n",
      "\n",
      "               bacterial_spot       0.54      0.76      0.63       345\n",
      "                 early_blight       0.24      0.32      0.27       153\n",
      "                      healthy       0.45      0.70      0.54       234\n",
      "                  late_blight       0.48      0.29      0.36       309\n",
      "                    leaf_mold       0.55      0.46      0.50       145\n",
      "           septoria_leaf_spot       0.45      0.45      0.45       293\n",
      "                  target_spot       0.55      0.53      0.54       240\n",
      "          tomato_mosaic_virus       0.19      0.70      0.30        54\n",
      "tomato_yellow_leaf_curl_virus       0.90      0.52      0.66       854\n",
      "      two-spotted_spider_mite       0.45      0.52      0.49       280\n",
      "\n",
      "                     accuracy                           0.52      2907\n",
      "                    macro avg       0.48      0.53      0.48      2907\n",
      "                 weighted avg       0.59      0.52      0.53      2907\n",
      "\n",
      "[[262   8  30   8   0   2   6   6  19   4]\n",
      " [ 36  49   1  24   0  10  17   5   4   7]\n",
      " [  9   6 163   8   6   3  20   8   2   9]\n",
      " [  3  48  94  91  17  27   6  13   4   6]\n",
      " [  7   6   4  12  67  22   1  20   2   4]\n",
      " [  6   9  38   9  20 132  30  21  10  18]\n",
      " [ 19  14   3   7   2  21 128  14   2  30]\n",
      " [  5   0   3   0   1   3   2  38   1   1]\n",
      " [123  43  28  24   6  51   1  34 447  97]\n",
      " [ 12  22   1   7   2  25  20  38   7 146]]\n"
     ]
    }
   ],
   "source": [
    "class_names = target.unique()\n",
    "print(classification_report(Ltest, y_pred, target_names=class_names))\n",
    "print(confusion_matrix(Ltest, y_pred))"
   ]
  },
  {
   "cell_type": "markdown",
   "id": "d9c9d428",
   "metadata": {},
   "source": [
    "# Decision Tree on Blue channel"
   ]
  },
  {
   "cell_type": "code",
   "execution_count": 80,
   "id": "cbeebfa6",
   "metadata": {},
   "outputs": [
    {
     "data": {
      "text/plain": [
       "0.4929480564155487"
      ]
     },
     "execution_count": 80,
     "metadata": {},
     "output_type": "execute_result"
    }
   ],
   "source": [
    "classifier_tree.fit(Ftrain, Ltrain)\n",
    "classifier_tree.score(Ftest,Ltest)"
   ]
  },
  {
   "cell_type": "code",
   "execution_count": 81,
   "id": "ef622e2a",
   "metadata": {},
   "outputs": [
    {
     "name": "stdout",
     "output_type": "stream",
     "text": [
      "                               precision    recall  f1-score   support\n",
      "\n",
      "               bacterial_spot       0.47      0.56      0.51       345\n",
      "                 early_blight       0.17      0.16      0.16       153\n",
      "                      healthy       0.59      0.63      0.61       234\n",
      "                  late_blight       0.44      0.45      0.45       309\n",
      "                    leaf_mold       0.39      0.39      0.39       145\n",
      "           septoria_leaf_spot       0.38      0.38      0.38       293\n",
      "                  target_spot       0.38      0.36      0.37       240\n",
      "          tomato_mosaic_virus       0.08      0.09      0.09        54\n",
      "tomato_yellow_leaf_curl_virus       0.74      0.69      0.71       854\n",
      "      two-spotted_spider_mite       0.38      0.35      0.36       280\n",
      "\n",
      "                     accuracy                           0.50      2907\n",
      "                    macro avg       0.40      0.41      0.40      2907\n",
      "                 weighted avg       0.50      0.50      0.50      2907\n",
      "\n",
      "[[194  22  12  16  11  12  19   3  42  14]\n",
      " [ 26  24   3  21   3  17  16   7  19  17]\n",
      " [ 14  10 147  16   6   5  16   7   6   7]\n",
      " [ 17  15  20 140  22  34  19   8  19  15]\n",
      " [ 11   7   5  13  56  22   6   6  14   5]\n",
      " [ 20  10  12  35  15 112  13   8  42  26]\n",
      " [ 20  15  20  22   2  25  87   6  13  30]\n",
      " [  6   6   4   2   9   6   5   5   7   4]\n",
      " [ 94  23  14  31  10  36   8   5 587  46]\n",
      " [  9  13  14  20   9  23  38   8  47  99]]\n"
     ]
    }
   ],
   "source": [
    "y_predict = classifier_tree.fit(Ftrain, Ltrain).predict(Ftest)\n",
    "class_names = target.unique()\n",
    "print(classification_report(Ltest, y_predict, target_names=class_names))\n",
    "print(confusion_matrix(Ltest, y_predict))"
   ]
  },
  {
   "cell_type": "code",
   "execution_count": 82,
   "id": "3ce367c9",
   "metadata": {},
   "outputs": [
    {
     "name": "stdout",
     "output_type": "stream",
     "text": [
      "29107.962839126587\n"
     ]
    }
   ],
   "source": [
    "end_time = time.time()\n",
    "print(end_time - start_time)"
   ]
  }
 ],
 "metadata": {
  "kernelspec": {
   "display_name": "Python 3 (ipykernel)",
   "language": "python",
   "name": "python3"
  },
  "language_info": {
   "codemirror_mode": {
    "name": "ipython",
    "version": 3
   },
   "file_extension": ".py",
   "mimetype": "text/x-python",
   "name": "python",
   "nbconvert_exporter": "python",
   "pygments_lexer": "ipython3",
   "version": "3.9.12"
  }
 },
 "nbformat": 4,
 "nbformat_minor": 5
}
