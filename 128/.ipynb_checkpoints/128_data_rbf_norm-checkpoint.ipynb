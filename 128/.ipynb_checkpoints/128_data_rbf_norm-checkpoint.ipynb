{
 "cells": [
  {
   "cell_type": "code",
   "execution_count": 1,
   "id": "bcdb1517",
   "metadata": {},
   "outputs": [],
   "source": [
    "import numpy as np #importing numpy\n",
    "import pandas as pd #importing pandas\n",
    "import PIL #importing pillow for image processing\n",
    "from PIL import Image#importing image from pillow library\n",
    "import skimage#importing skimage library\n",
    "import os#importing os library\n",
    "import time#importing time library\n",
    "\n",
    "#Capture start time of the program\n",
    "start_time = time.time()"
   ]
  },
  {
   "cell_type": "code",
   "execution_count": 2,
   "id": "9ec45970",
   "metadata": {},
   "outputs": [],
   "source": [
    "#changing path\n",
    "os.chdir('D://DKIT//dissertation//Dataset_of_Tomato_Leaves//plantvillage//Preprocessed_data//128//vector//')"
   ]
  },
  {
   "cell_type": "code",
   "execution_count": 3,
   "id": "9386938c",
   "metadata": {},
   "outputs": [],
   "source": [
    "#reading numpy array data\n",
    "rgb_test = np.load('rgb_data.npy')\n",
    "#reading csv file\n",
    "rgb_df = pd.read_csv('rgb_data.csv')"
   ]
  },
  {
   "cell_type": "code",
   "execution_count": 4,
   "id": "73c06a10",
   "metadata": {},
   "outputs": [],
   "source": [
    "loaded = pd.DataFrame(rgb_test)"
   ]
  },
  {
   "cell_type": "code",
   "execution_count": 5,
   "id": "c6d5658c",
   "metadata": {},
   "outputs": [],
   "source": [
    "#assigning features and target\n",
    "features = loaded.values\n",
    "target = rgb_df['disease'].values\n",
    "#splitting the data to 80 percent and 20 percent\n",
    "from sklearn.model_selection import train_test_split\n",
    "Ftrain,Ftest,Ltrain,Ltest=train_test_split(features,target, test_size=0.20, random_state=24)\n",
    "#scaling the data using standard scaler\n",
    "from sklearn.preprocessing import Normalizer\n",
    "scaler = Normalizer()\n",
    "Ftrain_scaling = scaler.fit_transform(Ftrain)\n",
    "Ftest_scaling = scaler.fit_transform(Ftest)"
   ]
  },
  {
   "cell_type": "code",
   "execution_count": 6,
   "id": "e17e4492",
   "metadata": {},
   "outputs": [],
   "source": [
    "from sklearn.svm import SVC\n",
    "from sklearn.metrics import accuracy_score"
   ]
  },
  {
   "cell_type": "code",
   "execution_count": 7,
   "id": "5882e95f",
   "metadata": {},
   "outputs": [
    {
     "name": "stdout",
     "output_type": "stream",
     "text": [
      "0.8211214310285517\n"
     ]
    }
   ],
   "source": [
    "svm_rbf = SVC(kernel='rbf')\n",
    "svm_rbf.fit(Ftrain_scaling,Ltrain)\n",
    "y_pred = svm_rbf.predict(Ftest_scaling)\n",
    "print(accuracy_score(Ltest,y_pred))"
   ]
  },
  {
   "cell_type": "code",
   "execution_count": 9,
   "id": "a4b6457f",
   "metadata": {},
   "outputs": [],
   "source": [
    "#importing classification report and confusion matrix\n",
    "from sklearn.metrics import classification_report, confusion_matrix"
   ]
  },
  {
   "cell_type": "code",
   "execution_count": 10,
   "id": "d7766b3b",
   "metadata": {},
   "outputs": [
    {
     "name": "stdout",
     "output_type": "stream",
     "text": [
      "                               precision    recall  f1-score   support\n",
      "\n",
      "               bacterial_spot       0.83      0.88      0.86       345\n",
      "                 early_blight       0.64      0.43      0.52       153\n",
      "                      healthy       0.90      0.93      0.91       234\n",
      "                  late_blight       0.78      0.78      0.78       309\n",
      "                    leaf_mold       0.79      0.66      0.71       145\n",
      "           septoria_leaf_spot       0.70      0.65      0.68       293\n",
      "                  target_spot       0.73      0.73      0.73       240\n",
      "          tomato_mosaic_virus       0.75      0.81      0.78        54\n",
      "tomato_yellow_leaf_curl_virus       0.92      0.96      0.94       854\n",
      "      two-spotted_spider_mite       0.76      0.84      0.80       280\n",
      "\n",
      "                     accuracy                           0.82      2907\n",
      "                    macro avg       0.78      0.77      0.77      2907\n",
      "                 weighted avg       0.82      0.82      0.82      2907\n",
      "\n",
      "[[305   2   2   5   0   3   3   0  25   0]\n",
      " [ 14  66   1  28   0   9  12   0  10  13]\n",
      " [  0   2 218   4   0   4   6   0   0   0]\n",
      " [  7   9   7 240  10  10   8   3   6   9]\n",
      " [  0   1   2   8  95  27   3   2   4   3]\n",
      " [ 20   6   8  12  14 191  10   7  15  10]\n",
      " [  7   8   3   0   1  12 175   1   4  29]\n",
      " [  0   0   0   1   1   6   2  44   0   0]\n",
      " [ 10   5   0   5   0   4   1   0 817  12]\n",
      " [  3   4   2   4   0   5  19   2   5 236]]\n"
     ]
    }
   ],
   "source": [
    "print(classification_report(Ltest, y_pred))\n",
    "print(confusion_matrix(Ltest, y_pred))"
   ]
  },
  {
   "cell_type": "code",
   "execution_count": null,
   "id": "ad54a512",
   "metadata": {},
   "outputs": [],
   "source": []
  }
 ],
 "metadata": {
  "kernelspec": {
   "display_name": "Python 3 (ipykernel)",
   "language": "python",
   "name": "python3"
  },
  "language_info": {
   "codemirror_mode": {
    "name": "ipython",
    "version": 3
   },
   "file_extension": ".py",
   "mimetype": "text/x-python",
   "name": "python",
   "nbconvert_exporter": "python",
   "pygments_lexer": "ipython3",
   "version": "3.9.12"
  }
 },
 "nbformat": 4,
 "nbformat_minor": 5
}
