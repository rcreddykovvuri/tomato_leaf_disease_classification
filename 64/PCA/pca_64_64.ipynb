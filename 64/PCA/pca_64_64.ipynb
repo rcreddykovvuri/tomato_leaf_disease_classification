{
 "cells": [
  {
   "cell_type": "code",
   "execution_count": 1,
   "id": "022c269b",
   "metadata": {},
   "outputs": [],
   "source": [
    "import pandas as pd\n",
    "import numpy as np\n",
    "import os\n",
    "from sklearn.preprocessing import StandardScaler\n",
    "from sklearn.decomposition import PCA\n",
    "from sklearn.decomposition import FastICA\n",
    "import seaborn as sns\n",
    "import matplotlib.pyplot as plt"
   ]
  },
  {
   "cell_type": "code",
   "execution_count": 2,
   "id": "5b208509",
   "metadata": {},
   "outputs": [],
   "source": [
    "os.chdir('D://DKIT//dissertation//Dataset_of_Tomato_Leaves//plantvillage//Preprocessed_data//64//vector//')"
   ]
  },
  {
   "cell_type": "markdown",
   "id": "60d3f7c2",
   "metadata": {},
   "source": [
    "# RGB data"
   ]
  },
  {
   "cell_type": "code",
   "execution_count": 3,
   "id": "389760c1",
   "metadata": {},
   "outputs": [],
   "source": [
    "#reading RGB data\n",
    "rgb_data = np.load('rgb_data.npy')"
   ]
  },
  {
   "cell_type": "code",
   "execution_count": 4,
   "id": "00a96a0d",
   "metadata": {},
   "outputs": [
    {
     "name": "stdout",
     "output_type": "stream",
     "text": [
      "(14531, 12288)\n"
     ]
    }
   ],
   "source": [
    "#printing the shape of the data\n",
    "print(rgb_data.shape)"
   ]
  },
  {
   "cell_type": "code",
   "execution_count": 5,
   "id": "5c21636a",
   "metadata": {},
   "outputs": [],
   "source": [
    "#transforming the data to dataframe\n",
    "rgb_features = pd.DataFrame(rgb_data)"
   ]
  },
  {
   "cell_type": "code",
   "execution_count": 6,
   "id": "9da0c565",
   "metadata": {},
   "outputs": [
    {
     "data": {
      "text/html": [
       "<div>\n",
       "<style scoped>\n",
       "    .dataframe tbody tr th:only-of-type {\n",
       "        vertical-align: middle;\n",
       "    }\n",
       "\n",
       "    .dataframe tbody tr th {\n",
       "        vertical-align: top;\n",
       "    }\n",
       "\n",
       "    .dataframe thead th {\n",
       "        text-align: right;\n",
       "    }\n",
       "</style>\n",
       "<table border=\"1\" class=\"dataframe\">\n",
       "  <thead>\n",
       "    <tr style=\"text-align: right;\">\n",
       "      <th></th>\n",
       "      <th>0</th>\n",
       "      <th>1</th>\n",
       "      <th>2</th>\n",
       "      <th>3</th>\n",
       "      <th>4</th>\n",
       "      <th>5</th>\n",
       "      <th>6</th>\n",
       "      <th>7</th>\n",
       "      <th>8</th>\n",
       "      <th>9</th>\n",
       "      <th>...</th>\n",
       "      <th>12278</th>\n",
       "      <th>12279</th>\n",
       "      <th>12280</th>\n",
       "      <th>12281</th>\n",
       "      <th>12282</th>\n",
       "      <th>12283</th>\n",
       "      <th>12284</th>\n",
       "      <th>12285</th>\n",
       "      <th>12286</th>\n",
       "      <th>12287</th>\n",
       "    </tr>\n",
       "  </thead>\n",
       "  <tbody>\n",
       "    <tr>\n",
       "      <th>count</th>\n",
       "      <td>14531.000000</td>\n",
       "      <td>14531.000000</td>\n",
       "      <td>14531.000000</td>\n",
       "      <td>14531.000000</td>\n",
       "      <td>14531.000000</td>\n",
       "      <td>14531.000000</td>\n",
       "      <td>14531.000000</td>\n",
       "      <td>14531.000000</td>\n",
       "      <td>14531.000000</td>\n",
       "      <td>14531.000000</td>\n",
       "      <td>...</td>\n",
       "      <td>14531.000000</td>\n",
       "      <td>14531.000000</td>\n",
       "      <td>14531.000000</td>\n",
       "      <td>14531.000000</td>\n",
       "      <td>14531.000000</td>\n",
       "      <td>14531.000000</td>\n",
       "      <td>14531.000000</td>\n",
       "      <td>14531.000000</td>\n",
       "      <td>14531.000000</td>\n",
       "      <td>14531.000000</td>\n",
       "    </tr>\n",
       "    <tr>\n",
       "      <th>mean</th>\n",
       "      <td>138.809167</td>\n",
       "      <td>132.239213</td>\n",
       "      <td>135.766774</td>\n",
       "      <td>138.864910</td>\n",
       "      <td>132.229578</td>\n",
       "      <td>135.791274</td>\n",
       "      <td>139.001032</td>\n",
       "      <td>132.273966</td>\n",
       "      <td>135.883972</td>\n",
       "      <td>139.242654</td>\n",
       "      <td>...</td>\n",
       "      <td>131.738697</td>\n",
       "      <td>134.912257</td>\n",
       "      <td>126.304384</td>\n",
       "      <td>131.944188</td>\n",
       "      <td>134.947285</td>\n",
       "      <td>126.265433</td>\n",
       "      <td>132.065171</td>\n",
       "      <td>134.943294</td>\n",
       "      <td>126.231505</td>\n",
       "      <td>132.097929</td>\n",
       "    </tr>\n",
       "    <tr>\n",
       "      <th>std</th>\n",
       "      <td>31.509292</td>\n",
       "      <td>30.921788</td>\n",
       "      <td>32.651635</td>\n",
       "      <td>31.293104</td>\n",
       "      <td>30.678034</td>\n",
       "      <td>32.277673</td>\n",
       "      <td>31.218158</td>\n",
       "      <td>30.584018</td>\n",
       "      <td>31.984034</td>\n",
       "      <td>31.210111</td>\n",
       "      <td>...</td>\n",
       "      <td>34.280872</td>\n",
       "      <td>34.387050</td>\n",
       "      <td>32.712633</td>\n",
       "      <td>34.419730</td>\n",
       "      <td>34.443550</td>\n",
       "      <td>32.769292</td>\n",
       "      <td>34.644883</td>\n",
       "      <td>34.666691</td>\n",
       "      <td>33.020825</td>\n",
       "      <td>34.995978</td>\n",
       "    </tr>\n",
       "    <tr>\n",
       "      <th>min</th>\n",
       "      <td>0.000000</td>\n",
       "      <td>0.000000</td>\n",
       "      <td>0.000000</td>\n",
       "      <td>0.000000</td>\n",
       "      <td>0.000000</td>\n",
       "      <td>0.000000</td>\n",
       "      <td>0.000000</td>\n",
       "      <td>0.000000</td>\n",
       "      <td>0.000000</td>\n",
       "      <td>0.000000</td>\n",
       "      <td>...</td>\n",
       "      <td>0.000000</td>\n",
       "      <td>0.000000</td>\n",
       "      <td>0.000000</td>\n",
       "      <td>0.000000</td>\n",
       "      <td>0.000000</td>\n",
       "      <td>0.000000</td>\n",
       "      <td>0.000000</td>\n",
       "      <td>0.000000</td>\n",
       "      <td>0.000000</td>\n",
       "      <td>0.000000</td>\n",
       "    </tr>\n",
       "    <tr>\n",
       "      <th>25%</th>\n",
       "      <td>120.000000</td>\n",
       "      <td>113.000000</td>\n",
       "      <td>115.000000</td>\n",
       "      <td>120.000000</td>\n",
       "      <td>113.000000</td>\n",
       "      <td>115.000000</td>\n",
       "      <td>121.000000</td>\n",
       "      <td>113.000000</td>\n",
       "      <td>115.000000</td>\n",
       "      <td>121.000000</td>\n",
       "      <td>...</td>\n",
       "      <td>110.000000</td>\n",
       "      <td>115.000000</td>\n",
       "      <td>106.000000</td>\n",
       "      <td>110.000000</td>\n",
       "      <td>115.000000</td>\n",
       "      <td>105.000000</td>\n",
       "      <td>110.000000</td>\n",
       "      <td>115.000000</td>\n",
       "      <td>105.000000</td>\n",
       "      <td>110.000000</td>\n",
       "    </tr>\n",
       "    <tr>\n",
       "      <th>50%</th>\n",
       "      <td>139.000000</td>\n",
       "      <td>133.000000</td>\n",
       "      <td>136.000000</td>\n",
       "      <td>139.000000</td>\n",
       "      <td>133.000000</td>\n",
       "      <td>136.000000</td>\n",
       "      <td>139.000000</td>\n",
       "      <td>133.000000</td>\n",
       "      <td>136.000000</td>\n",
       "      <td>139.000000</td>\n",
       "      <td>...</td>\n",
       "      <td>132.000000</td>\n",
       "      <td>137.000000</td>\n",
       "      <td>127.000000</td>\n",
       "      <td>132.000000</td>\n",
       "      <td>137.000000</td>\n",
       "      <td>127.000000</td>\n",
       "      <td>132.000000</td>\n",
       "      <td>136.000000</td>\n",
       "      <td>126.000000</td>\n",
       "      <td>132.000000</td>\n",
       "    </tr>\n",
       "    <tr>\n",
       "      <th>75%</th>\n",
       "      <td>158.000000</td>\n",
       "      <td>151.000000</td>\n",
       "      <td>156.000000</td>\n",
       "      <td>158.000000</td>\n",
       "      <td>151.000000</td>\n",
       "      <td>155.000000</td>\n",
       "      <td>158.000000</td>\n",
       "      <td>151.000000</td>\n",
       "      <td>155.000000</td>\n",
       "      <td>158.000000</td>\n",
       "      <td>...</td>\n",
       "      <td>154.000000</td>\n",
       "      <td>157.000000</td>\n",
       "      <td>148.000000</td>\n",
       "      <td>154.000000</td>\n",
       "      <td>157.000000</td>\n",
       "      <td>148.000000</td>\n",
       "      <td>155.000000</td>\n",
       "      <td>158.000000</td>\n",
       "      <td>148.000000</td>\n",
       "      <td>155.000000</td>\n",
       "    </tr>\n",
       "    <tr>\n",
       "      <th>max</th>\n",
       "      <td>255.000000</td>\n",
       "      <td>252.000000</td>\n",
       "      <td>255.000000</td>\n",
       "      <td>255.000000</td>\n",
       "      <td>250.000000</td>\n",
       "      <td>255.000000</td>\n",
       "      <td>255.000000</td>\n",
       "      <td>247.000000</td>\n",
       "      <td>252.000000</td>\n",
       "      <td>253.000000</td>\n",
       "      <td>...</td>\n",
       "      <td>255.000000</td>\n",
       "      <td>253.000000</td>\n",
       "      <td>254.000000</td>\n",
       "      <td>255.000000</td>\n",
       "      <td>255.000000</td>\n",
       "      <td>254.000000</td>\n",
       "      <td>255.000000</td>\n",
       "      <td>255.000000</td>\n",
       "      <td>253.000000</td>\n",
       "      <td>255.000000</td>\n",
       "    </tr>\n",
       "  </tbody>\n",
       "</table>\n",
       "<p>8 rows × 12288 columns</p>\n",
       "</div>"
      ],
      "text/plain": [
       "              0             1             2             3             4      \\\n",
       "count  14531.000000  14531.000000  14531.000000  14531.000000  14531.000000   \n",
       "mean     138.809167    132.239213    135.766774    138.864910    132.229578   \n",
       "std       31.509292     30.921788     32.651635     31.293104     30.678034   \n",
       "min        0.000000      0.000000      0.000000      0.000000      0.000000   \n",
       "25%      120.000000    113.000000    115.000000    120.000000    113.000000   \n",
       "50%      139.000000    133.000000    136.000000    139.000000    133.000000   \n",
       "75%      158.000000    151.000000    156.000000    158.000000    151.000000   \n",
       "max      255.000000    252.000000    255.000000    255.000000    250.000000   \n",
       "\n",
       "              5             6             7             8             9      \\\n",
       "count  14531.000000  14531.000000  14531.000000  14531.000000  14531.000000   \n",
       "mean     135.791274    139.001032    132.273966    135.883972    139.242654   \n",
       "std       32.277673     31.218158     30.584018     31.984034     31.210111   \n",
       "min        0.000000      0.000000      0.000000      0.000000      0.000000   \n",
       "25%      115.000000    121.000000    113.000000    115.000000    121.000000   \n",
       "50%      136.000000    139.000000    133.000000    136.000000    139.000000   \n",
       "75%      155.000000    158.000000    151.000000    155.000000    158.000000   \n",
       "max      255.000000    255.000000    247.000000    252.000000    253.000000   \n",
       "\n",
       "       ...         12278         12279         12280         12281  \\\n",
       "count  ...  14531.000000  14531.000000  14531.000000  14531.000000   \n",
       "mean   ...    131.738697    134.912257    126.304384    131.944188   \n",
       "std    ...     34.280872     34.387050     32.712633     34.419730   \n",
       "min    ...      0.000000      0.000000      0.000000      0.000000   \n",
       "25%    ...    110.000000    115.000000    106.000000    110.000000   \n",
       "50%    ...    132.000000    137.000000    127.000000    132.000000   \n",
       "75%    ...    154.000000    157.000000    148.000000    154.000000   \n",
       "max    ...    255.000000    253.000000    254.000000    255.000000   \n",
       "\n",
       "              12282         12283         12284         12285         12286  \\\n",
       "count  14531.000000  14531.000000  14531.000000  14531.000000  14531.000000   \n",
       "mean     134.947285    126.265433    132.065171    134.943294    126.231505   \n",
       "std       34.443550     32.769292     34.644883     34.666691     33.020825   \n",
       "min        0.000000      0.000000      0.000000      0.000000      0.000000   \n",
       "25%      115.000000    105.000000    110.000000    115.000000    105.000000   \n",
       "50%      137.000000    127.000000    132.000000    136.000000    126.000000   \n",
       "75%      157.000000    148.000000    155.000000    158.000000    148.000000   \n",
       "max      255.000000    254.000000    255.000000    255.000000    253.000000   \n",
       "\n",
       "              12287  \n",
       "count  14531.000000  \n",
       "mean     132.097929  \n",
       "std       34.995978  \n",
       "min        0.000000  \n",
       "25%      110.000000  \n",
       "50%      132.000000  \n",
       "75%      155.000000  \n",
       "max      255.000000  \n",
       "\n",
       "[8 rows x 12288 columns]"
      ]
     },
     "execution_count": 6,
     "metadata": {},
     "output_type": "execute_result"
    }
   ],
   "source": [
    "#describing the data\n",
    "rgb_features.describe()"
   ]
  },
  {
   "cell_type": "code",
   "execution_count": 7,
   "id": "e7a6e51c",
   "metadata": {},
   "outputs": [],
   "source": [
    "#scaling the data using standard scaling\n",
    "scaler_model = StandardScaler()\n",
    "scaled_data = scaler_model.fit_transform(rgb_features)"
   ]
  },
  {
   "cell_type": "code",
   "execution_count": 8,
   "id": "043febac",
   "metadata": {},
   "outputs": [
    {
     "data": {
      "image/png": "[encoded data removed]",
      "text/plain": [
       "<Figure size 432x288 with 1 Axes>"
      ]
     },
     "metadata": {
      "needs_background": "light"
     },
     "output_type": "display_data"
    }
   ],
   "source": [
    "#using 100 components on the data\n",
    "pca_comp = PCA(n_components = 100)\n",
    "x_pca_comp = pca_comp.fit_transform(scaled_data)\n",
    "variances = pca_comp.explained_variance_ratio_\n",
    "#visualising the scree plot for the PCA\n",
    "plt.plot(list(range(1,101)),variances, 'o-')\n",
    "plt.title('Scree plot of RGB data')\n",
    "plt.xticks(range(1,101))\n",
    "plt.ylabel('Variance Explained')\n",
    "plt.xlabel('Principal Components')\n",
    "plt.show()"
   ]
  },
  {
   "cell_type": "code",
   "execution_count": 9,
   "id": "50797121",
   "metadata": {},
   "outputs": [
    {
     "data": {
      "image/png": "[encoded data removed]",
      "text/plain": [
       "<Figure size 432x288 with 1 Axes>"
      ]
     },
     "metadata": {
      "needs_background": "light"
     },
     "output_type": "display_data"
    }
   ],
   "source": [
    "#using 20 components on the data\n",
    "pca_comp = PCA(n_components = 20)\n",
    "x_pca_comp = pca_comp.fit_transform(scaled_data)\n",
    "variances = pca_comp.explained_variance_ratio_\n",
    "#visualising the scree plot for the PCA\n",
    "plt.plot(list(range(1,21)),variances, 'o-')\n",
    "plt.title('Scree plot of RGB data')\n",
    "plt.xticks(range(1,21))\n",
    "plt.ylabel('Variance Explained')\n",
    "plt.xlabel('Principal Components')\n",
    "plt.show()"
   ]
  },
  {
   "cell_type": "code",
   "execution_count": 10,
   "id": "5ce4db4f",
   "metadata": {},
   "outputs": [],
   "source": [
    "pca_comp = PCA(n_components = 5)\n",
    "x_pca_comp = pca_comp.fit_transform(scaled_data)\n",
    "# ICA on PCA data\n",
    "ica_comp = FastICA(n_components=5,max_iter=100)\n",
    "ica_rgb = ica_comp.fit_transform(x_pca_comp)"
   ]
  },
  {
   "cell_type": "code",
   "execution_count": 11,
   "id": "b448e29b",
   "metadata": {},
   "outputs": [],
   "source": [
    "#creating column names\n",
    "cols = []\n",
    "for i in range(1,6):\n",
    "    j = []\n",
    "    j = 'component_' + str(i)\n",
    "    cols.append(j)\n",
    "#saving the data to a Dataframe\n",
    "rgb = pd.DataFrame(ica_rgb,columns = cols)"
   ]
  },
  {
   "cell_type": "markdown",
   "id": "4131e63d",
   "metadata": {},
   "source": [
    "# Grayscale data"
   ]
  },
  {
   "cell_type": "code",
   "execution_count": 12,
   "id": "c6afdedb",
   "metadata": {},
   "outputs": [
    {
     "data": {
      "image/png": "[encoded data removed]",
      "text/plain": [
       "<Figure size 432x288 with 1 Axes>"
      ]
     },
     "metadata": {
      "needs_background": "light"
     },
     "output_type": "display_data"
    }
   ],
   "source": [
    "#reading grayscale data\n",
    "gray_data = np.load('gray_test.npy')\n",
    "#transforming the data to dataframe\n",
    "gray_features = pd.DataFrame(gray_data)\n",
    "#scaling the data using standard scaling\n",
    "scaled_data = scaler_model.fit_transform(gray_features)\n",
    "#using 100 components on the data\n",
    "pca_comp = PCA(n_components = 20)\n",
    "x_pca_comp = pca_comp.fit_transform(scaled_data)\n",
    "variances = pca_comp.explained_variance_ratio_\n",
    "#visualising the scree plot for the PCA\n",
    "plt.plot(list(range(1,21)),variances, 'o-')\n",
    "plt.title('Scree plot of Grayscale data')\n",
    "plt.xticks(range(1,21))\n",
    "plt.ylabel('Variance Explained')\n",
    "plt.xlabel('Principal Components')\n",
    "plt.show()"
   ]
  },
  {
   "cell_type": "code",
   "execution_count": 13,
   "id": "c246a8d8",
   "metadata": {},
   "outputs": [],
   "source": [
    "pca_comp = PCA(n_components = 5)\n",
    "x_pca_comp = pca_comp.fit_transform(scaled_data)\n",
    "# ICA on PCA data\n",
    "ica_comp = FastICA(n_components=5)\n",
    "ica_gray = ica_comp.fit_transform(x_pca_comp)"
   ]
  },
  {
   "cell_type": "code",
   "execution_count": 14,
   "id": "eb132588",
   "metadata": {},
   "outputs": [],
   "source": [
    "#saving the data to a Dataframe\n",
    "gray = pd.DataFrame(ica_gray,columns = cols)"
   ]
  },
  {
   "cell_type": "markdown",
   "id": "07fc475a",
   "metadata": {},
   "source": [
    "# Red channel"
   ]
  },
  {
   "cell_type": "code",
   "execution_count": 15,
   "id": "92f13d07",
   "metadata": {},
   "outputs": [
    {
     "data": {
      "image/png": "[encoded data removed]",
      "text/plain": [
       "<Figure size 432x288 with 1 Axes>"
      ]
     },
     "metadata": {
      "needs_background": "light"
     },
     "output_type": "display_data"
    }
   ],
   "source": [
    "#reading Red data\n",
    "red_data = np.load('red_data.npy')\n",
    "#transforming the data to dataframe\n",
    "red_features = pd.DataFrame(red_data)\n",
    "#scaling the data using standard scaling\n",
    "scaled_data = scaler_model.fit_transform(red_features)\n",
    "#using 100 components on the data\n",
    "pca_comp = PCA(n_components = 20)\n",
    "x_pca_comp = pca_comp.fit_transform(scaled_data)\n",
    "variances = pca_comp.explained_variance_ratio_\n",
    "#visualising the scree plot for the PCA\n",
    "plt.plot(list(range(1,21)),variances, 'o-')\n",
    "plt.title('Scree plot of Red data')\n",
    "plt.xticks(range(1,21))\n",
    "plt.ylabel('Variance Explained')\n",
    "plt.xlabel('Principal Components')\n",
    "plt.show()"
   ]
  },
  {
   "cell_type": "code",
   "execution_count": 16,
   "id": "f5ff8da3",
   "metadata": {},
   "outputs": [],
   "source": [
    "pca_comp = PCA(n_components = 5)\n",
    "x_pca_comp = pca_comp.fit_transform(scaled_data)\n",
    "# ICA on PCA data\n",
    "ica_comp = FastICA(n_components=5)\n",
    "ica_red = ica_comp.fit_transform(x_pca_comp)"
   ]
  },
  {
   "cell_type": "code",
   "execution_count": 17,
   "id": "3ce34f02",
   "metadata": {},
   "outputs": [],
   "source": [
    "#saving the data to a Dataframe\n",
    "red = pd.DataFrame(ica_red,columns = cols)"
   ]
  },
  {
   "cell_type": "markdown",
   "id": "0025678c",
   "metadata": {},
   "source": [
    "# Green channel data"
   ]
  },
  {
   "cell_type": "code",
   "execution_count": 18,
   "id": "34b87cfe",
   "metadata": {},
   "outputs": [
    {
     "data": {
      "image/png": "[encoded data removed]",
      "text/plain": [
       "<Figure size 432x288 with 1 Axes>"
      ]
     },
     "metadata": {
      "needs_background": "light"
     },
     "output_type": "display_data"
    }
   ],
   "source": [
    "#reading green data\n",
    "green_data = np.load('green_data.npy')\n",
    "#transforming the data to dataframe\n",
    "green_features = pd.DataFrame(green_data)\n",
    "#scaling the data using standard scaling\n",
    "scaled_data = scaler_model.fit_transform(green_features)\n",
    "#using 100 components on the data\n",
    "pca_comp = PCA(n_components = 20)\n",
    "x_pca_comp = pca_comp.fit_transform(scaled_data)\n",
    "variances = pca_comp.explained_variance_ratio_\n",
    "#visualising the scree plot for the PCA\n",
    "plt.plot(list(range(1,21)),variances, 'o-')\n",
    "plt.title('Scree plot of green data')\n",
    "plt.xticks(range(1,21))\n",
    "plt.ylabel('Variance Explained')\n",
    "plt.xlabel('Principal Components')\n",
    "plt.show()"
   ]
  },
  {
   "cell_type": "code",
   "execution_count": 19,
   "id": "98cc22cf",
   "metadata": {},
   "outputs": [],
   "source": [
    "pca_comp = PCA(n_components = 5)\n",
    "x_pca_comp = pca_comp.fit_transform(scaled_data)\n",
    "# ICA on PCA data\n",
    "ica_comp = FastICA(n_components=5)\n",
    "ica_green = ica_comp.fit_transform(x_pca_comp)"
   ]
  },
  {
   "cell_type": "code",
   "execution_count": 20,
   "id": "0b3fc2f8",
   "metadata": {},
   "outputs": [],
   "source": [
    "#saving the data to a Dataframe\n",
    "green = pd.DataFrame(ica_green,columns = cols)"
   ]
  },
  {
   "cell_type": "markdown",
   "id": "91c437a9",
   "metadata": {},
   "source": [
    "# Blue channel data"
   ]
  },
  {
   "cell_type": "code",
   "execution_count": 21,
   "id": "79f6c694",
   "metadata": {},
   "outputs": [
    {
     "data": {
      "image/png": "[encoded data removed]",
      "text/plain": [
       "<Figure size 432x288 with 1 Axes>"
      ]
     },
     "metadata": {
      "needs_background": "light"
     },
     "output_type": "display_data"
    }
   ],
   "source": [
    "#reading blue data\n",
    "blue_data = np.load('blue_data.npy')\n",
    "#transforming the data to dataframe\n",
    "blue_features = pd.DataFrame(blue_data)\n",
    "#scaling the data using standard scaling\n",
    "scaled_data = scaler_model.fit_transform(blue_features)\n",
    "#using 100 components on the data\n",
    "pca_comp = PCA(n_components = 20)\n",
    "x_pca_comp = pca_comp.fit_transform(scaled_data)\n",
    "variances = pca_comp.explained_variance_ratio_\n",
    "#visualising the scree plot for the PCA\n",
    "plt.plot(list(range(1,21)),variances, 'o-')\n",
    "plt.title('Scree plot of blue data')\n",
    "plt.xticks(range(1,21))\n",
    "plt.ylabel('Variance Explained')\n",
    "plt.xlabel('Principal Components')\n",
    "plt.show()"
   ]
  },
  {
   "cell_type": "code",
   "execution_count": 22,
   "id": "902148ea",
   "metadata": {},
   "outputs": [],
   "source": [
    "pca_comp = PCA(n_components = 5)\n",
    "x_pca_comp = pca_comp.fit_transform(scaled_data)\n",
    "# ICA on PCA data\n",
    "ica_comp = FastICA(n_components=5)\n",
    "ica_blue = ica_comp.fit_transform(x_pca_comp)"
   ]
  },
  {
   "cell_type": "code",
   "execution_count": 23,
   "id": "2f24bdf4",
   "metadata": {},
   "outputs": [],
   "source": [
    "#saving the data to a Dataframe\n",
    "blue = pd.DataFrame(ica_blue,columns = cols)"
   ]
  },
  {
   "cell_type": "code",
   "execution_count": 24,
   "id": "58459512",
   "metadata": {
    "scrolled": true
   },
   "outputs": [],
   "source": [
    "#changing the working directory\n",
    "os.chdir('D://DKIT//dissertation//Dataset_of_Tomato_Leaves//plantvillage//Preprocessed_data//64//PCA//')\n",
    "# Saving the data to the local directory\n",
    "rgb.to_csv('rgb.csv',index=False)\n",
    "gray.to_csv('gray.csv',index=False)\n",
    "red.to_csv('red.csv',index=False)\n",
    "green.to_csv('green.csv',index=False)\n",
    "blue.to_csv('blue.csv',index=False)"
   ]
  }
 ],
 "metadata": {
  "kernelspec": {
   "display_name": "Python 3 (ipykernel)",
   "language": "python",
   "name": "python3"
  },
  "language_info": {
   "codemirror_mode": {
    "name": "ipython",
    "version": 3
   },
   "file_extension": ".py",
   "mimetype": "text/x-python",
   "name": "python",
   "nbconvert_exporter": "python",
   "pygments_lexer": "ipython3",
   "version": "3.9.12"
  }
 },
 "nbformat": 4,
 "nbformat_minor": 5
}
